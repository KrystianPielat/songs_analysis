{
 "cells": [
  {
   "cell_type": "code",
   "execution_count": 117,
   "id": "50a76544-c6e1-4d92-ba96-da1e6c07b9d2",
   "metadata": {},
   "outputs": [
    {
     "name": "stdout",
     "output_type": "stream",
     "text": [
      "The autoreload extension is already loaded. To reload it, use:\n",
      "  %reload_ext autoreload\n"
     ]
    }
   ],
   "source": [
    "%load_ext autoreload\n",
    "%autoreload 2"
   ]
  },
  {
   "cell_type": "code",
   "execution_count": 118,
   "id": "b8c10d37-a8f0-4dee-984c-a8b44193ebee",
   "metadata": {},
   "outputs": [],
   "source": [
    "import warnings\n",
    "warnings.simplefilter('ignore')\n",
    "from classes.model_pipeline import ClassificationPipeline, RegressionPipeline\n",
    "from classes.utils import gather_data_from_folders\n",
    "from classes.text_features import TextFeatureExtractor\n",
    "from dotenv import load_dotenv\n",
    "from tqdm.auto import tqdm\n",
    "import os\n",
    "from pandas.api.types import is_numeric_dtype\n",
    "\n",
    "load_dotenv();"
   ]
  },
  {
   "cell_type": "code",
   "execution_count": 119,
   "id": "abc12ff4-8a61-4422-9b95-e74583d55765",
   "metadata": {},
   "outputs": [
    {
     "name": "stdout",
     "output_type": "stream",
     "text": [
      "Loading CSV file: /home/krystian/Python/Jupyter-projects/thesis/songs_analysis/playlists/final download 1/final download 1.csv\n",
      "Loading CSV file: /home/krystian/Python/Jupyter-projects/thesis/songs_analysis/playlists/Every song in the world 🌍 /Every song in the world 🌍 .csv\n",
      "Loading CSV file: /home/krystian/Python/Jupyter-projects/thesis/songs_analysis/playlists/final download 2/final download 2.csv\n"
     ]
    }
   ],
   "source": [
    "playlists_dir = 'audio_sentiment_classifier/playlists'\n",
    "playlists_dir = os.path.join(\"/\".join(os.path.abspath(os.path.realpath(__name__)).split(\"/\")[:-1]), \"playlists\")\n",
    "df = gather_data_from_folders(playlists_dir)"
   ]
  },
  {
   "cell_type": "code",
   "execution_count": 120,
   "id": "fa89a707-4b46-4899-a327-5983b8613c4a",
   "metadata": {},
   "outputs": [
    {
     "data": {
      "text/plain": [
       "(5999, 54)"
      ]
     },
     "execution_count": 120,
     "metadata": {},
     "output_type": "execute_result"
    }
   ],
   "source": [
    "df.shape"
   ]
  },
  {
   "cell_type": "code",
   "execution_count": 82,
   "id": "34df6c89-cad3-459d-aa86-aade1e48eec7",
   "metadata": {},
   "outputs": [],
   "source": [
    "# Fixing the dtypes\n",
    "int_columns = ['duration_ms', 'album_release_year']\n",
    "df[int_columns] = df[int_columns].astype(int)\n",
    "\n",
    "df.key = df.key.astype('category')\n",
    "df['mode'] = df['mode'].astype('category')\n",
    "df.time_signature = df.time_signature.astype('category')\n",
    "df.explicit = df.explicit.astype('category')\n",
    "df.album_release_year = df.album_release_year.astype(float)"
   ]
  },
  {
   "cell_type": "code",
   "execution_count": 83,
   "id": "661bc5f1-ffa6-4c82-aa53-57a458af66ee",
   "metadata": {},
   "outputs": [],
   "source": [
    "tfe = TextFeatureExtractor()\n",
    "df = tfe.add_features(df)"
   ]
  },
  {
   "cell_type": "markdown",
   "id": "9e5aecb4-8117-4297-9a9c-d9ccf1d0125b",
   "metadata": {
    "jp-MarkdownHeadingCollapsed": true
   },
   "source": [
    "# Training"
   ]
  },
  {
   "cell_type": "code",
   "execution_count": 6,
   "id": "5e4638f6-8d56-46d1-a500-1df4a1e3ec5e",
   "metadata": {},
   "outputs": [],
   "source": [
    "target = 'mode'"
   ]
  },
  {
   "cell_type": "code",
   "execution_count": 32,
   "id": "de7e316e-cd6e-4665-87dc-41a293b717c2",
   "metadata": {},
   "outputs": [],
   "source": [
    "cat_features = [ f for f in df.select_dtypes(include=['category']).columns if f != target ]\n",
    "num_features = [ f for f in df.select_dtypes(include=['number']).columns if f != target ]"
   ]
  },
  {
   "cell_type": "code",
   "execution_count": 33,
   "id": "e790de1d-3aa6-40f0-a22b-b1fc2166a97a",
   "metadata": {},
   "outputs": [
    {
     "name": "stdout",
     "output_type": "stream",
     "text": [
      "\u001b[1;32mINFO: Initializing pipeline for target variable: album_release_year\u001b[0m\n",
      "\u001b[1;32mINFO: Setting up the pipeline...\u001b[0m\n",
      "\u001b[1;32mINFO: Setting up the pipeline...\u001b[0m\n"
     ]
    },
    {
     "data": {
      "text/html": [
       "<style>#sk-container-id-3 {\n",
       "  /* Definition of color scheme common for light and dark mode */\n",
       "  --sklearn-color-text: black;\n",
       "  --sklearn-color-line: gray;\n",
       "  /* Definition of color scheme for unfitted estimators */\n",
       "  --sklearn-color-unfitted-level-0: #fff5e6;\n",
       "  --sklearn-color-unfitted-level-1: #f6e4d2;\n",
       "  --sklearn-color-unfitted-level-2: #ffe0b3;\n",
       "  --sklearn-color-unfitted-level-3: chocolate;\n",
       "  /* Definition of color scheme for fitted estimators */\n",
       "  --sklearn-color-fitted-level-0: #f0f8ff;\n",
       "  --sklearn-color-fitted-level-1: #d4ebff;\n",
       "  --sklearn-color-fitted-level-2: #b3dbfd;\n",
       "  --sklearn-color-fitted-level-3: cornflowerblue;\n",
       "\n",
       "  /* Specific color for light theme */\n",
       "  --sklearn-color-text-on-default-background: var(--sg-text-color, var(--theme-code-foreground, var(--jp-content-font-color1, black)));\n",
       "  --sklearn-color-background: var(--sg-background-color, var(--theme-background, var(--jp-layout-color0, white)));\n",
       "  --sklearn-color-border-box: var(--sg-text-color, var(--theme-code-foreground, var(--jp-content-font-color1, black)));\n",
       "  --sklearn-color-icon: #696969;\n",
       "\n",
       "  @media (prefers-color-scheme: dark) {\n",
       "    /* Redefinition of color scheme for dark theme */\n",
       "    --sklearn-color-text-on-default-background: var(--sg-text-color, var(--theme-code-foreground, var(--jp-content-font-color1, white)));\n",
       "    --sklearn-color-background: var(--sg-background-color, var(--theme-background, var(--jp-layout-color0, #111)));\n",
       "    --sklearn-color-border-box: var(--sg-text-color, var(--theme-code-foreground, var(--jp-content-font-color1, white)));\n",
       "    --sklearn-color-icon: #878787;\n",
       "  }\n",
       "}\n",
       "\n",
       "#sk-container-id-3 {\n",
       "  color: var(--sklearn-color-text);\n",
       "}\n",
       "\n",
       "#sk-container-id-3 pre {\n",
       "  padding: 0;\n",
       "}\n",
       "\n",
       "#sk-container-id-3 input.sk-hidden--visually {\n",
       "  border: 0;\n",
       "  clip: rect(1px 1px 1px 1px);\n",
       "  clip: rect(1px, 1px, 1px, 1px);\n",
       "  height: 1px;\n",
       "  margin: -1px;\n",
       "  overflow: hidden;\n",
       "  padding: 0;\n",
       "  position: absolute;\n",
       "  width: 1px;\n",
       "}\n",
       "\n",
       "#sk-container-id-3 div.sk-dashed-wrapped {\n",
       "  border: 1px dashed var(--sklearn-color-line);\n",
       "  margin: 0 0.4em 0.5em 0.4em;\n",
       "  box-sizing: border-box;\n",
       "  padding-bottom: 0.4em;\n",
       "  background-color: var(--sklearn-color-background);\n",
       "}\n",
       "\n",
       "#sk-container-id-3 div.sk-container {\n",
       "  /* jupyter's `normalize.less` sets `[hidden] { display: none; }`\n",
       "     but bootstrap.min.css set `[hidden] { display: none !important; }`\n",
       "     so we also need the `!important` here to be able to override the\n",
       "     default hidden behavior on the sphinx rendered scikit-learn.org.\n",
       "     See: https://github.com/scikit-learn/scikit-learn/issues/21755 */\n",
       "  display: inline-block !important;\n",
       "  position: relative;\n",
       "}\n",
       "\n",
       "#sk-container-id-3 div.sk-text-repr-fallback {\n",
       "  display: none;\n",
       "}\n",
       "\n",
       "div.sk-parallel-item,\n",
       "div.sk-serial,\n",
       "div.sk-item {\n",
       "  /* draw centered vertical line to link estimators */\n",
       "  background-image: linear-gradient(var(--sklearn-color-text-on-default-background), var(--sklearn-color-text-on-default-background));\n",
       "  background-size: 2px 100%;\n",
       "  background-repeat: no-repeat;\n",
       "  background-position: center center;\n",
       "}\n",
       "\n",
       "/* Parallel-specific style estimator block */\n",
       "\n",
       "#sk-container-id-3 div.sk-parallel-item::after {\n",
       "  content: \"\";\n",
       "  width: 100%;\n",
       "  border-bottom: 2px solid var(--sklearn-color-text-on-default-background);\n",
       "  flex-grow: 1;\n",
       "}\n",
       "\n",
       "#sk-container-id-3 div.sk-parallel {\n",
       "  display: flex;\n",
       "  align-items: stretch;\n",
       "  justify-content: center;\n",
       "  background-color: var(--sklearn-color-background);\n",
       "  position: relative;\n",
       "}\n",
       "\n",
       "#sk-container-id-3 div.sk-parallel-item {\n",
       "  display: flex;\n",
       "  flex-direction: column;\n",
       "}\n",
       "\n",
       "#sk-container-id-3 div.sk-parallel-item:first-child::after {\n",
       "  align-self: flex-end;\n",
       "  width: 50%;\n",
       "}\n",
       "\n",
       "#sk-container-id-3 div.sk-parallel-item:last-child::after {\n",
       "  align-self: flex-start;\n",
       "  width: 50%;\n",
       "}\n",
       "\n",
       "#sk-container-id-3 div.sk-parallel-item:only-child::after {\n",
       "  width: 0;\n",
       "}\n",
       "\n",
       "/* Serial-specific style estimator block */\n",
       "\n",
       "#sk-container-id-3 div.sk-serial {\n",
       "  display: flex;\n",
       "  flex-direction: column;\n",
       "  align-items: center;\n",
       "  background-color: var(--sklearn-color-background);\n",
       "  padding-right: 1em;\n",
       "  padding-left: 1em;\n",
       "}\n",
       "\n",
       "\n",
       "/* Toggleable style: style used for estimator/Pipeline/ColumnTransformer box that is\n",
       "clickable and can be expanded/collapsed.\n",
       "- Pipeline and ColumnTransformer use this feature and define the default style\n",
       "- Estimators will overwrite some part of the style using the `sk-estimator` class\n",
       "*/\n",
       "\n",
       "/* Pipeline and ColumnTransformer style (default) */\n",
       "\n",
       "#sk-container-id-3 div.sk-toggleable {\n",
       "  /* Default theme specific background. It is overwritten whether we have a\n",
       "  specific estimator or a Pipeline/ColumnTransformer */\n",
       "  background-color: var(--sklearn-color-background);\n",
       "}\n",
       "\n",
       "/* Toggleable label */\n",
       "#sk-container-id-3 label.sk-toggleable__label {\n",
       "  cursor: pointer;\n",
       "  display: block;\n",
       "  width: 100%;\n",
       "  margin-bottom: 0;\n",
       "  padding: 0.5em;\n",
       "  box-sizing: border-box;\n",
       "  text-align: center;\n",
       "}\n",
       "\n",
       "#sk-container-id-3 label.sk-toggleable__label-arrow:before {\n",
       "  /* Arrow on the left of the label */\n",
       "  content: \"▸\";\n",
       "  float: left;\n",
       "  margin-right: 0.25em;\n",
       "  color: var(--sklearn-color-icon);\n",
       "}\n",
       "\n",
       "#sk-container-id-3 label.sk-toggleable__label-arrow:hover:before {\n",
       "  color: var(--sklearn-color-text);\n",
       "}\n",
       "\n",
       "/* Toggleable content - dropdown */\n",
       "\n",
       "#sk-container-id-3 div.sk-toggleable__content {\n",
       "  max-height: 0;\n",
       "  max-width: 0;\n",
       "  overflow: hidden;\n",
       "  text-align: left;\n",
       "  /* unfitted */\n",
       "  background-color: var(--sklearn-color-unfitted-level-0);\n",
       "}\n",
       "\n",
       "#sk-container-id-3 div.sk-toggleable__content.fitted {\n",
       "  /* fitted */\n",
       "  background-color: var(--sklearn-color-fitted-level-0);\n",
       "}\n",
       "\n",
       "#sk-container-id-3 div.sk-toggleable__content pre {\n",
       "  margin: 0.2em;\n",
       "  border-radius: 0.25em;\n",
       "  color: var(--sklearn-color-text);\n",
       "  /* unfitted */\n",
       "  background-color: var(--sklearn-color-unfitted-level-0);\n",
       "}\n",
       "\n",
       "#sk-container-id-3 div.sk-toggleable__content.fitted pre {\n",
       "  /* unfitted */\n",
       "  background-color: var(--sklearn-color-fitted-level-0);\n",
       "}\n",
       "\n",
       "#sk-container-id-3 input.sk-toggleable__control:checked~div.sk-toggleable__content {\n",
       "  /* Expand drop-down */\n",
       "  max-height: 200px;\n",
       "  max-width: 100%;\n",
       "  overflow: auto;\n",
       "}\n",
       "\n",
       "#sk-container-id-3 input.sk-toggleable__control:checked~label.sk-toggleable__label-arrow:before {\n",
       "  content: \"▾\";\n",
       "}\n",
       "\n",
       "/* Pipeline/ColumnTransformer-specific style */\n",
       "\n",
       "#sk-container-id-3 div.sk-label input.sk-toggleable__control:checked~label.sk-toggleable__label {\n",
       "  color: var(--sklearn-color-text);\n",
       "  background-color: var(--sklearn-color-unfitted-level-2);\n",
       "}\n",
       "\n",
       "#sk-container-id-3 div.sk-label.fitted input.sk-toggleable__control:checked~label.sk-toggleable__label {\n",
       "  background-color: var(--sklearn-color-fitted-level-2);\n",
       "}\n",
       "\n",
       "/* Estimator-specific style */\n",
       "\n",
       "/* Colorize estimator box */\n",
       "#sk-container-id-3 div.sk-estimator input.sk-toggleable__control:checked~label.sk-toggleable__label {\n",
       "  /* unfitted */\n",
       "  background-color: var(--sklearn-color-unfitted-level-2);\n",
       "}\n",
       "\n",
       "#sk-container-id-3 div.sk-estimator.fitted input.sk-toggleable__control:checked~label.sk-toggleable__label {\n",
       "  /* fitted */\n",
       "  background-color: var(--sklearn-color-fitted-level-2);\n",
       "}\n",
       "\n",
       "#sk-container-id-3 div.sk-label label.sk-toggleable__label,\n",
       "#sk-container-id-3 div.sk-label label {\n",
       "  /* The background is the default theme color */\n",
       "  color: var(--sklearn-color-text-on-default-background);\n",
       "}\n",
       "\n",
       "/* On hover, darken the color of the background */\n",
       "#sk-container-id-3 div.sk-label:hover label.sk-toggleable__label {\n",
       "  color: var(--sklearn-color-text);\n",
       "  background-color: var(--sklearn-color-unfitted-level-2);\n",
       "}\n",
       "\n",
       "/* Label box, darken color on hover, fitted */\n",
       "#sk-container-id-3 div.sk-label.fitted:hover label.sk-toggleable__label.fitted {\n",
       "  color: var(--sklearn-color-text);\n",
       "  background-color: var(--sklearn-color-fitted-level-2);\n",
       "}\n",
       "\n",
       "/* Estimator label */\n",
       "\n",
       "#sk-container-id-3 div.sk-label label {\n",
       "  font-family: monospace;\n",
       "  font-weight: bold;\n",
       "  display: inline-block;\n",
       "  line-height: 1.2em;\n",
       "}\n",
       "\n",
       "#sk-container-id-3 div.sk-label-container {\n",
       "  text-align: center;\n",
       "}\n",
       "\n",
       "/* Estimator-specific */\n",
       "#sk-container-id-3 div.sk-estimator {\n",
       "  font-family: monospace;\n",
       "  border: 1px dotted var(--sklearn-color-border-box);\n",
       "  border-radius: 0.25em;\n",
       "  box-sizing: border-box;\n",
       "  margin-bottom: 0.5em;\n",
       "  /* unfitted */\n",
       "  background-color: var(--sklearn-color-unfitted-level-0);\n",
       "}\n",
       "\n",
       "#sk-container-id-3 div.sk-estimator.fitted {\n",
       "  /* fitted */\n",
       "  background-color: var(--sklearn-color-fitted-level-0);\n",
       "}\n",
       "\n",
       "/* on hover */\n",
       "#sk-container-id-3 div.sk-estimator:hover {\n",
       "  /* unfitted */\n",
       "  background-color: var(--sklearn-color-unfitted-level-2);\n",
       "}\n",
       "\n",
       "#sk-container-id-3 div.sk-estimator.fitted:hover {\n",
       "  /* fitted */\n",
       "  background-color: var(--sklearn-color-fitted-level-2);\n",
       "}\n",
       "\n",
       "/* Specification for estimator info (e.g. \"i\" and \"?\") */\n",
       "\n",
       "/* Common style for \"i\" and \"?\" */\n",
       "\n",
       ".sk-estimator-doc-link,\n",
       "a:link.sk-estimator-doc-link,\n",
       "a:visited.sk-estimator-doc-link {\n",
       "  float: right;\n",
       "  font-size: smaller;\n",
       "  line-height: 1em;\n",
       "  font-family: monospace;\n",
       "  background-color: var(--sklearn-color-background);\n",
       "  border-radius: 1em;\n",
       "  height: 1em;\n",
       "  width: 1em;\n",
       "  text-decoration: none !important;\n",
       "  margin-left: 1ex;\n",
       "  /* unfitted */\n",
       "  border: var(--sklearn-color-unfitted-level-1) 1pt solid;\n",
       "  color: var(--sklearn-color-unfitted-level-1);\n",
       "}\n",
       "\n",
       ".sk-estimator-doc-link.fitted,\n",
       "a:link.sk-estimator-doc-link.fitted,\n",
       "a:visited.sk-estimator-doc-link.fitted {\n",
       "  /* fitted */\n",
       "  border: var(--sklearn-color-fitted-level-1) 1pt solid;\n",
       "  color: var(--sklearn-color-fitted-level-1);\n",
       "}\n",
       "\n",
       "/* On hover */\n",
       "div.sk-estimator:hover .sk-estimator-doc-link:hover,\n",
       ".sk-estimator-doc-link:hover,\n",
       "div.sk-label-container:hover .sk-estimator-doc-link:hover,\n",
       ".sk-estimator-doc-link:hover {\n",
       "  /* unfitted */\n",
       "  background-color: var(--sklearn-color-unfitted-level-3);\n",
       "  color: var(--sklearn-color-background);\n",
       "  text-decoration: none;\n",
       "}\n",
       "\n",
       "div.sk-estimator.fitted:hover .sk-estimator-doc-link.fitted:hover,\n",
       ".sk-estimator-doc-link.fitted:hover,\n",
       "div.sk-label-container:hover .sk-estimator-doc-link.fitted:hover,\n",
       ".sk-estimator-doc-link.fitted:hover {\n",
       "  /* fitted */\n",
       "  background-color: var(--sklearn-color-fitted-level-3);\n",
       "  color: var(--sklearn-color-background);\n",
       "  text-decoration: none;\n",
       "}\n",
       "\n",
       "/* Span, style for the box shown on hovering the info icon */\n",
       ".sk-estimator-doc-link span {\n",
       "  display: none;\n",
       "  z-index: 9999;\n",
       "  position: relative;\n",
       "  font-weight: normal;\n",
       "  right: .2ex;\n",
       "  padding: .5ex;\n",
       "  margin: .5ex;\n",
       "  width: min-content;\n",
       "  min-width: 20ex;\n",
       "  max-width: 50ex;\n",
       "  color: var(--sklearn-color-text);\n",
       "  box-shadow: 2pt 2pt 4pt #999;\n",
       "  /* unfitted */\n",
       "  background: var(--sklearn-color-unfitted-level-0);\n",
       "  border: .5pt solid var(--sklearn-color-unfitted-level-3);\n",
       "}\n",
       "\n",
       ".sk-estimator-doc-link.fitted span {\n",
       "  /* fitted */\n",
       "  background: var(--sklearn-color-fitted-level-0);\n",
       "  border: var(--sklearn-color-fitted-level-3);\n",
       "}\n",
       "\n",
       ".sk-estimator-doc-link:hover span {\n",
       "  display: block;\n",
       "}\n",
       "\n",
       "/* \"?\"-specific style due to the `<a>` HTML tag */\n",
       "\n",
       "#sk-container-id-3 a.estimator_doc_link {\n",
       "  float: right;\n",
       "  font-size: 1rem;\n",
       "  line-height: 1em;\n",
       "  font-family: monospace;\n",
       "  background-color: var(--sklearn-color-background);\n",
       "  border-radius: 1rem;\n",
       "  height: 1rem;\n",
       "  width: 1rem;\n",
       "  text-decoration: none;\n",
       "  /* unfitted */\n",
       "  color: var(--sklearn-color-unfitted-level-1);\n",
       "  border: var(--sklearn-color-unfitted-level-1) 1pt solid;\n",
       "}\n",
       "\n",
       "#sk-container-id-3 a.estimator_doc_link.fitted {\n",
       "  /* fitted */\n",
       "  border: var(--sklearn-color-fitted-level-1) 1pt solid;\n",
       "  color: var(--sklearn-color-fitted-level-1);\n",
       "}\n",
       "\n",
       "/* On hover */\n",
       "#sk-container-id-3 a.estimator_doc_link:hover {\n",
       "  /* unfitted */\n",
       "  background-color: var(--sklearn-color-unfitted-level-3);\n",
       "  color: var(--sklearn-color-background);\n",
       "  text-decoration: none;\n",
       "}\n",
       "\n",
       "#sk-container-id-3 a.estimator_doc_link.fitted:hover {\n",
       "  /* fitted */\n",
       "  background-color: var(--sklearn-color-fitted-level-3);\n",
       "}\n",
       "</style><div id=\"sk-container-id-3\" class=\"sk-top-container\"><div class=\"sk-text-repr-fallback\"><pre>Pipeline(steps=[(&#x27;preprocessor&#x27;,\n",
       "                 ColumnTransformer(transformers=[(&#x27;num&#x27;,\n",
       "                                                  Pipeline(steps=[(&#x27;imputer&#x27;,\n",
       "                                                                   SimpleImputer()),\n",
       "                                                                  (&#x27;scaler&#x27;,\n",
       "                                                                   StandardScaler())]),\n",
       "                                                  [&#x27;popularity&#x27;, &#x27;duration_ms&#x27;,\n",
       "                                                   &#x27;danceability&#x27;, &#x27;energy&#x27;,\n",
       "                                                   &#x27;loudness&#x27;, &#x27;speechiness&#x27;,\n",
       "                                                   &#x27;acousticness&#x27;,\n",
       "                                                   &#x27;instrumentalness&#x27;,\n",
       "                                                   &#x27;liveness&#x27;, &#x27;valence&#x27;,\n",
       "                                                   &#x27;tempo&#x27;, &#x27;mfcc_1&#x27;, &#x27;mfcc_2&#x27;,\n",
       "                                                   &#x27;mfcc_3&#x27;, &#x27;mfcc_4&#x27;, &#x27;mfcc_5&#x27;,\n",
       "                                                   &#x27;mfcc_6&#x27;, &#x27;mfcc_7&#x27;, &#x27;m...\n",
       "                                                   &#x27;mfcc_9&#x27;, &#x27;mfcc_10&#x27;,\n",
       "                                                   &#x27;mfcc_11&#x27;, &#x27;mfcc_12&#x27;,\n",
       "                                                   &#x27;mfcc_13&#x27;, &#x27;chroma_1&#x27;,\n",
       "                                                   &#x27;chroma_2&#x27;, &#x27;chroma_3&#x27;,\n",
       "                                                   &#x27;chroma_4&#x27;, &#x27;chroma_5&#x27;,\n",
       "                                                   &#x27;chroma_6&#x27;, ...]),\n",
       "                                                 (&#x27;cat&#x27;,\n",
       "                                                  Pipeline(steps=[(&#x27;imputer&#x27;,\n",
       "                                                                   SimpleImputer(strategy=&#x27;most_frequent&#x27;)),\n",
       "                                                                  (&#x27;onehot&#x27;,\n",
       "                                                                   OneHotEncoder(handle_unknown=&#x27;ignore&#x27;))]),\n",
       "                                                  [&#x27;key&#x27;, &#x27;mode&#x27;,\n",
       "                                                   &#x27;time_signature&#x27;])])),\n",
       "                (&#x27;model&#x27;,\n",
       "                 RandomForestClassifier(class_weight=&#x27;balanced&#x27;,\n",
       "                                        random_state=42))])</pre><b>In a Jupyter environment, please rerun this cell to show the HTML representation or trust the notebook. <br />On GitHub, the HTML representation is unable to render, please try loading this page with nbviewer.org.</b></div><div class=\"sk-container\" hidden><div class=\"sk-item sk-dashed-wrapped\"><div class=\"sk-label-container\"><div class=\"sk-label  sk-toggleable\"><input class=\"sk-toggleable__control sk-hidden--visually\" id=\"sk-estimator-id-19\" type=\"checkbox\" ><label for=\"sk-estimator-id-19\" class=\"sk-toggleable__label  sk-toggleable__label-arrow \">&nbsp;&nbsp;Pipeline<a class=\"sk-estimator-doc-link \" rel=\"noreferrer\" target=\"_blank\" href=\"https://scikit-learn.org/1.5/modules/generated/sklearn.pipeline.Pipeline.html\">?<span>Documentation for Pipeline</span></a><span class=\"sk-estimator-doc-link \">i<span>Not fitted</span></span></label><div class=\"sk-toggleable__content \"><pre>Pipeline(steps=[(&#x27;preprocessor&#x27;,\n",
       "                 ColumnTransformer(transformers=[(&#x27;num&#x27;,\n",
       "                                                  Pipeline(steps=[(&#x27;imputer&#x27;,\n",
       "                                                                   SimpleImputer()),\n",
       "                                                                  (&#x27;scaler&#x27;,\n",
       "                                                                   StandardScaler())]),\n",
       "                                                  [&#x27;popularity&#x27;, &#x27;duration_ms&#x27;,\n",
       "                                                   &#x27;danceability&#x27;, &#x27;energy&#x27;,\n",
       "                                                   &#x27;loudness&#x27;, &#x27;speechiness&#x27;,\n",
       "                                                   &#x27;acousticness&#x27;,\n",
       "                                                   &#x27;instrumentalness&#x27;,\n",
       "                                                   &#x27;liveness&#x27;, &#x27;valence&#x27;,\n",
       "                                                   &#x27;tempo&#x27;, &#x27;mfcc_1&#x27;, &#x27;mfcc_2&#x27;,\n",
       "                                                   &#x27;mfcc_3&#x27;, &#x27;mfcc_4&#x27;, &#x27;mfcc_5&#x27;,\n",
       "                                                   &#x27;mfcc_6&#x27;, &#x27;mfcc_7&#x27;, &#x27;m...\n",
       "                                                   &#x27;mfcc_9&#x27;, &#x27;mfcc_10&#x27;,\n",
       "                                                   &#x27;mfcc_11&#x27;, &#x27;mfcc_12&#x27;,\n",
       "                                                   &#x27;mfcc_13&#x27;, &#x27;chroma_1&#x27;,\n",
       "                                                   &#x27;chroma_2&#x27;, &#x27;chroma_3&#x27;,\n",
       "                                                   &#x27;chroma_4&#x27;, &#x27;chroma_5&#x27;,\n",
       "                                                   &#x27;chroma_6&#x27;, ...]),\n",
       "                                                 (&#x27;cat&#x27;,\n",
       "                                                  Pipeline(steps=[(&#x27;imputer&#x27;,\n",
       "                                                                   SimpleImputer(strategy=&#x27;most_frequent&#x27;)),\n",
       "                                                                  (&#x27;onehot&#x27;,\n",
       "                                                                   OneHotEncoder(handle_unknown=&#x27;ignore&#x27;))]),\n",
       "                                                  [&#x27;key&#x27;, &#x27;mode&#x27;,\n",
       "                                                   &#x27;time_signature&#x27;])])),\n",
       "                (&#x27;model&#x27;,\n",
       "                 RandomForestClassifier(class_weight=&#x27;balanced&#x27;,\n",
       "                                        random_state=42))])</pre></div> </div></div><div class=\"sk-serial\"><div class=\"sk-item sk-dashed-wrapped\"><div class=\"sk-label-container\"><div class=\"sk-label  sk-toggleable\"><input class=\"sk-toggleable__control sk-hidden--visually\" id=\"sk-estimator-id-20\" type=\"checkbox\" ><label for=\"sk-estimator-id-20\" class=\"sk-toggleable__label  sk-toggleable__label-arrow \">&nbsp;preprocessor: ColumnTransformer<a class=\"sk-estimator-doc-link \" rel=\"noreferrer\" target=\"_blank\" href=\"https://scikit-learn.org/1.5/modules/generated/sklearn.compose.ColumnTransformer.html\">?<span>Documentation for preprocessor: ColumnTransformer</span></a></label><div class=\"sk-toggleable__content \"><pre>ColumnTransformer(transformers=[(&#x27;num&#x27;,\n",
       "                                 Pipeline(steps=[(&#x27;imputer&#x27;, SimpleImputer()),\n",
       "                                                 (&#x27;scaler&#x27;, StandardScaler())]),\n",
       "                                 [&#x27;popularity&#x27;, &#x27;duration_ms&#x27;, &#x27;danceability&#x27;,\n",
       "                                  &#x27;energy&#x27;, &#x27;loudness&#x27;, &#x27;speechiness&#x27;,\n",
       "                                  &#x27;acousticness&#x27;, &#x27;instrumentalness&#x27;,\n",
       "                                  &#x27;liveness&#x27;, &#x27;valence&#x27;, &#x27;tempo&#x27;, &#x27;mfcc_1&#x27;,\n",
       "                                  &#x27;mfcc_2&#x27;, &#x27;mfcc_3&#x27;, &#x27;mfcc_4&#x27;, &#x27;mfcc_5&#x27;,\n",
       "                                  &#x27;mfcc_6&#x27;, &#x27;mfcc_7&#x27;, &#x27;mfcc_8&#x27;, &#x27;mfcc_9&#x27;,\n",
       "                                  &#x27;mfcc_10&#x27;, &#x27;mfcc_11&#x27;, &#x27;mfcc_12&#x27;, &#x27;mfcc_13&#x27;,\n",
       "                                  &#x27;chroma_1&#x27;, &#x27;chroma_2&#x27;, &#x27;chroma_3&#x27;,\n",
       "                                  &#x27;chroma_4&#x27;, &#x27;chroma_5&#x27;, &#x27;chroma_6&#x27;, ...]),\n",
       "                                (&#x27;cat&#x27;,\n",
       "                                 Pipeline(steps=[(&#x27;imputer&#x27;,\n",
       "                                                  SimpleImputer(strategy=&#x27;most_frequent&#x27;)),\n",
       "                                                 (&#x27;onehot&#x27;,\n",
       "                                                  OneHotEncoder(handle_unknown=&#x27;ignore&#x27;))]),\n",
       "                                 [&#x27;key&#x27;, &#x27;mode&#x27;, &#x27;time_signature&#x27;])])</pre></div> </div></div><div class=\"sk-parallel\"><div class=\"sk-parallel-item\"><div class=\"sk-item\"><div class=\"sk-label-container\"><div class=\"sk-label  sk-toggleable\"><input class=\"sk-toggleable__control sk-hidden--visually\" id=\"sk-estimator-id-21\" type=\"checkbox\" ><label for=\"sk-estimator-id-21\" class=\"sk-toggleable__label  sk-toggleable__label-arrow \">num</label><div class=\"sk-toggleable__content \"><pre>[&#x27;popularity&#x27;, &#x27;duration_ms&#x27;, &#x27;danceability&#x27;, &#x27;energy&#x27;, &#x27;loudness&#x27;, &#x27;speechiness&#x27;, &#x27;acousticness&#x27;, &#x27;instrumentalness&#x27;, &#x27;liveness&#x27;, &#x27;valence&#x27;, &#x27;tempo&#x27;, &#x27;mfcc_1&#x27;, &#x27;mfcc_2&#x27;, &#x27;mfcc_3&#x27;, &#x27;mfcc_4&#x27;, &#x27;mfcc_5&#x27;, &#x27;mfcc_6&#x27;, &#x27;mfcc_7&#x27;, &#x27;mfcc_8&#x27;, &#x27;mfcc_9&#x27;, &#x27;mfcc_10&#x27;, &#x27;mfcc_11&#x27;, &#x27;mfcc_12&#x27;, &#x27;mfcc_13&#x27;, &#x27;chroma_1&#x27;, &#x27;chroma_2&#x27;, &#x27;chroma_3&#x27;, &#x27;chroma_4&#x27;, &#x27;chroma_5&#x27;, &#x27;chroma_6&#x27;, &#x27;chroma_7&#x27;, &#x27;chroma_8&#x27;, &#x27;chroma_9&#x27;, &#x27;chroma_10&#x27;, &#x27;chroma_11&#x27;, &#x27;chroma_12&#x27;, &#x27;spectral_contrast_1&#x27;, &#x27;spectral_contrast_2&#x27;, &#x27;spectral_contrast_3&#x27;, &#x27;spectral_contrast_4&#x27;, &#x27;spectral_contrast_5&#x27;, &#x27;spectral_contrast_6&#x27;, &#x27;spectral_contrast_7&#x27;, &#x27;tempo_extracted&#x27;, &#x27;zcr&#x27;, &#x27;word_count&#x27;, &#x27;unique_word_count&#x27;, &#x27;avg_word_length&#x27;, &#x27;syllable_count&#x27;, &#x27;sentiment_polarity&#x27;, &#x27;sentiment_subjectivity&#x27;, &#x27;readability_score&#x27;, &#x27;noun_count&#x27;, &#x27;verb_count&#x27;, &#x27;vader_compound&#x27;, &#x27;repetition_count&#x27;, &#x27;average_syllables_per_word&#x27;, &#x27;afraid&#x27;, &#x27;ah&#x27;, &#x27;ai&#x27;, &#x27;ain&#x27;, &#x27;air&#x27;, &#x27;al&#x27;, &#x27;alive&#x27;, &#x27;alright&#x27;, &#x27;amor&#x27;, &#x27;anymore&#x27;, &#x27;apart&#x27;, &#x27;arms&#x27;, &#x27;ask&#x27;, &#x27;away&#x27;, &#x27;ay&#x27;, &#x27;ba&#x27;, &#x27;babe&#x27;, &#x27;baby&#x27;, &#x27;bad&#x27;, &#x27;beat&#x27;, &#x27;beautiful&#x27;, &#x27;bed&#x27;, &#x27;believe&#x27;, &#x27;best&#x27;, &#x27;better&#x27;, &#x27;bien&#x27;, &#x27;big&#x27;, &#x27;bit&#x27;, &#x27;bitch&#x27;, &#x27;black&#x27;, &#x27;blame&#x27;, &#x27;blood&#x27;, &#x27;blow&#x27;, &#x27;blue&#x27;, &#x27;body&#x27;, &#x27;born&#x27;, &#x27;bout&#x27;, &#x27;boy&#x27;, &#x27;break&#x27;, &#x27;breaking&#x27;, &#x27;breath&#x27;, &#x27;breathe&#x27;, &#x27;bridge&#x27;, &#x27;bright&#x27;, &#x27;bring&#x27;, &#x27;broke&#x27;, &#x27;broken&#x27;, &#x27;burn&#x27;, &#x27;burning&#x27;, &#x27;calling&#x27;, &#x27;came&#x27;, &#x27;car&#x27;, &#x27;care&#x27;, &#x27;carry&#x27;, &#x27;caught&#x27;, &#x27;cause&#x27;, &#x27;chance&#x27;, &#x27;change&#x27;, &#x27;che&#x27;, &#x27;chorus&#x27;, &#x27;ci&#x27;, &#x27;city&#x27;, &#x27;close&#x27;, &#x27;cold&#x27;, &#x27;come&#x27;, &#x27;comes&#x27;, &#x27;coming&#x27;, &#x27;comme&#x27;, &#x27;como&#x27;, &#x27;control&#x27;, &#x27;cool&#x27;, &#x27;corazón&#x27;, &#x27;coro&#x27;, &#x27;couldn&#x27;, &#x27;crazy&#x27;, &#x27;cuando&#x27;, &#x27;cut&#x27;, &#x27;da&#x27;, &#x27;damn&#x27;, &#x27;dance&#x27;, &#x27;dancing&#x27;, &#x27;dans&#x27;, &#x27;dark&#x27;, &#x27;darling&#x27;, &#x27;day&#x27;, &#x27;days&#x27;, &#x27;dead&#x27;, &#x27;deep&#x27;, &#x27;del&#x27;, &#x27;des&#x27;, &#x27;di&#x27;, &#x27;did&#x27;, &#x27;didn&#x27;, &#x27;die&#x27;, &#x27;does&#x27;, &#x27;doesn&#x27;, &#x27;doing&#x27;, &#x27;don&#x27;, &#x27;doo&#x27;, &#x27;door&#x27;, &#x27;dream&#x27;, &#x27;dreams&#x27;, &#x27;drive&#x27;, &#x27;easy&#x27;, &#x27;eh&#x27;, &#x27;el&#x27;, &#x27;elle&#x27;, &#x27;em&#x27;, &#x27;en&#x27;, &#x27;end&#x27;, &#x27;es&#x27;, &#x27;est&#x27;, &#x27;et&#x27;, &#x27;everybody&#x27;, &#x27;eyes&#x27;, &#x27;face&#x27;, &#x27;fall&#x27;, &#x27;falling&#x27;, &#x27;far&#x27;, &#x27;fast&#x27;, &#x27;fear&#x27;, &#x27;feel&#x27;, &#x27;feelin&#x27;, &#x27;feeling&#x27;, &#x27;feels&#x27;, &#x27;feet&#x27;, &#x27;fell&#x27;, &#x27;felt&#x27;, &#x27;fight&#x27;, &#x27;fine&#x27;, &#x27;floor&#x27;, &#x27;fly&#x27;, &#x27;follow&#x27;, &#x27;forever&#x27;, &#x27;forget&#x27;, &#x27;free&#x27;, &#x27;friend&#x27;, &#x27;friends&#x27;, &#x27;fuck&#x27;, &#x27;fun&#x27;, &#x27;game&#x27;, &#x27;gave&#x27;, &#x27;gets&#x27;, &#x27;getting&#x27;, &#x27;ghost&#x27;, &#x27;girl&#x27;, &#x27;girls&#x27;, &#x27;god&#x27;, &#x27;goes&#x27;, &#x27;goin&#x27;, &#x27;going&#x27;, &#x27;gold&#x27;, &#x27;gon&#x27;, &#x27;gone&#x27;, &#x27;gonna&#x27;, &#x27;good&#x27;, &#x27;goodbye&#x27;, &#x27;got&#x27;, &#x27;gotta&#x27;, &#x27;ground&#x27;, &#x27;guess&#x27;, &#x27;gun&#x27;, &#x27;ha&#x27;, &#x27;hair&#x27;, &#x27;hallelujah&#x27;, &#x27;hand&#x27;, &#x27;hands&#x27;, &#x27;happy&#x27;, &#x27;hard&#x27;, &#x27;hate&#x27;, &#x27;head&#x27;, &#x27;hear&#x27;, &#x27;heard&#x27;, &#x27;heart&#x27;, &#x27;hearts&#x27;, &#x27;heaven&#x27;, &#x27;hell&#x27;, &#x27;hello&#x27;, &#x27;help&#x27;, &#x27;hey&#x27;, &#x27;hide&#x27;, &#x27;high&#x27;, &#x27;hit&#x27;, &#x27;ho&#x27;, &#x27;hold&#x27;, &#x27;holding&#x27;, &#x27;home&#x27;, &#x27;honey&#x27;, &#x27;hoo&#x27;, &#x27;hope&#x27;, &#x27;hoping&#x27;, &#x27;hot&#x27;, &#x27;house&#x27;, &#x27;huh&#x27;, &#x27;human&#x27;, &#x27;hurt&#x27;, &#x27;ice&#x27;, &#x27;il&#x27;, &#x27;inside&#x27;, &#x27;intro&#x27;, &#x27;ja&#x27;, &#x27;jak&#x27;, &#x27;je&#x27;, &#x27;jest&#x27;, &#x27;just&#x27;, &#x27;już&#x27;, &#x27;keeps&#x27;, &#x27;kids&#x27;, &#x27;kill&#x27;, &#x27;kind&#x27;, &#x27;kinda&#x27;, &#x27;kiss&#x27;, &#x27;knees&#x27;, &#x27;knew&#x27;, &#x27;know&#x27;, &#x27;known&#x27;, &#x27;knows&#x27;, &#x27;la&#x27;, &#x27;las&#x27;, &#x27;late&#x27;, &#x27;lay&#x27;, &#x27;le&#x27;, &#x27;learn&#x27;, &#x27;leave&#x27;, &#x27;left&#x27;, &#x27;les&#x27;, &#x27;let&#x27;, &#x27;lie&#x27;, &#x27;life&#x27;, &#x27;light&#x27;, &#x27;lights&#x27;, &#x27;like&#x27;, &#x27;line&#x27;, &#x27;lips&#x27;, &#x27;listen&#x27;, &#x27;little&#x27;, &#x27;live&#x27;, &#x27;living&#x27;, &#x27;ll&#x27;, &#x27;lo&#x27;, &#x27;lonely&#x27;, &#x27;long&#x27;, &#x27;look&#x27;, &#x27;looking&#x27;, &#x27;lord&#x27;, &#x27;los&#x27;, &#x27;lose&#x27;, &#x27;losing&#x27;, &#x27;lost&#x27;, &#x27;lot&#x27;, &#x27;loud&#x27;, &#x27;love&#x27;, &#x27;loved&#x27;, &#x27;loving&#x27;, &#x27;low&#x27;, &#x27;ma&#x27;, &#x27;mais&#x27;, &#x27;make&#x27;, &#x27;makes&#x27;, &#x27;making&#x27;, &#x27;mam&#x27;, &#x27;mama&#x27;, &#x27;man&#x27;, &#x27;matter&#x27;, &#x27;maybe&#x27;, &#x27;mean&#x27;, &#x27;meant&#x27;, &#x27;meet&#x27;, &#x27;met&#x27;, &#x27;mi&#x27;, &#x27;middle&#x27;, &#x27;million&#x27;, &#x27;mind&#x27;, &#x27;miss&#x27;, &#x27;mnie&#x27;, &#x27;moi&#x27;, &#x27;moment&#x27;, &#x27;mon&#x27;, &#x27;money&#x27;, &#x27;morning&#x27;, &#x27;moving&#x27;, &#x27;music&#x27;, &#x27;más&#x27;, &#x27;na&#x27;, &#x27;ne&#x27;, &#x27;need&#x27;, &#x27;new&#x27;, &#x27;nie&#x27;, &#x27;night&#x27;, &#x27;nights&#x27;, &#x27;non&#x27;, &#x27;nothin&#x27;, &#x27;ocean&#x27;, &#x27;oh&#x27;, &#x27;okay&#x27;, &#x27;old&#x27;, &#x27;ooh&#x27;, &#x27;open&#x27;, &#x27;ouh&#x27;, &#x27;outro&#x27;, &#x27;pain&#x27;, &#x27;para&#x27;, &#x27;party&#x27;, &#x27;pas&#x27;, &#x27;past&#x27;, &#x27;pay&#x27;, &#x27;people&#x27;, &#x27;perfect&#x27;, &#x27;pero&#x27;, &#x27;phone&#x27;, &#x27;place&#x27;, &#x27;play&#x27;, &#x27;plus&#x27;, &#x27;por&#x27;, &#x27;porque&#x27;, &#x27;post&#x27;, &#x27;pour&#x27;, &#x27;pray&#x27;, &#x27;pre&#x27;, &#x27;pretty&#x27;, &#x27;promise&#x27;, &#x27;pull&#x27;, &#x27;qu&#x27;, &#x27;que&#x27;, &#x27;qui&#x27;, &#x27;quiero&#x27;, &#x27;rain&#x27;, &#x27;ready&#x27;, &#x27;real&#x27;, &#x27;really&#x27;, &#x27;reason&#x27;, &#x27;red&#x27;, &#x27;refrain&#x27;, &#x27;remember&#x27;, &#x27;rest&#x27;, &#x27;ride&#x27;, &#x27;right&#x27;, &#x27;rise&#x27;, &#x27;river&#x27;, &#x27;road&#x27;, &#x27;rock&#x27;, &#x27;roll&#x27;, &#x27;room&#x27;, &#x27;round&#x27;, &#x27;run&#x27;, &#x27;running&#x27;, &#x27;sad&#x27;, &#x27;safe&#x27;, &#x27;said&#x27;, &#x27;sam&#x27;, &#x27;save&#x27;, &#x27;saw&#x27;, &#x27;say&#x27;, &#x27;scared&#x27;, &#x27;se&#x27;, &#x27;sea&#x27;, &#x27;seen&#x27;, &#x27;set&#x27;, &#x27;shake&#x27;, &#x27;shine&#x27;, &#x27;shit&#x27;, &#x27;shut&#x27;, &#x27;si&#x27;, &#x27;sin&#x27;, &#x27;sing&#x27;, &#x27;singing&#x27;, &#x27;sit&#x27;, &#x27;się&#x27;, &#x27;skin&#x27;, &#x27;sky&#x27;, &#x27;sleep&#x27;, &#x27;slow&#x27;, &#x27;smile&#x27;, &#x27;solo&#x27;, &#x27;somebody&#x27;, &#x27;somethin&#x27;, &#x27;son&#x27;, &#x27;song&#x27;, &#x27;soon&#x27;, &#x27;sorry&#x27;, &#x27;soul&#x27;, &#x27;sound&#x27;, &#x27;soy&#x27;, &#x27;stand&#x27;, &#x27;standing&#x27;, &#x27;star&#x27;, &#x27;stars&#x27;, &#x27;start&#x27;, &#x27;stay&#x27;, &#x27;step&#x27;, &#x27;stop&#x27;, &#x27;story&#x27;, &#x27;straight&#x27;, &#x27;street&#x27;, &#x27;strong&#x27;, &#x27;stuck&#x27;, &#x27;su&#x27;, &#x27;summer&#x27;, &#x27;sun&#x27;, &#x27;sure&#x27;, &#x27;swear&#x27;, &#x27;sweet&#x27;, &#x27;sé&#x27;, &#x27;ta&#x27;, &#x27;tak&#x27;, &#x27;takes&#x27;, &#x27;taking&#x27;, &#x27;talk&#x27;, &#x27;talking&#x27;, &#x27;te&#x27;, &#x27;tears&#x27;, &#x27;tell&#x27;, &#x27;tengo&#x27;, &#x27;thing&#x27;, &#x27;things&#x27;, &#x27;think&#x27;, &#x27;thinking&#x27;, &#x27;thought&#x27;, &#x27;thousand&#x27;, &#x27;throw&#x27;, &#x27;thunder&#x27;, &#x27;ti&#x27;, &#x27;til&#x27;, &#x27;till&#x27;, &#x27;time&#x27;, &#x27;times&#x27;, &#x27;tired&#x27;, &#x27;today&#x27;, &#x27;todo&#x27;, &#x27;toi&#x27;, &#x27;told&#x27;, &#x27;tomorrow&#x27;, &#x27;tonight&#x27;, &#x27;took&#x27;, &#x27;touch&#x27;, &#x27;tout&#x27;, &#x27;town&#x27;, &#x27;tried&#x27;, &#x27;trouble&#x27;, &#x27;true&#x27;, &#x27;trust&#x27;, &#x27;truth&#x27;, &#x27;try&#x27;, &#x27;trying&#x27;, &#x27;tu&#x27;, &#x27;turn&#x27;, &#x27;tus&#x27;, &#x27;tú&#x27;, &#x27;uh&#x27;, &#x27;una&#x27;, &#x27;understand&#x27;, &#x27;used&#x27;, &#x27;va&#x27;, &#x27;ve&#x27;, &#x27;verse&#x27;, &#x27;verso&#x27;, &#x27;vida&#x27;, &#x27;voy&#x27;, &#x27;wait&#x27;, &#x27;waiting&#x27;, &#x27;wake&#x27;, &#x27;walk&#x27;, &#x27;walking&#x27;, &#x27;walls&#x27;, &#x27;wanna&#x27;, &#x27;want&#x27;, &#x27;wanted&#x27;, &#x27;war&#x27;, &#x27;wasn&#x27;, &#x27;watch&#x27;, &#x27;watching&#x27;, &#x27;water&#x27;, &#x27;way&#x27;, &#x27;welcome&#x27;, &#x27;went&#x27;, &#x27;white&#x27;, &#x27;whoa&#x27;, &#x27;wiem&#x27;, &#x27;wild&#x27;, &#x27;wind&#x27;, &#x27;wish&#x27;, &#x27;woah&#x27;, &#x27;won&#x27;, &#x27;wonder&#x27;, &#x27;woo&#x27;, &#x27;word&#x27;, &#x27;words&#x27;, &#x27;work&#x27;, &#x27;world&#x27;, &#x27;wrong&#x27;, &#x27;wszystko&#x27;, &#x27;ya&#x27;, &#x27;yeah&#x27;, &#x27;years&#x27;, &#x27;yes&#x27;, &#x27;yo&#x27;, &#x27;young&#x27;, &#x27;ça&#x27;, &#x27;że&#x27;]</pre></div> </div></div><div class=\"sk-serial\"><div class=\"sk-item\"><div class=\"sk-serial\"><div class=\"sk-item\"><div class=\"sk-estimator  sk-toggleable\"><input class=\"sk-toggleable__control sk-hidden--visually\" id=\"sk-estimator-id-22\" type=\"checkbox\" ><label for=\"sk-estimator-id-22\" class=\"sk-toggleable__label  sk-toggleable__label-arrow \">&nbsp;SimpleImputer<a class=\"sk-estimator-doc-link \" rel=\"noreferrer\" target=\"_blank\" href=\"https://scikit-learn.org/1.5/modules/generated/sklearn.impute.SimpleImputer.html\">?<span>Documentation for SimpleImputer</span></a></label><div class=\"sk-toggleable__content \"><pre>SimpleImputer()</pre></div> </div></div><div class=\"sk-item\"><div class=\"sk-estimator  sk-toggleable\"><input class=\"sk-toggleable__control sk-hidden--visually\" id=\"sk-estimator-id-23\" type=\"checkbox\" ><label for=\"sk-estimator-id-23\" class=\"sk-toggleable__label  sk-toggleable__label-arrow \">&nbsp;StandardScaler<a class=\"sk-estimator-doc-link \" rel=\"noreferrer\" target=\"_blank\" href=\"https://scikit-learn.org/1.5/modules/generated/sklearn.preprocessing.StandardScaler.html\">?<span>Documentation for StandardScaler</span></a></label><div class=\"sk-toggleable__content \"><pre>StandardScaler()</pre></div> </div></div></div></div></div></div></div><div class=\"sk-parallel-item\"><div class=\"sk-item\"><div class=\"sk-label-container\"><div class=\"sk-label  sk-toggleable\"><input class=\"sk-toggleable__control sk-hidden--visually\" id=\"sk-estimator-id-24\" type=\"checkbox\" ><label for=\"sk-estimator-id-24\" class=\"sk-toggleable__label  sk-toggleable__label-arrow \">cat</label><div class=\"sk-toggleable__content \"><pre>[&#x27;key&#x27;, &#x27;mode&#x27;, &#x27;time_signature&#x27;]</pre></div> </div></div><div class=\"sk-serial\"><div class=\"sk-item\"><div class=\"sk-serial\"><div class=\"sk-item\"><div class=\"sk-estimator  sk-toggleable\"><input class=\"sk-toggleable__control sk-hidden--visually\" id=\"sk-estimator-id-25\" type=\"checkbox\" ><label for=\"sk-estimator-id-25\" class=\"sk-toggleable__label  sk-toggleable__label-arrow \">&nbsp;SimpleImputer<a class=\"sk-estimator-doc-link \" rel=\"noreferrer\" target=\"_blank\" href=\"https://scikit-learn.org/1.5/modules/generated/sklearn.impute.SimpleImputer.html\">?<span>Documentation for SimpleImputer</span></a></label><div class=\"sk-toggleable__content \"><pre>SimpleImputer(strategy=&#x27;most_frequent&#x27;)</pre></div> </div></div><div class=\"sk-item\"><div class=\"sk-estimator  sk-toggleable\"><input class=\"sk-toggleable__control sk-hidden--visually\" id=\"sk-estimator-id-26\" type=\"checkbox\" ><label for=\"sk-estimator-id-26\" class=\"sk-toggleable__label  sk-toggleable__label-arrow \">&nbsp;OneHotEncoder<a class=\"sk-estimator-doc-link \" rel=\"noreferrer\" target=\"_blank\" href=\"https://scikit-learn.org/1.5/modules/generated/sklearn.preprocessing.OneHotEncoder.html\">?<span>Documentation for OneHotEncoder</span></a></label><div class=\"sk-toggleable__content \"><pre>OneHotEncoder(handle_unknown=&#x27;ignore&#x27;)</pre></div> </div></div></div></div></div></div></div></div></div><div class=\"sk-item\"><div class=\"sk-estimator  sk-toggleable\"><input class=\"sk-toggleable__control sk-hidden--visually\" id=\"sk-estimator-id-27\" type=\"checkbox\" ><label for=\"sk-estimator-id-27\" class=\"sk-toggleable__label  sk-toggleable__label-arrow \">&nbsp;RandomForestClassifier<a class=\"sk-estimator-doc-link \" rel=\"noreferrer\" target=\"_blank\" href=\"https://scikit-learn.org/1.5/modules/generated/sklearn.ensemble.RandomForestClassifier.html\">?<span>Documentation for RandomForestClassifier</span></a></label><div class=\"sk-toggleable__content \"><pre>RandomForestClassifier(class_weight=&#x27;balanced&#x27;, random_state=42)</pre></div> </div></div></div></div></div></div>"
      ],
      "text/plain": [
       "Pipeline(steps=[('preprocessor',\n",
       "                 ColumnTransformer(transformers=[('num',\n",
       "                                                  Pipeline(steps=[('imputer',\n",
       "                                                                   SimpleImputer()),\n",
       "                                                                  ('scaler',\n",
       "                                                                   StandardScaler())]),\n",
       "                                                  ['popularity', 'duration_ms',\n",
       "                                                   'danceability', 'energy',\n",
       "                                                   'loudness', 'speechiness',\n",
       "                                                   'acousticness',\n",
       "                                                   'instrumentalness',\n",
       "                                                   'liveness', 'valence',\n",
       "                                                   'tempo', 'mfcc_1', 'mfcc_2',\n",
       "                                                   'mfcc_3', 'mfcc_4', 'mfcc_5',\n",
       "                                                   'mfcc_6', 'mfcc_7', 'm...\n",
       "                                                   'mfcc_9', 'mfcc_10',\n",
       "                                                   'mfcc_11', 'mfcc_12',\n",
       "                                                   'mfcc_13', 'chroma_1',\n",
       "                                                   'chroma_2', 'chroma_3',\n",
       "                                                   'chroma_4', 'chroma_5',\n",
       "                                                   'chroma_6', ...]),\n",
       "                                                 ('cat',\n",
       "                                                  Pipeline(steps=[('imputer',\n",
       "                                                                   SimpleImputer(strategy='most_frequent')),\n",
       "                                                                  ('onehot',\n",
       "                                                                   OneHotEncoder(handle_unknown='ignore'))]),\n",
       "                                                  ['key', 'mode',\n",
       "                                                   'time_signature'])])),\n",
       "                ('model',\n",
       "                 RandomForestClassifier(class_weight='balanced',\n",
       "                                        random_state=42))])"
      ]
     },
     "execution_count": 33,
     "metadata": {},
     "output_type": "execute_result"
    }
   ],
   "source": [
    "model = ClassificationPipeline(df, target_column=target, num_features=num_features, cat_features=cat_features)\n",
    "model.get_classification_pipeline()"
   ]
  },
  {
   "cell_type": "code",
   "execution_count": 34,
   "id": "c85e4b90-b32a-4e27-852e-1cdda9405dfa",
   "metadata": {},
   "outputs": [
    {
     "data": {
      "application/vnd.jupyter.widget-view+json": {
       "model_id": "e2e1e84d28164587b70ae7d4ecd2bb98",
       "version_major": 2,
       "version_minor": 0
      },
      "text/plain": [
       "Pipeline Progress:   0%|          | 0/5 [00:00<?, ?step/s]"
      ]
     },
     "metadata": {},
     "output_type": "display_data"
    },
    {
     "name": "stdout",
     "output_type": "stream",
     "text": [
      "\u001b[1;32mINFO: Starting pipeline execution...\u001b[0m\n",
      "\u001b[1;32mINFO: Splitting the data into training and testing sets...\u001b[0m\n",
      "\u001b[1;32mINFO: Data splitting completed.\u001b[0m\n",
      "\u001b[1;32mINFO: Fixing class balance...\u001b[0m\n"
     ]
    },
    {
     "ename": "ValueError",
     "evalue": "Expected n_neighbors <= n_samples_fit, but n_neighbors = 64, n_samples_fit = 1, n_samples = 1",
     "output_type": "error",
     "traceback": [
      "\u001b[0;31m---------------------------------------------------------------------------\u001b[0m",
      "\u001b[0;31mValueError\u001b[0m                                Traceback (most recent call last)",
      "File \u001b[0;32m<timed eval>:1\u001b[0m\n",
      "File \u001b[0;32m~/Python/Jupyter-projects/thesis/songs_analysis/classes/model_pipeline.py:105\u001b[0m, in \u001b[0;36mBasePipeline.run_pipeline\u001b[0;34m(self, save_dir)\u001b[0m\n\u001b[1;32m    102\u001b[0m pbar\u001b[38;5;241m.\u001b[39mupdate(\u001b[38;5;241m1\u001b[39m)\n\u001b[1;32m    104\u001b[0m pbar\u001b[38;5;241m.\u001b[39mset_description(\u001b[38;5;124m\"\u001b[39m\u001b[38;5;124mTraining model\u001b[39m\u001b[38;5;124m\"\u001b[39m)\n\u001b[0;32m--> 105\u001b[0m \u001b[38;5;28;43mself\u001b[39;49m\u001b[38;5;241;43m.\u001b[39;49m\u001b[43mtrain_model\u001b[49m\u001b[43m(\u001b[49m\u001b[43m)\u001b[49m\n\u001b[1;32m    106\u001b[0m pbar\u001b[38;5;241m.\u001b[39mupdate(\u001b[38;5;241m1\u001b[39m)\n\u001b[1;32m    108\u001b[0m pbar\u001b[38;5;241m.\u001b[39mset_description(\u001b[38;5;124m\"\u001b[39m\u001b[38;5;124mEvaluating model\u001b[39m\u001b[38;5;124m\"\u001b[39m)\n",
      "File \u001b[0;32m~/Python/Jupyter-projects/thesis/songs_analysis/classes/model_pipeline.py:175\u001b[0m, in \u001b[0;36mClassificationPipeline.train_model\u001b[0;34m(self)\u001b[0m\n\u001b[1;32m    173\u001b[0m         n_neighbors \u001b[38;5;241m=\u001b[39m \u001b[38;5;28mself\u001b[39m\u001b[38;5;241m.\u001b[39my_train\u001b[38;5;241m.\u001b[39mnunique()\n\u001b[1;32m    174\u001b[0m     smote \u001b[38;5;241m=\u001b[39m SMOTE(random_state\u001b[38;5;241m=\u001b[39m\u001b[38;5;241m42\u001b[39m, k_neighbors\u001b[38;5;241m=\u001b[39mn_neighbors)\n\u001b[0;32m--> 175\u001b[0m     \u001b[38;5;28mself\u001b[39m\u001b[38;5;241m.\u001b[39mX_train, \u001b[38;5;28mself\u001b[39m\u001b[38;5;241m.\u001b[39my_train \u001b[38;5;241m=\u001b[39m \u001b[43msmote\u001b[49m\u001b[38;5;241;43m.\u001b[39;49m\u001b[43mfit_resample\u001b[49m\u001b[43m(\u001b[49m\u001b[38;5;28;43mself\u001b[39;49m\u001b[38;5;241;43m.\u001b[39;49m\u001b[43mX_train\u001b[49m\u001b[43m,\u001b[49m\u001b[43m \u001b[49m\u001b[38;5;28;43mself\u001b[39;49m\u001b[38;5;241;43m.\u001b[39;49m\u001b[43my_train\u001b[49m\u001b[43m)\u001b[49m\n\u001b[1;32m    177\u001b[0m     LOGGER\u001b[38;5;241m.\u001b[39minfo(\u001b[38;5;124m\"\u001b[39m\u001b[38;5;124mClass balance fixed.\u001b[39m\u001b[38;5;124m\"\u001b[39m)\n\u001b[1;32m    179\u001b[0m \u001b[38;5;66;03m# Train the model with the resampled data\u001b[39;00m\n",
      "File \u001b[0;32m~/Python/VENVS/jupyter310/lib/python3.10/site-packages/imblearn/base.py:208\u001b[0m, in \u001b[0;36mBaseSampler.fit_resample\u001b[0;34m(self, X, y)\u001b[0m\n\u001b[1;32m    187\u001b[0m \u001b[38;5;250m\u001b[39m\u001b[38;5;124;03m\"\"\"Resample the dataset.\u001b[39;00m\n\u001b[1;32m    188\u001b[0m \n\u001b[1;32m    189\u001b[0m \u001b[38;5;124;03mParameters\u001b[39;00m\n\u001b[0;32m   (...)\u001b[0m\n\u001b[1;32m    205\u001b[0m \u001b[38;5;124;03m    The corresponding label of `X_resampled`.\u001b[39;00m\n\u001b[1;32m    206\u001b[0m \u001b[38;5;124;03m\"\"\"\u001b[39;00m\n\u001b[1;32m    207\u001b[0m \u001b[38;5;28mself\u001b[39m\u001b[38;5;241m.\u001b[39m_validate_params()\n\u001b[0;32m--> 208\u001b[0m \u001b[38;5;28;01mreturn\u001b[39;00m \u001b[38;5;28;43msuper\u001b[39;49m\u001b[43m(\u001b[49m\u001b[43m)\u001b[49m\u001b[38;5;241;43m.\u001b[39;49m\u001b[43mfit_resample\u001b[49m\u001b[43m(\u001b[49m\u001b[43mX\u001b[49m\u001b[43m,\u001b[49m\u001b[43m \u001b[49m\u001b[43my\u001b[49m\u001b[43m)\u001b[49m\n",
      "File \u001b[0;32m~/Python/VENVS/jupyter310/lib/python3.10/site-packages/imblearn/base.py:112\u001b[0m, in \u001b[0;36mSamplerMixin.fit_resample\u001b[0;34m(self, X, y)\u001b[0m\n\u001b[1;32m    106\u001b[0m X, y, binarize_y \u001b[38;5;241m=\u001b[39m \u001b[38;5;28mself\u001b[39m\u001b[38;5;241m.\u001b[39m_check_X_y(X, y)\n\u001b[1;32m    108\u001b[0m \u001b[38;5;28mself\u001b[39m\u001b[38;5;241m.\u001b[39msampling_strategy_ \u001b[38;5;241m=\u001b[39m check_sampling_strategy(\n\u001b[1;32m    109\u001b[0m     \u001b[38;5;28mself\u001b[39m\u001b[38;5;241m.\u001b[39msampling_strategy, y, \u001b[38;5;28mself\u001b[39m\u001b[38;5;241m.\u001b[39m_sampling_type\n\u001b[1;32m    110\u001b[0m )\n\u001b[0;32m--> 112\u001b[0m output \u001b[38;5;241m=\u001b[39m \u001b[38;5;28;43mself\u001b[39;49m\u001b[38;5;241;43m.\u001b[39;49m\u001b[43m_fit_resample\u001b[49m\u001b[43m(\u001b[49m\u001b[43mX\u001b[49m\u001b[43m,\u001b[49m\u001b[43m \u001b[49m\u001b[43my\u001b[49m\u001b[43m)\u001b[49m\n\u001b[1;32m    114\u001b[0m y_ \u001b[38;5;241m=\u001b[39m (\n\u001b[1;32m    115\u001b[0m     label_binarize(output[\u001b[38;5;241m1\u001b[39m], classes\u001b[38;5;241m=\u001b[39mnp\u001b[38;5;241m.\u001b[39munique(y)) \u001b[38;5;28;01mif\u001b[39;00m binarize_y \u001b[38;5;28;01melse\u001b[39;00m output[\u001b[38;5;241m1\u001b[39m]\n\u001b[1;32m    116\u001b[0m )\n\u001b[1;32m    118\u001b[0m X_, y_ \u001b[38;5;241m=\u001b[39m arrays_transformer\u001b[38;5;241m.\u001b[39mtransform(output[\u001b[38;5;241m0\u001b[39m], y_)\n",
      "File \u001b[0;32m~/Python/VENVS/jupyter310/lib/python3.10/site-packages/imblearn/over_sampling/_smote/base.py:389\u001b[0m, in \u001b[0;36mSMOTE._fit_resample\u001b[0;34m(self, X, y)\u001b[0m\n\u001b[1;32m    386\u001b[0m X_class \u001b[38;5;241m=\u001b[39m _safe_indexing(X, target_class_indices)\n\u001b[1;32m    388\u001b[0m \u001b[38;5;28mself\u001b[39m\u001b[38;5;241m.\u001b[39mnn_k_\u001b[38;5;241m.\u001b[39mfit(X_class)\n\u001b[0;32m--> 389\u001b[0m nns \u001b[38;5;241m=\u001b[39m \u001b[38;5;28;43mself\u001b[39;49m\u001b[38;5;241;43m.\u001b[39;49m\u001b[43mnn_k_\u001b[49m\u001b[38;5;241;43m.\u001b[39;49m\u001b[43mkneighbors\u001b[49m\u001b[43m(\u001b[49m\u001b[43mX_class\u001b[49m\u001b[43m,\u001b[49m\u001b[43m \u001b[49m\u001b[43mreturn_distance\u001b[49m\u001b[38;5;241;43m=\u001b[39;49m\u001b[38;5;28;43;01mFalse\u001b[39;49;00m\u001b[43m)\u001b[49m[:, \u001b[38;5;241m1\u001b[39m:]\n\u001b[1;32m    390\u001b[0m X_new, y_new \u001b[38;5;241m=\u001b[39m \u001b[38;5;28mself\u001b[39m\u001b[38;5;241m.\u001b[39m_make_samples(\n\u001b[1;32m    391\u001b[0m     X_class, y\u001b[38;5;241m.\u001b[39mdtype, class_sample, X_class, nns, n_samples, \u001b[38;5;241m1.0\u001b[39m\n\u001b[1;32m    392\u001b[0m )\n\u001b[1;32m    393\u001b[0m X_resampled\u001b[38;5;241m.\u001b[39mappend(X_new)\n",
      "File \u001b[0;32m~/Python/VENVS/jupyter310/lib/python3.10/site-packages/sklearn/neighbors/_base.py:834\u001b[0m, in \u001b[0;36mKNeighborsMixin.kneighbors\u001b[0;34m(self, X, n_neighbors, return_distance)\u001b[0m\n\u001b[1;32m    832\u001b[0m     \u001b[38;5;28;01melse\u001b[39;00m:\n\u001b[1;32m    833\u001b[0m         inequality_str \u001b[38;5;241m=\u001b[39m \u001b[38;5;124m\"\u001b[39m\u001b[38;5;124mn_neighbors <= n_samples_fit\u001b[39m\u001b[38;5;124m\"\u001b[39m\n\u001b[0;32m--> 834\u001b[0m     \u001b[38;5;28;01mraise\u001b[39;00m \u001b[38;5;167;01mValueError\u001b[39;00m(\n\u001b[1;32m    835\u001b[0m         \u001b[38;5;124mf\u001b[39m\u001b[38;5;124m\"\u001b[39m\u001b[38;5;124mExpected \u001b[39m\u001b[38;5;132;01m{\u001b[39;00minequality_str\u001b[38;5;132;01m}\u001b[39;00m\u001b[38;5;124m, but \u001b[39m\u001b[38;5;124m\"\u001b[39m\n\u001b[1;32m    836\u001b[0m         \u001b[38;5;124mf\u001b[39m\u001b[38;5;124m\"\u001b[39m\u001b[38;5;124mn_neighbors = \u001b[39m\u001b[38;5;132;01m{\u001b[39;00mn_neighbors\u001b[38;5;132;01m}\u001b[39;00m\u001b[38;5;124m, n_samples_fit = \u001b[39m\u001b[38;5;132;01m{\u001b[39;00mn_samples_fit\u001b[38;5;132;01m}\u001b[39;00m\u001b[38;5;124m, \u001b[39m\u001b[38;5;124m\"\u001b[39m\n\u001b[1;32m    837\u001b[0m         \u001b[38;5;124mf\u001b[39m\u001b[38;5;124m\"\u001b[39m\u001b[38;5;124mn_samples = \u001b[39m\u001b[38;5;132;01m{\u001b[39;00mX\u001b[38;5;241m.\u001b[39mshape[\u001b[38;5;241m0\u001b[39m]\u001b[38;5;132;01m}\u001b[39;00m\u001b[38;5;124m\"\u001b[39m  \u001b[38;5;66;03m# include n_samples for common tests\u001b[39;00m\n\u001b[1;32m    838\u001b[0m     )\n\u001b[1;32m    840\u001b[0m n_jobs \u001b[38;5;241m=\u001b[39m effective_n_jobs(\u001b[38;5;28mself\u001b[39m\u001b[38;5;241m.\u001b[39mn_jobs)\n\u001b[1;32m    841\u001b[0m chunked_results \u001b[38;5;241m=\u001b[39m \u001b[38;5;28;01mNone\u001b[39;00m\n",
      "\u001b[0;31mValueError\u001b[0m: Expected n_neighbors <= n_samples_fit, but n_neighbors = 64, n_samples_fit = 1, n_samples = 1"
     ]
    }
   ],
   "source": [
    "%%time\n",
    "model.run_pipeline(f'dashboard/results/{target}')"
   ]
  },
  {
   "cell_type": "code",
   "execution_count": 10,
   "id": "174e0c90-3049-48f9-add4-18cf683c244b",
   "metadata": {},
   "outputs": [
    {
     "name": "stdout",
     "output_type": "stream",
     "text": [
      "\u001b[1;32mINFO: Evaluating classification model...\u001b[0m\n",
      "\u001b[1;32mINFO: Classification evaluation completed.\u001b[0m\n"
     ]
    },
    {
     "data": {
      "text/html": [
       "<div>\n",
       "<style scoped>\n",
       "    .dataframe tbody tr th:only-of-type {\n",
       "        vertical-align: middle;\n",
       "    }\n",
       "\n",
       "    .dataframe tbody tr th {\n",
       "        vertical-align: top;\n",
       "    }\n",
       "\n",
       "    .dataframe thead th {\n",
       "        text-align: right;\n",
       "    }\n",
       "</style>\n",
       "<table border=\"1\" class=\"dataframe\">\n",
       "  <thead>\n",
       "    <tr style=\"text-align: right;\">\n",
       "      <th></th>\n",
       "      <th>Metric</th>\n",
       "      <th>Score</th>\n",
       "    </tr>\n",
       "  </thead>\n",
       "  <tbody>\n",
       "    <tr>\n",
       "      <th>0</th>\n",
       "      <td>Accuracy</td>\n",
       "      <td>0.677374</td>\n",
       "    </tr>\n",
       "    <tr>\n",
       "      <th>1</th>\n",
       "      <td>Precision</td>\n",
       "      <td>0.668487</td>\n",
       "    </tr>\n",
       "    <tr>\n",
       "      <th>2</th>\n",
       "      <td>Recall</td>\n",
       "      <td>0.677374</td>\n",
       "    </tr>\n",
       "    <tr>\n",
       "      <th>3</th>\n",
       "      <td>F1 Score</td>\n",
       "      <td>0.655246</td>\n",
       "    </tr>\n",
       "  </tbody>\n",
       "</table>\n",
       "</div>"
      ],
      "text/plain": [
       "      Metric     Score\n",
       "0   Accuracy  0.677374\n",
       "1  Precision  0.668487\n",
       "2     Recall  0.677374\n",
       "3   F1 Score  0.655246"
      ]
     },
     "execution_count": 10,
     "metadata": {},
     "output_type": "execute_result"
    }
   ],
   "source": [
    "model.evaluate_model()"
   ]
  },
  {
   "cell_type": "code",
   "execution_count": null,
   "id": "a8182697-346f-4c8f-ad4e-4afea9a40602",
   "metadata": {},
   "outputs": [],
   "source": []
  },
  {
   "cell_type": "code",
   "execution_count": null,
   "id": "5e209ae5-2236-4e4b-9ffa-102eb0ef54a2",
   "metadata": {},
   "outputs": [],
   "source": []
  },
  {
   "cell_type": "markdown",
   "id": "3b2e6f8b-ed59-4a5c-88b2-948487c0db69",
   "metadata": {},
   "source": [
    "# Automated"
   ]
  },
  {
   "cell_type": "code",
   "execution_count": 99,
   "id": "34934c3c-ffb5-4803-8898-3a0cdf85314d",
   "metadata": {},
   "outputs": [],
   "source": [
    "features_to_exclude = ['title', 'artist', 'mp3_path', 'lyrics']"
   ]
  },
  {
   "cell_type": "code",
   "execution_count": 100,
   "id": "639db852-ff7d-414b-83e7-0ef3b424543b",
   "metadata": {},
   "outputs": [],
   "source": [
    "features_to_predict = ['explicit',\n",
    "       'album_release_year', 'duration_ms',\n",
    "        'danceability', 'energy', 'key',\n",
    "       'loudness', 'mode', 'speechiness', 'acousticness', 'instrumentalness',\n",
    "       'liveness', 'valence', 'tempo', 'time_signature', 'tempo_extracted', 'zcr']"
   ]
  },
  {
   "cell_type": "code",
   "execution_count": 115,
   "id": "c6dacc2f-29c7-4633-9a7f-03848d0a7a12",
   "metadata": {},
   "outputs": [],
   "source": [
    "df['explicit'] = df['explicit'].map({True: 1, False: 0})"
   ]
  },
  {
   "cell_type": "code",
   "execution_count": 116,
   "id": "ef9cd409-a420-441b-9cfa-d9bff36fbe15",
   "metadata": {},
   "outputs": [
    {
     "data": {
      "application/vnd.jupyter.widget-view+json": {
       "model_id": "466ea86df67642b6aa1f6c3335079bc7",
       "version_major": 2,
       "version_minor": 0
      },
      "text/plain": [
       "  0%|          | 0/17 [00:00<?, ?it/s]"
      ]
     },
     "metadata": {},
     "output_type": "display_data"
    },
    {
     "name": "stdout",
     "output_type": "stream",
     "text": [
      "\u001b[1;32mINFO: Initializing pipeline for target variable: explicit\u001b[0m\n",
      "\u001b[1;32mINFO: Setting up the pipeline...\u001b[0m\n"
     ]
    },
    {
     "data": {
      "application/vnd.jupyter.widget-view+json": {
       "model_id": "dcf179120325486b9d388b0f527d3d51",
       "version_major": 2,
       "version_minor": 0
      },
      "text/plain": [
       "Pipeline Progress:   0%|          | 0/5 [00:00<?, ?step/s]"
      ]
     },
     "metadata": {},
     "output_type": "display_data"
    },
    {
     "name": "stdout",
     "output_type": "stream",
     "text": [
      "\u001b[1;32mINFO: Starting pipeline execution...\u001b[0m\n",
      "\u001b[1;32mINFO: Splitting the data into training and testing sets...\u001b[0m\n",
      "\u001b[1;32mINFO: Data splitting completed.\u001b[0m\n",
      "\u001b[1;32mINFO: Fixing class balance...\u001b[0m\n",
      "\u001b[1;32mINFO: Applied SMOTE with k_neighbors=5 to fix class imbalance.\u001b[0m\n",
      "\u001b[1;32mINFO: Model training completed.\u001b[0m\n",
      "\u001b[1;32mINFO: Evaluating classification model...\u001b[0m\n",
      "\u001b[1;32mINFO: Classification evaluation completed.\u001b[0m\n",
      "\u001b[1;32mINFO: Performing SHAP analysis for classification...\u001b[0m\n"
     ]
    },
    {
     "name": "stderr",
     "output_type": "stream",
     "text": [
      " 98%|===================| 2346/2400 [00:45<00:01]        "
     ]
    },
    {
     "name": "stdout",
     "output_type": "stream",
     "text": [
      "\u001b[1;32mINFO: SHAP analysis for classification completed.\u001b[0m\n",
      "\u001b[1;32mINFO: Saving results to dashboard/results/explicit...\u001b[0m\n",
      "\u001b[1;32mINFO: Evaluating classification model...\u001b[0m\n",
      "\u001b[1;32mINFO: Classification evaluation completed.\u001b[0m\n",
      "\u001b[1;32mINFO: Evaluation results saved to dashboard/results/explicit/evaluation_results.csv\u001b[0m\n",
      "\u001b[1;32mINFO: SHAP summary plot saved to dashboard/results/explicit/shap_summary_plot.png\u001b[0m\n",
      "\u001b[1;32mINFO: SHAP beeswarm plot saved to dashboard/results/explicit/shap_beeswarm_plot.png\u001b[0m\n",
      "\u001b[1;32mINFO: Pipeline execution completed.\u001b[0m\n",
      "\u001b[1;32mINFO: Initializing pipeline for target variable: album_release_year\u001b[0m\n",
      "\u001b[1;32mINFO: Setting up the pipeline...\u001b[0m\n"
     ]
    },
    {
     "data": {
      "application/vnd.jupyter.widget-view+json": {
       "model_id": "f878b126d92049c79f348d69f2315798",
       "version_major": 2,
       "version_minor": 0
      },
      "text/plain": [
       "Pipeline Progress:   0%|          | 0/5 [00:00<?, ?step/s]"
      ]
     },
     "metadata": {},
     "output_type": "display_data"
    },
    {
     "name": "stdout",
     "output_type": "stream",
     "text": [
      "\u001b[1;32mINFO: Starting pipeline execution...\u001b[0m\n",
      "\u001b[1;32mINFO: Splitting the data into training and testing sets...\u001b[0m\n",
      "\u001b[1;32mINFO: Data splitting completed.\u001b[0m\n",
      "\u001b[1;32mINFO: Training the model...\u001b[0m\n",
      "\u001b[1;32mINFO: Model training completed.\u001b[0m\n",
      "\u001b[1;32mINFO: Evaluating regression model...\u001b[0m\n",
      "\u001b[1;32mINFO: Regression evaluation completed.\u001b[0m\n",
      "\u001b[1;32mINFO: Performing SHAP analysis for regression...\u001b[0m\n"
     ]
    },
    {
     "name": "stderr",
     "output_type": "stream",
     "text": [
      "100%|===================| 1198/1200 [01:00<00:00]        "
     ]
    },
    {
     "name": "stdout",
     "output_type": "stream",
     "text": [
      "\u001b[1;32mINFO: SHAP analysis for regression completed.\u001b[0m\n",
      "\u001b[1;32mINFO: Saving results to dashboard/results/album_release_year...\u001b[0m\n",
      "\u001b[1;32mINFO: Evaluating regression model...\u001b[0m\n",
      "\u001b[1;32mINFO: Regression evaluation completed.\u001b[0m\n",
      "\u001b[1;32mINFO: Evaluation results saved to dashboard/results/album_release_year/evaluation_results.csv\u001b[0m\n",
      "\u001b[1;32mINFO: SHAP summary plot saved to dashboard/results/album_release_year/shap_summary_plot.png\u001b[0m\n",
      "\u001b[1;32mINFO: SHAP beeswarm plot saved to dashboard/results/album_release_year/shap_beeswarm_plot.png\u001b[0m\n",
      "\u001b[1;32mINFO: Pipeline execution completed.\u001b[0m\n",
      "\u001b[1;32mINFO: Initializing pipeline for target variable: duration_ms\u001b[0m\n",
      "\u001b[1;32mINFO: Setting up the pipeline...\u001b[0m\n"
     ]
    },
    {
     "data": {
      "application/vnd.jupyter.widget-view+json": {
       "model_id": "e388ad307e4046418037bfac635f82c5",
       "version_major": 2,
       "version_minor": 0
      },
      "text/plain": [
       "Pipeline Progress:   0%|          | 0/5 [00:00<?, ?step/s]"
      ]
     },
     "metadata": {},
     "output_type": "display_data"
    },
    {
     "name": "stdout",
     "output_type": "stream",
     "text": [
      "\u001b[1;32mINFO: Starting pipeline execution...\u001b[0m\n",
      "\u001b[1;32mINFO: Splitting the data into training and testing sets...\u001b[0m\n",
      "\u001b[1;32mINFO: Data splitting completed.\u001b[0m\n",
      "\u001b[1;32mINFO: Training the model...\u001b[0m\n",
      "\u001b[1;32mINFO: Model training completed.\u001b[0m\n",
      "\u001b[1;32mINFO: Evaluating regression model...\u001b[0m\n",
      "\u001b[1;32mINFO: Regression evaluation completed.\u001b[0m\n",
      "\u001b[1;32mINFO: Performing SHAP analysis for regression...\u001b[0m\n"
     ]
    },
    {
     "name": "stderr",
     "output_type": "stream",
     "text": [
      " 99%|===================| 1187/1200 [01:18<00:00]        "
     ]
    },
    {
     "name": "stdout",
     "output_type": "stream",
     "text": [
      "\u001b[1;32mINFO: SHAP analysis for regression completed.\u001b[0m\n",
      "\u001b[1;32mINFO: Saving results to dashboard/results/duration_ms...\u001b[0m\n",
      "\u001b[1;32mINFO: Evaluating regression model...\u001b[0m\n",
      "\u001b[1;32mINFO: Regression evaluation completed.\u001b[0m\n",
      "\u001b[1;32mINFO: Evaluation results saved to dashboard/results/duration_ms/evaluation_results.csv\u001b[0m\n",
      "\u001b[1;32mINFO: SHAP summary plot saved to dashboard/results/duration_ms/shap_summary_plot.png\u001b[0m\n",
      "\u001b[1;32mINFO: SHAP beeswarm plot saved to dashboard/results/duration_ms/shap_beeswarm_plot.png\u001b[0m\n",
      "\u001b[1;32mINFO: Pipeline execution completed.\u001b[0m\n"
     ]
    }
   ],
   "source": [
    "for target in tqdm(features_to_predict):\n",
    "    if os.path.exists(f\"dashboard/results/{target}\"):\n",
    "        continue\n",
    "    cat_features = [ f for f in df.select_dtypes(include=['category']).columns if f != target and f not in features_to_exclude]\n",
    "    num_features = [ f for f in df.select_dtypes(include=['number']).columns if f != target and f not in features_to_exclude]\n",
    "\n",
    "    if is_numeric_dtype(df[target]):\n",
    "        model = RegressionPipeline(df, target_column=target, num_features=num_features, cat_features=cat_features)\n",
    "    else:\n",
    "        model = ClassificationPipeline(df, target_column=target, num_features=num_features, cat_features=cat_features)\n",
    "        \n",
    "    model.run_pipeline(f'dashboard/results/{target}')"
   ]
  },
  {
   "cell_type": "code",
   "execution_count": null,
   "id": "988f1408-da11-4a38-a5bf-8996c6609a7e",
   "metadata": {},
   "outputs": [],
   "source": []
  }
 ],
 "metadata": {
  "kernelspec": {
   "display_name": "Python 3 (ipykernel)",
   "language": "python",
   "name": "python3"
  },
  "language_info": {
   "codemirror_mode": {
    "name": "ipython",
    "version": 3
   },
   "file_extension": ".py",
   "mimetype": "text/x-python",
   "name": "python",
   "nbconvert_exporter": "python",
   "pygments_lexer": "ipython3",
   "version": "3.10.12"
  }
 },
 "nbformat": 4,
 "nbformat_minor": 5
}
