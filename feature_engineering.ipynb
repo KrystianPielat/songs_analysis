{
 "cells": [
  {
   "cell_type": "code",
   "execution_count": 1,
   "id": "3aac368b-0904-4021-afa9-e5c9d9202bb0",
   "metadata": {},
   "outputs": [],
   "source": [
    "%load_ext autoreload\n",
    "%autoreload 2\n",
    "    \n",
    "from classes.song import Song\n",
    "from classes.playlist import Playlist\n",
    "from classes.spotify_manager import SpotifyManager\n",
    "from classes.lyrics_manager import LyricsManager\n",
    "from dotenv import load_dotenv\n",
    "from classes.utils import gather_data_from_folders\n",
    "import pandas as pd\n",
    "import os\n",
    "import seaborn as sns\n",
    "from classes.text_features import TextFeatureExtractor, TfidfFeatureExtractor\n",
    "from classes.audio_features import AudioFeatureExtractor\n",
    "from classes.utils import find_songs_to_drop, clean_songs_to_drop\n",
    "from classes.feature_processor import FeatureProcessor\n",
    "from classes.constants import GENRE_MAPPING\n",
    "from classes.utils import reduce_genres_with_regex\n",
    "load_dotenv();"
   ]
  },
  {
   "cell_type": "markdown",
   "id": "f553cf19-b381-4ee4-9ed2-9ad32c44db43",
   "metadata": {},
   "source": [
    "# Loading the data"
   ]
  },
  {
   "cell_type": "code",
   "execution_count": 10,
   "id": "739719b1-3fc5-4cf2-9d7f-e6351fb5d513",
   "metadata": {},
   "outputs": [
    {
     "name": "stdout",
     "output_type": "stream",
     "text": [
      "\u001b[1;32mINFO: Loading CSV file: /home/krystian/Python/Jupyter-projects/thesis/songs_analysis/playlists/Best Of Global Hip-Hop 2024/Best Of Global Hip-Hop 2024.csv\u001b[0m\n",
      "\u001b[1;32mINFO: Loading CSV file: /home/krystian/Python/Jupyter-projects/thesis/songs_analysis/playlists/HOUSE MIX 2024 🔥 HOUSE PARTY 2024 🔥HOUSE MUSIC 2024 🔥/HOUSE MIX 2024 🔥 HOUSE PARTY 2024 🔥HOUSE MUSIC 2024 🔥.csv\u001b[0m\n",
      "\u001b[1;32mINFO: Loading CSV file: /home/krystian/Python/Jupyter-projects/thesis/songs_analysis/playlists/✨LATINO✨/✨LATINO✨.csv\u001b[0m\n",
      "\u001b[1;32mINFO: Loading CSV file: /home/krystian/Python/Jupyter-projects/thesis/songs_analysis/playlists/final download 1/final download 1.csv\u001b[0m\n",
      "\u001b[1;32mINFO: Loading CSV file: /home/krystian/Python/Jupyter-projects/thesis/songs_analysis/playlists/60s-70s Mix/60s-70s Mix.csv\u001b[0m\n",
      "\u001b[1;32mINFO: Loading CSV file: /home/krystian/Python/Jupyter-projects/thesis/songs_analysis/playlists/Soul Jazz Mix/Soul Jazz Mix.csv\u001b[0m\n",
      "\u001b[1;32mINFO: Loading CSV file: /home/krystian/Python/Jupyter-projects/thesis/songs_analysis/playlists/Alternative Mix/Alternative Mix.csv\u001b[0m\n",
      "\u001b[1;32mINFO: Loading CSV file: /home/krystian/Python/Jupyter-projects/thesis/songs_analysis/playlists/Reggae Mix/Reggae Mix.csv\u001b[0m\n",
      "\u001b[1;32mINFO: Loading CSV file: /home/krystian/Python/Jupyter-projects/thesis/songs_analysis/playlists/Best reggae mix ever - Summer 2024/Best reggae mix ever - Summer 2024.csv\u001b[0m\n",
      "\u001b[1;32mINFO: Loading CSV file: /home/krystian/Python/Jupyter-projects/thesis/songs_analysis/playlists/Best country songs (greatest hits)/Best country songs (greatest hits).csv\u001b[0m\n",
      "\u001b[1;32mINFO: Loading CSV file: /home/krystian/Python/Jupyter-projects/thesis/songs_analysis/playlists/Metal Mix/Metal Mix.csv\u001b[0m\n",
      "\u001b[1;32mINFO: Loading CSV file: /home/krystian/Python/Jupyter-projects/thesis/songs_analysis/playlists/Rap Mix/Rap Mix.csv\u001b[0m\n",
      "\u001b[1;32mINFO: Loading CSV file: /home/krystian/Python/Jupyter-projects/thesis/songs_analysis/playlists/How Long/How Long.csv\u001b[0m\n",
      "\u001b[1;32mINFO: Loading CSV file: /home/krystian/Python/Jupyter-projects/thesis/songs_analysis/playlists/Jazz Mix/Jazz Mix.csv\u001b[0m\n",
      "\u001b[1;32mINFO: Loading CSV file: /home/krystian/Python/Jupyter-projects/thesis/songs_analysis/playlists/uu/uu.csv\u001b[0m\n",
      "\u001b[1;32mINFO: Loading CSV file: /home/krystian/Python/Jupyter-projects/thesis/songs_analysis/playlists/Latin Mix/Latin Mix.csv\u001b[0m\n",
      "\u001b[1;32mINFO: Loading CSV file: /home/krystian/Python/Jupyter-projects/thesis/songs_analysis/playlists/Latin Hit Mix/Latin Hit Mix.csv\u001b[0m\n",
      "\u001b[1;32mINFO: Loading CSV file: /home/krystian/Python/Jupyter-projects/thesis/songs_analysis/playlists/Every song in the world 🌍 /Every song in the world 🌍 .csv\u001b[0m\n",
      "\u001b[1;32mINFO: Loading CSV file: /home/krystian/Python/Jupyter-projects/thesis/songs_analysis/playlists/Changes/Changes.csv\u001b[0m\n",
      "\u001b[1;32mINFO: Loading CSV file: /home/krystian/Python/Jupyter-projects/thesis/songs_analysis/playlists/All Out 60s/All Out 60s.csv\u001b[0m\n",
      "\u001b[1;32mINFO: Loading CSV file: /home/krystian/Python/Jupyter-projects/thesis/songs_analysis/playlists/Skinny Love/Skinny Love.csv\u001b[0m\n",
      "\u001b[1;32mINFO: Loading CSV file: /home/krystian/Python/Jupyter-projects/thesis/songs_analysis/playlists/final download 2/final download 2.csv\u001b[0m\n"
     ]
    }
   ],
   "source": [
    "playlists_dir = 'audio_sentiment_classifier/playlists'\n",
    "playlists_dir = os.path.join(\"/\".join(os.path.abspath(os.path.realpath(__name__)).split(\"/\")[:-1]), \"playlists\")\n",
    "df = gather_data_from_folders(playlists_dir)"
   ]
  },
  {
   "cell_type": "code",
   "execution_count": 11,
   "id": "fb744daa-05ac-4925-a908-c94a63ea2da9",
   "metadata": {},
   "outputs": [
    {
     "data": {
      "text/plain": [
       "(6116, 24)"
      ]
     },
     "execution_count": 11,
     "metadata": {},
     "output_type": "execute_result"
    }
   ],
   "source": [
    "df.shape"
   ]
  },
  {
   "cell_type": "code",
   "execution_count": 12,
   "id": "6d670c29-f85a-40eb-b69f-97251f8d18aa",
   "metadata": {},
   "outputs": [
    {
     "data": {
      "text/plain": [
       "id                      0\n",
       "title                   0\n",
       "artist                  0\n",
       "album_art_url           0\n",
       "popularity            575\n",
       "explicit                0\n",
       "album_release_year      0\n",
       "duration_ms             0\n",
       "genres                  0\n",
       "lyrics                  0\n",
       "mp3_path                0\n",
       "csv_path                0\n",
       "danceability            0\n",
       "energy                  0\n",
       "key                     0\n",
       "loudness                0\n",
       "mode                    0\n",
       "speechiness             0\n",
       "acousticness            0\n",
       "instrumentalness        0\n",
       "liveness                0\n",
       "valence                 0\n",
       "tempo                   0\n",
       "time_signature          0\n",
       "dtype: int64"
      ]
     },
     "execution_count": 12,
     "metadata": {},
     "output_type": "execute_result"
    }
   ],
   "source": [
    "df.isna().sum()"
   ]
  },
  {
   "cell_type": "markdown",
   "id": "5272ac43-9b6b-468c-baee-a7210bcc7604",
   "metadata": {},
   "source": [
    "# Getting rid of unusable songs"
   ]
  },
  {
   "cell_type": "code",
   "execution_count": 13,
   "id": "7e13c4d5-fd25-4efb-998b-a6650b39e58f",
   "metadata": {},
   "outputs": [],
   "source": [
    "df_songs_to_drop = find_songs_to_drop(df, allow_nan_cols=['popularity'])"
   ]
  },
  {
   "cell_type": "code",
   "execution_count": 14,
   "id": "a843deb6-3cd6-4cbb-a4d8-05dd72d73a1f",
   "metadata": {},
   "outputs": [
    {
     "name": "stdout",
     "output_type": "stream",
     "text": [
      "Songs that will be dropped:  0\n"
     ]
    }
   ],
   "source": [
    "print(\"Songs that will be dropped: \", len(df_songs_to_drop))"
   ]
  },
  {
   "cell_type": "code",
   "execution_count": 15,
   "id": "5e86bc32-f971-49a7-9f1f-85a3a420ea31",
   "metadata": {},
   "outputs": [],
   "source": [
    "clean_songs_to_drop(df_songs_to_drop)"
   ]
  },
  {
   "cell_type": "markdown",
   "id": "1825808f-0f95-4e18-a006-7bcfe18da392",
   "metadata": {},
   "source": [
    "---"
   ]
  },
  {
   "cell_type": "markdown",
   "id": "6571e8e0-a62b-4fc1-8ace-4cf09cda7714",
   "metadata": {},
   "source": [
    "# Adding audio features"
   ]
  },
  {
   "cell_type": "code",
   "execution_count": 18,
   "id": "59318311-17bd-41fb-9c4c-aa3c2d29a20f",
   "metadata": {},
   "outputs": [],
   "source": [
    "df = df.sample(2)"
   ]
  },
  {
   "cell_type": "code",
   "execution_count": 21,
   "id": "ca1e34f4-3b8b-4422-b058-97b5ae10ce52",
   "metadata": {},
   "outputs": [
    {
     "data": {
      "application/vnd.jupyter.widget-view+json": {
       "model_id": "4b0ccbdc55d842fdbe037b05cb981291",
       "version_major": 2,
       "version_minor": 0
      },
      "text/plain": [
       "Extracting Audio Features:   0%|          | 0/2 [00:00<?, ?file/s]"
      ]
     },
     "metadata": {},
     "output_type": "display_data"
    }
   ],
   "source": [
    "afe = AudioFeatureExtractor()\n",
    "df = afe.add_features(df)"
   ]
  },
  {
   "cell_type": "code",
   "execution_count": 22,
   "id": "f8520135-adf9-47b5-9d5a-b72dca0f86a5",
   "metadata": {},
   "outputs": [
    {
     "data": {
      "text/plain": [
       "Index(['id', 'title', 'artist', 'album_art_url', 'popularity', 'explicit',\n",
       "       'album_release_year', 'duration_ms', 'genres', 'lyrics', 'mp3_path',\n",
       "       'csv_path', 'danceability', 'energy', 'key', 'loudness', 'mode',\n",
       "       'speechiness', 'acousticness', 'instrumentalness', 'liveness',\n",
       "       'valence', 'tempo', 'time_signature', 'genre', 'mfcc_1', 'mfcc_2',\n",
       "       'mfcc_3', 'mfcc_4', 'mfcc_5', 'mfcc_6', 'mfcc_7', 'mfcc_8', 'mfcc_9',\n",
       "       'mfcc_10', 'mfcc_11', 'mfcc_12', 'mfcc_13', 'chroma_1', 'chroma_2',\n",
       "       'chroma_3', 'chroma_4', 'chroma_5', 'chroma_6', 'chroma_7', 'chroma_8',\n",
       "       'chroma_9', 'chroma_10', 'chroma_11', 'chroma_12',\n",
       "       'spectral_contrast_1', 'spectral_contrast_2', 'spectral_contrast_3',\n",
       "       'spectral_contrast_4', 'spectral_contrast_5', 'spectral_contrast_6',\n",
       "       'spectral_contrast_7', 'tempo_extracted', 'zcr'],\n",
       "      dtype='object')"
      ]
     },
     "execution_count": 22,
     "metadata": {},
     "output_type": "execute_result"
    }
   ],
   "source": [
    "df.columns"
   ]
  },
  {
   "cell_type": "markdown",
   "id": "24b5100c-937d-4110-be02-703058e17164",
   "metadata": {},
   "source": [
    "# Adding textual features"
   ]
  },
  {
   "cell_type": "code",
   "execution_count": 23,
   "id": "3ebea00b-8133-4356-b7c7-3240cbfc32a0",
   "metadata": {},
   "outputs": [],
   "source": [
    "df['lyrics'] = df.lyrics.apply(lambda x: TextFeatureExtractor.preprocess_text(x))"
   ]
  },
  {
   "cell_type": "code",
   "execution_count": 24,
   "id": "1a03b516-cbd2-4c23-a967-0d2485b85603",
   "metadata": {},
   "outputs": [],
   "source": [
    "tfe = TextFeatureExtractor()\n",
    "df = tfe.add_features(df)"
   ]
  },
  {
   "cell_type": "code",
   "execution_count": 25,
   "id": "db88252c-3443-44d5-b5fc-a2d2d58a85de",
   "metadata": {},
   "outputs": [
    {
     "data": {
      "text/plain": [
       "Index(['id', 'title', 'artist', 'album_art_url', 'popularity', 'explicit',\n",
       "       'album_release_year', 'duration_ms', 'genres', 'lyrics', 'mp3_path',\n",
       "       'csv_path', 'danceability', 'energy', 'key', 'loudness', 'mode',\n",
       "       'speechiness', 'acousticness', 'instrumentalness', 'liveness',\n",
       "       'valence', 'tempo', 'time_signature', 'genre', 'mfcc_1', 'mfcc_2',\n",
       "       'mfcc_3', 'mfcc_4', 'mfcc_5', 'mfcc_6', 'mfcc_7', 'mfcc_8', 'mfcc_9',\n",
       "       'mfcc_10', 'mfcc_11', 'mfcc_12', 'mfcc_13', 'chroma_1', 'chroma_2',\n",
       "       'chroma_3', 'chroma_4', 'chroma_5', 'chroma_6', 'chroma_7', 'chroma_8',\n",
       "       'chroma_9', 'chroma_10', 'chroma_11', 'chroma_12',\n",
       "       'spectral_contrast_1', 'spectral_contrast_2', 'spectral_contrast_3',\n",
       "       'spectral_contrast_4', 'spectral_contrast_5', 'spectral_contrast_6',\n",
       "       'spectral_contrast_7', 'tempo_extracted', 'zcr', 'word_count',\n",
       "       'unique_word_count', 'lexical_richness', 'semantic_depth',\n",
       "       'syntactic_complexity', 'rhyme_density', 'sentiment_variability',\n",
       "       'linguistic_uniqueness', 'flesch_reading_ease', 'gunning_fog',\n",
       "       'dale_chall', 'vader_compound', 'noun_ratio', 'verb_ratio', 'language',\n",
       "       'sentiment_polarity', 'sentiment_subjectivity', 'type_token_ratio',\n",
       "       'repetition_count'],\n",
       "      dtype='object')"
      ]
     },
     "execution_count": 25,
     "metadata": {},
     "output_type": "execute_result"
    }
   ],
   "source": [
    "df.columns"
   ]
  },
  {
   "cell_type": "code",
   "execution_count": 26,
   "id": "6098f1d2-d0fb-40eb-b63f-b255baa0c7b5",
   "metadata": {},
   "outputs": [
    {
     "data": {
      "text/plain": [
       "electronic    1\n",
       "pop           1\n",
       "Name: genre, dtype: int64"
      ]
     },
     "execution_count": 26,
     "metadata": {},
     "output_type": "execute_result"
    }
   ],
   "source": [
    "df['genre'] = df['genres'].apply(lambda x: reduce_genres_with_regex(eval(x), GENRE_MAPPING))\n",
    "df['genre'].value_counts()"
   ]
  },
  {
   "cell_type": "code",
   "execution_count": 27,
   "id": "5cb2f7ac-2e66-43ca-85f3-df984445a14d",
   "metadata": {},
   "outputs": [],
   "source": [
    "incorrect_genre_songs = df[(df.genre.isna()) | (df.genre == 'None')]"
   ]
  },
  {
   "cell_type": "code",
   "execution_count": 28,
   "id": "b6e62cf9-45a6-485f-8659-6c6cb87937b9",
   "metadata": {},
   "outputs": [
    {
     "name": "stdout",
     "output_type": "stream",
     "text": [
      "0 songs have incorrect genre and will be dropped\n"
     ]
    }
   ],
   "source": [
    "print(\"{} songs have incorrect genre and will be dropped\".format(incorrect_genre_songs.shape[0]))\n",
    "df = df[~df.id.isin(incorrect_genre_songs.id)]"
   ]
  },
  {
   "cell_type": "markdown",
   "id": "45aedfe4-f101-4055-9a1a-55731fa62078",
   "metadata": {},
   "source": [
    "# TF-IDF"
   ]
  },
  {
   "cell_type": "code",
   "execution_count": 30,
   "id": "f0444f6e-52a5-4925-bf44-01ca1c169be6",
   "metadata": {},
   "outputs": [],
   "source": [
    "tfidffe = TfidfFeatureExtractor(n_pca_components=100)\n",
    "df = tfidffe.add_features(df)"
   ]
  },
  {
   "cell_type": "code",
   "execution_count": 31,
   "id": "d1a1e988-11f0-4eb1-bda3-e9d030edf28c",
   "metadata": {},
   "outputs": [
    {
     "data": {
      "text/plain": [
       "Index(['id', 'title', 'artist', 'album_art_url', 'popularity', 'explicit',\n",
       "       'album_release_year', 'duration_ms', 'genres', 'lyrics', 'mp3_path',\n",
       "       'csv_path', 'danceability', 'energy', 'key', 'loudness', 'mode',\n",
       "       'speechiness', 'acousticness', 'instrumentalness', 'liveness',\n",
       "       'valence', 'tempo', 'time_signature', 'genre', 'mfcc_1', 'mfcc_2',\n",
       "       'mfcc_3', 'mfcc_4', 'mfcc_5', 'mfcc_6', 'mfcc_7', 'mfcc_8', 'mfcc_9',\n",
       "       'mfcc_10', 'mfcc_11', 'mfcc_12', 'mfcc_13', 'chroma_1', 'chroma_2',\n",
       "       'chroma_3', 'chroma_4', 'chroma_5', 'chroma_6', 'chroma_7', 'chroma_8',\n",
       "       'chroma_9', 'chroma_10', 'chroma_11', 'chroma_12',\n",
       "       'spectral_contrast_1', 'spectral_contrast_2', 'spectral_contrast_3',\n",
       "       'spectral_contrast_4', 'spectral_contrast_5', 'spectral_contrast_6',\n",
       "       'spectral_contrast_7', 'tempo_extracted', 'zcr', 'word_count',\n",
       "       'unique_word_count', 'lexical_richness', 'semantic_depth',\n",
       "       'syntactic_complexity', 'rhyme_density', 'sentiment_variability',\n",
       "       'linguistic_uniqueness', 'flesch_reading_ease', 'gunning_fog',\n",
       "       'dale_chall', 'vader_compound', 'noun_ratio', 'verb_ratio', 'language',\n",
       "       'sentiment_polarity', 'sentiment_subjectivity', 'type_token_ratio',\n",
       "       'repetition_count', 'tfidf_0', 'tfidf_1'],\n",
       "      dtype='object')"
      ]
     },
     "execution_count": 31,
     "metadata": {},
     "output_type": "execute_result"
    }
   ],
   "source": [
    "df.columns"
   ]
  },
  {
   "cell_type": "markdown",
   "id": "2959b0da-a4a6-4c8d-9c05-1da2e425e2ba",
   "metadata": {},
   "source": [
    "# Cleaning"
   ]
  },
  {
   "cell_type": "code",
   "execution_count": 32,
   "id": "34d4844c-7a8b-4169-b85c-d59e0f75efc2",
   "metadata": {},
   "outputs": [],
   "source": [
    "# Fixing the dtypes\n",
    "cast_to_int_columns = ['duration_ms', 'album_release_year', 'key', 'mode', 'time_signature', 'explicit']\n",
    "df[cast_to_int_columns] = df[cast_to_int_columns].astype(int)\n",
    "\n",
    "cast_to_category_columns = ['key', 'mode', 'time_signature', 'explicit', 'language', 'genre']\n",
    "df[cast_to_category_columns] = df[cast_to_category_columns].astype(str).astype('category')"
   ]
  },
  {
   "cell_type": "code",
   "execution_count": null,
   "id": "89a705dd-5f96-4d36-b3fe-620e7e7a2b3e",
   "metadata": {},
   "outputs": [],
   "source": []
  }
 ],
 "metadata": {
  "kernelspec": {
   "display_name": "Python 3 (ipykernel)",
   "language": "python",
   "name": "python3"
  },
  "language_info": {
   "codemirror_mode": {
    "name": "ipython",
    "version": 3
   },
   "file_extension": ".py",
   "mimetype": "text/x-python",
   "name": "python",
   "nbconvert_exporter": "python",
   "pygments_lexer": "ipython3",
   "version": "3.10.12"
  }
 },
 "nbformat": 4,
 "nbformat_minor": 5
}
