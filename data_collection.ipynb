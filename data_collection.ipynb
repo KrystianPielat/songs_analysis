{
 "cells": [
  {
   "cell_type": "code",
   "execution_count": 4,
   "id": "3aac368b-0904-4021-afa9-e5c9d9202bb0",
   "metadata": {},
   "outputs": [
    {
     "name": "stdout",
     "output_type": "stream",
     "text": [
      "The autoreload extension is already loaded. To reload it, use:\n",
      "  %reload_ext autoreload\n"
     ]
    }
   ],
   "source": [
    "%load_ext autoreload\n",
    "%autoreload 2\n",
    "    \n",
    "from classes.song import Song\n",
    "from classes.playlist import Playlist\n",
    "from classes.spotify_manager import SpotifyManager\n",
    "from classes.lyrics_manager import LyricsManager\n",
    "from dotenv import load_dotenv\n",
    "from classes.utils import gather_data_from_folders\n",
    "import pandas as pd\n",
    "import os\n",
    "import seaborn as sns\n",
    "\n",
    "load_dotenv();"
   ]
  },
  {
   "cell_type": "code",
   "execution_count": 5,
   "id": "eb84bde8-9087-4b70-a41a-40144d6f33a0",
   "metadata": {},
   "outputs": [],
   "source": [
    "URIS_TO_DOWNLOAD = {\n",
    "    # 'final_download_1_uri': '5yMkxmCpYEinULq68rAj53',\n",
    "    # 'final_download_2_uri': '7zhbpv3MIAermGw2SJ3wMm',\n",
    "    # 'all_songs_in_the_world': '1RDk6T6DZNnYvBaBZQ3eWh'\n",
    "    # 'test': '5SsbsW06wS6UAQQzq71nZv'\n",
    "    # 'skinny_love': '5SsbsW06wS6UAQQzq71nZv'\n",
    "    \"multigenre\": '1DBhioGgpTizaQDiHOV30u'\n",
    "}"
   ]
  },
  {
   "cell_type": "code",
   "execution_count": 6,
   "id": "29d99280-7203-4dd3-92d6-c3ae9e56d934",
   "metadata": {},
   "outputs": [
    {
     "name": "stdout",
     "output_type": "stream",
     "text": [
      "Processing multigenre...\n",
      "\u001b[1;32mINFO: Found playlist: Multigenre with 399 tracks.\u001b[0m\n"
     ]
    },
    {
     "data": {
      "application/vnd.jupyter.widget-view+json": {
       "model_id": "48352c8fabe542a1b407f955a3b3b098",
       "version_major": 2,
       "version_minor": 0
      },
      "text/plain": [
       "Fetching songs info:   0%|          | 0/399 [00:00<?, ?song/s]"
      ]
     },
     "metadata": {},
     "output_type": "display_data"
    },
    {
     "name": "stderr",
     "output_type": "stream",
     "text": [
      "\u001b[1;33mWARNING: Skipping track due to missing or malformed data: {'album': {'album_type': None, 'available_markets': [], 'external_urls': {}, 'href': None, 'id': None, 'images': [], 'name': '', 'release_date': None, 'release_date_precision': None, 'type': 'album', 'uri': None, 'artists': []}, 'artists': [{'external_urls': {}, 'href': None, 'id': None, 'name': '', 'type': 'artist', 'uri': None}], 'available_markets': [], 'explicit': False, 'preview_url': None, 'type': 'track', 'disc_number': 0, 'external_ids': {}, 'external_urls': {}, 'href': None, 'id': None, 'duration_ms': 171000, 'name': 'Zara Larsson - Uncover (Afterfab Remix)', 'uri': 'spotify:local:::Zara+Larsson+-+Uncover+%28Afterfab+Remix%29:171', 'popularity': 0, 'track_number': 0, 'is_local': True}\u001b[0m\n"
     ]
    },
    {
     "data": {
      "application/vnd.jupyter.widget-view+json": {
       "model_id": "3fa4e09a12d84c2c9a1231a706bb82f6",
       "version_major": 2,
       "version_minor": 0
      },
      "text/plain": [
       "Processing Songs:   0%|          | 0/398 [00:00<?, ?song/s]"
      ]
     },
     "metadata": {},
     "output_type": "display_data"
    },
    {
     "name": "stdout",
     "output_type": "stream",
     "text": [
      "\u001b[1;32mINFO: Fetched Spotify audio features for prism by kdrew\u001b[0m\n"
     ]
    },
    {
     "name": "stderr",
     "output_type": "stream",
     "text": [
      "\u001b[1;33mWARNING: Lyrics not found for 'prism' by kdrew using all available providers.\u001b[0m\n"
     ]
    },
    {
     "name": "stdout",
     "output_type": "stream",
     "text": [
      "\u001b[1;32mINFO: Lyrics not found for song: prism by kdrew. Skipping...\u001b[0m\n",
      "\u001b[1;32mINFO: Fetched Spotify audio features for evil like me by hex cougar\u001b[0m\n",
      "\u001b[1;32mINFO: Downloaded song: evil like me\u001b[0m           \n",
      "\u001b[1;32mINFO: Completed processing for song: evil like me by hex cougar\u001b[0m\n",
      "\u001b[1;32mINFO: Fetched Spotify audio features for sometimes by kdrew\u001b[0m\n"
     ]
    },
    {
     "name": "stderr",
     "output_type": "stream",
     "text": [
      "\u001b[1;33mWARNING: Lyrics not found for 'sometimes' by kdrew using all available providers.\u001b[0m\n"
     ]
    },
    {
     "name": "stdout",
     "output_type": "stream",
     "text": [
      "\u001b[1;32mINFO: Lyrics not found for song: sometimes by kdrew. Skipping...\u001b[0m\n",
      "\u001b[1;32mINFO: Fetched Spotify audio features for love is a miracle by jinco\u001b[0m\n",
      "\u001b[1;32mINFO: Downloaded song: love is a miracle\u001b[0m      \n",
      "\u001b[1;32mINFO: Completed processing for song: love is a miracle by jinco\u001b[0m\n",
      "\u001b[1;32mINFO: Fetched Spotify audio features for quon by dj noriken\u001b[0m\n"
     ]
    },
    {
     "name": "stderr",
     "output_type": "stream",
     "text": [
      "\u001b[1;33mWARNING: Lyrics not found for 'quon' by dj noriken using all available providers.\u001b[0m\n"
     ]
    },
    {
     "name": "stdout",
     "output_type": "stream",
     "text": [
      "\u001b[1;32mINFO: Lyrics not found for song: quon by dj noriken. Skipping...\u001b[0m\n",
      "\u001b[1;32mINFO: Fetched Spotify audio features for fever dream by rival\u001b[0m\n"
     ]
    },
    {
     "name": "stderr",
     "output_type": "stream",
     "text": [
      "\u001b[1;33mWARNING: Lyrics not found for 'fever dream' by rival using all available providers.\u001b[0m\n"
     ]
    },
    {
     "name": "stdout",
     "output_type": "stream",
     "text": [
      "\u001b[1;32mINFO: Lyrics not found for song: fever dream by rival. Skipping...\u001b[0m\n",
      "\u001b[1;32mINFO: Fetched Spotify audio features for take flight vip by sullivan king\u001b[0m\n",
      "\u001b[1;32mINFO: Downloaded song: take flight vip\u001b[0m        \n",
      "\u001b[1;32mINFO: Completed processing for song: take flight vip by sullivan king\u001b[0m\n",
      "\u001b[1;32mINFO: Fetched Spotify audio features for möbius by usao\u001b[0m\n"
     ]
    },
    {
     "name": "stderr",
     "output_type": "stream",
     "text": [
      "\u001b[1;33mWARNING: Lyrics not found for 'möbius' by usao using all available providers.\u001b[0m\n"
     ]
    },
    {
     "name": "stdout",
     "output_type": "stream",
     "text": [
      "\u001b[1;32mINFO: Lyrics not found for song: möbius by usao. Skipping...\u001b[0m\n",
      "\u001b[1;32mINFO: Fetched Spotify audio features for metaverse by nanoo\u001b[0m\n"
     ]
    },
    {
     "name": "stderr",
     "output_type": "stream",
     "text": [
      "\u001b[1;33mWARNING: Lyrics not found for 'metaverse' by nanoo using all available providers.\u001b[0m\n"
     ]
    },
    {
     "name": "stdout",
     "output_type": "stream",
     "text": [
      "\u001b[1;32mINFO: Lyrics not found for song: metaverse by nanoo. Skipping...\u001b[0m\n",
      "\u001b[1;32mINFO: Fetched Spotify audio features for skeleton by tails\u001b[0m\n"
     ]
    },
    {
     "name": "stderr",
     "output_type": "stream",
     "text": [
      "\u001b[1;33mWARNING: Lyrics not found for 'skeleton' by tails using all available providers.\u001b[0m\n"
     ]
    },
    {
     "name": "stdout",
     "output_type": "stream",
     "text": [
      "\u001b[1;32mINFO: Lyrics not found for song: skeleton by tails. Skipping...\u001b[0m\n",
      "\u001b[1;32mINFO: Fetched Spotify audio features for multiverse by kroww\u001b[0m\n"
     ]
    },
    {
     "name": "stderr",
     "output_type": "stream",
     "text": [
      "\u001b[1;33mWARNING: Lyrics not found for 'multiverse' by kroww using all available providers.\u001b[0m\n"
     ]
    },
    {
     "name": "stdout",
     "output_type": "stream",
     "text": [
      "\u001b[1;32mINFO: Lyrics not found for song: multiverse by kroww. Skipping...\u001b[0m\n",
      "\u001b[1;32mINFO: Fetched Spotify audio features for hysteria by kroww\u001b[0m\n"
     ]
    },
    {
     "name": "stderr",
     "output_type": "stream",
     "text": [
      "\u001b[1;33mWARNING: Lyrics not found for 'hysteria' by kroww using all available providers.\u001b[0m\n"
     ]
    },
    {
     "name": "stdout",
     "output_type": "stream",
     "text": [
      "\u001b[1;32mINFO: Lyrics not found for song: hysteria by kroww. Skipping...\u001b[0m\n",
      "\u001b[1;32mINFO: Fetched Spotify audio features for before the storm by kayzo\u001b[0m\n",
      "\u001b[1;32mINFO: Downloaded song: before the storm\u001b[0m         \n",
      "\u001b[1;32mINFO: Completed processing for song: before the storm by kayzo\u001b[0m\n",
      "\u001b[1;32mINFO: Fetched Spotify audio features for stay a by reaper\u001b[0m\n"
     ]
    },
    {
     "name": "stderr",
     "output_type": "stream",
     "text": [
      "\u001b[1;33mWARNING: Lyrics not found for 'stay a' by reaper using all available providers.\u001b[0m\n"
     ]
    },
    {
     "name": "stdout",
     "output_type": "stream",
     "text": [
      "\u001b[1;32mINFO: Lyrics not found for song: stay a by reaper. Skipping...\u001b[0m\n",
      "\u001b[1;32mINFO: Fetched Spotify audio features for don't let me down by the chainsmokers\u001b[0m\n",
      "\u001b[1;32mINFO: Downloaded song: don't let me down\u001b[0m      \n",
      "\u001b[1;32mINFO: Completed processing for song: don't let me down by the chainsmokers\u001b[0m\n",
      "\u001b[1;32mINFO: Fetched Spotify audio features for someone else by sullivan king\u001b[0m\n"
     ]
    },
    {
     "name": "stderr",
     "output_type": "stream",
     "text": [
      "\u001b[1;33mWARNING: Lyrics not found for 'someone else' by sullivan king using all available providers.\u001b[0m\n"
     ]
    },
    {
     "name": "stdout",
     "output_type": "stream",
     "text": [
      "\u001b[1;32mINFO: Lyrics not found for song: someone else by sullivan king. Skipping...\u001b[0m\n",
      "\u001b[1;32mINFO: Fetched Spotify audio features for sacrificial by rezz\u001b[0m\n",
      "\u001b[1;32mINFO: Downloaded song: sacrificial\u001b[0m              \n",
      "\u001b[1;32mINFO: Completed processing for song: sacrificial by rezz\u001b[0m\n",
      "\u001b[1;32mINFO: Fetched Spotify audio features for someone else by rezz\u001b[0m\n",
      "\u001b[1;32mINFO: Downloaded song: someone else\u001b[0m             \n",
      "\u001b[1;32mINFO: Completed processing for song: someone else by rezz\u001b[0m\n",
      "\u001b[1;32mINFO: Fetched Spotify audio features for die for you by valorant\u001b[0m\n",
      "\u001b[1;32mINFO: Downloaded song: die for you\u001b[0m            \n",
      "\u001b[1;32mINFO: Completed processing for song: die for you by valorant\u001b[0m\n",
      "\u001b[1;32mINFO: Fetched Spotify audio features for bring me to life by teminite\u001b[0m\n"
     ]
    },
    {
     "name": "stderr",
     "output_type": "stream",
     "text": [
      "\u001b[1;33mWARNING: Lyrics not found for 'bring me to life' by teminite using all available providers.\u001b[0m\n"
     ]
    },
    {
     "name": "stdout",
     "output_type": "stream",
     "text": [
      "\u001b[1;32mINFO: Lyrics not found for song: bring me to life by teminite. Skipping...\u001b[0m\n",
      "\u001b[1;32mINFO: Fetched Spotify audio features for join the wired with me by onumi\u001b[0m\n",
      "\u001b[1;32mINFO: Downloaded song: join the wired with me\u001b[0m   \n",
      "\u001b[1;32mINFO: Completed processing for song: join the wired with me by onumi\u001b[0m\n",
      "\u001b[1;32mINFO: Fetched Spotify audio features for echoes by ace aura\u001b[0m\n"
     ]
    },
    {
     "name": "stderr",
     "output_type": "stream",
     "text": [
      "\u001b[1;33mWARNING: Lyrics not found for 'echoes' by ace aura using all available providers.\u001b[0m\n"
     ]
    },
    {
     "name": "stdout",
     "output_type": "stream",
     "text": [
      "\u001b[1;32mINFO: Lyrics not found for song: echoes by ace aura. Skipping...\u001b[0m\n",
      "\u001b[1;32mINFO: Fetched Spotify audio features for umbra by ace aura\u001b[0m\n",
      "\u001b[1;32mINFO: Downloaded song: umbra\u001b[0m                  \n",
      "\u001b[1;32mINFO: Completed processing for song: umbra by ace aura\u001b[0m\n",
      "\u001b[1;32mINFO: Fetched Spotify audio features for destiny by ace aura\u001b[0m\n"
     ]
    },
    {
     "name": "stderr",
     "output_type": "stream",
     "text": [
      "\u001b[1;33mWARNING: Lyrics not found for 'destiny' by ace aura using all available providers.\u001b[0m\n"
     ]
    },
    {
     "name": "stdout",
     "output_type": "stream",
     "text": [
      "\u001b[1;32mINFO: Lyrics not found for song: destiny by ace aura. Skipping...\u001b[0m\n",
      "\u001b[1;32mINFO: Fetched Spotify audio features for face my fears by hikaru utada\u001b[0m\n",
      "\u001b[1;32mINFO: Downloaded song: face my fears\u001b[0m          \n",
      "\u001b[1;32mINFO: Completed processing for song: face my fears by hikaru utada\u001b[0m\n",
      "\u001b[1;32mINFO: Fetched Spotify audio features for kneel before me by slander\u001b[0m\n",
      "\u001b[1;32mINFO: Downloaded song: kneel before me\u001b[0m        \n",
      "\u001b[1;32mINFO: Completed processing for song: kneel before me by slander\u001b[0m\n",
      "\u001b[1;32mINFO: Fetched Spotify audio features for suffocate by kayzo\u001b[0m\n"
     ]
    },
    {
     "name": "stderr",
     "output_type": "stream",
     "text": [
      "\u001b[1;33mWARNING: Lyrics not found for 'suffocate' by kayzo using all available providers.\u001b[0m\n"
     ]
    },
    {
     "name": "stdout",
     "output_type": "stream",
     "text": [
      "\u001b[1;32mINFO: Lyrics not found for song: suffocate by kayzo. Skipping...\u001b[0m\n",
      "\u001b[1;32mINFO: Fetched Spotify audio features for raindrops by phaseone\u001b[0m\n"
     ]
    },
    {
     "name": "stderr",
     "output_type": "stream",
     "text": [
      "\u001b[1;33mWARNING: Lyrics not found for 'raindrops' by phaseone using all available providers.\u001b[0m\n"
     ]
    },
    {
     "name": "stdout",
     "output_type": "stream",
     "text": [
      "\u001b[1;32mINFO: Lyrics not found for song: raindrops by phaseone. Skipping...\u001b[0m\n",
      "\u001b[1;32mINFO: Fetched Spotify audio features for eternity by calivania\u001b[0m\n"
     ]
    },
    {
     "name": "stderr",
     "output_type": "stream",
     "text": [
      "\u001b[1;33mWARNING: Lyrics not found for 'eternity' by calivania using all available providers.\u001b[0m\n"
     ]
    },
    {
     "name": "stdout",
     "output_type": "stream",
     "text": [
      "\u001b[1;32mINFO: Lyrics not found for song: eternity by calivania. Skipping...\u001b[0m\n",
      "\u001b[1;32mINFO: Fetched Spotify audio features for the fragile by ohmie\u001b[0m\n"
     ]
    },
    {
     "name": "stderr",
     "output_type": "stream",
     "text": [
      "\u001b[1;33mWARNING: Lyrics not found for 'the fragile' by ohmie using all available providers.\u001b[0m\n"
     ]
    },
    {
     "name": "stdout",
     "output_type": "stream",
     "text": [
      "\u001b[1;32mINFO: Lyrics not found for song: the fragile by ohmie. Skipping...\u001b[0m\n",
      "\u001b[1;32mINFO: Fetched Spotify audio features for alone by kayzo\u001b[0m\n"
     ]
    },
    {
     "name": "stderr",
     "output_type": "stream",
     "text": [
      "\u001b[1;33mWARNING: Lyrics not found for 'alone' by kayzo using all available providers.\u001b[0m\n"
     ]
    },
    {
     "name": "stdout",
     "output_type": "stream",
     "text": [
      "\u001b[1;32mINFO: Lyrics not found for song: alone by kayzo. Skipping...\u001b[0m\n",
      "\u001b[1;32mINFO: Fetched Spotify audio features for cinema by oddkidout\u001b[0m\n"
     ]
    },
    {
     "name": "stderr",
     "output_type": "stream",
     "text": [
      "\u001b[1;33mWARNING: Lyrics not found for 'cinema' by oddkidout using all available providers.\u001b[0m\n"
     ]
    },
    {
     "name": "stdout",
     "output_type": "stream",
     "text": [
      "\u001b[1;32mINFO: Lyrics not found for song: cinema by oddkidout. Skipping...\u001b[0m\n",
      "\u001b[1;32mINFO: Fetched Spotify audio features for føøl by ghøstkid\u001b[0m\n"
     ]
    },
    {
     "name": "stderr",
     "output_type": "stream",
     "text": [
      "\u001b[1;33mWARNING: Lyrics not found for 'føøl' by ghøstkid using all available providers.\u001b[0m\n"
     ]
    },
    {
     "name": "stdout",
     "output_type": "stream",
     "text": [
      "\u001b[1;32mINFO: Lyrics not found for song: føøl by ghøstkid. Skipping...\u001b[0m\n",
      "\u001b[1;32mINFO: Fetched Spotify audio features for lost by illenium\u001b[0m\n"
     ]
    },
    {
     "name": "stderr",
     "output_type": "stream",
     "text": [
      "\u001b[1;33mWARNING: Lyrics not found for 'lost' by illenium using all available providers.\u001b[0m\n"
     ]
    },
    {
     "name": "stdout",
     "output_type": "stream",
     "text": [
      "\u001b[1;32mINFO: Lyrics not found for song: lost by illenium. Skipping...\u001b[0m\n",
      "\u001b[1;32mINFO: Fetched Spotify audio features for can't say by kuuro\u001b[0m\n"
     ]
    },
    {
     "name": "stderr",
     "output_type": "stream",
     "text": [
      "\u001b[1;33mWARNING: Lyrics not found for 'can't say' by kuuro using all available providers.\u001b[0m\n"
     ]
    },
    {
     "name": "stdout",
     "output_type": "stream",
     "text": [
      "\u001b[1;32mINFO: Lyrics not found for song: can't say by kuuro. Skipping...\u001b[0m\n",
      "\u001b[1;32mINFO: Fetched Spotify audio features for play dead by qoiet\u001b[0m\n"
     ]
    },
    {
     "name": "stderr",
     "output_type": "stream",
     "text": [
      "\u001b[1;33mWARNING: Lyrics not found for 'play dead' by qoiet using all available providers.\u001b[0m\n"
     ]
    },
    {
     "name": "stdout",
     "output_type": "stream",
     "text": [
      "\u001b[1;32mINFO: Lyrics not found for song: play dead by qoiet. Skipping...\u001b[0m\n",
      "\u001b[1;32mINFO: Fetched Spotify audio features for throne by mazare\u001b[0m\n"
     ]
    },
    {
     "name": "stderr",
     "output_type": "stream",
     "text": [
      "\u001b[1;33mWARNING: Lyrics not found for 'throne' by mazare using all available providers.\u001b[0m\n"
     ]
    },
    {
     "name": "stdout",
     "output_type": "stream",
     "text": [
      "\u001b[1;32mINFO: Lyrics not found for song: throne by mazare. Skipping...\u001b[0m\n",
      "\u001b[1;32mINFO: Fetched Spotify audio features for berserker by mazare\u001b[0m\n",
      "\u001b[1;32mINFO: Downloaded song: berserker\u001b[0m              \n",
      "\u001b[1;32mINFO: Completed processing for song: berserker by mazare\u001b[0m\n",
      "\u001b[1;32mINFO: Fetched Spotify audio features for solo by jennie\u001b[0m\n"
     ]
    },
    {
     "name": "stderr",
     "output_type": "stream",
     "text": [
      "\u001b[1;33mWARNING: Lyrics not found for 'solo' by jennie using all available providers.\u001b[0m\n"
     ]
    },
    {
     "name": "stdout",
     "output_type": "stream",
     "text": [
      "\u001b[1;32mINFO: Lyrics not found for song: solo by jennie. Skipping...\u001b[0m\n",
      "\u001b[1;32mINFO: Fetched Spotify audio features for whistle by blackpink\u001b[0m\n",
      "\u001b[1;32mINFO: Downloaded song: whistle\u001b[0m                \n",
      "\u001b[1;32mINFO: Completed processing for song: whistle by blackpink\u001b[0m\n",
      "\u001b[1;32mINFO: Fetched Spotify audio features for sour candy by lady gaga\u001b[0m\n",
      "\u001b[1;32mINFO: Downloaded song: sour candy\u001b[0m               \n",
      "\u001b[1;32mINFO: Completed processing for song: sour candy by lady gaga\u001b[0m\n",
      "\u001b[1;32mINFO: Fetched Spotify audio features for bet you wanna by blackpink\u001b[0m\n",
      "\u001b[1;32mINFO: Downloaded song: bet you wanna\u001b[0m            \n",
      "\u001b[1;32mINFO: Completed processing for song: bet you wanna by blackpink\u001b[0m\n",
      "\u001b[1;32mINFO: Fetched Spotify audio features for うっせぇわ by ado\u001b[0m\n",
      "\u001b[1;32mINFO: Downloaded song: うっせぇわ\u001b[0m                  \n",
      "\u001b[1;32mINFO: Completed processing for song: うっせぇわ by ado\u001b[0m\n",
      "\u001b[1;32mINFO: Fetched Spotify audio features for show by ado\u001b[0m\n"
     ]
    },
    {
     "name": "stderr",
     "output_type": "stream",
     "text": [
      "\u001b[1;33mWARNING: Lyrics not found for 'show' by ado using all available providers.\u001b[0m\n"
     ]
    },
    {
     "name": "stdout",
     "output_type": "stream",
     "text": [
      "\u001b[1;32mINFO: Lyrics not found for song: show by ado. Skipping...\u001b[0m\n",
      "\u001b[1;32mINFO: Fetched Spotify audio features for the prince by madeon\u001b[0m\n"
     ]
    },
    {
     "name": "stderr",
     "output_type": "stream",
     "text": [
      "\u001b[1;33mWARNING: Lyrics not found for 'the prince' by madeon using all available providers.\u001b[0m\n"
     ]
    },
    {
     "name": "stdout",
     "output_type": "stream",
     "text": [
      "\u001b[1;32mINFO: Lyrics not found for song: the prince by madeon. Skipping...\u001b[0m\n",
      "\u001b[1;32mINFO: Fetched Spotify audio features for bad habits by ed sheeran\u001b[0m\n",
      "\u001b[1;32mINFO: Downloaded song: bad habits\u001b[0m             \n",
      "\u001b[1;32mINFO: Completed processing for song: bad habits by ed sheeran\u001b[0m\n",
      "\u001b[1;32mINFO: Fetched Spotify audio features for i won't give in by asking alexandria\u001b[0m\n",
      "\u001b[1;32mINFO: Downloaded song: i won't give in\u001b[0m        \n",
      "\u001b[1;32mINFO: Completed processing for song: i won't give in by asking alexandria\u001b[0m\n",
      "\u001b[1;32mINFO: Fetched Spotify audio features for ghost by aura\u001b[0m\n"
     ]
    },
    {
     "name": "stderr",
     "output_type": "stream",
     "text": [
      "\u001b[1;33mWARNING: Lyrics not found for 'ghost' by aura using all available providers.\u001b[0m\n"
     ]
    },
    {
     "name": "stdout",
     "output_type": "stream",
     "text": [
      "\u001b[1;32mINFO: Lyrics not found for song: ghost by aura. Skipping...\u001b[0m\n",
      "\u001b[1;32mINFO: Fetched Spotify audio features for unbound by excision\u001b[0m\n",
      "\u001b[1;32mINFO: Downloaded song: unbound\u001b[0m                \n",
      "\u001b[1;32mINFO: Completed processing for song: unbound by excision\u001b[0m\n",
      "\u001b[1;32mINFO: Fetched Spotify audio features for better off alone by kai wachi\u001b[0m\n",
      "\u001b[1;32mINFO: Downloaded song: better off alone\u001b[0m         \n",
      "\u001b[1;32mINFO: Completed processing for song: better off alone by kai wachi\u001b[0m\n",
      "\u001b[1;32mINFO: Fetched Spotify audio features for over my head by kai wachi\u001b[0m\n"
     ]
    },
    {
     "name": "stderr",
     "output_type": "stream",
     "text": [
      "\u001b[1;33mWARNING: Lyrics not found for 'over my head' by kai wachi using all available providers.\u001b[0m\n"
     ]
    },
    {
     "name": "stdout",
     "output_type": "stream",
     "text": [
      "\u001b[1;32mINFO: Lyrics not found for song: over my head by kai wachi. Skipping...\u001b[0m\n",
      "\u001b[1;32mINFO: Fetched Spotify audio features for after all by kai wachi\u001b[0m\n"
     ]
    },
    {
     "name": "stderr",
     "output_type": "stream",
     "text": [
      "\u001b[1;33mWARNING: Lyrics not found for 'after all' by kai wachi using all available providers.\u001b[0m\n"
     ]
    },
    {
     "name": "stdout",
     "output_type": "stream",
     "text": [
      "\u001b[1;32mINFO: Lyrics not found for song: after all by kai wachi. Skipping...\u001b[0m\n",
      "\u001b[1;32mINFO: Fetched Spotify audio features for carousel by slushii\u001b[0m\n"
     ]
    },
    {
     "name": "stderr",
     "output_type": "stream",
     "text": [
      "\u001b[1;33mWARNING: Lyrics not found for 'carousel' by slushii using all available providers.\u001b[0m\n"
     ]
    },
    {
     "name": "stdout",
     "output_type": "stream",
     "text": [
      "\u001b[1;32mINFO: Lyrics not found for song: carousel by slushii. Skipping...\u001b[0m\n",
      "\u001b[1;32mINFO: Fetched Spotify audio features for cradles by sub urban\u001b[0m\n",
      "\u001b[1;32mINFO: Downloaded song: cradles\u001b[0m                \n",
      "\u001b[1;32mINFO: Completed processing for song: cradles by sub urban\u001b[0m\n",
      "\u001b[1;32mINFO: Fetched Spotify audio features for inferno by sub urban\u001b[0m\n",
      "\u001b[1;32mINFO: Downloaded song: inferno\u001b[0m                \n",
      "\u001b[1;32mINFO: Completed processing for song: inferno by sub urban\u001b[0m\n",
      "\u001b[1;32mINFO: Fetched Spotify audio features for freak by sub urban\u001b[0m\n"
     ]
    },
    {
     "name": "stderr",
     "output_type": "stream",
     "text": [
      "\u001b[1;33mWARNING: Lyrics not found for 'freak' by sub urban using all available providers.\u001b[0m\n"
     ]
    },
    {
     "name": "stdout",
     "output_type": "stream",
     "text": [
      "\u001b[1;32mINFO: Lyrics not found for song: freak by sub urban. Skipping...\u001b[0m\n",
      "\u001b[1;32mINFO: Fetched Spotify audio features for paramour by sub urban\u001b[0m\n",
      "\u001b[1;32mINFO: Downloaded song: paramour\u001b[0m               \n",
      "\u001b[1;32mINFO: Completed processing for song: paramour by sub urban\u001b[0m\n",
      "\u001b[1;32mINFO: Fetched Spotify audio features for uh oh! by sub urban\u001b[0m\n",
      "\u001b[1;32mINFO: Downloaded song: uh oh!\u001b[0m                 \n",
      "\u001b[1;32mINFO: Completed processing for song: uh oh! by sub urban\u001b[0m\n",
      "\u001b[1;32mINFO: Fetched Spotify audio features for ringo by itzy\u001b[0m\n",
      "\u001b[1;32mINFO: Downloaded song: ringo\u001b[0m                  \n",
      "\u001b[1;32mINFO: Completed processing for song: ringo by itzy\u001b[0m\n",
      "\u001b[1;32mINFO: Fetched Spotify audio features for in the morning by itzy\u001b[0m\n",
      "\u001b[1;32mINFO: Downloaded song: in the morning\u001b[0m         \n",
      "\u001b[1;32mINFO: Completed processing for song: in the morning by itzy\u001b[0m\n",
      "\u001b[1;32mINFO: Fetched Spotify audio features for kidding me by itzy\u001b[0m\n",
      "\u001b[1;32mINFO: Downloaded song: kidding me\u001b[0m             \n",
      "\u001b[1;32mINFO: Completed processing for song: kidding me by itzy\u001b[0m\n",
      "\u001b[1;32mINFO: Fetched Spotify audio features for freak show by jake daniels\u001b[0m\n"
     ]
    },
    {
     "name": "stderr",
     "output_type": "stream",
     "text": [
      "\u001b[1;33mWARNING: Lyrics not found for 'freak show' by jake daniels using all available providers.\u001b[0m\n"
     ]
    },
    {
     "name": "stdout",
     "output_type": "stream",
     "text": [
      "\u001b[1;32mINFO: Lyrics not found for song: freak show by jake daniels. Skipping...\u001b[0m\n",
      "\u001b[1;32mINFO: Fetched Spotify audio features for drama by aespa\u001b[0m\n"
     ]
    },
    {
     "name": "stderr",
     "output_type": "stream",
     "text": [
      "\u001b[1;33mWARNING: Lyrics not found for 'drama' by aespa using all available providers.\u001b[0m\n"
     ]
    },
    {
     "name": "stdout",
     "output_type": "stream",
     "text": [
      "\u001b[1;32mINFO: Lyrics not found for song: drama by aespa. Skipping...\u001b[0m\n",
      "\u001b[1;32mINFO: Fetched Spotify audio features for batter up by babymonster\u001b[0m\n",
      "\u001b[1;32mINFO: Downloaded song: batter up\u001b[0m                \n",
      "\u001b[1;32mINFO: Completed processing for song: batter up by babymonster\u001b[0m\n",
      "\u001b[1;32mINFO: Fetched Spotify audio features for hold on tight by aespa\u001b[0m\n",
      "\u001b[1;32mINFO: Downloaded song: hold on tight\u001b[0m            \n",
      "\u001b[1;32mINFO: Completed processing for song: hold on tight by aespa\u001b[0m\n",
      "\u001b[1;32mINFO: Fetched Spotify audio features for gods by league of legends\u001b[0m\n"
     ]
    },
    {
     "name": "stderr",
     "output_type": "stream",
     "text": [
      "\u001b[1;33mWARNING: Lyrics not found for 'gods' by league of legends using all available providers.\u001b[0m\n"
     ]
    },
    {
     "name": "stdout",
     "output_type": "stream",
     "text": [
      "\u001b[1;32mINFO: Lyrics not found for song: gods by league of legends. Skipping...\u001b[0m\n",
      "\u001b[1;32mINFO: Fetched Spotify audio features for kool by bring me the horizon\u001b[0m\n",
      "\u001b[1;32mINFO: Downloaded song: kool\u001b[0m                     \n",
      "\u001b[1;32mINFO: Completed processing for song: kool by bring me the horizon\u001b[0m\n",
      "\u001b[1;32mINFO: Fetched Spotify audio features for your face by wisp\u001b[0m\n",
      "\u001b[1;32mINFO: Downloaded song: your face\u001b[0m                \n",
      "\u001b[1;32mINFO: Completed processing for song: your face by wisp\u001b[0m\n",
      "\u001b[1;32mINFO: Fetched Spotify audio features for no idea by don toliver\u001b[0m\n",
      "\u001b[1;32mINFO: Downloaded song: no idea\u001b[0m                \n",
      "\u001b[1;32mINFO: Completed processing for song: no idea by don toliver\u001b[0m\n",
      "\u001b[1;32mINFO: Fetched Spotify audio features for closer by the chainsmokers\u001b[0m\n",
      "\u001b[1;32mINFO: Downloaded song: closer\u001b[0m                 \n",
      "\u001b[1;32mINFO: Completed processing for song: closer by the chainsmokers\u001b[0m\n",
      "\u001b[1;32mINFO: Fetched Spotify audio features for the edge by grant\u001b[0m\n"
     ]
    },
    {
     "name": "stderr",
     "output_type": "stream",
     "text": [
      "\u001b[1;33mWARNING: Lyrics not found for 'the edge' by grant using all available providers.\u001b[0m\n"
     ]
    },
    {
     "name": "stdout",
     "output_type": "stream",
     "text": [
      "\u001b[1;32mINFO: Lyrics not found for song: the edge by grant. Skipping...\u001b[0m\n",
      "\u001b[1;32mINFO: Fetched Spotify audio features for sober by slushii\u001b[0m\n"
     ]
    },
    {
     "name": "stderr",
     "output_type": "stream",
     "text": [
      "\u001b[1;33mWARNING: Lyrics not found for 'sober' by slushii using all available providers.\u001b[0m\n"
     ]
    },
    {
     "name": "stdout",
     "output_type": "stream",
     "text": [
      "\u001b[1;32mINFO: Lyrics not found for song: sober by slushii. Skipping...\u001b[0m\n",
      "\u001b[1;32mINFO: Fetched Spotify audio features for feel something by illenium\u001b[0m\n",
      "\u001b[1;32mINFO: Downloaded song: feel something\u001b[0m           \n",
      "\u001b[1;32mINFO: Completed processing for song: feel something by illenium\u001b[0m\n",
      "\u001b[1;32mINFO: Fetched Spotify audio features for flatline by sullivan king\u001b[0m\n"
     ]
    },
    {
     "name": "stderr",
     "output_type": "stream",
     "text": [
      "\u001b[1;33mWARNING: Lyrics not found for 'flatline' by sullivan king using all available providers.\u001b[0m\n"
     ]
    },
    {
     "name": "stdout",
     "output_type": "stream",
     "text": [
      "\u001b[1;32mINFO: Lyrics not found for song: flatline by sullivan king. Skipping...\u001b[0m\n",
      "\u001b[1;32mINFO: Fetched Spotify audio features for out of my head by rezz\u001b[0m\n"
     ]
    },
    {
     "name": "stderr",
     "output_type": "stream",
     "text": [
      "\u001b[1;33mWARNING: Lyrics not found for 'out of my head' by rezz using all available providers.\u001b[0m\n"
     ]
    },
    {
     "name": "stdout",
     "output_type": "stream",
     "text": [
      "\u001b[1;32mINFO: Lyrics not found for song: out of my head by rezz. Skipping...\u001b[0m\n",
      "\u001b[1;32mINFO: Fetched Spotify audio features for keep you by the tech thieves\u001b[0m\n"
     ]
    },
    {
     "name": "stderr",
     "output_type": "stream",
     "text": [
      "\u001b[1;33mWARNING: Lyrics not found for 'keep you' by the tech thieves using all available providers.\u001b[0m\n"
     ]
    },
    {
     "name": "stdout",
     "output_type": "stream",
     "text": [
      "\u001b[1;32mINFO: Lyrics not found for song: keep you by the tech thieves. Skipping...\u001b[0m\n",
      "\u001b[1;32mINFO: Fetched Spotify audio features for hollow by dabin\u001b[0m\n"
     ]
    },
    {
     "name": "stderr",
     "output_type": "stream",
     "text": [
      "\u001b[1;33mWARNING: Lyrics not found for 'hollow' by dabin using all available providers.\u001b[0m\n"
     ]
    },
    {
     "name": "stdout",
     "output_type": "stream",
     "text": [
      "\u001b[1;32mINFO: Lyrics not found for song: hollow by dabin. Skipping...\u001b[0m\n",
      "\u001b[1;32mINFO: Fetched Spotify audio features for dead man walking by grant\u001b[0m\n"
     ]
    },
    {
     "name": "stderr",
     "output_type": "stream",
     "text": [
      "\u001b[1;33mWARNING: Lyrics not found for 'dead man walking' by grant using all available providers.\u001b[0m\n"
     ]
    },
    {
     "name": "stdout",
     "output_type": "stream",
     "text": [
      "\u001b[1;32mINFO: Lyrics not found for song: dead man walking by grant. Skipping...\u001b[0m\n",
      "\u001b[1;32mINFO: Fetched Spotify audio features for shivering by illenium\u001b[0m\n",
      "\u001b[1;32mINFO: Downloaded song: shivering\u001b[0m                \n",
      "\u001b[1;32mINFO: Completed processing for song: shivering by illenium\u001b[0m\n",
      "\u001b[1;32mINFO: Fetched Spotify audio features for let me in by rezz\u001b[0m\n"
     ]
    },
    {
     "name": "stderr",
     "output_type": "stream",
     "text": [
      "\u001b[1;33mWARNING: Lyrics not found for 'let me in' by rezz using all available providers.\u001b[0m\n"
     ]
    },
    {
     "name": "stdout",
     "output_type": "stream",
     "text": [
      "\u001b[1;32mINFO: Lyrics not found for song: let me in by rezz. Skipping...\u001b[0m\n",
      "\u001b[1;32mINFO: Fetched Spotify audio features for a little messed up by june\u001b[0m\n",
      "\u001b[1;32mINFO: Downloaded song: a little messed up\u001b[0m       \n",
      "\u001b[1;32mINFO: Completed processing for song: a little messed up by june\u001b[0m\n",
      "\u001b[1;32mINFO: Fetched Spotify audio features for you don't even know me by slander\u001b[0m\n",
      "\u001b[1;32mINFO: Downloaded song: you don't even know me\u001b[0m \n",
      "\u001b[1;32mINFO: Completed processing for song: you don't even know me by slander\u001b[0m\n",
      "\u001b[1;32mINFO: Fetched Spotify audio features for popstars by kda\u001b[0m\n"
     ]
    },
    {
     "name": "stderr",
     "output_type": "stream",
     "text": [
      "\u001b[1;33mWARNING: Lyrics not found for 'popstars' by kda using all available providers.\u001b[0m\n"
     ]
    },
    {
     "name": "stdout",
     "output_type": "stream",
     "text": [
      "\u001b[1;32mINFO: Lyrics not found for song: popstars by kda. Skipping...\u001b[0m\n",
      "\u001b[1;32mINFO: Fetched Spotify audio features for more by kda\u001b[0m\n"
     ]
    },
    {
     "name": "stderr",
     "output_type": "stream",
     "text": [
      "\u001b[1;33mWARNING: Lyrics not found for 'more' by kda using all available providers.\u001b[0m\n"
     ]
    },
    {
     "name": "stdout",
     "output_type": "stream",
     "text": [
      "\u001b[1;32mINFO: Lyrics not found for song: more by kda. Skipping...\u001b[0m\n",
      "\u001b[1;32mINFO: Fetched Spotify audio features for the baddest by kda\u001b[0m\n"
     ]
    },
    {
     "name": "stderr",
     "output_type": "stream",
     "text": [
      "\u001b[1;33mWARNING: Lyrics not found for 'the baddest' by kda using all available providers.\u001b[0m\n"
     ]
    },
    {
     "name": "stdout",
     "output_type": "stream",
     "text": [
      "\u001b[1;32mINFO: Lyrics not found for song: the baddest by kda. Skipping...\u001b[0m\n",
      "\u001b[1;32mINFO: Fetched Spotify audio features for drum go dum by kda\u001b[0m\n"
     ]
    },
    {
     "name": "stderr",
     "output_type": "stream",
     "text": [
      "\u001b[1;33mWARNING: Lyrics not found for 'drum go dum' by kda using all available providers.\u001b[0m\n"
     ]
    },
    {
     "name": "stdout",
     "output_type": "stream",
     "text": [
      "\u001b[1;32mINFO: Lyrics not found for song: drum go dum by kda. Skipping...\u001b[0m\n",
      "\u001b[1;32mINFO: Fetched Spotify audio features for paranoia by heartsteel\u001b[0m\n",
      "\u001b[1;32mINFO: Downloaded song: paranoia\u001b[0m                 \n",
      "\u001b[1;32mINFO: Completed processing for song: paranoia by heartsteel\u001b[0m\n",
      "\u001b[1;32mINFO: Fetched Spotify audio features for can′t slow me down by mirani\u001b[0m\n",
      "\u001b[1;32mINFO: Downloaded song: can′t slow me down\u001b[0m     \n",
      "\u001b[1;32mINFO: Completed processing for song: can′t slow me down by mirani\u001b[0m\n",
      "\u001b[1;32mINFO: Fetched Spotify audio features for soñar by nmixx\u001b[0m\n",
      "\u001b[1;32mINFO: Downloaded song: soñar\u001b[0m                    \n",
      "\u001b[1;32mINFO: Completed processing for song: soñar by nmixx\u001b[0m\n",
      "\u001b[1;32mINFO: Fetched Spotify audio features for mr. vampire by itzy\u001b[0m\n",
      "\u001b[1;32mINFO: Downloaded song: mr. vampire\u001b[0m              \n",
      "\u001b[1;32mINFO: Completed processing for song: mr. vampire by itzy\u001b[0m\n",
      "\u001b[1;32mINFO: Fetched Spotify audio features for blah blah blah by itzy\u001b[0m\n"
     ]
    },
    {
     "name": "stderr",
     "output_type": "stream",
     "text": [
      "\u001b[1;33mWARNING: Lyrics not found for 'blah blah blah' by itzy using all available providers.\u001b[0m\n"
     ]
    },
    {
     "name": "stdout",
     "output_type": "stream",
     "text": [
      "\u001b[1;32mINFO: Lyrics not found for song: blah blah blah by itzy. Skipping...\u001b[0m\n",
      "\u001b[1;32mINFO: Fetched Spotify audio features for voltage by itzy\u001b[0m\n",
      "\u001b[1;32mINFO: Downloaded song: voltage\u001b[0m                \n",
      "\u001b[1;32mINFO: Completed processing for song: voltage by itzy\u001b[0m\n",
      "\u001b[1;32mINFO: Fetched Spotify audio features for see you again by wiz khalifa\u001b[0m\n",
      "\u001b[1;32mINFO: Downloaded song: see you again\u001b[0m          \n",
      "\u001b[1;32mINFO: Completed processing for song: see you again by wiz khalifa\u001b[0m\n",
      "\u001b[1;32mINFO: Fetched Spotify audio features for attention by charlie puth\u001b[0m\n",
      "\u001b[1;32mINFO: Downloaded song: attention\u001b[0m                \n",
      "\u001b[1;32mINFO: Completed processing for song: attention by charlie puth\u001b[0m\n",
      "\u001b[1;32mINFO: Fetched Spotify audio features for light switch by charlie puth\u001b[0m\n",
      "\u001b[1;32mINFO: Downloaded song: light switch\u001b[0m             \n",
      "\u001b[1;32mINFO: Completed processing for song: light switch by charlie puth\u001b[0m\n",
      "\u001b[1;32mINFO: Fetched Spotify audio features for we don't talk anymore by charlie puth\u001b[0m\n",
      "\u001b[1;32mINFO: Downloaded song: we don't talk anymore\u001b[0m  \n",
      "\u001b[1;32mINFO: Completed processing for song: we don't talk anymore by charlie puth\u001b[0m\n",
      "\u001b[1;32mINFO: Fetched Spotify audio features for hero by cash cash\u001b[0m\n",
      "\u001b[1;32mINFO: Downloaded song: hero\u001b[0m                   \n",
      "\u001b[1;32mINFO: Completed processing for song: hero by cash cash\u001b[0m\n",
      "\u001b[1;32mINFO: Fetched Spotify audio features for fall apart by papa khan\u001b[0m\n"
     ]
    },
    {
     "name": "stderr",
     "output_type": "stream",
     "text": [
      "\u001b[1;33mWARNING: Lyrics not found for 'fall apart' by papa khan using all available providers.\u001b[0m\n"
     ]
    },
    {
     "name": "stdout",
     "output_type": "stream",
     "text": [
      "\u001b[1;32mINFO: Lyrics not found for song: fall apart by papa khan. Skipping...\u001b[0m\n",
      "\u001b[1;32mINFO: Fetched Spotify audio features for to the max by garena free fire\u001b[0m\n"
     ]
    },
    {
     "name": "stderr",
     "output_type": "stream",
     "text": [
      "\u001b[1;33mWARNING: Lyrics not found for 'to the max' by garena free fire using all available providers.\u001b[0m\n"
     ]
    },
    {
     "name": "stdout",
     "output_type": "stream",
     "text": [
      "\u001b[1;32mINFO: Lyrics not found for song: to the max by garena free fire. Skipping...\u001b[0m\n",
      "\u001b[1;32mINFO: Fetched Spotify audio features for new rules by dua lipa\u001b[0m\n",
      "\u001b[1;32mINFO: Downloaded song: new rules\u001b[0m              \n",
      "\u001b[1;32mINFO: Completed processing for song: new rules by dua lipa\u001b[0m\n",
      "\u001b[1;32mINFO: Fetched Spotify audio features for forever by alison wonderland\u001b[0m\n"
     ]
    },
    {
     "name": "stderr",
     "output_type": "stream",
     "text": [
      "\u001b[1;33mWARNING: Lyrics not found for 'forever' by alison wonderland using all available providers.\u001b[0m\n"
     ]
    },
    {
     "name": "stdout",
     "output_type": "stream",
     "text": [
      "\u001b[1;32mINFO: Lyrics not found for song: forever by alison wonderland. Skipping...\u001b[0m\n",
      "\u001b[1;32mINFO: Fetched Spotify audio features for i'll show you by kda\u001b[0m\n"
     ]
    },
    {
     "name": "stderr",
     "output_type": "stream",
     "text": [
      "\u001b[1;33mWARNING: Lyrics not found for 'i'll show you' by kda using all available providers.\u001b[0m\n"
     ]
    },
    {
     "name": "stdout",
     "output_type": "stream",
     "text": [
      "\u001b[1;32mINFO: Lyrics not found for song: i'll show you by kda. Skipping...\u001b[0m\n",
      "\u001b[1;32mINFO: Fetched Spotify audio features for don’t go by skrillex\u001b[0m\n",
      "\u001b[1;32mINFO: Downloaded song: don’t go\u001b[0m                 \n",
      "\u001b[1;32mINFO: Completed processing for song: don’t go by skrillex\u001b[0m\n",
      "\u001b[1;32mINFO: Fetched Spotify audio features for mercury retrograde by ghostemane\u001b[0m\n",
      "\u001b[1;32mINFO: Downloaded song: mercury retrograde\u001b[0m     \n",
      "\u001b[1;32mINFO: Completed processing for song: mercury retrograde by ghostemane\u001b[0m\n",
      "\u001b[1;32mINFO: Fetched Spotify audio features for just pretend by bad omens\u001b[0m\n",
      "\u001b[1;32mINFO: Downloaded song: just pretend\u001b[0m             \n",
      "\u001b[1;32mINFO: Completed processing for song: just pretend by bad omens\u001b[0m\n",
      "\u001b[1;32mINFO: Fetched Spotify audio features for let me in by drag me out\u001b[0m\n"
     ]
    },
    {
     "name": "stderr",
     "output_type": "stream",
     "text": [
      "\u001b[1;33mWARNING: Lyrics not found for 'let me in' by drag me out using all available providers.\u001b[0m\n"
     ]
    },
    {
     "name": "stdout",
     "output_type": "stream",
     "text": [
      "\u001b[1;32mINFO: Lyrics not found for song: let me in by drag me out. Skipping...\u001b[0m\n",
      "\u001b[1;32mINFO: Fetched Spotify audio features for seven by jung kook\u001b[0m\n",
      "\u001b[1;32mINFO: Downloaded song: seven\u001b[0m                  \n",
      "\u001b[1;32mINFO: Completed processing for song: seven by jung kook\u001b[0m\n",
      "\u001b[1;32mINFO: Fetched Spotify audio features for pain remains i dancing like flames by lorna shore\u001b[0m\n",
      "\u001b[1;32mINFO: Downloaded song: pain remains i dancing like flames\u001b[0m\n",
      "\u001b[1;32mINFO: Completed processing for song: pain remains i dancing like flames by lorna shore\u001b[0m\n",
      "\u001b[1;32mINFO: Fetched Spotify audio features for darkside by bring me the horizon\u001b[0m\n"
     ]
    },
    {
     "name": "stderr",
     "output_type": "stream",
     "text": [
      "\u001b[1;33mWARNING: Lyrics not found for 'darkside' by bring me the horizon using all available providers.\u001b[0m\n"
     ]
    },
    {
     "name": "stdout",
     "output_type": "stream",
     "text": [
      "\u001b[1;32mINFO: Lyrics not found for song: darkside by bring me the horizon. Skipping...\u001b[0m\n",
      "\u001b[1;32mINFO: Fetched Spotify audio features for kingslayer by bring me the horizon\u001b[0m\n",
      "\u001b[1;32mINFO: Downloaded song: kingslayer\u001b[0m               \n",
      "\u001b[1;32mINFO: Completed processing for song: kingslayer by bring me the horizon\u001b[0m\n",
      "\u001b[1;32mINFO: Fetched Spotify audio features for 1x1 by bring me the horizon\u001b[0m\n",
      "\u001b[1;32mINFO: Downloaded song: 1x1\u001b[0m                      \n",
      "\u001b[1;32mINFO: Completed processing for song: 1x1 by bring me the horizon\u001b[0m\n",
      "\u001b[1;32mINFO: Fetched Spotify audio features for drown by bring me the horizon\u001b[0m\n",
      "\u001b[1;32mINFO: Downloaded song: drown\u001b[0m                  \n",
      "\u001b[1;32mINFO: Completed processing for song: drown by bring me the horizon\u001b[0m\n",
      "\u001b[1;32mINFO: Fetched Spotify audio features for sinsera by revenge the fate\u001b[0m\n"
     ]
    },
    {
     "name": "stderr",
     "output_type": "stream",
     "text": [
      "\u001b[1;33mWARNING: Lyrics not found for 'sinsera' by revenge the fate using all available providers.\u001b[0m\n"
     ]
    },
    {
     "name": "stdout",
     "output_type": "stream",
     "text": [
      "\u001b[1;32mINFO: Lyrics not found for song: sinsera by revenge the fate. Skipping...\u001b[0m\n",
      "\u001b[1;32mINFO: Fetched Spotify audio features for love you blind by kevamine\u001b[0m\n"
     ]
    },
    {
     "name": "stderr",
     "output_type": "stream",
     "text": [
      "\u001b[1;33mWARNING: Lyrics not found for 'love you blind' by kevamine using all available providers.\u001b[0m\n"
     ]
    },
    {
     "name": "stdout",
     "output_type": "stream",
     "text": [
      "\u001b[1;32mINFO: Lyrics not found for song: love you blind by kevamine. Skipping...\u001b[0m\n",
      "\u001b[1;32mINFO: Fetched Spotify audio features for wildcard by mickey valen\u001b[0m\n",
      "\u001b[1;32mINFO: Downloaded song: wildcard\u001b[0m               \n",
      "\u001b[1;32mINFO: Completed processing for song: wildcard by mickey valen\u001b[0m\n",
      "\u001b[1;32mINFO: Fetched Spotify audio features for perfect by silent child\u001b[0m\n"
     ]
    },
    {
     "name": "stderr",
     "output_type": "stream",
     "text": [
      "\u001b[1;33mWARNING: Lyrics not found for 'perfect' by silent child using all available providers.\u001b[0m\n"
     ]
    },
    {
     "name": "stdout",
     "output_type": "stream",
     "text": [
      "\u001b[1;32mINFO: Lyrics not found for song: perfect by silent child. Skipping...\u001b[0m\n",
      "\u001b[1;32mINFO: Fetched Spotify audio features for why do i by bri tolani\u001b[0m\n"
     ]
    },
    {
     "name": "stderr",
     "output_type": "stream",
     "text": [
      "\u001b[1;33mWARNING: Lyrics not found for 'why do i' by bri tolani using all available providers.\u001b[0m\n"
     ]
    },
    {
     "name": "stdout",
     "output_type": "stream",
     "text": [
      "\u001b[1;32mINFO: Lyrics not found for song: why do i by bri tolani. Skipping...\u001b[0m\n",
      "\u001b[1;32mINFO: Fetched Spotify audio features for say goodbye by unknown brain\u001b[0m\n"
     ]
    },
    {
     "name": "stderr",
     "output_type": "stream",
     "text": [
      "\u001b[1;33mWARNING: Lyrics not found for 'say goodbye' by unknown brain using all available providers.\u001b[0m\n"
     ]
    },
    {
     "name": "stdout",
     "output_type": "stream",
     "text": [
      "\u001b[1;32mINFO: Lyrics not found for song: say goodbye by unknown brain. Skipping...\u001b[0m\n",
      "\u001b[1;32mINFO: Fetched Spotify audio features for control by unknown brain\u001b[0m\n"
     ]
    },
    {
     "name": "stderr",
     "output_type": "stream",
     "text": [
      "\u001b[1;33mWARNING: Lyrics not found for 'control' by unknown brain using all available providers.\u001b[0m\n"
     ]
    },
    {
     "name": "stdout",
     "output_type": "stream",
     "text": [
      "\u001b[1;32mINFO: Lyrics not found for song: control by unknown brain. Skipping...\u001b[0m\n",
      "\u001b[1;32mINFO: Fetched Spotify audio features for jungle of love by unknown brain\u001b[0m\n",
      "\u001b[1;32mINFO: Downloaded song: jungle of love\u001b[0m         \n",
      "\u001b[1;32mINFO: Completed processing for song: jungle of love by unknown brain\u001b[0m\n",
      "\u001b[1;32mINFO: Fetched Spotify audio features for perfect 10 by unknown brain\u001b[0m\n",
      "\u001b[1;32mINFO: Downloaded song: perfect 10\u001b[0m             \n",
      "\u001b[1;32mINFO: Completed processing for song: perfect 10 by unknown brain\u001b[0m\n",
      "\u001b[1;32mINFO: Fetched Spotify audio features for neon grave by dayseeker\u001b[0m\n",
      "\u001b[1;32mINFO: Downloaded song: neon grave\u001b[0m               \n",
      "\u001b[1;32mINFO: Completed processing for song: neon grave by dayseeker\u001b[0m\n",
      "\u001b[1;32mINFO: Fetched Spotify audio features for without me by dayseeker\u001b[0m\n"
     ]
    },
    {
     "name": "stderr",
     "output_type": "stream",
     "text": [
      "\u001b[1;33mWARNING: Lyrics not found for 'without me' by dayseeker using all available providers.\u001b[0m\n"
     ]
    },
    {
     "name": "stdout",
     "output_type": "stream",
     "text": [
      "\u001b[1;32mINFO: Lyrics not found for song: without me by dayseeker. Skipping...\u001b[0m\n",
      "\u001b[1;32mINFO: Fetched Spotify audio features for where are ü now by jack ü\u001b[0m\n",
      "\u001b[1;32mINFO: Downloaded song: where are ü now\u001b[0m          \n",
      "\u001b[1;32mINFO: Completed processing for song: where are ü now by jack ü\u001b[0m\n",
      "\u001b[1;32mINFO: Fetched Spotify audio features for the box by roddy ricch\u001b[0m\n",
      "\u001b[1;32mINFO: Downloaded song: the box\u001b[0m                \n",
      "\u001b[1;32mINFO: Completed processing for song: the box by roddy ricch\u001b[0m\n",
      "\u001b[1;32mINFO: Fetched Spotify audio features for montero by lil nas x\u001b[0m\n",
      "\u001b[1;32mINFO: Downloaded song: montero\u001b[0m                \n",
      "\u001b[1;32mINFO: Completed processing for song: montero by lil nas x\u001b[0m\n",
      "\u001b[1;32mINFO: Fetched Spotify audio features for star walkin' by lil nas x\u001b[0m\n",
      "\u001b[1;32mINFO: Downloaded song: star walkin'\u001b[0m           \n",
      "\u001b[1;32mINFO: Completed processing for song: star walkin' by lil nas x\u001b[0m\n",
      "\u001b[1;32mINFO: Fetched Spotify audio features for thats what i want by lil nas x\u001b[0m\n",
      "\u001b[1;32mINFO: Downloaded song: thats what i want\u001b[0m      \n",
      "\u001b[1;32mINFO: Completed processing for song: thats what i want by lil nas x\u001b[0m\n",
      "\u001b[1;32mINFO: Fetched Spotify audio features for old town road by lil nas x\u001b[0m\n",
      "\u001b[1;32mINFO: Downloaded song: old town road\u001b[0m          \n",
      "\u001b[1;32mINFO: Completed processing for song: old town road by lil nas x\u001b[0m\n",
      "\u001b[1;32mINFO: Fetched Spotify audio features for the search by nf\u001b[0m\n",
      "\u001b[1;32mINFO: Downloaded song: the search\u001b[0m               \n",
      "\u001b[1;32mINFO: Completed processing for song: the search by nf\u001b[0m\n",
      "\u001b[1;32mINFO: Fetched Spotify audio features for jentaka by for revenge\u001b[0m\n",
      "\u001b[1;32mINFO: Downloaded song: jentaka\u001b[0m                  \n",
      "\u001b[1;32mINFO: Completed processing for song: jentaka by for revenge\u001b[0m\n",
      "\u001b[1;32mINFO: Fetched Spotify audio features for serana by for revenge\u001b[0m\n",
      "\u001b[1;32mINFO: Downloaded song: serana\u001b[0m                 \n",
      "\u001b[1;32mINFO: Completed processing for song: serana by for revenge\u001b[0m\n",
      "\u001b[1;32mINFO: Fetched Spotify audio features for renee by sales\u001b[0m\n",
      "\u001b[1;32mINFO: Downloaded song: renee\u001b[0m                    \n",
      "\u001b[1;32mINFO: Completed processing for song: renee by sales\u001b[0m\n",
      "\u001b[1;32mINFO: Fetched Spotify audio features for first time by fairlane\u001b[0m\n"
     ]
    },
    {
     "name": "stderr",
     "output_type": "stream",
     "text": [
      "\u001b[1;33mWARNING: Lyrics not found for 'first time' by fairlane using all available providers.\u001b[0m\n"
     ]
    },
    {
     "name": "stdout",
     "output_type": "stream",
     "text": [
      "\u001b[1;32mINFO: Lyrics not found for song: first time by fairlane. Skipping...\u001b[0m\n",
      "\u001b[1;32mINFO: Fetched Spotify audio features for friends by marshmello\u001b[0m\n",
      "\u001b[1;32mINFO: Downloaded song: friends\u001b[0m                  \n",
      "\u001b[1;32mINFO: Completed processing for song: friends by marshmello\u001b[0m\n",
      "\u001b[1;32mINFO: Fetched Spotify audio features for have me all by bleu clair\u001b[0m\n",
      "\u001b[1;32mINFO: Downloaded song: have me all\u001b[0m              \n",
      "\u001b[1;32mINFO: Completed processing for song: have me all by bleu clair\u001b[0m\n",
      "\u001b[1;32mINFO: Fetched Spotify audio features for whoa by xxxtentacion\u001b[0m\n",
      "\u001b[1;32mINFO: Downloaded song: whoa\u001b[0m                     \n",
      "\u001b[1;32mINFO: Completed processing for song: whoa by xxxtentacion\u001b[0m\n",
      "\u001b[1;32mINFO: Fetched Spotify audio features for aurora by k\u001b[0m\n"
     ]
    },
    {
     "name": "stderr",
     "output_type": "stream",
     "text": [
      "\u001b[1;33mWARNING: Lyrics not found for 'aurora' by k using all available providers.\u001b[0m\n"
     ]
    },
    {
     "name": "stdout",
     "output_type": "stream",
     "text": [
      "\u001b[1;32mINFO: Lyrics not found for song: aurora by k. Skipping...\u001b[0m\n",
      "\u001b[1;32mINFO: Fetched Spotify audio features for your blood by aurora\u001b[0m\n",
      "\u001b[1;32mINFO: Downloaded song: your blood\u001b[0m               \n",
      "\u001b[1;32mINFO: Completed processing for song: your blood by aurora\u001b[0m\n",
      "\u001b[1;32mINFO: Fetched Spotify audio features for everybody dies in their nightmares by xxxtentacion\u001b[0m\n",
      "\u001b[1;32mINFO: Downloaded song: everybody dies in their nightmares\u001b[0m\n",
      "\u001b[1;32mINFO: Completed processing for song: everybody dies in their nightmares by xxxtentacion\u001b[0m\n",
      "\u001b[1;32mINFO: Fetched Spotify audio features for lace it by juice wrld\u001b[0m\n",
      "\u001b[1;32mINFO: Downloaded song: lace it\u001b[0m                \n",
      "\u001b[1;32mINFO: Completed processing for song: lace it by juice wrld\u001b[0m\n",
      "\u001b[1;32mINFO: Fetched Spotify audio features for all girls are the same by juice wrld\u001b[0m\n",
      "\u001b[1;32mINFO: Downloaded song: all girls are the same\u001b[0m \n",
      "\u001b[1;32mINFO: Completed processing for song: all girls are the same by juice wrld\u001b[0m\n",
      "\u001b[1;32mINFO: Fetched Spotify audio features for robbery by juice wrld\u001b[0m\n",
      "\u001b[1;32mINFO: Downloaded song: robbery\u001b[0m                \n",
      "\u001b[1;32mINFO: Completed processing for song: robbery by juice wrld\u001b[0m\n",
      "\u001b[1;32mINFO: Fetched Spotify audio features for faded by alan walker\u001b[0m\n",
      "\u001b[1;32mINFO: Downloaded song: faded\u001b[0m                  \n",
      "\u001b[1;32mINFO: Completed processing for song: faded by alan walker\u001b[0m\n",
      "\u001b[1;32mINFO: Fetched Spotify audio features for hello world by alan walker\u001b[0m\n",
      "\u001b[1;32mINFO: Downloaded song: hello world\u001b[0m            \n",
      "\u001b[1;32mINFO: Completed processing for song: hello world by alan walker\u001b[0m\n",
      "\u001b[1;32mINFO: Fetched Spotify audio features for alone, pt. ii by alan walker\u001b[0m\n",
      "\u001b[1;32mINFO: Downloaded song: alone, pt. ii\u001b[0m            \n",
      "\u001b[1;32mINFO: Completed processing for song: alone, pt. ii by alan walker\u001b[0m\n",
      "\u001b[1;32mINFO: Fetched Spotify audio features for on my way by alan walker\u001b[0m\n",
      "\u001b[1;32mINFO: Downloaded song: on my way\u001b[0m              \n",
      "\u001b[1;32mINFO: Completed processing for song: on my way by alan walker\u001b[0m\n",
      "\u001b[1;32mINFO: Fetched Spotify audio features for different world by alan walker\u001b[0m\n",
      "\u001b[1;32mINFO: Downloaded song: different world\u001b[0m          \n",
      "\u001b[1;32mINFO: Completed processing for song: different world by alan walker\u001b[0m\n",
      "\u001b[1;32mINFO: Fetched Spotify audio features for lily by alan walker\u001b[0m\n",
      "\u001b[1;32mINFO: Downloaded song: lily\u001b[0m                     \n",
      "\u001b[1;32mINFO: Completed processing for song: lily by alan walker\u001b[0m\n",
      "\u001b[1;32mINFO: Fetched Spotify audio features for lost control by alan walker\u001b[0m\n",
      "\u001b[1;32mINFO: Downloaded song: lost control\u001b[0m           \n",
      "\u001b[1;32mINFO: Completed processing for song: lost control by alan walker\u001b[0m\n",
      "\u001b[1;32mINFO: Fetched Spotify audio features for hilang harapan by stand here alone\u001b[0m\n",
      "\u001b[1;32mINFO: Downloaded song: hilang harapan\u001b[0m         \n",
      "\u001b[1;32mINFO: Completed processing for song: hilang harapan by stand here alone\u001b[0m\n",
      "\u001b[1;32mINFO: Fetched Spotify audio features for kita lawan mereka by stand here alone\u001b[0m\n"
     ]
    },
    {
     "name": "stderr",
     "output_type": "stream",
     "text": [
      "\u001b[1;33mWARNING: Lyrics not found for 'kita lawan mereka' by stand here alone using all available providers.\u001b[0m\n"
     ]
    },
    {
     "name": "stdout",
     "output_type": "stream",
     "text": [
      "\u001b[1;32mINFO: Lyrics not found for song: kita lawan mereka by stand here alone. Skipping...\u001b[0m\n",
      "\u001b[1;32mINFO: Fetched Spotify audio features for lose control by hoober\u001b[0m\n"
     ]
    },
    {
     "name": "stderr",
     "output_type": "stream",
     "text": [
      "\u001b[1;33mWARNING: Lyrics not found for 'lose control' by hoober using all available providers.\u001b[0m\n"
     ]
    },
    {
     "name": "stdout",
     "output_type": "stream",
     "text": [
      "\u001b[1;32mINFO: Lyrics not found for song: lose control by hoober. Skipping...\u001b[0m\n",
      "\u001b[1;32mINFO: Fetched Spotify audio features for nothing left by eliminate\u001b[0m\n"
     ]
    },
    {
     "name": "stderr",
     "output_type": "stream",
     "text": [
      "\u001b[1;33mWARNING: Lyrics not found for 'nothing left' by eliminate using all available providers.\u001b[0m\n"
     ]
    },
    {
     "name": "stdout",
     "output_type": "stream",
     "text": [
      "\u001b[1;32mINFO: Lyrics not found for song: nothing left by eliminate. Skipping...\u001b[0m\n",
      "\u001b[1;32mINFO: Fetched Spotify audio features for grateful by neffex\u001b[0m\n",
      "\u001b[1;32mINFO: Downloaded song: grateful\u001b[0m               \n",
      "\u001b[1;32mINFO: Completed processing for song: grateful by neffex\u001b[0m\n",
      "\u001b[1;32mINFO: Fetched Spotify audio features for cold by neffex\u001b[0m\n"
     ]
    },
    {
     "name": "stderr",
     "output_type": "stream",
     "text": [
      "\u001b[1;33mWARNING: Lyrics not found for 'cold' by neffex using all available providers.\u001b[0m\n"
     ]
    },
    {
     "name": "stdout",
     "output_type": "stream",
     "text": [
      "\u001b[1;32mINFO: Lyrics not found for song: cold by neffex. Skipping...\u001b[0m\n",
      "\u001b[1;32mINFO: Fetched Spotify audio features for chance by neffex\u001b[0m\n"
     ]
    },
    {
     "name": "stderr",
     "output_type": "stream",
     "text": [
      "\u001b[1;33mWARNING: Lyrics not found for 'chance' by neffex using all available providers.\u001b[0m\n"
     ]
    },
    {
     "name": "stdout",
     "output_type": "stream",
     "text": [
      "\u001b[1;32mINFO: Lyrics not found for song: chance by neffex. Skipping...\u001b[0m\n",
      "\u001b[1;32mINFO: Fetched Spotify audio features for crown by neffex\u001b[0m\n"
     ]
    },
    {
     "name": "stderr",
     "output_type": "stream",
     "text": [
      "\u001b[1;33mWARNING: Lyrics not found for 'crown' by neffex using all available providers.\u001b[0m\n"
     ]
    },
    {
     "name": "stdout",
     "output_type": "stream",
     "text": [
      "\u001b[1;32mINFO: Lyrics not found for song: crown by neffex. Skipping...\u001b[0m\n",
      "\u001b[1;32mINFO: Fetched Spotify audio features for this feeling by the chainsmokers\u001b[0m\n",
      "\u001b[1;32mINFO: Downloaded song: this feeling\u001b[0m           \n",
      "\u001b[1;32mINFO: Completed processing for song: this feeling by the chainsmokers\u001b[0m\n",
      "\u001b[1;32mINFO: Fetched Spotify audio features for all falls down by alan walker\u001b[0m\n",
      "\u001b[1;32mINFO: Downloaded song: all falls down\u001b[0m         \n",
      "\u001b[1;32mINFO: Completed processing for song: all falls down by alan walker\u001b[0m\n",
      "\u001b[1;32mINFO: Fetched Spotify audio features for shut down by blackpink\u001b[0m\n",
      "\u001b[1;32mINFO: Downloaded song: shut down\u001b[0m              \n",
      "\u001b[1;32mINFO: Completed processing for song: shut down by blackpink\u001b[0m\n",
      "\u001b[1;32mINFO: Fetched Spotify audio features for stabbing in the dark by ice nine kills\u001b[0m\n",
      "\u001b[1;32mINFO: Downloaded song: stabbing in the dark\u001b[0m   \n",
      "\u001b[1;32mINFO: Completed processing for song: stabbing in the dark by ice nine kills\u001b[0m\n",
      "\u001b[1;32mINFO: Fetched Spotify audio features for wish you were here by neck deep\u001b[0m\n",
      "\u001b[1;32mINFO: Downloaded song: wish you were here\u001b[0m     \n",
      "\u001b[1;32mINFO: Completed processing for song: wish you were here by neck deep\u001b[0m\n",
      "\u001b[1;32mINFO: Fetched Spotify audio features for teardrops by bring me the horizon\u001b[0m\n",
      "\u001b[1;32mINFO: Downloaded song: teardrops\u001b[0m              \n",
      "\u001b[1;32mINFO: Completed processing for song: teardrops by bring me the horizon\u001b[0m\n",
      "\u001b[1;32mINFO: Fetched Spotify audio features for enemy by imagine dragons\u001b[0m\n",
      "\u001b[1;32mINFO: Downloaded song: enemy\u001b[0m                    \n",
      "\u001b[1;32mINFO: Completed processing for song: enemy by imagine dragons\u001b[0m\n",
      "\u001b[1;32mINFO: Fetched Spotify audio features for dream&blue by nuu$hi\u001b[0m\n"
     ]
    },
    {
     "name": "stderr",
     "output_type": "stream",
     "text": [
      "\u001b[1;33mWARNING: Lyrics not found for 'dream&blue' by nuu$hi using all available providers.\u001b[0m\n"
     ]
    },
    {
     "name": "stdout",
     "output_type": "stream",
     "text": [
      "\u001b[1;32mINFO: Lyrics not found for song: dream&blue by nuu$hi. Skipping...\u001b[0m\n",
      "\u001b[1;32mINFO: Fetched Spotify audio features for hands up by cherry bullet\u001b[0m\n"
     ]
    },
    {
     "name": "stderr",
     "output_type": "stream",
     "text": [
      "\u001b[1;33mWARNING: Lyrics not found for 'hands up' by cherry bullet using all available providers.\u001b[0m\n"
     ]
    },
    {
     "name": "stdout",
     "output_type": "stream",
     "text": [
      "\u001b[1;32mINFO: Lyrics not found for song: hands up by cherry bullet. Skipping...\u001b[0m\n",
      "\u001b[1;32mINFO: Fetched Spotify audio features for where we started by jex\u001b[0m\n"
     ]
    },
    {
     "name": "stderr",
     "output_type": "stream",
     "text": [
      "\u001b[1;33mWARNING: Lyrics not found for 'where we started' by jex using all available providers.\u001b[0m\n"
     ]
    },
    {
     "name": "stdout",
     "output_type": "stream",
     "text": [
      "\u001b[1;32mINFO: Lyrics not found for song: where we started by jex. Skipping...\u001b[0m\n",
      "\u001b[1;32mINFO: Fetched Spotify audio features for vision pt. ii by lost sky\u001b[0m\n",
      "\u001b[1;32mINFO: Downloaded song: vision pt. ii\u001b[0m          \n",
      "\u001b[1;32mINFO: Completed processing for song: vision pt. ii by lost sky\u001b[0m\n",
      "\u001b[1;32mINFO: Fetched Spotify audio features for never be alone by ray volpe\u001b[0m\n"
     ]
    },
    {
     "name": "stderr",
     "output_type": "stream",
     "text": [
      "\u001b[1;33mWARNING: Lyrics not found for 'never be alone' by ray volpe using all available providers.\u001b[0m\n"
     ]
    },
    {
     "name": "stdout",
     "output_type": "stream",
     "text": [
      "\u001b[1;32mINFO: Lyrics not found for song: never be alone by ray volpe. Skipping...\u001b[0m\n",
      "\u001b[1;32mINFO: Fetched Spotify audio features for poison by roy knox\u001b[0m\n"
     ]
    },
    {
     "name": "stderr",
     "output_type": "stream",
     "text": [
      "\u001b[1;33mWARNING: Lyrics not found for 'poison' by roy knox using all available providers.\u001b[0m\n"
     ]
    },
    {
     "name": "stdout",
     "output_type": "stream",
     "text": [
      "\u001b[1;32mINFO: Lyrics not found for song: poison by roy knox. Skipping...\u001b[0m\n",
      "\u001b[1;32mINFO: Fetched Spotify audio features for scared to be lonely by martin garrix\u001b[0m\n",
      "\u001b[1;32mINFO: Downloaded song: scared to be lonely\u001b[0m    \n",
      "\u001b[1;32mINFO: Completed processing for song: scared to be lonely by martin garrix\u001b[0m\n",
      "\u001b[1;32mINFO: Fetched Spotify audio features for open spaces by just a gent\u001b[0m\n",
      "\u001b[1;32mINFO: Downloaded song: open spaces\u001b[0m              \n",
      "\u001b[1;32mINFO: Completed processing for song: open spaces by just a gent\u001b[0m\n",
      "\u001b[1;32mINFO: Fetched Spotify audio features for love runs out by martin garrix\u001b[0m\n",
      "\u001b[1;32mINFO: Downloaded song: love runs out\u001b[0m          \n",
      "\u001b[1;32mINFO: Completed processing for song: love runs out by martin garrix\u001b[0m\n",
      "\u001b[1;32mINFO: Fetched Spotify audio features for used to love by martin garrix\u001b[0m\n",
      "\u001b[1;32mINFO: Downloaded song: used to love\u001b[0m             \n",
      "\u001b[1;32mINFO: Completed processing for song: used to love by martin garrix\u001b[0m\n",
      "\u001b[1;32mINFO: Fetched Spotify audio features for the grey by bad omens\u001b[0m\n"
     ]
    },
    {
     "name": "stderr",
     "output_type": "stream",
     "text": [
      "\u001b[1;33mWARNING: Lyrics not found for 'the grey' by bad omens using all available providers.\u001b[0m\n"
     ]
    },
    {
     "name": "stdout",
     "output_type": "stream",
     "text": [
      "\u001b[1;32mINFO: Lyrics not found for song: the grey by bad omens. Skipping...\u001b[0m\n",
      "\u001b[1;32mINFO: Fetched Spotify audio features for find you there by chenda\u001b[0m\n",
      "\u001b[1;32mINFO: Downloaded song: find you there\u001b[0m           \n",
      "\u001b[1;32mINFO: Completed processing for song: find you there by chenda\u001b[0m\n",
      "\u001b[1;32mINFO: Fetched Spotify audio features for falling by trevor daniel\u001b[0m\n",
      "\u001b[1;32mINFO: Downloaded song: falling\u001b[0m                  \n",
      "\u001b[1;32mINFO: Completed processing for song: falling by trevor daniel\u001b[0m\n",
      "\u001b[1;32mINFO: Fetched Spotify audio features for end like this by steve aoki\u001b[0m\n",
      "\u001b[1;32mINFO: Downloaded song: end like this\u001b[0m          \n",
      "\u001b[1;32mINFO: Completed processing for song: end like this by steve aoki\u001b[0m\n",
      "\u001b[1;32mINFO: Fetched Spotify audio features for play me like a violin by stephen\u001b[0m\n",
      "\u001b[1;32mINFO: Downloaded song: play me like a violin\u001b[0m  \n",
      "\u001b[1;32mINFO: Completed processing for song: play me like a violin by stephen\u001b[0m\n",
      "\u001b[1;32mINFO: Fetched Spotify audio features for stranger things by kygo\u001b[0m\n",
      "\u001b[1;32mINFO: Downloaded song: stranger things\u001b[0m        \n",
      "\u001b[1;32mINFO: Completed processing for song: stranger things by kygo\u001b[0m\n",
      "\u001b[1;32mINFO: Fetched Spotify audio features for swim by chase atlantic\u001b[0m\n",
      "\u001b[1;32mINFO: Downloaded song: swim\u001b[0m                   \n",
      "\u001b[1;32mINFO: Completed processing for song: swim by chase atlantic\u001b[0m\n",
      "\u001b[1;32mINFO: Fetched Spotify audio features for consume by chase atlantic\u001b[0m\n",
      "\u001b[1;32mINFO: Downloaded song: consume\u001b[0m                \n",
      "\u001b[1;32mINFO: Completed processing for song: consume by chase atlantic\u001b[0m\n",
      "\u001b[1;32mINFO: Fetched Spotify audio features for ohmami by chase atlantic\u001b[0m\n",
      "\u001b[1;32mINFO: Downloaded song: ohmami\u001b[0m                 \n",
      "\u001b[1;32mINFO: Completed processing for song: ohmami by chase atlantic\u001b[0m\n",
      "\u001b[1;32mINFO: Fetched Spotify audio features for money by lisa\u001b[0m\n"
     ]
    },
    {
     "name": "stderr",
     "output_type": "stream",
     "text": [
      "\u001b[1;33mWARNING: Lyrics not found for 'money' by lisa using all available providers.\u001b[0m\n"
     ]
    },
    {
     "name": "stdout",
     "output_type": "stream",
     "text": [
      "\u001b[1;32mINFO: Lyrics not found for song: money by lisa. Skipping...\u001b[0m\n",
      "\u001b[1;32mINFO: Fetched Spotify audio features for middle of the night by elley duhé\u001b[0m\n",
      "\u001b[1;32mINFO: Downloaded song: middle of the night\u001b[0m      \n",
      "\u001b[1;32mINFO: Completed processing for song: middle of the night by elley duhé\u001b[0m\n",
      "\u001b[1;32mINFO: Fetched Spotify audio features for happy now by zedd\u001b[0m\n",
      "\u001b[1;32mINFO: Downloaded song: happy now\u001b[0m              \n",
      "\u001b[1;32mINFO: Completed processing for song: happy now by zedd\u001b[0m\n",
      "\u001b[1;32mINFO: Fetched Spotify audio features for royalty by egzod\u001b[0m\n",
      "\u001b[1;32mINFO: Downloaded song: royalty\u001b[0m                \n",
      "\u001b[1;32mINFO: Completed processing for song: royalty by egzod\u001b[0m\n",
      "\u001b[1;32mINFO: Fetched Spotify audio features for dreams pt. ii by sara skinner\u001b[0m\n"
     ]
    },
    {
     "name": "stderr",
     "output_type": "stream",
     "text": [
      "\u001b[1;33mWARNING: Lyrics not found for 'dreams pt. ii' by sara skinner using all available providers.\u001b[0m\n"
     ]
    },
    {
     "name": "stdout",
     "output_type": "stream",
     "text": [
      "\u001b[1;32mINFO: Lyrics not found for song: dreams pt. ii by sara skinner. Skipping...\u001b[0m\n",
      "\u001b[1;32mINFO: Fetched Spotify audio features for no glory by skan\u001b[0m\n",
      "\u001b[1;32mINFO: Downloaded song: no glory\u001b[0m                 \n",
      "\u001b[1;32mINFO: Completed processing for song: no glory by skan\u001b[0m\n",
      "\u001b[1;32mINFO: Fetched Spotify audio features for last summer by tokyo machine\u001b[0m\n"
     ]
    },
    {
     "name": "stderr",
     "output_type": "stream",
     "text": [
      "\u001b[1;33mWARNING: Lyrics not found for 'last summer' by tokyo machine using all available providers.\u001b[0m\n"
     ]
    },
    {
     "name": "stdout",
     "output_type": "stream",
     "text": [
      "\u001b[1;32mINFO: Lyrics not found for song: last summer by tokyo machine. Skipping...\u001b[0m\n",
      "\u001b[1;32mINFO: Fetched Spotify audio features for normal no more by tysm\u001b[0m\n",
      "\u001b[1;32mINFO: Downloaded song: normal no more\u001b[0m         \n",
      "\u001b[1;32mINFO: Completed processing for song: normal no more by tysm\u001b[0m\n",
      "\u001b[1;32mINFO: Fetched Spotify audio features for way back by skrillex\u001b[0m\n"
     ]
    },
    {
     "name": "stderr",
     "output_type": "stream",
     "text": [
      "\u001b[1;33mWARNING: Lyrics not found for 'way back' by skrillex using all available providers.\u001b[0m\n"
     ]
    },
    {
     "name": "stdout",
     "output_type": "stream",
     "text": [
      "\u001b[1;32mINFO: Lyrics not found for song: way back by skrillex. Skipping...\u001b[0m\n",
      "\u001b[1;32mINFO: Fetched Spotify audio features for stereo love by edward maya\u001b[0m\n",
      "\u001b[1;32mINFO: Downloaded song: stereo love\u001b[0m              \n",
      "\u001b[1;32mINFO: Completed processing for song: stereo love by edward maya\u001b[0m\n",
      "\u001b[1;32mINFO: Fetched Spotify audio features for dumb dub by killin' void\u001b[0m\n"
     ]
    },
    {
     "name": "stderr",
     "output_type": "stream",
     "text": [
      "\u001b[1;33mWARNING: Lyrics not found for 'dumb dub' by killin' void using all available providers.\u001b[0m\n"
     ]
    },
    {
     "name": "stdout",
     "output_type": "stream",
     "text": [
      "\u001b[1;32mINFO: Lyrics not found for song: dumb dub by killin' void. Skipping...\u001b[0m\n",
      "\u001b[1;32mINFO: Fetched Spotify audio features for good things fall apart by illenium\u001b[0m\n",
      "\u001b[1;32mINFO: Downloaded song: good things fall apart\u001b[0m \n",
      "\u001b[1;32mINFO: Completed processing for song: good things fall apart by illenium\u001b[0m\n",
      "\u001b[1;32mINFO: Fetched Spotify audio features for darkside by neoni\u001b[0m\n"
     ]
    },
    {
     "name": "stderr",
     "output_type": "stream",
     "text": [
      "\u001b[1;33mWARNING: Lyrics not found for 'darkside' by neoni using all available providers.\u001b[0m\n"
     ]
    },
    {
     "name": "stdout",
     "output_type": "stream",
     "text": [
      "\u001b[1;32mINFO: Lyrics not found for song: darkside by neoni. Skipping...\u001b[0m\n",
      "\u001b[1;32mINFO: Fetched Spotify audio features for monster by undream\u001b[0m\n"
     ]
    },
    {
     "name": "stderr",
     "output_type": "stream",
     "text": [
      "\u001b[1;33mWARNING: Lyrics not found for 'monster' by undream using all available providers.\u001b[0m\n"
     ]
    },
    {
     "name": "stdout",
     "output_type": "stream",
     "text": [
      "\u001b[1;32mINFO: Lyrics not found for song: monster by undream. Skipping...\u001b[0m\n",
      "\u001b[1;32mINFO: Fetched Spotify audio features for lost by illenium\u001b[0m\n"
     ]
    },
    {
     "name": "stderr",
     "output_type": "stream",
     "text": [
      "\u001b[1;33mWARNING: Lyrics not found for 'lost' by illenium using all available providers.\u001b[0m\n"
     ]
    },
    {
     "name": "stdout",
     "output_type": "stream",
     "text": [
      "\u001b[1;32mINFO: Lyrics not found for song: lost by illenium. Skipping...\u001b[0m\n",
      "\u001b[1;32mINFO: Fetched Spotify audio features for demons by bear grillz\u001b[0m\n"
     ]
    },
    {
     "name": "stderr",
     "output_type": "stream",
     "text": [
      "\u001b[1;33mWARNING: Lyrics not found for 'demons' by bear grillz using all available providers.\u001b[0m\n"
     ]
    },
    {
     "name": "stdout",
     "output_type": "stream",
     "text": [
      "\u001b[1;32mINFO: Lyrics not found for song: demons by bear grillz. Skipping...\u001b[0m\n",
      "\u001b[1;32mINFO: Fetched Spotify audio features for close by conro\u001b[0m\n"
     ]
    },
    {
     "name": "stderr",
     "output_type": "stream",
     "text": [
      "\u001b[1;33mWARNING: Lyrics not found for 'close' by conro using all available providers.\u001b[0m\n"
     ]
    },
    {
     "name": "stdout",
     "output_type": "stream",
     "text": [
      "\u001b[1;32mINFO: Lyrics not found for song: close by conro. Skipping...\u001b[0m\n",
      "\u001b[1;32mINFO: Fetched Spotify audio features for circus by conro\u001b[0m\n"
     ]
    },
    {
     "name": "stderr",
     "output_type": "stream",
     "text": [
      "\u001b[1;33mWARNING: Lyrics not found for 'circus' by conro using all available providers.\u001b[0m\n"
     ]
    },
    {
     "name": "stdout",
     "output_type": "stream",
     "text": [
      "\u001b[1;32mINFO: Lyrics not found for song: circus by conro. Skipping...\u001b[0m\n",
      "\u001b[1;32mINFO: Fetched Spotify audio features for chance on faith by uplink\u001b[0m\n",
      "\u001b[1;32mINFO: Downloaded song: chance on faith\u001b[0m          \n",
      "\u001b[1;32mINFO: Completed processing for song: chance on faith by uplink\u001b[0m\n",
      "\u001b[1;32mINFO: Fetched Spotify audio features for akuma  悪魔 by kowz\u001b[0m\n",
      "\u001b[1;32mINFO: Downloaded song: akuma  悪魔\u001b[0m              \n",
      "\u001b[1;32mINFO: Completed processing for song: akuma  悪魔 by kowz\u001b[0m\n",
      "\u001b[1;32mINFO: Fetched Spotify audio features for 20 min by lil uzi vert\u001b[0m\n",
      "\u001b[1;32mINFO: Downloaded song: 20 min\u001b[0m                   \n",
      "\u001b[1;32mINFO: Completed processing for song: 20 min by lil uzi vert\u001b[0m\n",
      "\u001b[1;32mINFO: Fetched Spotify audio features for ringo by itzy\u001b[0m\n",
      "\u001b[1;32mINFO: Skipping download for ringo by itzy as it already exists.\u001b[0m\n",
      "\u001b[1;32mINFO: Completed processing for song: ringo by itzy\u001b[0m\n",
      "\u001b[1;32mINFO: Fetched Spotify audio features for voltage by itzy\u001b[0m\n",
      "\u001b[1;32mINFO: Skipping download for voltage by itzy as it already exists.\u001b[0m\n",
      "\u001b[1;32mINFO: Completed processing for song: voltage by itzy\u001b[0m\n",
      "\u001b[1;32mINFO: Fetched Spotify audio features for blah blah blah by itzy\u001b[0m\n"
     ]
    },
    {
     "name": "stderr",
     "output_type": "stream",
     "text": [
      "\u001b[1;33mWARNING: Lyrics not found for 'blah blah blah' by itzy using all available providers.\u001b[0m\n"
     ]
    },
    {
     "name": "stdout",
     "output_type": "stream",
     "text": [
      "\u001b[1;32mINFO: Lyrics not found for song: blah blah blah by itzy. Skipping...\u001b[0m\n",
      "\u001b[1;32mINFO: Fetched Spotify audio features for slow down by sp3ctrum\u001b[0m\n"
     ]
    },
    {
     "name": "stderr",
     "output_type": "stream",
     "text": [
      "\u001b[1;33mWARNING: Lyrics not found for 'slow down' by sp3ctrum using all available providers.\u001b[0m\n"
     ]
    },
    {
     "name": "stdout",
     "output_type": "stream",
     "text": [
      "\u001b[1;32mINFO: Lyrics not found for song: slow down by sp3ctrum. Skipping...\u001b[0m\n",
      "\u001b[1;32mINFO: Fetched Spotify audio features for mirrors by djsm\u001b[0m\n"
     ]
    },
    {
     "name": "stderr",
     "output_type": "stream",
     "text": [
      "\u001b[1;33mWARNING: Lyrics not found for 'mirrors' by djsm using all available providers.\u001b[0m\n"
     ]
    },
    {
     "name": "stdout",
     "output_type": "stream",
     "text": [
      "\u001b[1;32mINFO: Lyrics not found for song: mirrors by djsm. Skipping...\u001b[0m\n",
      "\u001b[1;32mINFO: Fetched Spotify audio features for monster by vesk green\u001b[0m\n"
     ]
    },
    {
     "name": "stderr",
     "output_type": "stream",
     "text": [
      "\u001b[1;33mWARNING: Lyrics not found for 'monster' by vesk green using all available providers.\u001b[0m\n"
     ]
    },
    {
     "name": "stdout",
     "output_type": "stream",
     "text": [
      "\u001b[1;32mINFO: Lyrics not found for song: monster by vesk green. Skipping...\u001b[0m\n",
      "\u001b[1;32mINFO: Fetched Spotify audio features for it's not love by whales\u001b[0m\n",
      "\u001b[1;32mINFO: Downloaded song: it's not love\u001b[0m          \n",
      "\u001b[1;32mINFO: Completed processing for song: it's not love by whales\u001b[0m\n",
      "\u001b[1;32mINFO: Fetched Spotify audio features for dead to me by whales\u001b[0m\n",
      "\u001b[1;32mINFO: Downloaded song: dead to me\u001b[0m               \n",
      "\u001b[1;32mINFO: Completed processing for song: dead to me by whales\u001b[0m\n",
      "\u001b[1;32mINFO: Fetched Spotify audio features for love & war by yellow claw\u001b[0m\n",
      "\u001b[1;32mINFO: Downloaded song: love & war\u001b[0m             \n",
      "\u001b[1;32mINFO: Completed processing for song: love & war by yellow claw\u001b[0m\n",
      "\u001b[1;32mINFO: Fetched Spotify audio features for till it hurts by yellow claw\u001b[0m\n",
      "\u001b[1;32mINFO: Downloaded song: till it hurts\u001b[0m          \n",
      "\u001b[1;32mINFO: Completed processing for song: till it hurts by yellow claw\u001b[0m\n",
      "\u001b[1;32mINFO: Fetched Spotify audio features for everything goes on by porter robinson\u001b[0m\n",
      "\u001b[1;32mINFO: Downloaded song: everything goes on\u001b[0m     \n",
      "\u001b[1;32mINFO: Completed processing for song: everything goes on by porter robinson\u001b[0m\n",
      "\u001b[1;32mINFO: Fetched Spotify audio features for mind games by sickick\u001b[0m\n",
      "\u001b[1;32mINFO: Downloaded song: mind games\u001b[0m             \n",
      "\u001b[1;32mINFO: Completed processing for song: mind games by sickick\u001b[0m\n",
      "\u001b[1;32mINFO: Fetched Spotify audio features for shakira! by 1nonly\u001b[0m\n"
     ]
    },
    {
     "name": "stderr",
     "output_type": "stream",
     "text": [
      "\u001b[1;33mWARNING: Lyrics not found for 'shakira!' by 1nonly using all available providers.\u001b[0m\n"
     ]
    },
    {
     "name": "stdout",
     "output_type": "stream",
     "text": [
      "\u001b[1;32mINFO: Lyrics not found for song: shakira! by 1nonly. Skipping...\u001b[0m\n",
      "\u001b[1;32mINFO: Fetched Spotify audio features for glow in the dark by kai wachi\u001b[0m\n"
     ]
    },
    {
     "name": "stderr",
     "output_type": "stream",
     "text": [
      "\u001b[1;33mWARNING: Lyrics not found for 'glow in the dark' by kai wachi using all available providers.\u001b[0m\n"
     ]
    },
    {
     "name": "stdout",
     "output_type": "stream",
     "text": [
      "\u001b[1;32mINFO: Lyrics not found for song: glow in the dark by kai wachi. Skipping...\u001b[0m\n",
      "\u001b[1;32mINFO: Fetched Spotify audio features for we'll meet again by thefatrat\u001b[0m\n",
      "\u001b[1;32mINFO: Downloaded song: we'll meet again\u001b[0m       \n",
      "\u001b[1;32mINFO: Completed processing for song: we'll meet again by thefatrat\u001b[0m\n",
      "\u001b[1;32mINFO: Fetched Spotify audio features for sweet dreams by rezz\u001b[0m\n"
     ]
    },
    {
     "name": "stderr",
     "output_type": "stream",
     "text": [
      "\u001b[1;33mWARNING: Lyrics not found for 'sweet dreams' by rezz using all available providers.\u001b[0m\n"
     ]
    },
    {
     "name": "stdout",
     "output_type": "stream",
     "text": [
      "\u001b[1;32mINFO: Lyrics not found for song: sweet dreams by rezz. Skipping...\u001b[0m\n",
      "\u001b[1;32mINFO: Fetched Spotify audio features for rise up by m.i.m.e\u001b[0m\n"
     ]
    },
    {
     "name": "stderr",
     "output_type": "stream",
     "text": [
      "\u001b[1;33mWARNING: Lyrics not found for 'rise up' by m.i.m.e using all available providers.\u001b[0m\n"
     ]
    },
    {
     "name": "stdout",
     "output_type": "stream",
     "text": [
      "\u001b[1;32mINFO: Lyrics not found for song: rise up by m.i.m.e. Skipping...\u001b[0m\n",
      "\u001b[1;32mINFO: Fetched Spotify audio features for warriors by asketa & natan chaim\u001b[0m\n"
     ]
    },
    {
     "name": "stderr",
     "output_type": "stream",
     "text": [
      "\u001b[1;33mWARNING: Lyrics not found for 'warriors' by asketa & natan chaim using all available providers.\u001b[0m\n"
     ]
    },
    {
     "name": "stdout",
     "output_type": "stream",
     "text": [
      "\u001b[1;32mINFO: Lyrics not found for song: warriors by asketa & natan chaim. Skipping...\u001b[0m\n",
      "\u001b[1;32mINFO: Fetched Spotify audio features for bring me to life by teminite\u001b[0m\n"
     ]
    },
    {
     "name": "stderr",
     "output_type": "stream",
     "text": [
      "\u001b[1;33mWARNING: Lyrics not found for 'bring me to life' by teminite using all available providers.\u001b[0m\n"
     ]
    },
    {
     "name": "stdout",
     "output_type": "stream",
     "text": [
      "\u001b[1;32mINFO: Lyrics not found for song: bring me to life by teminite. Skipping...\u001b[0m\n",
      "\u001b[1;32mINFO: Fetched Spotify audio features for without you by neffex\u001b[0m\n"
     ]
    },
    {
     "name": "stderr",
     "output_type": "stream",
     "text": [
      "\u001b[1;33mWARNING: Lyrics not found for 'without you' by neffex using all available providers.\u001b[0m\n"
     ]
    },
    {
     "name": "stdout",
     "output_type": "stream",
     "text": [
      "\u001b[1;32mINFO: Lyrics not found for song: without you by neffex. Skipping...\u001b[0m\n",
      "\u001b[1;32mINFO: Fetched Spotify audio features for idwt$ by bad omens\u001b[0m\n",
      "\u001b[1;32mINFO: Downloaded song: idwt$\u001b[0m                    \n",
      "\u001b[1;32mINFO: Completed processing for song: idwt$ by bad omens\u001b[0m\n",
      "\u001b[1;32mINFO: Fetched Spotify audio features for dead love by magic bite\u001b[0m\n"
     ]
    },
    {
     "name": "stderr",
     "output_type": "stream",
     "text": [
      "\u001b[1;33mWARNING: Lyrics not found for 'dead love' by magic bite using all available providers.\u001b[0m\n"
     ]
    },
    {
     "name": "stdout",
     "output_type": "stream",
     "text": [
      "\u001b[1;32mINFO: Lyrics not found for song: dead love by magic bite. Skipping...\u001b[0m\n",
      "\u001b[1;32mINFO: Fetched Spotify audio features for numb by neffex\u001b[0m\n"
     ]
    },
    {
     "name": "stderr",
     "output_type": "stream",
     "text": [
      "\u001b[1;33mWARNING: Lyrics not found for 'numb' by neffex using all available providers.\u001b[0m\n"
     ]
    },
    {
     "name": "stdout",
     "output_type": "stream",
     "text": [
      "\u001b[1;32mINFO: Lyrics not found for song: numb by neffex. Skipping...\u001b[0m\n",
      "\u001b[1;32mINFO: Fetched Spotify audio features for struggle by neffex\u001b[0m\n"
     ]
    },
    {
     "name": "stderr",
     "output_type": "stream",
     "text": [
      "\u001b[1;33mWARNING: Lyrics not found for 'struggle' by neffex using all available providers.\u001b[0m\n"
     ]
    },
    {
     "name": "stdout",
     "output_type": "stream",
     "text": [
      "\u001b[1;32mINFO: Lyrics not found for song: struggle by neffex. Skipping...\u001b[0m\n",
      "\u001b[1;32mINFO: Fetched Spotify audio features for without me by halsey\u001b[0m\n",
      "\u001b[1;32mINFO: Downloaded song: without me\u001b[0m               \n",
      "\u001b[1;32mINFO: Completed processing for song: without me by halsey\u001b[0m\n",
      "\u001b[1;32mINFO: Fetched Spotify audio features for why do i try by gill chang\u001b[0m\n"
     ]
    },
    {
     "name": "stderr",
     "output_type": "stream",
     "text": [
      "\u001b[1;33mWARNING: Lyrics not found for 'why do i try' by gill chang using all available providers.\u001b[0m\n"
     ]
    },
    {
     "name": "stdout",
     "output_type": "stream",
     "text": [
      "\u001b[1;32mINFO: Lyrics not found for song: why do i try by gill chang. Skipping...\u001b[0m\n",
      "\u001b[1;32mINFO: Fetched Spotify audio features for payphone by maroon 5\u001b[0m\n"
     ]
    },
    {
     "name": "stderr",
     "output_type": "stream",
     "text": [
      "ERROR: [youtube] KRaWnd3LJfs: Sign in to confirm you’re not a bot. This helps protect our community. Learn more\n",
      "Failed to download from YouTube URL 'https://www.youtube.com/watch?v=KRaWnd3LJfs&pp=ygUTbWFyb29uIDUgLSBwYXlwaG9uZQ%3D%3D': ERROR: [youtube] KRaWnd3LJfs: Sign in to confirm you’re not a bot. This helps protect our community. Learn more\n",
      "\u001b[1;33mWARNING: Failed to download song: payphone\u001b[0m\n"
     ]
    },
    {
     "name": "stdout",
     "output_type": "stream",
     "text": [
      "\u001b[1;32mINFO: Completed processing for song: payphone by maroon 5\u001b[0m\n",
      "\u001b[1;32mINFO: Fetched Spotify audio features for survive by flux pavilion\u001b[0m\n"
     ]
    },
    {
     "name": "stderr",
     "output_type": "stream",
     "text": [
      "\u001b[1;33mWARNING: Lyrics not found for 'survive' by flux pavilion using all available providers.\u001b[0m\n"
     ]
    },
    {
     "name": "stdout",
     "output_type": "stream",
     "text": [
      "\u001b[1;32mINFO: Lyrics not found for song: survive by flux pavilion. Skipping...\u001b[0m\n",
      "\u001b[1;32mINFO: Fetched Spotify audio features for die 4 u by if found\u001b[0m\n"
     ]
    },
    {
     "name": "stderr",
     "output_type": "stream",
     "text": [
      "ERROR: [youtube] x7Sh-7m46Rk: Sign in to confirm you’re not a bot. This helps protect our community. Learn more\n",
      "Failed to download from YouTube URL 'https://www.youtube.com/watch?v=x7Sh-7m46Rk&pp=ygUSaWYgZm91bmQgLSBkaWUgNCB1': ERROR: [youtube] x7Sh-7m46Rk: Sign in to confirm you’re not a bot. This helps protect our community. Learn more\n",
      "\u001b[1;33mWARNING: Failed to download song: die 4 u\u001b[0m\n"
     ]
    },
    {
     "name": "stdout",
     "output_type": "stream",
     "text": [
      "\u001b[1;32mINFO: Completed processing for song: die 4 u by if found\u001b[0m\n",
      "\u001b[1;32mINFO: Fetched Spotify audio features for lean on by major lazer\u001b[0m\n"
     ]
    },
    {
     "name": "stderr",
     "output_type": "stream",
     "text": [
      "ERROR: [youtube] YqeW9_5kURI: Sign in to confirm you’re not a bot. This helps protect our community. Learn more\n",
      "Failed to download from YouTube URL 'https://www.youtube.com/watch?v=YqeW9_5kURI&pp=ygUVbWFqb3IgbGF6ZXIgLSBsZWFuIG9u': ERROR: [youtube] YqeW9_5kURI: Sign in to confirm you’re not a bot. This helps protect our community. Learn more\n",
      "\u001b[1;33mWARNING: Failed to download song: lean on\u001b[0m\n"
     ]
    },
    {
     "name": "stdout",
     "output_type": "stream",
     "text": [
      "\u001b[1;32mINFO: Completed processing for song: lean on by major lazer\u001b[0m\n",
      "\u001b[1;32mINFO: Fetched Spotify audio features for cold water by major lazer\u001b[0m\n"
     ]
    },
    {
     "name": "stderr",
     "output_type": "stream",
     "text": [
      "ERROR: [youtube] a59gmGkq_pw: Sign in to confirm you’re not a bot. This helps protect our community. Learn more\n",
      "Failed to download from YouTube URL 'https://www.youtube.com/watch?v=a59gmGkq_pw&pp=ygUYbWFqb3IgbGF6ZXIgLSBjb2xkIHdhdGVy': ERROR: [youtube] a59gmGkq_pw: Sign in to confirm you’re not a bot. This helps protect our community. Learn more\n",
      "\u001b[1;33mWARNING: Failed to download song: cold water\u001b[0m\n"
     ]
    },
    {
     "name": "stdout",
     "output_type": "stream",
     "text": [
      "\u001b[1;32mINFO: Completed processing for song: cold water by major lazer\u001b[0m\n",
      "\u001b[1;32mINFO: Fetched Spotify audio features for middle by dj snake\u001b[0m\n"
     ]
    },
    {
     "name": "stderr",
     "output_type": "stream",
     "text": [
      "ERROR: [youtube] IvPT2QuCIOA: Sign in to confirm you’re not a bot. This helps protect our community. Learn more\n",
      "Failed to download from YouTube URL 'https://www.youtube.com/watch?v=IvPT2QuCIOA&pp=ygURZGogc25ha2UgLSBtaWRkbGU%3D': ERROR: [youtube] IvPT2QuCIOA: Sign in to confirm you’re not a bot. This helps protect our community. Learn more\n",
      "\u001b[1;33mWARNING: Failed to download song: middle\u001b[0m\n"
     ]
    },
    {
     "name": "stdout",
     "output_type": "stream",
     "text": [
      "\u001b[1;32mINFO: Completed processing for song: middle by dj snake\u001b[0m\n",
      "\u001b[1;32mINFO: Fetched Spotify audio features for bloodbath by polyphia\u001b[0m\n"
     ]
    },
    {
     "name": "stderr",
     "output_type": "stream",
     "text": [
      "ERROR: [youtube] DOqLwO_7WaI: Sign in to confirm you’re not a bot. This helps protect our community. Learn more\n",
      "Failed to download from YouTube URL 'https://www.youtube.com/watch?v=DOqLwO_7WaI&pp=ygUUcG9seXBoaWEgLSBibG9vZGJhdGg%3D': ERROR: [youtube] DOqLwO_7WaI: Sign in to confirm you’re not a bot. This helps protect our community. Learn more\n",
      "\u001b[1;33mWARNING: Failed to download song: bloodbath\u001b[0m\n"
     ]
    },
    {
     "name": "stdout",
     "output_type": "stream",
     "text": [
      "\u001b[1;32mINFO: Completed processing for song: bloodbath by polyphia\u001b[0m\n",
      "\u001b[1;32mINFO: Fetched Spotify audio features for stupid in love by max\u001b[0m\n"
     ]
    },
    {
     "name": "stderr",
     "output_type": "stream",
     "text": [
      "ERROR: [youtube] cfA_ZNkvwsU: Sign in to confirm you’re not a bot. This helps protect our community. Learn more\n",
      "Failed to download from YouTube URL 'https://www.youtube.com/watch?v=cfA_ZNkvwsU&pp=ygUUbWF4IC0gc3R1cGlkIGluIGxvdmU%3D': ERROR: [youtube] cfA_ZNkvwsU: Sign in to confirm you’re not a bot. This helps protect our community. Learn more\n",
      "\u001b[1;33mWARNING: Failed to download song: stupid in love\u001b[0m\n"
     ]
    },
    {
     "name": "stdout",
     "output_type": "stream",
     "text": [
      "\u001b[1;32mINFO: Completed processing for song: stupid in love by max\u001b[0m\n",
      "\u001b[1;32mINFO: Fetched Spotify audio features for pretty savage by blackpink\u001b[0m\n"
     ]
    },
    {
     "name": "stderr",
     "output_type": "stream",
     "text": [
      "ERROR: [youtube] gU2HqP4NxUs: Sign in to confirm you’re not a bot. This helps protect our community. Learn more\n",
      "Failed to download from YouTube URL 'https://www.youtube.com/watch?v=gU2HqP4NxUs&pp=ygUZYmxhY2twaW5rIC0gcHJldHR5IHNhdmFnZQ%3D%3D': ERROR: [youtube] gU2HqP4NxUs: Sign in to confirm you’re not a bot. This helps protect our community. Learn more\n",
      "\u001b[1;33mWARNING: Failed to download song: pretty savage\u001b[0m\n"
     ]
    },
    {
     "name": "stdout",
     "output_type": "stream",
     "text": [
      "\u001b[1;32mINFO: Completed processing for song: pretty savage by blackpink\u001b[0m\n",
      "\u001b[1;32mINFO: Fetched Spotify audio features for fearless pt. ii by lost sky\u001b[0m\n"
     ]
    },
    {
     "name": "stderr",
     "output_type": "stream",
     "text": [
      "ERROR: [youtube] S19UcWdOA-I: Sign in to confirm you’re not a bot. This helps protect our community. Learn more\n",
      "Failed to download from YouTube URL 'https://www.youtube.com/watch?v=S19UcWdOA-I&pp=ygUabG9zdCBza3kgLSBmZWFybGVzcyBwdC4gaWk%3D': ERROR: [youtube] S19UcWdOA-I: Sign in to confirm you’re not a bot. This helps protect our community. Learn more\n",
      "\u001b[1;33mWARNING: Failed to download song: fearless pt. ii\u001b[0m\n"
     ]
    },
    {
     "name": "stdout",
     "output_type": "stream",
     "text": [
      "\u001b[1;32mINFO: Completed processing for song: fearless pt. ii by lost sky\u001b[0m\n",
      "\u001b[1;32mINFO: Fetched Spotify audio features for careless by neffex\u001b[0m\n"
     ]
    },
    {
     "name": "stderr",
     "output_type": "stream",
     "text": [
      "ERROR: [youtube] Z6L4u2i97Rw: Sign in to confirm you’re not a bot. This helps protect our community. Learn more\n",
      "Failed to download from YouTube URL 'https://www.youtube.com/watch?v=Z6L4u2i97Rw&pp=ygURbmVmZmV4IC0gY2FyZWxlc3M%3D': ERROR: [youtube] Z6L4u2i97Rw: Sign in to confirm you’re not a bot. This helps protect our community. Learn more\n",
      "\u001b[1;33mWARNING: Failed to download song: careless\u001b[0m\n"
     ]
    },
    {
     "name": "stdout",
     "output_type": "stream",
     "text": [
      "\u001b[1;32mINFO: Completed processing for song: careless by neffex\u001b[0m\n",
      "\u001b[1;32mINFO: Fetched Spotify audio features for savannah by diviners\u001b[0m\n"
     ]
    },
    {
     "name": "stderr",
     "output_type": "stream",
     "text": [
      "ERROR: [youtube] u1I9ITfzqFs: Sign in to confirm you’re not a bot. This helps protect our community. Learn more\n",
      "Failed to download from YouTube URL 'https://www.youtube.com/watch?v=u1I9ITfzqFs&pp=ygUTZGl2aW5lcnMgLSBzYXZhbm5haA%3D%3D': ERROR: [youtube] u1I9ITfzqFs: Sign in to confirm you’re not a bot. This helps protect our community. Learn more\n",
      "\u001b[1;33mWARNING: Failed to download song: savannah\u001b[0m\n"
     ]
    },
    {
     "name": "stdout",
     "output_type": "stream",
     "text": [
      "\u001b[1;32mINFO: Completed processing for song: savannah by diviners\u001b[0m\n",
      "\u001b[1;32mINFO: Fetched Spotify audio features for five nights at freddy's by the living tombstone\u001b[0m\n"
     ]
    },
    {
     "name": "stderr",
     "output_type": "stream",
     "text": [
      "ERROR: [youtube] l18A5BOTlzE: Sign in to confirm you’re not a bot. This helps protect our community. Learn more\n",
      "Failed to download from YouTube URL 'https://www.youtube.com/watch?v=l18A5BOTlzE&pp=ygUudGhlIGxpdmluZyB0b21ic3RvbmUgLSBmaXZlIG5pZ2h0cyBhdCBmcmVkZHkncw%3D%3D': ERROR: [youtube] l18A5BOTlzE: Sign in to confirm you’re not a bot. This helps protect our community. Learn more\n",
      "\u001b[1;33mWARNING: Failed to download song: five nights at freddy's\u001b[0m\n"
     ]
    },
    {
     "name": "stdout",
     "output_type": "stream",
     "text": [
      "\u001b[1;32mINFO: Completed processing for song: five nights at freddy's by the living tombstone\u001b[0m\n",
      "\u001b[1;32mINFO: Fetched Spotify audio features for it's been so long by the living tombstone\u001b[0m\n"
     ]
    },
    {
     "name": "stderr",
     "output_type": "stream",
     "text": [
      "ERROR: [youtube] gk-aCL6eyGc: Sign in to confirm you’re not a bot. This helps protect our community. Learn more\n",
      "Failed to download from YouTube URL 'https://www.youtube.com/watch?v=gk-aCL6eyGc&pp=ygUodGhlIGxpdmluZyB0b21ic3RvbmUgLSBpdCdzIGJlZW4gc28gbG9uZw%3D%3D': ERROR: [youtube] gk-aCL6eyGc: Sign in to confirm you’re not a bot. This helps protect our community. Learn more\n",
      "\u001b[1;33mWARNING: Failed to download song: it's been so long\u001b[0m\n"
     ]
    },
    {
     "name": "stdout",
     "output_type": "stream",
     "text": [
      "\u001b[1;32mINFO: Completed processing for song: it's been so long by the living tombstone\u001b[0m\n",
      "\u001b[1;32mINFO: Fetched Spotify audio features for i got no time by the living tombstone\u001b[0m\n"
     ]
    },
    {
     "name": "stderr",
     "output_type": "stream",
     "text": [
      "ERROR: [youtube] YREhVveHq9k: Sign in to confirm you’re not a bot. This helps protect our community. Learn more\n",
      "Failed to download from YouTube URL 'https://www.youtube.com/watch?v=YREhVveHq9k&pp=ygUkdGhlIGxpdmluZyB0b21ic3RvbmUgLSBpIGdvdCBubyB0aW1l': ERROR: [youtube] YREhVveHq9k: Sign in to confirm you’re not a bot. This helps protect our community. Learn more\n",
      "\u001b[1;33mWARNING: Failed to download song: i got no time\u001b[0m\n"
     ]
    },
    {
     "name": "stdout",
     "output_type": "stream",
     "text": [
      "\u001b[1;32mINFO: Completed processing for song: i got no time by the living tombstone\u001b[0m\n",
      "\u001b[1;32mINFO: Fetched Spotify audio features for always wanted by miatriss\u001b[0m\n"
     ]
    },
    {
     "name": "stderr",
     "output_type": "stream",
     "text": [
      "ERROR: [youtube] jrwE4YSA3Bc: Sign in to confirm you’re not a bot. This helps protect our community. Learn more\n",
      "Failed to download from YouTube URL 'https://www.youtube.com/watch?v=jrwE4YSA3Bc&pp=ygUYbWlhdHJpc3MgLSBhbHdheXMgd2FudGVk': ERROR: [youtube] jrwE4YSA3Bc: Sign in to confirm you’re not a bot. This helps protect our community. Learn more\n",
      "\u001b[1;33mWARNING: Failed to download song: always wanted\u001b[0m\n"
     ]
    },
    {
     "name": "stdout",
     "output_type": "stream",
     "text": [
      "\u001b[1;32mINFO: Completed processing for song: always wanted by miatriss\u001b[0m\n",
      "\u001b[1;32mINFO: Fetched Spotify audio features for die in a fire by the living tombstone\u001b[0m\n"
     ]
    },
    {
     "name": "stderr",
     "output_type": "stream",
     "text": [
      "ERROR: [youtube] AibtyCAhyQE: Sign in to confirm you’re not a bot. This helps protect our community. Learn more\n",
      "Failed to download from YouTube URL 'https://www.youtube.com/watch?v=AibtyCAhyQE&pp=ygUkdGhlIGxpdmluZyB0b21ic3RvbmUgLSBkaWUgaW4gYSBmaXJl': ERROR: [youtube] AibtyCAhyQE: Sign in to confirm you’re not a bot. This helps protect our community. Learn more\n",
      "\u001b[1;33mWARNING: Failed to download song: die in a fire\u001b[0m\n"
     ]
    },
    {
     "name": "stdout",
     "output_type": "stream",
     "text": [
      "\u001b[1;32mINFO: Completed processing for song: die in a fire by the living tombstone\u001b[0m\n",
      "\u001b[1;32mINFO: Fetched Spotify audio features for i can't fix you by the living tombstone\u001b[0m\n"
     ]
    },
    {
     "name": "stderr",
     "output_type": "stream",
     "text": [
      "ERROR: [youtube] kXMwZNRiPe0: Sign in to confirm you’re not a bot. This helps protect our community. Learn more\n",
      "Failed to download from YouTube URL 'https://www.youtube.com/watch?v=kXMwZNRiPe0&pp=ygUmdGhlIGxpdmluZyB0b21ic3RvbmUgLSBpIGNhbid0IGZpeCB5b3U%3D': ERROR: [youtube] kXMwZNRiPe0: Sign in to confirm you’re not a bot. This helps protect our community. Learn more\n",
      "\u001b[1;33mWARNING: Failed to download song: i can't fix you\u001b[0m\n"
     ]
    },
    {
     "name": "stdout",
     "output_type": "stream",
     "text": [
      "\u001b[1;32mINFO: Completed processing for song: i can't fix you by the living tombstone\u001b[0m\n",
      "\u001b[1;32mINFO: Fetched Spotify audio features for cake by itzy\u001b[0m\n"
     ]
    },
    {
     "name": "stderr",
     "output_type": "stream",
     "text": [
      "\u001b[1;33mWARNING: Lyrics not found for 'cake' by itzy using all available providers.\u001b[0m\n"
     ]
    },
    {
     "name": "stdout",
     "output_type": "stream",
     "text": [
      "\u001b[1;32mINFO: Lyrics not found for song: cake by itzy. Skipping...\u001b[0m\n",
      "\u001b[1;32mINFO: Fetched Spotify audio features for nevada by vicetone\u001b[0m\n"
     ]
    },
    {
     "name": "stderr",
     "output_type": "stream",
     "text": [
      "ERROR: [youtube] AnMhdn0wJ4I: Sign in to confirm you’re not a bot. This helps protect our community. Learn more\n",
      "Failed to download from YouTube URL 'https://www.youtube.com/watch?v=AnMhdn0wJ4I&pp=ygURdmljZXRvbmUgLSBuZXZhZGE%3D': ERROR: [youtube] AnMhdn0wJ4I: Sign in to confirm you’re not a bot. This helps protect our community. Learn more\n",
      "\u001b[1;33mWARNING: Failed to download song: nevada\u001b[0m\n"
     ]
    },
    {
     "name": "stdout",
     "output_type": "stream",
     "text": [
      "\u001b[1;32mINFO: Completed processing for song: nevada by vicetone\u001b[0m\n",
      "\u001b[1;32mINFO: Fetched Spotify audio features for howling by cartoon\u001b[0m\n"
     ]
    },
    {
     "name": "stderr",
     "output_type": "stream",
     "text": [
      "ERROR: [youtube] JiF3pbvR5G0: Sign in to confirm you’re not a bot. This helps protect our community. Learn more\n",
      "Failed to download from YouTube URL 'https://www.youtube.com/watch?v=JiF3pbvR5G0&pp=ygURY2FydG9vbiAtIGhvd2xpbmc%3D': ERROR: [youtube] JiF3pbvR5G0: Sign in to confirm you’re not a bot. This helps protect our community. Learn more\n",
      "\u001b[1;33mWARNING: Failed to download song: howling\u001b[0m\n"
     ]
    },
    {
     "name": "stdout",
     "output_type": "stream",
     "text": [
      "\u001b[1;32mINFO: Completed processing for song: howling by cartoon\u001b[0m\n",
      "\u001b[1;32mINFO: Fetched Spotify audio features for weakness by prismo\u001b[0m\n"
     ]
    },
    {
     "name": "stderr",
     "output_type": "stream",
     "text": [
      "ERROR: [youtube] SvRFNNbxuAk: Sign in to confirm you’re not a bot. This helps protect our community. Learn more\n",
      "Failed to download from YouTube URL 'https://www.youtube.com/watch?v=SvRFNNbxuAk&pp=ygURcHJpc21vIC0gd2Vha25lc3M%3D': ERROR: [youtube] SvRFNNbxuAk: Sign in to confirm you’re not a bot. This helps protect our community. Learn more\n",
      "\u001b[1;33mWARNING: Failed to download song: weakness\u001b[0m\n"
     ]
    },
    {
     "name": "stdout",
     "output_type": "stream",
     "text": [
      "\u001b[1;32mINFO: Completed processing for song: weakness by prismo\u001b[0m\n",
      "\u001b[1;32mINFO: Fetched Spotify audio features for andromeda by mr fijiwiji\u001b[0m\n"
     ]
    },
    {
     "name": "stderr",
     "output_type": "stream",
     "text": [
      "\u001b[1;33mWARNING: Lyrics not found for 'andromeda' by mr fijiwiji using all available providers.\u001b[0m\n"
     ]
    },
    {
     "name": "stdout",
     "output_type": "stream",
     "text": [
      "\u001b[1;32mINFO: Lyrics not found for song: andromeda by mr fijiwiji. Skipping...\u001b[0m\n",
      "\u001b[1;32mINFO: Fetched Spotify audio features for stay a by reaper\u001b[0m\n"
     ]
    },
    {
     "name": "stderr",
     "output_type": "stream",
     "text": [
      "\u001b[1;33mWARNING: Lyrics not found for 'stay a' by reaper using all available providers.\u001b[0m\n"
     ]
    },
    {
     "name": "stdout",
     "output_type": "stream",
     "text": [
      "\u001b[1;32mINFO: Lyrics not found for song: stay a by reaper. Skipping...\u001b[0m\n",
      "\u001b[1;32mINFO: Fetched Spotify audio features for silence by marshmello\u001b[0m\n"
     ]
    },
    {
     "name": "stderr",
     "output_type": "stream",
     "text": [
      "ERROR: [youtube] tk36ovCMsU8: Sign in to confirm you’re not a bot. This helps protect our community. Learn more\n",
      "Failed to download from YouTube URL 'https://www.youtube.com/watch?v=tk36ovCMsU8&pp=ygUUbWFyc2htZWxsbyAtIHNpbGVuY2U%3D': ERROR: [youtube] tk36ovCMsU8: Sign in to confirm you’re not a bot. This helps protect our community. Learn more\n",
      "\u001b[1;33mWARNING: Failed to download song: silence\u001b[0m\n"
     ]
    },
    {
     "name": "stdout",
     "output_type": "stream",
     "text": [
      "\u001b[1;32mINFO: Completed processing for song: silence by marshmello\u001b[0m\n",
      "\u001b[1;32mINFO: Fetched Spotify audio features for we got so much by le sserafim\u001b[0m\n"
     ]
    },
    {
     "name": "stderr",
     "output_type": "stream",
     "text": [
      "ERROR: [youtube] Kw2faPNf00s: Sign in to confirm you’re not a bot. This helps protect our community. Learn more\n",
      "Failed to download from YouTube URL 'https://www.youtube.com/watch?v=Kw2faPNf00s&pp=ygUcbGUgc3NlcmFmaW0gLSB3ZSBnb3Qgc28gbXVjaA%3D%3D': ERROR: [youtube] Kw2faPNf00s: Sign in to confirm you’re not a bot. This helps protect our community. Learn more\n",
      "\u001b[1;33mWARNING: Failed to download song: we got so much\u001b[0m\n"
     ]
    },
    {
     "name": "stdout",
     "output_type": "stream",
     "text": [
      "\u001b[1;32mINFO: Completed processing for song: we got so much by le sserafim\u001b[0m\n",
      "\u001b[1;32mINFO: Fetched Spotify audio features for swan song by le sserafim\u001b[0m\n"
     ]
    },
    {
     "name": "stderr",
     "output_type": "stream",
     "text": [
      "ERROR: [youtube] p3EwqI_ReDM: Sign in to confirm you’re not a bot. This helps protect our community. Learn more\n",
      "Failed to download from YouTube URL 'https://www.youtube.com/watch?v=p3EwqI_ReDM&pp=ygUXbGUgc3NlcmFmaW0gLSBzd2FuIHNvbmc%3D': ERROR: [youtube] p3EwqI_ReDM: Sign in to confirm you’re not a bot. This helps protect our community. Learn more\n",
      "\u001b[1;33mWARNING: Failed to download song: swan song\u001b[0m\n"
     ]
    },
    {
     "name": "stdout",
     "output_type": "stream",
     "text": [
      "\u001b[1;32mINFO: Completed processing for song: swan song by le sserafim\u001b[0m\n",
      "\u001b[1;32mINFO: Fetched Spotify audio features for stabbing in the dark by ice nine kills\u001b[0m\n",
      "\u001b[1;32mINFO: Skipping download for stabbing in the dark by ice nine kills as it already exists.\u001b[0m\n",
      "\u001b[1;32mINFO: Completed processing for song: stabbing in the dark by ice nine kills\u001b[0m\n",
      "\u001b[1;32mINFO: Fetched Spotify audio features for happier by now by kai wachi\u001b[0m\n"
     ]
    },
    {
     "name": "stderr",
     "output_type": "stream",
     "text": [
      "ERROR: [youtube] lZ4Db4wzJHM: Sign in to confirm you’re not a bot. This helps protect our community. Learn more\n",
      "Failed to download from YouTube URL 'https://www.youtube.com/watch?v=lZ4Db4wzJHM&pp=ygUaa2FpIHdhY2hpIC0gaGFwcGllciBieSBub3c%3D': ERROR: [youtube] lZ4Db4wzJHM: Sign in to confirm you’re not a bot. This helps protect our community. Learn more\n",
      "\u001b[1;33mWARNING: Failed to download song: happier by now\u001b[0m\n"
     ]
    },
    {
     "name": "stdout",
     "output_type": "stream",
     "text": [
      "\u001b[1;32mINFO: Completed processing for song: happier by now by kai wachi\u001b[0m\n",
      "\u001b[1;32mINFO: Fetched Spotify audio features for love like mine by stela cole\u001b[0m\n"
     ]
    },
    {
     "name": "stderr",
     "output_type": "stream",
     "text": [
      "ERROR: [youtube] IzjpYFGqe5A: Sign in to confirm you’re not a bot. This helps protect our community. Learn more\n",
      "Failed to download from YouTube URL 'https://www.youtube.com/watch?v=IzjpYFGqe5A&pp=ygUbc3RlbGEgY29sZSAtIGxvdmUgbGlrZSBtaW5l': ERROR: [youtube] IzjpYFGqe5A: Sign in to confirm you’re not a bot. This helps protect our community. Learn more\n",
      "\u001b[1;33mWARNING: Failed to download song: love like mine\u001b[0m\n"
     ]
    },
    {
     "name": "stdout",
     "output_type": "stream",
     "text": [
      "\u001b[1;32mINFO: Completed processing for song: love like mine by stela cole\u001b[0m\n",
      "\u001b[1;32mINFO: Fetched Spotify audio features for 2ouch it by yandere\u001b[0m\n"
     ]
    },
    {
     "name": "stderr",
     "output_type": "stream",
     "text": [
      "ERROR: [youtube] iqBz4OXfjcg: Sign in to confirm you’re not a bot. This helps protect our community. Learn more\n",
      "Failed to download from YouTube URL 'https://www.youtube.com/watch?v=iqBz4OXfjcg&pp=ygUSeWFuZGVyZSAtIDJvdWNoIGl0': ERROR: [youtube] iqBz4OXfjcg: Sign in to confirm you’re not a bot. This helps protect our community. Learn more\n",
      "\u001b[1;33mWARNING: Failed to download song: 2ouch it\u001b[0m\n"
     ]
    },
    {
     "name": "stdout",
     "output_type": "stream",
     "text": [
      "\u001b[1;32mINFO: Completed processing for song: 2ouch it by yandere\u001b[0m\n",
      "\u001b[1;32mINFO: Fetched Spotify audio features for monsters by dynoro\u001b[0m\n"
     ]
    },
    {
     "name": "stderr",
     "output_type": "stream",
     "text": [
      "\u001b[1;33mWARNING: Lyrics not found for 'monsters' by dynoro using all available providers.\u001b[0m\n"
     ]
    },
    {
     "name": "stdout",
     "output_type": "stream",
     "text": [
      "\u001b[1;32mINFO: Lyrics not found for song: monsters by dynoro. Skipping...\u001b[0m\n",
      "\u001b[1;32mINFO: Fetched Spotify audio features for playground by bea miller\u001b[0m\n"
     ]
    },
    {
     "name": "stderr",
     "output_type": "stream",
     "text": [
      "ERROR: [youtube] 3jfI-z__GY0: Sign in to confirm you’re not a bot. This helps protect our community. Learn more\n",
      "Failed to download from YouTube URL 'https://www.youtube.com/watch?v=3jfI-z__GY0&pp=ygUXYmVhIG1pbGxlciAtIHBsYXlncm91bmQ%3D': ERROR: [youtube] 3jfI-z__GY0: Sign in to confirm you’re not a bot. This helps protect our community. Learn more\n",
      "\u001b[1;33mWARNING: Failed to download song: playground\u001b[0m\n"
     ]
    },
    {
     "name": "stdout",
     "output_type": "stream",
     "text": [
      "\u001b[1;32mINFO: Completed processing for song: playground by bea miller\u001b[0m\n",
      "\u001b[1;32mINFO: Fetched Spotify audio features for eve, psyche & the bluebeard’s wife by le sserafim\u001b[0m\n"
     ]
    },
    {
     "name": "stderr",
     "output_type": "stream",
     "text": [
      "ERROR: [youtube] dZs_cLHfnNA: Sign in to confirm you’re not a bot. This helps protect our community. Learn more\n",
      "Failed to download from YouTube URL 'https://www.youtube.com/watch?v=dZs_cLHfnNA&pp=ygUybGUgc3NlcmFmaW0gLSBldmUsIHBzeWNoZSAmIHRoZSBibHVlYmVhcmTigJlzIHdpZmU%3D': ERROR: [youtube] dZs_cLHfnNA: Sign in to confirm you’re not a bot. This helps protect our community. Learn more\n",
      "\u001b[1;33mWARNING: Failed to download song: eve, psyche & the bluebeard’s wife\u001b[0m\n"
     ]
    },
    {
     "name": "stdout",
     "output_type": "stream",
     "text": [
      "\u001b[1;32mINFO: Completed processing for song: eve, psyche & the bluebeard’s wife by le sserafim\u001b[0m\n",
      "\u001b[1;32mINFO: Fetched Spotify audio features for undefeated by xg\u001b[0m\n"
     ]
    },
    {
     "name": "stderr",
     "output_type": "stream",
     "text": [
      "\u001b[1;33mWARNING: Lyrics not found for 'undefeated' by xg using all available providers.\u001b[0m\n"
     ]
    },
    {
     "name": "stdout",
     "output_type": "stream",
     "text": [
      "\u001b[1;32mINFO: Lyrics not found for song: undefeated by xg. Skipping...\u001b[0m\n",
      "\u001b[1;32mINFO: Fetched Spotify audio features for sweet venom by enhypen\u001b[0m\n"
     ]
    },
    {
     "name": "stderr",
     "output_type": "stream",
     "text": [
      "ERROR: [youtube] qedonJosQ3g: Sign in to confirm you’re not a bot. This helps protect our community. Learn more\n",
      "Failed to download from YouTube URL 'https://www.youtube.com/watch?v=qedonJosQ3g&pp=ygUVZW5oeXBlbiAtIHN3ZWV0IHZlbm9t': ERROR: [youtube] qedonJosQ3g: Sign in to confirm you’re not a bot. This helps protect our community. Learn more\n",
      "\u001b[1;33mWARNING: Failed to download song: sweet venom\u001b[0m\n"
     ]
    },
    {
     "name": "stdout",
     "output_type": "stream",
     "text": [
      "\u001b[1;32mINFO: Completed processing for song: sweet venom by enhypen\u001b[0m\n",
      "\u001b[1;32mINFO: Fetched Spotify audio features for ghost by justin bieber\u001b[0m\n"
     ]
    },
    {
     "name": "stderr",
     "output_type": "stream",
     "text": [
      "\u001b[1;33mWARNING: Lyrics not found for 'ghost' by justin bieber using all available providers.\u001b[0m\n"
     ]
    },
    {
     "name": "stdout",
     "output_type": "stream",
     "text": [
      "\u001b[1;32mINFO: Lyrics not found for song: ghost by justin bieber. Skipping...\u001b[0m\n",
      "\u001b[1;32mINFO: Fetched Spotify audio features for stay by the kid laroi\u001b[0m\n"
     ]
    },
    {
     "name": "stderr",
     "output_type": "stream",
     "text": [
      "ERROR: [youtube] kTJczUoc26U: Sign in to confirm you’re not a bot. This helps protect our community. Learn more\n",
      "Failed to download from YouTube URL 'https://www.youtube.com/watch?v=kTJczUoc26U&pp=ygUUdGhlIGtpZCBsYXJvaSAtIHN0YXk%3D': ERROR: [youtube] kTJczUoc26U: Sign in to confirm you’re not a bot. This helps protect our community. Learn more\n",
      "\u001b[1;33mWARNING: Failed to download song: stay\u001b[0m\n"
     ]
    },
    {
     "name": "stdout",
     "output_type": "stream",
     "text": [
      "\u001b[1;32mINFO: Completed processing for song: stay by the kid laroi\u001b[0m\n",
      "\u001b[1;32mINFO: Fetched Spotify audio features for love story by indila\u001b[0m\n"
     ]
    },
    {
     "name": "stderr",
     "output_type": "stream",
     "text": [
      "ERROR: [youtube] DF3XjEhJ40Y: Sign in to confirm you’re not a bot. This helps protect our community. Learn more\n",
      "Failed to download from YouTube URL 'https://www.youtube.com/watch?v=DF3XjEhJ40Y&pp=ygUTaW5kaWxhIC0gbG92ZSBzdG9yeQ%3D%3D': ERROR: [youtube] DF3XjEhJ40Y: Sign in to confirm you’re not a bot. This helps protect our community. Learn more\n",
      "\u001b[1;33mWARNING: Failed to download song: love story\u001b[0m\n"
     ]
    },
    {
     "name": "stdout",
     "output_type": "stream",
     "text": [
      "\u001b[1;32mINFO: Completed processing for song: love story by indila\u001b[0m\n",
      "\u001b[1;32mINFO: Fetched Spotify audio features for the drain by bad omens\u001b[0m\n"
     ]
    },
    {
     "name": "stderr",
     "output_type": "stream",
     "text": [
      "ERROR: [youtube] 3igy4eLQK8M: Sign in to confirm you’re not a bot. This helps protect our community. Learn more\n",
      "Failed to download from YouTube URL 'https://www.youtube.com/watch?v=3igy4eLQK8M&pp=ygUVYmFkIG9tZW5zIC0gdGhlIGRyYWlu': ERROR: [youtube] 3igy4eLQK8M: Sign in to confirm you’re not a bot. This helps protect our community. Learn more\n",
      "\u001b[1;33mWARNING: Failed to download song: the drain\u001b[0m\n"
     ]
    },
    {
     "name": "stdout",
     "output_type": "stream",
     "text": [
      "\u001b[1;32mINFO: Completed processing for song: the drain by bad omens\u001b[0m\n",
      "\u001b[1;32mINFO: Fetched Spotify audio features for spot! by zico\u001b[0m\n"
     ]
    },
    {
     "name": "stderr",
     "output_type": "stream",
     "text": [
      "ERROR: [youtube] xfqBQ2XhBCg: Sign in to confirm you’re not a bot. This helps protect our community. Learn more\n",
      "Failed to download from YouTube URL 'https://www.youtube.com/watch?v=xfqBQ2XhBCg&pp=ygUMemljbyAtIHNwb3Qh': ERROR: [youtube] xfqBQ2XhBCg: Sign in to confirm you’re not a bot. This helps protect our community. Learn more\n",
      "\u001b[1;33mWARNING: Failed to download song: spot!\u001b[0m\n"
     ]
    },
    {
     "name": "stdout",
     "output_type": "stream",
     "text": [
      "\u001b[1;32mINFO: Completed processing for song: spot! by zico\u001b[0m\n",
      "\u001b[1;32mINFO: Fetched Spotify audio features for savage by aespa\u001b[0m\n"
     ]
    },
    {
     "name": "stderr",
     "output_type": "stream",
     "text": [
      "\u001b[1;33mWARNING: Lyrics not found for 'savage' by aespa using all available providers.\u001b[0m\n"
     ]
    },
    {
     "name": "stdout",
     "output_type": "stream",
     "text": [
      "\u001b[1;32mINFO: Lyrics not found for song: savage by aespa. Skipping...\u001b[0m\n",
      "\u001b[1;32mINFO: Fetched Spotify audio features for in the end by linkin park\u001b[0m\n"
     ]
    },
    {
     "name": "stderr",
     "output_type": "stream",
     "text": [
      "ERROR: [youtube] eVTXPUF4Oz4: Sign in to confirm you’re not a bot. This helps protect our community. Learn more\n",
      "Failed to download from YouTube URL 'https://www.youtube.com/watch?v=eVTXPUF4Oz4&pp=ygUYbGlua2luIHBhcmsgLSBpbiB0aGUgZW5k': ERROR: [youtube] eVTXPUF4Oz4: Sign in to confirm you’re not a bot. This helps protect our community. Learn more\n",
      "\u001b[1;33mWARNING: Failed to download song: in the end\u001b[0m\n"
     ]
    },
    {
     "name": "stdout",
     "output_type": "stream",
     "text": [
      "\u001b[1;32mINFO: Completed processing for song: in the end by linkin park\u001b[0m\n",
      "\u001b[1;32mINFO: Fetched Spotify audio features for s by stray kids\u001b[0m\n"
     ]
    },
    {
     "name": "stderr",
     "output_type": "stream",
     "text": [
      "\u001b[1;33mWARNING: Lyrics not found for 's' by stray kids using all available providers.\u001b[0m\n"
     ]
    },
    {
     "name": "stdout",
     "output_type": "stream",
     "text": [
      "\u001b[1;32mINFO: Lyrics not found for song: s by stray kids. Skipping...\u001b[0m\n",
      "\u001b[1;32mINFO: Fetched Spotify audio features for god’s menu by stray kids\u001b[0m\n"
     ]
    },
    {
     "name": "stderr",
     "output_type": "stream",
     "text": [
      "ERROR: [youtube] TQTlCHxyuu8: Sign in to confirm you’re not a bot. This helps protect our community. Learn more\n",
      "Failed to download from YouTube URL 'https://www.youtube.com/watch?v=TQTlCHxyuu8&pp=ygUZc3RyYXkga2lkcyAtIGdvZOKAmXMgbWVudQ%3D%3D': ERROR: [youtube] TQTlCHxyuu8: Sign in to confirm you’re not a bot. This helps protect our community. Learn more\n",
      "\u001b[1;33mWARNING: Failed to download song: god’s menu\u001b[0m\n"
     ]
    },
    {
     "name": "stdout",
     "output_type": "stream",
     "text": [
      "\u001b[1;32mINFO: Completed processing for song: god’s menu by stray kids\u001b[0m\n",
      "\u001b[1;32mINFO: Fetched Spotify audio features for 해야 by ive\u001b[0m\n"
     ]
    },
    {
     "name": "stderr",
     "output_type": "stream",
     "text": [
      "ERROR: [youtube] 07EzMbVH3QE: Sign in to confirm you’re not a bot. This helps protect our community. Learn more\n",
      "Failed to download from YouTube URL 'https://www.youtube.com/watch?v=07EzMbVH3QE&pp=ygUMaXZlIC0g7ZW07JW8': ERROR: [youtube] 07EzMbVH3QE: Sign in to confirm you’re not a bot. This helps protect our community. Learn more\n",
      "\u001b[1;33mWARNING: Failed to download song: 해야\u001b[0m\n"
     ]
    },
    {
     "name": "stdout",
     "output_type": "stream",
     "text": [
      "\u001b[1;32mINFO: Completed processing for song: 해야 by ive\u001b[0m\n",
      "\u001b[1;32mINFO: Fetched Spotify audio features for riptide by will ramos\u001b[0m\n"
     ]
    },
    {
     "name": "stderr",
     "output_type": "stream",
     "text": [
      "\u001b[1;33mWARNING: Lyrics not found for 'riptide' by will ramos using all available providers.\u001b[0m\n"
     ]
    },
    {
     "name": "stdout",
     "output_type": "stream",
     "text": [
      "\u001b[1;32mINFO: Lyrics not found for song: riptide by will ramos. Skipping...\u001b[0m\n",
      "\u001b[1;32mINFO: Fetched Spotify audio features for algorhythm by itzy\u001b[0m\n"
     ]
    },
    {
     "name": "stderr",
     "output_type": "stream",
     "text": [
      "ERROR: [youtube] 8ExNmYax-ms: Sign in to confirm you’re not a bot. This helps protect our community. Learn more\n",
      "Failed to download from YouTube URL 'https://www.youtube.com/watch?v=8ExNmYax-ms&pp=ygURaXR6eSAtIGFsZ29yaHl0aG0%3D': ERROR: [youtube] 8ExNmYax-ms: Sign in to confirm you’re not a bot. This helps protect our community. Learn more\n",
      "\u001b[1;33mWARNING: Failed to download song: algorhythm\u001b[0m\n"
     ]
    },
    {
     "name": "stdout",
     "output_type": "stream",
     "text": [
      "\u001b[1;32mINFO: Completed processing for song: algorhythm by itzy\u001b[0m\n",
      "\u001b[1;32mINFO: Fetched Spotify audio features for dun dun by everglow\u001b[0m\n"
     ]
    },
    {
     "name": "stderr",
     "output_type": "stream",
     "text": [
      "ERROR: [youtube] NoYKBAajoyo: Sign in to confirm you’re not a bot. This helps protect our community. Learn more\n",
      "Failed to download from YouTube URL 'https://www.youtube.com/watch?v=NoYKBAajoyo&pp=ygUSZXZlcmdsb3cgLSBkdW4gZHVu': ERROR: [youtube] NoYKBAajoyo: Sign in to confirm you’re not a bot. This helps protect our community. Learn more\n",
      "\u001b[1;33mWARNING: Failed to download song: dun dun\u001b[0m\n"
     ]
    },
    {
     "name": "stdout",
     "output_type": "stream",
     "text": [
      "\u001b[1;32mINFO: Completed processing for song: dun dun by everglow\u001b[0m\n",
      "\u001b[1;32mINFO: Fetched Spotify audio features for la di da by everglow\u001b[0m\n"
     ]
    },
    {
     "name": "stderr",
     "output_type": "stream",
     "text": [
      "ERROR: [youtube] jeI992mvlEY: Sign in to confirm you’re not a bot. This helps protect our community. Learn more\n",
      "Failed to download from YouTube URL 'https://www.youtube.com/watch?v=jeI992mvlEY&pp=ygUTZXZlcmdsb3cgLSBsYSBkaSBkYQ%3D%3D': ERROR: [youtube] jeI992mvlEY: Sign in to confirm you’re not a bot. This helps protect our community. Learn more\n",
      "\u001b[1;33mWARNING: Failed to download song: la di da\u001b[0m\n"
     ]
    },
    {
     "name": "stdout",
     "output_type": "stream",
     "text": [
      "\u001b[1;32mINFO: Completed processing for song: la di da by everglow\u001b[0m\n",
      "\u001b[1;32mINFO: Fetched Spotify audio features for lavish by twenty one pilots\u001b[0m\n"
     ]
    },
    {
     "name": "stderr",
     "output_type": "stream",
     "text": [
      "ERROR: [youtube] flYgpeWsC2E: Sign in to confirm you’re not a bot. This helps protect our community. Learn more\n",
      "Failed to download from YouTube URL 'https://www.youtube.com/watch?v=flYgpeWsC2E&pp=ygUadHdlbnR5IG9uZSBwaWxvdHMgLSBsYXZpc2g%3D': ERROR: [youtube] flYgpeWsC2E: Sign in to confirm you’re not a bot. This helps protect our community. Learn more\n",
      "\u001b[1;33mWARNING: Failed to download song: lavish\u001b[0m\n"
     ]
    },
    {
     "name": "stdout",
     "output_type": "stream",
     "text": [
      "\u001b[1;32mINFO: Completed processing for song: lavish by twenty one pilots\u001b[0m\n",
      "\u001b[1;32mINFO: Fetched Spotify audio features for supernova by aespa\u001b[0m\n"
     ]
    },
    {
     "name": "stderr",
     "output_type": "stream",
     "text": [
      "ERROR: [youtube] phuiiNCxRMg: Sign in to confirm you’re not a bot. This helps protect our community. Learn more\n",
      "Failed to download from YouTube URL 'https://www.youtube.com/watch?v=phuiiNCxRMg&pp=ygURYWVzcGEgLSBzdXBlcm5vdmE%3D': ERROR: [youtube] phuiiNCxRMg: Sign in to confirm you’re not a bot. This helps protect our community. Learn more\n",
      "\u001b[1;33mWARNING: Failed to download song: supernova\u001b[0m\n"
     ]
    },
    {
     "name": "stdout",
     "output_type": "stream",
     "text": [
      "\u001b[1;32mINFO: Completed processing for song: supernova by aespa\u001b[0m\n",
      "\u001b[1;32mINFO: Fetched Spotify audio features for lunch by billie eilish\u001b[0m\n"
     ]
    },
    {
     "name": "stderr",
     "output_type": "stream",
     "text": [
      "ERROR: [youtube] MB3VkzPdgLA: Sign in to confirm you’re not a bot. This helps protect our community. Learn more\n",
      "Failed to download from YouTube URL 'https://www.youtube.com/watch?v=MB3VkzPdgLA&pp=ygUVYmlsbGllIGVpbGlzaCAtIGx1bmNo': ERROR: [youtube] MB3VkzPdgLA: Sign in to confirm you’re not a bot. This helps protect our community. Learn more\n",
      "\u001b[1;33mWARNING: Failed to download song: lunch\u001b[0m\n"
     ]
    },
    {
     "name": "stdout",
     "output_type": "stream",
     "text": [
      "\u001b[1;32mINFO: Completed processing for song: lunch by billie eilish\u001b[0m\n",
      "\u001b[1;32mINFO: Fetched Spotify audio features for birds of a feather by billie eilish\u001b[0m\n"
     ]
    },
    {
     "name": "stderr",
     "output_type": "stream",
     "text": [
      "ERROR: [youtube] V9PVRfjEBTI: Sign in to confirm you’re not a bot. This helps protect our community. Learn more\n",
      "Failed to download from YouTube URL 'https://www.youtube.com/watch?v=V9PVRfjEBTI&pp=ygUiYmlsbGllIGVpbGlzaCAtIGJpcmRzIG9mIGEgZmVhdGhlcg%3D%3D': ERROR: [youtube] V9PVRfjEBTI: Sign in to confirm you’re not a bot. This helps protect our community. Learn more\n",
      "\u001b[1;33mWARNING: Failed to download song: birds of a feather\u001b[0m\n"
     ]
    },
    {
     "name": "stdout",
     "output_type": "stream",
     "text": [
      "\u001b[1;32mINFO: Completed processing for song: birds of a feather by billie eilish\u001b[0m\n",
      "\u001b[1;32mINFO: Fetched Spotify audio features for mirror by ado\u001b[0m\n"
     ]
    },
    {
     "name": "stderr",
     "output_type": "stream",
     "text": [
      "\u001b[1;33mWARNING: Lyrics not found for 'mirror' by ado using all available providers.\u001b[0m\n"
     ]
    },
    {
     "name": "stdout",
     "output_type": "stream",
     "text": [
      "\u001b[1;32mINFO: Lyrics not found for song: mirror by ado. Skipping...\u001b[0m\n",
      "\u001b[1;32mINFO: Fetched Spotify audio features for chihiro by billie eilish\u001b[0m\n"
     ]
    },
    {
     "name": "stderr",
     "output_type": "stream",
     "text": [
      "ERROR: [youtube] BY_XwvKogC8: Sign in to confirm you’re not a bot. This helps protect our community. Learn more\n",
      "Failed to download from YouTube URL 'https://www.youtube.com/watch?v=BY_XwvKogC8&pp=ygUXYmlsbGllIGVpbGlzaCAtIGNoaWhpcm8%3D': ERROR: [youtube] BY_XwvKogC8: Sign in to confirm you’re not a bot. This helps protect our community. Learn more\n",
      "\u001b[1;33mWARNING: Failed to download song: chihiro\u001b[0m\n"
     ]
    },
    {
     "name": "stdout",
     "output_type": "stream",
     "text": [
      "\u001b[1;32mINFO: Completed processing for song: chihiro by billie eilish\u001b[0m\n",
      "\u001b[1;32mINFO: Fetched Spotify audio features for how sweet by newjeans\u001b[0m\n"
     ]
    },
    {
     "name": "stderr",
     "output_type": "stream",
     "text": [
      "ERROR: [youtube] Q3K0TOvTOno: Sign in to confirm you’re not a bot. This helps protect our community. Learn more\n",
      "Failed to download from YouTube URL 'https://www.youtube.com/watch?v=Q3K0TOvTOno&pp=ygUUbmV3amVhbnMgLSBob3cgc3dlZXQ%3D': ERROR: [youtube] Q3K0TOvTOno: Sign in to confirm you’re not a bot. This helps protect our community. Learn more\n",
      "\u001b[1;33mWARNING: Failed to download song: how sweet\u001b[0m\n"
     ]
    },
    {
     "name": "stdout",
     "output_type": "stream",
     "text": [
      "\u001b[1;32mINFO: Completed processing for song: how sweet by newjeans\u001b[0m\n",
      "\u001b[1;32mINFO: Fetched Spotify audio features for stupid in love by max\u001b[0m\n"
     ]
    },
    {
     "name": "stderr",
     "output_type": "stream",
     "text": [
      "ERROR: [youtube] cfA_ZNkvwsU: Sign in to confirm you’re not a bot. This helps protect our community. Learn more\n",
      "Failed to download from YouTube URL 'https://www.youtube.com/watch?v=cfA_ZNkvwsU&pp=ygUUbWF4IC0gc3R1cGlkIGluIGxvdmU%3D': ERROR: [youtube] cfA_ZNkvwsU: Sign in to confirm you’re not a bot. This helps protect our community. Learn more\n",
      "\u001b[1;33mWARNING: Failed to download song: stupid in love\u001b[0m\n"
     ]
    },
    {
     "name": "stdout",
     "output_type": "stream",
     "text": [
      "\u001b[1;32mINFO: Completed processing for song: stupid in love by max\u001b[0m\n",
      "\u001b[1;32mINFO: Fetched Spotify audio features for he knows by camila cabello\u001b[0m\n"
     ]
    },
    {
     "name": "stderr",
     "output_type": "stream",
     "text": [
      "ERROR: [youtube] IbZuJgVw59c: Sign in to confirm you’re not a bot. This helps protect our community. Learn more\n",
      "Failed to download from YouTube URL 'https://www.youtube.com/watch?v=IbZuJgVw59c&pp=ygUZY2FtaWxhIGNhYmVsbG8gLSBoZSBrbm93cw%3D%3D': ERROR: [youtube] IbZuJgVw59c: Sign in to confirm you’re not a bot. This helps protect our community. Learn more\n",
      "\u001b[1;33mWARNING: Failed to download song: he knows\u001b[0m\n"
     ]
    },
    {
     "name": "stdout",
     "output_type": "stream",
     "text": [
      "\u001b[1;32mINFO: Completed processing for song: he knows by camila cabello\u001b[0m\n",
      "\u001b[1;32mINFO: Fetched Spotify audio features for midas touch by kiss of life\u001b[0m\n"
     ]
    },
    {
     "name": "stderr",
     "output_type": "stream",
     "text": [
      "ERROR: [youtube] oKVYm8mIUdo: Sign in to confirm you’re not a bot. This helps protect our community. Learn more\n",
      "Failed to download from YouTube URL 'https://www.youtube.com/watch?v=oKVYm8mIUdo&pp=ygUaa2lzcyBvZiBsaWZlIC0gbWlkYXMgdG91Y2g%3D': ERROR: [youtube] oKVYm8mIUdo: Sign in to confirm you’re not a bot. This helps protect our community. Learn more\n",
      "\u001b[1;33mWARNING: Failed to download song: midas touch\u001b[0m\n"
     ]
    },
    {
     "name": "stdout",
     "output_type": "stream",
     "text": [
      "\u001b[1;32mINFO: Completed processing for song: midas touch by kiss of life\u001b[0m\n",
      "\u001b[1;32mINFO: Fetched Spotify audio features for life goes on by bts\u001b[0m\n"
     ]
    },
    {
     "name": "stderr",
     "output_type": "stream",
     "text": [
      "ERROR: [youtube] -5q5mZbe3V8: Sign in to confirm you’re not a bot. This helps protect our community. Learn more\n",
      "Failed to download from YouTube URL 'https://www.youtube.com/watch?v=-5q5mZbe3V8&pp=ygUSYnRzIC0gbGlmZSBnb2VzIG9u': ERROR: [youtube] -5q5mZbe3V8: Sign in to confirm you’re not a bot. This helps protect our community. Learn more\n",
      "\u001b[1;33mWARNING: Failed to download song: life goes on\u001b[0m\n"
     ]
    },
    {
     "name": "stdout",
     "output_type": "stream",
     "text": [
      "\u001b[1;32mINFO: Completed processing for song: life goes on by bts\u001b[0m\n",
      "\u001b[1;32mINFO: Fetched Spotify audio features for all the things she said by seraphine\u001b[0m\n"
     ]
    },
    {
     "name": "stderr",
     "output_type": "stream",
     "text": [
      "ERROR: [youtube] FlSxBCHul1A: Sign in to confirm you’re not a bot. This helps protect our community. Learn more\n",
      "Failed to download from YouTube URL 'https://www.youtube.com/watch?v=FlSxBCHul1A&pp=ygUjc2VyYXBoaW5lIC0gYWxsIHRoZSB0aGluZ3Mgc2hlIHNhaWQ%3D': ERROR: [youtube] FlSxBCHul1A: Sign in to confirm you’re not a bot. This helps protect our community. Learn more\n",
      "\u001b[1;33mWARNING: Failed to download song: all the things she said\u001b[0m\n"
     ]
    },
    {
     "name": "stdout",
     "output_type": "stream",
     "text": [
      "\u001b[1;32mINFO: Completed processing for song: all the things she said by seraphine\u001b[0m\n",
      "\u001b[1;32mINFO: Fetched Spotify audio features for espresso by sabrina carpenter\u001b[0m\n"
     ]
    },
    {
     "name": "stderr",
     "output_type": "stream",
     "text": [
      "ERROR: [youtube] eVli-tstM5E: Sign in to confirm you’re not a bot. This helps protect our community. Learn more\n",
      "Failed to download from YouTube URL 'https://www.youtube.com/watch?v=eVli-tstM5E&pp=ygUcc2FicmluYSBjYXJwZW50ZXIgLSBlc3ByZXNzbw%3D%3D': ERROR: [youtube] eVli-tstM5E: Sign in to confirm you’re not a bot. This helps protect our community. Learn more\n",
      "\u001b[1;33mWARNING: Failed to download song: espresso\u001b[0m\n"
     ]
    },
    {
     "name": "stdout",
     "output_type": "stream",
     "text": [
      "\u001b[1;32mINFO: Completed processing for song: espresso by sabrina carpenter\u001b[0m\n",
      "\u001b[1;32mINFO: Fetched Spotify audio features for law by yoon mirae\u001b[0m\n"
     ]
    },
    {
     "name": "stderr",
     "output_type": "stream",
     "text": [
      "\u001b[1;33mWARNING: Lyrics not found for 'law' by yoon mirae using all available providers.\u001b[0m\n"
     ]
    },
    {
     "name": "stdout",
     "output_type": "stream",
     "text": [
      "\u001b[1;32mINFO: Lyrics not found for song: law by yoon mirae. Skipping...\u001b[0m\n",
      "\u001b[1;32mINFO: Fetched Spotify audio features for higher by ava grace\u001b[0m\n"
     ]
    },
    {
     "name": "stderr",
     "output_type": "stream",
     "text": [
      "\u001b[1;33mWARNING: Lyrics not found for 'higher' by ava grace using all available providers.\u001b[0m\n"
     ]
    },
    {
     "name": "stdout",
     "output_type": "stream",
     "text": [
      "\u001b[1;32mINFO: Lyrics not found for song: higher by ava grace. Skipping...\u001b[0m\n",
      "\u001b[1;32mINFO: Fetched Spotify audio features for superpower by valorant\u001b[0m\n"
     ]
    },
    {
     "name": "stderr",
     "output_type": "stream",
     "text": [
      "ERROR: [youtube] DX4BE9GmpH4: Sign in to confirm you’re not a bot. This helps protect our community. Learn more\n",
      "Failed to download from YouTube URL 'https://www.youtube.com/watch?v=DX4BE9GmpH4&pp=ygUVdmFsb3JhbnQgLSBzdXBlcnBvd2Vy': ERROR: [youtube] DX4BE9GmpH4: Sign in to confirm you’re not a bot. This helps protect our community. Learn more\n",
      "\u001b[1;33mWARNING: Failed to download song: superpower\u001b[0m\n"
     ]
    },
    {
     "name": "stdout",
     "output_type": "stream",
     "text": [
      "\u001b[1;32mINFO: Completed processing for song: superpower by valorant\u001b[0m\n",
      "\u001b[1;32mINFO: Fetched Spotify audio features for shoot! by itzy\u001b[0m\n"
     ]
    },
    {
     "name": "stderr",
     "output_type": "stream",
     "text": [
      "\u001b[1;33mWARNING: Lyrics not found for 'shoot!' by itzy using all available providers.\u001b[0m\n"
     ]
    },
    {
     "name": "stdout",
     "output_type": "stream",
     "text": [
      "\u001b[1;32mINFO: Lyrics not found for song: shoot! by itzy. Skipping...\u001b[0m\n",
      "\u001b[1;32mINFO: Fetched Spotify audio features for rise up by m.i.m.e\u001b[0m\n"
     ]
    },
    {
     "name": "stderr",
     "output_type": "stream",
     "text": [
      "\u001b[1;33mWARNING: Lyrics not found for 'rise up' by m.i.m.e using all available providers.\u001b[0m\n"
     ]
    },
    {
     "name": "stdout",
     "output_type": "stream",
     "text": [
      "\u001b[1;32mINFO: Lyrics not found for song: rise up by m.i.m.e. Skipping...\u001b[0m\n",
      "\u001b[1;32mINFO: Fetched Spotify audio features for suzume by radwimps\u001b[0m\n"
     ]
    },
    {
     "name": "stderr",
     "output_type": "stream",
     "text": [
      "ERROR: [youtube] Xs0Lxif1u9E: Sign in to confirm you’re not a bot. This helps protect our community. Learn more\n",
      "Failed to download from YouTube URL 'https://www.youtube.com/watch?v=Xs0Lxif1u9E&pp=ygURcmFkd2ltcHMgLSBzdXp1bWU%3D': ERROR: [youtube] Xs0Lxif1u9E: Sign in to confirm you’re not a bot. This helps protect our community. Learn more\n",
      "\u001b[1;33mWARNING: Failed to download song: suzume\u001b[0m\n"
     ]
    },
    {
     "name": "stdout",
     "output_type": "stream",
     "text": [
      "\u001b[1;32mINFO: Completed processing for song: suzume by radwimps\u001b[0m\n",
      "\u001b[1;32mINFO: Fetched Spotify audio features for monochrome by 水槽\u001b[0m\n"
     ]
    },
    {
     "name": "stderr",
     "output_type": "stream",
     "text": [
      "\u001b[1;33mWARNING: Lyrics not found for 'monochrome' by 水槽 using all available providers.\u001b[0m\n"
     ]
    },
    {
     "name": "stdout",
     "output_type": "stream",
     "text": [
      "\u001b[1;32mINFO: Lyrics not found for song: monochrome by 水槽. Skipping...\u001b[0m\n",
      "\u001b[1;32mINFO: Fetched Spotify audio features for villain by kda\u001b[0m\n"
     ]
    },
    {
     "name": "stderr",
     "output_type": "stream",
     "text": [
      "\u001b[1;33mWARNING: Lyrics not found for 'villain' by kda using all available providers.\u001b[0m\n"
     ]
    },
    {
     "name": "stdout",
     "output_type": "stream",
     "text": [
      "\u001b[1;32mINFO: Lyrics not found for song: villain by kda. Skipping...\u001b[0m\n",
      "\u001b[1;32mINFO: Fetched Spotify audio features for bloodline by ariana grande\u001b[0m\n"
     ]
    },
    {
     "name": "stderr",
     "output_type": "stream",
     "text": [
      "ERROR: [youtube] uKqRAC-JNOM: Sign in to confirm you’re not a bot. This helps protect our community. Learn more\n",
      "Failed to download from YouTube URL 'https://www.youtube.com/watch?v=uKqRAC-JNOM&pp=ygUZYXJpYW5hIGdyYW5kZSAtIGJsb29kbGluZQ%3D%3D': ERROR: [youtube] uKqRAC-JNOM: Sign in to confirm you’re not a bot. This helps protect our community. Learn more\n",
      "\u001b[1;33mWARNING: Failed to download song: bloodline\u001b[0m\n"
     ]
    },
    {
     "name": "stdout",
     "output_type": "stream",
     "text": [
      "\u001b[1;32mINFO: Completed processing for song: bloodline by ariana grande\u001b[0m\n",
      "\u001b[1;32mINFO: Fetched Spotify audio features for side to side by ariana grande\u001b[0m\n"
     ]
    },
    {
     "name": "stderr",
     "output_type": "stream",
     "text": [
      "ERROR: [youtube] SXiSVQZLje8: Sign in to confirm you’re not a bot. This helps protect our community. Learn more\n",
      "Failed to download from YouTube URL 'https://www.youtube.com/watch?v=SXiSVQZLje8&pp=ygUcYXJpYW5hIGdyYW5kZSAtIHNpZGUgdG8gc2lkZQ%3D%3D': ERROR: [youtube] SXiSVQZLje8: Sign in to confirm you’re not a bot. This helps protect our community. Learn more\n",
      "\u001b[1;33mWARNING: Failed to download song: side to side\u001b[0m\n"
     ]
    },
    {
     "name": "stdout",
     "output_type": "stream",
     "text": [
      "\u001b[1;32mINFO: Completed processing for song: side to side by ariana grande\u001b[0m\n",
      "\u001b[1;32mINFO: Fetched Spotify audio features for the boy is mine by ariana grande\u001b[0m\n"
     ]
    },
    {
     "name": "stderr",
     "output_type": "stream",
     "text": [
      "ERROR: [youtube] KwRxeZ9Ro24: Sign in to confirm you’re not a bot. This helps protect our community. Learn more\n",
      "Failed to download from YouTube URL 'https://www.youtube.com/watch?v=KwRxeZ9Ro24&pp=ygUfYXJpYW5hIGdyYW5kZSAtIHRoZSBib3kgaXMgbWluZQ%3D%3D': ERROR: [youtube] KwRxeZ9Ro24: Sign in to confirm you’re not a bot. This helps protect our community. Learn more\n",
      "\u001b[1;33mWARNING: Failed to download song: the boy is mine\u001b[0m\n"
     ]
    },
    {
     "name": "stdout",
     "output_type": "stream",
     "text": [
      "\u001b[1;32mINFO: Completed processing for song: the boy is mine by ariana grande\u001b[0m\n",
      "\u001b[1;32mINFO: Fetched Spotify audio features for king of kings by rrq\u001b[0m\n"
     ]
    },
    {
     "name": "stderr",
     "output_type": "stream",
     "text": [
      "\u001b[1;33mWARNING: Lyrics not found for 'king of kings' by rrq using all available providers.\u001b[0m\n"
     ]
    },
    {
     "name": "stdout",
     "output_type": "stream",
     "text": [
      "\u001b[1;32mINFO: Lyrics not found for song: king of kings by rrq. Skipping...\u001b[0m\n",
      "\u001b[1;32mINFO: Fetched Spotify audio features for together by mobile legends bang bang\u001b[0m\n"
     ]
    },
    {
     "name": "stderr",
     "output_type": "stream",
     "text": [
      "\u001b[1;33mWARNING: Lyrics not found for 'together' by mobile legends bang bang using all available providers.\u001b[0m\n"
     ]
    },
    {
     "name": "stdout",
     "output_type": "stream",
     "text": [
      "\u001b[1;32mINFO: Lyrics not found for song: together by mobile legends bang bang. Skipping...\u001b[0m\n",
      "\u001b[1;32mINFO: Fetched Spotify audio features for up by aespa\u001b[0m\n"
     ]
    },
    {
     "name": "stderr",
     "output_type": "stream",
     "text": [
      "\u001b[1;33mWARNING: Lyrics not found for 'up' by aespa using all available providers.\u001b[0m\n"
     ]
    },
    {
     "name": "stdout",
     "output_type": "stream",
     "text": [
      "\u001b[1;32mINFO: Lyrics not found for song: up by aespa. Skipping...\u001b[0m\n",
      "\u001b[1;32mINFO: Fetched Spotify audio features for i love you so by the walters\u001b[0m\n"
     ]
    },
    {
     "name": "stderr",
     "output_type": "stream",
     "text": [
      "ERROR: [youtube] NwFVSclD_uc: Sign in to confirm you’re not a bot. This helps protect our community. Learn more\n",
      "Failed to download from YouTube URL 'https://www.youtube.com/watch?v=NwFVSclD_uc&pp=ygUbdGhlIHdhbHRlcnMgLSBpIGxvdmUgeW91IHNv': ERROR: [youtube] NwFVSclD_uc: Sign in to confirm you’re not a bot. This helps protect our community. Learn more\n",
      "\u001b[1;33mWARNING: Failed to download song: i love you so\u001b[0m\n"
     ]
    },
    {
     "name": "stdout",
     "output_type": "stream",
     "text": [
      "\u001b[1;32mINFO: Completed processing for song: i love you so by the walters\u001b[0m\n",
      "\u001b[1;32mINFO: Fetched Spotify audio features for do i wanna know by arctic monkeys\u001b[0m\n"
     ]
    },
    {
     "name": "stderr",
     "output_type": "stream",
     "text": [
      "ERROR: [youtube] bpOSxM0rNPM: Sign in to confirm you’re not a bot. This helps protect our community. Learn more\n",
      "Failed to download from YouTube URL 'https://www.youtube.com/watch?v=bpOSxM0rNPM&pp=ygUgYXJjdGljIG1vbmtleXMgLSBkbyBpIHdhbm5hIGtub3c%3D': ERROR: [youtube] bpOSxM0rNPM: Sign in to confirm you’re not a bot. This helps protect our community. Learn more\n",
      "\u001b[1;33mWARNING: Failed to download song: do i wanna know\u001b[0m\n"
     ]
    },
    {
     "name": "stdout",
     "output_type": "stream",
     "text": [
      "\u001b[1;32mINFO: Completed processing for song: do i wanna know by arctic monkeys\u001b[0m\n",
      "\u001b[1;32mINFO: Fetched Spotify audio features for mr. loverman by ricky montgomery\u001b[0m\n"
     ]
    },
    {
     "name": "stderr",
     "output_type": "stream",
     "text": [
      "ERROR: [youtube] MxXM3H2VGy4: Sign in to confirm you’re not a bot. This helps protect our community. Learn more\n",
      "Failed to download from YouTube URL 'https://www.youtube.com/watch?v=MxXM3H2VGy4&pp=ygUfcmlja3kgbW9udGdvbWVyeSAtIG1yLiBsb3Zlcm1hbg%3D%3D': ERROR: [youtube] MxXM3H2VGy4: Sign in to confirm you’re not a bot. This helps protect our community. Learn more\n",
      "\u001b[1;33mWARNING: Failed to download song: mr. loverman\u001b[0m\n"
     ]
    },
    {
     "name": "stdout",
     "output_type": "stream",
     "text": [
      "\u001b[1;32mINFO: Completed processing for song: mr. loverman by ricky montgomery\u001b[0m\n",
      "\u001b[1;32mINFO: Fetched Spotify audio features for line without a hook by ricky montgomery\u001b[0m\n"
     ]
    },
    {
     "name": "stderr",
     "output_type": "stream",
     "text": [
      "ERROR: [youtube] 8JW6qzPCkE8: Sign in to confirm you’re not a bot. This helps protect our community. Learn more\n",
      "Failed to download from YouTube URL 'https://www.youtube.com/watch?v=8JW6qzPCkE8&pp=ygUmcmlja3kgbW9udGdvbWVyeSAtIGxpbmUgd2l0aG91dCBhIGhvb2s%3D': ERROR: [youtube] 8JW6qzPCkE8: Sign in to confirm you’re not a bot. This helps protect our community. Learn more\n",
      "\u001b[1;33mWARNING: Failed to download song: line without a hook\u001b[0m\n"
     ]
    },
    {
     "name": "stdout",
     "output_type": "stream",
     "text": [
      "\u001b[1;32mINFO: Completed processing for song: line without a hook by ricky montgomery\u001b[0m\n",
      "\u001b[1;32mINFO: Fetched Spotify audio features for i wanna be yours by arctic monkeys\u001b[0m\n"
     ]
    },
    {
     "name": "stderr",
     "output_type": "stream",
     "text": [
      "ERROR: [youtube] nyuo9-OjNNg: Sign in to confirm you’re not a bot. This helps protect our community. Learn more\n",
      "Failed to download from YouTube URL 'https://www.youtube.com/watch?v=nyuo9-OjNNg&pp=ygUhYXJjdGljIG1vbmtleXMgLSBpIHdhbm5hIGJlIHlvdXJz': ERROR: [youtube] nyuo9-OjNNg: Sign in to confirm you’re not a bot. This helps protect our community. Learn more\n",
      "\u001b[1;33mWARNING: Failed to download song: i wanna be yours\u001b[0m\n"
     ]
    },
    {
     "name": "stdout",
     "output_type": "stream",
     "text": [
      "\u001b[1;32mINFO: Completed processing for song: i wanna be yours by arctic monkeys\u001b[0m\n",
      "\u001b[1;32mINFO: Fetched Spotify audio features for i'd rather pretend by bryant barnes\u001b[0m\n"
     ]
    },
    {
     "name": "stderr",
     "output_type": "stream",
     "text": [
      "ERROR: [youtube] d6GjSxPMq0w: Sign in to confirm you’re not a bot. This helps protect our community. Learn more\n",
      "Failed to download from YouTube URL 'https://www.youtube.com/watch?v=d6GjSxPMq0w&pp=ygUiYnJ5YW50IGJhcm5lcyAtIGknZCByYXRoZXIgcHJldGVuZA%3D%3D': ERROR: [youtube] d6GjSxPMq0w: Sign in to confirm you’re not a bot. This helps protect our community. Learn more\n",
      "\u001b[1;33mWARNING: Failed to download song: i'd rather pretend\u001b[0m\n"
     ]
    },
    {
     "name": "stdout",
     "output_type": "stream",
     "text": [
      "\u001b[1;32mINFO: Completed processing for song: i'd rather pretend by bryant barnes\u001b[0m\n",
      "\u001b[1;32mINFO: Fetched Spotify audio features for 505 by arctic monkeys\u001b[0m\n"
     ]
    },
    {
     "name": "stderr",
     "output_type": "stream",
     "text": [
      "ERROR: [youtube] qU9mHegkTc4: Sign in to confirm you’re not a bot. This helps protect our community. Learn more\n",
      "Failed to download from YouTube URL 'https://www.youtube.com/watch?v=qU9mHegkTc4&pp=ygUUYXJjdGljIG1vbmtleXMgLSA1MDU%3D': ERROR: [youtube] qU9mHegkTc4: Sign in to confirm you’re not a bot. This helps protect our community. Learn more\n",
      "\u001b[1;33mWARNING: Failed to download song: 505\u001b[0m\n"
     ]
    },
    {
     "name": "stdout",
     "output_type": "stream",
     "text": [
      "\u001b[1;32mINFO: Completed processing for song: 505 by arctic monkeys\u001b[0m\n",
      "\u001b[1;32mINFO: Fetched Spotify audio features for notion by the rare occasions\u001b[0m\n"
     ]
    },
    {
     "name": "stderr",
     "output_type": "stream",
     "text": [
      "ERROR: [youtube] PD1EXJScA6k: Sign in to confirm you’re not a bot. This helps protect our community. Learn more\n",
      "Failed to download from YouTube URL 'https://www.youtube.com/watch?v=PD1EXJScA6k&pp=ygUbdGhlIHJhcmUgb2NjYXNpb25zIC0gbm90aW9u': ERROR: [youtube] PD1EXJScA6k: Sign in to confirm you’re not a bot. This helps protect our community. Learn more\n",
      "\u001b[1;33mWARNING: Failed to download song: notion\u001b[0m\n"
     ]
    },
    {
     "name": "stdout",
     "output_type": "stream",
     "text": [
      "\u001b[1;32mINFO: Completed processing for song: notion by the rare occasions\u001b[0m\n",
      "\u001b[1;32mINFO: Fetched Spotify audio features for tek it by cafuné\u001b[0m\n"
     ]
    },
    {
     "name": "stderr",
     "output_type": "stream",
     "text": [
      "ERROR: [youtube] 7RWbq-lbBlk: Sign in to confirm you’re not a bot. This helps protect our community. Learn more\n",
      "Failed to download from YouTube URL 'https://www.youtube.com/watch?v=7RWbq-lbBlk&pp=ygUQY2FmdW7DqSAtIHRlayBpdA%3D%3D': ERROR: [youtube] 7RWbq-lbBlk: Sign in to confirm you’re not a bot. This helps protect our community. Learn more\n",
      "\u001b[1;33mWARNING: Failed to download song: tek it\u001b[0m\n"
     ]
    },
    {
     "name": "stdout",
     "output_type": "stream",
     "text": [
      "\u001b[1;32mINFO: Completed processing for song: tek it by cafuné\u001b[0m\n",
      "\u001b[1;32mINFO: Fetched Spotify audio features for black & white by juice wrld\u001b[0m\n"
     ]
    },
    {
     "name": "stderr",
     "output_type": "stream",
     "text": [
      "ERROR: [youtube] RRl_C73vFtQ: Sign in to confirm you’re not a bot. This helps protect our community. Learn more\n",
      "Failed to download from YouTube URL 'https://www.youtube.com/watch?v=RRl_C73vFtQ&pp=ygUaanVpY2Ugd3JsZCAtIGJsYWNrICYgd2hpdGU%3D': ERROR: [youtube] RRl_C73vFtQ: Sign in to confirm you’re not a bot. This helps protect our community. Learn more\n",
      "\u001b[1;33mWARNING: Failed to download song: black & white\u001b[0m\n"
     ]
    },
    {
     "name": "stdout",
     "output_type": "stream",
     "text": [
      "\u001b[1;32mINFO: Completed processing for song: black & white by juice wrld\u001b[0m\n",
      "\u001b[1;32mINFO: Fetched Spotify audio features for ransom by lil tecca\u001b[0m\n"
     ]
    },
    {
     "name": "stderr",
     "output_type": "stream",
     "text": [
      "ERROR: [youtube] 1XzY2ij_vL4: Sign in to confirm you’re not a bot. This helps protect our community. Learn more\n",
      "Failed to download from YouTube URL 'https://www.youtube.com/watch?v=1XzY2ij_vL4&pp=ygUSbGlsIHRlY2NhIC0gcmFuc29t': ERROR: [youtube] 1XzY2ij_vL4: Sign in to confirm you’re not a bot. This helps protect our community. Learn more\n",
      "\u001b[1;33mWARNING: Failed to download song: ransom\u001b[0m\n"
     ]
    },
    {
     "name": "stdout",
     "output_type": "stream",
     "text": [
      "\u001b[1;32mINFO: Completed processing for song: ransom by lil tecca\u001b[0m\n",
      "\u001b[1;32mINFO: Fetched Spotify audio features for mockingbird by eminem\u001b[0m\n"
     ]
    },
    {
     "name": "stderr",
     "output_type": "stream",
     "text": [
      "ERROR: [youtube] S9bCLPwzSC0: Sign in to confirm you’re not a bot. This helps protect our community. Learn more\n",
      "Failed to download from YouTube URL 'https://www.youtube.com/watch?v=S9bCLPwzSC0&pp=ygUUZW1pbmVtIC0gbW9ja2luZ2JpcmQ%3D': ERROR: [youtube] S9bCLPwzSC0: Sign in to confirm you’re not a bot. This helps protect our community. Learn more\n",
      "\u001b[1;33mWARNING: Failed to download song: mockingbird\u001b[0m\n"
     ]
    },
    {
     "name": "stdout",
     "output_type": "stream",
     "text": [
      "\u001b[1;32mINFO: Completed processing for song: mockingbird by eminem\u001b[0m\n",
      "\u001b[1;32mINFO: Fetched Spotify audio features for something ain't right by xg\u001b[0m\n"
     ]
    },
    {
     "name": "stderr",
     "output_type": "stream",
     "text": [
      "ERROR: [youtube] kd5LJ4r-vEY: Sign in to confirm you’re not a bot. This helps protect our community. Learn more\n",
      "Failed to download from YouTube URL 'https://www.youtube.com/watch?v=kd5LJ4r-vEY&pp=ygUaeGcgLSBzb21ldGhpbmcgYWluJ3QgcmlnaHQ%3D': ERROR: [youtube] kd5LJ4r-vEY: Sign in to confirm you’re not a bot. This helps protect our community. Learn more\n",
      "\u001b[1;33mWARNING: Failed to download song: something ain't right\u001b[0m\n"
     ]
    },
    {
     "name": "stdout",
     "output_type": "stream",
     "text": [
      "\u001b[1;32mINFO: Completed processing for song: something ain't right by xg\u001b[0m\n",
      "\u001b[1;32mINFO: Fetched Spotify audio features for iykyk by xg\u001b[0m\n"
     ]
    },
    {
     "name": "stderr",
     "output_type": "stream",
     "text": [
      "ERROR: [youtube] QiYOkmrI1jg: Sign in to confirm you’re not a bot. This helps protect our community. Learn more\n",
      "Failed to download from YouTube URL 'https://www.youtube.com/watch?v=QiYOkmrI1jg&pp=ygUKeGcgLSBpeWt5aw%3D%3D': ERROR: [youtube] QiYOkmrI1jg: Sign in to confirm you’re not a bot. This helps protect our community. Learn more\n",
      "\u001b[1;33mWARNING: Failed to download song: iykyk\u001b[0m\n"
     ]
    },
    {
     "name": "stdout",
     "output_type": "stream",
     "text": [
      "\u001b[1;32mINFO: Completed processing for song: iykyk by xg\u001b[0m\n",
      "\u001b[1;32mINFO: Fetched Spotify audio features for woke up by xg\u001b[0m\n"
     ]
    },
    {
     "name": "stderr",
     "output_type": "stream",
     "text": [
      "ERROR: [youtube] 5sT20edl02I: Sign in to confirm you’re not a bot. This helps protect our community. Learn more\n",
      "Failed to download from YouTube URL 'https://www.youtube.com/watch?v=5sT20edl02I&pp=ygUMeGcgLSB3b2tlIHVw': ERROR: [youtube] 5sT20edl02I: Sign in to confirm you’re not a bot. This helps protect our community. Learn more\n",
      "\u001b[1;33mWARNING: Failed to download song: woke up\u001b[0m\n"
     ]
    },
    {
     "name": "stdout",
     "output_type": "stream",
     "text": [
      "\u001b[1;32mINFO: Completed processing for song: woke up by xg\u001b[0m\n",
      "\u001b[1;32mINFO: Fetched Spotify audio features for moth to a flame by swedish house mafia\u001b[0m\n"
     ]
    },
    {
     "name": "stderr",
     "output_type": "stream",
     "text": [
      "ERROR: [youtube] u9n7Cw-4_HQ: Sign in to confirm you’re not a bot. This helps protect our community. Learn more\n",
      "Failed to download from YouTube URL 'https://www.youtube.com/watch?v=u9n7Cw-4_HQ&pp=ygUlc3dlZGlzaCBob3VzZSBtYWZpYSAtIG1vdGggdG8gYSBmbGFtZQ%3D%3D': ERROR: [youtube] u9n7Cw-4_HQ: Sign in to confirm you’re not a bot. This helps protect our community. Learn more\n",
      "\u001b[1;33mWARNING: Failed to download song: moth to a flame\u001b[0m\n"
     ]
    },
    {
     "name": "stdout",
     "output_type": "stream",
     "text": [
      "\u001b[1;32mINFO: Completed processing for song: moth to a flame by swedish house mafia\u001b[0m\n",
      "\u001b[1;32mINFO: Fetched Spotify audio features for feel it by d4vd\u001b[0m\n"
     ]
    },
    {
     "name": "stderr",
     "output_type": "stream",
     "text": [
      "\u001b[1;33mWARNING: Lyrics not found for 'feel it' by d4vd using all available providers.\u001b[0m\n"
     ]
    },
    {
     "name": "stdout",
     "output_type": "stream",
     "text": [
      "\u001b[1;32mINFO: Lyrics not found for song: feel it by d4vd. Skipping...\u001b[0m\n",
      "\u001b[1;32mINFO: Fetched Spotify audio features for gold by itzy\u001b[0m\n"
     ]
    },
    {
     "name": "stderr",
     "output_type": "stream",
     "text": [
      "\u001b[1;33mWARNING: Lyrics not found for 'gold' by itzy using all available providers.\u001b[0m\n"
     ]
    },
    {
     "name": "stdout",
     "output_type": "stream",
     "text": [
      "\u001b[1;32mINFO: Lyrics not found for song: gold by itzy. Skipping...\u001b[0m\n",
      "\u001b[1;32mINFO: Fetched Spotify audio features for distorted memories by øneheart\u001b[0m\n"
     ]
    },
    {
     "name": "stderr",
     "output_type": "stream",
     "text": [
      "\u001b[1;33mWARNING: Lyrics not found for 'distorted memories' by øneheart using all available providers.\u001b[0m\n"
     ]
    },
    {
     "name": "stdout",
     "output_type": "stream",
     "text": [
      "\u001b[1;32mINFO: Lyrics not found for song: distorted memories by øneheart. Skipping...\u001b[0m\n",
      "\u001b[1;32mINFO: Fetched Spotify audio features for imaginary friend by itzy\u001b[0m\n"
     ]
    },
    {
     "name": "stderr",
     "output_type": "stream",
     "text": [
      "ERROR: [youtube] X0Tza9ND2Bw: Sign in to confirm you’re not a bot. This helps protect our community. Learn more\n",
      "Failed to download from YouTube URL 'https://www.youtube.com/watch?v=X0Tza9ND2Bw&pp=ygUXaXR6eSAtIGltYWdpbmFyeSBmcmllbmQ%3D': ERROR: [youtube] X0Tza9ND2Bw: Sign in to confirm you’re not a bot. This helps protect our community. Learn more\n",
      "\u001b[1;33mWARNING: Failed to download song: imaginary friend\u001b[0m\n"
     ]
    },
    {
     "name": "stdout",
     "output_type": "stream",
     "text": [
      "\u001b[1;32mINFO: Completed processing for song: imaginary friend by itzy\u001b[0m\n",
      "\u001b[1;32mINFO: Fetched Spotify audio features for bad girls r us by itzy\u001b[0m\n"
     ]
    },
    {
     "name": "stderr",
     "output_type": "stream",
     "text": [
      "ERROR: [youtube] PfE_bxJ5k2o: Sign in to confirm you’re not a bot. This helps protect our community. Learn more\n",
      "Failed to download from YouTube URL 'https://www.youtube.com/watch?v=PfE_bxJ5k2o&pp=ygUVaXR6eSAtIGJhZCBnaXJscyByIHVz': ERROR: [youtube] PfE_bxJ5k2o: Sign in to confirm you’re not a bot. This helps protect our community. Learn more\n",
      "\u001b[1;33mWARNING: Failed to download song: bad girls r us\u001b[0m\n"
     ]
    },
    {
     "name": "stdout",
     "output_type": "stream",
     "text": [
      "\u001b[1;32mINFO: Completed processing for song: bad girls r us by itzy\u001b[0m\n",
      "\u001b[1;32mINFO: Fetched Spotify audio features for five by itzy\u001b[0m\n"
     ]
    },
    {
     "name": "stderr",
     "output_type": "stream",
     "text": [
      "\u001b[1;33mWARNING: Lyrics not found for 'five' by itzy using all available providers.\u001b[0m\n"
     ]
    },
    {
     "name": "stdout",
     "output_type": "stream",
     "text": [
      "\u001b[1;32mINFO: Lyrics not found for song: five by itzy. Skipping...\u001b[0m\n",
      "\u001b[1;32mINFO: Fetched Spotify audio features for born to be by itzy\u001b[0m\n"
     ]
    },
    {
     "name": "stderr",
     "output_type": "stream",
     "text": [
      "ERROR: [youtube] 4R7vRFGJr3k: Sign in to confirm you’re not a bot. This helps protect our community. Learn more\n",
      "Failed to download from YouTube URL 'https://www.youtube.com/watch?v=4R7vRFGJr3k&pp=ygURaXR6eSAtIGJvcm4gdG8gYmU%3D': ERROR: [youtube] 4R7vRFGJr3k: Sign in to confirm you’re not a bot. This helps protect our community. Learn more\n",
      "\u001b[1;33mWARNING: Failed to download song: born to be\u001b[0m\n"
     ]
    },
    {
     "name": "stdout",
     "output_type": "stream",
     "text": [
      "\u001b[1;32mINFO: Completed processing for song: born to be by itzy\u001b[0m\n",
      "\u001b[1;32mINFO: Fetched Spotify audio features for get loud by kiss of life\u001b[0m\n"
     ]
    },
    {
     "name": "stderr",
     "output_type": "stream",
     "text": [
      "ERROR: [youtube] yXRlrix-pPk: Sign in to confirm you’re not a bot. This helps protect our community. Learn more\n",
      "Failed to download from YouTube URL 'https://www.youtube.com/watch?v=yXRlrix-pPk&pp=ygUXa2lzcyBvZiBsaWZlIC0gZ2V0IGxvdWQ%3D': ERROR: [youtube] yXRlrix-pPk: Sign in to confirm you’re not a bot. This helps protect our community. Learn more\n",
      "\u001b[1;33mWARNING: Failed to download song: get loud\u001b[0m\n"
     ]
    },
    {
     "name": "stdout",
     "output_type": "stream",
     "text": [
      "\u001b[1;32mINFO: Completed processing for song: get loud by kiss of life\u001b[0m\n",
      "\u001b[1;32mINFO: Fetched Spotify audio features for r.e.m by kiss of life\u001b[0m\n"
     ]
    },
    {
     "name": "stderr",
     "output_type": "stream",
     "text": [
      "\u001b[1;33mWARNING: Lyrics not found for 'r.e.m' by kiss of life using all available providers.\u001b[0m\n"
     ]
    },
    {
     "name": "stdout",
     "output_type": "stream",
     "text": [
      "\u001b[1;32mINFO: Lyrics not found for song: r.e.m by kiss of life. Skipping...\u001b[0m\n",
      "\u001b[1;32mINFO: Fetched Spotify audio features for supermassive black hole by muse\u001b[0m\n"
     ]
    },
    {
     "name": "stderr",
     "output_type": "stream",
     "text": [
      "ERROR: [youtube] Xsp3_a-PMTw: Sign in to confirm you’re not a bot. This helps protect our community. Learn more\n",
      "Failed to download from YouTube URL 'https://www.youtube.com/watch?v=Xsp3_a-PMTw&pp=ygUebXVzZSAtIHN1cGVybWFzc2l2ZSBibGFjayBob2xl': ERROR: [youtube] Xsp3_a-PMTw: Sign in to confirm you’re not a bot. This helps protect our community. Learn more\n",
      "\u001b[1;33mWARNING: Failed to download song: supermassive black hole\u001b[0m\n"
     ]
    },
    {
     "name": "stdout",
     "output_type": "stream",
     "text": [
      "\u001b[1;32mINFO: Completed processing for song: supermassive black hole by muse\u001b[0m\n",
      "\u001b[1;32mINFO: Fetched Spotify audio features for let it happen by tame impala\u001b[0m\n"
     ]
    },
    {
     "name": "stderr",
     "output_type": "stream",
     "text": [
      "ERROR: [youtube] pFptt7Cargc: Sign in to confirm you’re not a bot. This helps protect our community. Learn more\n",
      "Failed to download from YouTube URL 'https://www.youtube.com/watch?v=pFptt7Cargc&pp=ygUbdGFtZSBpbXBhbGEgLSBsZXQgaXQgaGFwcGVu': ERROR: [youtube] pFptt7Cargc: Sign in to confirm you’re not a bot. This helps protect our community. Learn more\n",
      "\u001b[1;33mWARNING: Failed to download song: let it happen\u001b[0m\n"
     ]
    },
    {
     "name": "stdout",
     "output_type": "stream",
     "text": [
      "\u001b[1;32mINFO: Completed processing for song: let it happen by tame impala\u001b[0m\n",
      "\u001b[1;32mINFO: Fetched Spotify audio features for anything you want by reality club\u001b[0m\n"
     ]
    },
    {
     "name": "stderr",
     "output_type": "stream",
     "text": [
      "\u001b[1;33mWARNING: Lyrics not found for 'anything you want' by reality club using all available providers.\u001b[0m\n"
     ]
    },
    {
     "name": "stdout",
     "output_type": "stream",
     "text": [
      "\u001b[1;32mINFO: Lyrics not found for song: anything you want by reality club. Skipping...\u001b[0m\n",
      "\u001b[1;32mINFO: Fetched Spotify audio features for buzz by niki\u001b[0m\n"
     ]
    },
    {
     "name": "stderr",
     "output_type": "stream",
     "text": [
      "ERROR: [youtube] VNbTlaxk1iY: Sign in to confirm you’re not a bot. This helps protect our community. Learn more\n",
      "Failed to download from YouTube URL 'https://www.youtube.com/watch?v=VNbTlaxk1iY&pp=ygULbmlraSAtIGJ1eno%3D': ERROR: [youtube] VNbTlaxk1iY: Sign in to confirm you’re not a bot. This helps protect our community. Learn more\n",
      "\u001b[1;33mWARNING: Failed to download song: buzz\u001b[0m\n"
     ]
    },
    {
     "name": "stdout",
     "output_type": "stream",
     "text": [
      "\u001b[1;32mINFO: Completed processing for song: buzz by niki\u001b[0m\n",
      "\u001b[1;32mINFO: Fetched Spotify audio features for too much of a good thing by niki\u001b[0m\n"
     ]
    },
    {
     "name": "stderr",
     "output_type": "stream",
     "text": [
      "ERROR: [youtube] bREFhK_oyqc: Sign in to confirm you’re not a bot. This helps protect our community. Learn more\n",
      "Failed to download from YouTube URL 'https://www.youtube.com/watch?v=bREFhK_oyqc&pp=ygUfbmlraSAtIHRvbyBtdWNoIG9mIGEgZ29vZCB0aGluZw%3D%3D': ERROR: [youtube] bREFhK_oyqc: Sign in to confirm you’re not a bot. This helps protect our community. Learn more\n",
      "\u001b[1;33mWARNING: Failed to download song: too much of a good thing\u001b[0m\n"
     ]
    },
    {
     "name": "stdout",
     "output_type": "stream",
     "text": [
      "\u001b[1;32mINFO: Completed processing for song: too much of a good thing by niki\u001b[0m\n",
      "\u001b[1;32mINFO: Fetched Spotify audio features for colossal loss by niki\u001b[0m\n"
     ]
    },
    {
     "name": "stderr",
     "output_type": "stream",
     "text": [
      "ERROR: [youtube] ExOabWapTQ0: Sign in to confirm you’re not a bot. This helps protect our community. Learn more\n",
      "Failed to download from YouTube URL 'https://www.youtube.com/watch?v=ExOabWapTQ0&pp=ygUUbmlraSAtIGNvbG9zc2FsIGxvc3M%3D': ERROR: [youtube] ExOabWapTQ0: Sign in to confirm you’re not a bot. This helps protect our community. Learn more\n",
      "\u001b[1;33mWARNING: Failed to download song: colossal loss\u001b[0m\n"
     ]
    },
    {
     "name": "stdout",
     "output_type": "stream",
     "text": [
      "\u001b[1;32mINFO: Completed processing for song: colossal loss by niki\u001b[0m\n",
      "\u001b[1;32mINFO: Fetched Spotify audio features for focus by niki\u001b[0m\n"
     ]
    },
    {
     "name": "stderr",
     "output_type": "stream",
     "text": [
      "ERROR: [youtube] SsfeLCpMMws: Sign in to confirm you’re not a bot. This helps protect our community. Learn more\n",
      "Failed to download from YouTube URL 'https://www.youtube.com/watch?v=SsfeLCpMMws&pp=ygUMbmlraSAtIGZvY3Vz': ERROR: [youtube] SsfeLCpMMws: Sign in to confirm you’re not a bot. This helps protect our community. Learn more\n",
      "\u001b[1;33mWARNING: Failed to download song: focus\u001b[0m\n"
     ]
    },
    {
     "name": "stdout",
     "output_type": "stream",
     "text": [
      "\u001b[1;32mINFO: Completed processing for song: focus by niki\u001b[0m\n",
      "\u001b[1;32mINFO: Fetched Spotify audio features for did you like her in the morning by niki\u001b[0m\n"
     ]
    },
    {
     "name": "stderr",
     "output_type": "stream",
     "text": [
      "ERROR: [youtube] bHoJRzaEJWk: Sign in to confirm you’re not a bot. This helps protect our community. Learn more\n",
      "Failed to download from YouTube URL 'https://www.youtube.com/watch?v=bHoJRzaEJWk&pp=ygUmbmlraSAtIGRpZCB5b3UgbGlrZSBoZXIgaW4gdGhlIG1vcm5pbmc%3D': ERROR: [youtube] bHoJRzaEJWk: Sign in to confirm you’re not a bot. This helps protect our community. Learn more\n",
      "\u001b[1;33mWARNING: Failed to download song: did you like her in the morning\u001b[0m\n"
     ]
    },
    {
     "name": "stdout",
     "output_type": "stream",
     "text": [
      "\u001b[1;32mINFO: Completed processing for song: did you like her in the morning by niki\u001b[0m\n",
      "\u001b[1;32mINFO: Fetched Spotify audio features for ghost by aura\u001b[0m\n"
     ]
    },
    {
     "name": "stderr",
     "output_type": "stream",
     "text": [
      "\u001b[1;33mWARNING: Lyrics not found for 'ghost' by aura using all available providers.\u001b[0m\n"
     ]
    },
    {
     "name": "stdout",
     "output_type": "stream",
     "text": [
      "\u001b[1;32mINFO: Lyrics not found for song: ghost by aura. Skipping...\u001b[0m\n",
      "\u001b[1;32mINFO: Fetched Spotify audio features for make you mine by madison beer\u001b[0m\n"
     ]
    },
    {
     "name": "stderr",
     "output_type": "stream",
     "text": [
      "ERROR: [youtube] XFR7v5ix5hU: Sign in to confirm you’re not a bot. This helps protect our community. Learn more\n",
      "Failed to download from YouTube URL 'https://www.youtube.com/watch?v=XFR7v5ix5hU&pp=ygUcbWFkaXNvbiBiZWVyIC0gbWFrZSB5b3UgbWluZQ%3D%3D': ERROR: [youtube] XFR7v5ix5hU: Sign in to confirm you’re not a bot. This helps protect our community. Learn more\n",
      "\u001b[1;33mWARNING: Failed to download song: make you mine\u001b[0m\n"
     ]
    },
    {
     "name": "stdout",
     "output_type": "stream",
     "text": [
      "\u001b[1;32mINFO: Completed processing for song: make you mine by madison beer\u001b[0m\n",
      "\u001b[1;32mINFO: Fetched Spotify audio features for reckless by madison beer\u001b[0m\n"
     ]
    },
    {
     "name": "stderr",
     "output_type": "stream",
     "text": [
      "ERROR: [youtube] TFHCew8DnC0: Sign in to confirm you’re not a bot. This helps protect our community. Learn more\n",
      "Failed to download from YouTube URL 'https://www.youtube.com/watch?v=TFHCew8DnC0&pp=ygUXbWFkaXNvbiBiZWVyIC0gcmVja2xlc3M%3D': ERROR: [youtube] TFHCew8DnC0: Sign in to confirm you’re not a bot. This helps protect our community. Learn more\n",
      "\u001b[1;33mWARNING: Failed to download song: reckless\u001b[0m\n"
     ]
    },
    {
     "name": "stdout",
     "output_type": "stream",
     "text": [
      "\u001b[1;32mINFO: Completed processing for song: reckless by madison beer\u001b[0m\n",
      "\u001b[1;32mINFO: Fetched Spotify audio features for good in goodbye by madison beer\u001b[0m\n"
     ]
    },
    {
     "name": "stderr",
     "output_type": "stream",
     "text": [
      "ERROR: [youtube] rQZJsOSw1pU: Sign in to confirm you’re not a bot. This helps protect our community. Learn more\n",
      "Failed to download from YouTube URL 'https://www.youtube.com/watch?v=rQZJsOSw1pU&pp=ygUebWFkaXNvbiBiZWVyIC0gZ29vZCBpbiBnb29kYnll': ERROR: [youtube] rQZJsOSw1pU: Sign in to confirm you’re not a bot. This helps protect our community. Learn more\n",
      "\u001b[1;33mWARNING: Failed to download song: good in goodbye\u001b[0m\n"
     ]
    },
    {
     "name": "stdout",
     "output_type": "stream",
     "text": [
      "\u001b[1;32mINFO: Completed processing for song: good in goodbye by madison beer\u001b[0m\n",
      "\u001b[1;32mINFO: Fetched Spotify audio features for nina by .feast\u001b[0m\n"
     ]
    },
    {
     "name": "stderr",
     "output_type": "stream",
     "text": [
      "\u001b[1;33mWARNING: Lyrics not found for 'nina' by .feast using all available providers.\u001b[0m\n"
     ]
    },
    {
     "name": "stdout",
     "output_type": "stream",
     "text": [
      "\u001b[1;32mINFO: Lyrics not found for song: nina by .feast. Skipping...\u001b[0m\n",
      "\u001b[1;32mINFO: Fetched Spotify audio features for peradaban by .feast\u001b[0m\n"
     ]
    },
    {
     "name": "stderr",
     "output_type": "stream",
     "text": [
      "ERROR: [youtube] dlCIreIfm5A: Sign in to confirm you’re not a bot. This helps protect our community. Learn more\n",
      "Failed to download from YouTube URL 'https://www.youtube.com/watch?v=dlCIreIfm5A&pp=ygUSLmZlYXN0IC0gcGVyYWRhYmFu': ERROR: [youtube] dlCIreIfm5A: Sign in to confirm you’re not a bot. This helps protect our community. Learn more\n",
      "\u001b[1;33mWARNING: Failed to download song: peradaban\u001b[0m\n"
     ]
    },
    {
     "name": "stdout",
     "output_type": "stream",
     "text": [
      "\u001b[1;32mINFO: Completed processing for song: peradaban by .feast\u001b[0m\n",
      "\u001b[1;32mINFO: Fetched Spotify audio features for kami belum tentu by .feast\u001b[0m\n"
     ]
    },
    {
     "name": "stderr",
     "output_type": "stream",
     "text": [
      "ERROR: [youtube] H-pBq3X7QJA: Sign in to confirm you’re not a bot. This helps protect our community. Learn more\n",
      "Failed to download from YouTube URL 'https://www.youtube.com/watch?v=H-pBq3X7QJA&pp=ygUZLmZlYXN0IC0ga2FtaSBiZWx1bSB0ZW50dQ%3D%3D': ERROR: [youtube] H-pBq3X7QJA: Sign in to confirm you’re not a bot. This helps protect our community. Learn more\n",
      "\u001b[1;33mWARNING: Failed to download song: kami belum tentu\u001b[0m\n"
     ]
    },
    {
     "name": "stdout",
     "output_type": "stream",
     "text": [
      "\u001b[1;32mINFO: Completed processing for song: kami belum tentu by .feast\u001b[0m\n",
      "\u001b[1;32mINFO: Fetched Spotify audio features for dalam hitungan by .feast\u001b[0m\n"
     ]
    },
    {
     "name": "stderr",
     "output_type": "stream",
     "text": [
      "ERROR: [youtube] Lgsdq2auh4A: Sign in to confirm you’re not a bot. This helps protect our community. Learn more\n",
      "Failed to download from YouTube URL 'https://www.youtube.com/watch?v=Lgsdq2auh4A&pp=ygUXLmZlYXN0IC0gZGFsYW0gaGl0dW5nYW4%3D': ERROR: [youtube] Lgsdq2auh4A: Sign in to confirm you’re not a bot. This helps protect our community. Learn more\n",
      "\u001b[1;33mWARNING: Failed to download song: dalam hitungan\u001b[0m\n"
     ]
    },
    {
     "name": "stdout",
     "output_type": "stream",
     "text": [
      "\u001b[1;32mINFO: Completed processing for song: dalam hitungan by .feast\u001b[0m\n",
      "\u001b[1;32mINFO: Fetched Spotify audio features for tarian penghancur raya by .feast\u001b[0m\n"
     ]
    },
    {
     "name": "stderr",
     "output_type": "stream",
     "text": [
      "ERROR: [youtube] aSPGUd44Tc8: Sign in to confirm you’re not a bot. This helps protect our community. Learn more\n",
      "Failed to download from YouTube URL 'https://www.youtube.com/watch?v=aSPGUd44Tc8&pp=ygUfLmZlYXN0IC0gdGFyaWFuIHBlbmdoYW5jdXIgcmF5YQ%3D%3D': ERROR: [youtube] aSPGUd44Tc8: Sign in to confirm you’re not a bot. This helps protect our community. Learn more\n",
      "\u001b[1;33mWARNING: Failed to download song: tarian penghancur raya\u001b[0m\n"
     ]
    },
    {
     "name": "stdout",
     "output_type": "stream",
     "text": [
      "\u001b[1;32mINFO: Completed processing for song: tarian penghancur raya by .feast\u001b[0m\n",
      "\u001b[1;32mINFO: Fetched Spotify audio features for gelora by .feast\u001b[0m\n"
     ]
    },
    {
     "name": "stderr",
     "output_type": "stream",
     "text": [
      "ERROR: [youtube] vp2RE0tbD6Y: Sign in to confirm you’re not a bot. This helps protect our community. Learn more\n",
      "Failed to download from YouTube URL 'https://www.youtube.com/watch?v=vp2RE0tbD6Y&pp=ygUPLmZlYXN0IC0gZ2Vsb3Jh': ERROR: [youtube] vp2RE0tbD6Y: Sign in to confirm you’re not a bot. This helps protect our community. Learn more\n",
      "\u001b[1;33mWARNING: Failed to download song: gelora\u001b[0m\n"
     ]
    },
    {
     "name": "stdout",
     "output_type": "stream",
     "text": [
      "\u001b[1;32mINFO: Completed processing for song: gelora by .feast\u001b[0m\n",
      "\u001b[1;32mINFO: Fetched Spotify audio features for crazy by le sserafim\u001b[0m\n"
     ]
    },
    {
     "name": "stderr",
     "output_type": "stream",
     "text": [
      "\u001b[1;33mWARNING: Lyrics not found for 'crazy' by le sserafim using all available providers.\u001b[0m\n"
     ]
    },
    {
     "name": "stdout",
     "output_type": "stream",
     "text": [
      "\u001b[1;32mINFO: Lyrics not found for song: crazy by le sserafim. Skipping...\u001b[0m\n",
      "\u001b[1;32mINFO: Fetched Spotify audio features for right now by newjeans\u001b[0m\n"
     ]
    },
    {
     "name": "stderr",
     "output_type": "stream",
     "text": [
      "\u001b[1;33mWARNING: Lyrics not found for 'right now' by newjeans using all available providers.\u001b[0m\n"
     ]
    },
    {
     "name": "stdout",
     "output_type": "stream",
     "text": [
      "\u001b[1;32mINFO: Lyrics not found for song: right now by newjeans. Skipping...\u001b[0m\n",
      "\u001b[1;32mINFO: Fetched Spotify audio features for bored! by aespa\u001b[0m\n"
     ]
    },
    {
     "name": "stderr",
     "output_type": "stream",
     "text": [
      "\u001b[1;33mWARNING: Lyrics not found for 'bored!' by aespa using all available providers.\u001b[0m\n"
     ]
    },
    {
     "name": "stdout",
     "output_type": "stream",
     "text": [
      "\u001b[1;32mINFO: Lyrics not found for song: bored! by aespa. Skipping...\u001b[0m\n",
      "\u001b[1;32mINFO: Fetched Spotify audio features for igloo by kiss of life\u001b[0m\n"
     ]
    },
    {
     "name": "stderr",
     "output_type": "stream",
     "text": [
      "ERROR: [youtube] toF4ee3n-vo: Sign in to confirm you’re not a bot. This helps protect our community. Learn more\n",
      "Failed to download from YouTube URL 'https://www.youtube.com/watch?v=toF4ee3n-vo&pp=ygUUa2lzcyBvZiBsaWZlIC0gaWdsb28%3D': ERROR: [youtube] toF4ee3n-vo: Sign in to confirm you’re not a bot. This helps protect our community. Learn more\n",
      "\u001b[1;33mWARNING: Failed to download song: igloo\u001b[0m\n"
     ]
    },
    {
     "name": "stdout",
     "output_type": "stream",
     "text": [
      "\u001b[1;32mINFO: Completed processing for song: igloo by kiss of life\u001b[0m\n",
      "\u001b[1;32mINFO: Fetched Spotify audio features for confident by justin bieber\u001b[0m\n"
     ]
    },
    {
     "name": "stderr",
     "output_type": "stream",
     "text": [
      "ERROR: [youtube] qnD1hwjR3WU: Sign in to confirm you’re not a bot. This helps protect our community. Learn more\n",
      "Failed to download from YouTube URL 'https://www.youtube.com/watch?v=qnD1hwjR3WU&pp=ygUZanVzdGluIGJpZWJlciAtIGNvbmZpZGVudA%3D%3D': ERROR: [youtube] qnD1hwjR3WU: Sign in to confirm you’re not a bot. This helps protect our community. Learn more\n",
      "\u001b[1;33mWARNING: Failed to download song: confident\u001b[0m\n"
     ]
    },
    {
     "name": "stdout",
     "output_type": "stream",
     "text": [
      "\u001b[1;32mINFO: Completed processing for song: confident by justin bieber\u001b[0m\n",
      "\u001b[1;32mINFO: Fetched Spotify audio features for whiplash by aespa\u001b[0m\n"
     ]
    },
    {
     "name": "stderr",
     "output_type": "stream",
     "text": [
      "ERROR: [youtube] jWQx2f-CErU: Sign in to confirm you’re not a bot. This helps protect our community. Learn more\n",
      "Failed to download from YouTube URL 'https://www.youtube.com/watch?v=jWQx2f-CErU&pp=ygUQYWVzcGEgLSB3aGlwbGFzaA%3D%3D': ERROR: [youtube] jWQx2f-CErU: Sign in to confirm you’re not a bot. This helps protect our community. Learn more\n",
      "\u001b[1;33mWARNING: Failed to download song: whiplash\u001b[0m\n"
     ]
    },
    {
     "name": "stdout",
     "output_type": "stream",
     "text": [
      "\u001b[1;32mINFO: Completed processing for song: whiplash by aespa\u001b[0m\n",
      "\u001b[1;32mINFO: Fetched Spotify audio features for kill it by aespa\u001b[0m\n"
     ]
    },
    {
     "name": "stderr",
     "output_type": "stream",
     "text": [
      "ERROR: [youtube] izXPTHp85q8: Sign in to confirm you’re not a bot. This helps protect our community. Learn more\n",
      "Failed to download from YouTube URL 'https://www.youtube.com/watch?v=izXPTHp85q8&pp=ygUPYWVzcGEgLSBraWxsIGl0': ERROR: [youtube] izXPTHp85q8: Sign in to confirm you’re not a bot. This helps protect our community. Learn more\n",
      "\u001b[1;33mWARNING: Failed to download song: kill it\u001b[0m\n"
     ]
    },
    {
     "name": "stdout",
     "output_type": "stream",
     "text": [
      "\u001b[1;32mINFO: Completed processing for song: kill it by aespa\u001b[0m\n",
      "\u001b[1;32mINFO: Fetched Spotify audio features for pink hoodie by aespa\u001b[0m\n"
     ]
    },
    {
     "name": "stderr",
     "output_type": "stream",
     "text": [
      "ERROR: [youtube] q6_CfyZgF-s: Sign in to confirm you’re not a bot. This helps protect our community. Learn more\n",
      "Failed to download from YouTube URL 'https://www.youtube.com/watch?v=q6_CfyZgF-s&pp=ygUTYWVzcGEgLSBwaW5rIGhvb2RpZQ%3D%3D': ERROR: [youtube] q6_CfyZgF-s: Sign in to confirm you’re not a bot. This helps protect our community. Learn more\n",
      "\u001b[1;33mWARNING: Failed to download song: pink hoodie\u001b[0m\n"
     ]
    },
    {
     "name": "stdout",
     "output_type": "stream",
     "text": [
      "\u001b[1;32mINFO: Completed processing for song: pink hoodie by aespa\u001b[0m\n",
      "\u001b[1;32mINFO: Fetched Spotify audio features for flowers by aespa\u001b[0m\n"
     ]
    },
    {
     "name": "stderr",
     "output_type": "stream",
     "text": [
      "\u001b[1;33mWARNING: Lyrics not found for 'flowers' by aespa using all available providers.\u001b[0m\n"
     ]
    },
    {
     "name": "stdout",
     "output_type": "stream",
     "text": [
      "\u001b[1;32mINFO: Lyrics not found for song: flowers by aespa. Skipping...\u001b[0m\n",
      "\u001b[1;32mINFO: Fetched Spotify audio features for clik clak by babymonster\u001b[0m\n"
     ]
    },
    {
     "name": "stderr",
     "output_type": "stream",
     "text": [
      "ERROR: [youtube] o0oW3lPoOXM: Sign in to confirm you’re not a bot. This helps protect our community. Learn more\n",
      "Failed to download from YouTube URL 'https://www.youtube.com/watch?v=o0oW3lPoOXM&pp=ygUXYmFieW1vbnN0ZXIgLSBjbGlrIGNsYWs%3D': ERROR: [youtube] o0oW3lPoOXM: Sign in to confirm you’re not a bot. This helps protect our community. Learn more\n",
      "\u001b[1;33mWARNING: Failed to download song: clik clak\u001b[0m\n"
     ]
    },
    {
     "name": "stdout",
     "output_type": "stream",
     "text": [
      "\u001b[1;32mINFO: Completed processing for song: clik clak by babymonster\u001b[0m\n",
      "\u001b[1;32mINFO: Fetched Spotify audio features for drip by babymonster\u001b[0m\n"
     ]
    },
    {
     "name": "stderr",
     "output_type": "stream",
     "text": [
      "\u001b[1;33mWARNING: Lyrics not found for 'drip' by babymonster using all available providers.\u001b[0m\n"
     ]
    },
    {
     "name": "stdout",
     "output_type": "stream",
     "text": [
      "\u001b[1;32mINFO: Lyrics not found for song: drip by babymonster. Skipping...\u001b[0m\n",
      "\u001b[1;32mINFO: Fetched Spotify audio features for billionaire by babymonster\u001b[0m\n"
     ]
    },
    {
     "name": "stderr",
     "output_type": "stream",
     "text": [
      "\u001b[1;33mWARNING: Lyrics not found for 'billionaire' by babymonster using all available providers.\u001b[0m\n"
     ]
    },
    {
     "name": "stdout",
     "output_type": "stream",
     "text": [
      "\u001b[1;32mINFO: Lyrics not found for song: billionaire by babymonster. Skipping...\u001b[0m\n",
      "\u001b[1;32mINFO: Fetched Spotify audio features for we can't be friends by ariana grande\u001b[0m\n"
     ]
    },
    {
     "name": "stderr",
     "output_type": "stream",
     "text": [
      "ERROR: [youtube] KNtJGQkC-WI: Sign in to confirm you’re not a bot. This helps protect our community. Learn more\n",
      "Failed to download from YouTube URL 'https://www.youtube.com/watch?v=KNtJGQkC-WI&pp=ygUjYXJpYW5hIGdyYW5kZSAtIHdlIGNhbid0IGJlIGZyaWVuZHM%3D': ERROR: [youtube] KNtJGQkC-WI: Sign in to confirm you’re not a bot. This helps protect our community. Learn more\n",
      "\u001b[1;33mWARNING: Failed to download song: we can't be friends\u001b[0m\n"
     ]
    },
    {
     "name": "stdout",
     "output_type": "stream",
     "text": [
      "\u001b[1;32mINFO: Completed processing for song: we can't be friends by ariana grande\u001b[0m\n",
      "\u001b[1;32mINFO: Fetched Spotify audio features for iykyk by xg\u001b[0m\n"
     ]
    },
    {
     "name": "stderr",
     "output_type": "stream",
     "text": [
      "ERROR: [youtube] QiYOkmrI1jg: Sign in to confirm you’re not a bot. This helps protect our community. Learn more\n",
      "Failed to download from YouTube URL 'https://www.youtube.com/watch?v=QiYOkmrI1jg&pp=ygUKeGcgLSBpeWt5aw%3D%3D': ERROR: [youtube] QiYOkmrI1jg: Sign in to confirm you’re not a bot. This helps protect our community. Learn more\n",
      "\u001b[1;33mWARNING: Failed to download song: iykyk\u001b[0m\n"
     ]
    },
    {
     "name": "stdout",
     "output_type": "stream",
     "text": [
      "\u001b[1;32mINFO: Completed processing for song: iykyk by xg\u001b[0m\n",
      "\u001b[1;32mINFO: Fetched Spotify audio features for howling by xg\u001b[0m\n"
     ]
    },
    {
     "name": "stderr",
     "output_type": "stream",
     "text": [
      "ERROR: [youtube] rGqEuk8Om-4: Sign in to confirm you’re not a bot. This helps protect our community. Learn more\n",
      "Failed to download from YouTube URL 'https://www.youtube.com/watch?v=rGqEuk8Om-4&pp=ygUMeGcgLSBob3dsaW5n': ERROR: [youtube] rGqEuk8Om-4: Sign in to confirm you’re not a bot. This helps protect our community. Learn more\n",
      "\u001b[1;33mWARNING: Failed to download song: howling\u001b[0m\n"
     ]
    },
    {
     "name": "stdout",
     "output_type": "stream",
     "text": [
      "\u001b[1;32mINFO: Completed processing for song: howling by xg\u001b[0m\n",
      "\u001b[1;32mINFO: Fetched Spotify audio features for m a k e i t t o t h e m o r n i n g by partynextdoor\u001b[0m\n"
     ]
    },
    {
     "name": "stderr",
     "output_type": "stream",
     "text": [
      "ERROR: [youtube] Zzl20a6AmRE: Sign in to confirm you’re not a bot. This helps protect our community. Learn more\n",
      "Failed to download from YouTube URL 'https://www.youtube.com/watch?v=Zzl20a6AmRE&pp=ygUzcGFydHluZXh0ZG9vciAtIG0gYSBrIGUgaSB0IHQgbyB0IGggZSBtIG8gciBuIGkgbiBn': ERROR: [youtube] Zzl20a6AmRE: Sign in to confirm you’re not a bot. This helps protect our community. Learn more\n",
      "\u001b[1;33mWARNING: Failed to download song: m a k e i t t o t h e m o r n i n g\u001b[0m\n"
     ]
    },
    {
     "name": "stdout",
     "output_type": "stream",
     "text": [
      "\u001b[1;32mINFO: Completed processing for song: m a k e i t t o t h e m o r n i n g by partynextdoor\u001b[0m\n",
      "\u001b[1;32mINFO: Fetched Spotify audio features for berita kehilangan by .feast\u001b[0m\n"
     ]
    },
    {
     "name": "stderr",
     "output_type": "stream",
     "text": [
      "ERROR: [youtube] nGW0tyjAhzA: Sign in to confirm you’re not a bot. This helps protect our community. Learn more\n",
      "Failed to download from YouTube URL 'https://www.youtube.com/watch?v=nGW0tyjAhzA&pp=ygUaLmZlYXN0IC0gYmVyaXRhIGtlaGlsYW5nYW4%3D': ERROR: [youtube] nGW0tyjAhzA: Sign in to confirm you’re not a bot. This helps protect our community. Learn more\n",
      "\u001b[1;33mWARNING: Failed to download song: berita kehilangan\u001b[0m\n"
     ]
    },
    {
     "name": "stdout",
     "output_type": "stream",
     "text": [
      "\u001b[1;32mINFO: Completed processing for song: berita kehilangan by .feast\u001b[0m\n",
      "\u001b[1;32mINFO: Fetched Spotify audio features for rumah ke rumah by hindia\u001b[0m\n"
     ]
    },
    {
     "name": "stderr",
     "output_type": "stream",
     "text": [
      "ERROR: [youtube] pjhOjHDX0A8: Sign in to confirm you’re not a bot. This helps protect our community. Learn more\n",
      "Failed to download from YouTube URL 'https://www.youtube.com/watch?v=pjhOjHDX0A8&pp=ygUXaGluZGlhIC0gcnVtYWgga2UgcnVtYWg%3D': ERROR: [youtube] pjhOjHDX0A8: Sign in to confirm you’re not a bot. This helps protect our community. Learn more\n",
      "\u001b[1;33mWARNING: Failed to download song: rumah ke rumah\u001b[0m\n"
     ]
    },
    {
     "name": "stdout",
     "output_type": "stream",
     "text": [
      "\u001b[1;32mINFO: Completed processing for song: rumah ke rumah by hindia\u001b[0m\n",
      "\u001b[1;32mINFO: Fetched Spotify audio features for tarot by .feast\u001b[0m\n"
     ]
    },
    {
     "name": "stderr",
     "output_type": "stream",
     "text": [
      "\u001b[1;33mWARNING: Lyrics not found for 'tarot' by .feast using all available providers.\u001b[0m\n"
     ]
    },
    {
     "name": "stdout",
     "output_type": "stream",
     "text": [
      "\u001b[1;32mINFO: Lyrics not found for song: tarot by .feast. Skipping...\u001b[0m\n",
      "\u001b[1;32mINFO: Fetched Spotify audio features for ticking away by valorant\u001b[0m\n"
     ]
    },
    {
     "name": "stderr",
     "output_type": "stream",
     "text": [
      "ERROR: [youtube] CdZN8PI3MqM: Sign in to confirm you’re not a bot. This helps protect our community. Learn more\n",
      "Failed to download from YouTube URL 'https://www.youtube.com/watch?v=CdZN8PI3MqM&pp=ygUXdmFsb3JhbnQgLSB0aWNraW5nIGF3YXk%3D': ERROR: [youtube] CdZN8PI3MqM: Sign in to confirm you’re not a bot. This helps protect our community. Learn more\n",
      "\u001b[1;33mWARNING: Failed to download song: ticking away\u001b[0m\n"
     ]
    },
    {
     "name": "stdout",
     "output_type": "stream",
     "text": [
      "\u001b[1;32mINFO: Completed processing for song: ticking away by valorant\u001b[0m\n",
      "\u001b[1;32mINFO: Fetched Spotify audio features for guess by charli xcx\u001b[0m\n"
     ]
    },
    {
     "name": "stderr",
     "output_type": "stream",
     "text": [
      "ERROR: [youtube] huGd4efgdPA: Sign in to confirm you’re not a bot. This helps protect our community. Learn more\n",
      "Failed to download from YouTube URL 'https://www.youtube.com/watch?v=huGd4efgdPA&pp=ygUSY2hhcmxpIHhjeCAtIGd1ZXNz': ERROR: [youtube] huGd4efgdPA: Sign in to confirm you’re not a bot. This helps protect our community. Learn more\n",
      "\u001b[1;33mWARNING: Failed to download song: guess\u001b[0m\n"
     ]
    },
    {
     "name": "stdout",
     "output_type": "stream",
     "text": [
      "\u001b[1;32mINFO: Completed processing for song: guess by charli xcx\u001b[0m\n",
      "\u001b[1;32mINFO: Fetched Spotify audio features for 365 by charli xcx\u001b[0m\n"
     ]
    },
    {
     "name": "stderr",
     "output_type": "stream",
     "text": [
      "ERROR: [youtube] Ol9CCM240Ag: Sign in to confirm you’re not a bot. This helps protect our community. Learn more\n",
      "Failed to download from YouTube URL 'https://www.youtube.com/watch?v=Ol9CCM240Ag&pp=ygUQY2hhcmxpIHhjeCAtIDM2NQ%3D%3D': ERROR: [youtube] Ol9CCM240Ag: Sign in to confirm you’re not a bot. This helps protect our community. Learn more\n",
      "\u001b[1;33mWARNING: Failed to download song: 365\u001b[0m\n"
     ]
    },
    {
     "name": "stdout",
     "output_type": "stream",
     "text": [
      "\u001b[1;32mINFO: Completed processing for song: 365 by charli xcx\u001b[0m\n",
      "\u001b[1;32mINFO: Fetched Spotify audio features for pandora by mave\u001b[0m\n"
     ]
    },
    {
     "name": "stderr",
     "output_type": "stream",
     "text": [
      "ERROR: [youtube] 1wGOHbcQKIc: Sign in to confirm you’re not a bot. This helps protect our community. Learn more\n",
      "Failed to download from YouTube URL 'https://www.youtube.com/watch?v=1wGOHbcQKIc&pp=ygUObWF2ZSAtIHBhbmRvcmE%3D': ERROR: [youtube] 1wGOHbcQKIc: Sign in to confirm you’re not a bot. This helps protect our community. Learn more\n",
      "\u001b[1;33mWARNING: Failed to download song: pandora\u001b[0m\n"
     ]
    },
    {
     "name": "stdout",
     "output_type": "stream",
     "text": [
      "\u001b[1;32mINFO: Completed processing for song: pandora by mave\u001b[0m\n",
      "\u001b[1;32mINFO: Fetched Spotify audio features for love me like this by nmixx\u001b[0m\n"
     ]
    },
    {
     "name": "stderr",
     "output_type": "stream",
     "text": [
      "ERROR: [youtube] EDnwWcFpObo: Sign in to confirm you’re not a bot. This helps protect our community. Learn more\n",
      "Failed to download from YouTube URL 'https://www.youtube.com/watch?v=EDnwWcFpObo&pp=ygUZbm1peHggLSBsb3ZlIG1lIGxpa2UgdGhpcw%3D%3D': ERROR: [youtube] EDnwWcFpObo: Sign in to confirm you’re not a bot. This helps protect our community. Learn more\n",
      "\u001b[1;33mWARNING: Failed to download song: love me like this\u001b[0m\n"
     ]
    },
    {
     "name": "stdout",
     "output_type": "stream",
     "text": [
      "\u001b[1;32mINFO: Completed processing for song: love me like this by nmixx\u001b[0m\n",
      "\u001b[1;32mINFO: Fetched Spotify audio features for cincin by hindia\u001b[0m\n"
     ]
    },
    {
     "name": "stderr",
     "output_type": "stream",
     "text": [
      "ERROR: [youtube] S0Kez6MERGE: Sign in to confirm you’re not a bot. This helps protect our community. Learn more\n",
      "Failed to download from YouTube URL 'https://www.youtube.com/watch?v=S0Kez6MERGE&pp=ygUPaGluZGlhIC0gY2luY2lu': ERROR: [youtube] S0Kez6MERGE: Sign in to confirm you’re not a bot. This helps protect our community. Learn more\n",
      "\u001b[1;33mWARNING: Failed to download song: cincin\u001b[0m\n"
     ]
    },
    {
     "name": "stdout",
     "output_type": "stream",
     "text": [
      "\u001b[1;32mINFO: Completed processing for song: cincin by hindia\u001b[0m\n",
      "\u001b[1;32mINFO: Fetched Spotify audio features for circle with me by spiritbox\u001b[0m\n"
     ]
    },
    {
     "name": "stderr",
     "output_type": "stream",
     "text": [
      "ERROR: [youtube] I0WzT0OJ-E0: Sign in to confirm you’re not a bot. This helps protect our community. Learn more\n",
      "Failed to download from YouTube URL 'https://www.youtube.com/watch?v=I0WzT0OJ-E0&pp=ygUac3Bpcml0Ym94IC0gY2lyY2xlIHdpdGggbWU%3D': ERROR: [youtube] I0WzT0OJ-E0: Sign in to confirm you’re not a bot. This helps protect our community. Learn more\n",
      "\u001b[1;33mWARNING: Failed to download song: circle with me\u001b[0m\n"
     ]
    },
    {
     "name": "stdout",
     "output_type": "stream",
     "text": [
      "\u001b[1;32mINFO: Completed processing for song: circle with me by spiritbox\u001b[0m\n",
      "\u001b[1;32mINFO: Fetched Spotify audio features for last one standing by skylar grey\u001b[0m\n"
     ]
    },
    {
     "name": "stderr",
     "output_type": "stream",
     "text": [
      "ERROR: [youtube] 4haurn3S8z8: Sign in to confirm you’re not a bot. This helps protect our community. Learn more\n",
      "Failed to download from YouTube URL 'https://www.youtube.com/watch?v=4haurn3S8z8&pp=ygUfc2t5bGFyIGdyZXkgLSBsYXN0IG9uZSBzdGFuZGluZw%3D%3D': ERROR: [youtube] 4haurn3S8z8: Sign in to confirm you’re not a bot. This helps protect our community. Learn more\n",
      "\u001b[1;33mWARNING: Failed to download song: last one standing\u001b[0m\n"
     ]
    },
    {
     "name": "stdout",
     "output_type": "stream",
     "text": [
      "\u001b[1;32mINFO: Completed processing for song: last one standing by skylar grey\u001b[0m\n",
      "\u001b[1;32mINFO: Fetched Spotify audio features for perfect soul by spiritbox\u001b[0m\n"
     ]
    },
    {
     "name": "stderr",
     "output_type": "stream",
     "text": [
      "ERROR: [youtube] kEOctaHwmbc: Sign in to confirm you’re not a bot. This helps protect our community. Learn more\n",
      "Failed to download from YouTube URL 'https://www.youtube.com/watch?v=kEOctaHwmbc&pp=ygUYc3Bpcml0Ym94IC0gcGVyZmVjdCBzb3Vs': ERROR: [youtube] kEOctaHwmbc: Sign in to confirm you’re not a bot. This helps protect our community. Learn more\n",
      "\u001b[1;33mWARNING: Failed to download song: perfect soul\u001b[0m\n"
     ]
    },
    {
     "name": "stdout",
     "output_type": "stream",
     "text": [
      "\u001b[1;32mINFO: Completed processing for song: perfect soul by spiritbox\u001b[0m\n",
      "\u001b[1;32mINFO: Fetched Spotify audio features for cobra by megan thee stallion\u001b[0m\n"
     ]
    },
    {
     "name": "stderr",
     "output_type": "stream",
     "text": [
      "ERROR: [youtube] DOZNRoL0310: Sign in to confirm you’re not a bot. This helps protect our community. Learn more\n",
      "Failed to download from YouTube URL 'https://www.youtube.com/watch?v=DOZNRoL0310&pp=ygUbbWVnYW4gdGhlZSBzdGFsbGlvbiAtIGNvYnJh': ERROR: [youtube] DOZNRoL0310: Sign in to confirm you’re not a bot. This helps protect our community. Learn more\n",
      "\u001b[1;33mWARNING: Failed to download song: cobra\u001b[0m\n"
     ]
    },
    {
     "name": "stdout",
     "output_type": "stream",
     "text": [
      "\u001b[1;32mINFO: Completed processing for song: cobra by megan thee stallion\u001b[0m\n",
      "\u001b[1;32mINFO: Fetched Spotify audio features for lost by bring me the horizon\u001b[0m\n"
     ]
    },
    {
     "name": "stderr",
     "output_type": "stream",
     "text": [
      "\u001b[1;33mWARNING: Lyrics not found for 'lost' by bring me the horizon using all available providers.\u001b[0m\n"
     ]
    },
    {
     "name": "stdout",
     "output_type": "stream",
     "text": [
      "\u001b[1;32mINFO: Lyrics not found for song: lost by bring me the horizon. Skipping...\u001b[0m\n",
      "\u001b[1;32mINFO: Fetched Spotify audio features for falling through petals by revengeinkyoto\u001b[0m\n"
     ]
    },
    {
     "name": "stderr",
     "output_type": "stream",
     "text": [
      "ERROR: [youtube] 1B6OsPU3JiE: Sign in to confirm you’re not a bot. This helps protect our community. Learn more\n",
      "Failed to download from YouTube URL 'https://www.youtube.com/watch?v=1B6OsPU3JiE&pp=ygUncmV2ZW5nZWlua3lvdG8gLSBmYWxsaW5nIHRocm91Z2ggcGV0YWxz': ERROR: [youtube] 1B6OsPU3JiE: Sign in to confirm you’re not a bot. This helps protect our community. Learn more\n",
      "\u001b[1;33mWARNING: Failed to download song: falling through petals\u001b[0m\n"
     ]
    },
    {
     "name": "stdout",
     "output_type": "stream",
     "text": [
      "\u001b[1;32mINFO: Completed processing for song: falling through petals by revengeinkyoto\u001b[0m\n",
      "\u001b[1;32mINFO: Fetched Spotify audio features for mata air by hindia\u001b[0m\n"
     ]
    },
    {
     "name": "stderr",
     "output_type": "stream",
     "text": [
      "ERROR: [youtube] f5B0q9Ff2-s: Sign in to confirm you’re not a bot. This helps protect our community. Learn more\n",
      "Failed to download from YouTube URL 'https://www.youtube.com/watch?v=f5B0q9Ff2-s&pp=ygURaGluZGlhIC0gbWF0YSBhaXI%3D': ERROR: [youtube] f5B0q9Ff2-s: Sign in to confirm you’re not a bot. This helps protect our community. Learn more\n",
      "\u001b[1;33mWARNING: Failed to download song: mata air\u001b[0m\n"
     ]
    },
    {
     "name": "stdout",
     "output_type": "stream",
     "text": [
      "\u001b[1;32mINFO: Completed processing for song: mata air by hindia\u001b[0m\n",
      "\u001b[1;32mINFO: Fetched Spotify audio features for evaluasi by hindia\u001b[0m\n"
     ]
    },
    {
     "ename": "KeyboardInterrupt",
     "evalue": "",
     "output_type": "error",
     "traceback": [
      "\u001b[0;31m---------------------------------------------------------------------------\u001b[0m",
      "\u001b[0;31mKeyboardInterrupt\u001b[0m                         Traceback (most recent call last)",
      "File \u001b[0;32m~/Python/Jupyter-projects/thesis/songs_analysis/classes/playlist.py:153\u001b[0m, in \u001b[0;36mprocess_songs\u001b[0;34m(self)\u001b[0m\n\u001b[1;32m    152\u001b[0m         tasks.append(executor.submit(self._download_and_process_song, song, writer))\n\u001b[0;32m--> 153\u001b[0m else:\n\u001b[1;32m    154\u001b[0m     tasks.append(executor.submit(self._download_and_process_song, song, writer))\n",
      "File \u001b[0;32m/usr/lib/python3.10/concurrent/futures/_base.py:245\u001b[0m, in \u001b[0;36mas_completed\u001b[0;34m(fs, timeout)\u001b[0m\n\u001b[1;32m    241\u001b[0m         \u001b[38;5;28;01mraise\u001b[39;00m \u001b[38;5;167;01mTimeoutError\u001b[39;00m(\n\u001b[1;32m    242\u001b[0m                 \u001b[38;5;124m'\u001b[39m\u001b[38;5;132;01m%d\u001b[39;00m\u001b[38;5;124m (of \u001b[39m\u001b[38;5;132;01m%d\u001b[39;00m\u001b[38;5;124m) futures unfinished\u001b[39m\u001b[38;5;124m'\u001b[39m \u001b[38;5;241m%\u001b[39m (\n\u001b[1;32m    243\u001b[0m                 \u001b[38;5;28mlen\u001b[39m(pending), total_futures))\n\u001b[0;32m--> 245\u001b[0m \u001b[43mwaiter\u001b[49m\u001b[38;5;241;43m.\u001b[39;49m\u001b[43mevent\u001b[49m\u001b[38;5;241;43m.\u001b[39;49m\u001b[43mwait\u001b[49m\u001b[43m(\u001b[49m\u001b[43mwait_timeout\u001b[49m\u001b[43m)\u001b[49m\n\u001b[1;32m    247\u001b[0m \u001b[38;5;28;01mwith\u001b[39;00m waiter\u001b[38;5;241m.\u001b[39mlock:\n",
      "File \u001b[0;32m/usr/lib/python3.10/threading.py:607\u001b[0m, in \u001b[0;36mEvent.wait\u001b[0;34m(self, timeout)\u001b[0m\n\u001b[1;32m    606\u001b[0m \u001b[38;5;28;01mif\u001b[39;00m \u001b[38;5;129;01mnot\u001b[39;00m signaled:\n\u001b[0;32m--> 607\u001b[0m     signaled \u001b[38;5;241m=\u001b[39m \u001b[38;5;28;43mself\u001b[39;49m\u001b[38;5;241;43m.\u001b[39;49m\u001b[43m_cond\u001b[49m\u001b[38;5;241;43m.\u001b[39;49m\u001b[43mwait\u001b[49m\u001b[43m(\u001b[49m\u001b[43mtimeout\u001b[49m\u001b[43m)\u001b[49m\n\u001b[1;32m    608\u001b[0m \u001b[38;5;28;01mreturn\u001b[39;00m signaled\n",
      "File \u001b[0;32m/usr/lib/python3.10/threading.py:320\u001b[0m, in \u001b[0;36mCondition.wait\u001b[0;34m(self, timeout)\u001b[0m\n\u001b[1;32m    319\u001b[0m \u001b[38;5;28;01mif\u001b[39;00m timeout \u001b[38;5;129;01mis\u001b[39;00m \u001b[38;5;28;01mNone\u001b[39;00m:\n\u001b[0;32m--> 320\u001b[0m     \u001b[43mwaiter\u001b[49m\u001b[38;5;241;43m.\u001b[39;49m\u001b[43macquire\u001b[49m\u001b[43m(\u001b[49m\u001b[43m)\u001b[49m\n\u001b[1;32m    321\u001b[0m     gotit \u001b[38;5;241m=\u001b[39m \u001b[38;5;28;01mTrue\u001b[39;00m\n",
      "\u001b[0;31mKeyboardInterrupt\u001b[0m: ",
      "\nDuring handling of the above exception, another exception occurred:\n",
      "\u001b[0;31mKeyboardInterrupt\u001b[0m                         Traceback (most recent call last)",
      "Cell \u001b[0;32mIn[6], line 6\u001b[0m\n\u001b[1;32m      4\u001b[0m \u001b[38;5;28mprint\u001b[39m(\u001b[38;5;124mf\u001b[39m\u001b[38;5;124m\"\u001b[39m\u001b[38;5;124mProcessing \u001b[39m\u001b[38;5;132;01m{\u001b[39;00mname\u001b[38;5;132;01m}\u001b[39;00m\u001b[38;5;124m...\u001b[39m\u001b[38;5;124m\"\u001b[39m)\n\u001b[1;32m      5\u001b[0m playlist \u001b[38;5;241m=\u001b[39m Playlist(uri\u001b[38;5;241m=\u001b[39muri, spotify_manager\u001b[38;5;241m=\u001b[39mspotify_manager)\n\u001b[0;32m----> 6\u001b[0m new \u001b[38;5;241m=\u001b[39m \u001b[43mplaylist\u001b[49m\u001b[38;5;241;43m.\u001b[39;49m\u001b[43mprocess_songs\u001b[49m\u001b[43m(\u001b[49m\u001b[43m)\u001b[49m\n",
      "File \u001b[0;32m~/Python/Jupyter-projects/thesis/songs_analysis/classes/playlist.py:138\u001b[0m, in \u001b[0;36mPlaylist.process_songs\u001b[0;34m(self)\u001b[0m\n\u001b[1;32m    135\u001b[0m     writer\u001b[38;5;241m.\u001b[39mwriteheader()\n\u001b[1;32m    137\u001b[0m tasks \u001b[38;5;241m=\u001b[39m []\n\u001b[0;32m--> 138\u001b[0m \u001b[38;5;28;01mwith\u001b[39;00m ThreadPoolExecutor(max_workers\u001b[38;5;241m=\u001b[39m\u001b[38;5;241m1\u001b[39m) \u001b[38;5;28;01mas\u001b[39;00m executor:  \u001b[38;5;66;03m# Adjust `max_workers` based on your system's capacity\u001b[39;00m\n\u001b[1;32m    139\u001b[0m     \u001b[38;5;28;01mfor\u001b[39;00m song \u001b[38;5;129;01min\u001b[39;00m tqdm(\u001b[38;5;28mself\u001b[39m\u001b[38;5;241m.\u001b[39msongs, desc\u001b[38;5;241m=\u001b[39m\u001b[38;5;124m\"\u001b[39m\u001b[38;5;124mProcessing Songs\u001b[39m\u001b[38;5;124m\"\u001b[39m, unit\u001b[38;5;241m=\u001b[39m\u001b[38;5;124m\"\u001b[39m\u001b[38;5;124msong\u001b[39m\u001b[38;5;124m\"\u001b[39m):\n\u001b[1;32m    140\u001b[0m         \u001b[38;5;28;01mif\u001b[39;00m (song\u001b[38;5;241m.\u001b[39mtitle, song\u001b[38;5;241m.\u001b[39martist) \u001b[38;5;129;01min\u001b[39;00m existing_songs:\n",
      "File \u001b[0;32m/usr/lib/python3.10/concurrent/futures/_base.py:649\u001b[0m, in \u001b[0;36mExecutor.__exit__\u001b[0;34m(self, exc_type, exc_val, exc_tb)\u001b[0m\n\u001b[1;32m    648\u001b[0m \u001b[38;5;28;01mdef\u001b[39;00m \u001b[38;5;21m__exit__\u001b[39m(\u001b[38;5;28mself\u001b[39m, exc_type, exc_val, exc_tb):\n\u001b[0;32m--> 649\u001b[0m     \u001b[38;5;28;43mself\u001b[39;49m\u001b[38;5;241;43m.\u001b[39;49m\u001b[43mshutdown\u001b[49m\u001b[43m(\u001b[49m\u001b[43mwait\u001b[49m\u001b[38;5;241;43m=\u001b[39;49m\u001b[38;5;28;43;01mTrue\u001b[39;49;00m\u001b[43m)\u001b[49m\n\u001b[1;32m    650\u001b[0m     \u001b[38;5;28;01mreturn\u001b[39;00m \u001b[38;5;28;01mFalse\u001b[39;00m\n",
      "File \u001b[0;32m/usr/lib/python3.10/concurrent/futures/thread.py:235\u001b[0m, in \u001b[0;36mThreadPoolExecutor.shutdown\u001b[0;34m(self, wait, cancel_futures)\u001b[0m\n\u001b[1;32m    233\u001b[0m \u001b[38;5;28;01mif\u001b[39;00m wait:\n\u001b[1;32m    234\u001b[0m     \u001b[38;5;28;01mfor\u001b[39;00m t \u001b[38;5;129;01min\u001b[39;00m \u001b[38;5;28mself\u001b[39m\u001b[38;5;241m.\u001b[39m_threads:\n\u001b[0;32m--> 235\u001b[0m         \u001b[43mt\u001b[49m\u001b[38;5;241;43m.\u001b[39;49m\u001b[43mjoin\u001b[49m\u001b[43m(\u001b[49m\u001b[43m)\u001b[49m\n",
      "File \u001b[0;32m/usr/lib/python3.10/threading.py:1096\u001b[0m, in \u001b[0;36mThread.join\u001b[0;34m(self, timeout)\u001b[0m\n\u001b[1;32m   1093\u001b[0m     \u001b[38;5;28;01mraise\u001b[39;00m \u001b[38;5;167;01mRuntimeError\u001b[39;00m(\u001b[38;5;124m\"\u001b[39m\u001b[38;5;124mcannot join current thread\u001b[39m\u001b[38;5;124m\"\u001b[39m)\n\u001b[1;32m   1095\u001b[0m \u001b[38;5;28;01mif\u001b[39;00m timeout \u001b[38;5;129;01mis\u001b[39;00m \u001b[38;5;28;01mNone\u001b[39;00m:\n\u001b[0;32m-> 1096\u001b[0m     \u001b[38;5;28;43mself\u001b[39;49m\u001b[38;5;241;43m.\u001b[39;49m\u001b[43m_wait_for_tstate_lock\u001b[49m\u001b[43m(\u001b[49m\u001b[43m)\u001b[49m\n\u001b[1;32m   1097\u001b[0m \u001b[38;5;28;01melse\u001b[39;00m:\n\u001b[1;32m   1098\u001b[0m     \u001b[38;5;66;03m# the behavior of a negative timeout isn't documented, but\u001b[39;00m\n\u001b[1;32m   1099\u001b[0m     \u001b[38;5;66;03m# historically .join(timeout=x) for x<0 has acted as if timeout=0\u001b[39;00m\n\u001b[1;32m   1100\u001b[0m     \u001b[38;5;28mself\u001b[39m\u001b[38;5;241m.\u001b[39m_wait_for_tstate_lock(timeout\u001b[38;5;241m=\u001b[39m\u001b[38;5;28mmax\u001b[39m(timeout, \u001b[38;5;241m0\u001b[39m))\n",
      "File \u001b[0;32m/usr/lib/python3.10/threading.py:1116\u001b[0m, in \u001b[0;36mThread._wait_for_tstate_lock\u001b[0;34m(self, block, timeout)\u001b[0m\n\u001b[1;32m   1113\u001b[0m     \u001b[38;5;28;01mreturn\u001b[39;00m\n\u001b[1;32m   1115\u001b[0m \u001b[38;5;28;01mtry\u001b[39;00m:\n\u001b[0;32m-> 1116\u001b[0m     \u001b[38;5;28;01mif\u001b[39;00m \u001b[43mlock\u001b[49m\u001b[38;5;241;43m.\u001b[39;49m\u001b[43macquire\u001b[49m\u001b[43m(\u001b[49m\u001b[43mblock\u001b[49m\u001b[43m,\u001b[49m\u001b[43m \u001b[49m\u001b[43mtimeout\u001b[49m\u001b[43m)\u001b[49m:\n\u001b[1;32m   1117\u001b[0m         lock\u001b[38;5;241m.\u001b[39mrelease()\n\u001b[1;32m   1118\u001b[0m         \u001b[38;5;28mself\u001b[39m\u001b[38;5;241m.\u001b[39m_stop()\n",
      "\u001b[0;31mKeyboardInterrupt\u001b[0m: "
     ]
    },
    {
     "name": "stderr",
     "output_type": "stream",
     "text": [
      "ERROR: [youtube] cWrSjCZ5AeE: Sign in to confirm you’re not a bot. This helps protect our community. Learn more\n",
      "Failed to download from YouTube URL 'https://www.youtube.com/watch?v=cWrSjCZ5AeE&pp=ygURaGluZGlhIC0gZXZhbHVhc2k%3D': Socket operation on non-socket\n",
      "--- Logging error ---\n",
      "Traceback (most recent call last):\n",
      "  File \"/home/krystian/Python/VENVS/jupyter310/lib/python3.10/site-packages/yt_dlp/YoutubeDL.py\", line 1626, in wrapper\n",
      "    return func(self, *args, **kwargs)\n",
      "  File \"/home/krystian/Python/VENVS/jupyter310/lib/python3.10/site-packages/yt_dlp/YoutubeDL.py\", line 1761, in __extract_info\n",
      "    ie_result = ie.extract(url)\n",
      "  File \"/home/krystian/Python/VENVS/jupyter310/lib/python3.10/site-packages/yt_dlp/extractor/common.py\", line 740, in extract\n",
      "    ie_result = self._real_extract(url)\n",
      "  File \"/home/krystian/Python/VENVS/jupyter310/lib/python3.10/site-packages/yt_dlp/extractor/youtube.py\", line 4358, in _real_extract\n",
      "    self.raise_no_formats(reason, expected=True)\n",
      "  File \"/home/krystian/Python/VENVS/jupyter310/lib/python3.10/site-packages/yt_dlp/extractor/common.py\", line 1263, in raise_no_formats\n",
      "    raise ExtractorError(msg, expected=expected, video_id=video_id)\n",
      "yt_dlp.utils.ExtractorError: [youtube] cWrSjCZ5AeE: Sign in to confirm you’re not a bot. This helps protect our community. Learn more\n",
      "\n",
      "During handling of the above exception, another exception occurred:\n",
      "\n",
      "Traceback (most recent call last):\n",
      "  File \"/home/krystian/Python/Jupyter-projects/thesis/songs_analysis/classes/youtube_downloader.py\", line 64, in download_audio\n",
      "    ydl.download([url])\n",
      "  File \"/home/krystian/Python/VENVS/jupyter310/lib/python3.10/site-packages/yt_dlp/YoutubeDL.py\", line 3607, in download\n",
      "    self.__download_wrapper(self.extract_info)(\n",
      "  File \"/home/krystian/Python/VENVS/jupyter310/lib/python3.10/site-packages/yt_dlp/YoutubeDL.py\", line 3582, in wrapper\n",
      "    res = func(*args, **kwargs)\n",
      "  File \"/home/krystian/Python/VENVS/jupyter310/lib/python3.10/site-packages/yt_dlp/YoutubeDL.py\", line 1615, in extract_info\n",
      "    return self.__extract_info(url, self.get_info_extractor(key), download, extra_info, process)\n",
      "  File \"/home/krystian/Python/VENVS/jupyter310/lib/python3.10/site-packages/yt_dlp/YoutubeDL.py\", line 1644, in wrapper\n",
      "    self.report_error(str(e), e.format_traceback())\n",
      "  File \"/home/krystian/Python/VENVS/jupyter310/lib/python3.10/site-packages/yt_dlp/YoutubeDL.py\", line 1092, in report_error\n",
      "    self.trouble(f'{self._format_err(\"ERROR:\", self.Styles.ERROR)} {message}', *args, **kwargs)\n",
      "  File \"/home/krystian/Python/VENVS/jupyter310/lib/python3.10/site-packages/yt_dlp/YoutubeDL.py\", line 1011, in trouble\n",
      "    self.to_stderr(message)\n",
      "  File \"/home/krystian/Python/VENVS/jupyter310/lib/python3.10/site-packages/yt_dlp/YoutubeDL.py\", line 953, in to_stderr\n",
      "    self._write_string(f'{self._bidi_workaround(message)}\\n', self._out_files.error, only_once=only_once)\n",
      "  File \"/home/krystian/Python/VENVS/jupyter310/lib/python3.10/site-packages/yt_dlp/YoutubeDL.py\", line 924, in _write_string\n",
      "    write_string(message, out=out, encoding=self.params.get('encoding'))\n",
      "  File \"/home/krystian/Python/VENVS/jupyter310/lib/python3.10/site-packages/yt_dlp/utils/_utils.py\", line 1441, in write_string\n",
      "    buffer.write(s.encode(enc, 'ignore') if enc else s)\n",
      "  File \"/home/krystian/Python/VENVS/jupyter310/lib/python3.10/site-packages/ipykernel/iostream.py\", line 694, in write\n",
      "    self._schedule_flush()\n",
      "  File \"/home/krystian/Python/VENVS/jupyter310/lib/python3.10/site-packages/ipykernel/iostream.py\", line 590, in _schedule_flush\n",
      "    self.pub_thread.schedule(_schedule_in_thread)\n",
      "  File \"/home/krystian/Python/VENVS/jupyter310/lib/python3.10/site-packages/ipykernel/iostream.py\", line 267, in schedule\n",
      "    self._event_pipe.send(b\"\")\n",
      "  File \"/home/krystian/Python/VENVS/jupyter310/lib/python3.10/site-packages/zmq/sugar/socket.py\", line 701, in send\n",
      "    return super().send(data, flags=flags, copy=copy, track=track)\n",
      "  File \"_zmq.py\", line 1092, in zmq.backend.cython._zmq.Socket.send\n",
      "  File \"_zmq.py\", line 1134, in zmq.backend.cython._zmq.Socket.send\n",
      "  File \"_zmq.py\", line 1209, in zmq.backend.cython._zmq._check_closed\n",
      "zmq.error.ZMQError: Socket operation on non-socket\n",
      "\n",
      "During handling of the above exception, another exception occurred:\n",
      "\n",
      "Traceback (most recent call last):\n",
      "  File \"/usr/lib/python3.10/logging/__init__.py\", line 1104, in emit\n",
      "    self.flush()\n",
      "  File \"/usr/lib/python3.10/logging/__init__.py\", line 1084, in flush\n",
      "    self.stream.flush()\n",
      "  File \"/home/krystian/Python/VENVS/jupyter310/lib/python3.10/site-packages/ipykernel/iostream.py\", line 604, in flush\n",
      "    self.pub_thread.schedule(self._flush)\n",
      "  File \"/home/krystian/Python/VENVS/jupyter310/lib/python3.10/site-packages/ipykernel/iostream.py\", line 267, in schedule\n",
      "    self._event_pipe.send(b\"\")\n",
      "  File \"/home/krystian/Python/VENVS/jupyter310/lib/python3.10/site-packages/zmq/sugar/socket.py\", line 701, in send\n",
      "    return super().send(data, flags=flags, copy=copy, track=track)\n",
      "  File \"_zmq.py\", line 1092, in zmq.backend.cython._zmq.Socket.send\n",
      "  File \"_zmq.py\", line 1134, in zmq.backend.cython._zmq.Socket.send\n",
      "  File \"_zmq.py\", line 1209, in zmq.backend.cython._zmq._check_closed\n",
      "zmq.error.ZMQError: Socket operation on non-socket\n",
      "Call stack:\n",
      "  File \"/usr/lib/python3.10/threading.py\", line 973, in _bootstrap\n",
      "    self._bootstrap_inner()\n",
      "  File \"/usr/lib/python3.10/threading.py\", line 1016, in _bootstrap_inner\n",
      "    self.run()\n",
      "  File \"/home/krystian/Python/VENVS/jupyter310/lib/python3.10/site-packages/ipykernel/ipkernel.py\", line 766, in run_closure\n",
      "    _threading_Thread_run(self)\n",
      "  File \"/usr/lib/python3.10/threading.py\", line 953, in run\n",
      "    self._target(*self._args, **self._kwargs)\n",
      "  File \"/usr/lib/python3.10/concurrent/futures/thread.py\", line 83, in _worker\n",
      "    work_item.run()\n",
      "  File \"/usr/lib/python3.10/concurrent/futures/thread.py\", line 58, in run\n",
      "    result = self.fn(*self.args, **self.kwargs)\n",
      "  File \"/home/krystian/Python/Jupyter-projects/thesis/songs_analysis/classes/playlist.py\", line 161, in _download_and_process_song\n",
      "    LOGGER.error(f\"Error processing a song: {e}\")\n",
      "  File \"/home/krystian/Python/Jupyter-projects/thesis/songs_analysis/classes/playlist.py\", line 189, in _process_single_song\n",
      "    \"\"\"\n",
      "  File \"/home/krystian/Python/Jupyter-projects/thesis/songs_analysis/classes/playlist.py\", line 246, in _download_song\n",
      "    song.mp3_path = mp3_file_path  # Set the absolute path in the Song instance\n",
      "  File \"/home/krystian/Python/Jupyter-projects/thesis/songs_analysis/classes/youtube_downloader.py\", line 68, in download_audio\n",
      "    LOGGER.error(f\"Failed to download from YouTube URL '{url}': {e}\")\n",
      "Message: \"Failed to download from YouTube URL 'https://www.youtube.com/watch?v=cWrSjCZ5AeE&pp=ygURaGluZGlhIC0gZXZhbHVhc2k%3D': Socket operation on non-socket\"\n",
      "Arguments: ()\n",
      "\u001b[1;33mWARNING: Failed to download song: evaluasi\u001b[0m\n",
      "--- Logging error ---\n",
      "Traceback (most recent call last):\n",
      "  File \"/usr/lib/python3.10/logging/__init__.py\", line 1104, in emit\n",
      "    self.flush()\n",
      "  File \"/usr/lib/python3.10/logging/__init__.py\", line 1084, in flush\n",
      "    self.stream.flush()\n",
      "  File \"/home/krystian/Python/VENVS/jupyter310/lib/python3.10/site-packages/ipykernel/iostream.py\", line 604, in flush\n",
      "    self.pub_thread.schedule(self._flush)\n",
      "  File \"/home/krystian/Python/VENVS/jupyter310/lib/python3.10/site-packages/ipykernel/iostream.py\", line 267, in schedule\n",
      "    self._event_pipe.send(b\"\")\n",
      "  File \"/home/krystian/Python/VENVS/jupyter310/lib/python3.10/site-packages/zmq/sugar/socket.py\", line 701, in send\n",
      "    return super().send(data, flags=flags, copy=copy, track=track)\n",
      "  File \"_zmq.py\", line 1092, in zmq.backend.cython._zmq.Socket.send\n",
      "  File \"_zmq.py\", line 1134, in zmq.backend.cython._zmq.Socket.send\n",
      "  File \"_zmq.py\", line 1209, in zmq.backend.cython._zmq._check_closed\n",
      "zmq.error.ZMQError: Socket operation on non-socket\n",
      "Call stack:\n",
      "  File \"/usr/lib/python3.10/threading.py\", line 973, in _bootstrap\n",
      "    self._bootstrap_inner()\n",
      "  File \"/usr/lib/python3.10/threading.py\", line 1016, in _bootstrap_inner\n",
      "    self.run()\n",
      "  File \"/home/krystian/Python/VENVS/jupyter310/lib/python3.10/site-packages/ipykernel/ipkernel.py\", line 766, in run_closure\n",
      "    _threading_Thread_run(self)\n",
      "  File \"/usr/lib/python3.10/threading.py\", line 953, in run\n",
      "    self._target(*self._args, **self._kwargs)\n",
      "  File \"/usr/lib/python3.10/concurrent/futures/thread.py\", line 83, in _worker\n",
      "    work_item.run()\n",
      "  File \"/usr/lib/python3.10/concurrent/futures/thread.py\", line 58, in run\n",
      "    result = self.fn(*self.args, **self.kwargs)\n",
      "  File \"/home/krystian/Python/Jupyter-projects/thesis/songs_analysis/classes/playlist.py\", line 161, in _download_and_process_song\n",
      "    LOGGER.error(f\"Error processing a song: {e}\")\n",
      "  File \"/home/krystian/Python/Jupyter-projects/thesis/songs_analysis/classes/playlist.py\", line 189, in _process_single_song\n",
      "    \"\"\"\n",
      "  File \"/home/krystian/Python/Jupyter-projects/thesis/songs_analysis/classes/playlist.py\", line 252, in _download_song\n",
      "    success = self.youtube_downloader.download_audio(best_url, mp3_file_path.rsplit('.mp3', 1)[0])  # Download without .mp3\n",
      "Message: 'Failed to download song: evaluasi'\n",
      "Arguments: ()\n",
      "--- Logging error ---\n",
      "Traceback (most recent call last):\n",
      "  File \"/usr/lib/python3.10/logging/__init__.py\", line 1103, in emit\n",
      "    stream.write(msg + self.terminator)\n",
      "  File \"/home/krystian/Python/VENVS/jupyter310/lib/python3.10/site-packages/ipykernel/iostream.py\", line 694, in write\n",
      "    self._schedule_flush()\n",
      "  File \"/home/krystian/Python/VENVS/jupyter310/lib/python3.10/site-packages/ipykernel/iostream.py\", line 590, in _schedule_flush\n",
      "    self.pub_thread.schedule(_schedule_in_thread)\n",
      "  File \"/home/krystian/Python/VENVS/jupyter310/lib/python3.10/site-packages/ipykernel/iostream.py\", line 267, in schedule\n",
      "    self._event_pipe.send(b\"\")\n",
      "  File \"/home/krystian/Python/VENVS/jupyter310/lib/python3.10/site-packages/zmq/sugar/socket.py\", line 701, in send\n",
      "    return super().send(data, flags=flags, copy=copy, track=track)\n",
      "  File \"_zmq.py\", line 1092, in zmq.backend.cython._zmq.Socket.send\n",
      "  File \"_zmq.py\", line 1134, in zmq.backend.cython._zmq.Socket.send\n",
      "  File \"_zmq.py\", line 1209, in zmq.backend.cython._zmq._check_closed\n",
      "zmq.error.ZMQError: Socket operation on non-socket\n",
      "Call stack:\n",
      "  File \"/usr/lib/python3.10/threading.py\", line 973, in _bootstrap\n",
      "    self._bootstrap_inner()\n",
      "  File \"/usr/lib/python3.10/threading.py\", line 1016, in _bootstrap_inner\n",
      "    self.run()\n",
      "  File \"/home/krystian/Python/VENVS/jupyter310/lib/python3.10/site-packages/ipykernel/ipkernel.py\", line 766, in run_closure\n",
      "    _threading_Thread_run(self)\n",
      "  File \"/usr/lib/python3.10/threading.py\", line 953, in run\n",
      "    self._target(*self._args, **self._kwargs)\n",
      "  File \"/usr/lib/python3.10/concurrent/futures/thread.py\", line 83, in _worker\n",
      "    work_item.run()\n",
      "  File \"/usr/lib/python3.10/concurrent/futures/thread.py\", line 58, in run\n",
      "    result = self.fn(*self.args, **self.kwargs)\n",
      "  File \"/home/krystian/Python/Jupyter-projects/thesis/songs_analysis/classes/playlist.py\", line 161, in _download_and_process_song\n",
      "    LOGGER.error(f\"Error processing a song: {e}\")\n",
      "  File \"/home/krystian/Python/Jupyter-projects/thesis/songs_analysis/classes/playlist.py\", line 184, in _process_single_song\n",
      "    \"\"\"Processes a single song by fetching Spotify features, lyrics, and downloading audio.\n",
      "  File \"/home/krystian/Python/Jupyter-projects/thesis/songs_analysis/classes/playlist.py\", line 218, in _fetch_spotify_features\n",
      "    instrumentalness=features.get('instrumentalness'),\n",
      "Message: 'Fetched Spotify audio features for jaded by spiritbox'\n",
      "Arguments: ()\n",
      "ERROR: [youtube] EjnZVpVvJ-k: Sign in to confirm you’re not a bot. This helps protect our community. Learn more\n",
      "Failed to download from YouTube URL 'https://www.youtube.com/watch?v=EjnZVpVvJ-k&pp=ygURc3Bpcml0Ym94IC0gamFkZWQ%3D': Socket operation on non-socket\n",
      "--- Logging error ---\n",
      "Traceback (most recent call last):\n",
      "  File \"/home/krystian/Python/VENVS/jupyter310/lib/python3.10/site-packages/yt_dlp/YoutubeDL.py\", line 1626, in wrapper\n",
      "    return func(self, *args, **kwargs)\n",
      "  File \"/home/krystian/Python/VENVS/jupyter310/lib/python3.10/site-packages/yt_dlp/YoutubeDL.py\", line 1761, in __extract_info\n",
      "    ie_result = ie.extract(url)\n",
      "  File \"/home/krystian/Python/VENVS/jupyter310/lib/python3.10/site-packages/yt_dlp/extractor/common.py\", line 740, in extract\n",
      "    ie_result = self._real_extract(url)\n",
      "  File \"/home/krystian/Python/VENVS/jupyter310/lib/python3.10/site-packages/yt_dlp/extractor/youtube.py\", line 4358, in _real_extract\n",
      "    self.raise_no_formats(reason, expected=True)\n",
      "  File \"/home/krystian/Python/VENVS/jupyter310/lib/python3.10/site-packages/yt_dlp/extractor/common.py\", line 1263, in raise_no_formats\n",
      "    raise ExtractorError(msg, expected=expected, video_id=video_id)\n",
      "yt_dlp.utils.ExtractorError: [youtube] EjnZVpVvJ-k: Sign in to confirm you’re not a bot. This helps protect our community. Learn more\n",
      "\n",
      "During handling of the above exception, another exception occurred:\n",
      "\n",
      "Traceback (most recent call last):\n",
      "  File \"/home/krystian/Python/Jupyter-projects/thesis/songs_analysis/classes/youtube_downloader.py\", line 64, in download_audio\n",
      "    ydl.download([url])\n",
      "  File \"/home/krystian/Python/VENVS/jupyter310/lib/python3.10/site-packages/yt_dlp/YoutubeDL.py\", line 3607, in download\n",
      "    self.__download_wrapper(self.extract_info)(\n",
      "  File \"/home/krystian/Python/VENVS/jupyter310/lib/python3.10/site-packages/yt_dlp/YoutubeDL.py\", line 3582, in wrapper\n",
      "    res = func(*args, **kwargs)\n",
      "  File \"/home/krystian/Python/VENVS/jupyter310/lib/python3.10/site-packages/yt_dlp/YoutubeDL.py\", line 1615, in extract_info\n",
      "    return self.__extract_info(url, self.get_info_extractor(key), download, extra_info, process)\n",
      "  File \"/home/krystian/Python/VENVS/jupyter310/lib/python3.10/site-packages/yt_dlp/YoutubeDL.py\", line 1644, in wrapper\n",
      "    self.report_error(str(e), e.format_traceback())\n",
      "  File \"/home/krystian/Python/VENVS/jupyter310/lib/python3.10/site-packages/yt_dlp/YoutubeDL.py\", line 1092, in report_error\n",
      "    self.trouble(f'{self._format_err(\"ERROR:\", self.Styles.ERROR)} {message}', *args, **kwargs)\n",
      "  File \"/home/krystian/Python/VENVS/jupyter310/lib/python3.10/site-packages/yt_dlp/YoutubeDL.py\", line 1011, in trouble\n",
      "    self.to_stderr(message)\n",
      "  File \"/home/krystian/Python/VENVS/jupyter310/lib/python3.10/site-packages/yt_dlp/YoutubeDL.py\", line 953, in to_stderr\n",
      "    self._write_string(f'{self._bidi_workaround(message)}\\n', self._out_files.error, only_once=only_once)\n",
      "  File \"/home/krystian/Python/VENVS/jupyter310/lib/python3.10/site-packages/yt_dlp/YoutubeDL.py\", line 924, in _write_string\n",
      "    write_string(message, out=out, encoding=self.params.get('encoding'))\n",
      "  File \"/home/krystian/Python/VENVS/jupyter310/lib/python3.10/site-packages/yt_dlp/utils/_utils.py\", line 1442, in write_string\n",
      "    out.flush()\n",
      "  File \"/home/krystian/Python/VENVS/jupyter310/lib/python3.10/site-packages/ipykernel/iostream.py\", line 604, in flush\n",
      "    self.pub_thread.schedule(self._flush)\n",
      "  File \"/home/krystian/Python/VENVS/jupyter310/lib/python3.10/site-packages/ipykernel/iostream.py\", line 267, in schedule\n",
      "    self._event_pipe.send(b\"\")\n",
      "  File \"/home/krystian/Python/VENVS/jupyter310/lib/python3.10/site-packages/zmq/sugar/socket.py\", line 701, in send\n",
      "    return super().send(data, flags=flags, copy=copy, track=track)\n",
      "  File \"_zmq.py\", line 1092, in zmq.backend.cython._zmq.Socket.send\n",
      "  File \"_zmq.py\", line 1134, in zmq.backend.cython._zmq.Socket.send\n",
      "  File \"_zmq.py\", line 1209, in zmq.backend.cython._zmq._check_closed\n",
      "zmq.error.ZMQError: Socket operation on non-socket\n",
      "\n",
      "During handling of the above exception, another exception occurred:\n",
      "\n",
      "Traceback (most recent call last):\n",
      "  File \"/usr/lib/python3.10/logging/__init__.py\", line 1104, in emit\n",
      "    self.flush()\n",
      "  File \"/usr/lib/python3.10/logging/__init__.py\", line 1084, in flush\n",
      "    self.stream.flush()\n",
      "  File \"/home/krystian/Python/VENVS/jupyter310/lib/python3.10/site-packages/ipykernel/iostream.py\", line 604, in flush\n",
      "    self.pub_thread.schedule(self._flush)\n",
      "  File \"/home/krystian/Python/VENVS/jupyter310/lib/python3.10/site-packages/ipykernel/iostream.py\", line 267, in schedule\n",
      "    self._event_pipe.send(b\"\")\n",
      "  File \"/home/krystian/Python/VENVS/jupyter310/lib/python3.10/site-packages/zmq/sugar/socket.py\", line 701, in send\n",
      "    return super().send(data, flags=flags, copy=copy, track=track)\n",
      "  File \"_zmq.py\", line 1092, in zmq.backend.cython._zmq.Socket.send\n",
      "  File \"_zmq.py\", line 1134, in zmq.backend.cython._zmq.Socket.send\n",
      "  File \"_zmq.py\", line 1209, in zmq.backend.cython._zmq._check_closed\n",
      "zmq.error.ZMQError: Socket operation on non-socket\n",
      "Call stack:\n",
      "  File \"/usr/lib/python3.10/threading.py\", line 973, in _bootstrap\n",
      "    self._bootstrap_inner()\n",
      "  File \"/usr/lib/python3.10/threading.py\", line 1016, in _bootstrap_inner\n",
      "    self.run()\n",
      "  File \"/home/krystian/Python/VENVS/jupyter310/lib/python3.10/site-packages/ipykernel/ipkernel.py\", line 766, in run_closure\n",
      "    _threading_Thread_run(self)\n",
      "  File \"/usr/lib/python3.10/threading.py\", line 953, in run\n",
      "    self._target(*self._args, **self._kwargs)\n",
      "  File \"/usr/lib/python3.10/concurrent/futures/thread.py\", line 83, in _worker\n",
      "    work_item.run()\n",
      "  File \"/usr/lib/python3.10/concurrent/futures/thread.py\", line 58, in run\n",
      "    result = self.fn(*self.args, **self.kwargs)\n",
      "  File \"/home/krystian/Python/Jupyter-projects/thesis/songs_analysis/classes/playlist.py\", line 161, in _download_and_process_song\n",
      "    LOGGER.error(f\"Error processing a song: {e}\")\n",
      "  File \"/home/krystian/Python/Jupyter-projects/thesis/songs_analysis/classes/playlist.py\", line 189, in _process_single_song\n",
      "    \"\"\"\n",
      "  File \"/home/krystian/Python/Jupyter-projects/thesis/songs_analysis/classes/playlist.py\", line 246, in _download_song\n",
      "    song.mp3_path = mp3_file_path  # Set the absolute path in the Song instance\n",
      "  File \"/home/krystian/Python/Jupyter-projects/thesis/songs_analysis/classes/youtube_downloader.py\", line 68, in download_audio\n",
      "    LOGGER.error(f\"Failed to download from YouTube URL '{url}': {e}\")\n",
      "Message: \"Failed to download from YouTube URL 'https://www.youtube.com/watch?v=EjnZVpVvJ-k&pp=ygURc3Bpcml0Ym94IC0gamFkZWQ%3D': Socket operation on non-socket\"\n",
      "Arguments: ()\n",
      "\u001b[1;33mWARNING: Failed to download song: jaded\u001b[0m\n",
      "--- Logging error ---\n",
      "Traceback (most recent call last):\n",
      "  File \"/usr/lib/python3.10/logging/__init__.py\", line 1104, in emit\n",
      "    self.flush()\n",
      "  File \"/usr/lib/python3.10/logging/__init__.py\", line 1084, in flush\n",
      "    self.stream.flush()\n",
      "  File \"/home/krystian/Python/VENVS/jupyter310/lib/python3.10/site-packages/ipykernel/iostream.py\", line 604, in flush\n",
      "    self.pub_thread.schedule(self._flush)\n",
      "  File \"/home/krystian/Python/VENVS/jupyter310/lib/python3.10/site-packages/ipykernel/iostream.py\", line 267, in schedule\n",
      "    self._event_pipe.send(b\"\")\n",
      "  File \"/home/krystian/Python/VENVS/jupyter310/lib/python3.10/site-packages/zmq/sugar/socket.py\", line 701, in send\n",
      "    return super().send(data, flags=flags, copy=copy, track=track)\n",
      "  File \"_zmq.py\", line 1092, in zmq.backend.cython._zmq.Socket.send\n",
      "  File \"_zmq.py\", line 1134, in zmq.backend.cython._zmq.Socket.send\n",
      "  File \"_zmq.py\", line 1209, in zmq.backend.cython._zmq._check_closed\n",
      "zmq.error.ZMQError: Socket operation on non-socket\n",
      "Call stack:\n",
      "  File \"/usr/lib/python3.10/threading.py\", line 973, in _bootstrap\n",
      "    self._bootstrap_inner()\n",
      "  File \"/usr/lib/python3.10/threading.py\", line 1016, in _bootstrap_inner\n",
      "    self.run()\n",
      "  File \"/home/krystian/Python/VENVS/jupyter310/lib/python3.10/site-packages/ipykernel/ipkernel.py\", line 766, in run_closure\n",
      "    _threading_Thread_run(self)\n",
      "  File \"/usr/lib/python3.10/threading.py\", line 953, in run\n",
      "    self._target(*self._args, **self._kwargs)\n",
      "  File \"/usr/lib/python3.10/concurrent/futures/thread.py\", line 83, in _worker\n",
      "    work_item.run()\n",
      "  File \"/usr/lib/python3.10/concurrent/futures/thread.py\", line 58, in run\n",
      "    result = self.fn(*self.args, **self.kwargs)\n",
      "  File \"/home/krystian/Python/Jupyter-projects/thesis/songs_analysis/classes/playlist.py\", line 161, in _download_and_process_song\n",
      "    LOGGER.error(f\"Error processing a song: {e}\")\n",
      "  File \"/home/krystian/Python/Jupyter-projects/thesis/songs_analysis/classes/playlist.py\", line 189, in _process_single_song\n",
      "    \"\"\"\n",
      "  File \"/home/krystian/Python/Jupyter-projects/thesis/songs_analysis/classes/playlist.py\", line 252, in _download_song\n",
      "    success = self.youtube_downloader.download_audio(best_url, mp3_file_path.rsplit('.mp3', 1)[0])  # Download without .mp3\n",
      "Message: 'Failed to download song: jaded'\n",
      "Arguments: ()\n",
      "--- Logging error ---\n",
      "Traceback (most recent call last):\n",
      "  File \"/usr/lib/python3.10/logging/__init__.py\", line 1104, in emit\n",
      "    self.flush()\n",
      "  File \"/usr/lib/python3.10/logging/__init__.py\", line 1084, in flush\n",
      "    self.stream.flush()\n",
      "  File \"/home/krystian/Python/VENVS/jupyter310/lib/python3.10/site-packages/ipykernel/iostream.py\", line 604, in flush\n",
      "    self.pub_thread.schedule(self._flush)\n",
      "  File \"/home/krystian/Python/VENVS/jupyter310/lib/python3.10/site-packages/ipykernel/iostream.py\", line 267, in schedule\n",
      "    self._event_pipe.send(b\"\")\n",
      "  File \"/home/krystian/Python/VENVS/jupyter310/lib/python3.10/site-packages/zmq/sugar/socket.py\", line 701, in send\n",
      "    return super().send(data, flags=flags, copy=copy, track=track)\n",
      "  File \"_zmq.py\", line 1092, in zmq.backend.cython._zmq.Socket.send\n",
      "  File \"_zmq.py\", line 1134, in zmq.backend.cython._zmq.Socket.send\n",
      "  File \"_zmq.py\", line 1209, in zmq.backend.cython._zmq._check_closed\n",
      "zmq.error.ZMQError: Socket operation on non-socket\n",
      "Call stack:\n",
      "  File \"/usr/lib/python3.10/threading.py\", line 973, in _bootstrap\n",
      "    self._bootstrap_inner()\n",
      "  File \"/usr/lib/python3.10/threading.py\", line 1016, in _bootstrap_inner\n",
      "    self.run()\n",
      "  File \"/home/krystian/Python/VENVS/jupyter310/lib/python3.10/site-packages/ipykernel/ipkernel.py\", line 766, in run_closure\n",
      "    _threading_Thread_run(self)\n",
      "  File \"/usr/lib/python3.10/threading.py\", line 953, in run\n",
      "    self._target(*self._args, **self._kwargs)\n",
      "  File \"/usr/lib/python3.10/concurrent/futures/thread.py\", line 83, in _worker\n",
      "    work_item.run()\n",
      "  File \"/usr/lib/python3.10/concurrent/futures/thread.py\", line 58, in run\n",
      "    result = self.fn(*self.args, **self.kwargs)\n",
      "  File \"/home/krystian/Python/Jupyter-projects/thesis/songs_analysis/classes/playlist.py\", line 161, in _download_and_process_song\n",
      "    LOGGER.error(f\"Error processing a song: {e}\")\n",
      "  File \"/home/krystian/Python/Jupyter-projects/thesis/songs_analysis/classes/playlist.py\", line 184, in _process_single_song\n",
      "    \"\"\"Processes a single song by fetching Spotify features, lyrics, and downloading audio.\n",
      "  File \"/home/krystian/Python/Jupyter-projects/thesis/songs_analysis/classes/playlist.py\", line 218, in _fetch_spotify_features\n",
      "    instrumentalness=features.get('instrumentalness'),\n",
      "Message: 'Fetched Spotify audio features for cliché by viviz'\n",
      "Arguments: ()\n",
      "\u001b[1;33mWARNING: Lyrics not found for 'cliché' by viviz using all available providers.\u001b[0m\n",
      "--- Logging error ---\n",
      "Traceback (most recent call last):\n",
      "  File \"/usr/lib/python3.10/logging/__init__.py\", line 1104, in emit\n",
      "    self.flush()\n",
      "  File \"/usr/lib/python3.10/logging/__init__.py\", line 1084, in flush\n",
      "    self.stream.flush()\n",
      "  File \"/home/krystian/Python/VENVS/jupyter310/lib/python3.10/site-packages/ipykernel/iostream.py\", line 604, in flush\n",
      "    self.pub_thread.schedule(self._flush)\n",
      "  File \"/home/krystian/Python/VENVS/jupyter310/lib/python3.10/site-packages/ipykernel/iostream.py\", line 267, in schedule\n",
      "    self._event_pipe.send(b\"\")\n",
      "  File \"/home/krystian/Python/VENVS/jupyter310/lib/python3.10/site-packages/zmq/sugar/socket.py\", line 701, in send\n",
      "    return super().send(data, flags=flags, copy=copy, track=track)\n",
      "  File \"_zmq.py\", line 1092, in zmq.backend.cython._zmq.Socket.send\n",
      "  File \"_zmq.py\", line 1134, in zmq.backend.cython._zmq.Socket.send\n",
      "  File \"_zmq.py\", line 1209, in zmq.backend.cython._zmq._check_closed\n",
      "zmq.error.ZMQError: Socket operation on non-socket\n",
      "Call stack:\n",
      "  File \"/usr/lib/python3.10/threading.py\", line 973, in _bootstrap\n",
      "    self._bootstrap_inner()\n",
      "  File \"/usr/lib/python3.10/threading.py\", line 1016, in _bootstrap_inner\n",
      "    self.run()\n",
      "  File \"/home/krystian/Python/VENVS/jupyter310/lib/python3.10/site-packages/ipykernel/ipkernel.py\", line 766, in run_closure\n",
      "    _threading_Thread_run(self)\n",
      "  File \"/usr/lib/python3.10/threading.py\", line 953, in run\n",
      "    self._target(*self._args, **self._kwargs)\n",
      "  File \"/usr/lib/python3.10/concurrent/futures/thread.py\", line 83, in _worker\n",
      "    work_item.run()\n",
      "  File \"/usr/lib/python3.10/concurrent/futures/thread.py\", line 58, in run\n",
      "    result = self.fn(*self.args, **self.kwargs)\n",
      "  File \"/home/krystian/Python/Jupyter-projects/thesis/songs_analysis/classes/playlist.py\", line 161, in _download_and_process_song\n",
      "    LOGGER.error(f\"Error processing a song: {e}\")\n",
      "  File \"/home/krystian/Python/Jupyter-projects/thesis/songs_analysis/classes/playlist.py\", line 185, in _process_single_song\n",
      "  File \"/home/krystian/Python/Jupyter-projects/thesis/songs_analysis/classes/playlist.py\", line 226, in _fetch_lyrics\n",
      "    def _fetch_lyrics(self, song: Song) -> None:\n",
      "  File \"/home/krystian/Python/Jupyter-projects/thesis/songs_analysis/classes/lyrics_manager.py\", line 41, in fetch_lyrics\n",
      "    LOGGER.warning(f\"Lyrics not found for '{title}' by {artist} using all available providers.\")\n",
      "Message: \"Lyrics not found for 'cliché' by viviz using all available providers.\"\n",
      "Arguments: ()\n",
      "--- Logging error ---\n",
      "Traceback (most recent call last):\n",
      "  File \"/usr/lib/python3.10/logging/__init__.py\", line 1104, in emit\n",
      "    self.flush()\n",
      "  File \"/usr/lib/python3.10/logging/__init__.py\", line 1084, in flush\n",
      "    self.stream.flush()\n",
      "  File \"/home/krystian/Python/VENVS/jupyter310/lib/python3.10/site-packages/ipykernel/iostream.py\", line 604, in flush\n",
      "    self.pub_thread.schedule(self._flush)\n",
      "  File \"/home/krystian/Python/VENVS/jupyter310/lib/python3.10/site-packages/ipykernel/iostream.py\", line 267, in schedule\n",
      "    self._event_pipe.send(b\"\")\n",
      "  File \"/home/krystian/Python/VENVS/jupyter310/lib/python3.10/site-packages/zmq/sugar/socket.py\", line 701, in send\n",
      "    return super().send(data, flags=flags, copy=copy, track=track)\n",
      "  File \"_zmq.py\", line 1092, in zmq.backend.cython._zmq.Socket.send\n",
      "  File \"_zmq.py\", line 1134, in zmq.backend.cython._zmq.Socket.send\n",
      "  File \"_zmq.py\", line 1209, in zmq.backend.cython._zmq._check_closed\n",
      "zmq.error.ZMQError: Socket operation on non-socket\n",
      "Call stack:\n",
      "  File \"/usr/lib/python3.10/threading.py\", line 973, in _bootstrap\n",
      "    self._bootstrap_inner()\n",
      "  File \"/usr/lib/python3.10/threading.py\", line 1016, in _bootstrap_inner\n",
      "    self.run()\n",
      "  File \"/home/krystian/Python/VENVS/jupyter310/lib/python3.10/site-packages/ipykernel/ipkernel.py\", line 766, in run_closure\n",
      "    _threading_Thread_run(self)\n",
      "  File \"/usr/lib/python3.10/threading.py\", line 953, in run\n",
      "    self._target(*self._args, **self._kwargs)\n",
      "  File \"/usr/lib/python3.10/concurrent/futures/thread.py\", line 83, in _worker\n",
      "    work_item.run()\n",
      "  File \"/usr/lib/python3.10/concurrent/futures/thread.py\", line 58, in run\n",
      "    result = self.fn(*self.args, **self.kwargs)\n",
      "  File \"/home/krystian/Python/Jupyter-projects/thesis/songs_analysis/classes/playlist.py\", line 161, in _download_and_process_song\n",
      "    LOGGER.error(f\"Error processing a song: {e}\")\n",
      "  File \"/home/krystian/Python/Jupyter-projects/thesis/songs_analysis/classes/playlist.py\", line 187, in _process_single_song\n",
      "    song (Song): Song object containing song metadata.\n",
      "Message: 'Lyrics not found for song: cliché by viviz. Skipping...'\n",
      "Arguments: ()\n",
      "--- Logging error ---\n",
      "Traceback (most recent call last):\n",
      "  File \"/usr/lib/python3.10/logging/__init__.py\", line 1104, in emit\n",
      "    self.flush()\n",
      "  File \"/usr/lib/python3.10/logging/__init__.py\", line 1084, in flush\n",
      "    self.stream.flush()\n",
      "  File \"/home/krystian/Python/VENVS/jupyter310/lib/python3.10/site-packages/ipykernel/iostream.py\", line 604, in flush\n",
      "    self.pub_thread.schedule(self._flush)\n",
      "  File \"/home/krystian/Python/VENVS/jupyter310/lib/python3.10/site-packages/ipykernel/iostream.py\", line 267, in schedule\n",
      "    self._event_pipe.send(b\"\")\n",
      "  File \"/home/krystian/Python/VENVS/jupyter310/lib/python3.10/site-packages/zmq/sugar/socket.py\", line 701, in send\n",
      "    return super().send(data, flags=flags, copy=copy, track=track)\n",
      "  File \"_zmq.py\", line 1092, in zmq.backend.cython._zmq.Socket.send\n",
      "  File \"_zmq.py\", line 1134, in zmq.backend.cython._zmq.Socket.send\n",
      "  File \"_zmq.py\", line 1209, in zmq.backend.cython._zmq._check_closed\n",
      "zmq.error.ZMQError: Socket operation on non-socket\n",
      "Call stack:\n",
      "  File \"/usr/lib/python3.10/threading.py\", line 973, in _bootstrap\n",
      "    self._bootstrap_inner()\n",
      "  File \"/usr/lib/python3.10/threading.py\", line 1016, in _bootstrap_inner\n",
      "    self.run()\n",
      "  File \"/home/krystian/Python/VENVS/jupyter310/lib/python3.10/site-packages/ipykernel/ipkernel.py\", line 766, in run_closure\n",
      "    _threading_Thread_run(self)\n",
      "  File \"/usr/lib/python3.10/threading.py\", line 953, in run\n",
      "    self._target(*self._args, **self._kwargs)\n",
      "  File \"/usr/lib/python3.10/concurrent/futures/thread.py\", line 83, in _worker\n",
      "    work_item.run()\n",
      "  File \"/usr/lib/python3.10/concurrent/futures/thread.py\", line 58, in run\n",
      "    result = self.fn(*self.args, **self.kwargs)\n",
      "  File \"/home/krystian/Python/Jupyter-projects/thesis/songs_analysis/classes/playlist.py\", line 161, in _download_and_process_song\n",
      "    LOGGER.error(f\"Error processing a song: {e}\")\n",
      "  File \"/home/krystian/Python/Jupyter-projects/thesis/songs_analysis/classes/playlist.py\", line 184, in _process_single_song\n",
      "    \"\"\"Processes a single song by fetching Spotify features, lyrics, and downloading audio.\n",
      "  File \"/home/krystian/Python/Jupyter-projects/thesis/songs_analysis/classes/playlist.py\", line 218, in _fetch_spotify_features\n",
      "    instrumentalness=features.get('instrumentalness'),\n",
      "Message: 'Fetched Spotify audio features for shhh! by viviz'\n",
      "Arguments: ()\n",
      "\u001b[1;33mWARNING: Lyrics not found for 'shhh!' by viviz using all available providers.\u001b[0m\n",
      "--- Logging error ---\n",
      "Traceback (most recent call last):\n",
      "  File \"/usr/lib/python3.10/logging/__init__.py\", line 1104, in emit\n",
      "    self.flush()\n",
      "  File \"/usr/lib/python3.10/logging/__init__.py\", line 1084, in flush\n",
      "    self.stream.flush()\n",
      "  File \"/home/krystian/Python/VENVS/jupyter310/lib/python3.10/site-packages/ipykernel/iostream.py\", line 604, in flush\n",
      "    self.pub_thread.schedule(self._flush)\n",
      "  File \"/home/krystian/Python/VENVS/jupyter310/lib/python3.10/site-packages/ipykernel/iostream.py\", line 267, in schedule\n",
      "    self._event_pipe.send(b\"\")\n",
      "  File \"/home/krystian/Python/VENVS/jupyter310/lib/python3.10/site-packages/zmq/sugar/socket.py\", line 701, in send\n",
      "    return super().send(data, flags=flags, copy=copy, track=track)\n",
      "  File \"_zmq.py\", line 1092, in zmq.backend.cython._zmq.Socket.send\n",
      "  File \"_zmq.py\", line 1134, in zmq.backend.cython._zmq.Socket.send\n",
      "  File \"_zmq.py\", line 1209, in zmq.backend.cython._zmq._check_closed\n",
      "zmq.error.ZMQError: Socket operation on non-socket\n",
      "Call stack:\n",
      "  File \"/usr/lib/python3.10/threading.py\", line 973, in _bootstrap\n",
      "    self._bootstrap_inner()\n",
      "  File \"/usr/lib/python3.10/threading.py\", line 1016, in _bootstrap_inner\n",
      "    self.run()\n",
      "  File \"/home/krystian/Python/VENVS/jupyter310/lib/python3.10/site-packages/ipykernel/ipkernel.py\", line 766, in run_closure\n",
      "    _threading_Thread_run(self)\n",
      "  File \"/usr/lib/python3.10/threading.py\", line 953, in run\n",
      "    self._target(*self._args, **self._kwargs)\n",
      "  File \"/usr/lib/python3.10/concurrent/futures/thread.py\", line 83, in _worker\n",
      "    work_item.run()\n",
      "  File \"/usr/lib/python3.10/concurrent/futures/thread.py\", line 58, in run\n",
      "    result = self.fn(*self.args, **self.kwargs)\n",
      "  File \"/home/krystian/Python/Jupyter-projects/thesis/songs_analysis/classes/playlist.py\", line 161, in _download_and_process_song\n",
      "    LOGGER.error(f\"Error processing a song: {e}\")\n",
      "  File \"/home/krystian/Python/Jupyter-projects/thesis/songs_analysis/classes/playlist.py\", line 185, in _process_single_song\n",
      "  File \"/home/krystian/Python/Jupyter-projects/thesis/songs_analysis/classes/playlist.py\", line 226, in _fetch_lyrics\n",
      "    def _fetch_lyrics(self, song: Song) -> None:\n",
      "  File \"/home/krystian/Python/Jupyter-projects/thesis/songs_analysis/classes/lyrics_manager.py\", line 41, in fetch_lyrics\n",
      "    LOGGER.warning(f\"Lyrics not found for '{title}' by {artist} using all available providers.\")\n",
      "Message: \"Lyrics not found for 'shhh!' by viviz using all available providers.\"\n",
      "Arguments: ()\n",
      "--- Logging error ---\n",
      "Traceback (most recent call last):\n",
      "  File \"/usr/lib/python3.10/logging/__init__.py\", line 1104, in emit\n",
      "    self.flush()\n",
      "  File \"/usr/lib/python3.10/logging/__init__.py\", line 1084, in flush\n",
      "    self.stream.flush()\n",
      "  File \"/home/krystian/Python/VENVS/jupyter310/lib/python3.10/site-packages/ipykernel/iostream.py\", line 604, in flush\n",
      "    self.pub_thread.schedule(self._flush)\n",
      "  File \"/home/krystian/Python/VENVS/jupyter310/lib/python3.10/site-packages/ipykernel/iostream.py\", line 267, in schedule\n",
      "    self._event_pipe.send(b\"\")\n",
      "  File \"/home/krystian/Python/VENVS/jupyter310/lib/python3.10/site-packages/zmq/sugar/socket.py\", line 701, in send\n",
      "    return super().send(data, flags=flags, copy=copy, track=track)\n",
      "  File \"_zmq.py\", line 1092, in zmq.backend.cython._zmq.Socket.send\n",
      "  File \"_zmq.py\", line 1134, in zmq.backend.cython._zmq.Socket.send\n",
      "  File \"_zmq.py\", line 1209, in zmq.backend.cython._zmq._check_closed\n",
      "zmq.error.ZMQError: Socket operation on non-socket\n",
      "Call stack:\n",
      "  File \"/usr/lib/python3.10/threading.py\", line 973, in _bootstrap\n",
      "    self._bootstrap_inner()\n",
      "  File \"/usr/lib/python3.10/threading.py\", line 1016, in _bootstrap_inner\n",
      "    self.run()\n",
      "  File \"/home/krystian/Python/VENVS/jupyter310/lib/python3.10/site-packages/ipykernel/ipkernel.py\", line 766, in run_closure\n",
      "    _threading_Thread_run(self)\n",
      "  File \"/usr/lib/python3.10/threading.py\", line 953, in run\n",
      "    self._target(*self._args, **self._kwargs)\n",
      "  File \"/usr/lib/python3.10/concurrent/futures/thread.py\", line 83, in _worker\n",
      "    work_item.run()\n",
      "  File \"/usr/lib/python3.10/concurrent/futures/thread.py\", line 58, in run\n",
      "    result = self.fn(*self.args, **self.kwargs)\n",
      "  File \"/home/krystian/Python/Jupyter-projects/thesis/songs_analysis/classes/playlist.py\", line 161, in _download_and_process_song\n",
      "    LOGGER.error(f\"Error processing a song: {e}\")\n",
      "  File \"/home/krystian/Python/Jupyter-projects/thesis/songs_analysis/classes/playlist.py\", line 187, in _process_single_song\n",
      "    song (Song): Song object containing song metadata.\n",
      "Message: 'Lyrics not found for song: shhh! by viviz. Skipping...'\n",
      "Arguments: ()\n",
      "--- Logging error ---\n",
      "Traceback (most recent call last):\n",
      "  File \"/usr/lib/python3.10/logging/__init__.py\", line 1104, in emit\n",
      "    self.flush()\n",
      "  File \"/usr/lib/python3.10/logging/__init__.py\", line 1084, in flush\n",
      "    self.stream.flush()\n",
      "  File \"/home/krystian/Python/VENVS/jupyter310/lib/python3.10/site-packages/ipykernel/iostream.py\", line 604, in flush\n",
      "    self.pub_thread.schedule(self._flush)\n",
      "  File \"/home/krystian/Python/VENVS/jupyter310/lib/python3.10/site-packages/ipykernel/iostream.py\", line 267, in schedule\n",
      "    self._event_pipe.send(b\"\")\n",
      "  File \"/home/krystian/Python/VENVS/jupyter310/lib/python3.10/site-packages/zmq/sugar/socket.py\", line 701, in send\n",
      "    return super().send(data, flags=flags, copy=copy, track=track)\n",
      "  File \"_zmq.py\", line 1092, in zmq.backend.cython._zmq.Socket.send\n",
      "  File \"_zmq.py\", line 1134, in zmq.backend.cython._zmq.Socket.send\n",
      "  File \"_zmq.py\", line 1209, in zmq.backend.cython._zmq._check_closed\n",
      "zmq.error.ZMQError: Socket operation on non-socket\n",
      "Call stack:\n",
      "  File \"/usr/lib/python3.10/threading.py\", line 973, in _bootstrap\n",
      "    self._bootstrap_inner()\n",
      "  File \"/usr/lib/python3.10/threading.py\", line 1016, in _bootstrap_inner\n",
      "    self.run()\n",
      "  File \"/home/krystian/Python/VENVS/jupyter310/lib/python3.10/site-packages/ipykernel/ipkernel.py\", line 766, in run_closure\n",
      "    _threading_Thread_run(self)\n",
      "  File \"/usr/lib/python3.10/threading.py\", line 953, in run\n",
      "    self._target(*self._args, **self._kwargs)\n",
      "  File \"/usr/lib/python3.10/concurrent/futures/thread.py\", line 83, in _worker\n",
      "    work_item.run()\n",
      "  File \"/usr/lib/python3.10/concurrent/futures/thread.py\", line 58, in run\n",
      "    result = self.fn(*self.args, **self.kwargs)\n",
      "  File \"/home/krystian/Python/Jupyter-projects/thesis/songs_analysis/classes/playlist.py\", line 161, in _download_and_process_song\n",
      "    LOGGER.error(f\"Error processing a song: {e}\")\n",
      "  File \"/home/krystian/Python/Jupyter-projects/thesis/songs_analysis/classes/playlist.py\", line 184, in _process_single_song\n",
      "    \"\"\"Processes a single song by fetching Spotify features, lyrics, and downloading audio.\n",
      "  File \"/home/krystian/Python/Jupyter-projects/thesis/songs_analysis/classes/playlist.py\", line 218, in _fetch_spotify_features\n",
      "    instrumentalness=features.get('instrumentalness'),\n",
      "Message: 'Fetched Spotify audio features for body by meovv'\n",
      "Arguments: ()\n",
      "\u001b[1;33mWARNING: Lyrics not found for 'body' by meovv using all available providers.\u001b[0m\n",
      "--- Logging error ---\n",
      "Traceback (most recent call last):\n",
      "  File \"/usr/lib/python3.10/logging/__init__.py\", line 1104, in emit\n",
      "    self.flush()\n",
      "  File \"/usr/lib/python3.10/logging/__init__.py\", line 1084, in flush\n",
      "    self.stream.flush()\n",
      "  File \"/home/krystian/Python/VENVS/jupyter310/lib/python3.10/site-packages/ipykernel/iostream.py\", line 604, in flush\n",
      "    self.pub_thread.schedule(self._flush)\n",
      "  File \"/home/krystian/Python/VENVS/jupyter310/lib/python3.10/site-packages/ipykernel/iostream.py\", line 267, in schedule\n",
      "    self._event_pipe.send(b\"\")\n",
      "  File \"/home/krystian/Python/VENVS/jupyter310/lib/python3.10/site-packages/zmq/sugar/socket.py\", line 701, in send\n",
      "    return super().send(data, flags=flags, copy=copy, track=track)\n",
      "  File \"_zmq.py\", line 1092, in zmq.backend.cython._zmq.Socket.send\n",
      "  File \"_zmq.py\", line 1134, in zmq.backend.cython._zmq.Socket.send\n",
      "  File \"_zmq.py\", line 1209, in zmq.backend.cython._zmq._check_closed\n",
      "zmq.error.ZMQError: Socket operation on non-socket\n",
      "Call stack:\n",
      "  File \"/usr/lib/python3.10/threading.py\", line 973, in _bootstrap\n",
      "    self._bootstrap_inner()\n",
      "  File \"/usr/lib/python3.10/threading.py\", line 1016, in _bootstrap_inner\n",
      "    self.run()\n",
      "  File \"/home/krystian/Python/VENVS/jupyter310/lib/python3.10/site-packages/ipykernel/ipkernel.py\", line 766, in run_closure\n",
      "    _threading_Thread_run(self)\n",
      "  File \"/usr/lib/python3.10/threading.py\", line 953, in run\n",
      "    self._target(*self._args, **self._kwargs)\n",
      "  File \"/usr/lib/python3.10/concurrent/futures/thread.py\", line 83, in _worker\n",
      "    work_item.run()\n",
      "  File \"/usr/lib/python3.10/concurrent/futures/thread.py\", line 58, in run\n",
      "    result = self.fn(*self.args, **self.kwargs)\n",
      "  File \"/home/krystian/Python/Jupyter-projects/thesis/songs_analysis/classes/playlist.py\", line 161, in _download_and_process_song\n",
      "    LOGGER.error(f\"Error processing a song: {e}\")\n",
      "  File \"/home/krystian/Python/Jupyter-projects/thesis/songs_analysis/classes/playlist.py\", line 185, in _process_single_song\n",
      "  File \"/home/krystian/Python/Jupyter-projects/thesis/songs_analysis/classes/playlist.py\", line 226, in _fetch_lyrics\n",
      "    def _fetch_lyrics(self, song: Song) -> None:\n",
      "  File \"/home/krystian/Python/Jupyter-projects/thesis/songs_analysis/classes/lyrics_manager.py\", line 41, in fetch_lyrics\n",
      "    LOGGER.warning(f\"Lyrics not found for '{title}' by {artist} using all available providers.\")\n",
      "Message: \"Lyrics not found for 'body' by meovv using all available providers.\"\n",
      "Arguments: ()\n",
      "--- Logging error ---\n",
      "Traceback (most recent call last):\n",
      "  File \"/usr/lib/python3.10/logging/__init__.py\", line 1104, in emit\n",
      "    self.flush()\n",
      "  File \"/usr/lib/python3.10/logging/__init__.py\", line 1084, in flush\n",
      "    self.stream.flush()\n",
      "  File \"/home/krystian/Python/VENVS/jupyter310/lib/python3.10/site-packages/ipykernel/iostream.py\", line 604, in flush\n",
      "    self.pub_thread.schedule(self._flush)\n",
      "  File \"/home/krystian/Python/VENVS/jupyter310/lib/python3.10/site-packages/ipykernel/iostream.py\", line 267, in schedule\n",
      "    self._event_pipe.send(b\"\")\n",
      "  File \"/home/krystian/Python/VENVS/jupyter310/lib/python3.10/site-packages/zmq/sugar/socket.py\", line 701, in send\n",
      "    return super().send(data, flags=flags, copy=copy, track=track)\n",
      "  File \"_zmq.py\", line 1092, in zmq.backend.cython._zmq.Socket.send\n",
      "  File \"_zmq.py\", line 1134, in zmq.backend.cython._zmq.Socket.send\n",
      "  File \"_zmq.py\", line 1209, in zmq.backend.cython._zmq._check_closed\n",
      "zmq.error.ZMQError: Socket operation on non-socket\n",
      "Call stack:\n",
      "  File \"/usr/lib/python3.10/threading.py\", line 973, in _bootstrap\n",
      "    self._bootstrap_inner()\n",
      "  File \"/usr/lib/python3.10/threading.py\", line 1016, in _bootstrap_inner\n",
      "    self.run()\n",
      "  File \"/home/krystian/Python/VENVS/jupyter310/lib/python3.10/site-packages/ipykernel/ipkernel.py\", line 766, in run_closure\n",
      "    _threading_Thread_run(self)\n",
      "  File \"/usr/lib/python3.10/threading.py\", line 953, in run\n",
      "    self._target(*self._args, **self._kwargs)\n",
      "  File \"/usr/lib/python3.10/concurrent/futures/thread.py\", line 83, in _worker\n",
      "    work_item.run()\n",
      "  File \"/usr/lib/python3.10/concurrent/futures/thread.py\", line 58, in run\n",
      "    result = self.fn(*self.args, **self.kwargs)\n",
      "  File \"/home/krystian/Python/Jupyter-projects/thesis/songs_analysis/classes/playlist.py\", line 161, in _download_and_process_song\n",
      "    LOGGER.error(f\"Error processing a song: {e}\")\n",
      "  File \"/home/krystian/Python/Jupyter-projects/thesis/songs_analysis/classes/playlist.py\", line 187, in _process_single_song\n",
      "    song (Song): Song object containing song metadata.\n",
      "Message: 'Lyrics not found for song: body by meovv. Skipping...'\n",
      "Arguments: ()\n",
      "--- Logging error ---\n",
      "Traceback (most recent call last):\n",
      "  File \"/usr/lib/python3.10/logging/__init__.py\", line 1104, in emit\n",
      "    self.flush()\n",
      "  File \"/usr/lib/python3.10/logging/__init__.py\", line 1084, in flush\n",
      "    self.stream.flush()\n",
      "  File \"/home/krystian/Python/VENVS/jupyter310/lib/python3.10/site-packages/ipykernel/iostream.py\", line 604, in flush\n",
      "    self.pub_thread.schedule(self._flush)\n",
      "  File \"/home/krystian/Python/VENVS/jupyter310/lib/python3.10/site-packages/ipykernel/iostream.py\", line 267, in schedule\n",
      "    self._event_pipe.send(b\"\")\n",
      "  File \"/home/krystian/Python/VENVS/jupyter310/lib/python3.10/site-packages/zmq/sugar/socket.py\", line 701, in send\n",
      "    return super().send(data, flags=flags, copy=copy, track=track)\n",
      "  File \"_zmq.py\", line 1092, in zmq.backend.cython._zmq.Socket.send\n",
      "  File \"_zmq.py\", line 1134, in zmq.backend.cython._zmq.Socket.send\n",
      "  File \"_zmq.py\", line 1209, in zmq.backend.cython._zmq._check_closed\n",
      "zmq.error.ZMQError: Socket operation on non-socket\n",
      "Call stack:\n",
      "  File \"/usr/lib/python3.10/threading.py\", line 973, in _bootstrap\n",
      "    self._bootstrap_inner()\n",
      "  File \"/usr/lib/python3.10/threading.py\", line 1016, in _bootstrap_inner\n",
      "    self.run()\n",
      "  File \"/home/krystian/Python/VENVS/jupyter310/lib/python3.10/site-packages/ipykernel/ipkernel.py\", line 766, in run_closure\n",
      "    _threading_Thread_run(self)\n",
      "  File \"/usr/lib/python3.10/threading.py\", line 953, in run\n",
      "    self._target(*self._args, **self._kwargs)\n",
      "  File \"/usr/lib/python3.10/concurrent/futures/thread.py\", line 83, in _worker\n",
      "    work_item.run()\n",
      "  File \"/usr/lib/python3.10/concurrent/futures/thread.py\", line 58, in run\n",
      "    result = self.fn(*self.args, **self.kwargs)\n",
      "  File \"/home/krystian/Python/Jupyter-projects/thesis/songs_analysis/classes/playlist.py\", line 161, in _download_and_process_song\n",
      "    LOGGER.error(f\"Error processing a song: {e}\")\n",
      "  File \"/home/krystian/Python/Jupyter-projects/thesis/songs_analysis/classes/playlist.py\", line 184, in _process_single_song\n",
      "    \"\"\"Processes a single song by fetching Spotify features, lyrics, and downloading audio.\n",
      "  File \"/home/krystian/Python/Jupyter-projects/thesis/songs_analysis/classes/playlist.py\", line 218, in _fetch_spotify_features\n",
      "    instrumentalness=features.get('instrumentalness'),\n",
      "Message: 'Fetched Spotify audio features for iwaly by i'\n",
      "Arguments: ()\n",
      "ERROR: [youtube] f-KLYLZ17Wo: Sign in to confirm you’re not a bot. This helps protect our community. Learn more\n",
      "Failed to download from YouTube URL 'https://www.youtube.com/watch?v=f-KLYLZ17Wo&pp=ygUJaSAtIGl3YWx5': Socket operation on non-socket\n",
      "--- Logging error ---\n",
      "Traceback (most recent call last):\n",
      "  File \"/home/krystian/Python/VENVS/jupyter310/lib/python3.10/site-packages/yt_dlp/YoutubeDL.py\", line 1626, in wrapper\n",
      "    return func(self, *args, **kwargs)\n",
      "  File \"/home/krystian/Python/VENVS/jupyter310/lib/python3.10/site-packages/yt_dlp/YoutubeDL.py\", line 1761, in __extract_info\n",
      "    ie_result = ie.extract(url)\n",
      "  File \"/home/krystian/Python/VENVS/jupyter310/lib/python3.10/site-packages/yt_dlp/extractor/common.py\", line 740, in extract\n",
      "    ie_result = self._real_extract(url)\n",
      "  File \"/home/krystian/Python/VENVS/jupyter310/lib/python3.10/site-packages/yt_dlp/extractor/youtube.py\", line 4358, in _real_extract\n",
      "    self.raise_no_formats(reason, expected=True)\n",
      "  File \"/home/krystian/Python/VENVS/jupyter310/lib/python3.10/site-packages/yt_dlp/extractor/common.py\", line 1263, in raise_no_formats\n",
      "    raise ExtractorError(msg, expected=expected, video_id=video_id)\n",
      "yt_dlp.utils.ExtractorError: [youtube] f-KLYLZ17Wo: Sign in to confirm you’re not a bot. This helps protect our community. Learn more\n",
      "\n",
      "During handling of the above exception, another exception occurred:\n",
      "\n",
      "Traceback (most recent call last):\n",
      "  File \"/home/krystian/Python/Jupyter-projects/thesis/songs_analysis/classes/youtube_downloader.py\", line 64, in download_audio\n",
      "    ydl.download([url])\n",
      "  File \"/home/krystian/Python/VENVS/jupyter310/lib/python3.10/site-packages/yt_dlp/YoutubeDL.py\", line 3607, in download\n",
      "    self.__download_wrapper(self.extract_info)(\n",
      "  File \"/home/krystian/Python/VENVS/jupyter310/lib/python3.10/site-packages/yt_dlp/YoutubeDL.py\", line 3582, in wrapper\n",
      "    res = func(*args, **kwargs)\n",
      "  File \"/home/krystian/Python/VENVS/jupyter310/lib/python3.10/site-packages/yt_dlp/YoutubeDL.py\", line 1615, in extract_info\n",
      "    return self.__extract_info(url, self.get_info_extractor(key), download, extra_info, process)\n",
      "  File \"/home/krystian/Python/VENVS/jupyter310/lib/python3.10/site-packages/yt_dlp/YoutubeDL.py\", line 1644, in wrapper\n",
      "    self.report_error(str(e), e.format_traceback())\n",
      "  File \"/home/krystian/Python/VENVS/jupyter310/lib/python3.10/site-packages/yt_dlp/YoutubeDL.py\", line 1092, in report_error\n",
      "    self.trouble(f'{self._format_err(\"ERROR:\", self.Styles.ERROR)} {message}', *args, **kwargs)\n",
      "  File \"/home/krystian/Python/VENVS/jupyter310/lib/python3.10/site-packages/yt_dlp/YoutubeDL.py\", line 1011, in trouble\n",
      "    self.to_stderr(message)\n",
      "  File \"/home/krystian/Python/VENVS/jupyter310/lib/python3.10/site-packages/yt_dlp/YoutubeDL.py\", line 953, in to_stderr\n",
      "    self._write_string(f'{self._bidi_workaround(message)}\\n', self._out_files.error, only_once=only_once)\n",
      "  File \"/home/krystian/Python/VENVS/jupyter310/lib/python3.10/site-packages/yt_dlp/YoutubeDL.py\", line 924, in _write_string\n",
      "    write_string(message, out=out, encoding=self.params.get('encoding'))\n",
      "  File \"/home/krystian/Python/VENVS/jupyter310/lib/python3.10/site-packages/yt_dlp/utils/_utils.py\", line 1442, in write_string\n",
      "    out.flush()\n",
      "  File \"/home/krystian/Python/VENVS/jupyter310/lib/python3.10/site-packages/ipykernel/iostream.py\", line 604, in flush\n",
      "    self.pub_thread.schedule(self._flush)\n",
      "  File \"/home/krystian/Python/VENVS/jupyter310/lib/python3.10/site-packages/ipykernel/iostream.py\", line 267, in schedule\n",
      "    self._event_pipe.send(b\"\")\n",
      "  File \"/home/krystian/Python/VENVS/jupyter310/lib/python3.10/site-packages/zmq/sugar/socket.py\", line 701, in send\n",
      "    return super().send(data, flags=flags, copy=copy, track=track)\n",
      "  File \"_zmq.py\", line 1092, in zmq.backend.cython._zmq.Socket.send\n",
      "  File \"_zmq.py\", line 1134, in zmq.backend.cython._zmq.Socket.send\n",
      "  File \"_zmq.py\", line 1209, in zmq.backend.cython._zmq._check_closed\n",
      "zmq.error.ZMQError: Socket operation on non-socket\n",
      "\n",
      "During handling of the above exception, another exception occurred:\n",
      "\n",
      "Traceback (most recent call last):\n",
      "  File \"/usr/lib/python3.10/logging/__init__.py\", line 1104, in emit\n",
      "    self.flush()\n",
      "  File \"/usr/lib/python3.10/logging/__init__.py\", line 1084, in flush\n",
      "    self.stream.flush()\n",
      "  File \"/home/krystian/Python/VENVS/jupyter310/lib/python3.10/site-packages/ipykernel/iostream.py\", line 604, in flush\n",
      "    self.pub_thread.schedule(self._flush)\n",
      "  File \"/home/krystian/Python/VENVS/jupyter310/lib/python3.10/site-packages/ipykernel/iostream.py\", line 267, in schedule\n",
      "    self._event_pipe.send(b\"\")\n",
      "  File \"/home/krystian/Python/VENVS/jupyter310/lib/python3.10/site-packages/zmq/sugar/socket.py\", line 701, in send\n",
      "    return super().send(data, flags=flags, copy=copy, track=track)\n",
      "  File \"_zmq.py\", line 1092, in zmq.backend.cython._zmq.Socket.send\n",
      "  File \"_zmq.py\", line 1134, in zmq.backend.cython._zmq.Socket.send\n",
      "  File \"_zmq.py\", line 1209, in zmq.backend.cython._zmq._check_closed\n",
      "zmq.error.ZMQError: Socket operation on non-socket\n",
      "Call stack:\n",
      "  File \"/usr/lib/python3.10/threading.py\", line 973, in _bootstrap\n",
      "    self._bootstrap_inner()\n",
      "  File \"/usr/lib/python3.10/threading.py\", line 1016, in _bootstrap_inner\n",
      "    self.run()\n",
      "  File \"/home/krystian/Python/VENVS/jupyter310/lib/python3.10/site-packages/ipykernel/ipkernel.py\", line 766, in run_closure\n",
      "    _threading_Thread_run(self)\n",
      "  File \"/usr/lib/python3.10/threading.py\", line 953, in run\n",
      "    self._target(*self._args, **self._kwargs)\n",
      "  File \"/usr/lib/python3.10/concurrent/futures/thread.py\", line 83, in _worker\n",
      "    work_item.run()\n",
      "  File \"/usr/lib/python3.10/concurrent/futures/thread.py\", line 58, in run\n",
      "    result = self.fn(*self.args, **self.kwargs)\n",
      "  File \"/home/krystian/Python/Jupyter-projects/thesis/songs_analysis/classes/playlist.py\", line 161, in _download_and_process_song\n",
      "    LOGGER.error(f\"Error processing a song: {e}\")\n",
      "  File \"/home/krystian/Python/Jupyter-projects/thesis/songs_analysis/classes/playlist.py\", line 189, in _process_single_song\n",
      "    \"\"\"\n",
      "  File \"/home/krystian/Python/Jupyter-projects/thesis/songs_analysis/classes/playlist.py\", line 246, in _download_song\n",
      "    song.mp3_path = mp3_file_path  # Set the absolute path in the Song instance\n",
      "  File \"/home/krystian/Python/Jupyter-projects/thesis/songs_analysis/classes/youtube_downloader.py\", line 68, in download_audio\n",
      "    LOGGER.error(f\"Failed to download from YouTube URL '{url}': {e}\")\n",
      "Message: \"Failed to download from YouTube URL 'https://www.youtube.com/watch?v=f-KLYLZ17Wo&pp=ygUJaSAtIGl3YWx5': Socket operation on non-socket\"\n",
      "Arguments: ()\n",
      "\u001b[1;33mWARNING: Failed to download song: iwaly\u001b[0m\n",
      "--- Logging error ---\n",
      "Traceback (most recent call last):\n",
      "  File \"/usr/lib/python3.10/logging/__init__.py\", line 1104, in emit\n",
      "    self.flush()\n",
      "  File \"/usr/lib/python3.10/logging/__init__.py\", line 1084, in flush\n",
      "    self.stream.flush()\n",
      "  File \"/home/krystian/Python/VENVS/jupyter310/lib/python3.10/site-packages/ipykernel/iostream.py\", line 604, in flush\n",
      "    self.pub_thread.schedule(self._flush)\n",
      "  File \"/home/krystian/Python/VENVS/jupyter310/lib/python3.10/site-packages/ipykernel/iostream.py\", line 267, in schedule\n",
      "    self._event_pipe.send(b\"\")\n",
      "  File \"/home/krystian/Python/VENVS/jupyter310/lib/python3.10/site-packages/zmq/sugar/socket.py\", line 701, in send\n",
      "    return super().send(data, flags=flags, copy=copy, track=track)\n",
      "  File \"_zmq.py\", line 1092, in zmq.backend.cython._zmq.Socket.send\n",
      "  File \"_zmq.py\", line 1134, in zmq.backend.cython._zmq.Socket.send\n",
      "  File \"_zmq.py\", line 1209, in zmq.backend.cython._zmq._check_closed\n",
      "zmq.error.ZMQError: Socket operation on non-socket\n",
      "Call stack:\n",
      "  File \"/usr/lib/python3.10/threading.py\", line 973, in _bootstrap\n",
      "    self._bootstrap_inner()\n",
      "  File \"/usr/lib/python3.10/threading.py\", line 1016, in _bootstrap_inner\n",
      "    self.run()\n",
      "  File \"/home/krystian/Python/VENVS/jupyter310/lib/python3.10/site-packages/ipykernel/ipkernel.py\", line 766, in run_closure\n",
      "    _threading_Thread_run(self)\n",
      "  File \"/usr/lib/python3.10/threading.py\", line 953, in run\n",
      "    self._target(*self._args, **self._kwargs)\n",
      "  File \"/usr/lib/python3.10/concurrent/futures/thread.py\", line 83, in _worker\n",
      "    work_item.run()\n",
      "  File \"/usr/lib/python3.10/concurrent/futures/thread.py\", line 58, in run\n",
      "    result = self.fn(*self.args, **self.kwargs)\n",
      "  File \"/home/krystian/Python/Jupyter-projects/thesis/songs_analysis/classes/playlist.py\", line 161, in _download_and_process_song\n",
      "    LOGGER.error(f\"Error processing a song: {e}\")\n",
      "  File \"/home/krystian/Python/Jupyter-projects/thesis/songs_analysis/classes/playlist.py\", line 189, in _process_single_song\n",
      "    \"\"\"\n",
      "  File \"/home/krystian/Python/Jupyter-projects/thesis/songs_analysis/classes/playlist.py\", line 252, in _download_song\n",
      "    success = self.youtube_downloader.download_audio(best_url, mp3_file_path.rsplit('.mp3', 1)[0])  # Download without .mp3\n",
      "Message: 'Failed to download song: iwaly'\n",
      "Arguments: ()\n",
      "--- Logging error ---\n",
      "Traceback (most recent call last):\n",
      "  File \"/usr/lib/python3.10/logging/__init__.py\", line 1104, in emit\n",
      "    self.flush()\n",
      "  File \"/usr/lib/python3.10/logging/__init__.py\", line 1084, in flush\n",
      "    self.stream.flush()\n",
      "  File \"/home/krystian/Python/VENVS/jupyter310/lib/python3.10/site-packages/ipykernel/iostream.py\", line 604, in flush\n",
      "    self.pub_thread.schedule(self._flush)\n",
      "  File \"/home/krystian/Python/VENVS/jupyter310/lib/python3.10/site-packages/ipykernel/iostream.py\", line 267, in schedule\n",
      "    self._event_pipe.send(b\"\")\n",
      "  File \"/home/krystian/Python/VENVS/jupyter310/lib/python3.10/site-packages/zmq/sugar/socket.py\", line 701, in send\n",
      "    return super().send(data, flags=flags, copy=copy, track=track)\n",
      "  File \"_zmq.py\", line 1092, in zmq.backend.cython._zmq.Socket.send\n",
      "  File \"_zmq.py\", line 1134, in zmq.backend.cython._zmq.Socket.send\n",
      "  File \"_zmq.py\", line 1209, in zmq.backend.cython._zmq._check_closed\n",
      "zmq.error.ZMQError: Socket operation on non-socket\n",
      "Call stack:\n",
      "  File \"/usr/lib/python3.10/threading.py\", line 973, in _bootstrap\n",
      "    self._bootstrap_inner()\n",
      "  File \"/usr/lib/python3.10/threading.py\", line 1016, in _bootstrap_inner\n",
      "    self.run()\n",
      "  File \"/home/krystian/Python/VENVS/jupyter310/lib/python3.10/site-packages/ipykernel/ipkernel.py\", line 766, in run_closure\n",
      "    _threading_Thread_run(self)\n",
      "  File \"/usr/lib/python3.10/threading.py\", line 953, in run\n",
      "    self._target(*self._args, **self._kwargs)\n",
      "  File \"/usr/lib/python3.10/concurrent/futures/thread.py\", line 83, in _worker\n",
      "    work_item.run()\n",
      "  File \"/usr/lib/python3.10/concurrent/futures/thread.py\", line 58, in run\n",
      "    result = self.fn(*self.args, **self.kwargs)\n",
      "  File \"/home/krystian/Python/Jupyter-projects/thesis/songs_analysis/classes/playlist.py\", line 161, in _download_and_process_song\n",
      "    LOGGER.error(f\"Error processing a song: {e}\")\n",
      "  File \"/home/krystian/Python/Jupyter-projects/thesis/songs_analysis/classes/playlist.py\", line 184, in _process_single_song\n",
      "    \"\"\"Processes a single song by fetching Spotify features, lyrics, and downloading audio.\n",
      "  File \"/home/krystian/Python/Jupyter-projects/thesis/songs_analysis/classes/playlist.py\", line 218, in _fetch_spotify_features\n",
      "    instrumentalness=features.get('instrumentalness'),\n",
      "Message: 'Fetched Spotify audio features for izna by izna'\n",
      "Arguments: ()\n",
      "ERROR: [youtube] d3mqW9wqqx0: Sign in to confirm you’re not a bot. This helps protect our community. Learn more\n",
      "Failed to download from YouTube URL 'https://www.youtube.com/watch?v=d3mqW9wqqx0&pp=ygULaXpuYSAtIGl6bmE%3D': Socket operation on non-socket\n",
      "--- Logging error ---\n",
      "Traceback (most recent call last):\n",
      "  File \"/home/krystian/Python/VENVS/jupyter310/lib/python3.10/site-packages/yt_dlp/YoutubeDL.py\", line 1626, in wrapper\n",
      "    return func(self, *args, **kwargs)\n",
      "  File \"/home/krystian/Python/VENVS/jupyter310/lib/python3.10/site-packages/yt_dlp/YoutubeDL.py\", line 1761, in __extract_info\n",
      "    ie_result = ie.extract(url)\n",
      "  File \"/home/krystian/Python/VENVS/jupyter310/lib/python3.10/site-packages/yt_dlp/extractor/common.py\", line 740, in extract\n",
      "    ie_result = self._real_extract(url)\n",
      "  File \"/home/krystian/Python/VENVS/jupyter310/lib/python3.10/site-packages/yt_dlp/extractor/youtube.py\", line 4358, in _real_extract\n",
      "    self.raise_no_formats(reason, expected=True)\n",
      "  File \"/home/krystian/Python/VENVS/jupyter310/lib/python3.10/site-packages/yt_dlp/extractor/common.py\", line 1263, in raise_no_formats\n",
      "    raise ExtractorError(msg, expected=expected, video_id=video_id)\n",
      "yt_dlp.utils.ExtractorError: [youtube] d3mqW9wqqx0: Sign in to confirm you’re not a bot. This helps protect our community. Learn more\n",
      "\n",
      "During handling of the above exception, another exception occurred:\n",
      "\n",
      "Traceback (most recent call last):\n",
      "  File \"/home/krystian/Python/Jupyter-projects/thesis/songs_analysis/classes/youtube_downloader.py\", line 64, in download_audio\n",
      "    ydl.download([url])\n",
      "  File \"/home/krystian/Python/VENVS/jupyter310/lib/python3.10/site-packages/yt_dlp/YoutubeDL.py\", line 3607, in download\n",
      "    self.__download_wrapper(self.extract_info)(\n",
      "  File \"/home/krystian/Python/VENVS/jupyter310/lib/python3.10/site-packages/yt_dlp/YoutubeDL.py\", line 3582, in wrapper\n",
      "    res = func(*args, **kwargs)\n",
      "  File \"/home/krystian/Python/VENVS/jupyter310/lib/python3.10/site-packages/yt_dlp/YoutubeDL.py\", line 1615, in extract_info\n",
      "    return self.__extract_info(url, self.get_info_extractor(key), download, extra_info, process)\n",
      "  File \"/home/krystian/Python/VENVS/jupyter310/lib/python3.10/site-packages/yt_dlp/YoutubeDL.py\", line 1644, in wrapper\n",
      "    self.report_error(str(e), e.format_traceback())\n",
      "  File \"/home/krystian/Python/VENVS/jupyter310/lib/python3.10/site-packages/yt_dlp/YoutubeDL.py\", line 1092, in report_error\n",
      "    self.trouble(f'{self._format_err(\"ERROR:\", self.Styles.ERROR)} {message}', *args, **kwargs)\n",
      "  File \"/home/krystian/Python/VENVS/jupyter310/lib/python3.10/site-packages/yt_dlp/YoutubeDL.py\", line 1011, in trouble\n",
      "    self.to_stderr(message)\n",
      "  File \"/home/krystian/Python/VENVS/jupyter310/lib/python3.10/site-packages/yt_dlp/YoutubeDL.py\", line 953, in to_stderr\n",
      "    self._write_string(f'{self._bidi_workaround(message)}\\n', self._out_files.error, only_once=only_once)\n",
      "  File \"/home/krystian/Python/VENVS/jupyter310/lib/python3.10/site-packages/yt_dlp/YoutubeDL.py\", line 924, in _write_string\n",
      "    write_string(message, out=out, encoding=self.params.get('encoding'))\n",
      "  File \"/home/krystian/Python/VENVS/jupyter310/lib/python3.10/site-packages/yt_dlp/utils/_utils.py\", line 1442, in write_string\n",
      "    out.flush()\n",
      "  File \"/home/krystian/Python/VENVS/jupyter310/lib/python3.10/site-packages/ipykernel/iostream.py\", line 604, in flush\n",
      "    self.pub_thread.schedule(self._flush)\n",
      "  File \"/home/krystian/Python/VENVS/jupyter310/lib/python3.10/site-packages/ipykernel/iostream.py\", line 267, in schedule\n",
      "    self._event_pipe.send(b\"\")\n",
      "  File \"/home/krystian/Python/VENVS/jupyter310/lib/python3.10/site-packages/zmq/sugar/socket.py\", line 701, in send\n",
      "    return super().send(data, flags=flags, copy=copy, track=track)\n",
      "  File \"_zmq.py\", line 1092, in zmq.backend.cython._zmq.Socket.send\n",
      "  File \"_zmq.py\", line 1134, in zmq.backend.cython._zmq.Socket.send\n",
      "  File \"_zmq.py\", line 1209, in zmq.backend.cython._zmq._check_closed\n",
      "zmq.error.ZMQError: Socket operation on non-socket\n",
      "\n",
      "During handling of the above exception, another exception occurred:\n",
      "\n",
      "Traceback (most recent call last):\n",
      "  File \"/usr/lib/python3.10/logging/__init__.py\", line 1104, in emit\n",
      "    self.flush()\n",
      "  File \"/usr/lib/python3.10/logging/__init__.py\", line 1084, in flush\n",
      "    self.stream.flush()\n",
      "  File \"/home/krystian/Python/VENVS/jupyter310/lib/python3.10/site-packages/ipykernel/iostream.py\", line 604, in flush\n",
      "    self.pub_thread.schedule(self._flush)\n",
      "  File \"/home/krystian/Python/VENVS/jupyter310/lib/python3.10/site-packages/ipykernel/iostream.py\", line 267, in schedule\n",
      "    self._event_pipe.send(b\"\")\n",
      "  File \"/home/krystian/Python/VENVS/jupyter310/lib/python3.10/site-packages/zmq/sugar/socket.py\", line 701, in send\n",
      "    return super().send(data, flags=flags, copy=copy, track=track)\n",
      "  File \"_zmq.py\", line 1092, in zmq.backend.cython._zmq.Socket.send\n",
      "  File \"_zmq.py\", line 1134, in zmq.backend.cython._zmq.Socket.send\n",
      "  File \"_zmq.py\", line 1209, in zmq.backend.cython._zmq._check_closed\n",
      "zmq.error.ZMQError: Socket operation on non-socket\n",
      "Call stack:\n",
      "  File \"/usr/lib/python3.10/threading.py\", line 973, in _bootstrap\n",
      "    self._bootstrap_inner()\n",
      "  File \"/usr/lib/python3.10/threading.py\", line 1016, in _bootstrap_inner\n",
      "    self.run()\n",
      "  File \"/home/krystian/Python/VENVS/jupyter310/lib/python3.10/site-packages/ipykernel/ipkernel.py\", line 766, in run_closure\n",
      "    _threading_Thread_run(self)\n",
      "  File \"/usr/lib/python3.10/threading.py\", line 953, in run\n",
      "    self._target(*self._args, **self._kwargs)\n",
      "  File \"/usr/lib/python3.10/concurrent/futures/thread.py\", line 83, in _worker\n",
      "    work_item.run()\n",
      "  File \"/usr/lib/python3.10/concurrent/futures/thread.py\", line 58, in run\n",
      "    result = self.fn(*self.args, **self.kwargs)\n",
      "  File \"/home/krystian/Python/Jupyter-projects/thesis/songs_analysis/classes/playlist.py\", line 161, in _download_and_process_song\n",
      "    LOGGER.error(f\"Error processing a song: {e}\")\n",
      "  File \"/home/krystian/Python/Jupyter-projects/thesis/songs_analysis/classes/playlist.py\", line 189, in _process_single_song\n",
      "    \"\"\"\n",
      "  File \"/home/krystian/Python/Jupyter-projects/thesis/songs_analysis/classes/playlist.py\", line 246, in _download_song\n",
      "    song.mp3_path = mp3_file_path  # Set the absolute path in the Song instance\n",
      "  File \"/home/krystian/Python/Jupyter-projects/thesis/songs_analysis/classes/youtube_downloader.py\", line 68, in download_audio\n",
      "    LOGGER.error(f\"Failed to download from YouTube URL '{url}': {e}\")\n",
      "Message: \"Failed to download from YouTube URL 'https://www.youtube.com/watch?v=d3mqW9wqqx0&pp=ygULaXpuYSAtIGl6bmE%3D': Socket operation on non-socket\"\n",
      "Arguments: ()\n",
      "\u001b[1;33mWARNING: Failed to download song: izna\u001b[0m\n",
      "--- Logging error ---\n",
      "Traceback (most recent call last):\n",
      "  File \"/usr/lib/python3.10/logging/__init__.py\", line 1104, in emit\n",
      "    self.flush()\n",
      "  File \"/usr/lib/python3.10/logging/__init__.py\", line 1084, in flush\n",
      "    self.stream.flush()\n",
      "  File \"/home/krystian/Python/VENVS/jupyter310/lib/python3.10/site-packages/ipykernel/iostream.py\", line 604, in flush\n",
      "    self.pub_thread.schedule(self._flush)\n",
      "  File \"/home/krystian/Python/VENVS/jupyter310/lib/python3.10/site-packages/ipykernel/iostream.py\", line 267, in schedule\n",
      "    self._event_pipe.send(b\"\")\n",
      "  File \"/home/krystian/Python/VENVS/jupyter310/lib/python3.10/site-packages/zmq/sugar/socket.py\", line 701, in send\n",
      "    return super().send(data, flags=flags, copy=copy, track=track)\n",
      "  File \"_zmq.py\", line 1092, in zmq.backend.cython._zmq.Socket.send\n",
      "  File \"_zmq.py\", line 1134, in zmq.backend.cython._zmq.Socket.send\n",
      "  File \"_zmq.py\", line 1209, in zmq.backend.cython._zmq._check_closed\n",
      "zmq.error.ZMQError: Socket operation on non-socket\n",
      "Call stack:\n",
      "  File \"/usr/lib/python3.10/threading.py\", line 973, in _bootstrap\n",
      "    self._bootstrap_inner()\n",
      "  File \"/usr/lib/python3.10/threading.py\", line 1016, in _bootstrap_inner\n",
      "    self.run()\n",
      "  File \"/home/krystian/Python/VENVS/jupyter310/lib/python3.10/site-packages/ipykernel/ipkernel.py\", line 766, in run_closure\n",
      "    _threading_Thread_run(self)\n",
      "  File \"/usr/lib/python3.10/threading.py\", line 953, in run\n",
      "    self._target(*self._args, **self._kwargs)\n",
      "  File \"/usr/lib/python3.10/concurrent/futures/thread.py\", line 83, in _worker\n",
      "    work_item.run()\n",
      "  File \"/usr/lib/python3.10/concurrent/futures/thread.py\", line 58, in run\n",
      "    result = self.fn(*self.args, **self.kwargs)\n",
      "  File \"/home/krystian/Python/Jupyter-projects/thesis/songs_analysis/classes/playlist.py\", line 161, in _download_and_process_song\n",
      "    LOGGER.error(f\"Error processing a song: {e}\")\n",
      "  File \"/home/krystian/Python/Jupyter-projects/thesis/songs_analysis/classes/playlist.py\", line 189, in _process_single_song\n",
      "    \"\"\"\n",
      "  File \"/home/krystian/Python/Jupyter-projects/thesis/songs_analysis/classes/playlist.py\", line 252, in _download_song\n",
      "    success = self.youtube_downloader.download_audio(best_url, mp3_file_path.rsplit('.mp3', 1)[0])  # Download without .mp3\n",
      "Message: 'Failed to download song: izna'\n",
      "Arguments: ()\n",
      "--- Logging error ---\n",
      "Traceback (most recent call last):\n",
      "  File \"/usr/lib/python3.10/logging/__init__.py\", line 1104, in emit\n",
      "    self.flush()\n",
      "  File \"/usr/lib/python3.10/logging/__init__.py\", line 1084, in flush\n",
      "    self.stream.flush()\n",
      "  File \"/home/krystian/Python/VENVS/jupyter310/lib/python3.10/site-packages/ipykernel/iostream.py\", line 604, in flush\n",
      "    self.pub_thread.schedule(self._flush)\n",
      "  File \"/home/krystian/Python/VENVS/jupyter310/lib/python3.10/site-packages/ipykernel/iostream.py\", line 267, in schedule\n",
      "    self._event_pipe.send(b\"\")\n",
      "  File \"/home/krystian/Python/VENVS/jupyter310/lib/python3.10/site-packages/zmq/sugar/socket.py\", line 701, in send\n",
      "    return super().send(data, flags=flags, copy=copy, track=track)\n",
      "  File \"_zmq.py\", line 1092, in zmq.backend.cython._zmq.Socket.send\n",
      "  File \"_zmq.py\", line 1134, in zmq.backend.cython._zmq.Socket.send\n",
      "  File \"_zmq.py\", line 1209, in zmq.backend.cython._zmq._check_closed\n",
      "zmq.error.ZMQError: Socket operation on non-socket\n",
      "Call stack:\n",
      "  File \"/usr/lib/python3.10/threading.py\", line 973, in _bootstrap\n",
      "    self._bootstrap_inner()\n",
      "  File \"/usr/lib/python3.10/threading.py\", line 1016, in _bootstrap_inner\n",
      "    self.run()\n",
      "  File \"/home/krystian/Python/VENVS/jupyter310/lib/python3.10/site-packages/ipykernel/ipkernel.py\", line 766, in run_closure\n",
      "    _threading_Thread_run(self)\n",
      "  File \"/usr/lib/python3.10/threading.py\", line 953, in run\n",
      "    self._target(*self._args, **self._kwargs)\n",
      "  File \"/usr/lib/python3.10/concurrent/futures/thread.py\", line 83, in _worker\n",
      "    work_item.run()\n",
      "  File \"/usr/lib/python3.10/concurrent/futures/thread.py\", line 58, in run\n",
      "    result = self.fn(*self.args, **self.kwargs)\n",
      "  File \"/home/krystian/Python/Jupyter-projects/thesis/songs_analysis/classes/playlist.py\", line 161, in _download_and_process_song\n",
      "    LOGGER.error(f\"Error processing a song: {e}\")\n",
      "  File \"/home/krystian/Python/Jupyter-projects/thesis/songs_analysis/classes/playlist.py\", line 184, in _process_single_song\n",
      "    \"\"\"Processes a single song by fetching Spotify features, lyrics, and downloading audio.\n",
      "  File \"/home/krystian/Python/Jupyter-projects/thesis/songs_analysis/classes/playlist.py\", line 218, in _fetch_spotify_features\n",
      "    instrumentalness=features.get('instrumentalness'),\n",
      "Message: 'Fetched Spotify audio features for dehidrasi by hindia'\n",
      "Arguments: ()\n",
      "ERROR: [youtube] QlRhJ7pO4I4: Sign in to confirm you’re not a bot. This helps protect our community. Learn more\n",
      "Failed to download from YouTube URL 'https://www.youtube.com/watch?v=QlRhJ7pO4I4&pp=ygUSaGluZGlhIC0gZGVoaWRyYXNp': Socket operation on non-socket\n",
      "--- Logging error ---\n",
      "Traceback (most recent call last):\n",
      "  File \"/home/krystian/Python/VENVS/jupyter310/lib/python3.10/site-packages/yt_dlp/YoutubeDL.py\", line 1626, in wrapper\n",
      "    return func(self, *args, **kwargs)\n",
      "  File \"/home/krystian/Python/VENVS/jupyter310/lib/python3.10/site-packages/yt_dlp/YoutubeDL.py\", line 1761, in __extract_info\n",
      "    ie_result = ie.extract(url)\n",
      "  File \"/home/krystian/Python/VENVS/jupyter310/lib/python3.10/site-packages/yt_dlp/extractor/common.py\", line 740, in extract\n",
      "    ie_result = self._real_extract(url)\n",
      "  File \"/home/krystian/Python/VENVS/jupyter310/lib/python3.10/site-packages/yt_dlp/extractor/youtube.py\", line 4358, in _real_extract\n",
      "    self.raise_no_formats(reason, expected=True)\n",
      "  File \"/home/krystian/Python/VENVS/jupyter310/lib/python3.10/site-packages/yt_dlp/extractor/common.py\", line 1263, in raise_no_formats\n",
      "    raise ExtractorError(msg, expected=expected, video_id=video_id)\n",
      "yt_dlp.utils.ExtractorError: [youtube] QlRhJ7pO4I4: Sign in to confirm you’re not a bot. This helps protect our community. Learn more\n",
      "\n",
      "During handling of the above exception, another exception occurred:\n",
      "\n",
      "Traceback (most recent call last):\n",
      "  File \"/home/krystian/Python/Jupyter-projects/thesis/songs_analysis/classes/youtube_downloader.py\", line 64, in download_audio\n",
      "    ydl.download([url])\n",
      "  File \"/home/krystian/Python/VENVS/jupyter310/lib/python3.10/site-packages/yt_dlp/YoutubeDL.py\", line 3607, in download\n",
      "    self.__download_wrapper(self.extract_info)(\n",
      "  File \"/home/krystian/Python/VENVS/jupyter310/lib/python3.10/site-packages/yt_dlp/YoutubeDL.py\", line 3582, in wrapper\n",
      "    res = func(*args, **kwargs)\n",
      "  File \"/home/krystian/Python/VENVS/jupyter310/lib/python3.10/site-packages/yt_dlp/YoutubeDL.py\", line 1615, in extract_info\n",
      "    return self.__extract_info(url, self.get_info_extractor(key), download, extra_info, process)\n",
      "  File \"/home/krystian/Python/VENVS/jupyter310/lib/python3.10/site-packages/yt_dlp/YoutubeDL.py\", line 1644, in wrapper\n",
      "    self.report_error(str(e), e.format_traceback())\n",
      "  File \"/home/krystian/Python/VENVS/jupyter310/lib/python3.10/site-packages/yt_dlp/YoutubeDL.py\", line 1092, in report_error\n",
      "    self.trouble(f'{self._format_err(\"ERROR:\", self.Styles.ERROR)} {message}', *args, **kwargs)\n",
      "  File \"/home/krystian/Python/VENVS/jupyter310/lib/python3.10/site-packages/yt_dlp/YoutubeDL.py\", line 1011, in trouble\n",
      "    self.to_stderr(message)\n",
      "  File \"/home/krystian/Python/VENVS/jupyter310/lib/python3.10/site-packages/yt_dlp/YoutubeDL.py\", line 953, in to_stderr\n",
      "    self._write_string(f'{self._bidi_workaround(message)}\\n', self._out_files.error, only_once=only_once)\n",
      "  File \"/home/krystian/Python/VENVS/jupyter310/lib/python3.10/site-packages/yt_dlp/YoutubeDL.py\", line 924, in _write_string\n",
      "    write_string(message, out=out, encoding=self.params.get('encoding'))\n",
      "  File \"/home/krystian/Python/VENVS/jupyter310/lib/python3.10/site-packages/yt_dlp/utils/_utils.py\", line 1442, in write_string\n",
      "    out.flush()\n",
      "  File \"/home/krystian/Python/VENVS/jupyter310/lib/python3.10/site-packages/ipykernel/iostream.py\", line 604, in flush\n",
      "    self.pub_thread.schedule(self._flush)\n",
      "  File \"/home/krystian/Python/VENVS/jupyter310/lib/python3.10/site-packages/ipykernel/iostream.py\", line 267, in schedule\n",
      "    self._event_pipe.send(b\"\")\n",
      "  File \"/home/krystian/Python/VENVS/jupyter310/lib/python3.10/site-packages/zmq/sugar/socket.py\", line 701, in send\n",
      "    return super().send(data, flags=flags, copy=copy, track=track)\n",
      "  File \"_zmq.py\", line 1092, in zmq.backend.cython._zmq.Socket.send\n",
      "  File \"_zmq.py\", line 1134, in zmq.backend.cython._zmq.Socket.send\n",
      "  File \"_zmq.py\", line 1209, in zmq.backend.cython._zmq._check_closed\n",
      "zmq.error.ZMQError: Socket operation on non-socket\n",
      "\n",
      "During handling of the above exception, another exception occurred:\n",
      "\n",
      "Traceback (most recent call last):\n",
      "  File \"/usr/lib/python3.10/logging/__init__.py\", line 1104, in emit\n",
      "    self.flush()\n",
      "  File \"/usr/lib/python3.10/logging/__init__.py\", line 1084, in flush\n",
      "    self.stream.flush()\n",
      "  File \"/home/krystian/Python/VENVS/jupyter310/lib/python3.10/site-packages/ipykernel/iostream.py\", line 604, in flush\n",
      "    self.pub_thread.schedule(self._flush)\n",
      "  File \"/home/krystian/Python/VENVS/jupyter310/lib/python3.10/site-packages/ipykernel/iostream.py\", line 267, in schedule\n",
      "    self._event_pipe.send(b\"\")\n",
      "  File \"/home/krystian/Python/VENVS/jupyter310/lib/python3.10/site-packages/zmq/sugar/socket.py\", line 701, in send\n",
      "    return super().send(data, flags=flags, copy=copy, track=track)\n",
      "  File \"_zmq.py\", line 1092, in zmq.backend.cython._zmq.Socket.send\n",
      "  File \"_zmq.py\", line 1134, in zmq.backend.cython._zmq.Socket.send\n",
      "  File \"_zmq.py\", line 1209, in zmq.backend.cython._zmq._check_closed\n",
      "zmq.error.ZMQError: Socket operation on non-socket\n",
      "Call stack:\n",
      "  File \"/usr/lib/python3.10/threading.py\", line 973, in _bootstrap\n",
      "    self._bootstrap_inner()\n",
      "  File \"/usr/lib/python3.10/threading.py\", line 1016, in _bootstrap_inner\n",
      "    self.run()\n",
      "  File \"/home/krystian/Python/VENVS/jupyter310/lib/python3.10/site-packages/ipykernel/ipkernel.py\", line 766, in run_closure\n",
      "    _threading_Thread_run(self)\n",
      "  File \"/usr/lib/python3.10/threading.py\", line 953, in run\n",
      "    self._target(*self._args, **self._kwargs)\n",
      "  File \"/usr/lib/python3.10/concurrent/futures/thread.py\", line 83, in _worker\n",
      "    work_item.run()\n",
      "  File \"/usr/lib/python3.10/concurrent/futures/thread.py\", line 58, in run\n",
      "    result = self.fn(*self.args, **self.kwargs)\n",
      "  File \"/home/krystian/Python/Jupyter-projects/thesis/songs_analysis/classes/playlist.py\", line 161, in _download_and_process_song\n",
      "    LOGGER.error(f\"Error processing a song: {e}\")\n",
      "  File \"/home/krystian/Python/Jupyter-projects/thesis/songs_analysis/classes/playlist.py\", line 189, in _process_single_song\n",
      "    \"\"\"\n",
      "  File \"/home/krystian/Python/Jupyter-projects/thesis/songs_analysis/classes/playlist.py\", line 246, in _download_song\n",
      "    song.mp3_path = mp3_file_path  # Set the absolute path in the Song instance\n",
      "  File \"/home/krystian/Python/Jupyter-projects/thesis/songs_analysis/classes/youtube_downloader.py\", line 68, in download_audio\n",
      "    LOGGER.error(f\"Failed to download from YouTube URL '{url}': {e}\")\n",
      "Message: \"Failed to download from YouTube URL 'https://www.youtube.com/watch?v=QlRhJ7pO4I4&pp=ygUSaGluZGlhIC0gZGVoaWRyYXNp': Socket operation on non-socket\"\n",
      "Arguments: ()\n",
      "\u001b[1;33mWARNING: Failed to download song: dehidrasi\u001b[0m\n",
      "--- Logging error ---\n",
      "Traceback (most recent call last):\n",
      "  File \"/usr/lib/python3.10/logging/__init__.py\", line 1104, in emit\n",
      "    self.flush()\n",
      "  File \"/usr/lib/python3.10/logging/__init__.py\", line 1084, in flush\n",
      "    self.stream.flush()\n",
      "  File \"/home/krystian/Python/VENVS/jupyter310/lib/python3.10/site-packages/ipykernel/iostream.py\", line 604, in flush\n",
      "    self.pub_thread.schedule(self._flush)\n",
      "  File \"/home/krystian/Python/VENVS/jupyter310/lib/python3.10/site-packages/ipykernel/iostream.py\", line 267, in schedule\n",
      "    self._event_pipe.send(b\"\")\n",
      "  File \"/home/krystian/Python/VENVS/jupyter310/lib/python3.10/site-packages/zmq/sugar/socket.py\", line 701, in send\n",
      "    return super().send(data, flags=flags, copy=copy, track=track)\n",
      "  File \"_zmq.py\", line 1092, in zmq.backend.cython._zmq.Socket.send\n",
      "  File \"_zmq.py\", line 1134, in zmq.backend.cython._zmq.Socket.send\n",
      "  File \"_zmq.py\", line 1209, in zmq.backend.cython._zmq._check_closed\n",
      "zmq.error.ZMQError: Socket operation on non-socket\n",
      "Call stack:\n",
      "  File \"/usr/lib/python3.10/threading.py\", line 973, in _bootstrap\n",
      "    self._bootstrap_inner()\n",
      "  File \"/usr/lib/python3.10/threading.py\", line 1016, in _bootstrap_inner\n",
      "    self.run()\n",
      "  File \"/home/krystian/Python/VENVS/jupyter310/lib/python3.10/site-packages/ipykernel/ipkernel.py\", line 766, in run_closure\n",
      "    _threading_Thread_run(self)\n",
      "  File \"/usr/lib/python3.10/threading.py\", line 953, in run\n",
      "    self._target(*self._args, **self._kwargs)\n",
      "  File \"/usr/lib/python3.10/concurrent/futures/thread.py\", line 83, in _worker\n",
      "    work_item.run()\n",
      "  File \"/usr/lib/python3.10/concurrent/futures/thread.py\", line 58, in run\n",
      "    result = self.fn(*self.args, **self.kwargs)\n",
      "  File \"/home/krystian/Python/Jupyter-projects/thesis/songs_analysis/classes/playlist.py\", line 161, in _download_and_process_song\n",
      "    LOGGER.error(f\"Error processing a song: {e}\")\n",
      "  File \"/home/krystian/Python/Jupyter-projects/thesis/songs_analysis/classes/playlist.py\", line 189, in _process_single_song\n",
      "    \"\"\"\n",
      "  File \"/home/krystian/Python/Jupyter-projects/thesis/songs_analysis/classes/playlist.py\", line 252, in _download_song\n",
      "    success = self.youtube_downloader.download_audio(best_url, mp3_file_path.rsplit('.mp3', 1)[0])  # Download without .mp3\n",
      "Message: 'Failed to download song: dehidrasi'\n",
      "Arguments: ()\n",
      "--- Logging error ---\n",
      "Traceback (most recent call last):\n",
      "  File \"/usr/lib/python3.10/logging/__init__.py\", line 1104, in emit\n",
      "    self.flush()\n",
      "  File \"/usr/lib/python3.10/logging/__init__.py\", line 1084, in flush\n",
      "    self.stream.flush()\n",
      "  File \"/home/krystian/Python/VENVS/jupyter310/lib/python3.10/site-packages/ipykernel/iostream.py\", line 604, in flush\n",
      "    self.pub_thread.schedule(self._flush)\n",
      "  File \"/home/krystian/Python/VENVS/jupyter310/lib/python3.10/site-packages/ipykernel/iostream.py\", line 267, in schedule\n",
      "    self._event_pipe.send(b\"\")\n",
      "  File \"/home/krystian/Python/VENVS/jupyter310/lib/python3.10/site-packages/zmq/sugar/socket.py\", line 701, in send\n",
      "    return super().send(data, flags=flags, copy=copy, track=track)\n",
      "  File \"_zmq.py\", line 1092, in zmq.backend.cython._zmq.Socket.send\n",
      "  File \"_zmq.py\", line 1134, in zmq.backend.cython._zmq.Socket.send\n",
      "  File \"_zmq.py\", line 1209, in zmq.backend.cython._zmq._check_closed\n",
      "zmq.error.ZMQError: Socket operation on non-socket\n",
      "Call stack:\n",
      "  File \"/usr/lib/python3.10/threading.py\", line 973, in _bootstrap\n",
      "    self._bootstrap_inner()\n",
      "  File \"/usr/lib/python3.10/threading.py\", line 1016, in _bootstrap_inner\n",
      "    self.run()\n",
      "  File \"/home/krystian/Python/VENVS/jupyter310/lib/python3.10/site-packages/ipykernel/ipkernel.py\", line 766, in run_closure\n",
      "    _threading_Thread_run(self)\n",
      "  File \"/usr/lib/python3.10/threading.py\", line 953, in run\n",
      "    self._target(*self._args, **self._kwargs)\n",
      "  File \"/usr/lib/python3.10/concurrent/futures/thread.py\", line 83, in _worker\n",
      "    work_item.run()\n",
      "  File \"/usr/lib/python3.10/concurrent/futures/thread.py\", line 58, in run\n",
      "    result = self.fn(*self.args, **self.kwargs)\n",
      "  File \"/home/krystian/Python/Jupyter-projects/thesis/songs_analysis/classes/playlist.py\", line 161, in _download_and_process_song\n",
      "    LOGGER.error(f\"Error processing a song: {e}\")\n",
      "  File \"/home/krystian/Python/Jupyter-projects/thesis/songs_analysis/classes/playlist.py\", line 184, in _process_single_song\n",
      "    \"\"\"Processes a single song by fetching Spotify features, lyrics, and downloading audio.\n",
      "  File \"/home/krystian/Python/Jupyter-projects/thesis/songs_analysis/classes/playlist.py\", line 218, in _fetch_spotify_features\n",
      "    instrumentalness=features.get('instrumentalness'),\n",
      "Message: 'Fetched Spotify audio features for tell em by cochise'\n",
      "Arguments: ()\n",
      "ERROR: [youtube] L5ByY30tfvM: Sign in to confirm you’re not a bot. This helps protect our community. Learn more\n",
      "Failed to download from YouTube URL 'https://www.youtube.com/watch?v=L5ByY30tfvM&pp=ygURY29jaGlzZSAtIHRlbGwgZW0%3D': Socket operation on non-socket\n",
      "--- Logging error ---\n",
      "Traceback (most recent call last):\n",
      "  File \"/home/krystian/Python/VENVS/jupyter310/lib/python3.10/site-packages/yt_dlp/YoutubeDL.py\", line 1626, in wrapper\n",
      "    return func(self, *args, **kwargs)\n",
      "  File \"/home/krystian/Python/VENVS/jupyter310/lib/python3.10/site-packages/yt_dlp/YoutubeDL.py\", line 1761, in __extract_info\n",
      "    ie_result = ie.extract(url)\n",
      "  File \"/home/krystian/Python/VENVS/jupyter310/lib/python3.10/site-packages/yt_dlp/extractor/common.py\", line 740, in extract\n",
      "    ie_result = self._real_extract(url)\n",
      "  File \"/home/krystian/Python/VENVS/jupyter310/lib/python3.10/site-packages/yt_dlp/extractor/youtube.py\", line 4358, in _real_extract\n",
      "    self.raise_no_formats(reason, expected=True)\n",
      "  File \"/home/krystian/Python/VENVS/jupyter310/lib/python3.10/site-packages/yt_dlp/extractor/common.py\", line 1263, in raise_no_formats\n",
      "    raise ExtractorError(msg, expected=expected, video_id=video_id)\n",
      "yt_dlp.utils.ExtractorError: [youtube] L5ByY30tfvM: Sign in to confirm you’re not a bot. This helps protect our community. Learn more\n",
      "\n",
      "During handling of the above exception, another exception occurred:\n",
      "\n",
      "Traceback (most recent call last):\n",
      "  File \"/home/krystian/Python/Jupyter-projects/thesis/songs_analysis/classes/youtube_downloader.py\", line 64, in download_audio\n",
      "    ydl.download([url])\n",
      "  File \"/home/krystian/Python/VENVS/jupyter310/lib/python3.10/site-packages/yt_dlp/YoutubeDL.py\", line 3607, in download\n",
      "    self.__download_wrapper(self.extract_info)(\n",
      "  File \"/home/krystian/Python/VENVS/jupyter310/lib/python3.10/site-packages/yt_dlp/YoutubeDL.py\", line 3582, in wrapper\n",
      "    res = func(*args, **kwargs)\n",
      "  File \"/home/krystian/Python/VENVS/jupyter310/lib/python3.10/site-packages/yt_dlp/YoutubeDL.py\", line 1615, in extract_info\n",
      "    return self.__extract_info(url, self.get_info_extractor(key), download, extra_info, process)\n",
      "  File \"/home/krystian/Python/VENVS/jupyter310/lib/python3.10/site-packages/yt_dlp/YoutubeDL.py\", line 1644, in wrapper\n",
      "    self.report_error(str(e), e.format_traceback())\n",
      "  File \"/home/krystian/Python/VENVS/jupyter310/lib/python3.10/site-packages/yt_dlp/YoutubeDL.py\", line 1092, in report_error\n",
      "    self.trouble(f'{self._format_err(\"ERROR:\", self.Styles.ERROR)} {message}', *args, **kwargs)\n",
      "  File \"/home/krystian/Python/VENVS/jupyter310/lib/python3.10/site-packages/yt_dlp/YoutubeDL.py\", line 1011, in trouble\n",
      "    self.to_stderr(message)\n",
      "  File \"/home/krystian/Python/VENVS/jupyter310/lib/python3.10/site-packages/yt_dlp/YoutubeDL.py\", line 953, in to_stderr\n",
      "    self._write_string(f'{self._bidi_workaround(message)}\\n', self._out_files.error, only_once=only_once)\n",
      "  File \"/home/krystian/Python/VENVS/jupyter310/lib/python3.10/site-packages/yt_dlp/YoutubeDL.py\", line 924, in _write_string\n",
      "    write_string(message, out=out, encoding=self.params.get('encoding'))\n",
      "  File \"/home/krystian/Python/VENVS/jupyter310/lib/python3.10/site-packages/yt_dlp/utils/_utils.py\", line 1442, in write_string\n",
      "    out.flush()\n",
      "  File \"/home/krystian/Python/VENVS/jupyter310/lib/python3.10/site-packages/ipykernel/iostream.py\", line 604, in flush\n",
      "    self.pub_thread.schedule(self._flush)\n",
      "  File \"/home/krystian/Python/VENVS/jupyter310/lib/python3.10/site-packages/ipykernel/iostream.py\", line 267, in schedule\n",
      "    self._event_pipe.send(b\"\")\n",
      "  File \"/home/krystian/Python/VENVS/jupyter310/lib/python3.10/site-packages/zmq/sugar/socket.py\", line 701, in send\n",
      "    return super().send(data, flags=flags, copy=copy, track=track)\n",
      "  File \"_zmq.py\", line 1092, in zmq.backend.cython._zmq.Socket.send\n",
      "  File \"_zmq.py\", line 1134, in zmq.backend.cython._zmq.Socket.send\n",
      "  File \"_zmq.py\", line 1209, in zmq.backend.cython._zmq._check_closed\n",
      "zmq.error.ZMQError: Socket operation on non-socket\n",
      "\n",
      "During handling of the above exception, another exception occurred:\n",
      "\n",
      "Traceback (most recent call last):\n",
      "  File \"/usr/lib/python3.10/logging/__init__.py\", line 1104, in emit\n",
      "    self.flush()\n",
      "  File \"/usr/lib/python3.10/logging/__init__.py\", line 1084, in flush\n",
      "    self.stream.flush()\n",
      "  File \"/home/krystian/Python/VENVS/jupyter310/lib/python3.10/site-packages/ipykernel/iostream.py\", line 604, in flush\n",
      "    self.pub_thread.schedule(self._flush)\n",
      "  File \"/home/krystian/Python/VENVS/jupyter310/lib/python3.10/site-packages/ipykernel/iostream.py\", line 267, in schedule\n",
      "    self._event_pipe.send(b\"\")\n",
      "  File \"/home/krystian/Python/VENVS/jupyter310/lib/python3.10/site-packages/zmq/sugar/socket.py\", line 701, in send\n",
      "    return super().send(data, flags=flags, copy=copy, track=track)\n",
      "  File \"_zmq.py\", line 1092, in zmq.backend.cython._zmq.Socket.send\n",
      "  File \"_zmq.py\", line 1134, in zmq.backend.cython._zmq.Socket.send\n",
      "  File \"_zmq.py\", line 1209, in zmq.backend.cython._zmq._check_closed\n",
      "zmq.error.ZMQError: Socket operation on non-socket\n",
      "Call stack:\n",
      "  File \"/usr/lib/python3.10/threading.py\", line 973, in _bootstrap\n",
      "    self._bootstrap_inner()\n",
      "  File \"/usr/lib/python3.10/threading.py\", line 1016, in _bootstrap_inner\n",
      "    self.run()\n",
      "  File \"/home/krystian/Python/VENVS/jupyter310/lib/python3.10/site-packages/ipykernel/ipkernel.py\", line 766, in run_closure\n",
      "    _threading_Thread_run(self)\n",
      "  File \"/usr/lib/python3.10/threading.py\", line 953, in run\n",
      "    self._target(*self._args, **self._kwargs)\n",
      "  File \"/usr/lib/python3.10/concurrent/futures/thread.py\", line 83, in _worker\n",
      "    work_item.run()\n",
      "  File \"/usr/lib/python3.10/concurrent/futures/thread.py\", line 58, in run\n",
      "    result = self.fn(*self.args, **self.kwargs)\n",
      "  File \"/home/krystian/Python/Jupyter-projects/thesis/songs_analysis/classes/playlist.py\", line 161, in _download_and_process_song\n",
      "    LOGGER.error(f\"Error processing a song: {e}\")\n",
      "  File \"/home/krystian/Python/Jupyter-projects/thesis/songs_analysis/classes/playlist.py\", line 189, in _process_single_song\n",
      "    \"\"\"\n",
      "  File \"/home/krystian/Python/Jupyter-projects/thesis/songs_analysis/classes/playlist.py\", line 246, in _download_song\n",
      "    song.mp3_path = mp3_file_path  # Set the absolute path in the Song instance\n",
      "  File \"/home/krystian/Python/Jupyter-projects/thesis/songs_analysis/classes/youtube_downloader.py\", line 68, in download_audio\n",
      "    LOGGER.error(f\"Failed to download from YouTube URL '{url}': {e}\")\n",
      "Message: \"Failed to download from YouTube URL 'https://www.youtube.com/watch?v=L5ByY30tfvM&pp=ygURY29jaGlzZSAtIHRlbGwgZW0%3D': Socket operation on non-socket\"\n",
      "Arguments: ()\n",
      "\u001b[1;33mWARNING: Failed to download song: tell em\u001b[0m\n",
      "--- Logging error ---\n",
      "Traceback (most recent call last):\n",
      "  File \"/usr/lib/python3.10/logging/__init__.py\", line 1104, in emit\n",
      "    self.flush()\n",
      "  File \"/usr/lib/python3.10/logging/__init__.py\", line 1084, in flush\n",
      "    self.stream.flush()\n",
      "  File \"/home/krystian/Python/VENVS/jupyter310/lib/python3.10/site-packages/ipykernel/iostream.py\", line 604, in flush\n",
      "    self.pub_thread.schedule(self._flush)\n",
      "  File \"/home/krystian/Python/VENVS/jupyter310/lib/python3.10/site-packages/ipykernel/iostream.py\", line 267, in schedule\n",
      "    self._event_pipe.send(b\"\")\n",
      "  File \"/home/krystian/Python/VENVS/jupyter310/lib/python3.10/site-packages/zmq/sugar/socket.py\", line 701, in send\n",
      "    return super().send(data, flags=flags, copy=copy, track=track)\n",
      "  File \"_zmq.py\", line 1092, in zmq.backend.cython._zmq.Socket.send\n",
      "  File \"_zmq.py\", line 1134, in zmq.backend.cython._zmq.Socket.send\n",
      "  File \"_zmq.py\", line 1209, in zmq.backend.cython._zmq._check_closed\n",
      "zmq.error.ZMQError: Socket operation on non-socket\n",
      "Call stack:\n",
      "  File \"/usr/lib/python3.10/threading.py\", line 973, in _bootstrap\n",
      "    self._bootstrap_inner()\n",
      "  File \"/usr/lib/python3.10/threading.py\", line 1016, in _bootstrap_inner\n",
      "    self.run()\n",
      "  File \"/home/krystian/Python/VENVS/jupyter310/lib/python3.10/site-packages/ipykernel/ipkernel.py\", line 766, in run_closure\n",
      "    _threading_Thread_run(self)\n",
      "  File \"/usr/lib/python3.10/threading.py\", line 953, in run\n",
      "    self._target(*self._args, **self._kwargs)\n",
      "  File \"/usr/lib/python3.10/concurrent/futures/thread.py\", line 83, in _worker\n",
      "    work_item.run()\n",
      "  File \"/usr/lib/python3.10/concurrent/futures/thread.py\", line 58, in run\n",
      "    result = self.fn(*self.args, **self.kwargs)\n",
      "  File \"/home/krystian/Python/Jupyter-projects/thesis/songs_analysis/classes/playlist.py\", line 161, in _download_and_process_song\n",
      "    LOGGER.error(f\"Error processing a song: {e}\")\n",
      "  File \"/home/krystian/Python/Jupyter-projects/thesis/songs_analysis/classes/playlist.py\", line 189, in _process_single_song\n",
      "    \"\"\"\n",
      "  File \"/home/krystian/Python/Jupyter-projects/thesis/songs_analysis/classes/playlist.py\", line 252, in _download_song\n",
      "    success = self.youtube_downloader.download_audio(best_url, mp3_file_path.rsplit('.mp3', 1)[0])  # Download without .mp3\n",
      "Message: 'Failed to download song: tell em'\n",
      "Arguments: ()\n",
      "--- Logging error ---\n",
      "Traceback (most recent call last):\n",
      "  File \"/usr/lib/python3.10/logging/__init__.py\", line 1104, in emit\n",
      "    self.flush()\n",
      "  File \"/usr/lib/python3.10/logging/__init__.py\", line 1084, in flush\n",
      "    self.stream.flush()\n",
      "  File \"/home/krystian/Python/VENVS/jupyter310/lib/python3.10/site-packages/ipykernel/iostream.py\", line 604, in flush\n",
      "    self.pub_thread.schedule(self._flush)\n",
      "  File \"/home/krystian/Python/VENVS/jupyter310/lib/python3.10/site-packages/ipykernel/iostream.py\", line 267, in schedule\n",
      "    self._event_pipe.send(b\"\")\n",
      "  File \"/home/krystian/Python/VENVS/jupyter310/lib/python3.10/site-packages/zmq/sugar/socket.py\", line 701, in send\n",
      "    return super().send(data, flags=flags, copy=copy, track=track)\n",
      "  File \"_zmq.py\", line 1092, in zmq.backend.cython._zmq.Socket.send\n",
      "  File \"_zmq.py\", line 1134, in zmq.backend.cython._zmq.Socket.send\n",
      "  File \"_zmq.py\", line 1209, in zmq.backend.cython._zmq._check_closed\n",
      "zmq.error.ZMQError: Socket operation on non-socket\n",
      "Call stack:\n",
      "  File \"/usr/lib/python3.10/threading.py\", line 973, in _bootstrap\n",
      "    self._bootstrap_inner()\n",
      "  File \"/usr/lib/python3.10/threading.py\", line 1016, in _bootstrap_inner\n",
      "    self.run()\n",
      "  File \"/home/krystian/Python/VENVS/jupyter310/lib/python3.10/site-packages/ipykernel/ipkernel.py\", line 766, in run_closure\n",
      "    _threading_Thread_run(self)\n",
      "  File \"/usr/lib/python3.10/threading.py\", line 953, in run\n",
      "    self._target(*self._args, **self._kwargs)\n",
      "  File \"/usr/lib/python3.10/concurrent/futures/thread.py\", line 83, in _worker\n",
      "    work_item.run()\n",
      "  File \"/usr/lib/python3.10/concurrent/futures/thread.py\", line 58, in run\n",
      "    result = self.fn(*self.args, **self.kwargs)\n",
      "  File \"/home/krystian/Python/Jupyter-projects/thesis/songs_analysis/classes/playlist.py\", line 161, in _download_and_process_song\n",
      "    LOGGER.error(f\"Error processing a song: {e}\")\n",
      "  File \"/home/krystian/Python/Jupyter-projects/thesis/songs_analysis/classes/playlist.py\", line 184, in _process_single_song\n",
      "    \"\"\"Processes a single song by fetching Spotify features, lyrics, and downloading audio.\n",
      "  File \"/home/krystian/Python/Jupyter-projects/thesis/songs_analysis/classes/playlist.py\", line 218, in _fetch_spotify_features\n",
      "    instrumentalness=features.get('instrumentalness'),\n",
      "Message: 'Fetched Spotify audio features for 3am by rosé'\n",
      "Arguments: ()\n",
      "ERROR: [youtube] OzdJFXyO8ts: Sign in to confirm you’re not a bot. This helps protect our community. Learn more\n",
      "Failed to download from YouTube URL 'https://www.youtube.com/watch?v=OzdJFXyO8ts&pp=ygULcm9zw6kgLSAzYW0%3D': Socket operation on non-socket\n",
      "--- Logging error ---\n",
      "Traceback (most recent call last):\n",
      "  File \"/home/krystian/Python/VENVS/jupyter310/lib/python3.10/site-packages/yt_dlp/YoutubeDL.py\", line 1626, in wrapper\n",
      "    return func(self, *args, **kwargs)\n",
      "  File \"/home/krystian/Python/VENVS/jupyter310/lib/python3.10/site-packages/yt_dlp/YoutubeDL.py\", line 1761, in __extract_info\n",
      "    ie_result = ie.extract(url)\n",
      "  File \"/home/krystian/Python/VENVS/jupyter310/lib/python3.10/site-packages/yt_dlp/extractor/common.py\", line 740, in extract\n",
      "    ie_result = self._real_extract(url)\n",
      "  File \"/home/krystian/Python/VENVS/jupyter310/lib/python3.10/site-packages/yt_dlp/extractor/youtube.py\", line 4358, in _real_extract\n",
      "    self.raise_no_formats(reason, expected=True)\n",
      "  File \"/home/krystian/Python/VENVS/jupyter310/lib/python3.10/site-packages/yt_dlp/extractor/common.py\", line 1263, in raise_no_formats\n",
      "    raise ExtractorError(msg, expected=expected, video_id=video_id)\n",
      "yt_dlp.utils.ExtractorError: [youtube] OzdJFXyO8ts: Sign in to confirm you’re not a bot. This helps protect our community. Learn more\n",
      "\n",
      "During handling of the above exception, another exception occurred:\n",
      "\n",
      "Traceback (most recent call last):\n",
      "  File \"/home/krystian/Python/Jupyter-projects/thesis/songs_analysis/classes/youtube_downloader.py\", line 64, in download_audio\n",
      "    ydl.download([url])\n",
      "  File \"/home/krystian/Python/VENVS/jupyter310/lib/python3.10/site-packages/yt_dlp/YoutubeDL.py\", line 3607, in download\n",
      "    self.__download_wrapper(self.extract_info)(\n",
      "  File \"/home/krystian/Python/VENVS/jupyter310/lib/python3.10/site-packages/yt_dlp/YoutubeDL.py\", line 3582, in wrapper\n",
      "    res = func(*args, **kwargs)\n",
      "  File \"/home/krystian/Python/VENVS/jupyter310/lib/python3.10/site-packages/yt_dlp/YoutubeDL.py\", line 1615, in extract_info\n",
      "    return self.__extract_info(url, self.get_info_extractor(key), download, extra_info, process)\n",
      "  File \"/home/krystian/Python/VENVS/jupyter310/lib/python3.10/site-packages/yt_dlp/YoutubeDL.py\", line 1644, in wrapper\n",
      "    self.report_error(str(e), e.format_traceback())\n",
      "  File \"/home/krystian/Python/VENVS/jupyter310/lib/python3.10/site-packages/yt_dlp/YoutubeDL.py\", line 1092, in report_error\n",
      "    self.trouble(f'{self._format_err(\"ERROR:\", self.Styles.ERROR)} {message}', *args, **kwargs)\n",
      "  File \"/home/krystian/Python/VENVS/jupyter310/lib/python3.10/site-packages/yt_dlp/YoutubeDL.py\", line 1011, in trouble\n",
      "    self.to_stderr(message)\n",
      "  File \"/home/krystian/Python/VENVS/jupyter310/lib/python3.10/site-packages/yt_dlp/YoutubeDL.py\", line 953, in to_stderr\n",
      "    self._write_string(f'{self._bidi_workaround(message)}\\n', self._out_files.error, only_once=only_once)\n",
      "  File \"/home/krystian/Python/VENVS/jupyter310/lib/python3.10/site-packages/yt_dlp/YoutubeDL.py\", line 924, in _write_string\n",
      "    write_string(message, out=out, encoding=self.params.get('encoding'))\n",
      "  File \"/home/krystian/Python/VENVS/jupyter310/lib/python3.10/site-packages/yt_dlp/utils/_utils.py\", line 1442, in write_string\n",
      "    out.flush()\n",
      "  File \"/home/krystian/Python/VENVS/jupyter310/lib/python3.10/site-packages/ipykernel/iostream.py\", line 604, in flush\n",
      "    self.pub_thread.schedule(self._flush)\n",
      "  File \"/home/krystian/Python/VENVS/jupyter310/lib/python3.10/site-packages/ipykernel/iostream.py\", line 267, in schedule\n",
      "    self._event_pipe.send(b\"\")\n",
      "  File \"/home/krystian/Python/VENVS/jupyter310/lib/python3.10/site-packages/zmq/sugar/socket.py\", line 701, in send\n",
      "    return super().send(data, flags=flags, copy=copy, track=track)\n",
      "  File \"_zmq.py\", line 1092, in zmq.backend.cython._zmq.Socket.send\n",
      "  File \"_zmq.py\", line 1134, in zmq.backend.cython._zmq.Socket.send\n",
      "  File \"_zmq.py\", line 1209, in zmq.backend.cython._zmq._check_closed\n",
      "zmq.error.ZMQError: Socket operation on non-socket\n",
      "\n",
      "During handling of the above exception, another exception occurred:\n",
      "\n",
      "Traceback (most recent call last):\n",
      "  File \"/usr/lib/python3.10/logging/__init__.py\", line 1104, in emit\n",
      "    self.flush()\n",
      "  File \"/usr/lib/python3.10/logging/__init__.py\", line 1084, in flush\n",
      "    self.stream.flush()\n",
      "  File \"/home/krystian/Python/VENVS/jupyter310/lib/python3.10/site-packages/ipykernel/iostream.py\", line 604, in flush\n",
      "    self.pub_thread.schedule(self._flush)\n",
      "  File \"/home/krystian/Python/VENVS/jupyter310/lib/python3.10/site-packages/ipykernel/iostream.py\", line 267, in schedule\n",
      "    self._event_pipe.send(b\"\")\n",
      "  File \"/home/krystian/Python/VENVS/jupyter310/lib/python3.10/site-packages/zmq/sugar/socket.py\", line 701, in send\n",
      "    return super().send(data, flags=flags, copy=copy, track=track)\n",
      "  File \"_zmq.py\", line 1092, in zmq.backend.cython._zmq.Socket.send\n",
      "  File \"_zmq.py\", line 1134, in zmq.backend.cython._zmq.Socket.send\n",
      "  File \"_zmq.py\", line 1209, in zmq.backend.cython._zmq._check_closed\n",
      "zmq.error.ZMQError: Socket operation on non-socket\n",
      "Call stack:\n",
      "  File \"/usr/lib/python3.10/threading.py\", line 973, in _bootstrap\n",
      "    self._bootstrap_inner()\n",
      "  File \"/usr/lib/python3.10/threading.py\", line 1016, in _bootstrap_inner\n",
      "    self.run()\n",
      "  File \"/home/krystian/Python/VENVS/jupyter310/lib/python3.10/site-packages/ipykernel/ipkernel.py\", line 766, in run_closure\n",
      "    _threading_Thread_run(self)\n",
      "  File \"/usr/lib/python3.10/threading.py\", line 953, in run\n",
      "    self._target(*self._args, **self._kwargs)\n",
      "  File \"/usr/lib/python3.10/concurrent/futures/thread.py\", line 83, in _worker\n",
      "    work_item.run()\n",
      "  File \"/usr/lib/python3.10/concurrent/futures/thread.py\", line 58, in run\n",
      "    result = self.fn(*self.args, **self.kwargs)\n",
      "  File \"/home/krystian/Python/Jupyter-projects/thesis/songs_analysis/classes/playlist.py\", line 161, in _download_and_process_song\n",
      "    LOGGER.error(f\"Error processing a song: {e}\")\n",
      "  File \"/home/krystian/Python/Jupyter-projects/thesis/songs_analysis/classes/playlist.py\", line 189, in _process_single_song\n",
      "    \"\"\"\n",
      "  File \"/home/krystian/Python/Jupyter-projects/thesis/songs_analysis/classes/playlist.py\", line 246, in _download_song\n",
      "    song.mp3_path = mp3_file_path  # Set the absolute path in the Song instance\n",
      "  File \"/home/krystian/Python/Jupyter-projects/thesis/songs_analysis/classes/youtube_downloader.py\", line 68, in download_audio\n",
      "    LOGGER.error(f\"Failed to download from YouTube URL '{url}': {e}\")\n",
      "Message: \"Failed to download from YouTube URL 'https://www.youtube.com/watch?v=OzdJFXyO8ts&pp=ygULcm9zw6kgLSAzYW0%3D': Socket operation on non-socket\"\n",
      "Arguments: ()\n",
      "\u001b[1;33mWARNING: Failed to download song: 3am\u001b[0m\n",
      "--- Logging error ---\n",
      "Traceback (most recent call last):\n",
      "  File \"/usr/lib/python3.10/logging/__init__.py\", line 1104, in emit\n",
      "    self.flush()\n",
      "  File \"/usr/lib/python3.10/logging/__init__.py\", line 1084, in flush\n",
      "    self.stream.flush()\n",
      "  File \"/home/krystian/Python/VENVS/jupyter310/lib/python3.10/site-packages/ipykernel/iostream.py\", line 604, in flush\n",
      "    self.pub_thread.schedule(self._flush)\n",
      "  File \"/home/krystian/Python/VENVS/jupyter310/lib/python3.10/site-packages/ipykernel/iostream.py\", line 267, in schedule\n",
      "    self._event_pipe.send(b\"\")\n",
      "  File \"/home/krystian/Python/VENVS/jupyter310/lib/python3.10/site-packages/zmq/sugar/socket.py\", line 701, in send\n",
      "    return super().send(data, flags=flags, copy=copy, track=track)\n",
      "  File \"_zmq.py\", line 1092, in zmq.backend.cython._zmq.Socket.send\n",
      "  File \"_zmq.py\", line 1134, in zmq.backend.cython._zmq.Socket.send\n",
      "  File \"_zmq.py\", line 1209, in zmq.backend.cython._zmq._check_closed\n",
      "zmq.error.ZMQError: Socket operation on non-socket\n",
      "Call stack:\n",
      "  File \"/usr/lib/python3.10/threading.py\", line 973, in _bootstrap\n",
      "    self._bootstrap_inner()\n",
      "  File \"/usr/lib/python3.10/threading.py\", line 1016, in _bootstrap_inner\n",
      "    self.run()\n",
      "  File \"/home/krystian/Python/VENVS/jupyter310/lib/python3.10/site-packages/ipykernel/ipkernel.py\", line 766, in run_closure\n",
      "    _threading_Thread_run(self)\n",
      "  File \"/usr/lib/python3.10/threading.py\", line 953, in run\n",
      "    self._target(*self._args, **self._kwargs)\n",
      "  File \"/usr/lib/python3.10/concurrent/futures/thread.py\", line 83, in _worker\n",
      "    work_item.run()\n",
      "  File \"/usr/lib/python3.10/concurrent/futures/thread.py\", line 58, in run\n",
      "    result = self.fn(*self.args, **self.kwargs)\n",
      "  File \"/home/krystian/Python/Jupyter-projects/thesis/songs_analysis/classes/playlist.py\", line 161, in _download_and_process_song\n",
      "    LOGGER.error(f\"Error processing a song: {e}\")\n",
      "  File \"/home/krystian/Python/Jupyter-projects/thesis/songs_analysis/classes/playlist.py\", line 189, in _process_single_song\n",
      "    \"\"\"\n",
      "  File \"/home/krystian/Python/Jupyter-projects/thesis/songs_analysis/classes/playlist.py\", line 252, in _download_song\n",
      "    success = self.youtube_downloader.download_audio(best_url, mp3_file_path.rsplit('.mp3', 1)[0])  # Download without .mp3\n",
      "Message: 'Failed to download song: 3am'\n",
      "Arguments: ()\n",
      "--- Logging error ---\n",
      "Traceback (most recent call last):\n",
      "  File \"/usr/lib/python3.10/logging/__init__.py\", line 1104, in emit\n",
      "    self.flush()\n",
      "  File \"/usr/lib/python3.10/logging/__init__.py\", line 1084, in flush\n",
      "    self.stream.flush()\n",
      "  File \"/home/krystian/Python/VENVS/jupyter310/lib/python3.10/site-packages/ipykernel/iostream.py\", line 604, in flush\n",
      "    self.pub_thread.schedule(self._flush)\n",
      "  File \"/home/krystian/Python/VENVS/jupyter310/lib/python3.10/site-packages/ipykernel/iostream.py\", line 267, in schedule\n",
      "    self._event_pipe.send(b\"\")\n",
      "  File \"/home/krystian/Python/VENVS/jupyter310/lib/python3.10/site-packages/zmq/sugar/socket.py\", line 701, in send\n",
      "    return super().send(data, flags=flags, copy=copy, track=track)\n",
      "  File \"_zmq.py\", line 1092, in zmq.backend.cython._zmq.Socket.send\n",
      "  File \"_zmq.py\", line 1134, in zmq.backend.cython._zmq.Socket.send\n",
      "  File \"_zmq.py\", line 1209, in zmq.backend.cython._zmq._check_closed\n",
      "zmq.error.ZMQError: Socket operation on non-socket\n",
      "Call stack:\n",
      "  File \"/usr/lib/python3.10/threading.py\", line 973, in _bootstrap\n",
      "    self._bootstrap_inner()\n",
      "  File \"/usr/lib/python3.10/threading.py\", line 1016, in _bootstrap_inner\n",
      "    self.run()\n",
      "  File \"/home/krystian/Python/VENVS/jupyter310/lib/python3.10/site-packages/ipykernel/ipkernel.py\", line 766, in run_closure\n",
      "    _threading_Thread_run(self)\n",
      "  File \"/usr/lib/python3.10/threading.py\", line 953, in run\n",
      "    self._target(*self._args, **self._kwargs)\n",
      "  File \"/usr/lib/python3.10/concurrent/futures/thread.py\", line 83, in _worker\n",
      "    work_item.run()\n",
      "  File \"/usr/lib/python3.10/concurrent/futures/thread.py\", line 58, in run\n",
      "    result = self.fn(*self.args, **self.kwargs)\n",
      "  File \"/home/krystian/Python/Jupyter-projects/thesis/songs_analysis/classes/playlist.py\", line 161, in _download_and_process_song\n",
      "    LOGGER.error(f\"Error processing a song: {e}\")\n",
      "  File \"/home/krystian/Python/Jupyter-projects/thesis/songs_analysis/classes/playlist.py\", line 184, in _process_single_song\n",
      "    \"\"\"Processes a single song by fetching Spotify features, lyrics, and downloading audio.\n",
      "  File \"/home/krystian/Python/Jupyter-projects/thesis/songs_analysis/classes/playlist.py\", line 218, in _fetch_spotify_features\n",
      "    instrumentalness=features.get('instrumentalness'),\n",
      "Message: 'Fetched Spotify audio features for two years by rosé'\n",
      "Arguments: ()\n",
      "ERROR: [youtube] lktucPDH5IY: Sign in to confirm you’re not a bot. This helps protect our community. Learn more\n",
      "Failed to download from YouTube URL 'https://www.youtube.com/watch?v=lktucPDH5IY&pp=ygURcm9zw6kgLSB0d28geWVhcnM%3D': Socket operation on non-socket\n",
      "--- Logging error ---\n",
      "Traceback (most recent call last):\n",
      "  File \"/home/krystian/Python/VENVS/jupyter310/lib/python3.10/site-packages/yt_dlp/YoutubeDL.py\", line 1626, in wrapper\n",
      "    return func(self, *args, **kwargs)\n",
      "  File \"/home/krystian/Python/VENVS/jupyter310/lib/python3.10/site-packages/yt_dlp/YoutubeDL.py\", line 1761, in __extract_info\n",
      "    ie_result = ie.extract(url)\n",
      "  File \"/home/krystian/Python/VENVS/jupyter310/lib/python3.10/site-packages/yt_dlp/extractor/common.py\", line 740, in extract\n",
      "    ie_result = self._real_extract(url)\n",
      "  File \"/home/krystian/Python/VENVS/jupyter310/lib/python3.10/site-packages/yt_dlp/extractor/youtube.py\", line 4358, in _real_extract\n",
      "    self.raise_no_formats(reason, expected=True)\n",
      "  File \"/home/krystian/Python/VENVS/jupyter310/lib/python3.10/site-packages/yt_dlp/extractor/common.py\", line 1263, in raise_no_formats\n",
      "    raise ExtractorError(msg, expected=expected, video_id=video_id)\n",
      "yt_dlp.utils.ExtractorError: [youtube] lktucPDH5IY: Sign in to confirm you’re not a bot. This helps protect our community. Learn more\n",
      "\n",
      "During handling of the above exception, another exception occurred:\n",
      "\n",
      "Traceback (most recent call last):\n",
      "  File \"/home/krystian/Python/Jupyter-projects/thesis/songs_analysis/classes/youtube_downloader.py\", line 64, in download_audio\n",
      "    ydl.download([url])\n",
      "  File \"/home/krystian/Python/VENVS/jupyter310/lib/python3.10/site-packages/yt_dlp/YoutubeDL.py\", line 3607, in download\n",
      "    self.__download_wrapper(self.extract_info)(\n",
      "  File \"/home/krystian/Python/VENVS/jupyter310/lib/python3.10/site-packages/yt_dlp/YoutubeDL.py\", line 3582, in wrapper\n",
      "    res = func(*args, **kwargs)\n",
      "  File \"/home/krystian/Python/VENVS/jupyter310/lib/python3.10/site-packages/yt_dlp/YoutubeDL.py\", line 1615, in extract_info\n",
      "    return self.__extract_info(url, self.get_info_extractor(key), download, extra_info, process)\n",
      "  File \"/home/krystian/Python/VENVS/jupyter310/lib/python3.10/site-packages/yt_dlp/YoutubeDL.py\", line 1644, in wrapper\n",
      "    self.report_error(str(e), e.format_traceback())\n",
      "  File \"/home/krystian/Python/VENVS/jupyter310/lib/python3.10/site-packages/yt_dlp/YoutubeDL.py\", line 1092, in report_error\n",
      "    self.trouble(f'{self._format_err(\"ERROR:\", self.Styles.ERROR)} {message}', *args, **kwargs)\n",
      "  File \"/home/krystian/Python/VENVS/jupyter310/lib/python3.10/site-packages/yt_dlp/YoutubeDL.py\", line 1011, in trouble\n",
      "    self.to_stderr(message)\n",
      "  File \"/home/krystian/Python/VENVS/jupyter310/lib/python3.10/site-packages/yt_dlp/YoutubeDL.py\", line 953, in to_stderr\n",
      "    self._write_string(f'{self._bidi_workaround(message)}\\n', self._out_files.error, only_once=only_once)\n",
      "  File \"/home/krystian/Python/VENVS/jupyter310/lib/python3.10/site-packages/yt_dlp/YoutubeDL.py\", line 924, in _write_string\n",
      "    write_string(message, out=out, encoding=self.params.get('encoding'))\n",
      "  File \"/home/krystian/Python/VENVS/jupyter310/lib/python3.10/site-packages/yt_dlp/utils/_utils.py\", line 1442, in write_string\n",
      "    out.flush()\n",
      "  File \"/home/krystian/Python/VENVS/jupyter310/lib/python3.10/site-packages/ipykernel/iostream.py\", line 604, in flush\n",
      "    self.pub_thread.schedule(self._flush)\n",
      "  File \"/home/krystian/Python/VENVS/jupyter310/lib/python3.10/site-packages/ipykernel/iostream.py\", line 267, in schedule\n",
      "    self._event_pipe.send(b\"\")\n",
      "  File \"/home/krystian/Python/VENVS/jupyter310/lib/python3.10/site-packages/zmq/sugar/socket.py\", line 701, in send\n",
      "    return super().send(data, flags=flags, copy=copy, track=track)\n",
      "  File \"_zmq.py\", line 1092, in zmq.backend.cython._zmq.Socket.send\n",
      "  File \"_zmq.py\", line 1134, in zmq.backend.cython._zmq.Socket.send\n",
      "  File \"_zmq.py\", line 1209, in zmq.backend.cython._zmq._check_closed\n",
      "zmq.error.ZMQError: Socket operation on non-socket\n",
      "\n",
      "During handling of the above exception, another exception occurred:\n",
      "\n",
      "Traceback (most recent call last):\n",
      "  File \"/usr/lib/python3.10/logging/__init__.py\", line 1104, in emit\n",
      "    self.flush()\n",
      "  File \"/usr/lib/python3.10/logging/__init__.py\", line 1084, in flush\n",
      "    self.stream.flush()\n",
      "  File \"/home/krystian/Python/VENVS/jupyter310/lib/python3.10/site-packages/ipykernel/iostream.py\", line 604, in flush\n",
      "    self.pub_thread.schedule(self._flush)\n",
      "  File \"/home/krystian/Python/VENVS/jupyter310/lib/python3.10/site-packages/ipykernel/iostream.py\", line 267, in schedule\n",
      "    self._event_pipe.send(b\"\")\n",
      "  File \"/home/krystian/Python/VENVS/jupyter310/lib/python3.10/site-packages/zmq/sugar/socket.py\", line 701, in send\n",
      "    return super().send(data, flags=flags, copy=copy, track=track)\n",
      "  File \"_zmq.py\", line 1092, in zmq.backend.cython._zmq.Socket.send\n",
      "  File \"_zmq.py\", line 1134, in zmq.backend.cython._zmq.Socket.send\n",
      "  File \"_zmq.py\", line 1209, in zmq.backend.cython._zmq._check_closed\n",
      "zmq.error.ZMQError: Socket operation on non-socket\n",
      "Call stack:\n",
      "  File \"/usr/lib/python3.10/threading.py\", line 973, in _bootstrap\n",
      "    self._bootstrap_inner()\n",
      "  File \"/usr/lib/python3.10/threading.py\", line 1016, in _bootstrap_inner\n",
      "    self.run()\n",
      "  File \"/home/krystian/Python/VENVS/jupyter310/lib/python3.10/site-packages/ipykernel/ipkernel.py\", line 766, in run_closure\n",
      "    _threading_Thread_run(self)\n",
      "  File \"/usr/lib/python3.10/threading.py\", line 953, in run\n",
      "    self._target(*self._args, **self._kwargs)\n",
      "  File \"/usr/lib/python3.10/concurrent/futures/thread.py\", line 83, in _worker\n",
      "    work_item.run()\n",
      "  File \"/usr/lib/python3.10/concurrent/futures/thread.py\", line 58, in run\n",
      "    result = self.fn(*self.args, **self.kwargs)\n",
      "  File \"/home/krystian/Python/Jupyter-projects/thesis/songs_analysis/classes/playlist.py\", line 161, in _download_and_process_song\n",
      "    LOGGER.error(f\"Error processing a song: {e}\")\n",
      "  File \"/home/krystian/Python/Jupyter-projects/thesis/songs_analysis/classes/playlist.py\", line 189, in _process_single_song\n",
      "    \"\"\"\n",
      "  File \"/home/krystian/Python/Jupyter-projects/thesis/songs_analysis/classes/playlist.py\", line 246, in _download_song\n",
      "    song.mp3_path = mp3_file_path  # Set the absolute path in the Song instance\n",
      "  File \"/home/krystian/Python/Jupyter-projects/thesis/songs_analysis/classes/youtube_downloader.py\", line 68, in download_audio\n",
      "    LOGGER.error(f\"Failed to download from YouTube URL '{url}': {e}\")\n",
      "Message: \"Failed to download from YouTube URL 'https://www.youtube.com/watch?v=lktucPDH5IY&pp=ygURcm9zw6kgLSB0d28geWVhcnM%3D': Socket operation on non-socket\"\n",
      "Arguments: ()\n",
      "\u001b[1;33mWARNING: Failed to download song: two years\u001b[0m\n",
      "--- Logging error ---\n",
      "Traceback (most recent call last):\n",
      "  File \"/usr/lib/python3.10/logging/__init__.py\", line 1104, in emit\n",
      "    self.flush()\n",
      "  File \"/usr/lib/python3.10/logging/__init__.py\", line 1084, in flush\n",
      "    self.stream.flush()\n",
      "  File \"/home/krystian/Python/VENVS/jupyter310/lib/python3.10/site-packages/ipykernel/iostream.py\", line 604, in flush\n",
      "    self.pub_thread.schedule(self._flush)\n",
      "  File \"/home/krystian/Python/VENVS/jupyter310/lib/python3.10/site-packages/ipykernel/iostream.py\", line 267, in schedule\n",
      "    self._event_pipe.send(b\"\")\n",
      "  File \"/home/krystian/Python/VENVS/jupyter310/lib/python3.10/site-packages/zmq/sugar/socket.py\", line 701, in send\n",
      "    return super().send(data, flags=flags, copy=copy, track=track)\n",
      "  File \"_zmq.py\", line 1092, in zmq.backend.cython._zmq.Socket.send\n",
      "  File \"_zmq.py\", line 1134, in zmq.backend.cython._zmq.Socket.send\n",
      "  File \"_zmq.py\", line 1209, in zmq.backend.cython._zmq._check_closed\n",
      "zmq.error.ZMQError: Socket operation on non-socket\n",
      "Call stack:\n",
      "  File \"/usr/lib/python3.10/threading.py\", line 973, in _bootstrap\n",
      "    self._bootstrap_inner()\n",
      "  File \"/usr/lib/python3.10/threading.py\", line 1016, in _bootstrap_inner\n",
      "    self.run()\n",
      "  File \"/home/krystian/Python/VENVS/jupyter310/lib/python3.10/site-packages/ipykernel/ipkernel.py\", line 766, in run_closure\n",
      "    _threading_Thread_run(self)\n",
      "  File \"/usr/lib/python3.10/threading.py\", line 953, in run\n",
      "    self._target(*self._args, **self._kwargs)\n",
      "  File \"/usr/lib/python3.10/concurrent/futures/thread.py\", line 83, in _worker\n",
      "    work_item.run()\n",
      "  File \"/usr/lib/python3.10/concurrent/futures/thread.py\", line 58, in run\n",
      "    result = self.fn(*self.args, **self.kwargs)\n",
      "  File \"/home/krystian/Python/Jupyter-projects/thesis/songs_analysis/classes/playlist.py\", line 161, in _download_and_process_song\n",
      "    LOGGER.error(f\"Error processing a song: {e}\")\n",
      "  File \"/home/krystian/Python/Jupyter-projects/thesis/songs_analysis/classes/playlist.py\", line 189, in _process_single_song\n",
      "    \"\"\"\n",
      "  File \"/home/krystian/Python/Jupyter-projects/thesis/songs_analysis/classes/playlist.py\", line 252, in _download_song\n",
      "    success = self.youtube_downloader.download_audio(best_url, mp3_file_path.rsplit('.mp3', 1)[0])  # Download without .mp3\n",
      "Message: 'Failed to download song: two years'\n",
      "Arguments: ()\n",
      "--- Logging error ---\n",
      "Traceback (most recent call last):\n",
      "  File \"/usr/lib/python3.10/logging/__init__.py\", line 1104, in emit\n",
      "    self.flush()\n",
      "  File \"/usr/lib/python3.10/logging/__init__.py\", line 1084, in flush\n",
      "    self.stream.flush()\n",
      "  File \"/home/krystian/Python/VENVS/jupyter310/lib/python3.10/site-packages/ipykernel/iostream.py\", line 604, in flush\n",
      "    self.pub_thread.schedule(self._flush)\n",
      "  File \"/home/krystian/Python/VENVS/jupyter310/lib/python3.10/site-packages/ipykernel/iostream.py\", line 267, in schedule\n",
      "    self._event_pipe.send(b\"\")\n",
      "  File \"/home/krystian/Python/VENVS/jupyter310/lib/python3.10/site-packages/zmq/sugar/socket.py\", line 701, in send\n",
      "    return super().send(data, flags=flags, copy=copy, track=track)\n",
      "  File \"_zmq.py\", line 1092, in zmq.backend.cython._zmq.Socket.send\n",
      "  File \"_zmq.py\", line 1134, in zmq.backend.cython._zmq.Socket.send\n",
      "  File \"_zmq.py\", line 1209, in zmq.backend.cython._zmq._check_closed\n",
      "zmq.error.ZMQError: Socket operation on non-socket\n",
      "Call stack:\n",
      "  File \"/usr/lib/python3.10/threading.py\", line 973, in _bootstrap\n",
      "    self._bootstrap_inner()\n",
      "  File \"/usr/lib/python3.10/threading.py\", line 1016, in _bootstrap_inner\n",
      "    self.run()\n",
      "  File \"/home/krystian/Python/VENVS/jupyter310/lib/python3.10/site-packages/ipykernel/ipkernel.py\", line 766, in run_closure\n",
      "    _threading_Thread_run(self)\n",
      "  File \"/usr/lib/python3.10/threading.py\", line 953, in run\n",
      "    self._target(*self._args, **self._kwargs)\n",
      "  File \"/usr/lib/python3.10/concurrent/futures/thread.py\", line 83, in _worker\n",
      "    work_item.run()\n",
      "  File \"/usr/lib/python3.10/concurrent/futures/thread.py\", line 58, in run\n",
      "    result = self.fn(*self.args, **self.kwargs)\n",
      "  File \"/home/krystian/Python/Jupyter-projects/thesis/songs_analysis/classes/playlist.py\", line 161, in _download_and_process_song\n",
      "    LOGGER.error(f\"Error processing a song: {e}\")\n",
      "  File \"/home/krystian/Python/Jupyter-projects/thesis/songs_analysis/classes/playlist.py\", line 184, in _process_single_song\n",
      "    \"\"\"Processes a single song by fetching Spotify features, lyrics, and downloading audio.\n",
      "  File \"/home/krystian/Python/Jupyter-projects/thesis/songs_analysis/classes/playlist.py\", line 218, in _fetch_spotify_features\n",
      "    instrumentalness=features.get('instrumentalness'),\n",
      "Message: 'Fetched Spotify audio features for toxic till the end by rosé'\n",
      "Arguments: ()\n",
      "ERROR: [youtube] eA0lHNZ1KCA: Sign in to confirm you’re not a bot. This helps protect our community. Learn more\n",
      "Failed to download from YouTube URL 'https://www.youtube.com/watch?v=eA0lHNZ1KCA&pp=ygUacm9zw6kgLSB0b3hpYyB0aWxsIHRoZSBlbmQ%3D': Socket operation on non-socket\n",
      "--- Logging error ---\n",
      "Traceback (most recent call last):\n",
      "  File \"/home/krystian/Python/VENVS/jupyter310/lib/python3.10/site-packages/yt_dlp/YoutubeDL.py\", line 1626, in wrapper\n",
      "    return func(self, *args, **kwargs)\n",
      "  File \"/home/krystian/Python/VENVS/jupyter310/lib/python3.10/site-packages/yt_dlp/YoutubeDL.py\", line 1761, in __extract_info\n",
      "    ie_result = ie.extract(url)\n",
      "  File \"/home/krystian/Python/VENVS/jupyter310/lib/python3.10/site-packages/yt_dlp/extractor/common.py\", line 740, in extract\n",
      "    ie_result = self._real_extract(url)\n",
      "  File \"/home/krystian/Python/VENVS/jupyter310/lib/python3.10/site-packages/yt_dlp/extractor/youtube.py\", line 4358, in _real_extract\n",
      "    self.raise_no_formats(reason, expected=True)\n",
      "  File \"/home/krystian/Python/VENVS/jupyter310/lib/python3.10/site-packages/yt_dlp/extractor/common.py\", line 1263, in raise_no_formats\n",
      "    raise ExtractorError(msg, expected=expected, video_id=video_id)\n",
      "yt_dlp.utils.ExtractorError: [youtube] eA0lHNZ1KCA: Sign in to confirm you’re not a bot. This helps protect our community. Learn more\n",
      "\n",
      "During handling of the above exception, another exception occurred:\n",
      "\n",
      "Traceback (most recent call last):\n",
      "  File \"/home/krystian/Python/Jupyter-projects/thesis/songs_analysis/classes/youtube_downloader.py\", line 64, in download_audio\n",
      "    ydl.download([url])\n",
      "  File \"/home/krystian/Python/VENVS/jupyter310/lib/python3.10/site-packages/yt_dlp/YoutubeDL.py\", line 3607, in download\n",
      "    self.__download_wrapper(self.extract_info)(\n",
      "  File \"/home/krystian/Python/VENVS/jupyter310/lib/python3.10/site-packages/yt_dlp/YoutubeDL.py\", line 3582, in wrapper\n",
      "    res = func(*args, **kwargs)\n",
      "  File \"/home/krystian/Python/VENVS/jupyter310/lib/python3.10/site-packages/yt_dlp/YoutubeDL.py\", line 1615, in extract_info\n",
      "    return self.__extract_info(url, self.get_info_extractor(key), download, extra_info, process)\n",
      "  File \"/home/krystian/Python/VENVS/jupyter310/lib/python3.10/site-packages/yt_dlp/YoutubeDL.py\", line 1644, in wrapper\n",
      "    self.report_error(str(e), e.format_traceback())\n",
      "  File \"/home/krystian/Python/VENVS/jupyter310/lib/python3.10/site-packages/yt_dlp/YoutubeDL.py\", line 1092, in report_error\n",
      "    self.trouble(f'{self._format_err(\"ERROR:\", self.Styles.ERROR)} {message}', *args, **kwargs)\n",
      "  File \"/home/krystian/Python/VENVS/jupyter310/lib/python3.10/site-packages/yt_dlp/YoutubeDL.py\", line 1011, in trouble\n",
      "    self.to_stderr(message)\n",
      "  File \"/home/krystian/Python/VENVS/jupyter310/lib/python3.10/site-packages/yt_dlp/YoutubeDL.py\", line 953, in to_stderr\n",
      "    self._write_string(f'{self._bidi_workaround(message)}\\n', self._out_files.error, only_once=only_once)\n",
      "  File \"/home/krystian/Python/VENVS/jupyter310/lib/python3.10/site-packages/yt_dlp/YoutubeDL.py\", line 924, in _write_string\n",
      "    write_string(message, out=out, encoding=self.params.get('encoding'))\n",
      "  File \"/home/krystian/Python/VENVS/jupyter310/lib/python3.10/site-packages/yt_dlp/utils/_utils.py\", line 1442, in write_string\n",
      "    out.flush()\n",
      "  File \"/home/krystian/Python/VENVS/jupyter310/lib/python3.10/site-packages/ipykernel/iostream.py\", line 604, in flush\n",
      "    self.pub_thread.schedule(self._flush)\n",
      "  File \"/home/krystian/Python/VENVS/jupyter310/lib/python3.10/site-packages/ipykernel/iostream.py\", line 267, in schedule\n",
      "    self._event_pipe.send(b\"\")\n",
      "  File \"/home/krystian/Python/VENVS/jupyter310/lib/python3.10/site-packages/zmq/sugar/socket.py\", line 701, in send\n",
      "    return super().send(data, flags=flags, copy=copy, track=track)\n",
      "  File \"_zmq.py\", line 1092, in zmq.backend.cython._zmq.Socket.send\n",
      "  File \"_zmq.py\", line 1134, in zmq.backend.cython._zmq.Socket.send\n",
      "  File \"_zmq.py\", line 1209, in zmq.backend.cython._zmq._check_closed\n",
      "zmq.error.ZMQError: Socket operation on non-socket\n",
      "\n",
      "During handling of the above exception, another exception occurred:\n",
      "\n",
      "Traceback (most recent call last):\n",
      "  File \"/usr/lib/python3.10/logging/__init__.py\", line 1104, in emit\n",
      "    self.flush()\n",
      "  File \"/usr/lib/python3.10/logging/__init__.py\", line 1084, in flush\n",
      "    self.stream.flush()\n",
      "  File \"/home/krystian/Python/VENVS/jupyter310/lib/python3.10/site-packages/ipykernel/iostream.py\", line 604, in flush\n",
      "    self.pub_thread.schedule(self._flush)\n",
      "  File \"/home/krystian/Python/VENVS/jupyter310/lib/python3.10/site-packages/ipykernel/iostream.py\", line 267, in schedule\n",
      "    self._event_pipe.send(b\"\")\n",
      "  File \"/home/krystian/Python/VENVS/jupyter310/lib/python3.10/site-packages/zmq/sugar/socket.py\", line 701, in send\n",
      "    return super().send(data, flags=flags, copy=copy, track=track)\n",
      "  File \"_zmq.py\", line 1092, in zmq.backend.cython._zmq.Socket.send\n",
      "  File \"_zmq.py\", line 1134, in zmq.backend.cython._zmq.Socket.send\n",
      "  File \"_zmq.py\", line 1209, in zmq.backend.cython._zmq._check_closed\n",
      "zmq.error.ZMQError: Socket operation on non-socket\n",
      "Call stack:\n",
      "  File \"/usr/lib/python3.10/threading.py\", line 973, in _bootstrap\n",
      "    self._bootstrap_inner()\n",
      "  File \"/usr/lib/python3.10/threading.py\", line 1016, in _bootstrap_inner\n",
      "    self.run()\n",
      "  File \"/home/krystian/Python/VENVS/jupyter310/lib/python3.10/site-packages/ipykernel/ipkernel.py\", line 766, in run_closure\n",
      "    _threading_Thread_run(self)\n",
      "  File \"/usr/lib/python3.10/threading.py\", line 953, in run\n",
      "    self._target(*self._args, **self._kwargs)\n",
      "  File \"/usr/lib/python3.10/concurrent/futures/thread.py\", line 83, in _worker\n",
      "    work_item.run()\n",
      "  File \"/usr/lib/python3.10/concurrent/futures/thread.py\", line 58, in run\n",
      "    result = self.fn(*self.args, **self.kwargs)\n",
      "  File \"/home/krystian/Python/Jupyter-projects/thesis/songs_analysis/classes/playlist.py\", line 161, in _download_and_process_song\n",
      "    LOGGER.error(f\"Error processing a song: {e}\")\n",
      "  File \"/home/krystian/Python/Jupyter-projects/thesis/songs_analysis/classes/playlist.py\", line 189, in _process_single_song\n",
      "    \"\"\"\n",
      "  File \"/home/krystian/Python/Jupyter-projects/thesis/songs_analysis/classes/playlist.py\", line 246, in _download_song\n",
      "    song.mp3_path = mp3_file_path  # Set the absolute path in the Song instance\n",
      "  File \"/home/krystian/Python/Jupyter-projects/thesis/songs_analysis/classes/youtube_downloader.py\", line 68, in download_audio\n",
      "    LOGGER.error(f\"Failed to download from YouTube URL '{url}': {e}\")\n",
      "Message: \"Failed to download from YouTube URL 'https://www.youtube.com/watch?v=eA0lHNZ1KCA&pp=ygUacm9zw6kgLSB0b3hpYyB0aWxsIHRoZSBlbmQ%3D': Socket operation on non-socket\"\n",
      "Arguments: ()\n",
      "\u001b[1;33mWARNING: Failed to download song: toxic till the end\u001b[0m\n",
      "--- Logging error ---\n",
      "Traceback (most recent call last):\n",
      "  File \"/usr/lib/python3.10/logging/__init__.py\", line 1104, in emit\n",
      "    self.flush()\n",
      "  File \"/usr/lib/python3.10/logging/__init__.py\", line 1084, in flush\n",
      "    self.stream.flush()\n",
      "  File \"/home/krystian/Python/VENVS/jupyter310/lib/python3.10/site-packages/ipykernel/iostream.py\", line 604, in flush\n",
      "    self.pub_thread.schedule(self._flush)\n",
      "  File \"/home/krystian/Python/VENVS/jupyter310/lib/python3.10/site-packages/ipykernel/iostream.py\", line 267, in schedule\n",
      "    self._event_pipe.send(b\"\")\n",
      "  File \"/home/krystian/Python/VENVS/jupyter310/lib/python3.10/site-packages/zmq/sugar/socket.py\", line 701, in send\n",
      "    return super().send(data, flags=flags, copy=copy, track=track)\n",
      "  File \"_zmq.py\", line 1092, in zmq.backend.cython._zmq.Socket.send\n",
      "  File \"_zmq.py\", line 1134, in zmq.backend.cython._zmq.Socket.send\n",
      "  File \"_zmq.py\", line 1209, in zmq.backend.cython._zmq._check_closed\n",
      "zmq.error.ZMQError: Socket operation on non-socket\n",
      "Call stack:\n",
      "  File \"/usr/lib/python3.10/threading.py\", line 973, in _bootstrap\n",
      "    self._bootstrap_inner()\n",
      "  File \"/usr/lib/python3.10/threading.py\", line 1016, in _bootstrap_inner\n",
      "    self.run()\n",
      "  File \"/home/krystian/Python/VENVS/jupyter310/lib/python3.10/site-packages/ipykernel/ipkernel.py\", line 766, in run_closure\n",
      "    _threading_Thread_run(self)\n",
      "  File \"/usr/lib/python3.10/threading.py\", line 953, in run\n",
      "    self._target(*self._args, **self._kwargs)\n",
      "  File \"/usr/lib/python3.10/concurrent/futures/thread.py\", line 83, in _worker\n",
      "    work_item.run()\n",
      "  File \"/usr/lib/python3.10/concurrent/futures/thread.py\", line 58, in run\n",
      "    result = self.fn(*self.args, **self.kwargs)\n",
      "  File \"/home/krystian/Python/Jupyter-projects/thesis/songs_analysis/classes/playlist.py\", line 161, in _download_and_process_song\n",
      "    LOGGER.error(f\"Error processing a song: {e}\")\n",
      "  File \"/home/krystian/Python/Jupyter-projects/thesis/songs_analysis/classes/playlist.py\", line 189, in _process_single_song\n",
      "    \"\"\"\n",
      "  File \"/home/krystian/Python/Jupyter-projects/thesis/songs_analysis/classes/playlist.py\", line 252, in _download_song\n",
      "    success = self.youtube_downloader.download_audio(best_url, mp3_file_path.rsplit('.mp3', 1)[0])  # Download without .mp3\n",
      "Message: 'Failed to download song: toxic till the end'\n",
      "Arguments: ()\n",
      "--- Logging error ---\n",
      "Traceback (most recent call last):\n",
      "  File \"/usr/lib/python3.10/logging/__init__.py\", line 1104, in emit\n",
      "    self.flush()\n",
      "  File \"/usr/lib/python3.10/logging/__init__.py\", line 1084, in flush\n",
      "    self.stream.flush()\n",
      "  File \"/home/krystian/Python/VENVS/jupyter310/lib/python3.10/site-packages/ipykernel/iostream.py\", line 604, in flush\n",
      "    self.pub_thread.schedule(self._flush)\n",
      "  File \"/home/krystian/Python/VENVS/jupyter310/lib/python3.10/site-packages/ipykernel/iostream.py\", line 267, in schedule\n",
      "    self._event_pipe.send(b\"\")\n",
      "  File \"/home/krystian/Python/VENVS/jupyter310/lib/python3.10/site-packages/zmq/sugar/socket.py\", line 701, in send\n",
      "    return super().send(data, flags=flags, copy=copy, track=track)\n",
      "  File \"_zmq.py\", line 1092, in zmq.backend.cython._zmq.Socket.send\n",
      "  File \"_zmq.py\", line 1134, in zmq.backend.cython._zmq.Socket.send\n",
      "  File \"_zmq.py\", line 1209, in zmq.backend.cython._zmq._check_closed\n",
      "zmq.error.ZMQError: Socket operation on non-socket\n",
      "Call stack:\n",
      "  File \"/usr/lib/python3.10/threading.py\", line 973, in _bootstrap\n",
      "    self._bootstrap_inner()\n",
      "  File \"/usr/lib/python3.10/threading.py\", line 1016, in _bootstrap_inner\n",
      "    self.run()\n",
      "  File \"/home/krystian/Python/VENVS/jupyter310/lib/python3.10/site-packages/ipykernel/ipkernel.py\", line 766, in run_closure\n",
      "    _threading_Thread_run(self)\n",
      "  File \"/usr/lib/python3.10/threading.py\", line 953, in run\n",
      "    self._target(*self._args, **self._kwargs)\n",
      "  File \"/usr/lib/python3.10/concurrent/futures/thread.py\", line 83, in _worker\n",
      "    work_item.run()\n",
      "  File \"/usr/lib/python3.10/concurrent/futures/thread.py\", line 58, in run\n",
      "    result = self.fn(*self.args, **self.kwargs)\n",
      "  File \"/home/krystian/Python/Jupyter-projects/thesis/songs_analysis/classes/playlist.py\", line 161, in _download_and_process_song\n",
      "    LOGGER.error(f\"Error processing a song: {e}\")\n",
      "  File \"/home/krystian/Python/Jupyter-projects/thesis/songs_analysis/classes/playlist.py\", line 184, in _process_single_song\n",
      "    \"\"\"Processes a single song by fetching Spotify features, lyrics, and downloading audio.\n",
      "  File \"/home/krystian/Python/Jupyter-projects/thesis/songs_analysis/classes/playlist.py\", line 218, in _fetch_spotify_features\n",
      "    instrumentalness=features.get('instrumentalness'),\n",
      "Message: 'Fetched Spotify audio features for drinks or coffee by rosé'\n",
      "Arguments: ()\n",
      "ERROR: [youtube] PFDO5OZO61Y: Sign in to confirm you’re not a bot. This helps protect our community. Learn more\n",
      "Failed to download from YouTube URL 'https://www.youtube.com/watch?v=PFDO5OZO61Y&pp=ygUYcm9zw6kgLSBkcmlua3Mgb3IgY29mZmVl': Socket operation on non-socket\n",
      "--- Logging error ---\n",
      "Traceback (most recent call last):\n",
      "  File \"/home/krystian/Python/VENVS/jupyter310/lib/python3.10/site-packages/yt_dlp/YoutubeDL.py\", line 1626, in wrapper\n",
      "    return func(self, *args, **kwargs)\n",
      "  File \"/home/krystian/Python/VENVS/jupyter310/lib/python3.10/site-packages/yt_dlp/YoutubeDL.py\", line 1761, in __extract_info\n",
      "    ie_result = ie.extract(url)\n",
      "  File \"/home/krystian/Python/VENVS/jupyter310/lib/python3.10/site-packages/yt_dlp/extractor/common.py\", line 740, in extract\n",
      "    ie_result = self._real_extract(url)\n",
      "  File \"/home/krystian/Python/VENVS/jupyter310/lib/python3.10/site-packages/yt_dlp/extractor/youtube.py\", line 4358, in _real_extract\n",
      "    self.raise_no_formats(reason, expected=True)\n",
      "  File \"/home/krystian/Python/VENVS/jupyter310/lib/python3.10/site-packages/yt_dlp/extractor/common.py\", line 1263, in raise_no_formats\n",
      "    raise ExtractorError(msg, expected=expected, video_id=video_id)\n",
      "yt_dlp.utils.ExtractorError: [youtube] PFDO5OZO61Y: Sign in to confirm you’re not a bot. This helps protect our community. Learn more\n",
      "\n",
      "During handling of the above exception, another exception occurred:\n",
      "\n",
      "Traceback (most recent call last):\n",
      "  File \"/home/krystian/Python/Jupyter-projects/thesis/songs_analysis/classes/youtube_downloader.py\", line 64, in download_audio\n",
      "    ydl.download([url])\n",
      "  File \"/home/krystian/Python/VENVS/jupyter310/lib/python3.10/site-packages/yt_dlp/YoutubeDL.py\", line 3607, in download\n",
      "    self.__download_wrapper(self.extract_info)(\n",
      "  File \"/home/krystian/Python/VENVS/jupyter310/lib/python3.10/site-packages/yt_dlp/YoutubeDL.py\", line 3582, in wrapper\n",
      "    res = func(*args, **kwargs)\n",
      "  File \"/home/krystian/Python/VENVS/jupyter310/lib/python3.10/site-packages/yt_dlp/YoutubeDL.py\", line 1615, in extract_info\n",
      "    return self.__extract_info(url, self.get_info_extractor(key), download, extra_info, process)\n",
      "  File \"/home/krystian/Python/VENVS/jupyter310/lib/python3.10/site-packages/yt_dlp/YoutubeDL.py\", line 1644, in wrapper\n",
      "    self.report_error(str(e), e.format_traceback())\n",
      "  File \"/home/krystian/Python/VENVS/jupyter310/lib/python3.10/site-packages/yt_dlp/YoutubeDL.py\", line 1092, in report_error\n",
      "    self.trouble(f'{self._format_err(\"ERROR:\", self.Styles.ERROR)} {message}', *args, **kwargs)\n",
      "  File \"/home/krystian/Python/VENVS/jupyter310/lib/python3.10/site-packages/yt_dlp/YoutubeDL.py\", line 1011, in trouble\n",
      "    self.to_stderr(message)\n",
      "  File \"/home/krystian/Python/VENVS/jupyter310/lib/python3.10/site-packages/yt_dlp/YoutubeDL.py\", line 953, in to_stderr\n",
      "    self._write_string(f'{self._bidi_workaround(message)}\\n', self._out_files.error, only_once=only_once)\n",
      "  File \"/home/krystian/Python/VENVS/jupyter310/lib/python3.10/site-packages/yt_dlp/YoutubeDL.py\", line 924, in _write_string\n",
      "    write_string(message, out=out, encoding=self.params.get('encoding'))\n",
      "  File \"/home/krystian/Python/VENVS/jupyter310/lib/python3.10/site-packages/yt_dlp/utils/_utils.py\", line 1442, in write_string\n",
      "    out.flush()\n",
      "  File \"/home/krystian/Python/VENVS/jupyter310/lib/python3.10/site-packages/ipykernel/iostream.py\", line 604, in flush\n",
      "    self.pub_thread.schedule(self._flush)\n",
      "  File \"/home/krystian/Python/VENVS/jupyter310/lib/python3.10/site-packages/ipykernel/iostream.py\", line 267, in schedule\n",
      "    self._event_pipe.send(b\"\")\n",
      "  File \"/home/krystian/Python/VENVS/jupyter310/lib/python3.10/site-packages/zmq/sugar/socket.py\", line 701, in send\n",
      "    return super().send(data, flags=flags, copy=copy, track=track)\n",
      "  File \"_zmq.py\", line 1092, in zmq.backend.cython._zmq.Socket.send\n",
      "  File \"_zmq.py\", line 1134, in zmq.backend.cython._zmq.Socket.send\n",
      "  File \"_zmq.py\", line 1209, in zmq.backend.cython._zmq._check_closed\n",
      "zmq.error.ZMQError: Socket operation on non-socket\n",
      "\n",
      "During handling of the above exception, another exception occurred:\n",
      "\n",
      "Traceback (most recent call last):\n",
      "  File \"/usr/lib/python3.10/logging/__init__.py\", line 1104, in emit\n",
      "    self.flush()\n",
      "  File \"/usr/lib/python3.10/logging/__init__.py\", line 1084, in flush\n",
      "    self.stream.flush()\n",
      "  File \"/home/krystian/Python/VENVS/jupyter310/lib/python3.10/site-packages/ipykernel/iostream.py\", line 604, in flush\n",
      "    self.pub_thread.schedule(self._flush)\n",
      "  File \"/home/krystian/Python/VENVS/jupyter310/lib/python3.10/site-packages/ipykernel/iostream.py\", line 267, in schedule\n",
      "    self._event_pipe.send(b\"\")\n",
      "  File \"/home/krystian/Python/VENVS/jupyter310/lib/python3.10/site-packages/zmq/sugar/socket.py\", line 701, in send\n",
      "    return super().send(data, flags=flags, copy=copy, track=track)\n",
      "  File \"_zmq.py\", line 1092, in zmq.backend.cython._zmq.Socket.send\n",
      "  File \"_zmq.py\", line 1134, in zmq.backend.cython._zmq.Socket.send\n",
      "  File \"_zmq.py\", line 1209, in zmq.backend.cython._zmq._check_closed\n",
      "zmq.error.ZMQError: Socket operation on non-socket\n",
      "Call stack:\n",
      "  File \"/usr/lib/python3.10/threading.py\", line 973, in _bootstrap\n",
      "    self._bootstrap_inner()\n",
      "  File \"/usr/lib/python3.10/threading.py\", line 1016, in _bootstrap_inner\n",
      "    self.run()\n",
      "  File \"/home/krystian/Python/VENVS/jupyter310/lib/python3.10/site-packages/ipykernel/ipkernel.py\", line 766, in run_closure\n",
      "    _threading_Thread_run(self)\n",
      "  File \"/usr/lib/python3.10/threading.py\", line 953, in run\n",
      "    self._target(*self._args, **self._kwargs)\n",
      "  File \"/usr/lib/python3.10/concurrent/futures/thread.py\", line 83, in _worker\n",
      "    work_item.run()\n",
      "  File \"/usr/lib/python3.10/concurrent/futures/thread.py\", line 58, in run\n",
      "    result = self.fn(*self.args, **self.kwargs)\n",
      "  File \"/home/krystian/Python/Jupyter-projects/thesis/songs_analysis/classes/playlist.py\", line 161, in _download_and_process_song\n",
      "    LOGGER.error(f\"Error processing a song: {e}\")\n",
      "  File \"/home/krystian/Python/Jupyter-projects/thesis/songs_analysis/classes/playlist.py\", line 189, in _process_single_song\n",
      "    \"\"\"\n",
      "  File \"/home/krystian/Python/Jupyter-projects/thesis/songs_analysis/classes/playlist.py\", line 246, in _download_song\n",
      "    song.mp3_path = mp3_file_path  # Set the absolute path in the Song instance\n",
      "  File \"/home/krystian/Python/Jupyter-projects/thesis/songs_analysis/classes/youtube_downloader.py\", line 68, in download_audio\n",
      "    LOGGER.error(f\"Failed to download from YouTube URL '{url}': {e}\")\n",
      "Message: \"Failed to download from YouTube URL 'https://www.youtube.com/watch?v=PFDO5OZO61Y&pp=ygUYcm9zw6kgLSBkcmlua3Mgb3IgY29mZmVl': Socket operation on non-socket\"\n",
      "Arguments: ()\n",
      "\u001b[1;33mWARNING: Failed to download song: drinks or coffee\u001b[0m\n",
      "--- Logging error ---\n",
      "Traceback (most recent call last):\n",
      "  File \"/usr/lib/python3.10/logging/__init__.py\", line 1104, in emit\n",
      "    self.flush()\n",
      "  File \"/usr/lib/python3.10/logging/__init__.py\", line 1084, in flush\n",
      "    self.stream.flush()\n",
      "  File \"/home/krystian/Python/VENVS/jupyter310/lib/python3.10/site-packages/ipykernel/iostream.py\", line 604, in flush\n",
      "    self.pub_thread.schedule(self._flush)\n",
      "  File \"/home/krystian/Python/VENVS/jupyter310/lib/python3.10/site-packages/ipykernel/iostream.py\", line 267, in schedule\n",
      "    self._event_pipe.send(b\"\")\n",
      "  File \"/home/krystian/Python/VENVS/jupyter310/lib/python3.10/site-packages/zmq/sugar/socket.py\", line 701, in send\n",
      "    return super().send(data, flags=flags, copy=copy, track=track)\n",
      "  File \"_zmq.py\", line 1092, in zmq.backend.cython._zmq.Socket.send\n",
      "  File \"_zmq.py\", line 1134, in zmq.backend.cython._zmq.Socket.send\n",
      "  File \"_zmq.py\", line 1209, in zmq.backend.cython._zmq._check_closed\n",
      "zmq.error.ZMQError: Socket operation on non-socket\n",
      "Call stack:\n",
      "  File \"/usr/lib/python3.10/threading.py\", line 973, in _bootstrap\n",
      "    self._bootstrap_inner()\n",
      "  File \"/usr/lib/python3.10/threading.py\", line 1016, in _bootstrap_inner\n",
      "    self.run()\n",
      "  File \"/home/krystian/Python/VENVS/jupyter310/lib/python3.10/site-packages/ipykernel/ipkernel.py\", line 766, in run_closure\n",
      "    _threading_Thread_run(self)\n",
      "  File \"/usr/lib/python3.10/threading.py\", line 953, in run\n",
      "    self._target(*self._args, **self._kwargs)\n",
      "  File \"/usr/lib/python3.10/concurrent/futures/thread.py\", line 83, in _worker\n",
      "    work_item.run()\n",
      "  File \"/usr/lib/python3.10/concurrent/futures/thread.py\", line 58, in run\n",
      "    result = self.fn(*self.args, **self.kwargs)\n",
      "  File \"/home/krystian/Python/Jupyter-projects/thesis/songs_analysis/classes/playlist.py\", line 161, in _download_and_process_song\n",
      "    LOGGER.error(f\"Error processing a song: {e}\")\n",
      "  File \"/home/krystian/Python/Jupyter-projects/thesis/songs_analysis/classes/playlist.py\", line 189, in _process_single_song\n",
      "    \"\"\"\n",
      "  File \"/home/krystian/Python/Jupyter-projects/thesis/songs_analysis/classes/playlist.py\", line 252, in _download_song\n",
      "    success = self.youtube_downloader.download_audio(best_url, mp3_file_path.rsplit('.mp3', 1)[0])  # Download without .mp3\n",
      "Message: 'Failed to download song: drinks or coffee'\n",
      "Arguments: ()\n",
      "--- Logging error ---\n",
      "Traceback (most recent call last):\n",
      "  File \"/usr/lib/python3.10/logging/__init__.py\", line 1104, in emit\n",
      "    self.flush()\n",
      "  File \"/usr/lib/python3.10/logging/__init__.py\", line 1084, in flush\n",
      "    self.stream.flush()\n",
      "  File \"/home/krystian/Python/VENVS/jupyter310/lib/python3.10/site-packages/ipykernel/iostream.py\", line 604, in flush\n",
      "    self.pub_thread.schedule(self._flush)\n",
      "  File \"/home/krystian/Python/VENVS/jupyter310/lib/python3.10/site-packages/ipykernel/iostream.py\", line 267, in schedule\n",
      "    self._event_pipe.send(b\"\")\n",
      "  File \"/home/krystian/Python/VENVS/jupyter310/lib/python3.10/site-packages/zmq/sugar/socket.py\", line 701, in send\n",
      "    return super().send(data, flags=flags, copy=copy, track=track)\n",
      "  File \"_zmq.py\", line 1092, in zmq.backend.cython._zmq.Socket.send\n",
      "  File \"_zmq.py\", line 1134, in zmq.backend.cython._zmq.Socket.send\n",
      "  File \"_zmq.py\", line 1209, in zmq.backend.cython._zmq._check_closed\n",
      "zmq.error.ZMQError: Socket operation on non-socket\n",
      "Call stack:\n",
      "  File \"/usr/lib/python3.10/threading.py\", line 973, in _bootstrap\n",
      "    self._bootstrap_inner()\n",
      "  File \"/usr/lib/python3.10/threading.py\", line 1016, in _bootstrap_inner\n",
      "    self.run()\n",
      "  File \"/home/krystian/Python/VENVS/jupyter310/lib/python3.10/site-packages/ipykernel/ipkernel.py\", line 766, in run_closure\n",
      "    _threading_Thread_run(self)\n",
      "  File \"/usr/lib/python3.10/threading.py\", line 953, in run\n",
      "    self._target(*self._args, **self._kwargs)\n",
      "  File \"/usr/lib/python3.10/concurrent/futures/thread.py\", line 83, in _worker\n",
      "    work_item.run()\n",
      "  File \"/usr/lib/python3.10/concurrent/futures/thread.py\", line 58, in run\n",
      "    result = self.fn(*self.args, **self.kwargs)\n",
      "  File \"/home/krystian/Python/Jupyter-projects/thesis/songs_analysis/classes/playlist.py\", line 161, in _download_and_process_song\n",
      "    LOGGER.error(f\"Error processing a song: {e}\")\n",
      "  File \"/home/krystian/Python/Jupyter-projects/thesis/songs_analysis/classes/playlist.py\", line 184, in _process_single_song\n",
      "    \"\"\"Processes a single song by fetching Spotify features, lyrics, and downloading audio.\n",
      "  File \"/home/krystian/Python/Jupyter-projects/thesis/songs_analysis/classes/playlist.py\", line 218, in _fetch_spotify_features\n",
      "    instrumentalness=features.get('instrumentalness'),\n",
      "Message: 'Fetched Spotify audio features for gameboy by rosé'\n",
      "Arguments: ()\n",
      "ERROR: [youtube] JwKOLJl5oRM: Sign in to confirm you’re not a bot. This helps protect our community. Learn more\n",
      "Failed to download from YouTube URL 'https://www.youtube.com/watch?v=JwKOLJl5oRM&pp=ygUPcm9zw6kgLSBnYW1lYm95': Socket operation on non-socket\n",
      "--- Logging error ---\n",
      "Traceback (most recent call last):\n",
      "  File \"/home/krystian/Python/VENVS/jupyter310/lib/python3.10/site-packages/yt_dlp/YoutubeDL.py\", line 1626, in wrapper\n",
      "    return func(self, *args, **kwargs)\n",
      "  File \"/home/krystian/Python/VENVS/jupyter310/lib/python3.10/site-packages/yt_dlp/YoutubeDL.py\", line 1761, in __extract_info\n",
      "    ie_result = ie.extract(url)\n",
      "  File \"/home/krystian/Python/VENVS/jupyter310/lib/python3.10/site-packages/yt_dlp/extractor/common.py\", line 740, in extract\n",
      "    ie_result = self._real_extract(url)\n",
      "  File \"/home/krystian/Python/VENVS/jupyter310/lib/python3.10/site-packages/yt_dlp/extractor/youtube.py\", line 4358, in _real_extract\n",
      "    self.raise_no_formats(reason, expected=True)\n",
      "  File \"/home/krystian/Python/VENVS/jupyter310/lib/python3.10/site-packages/yt_dlp/extractor/common.py\", line 1263, in raise_no_formats\n",
      "    raise ExtractorError(msg, expected=expected, video_id=video_id)\n",
      "yt_dlp.utils.ExtractorError: [youtube] JwKOLJl5oRM: Sign in to confirm you’re not a bot. This helps protect our community. Learn more\n",
      "\n",
      "During handling of the above exception, another exception occurred:\n",
      "\n",
      "Traceback (most recent call last):\n",
      "  File \"/home/krystian/Python/Jupyter-projects/thesis/songs_analysis/classes/youtube_downloader.py\", line 64, in download_audio\n",
      "    ydl.download([url])\n",
      "  File \"/home/krystian/Python/VENVS/jupyter310/lib/python3.10/site-packages/yt_dlp/YoutubeDL.py\", line 3607, in download\n",
      "    self.__download_wrapper(self.extract_info)(\n",
      "  File \"/home/krystian/Python/VENVS/jupyter310/lib/python3.10/site-packages/yt_dlp/YoutubeDL.py\", line 3582, in wrapper\n",
      "    res = func(*args, **kwargs)\n",
      "  File \"/home/krystian/Python/VENVS/jupyter310/lib/python3.10/site-packages/yt_dlp/YoutubeDL.py\", line 1615, in extract_info\n",
      "    return self.__extract_info(url, self.get_info_extractor(key), download, extra_info, process)\n",
      "  File \"/home/krystian/Python/VENVS/jupyter310/lib/python3.10/site-packages/yt_dlp/YoutubeDL.py\", line 1644, in wrapper\n",
      "    self.report_error(str(e), e.format_traceback())\n",
      "  File \"/home/krystian/Python/VENVS/jupyter310/lib/python3.10/site-packages/yt_dlp/YoutubeDL.py\", line 1092, in report_error\n",
      "    self.trouble(f'{self._format_err(\"ERROR:\", self.Styles.ERROR)} {message}', *args, **kwargs)\n",
      "  File \"/home/krystian/Python/VENVS/jupyter310/lib/python3.10/site-packages/yt_dlp/YoutubeDL.py\", line 1011, in trouble\n",
      "    self.to_stderr(message)\n",
      "  File \"/home/krystian/Python/VENVS/jupyter310/lib/python3.10/site-packages/yt_dlp/YoutubeDL.py\", line 953, in to_stderr\n",
      "    self._write_string(f'{self._bidi_workaround(message)}\\n', self._out_files.error, only_once=only_once)\n",
      "  File \"/home/krystian/Python/VENVS/jupyter310/lib/python3.10/site-packages/yt_dlp/YoutubeDL.py\", line 924, in _write_string\n",
      "    write_string(message, out=out, encoding=self.params.get('encoding'))\n",
      "  File \"/home/krystian/Python/VENVS/jupyter310/lib/python3.10/site-packages/yt_dlp/utils/_utils.py\", line 1442, in write_string\n",
      "    out.flush()\n",
      "  File \"/home/krystian/Python/VENVS/jupyter310/lib/python3.10/site-packages/ipykernel/iostream.py\", line 604, in flush\n",
      "    self.pub_thread.schedule(self._flush)\n",
      "  File \"/home/krystian/Python/VENVS/jupyter310/lib/python3.10/site-packages/ipykernel/iostream.py\", line 267, in schedule\n",
      "    self._event_pipe.send(b\"\")\n",
      "  File \"/home/krystian/Python/VENVS/jupyter310/lib/python3.10/site-packages/zmq/sugar/socket.py\", line 701, in send\n",
      "    return super().send(data, flags=flags, copy=copy, track=track)\n",
      "  File \"_zmq.py\", line 1092, in zmq.backend.cython._zmq.Socket.send\n",
      "  File \"_zmq.py\", line 1134, in zmq.backend.cython._zmq.Socket.send\n",
      "  File \"_zmq.py\", line 1209, in zmq.backend.cython._zmq._check_closed\n",
      "zmq.error.ZMQError: Socket operation on non-socket\n",
      "\n",
      "During handling of the above exception, another exception occurred:\n",
      "\n",
      "Traceback (most recent call last):\n",
      "  File \"/usr/lib/python3.10/logging/__init__.py\", line 1104, in emit\n",
      "    self.flush()\n",
      "  File \"/usr/lib/python3.10/logging/__init__.py\", line 1084, in flush\n",
      "    self.stream.flush()\n",
      "  File \"/home/krystian/Python/VENVS/jupyter310/lib/python3.10/site-packages/ipykernel/iostream.py\", line 604, in flush\n",
      "    self.pub_thread.schedule(self._flush)\n",
      "  File \"/home/krystian/Python/VENVS/jupyter310/lib/python3.10/site-packages/ipykernel/iostream.py\", line 267, in schedule\n",
      "    self._event_pipe.send(b\"\")\n",
      "  File \"/home/krystian/Python/VENVS/jupyter310/lib/python3.10/site-packages/zmq/sugar/socket.py\", line 701, in send\n",
      "    return super().send(data, flags=flags, copy=copy, track=track)\n",
      "  File \"_zmq.py\", line 1092, in zmq.backend.cython._zmq.Socket.send\n",
      "  File \"_zmq.py\", line 1134, in zmq.backend.cython._zmq.Socket.send\n",
      "  File \"_zmq.py\", line 1209, in zmq.backend.cython._zmq._check_closed\n",
      "zmq.error.ZMQError: Socket operation on non-socket\n",
      "Call stack:\n",
      "  File \"/usr/lib/python3.10/threading.py\", line 973, in _bootstrap\n",
      "    self._bootstrap_inner()\n",
      "  File \"/usr/lib/python3.10/threading.py\", line 1016, in _bootstrap_inner\n",
      "    self.run()\n",
      "  File \"/home/krystian/Python/VENVS/jupyter310/lib/python3.10/site-packages/ipykernel/ipkernel.py\", line 766, in run_closure\n",
      "    _threading_Thread_run(self)\n",
      "  File \"/usr/lib/python3.10/threading.py\", line 953, in run\n",
      "    self._target(*self._args, **self._kwargs)\n",
      "  File \"/usr/lib/python3.10/concurrent/futures/thread.py\", line 83, in _worker\n",
      "    work_item.run()\n",
      "  File \"/usr/lib/python3.10/concurrent/futures/thread.py\", line 58, in run\n",
      "    result = self.fn(*self.args, **self.kwargs)\n",
      "  File \"/home/krystian/Python/Jupyter-projects/thesis/songs_analysis/classes/playlist.py\", line 161, in _download_and_process_song\n",
      "    LOGGER.error(f\"Error processing a song: {e}\")\n",
      "  File \"/home/krystian/Python/Jupyter-projects/thesis/songs_analysis/classes/playlist.py\", line 189, in _process_single_song\n",
      "    \"\"\"\n",
      "  File \"/home/krystian/Python/Jupyter-projects/thesis/songs_analysis/classes/playlist.py\", line 246, in _download_song\n",
      "    song.mp3_path = mp3_file_path  # Set the absolute path in the Song instance\n",
      "  File \"/home/krystian/Python/Jupyter-projects/thesis/songs_analysis/classes/youtube_downloader.py\", line 68, in download_audio\n",
      "    LOGGER.error(f\"Failed to download from YouTube URL '{url}': {e}\")\n",
      "Message: \"Failed to download from YouTube URL 'https://www.youtube.com/watch?v=JwKOLJl5oRM&pp=ygUPcm9zw6kgLSBnYW1lYm95': Socket operation on non-socket\"\n",
      "Arguments: ()\n",
      "\u001b[1;33mWARNING: Failed to download song: gameboy\u001b[0m\n",
      "--- Logging error ---\n",
      "Traceback (most recent call last):\n",
      "  File \"/usr/lib/python3.10/logging/__init__.py\", line 1104, in emit\n",
      "    self.flush()\n",
      "  File \"/usr/lib/python3.10/logging/__init__.py\", line 1084, in flush\n",
      "    self.stream.flush()\n",
      "  File \"/home/krystian/Python/VENVS/jupyter310/lib/python3.10/site-packages/ipykernel/iostream.py\", line 604, in flush\n",
      "    self.pub_thread.schedule(self._flush)\n",
      "  File \"/home/krystian/Python/VENVS/jupyter310/lib/python3.10/site-packages/ipykernel/iostream.py\", line 267, in schedule\n",
      "    self._event_pipe.send(b\"\")\n",
      "  File \"/home/krystian/Python/VENVS/jupyter310/lib/python3.10/site-packages/zmq/sugar/socket.py\", line 701, in send\n",
      "    return super().send(data, flags=flags, copy=copy, track=track)\n",
      "  File \"_zmq.py\", line 1092, in zmq.backend.cython._zmq.Socket.send\n",
      "  File \"_zmq.py\", line 1134, in zmq.backend.cython._zmq.Socket.send\n",
      "  File \"_zmq.py\", line 1209, in zmq.backend.cython._zmq._check_closed\n",
      "zmq.error.ZMQError: Socket operation on non-socket\n",
      "Call stack:\n",
      "  File \"/usr/lib/python3.10/threading.py\", line 973, in _bootstrap\n",
      "    self._bootstrap_inner()\n",
      "  File \"/usr/lib/python3.10/threading.py\", line 1016, in _bootstrap_inner\n",
      "    self.run()\n",
      "  File \"/home/krystian/Python/VENVS/jupyter310/lib/python3.10/site-packages/ipykernel/ipkernel.py\", line 766, in run_closure\n",
      "    _threading_Thread_run(self)\n",
      "  File \"/usr/lib/python3.10/threading.py\", line 953, in run\n",
      "    self._target(*self._args, **self._kwargs)\n",
      "  File \"/usr/lib/python3.10/concurrent/futures/thread.py\", line 83, in _worker\n",
      "    work_item.run()\n",
      "  File \"/usr/lib/python3.10/concurrent/futures/thread.py\", line 58, in run\n",
      "    result = self.fn(*self.args, **self.kwargs)\n",
      "  File \"/home/krystian/Python/Jupyter-projects/thesis/songs_analysis/classes/playlist.py\", line 161, in _download_and_process_song\n",
      "    LOGGER.error(f\"Error processing a song: {e}\")\n",
      "  File \"/home/krystian/Python/Jupyter-projects/thesis/songs_analysis/classes/playlist.py\", line 189, in _process_single_song\n",
      "    \"\"\"\n",
      "  File \"/home/krystian/Python/Jupyter-projects/thesis/songs_analysis/classes/playlist.py\", line 252, in _download_song\n",
      "    success = self.youtube_downloader.download_audio(best_url, mp3_file_path.rsplit('.mp3', 1)[0])  # Download without .mp3\n",
      "Message: 'Failed to download song: gameboy'\n",
      "Arguments: ()\n",
      "--- Logging error ---\n",
      "Traceback (most recent call last):\n",
      "  File \"/usr/lib/python3.10/logging/__init__.py\", line 1104, in emit\n",
      "    self.flush()\n",
      "  File \"/usr/lib/python3.10/logging/__init__.py\", line 1084, in flush\n",
      "    self.stream.flush()\n",
      "  File \"/home/krystian/Python/VENVS/jupyter310/lib/python3.10/site-packages/ipykernel/iostream.py\", line 604, in flush\n",
      "    self.pub_thread.schedule(self._flush)\n",
      "  File \"/home/krystian/Python/VENVS/jupyter310/lib/python3.10/site-packages/ipykernel/iostream.py\", line 267, in schedule\n",
      "    self._event_pipe.send(b\"\")\n",
      "  File \"/home/krystian/Python/VENVS/jupyter310/lib/python3.10/site-packages/zmq/sugar/socket.py\", line 701, in send\n",
      "    return super().send(data, flags=flags, copy=copy, track=track)\n",
      "  File \"_zmq.py\", line 1092, in zmq.backend.cython._zmq.Socket.send\n",
      "  File \"_zmq.py\", line 1134, in zmq.backend.cython._zmq.Socket.send\n",
      "  File \"_zmq.py\", line 1209, in zmq.backend.cython._zmq._check_closed\n",
      "zmq.error.ZMQError: Socket operation on non-socket\n",
      "Call stack:\n",
      "  File \"/usr/lib/python3.10/threading.py\", line 973, in _bootstrap\n",
      "    self._bootstrap_inner()\n",
      "  File \"/usr/lib/python3.10/threading.py\", line 1016, in _bootstrap_inner\n",
      "    self.run()\n",
      "  File \"/home/krystian/Python/VENVS/jupyter310/lib/python3.10/site-packages/ipykernel/ipkernel.py\", line 766, in run_closure\n",
      "    _threading_Thread_run(self)\n",
      "  File \"/usr/lib/python3.10/threading.py\", line 953, in run\n",
      "    self._target(*self._args, **self._kwargs)\n",
      "  File \"/usr/lib/python3.10/concurrent/futures/thread.py\", line 83, in _worker\n",
      "    work_item.run()\n",
      "  File \"/usr/lib/python3.10/concurrent/futures/thread.py\", line 58, in run\n",
      "    result = self.fn(*self.args, **self.kwargs)\n",
      "  File \"/home/krystian/Python/Jupyter-projects/thesis/songs_analysis/classes/playlist.py\", line 161, in _download_and_process_song\n",
      "    LOGGER.error(f\"Error processing a song: {e}\")\n",
      "  File \"/home/krystian/Python/Jupyter-projects/thesis/songs_analysis/classes/playlist.py\", line 184, in _process_single_song\n",
      "    \"\"\"Processes a single song by fetching Spotify features, lyrics, and downloading audio.\n",
      "  File \"/home/krystian/Python/Jupyter-projects/thesis/songs_analysis/classes/playlist.py\", line 218, in _fetch_spotify_features\n",
      "    instrumentalness=features.get('instrumentalness'),\n",
      "Message: 'Fetched Spotify audio features for stay a little longer by rosé'\n",
      "Arguments: ()\n",
      "ERROR: [youtube] vHvOYQ0hbBA: Sign in to confirm you’re not a bot. This helps protect our community. Learn more\n",
      "Failed to download from YouTube URL 'https://www.youtube.com/watch?v=vHvOYQ0hbBA&pp=ygUccm9zw6kgLSBzdGF5IGEgbGl0dGxlIGxvbmdlcg%3D%3D': Socket operation on non-socket\n",
      "--- Logging error ---\n",
      "Traceback (most recent call last):\n",
      "  File \"/home/krystian/Python/VENVS/jupyter310/lib/python3.10/site-packages/yt_dlp/YoutubeDL.py\", line 1626, in wrapper\n",
      "    return func(self, *args, **kwargs)\n",
      "  File \"/home/krystian/Python/VENVS/jupyter310/lib/python3.10/site-packages/yt_dlp/YoutubeDL.py\", line 1761, in __extract_info\n",
      "    ie_result = ie.extract(url)\n",
      "  File \"/home/krystian/Python/VENVS/jupyter310/lib/python3.10/site-packages/yt_dlp/extractor/common.py\", line 740, in extract\n",
      "    ie_result = self._real_extract(url)\n",
      "  File \"/home/krystian/Python/VENVS/jupyter310/lib/python3.10/site-packages/yt_dlp/extractor/youtube.py\", line 4358, in _real_extract\n",
      "    self.raise_no_formats(reason, expected=True)\n",
      "  File \"/home/krystian/Python/VENVS/jupyter310/lib/python3.10/site-packages/yt_dlp/extractor/common.py\", line 1263, in raise_no_formats\n",
      "    raise ExtractorError(msg, expected=expected, video_id=video_id)\n",
      "yt_dlp.utils.ExtractorError: [youtube] vHvOYQ0hbBA: Sign in to confirm you’re not a bot. This helps protect our community. Learn more\n",
      "\n",
      "During handling of the above exception, another exception occurred:\n",
      "\n",
      "Traceback (most recent call last):\n",
      "  File \"/home/krystian/Python/Jupyter-projects/thesis/songs_analysis/classes/youtube_downloader.py\", line 64, in download_audio\n",
      "    ydl.download([url])\n",
      "  File \"/home/krystian/Python/VENVS/jupyter310/lib/python3.10/site-packages/yt_dlp/YoutubeDL.py\", line 3607, in download\n",
      "    self.__download_wrapper(self.extract_info)(\n",
      "  File \"/home/krystian/Python/VENVS/jupyter310/lib/python3.10/site-packages/yt_dlp/YoutubeDL.py\", line 3582, in wrapper\n",
      "    res = func(*args, **kwargs)\n",
      "  File \"/home/krystian/Python/VENVS/jupyter310/lib/python3.10/site-packages/yt_dlp/YoutubeDL.py\", line 1615, in extract_info\n",
      "    return self.__extract_info(url, self.get_info_extractor(key), download, extra_info, process)\n",
      "  File \"/home/krystian/Python/VENVS/jupyter310/lib/python3.10/site-packages/yt_dlp/YoutubeDL.py\", line 1644, in wrapper\n",
      "    self.report_error(str(e), e.format_traceback())\n",
      "  File \"/home/krystian/Python/VENVS/jupyter310/lib/python3.10/site-packages/yt_dlp/YoutubeDL.py\", line 1092, in report_error\n",
      "    self.trouble(f'{self._format_err(\"ERROR:\", self.Styles.ERROR)} {message}', *args, **kwargs)\n",
      "  File \"/home/krystian/Python/VENVS/jupyter310/lib/python3.10/site-packages/yt_dlp/YoutubeDL.py\", line 1011, in trouble\n",
      "    self.to_stderr(message)\n",
      "  File \"/home/krystian/Python/VENVS/jupyter310/lib/python3.10/site-packages/yt_dlp/YoutubeDL.py\", line 953, in to_stderr\n",
      "    self._write_string(f'{self._bidi_workaround(message)}\\n', self._out_files.error, only_once=only_once)\n",
      "  File \"/home/krystian/Python/VENVS/jupyter310/lib/python3.10/site-packages/yt_dlp/YoutubeDL.py\", line 924, in _write_string\n",
      "    write_string(message, out=out, encoding=self.params.get('encoding'))\n",
      "  File \"/home/krystian/Python/VENVS/jupyter310/lib/python3.10/site-packages/yt_dlp/utils/_utils.py\", line 1442, in write_string\n",
      "    out.flush()\n",
      "  File \"/home/krystian/Python/VENVS/jupyter310/lib/python3.10/site-packages/ipykernel/iostream.py\", line 604, in flush\n",
      "    self.pub_thread.schedule(self._flush)\n",
      "  File \"/home/krystian/Python/VENVS/jupyter310/lib/python3.10/site-packages/ipykernel/iostream.py\", line 267, in schedule\n",
      "    self._event_pipe.send(b\"\")\n",
      "  File \"/home/krystian/Python/VENVS/jupyter310/lib/python3.10/site-packages/zmq/sugar/socket.py\", line 701, in send\n",
      "    return super().send(data, flags=flags, copy=copy, track=track)\n",
      "  File \"_zmq.py\", line 1092, in zmq.backend.cython._zmq.Socket.send\n",
      "  File \"_zmq.py\", line 1134, in zmq.backend.cython._zmq.Socket.send\n",
      "  File \"_zmq.py\", line 1209, in zmq.backend.cython._zmq._check_closed\n",
      "zmq.error.ZMQError: Socket operation on non-socket\n",
      "\n",
      "During handling of the above exception, another exception occurred:\n",
      "\n",
      "Traceback (most recent call last):\n",
      "  File \"/usr/lib/python3.10/logging/__init__.py\", line 1104, in emit\n",
      "    self.flush()\n",
      "  File \"/usr/lib/python3.10/logging/__init__.py\", line 1084, in flush\n",
      "    self.stream.flush()\n",
      "  File \"/home/krystian/Python/VENVS/jupyter310/lib/python3.10/site-packages/ipykernel/iostream.py\", line 604, in flush\n",
      "    self.pub_thread.schedule(self._flush)\n",
      "  File \"/home/krystian/Python/VENVS/jupyter310/lib/python3.10/site-packages/ipykernel/iostream.py\", line 267, in schedule\n",
      "    self._event_pipe.send(b\"\")\n",
      "  File \"/home/krystian/Python/VENVS/jupyter310/lib/python3.10/site-packages/zmq/sugar/socket.py\", line 701, in send\n",
      "    return super().send(data, flags=flags, copy=copy, track=track)\n",
      "  File \"_zmq.py\", line 1092, in zmq.backend.cython._zmq.Socket.send\n",
      "  File \"_zmq.py\", line 1134, in zmq.backend.cython._zmq.Socket.send\n",
      "  File \"_zmq.py\", line 1209, in zmq.backend.cython._zmq._check_closed\n",
      "zmq.error.ZMQError: Socket operation on non-socket\n",
      "Call stack:\n",
      "  File \"/usr/lib/python3.10/threading.py\", line 973, in _bootstrap\n",
      "    self._bootstrap_inner()\n",
      "  File \"/usr/lib/python3.10/threading.py\", line 1016, in _bootstrap_inner\n",
      "    self.run()\n",
      "  File \"/home/krystian/Python/VENVS/jupyter310/lib/python3.10/site-packages/ipykernel/ipkernel.py\", line 766, in run_closure\n",
      "    _threading_Thread_run(self)\n",
      "  File \"/usr/lib/python3.10/threading.py\", line 953, in run\n",
      "    self._target(*self._args, **self._kwargs)\n",
      "  File \"/usr/lib/python3.10/concurrent/futures/thread.py\", line 83, in _worker\n",
      "    work_item.run()\n",
      "  File \"/usr/lib/python3.10/concurrent/futures/thread.py\", line 58, in run\n",
      "    result = self.fn(*self.args, **self.kwargs)\n",
      "  File \"/home/krystian/Python/Jupyter-projects/thesis/songs_analysis/classes/playlist.py\", line 161, in _download_and_process_song\n",
      "    LOGGER.error(f\"Error processing a song: {e}\")\n",
      "  File \"/home/krystian/Python/Jupyter-projects/thesis/songs_analysis/classes/playlist.py\", line 189, in _process_single_song\n",
      "    \"\"\"\n",
      "  File \"/home/krystian/Python/Jupyter-projects/thesis/songs_analysis/classes/playlist.py\", line 246, in _download_song\n",
      "    song.mp3_path = mp3_file_path  # Set the absolute path in the Song instance\n",
      "  File \"/home/krystian/Python/Jupyter-projects/thesis/songs_analysis/classes/youtube_downloader.py\", line 68, in download_audio\n",
      "    LOGGER.error(f\"Failed to download from YouTube URL '{url}': {e}\")\n",
      "Message: \"Failed to download from YouTube URL 'https://www.youtube.com/watch?v=vHvOYQ0hbBA&pp=ygUccm9zw6kgLSBzdGF5IGEgbGl0dGxlIGxvbmdlcg%3D%3D': Socket operation on non-socket\"\n",
      "Arguments: ()\n",
      "\u001b[1;33mWARNING: Failed to download song: stay a little longer\u001b[0m\n",
      "--- Logging error ---\n",
      "Traceback (most recent call last):\n",
      "  File \"/usr/lib/python3.10/logging/__init__.py\", line 1104, in emit\n",
      "    self.flush()\n",
      "  File \"/usr/lib/python3.10/logging/__init__.py\", line 1084, in flush\n",
      "    self.stream.flush()\n",
      "  File \"/home/krystian/Python/VENVS/jupyter310/lib/python3.10/site-packages/ipykernel/iostream.py\", line 604, in flush\n",
      "    self.pub_thread.schedule(self._flush)\n",
      "  File \"/home/krystian/Python/VENVS/jupyter310/lib/python3.10/site-packages/ipykernel/iostream.py\", line 267, in schedule\n",
      "    self._event_pipe.send(b\"\")\n",
      "  File \"/home/krystian/Python/VENVS/jupyter310/lib/python3.10/site-packages/zmq/sugar/socket.py\", line 701, in send\n",
      "    return super().send(data, flags=flags, copy=copy, track=track)\n",
      "  File \"_zmq.py\", line 1092, in zmq.backend.cython._zmq.Socket.send\n",
      "  File \"_zmq.py\", line 1134, in zmq.backend.cython._zmq.Socket.send\n",
      "  File \"_zmq.py\", line 1209, in zmq.backend.cython._zmq._check_closed\n",
      "zmq.error.ZMQError: Socket operation on non-socket\n",
      "Call stack:\n",
      "  File \"/usr/lib/python3.10/threading.py\", line 973, in _bootstrap\n",
      "    self._bootstrap_inner()\n",
      "  File \"/usr/lib/python3.10/threading.py\", line 1016, in _bootstrap_inner\n",
      "    self.run()\n",
      "  File \"/home/krystian/Python/VENVS/jupyter310/lib/python3.10/site-packages/ipykernel/ipkernel.py\", line 766, in run_closure\n",
      "    _threading_Thread_run(self)\n",
      "  File \"/usr/lib/python3.10/threading.py\", line 953, in run\n",
      "    self._target(*self._args, **self._kwargs)\n",
      "  File \"/usr/lib/python3.10/concurrent/futures/thread.py\", line 83, in _worker\n",
      "    work_item.run()\n",
      "  File \"/usr/lib/python3.10/concurrent/futures/thread.py\", line 58, in run\n",
      "    result = self.fn(*self.args, **self.kwargs)\n",
      "  File \"/home/krystian/Python/Jupyter-projects/thesis/songs_analysis/classes/playlist.py\", line 161, in _download_and_process_song\n",
      "    LOGGER.error(f\"Error processing a song: {e}\")\n",
      "  File \"/home/krystian/Python/Jupyter-projects/thesis/songs_analysis/classes/playlist.py\", line 189, in _process_single_song\n",
      "    \"\"\"\n",
      "  File \"/home/krystian/Python/Jupyter-projects/thesis/songs_analysis/classes/playlist.py\", line 252, in _download_song\n",
      "    success = self.youtube_downloader.download_audio(best_url, mp3_file_path.rsplit('.mp3', 1)[0])  # Download without .mp3\n",
      "Message: 'Failed to download song: stay a little longer'\n",
      "Arguments: ()\n"
     ]
    },
    {
     "name": "stdout",
     "output_type": "stream",
     "text": [
      "\u001b[1;32mINFO: Fetched Spotify audio features for jaded by spiritbox\u001b[0m\n",
      "\u001b[1;32mINFO: Fetched Spotify audio features for cliché by viviz\u001b[0m\n",
      "\u001b[1;32mINFO: Lyrics not found for song: cliché by viviz. Skipping...\u001b[0m\n",
      "\u001b[1;32mINFO: Fetched Spotify audio features for shhh! by viviz\u001b[0m\n",
      "\u001b[1;32mINFO: Lyrics not found for song: shhh! by viviz. Skipping...\u001b[0m\n",
      "\u001b[1;32mINFO: Fetched Spotify audio features for body by meovv\u001b[0m\n",
      "\u001b[1;32mINFO: Lyrics not found for song: body by meovv. Skipping...\u001b[0m\n",
      "\u001b[1;32mINFO: Fetched Spotify audio features for iwaly by i\u001b[0m\n",
      "\u001b[1;32mINFO: Fetched Spotify audio features for izna by izna\u001b[0m\n",
      "\u001b[1;32mINFO: Fetched Spotify audio features for dehidrasi by hindia\u001b[0m\n",
      "\u001b[1;32mINFO: Fetched Spotify audio features for tell em by cochise\u001b[0m\n",
      "\u001b[1;32mINFO: Fetched Spotify audio features for 3am by rosé\u001b[0m\n",
      "\u001b[1;32mINFO: Fetched Spotify audio features for two years by rosé\u001b[0m\n",
      "\u001b[1;32mINFO: Fetched Spotify audio features for toxic till the end by rosé\u001b[0m\n",
      "\u001b[1;32mINFO: Fetched Spotify audio features for drinks or coffee by rosé\u001b[0m\n",
      "\u001b[1;32mINFO: Fetched Spotify audio features for gameboy by rosé\u001b[0m\n",
      "\u001b[1;32mINFO: Fetched Spotify audio features for stay a little longer by rosé\u001b[0m\n"
     ]
    }
   ],
   "source": [
    "spotify_manager = SpotifyManager(client_id=os.environ.get(\"client_id\"), client_secret=os.environ.get(\"client_secret\"))\n",
    "\n",
    "for name, uri in URIS_TO_DOWNLOAD.items():\n",
    "    print(f\"Processing {name}...\")\n",
    "    playlist = Playlist(uri=uri, spotify_manager=spotify_manager)\n",
    "    new = playlist.process_songs()"
   ]
  },
  {
   "cell_type": "markdown",
   "id": "f553cf19-b381-4ee4-9ed2-9ad32c44db43",
   "metadata": {},
   "source": [
    "# Loading the data"
   ]
  },
  {
   "cell_type": "code",
   "execution_count": 14,
   "id": "739719b1-3fc5-4cf2-9d7f-e6351fb5d513",
   "metadata": {},
   "outputs": [
    {
     "name": "stdout",
     "output_type": "stream",
     "text": [
      "Loading CSV file: /home/krystian/Python/Jupyter-projects/thesis/songs_analysis/playlists/final download 1/final download 1.csv\n",
      "Loading CSV file: /home/krystian/Python/Jupyter-projects/thesis/songs_analysis/playlists/Every song in the world 🌍 /Every song in the world 🌍 .csv\n",
      "Loading CSV file: /home/krystian/Python/Jupyter-projects/thesis/songs_analysis/playlists/final download 2/final download 2.csv\n"
     ]
    }
   ],
   "source": [
    "playlists_dir = 'audio_sentiment_classifier/playlists'\n",
    "playlists_dir = os.path.join(\"/\".join(os.path.abspath(os.path.realpath(__name__)).split(\"/\")[:-1]), \"playlists\")\n",
    "df = gather_data_from_folders(playlists_dir)"
   ]
  },
  {
   "cell_type": "code",
   "execution_count": 15,
   "id": "9da460aa-273a-431d-b76b-a320eb114913",
   "metadata": {},
   "outputs": [
    {
     "data": {
      "text/html": [
       "<div>\n",
       "<style scoped>\n",
       "    .dataframe tbody tr th:only-of-type {\n",
       "        vertical-align: middle;\n",
       "    }\n",
       "\n",
       "    .dataframe tbody tr th {\n",
       "        vertical-align: top;\n",
       "    }\n",
       "\n",
       "    .dataframe thead th {\n",
       "        text-align: right;\n",
       "    }\n",
       "</style>\n",
       "<table border=\"1\" class=\"dataframe\">\n",
       "  <thead>\n",
       "    <tr style=\"text-align: right;\">\n",
       "      <th></th>\n",
       "      <th>id</th>\n",
       "      <th>title</th>\n",
       "      <th>artist</th>\n",
       "      <th>album_art_url</th>\n",
       "      <th>popularity</th>\n",
       "      <th>explicit</th>\n",
       "      <th>album_release_year</th>\n",
       "      <th>duration_ms</th>\n",
       "      <th>genres</th>\n",
       "      <th>lyrics</th>\n",
       "      <th>...</th>\n",
       "      <th>key</th>\n",
       "      <th>loudness</th>\n",
       "      <th>mode</th>\n",
       "      <th>speechiness</th>\n",
       "      <th>acousticness</th>\n",
       "      <th>instrumentalness</th>\n",
       "      <th>liveness</th>\n",
       "      <th>valence</th>\n",
       "      <th>tempo</th>\n",
       "      <th>time_signature</th>\n",
       "    </tr>\n",
       "  </thead>\n",
       "  <tbody>\n",
       "    <tr>\n",
       "      <th>0</th>\n",
       "      <td>4RL77hMWUq35NYnPLXBpih</td>\n",
       "      <td>skinny love</td>\n",
       "      <td>birdy</td>\n",
       "      <td>https://i.scdn.co/image/ab67616d0000b2733661c0...</td>\n",
       "      <td>70.0</td>\n",
       "      <td>False</td>\n",
       "      <td>2011.0</td>\n",
       "      <td>201080.0</td>\n",
       "      <td>['neo mellow', 'uk pop', 'viral pop']</td>\n",
       "      <td>Come on, skinny love, just last the year\\nPour...</td>\n",
       "      <td>...</td>\n",
       "      <td>4.0</td>\n",
       "      <td>-8.487</td>\n",
       "      <td>1.0</td>\n",
       "      <td>0.0513</td>\n",
       "      <td>0.95200</td>\n",
       "      <td>0.000996</td>\n",
       "      <td>0.1180</td>\n",
       "      <td>0.184</td>\n",
       "      <td>165.997</td>\n",
       "      <td>4.0</td>\n",
       "    </tr>\n",
       "    <tr>\n",
       "      <th>1</th>\n",
       "      <td>5PsjZ21f5tMPFf1sJpokm7</td>\n",
       "      <td>deathwish</td>\n",
       "      <td>red sun rising</td>\n",
       "      <td>https://i.scdn.co/image/ab67616d0000b273612f16...</td>\n",
       "      <td>NaN</td>\n",
       "      <td>False</td>\n",
       "      <td>2018.0</td>\n",
       "      <td>287946.0</td>\n",
       "      <td>['modern hard rock', 'post-grunge']</td>\n",
       "      <td>Life is fleeting by the slow\\nIt chills us to ...</td>\n",
       "      <td>...</td>\n",
       "      <td>8.0</td>\n",
       "      <td>-5.518</td>\n",
       "      <td>0.0</td>\n",
       "      <td>0.0518</td>\n",
       "      <td>0.00614</td>\n",
       "      <td>0.000003</td>\n",
       "      <td>0.3460</td>\n",
       "      <td>0.603</td>\n",
       "      <td>134.989</td>\n",
       "      <td>4.0</td>\n",
       "    </tr>\n",
       "    <tr>\n",
       "      <th>2</th>\n",
       "      <td>6vrUTGn5p8IrfTZ0J6sIVM</td>\n",
       "      <td>iris</td>\n",
       "      <td>the goo goo dolls</td>\n",
       "      <td>https://i.scdn.co/image/ab67616d0000b273d54c4b...</td>\n",
       "      <td>71.0</td>\n",
       "      <td>False</td>\n",
       "      <td>2007.0</td>\n",
       "      <td>289906.0</td>\n",
       "      <td>['neo mellow', 'permanent wave', 'pop rock', '...</td>\n",
       "      <td>And I'd give up forever to touch you\\n'Cause I...</td>\n",
       "      <td>...</td>\n",
       "      <td>11.0</td>\n",
       "      <td>-5.683</td>\n",
       "      <td>0.0</td>\n",
       "      <td>0.0363</td>\n",
       "      <td>0.00133</td>\n",
       "      <td>0.000006</td>\n",
       "      <td>0.0811</td>\n",
       "      <td>0.513</td>\n",
       "      <td>155.667</td>\n",
       "      <td>3.0</td>\n",
       "    </tr>\n",
       "    <tr>\n",
       "      <th>3</th>\n",
       "      <td>08bo51XXjxoJRv3O9tuUaj</td>\n",
       "      <td>the woods</td>\n",
       "      <td>hollow coves</td>\n",
       "      <td>https://i.scdn.co/image/ab67616d0000b273e771a3...</td>\n",
       "      <td>NaN</td>\n",
       "      <td>False</td>\n",
       "      <td>2017.0</td>\n",
       "      <td>241546.0</td>\n",
       "      <td>['indie anthem-folk', 'indie folk', 'modern in...</td>\n",
       "      <td>NaN</td>\n",
       "      <td>...</td>\n",
       "      <td>9.0</td>\n",
       "      <td>-12.793</td>\n",
       "      <td>1.0</td>\n",
       "      <td>0.0454</td>\n",
       "      <td>0.41100</td>\n",
       "      <td>0.001070</td>\n",
       "      <td>0.0941</td>\n",
       "      <td>0.224</td>\n",
       "      <td>106.047</td>\n",
       "      <td>4.0</td>\n",
       "    </tr>\n",
       "    <tr>\n",
       "      <th>4</th>\n",
       "      <td>0Leo4GP0UKG4tUABm9JATe</td>\n",
       "      <td>don't dream it's over</td>\n",
       "      <td>crowded house</td>\n",
       "      <td>https://i.scdn.co/image/ab67616d0000b27380ed24...</td>\n",
       "      <td>NaN</td>\n",
       "      <td>False</td>\n",
       "      <td>2017.0</td>\n",
       "      <td>231377.0</td>\n",
       "      <td>['australian rock', 'permanent wave']</td>\n",
       "      <td>There is freedom within\\nThere is freedom with...</td>\n",
       "      <td>...</td>\n",
       "      <td>8.0</td>\n",
       "      <td>-5.574</td>\n",
       "      <td>1.0</td>\n",
       "      <td>0.0404</td>\n",
       "      <td>0.04440</td>\n",
       "      <td>0.000259</td>\n",
       "      <td>0.1360</td>\n",
       "      <td>0.512</td>\n",
       "      <td>80.858</td>\n",
       "      <td>4.0</td>\n",
       "    </tr>\n",
       "  </tbody>\n",
       "</table>\n",
       "<p>5 rows × 23 columns</p>\n",
       "</div>"
      ],
      "text/plain": [
       "                       id                  title             artist  \\\n",
       "0  4RL77hMWUq35NYnPLXBpih            skinny love              birdy   \n",
       "1  5PsjZ21f5tMPFf1sJpokm7              deathwish     red sun rising   \n",
       "2  6vrUTGn5p8IrfTZ0J6sIVM                   iris  the goo goo dolls   \n",
       "3  08bo51XXjxoJRv3O9tuUaj              the woods       hollow coves   \n",
       "4  0Leo4GP0UKG4tUABm9JATe  don't dream it's over      crowded house   \n",
       "\n",
       "                                       album_art_url  popularity explicit  \\\n",
       "0  https://i.scdn.co/image/ab67616d0000b2733661c0...        70.0    False   \n",
       "1  https://i.scdn.co/image/ab67616d0000b273612f16...         NaN    False   \n",
       "2  https://i.scdn.co/image/ab67616d0000b273d54c4b...        71.0    False   \n",
       "3  https://i.scdn.co/image/ab67616d0000b273e771a3...         NaN    False   \n",
       "4  https://i.scdn.co/image/ab67616d0000b27380ed24...         NaN    False   \n",
       "\n",
       "   album_release_year  duration_ms  \\\n",
       "0              2011.0     201080.0   \n",
       "1              2018.0     287946.0   \n",
       "2              2007.0     289906.0   \n",
       "3              2017.0     241546.0   \n",
       "4              2017.0     231377.0   \n",
       "\n",
       "                                              genres  \\\n",
       "0              ['neo mellow', 'uk pop', 'viral pop']   \n",
       "1                ['modern hard rock', 'post-grunge']   \n",
       "2  ['neo mellow', 'permanent wave', 'pop rock', '...   \n",
       "3  ['indie anthem-folk', 'indie folk', 'modern in...   \n",
       "4              ['australian rock', 'permanent wave']   \n",
       "\n",
       "                                              lyrics  ...   key  loudness  \\\n",
       "0  Come on, skinny love, just last the year\\nPour...  ...   4.0    -8.487   \n",
       "1  Life is fleeting by the slow\\nIt chills us to ...  ...   8.0    -5.518   \n",
       "2  And I'd give up forever to touch you\\n'Cause I...  ...  11.0    -5.683   \n",
       "3                                                NaN  ...   9.0   -12.793   \n",
       "4  There is freedom within\\nThere is freedom with...  ...   8.0    -5.574   \n",
       "\n",
       "   mode  speechiness  acousticness  instrumentalness  liveness  valence  \\\n",
       "0   1.0       0.0513       0.95200          0.000996    0.1180    0.184   \n",
       "1   0.0       0.0518       0.00614          0.000003    0.3460    0.603   \n",
       "2   0.0       0.0363       0.00133          0.000006    0.0811    0.513   \n",
       "3   1.0       0.0454       0.41100          0.001070    0.0941    0.224   \n",
       "4   1.0       0.0404       0.04440          0.000259    0.1360    0.512   \n",
       "\n",
       "     tempo  time_signature  \n",
       "0  165.997             4.0  \n",
       "1  134.989             4.0  \n",
       "2  155.667             3.0  \n",
       "3  106.047             4.0  \n",
       "4   80.858             4.0  \n",
       "\n",
       "[5 rows x 23 columns]"
      ]
     },
     "execution_count": 15,
     "metadata": {},
     "output_type": "execute_result"
    }
   ],
   "source": [
    "df.head()"
   ]
  },
  {
   "cell_type": "code",
   "execution_count": null,
   "id": "16b0fbfc-cbd4-4707-a250-c953e892617c",
   "metadata": {},
   "outputs": [],
   "source": []
  }
 ],
 "metadata": {
  "kernelspec": {
   "display_name": "Python 3 (ipykernel)",
   "language": "python",
   "name": "python3"
  },
  "language_info": {
   "codemirror_mode": {
    "name": "ipython",
    "version": 3
   },
   "file_extension": ".py",
   "mimetype": "text/x-python",
   "name": "python",
   "nbconvert_exporter": "python",
   "pygments_lexer": "ipython3",
   "version": "3.10.12"
  }
 },
 "nbformat": 4,
 "nbformat_minor": 5
}
