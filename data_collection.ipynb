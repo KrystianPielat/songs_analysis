{
 "cells": [
  {
   "cell_type": "code",
   "execution_count": 1,
   "id": "3aac368b-0904-4021-afa9-e5c9d9202bb0",
   "metadata": {},
   "outputs": [],
   "source": [
    "%load_ext autoreload\n",
    "%autoreload 2\n",
    "    \n",
    "from classes.song import Song\n",
    "from classes.playlist import Playlist\n",
    "from classes.spotify_manager import SpotifyManager\n",
    "from classes.lyrics_manager import LyricsManager\n",
    "from dotenv import load_dotenv\n",
    "from classes.utils import gather_data_from_folders\n",
    "import pandas as pd\n",
    "import os\n",
    "import seaborn as sns\n",
    "\n",
    "load_dotenv();"
   ]
  },
  {
   "cell_type": "code",
   "execution_count": 2,
   "id": "eb84bde8-9087-4b70-a41a-40144d6f33a0",
   "metadata": {},
   "outputs": [],
   "source": [
    "URIS_TO_DOWNLOAD = {\n",
    "    # 'final_download_1_uri': '5yMkxmCpYEinULq68rAj53',\n",
    "    # 'final_download_2_uri': '7zhbpv3MIAermGw2SJ3wMm',\n",
    "    # 'all_songs_in_the_world': '1RDk6T6DZNnYvBaBZQ3eWh'\n",
    "    # 'test': '5SsbsW06wS6UAQQzq71nZv'\n",
    "    # 'skinny_love': '5SsbsW06wS6UAQQzq71nZv'\n",
    "    # \"multigenre\": '1DBhioGgpTizaQDiHOV30u'\n",
    "    # \"uuuu\": '057QmV9rwuot6wTOwHxTeF'\n",
    "    # 'changes': '7BdNMSW3sAYk0wbd2Br3BE'\n",
    "    # 'best of global hip hop': '37i9dQZF1DX2sQHbtx0sdt',\n",
    "    # 'rap mix': '37i9dQZF1EIgbjUtLiWmHt',\n",
    "    # 'jazz mix': '37i9dQZF1EQqA6klNdJvwx',\n",
    "    # 'house mix': '6bylhv1iSmMylVzgeWTtkb',\n",
    "    # 'reggae mix' : '37i9dQZF1EQpjs4F0vUZ1x',\n",
    "    # 'alternative mix': '37i9dQZF1EIgvT6k4mUrw7',\n",
    "    # 'latin mix': '37i9dQZF1EQmK1rjZuPGDt',\n",
    "    # 'metal mix': '37i9dQZF1EQpgT26jgbgRI',\n",
    "    # 'latin hit mix': '37i9dQZF1DXbLMw3ry7d7k',\n",
    "    # 'latino': '4tROKykKNhOQc7a3Mb8tC6',\n",
    "    # 'soul jazz mix': '37i9dQZF1EIhKhPuz9X9RP',\n",
    "    # 'best reggae mix ever': '3yGc2rDc3oZVnZ1QV4XYRn',\n",
    "    # 'country mix': '0nNeZehK2PNhzqxpCzqO2k',\n",
    "    # 'best country songs(greatest hits)': '7fIdjWhWzPbf1g5OSDKOXw'\n",
    "    # '60s-70s Mix': '37i9dQZF1EIhdup1SOLFpO',\n",
    "    # 'all out 60s': '37i9dQZF1DXaKIA8E7WcJj',\n",
    "    # 'all out 70s': '37i9dQZF1DWTJ7xPn4vNaz',\n",
    "    # 'all out 80s': '37i9dQZF1DX4UtSsGT1Sbe',\n",
    "    # 'all out 90s': '37i9dQZF1DXbTxeAdrVG2l',\n",
    "    # 'all out 2000s': '37i9dQZF1DX4o1oenSJRJd',\n",
    "    'how long': '2Dwf6MaRtRLr7zvvmhZvaG'\n",
    "}"
   ]
  },
  {
   "cell_type": "code",
   "execution_count": 3,
   "id": "29d99280-7203-4dd3-92d6-c3ae9e56d934",
   "metadata": {},
   "outputs": [
    {
     "name": "stdout",
     "output_type": "stream",
     "text": [
      "Processing how long...\n",
      "\u001b[1;32mINFO: Found playlist: How Long with 2 tracks.\u001b[0m\n"
     ]
    },
    {
     "data": {
      "application/vnd.jupyter.widget-view+json": {
       "model_id": "01bbf5cbeec848499fd0a41ca6876a8a",
       "version_major": 2,
       "version_minor": 0
      },
      "text/plain": [
       "Fetching songs info:   0%|          | 0/2 [00:00<?, ?song/s]"
      ]
     },
     "metadata": {},
     "output_type": "display_data"
    },
    {
     "data": {
      "application/vnd.jupyter.widget-view+json": {
       "model_id": "f2c2da320e27465e9e75092ac727644e",
       "version_major": 2,
       "version_minor": 0
      },
      "text/plain": [
       "Processing Songs:   0%|          | 0/2 [00:00<?, ?song/s]"
      ]
     },
     "metadata": {},
     "output_type": "display_data"
    },
    {
     "name": "stdout",
     "output_type": "stream",
     "text": [
      "\u001b[1;32mINFO: Fetched Spotify audio features for how long by dire straits\u001b[0m\n",
      "\u001b[1;32mINFO: Fetched Spotify audio features for money for nothing by dire straits\u001b[0m\n",
      "\u001b[1;32mINFO: Downloaded song: how long\u001b[0m                 \n",
      "\u001b[1;32mINFO: Completed processing for song: how long by dire straits\u001b[0m\n",
      "\u001b[1;32mINFO: Downloaded song: money for nothing\u001b[0m\n",
      "\u001b[1;32mINFO: Completed processing for song: money for nothing by dire straits\u001b[0m\n"
     ]
    }
   ],
   "source": [
    "spotify_manager = SpotifyManager(client_id=os.environ.get(\"client_id\"), client_secret=os.environ.get(\"client_secret\"))\n",
    "\n",
    "for name, uri in URIS_TO_DOWNLOAD.items():\n",
    "    print(f\"Processing {name}...\")\n",
    "    playlist = Playlist(uri=uri, spotify_manager=spotify_manager)\n",
    "    new = playlist.process_songs()"
   ]
  },
  {
   "cell_type": "code",
   "execution_count": null,
   "id": "16b0fbfc-cbd4-4707-a250-c953e892617c",
   "metadata": {},
   "outputs": [],
   "source": []
  }
 ],
 "metadata": {
  "kernelspec": {
   "display_name": "Python 3 (ipykernel)",
   "language": "python",
   "name": "python3"
  },
  "language_info": {
   "codemirror_mode": {
    "name": "ipython",
    "version": 3
   },
   "file_extension": ".py",
   "mimetype": "text/x-python",
   "name": "python",
   "nbconvert_exporter": "python",
   "pygments_lexer": "ipython3",
   "version": "3.10.12"
  }
 },
 "nbformat": 4,
 "nbformat_minor": 5
}
