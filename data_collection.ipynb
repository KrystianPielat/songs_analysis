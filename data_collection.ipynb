{
 "cells": [
  {
   "cell_type": "code",
   "execution_count": 1,
   "id": "3aac368b-0904-4021-afa9-e5c9d9202bb0",
   "metadata": {},
   "outputs": [],
   "source": [
    "%load_ext autoreload\n",
    "%autoreload 2\n",
    "    \n",
    "from classes.song import Song\n",
    "from classes.playlist import Playlist\n",
    "from classes.spotify_manager import SpotifyManager\n",
    "from classes.lyrics_manager import LyricsManager\n",
    "from dotenv import load_dotenv\n",
    "from classes.utils import gather_data_from_folders\n",
    "import pandas as pd\n",
    "import os\n",
    "import seaborn as sns\n",
    "\n",
    "load_dotenv();"
   ]
  },
  {
   "cell_type": "code",
   "execution_count": 2,
   "id": "eb84bde8-9087-4b70-a41a-40144d6f33a0",
   "metadata": {},
   "outputs": [],
   "source": [
    "URIS_TO_DOWNLOAD = {\n",
    "    'final_download_1_uri': '5yMkxmCpYEinULq68rAj53',\n",
    "    'final_download_2_uri': '7zhbpv3MIAermGw2SJ3wMm',\n",
    "    'all_songs_in_the_world': '1RDk6T6DZNnYvBaBZQ3eWh'\n",
    "    # 'test': '5SsbsW06wS6UAQQzq71nZv'\n",
    "}"
   ]
  },
  {
   "cell_type": "code",
   "execution_count": null,
   "id": "29d99280-7203-4dd3-92d6-c3ae9e56d934",
   "metadata": {},
   "outputs": [
    {
     "name": "stdout",
     "output_type": "stream",
     "text": [
      "Processing final_download_1_uri...\n",
      "\u001b[1;32mINFO: Found playlist: final download 1 with 1532 tracks.\u001b[0m\n"
     ]
    },
    {
     "data": {
      "application/vnd.jupyter.widget-view+json": {
       "model_id": "8c89416920c84abb8249ba3a9fada00e",
       "version_major": 2,
       "version_minor": 0
      },
      "text/plain": [
       "Fetching songs info:   0%|          | 0/1532 [00:00<?, ?song/s]"
      ]
     },
     "metadata": {},
     "output_type": "display_data"
    },
    {
     "data": {
      "application/vnd.jupyter.widget-view+json": {
       "model_id": "24914b02f9704074bc17aa591b153c5b",
       "version_major": 2,
       "version_minor": 0
      },
      "text/plain": [
       "Processing Songs:   0%|          | 0/1532 [00:00<?, ?song/s]"
      ]
     },
     "metadata": {},
     "output_type": "display_data"
    },
    {
     "name": "stdout",
     "output_type": "stream",
     "text": [
      "\u001b[1;32mINFO: Fetched Spotify audio features for skinny love by birdy\u001b[0m\n",
      "\u001b[1;32mINFO: Skipping download for skinny love by birdy as it already exists.\u001b[0m\n",
      "\u001b[1;32mINFO: Completed processing for song: skinny love by birdy\u001b[0m\n",
      "\u001b[1;32mINFO: Fetched Spotify audio features for deathwish by red sun rising\u001b[0m\n",
      "\u001b[1;32mINFO: Skipping download for deathwish by red sun rising as it already exists.\u001b[0m\n",
      "\u001b[1;32mINFO: Completed processing for song: deathwish by red sun rising\u001b[0m\n",
      "\u001b[1;32mINFO: Fetched Spotify audio features for iris by the goo goo dolls\u001b[0m\n",
      "\u001b[1;32mINFO: Skipping download for iris by the goo goo dolls as it already exists.\u001b[0m\n",
      "\u001b[1;32mINFO: Completed processing for song: iris by the goo goo dolls\u001b[0m\n",
      "\u001b[1;32mINFO: Fetched Spotify audio features for the woods by hollow coves\u001b[0m\n"
     ]
    },
    {
     "name": "stderr",
     "output_type": "stream",
     "text": [
      "\u001b[1;33mWARNING: Lyrics not found for 'the woods' by hollow coves using all available providers.\u001b[0m\n"
     ]
    },
    {
     "name": "stdout",
     "output_type": "stream",
     "text": [
      "\u001b[1;32mINFO: Skipping download for the woods by hollow coves as it already exists.\u001b[0m\n",
      "\u001b[1;32mINFO: Completed processing for song: the woods by hollow coves\u001b[0m\n",
      "\u001b[1;32mINFO: Fetched Spotify audio features for don't dream it's over by crowded house\u001b[0m\n",
      "\u001b[1;32mINFO: Skipping download for don't dream it's over by crowded house as it already exists.\u001b[0m\n",
      "\u001b[1;32mINFO: Completed processing for song: don't dream it's over by crowded house\u001b[0m\n",
      "\u001b[1;32mINFO: Fetched Spotify audio features for undisclosed desires by muse\u001b[0m\n",
      "\u001b[1;32mINFO: Skipping download for undisclosed desires by muse as it already exists.\u001b[0m\n",
      "\u001b[1;32mINFO: Completed processing for song: undisclosed desires by muse\u001b[0m\n",
      "\u001b[1;32mINFO: Fetched Spotify audio features for electric love by børns\u001b[0m\n",
      "\u001b[1;32mINFO: Skipping download for electric love by børns as it already exists.\u001b[0m\n",
      "\u001b[1;32mINFO: Completed processing for song: electric love by børns\u001b[0m\n",
      "\u001b[1;32mINFO: Fetched Spotify audio features for universally speaking by red hot chili peppers\u001b[0m\n",
      "\u001b[1;32mINFO: Skipping download for universally speaking by red hot chili peppers as it already exists.\u001b[0m\n",
      "\u001b[1;32mINFO: Completed processing for song: universally speaking by red hot chili peppers\u001b[0m\n",
      "\u001b[1;32mINFO: Fetched Spotify audio features for break my stride by matthew wilder\u001b[0m\n",
      "\u001b[1;32mINFO: Skipping download for break my stride by matthew wilder as it already exists.\u001b[0m\n",
      "\u001b[1;32mINFO: Completed processing for song: break my stride by matthew wilder\u001b[0m\n",
      "\u001b[1;32mINFO: Fetched Spotify audio features for tell me baby by red hot chili peppers\u001b[0m\n",
      "\u001b[1;32mINFO: Skipping download for tell me baby by red hot chili peppers as it already exists.\u001b[0m\n",
      "\u001b[1;32mINFO: Completed processing for song: tell me baby by red hot chili peppers\u001b[0m\n",
      "\u001b[1;32mINFO: Fetched Spotify audio features for wanderlust by james bay\u001b[0m\n",
      "\u001b[1;32mINFO: Skipping download for wanderlust by james bay as it already exists.\u001b[0m\n",
      "\u001b[1;32mINFO: Completed processing for song: wanderlust by james bay\u001b[0m\n",
      "\u001b[1;32mINFO: Fetched Spotify audio features for heroes by peter gabriel\u001b[0m\n",
      "\u001b[1;32mINFO: Skipping download for heroes by peter gabriel as it already exists.\u001b[0m\n",
      "\u001b[1;32mINFO: Completed processing for song: heroes by peter gabriel\u001b[0m\n",
      "\u001b[1;32mINFO: Fetched Spotify audio features for the zephyr song by red hot chili peppers\u001b[0m\n",
      "\u001b[1;32mINFO: Skipping download for the zephyr song by red hot chili peppers as it already exists.\u001b[0m\n",
      "\u001b[1;32mINFO: Completed processing for song: the zephyr song by red hot chili peppers\u001b[0m\n",
      "\u001b[1;32mINFO: Fetched Spotify audio features for around the world by kings of leon\u001b[0m\n",
      "\u001b[1;32mINFO: Skipping download for around the world by kings of leon as it already exists.\u001b[0m\n",
      "\u001b[1;32mINFO: Completed processing for song: around the world by kings of leon\u001b[0m\n",
      "\u001b[1;32mINFO: Fetched Spotify audio features for everybody's watching me (uh oh) by the neighbourhood\u001b[0m\n",
      "\u001b[1;32mINFO: Skipping download for everybody's watching me (uh oh) by the neighbourhood as it already exists.\u001b[0m\n",
      "\u001b[1;32mINFO: Completed processing for song: everybody's watching me (uh oh) by the neighbourhood\u001b[0m\n",
      "\u001b[1;32mINFO: Fetched Spotify audio features for parallel universe by red hot chili peppers\u001b[0m\n",
      "\u001b[1;32mINFO: Skipping download for parallel universe by red hot chili peppers as it already exists.\u001b[0m\n",
      "\u001b[1;32mINFO: Completed processing for song: parallel universe by red hot chili peppers\u001b[0m\n",
      "\u001b[1;32mINFO: Fetched Spotify audio features for sit next to me by foster the people\u001b[0m\n",
      "\u001b[1;32mINFO: Skipping download for sit next to me by foster the people as it already exists.\u001b[0m\n",
      "\u001b[1;32mINFO: Completed processing for song: sit next to me by foster the people\u001b[0m\n",
      "\u001b[1;32mINFO: Fetched Spotify audio features for daddy issues by the neighbourhood\u001b[0m\n",
      "\u001b[1;32mINFO: Skipping download for daddy issues by the neighbourhood as it already exists.\u001b[0m\n",
      "\u001b[1;32mINFO: Completed processing for song: daddy issues by the neighbourhood\u001b[0m\n",
      "\u001b[1;32mINFO: Fetched Spotify audio features for boston by augustana\u001b[0m\n",
      "\u001b[1;32mINFO: Skipping download for boston by augustana as it already exists.\u001b[0m\n",
      "\u001b[1;32mINFO: Completed processing for song: boston by augustana\u001b[0m\n",
      "\u001b[1;32mINFO: Fetched Spotify audio features for better days by the goo goo dolls\u001b[0m\n",
      "\u001b[1;32mINFO: Skipping download for better days by the goo goo dolls as it already exists.\u001b[0m\n",
      "\u001b[1;32mINFO: Completed processing for song: better days by the goo goo dolls\u001b[0m\n",
      "\u001b[1;32mINFO: Fetched Spotify audio features for desert noise by the stedwells\u001b[0m\n"
     ]
    },
    {
     "name": "stderr",
     "output_type": "stream",
     "text": [
      "\u001b[1;33mWARNING: Lyrics not found for 'desert noise' by the stedwells using all available providers.\u001b[0m\n"
     ]
    },
    {
     "name": "stdout",
     "output_type": "stream",
     "text": [
      "\u001b[1;32mINFO: Skipping download for desert noise by the stedwells as it already exists.\u001b[0m\n",
      "\u001b[1;32mINFO: Completed processing for song: desert noise by the stedwells\u001b[0m\n",
      "\u001b[1;32mINFO: Fetched Spotify audio features for stars by simply red\u001b[0m\n",
      "\u001b[1;32mINFO: Skipping download for stars by simply red as it already exists.\u001b[0m\n",
      "\u001b[1;32mINFO: Completed processing for song: stars by simply red\u001b[0m\n",
      "\u001b[1;32mINFO: Fetched Spotify audio features for big city life by mattafix\u001b[0m\n",
      "\u001b[1;32mINFO: Skipping download for big city life by mattafix as it already exists.\u001b[0m\n",
      "\u001b[1;32mINFO: Completed processing for song: big city life by mattafix\u001b[0m\n",
      "\u001b[1;32mINFO: Fetched Spotify audio features for young folks by peter bjorn and john\u001b[0m\n",
      "\u001b[1;32mINFO: Skipping download for young folks by peter bjorn and john as it already exists.\u001b[0m\n",
      "\u001b[1;32mINFO: Completed processing for song: young folks by peter bjorn and john\u001b[0m\n",
      "\u001b[1;32mINFO: Fetched Spotify audio features for gamma ray by beck\u001b[0m\n",
      "\u001b[1;32mINFO: Skipping download for gamma ray by beck as it already exists.\u001b[0m\n",
      "\u001b[1;32mINFO: Completed processing for song: gamma ray by beck\u001b[0m\n",
      "\u001b[1;32mINFO: Fetched Spotify audio features for breezeblocks by alt-j\u001b[0m\n",
      "\u001b[1;32mINFO: Skipping download for breezeblocks by alt-j as it already exists.\u001b[0m\n",
      "\u001b[1;32mINFO: Completed processing for song: breezeblocks by alt-j\u001b[0m\n",
      "\u001b[1;32mINFO: Fetched Spotify audio features for somebody told me by the killers\u001b[0m\n",
      "\u001b[1;32mINFO: Skipping download for somebody told me by the killers as it already exists.\u001b[0m\n",
      "\u001b[1;32mINFO: Completed processing for song: somebody told me by the killers\u001b[0m\n",
      "\u001b[1;32mINFO: Fetched Spotify audio features for midnight city by m83\u001b[0m\n",
      "\u001b[1;32mINFO: Skipping download for midnight city by m83 as it already exists.\u001b[0m\n",
      "\u001b[1;32mINFO: Completed processing for song: midnight city by m83\u001b[0m\n",
      "\u001b[1;32mINFO: Fetched Spotify audio features for should i stay or should i go - remastered by the clash\u001b[0m\n",
      "\u001b[1;32mINFO: Skipping download for should i stay or should i go - remastered by the clash as it already exists.\u001b[0m\n",
      "\u001b[1;32mINFO: Completed processing for song: should i stay or should i go - remastered by the clash\u001b[0m\n",
      "\u001b[1;32mINFO: Fetched Spotify audio features for afraid by the neighbourhood\u001b[0m\n",
      "\u001b[1;32mINFO: Skipping download for afraid by the neighbourhood as it already exists.\u001b[0m\n",
      "\u001b[1;32mINFO: Completed processing for song: afraid by the neighbourhood\u001b[0m\n",
      "\u001b[1;32mINFO: Fetched Spotify audio features for oceans by seafret\u001b[0m\n",
      "\u001b[1;32mINFO: Skipping download for oceans by seafret as it already exists.\u001b[0m\n",
      "\u001b[1;32mINFO: Completed processing for song: oceans by seafret\u001b[0m\n",
      "\u001b[1;32mINFO: Fetched Spotify audio features for sirens by pearl jam\u001b[0m\n",
      "\u001b[1;32mINFO: Skipping download for sirens by pearl jam as it already exists.\u001b[0m\n",
      "\u001b[1;32mINFO: Completed processing for song: sirens by pearl jam\u001b[0m\n",
      "\u001b[1;32mINFO: Fetched Spotify audio features for smother by daughter\u001b[0m\n",
      "\u001b[1;32mINFO: Skipping download for smother by daughter as it already exists.\u001b[0m\n",
      "\u001b[1;32mINFO: Completed processing for song: smother by daughter\u001b[0m\n",
      "\u001b[1;32mINFO: Fetched Spotify audio features for sun by two door cinema club\u001b[0m\n",
      "\u001b[1;32mINFO: Skipping download for sun by two door cinema club as it already exists.\u001b[0m\n",
      "\u001b[1;32mINFO: Completed processing for song: sun by two door cinema club\u001b[0m\n",
      "\u001b[1;32mINFO: Fetched Spotify audio features for just another girl by the killers\u001b[0m\n",
      "\u001b[1;32mINFO: Skipping download for just another girl by the killers as it already exists.\u001b[0m\n",
      "\u001b[1;32mINFO: Completed processing for song: just another girl by the killers\u001b[0m\n",
      "\u001b[1;32mINFO: Fetched Spotify audio features for medicine by daughter\u001b[0m\n",
      "\u001b[1;32mINFO: Skipping download for medicine by daughter as it already exists.\u001b[0m\n",
      "\u001b[1;32mINFO: Completed processing for song: medicine by daughter\u001b[0m\n",
      "\u001b[1;32mINFO: Fetched Spotify audio features for fly away by lenny kravitz\u001b[0m\n",
      "\u001b[1;32mINFO: Skipping download for fly away by lenny kravitz as it already exists.\u001b[0m\n",
      "\u001b[1;32mINFO: Completed processing for song: fly away by lenny kravitz\u001b[0m\n",
      "\u001b[1;32mINFO: Fetched Spotify audio features for cryin' by aerosmith\u001b[0m\n",
      "\u001b[1;32mINFO: Skipping download for cryin' by aerosmith as it already exists.\u001b[0m\n",
      "\u001b[1;32mINFO: Completed processing for song: cryin' by aerosmith\u001b[0m\n",
      "\u001b[1;32mINFO: Fetched Spotify audio features for under pressure by queen\u001b[0m\n",
      "\u001b[1;32mINFO: Skipping download for under pressure by queen as it already exists.\u001b[0m\n",
      "\u001b[1;32mINFO: Completed processing for song: under pressure by queen\u001b[0m\n",
      "\u001b[1;32mINFO: Fetched Spotify audio features for message in a bottle - remastered 2003 by the police\u001b[0m\n",
      "\u001b[1;32mINFO: Skipping download for message in a bottle - remastered 2003 by the police as it already exists.\u001b[0m\n",
      "\u001b[1;32mINFO: Completed processing for song: message in a bottle - remastered 2003 by the police\u001b[0m\n",
      "\u001b[1;32mINFO: Fetched Spotify audio features for beast of burden - remastered 1994 by the rolling stones\u001b[0m\n",
      "\u001b[1;32mINFO: Skipping download for beast of burden - remastered 1994 by the rolling stones as it already exists.\u001b[0m\n",
      "\u001b[1;32mINFO: Completed processing for song: beast of burden - remastered 1994 by the rolling stones\u001b[0m\n",
      "\u001b[1;32mINFO: Fetched Spotify audio features for wherever i may roam by metallica\u001b[0m\n",
      "\u001b[1;32mINFO: Skipping download for wherever i may roam by metallica as it already exists.\u001b[0m\n",
      "\u001b[1;32mINFO: Completed processing for song: wherever i may roam by metallica\u001b[0m\n",
      "\u001b[1;32mINFO: Fetched Spotify audio features for dreamer by ozzy osbourne\u001b[0m\n",
      "\u001b[1;32mINFO: Skipping download for dreamer by ozzy osbourne as it already exists.\u001b[0m\n",
      "\u001b[1;32mINFO: Completed processing for song: dreamer by ozzy osbourne\u001b[0m\n",
      "\u001b[1;32mINFO: Fetched Spotify audio features for one - remastered by metallica\u001b[0m\n",
      "\u001b[1;32mINFO: Skipping download for one - remastered by metallica as it already exists.\u001b[0m\n",
      "\u001b[1;32mINFO: Completed processing for song: one - remastered by metallica\u001b[0m\n",
      "\u001b[1;32mINFO: Fetched Spotify audio features for lonely day by system of a down\u001b[0m\n",
      "\u001b[1;32mINFO: Skipping download for lonely day by system of a down as it already exists.\u001b[0m\n",
      "\u001b[1;32mINFO: Completed processing for song: lonely day by system of a down\u001b[0m\n",
      "\u001b[1;32mINFO: Fetched Spotify audio features for around the world by red hot chili peppers\u001b[0m\n",
      "\u001b[1;32mINFO: Skipping download for around the world by red hot chili peppers as it already exists.\u001b[0m\n",
      "\u001b[1;32mINFO: Completed processing for song: around the world by red hot chili peppers\u001b[0m\n",
      "\u001b[1;32mINFO: Fetched Spotify audio features for let's go all the way by citizens!\u001b[0m\n",
      "\u001b[1;32mINFO: Skipping download for let's go all the way by citizens! as it already exists.\u001b[0m\n",
      "\u001b[1;32mINFO: Completed processing for song: let's go all the way by citizens!\u001b[0m\n",
      "\u001b[1;32mINFO: Fetched Spotify audio features for are you ready by ac/dc\u001b[0m\n",
      "\u001b[1;32mINFO: Skipping download for are you ready by ac/dc as it already exists.\u001b[0m\n",
      "\u001b[1;32mINFO: Completed processing for song: are you ready by ac/dc\u001b[0m\n",
      "\u001b[1;32mINFO: Fetched Spotify audio features for losing my religion by r.e.m.\u001b[0m\n",
      "\u001b[1;32mINFO: Skipping download for losing my religion by r.e.m. as it already exists.\u001b[0m\n",
      "\u001b[1;32mINFO: Completed processing for song: losing my religion by r.e.m.\u001b[0m\n",
      "\u001b[1;32mINFO: Fetched Spotify audio features for for those about to rock (we salute you) by ac/dc\u001b[0m\n",
      "\u001b[1;32mINFO: Skipping download for for those about to rock (we salute you) by ac/dc as it already exists.\u001b[0m\n",
      "\u001b[1;32mINFO: Completed processing for song: for those about to rock (we salute you) by ac/dc\u001b[0m\n",
      "\u001b[1;32mINFO: Fetched Spotify audio features for creep by radiohead\u001b[0m\n",
      "\u001b[1;32mINFO: Skipping download for creep by radiohead as it already exists.\u001b[0m\n",
      "\u001b[1;32mINFO: Completed processing for song: creep by radiohead\u001b[0m\n",
      "\u001b[1;32mINFO: Fetched Spotify audio features for song 2 - 2012 remaster by blur\u001b[0m\n",
      "\u001b[1;32mINFO: Skipping download for song 2 - 2012 remaster by blur as it already exists.\u001b[0m\n",
      "\u001b[1;32mINFO: Completed processing for song: song 2 - 2012 remaster by blur\u001b[0m\n",
      "\u001b[1;32mINFO: Fetched Spotify audio features for narcotic - radio edit by liquido\u001b[0m\n",
      "\u001b[1;32mINFO: Skipping download for narcotic - radio edit by liquido as it already exists.\u001b[0m\n",
      "\u001b[1;32mINFO: Completed processing for song: narcotic - radio edit by liquido\u001b[0m\n",
      "\u001b[1;32mINFO: Fetched Spotify audio features for i was born to love you - 2011 remaster by queen\u001b[0m\n",
      "\u001b[1;32mINFO: Skipping download for i was born to love you - 2011 remaster by queen as it already exists.\u001b[0m\n",
      "\u001b[1;32mINFO: Completed processing for song: i was born to love you - 2011 remaster by queen\u001b[0m\n",
      "\u001b[1;32mINFO: Fetched Spotify audio features for the adventures of rain dance maggie by red hot chili peppers\u001b[0m\n",
      "\u001b[1;32mINFO: Skipping download for the adventures of rain dance maggie by red hot chili peppers as it already exists.\u001b[0m\n",
      "\u001b[1;32mINFO: Completed processing for song: the adventures of rain dance maggie by red hot chili peppers\u001b[0m\n",
      "\u001b[1;32mINFO: Fetched Spotify audio features for scary love by the neighbourhood\u001b[0m\n",
      "\u001b[1;32mINFO: Skipping download for scary love by the neighbourhood as it already exists.\u001b[0m\n",
      "\u001b[1;32mINFO: Completed processing for song: scary love by the neighbourhood\u001b[0m\n",
      "\u001b[1;32mINFO: Fetched Spotify audio features for i could die for you by red hot chili peppers\u001b[0m\n",
      "\u001b[1;32mINFO: Skipping download for i could die for you by red hot chili peppers as it already exists.\u001b[0m\n",
      "\u001b[1;32mINFO: Completed processing for song: i could die for you by red hot chili peppers\u001b[0m\n",
      "\u001b[1;32mINFO: Fetched Spotify audio features for fade to black - remastered by metallica\u001b[0m\n",
      "\u001b[1;32mINFO: Skipping download for fade to black - remastered by metallica as it already exists.\u001b[0m\n",
      "\u001b[1;32mINFO: Completed processing for song: fade to black - remastered by metallica\u001b[0m\n",
      "\u001b[1;32mINFO: Fetched Spotify audio features for london calling - remastered by the clash\u001b[0m\n",
      "\u001b[1;32mINFO: Skipping download for london calling - remastered by the clash as it already exists.\u001b[0m\n",
      "\u001b[1;32mINFO: Completed processing for song: london calling - remastered by the clash\u001b[0m\n",
      "\u001b[1;32mINFO: Fetched Spotify audio features for this is the place by red hot chili peppers\u001b[0m\n",
      "\u001b[1;32mINFO: Skipping download for this is the place by red hot chili peppers as it already exists.\u001b[0m\n",
      "\u001b[1;32mINFO: Completed processing for song: this is the place by red hot chili peppers\u001b[0m\n",
      "\u001b[1;32mINFO: Fetched Spotify audio features for easily by red hot chili peppers\u001b[0m\n",
      "\u001b[1;32mINFO: Skipping download for easily by red hot chili peppers as it already exists.\u001b[0m\n",
      "\u001b[1;32mINFO: Completed processing for song: easily by red hot chili peppers\u001b[0m\n",
      "\u001b[1;32mINFO: Fetched Spotify audio features for the guns of brixton - remastered by the clash\u001b[0m\n",
      "\u001b[1;32mINFO: Skipping download for the guns of brixton - remastered by the clash as it already exists.\u001b[0m\n",
      "\u001b[1;32mINFO: Completed processing for song: the guns of brixton - remastered by the clash\u001b[0m\n",
      "\u001b[1;32mINFO: Fetched Spotify audio features for straight to hell - remastered by the clash\u001b[0m\n",
      "\u001b[1;32mINFO: Skipping download for straight to hell - remastered by the clash as it already exists.\u001b[0m\n",
      "\u001b[1;32mINFO: Completed processing for song: straight to hell - remastered by the clash\u001b[0m\n",
      "\u001b[1;32mINFO: Fetched Spotify audio features for white room by cream\u001b[0m\n",
      "\u001b[1;32mINFO: Skipping download for white room by cream as it already exists.\u001b[0m\n",
      "\u001b[1;32mINFO: Completed processing for song: white room by cream\u001b[0m\n",
      "\u001b[1;32mINFO: Fetched Spotify audio features for golden skans by klaxons\u001b[0m\n",
      "\u001b[1;32mINFO: Skipping download for golden skans by klaxons as it already exists.\u001b[0m\n",
      "\u001b[1;32mINFO: Completed processing for song: golden skans by klaxons\u001b[0m\n",
      "\u001b[1;32mINFO: Fetched Spotify audio features for restless by kakkmaddafakka\u001b[0m\n",
      "\u001b[1;32mINFO: Skipping download for restless by kakkmaddafakka as it already exists.\u001b[0m\n",
      "\u001b[1;32mINFO: Completed processing for song: restless by kakkmaddafakka\u001b[0m\n",
      "\u001b[1;32mINFO: Fetched Spotify audio features for friday i'm in love by the cure\u001b[0m\n",
      "\u001b[1;32mINFO: Skipping download for friday i'm in love by the cure as it already exists.\u001b[0m\n",
      "\u001b[1;32mINFO: Completed processing for song: friday i'm in love by the cure\u001b[0m\n",
      "\u001b[1;32mINFO: Fetched Spotify audio features for rock the casbah - remastered by the clash\u001b[0m\n",
      "\u001b[1;32mINFO: Skipping download for rock the casbah - remastered by the clash as it already exists.\u001b[0m\n",
      "\u001b[1;32mINFO: Completed processing for song: rock the casbah - remastered by the clash\u001b[0m\n",
      "\u001b[1;32mINFO: Fetched Spotify audio features for paralyzed by nf\u001b[0m\n",
      "\u001b[1;32mINFO: Skipping download for paralyzed by nf as it already exists.\u001b[0m\n",
      "\u001b[1;32mINFO: Completed processing for song: paralyzed by nf\u001b[0m\n",
      "\u001b[1;32mINFO: Fetched Spotify audio features for drifting away by nathan whitehead\u001b[0m\n"
     ]
    },
    {
     "name": "stderr",
     "output_type": "stream",
     "text": [
      "\u001b[1;33mWARNING: Lyrics not found for 'drifting away' by nathan whitehead using all available providers.\u001b[0m\n"
     ]
    },
    {
     "name": "stdout",
     "output_type": "stream",
     "text": [
      "\u001b[1;32mINFO: Skipping download for drifting away by nathan whitehead as it already exists.\u001b[0m\n",
      "\u001b[1;32mINFO: Completed processing for song: drifting away by nathan whitehead\u001b[0m\n",
      "\u001b[1;32mINFO: Fetched Spotify audio features for lost in the moment by nf\u001b[0m\n",
      "\u001b[1;32mINFO: Skipping download for lost in the moment by nf as it already exists.\u001b[0m\n",
      "\u001b[1;32mINFO: Completed processing for song: lost in the moment by nf\u001b[0m\n",
      "\u001b[1;32mINFO: Fetched Spotify audio features for honey go home by flora cash\u001b[0m\n",
      "\u001b[1;32mINFO: Skipping download for honey go home by flora cash as it already exists.\u001b[0m\n",
      "\u001b[1;32mINFO: Completed processing for song: honey go home by flora cash\u001b[0m\n",
      "\u001b[1;32mINFO: Fetched Spotify audio features for 7 years by lukas graham\u001b[0m\n",
      "\u001b[1;32mINFO: Skipping download for 7 years by lukas graham as it already exists.\u001b[0m\n",
      "\u001b[1;32mINFO: Completed processing for song: 7 years by lukas graham\u001b[0m\n",
      "\u001b[1;32mINFO: Fetched Spotify audio features for choke by onerepublic\u001b[0m\n",
      "\u001b[1;32mINFO: Skipping download for choke by onerepublic as it already exists.\u001b[0m\n",
      "\u001b[1;32mINFO: Completed processing for song: choke by onerepublic\u001b[0m\n",
      "\u001b[1;32mINFO: Fetched Spotify audio features for something i need by onerepublic\u001b[0m\n",
      "\u001b[1;32mINFO: Skipping download for something i need by onerepublic as it already exists.\u001b[0m\n",
      "\u001b[1;32mINFO: Completed processing for song: something i need by onerepublic\u001b[0m\n",
      "\u001b[1;32mINFO: Fetched Spotify audio features for under your skin by tall heights\u001b[0m\n"
     ]
    },
    {
     "name": "stderr",
     "output_type": "stream",
     "text": [
      "\u001b[1;33mWARNING: Lyrics not found for 'under your skin' by tall heights using all available providers.\u001b[0m\n"
     ]
    },
    {
     "name": "stdout",
     "output_type": "stream",
     "text": [
      "\u001b[1;32mINFO: Skipping download for under your skin by tall heights as it already exists.\u001b[0m\n",
      "\u001b[1;32mINFO: Completed processing for song: under your skin by tall heights\u001b[0m\n",
      "\u001b[1;32mINFO: Fetched Spotify audio features for speed of sound by coldplay\u001b[0m\n",
      "\u001b[1;32mINFO: Skipping download for speed of sound by coldplay as it already exists.\u001b[0m\n",
      "\u001b[1;32mINFO: Completed processing for song: speed of sound by coldplay\u001b[0m\n",
      "\u001b[1;32mINFO: Fetched Spotify audio features for orphans by coldplay\u001b[0m\n",
      "\u001b[1;32mINFO: Skipping download for orphans by coldplay as it already exists.\u001b[0m\n",
      "\u001b[1;32mINFO: Completed processing for song: orphans by coldplay\u001b[0m\n",
      "\u001b[1;32mINFO: Fetched Spotify audio features for cry cry cry by coldplay\u001b[0m\n",
      "\u001b[1;32mINFO: Skipping download for cry cry cry by coldplay as it already exists.\u001b[0m\n",
      "\u001b[1;32mINFO: Completed processing for song: cry cry cry by coldplay\u001b[0m\n",
      "\u001b[1;32mINFO: Fetched Spotify audio features for a l i e n s by coldplay\u001b[0m\n",
      "\u001b[1;32mINFO: Skipping download for a l i e n s by coldplay as it already exists.\u001b[0m\n",
      "\u001b[1;32mINFO: Completed processing for song: a l i e n s by coldplay\u001b[0m\n",
      "\u001b[1;32mINFO: Fetched Spotify audio features for magic by coldplay\u001b[0m\n",
      "\u001b[1;32mINFO: Skipping download for magic by coldplay as it already exists.\u001b[0m\n",
      "\u001b[1;32mINFO: Completed processing for song: magic by coldplay\u001b[0m\n",
      "\u001b[1;32mINFO: Fetched Spotify audio features for everyday life by coldplay\u001b[0m\n",
      "\u001b[1;32mINFO: Skipping download for everyday life by coldplay as it already exists.\u001b[0m\n",
      "\u001b[1;32mINFO: Completed processing for song: everyday life by coldplay\u001b[0m\n",
      "\u001b[1;32mINFO: Fetched Spotify audio features for clocks by coldplay\u001b[0m\n",
      "\u001b[1;32mINFO: Skipping download for clocks by coldplay as it already exists.\u001b[0m\n",
      "\u001b[1;32mINFO: Completed processing for song: clocks by coldplay\u001b[0m\n",
      "\u001b[1;32mINFO: Fetched Spotify audio features for guns by coldplay\u001b[0m\n"
     ]
    },
    {
     "name": "stderr",
     "output_type": "stream",
     "text": [
      "\u001b[1;33mWARNING: Lyrics not found for 'guns' by coldplay using all available providers.\u001b[0m\n"
     ]
    },
    {
     "name": "stdout",
     "output_type": "stream",
     "text": [
      "\u001b[1;32mINFO: Skipping download for guns by coldplay as it already exists.\u001b[0m\n",
      "\u001b[1;32mINFO: Completed processing for song: guns by coldplay\u001b[0m\n",
      "\u001b[1;32mINFO: Fetched Spotify audio features for up&up by coldplay\u001b[0m\n",
      "\u001b[1;32mINFO: Skipping download for up&up by coldplay as it already exists.\u001b[0m\n",
      "\u001b[1;32mINFO: Completed processing for song: up&up by coldplay\u001b[0m\n",
      "\u001b[1;32mINFO: Fetched Spotify audio features for daddy by coldplay\u001b[0m\n"
     ]
    },
    {
     "name": "stderr",
     "output_type": "stream",
     "text": [
      "\u001b[1;33mWARNING: Lyrics not found for 'daddy' by coldplay using all available providers.\u001b[0m\n"
     ]
    },
    {
     "name": "stdout",
     "output_type": "stream",
     "text": [
      "\u001b[1;32mINFO: Skipping download for daddy by coldplay as it already exists.\u001b[0m\n",
      "\u001b[1;32mINFO: Completed processing for song: daddy by coldplay\u001b[0m\n",
      "\u001b[1;32mINFO: Fetched Spotify audio features for yellow by coldplay\u001b[0m\n",
      "\u001b[1;32mINFO: Skipping download for yellow by coldplay as it already exists.\u001b[0m\n",
      "\u001b[1;32mINFO: Completed processing for song: yellow by coldplay\u001b[0m\n",
      "\u001b[1;32mINFO: Fetched Spotify audio features for when i need a friend by coldplay\u001b[0m\n",
      "\u001b[1;32mINFO: Skipping download for when i need a friend by coldplay as it already exists.\u001b[0m\n",
      "\u001b[1;32mINFO: Completed processing for song: when i need a friend by coldplay\u001b[0m\n",
      "\u001b[1;32mINFO: Fetched Spotify audio features for violet hill by coldplay\u001b[0m\n",
      "\u001b[1;32mINFO: Skipping download for violet hill by coldplay as it already exists.\u001b[0m\n",
      "\u001b[1;32mINFO: Completed processing for song: violet hill by coldplay\u001b[0m\n",
      "\u001b[1;32mINFO: Fetched Spotify audio features for old friends by coldplay\u001b[0m\n",
      "\u001b[1;32mINFO: Skipping download for old friends by coldplay as it already exists.\u001b[0m\n",
      "\u001b[1;32mINFO: Completed processing for song: old friends by coldplay\u001b[0m\n",
      "\u001b[1;32mINFO: Fetched Spotify audio features for every teardrop is a waterfall by coldplay\u001b[0m\n",
      "\u001b[1;32mINFO: Skipping download for every teardrop is a waterfall by coldplay as it already exists.\u001b[0m\n",
      "\u001b[1;32mINFO: Completed processing for song: every teardrop is a waterfall by coldplay\u001b[0m\n",
      "\u001b[1;32mINFO: Fetched Spotify audio features for yellow - live from spotify london by coldplay\u001b[0m\n",
      "\u001b[1;32mINFO: Skipping download for yellow - live from spotify london by coldplay as it already exists.\u001b[0m\n",
      "\u001b[1;32mINFO: Completed processing for song: yellow - live from spotify london by coldplay\u001b[0m\n",
      "\u001b[1;32mINFO: Fetched Spotify audio features for princess of china by coldplay\u001b[0m\n",
      "\u001b[1;32mINFO: Skipping download for princess of china by coldplay as it already exists.\u001b[0m\n",
      "\u001b[1;32mINFO: Completed processing for song: princess of china by coldplay\u001b[0m\n",
      "\u001b[1;32mINFO: Fetched Spotify audio features for see you soon by coldplay\u001b[0m\n",
      "\u001b[1;32mINFO: Skipping download for see you soon by coldplay as it already exists.\u001b[0m\n",
      "\u001b[1;32mINFO: Completed processing for song: see you soon by coldplay\u001b[0m\n",
      "\u001b[1;32mINFO: Fetched Spotify audio features for vulture, vulture by of monsters and men\u001b[0m\n",
      "\u001b[1;32mINFO: Skipping download for vulture, vulture by of monsters and men as it already exists.\u001b[0m\n",
      "\u001b[1;32mINFO: Completed processing for song: vulture, vulture by of monsters and men\u001b[0m\n",
      "\u001b[1;32mINFO: Fetched Spotify audio features for allergic by post malone\u001b[0m\n",
      "\u001b[1;32mINFO: Skipping download for allergic by post malone as it already exists.\u001b[0m\n",
      "\u001b[1;32mINFO: Completed processing for song: allergic by post malone\u001b[0m\n",
      "\u001b[1;32mINFO: Fetched Spotify audio features for miss you 2 by gabrielle aplin\u001b[0m\n",
      "\u001b[1;32mINFO: Skipping download for miss you 2 by gabrielle aplin as it already exists.\u001b[0m\n",
      "\u001b[1;32mINFO: Completed processing for song: miss you 2 by gabrielle aplin\u001b[0m\n",
      "\u001b[1;32mINFO: Fetched Spotify audio features for losing me by gabrielle aplin\u001b[0m\n",
      "\u001b[1;32mINFO: Skipping download for losing me by gabrielle aplin as it already exists.\u001b[0m\n",
      "\u001b[1;32mINFO: Completed processing for song: losing me by gabrielle aplin\u001b[0m\n",
      "\u001b[1;32mINFO: Fetched Spotify audio features for dear happy by gabrielle aplin\u001b[0m\n",
      "\u001b[1;32mINFO: Skipping download for dear happy by gabrielle aplin as it already exists.\u001b[0m\n",
      "\u001b[1;32mINFO: Completed processing for song: dear happy by gabrielle aplin\u001b[0m\n",
      "\u001b[1;32mINFO: Fetched Spotify audio features for home by gabrielle aplin\u001b[0m\n",
      "\u001b[1;32mINFO: Skipping download for home by gabrielle aplin as it already exists.\u001b[0m\n",
      "\u001b[1;32mINFO: Completed processing for song: home by gabrielle aplin\u001b[0m\n",
      "\u001b[1;32mINFO: Fetched Spotify audio features for please don't say you love me by gabrielle aplin\u001b[0m\n",
      "\u001b[1;32mINFO: Skipping download for please don't say you love me by gabrielle aplin as it already exists.\u001b[0m\n",
      "\u001b[1;32mINFO: Completed processing for song: please don't say you love me by gabrielle aplin\u001b[0m\n",
      "\u001b[1;32mINFO: Fetched Spotify audio features for monsters by james blunt\u001b[0m\n"
     ]
    },
    {
     "name": "stderr",
     "output_type": "stream",
     "text": [
      "\u001b[1;33mWARNING: Lyrics not found for 'monsters' by james blunt using all available providers.\u001b[0m\n"
     ]
    },
    {
     "name": "stdout",
     "output_type": "stream",
     "text": [
      "\u001b[1;32mINFO: Skipping download for monsters by james blunt as it already exists.\u001b[0m\n",
      "\u001b[1;32mINFO: Completed processing for song: monsters by james blunt\u001b[0m\n",
      "\u001b[1;32mINFO: Fetched Spotify audio features for wherever you are by kodaline\u001b[0m\n",
      "\u001b[1;32mINFO: Skipping download for wherever you are by kodaline as it already exists.\u001b[0m\n",
      "\u001b[1;32mINFO: Completed processing for song: wherever you are by kodaline\u001b[0m\n",
      "\u001b[1;32mINFO: Fetched Spotify audio features for pioneer by freddie\u001b[0m\n",
      "\u001b[1;32mINFO: Skipping download for pioneer by freddie as it already exists.\u001b[0m\n",
      "\u001b[1;32mINFO: Completed processing for song: pioneer by freddie\u001b[0m\n",
      "\u001b[1;32mINFO: Fetched Spotify audio features for mary, did you know? by pentatonix\u001b[0m\n",
      "\u001b[1;32mINFO: Skipping download for mary, did you know? by pentatonix as it already exists.\u001b[0m\n",
      "\u001b[1;32mINFO: Completed processing for song: mary, did you know? by pentatonix\u001b[0m\n",
      "\u001b[1;32mINFO: Fetched Spotify audio features for beds are burning - remastered by midnight oil\u001b[0m\n",
      "\u001b[1;32mINFO: Skipping download for beds are burning - remastered by midnight oil as it already exists.\u001b[0m\n",
      "\u001b[1;32mINFO: Completed processing for song: beds are burning - remastered by midnight oil\u001b[0m\n",
      "\u001b[1;32mINFO: Fetched Spotify audio features for narcotic by younotus\u001b[0m\n",
      "\u001b[1;32mINFO: Skipping download for narcotic by younotus as it already exists.\u001b[0m\n",
      "\u001b[1;32mINFO: Completed processing for song: narcotic by younotus\u001b[0m\n",
      "\u001b[1;32mINFO: Fetched Spotify audio features for home by lighthouse x\u001b[0m\n"
     ]
    },
    {
     "name": "stderr",
     "output_type": "stream",
     "text": [
      "\u001b[1;33mWARNING: Lyrics not found for 'home' by lighthouse x using all available providers.\u001b[0m\n"
     ]
    },
    {
     "name": "stdout",
     "output_type": "stream",
     "text": [
      "\u001b[1;32mINFO: Skipping download for home by lighthouse x as it already exists.\u001b[0m\n",
      "\u001b[1;32mINFO: Completed processing for song: home by lighthouse x\u001b[0m\n",
      "\u001b[1;32mINFO: Fetched Spotify audio features for warriors by league of legends\u001b[0m\n",
      "\u001b[1;32mINFO: Skipping download for warriors by league of legends as it already exists.\u001b[0m\n",
      "\u001b[1;32mINFO: Completed processing for song: warriors by league of legends\u001b[0m\n",
      "\u001b[1;32mINFO: Fetched Spotify audio features for crazy by seal\u001b[0m\n",
      "\u001b[1;32mINFO: Skipping download for crazy by seal as it already exists.\u001b[0m\n",
      "\u001b[1;32mINFO: Completed processing for song: crazy by seal\u001b[0m\n",
      "\u001b[1;32mINFO: Fetched Spotify audio features for lean on (feat. mø & dj snake) by major lazer\u001b[0m\n",
      "\u001b[1;32mINFO: Skipping download for lean on (feat. mø & dj snake) by major lazer as it already exists.\u001b[0m\n",
      "\u001b[1;32mINFO: Completed processing for song: lean on (feat. mø & dj snake) by major lazer\u001b[0m\n",
      "\u001b[1;32mINFO: Fetched Spotify audio features for na dłoni by kękę\u001b[0m\n",
      "\u001b[1;32mINFO: Skipping download for na dłoni by kękę as it already exists.\u001b[0m\n",
      "\u001b[1;32mINFO: Completed processing for song: na dłoni by kękę\u001b[0m\n",
      "\u001b[1;32mINFO: Fetched Spotify audio features for remember me (dúo) by miguel\u001b[0m\n",
      "\u001b[1;32mINFO: Skipping download for remember me (dúo) by miguel as it already exists.\u001b[0m\n",
      "\u001b[1;32mINFO: Completed processing for song: remember me (dúo) by miguel\u001b[0m\n",
      "\u001b[1;32mINFO: Fetched Spotify audio features for come together - remastered 2009 by the beatles\u001b[0m\n",
      "\u001b[1;32mINFO: Skipping download for come together - remastered 2009 by the beatles as it already exists.\u001b[0m\n",
      "\u001b[1;32mINFO: Completed processing for song: come together - remastered 2009 by the beatles\u001b[0m\n",
      "\u001b[1;32mINFO: Fetched Spotify audio features for love is a shield by camouflage\u001b[0m\n",
      "\u001b[1;32mINFO: Skipping download for love is a shield by camouflage as it already exists.\u001b[0m\n",
      "\u001b[1;32mINFO: Completed processing for song: love is a shield by camouflage\u001b[0m\n",
      "\u001b[1;32mINFO: Fetched Spotify audio features for putting the damage on - 2016 remaster by tori amos\u001b[0m\n",
      "\u001b[1;32mINFO: Skipping download for putting the damage on - 2016 remaster by tori amos as it already exists.\u001b[0m\n",
      "\u001b[1;32mINFO: Completed processing for song: putting the damage on - 2016 remaster by tori amos\u001b[0m\n",
      "\u001b[1;32mINFO: Fetched Spotify audio features for jesus' son by placebo\u001b[0m\n",
      "\u001b[1;32mINFO: Skipping download for jesus' son by placebo as it already exists.\u001b[0m\n",
      "\u001b[1;32mINFO: Completed processing for song: jesus' son by placebo\u001b[0m\n",
      "\u001b[1;32mINFO: Fetched Spotify audio features for co się z nami stało by strachy na lachy\u001b[0m\n",
      "\u001b[1;32mINFO: Skipping download for co się z nami stało by strachy na lachy as it already exists.\u001b[0m\n",
      "\u001b[1;32mINFO: Completed processing for song: co się z nami stało by strachy na lachy\u001b[0m\n",
      "\u001b[1;32mINFO: Fetched Spotify audio features for cambodia - single version by kim wilde\u001b[0m\n",
      "\u001b[1;32mINFO: Skipping download for cambodia - single version by kim wilde as it already exists.\u001b[0m\n",
      "\u001b[1;32mINFO: Completed processing for song: cambodia - single version by kim wilde\u001b[0m\n",
      "\u001b[1;32mINFO: Fetched Spotify audio features for nothing compares 2 u by sinéad o'connor\u001b[0m\n",
      "\u001b[1;32mINFO: Skipping download for nothing compares 2 u by sinéad o'connor as it already exists.\u001b[0m\n",
      "\u001b[1;32mINFO: Completed processing for song: nothing compares 2 u by sinéad o'connor\u001b[0m\n",
      "\u001b[1;32mINFO: Fetched Spotify audio features for heart - 2001 remaster by pet shop boys\u001b[0m\n",
      "\u001b[1;32mINFO: Skipping download for heart - 2001 remaster by pet shop boys as it already exists.\u001b[0m\n",
      "\u001b[1;32mINFO: Completed processing for song: heart - 2001 remaster by pet shop boys\u001b[0m\n",
      "\u001b[1;32mINFO: Fetched Spotify audio features for rent - 2001 remaster by pet shop boys\u001b[0m\n",
      "\u001b[1;32mINFO: Skipping download for rent - 2001 remaster by pet shop boys as it already exists.\u001b[0m\n",
      "\u001b[1;32mINFO: Completed processing for song: rent - 2001 remaster by pet shop boys\u001b[0m\n",
      "\u001b[1;32mINFO: Fetched Spotify audio features for chenko (tenka-io) by red box\u001b[0m\n",
      "\u001b[1;32mINFO: Skipping download for chenko (tenka-io) by red box as it already exists.\u001b[0m\n",
      "\u001b[1;32mINFO: Completed processing for song: chenko (tenka-io) by red box\u001b[0m\n",
      "\u001b[1;32mINFO: Fetched Spotify audio features for you can call me al by paul simon\u001b[0m\n",
      "\u001b[1;32mINFO: Skipping download for you can call me al by paul simon as it already exists.\u001b[0m\n",
      "\u001b[1;32mINFO: Completed processing for song: you can call me al by paul simon\u001b[0m\n",
      "\u001b[1;32mINFO: Fetched Spotify audio features for el condor pasa (if i could) by simon & garfunkel\u001b[0m\n",
      "\u001b[1;32mINFO: Skipping download for el condor pasa (if i could) by simon & garfunkel as it already exists.\u001b[0m\n",
      "\u001b[1;32mINFO: Completed processing for song: el condor pasa (if i could) by simon & garfunkel\u001b[0m\n",
      "\u001b[1;32mINFO: Fetched Spotify audio features for mrs. robinson - from \"the graduate\" soundtrack by simon & garfunkel\u001b[0m\n",
      "\u001b[1;32mINFO: Skipping download for mrs. robinson - from \"the graduate\" soundtrack by simon & garfunkel as it already exists.\u001b[0m\n",
      "\u001b[1;32mINFO: Completed processing for song: mrs. robinson - from \"the graduate\" soundtrack by simon & garfunkel\u001b[0m\n",
      "\u001b[1;32mINFO: Fetched Spotify audio features for jumpsuit by twenty one pilots\u001b[0m\n",
      "\u001b[1;32mINFO: Skipping download for jumpsuit by twenty one pilots as it already exists.\u001b[0m\n",
      "\u001b[1;32mINFO: Completed processing for song: jumpsuit by twenty one pilots\u001b[0m\n",
      "\u001b[1;32mINFO: Fetched Spotify audio features for a place i know by the cranberries\u001b[0m\n",
      "\u001b[1;32mINFO: Skipping download for a place i know by the cranberries as it already exists.\u001b[0m\n",
      "\u001b[1;32mINFO: Completed processing for song: a place i know by the cranberries\u001b[0m\n",
      "\u001b[1;32mINFO: Fetched Spotify audio features for crazy heart by the cranberries\u001b[0m\n",
      "\u001b[1;32mINFO: Skipping download for crazy heart by the cranberries as it already exists.\u001b[0m\n",
      "\u001b[1;32mINFO: Completed processing for song: crazy heart by the cranberries\u001b[0m\n",
      "\u001b[1;32mINFO: Fetched Spotify audio features for lost by the cranberries\u001b[0m\n"
     ]
    },
    {
     "name": "stderr",
     "output_type": "stream",
     "text": [
      "\u001b[1;33mWARNING: Lyrics not found for 'lost' by the cranberries using all available providers.\u001b[0m\n"
     ]
    },
    {
     "name": "stdout",
     "output_type": "stream",
     "text": [
      "\u001b[1;32mINFO: Skipping download for lost by the cranberries as it already exists.\u001b[0m\n",
      "\u001b[1;32mINFO: Completed processing for song: lost by the cranberries\u001b[0m\n",
      "\u001b[1;32mINFO: Fetched Spotify audio features for got it by the cranberries\u001b[0m\n"
     ]
    },
    {
     "name": "stderr",
     "output_type": "stream",
     "text": [
      "\u001b[1;33mWARNING: Lyrics not found for 'got it' by the cranberries using all available providers.\u001b[0m\n"
     ]
    },
    {
     "name": "stdout",
     "output_type": "stream",
     "text": [
      "\u001b[1;32mINFO: Skipping download for got it by the cranberries as it already exists.\u001b[0m\n",
      "\u001b[1;32mINFO: Completed processing for song: got it by the cranberries\u001b[0m\n",
      "\u001b[1;32mINFO: Fetched Spotify audio features for all over now by the cranberries\u001b[0m\n",
      "\u001b[1;32mINFO: Skipping download for all over now by the cranberries as it already exists.\u001b[0m\n",
      "\u001b[1;32mINFO: Completed processing for song: all over now by the cranberries\u001b[0m\n",
      "\u001b[1;32mINFO: Fetched Spotify audio features for dziś późno pójdę spać by kwiat jabłoni\u001b[0m\n",
      "\u001b[1;32mINFO: Skipping download for dziś późno pójdę spać by kwiat jabłoni as it already exists.\u001b[0m\n",
      "\u001b[1;32mINFO: Completed processing for song: dziś późno pójdę spać by kwiat jabłoni\u001b[0m\n",
      "\u001b[1;32mINFO: Fetched Spotify audio features for worthy of you by plested\u001b[0m\n",
      "\u001b[1;32mINFO: Skipping download for worthy of you by plested as it already exists.\u001b[0m\n",
      "\u001b[1;32mINFO: Completed processing for song: worthy of you by plested\u001b[0m\n",
      "\u001b[1;32mINFO: Fetched Spotify audio features for constant headache by joyce manor\u001b[0m\n",
      "\u001b[1;32mINFO: Skipping download for constant headache by joyce manor as it already exists.\u001b[0m\n",
      "\u001b[1;32mINFO: Completed processing for song: constant headache by joyce manor\u001b[0m\n",
      "\u001b[1;32mINFO: Fetched Spotify audio features for miasto budzi się - 2014 remastered by yugopolis\u001b[0m\n",
      "\u001b[1;32mINFO: Skipping download for miasto budzi się - 2014 remastered by yugopolis as it already exists.\u001b[0m\n",
      "\u001b[1;32mINFO: Completed processing for song: miasto budzi się - 2014 remastered by yugopolis\u001b[0m\n",
      "\u001b[1;32mINFO: Fetched Spotify audio features for white noise by coasts\u001b[0m\n"
     ]
    },
    {
     "name": "stderr",
     "output_type": "stream",
     "text": [
      "\u001b[1;33mWARNING: Lyrics not found for 'white noise' by coasts using all available providers.\u001b[0m\n"
     ]
    },
    {
     "name": "stdout",
     "output_type": "stream",
     "text": [
      "\u001b[1;32mINFO: Skipping download for white noise by coasts as it already exists.\u001b[0m\n",
      "\u001b[1;32mINFO: Completed processing for song: white noise by coasts\u001b[0m\n",
      "\u001b[1;32mINFO: Fetched Spotify audio features for aiko by calm shores\u001b[0m\n"
     ]
    },
    {
     "name": "stderr",
     "output_type": "stream",
     "text": [
      "\u001b[1;33mWARNING: Lyrics not found for 'aiko' by calm shores using all available providers.\u001b[0m\n"
     ]
    },
    {
     "name": "stdout",
     "output_type": "stream",
     "text": [
      "\u001b[1;32mINFO: Skipping download for aiko by calm shores as it already exists.\u001b[0m\n",
      "\u001b[1;32mINFO: Completed processing for song: aiko by calm shores\u001b[0m\n",
      "\u001b[1;32mINFO: Fetched Spotify audio features for sweden by c418\u001b[0m\n"
     ]
    },
    {
     "name": "stderr",
     "output_type": "stream",
     "text": [
      "\u001b[1;33mWARNING: Lyrics not found for 'sweden' by c418 using all available providers.\u001b[0m\n"
     ]
    },
    {
     "name": "stdout",
     "output_type": "stream",
     "text": [
      "\u001b[1;32mINFO: Skipping download for sweden by c418 as it already exists.\u001b[0m\n",
      "\u001b[1;32mINFO: Completed processing for song: sweden by c418\u001b[0m\n",
      "\u001b[1;32mINFO: Fetched Spotify audio features for break your heart by taio cruz\u001b[0m\n",
      "\u001b[1;32mINFO: Skipping download for break your heart by taio cruz as it already exists.\u001b[0m\n",
      "\u001b[1;32mINFO: Completed processing for song: break your heart by taio cruz\u001b[0m\n",
      "\u001b[1;32mINFO: Fetched Spotify audio features for ciao ciao siciliano by tony tabbi\u001b[0m\n"
     ]
    },
    {
     "name": "stderr",
     "output_type": "stream",
     "text": [
      "\u001b[1;33mWARNING: Lyrics not found for 'ciao ciao siciliano' by tony tabbi using all available providers.\u001b[0m\n"
     ]
    },
    {
     "name": "stdout",
     "output_type": "stream",
     "text": [
      "\u001b[1;32mINFO: Skipping download for ciao ciao siciliano by tony tabbi as it already exists.\u001b[0m\n",
      "\u001b[1;32mINFO: Completed processing for song: ciao ciao siciliano by tony tabbi\u001b[0m\n",
      "\u001b[1;32mINFO: Fetched Spotify audio features for someone like you by adele\u001b[0m\n",
      "\u001b[1;32mINFO: Skipping download for someone like you by adele as it already exists.\u001b[0m\n",
      "\u001b[1;32mINFO: Completed processing for song: someone like you by adele\u001b[0m\n",
      "\u001b[1;32mINFO: Fetched Spotify audio features for some say by nea\u001b[0m\n",
      "\u001b[1;32mINFO: Skipping download for some say by nea as it already exists.\u001b[0m\n",
      "\u001b[1;32mINFO: Completed processing for song: some say by nea\u001b[0m\n",
      "\u001b[1;32mINFO: Fetched Spotify audio features for nervous - acoustic by gavin james\u001b[0m\n",
      "\u001b[1;32mINFO: Skipping download for nervous - acoustic by gavin james as it already exists.\u001b[0m\n",
      "\u001b[1;32mINFO: Completed processing for song: nervous - acoustic by gavin james\u001b[0m\n",
      "\u001b[1;32mINFO: Fetched Spotify audio features for spirits by the strumbellas\u001b[0m\n",
      "\u001b[1;32mINFO: Skipping download for spirits by the strumbellas as it already exists.\u001b[0m\n",
      "\u001b[1;32mINFO: Completed processing for song: spirits by the strumbellas\u001b[0m\n",
      "\u001b[1;32mINFO: Fetched Spotify audio features for better days by old sea brigade\u001b[0m\n"
     ]
    },
    {
     "name": "stderr",
     "output_type": "stream",
     "text": [
      "\u001b[1;33mWARNING: Lyrics not found for 'better days' by old sea brigade using all available providers.\u001b[0m\n"
     ]
    },
    {
     "name": "stdout",
     "output_type": "stream",
     "text": [
      "\u001b[1;32mINFO: Skipping download for better days by old sea brigade as it already exists.\u001b[0m\n",
      "\u001b[1;32mINFO: Completed processing for song: better days by old sea brigade\u001b[0m\n",
      "\u001b[1;32mINFO: Fetched Spotify audio features for i can't make you love me by dave thomas junior\u001b[0m\n",
      "\u001b[1;32mINFO: Skipping download for i can't make you love me by dave thomas junior as it already exists.\u001b[0m\n",
      "\u001b[1;32mINFO: Completed processing for song: i can't make you love me by dave thomas junior\u001b[0m\n",
      "\u001b[1;32mINFO: Fetched Spotify audio features for when i let go by fay wildhagen\u001b[0m\n",
      "\u001b[1;32mINFO: Skipping download for when i let go by fay wildhagen as it already exists.\u001b[0m\n",
      "\u001b[1;32mINFO: Completed processing for song: when i let go by fay wildhagen\u001b[0m\n",
      "\u001b[1;32mINFO: Fetched Spotify audio features for the weight of us by sanders bohlke\u001b[0m\n",
      "\u001b[1;32mINFO: Skipping download for the weight of us by sanders bohlke as it already exists.\u001b[0m\n",
      "\u001b[1;32mINFO: Completed processing for song: the weight of us by sanders bohlke\u001b[0m\n",
      "\u001b[1;32mINFO: Fetched Spotify audio features for cough syrup - alternate radio edit by young the giant\u001b[0m\n",
      "\u001b[1;32mINFO: Skipping download for cough syrup - alternate radio edit by young the giant as it already exists.\u001b[0m\n",
      "\u001b[1;32mINFO: Completed processing for song: cough syrup - alternate radio edit by young the giant\u001b[0m\n",
      "\u001b[1;32mINFO: Fetched Spotify audio features for first defeat by noah gundersen\u001b[0m\n",
      "\u001b[1;32mINFO: Skipping download for first defeat by noah gundersen as it already exists.\u001b[0m\n",
      "\u001b[1;32mINFO: Completed processing for song: first defeat by noah gundersen\u001b[0m\n",
      "\u001b[1;32mINFO: Fetched Spotify audio features for save yourself by kaleo\u001b[0m\n",
      "\u001b[1;32mINFO: Skipping download for save yourself by kaleo as it already exists.\u001b[0m\n",
      "\u001b[1;32mINFO: Completed processing for song: save yourself by kaleo\u001b[0m\n",
      "\u001b[1;32mINFO: Fetched Spotify audio features for like a river runs by bleachers\u001b[0m\n",
      "\u001b[1;32mINFO: Skipping download for like a river runs by bleachers as it already exists.\u001b[0m\n",
      "\u001b[1;32mINFO: Completed processing for song: like a river runs by bleachers\u001b[0m\n",
      "\u001b[1;32mINFO: Fetched Spotify audio features for same sea by lights\u001b[0m\n",
      "\u001b[1;32mINFO: Skipping download for same sea by lights as it already exists.\u001b[0m\n",
      "\u001b[1;32mINFO: Completed processing for song: same sea by lights\u001b[0m\n",
      "\u001b[1;32mINFO: Fetched Spotify audio features for zombie by damned anthem\u001b[0m\n"
     ]
    },
    {
     "name": "stderr",
     "output_type": "stream",
     "text": [
      "\u001b[1;33mWARNING: Lyrics not found for 'zombie' by damned anthem using all available providers.\u001b[0m\n"
     ]
    },
    {
     "name": "stdout",
     "output_type": "stream",
     "text": [
      "\u001b[1;32mINFO: Skipping download for zombie by damned anthem as it already exists.\u001b[0m\n",
      "\u001b[1;32mINFO: Completed processing for song: zombie by damned anthem\u001b[0m\n",
      "\u001b[1;32mINFO: Fetched Spotify audio features for you and me by yelawolf\u001b[0m\n",
      "\u001b[1;32mINFO: Skipping download for you and me by yelawolf as it already exists.\u001b[0m\n",
      "\u001b[1;32mINFO: Completed processing for song: you and me by yelawolf\u001b[0m\n",
      "\u001b[1;32mINFO: Fetched Spotify audio features for lightning by yelawolf\u001b[0m\n"
     ]
    },
    {
     "name": "stderr",
     "output_type": "stream",
     "text": [
      "\u001b[1;33mWARNING: Lyrics not found for 'lightning' by yelawolf using all available providers.\u001b[0m\n"
     ]
    },
    {
     "name": "stdout",
     "output_type": "stream",
     "text": [
      "\u001b[1;32mINFO: Skipping download for lightning by yelawolf as it already exists.\u001b[0m\n",
      "\u001b[1;32mINFO: Completed processing for song: lightning by yelawolf\u001b[0m\n",
      "\u001b[1;32mINFO: Fetched Spotify audio features for so long by yelawolf\u001b[0m\n"
     ]
    },
    {
     "name": "stderr",
     "output_type": "stream",
     "text": [
      "\u001b[1;33mWARNING: Lyrics not found for 'so long' by yelawolf using all available providers.\u001b[0m\n"
     ]
    },
    {
     "name": "stdout",
     "output_type": "stream",
     "text": [
      "\u001b[1;32mINFO: Skipping download for so long by yelawolf as it already exists.\u001b[0m\n",
      "\u001b[1;32mINFO: Completed processing for song: so long by yelawolf\u001b[0m\n",
      "\u001b[1;32mINFO: Fetched Spotify audio features for keep on rollin by yelawolf\u001b[0m\n",
      "\u001b[1;32mINFO: Skipping download for keep on rollin by yelawolf as it already exists.\u001b[0m\n",
      "\u001b[1;32mINFO: Completed processing for song: keep on rollin by yelawolf\u001b[0m\n",
      "\u001b[1;32mINFO: Fetched Spotify audio features for long nights by eddie vedder\u001b[0m\n",
      "\u001b[1;32mINFO: Skipping download for long nights by eddie vedder as it already exists.\u001b[0m\n",
      "\u001b[1;32mINFO: Completed processing for song: long nights by eddie vedder\u001b[0m\n",
      "\u001b[1;32mINFO: Fetched Spotify audio features for in another life (goodbye) by jason walker\u001b[0m\n"
     ]
    },
    {
     "name": "stderr",
     "output_type": "stream",
     "text": [
      "\u001b[1;33mWARNING: Lyrics not found for 'in another life' by jason walker using all available providers.\u001b[0m\n"
     ]
    },
    {
     "name": "stdout",
     "output_type": "stream",
     "text": [
      "\u001b[1;32mINFO: Skipping download for in another life (goodbye) by jason walker as it already exists.\u001b[0m\n",
      "\u001b[1;32mINFO: Completed processing for song: in another life (goodbye) by jason walker\u001b[0m\n",
      "\u001b[1;32mINFO: Fetched Spotify audio features for in another life by harper blynn\u001b[0m\n",
      "\u001b[1;32mINFO: Skipping download for in another life by harper blynn as it already exists.\u001b[0m\n",
      "\u001b[1;32mINFO: Completed processing for song: in another life by harper blynn\u001b[0m\n",
      "\u001b[1;32mINFO: Fetched Spotify audio features for light on by maggie rogers\u001b[0m\n",
      "\u001b[1;32mINFO: Skipping download for light on by maggie rogers as it already exists.\u001b[0m\n",
      "\u001b[1;32mINFO: Completed processing for song: light on by maggie rogers\u001b[0m\n",
      "\u001b[1;32mINFO: Fetched Spotify audio features for you're somebody else - acoustic by flora cash\u001b[0m\n",
      "\u001b[1;32mINFO: Skipping download for you're somebody else - acoustic by flora cash as it already exists.\u001b[0m\n",
      "\u001b[1;32mINFO: Completed processing for song: you're somebody else - acoustic by flora cash\u001b[0m\n",
      "\u001b[1;32mINFO: Fetched Spotify audio features for somebody's watching me - single version by rockwell\u001b[0m\n",
      "\u001b[1;32mINFO: Skipping download for somebody's watching me - single version by rockwell as it already exists.\u001b[0m\n",
      "\u001b[1;32mINFO: Completed processing for song: somebody's watching me - single version by rockwell\u001b[0m\n",
      "\u001b[1;32mINFO: Fetched Spotify audio features for crazy by aerosmith\u001b[0m\n",
      "\u001b[1;32mINFO: Skipping download for crazy by aerosmith as it already exists.\u001b[0m\n",
      "\u001b[1;32mINFO: Completed processing for song: crazy by aerosmith\u001b[0m\n",
      "\u001b[1;32mINFO: Fetched Spotify audio features for black (feat. norah jones) by danger mouse\u001b[0m\n",
      "\u001b[1;32mINFO: Skipping download for black (feat. norah jones) by danger mouse as it already exists.\u001b[0m\n",
      "\u001b[1;32mINFO: Completed processing for song: black (feat. norah jones) by danger mouse\u001b[0m\n",
      "\u001b[1;32mINFO: Fetched Spotify audio features for sanctuary by welshly arms\u001b[0m\n",
      "\u001b[1;32mINFO: Skipping download for sanctuary by welshly arms as it already exists.\u001b[0m\n",
      "\u001b[1;32mINFO: Completed processing for song: sanctuary by welshly arms\u001b[0m\n",
      "\u001b[1;32mINFO: Fetched Spotify audio features for asylums for the feeling feat. leila adu by silent poets\u001b[0m\n",
      "\u001b[1;32mINFO: Skipping download for asylums for the feeling feat. leila adu by silent poets as it already exists.\u001b[0m\n",
      "\u001b[1;32mINFO: Completed processing for song: asylums for the feeling feat. leila adu by silent poets\u001b[0m\n",
      "\u001b[1;32mINFO: Fetched Spotify audio features for be together by major lazer\u001b[0m\n",
      "\u001b[1;32mINFO: Skipping download for be together by major lazer as it already exists.\u001b[0m\n",
      "\u001b[1;32mINFO: Completed processing for song: be together by major lazer\u001b[0m\n",
      "\u001b[1;32mINFO: Fetched Spotify audio features for self by khalid\u001b[0m\n"
     ]
    },
    {
     "name": "stderr",
     "output_type": "stream",
     "text": [
      "\u001b[1;33mWARNING: Lyrics not found for 'self' by khalid using all available providers.\u001b[0m\n"
     ]
    },
    {
     "name": "stdout",
     "output_type": "stream",
     "text": [
      "\u001b[1;32mINFO: Skipping download for self by khalid as it already exists.\u001b[0m\n",
      "\u001b[1;32mINFO: Completed processing for song: self by khalid\u001b[0m\n",
      "\u001b[1;32mINFO: Fetched Spotify audio features for throne by bring me the horizon\u001b[0m\n",
      "\u001b[1;32mINFO: Skipping download for throne by bring me the horizon as it already exists.\u001b[0m\n",
      "\u001b[1;32mINFO: Completed processing for song: throne by bring me the horizon\u001b[0m\n",
      "\u001b[1;32mINFO: Fetched Spotify audio features for dead yet (with phem) by gabriel black\u001b[0m\n",
      "\u001b[1;32mINFO: Skipping download for dead yet (with phem) by gabriel black as it already exists.\u001b[0m\n",
      "\u001b[1;32mINFO: Completed processing for song: dead yet (with phem) by gabriel black\u001b[0m\n",
      "\u001b[1;32mINFO: Fetched Spotify audio features for deeper by valerie broussard\u001b[0m\n"
     ]
    },
    {
     "name": "stderr",
     "output_type": "stream",
     "text": [
      "\u001b[1;33mWARNING: Lyrics not found for 'deeper' by valerie broussard using all available providers.\u001b[0m\n"
     ]
    },
    {
     "name": "stdout",
     "output_type": "stream",
     "text": [
      "\u001b[1;32mINFO: Skipping download for deeper by valerie broussard as it already exists.\u001b[0m\n",
      "\u001b[1;32mINFO: Completed processing for song: deeper by valerie broussard\u001b[0m\n",
      "\u001b[1;32mINFO: Fetched Spotify audio features for they own this town by flora cash\u001b[0m\n",
      "\u001b[1;32mINFO: Skipping download for they own this town by flora cash as it already exists.\u001b[0m\n",
      "\u001b[1;32mINFO: Completed processing for song: they own this town by flora cash\u001b[0m\n",
      "\u001b[1;32mINFO: Fetched Spotify audio features for bottom of the deep blue sea by missio\u001b[0m\n",
      "\u001b[1;32mINFO: Skipping download for bottom of the deep blue sea by missio as it already exists.\u001b[0m\n",
      "\u001b[1;32mINFO: Completed processing for song: bottom of the deep blue sea by missio\u001b[0m\n",
      "\u001b[1;32mINFO: Fetched Spotify audio features for home (feat. bonn) by martin garrix\u001b[0m\n"
     ]
    },
    {
     "name": "stderr",
     "output_type": "stream",
     "text": [
      "\u001b[1;33mWARNING: Lyrics not found for 'home' by martin garrix using all available providers.\u001b[0m\n"
     ]
    },
    {
     "name": "stdout",
     "output_type": "stream",
     "text": [
      "\u001b[1;32mINFO: Skipping download for home (feat. bonn) by martin garrix as it already exists.\u001b[0m\n",
      "\u001b[1;32mINFO: Completed processing for song: home (feat. bonn) by martin garrix\u001b[0m\n",
      "\u001b[1;32mINFO: Fetched Spotify audio features for panic room by au/ra\u001b[0m\n",
      "\u001b[1;32mINFO: Skipping download for panic room by au/ra as it already exists.\u001b[0m\n",
      "\u001b[1;32mINFO: Completed processing for song: panic room by au/ra\u001b[0m\n",
      "\u001b[1;32mINFO: Fetched Spotify audio features for miracle by chvrches\u001b[0m\n",
      "\u001b[1;32mINFO: Skipping download for miracle by chvrches as it already exists.\u001b[0m\n",
      "\u001b[1;32mINFO: Completed processing for song: miracle by chvrches\u001b[0m\n",
      "\u001b[1;32mINFO: Fetched Spotify audio features for smiling when i die by sasha alex sloan\u001b[0m\n",
      "\u001b[1;32mINFO: Skipping download for smiling when i die by sasha alex sloan as it already exists.\u001b[0m\n",
      "\u001b[1;32mINFO: Completed processing for song: smiling when i die by sasha alex sloan\u001b[0m\n",
      "\u001b[1;32mINFO: Fetched Spotify audio features for alive by khalid\u001b[0m\n"
     ]
    },
    {
     "name": "stderr",
     "output_type": "stream",
     "text": [
      "\u001b[1;33mWARNING: Lyrics not found for 'a' by khalid using all available providers.\u001b[0m\n"
     ]
    },
    {
     "name": "stdout",
     "output_type": "stream",
     "text": [
      "\u001b[1;32mINFO: Skipping download for alive by khalid as it already exists.\u001b[0m\n",
      "\u001b[1;32mINFO: Completed processing for song: alive by khalid\u001b[0m\n",
      "\u001b[1;32mINFO: Fetched Spotify audio features for missing home by flora cash\u001b[0m\n",
      "\u001b[1;32mINFO: Skipping download for missing home by flora cash as it already exists.\u001b[0m\n",
      "\u001b[1;32mINFO: Completed processing for song: missing home by flora cash\u001b[0m\n",
      "\u001b[1;32mINFO: Fetched Spotify audio features for i see you by missio\u001b[0m\n",
      "\u001b[1;32mINFO: Skipping download for i see you by missio as it already exists.\u001b[0m\n",
      "\u001b[1;32mINFO: Completed processing for song: i see you by missio\u001b[0m\n",
      "\u001b[1;32mINFO: Fetched Spotify audio features for sing to me by missio\u001b[0m\n",
      "\u001b[1;32mINFO: Skipping download for sing to me by missio as it already exists.\u001b[0m\n",
      "\u001b[1;32mINFO: Completed processing for song: sing to me by missio\u001b[0m\n",
      "\u001b[1;32mINFO: Fetched Spotify audio features for born in the slumber by flora cash\u001b[0m\n",
      "\u001b[1;32mINFO: Skipping download for born in the slumber by flora cash as it already exists.\u001b[0m\n",
      "\u001b[1;32mINFO: Completed processing for song: born in the slumber by flora cash\u001b[0m\n",
      "\u001b[1;32mINFO: Fetched Spotify audio features for ludens by bring me the horizon\u001b[0m\n",
      "\u001b[1;32mINFO: Skipping download for ludens by bring me the horizon as it already exists.\u001b[0m\n",
      "\u001b[1;32mINFO: Completed processing for song: ludens by bring me the horizon\u001b[0m\n",
      "\u001b[1;32mINFO: Fetched Spotify audio features for death stranding by chvrches\u001b[0m\n",
      "\u001b[1;32mINFO: Skipping download for death stranding by chvrches as it already exists.\u001b[0m\n",
      "\u001b[1;32mINFO: Completed processing for song: death stranding by chvrches\u001b[0m\n",
      "\u001b[1;32mINFO: Fetched Spotify audio features for halo by ane brun\u001b[0m\n",
      "\u001b[1;32mINFO: Skipping download for halo by ane brun as it already exists.\u001b[0m\n",
      "\u001b[1;32mINFO: Completed processing for song: halo by ane brun\u001b[0m\n",
      "\u001b[1;32mINFO: Fetched Spotify audio features for hunger by of monsters and men\u001b[0m\n",
      "\u001b[1;32mINFO: Skipping download for hunger by of monsters and men as it already exists.\u001b[0m\n",
      "\u001b[1;32mINFO: Completed processing for song: hunger by of monsters and men\u001b[0m\n",
      "\u001b[1;32mINFO: Fetched Spotify audio features for soothsayer by of monsters and men\u001b[0m\n",
      "\u001b[1;32mINFO: Skipping download for soothsayer by of monsters and men as it already exists.\u001b[0m\n",
      "\u001b[1;32mINFO: Completed processing for song: soothsayer by of monsters and men\u001b[0m\n",
      "\u001b[1;32mINFO: Fetched Spotify audio features for sleepwalker by of monsters and men\u001b[0m\n",
      "\u001b[1;32mINFO: Skipping download for sleepwalker by of monsters and men as it already exists.\u001b[0m\n",
      "\u001b[1;32mINFO: Completed processing for song: sleepwalker by of monsters and men\u001b[0m\n",
      "\u001b[1;32mINFO: Fetched Spotify audio features for stuck in gravity by of monsters and men\u001b[0m\n",
      "\u001b[1;32mINFO: Skipping download for stuck in gravity by of monsters and men as it already exists.\u001b[0m\n",
      "\u001b[1;32mINFO: Completed processing for song: stuck in gravity by of monsters and men\u001b[0m\n",
      "\u001b[1;32mINFO: Fetched Spotify audio features for waiting for the snow by of monsters and men\u001b[0m\n",
      "\u001b[1;32mINFO: Skipping download for waiting for the snow by of monsters and men as it already exists.\u001b[0m\n",
      "\u001b[1;32mINFO: Completed processing for song: waiting for the snow by of monsters and men\u001b[0m\n",
      "\u001b[1;32mINFO: Fetched Spotify audio features for ahay by of monsters and men\u001b[0m\n",
      "\u001b[1;32mINFO: Skipping download for ahay by of monsters and men as it already exists.\u001b[0m\n",
      "\u001b[1;32mINFO: Completed processing for song: ahay by of monsters and men\u001b[0m\n",
      "\u001b[1;32mINFO: Fetched Spotify audio features for lakehouse by of monsters and men\u001b[0m\n",
      "\u001b[1;32mINFO: Skipping download for lakehouse by of monsters and men as it already exists.\u001b[0m\n",
      "\u001b[1;32mINFO: Completed processing for song: lakehouse by of monsters and men\u001b[0m\n",
      "\u001b[1;32mINFO: Fetched Spotify audio features for sloom by of monsters and men\u001b[0m\n",
      "\u001b[1;32mINFO: Skipping download for sloom by of monsters and men as it already exists.\u001b[0m\n",
      "\u001b[1;32mINFO: Completed processing for song: sloom by of monsters and men\u001b[0m\n",
      "\u001b[1;32mINFO: Fetched Spotify audio features for winter sound - bonus track by of monsters and men\u001b[0m\n",
      "\u001b[1;32mINFO: Skipping download for winter sound - bonus track by of monsters and men as it already exists.\u001b[0m\n",
      "\u001b[1;32mINFO: Completed processing for song: winter sound - bonus track by of monsters and men\u001b[0m\n",
      "\u001b[1;32mINFO: Fetched Spotify audio features for backyard - bonus track by of monsters and men\u001b[0m\n",
      "\u001b[1;32mINFO: Skipping download for backyard - bonus track by of monsters and men as it already exists.\u001b[0m\n",
      "\u001b[1;32mINFO: Completed processing for song: backyard - bonus track by of monsters and men\u001b[0m\n",
      "\u001b[1;32mINFO: Fetched Spotify audio features for i of the storm by of monsters and men\u001b[0m\n",
      "\u001b[1;32mINFO: Skipping download for i of the storm by of monsters and men as it already exists.\u001b[0m\n",
      "\u001b[1;32mINFO: Completed processing for song: i of the storm by of monsters and men\u001b[0m\n",
      "\u001b[1;32mINFO: Fetched Spotify audio features for we sink by of monsters and men\u001b[0m\n",
      "\u001b[1;32mINFO: Skipping download for we sink by of monsters and men as it already exists.\u001b[0m\n",
      "\u001b[1;32mINFO: Completed processing for song: we sink by of monsters and men\u001b[0m\n",
      "\u001b[1;32mINFO: Fetched Spotify audio features for thousand eyes by of monsters and men\u001b[0m\n",
      "\u001b[1;32mINFO: Skipping download for thousand eyes by of monsters and men as it already exists.\u001b[0m\n",
      "\u001b[1;32mINFO: Completed processing for song: thousand eyes by of monsters and men\u001b[0m\n",
      "\u001b[1;32mINFO: Fetched Spotify audio features for slow life by of monsters and men\u001b[0m\n",
      "\u001b[1;32mINFO: Skipping download for slow life by of monsters and men as it already exists.\u001b[0m\n",
      "\u001b[1;32mINFO: Completed processing for song: slow life by of monsters and men\u001b[0m\n",
      "\u001b[1;32mINFO: Fetched Spotify audio features for wolves without teeth by of monsters and men\u001b[0m\n",
      "\u001b[1;32mINFO: Skipping download for wolves without teeth by of monsters and men as it already exists.\u001b[0m\n",
      "\u001b[1;32mINFO: Completed processing for song: wolves without teeth by of monsters and men\u001b[0m\n",
      "\u001b[1;32mINFO: Fetched Spotify audio features for wars by of monsters and men\u001b[0m\n"
     ]
    },
    {
     "name": "stderr",
     "output_type": "stream",
     "text": [
      "\u001b[1;33mWARNING: Lyrics not found for 'wars' by of monsters and men using all available providers.\u001b[0m\n"
     ]
    },
    {
     "name": "stdout",
     "output_type": "stream",
     "text": [
      "\u001b[1;32mINFO: Skipping download for wars by of monsters and men as it already exists.\u001b[0m\n",
      "\u001b[1;32mINFO: Completed processing for song: wars by of monsters and men\u001b[0m\n",
      "\u001b[1;32mINFO: Fetched Spotify audio features for love love love by of monsters and men\u001b[0m\n",
      "\u001b[1;32mINFO: Skipping download for love love love by of monsters and men as it already exists.\u001b[0m\n",
      "\u001b[1;32mINFO: Completed processing for song: love love love by of monsters and men\u001b[0m\n",
      "\u001b[1;32mINFO: Fetched Spotify audio features for dirty paws by of monsters and men\u001b[0m\n",
      "\u001b[1;32mINFO: Skipping download for dirty paws by of monsters and men as it already exists.\u001b[0m\n",
      "\u001b[1;32mINFO: Completed processing for song: dirty paws by of monsters and men\u001b[0m\n",
      "\u001b[1;32mINFO: Fetched Spotify audio features for alligator by of monsters and men\u001b[0m\n",
      "\u001b[1;32mINFO: Skipping download for alligator by of monsters and men as it already exists.\u001b[0m\n",
      "\u001b[1;32mINFO: Completed processing for song: alligator by of monsters and men\u001b[0m\n",
      "\u001b[1;32mINFO: Fetched Spotify audio features for six weeks by of monsters and men\u001b[0m\n",
      "\u001b[1;32mINFO: Skipping download for six weeks by of monsters and men as it already exists.\u001b[0m\n",
      "\u001b[1;32mINFO: Completed processing for song: six weeks by of monsters and men\u001b[0m\n",
      "\u001b[1;32mINFO: Fetched Spotify audio features for slow and steady by of monsters and men\u001b[0m\n",
      "\u001b[1;32mINFO: Skipping download for slow and steady by of monsters and men as it already exists.\u001b[0m\n",
      "\u001b[1;32mINFO: Completed processing for song: slow and steady by of monsters and men\u001b[0m\n",
      "\u001b[1;32mINFO: Fetched Spotify audio features for mountain sound by of monsters and men\u001b[0m\n",
      "\u001b[1;32mINFO: Skipping download for mountain sound by of monsters and men as it already exists.\u001b[0m\n",
      "\u001b[1;32mINFO: Completed processing for song: mountain sound by of monsters and men\u001b[0m\n",
      "\u001b[1;32mINFO: Fetched Spotify audio features for black water by of monsters and men\u001b[0m\n",
      "\u001b[1;32mINFO: Skipping download for black water by of monsters and men as it already exists.\u001b[0m\n",
      "\u001b[1;32mINFO: Completed processing for song: black water by of monsters and men\u001b[0m\n",
      "\u001b[1;32mINFO: Fetched Spotify audio features for crystals by of monsters and men\u001b[0m\n",
      "\u001b[1;32mINFO: Skipping download for crystals by of monsters and men as it already exists.\u001b[0m\n",
      "\u001b[1;32mINFO: Completed processing for song: crystals by of monsters and men\u001b[0m\n",
      "\u001b[1;32mINFO: Fetched Spotify audio features for human by of monsters and men\u001b[0m\n",
      "\u001b[1;32mINFO: Skipping download for human by of monsters and men as it already exists.\u001b[0m\n",
      "\u001b[1;32mINFO: Completed processing for song: human by of monsters and men\u001b[0m\n",
      "\u001b[1;32mINFO: Fetched Spotify audio features for king and lionheart by of monsters and men\u001b[0m\n",
      "\u001b[1;32mINFO: Skipping download for king and lionheart by of monsters and men as it already exists.\u001b[0m\n",
      "\u001b[1;32mINFO: Completed processing for song: king and lionheart by of monsters and men\u001b[0m\n",
      "\u001b[1;32mINFO: Fetched Spotify audio features for alive and together by junkie xl\u001b[0m\n"
     ]
    },
    {
     "name": "stderr",
     "output_type": "stream",
     "text": [
      "\u001b[1;33mWARNING: Lyrics not found for 'a' by junkie xl using all available providers.\u001b[0m\n"
     ]
    },
    {
     "name": "stdout",
     "output_type": "stream",
     "text": [
      "\u001b[1;32mINFO: Skipping download for alive and together by junkie xl as it already exists.\u001b[0m\n",
      "\u001b[1;32mINFO: Completed processing for song: alive and together by junkie xl\u001b[0m\n",
      "\u001b[1;32mINFO: Fetched Spotify audio features for welcome to london by junkie xl\u001b[0m\n"
     ]
    },
    {
     "name": "stderr",
     "output_type": "stream",
     "text": [
      "\u001b[1;33mWARNING: Lyrics not found for 'welcome to london' by junkie xl using all available providers.\u001b[0m\n"
     ]
    },
    {
     "name": "stdout",
     "output_type": "stream",
     "text": [
      "\u001b[1;32mINFO: Skipping download for welcome to london by junkie xl as it already exists.\u001b[0m\n",
      "\u001b[1;32mINFO: Completed processing for song: welcome to london by junkie xl\u001b[0m\n",
      "\u001b[1;32mINFO: Fetched Spotify audio features for london suite in c major by junkie xl\u001b[0m\n"
     ]
    },
    {
     "name": "stderr",
     "output_type": "stream",
     "text": [
      "\u001b[1;33mWARNING: Lyrics not found for 'london suite in c major' by junkie xl using all available providers.\u001b[0m\n"
     ]
    },
    {
     "name": "stdout",
     "output_type": "stream",
     "text": [
      "\u001b[1;32mINFO: Skipping download for london suite in c major by junkie xl as it already exists.\u001b[0m\n",
      "\u001b[1;32mINFO: Completed processing for song: london suite in c major by junkie xl\u001b[0m\n",
      "\u001b[1;32mINFO: Fetched Spotify audio features for another love by tom odell\u001b[0m\n",
      "\u001b[1;32mINFO: Skipping download for another love by tom odell as it already exists.\u001b[0m\n",
      "\u001b[1;32mINFO: Completed processing for song: another love by tom odell\u001b[0m\n",
      "\u001b[1;32mINFO: Fetched Spotify audio features for solsbury hill by peter gabriel\u001b[0m\n",
      "\u001b[1;32mINFO: Skipping download for solsbury hill by peter gabriel as it already exists.\u001b[0m\n",
      "\u001b[1;32mINFO: Completed processing for song: solsbury hill by peter gabriel\u001b[0m\n",
      "\u001b[1;32mINFO: Fetched Spotify audio features for saint-tropez by post malone\u001b[0m\n",
      "\u001b[1;32mINFO: Skipping download for saint-tropez by post malone as it already exists.\u001b[0m\n",
      "\u001b[1;32mINFO: Completed processing for song: saint-tropez by post malone\u001b[0m\n",
      "\u001b[1;32mINFO: Fetched Spotify audio features for enemies (feat. dababy) by post malone\u001b[0m\n",
      "\u001b[1;32mINFO: Skipping download for enemies (feat. dababy) by post malone as it already exists.\u001b[0m\n",
      "\u001b[1;32mINFO: Completed processing for song: enemies (feat. dababy) by post malone\u001b[0m\n",
      "\u001b[1;32mINFO: Fetched Spotify audio features for a thousand bad times by post malone\u001b[0m\n",
      "\u001b[1;32mINFO: Skipping download for a thousand bad times by post malone as it already exists.\u001b[0m\n",
      "\u001b[1;32mINFO: Completed processing for song: a thousand bad times by post malone\u001b[0m\n",
      "\u001b[1;32mINFO: Fetched Spotify audio features for on the road (feat. meek mill & lil baby) by post malone\u001b[0m\n",
      "\u001b[1;32mINFO: Skipping download for on the road (feat. meek mill & lil baby) by post malone as it already exists.\u001b[0m\n",
      "\u001b[1;32mINFO: Completed processing for song: on the road (feat. meek mill & lil baby) by post malone\u001b[0m\n",
      "\u001b[1;32mINFO: Fetched Spotify audio features for take what you want (feat. ozzy osbourne & travis scott) by post malone\u001b[0m\n",
      "\u001b[1;32mINFO: Skipping download for take what you want (feat. ozzy osbourne & travis scott) by post malone as it already exists.\u001b[0m\n",
      "\u001b[1;32mINFO: Completed processing for song: take what you want (feat. ozzy osbourne & travis scott) by post malone\u001b[0m\n",
      "\u001b[1;32mINFO: Fetched Spotify audio features for hollywood's bleeding by post malone\u001b[0m\n",
      "\u001b[1;32mINFO: Skipping download for hollywood's bleeding by post malone as it already exists.\u001b[0m\n",
      "\u001b[1;32mINFO: Completed processing for song: hollywood's bleeding by post malone\u001b[0m\n",
      "\u001b[1;32mINFO: Fetched Spotify audio features for circles by post malone\u001b[0m\n",
      "\u001b[1;32mINFO: Skipping download for circles by post malone as it already exists.\u001b[0m\n",
      "\u001b[1;32mINFO: Completed processing for song: circles by post malone\u001b[0m\n",
      "\u001b[1;32mINFO: Fetched Spotify audio features for kind of love by rat city\u001b[0m\n"
     ]
    },
    {
     "name": "stderr",
     "output_type": "stream",
     "text": [
      "\u001b[1;33mWARNING: Lyrics not found for 'kind of love' by rat city using all available providers.\u001b[0m\n"
     ]
    },
    {
     "name": "stdout",
     "output_type": "stream",
     "text": [
      "\u001b[1;32mINFO: Skipping download for kind of love by rat city as it already exists.\u001b[0m\n",
      "\u001b[1;32mINFO: Completed processing for song: kind of love by rat city\u001b[0m\n",
      "\u001b[1;32mINFO: Fetched Spotify audio features for go solo by tom rosenthal\u001b[0m\n",
      "\u001b[1;32mINFO: Skipping download for go solo by tom rosenthal as it already exists.\u001b[0m\n",
      "\u001b[1;32mINFO: Completed processing for song: go solo by tom rosenthal\u001b[0m\n",
      "\u001b[1;32mINFO: Fetched Spotify audio features for just what to say (feat. chrissy costanza) by dashboard confessional\u001b[0m\n",
      "\u001b[1;32mINFO: Skipping download for just what to say (feat. chrissy costanza) by dashboard confessional as it already exists.\u001b[0m\n",
      "\u001b[1;32mINFO: Completed processing for song: just what to say (feat. chrissy costanza) by dashboard confessional\u001b[0m\n",
      "\u001b[1;32mINFO: Fetched Spotify audio features for sunflower - spider-man: into the spider-verse by post malone\u001b[0m\n",
      "\u001b[1;32mINFO: Skipping download for sunflower - spider-man: into the spider-verse by post malone as it already exists.\u001b[0m\n",
      "\u001b[1;32mINFO: Completed processing for song: sunflower - spider-man: into the spider-verse by post malone\u001b[0m\n",
      "\u001b[1;32mINFO: Fetched Spotify audio features for phoenix by league of legends\u001b[0m\n",
      "\u001b[1;32mINFO: Skipping download for phoenix by league of legends as it already exists.\u001b[0m\n",
      "\u001b[1;32mINFO: Completed processing for song: phoenix by league of legends\u001b[0m\n",
      "\u001b[1;32mINFO: Fetched Spotify audio features for summer days (feat. macklemore & patrick stump of fall out boy) by martin garrix\u001b[0m\n",
      "\u001b[1;32mINFO: Skipping download for summer days (feat. macklemore & patrick stump of fall out boy) by martin garrix as it already exists.\u001b[0m\n",
      "\u001b[1;32mINFO: Completed processing for song: summer days (feat. macklemore & patrick stump of fall out boy) by martin garrix\u001b[0m\n",
      "\u001b[1;32mINFO: Fetched Spotify audio features for neighborhood by american authors\u001b[0m\n",
      "\u001b[1;32mINFO: Skipping download for neighborhood by american authors as it already exists.\u001b[0m\n",
      "\u001b[1;32mINFO: Completed processing for song: neighborhood by american authors\u001b[0m\n",
      "\u001b[1;32mINFO: Fetched Spotify audio features for champion (feat. beau young prince) by american authors\u001b[0m\n"
     ]
    },
    {
     "name": "stderr",
     "output_type": "stream",
     "text": [
      "\u001b[1;33mWARNING: Lyrics not found for 'champion' by american authors using all available providers.\u001b[0m\n"
     ]
    },
    {
     "name": "stdout",
     "output_type": "stream",
     "text": [
      "\u001b[1;32mINFO: Skipping download for champion (feat. beau young prince) by american authors as it already exists.\u001b[0m\n",
      "\u001b[1;32mINFO: Completed processing for song: champion (feat. beau young prince) by american authors\u001b[0m\n",
      "\u001b[1;32mINFO: Fetched Spotify audio features for i'm on fire - from \"fifty shades of grey\" soundtrack by awolnation\u001b[0m\n",
      "\u001b[1;32mINFO: Skipping download for i'm on fire - from \"fifty shades of grey\" soundtrack by awolnation as it already exists.\u001b[0m\n",
      "\u001b[1;32mINFO: Completed processing for song: i'm on fire - from \"fifty shades of grey\" soundtrack by awolnation\u001b[0m\n",
      "\u001b[1;32mINFO: Fetched Spotify audio features for home (with machine gun kelly, x ambassadors & bebe rexha) by mgk\u001b[0m\n",
      "\u001b[1;32mINFO: Skipping download for home (with machine gun kelly, x ambassadors & bebe rexha) by mgk as it already exists.\u001b[0m\n",
      "\u001b[1;32mINFO: Completed processing for song: home (with machine gun kelly, x ambassadors & bebe rexha) by mgk\u001b[0m\n",
      "\u001b[1;32mINFO: Fetched Spotify audio features for pocket full of gold by american authors\u001b[0m\n",
      "\u001b[1;32mINFO: Skipping download for pocket full of gold by american authors as it already exists.\u001b[0m\n",
      "\u001b[1;32mINFO: Completed processing for song: pocket full of gold by american authors\u001b[0m\n",
      "\u001b[1;32mINFO: Fetched Spotify audio features for deep water by american authors\u001b[0m\n",
      "\u001b[1;32mINFO: Skipping download for deep water by american authors as it already exists.\u001b[0m\n",
      "\u001b[1;32mINFO: Completed processing for song: deep water by american authors\u001b[0m\n",
      "\u001b[1;32mINFO: Fetched Spotify audio features for i'm born to run by american authors\u001b[0m\n",
      "\u001b[1;32mINFO: Skipping download for i'm born to run by american authors as it already exists.\u001b[0m\n",
      "\u001b[1;32mINFO: Completed processing for song: i'm born to run by american authors\u001b[0m\n",
      "\u001b[1;32mINFO: Fetched Spotify audio features for can you feel the love tonight by pentatonix\u001b[0m\n",
      "\u001b[1;32mINFO: Skipping download for can you feel the love tonight by pentatonix as it already exists.\u001b[0m\n",
      "\u001b[1;32mINFO: Completed processing for song: can you feel the love tonight by pentatonix\u001b[0m\n",
      "\u001b[1;32mINFO: Fetched Spotify audio features for the sound of silence by pentatonix\u001b[0m\n",
      "\u001b[1;32mINFO: Skipping download for the sound of silence by pentatonix as it already exists.\u001b[0m\n",
      "\u001b[1;32mINFO: Completed processing for song: the sound of silence by pentatonix\u001b[0m\n",
      "\u001b[1;32mINFO: Fetched Spotify audio features for the sound of silence by nouela\u001b[0m\n"
     ]
    },
    {
     "name": "stderr",
     "output_type": "stream",
     "text": [
      "\u001b[1;33mWARNING: Lyrics not found for 'the sound of silence' by nouela using all available providers.\u001b[0m\n"
     ]
    },
    {
     "name": "stdout",
     "output_type": "stream",
     "text": [
      "\u001b[1;32mINFO: Skipping download for the sound of silence by nouela as it already exists.\u001b[0m\n",
      "\u001b[1;32mINFO: Completed processing for song: the sound of silence by nouela\u001b[0m\n",
      "\u001b[1;32mINFO: Fetched Spotify audio features for ruby tuesday by franco battiato\u001b[0m\n",
      "\u001b[1;32mINFO: Skipping download for ruby tuesday by franco battiato as it already exists.\u001b[0m\n",
      "\u001b[1;32mINFO: Completed processing for song: ruby tuesday by franco battiato\u001b[0m\n",
      "\u001b[1;32mINFO: Fetched Spotify audio features for the best by tina turner\u001b[0m\n",
      "\u001b[1;32mINFO: Skipping download for the best by tina turner as it already exists.\u001b[0m\n",
      "\u001b[1;32mINFO: Completed processing for song: the best by tina turner\u001b[0m\n",
      "\u001b[1;32mINFO: Fetched Spotify audio features for where the heart is by haevn\u001b[0m\n",
      "\u001b[1;32mINFO: Skipping download for where the heart is by haevn as it already exists.\u001b[0m\n",
      "\u001b[1;32mINFO: Completed processing for song: where the heart is by haevn\u001b[0m\n",
      "\u001b[1;32mINFO: Fetched Spotify audio features for champions by james blunt\u001b[0m\n"
     ]
    },
    {
     "name": "stderr",
     "output_type": "stream",
     "text": [
      "\u001b[1;33mWARNING: Lyrics not found for 'champions' by james blunt using all available providers.\u001b[0m\n"
     ]
    },
    {
     "name": "stdout",
     "output_type": "stream",
     "text": [
      "\u001b[1;32mINFO: Skipping download for champions by james blunt as it already exists.\u001b[0m\n",
      "\u001b[1;32mINFO: Completed processing for song: champions by james blunt\u001b[0m\n",
      "\u001b[1;32mINFO: Fetched Spotify audio features for unspoken by welshly arms\u001b[0m\n",
      "\u001b[1;32mINFO: Skipping download for unspoken by welshly arms as it already exists.\u001b[0m\n",
      "\u001b[1;32mINFO: Completed processing for song: unspoken by welshly arms\u001b[0m\n",
      "\u001b[1;32mINFO: Fetched Spotify audio features for all the way up by welshly arms\u001b[0m\n",
      "\u001b[1;32mINFO: Skipping download for all the way up by welshly arms as it already exists.\u001b[0m\n",
      "\u001b[1;32mINFO: Completed processing for song: all the way up by welshly arms\u001b[0m\n",
      "\u001b[1;32mINFO: Fetched Spotify audio features for snow (hey oh) by red hot chili peppers\u001b[0m\n",
      "\u001b[1;32mINFO: Skipping download for snow (hey oh) by red hot chili peppers as it already exists.\u001b[0m\n",
      "\u001b[1;32mINFO: Completed processing for song: snow (hey oh) by red hot chili peppers\u001b[0m\n",
      "\u001b[1;32mINFO: Fetched Spotify audio features for by the way by red hot chili peppers\u001b[0m\n",
      "\u001b[1;32mINFO: Skipping download for by the way by red hot chili peppers as it already exists.\u001b[0m\n",
      "\u001b[1;32mINFO: Completed processing for song: by the way by red hot chili peppers\u001b[0m\n",
      "\u001b[1;32mINFO: Fetched Spotify audio features for otherside by red hot chili peppers\u001b[0m\n",
      "\u001b[1;32mINFO: Skipping download for otherside by red hot chili peppers as it already exists.\u001b[0m\n",
      "\u001b[1;32mINFO: Completed processing for song: otherside by red hot chili peppers\u001b[0m\n",
      "\u001b[1;32mINFO: Fetched Spotify audio features for statues by alexandre desplat\u001b[0m\n",
      "\u001b[1;32mINFO: Skipping download for statues by alexandre desplat as it already exists.\u001b[0m\n",
      "\u001b[1;32mINFO: Completed processing for song: statues by alexandre desplat\u001b[0m\n",
      "\u001b[1;32mINFO: Fetched Spotify audio features for stadium arcadium by red hot chili peppers\u001b[0m\n",
      "\u001b[1;32mINFO: Skipping download for stadium arcadium by red hot chili peppers as it already exists.\u001b[0m\n",
      "\u001b[1;32mINFO: Completed processing for song: stadium arcadium by red hot chili peppers\u001b[0m\n",
      "\u001b[1;32mINFO: Fetched Spotify audio features for old town road (feat. billy ray cyrus) - remix by lil nas x\u001b[0m\n",
      "\u001b[1;32mINFO: Skipping download for old town road (feat. billy ray cyrus) - remix by lil nas x as it already exists.\u001b[0m\n",
      "\u001b[1;32mINFO: Completed processing for song: old town road (feat. billy ray cyrus) - remix by lil nas x\u001b[0m\n",
      "\u001b[1;32mINFO: Fetched Spotify audio features for i could have lied by red hot chili peppers\u001b[0m\n",
      "\u001b[1;32mINFO: Skipping download for i could have lied by red hot chili peppers as it already exists.\u001b[0m\n",
      "\u001b[1;32mINFO: Completed processing for song: i could have lied by red hot chili peppers\u001b[0m\n",
      "\u001b[1;32mINFO: Fetched Spotify audio features for dani california by red hot chili peppers\u001b[0m\n",
      "\u001b[1;32mINFO: Skipping download for dani california by red hot chili peppers as it already exists.\u001b[0m\n",
      "\u001b[1;32mINFO: Completed processing for song: dani california by red hot chili peppers\u001b[0m\n",
      "\u001b[1;32mINFO: Fetched Spotify audio features for mirrors of paradise by kail baxley\u001b[0m\n",
      "\u001b[1;32mINFO: Skipping download for mirrors of paradise by kail baxley as it already exists.\u001b[0m\n",
      "\u001b[1;32mINFO: Completed processing for song: mirrors of paradise by kail baxley\u001b[0m\n",
      "\u001b[1;32mINFO: Fetched Spotify audio features for feasting on the flowers by red hot chili peppers\u001b[0m\n",
      "\u001b[1;32mINFO: Skipping download for feasting on the flowers by red hot chili peppers as it already exists.\u001b[0m\n",
      "\u001b[1;32mINFO: Completed processing for song: feasting on the flowers by red hot chili peppers\u001b[0m\n",
      "\u001b[1;32mINFO: Fetched Spotify audio features for snap out of it by arctic monkeys\u001b[0m\n",
      "\u001b[1;32mINFO: Skipping download for snap out of it by arctic monkeys as it already exists.\u001b[0m\n",
      "\u001b[1;32mINFO: Completed processing for song: snap out of it by arctic monkeys\u001b[0m\n",
      "\u001b[1;32mINFO: Fetched Spotify audio features for other people by lp\u001b[0m\n",
      "\u001b[1;32mINFO: Skipping download for other people by lp as it already exists.\u001b[0m\n",
      "\u001b[1;32mINFO: Completed processing for song: other people by lp\u001b[0m\n",
      "\u001b[1;32mINFO: Fetched Spotify audio features for hello my old heart by the oh hellos\u001b[0m\n",
      "\u001b[1;32mINFO: Skipping download for hello my old heart by the oh hellos as it already exists.\u001b[0m\n",
      "\u001b[1;32mINFO: Completed processing for song: hello my old heart by the oh hellos\u001b[0m\n",
      "\u001b[1;32mINFO: Fetched Spotify audio features for me, myself & i by g-eazy\u001b[0m\n",
      "\u001b[1;32mINFO: Skipping download for me, myself & i by g-eazy as it already exists.\u001b[0m\n",
      "\u001b[1;32mINFO: Completed processing for song: me, myself & i by g-eazy\u001b[0m\n",
      "\u001b[1;32mINFO: Fetched Spotify audio features for flashlight - from \"pitch perfect 2\" soundtrack by jessie j\u001b[0m\n",
      "\u001b[1;32mINFO: Skipping download for flashlight - from \"pitch perfect 2\" soundtrack by jessie j as it already exists.\u001b[0m\n",
      "\u001b[1;32mINFO: Completed processing for song: flashlight - from \"pitch perfect 2\" soundtrack by jessie j\u001b[0m\n",
      "\u001b[1;32mINFO: Fetched Spotify audio features for lay it on me by vance joy\u001b[0m\n",
      "\u001b[1;32mINFO: Skipping download for lay it on me by vance joy as it already exists.\u001b[0m\n",
      "\u001b[1;32mINFO: Completed processing for song: lay it on me by vance joy\u001b[0m\n",
      "\u001b[1;32mINFO: Fetched Spotify audio features for time - 2011 remastered version by pink floyd\u001b[0m\n",
      "\u001b[1;32mINFO: Skipping download for time - 2011 remastered version by pink floyd as it already exists.\u001b[0m\n",
      "\u001b[1;32mINFO: Completed processing for song: time - 2011 remastered version by pink floyd\u001b[0m\n",
      "\u001b[1;32mINFO: Fetched Spotify audio features for just one love - bolton live! royal albert hall, london by michael bolton\u001b[0m\n",
      "\u001b[1;32mINFO: Skipping download for just one love - bolton live! royal albert hall, london by michael bolton as it already exists.\u001b[0m\n",
      "\u001b[1;32mINFO: Completed processing for song: just one love - bolton live! royal albert hall, london by michael bolton\u001b[0m\n",
      "\u001b[1;32mINFO: Fetched Spotify audio features for said i loved you...but i lied by michael bolton\u001b[0m\n",
      "\u001b[1;32mINFO: Skipping download for said i loved you...but i lied by michael bolton as it already exists.\u001b[0m\n",
      "\u001b[1;32mINFO: Completed processing for song: said i loved you...but i lied by michael bolton\u001b[0m\n",
      "\u001b[1;32mINFO: Fetched Spotify audio features for cold by james blunt\u001b[0m\n"
     ]
    },
    {
     "name": "stderr",
     "output_type": "stream",
     "text": [
      "\u001b[1;33mWARNING: Lyrics not found for 'cold' by james blunt using all available providers.\u001b[0m\n"
     ]
    },
    {
     "name": "stdout",
     "output_type": "stream",
     "text": [
      "\u001b[1;32mINFO: Skipping download for cold by james blunt as it already exists.\u001b[0m\n",
      "\u001b[1;32mINFO: Completed processing for song: cold by james blunt\u001b[0m\n",
      "\u001b[1;32mINFO: Fetched Spotify audio features for let it all go by birdy\u001b[0m\n",
      "\u001b[1;32mINFO: Skipping download for let it all go by birdy as it already exists.\u001b[0m\n",
      "\u001b[1;32mINFO: Completed processing for song: let it all go by birdy\u001b[0m\n",
      "\u001b[1;32mINFO: Fetched Spotify audio features for california dreamin' - single version by the mamas & the papas\u001b[0m\n",
      "\u001b[1;32mINFO: Skipping download for california dreamin' - single version by the mamas & the papas as it already exists.\u001b[0m\n",
      "\u001b[1;32mINFO: Completed processing for song: california dreamin' - single version by the mamas & the papas\u001b[0m\n",
      "\u001b[1;32mINFO: Fetched Spotify audio features for przeżyj to sam by lombard\u001b[0m\n",
      "\u001b[1;32mINFO: Skipping download for przeżyj to sam by lombard as it already exists.\u001b[0m\n",
      "\u001b[1;32mINFO: Completed processing for song: przeżyj to sam by lombard\u001b[0m\n",
      "\u001b[1;32mINFO: Fetched Spotify audio features for scar tissue by red hot chili peppers\u001b[0m\n",
      "\u001b[1;32mINFO: Skipping download for scar tissue by red hot chili peppers as it already exists.\u001b[0m\n",
      "\u001b[1;32mINFO: Completed processing for song: scar tissue by red hot chili peppers\u001b[0m\n",
      "\u001b[1;32mINFO: Fetched Spotify audio features for shorty don't wait by a great big world\u001b[0m\n",
      "\u001b[1;32mINFO: Skipping download for shorty don't wait by a great big world as it already exists.\u001b[0m\n",
      "\u001b[1;32mINFO: Completed processing for song: shorty don't wait by a great big world\u001b[0m\n",
      "\u001b[1;32mINFO: Fetched Spotify audio features for firestone by kygo\u001b[0m\n",
      "\u001b[1;32mINFO: Skipping download for firestone by kygo as it already exists.\u001b[0m\n",
      "\u001b[1;32mINFO: Completed processing for song: firestone by kygo\u001b[0m\n",
      "\u001b[1;32mINFO: Fetched Spotify audio features for hotel walls by smith & thell\u001b[0m\n",
      "\u001b[1;32mINFO: Skipping download for hotel walls by smith & thell as it already exists.\u001b[0m\n",
      "\u001b[1;32mINFO: Completed processing for song: hotel walls by smith & thell\u001b[0m\n",
      "\u001b[1;32mINFO: Fetched Spotify audio features for i've been thinking about you by londonbeat\u001b[0m\n",
      "\u001b[1;32mINFO: Skipping download for i've been thinking about you by londonbeat as it already exists.\u001b[0m\n",
      "\u001b[1;32mINFO: Completed processing for song: i've been thinking about you by londonbeat\u001b[0m\n",
      "\u001b[1;32mINFO: Fetched Spotify audio features for be alright by dean lewis\u001b[0m\n",
      "\u001b[1;32mINFO: Skipping download for be alright by dean lewis as it already exists.\u001b[0m\n",
      "\u001b[1;32mINFO: Completed processing for song: be alright by dean lewis\u001b[0m\n",
      "\u001b[1;32mINFO: Fetched Spotify audio features for straight into your arms by vance joy\u001b[0m\n",
      "\u001b[1;32mINFO: Skipping download for straight into your arms by vance joy as it already exists.\u001b[0m\n",
      "\u001b[1;32mINFO: Completed processing for song: straight into your arms by vance joy\u001b[0m\n",
      "\u001b[1;32mINFO: Fetched Spotify audio features for my kind of man by vance joy\u001b[0m\n",
      "\u001b[1;32mINFO: Skipping download for my kind of man by vance joy as it already exists.\u001b[0m\n",
      "\u001b[1;32mINFO: Completed processing for song: my kind of man by vance joy\u001b[0m\n",
      "\u001b[1;32mINFO: Fetched Spotify audio features for best that i can by vance joy\u001b[0m\n",
      "\u001b[1;32mINFO: Skipping download for best that i can by vance joy as it already exists.\u001b[0m\n",
      "\u001b[1;32mINFO: Completed processing for song: best that i can by vance joy\u001b[0m\n",
      "\u001b[1;32mINFO: Fetched Spotify audio features for all i ever wanted by vance joy\u001b[0m\n",
      "\u001b[1;32mINFO: Skipping download for all i ever wanted by vance joy as it already exists.\u001b[0m\n",
      "\u001b[1;32mINFO: Completed processing for song: all i ever wanted by vance joy\u001b[0m\n",
      "\u001b[1;32mINFO: Fetched Spotify audio features for red eye by vance joy\u001b[0m\n",
      "\u001b[1;32mINFO: Skipping download for red eye by vance joy as it already exists.\u001b[0m\n",
      "\u001b[1;32mINFO: Completed processing for song: red eye by vance joy\u001b[0m\n",
      "\u001b[1;32mINFO: Fetched Spotify audio features for we all die trying to get it right by vance joy\u001b[0m\n",
      "\u001b[1;32mINFO: Skipping download for we all die trying to get it right by vance joy as it already exists.\u001b[0m\n",
      "\u001b[1;32mINFO: Completed processing for song: we all die trying to get it right by vance joy\u001b[0m\n",
      "\u001b[1;32mINFO: Fetched Spotify audio features for from afar by vance joy\u001b[0m\n",
      "\u001b[1;32mINFO: Skipping download for from afar by vance joy as it already exists.\u001b[0m\n",
      "\u001b[1;32mINFO: Completed processing for song: from afar by vance joy\u001b[0m\n",
      "\u001b[1;32mINFO: Fetched Spotify audio features for who am i by vance joy\u001b[0m\n",
      "\u001b[1;32mINFO: Skipping download for who am i by vance joy as it already exists.\u001b[0m\n",
      "\u001b[1;32mINFO: Completed processing for song: who am i by vance joy\u001b[0m\n",
      "\u001b[1;32mINFO: Fetched Spotify audio features for winds of change by vance joy\u001b[0m\n",
      "\u001b[1;32mINFO: Skipping download for winds of change by vance joy as it already exists.\u001b[0m\n",
      "\u001b[1;32mINFO: Completed processing for song: winds of change by vance joy\u001b[0m\n",
      "\u001b[1;32mINFO: Fetched Spotify audio features for where we start by vance joy\u001b[0m\n",
      "\u001b[1;32mINFO: Skipping download for where we start by vance joy as it already exists.\u001b[0m\n",
      "\u001b[1;32mINFO: Completed processing for song: where we start by vance joy\u001b[0m\n",
      "\u001b[1;32mINFO: Fetched Spotify audio features for alone with me by vance joy\u001b[0m\n",
      "\u001b[1;32mINFO: Skipping download for alone with me by vance joy as it already exists.\u001b[0m\n",
      "\u001b[1;32mINFO: Completed processing for song: alone with me by vance joy\u001b[0m\n",
      "\u001b[1;32mINFO: Fetched Spotify audio features for stepping stone by sylvia peyton\u001b[0m\n"
     ]
    },
    {
     "name": "stderr",
     "output_type": "stream",
     "text": [
      "\u001b[1;33mWARNING: Lyrics not found for 'stepping stone' by sylvia peyton using all available providers.\u001b[0m\n"
     ]
    },
    {
     "name": "stdout",
     "output_type": "stream",
     "text": [
      "\u001b[1;32mINFO: Skipping download for stepping stone by sylvia peyton as it already exists.\u001b[0m\n",
      "\u001b[1;32mINFO: Completed processing for song: stepping stone by sylvia peyton\u001b[0m\n",
      "\u001b[1;32mINFO: Fetched Spotify audio features for no more by bego san félix\u001b[0m\n"
     ]
    },
    {
     "name": "stderr",
     "output_type": "stream",
     "text": [
      "\u001b[1;33mWARNING: Lyrics not found for 'no more' by bego san félix using all available providers.\u001b[0m\n"
     ]
    },
    {
     "name": "stdout",
     "output_type": "stream",
     "text": [
      "\u001b[1;32mINFO: Skipping download for no more by bego san félix as it already exists.\u001b[0m\n",
      "\u001b[1;32mINFO: Completed processing for song: no more by bego san félix\u001b[0m\n",
      "\u001b[1;32mINFO: Fetched Spotify audio features for way down we go by kaleo\u001b[0m\n",
      "\u001b[1;32mINFO: Skipping download for way down we go by kaleo as it already exists.\u001b[0m\n",
      "\u001b[1;32mINFO: Completed processing for song: way down we go by kaleo\u001b[0m\n",
      "\u001b[1;32mINFO: Fetched Spotify audio features for forever for now by lp\u001b[0m\n",
      "\u001b[1;32mINFO: Skipping download for forever for now by lp as it already exists.\u001b[0m\n",
      "\u001b[1;32mINFO: Completed processing for song: forever for now by lp\u001b[0m\n",
      "\u001b[1;32mINFO: Fetched Spotify audio features for heaven by bryan adams\u001b[0m\n",
      "\u001b[1;32mINFO: Skipping download for heaven by bryan adams as it already exists.\u001b[0m\n",
      "\u001b[1;32mINFO: Completed processing for song: heaven by bryan adams\u001b[0m\n",
      "\u001b[1;32mINFO: Fetched Spotify audio features for another day in paradise - 2016 remaster by phil collins\u001b[0m\n",
      "\u001b[1;32mINFO: Skipping download for another day in paradise - 2016 remaster by phil collins as it already exists.\u001b[0m\n",
      "\u001b[1;32mINFO: Completed processing for song: another day in paradise - 2016 remaster by phil collins\u001b[0m\n",
      "\u001b[1;32mINFO: Fetched Spotify audio features for i'll stand by you by bruce springsteen\u001b[0m\n",
      "\u001b[1;32mINFO: Skipping download for i'll stand by you by bruce springsteen as it already exists.\u001b[0m\n",
      "\u001b[1;32mINFO: Completed processing for song: i'll stand by you by bruce springsteen\u001b[0m\n",
      "\u001b[1;32mINFO: Fetched Spotify audio features for cruel summer by ace of base\u001b[0m\n",
      "\u001b[1;32mINFO: Skipping download for cruel summer by ace of base as it already exists.\u001b[0m\n",
      "\u001b[1;32mINFO: Completed processing for song: cruel summer by ace of base\u001b[0m\n",
      "\u001b[1;32mINFO: Fetched Spotify audio features for no witness by lp\u001b[0m\n",
      "\u001b[1;32mINFO: Skipping download for no witness by lp as it already exists.\u001b[0m\n",
      "\u001b[1;32mINFO: Completed processing for song: no witness by lp\u001b[0m\n",
      "\u001b[1;32mINFO: Fetched Spotify audio features for tokyo sunrise by lp\u001b[0m\n",
      "\u001b[1;32mINFO: Skipping download for tokyo sunrise by lp as it already exists.\u001b[0m\n",
      "\u001b[1;32mINFO: Completed processing for song: tokyo sunrise by lp\u001b[0m\n",
      "\u001b[1;32mINFO: Fetched Spotify audio features for suspicion by lp\u001b[0m\n",
      "\u001b[1;32mINFO: Skipping download for suspicion by lp as it already exists.\u001b[0m\n",
      "\u001b[1;32mINFO: Completed processing for song: suspicion by lp\u001b[0m\n",
      "\u001b[1;32mINFO: Fetched Spotify audio features for heart of gold - 2009 remaster by neil young\u001b[0m\n",
      "\u001b[1;32mINFO: Skipping download for heart of gold - 2009 remaster by neil young as it already exists.\u001b[0m\n",
      "\u001b[1;32mINFO: Completed processing for song: heart of gold - 2009 remaster by neil young\u001b[0m\n",
      "\u001b[1;32mINFO: Fetched Spotify audio features for the wayfarer by bruce springsteen\u001b[0m\n",
      "\u001b[1;32mINFO: Skipping download for the wayfarer by bruce springsteen as it already exists.\u001b[0m\n",
      "\u001b[1;32mINFO: Completed processing for song: the wayfarer by bruce springsteen\u001b[0m\n",
      "\u001b[1;32mINFO: Fetched Spotify audio features for stones by bruce springsteen\u001b[0m\n"
     ]
    },
    {
     "name": "stderr",
     "output_type": "stream",
     "text": [
      "\u001b[1;33mWARNING: Lyrics not found for 'stones' by bruce springsteen using all available providers.\u001b[0m\n"
     ]
    },
    {
     "name": "stdout",
     "output_type": "stream",
     "text": [
      "\u001b[1;32mINFO: Skipping download for stones by bruce springsteen as it already exists.\u001b[0m\n",
      "\u001b[1;32mINFO: Completed processing for song: stones by bruce springsteen\u001b[0m\n",
      "\u001b[1;32mINFO: Fetched Spotify audio features for sleepy joe's café by bruce springsteen\u001b[0m\n",
      "\u001b[1;32mINFO: Skipping download for sleepy joe's café by bruce springsteen as it already exists.\u001b[0m\n",
      "\u001b[1;32mINFO: Completed processing for song: sleepy joe's café by bruce springsteen\u001b[0m\n",
      "\u001b[1;32mINFO: Fetched Spotify audio features for human touch by bruce springsteen\u001b[0m\n",
      "\u001b[1;32mINFO: Skipping download for human touch by bruce springsteen as it already exists.\u001b[0m\n",
      "\u001b[1;32mINFO: Completed processing for song: human touch by bruce springsteen\u001b[0m\n",
      "\u001b[1;32mINFO: Fetched Spotify audio features for there goes my miracle by bruce springsteen\u001b[0m\n",
      "\u001b[1;32mINFO: Skipping download for there goes my miracle by bruce springsteen as it already exists.\u001b[0m\n",
      "\u001b[1;32mINFO: Completed processing for song: there goes my miracle by bruce springsteen\u001b[0m\n",
      "\u001b[1;32mINFO: Fetched Spotify audio features for hungry heart by bruce springsteen\u001b[0m\n",
      "\u001b[1;32mINFO: Skipping download for hungry heart by bruce springsteen as it already exists.\u001b[0m\n",
      "\u001b[1;32mINFO: Completed processing for song: hungry heart by bruce springsteen\u001b[0m\n",
      "\u001b[1;32mINFO: Fetched Spotify audio features for hello sunshine by bruce springsteen\u001b[0m\n",
      "\u001b[1;32mINFO: Skipping download for hello sunshine by bruce springsteen as it already exists.\u001b[0m\n",
      "\u001b[1;32mINFO: Completed processing for song: hello sunshine by bruce springsteen\u001b[0m\n",
      "\u001b[1;32mINFO: Fetched Spotify audio features for tougher than the rest by bruce springsteen\u001b[0m\n",
      "\u001b[1;32mINFO: Skipping download for tougher than the rest by bruce springsteen as it already exists.\u001b[0m\n",
      "\u001b[1;32mINFO: Completed processing for song: tougher than the rest by bruce springsteen\u001b[0m\n",
      "\u001b[1;32mINFO: Fetched Spotify audio features for streets of philadelphia by bruce springsteen\u001b[0m\n",
      "\u001b[1;32mINFO: Skipping download for streets of philadelphia by bruce springsteen as it already exists.\u001b[0m\n",
      "\u001b[1;32mINFO: Completed processing for song: streets of philadelphia by bruce springsteen\u001b[0m\n",
      "\u001b[1;32mINFO: Fetched Spotify audio features for western stars by bruce springsteen\u001b[0m\n",
      "\u001b[1;32mINFO: Skipping download for western stars by bruce springsteen as it already exists.\u001b[0m\n",
      "\u001b[1;32mINFO: Completed processing for song: western stars by bruce springsteen\u001b[0m\n",
      "\u001b[1;32mINFO: Fetched Spotify audio features for feels like home by chantal kreviazuk\u001b[0m\n",
      "\u001b[1;32mINFO: Skipping download for feels like home by chantal kreviazuk as it already exists.\u001b[0m\n",
      "\u001b[1;32mINFO: Completed processing for song: feels like home by chantal kreviazuk\u001b[0m\n",
      "\u001b[1;32mINFO: Fetched Spotify audio features for royals by lorde\u001b[0m\n",
      "\u001b[1;32mINFO: Skipping download for royals by lorde as it already exists.\u001b[0m\n",
      "\u001b[1;32mINFO: Completed processing for song: royals by lorde\u001b[0m\n",
      "\u001b[1;32mINFO: Fetched Spotify audio features for not dead yet by jakey\u001b[0m\n",
      "\u001b[1;32mINFO: Skipping download for not dead yet by jakey as it already exists.\u001b[0m\n",
      "\u001b[1;32mINFO: Completed processing for song: not dead yet by jakey\u001b[0m\n",
      "\u001b[1;32mINFO: Fetched Spotify audio features for strange by lp\u001b[0m\n",
      "\u001b[1;32mINFO: Skipping download for strange by lp as it already exists.\u001b[0m\n",
      "\u001b[1;32mINFO: Completed processing for song: strange by lp\u001b[0m\n",
      "\u001b[1;32mINFO: Fetched Spotify audio features for lost in the world by lp\u001b[0m\n",
      "\u001b[1;32mINFO: Skipping download for lost in the world by lp as it already exists.\u001b[0m\n",
      "\u001b[1;32mINFO: Completed processing for song: lost in the world by lp\u001b[0m\n",
      "\u001b[1;32mINFO: Fetched Spotify audio features for recovery by lp\u001b[0m\n",
      "\u001b[1;32mINFO: Skipping download for recovery by lp as it already exists.\u001b[0m\n",
      "\u001b[1;32mINFO: Completed processing for song: recovery by lp\u001b[0m\n",
      "\u001b[1;32mINFO: Fetched Spotify audio features for magic by lp\u001b[0m\n"
     ]
    },
    {
     "name": "stderr",
     "output_type": "stream",
     "text": [
      "\u001b[1;33mWARNING: Lyrics not found for 'magic' by lp using all available providers.\u001b[0m\n"
     ]
    },
    {
     "name": "stdout",
     "output_type": "stream",
     "text": [
      "\u001b[1;32mINFO: Skipping download for magic by lp as it already exists.\u001b[0m\n",
      "\u001b[1;32mINFO: Completed processing for song: magic by lp\u001b[0m\n",
      "\u001b[1;32mINFO: Fetched Spotify audio features for halo - live by lp\u001b[0m\n"
     ]
    },
    {
     "name": "stderr",
     "output_type": "stream",
     "text": [
      "\u001b[1;33mWARNING: Lyrics not found for 'halo' by lp using all available providers.\u001b[0m\n"
     ]
    },
    {
     "name": "stdout",
     "output_type": "stream",
     "text": [
      "\u001b[1;32mINFO: Skipping download for halo - live by lp as it already exists.\u001b[0m\n",
      "\u001b[1;32mINFO: Completed processing for song: halo - live by lp\u001b[0m\n",
      "\u001b[1;32mINFO: Fetched Spotify audio features for night like this by lp\u001b[0m\n",
      "\u001b[1;32mINFO: Skipping download for night like this by lp as it already exists.\u001b[0m\n",
      "\u001b[1;32mINFO: Completed processing for song: night like this by lp\u001b[0m\n",
      "\u001b[1;32mINFO: Fetched Spotify audio features for tightrope by lp\u001b[0m\n",
      "\u001b[1;32mINFO: Skipping download for tightrope by lp as it already exists.\u001b[0m\n",
      "\u001b[1;32mINFO: Completed processing for song: tightrope by lp\u001b[0m\n",
      "\u001b[1;32mINFO: Fetched Spotify audio features for one night in the sun by lp\u001b[0m\n",
      "\u001b[1;32mINFO: Skipping download for one night in the sun by lp as it already exists.\u001b[0m\n",
      "\u001b[1;32mINFO: Completed processing for song: one night in the sun by lp\u001b[0m\n",
      "\u001b[1;32mINFO: Fetched Spotify audio features for someday by lp\u001b[0m\n",
      "\u001b[1;32mINFO: Skipping download for someday by lp as it already exists.\u001b[0m\n",
      "\u001b[1;32mINFO: Completed processing for song: someday by lp\u001b[0m\n",
      "\u001b[1;32mINFO: Fetched Spotify audio features for the power by lp\u001b[0m\n",
      "\u001b[1;32mINFO: Skipping download for the power by lp as it already exists.\u001b[0m\n",
      "\u001b[1;32mINFO: Completed processing for song: the power by lp\u001b[0m\n",
      "\u001b[1;32mINFO: Fetched Spotify audio features for a day to be alone by one less reason\u001b[0m\n",
      "\u001b[1;32mINFO: Skipping download for a day to be alone by one less reason as it already exists.\u001b[0m\n",
      "\u001b[1;32mINFO: Completed processing for song: a day to be alone by one less reason\u001b[0m\n",
      "\u001b[1;32mINFO: Fetched Spotify audio features for bella ciao - música original de la serie la casa de papel/ money heist by manu pilas\u001b[0m\n",
      "\u001b[1;32mINFO: Downloaded song: bella ciao - música original de la serie la casa de papel/ money heist\u001b[0m\n",
      "\u001b[1;32mINFO: Completed processing for song: bella ciao - música original de la serie la casa de papel/ money heist by manu pilas\u001b[0m\n",
      "\u001b[1;32mINFO: Fetched Spotify audio features for pomimo burz by antek smykiewicz\u001b[0m\n"
     ]
    },
    {
     "name": "stderr",
     "output_type": "stream",
     "text": [
      "\u001b[1;33mWARNING: Lyrics not found for 'pomimo burz' by antek smykiewicz using all available providers.\u001b[0m\n"
     ]
    },
    {
     "name": "stdout",
     "output_type": "stream",
     "text": [
      "\u001b[1;32mINFO: Skipping download for pomimo burz by antek smykiewicz as it already exists.\u001b[0m\n",
      "\u001b[1;32mINFO: Completed processing for song: pomimo burz by antek smykiewicz\u001b[0m\n",
      "\u001b[1;32mINFO: Fetched Spotify audio features for sobie i wam by męskie granie orkiestra 2019\u001b[0m\n"
     ]
    },
    {
     "name": "stderr",
     "output_type": "stream",
     "text": [
      "\u001b[1;33mWARNING: Lyrics not found for 'sobie i wam' by męskie granie orkiestra 2019 using all available providers.\u001b[0m\n"
     ]
    },
    {
     "name": "stdout",
     "output_type": "stream",
     "text": [
      "\u001b[1;32mINFO: Skipping download for sobie i wam by męskie granie orkiestra 2019 as it already exists.\u001b[0m\n",
      "\u001b[1;32mINFO: Completed processing for song: sobie i wam by męskie granie orkiestra 2019\u001b[0m\n",
      "\u001b[1;32mINFO: Fetched Spotify audio features for she's so high by kurt nilsen\u001b[0m\n",
      "\u001b[1;32mINFO: Skipping download for she's so high by kurt nilsen as it already exists.\u001b[0m\n",
      "\u001b[1;32mINFO: Completed processing for song: she's so high by kurt nilsen\u001b[0m\n",
      "\u001b[1;32mINFO: Fetched Spotify audio features for sweet jane by garrett kato\u001b[0m\n",
      "\u001b[1;32mINFO: Skipping download for sweet jane by garrett kato as it already exists.\u001b[0m\n",
      "\u001b[1;32mINFO: Completed processing for song: sweet jane by garrett kato\u001b[0m\n",
      "\u001b[1;32mINFO: Fetched Spotify audio features for dancing queen by abba\u001b[0m\n",
      "\u001b[1;32mINFO: Skipping download for dancing queen by abba as it already exists.\u001b[0m\n",
      "\u001b[1;32mINFO: Completed processing for song: dancing queen by abba\u001b[0m\n",
      "\u001b[1;32mINFO: Fetched Spotify audio features for stand in the light by jordan smith\u001b[0m\n",
      "\u001b[1;32mINFO: Skipping download for stand in the light by jordan smith as it already exists.\u001b[0m\n",
      "\u001b[1;32mINFO: Completed processing for song: stand in the light by jordan smith\u001b[0m\n",
      "\u001b[1;32mINFO: Fetched Spotify audio features for ti amo by umberto tozzi\u001b[0m\n",
      "\u001b[1;32mINFO: Skipping download for ti amo by umberto tozzi as it already exists.\u001b[0m\n",
      "\u001b[1;32mINFO: Completed processing for song: ti amo by umberto tozzi\u001b[0m\n",
      "\u001b[1;32mINFO: Fetched Spotify audio features for zombie by the cranberries\u001b[0m\n",
      "\u001b[1;32mINFO: Skipping download for zombie by the cranberries as it already exists.\u001b[0m\n",
      "\u001b[1;32mINFO: Completed processing for song: zombie by the cranberries\u001b[0m\n",
      "\u001b[1;32mINFO: Fetched Spotify audio features for arctic by sleeping at last\u001b[0m\n",
      "\u001b[1;32mINFO: Skipping download for arctic by sleeping at last as it already exists.\u001b[0m\n",
      "\u001b[1;32mINFO: Completed processing for song: arctic by sleeping at last\u001b[0m\n",
      "\u001b[1;32mINFO: Fetched Spotify audio features for wicked game by chris kläfford\u001b[0m\n"
     ]
    },
    {
     "name": "stderr",
     "output_type": "stream",
     "text": [
      "\u001b[1;33mWARNING: Lyrics not found for 'wicked game' by chris kläfford using all available providers.\u001b[0m\n"
     ]
    },
    {
     "name": "stdout",
     "output_type": "stream",
     "text": [
      "\u001b[1;32mINFO: Skipping download for wicked game by chris kläfford as it already exists.\u001b[0m\n",
      "\u001b[1;32mINFO: Completed processing for song: wicked game by chris kläfford\u001b[0m\n",
      "\u001b[1;32mINFO: Fetched Spotify audio features for treading water by chris kläfford\u001b[0m\n",
      "\u001b[1;32mINFO: Skipping download for treading water by chris kläfford as it already exists.\u001b[0m\n",
      "\u001b[1;32mINFO: Completed processing for song: treading water by chris kläfford\u001b[0m\n",
      "\u001b[1;32mINFO: Fetched Spotify audio features for i don't wanna miss a thing by chris kläfford\u001b[0m\n",
      "\u001b[1;32mINFO: Skipping download for i don't wanna miss a thing by chris kläfford as it already exists.\u001b[0m\n",
      "\u001b[1;32mINFO: Completed processing for song: i don't wanna miss a thing by chris kläfford\u001b[0m\n",
      "\u001b[1;32mINFO: Fetched Spotify audio features for take me to church by chris kläfford\u001b[0m\n"
     ]
    },
    {
     "name": "stderr",
     "output_type": "stream",
     "text": [
      "\u001b[1;33mWARNING: Lyrics not found for 'take me to church' by chris kläfford using all available providers.\u001b[0m\n"
     ]
    },
    {
     "name": "stdout",
     "output_type": "stream",
     "text": [
      "\u001b[1;32mINFO: Skipping download for take me to church by chris kläfford as it already exists.\u001b[0m\n",
      "\u001b[1;32mINFO: Completed processing for song: take me to church by chris kläfford\u001b[0m\n",
      "\u001b[1;32mINFO: Fetched Spotify audio features for imagine by chris kläfford\u001b[0m\n"
     ]
    },
    {
     "name": "stderr",
     "output_type": "stream",
     "text": [
      "\u001b[1;33mWARNING: Lyrics not found for 'imagine' by chris kläfford using all available providers.\u001b[0m\n"
     ]
    },
    {
     "name": "stdout",
     "output_type": "stream",
     "text": [
      "\u001b[1;32mINFO: Skipping download for imagine by chris kläfford as it already exists.\u001b[0m\n",
      "\u001b[1;32mINFO: Completed processing for song: imagine by chris kläfford\u001b[0m\n",
      "\u001b[1;32mINFO: Fetched Spotify audio features for square hammer by ghost\u001b[0m\n",
      "\u001b[1;32mINFO: Skipping download for square hammer by ghost as it already exists.\u001b[0m\n",
      "\u001b[1;32mINFO: Completed processing for song: square hammer by ghost\u001b[0m\n",
      "\u001b[1;32mINFO: Fetched Spotify audio features for varsovie by brodka\u001b[0m\n",
      "\u001b[1;32mINFO: Skipping download for varsovie by brodka as it already exists.\u001b[0m\n",
      "\u001b[1;32mINFO: Completed processing for song: varsovie by brodka\u001b[0m\n",
      "\u001b[1;32mINFO: Fetched Spotify audio features for everybody (backstreet's back) - radio edit by backstreet boys\u001b[0m\n",
      "\u001b[1;32mINFO: Skipping download for everybody (backstreet's back) - radio edit by backstreet boys as it already exists.\u001b[0m\n",
      "\u001b[1;32mINFO: Completed processing for song: everybody (backstreet's back) - radio edit by backstreet boys\u001b[0m\n",
      "\u001b[1;32mINFO: Fetched Spotify audio features for love me like you do by boyce avenue\u001b[0m\n"
     ]
    },
    {
     "name": "stderr",
     "output_type": "stream",
     "text": [
      "\u001b[1;33mWARNING: Lyrics not found for 'love me like you do' by boyce avenue using all available providers.\u001b[0m\n"
     ]
    },
    {
     "name": "stdout",
     "output_type": "stream",
     "text": [
      "\u001b[1;32mINFO: Skipping download for love me like you do by boyce avenue as it already exists.\u001b[0m\n",
      "\u001b[1;32mINFO: Completed processing for song: love me like you do by boyce avenue\u001b[0m\n",
      "\u001b[1;32mINFO: Fetched Spotify audio features for heroes by zayde wølf\u001b[0m\n"
     ]
    },
    {
     "name": "stderr",
     "output_type": "stream",
     "text": [
      "\u001b[1;33mWARNING: Lyrics not found for 'heroes' by zayde wølf using all available providers.\u001b[0m\n"
     ]
    },
    {
     "name": "stdout",
     "output_type": "stream",
     "text": [
      "\u001b[1;32mINFO: Skipping download for heroes by zayde wølf as it already exists.\u001b[0m\n",
      "\u001b[1;32mINFO: Completed processing for song: heroes by zayde wølf\u001b[0m\n",
      "\u001b[1;32mINFO: Fetched Spotify audio features for heavenly light by lp\u001b[0m\n",
      "\u001b[1;32mINFO: Skipping download for heavenly light by lp as it already exists.\u001b[0m\n",
      "\u001b[1;32mINFO: Completed processing for song: heavenly light by lp\u001b[0m\n",
      "\u001b[1;32mINFO: Fetched Spotify audio features for when i'm over you by lp\u001b[0m\n",
      "\u001b[1;32mINFO: Skipping download for when i'm over you by lp as it already exists.\u001b[0m\n",
      "\u001b[1;32mINFO: Completed processing for song: when i'm over you by lp\u001b[0m\n",
      "\u001b[1;32mINFO: Fetched Spotify audio features for absolution by city & vine\u001b[0m\n"
     ]
    },
    {
     "name": "stderr",
     "output_type": "stream",
     "text": [
      "\u001b[1;33mWARNING: Lyrics not found for 'absolution' by city & vine using all available providers.\u001b[0m\n"
     ]
    },
    {
     "name": "stdout",
     "output_type": "stream",
     "text": [
      "\u001b[1;32mINFO: Skipping download for absolution by city & vine as it already exists.\u001b[0m\n",
      "\u001b[1;32mINFO: Completed processing for song: absolution by city & vine\u001b[0m\n",
      "\u001b[1;32mINFO: Fetched Spotify audio features for making love out of nothing at all by air supply\u001b[0m\n",
      "\u001b[1;32mINFO: Skipping download for making love out of nothing at all by air supply as it already exists.\u001b[0m\n",
      "\u001b[1;32mINFO: Completed processing for song: making love out of nothing at all by air supply\u001b[0m\n",
      "\u001b[1;32mINFO: Fetched Spotify audio features for goin' home by dan auerbach\u001b[0m\n",
      "\u001b[1;32mINFO: Skipping download for goin' home by dan auerbach as it already exists.\u001b[0m\n",
      "\u001b[1;32mINFO: Completed processing for song: goin' home by dan auerbach\u001b[0m\n",
      "\u001b[1;32mINFO: Fetched Spotify audio features for help yourself by sad brad smith\u001b[0m\n",
      "\u001b[1;32mINFO: Skipping download for help yourself by sad brad smith as it already exists.\u001b[0m\n",
      "\u001b[1;32mINFO: Completed processing for song: help yourself by sad brad smith\u001b[0m\n",
      "\u001b[1;32mINFO: Fetched Spotify audio features for say by john mayer\u001b[0m\n",
      "\u001b[1;32mINFO: Skipping download for say by john mayer as it already exists.\u001b[0m\n",
      "\u001b[1;32mINFO: Completed processing for song: say by john mayer\u001b[0m\n",
      "\u001b[1;32mINFO: Fetched Spotify audio features for i'm broken by blues saraceno\u001b[0m\n"
     ]
    },
    {
     "name": "stderr",
     "output_type": "stream",
     "text": [
      "\u001b[1;33mWARNING: Lyrics not found for 'i'm broken' by blues saraceno using all available providers.\u001b[0m\n"
     ]
    },
    {
     "name": "stdout",
     "output_type": "stream",
     "text": [
      "\u001b[1;32mINFO: Skipping download for i'm broken by blues saraceno as it already exists.\u001b[0m\n",
      "\u001b[1;32mINFO: Completed processing for song: i'm broken by blues saraceno\u001b[0m\n",
      "\u001b[1;32mINFO: Fetched Spotify audio features for do you really wanna be in love by frigga\u001b[0m\n"
     ]
    },
    {
     "name": "stderr",
     "output_type": "stream",
     "text": [
      "\u001b[1;33mWARNING: Lyrics not found for 'do you really wanna be in love' by frigga using all available providers.\u001b[0m\n"
     ]
    },
    {
     "name": "stdout",
     "output_type": "stream",
     "text": [
      "\u001b[1;32mINFO: Skipping download for do you really wanna be in love by frigga as it already exists.\u001b[0m\n",
      "\u001b[1;32mINFO: Completed processing for song: do you really wanna be in love by frigga\u001b[0m\n",
      "\u001b[1;32mINFO: Fetched Spotify audio features for light by sleeping at last\u001b[0m\n"
     ]
    },
    {
     "name": "stderr",
     "output_type": "stream",
     "text": [
      "\u001b[1;33mWARNING: Lyrics not found for 'light' by sleeping at last using all available providers.\u001b[0m\n"
     ]
    },
    {
     "name": "stdout",
     "output_type": "stream",
     "text": [
      "\u001b[1;32mINFO: Skipping download for light by sleeping at last as it already exists.\u001b[0m\n",
      "\u001b[1;32mINFO: Completed processing for song: light by sleeping at last\u001b[0m\n",
      "\u001b[1;32mINFO: Fetched Spotify audio features for everytime we touch - yanou's candlelight mix by cascada\u001b[0m\n",
      "\u001b[1;32mINFO: Skipping download for everytime we touch - yanou's candlelight mix by cascada as it already exists.\u001b[0m\n",
      "\u001b[1;32mINFO: Completed processing for song: everytime we touch - yanou's candlelight mix by cascada\u001b[0m\n",
      "\u001b[1;32mINFO: Fetched Spotify audio features for the age of the earth by complex reality\u001b[0m\n"
     ]
    },
    {
     "name": "stderr",
     "output_type": "stream",
     "text": [
      "\u001b[1;33mWARNING: Lyrics not found for 'the age of the earth' by complex reality using all available providers.\u001b[0m\n"
     ]
    },
    {
     "name": "stdout",
     "output_type": "stream",
     "text": [
      "\u001b[1;32mINFO: Skipping download for the age of the earth by complex reality as it already exists.\u001b[0m\n",
      "\u001b[1;32mINFO: Completed processing for song: the age of the earth by complex reality\u001b[0m\n",
      "\u001b[1;32mINFO: Fetched Spotify audio features for all i wanna do is make love to you by heart\u001b[0m\n",
      "\u001b[1;32mINFO: Skipping download for all i wanna do is make love to you by heart as it already exists.\u001b[0m\n",
      "\u001b[1;32mINFO: Completed processing for song: all i wanna do is make love to you by heart\u001b[0m\n",
      "\u001b[1;32mINFO: Fetched Spotify audio features for rosanna by toto\u001b[0m\n",
      "\u001b[1;32mINFO: Skipping download for rosanna by toto as it already exists.\u001b[0m\n",
      "\u001b[1;32mINFO: Completed processing for song: rosanna by toto\u001b[0m\n",
      "\u001b[1;32mINFO: Fetched Spotify audio features for two soon by string balloons\u001b[0m\n"
     ]
    },
    {
     "name": "stderr",
     "output_type": "stream",
     "text": [
      "\u001b[1;33mWARNING: Lyrics not found for 'two soon' by string balloons using all available providers.\u001b[0m\n"
     ]
    },
    {
     "name": "stdout",
     "output_type": "stream",
     "text": [
      "\u001b[1;32mINFO: Skipping download for two soon by string balloons as it already exists.\u001b[0m\n",
      "\u001b[1;32mINFO: Completed processing for song: two soon by string balloons\u001b[0m\n",
      "\u001b[1;32mINFO: Fetched Spotify audio features for best friends by izumi tanaka\u001b[0m\n"
     ]
    },
    {
     "name": "stderr",
     "output_type": "stream",
     "text": [
      "\u001b[1;33mWARNING: Lyrics not found for 'best friends' by izumi tanaka using all available providers.\u001b[0m\n"
     ]
    },
    {
     "name": "stdout",
     "output_type": "stream",
     "text": [
      "\u001b[1;32mINFO: Skipping download for best friends by izumi tanaka as it already exists.\u001b[0m\n",
      "\u001b[1;32mINFO: Completed processing for song: best friends by izumi tanaka\u001b[0m\n",
      "\u001b[1;32mINFO: Fetched Spotify audio features for guardian by everlight\u001b[0m\n"
     ]
    },
    {
     "name": "stderr",
     "output_type": "stream",
     "text": [
      "\u001b[1;33mWARNING: Lyrics not found for 'guardian' by everlight using all available providers.\u001b[0m\n"
     ]
    },
    {
     "name": "stdout",
     "output_type": "stream",
     "text": [
      "\u001b[1;32mINFO: Skipping download for guardian by everlight as it already exists.\u001b[0m\n",
      "\u001b[1;32mINFO: Completed processing for song: guardian by everlight\u001b[0m\n",
      "\u001b[1;32mINFO: Fetched Spotify audio features for spiritual awakening by tejal yann\u001b[0m\n"
     ]
    },
    {
     "name": "stderr",
     "output_type": "stream",
     "text": [
      "\u001b[1;33mWARNING: Lyrics not found for 'spiritual awakening' by tejal yann using all available providers.\u001b[0m\n"
     ]
    },
    {
     "name": "stdout",
     "output_type": "stream",
     "text": [
      "\u001b[1;32mINFO: Skipping download for spiritual awakening by tejal yann as it already exists.\u001b[0m\n",
      "\u001b[1;32mINFO: Completed processing for song: spiritual awakening by tejal yann\u001b[0m\n",
      "\u001b[1;32mINFO: Fetched Spotify audio features for stubborn love by the lumineers\u001b[0m\n",
      "\u001b[1;32mINFO: Skipping download for stubborn love by the lumineers as it already exists.\u001b[0m\n",
      "\u001b[1;32mINFO: Completed processing for song: stubborn love by the lumineers\u001b[0m\n",
      "\u001b[1;32mINFO: Fetched Spotify audio features for sleep on the floor by the lumineers\u001b[0m\n",
      "\u001b[1;32mINFO: Skipping download for sleep on the floor by the lumineers as it already exists.\u001b[0m\n",
      "\u001b[1;32mINFO: Completed processing for song: sleep on the floor by the lumineers\u001b[0m\n",
      "\u001b[1;32mINFO: Fetched Spotify audio features for stronger by lemon fight\u001b[0m\n"
     ]
    },
    {
     "name": "stderr",
     "output_type": "stream",
     "text": [
      "\u001b[1;33mWARNING: Lyrics not found for 'stronger' by lemon fight using all available providers.\u001b[0m\n"
     ]
    },
    {
     "name": "stdout",
     "output_type": "stream",
     "text": [
      "\u001b[1;32mINFO: Skipping download for stronger by lemon fight as it already exists.\u001b[0m\n",
      "\u001b[1;32mINFO: Completed processing for song: stronger by lemon fight\u001b[0m\n",
      "\u001b[1;32mINFO: Fetched Spotify audio features for let's get it on by marvin gaye\u001b[0m\n",
      "\u001b[1;32mINFO: Skipping download for let's get it on by marvin gaye as it already exists.\u001b[0m\n",
      "\u001b[1;32mINFO: Completed processing for song: let's get it on by marvin gaye\u001b[0m\n",
      "\u001b[1;32mINFO: Fetched Spotify audio features for she's a maniac by phone calls from home\u001b[0m\n",
      "\u001b[1;32mINFO: Skipping download for she's a maniac by phone calls from home as it already exists.\u001b[0m\n",
      "\u001b[1;32mINFO: Completed processing for song: she's a maniac by phone calls from home\u001b[0m\n",
      "\u001b[1;32mINFO: Fetched Spotify audio features for the final countdown by europe\u001b[0m\n",
      "\u001b[1;32mINFO: Skipping download for the final countdown by europe as it already exists.\u001b[0m\n",
      "\u001b[1;32mINFO: Completed processing for song: the final countdown by europe\u001b[0m\n",
      "\u001b[1;32mINFO: Fetched Spotify audio features for pola by muniek staszczyk\u001b[0m\n"
     ]
    },
    {
     "name": "stderr",
     "output_type": "stream",
     "text": [
      "\u001b[1;33mWARNING: Lyrics not found for 'pola' by muniek staszczyk using all available providers.\u001b[0m\n"
     ]
    },
    {
     "name": "stdout",
     "output_type": "stream",
     "text": [
      "\u001b[1;32mINFO: Skipping download for pola by muniek staszczyk as it already exists.\u001b[0m\n",
      "\u001b[1;32mINFO: Completed processing for song: pola by muniek staszczyk\u001b[0m\n",
      "\u001b[1;32mINFO: Fetched Spotify audio features for bonnie & clyde by vance joy\u001b[0m\n"
     ]
    },
    {
     "name": "stderr",
     "output_type": "stream",
     "text": [
      "\u001b[1;33mWARNING: Lyrics not found for 'bonnie & clyde' by vance joy using all available providers.\u001b[0m\n"
     ]
    },
    {
     "name": "stdout",
     "output_type": "stream",
     "text": [
      "\u001b[1;32mINFO: Skipping download for bonnie & clyde by vance joy as it already exists.\u001b[0m\n",
      "\u001b[1;32mINFO: Completed processing for song: bonnie & clyde by vance joy\u001b[0m\n",
      "\u001b[1;32mINFO: Fetched Spotify audio features for one of these days by vance joy\u001b[0m\n",
      "\u001b[1;32mINFO: Skipping download for one of these days by vance joy as it already exists.\u001b[0m\n",
      "\u001b[1;32mINFO: Completed processing for song: one of these days by vance joy\u001b[0m\n",
      "\u001b[1;32mINFO: Fetched Spotify audio features for crashing into you by vance joy\u001b[0m\n",
      "\u001b[1;32mINFO: Skipping download for crashing into you by vance joy as it already exists.\u001b[0m\n",
      "\u001b[1;32mINFO: Completed processing for song: crashing into you by vance joy\u001b[0m\n",
      "\u001b[1;32mINFO: Fetched Spotify audio features for take your time by vance joy\u001b[0m\n",
      "\u001b[1;32mINFO: Skipping download for take your time by vance joy as it already exists.\u001b[0m\n",
      "\u001b[1;32mINFO: Completed processing for song: take your time by vance joy\u001b[0m\n",
      "\u001b[1;32mINFO: Fetched Spotify audio features for everybody's somebody by don diablo\u001b[0m\n",
      "\u001b[1;32mINFO: Skipping download for everybody's somebody by don diablo as it already exists.\u001b[0m\n",
      "\u001b[1;32mINFO: Completed processing for song: everybody's somebody by don diablo\u001b[0m\n",
      "\u001b[1;32mINFO: Fetched Spotify audio features for ślady czereśni by zimnv\u001b[0m\n"
     ]
    },
    {
     "name": "stderr",
     "output_type": "stream",
     "text": [
      "\u001b[1;33mWARNING: Lyrics not found for 'ślady czereśni' by zimnv using all available providers.\u001b[0m\n"
     ]
    },
    {
     "name": "stdout",
     "output_type": "stream",
     "text": [
      "\u001b[1;32mINFO: Skipping download for ślady czereśni by zimnv as it already exists.\u001b[0m\n",
      "\u001b[1;32mINFO: Completed processing for song: ślady czereśni by zimnv\u001b[0m\n",
      "\u001b[1;32mINFO: Fetched Spotify audio features for września by zimnv\u001b[0m\n"
     ]
    },
    {
     "name": "stderr",
     "output_type": "stream",
     "text": [
      "\u001b[1;33mWARNING: Lyrics not found for 'września' by zimnv using all available providers.\u001b[0m\n"
     ]
    },
    {
     "name": "stdout",
     "output_type": "stream",
     "text": [
      "\u001b[1;32mINFO: Skipping download for września by zimnv as it already exists.\u001b[0m\n",
      "\u001b[1;32mINFO: Completed processing for song: września by zimnv\u001b[0m\n",
      "\u001b[1;32mINFO: Fetched Spotify audio features for i'm with you by vance joy\u001b[0m\n",
      "\u001b[1;32mINFO: Skipping download for i'm with you by vance joy as it already exists.\u001b[0m\n",
      "\u001b[1;32mINFO: Completed processing for song: i'm with you by vance joy\u001b[0m\n",
      "\u001b[1;32mINFO: Fetched Spotify audio features for first time by vance joy\u001b[0m\n",
      "\u001b[1;32mINFO: Skipping download for first time by vance joy as it already exists.\u001b[0m\n",
      "\u001b[1;32mINFO: Completed processing for song: first time by vance joy\u001b[0m\n",
      "\u001b[1;32mINFO: Fetched Spotify audio features for fire and the flood by vance joy\u001b[0m\n",
      "\u001b[1;32mINFO: Skipping download for fire and the flood by vance joy as it already exists.\u001b[0m\n",
      "\u001b[1;32mINFO: Completed processing for song: fire and the flood by vance joy\u001b[0m\n",
      "\u001b[1;32mINFO: Fetched Spotify audio features for ophelia by the lumineers\u001b[0m\n",
      "\u001b[1;32mINFO: Skipping download for ophelia by the lumineers as it already exists.\u001b[0m\n",
      "\u001b[1;32mINFO: Completed processing for song: ophelia by the lumineers\u001b[0m\n",
      "\u001b[1;32mINFO: Fetched Spotify audio features for like gold by vance joy\u001b[0m\n",
      "\u001b[1;32mINFO: Skipping download for like gold by vance joy as it already exists.\u001b[0m\n",
      "\u001b[1;32mINFO: Completed processing for song: like gold by vance joy\u001b[0m\n",
      "\u001b[1;32mINFO: Fetched Spotify audio features for mess is mine by vance joy\u001b[0m\n",
      "\u001b[1;32mINFO: Skipping download for mess is mine by vance joy as it already exists.\u001b[0m\n",
      "\u001b[1;32mINFO: Completed processing for song: mess is mine by vance joy\u001b[0m\n",
      "\u001b[1;32mINFO: Fetched Spotify audio features for saturday sun by vance joy\u001b[0m\n",
      "\u001b[1;32mINFO: Skipping download for saturday sun by vance joy as it already exists.\u001b[0m\n",
      "\u001b[1;32mINFO: Completed processing for song: saturday sun by vance joy\u001b[0m\n",
      "\u001b[1;32mINFO: Fetched Spotify audio features for wasted time by vance joy\u001b[0m\n",
      "\u001b[1;32mINFO: Skipping download for wasted time by vance joy as it already exists.\u001b[0m\n",
      "\u001b[1;32mINFO: Completed processing for song: wasted time by vance joy\u001b[0m\n",
      "\u001b[1;32mINFO: Fetched Spotify audio features for we're going home by vance joy\u001b[0m\n",
      "\u001b[1;32mINFO: Skipping download for we're going home by vance joy as it already exists.\u001b[0m\n",
      "\u001b[1;32mINFO: Completed processing for song: we're going home by vance joy\u001b[0m\n",
      "\u001b[1;32mINFO: Fetched Spotify audio features for little boy - live at red rocks amphitheatre by vance joy\u001b[0m\n",
      "\u001b[1;32mINFO: Skipping download for little boy - live at red rocks amphitheatre by vance joy as it already exists.\u001b[0m\n",
      "\u001b[1;32mINFO: Completed processing for song: little boy - live at red rocks amphitheatre by vance joy\u001b[0m\n",
      "\u001b[1;32mINFO: Fetched Spotify audio features for call if you need me by vance joy\u001b[0m\n",
      "\u001b[1;32mINFO: Skipping download for call if you need me by vance joy as it already exists.\u001b[0m\n",
      "\u001b[1;32mINFO: Completed processing for song: call if you need me by vance joy\u001b[0m\n",
      "\u001b[1;32mINFO: Fetched Spotify audio features for georgia by vance joy\u001b[0m\n",
      "\u001b[1;32mINFO: Skipping download for georgia by vance joy as it already exists.\u001b[0m\n",
      "\u001b[1;32mINFO: Completed processing for song: georgia by vance joy\u001b[0m\n",
      "\u001b[1;32mINFO: Fetched Spotify audio features for walls by jamie n commons\u001b[0m\n"
     ]
    },
    {
     "name": "stderr",
     "output_type": "stream",
     "text": [
      "\u001b[1;33mWARNING: Lyrics not found for 'walls' by jamie n commons using all available providers.\u001b[0m\n"
     ]
    },
    {
     "name": "stdout",
     "output_type": "stream",
     "text": [
      "\u001b[1;32mINFO: Skipping download for walls by jamie n commons as it already exists.\u001b[0m\n",
      "\u001b[1;32mINFO: Completed processing for song: walls by jamie n commons\u001b[0m\n",
      "\u001b[1;32mINFO: Fetched Spotify audio features for all the beautiful things by eels\u001b[0m\n",
      "\u001b[1;32mINFO: Skipping download for all the beautiful things by eels as it already exists.\u001b[0m\n",
      "\u001b[1;32mINFO: Completed processing for song: all the beautiful things by eels\u001b[0m\n",
      "\u001b[1;32mINFO: Fetched Spotify audio features for my my my! by troye sivan\u001b[0m\n",
      "\u001b[1;32mINFO: Skipping download for my my my! by troye sivan as it already exists.\u001b[0m\n",
      "\u001b[1;32mINFO: Completed processing for song: my my my! by troye sivan\u001b[0m\n",
      "\u001b[1;32mINFO: Fetched Spotify audio features for suspicious minds by elvis presley\u001b[0m\n",
      "\u001b[1;32mINFO: Skipping download for suspicious minds by elvis presley as it already exists.\u001b[0m\n",
      "\u001b[1;32mINFO: Completed processing for song: suspicious minds by elvis presley\u001b[0m\n",
      "\u001b[1;32mINFO: Fetched Spotify audio features for szczęśliwej drogi już czas by ryszard rynkowski\u001b[0m\n",
      "\u001b[1;32mINFO: Skipping download for szczęśliwej drogi już czas by ryszard rynkowski as it already exists.\u001b[0m\n",
      "\u001b[1;32mINFO: Completed processing for song: szczęśliwej drogi już czas by ryszard rynkowski\u001b[0m\n",
      "\u001b[1;32mINFO: Fetched Spotify audio features for beautiful mess by kristian kostov\u001b[0m\n",
      "\u001b[1;32mINFO: Skipping download for beautiful mess by kristian kostov as it already exists.\u001b[0m\n",
      "\u001b[1;32mINFO: Completed processing for song: beautiful mess by kristian kostov\u001b[0m\n",
      "\u001b[1;32mINFO: Fetched Spotify audio features for a sky full of stars by boyce avenue\u001b[0m\n"
     ]
    },
    {
     "name": "stderr",
     "output_type": "stream",
     "text": [
      "\u001b[1;33mWARNING: Lyrics not found for 'a sky full of stars' by boyce avenue using all available providers.\u001b[0m\n"
     ]
    },
    {
     "name": "stdout",
     "output_type": "stream",
     "text": [
      "\u001b[1;32mINFO: Skipping download for a sky full of stars by boyce avenue as it already exists.\u001b[0m\n",
      "\u001b[1;32mINFO: Completed processing for song: a sky full of stars by boyce avenue\u001b[0m\n",
      "\u001b[1;32mINFO: Fetched Spotify audio features for angels in the sky by insania\u001b[0m\n",
      "\u001b[1;32mINFO: Skipping download for angels in the sky by insania as it already exists.\u001b[0m\n",
      "\u001b[1;32mINFO: Completed processing for song: angels in the sky by insania\u001b[0m\n",
      "\u001b[1;32mINFO: Fetched Spotify audio features for all out of love by air supply\u001b[0m\n",
      "\u001b[1;32mINFO: Skipping download for all out of love by air supply as it already exists.\u001b[0m\n",
      "\u001b[1;32mINFO: Completed processing for song: all out of love by air supply\u001b[0m\n",
      "\u001b[1;32mINFO: Fetched Spotify audio features for my heart will go on - love theme from \"titanic\" by céline dion\u001b[0m\n",
      "\u001b[1;32mINFO: Skipping download for my heart will go on - love theme from \"titanic\" by céline dion as it already exists.\u001b[0m\n",
      "\u001b[1;32mINFO: Completed processing for song: my heart will go on - love theme from \"titanic\" by céline dion\u001b[0m\n",
      "\u001b[1;32mINFO: Fetched Spotify audio features for torn by natalie imbruglia\u001b[0m\n",
      "\u001b[1;32mINFO: Skipping download for torn by natalie imbruglia as it already exists.\u001b[0m\n",
      "\u001b[1;32mINFO: Completed processing for song: torn by natalie imbruglia\u001b[0m\n",
      "\u001b[1;32mINFO: Fetched Spotify audio features for moves like jagger - studio recording from \"the voice\" performance by maroon 5\u001b[0m\n",
      "\u001b[1;32mINFO: Skipping download for moves like jagger - studio recording from \"the voice\" performance by maroon 5 as it already exists.\u001b[0m\n",
      "\u001b[1;32mINFO: Completed processing for song: moves like jagger - studio recording from \"the voice\" performance by maroon 5\u001b[0m\n",
      "\u001b[1;32mINFO: Fetched Spotify audio features for bones (feat. onerepublic) by galantis\u001b[0m\n",
      "\u001b[1;32mINFO: Skipping download for bones (feat. onerepublic) by galantis as it already exists.\u001b[0m\n",
      "\u001b[1;32mINFO: Completed processing for song: bones (feat. onerepublic) by galantis\u001b[0m\n",
      "\u001b[1;32mINFO: Fetched Spotify audio features for dreamer by axwell /\\ ingrosso\u001b[0m\n"
     ]
    },
    {
     "name": "stderr",
     "output_type": "stream",
     "text": [
      "\u001b[1;33mWARNING: Lyrics not found for 'dreamer' by axwell /\\ ingrosso using all available providers.\u001b[0m\n"
     ]
    },
    {
     "name": "stdout",
     "output_type": "stream",
     "text": [
      "\u001b[1;32mINFO: Skipping download for dreamer by axwell /\\ ingrosso as it already exists.\u001b[0m\n",
      "\u001b[1;32mINFO: Completed processing for song: dreamer by axwell /\\ ingrosso\u001b[0m\n",
      "\u001b[1;32mINFO: Fetched Spotify audio features for for you (fifty shades freed) (& rita ora) by liam payne\u001b[0m\n",
      "\u001b[1;32mINFO: Skipping download for for you (fifty shades freed) (& rita ora) by liam payne as it already exists.\u001b[0m\n",
      "\u001b[1;32mINFO: Completed processing for song: for you (fifty shades freed) (& rita ora) by liam payne\u001b[0m\n",
      "\u001b[1;32mINFO: Fetched Spotify audio features for who do you love by the chainsmokers\u001b[0m\n",
      "\u001b[1;32mINFO: Skipping download for who do you love by the chainsmokers as it already exists.\u001b[0m\n",
      "\u001b[1;32mINFO: Completed processing for song: who do you love by the chainsmokers\u001b[0m\n",
      "\u001b[1;32mINFO: Fetched Spotify audio features for roads by vargas & lagola\u001b[0m\n",
      "\u001b[1;32mINFO: Skipping download for roads by vargas & lagola as it already exists.\u001b[0m\n",
      "\u001b[1;32mINFO: Completed processing for song: roads by vargas & lagola\u001b[0m\n",
      "\u001b[1;32mINFO: Fetched Spotify audio features for not giving in by tom walker\u001b[0m\n",
      "\u001b[1;32mINFO: Skipping download for not giving in by tom walker as it already exists.\u001b[0m\n",
      "\u001b[1;32mINFO: Completed processing for song: not giving in by tom walker\u001b[0m\n",
      "\u001b[1;32mINFO: Fetched Spotify audio features for walk me home by p!nk\u001b[0m\n",
      "\u001b[1;32mINFO: Skipping download for walk me home by p!nk as it already exists.\u001b[0m\n",
      "\u001b[1;32mINFO: Completed processing for song: walk me home by p!nk\u001b[0m\n",
      "\u001b[1;32mINFO: Fetched Spotify audio features for monster among men by 5 seconds of summer\u001b[0m\n",
      "\u001b[1;32mINFO: Skipping download for monster among men by 5 seconds of summer as it already exists.\u001b[0m\n",
      "\u001b[1;32mINFO: Completed processing for song: monster among men by 5 seconds of summer\u001b[0m\n",
      "\u001b[1;32mINFO: Fetched Spotify audio features for youngblood by 5 seconds of summer\u001b[0m\n",
      "\u001b[1;32mINFO: Skipping download for youngblood by 5 seconds of summer as it already exists.\u001b[0m\n",
      "\u001b[1;32mINFO: Completed processing for song: youngblood by 5 seconds of summer\u001b[0m\n",
      "\u001b[1;32mINFO: Fetched Spotify audio features for in the air tonight - 2015 remastered by phil collins\u001b[0m\n",
      "\u001b[1;32mINFO: Skipping download for in the air tonight - 2015 remastered by phil collins as it already exists.\u001b[0m\n",
      "\u001b[1;32mINFO: Completed processing for song: in the air tonight - 2015 remastered by phil collins\u001b[0m\n",
      "\u001b[1;32mINFO: Fetched Spotify audio features for make it with you by bread\u001b[0m\n",
      "\u001b[1;32mINFO: Skipping download for make it with you by bread as it already exists.\u001b[0m\n",
      "\u001b[1;32mINFO: Completed processing for song: make it with you by bread\u001b[0m\n",
      "\u001b[1;32mINFO: Fetched Spotify audio features for i fall apart by post malone\u001b[0m\n",
      "\u001b[1;32mINFO: Skipping download for i fall apart by post malone as it already exists.\u001b[0m\n",
      "\u001b[1;32mINFO: Completed processing for song: i fall apart by post malone\u001b[0m\n",
      "\u001b[1;32mINFO: Fetched Spotify audio features for in this country - from \"over the top\" soundtrack by robin zander\u001b[0m\n",
      "\u001b[1;32mINFO: Skipping download for in this country - from \"over the top\" soundtrack by robin zander as it already exists.\u001b[0m\n",
      "\u001b[1;32mINFO: Completed processing for song: in this country - from \"over the top\" soundtrack by robin zander\u001b[0m\n",
      "\u001b[1;32mINFO: Fetched Spotify audio features for meet me half way - from \"over the top\" soundtrack by kenny loggins\u001b[0m\n",
      "\u001b[1;32mINFO: Skipping download for meet me half way - from \"over the top\" soundtrack by kenny loggins as it already exists.\u001b[0m\n",
      "\u001b[1;32mINFO: Completed processing for song: meet me half way - from \"over the top\" soundtrack by kenny loggins\u001b[0m\n",
      "\u001b[1;32mINFO: Fetched Spotify audio features for unsteady by x ambassadors\u001b[0m\n",
      "\u001b[1;32mINFO: Skipping download for unsteady by x ambassadors as it already exists.\u001b[0m\n",
      "\u001b[1;32mINFO: Completed processing for song: unsteady by x ambassadors\u001b[0m\n",
      "\u001b[1;32mINFO: Fetched Spotify audio features for weight of the world by jon bellion\u001b[0m\n",
      "\u001b[1;32mINFO: Skipping download for weight of the world by jon bellion as it already exists.\u001b[0m\n",
      "\u001b[1;32mINFO: Completed processing for song: weight of the world by jon bellion\u001b[0m\n",
      "\u001b[1;32mINFO: Fetched Spotify audio features for la camisa negra by juanes\u001b[0m\n",
      "\u001b[1;32mINFO: Skipping download for la camisa negra by juanes as it already exists.\u001b[0m\n",
      "\u001b[1;32mINFO: Completed processing for song: la camisa negra by juanes\u001b[0m\n",
      "\u001b[1;32mINFO: Fetched Spotify audio features for body gold by oh wonder\u001b[0m\n",
      "\u001b[1;32mINFO: Skipping download for body gold by oh wonder as it already exists.\u001b[0m\n",
      "\u001b[1;32mINFO: Completed processing for song: body gold by oh wonder\u001b[0m\n",
      "\u001b[1;32mINFO: Fetched Spotify audio features for always by owl city\u001b[0m\n",
      "\u001b[1;32mINFO: Skipping download for always by owl city as it already exists.\u001b[0m\n",
      "\u001b[1;32mINFO: Completed processing for song: always by owl city\u001b[0m\n",
      "\u001b[1;32mINFO: Fetched Spotify audio features for burning love by elvis presley\u001b[0m\n",
      "\u001b[1;32mINFO: Skipping download for burning love by elvis presley as it already exists.\u001b[0m\n",
      "\u001b[1;32mINFO: Completed processing for song: burning love by elvis presley\u001b[0m\n",
      "\u001b[1;32mINFO: Fetched Spotify audio features for crazy by gnarls barkley\u001b[0m\n",
      "\u001b[1;32mINFO: Skipping download for crazy by gnarls barkley as it already exists.\u001b[0m\n",
      "\u001b[1;32mINFO: Completed processing for song: crazy by gnarls barkley\u001b[0m\n",
      "\u001b[1;32mINFO: Fetched Spotify audio features for happy together by the turtles\u001b[0m\n",
      "\u001b[1;32mINFO: Skipping download for happy together by the turtles as it already exists.\u001b[0m\n",
      "\u001b[1;32mINFO: Completed processing for song: happy together by the turtles\u001b[0m\n",
      "\u001b[1;32mINFO: Fetched Spotify audio features for nevermind by dennis lloyd\u001b[0m\n",
      "\u001b[1;32mINFO: Skipping download for nevermind by dennis lloyd as it already exists.\u001b[0m\n",
      "\u001b[1;32mINFO: Completed processing for song: nevermind by dennis lloyd\u001b[0m\n",
      "\u001b[1;32mINFO: Fetched Spotify audio features for battle scars (with guy sebastian) by lupe fiasco\u001b[0m\n",
      "\u001b[1;32mINFO: Skipping download for battle scars (with guy sebastian) by lupe fiasco as it already exists.\u001b[0m\n",
      "\u001b[1;32mINFO: Completed processing for song: battle scars (with guy sebastian) by lupe fiasco\u001b[0m\n",
      "\u001b[1;32mINFO: Fetched Spotify audio features for glorious (feat. skylar grey) by macklemore\u001b[0m\n",
      "\u001b[1;32mINFO: Skipping download for glorious (feat. skylar grey) by macklemore as it already exists.\u001b[0m\n",
      "\u001b[1;32mINFO: Completed processing for song: glorious (feat. skylar grey) by macklemore\u001b[0m\n",
      "\u001b[1;32mINFO: Fetched Spotify audio features for coming home by diddy - dirty money\u001b[0m\n",
      "\u001b[1;32mINFO: Skipping download for coming home by diddy - dirty money as it already exists.\u001b[0m\n",
      "\u001b[1;32mINFO: Completed processing for song: coming home by diddy - dirty money\u001b[0m\n",
      "\u001b[1;32mINFO: Fetched Spotify audio features for september by earth, wind & fire\u001b[0m\n",
      "\u001b[1;32mINFO: Skipping download for september by earth, wind & fire as it already exists.\u001b[0m\n",
      "\u001b[1;32mINFO: Completed processing for song: september by earth, wind & fire\u001b[0m\n",
      "\u001b[1;32mINFO: Fetched Spotify audio features for how deep is your love by bee gees\u001b[0m\n",
      "\u001b[1;32mINFO: Skipping download for how deep is your love by bee gees as it already exists.\u001b[0m\n",
      "\u001b[1;32mINFO: Completed processing for song: how deep is your love by bee gees\u001b[0m\n",
      "\u001b[1;32mINFO: Fetched Spotify audio features for hallelujah by jeff buckley\u001b[0m\n",
      "\u001b[1;32mINFO: Skipping download for hallelujah by jeff buckley as it already exists.\u001b[0m\n",
      "\u001b[1;32mINFO: Completed processing for song: hallelujah by jeff buckley\u001b[0m\n",
      "\u001b[1;32mINFO: Fetched Spotify audio features for no woman, no cry - live at the lyceum, london/1975 by bob marley & the wailers\u001b[0m\n",
      "\u001b[1;32mINFO: Downloaded song: no woman, no cry - live at the lyceum, london/1975\u001b[0m\n",
      "\u001b[1;32mINFO: Completed processing for song: no woman, no cry - live at the lyceum, london/1975 by bob marley & the wailers\u001b[0m\n",
      "\u001b[1;32mINFO: Fetched Spotify audio features for yesterday - remastered 2009 by the beatles\u001b[0m\n",
      "\u001b[1;32mINFO: Skipping download for yesterday - remastered 2009 by the beatles as it already exists.\u001b[0m\n",
      "\u001b[1;32mINFO: Completed processing for song: yesterday - remastered 2009 by the beatles\u001b[0m\n",
      "\u001b[1;32mINFO: Fetched Spotify audio features for knocking on heavens door by raign\u001b[0m\n"
     ]
    },
    {
     "name": "stderr",
     "output_type": "stream",
     "text": [
      "\u001b[1;33mWARNING: Lyrics not found for 'knocking on heavens door' by raign using all available providers.\u001b[0m\n"
     ]
    },
    {
     "name": "stdout",
     "output_type": "stream",
     "text": [
      "\u001b[1;32mINFO: Skipping download for knocking on heavens door by raign as it already exists.\u001b[0m\n",
      "\u001b[1;32mINFO: Completed processing for song: knocking on heavens door by raign\u001b[0m\n",
      "\u001b[1;32mINFO: Fetched Spotify audio features for heroes - 2017 remaster by david bowie\u001b[0m\n",
      "\u001b[1;32mINFO: Skipping download for heroes - 2017 remaster by david bowie as it already exists.\u001b[0m\n",
      "\u001b[1;32mINFO: Completed processing for song: heroes - 2017 remaster by david bowie\u001b[0m\n",
      "\u001b[1;32mINFO: Fetched Spotify audio features for oh, pretty woman by roy orbison\u001b[0m\n",
      "\u001b[1;32mINFO: Skipping download for oh, pretty woman by roy orbison as it already exists.\u001b[0m\n",
      "\u001b[1;32mINFO: Completed processing for song: oh, pretty woman by roy orbison\u001b[0m\n",
      "\u001b[1;32mINFO: Fetched Spotify audio features for with or without you by u2\u001b[0m\n",
      "\u001b[1;32mINFO: Skipping download for with or without you by u2 as it already exists.\u001b[0m\n",
      "\u001b[1;32mINFO: Completed processing for song: with or without you by u2\u001b[0m\n",
      "\u001b[1;32mINFO: Fetched Spotify audio features for stairway to heaven - remaster by led zeppelin\u001b[0m\n",
      "\u001b[1;32mINFO: Skipping download for stairway to heaven - remaster by led zeppelin as it already exists.\u001b[0m\n",
      "\u001b[1;32mINFO: Completed processing for song: stairway to heaven - remaster by led zeppelin\u001b[0m\n",
      "\u001b[1;32mINFO: Fetched Spotify audio features for promises (with sam smith) by calvin harris\u001b[0m\n",
      "\u001b[1;32mINFO: Skipping download for promises (with sam smith) by calvin harris as it already exists.\u001b[0m\n",
      "\u001b[1;32mINFO: Completed processing for song: promises (with sam smith) by calvin harris\u001b[0m\n",
      "\u001b[1;32mINFO: Fetched Spotify audio features for zabiorę cię dziś na bal by zbigniew wodecki\u001b[0m\n"
     ]
    },
    {
     "name": "stderr",
     "output_type": "stream",
     "text": [
      "\u001b[1;33mWARNING: Lyrics not found for 'zabiorę cię dziś na bal' by zbigniew wodecki using all available providers.\u001b[0m\n"
     ]
    },
    {
     "name": "stdout",
     "output_type": "stream",
     "text": [
      "\u001b[1;32mINFO: Skipping download for zabiorę cię dziś na bal by zbigniew wodecki as it already exists.\u001b[0m\n",
      "\u001b[1;32mINFO: Completed processing for song: zabiorę cię dziś na bal by zbigniew wodecki\u001b[0m\n",
      "\u001b[1;32mINFO: Fetched Spotify audio features for i still haven't found what i'm looking for by u2\u001b[0m\n",
      "\u001b[1;32mINFO: Skipping download for i still haven't found what i'm looking for by u2 as it already exists.\u001b[0m\n",
      "\u001b[1;32mINFO: Completed processing for song: i still haven't found what i'm looking for by u2\u001b[0m\n",
      "\u001b[1;32mINFO: Fetched Spotify audio features for love is all we have left by u2\u001b[0m\n",
      "\u001b[1;32mINFO: Skipping download for love is all we have left by u2 as it already exists.\u001b[0m\n",
      "\u001b[1;32mINFO: Completed processing for song: love is all we have left by u2\u001b[0m\n",
      "\u001b[1;32mINFO: Fetched Spotify audio features for beautiful day by u2\u001b[0m\n",
      "\u001b[1;32mINFO: Skipping download for beautiful day by u2 as it already exists.\u001b[0m\n",
      "\u001b[1;32mINFO: Completed processing for song: beautiful day by u2\u001b[0m\n",
      "\u001b[1;32mINFO: Fetched Spotify audio features for whataya want from me by adam lambert\u001b[0m\n",
      "\u001b[1;32mINFO: Skipping download for whataya want from me by adam lambert as it already exists.\u001b[0m\n",
      "\u001b[1;32mINFO: Completed processing for song: whataya want from me by adam lambert\u001b[0m\n",
      "\u001b[1;32mINFO: Fetched Spotify audio features for one by u2\u001b[0m\n",
      "\u001b[1;32mINFO: Skipping download for one by u2 as it already exists.\u001b[0m\n",
      "\u001b[1;32mINFO: Completed processing for song: one by u2\u001b[0m\n",
      "\u001b[1;32mINFO: Fetched Spotify audio features for one call away by charlie puth\u001b[0m\n",
      "\u001b[1;32mINFO: Skipping download for one call away by charlie puth as it already exists.\u001b[0m\n",
      "\u001b[1;32mINFO: Completed processing for song: one call away by charlie puth\u001b[0m\n",
      "\u001b[1;32mINFO: Fetched Spotify audio features for save tonight by eagle-eye cherry\u001b[0m\n",
      "\u001b[1;32mINFO: Skipping download for save tonight by eagle-eye cherry as it already exists.\u001b[0m\n",
      "\u001b[1;32mINFO: Completed processing for song: save tonight by eagle-eye cherry\u001b[0m\n",
      "\u001b[1;32mINFO: Fetched Spotify audio features for californication by red hot chili peppers\u001b[0m\n",
      "\u001b[1;32mINFO: Skipping download for californication by red hot chili peppers as it already exists.\u001b[0m\n",
      "\u001b[1;32mINFO: Completed processing for song: californication by red hot chili peppers\u001b[0m\n",
      "\u001b[1;32mINFO: Fetched Spotify audio features for hit the road jack by throttle\u001b[0m\n",
      "\u001b[1;32mINFO: Skipping download for hit the road jack by throttle as it already exists.\u001b[0m\n",
      "\u001b[1;32mINFO: Completed processing for song: hit the road jack by throttle\u001b[0m\n",
      "\u001b[1;32mINFO: Fetched Spotify audio features for hit the road jack by ray charles\u001b[0m\n",
      "\u001b[1;32mINFO: Skipping download for hit the road jack by ray charles as it already exists.\u001b[0m\n",
      "\u001b[1;32mINFO: Completed processing for song: hit the road jack by ray charles\u001b[0m\n",
      "\u001b[1;32mINFO: Fetched Spotify audio features for the way i do by bishop briggs\u001b[0m\n",
      "\u001b[1;32mINFO: Skipping download for the way i do by bishop briggs as it already exists.\u001b[0m\n",
      "\u001b[1;32mINFO: Completed processing for song: the way i do by bishop briggs\u001b[0m\n",
      "\u001b[1;32mINFO: Fetched Spotify audio features for wolves by selena gomez\u001b[0m\n",
      "\u001b[1;32mINFO: Skipping download for wolves by selena gomez as it already exists.\u001b[0m\n",
      "\u001b[1;32mINFO: Completed processing for song: wolves by selena gomez\u001b[0m\n",
      "\u001b[1;32mINFO: Fetched Spotify audio features for stay young by maisie peters\u001b[0m\n",
      "\u001b[1;32mINFO: Skipping download for stay young by maisie peters as it already exists.\u001b[0m\n",
      "\u001b[1;32mINFO: Completed processing for song: stay young by maisie peters\u001b[0m\n",
      "\u001b[1;32mINFO: Fetched Spotify audio features for suitcase by james tw\u001b[0m\n"
     ]
    },
    {
     "name": "stderr",
     "output_type": "stream",
     "text": [
      "\u001b[1;33mWARNING: Lyrics not found for 'suitcase' by james tw using all available providers.\u001b[0m\n"
     ]
    },
    {
     "name": "stdout",
     "output_type": "stream",
     "text": [
      "\u001b[1;32mINFO: Skipping download for suitcase by james tw as it already exists.\u001b[0m\n",
      "\u001b[1;32mINFO: Completed processing for song: suitcase by james tw\u001b[0m\n",
      "\u001b[1;32mINFO: Fetched Spotify audio features for preach by john legend\u001b[0m\n"
     ]
    },
    {
     "name": "stderr",
     "output_type": "stream",
     "text": [
      "\u001b[1;33mWARNING: Lyrics not found for 'preach' by john legend using all available providers.\u001b[0m\n"
     ]
    },
    {
     "name": "stdout",
     "output_type": "stream",
     "text": [
      "\u001b[1;32mINFO: Skipping download for preach by john legend as it already exists.\u001b[0m\n",
      "\u001b[1;32mINFO: Completed processing for song: preach by john legend\u001b[0m\n",
      "\u001b[1;32mINFO: Fetched Spotify audio features for free (feat. emeli sandé) by rudimental\u001b[0m\n",
      "\u001b[1;32mINFO: Skipping download for free (feat. emeli sandé) by rudimental as it already exists.\u001b[0m\n",
      "\u001b[1;32mINFO: Completed processing for song: free (feat. emeli sandé) by rudimental\u001b[0m\n",
      "\u001b[1;32mINFO: Fetched Spotify audio features for mama said by lukas graham\u001b[0m\n",
      "\u001b[1;32mINFO: Skipping download for mama said by lukas graham as it already exists.\u001b[0m\n",
      "\u001b[1;32mINFO: Completed processing for song: mama said by lukas graham\u001b[0m\n",
      "\u001b[1;32mINFO: Fetched Spotify audio features for gravity by tim mcgraw\u001b[0m\n"
     ]
    },
    {
     "name": "stderr",
     "output_type": "stream",
     "text": [
      "\u001b[1;33mWARNING: Lyrics not found for 'gravity' by tim mcgraw using all available providers.\u001b[0m\n"
     ]
    },
    {
     "name": "stdout",
     "output_type": "stream",
     "text": [
      "\u001b[1;32mINFO: Skipping download for gravity by tim mcgraw as it already exists.\u001b[0m\n",
      "\u001b[1;32mINFO: Completed processing for song: gravity by tim mcgraw\u001b[0m\n",
      "\u001b[1;32mINFO: Fetched Spotify audio features for i don't want to miss a thing - from the touchstone film, \"armageddon\" by aerosmith\u001b[0m\n",
      "\u001b[1;32mINFO: Skipping download for i don't want to miss a thing - from the touchstone film, \"armageddon\" by aerosmith as it already exists.\u001b[0m\n",
      "\u001b[1;32mINFO: Completed processing for song: i don't want to miss a thing - from the touchstone film, \"armageddon\" by aerosmith\u001b[0m\n",
      "\u001b[1;32mINFO: Fetched Spotify audio features for when you're gone by the cranberries\u001b[0m\n",
      "\u001b[1;32mINFO: Skipping download for when you're gone by the cranberries as it already exists.\u001b[0m\n",
      "\u001b[1;32mINFO: Completed processing for song: when you're gone by the cranberries\u001b[0m\n",
      "\u001b[1;32mINFO: Fetched Spotify audio features for quit playing games (with my heart) by backstreet boys\u001b[0m\n",
      "\u001b[1;32mINFO: Skipping download for quit playing games (with my heart) by backstreet boys as it already exists.\u001b[0m\n",
      "\u001b[1;32mINFO: Completed processing for song: quit playing games (with my heart) by backstreet boys\u001b[0m\n",
      "\u001b[1;32mINFO: Fetched Spotify audio features for way down we go by kaleo\u001b[0m\n",
      "\u001b[1;32mINFO: Skipping download for way down we go by kaleo as it already exists.\u001b[0m\n",
      "\u001b[1;32mINFO: Completed processing for song: way down we go by kaleo\u001b[0m\n",
      "\u001b[1;32mINFO: Fetched Spotify audio features for show 'em (what you're made of) by backstreet boys\u001b[0m\n",
      "\u001b[1;32mINFO: Skipping download for show 'em (what you're made of) by backstreet boys as it already exists.\u001b[0m\n",
      "\u001b[1;32mINFO: Completed processing for song: show 'em (what you're made of) by backstreet boys\u001b[0m\n",
      "\u001b[1;32mINFO: Fetched Spotify audio features for breathe by backstreet boys\u001b[0m\n",
      "\u001b[1;32mINFO: Skipping download for breathe by backstreet boys as it already exists.\u001b[0m\n",
      "\u001b[1;32mINFO: Completed processing for song: breathe by backstreet boys\u001b[0m\n",
      "\u001b[1;32mINFO: Fetched Spotify audio features for make believe by backstreet boys\u001b[0m\n",
      "\u001b[1;32mINFO: Skipping download for make believe by backstreet boys as it already exists.\u001b[0m\n",
      "\u001b[1;32mINFO: Completed processing for song: make believe by backstreet boys\u001b[0m\n",
      "\u001b[1;32mINFO: Fetched Spotify audio features for love somebody by backstreet boys\u001b[0m\n",
      "\u001b[1;32mINFO: Skipping download for love somebody by backstreet boys as it already exists.\u001b[0m\n",
      "\u001b[1;32mINFO: Completed processing for song: love somebody by backstreet boys\u001b[0m\n",
      "\u001b[1;32mINFO: Fetched Spotify audio features for don't go breaking my heart by backstreet boys\u001b[0m\n",
      "\u001b[1;32mINFO: Skipping download for don't go breaking my heart by backstreet boys as it already exists.\u001b[0m\n",
      "\u001b[1;32mINFO: Completed processing for song: don't go breaking my heart by backstreet boys\u001b[0m\n",
      "\u001b[1;32mINFO: Fetched Spotify audio features for chances by backstreet boys\u001b[0m\n",
      "\u001b[1;32mINFO: Skipping download for chances by backstreet boys as it already exists.\u001b[0m\n",
      "\u001b[1;32mINFO: Completed processing for song: chances by backstreet boys\u001b[0m\n",
      "\u001b[1;32mINFO: Fetched Spotify audio features for try by backstreet boys\u001b[0m\n",
      "\u001b[1;32mINFO: Skipping download for try by backstreet boys as it already exists.\u001b[0m\n",
      "\u001b[1;32mINFO: Completed processing for song: try by backstreet boys\u001b[0m\n",
      "\u001b[1;32mINFO: Fetched Spotify audio features for as long as you love me by backstreet boys\u001b[0m\n",
      "\u001b[1;32mINFO: Skipping download for as long as you love me by backstreet boys as it already exists.\u001b[0m\n",
      "\u001b[1;32mINFO: Completed processing for song: as long as you love me by backstreet boys\u001b[0m\n",
      "\u001b[1;32mINFO: Fetched Spotify audio features for in a world like this by backstreet boys\u001b[0m\n",
      "\u001b[1;32mINFO: Skipping download for in a world like this by backstreet boys as it already exists.\u001b[0m\n",
      "\u001b[1;32mINFO: Completed processing for song: in a world like this by backstreet boys\u001b[0m\n",
      "\u001b[1;32mINFO: Fetched Spotify audio features for nobody else by backstreet boys\u001b[0m\n",
      "\u001b[1;32mINFO: Skipping download for nobody else by backstreet boys as it already exists.\u001b[0m\n",
      "\u001b[1;32mINFO: Completed processing for song: nobody else by backstreet boys\u001b[0m\n",
      "\u001b[1;32mINFO: Fetched Spotify audio features for soldier by backstreet boys\u001b[0m\n",
      "\u001b[1;32mINFO: Skipping download for soldier by backstreet boys as it already exists.\u001b[0m\n",
      "\u001b[1;32mINFO: Completed processing for song: soldier by backstreet boys\u001b[0m\n",
      "\u001b[1;32mINFO: Fetched Spotify audio features for chateau by backstreet boys\u001b[0m\n",
      "\u001b[1;32mINFO: Skipping download for chateau by backstreet boys as it already exists.\u001b[0m\n",
      "\u001b[1;32mINFO: Completed processing for song: chateau by backstreet boys\u001b[0m\n",
      "\u001b[1;32mINFO: Fetched Spotify audio features for trust me by backstreet boys\u001b[0m\n",
      "\u001b[1;32mINFO: Skipping download for trust me by backstreet boys as it already exists.\u001b[0m\n",
      "\u001b[1;32mINFO: Completed processing for song: trust me by backstreet boys\u001b[0m\n",
      "\u001b[1;32mINFO: Fetched Spotify audio features for one phone call by backstreet boys\u001b[0m\n",
      "\u001b[1;32mINFO: Skipping download for one phone call by backstreet boys as it already exists.\u001b[0m\n",
      "\u001b[1;32mINFO: Completed processing for song: one phone call by backstreet boys\u001b[0m\n",
      "\u001b[1;32mINFO: Fetched Spotify audio features for madeleine by backstreet boys\u001b[0m\n",
      "\u001b[1;32mINFO: Skipping download for madeleine by backstreet boys as it already exists.\u001b[0m\n",
      "\u001b[1;32mINFO: Completed processing for song: madeleine by backstreet boys\u001b[0m\n",
      "\u001b[1;32mINFO: Fetched Spotify audio features for no place by backstreet boys\u001b[0m\n",
      "\u001b[1;32mINFO: Skipping download for no place by backstreet boys as it already exists.\u001b[0m\n",
      "\u001b[1;32mINFO: Completed processing for song: no place by backstreet boys\u001b[0m\n",
      "\u001b[1;32mINFO: Fetched Spotify audio features for passionate by backstreet boys\u001b[0m\n",
      "\u001b[1;32mINFO: Skipping download for passionate by backstreet boys as it already exists.\u001b[0m\n",
      "\u001b[1;32mINFO: Completed processing for song: passionate by backstreet boys\u001b[0m\n",
      "\u001b[1;32mINFO: Fetched Spotify audio features for just like you like it by backstreet boys\u001b[0m\n",
      "\u001b[1;32mINFO: Skipping download for just like you like it by backstreet boys as it already exists.\u001b[0m\n",
      "\u001b[1;32mINFO: Completed processing for song: just like you like it by backstreet boys\u001b[0m\n",
      "\u001b[1;32mINFO: Fetched Spotify audio features for i want it that way by backstreet boys\u001b[0m\n",
      "\u001b[1;32mINFO: Skipping download for i want it that way by backstreet boys as it already exists.\u001b[0m\n",
      "\u001b[1;32mINFO: Completed processing for song: i want it that way by backstreet boys\u001b[0m\n",
      "\u001b[1;32mINFO: Fetched Spotify audio features for total eclipse of the heart by bonnie tyler\u001b[0m\n",
      "\u001b[1;32mINFO: Skipping download for total eclipse of the heart by bonnie tyler as it already exists.\u001b[0m\n",
      "\u001b[1;32mINFO: Completed processing for song: total eclipse of the heart by bonnie tyler\u001b[0m\n",
      "\u001b[1;32mINFO: Fetched Spotify audio features for i wanna b with u by fun factory\u001b[0m\n",
      "\u001b[1;32mINFO: Skipping download for i wanna b with u by fun factory as it already exists.\u001b[0m\n",
      "\u001b[1;32mINFO: Completed processing for song: i wanna b with u by fun factory\u001b[0m\n",
      "\u001b[1;32mINFO: Fetched Spotify audio features for ain't no rest for the wicked - original version by cage the elephant\u001b[0m\n",
      "\u001b[1;32mINFO: Skipping download for ain't no rest for the wicked - original version by cage the elephant as it already exists.\u001b[0m\n",
      "\u001b[1;32mINFO: Completed processing for song: ain't no rest for the wicked - original version by cage the elephant\u001b[0m\n",
      "\u001b[1;32mINFO: Fetched Spotify audio features for hard time by seinabo sey\u001b[0m\n",
      "\u001b[1;32mINFO: Skipping download for hard time by seinabo sey as it already exists.\u001b[0m\n",
      "\u001b[1;32mINFO: Completed processing for song: hard time by seinabo sey\u001b[0m\n",
      "\u001b[1;32mINFO: Fetched Spotify audio features for like i love you by lost frequencies\u001b[0m\n",
      "\u001b[1;32mINFO: Skipping download for like i love you by lost frequencies as it already exists.\u001b[0m\n",
      "\u001b[1;32mINFO: Completed processing for song: like i love you by lost frequencies\u001b[0m\n",
      "\u001b[1;32mINFO: Fetched Spotify audio features for hold me tight or don’t by fall out boy\u001b[0m\n",
      "\u001b[1;32mINFO: Skipping download for hold me tight or don’t by fall out boy as it already exists.\u001b[0m\n",
      "\u001b[1;32mINFO: Completed processing for song: hold me tight or don’t by fall out boy\u001b[0m\n",
      "\u001b[1;32mINFO: Fetched Spotify audio features for speechless (feat. erika sirola) by robin schulz\u001b[0m\n",
      "\u001b[1;32mINFO: Skipping download for speechless (feat. erika sirola) by robin schulz as it already exists.\u001b[0m\n",
      "\u001b[1;32mINFO: Completed processing for song: speechless (feat. erika sirola) by robin schulz\u001b[0m\n",
      "\u001b[1;32mINFO: Fetched Spotify audio features for red dead redemption 2 - cruel, cruel world - main theme by geek music\u001b[0m\n"
     ]
    },
    {
     "name": "stderr",
     "output_type": "stream",
     "text": [
      "\u001b[1;33mWARNING: Lyrics not found for 'red dead redemption 2' by geek music using all available providers.\u001b[0m\n"
     ]
    },
    {
     "name": "stdout",
     "output_type": "stream",
     "text": [
      "\u001b[1;32mINFO: Skipping download for red dead redemption 2 - cruel, cruel world - main theme by geek music as it already exists.\u001b[0m\n",
      "\u001b[1;32mINFO: Completed processing for song: red dead redemption 2 - cruel, cruel world - main theme by geek music\u001b[0m\n",
      "\u001b[1;32mINFO: Fetched Spotify audio features for let's roll by yelawolf\u001b[0m\n",
      "\u001b[1;32mINFO: Skipping download for let's roll by yelawolf as it already exists.\u001b[0m\n",
      "\u001b[1;32mINFO: Completed processing for song: let's roll by yelawolf\u001b[0m\n",
      "\u001b[1;32mINFO: Fetched Spotify audio features for stuck by imagine dragons\u001b[0m\n",
      "\u001b[1;32mINFO: Skipping download for stuck by imagine dragons as it already exists.\u001b[0m\n",
      "\u001b[1;32mINFO: Completed processing for song: stuck by imagine dragons\u001b[0m\n",
      "\u001b[1;32mINFO: Fetched Spotify audio features for only by imagine dragons\u001b[0m\n",
      "\u001b[1;32mINFO: Skipping download for only by imagine dragons as it already exists.\u001b[0m\n",
      "\u001b[1;32mINFO: Completed processing for song: only by imagine dragons\u001b[0m\n",
      "\u001b[1;32mINFO: Fetched Spotify audio features for moonlight shadow by mike oldfield\u001b[0m\n",
      "\u001b[1;32mINFO: Skipping download for moonlight shadow by mike oldfield as it already exists.\u001b[0m\n",
      "\u001b[1;32mINFO: Completed processing for song: moonlight shadow by mike oldfield\u001b[0m\n",
      "\u001b[1;32mINFO: Fetched Spotify audio features for demons by jasmine thompson\u001b[0m\n",
      "\u001b[1;32mINFO: Skipping download for demons by jasmine thompson as it already exists.\u001b[0m\n",
      "\u001b[1;32mINFO: Completed processing for song: demons by jasmine thompson\u001b[0m\n",
      "\u001b[1;32mINFO: Fetched Spotify audio features for main theme (from \"jurassic park\") by john williams\u001b[0m\n",
      "\u001b[1;32mINFO: Skipping download for main theme (from \"jurassic park\") by john williams as it already exists.\u001b[0m\n",
      "\u001b[1;32mINFO: Completed processing for song: main theme (from \"jurassic park\") by john williams\u001b[0m\n",
      "\u001b[1;32mINFO: Fetched Spotify audio features for mountain hymn (see the fire in your eyes) [from \"red dead redemption 2\"] by nestalgica\u001b[0m\n"
     ]
    },
    {
     "name": "stderr",
     "output_type": "stream",
     "text": [
      "\u001b[1;33mWARNING: Lyrics not found for 'mountain hymn' by nestalgica using all available providers.\u001b[0m\n"
     ]
    },
    {
     "name": "stdout",
     "output_type": "stream",
     "text": [
      "\u001b[1;32mINFO: Skipping download for mountain hymn (see the fire in your eyes) [from \"red dead redemption 2\"] by nestalgica as it already exists.\u001b[0m\n",
      "\u001b[1;32mINFO: Completed processing for song: mountain hymn (see the fire in your eyes) [from \"red dead redemption 2\"] by nestalgica\u001b[0m\n",
      "\u001b[1;32mINFO: Fetched Spotify audio features for red dead redemption 2 - see the fire in your eyes - main theme by geek music\u001b[0m\n"
     ]
    },
    {
     "name": "stderr",
     "output_type": "stream",
     "text": [
      "\u001b[1;33mWARNING: Lyrics not found for 'red dead redemption 2' by geek music using all available providers.\u001b[0m\n"
     ]
    },
    {
     "name": "stdout",
     "output_type": "stream",
     "text": [
      "\u001b[1;32mINFO: Skipping download for red dead redemption 2 - see the fire in your eyes - main theme by geek music as it already exists.\u001b[0m\n",
      "\u001b[1;32mINFO: Completed processing for song: red dead redemption 2 - see the fire in your eyes - main theme by geek music\u001b[0m\n",
      "\u001b[1;32mINFO: Fetched Spotify audio features for red dead redemption 2 - that's the way it is - main theme by geek music\u001b[0m\n"
     ]
    },
    {
     "name": "stderr",
     "output_type": "stream",
     "text": [
      "\u001b[1;33mWARNING: Lyrics not found for 'red dead redemption 2' by geek music using all available providers.\u001b[0m\n"
     ]
    },
    {
     "name": "stdout",
     "output_type": "stream",
     "text": [
      "\u001b[1;32mINFO: Skipping download for red dead redemption 2 - that's the way it is - main theme by geek music as it already exists.\u001b[0m\n",
      "\u001b[1;32mINFO: Completed processing for song: red dead redemption 2 - that's the way it is - main theme by geek music\u001b[0m\n",
      "\u001b[1;32mINFO: Fetched Spotify audio features for gravity by coldplay\u001b[0m\n",
      "\u001b[1;32mINFO: Skipping download for gravity by coldplay as it already exists.\u001b[0m\n",
      "\u001b[1;32mINFO: Completed processing for song: gravity by coldplay\u001b[0m\n",
      "\u001b[1;32mINFO: Fetched Spotify audio features for proud corazón by anthony gonzalez\u001b[0m\n",
      "\u001b[1;32mINFO: Skipping download for proud corazón by anthony gonzalez as it already exists.\u001b[0m\n",
      "\u001b[1;32mINFO: Completed processing for song: proud corazón by anthony gonzalez\u001b[0m\n",
      "\u001b[1;32mINFO: Fetched Spotify audio features for the best - edit by tina turner\u001b[0m\n",
      "\u001b[1;32mINFO: Skipping download for the best - edit by tina turner as it already exists.\u001b[0m\n",
      "\u001b[1;32mINFO: Completed processing for song: the best - edit by tina turner\u001b[0m\n",
      "\u001b[1;32mINFO: Fetched Spotify audio features for znowu pada deszcz by lady pank\u001b[0m\n",
      "\u001b[1;32mINFO: Skipping download for znowu pada deszcz by lady pank as it already exists.\u001b[0m\n",
      "\u001b[1;32mINFO: Completed processing for song: znowu pada deszcz by lady pank\u001b[0m\n",
      "\u001b[1;32mINFO: Fetched Spotify audio features for keep the faith by bon jovi\u001b[0m\n",
      "\u001b[1;32mINFO: Skipping download for keep the faith by bon jovi as it already exists.\u001b[0m\n",
      "\u001b[1;32mINFO: Completed processing for song: keep the faith by bon jovi\u001b[0m\n",
      "\u001b[1;32mINFO: Fetched Spotify audio features for giant (with rag'n'bone man) by calvin harris\u001b[0m\n",
      "\u001b[1;32mINFO: Skipping download for giant (with rag'n'bone man) by calvin harris as it already exists.\u001b[0m\n",
      "\u001b[1;32mINFO: Completed processing for song: giant (with rag'n'bone man) by calvin harris\u001b[0m\n",
      "\u001b[1;32mINFO: Fetched Spotify audio features for anyone i want to be - junior eurovision 2018 / poland by roxie węgiel\u001b[0m\n",
      "\u001b[1;32mINFO: Downloaded song: anyone i want to be - junior eurovision 2018 / poland\u001b[0m\n",
      "\u001b[1;32mINFO: Completed processing for song: anyone i want to be - junior eurovision 2018 / poland by roxie węgiel\u001b[0m\n",
      "\u001b[1;32mINFO: Fetched Spotify audio features for forgive me friend by smith & thell\u001b[0m\n",
      "\u001b[1;32mINFO: Skipping download for forgive me friend by smith & thell as it already exists.\u001b[0m\n",
      "\u001b[1;32mINFO: Completed processing for song: forgive me friend by smith & thell\u001b[0m\n",
      "\u001b[1;32mINFO: Fetched Spotify audio features for can't feel my face by the weeknd\u001b[0m\n",
      "\u001b[1;32mINFO: Skipping download for can't feel my face by the weeknd as it already exists.\u001b[0m\n",
      "\u001b[1;32mINFO: Completed processing for song: can't feel my face by the weeknd\u001b[0m\n",
      "\u001b[1;32mINFO: Fetched Spotify audio features for i took a pill in ibiza by mike posner\u001b[0m\n",
      "\u001b[1;32mINFO: Skipping download for i took a pill in ibiza by mike posner as it already exists.\u001b[0m\n",
      "\u001b[1;32mINFO: Completed processing for song: i took a pill in ibiza by mike posner\u001b[0m\n",
      "\u001b[1;32mINFO: Fetched Spotify audio features for i took a pill in ibiza - seeb remix by mike posner\u001b[0m\n",
      "\u001b[1;32mINFO: Skipping download for i took a pill in ibiza - seeb remix by mike posner as it already exists.\u001b[0m\n",
      "\u001b[1;32mINFO: Completed processing for song: i took a pill in ibiza - seeb remix by mike posner\u001b[0m\n",
      "\u001b[1;32mINFO: Fetched Spotify audio features for in the shadows by the rasmus\u001b[0m\n",
      "\u001b[1;32mINFO: Skipping download for in the shadows by the rasmus as it already exists.\u001b[0m\n",
      "\u001b[1;32mINFO: Completed processing for song: in the shadows by the rasmus\u001b[0m\n",
      "\u001b[1;32mINFO: Fetched Spotify audio features for i will always love you - film version by whitney houston\u001b[0m\n",
      "\u001b[1;32mINFO: Skipping download for i will always love you - film version by whitney houston as it already exists.\u001b[0m\n",
      "\u001b[1;32mINFO: Completed processing for song: i will always love you - film version by whitney houston\u001b[0m\n",
      "\u001b[1;32mINFO: Fetched Spotify audio features for i got you (i feel good) by james brown & the famous flames\u001b[0m\n",
      "\u001b[1;32mINFO: Skipping download for i got you (i feel good) by james brown & the famous flames as it already exists.\u001b[0m\n",
      "\u001b[1;32mINFO: Completed processing for song: i got you (i feel good) by james brown & the famous flames\u001b[0m\n",
      "\u001b[1;32mINFO: Fetched Spotify audio features for drops of jupiter (tell me) by train\u001b[0m\n",
      "\u001b[1;32mINFO: Skipping download for drops of jupiter (tell me) by train as it already exists.\u001b[0m\n",
      "\u001b[1;32mINFO: Completed processing for song: drops of jupiter (tell me) by train\u001b[0m\n",
      "\u001b[1;32mINFO: Fetched Spotify audio features for aloy's theme (feat. julie elven) - part 1 - motherland by joris de man\u001b[0m\n"
     ]
    },
    {
     "name": "stderr",
     "output_type": "stream",
     "text": [
      "\u001b[1;33mWARNING: Lyrics not found for 'aloy's theme' by joris de man using all available providers.\u001b[0m\n"
     ]
    },
    {
     "name": "stdout",
     "output_type": "stream",
     "text": [
      "\u001b[1;32mINFO: Skipping download for aloy's theme (feat. julie elven) - part 1 - motherland by joris de man as it already exists.\u001b[0m\n",
      "\u001b[1;32mINFO: Completed processing for song: aloy's theme (feat. julie elven) - part 1 - motherland by joris de man\u001b[0m\n",
      "\u001b[1;32mINFO: Fetched Spotify audio features for aloy's theme (from \"horizon: zero dawn\") [orchestral remix] by laura platt\u001b[0m\n"
     ]
    },
    {
     "name": "stderr",
     "output_type": "stream",
     "text": [
      "\u001b[1;33mWARNING: Lyrics not found for 'aloy's theme' by laura platt using all available providers.\u001b[0m\n"
     ]
    },
    {
     "name": "stdout",
     "output_type": "stream",
     "text": [
      "\u001b[1;32mINFO: Skipping download for aloy's theme (from \"horizon: zero dawn\") [orchestral remix] by laura platt as it already exists.\u001b[0m\n",
      "\u001b[1;32mINFO: Completed processing for song: aloy's theme (from \"horizon: zero dawn\") [orchestral remix] by laura platt\u001b[0m\n",
      "\u001b[1;32mINFO: Fetched Spotify audio features for buckskin stallion blues by amy annelle\u001b[0m\n",
      "\u001b[1;32mINFO: Skipping download for buckskin stallion blues by amy annelle as it already exists.\u001b[0m\n",
      "\u001b[1;32mINFO: Completed processing for song: buckskin stallion blues by amy annelle\u001b[0m\n",
      "\u001b[1;32mINFO: Fetched Spotify audio features for we all need saving by jon mclaughlin\u001b[0m\n",
      "\u001b[1;32mINFO: Skipping download for we all need saving by jon mclaughlin as it already exists.\u001b[0m\n",
      "\u001b[1;32mINFO: Completed processing for song: we all need saving by jon mclaughlin\u001b[0m\n",
      "\u001b[1;32mINFO: Fetched Spotify audio features for puerto rico by vaya con dios\u001b[0m\n",
      "\u001b[1;32mINFO: Skipping download for puerto rico by vaya con dios as it already exists.\u001b[0m\n",
      "\u001b[1;32mINFO: Completed processing for song: puerto rico by vaya con dios\u001b[0m\n",
      "\u001b[1;32mINFO: Fetched Spotify audio features for house of the rising sun by the animals\u001b[0m\n",
      "\u001b[1;32mINFO: Skipping download for house of the rising sun by the animals as it already exists.\u001b[0m\n",
      "\u001b[1;32mINFO: Completed processing for song: house of the rising sun by the animals\u001b[0m\n",
      "\u001b[1;32mINFO: Fetched Spotify audio features for sign your name by sananda maitreya\u001b[0m\n"
     ]
    },
    {
     "name": "stderr",
     "output_type": "stream",
     "text": [
      "\u001b[1;33mWARNING: Lyrics not found for 'sign your name' by sananda maitreya using all available providers.\u001b[0m\n"
     ]
    },
    {
     "name": "stdout",
     "output_type": "stream",
     "text": [
      "\u001b[1;32mINFO: Skipping download for sign your name by sananda maitreya as it already exists.\u001b[0m\n",
      "\u001b[1;32mINFO: Completed processing for song: sign your name by sananda maitreya\u001b[0m\n",
      "\u001b[1;32mINFO: Fetched Spotify audio features for leave a light on (7\") by belinda carlisle\u001b[0m\n",
      "\u001b[1;32mINFO: Skipping download for leave a light on (7\") by belinda carlisle as it already exists.\u001b[0m\n",
      "\u001b[1;32mINFO: Completed processing for song: leave a light on (7\") by belinda carlisle\u001b[0m\n",
      "\u001b[1;32mINFO: Fetched Spotify audio features for the riddle by nik kershaw\u001b[0m\n",
      "\u001b[1;32mINFO: Skipping download for the riddle by nik kershaw as it already exists.\u001b[0m\n",
      "\u001b[1;32mINFO: Completed processing for song: the riddle by nik kershaw\u001b[0m\n",
      "\u001b[1;32mINFO: Fetched Spotify audio features for it's my life - 1997 remaster by talk talk\u001b[0m\n",
      "\u001b[1;32mINFO: Skipping download for it's my life - 1997 remaster by talk talk as it already exists.\u001b[0m\n",
      "\u001b[1;32mINFO: Completed processing for song: it's my life - 1997 remaster by talk talk\u001b[0m\n",
      "\u001b[1;32mINFO: Fetched Spotify audio features for the other side by hugh jackman\u001b[0m\n",
      "\u001b[1;32mINFO: Skipping download for the other side by hugh jackman as it already exists.\u001b[0m\n",
      "\u001b[1;32mINFO: Completed processing for song: the other side by hugh jackman\u001b[0m\n",
      "\u001b[1;32mINFO: Fetched Spotify audio features for hope there's someone by antony and the johnsons\u001b[0m\n",
      "\u001b[1;32mINFO: Skipping download for hope there's someone by antony and the johnsons as it already exists.\u001b[0m\n",
      "\u001b[1;32mINFO: Completed processing for song: hope there's someone by antony and the johnsons\u001b[0m\n",
      "\u001b[1;32mINFO: Fetched Spotify audio features for party all the time by sharam\u001b[0m\n",
      "\u001b[1;32mINFO: Skipping download for party all the time by sharam as it already exists.\u001b[0m\n",
      "\u001b[1;32mINFO: Completed processing for song: party all the time by sharam\u001b[0m\n",
      "\u001b[1;32mINFO: Fetched Spotify audio features for feelings by morris albert\u001b[0m\n",
      "\u001b[1;32mINFO: Skipping download for feelings by morris albert as it already exists.\u001b[0m\n",
      "\u001b[1;32mINFO: Completed processing for song: feelings by morris albert\u001b[0m\n",
      "\u001b[1;32mINFO: Fetched Spotify audio features for maybe (theme from grizzly adams live 2010) by thom pace\u001b[0m\n",
      "\u001b[1;32mINFO: Skipping download for maybe (theme from grizzly adams live 2010) by thom pace as it already exists.\u001b[0m\n",
      "\u001b[1;32mINFO: Completed processing for song: maybe (theme from grizzly adams live 2010) by thom pace\u001b[0m\n",
      "\u001b[1;32mINFO: Fetched Spotify audio features for haze by john vella\u001b[0m\n"
     ]
    },
    {
     "name": "stderr",
     "output_type": "stream",
     "text": [
      "\u001b[1;33mWARNING: Lyrics not found for 'haze' by john vella using all available providers.\u001b[0m\n"
     ]
    },
    {
     "name": "stdout",
     "output_type": "stream",
     "text": [
      "\u001b[1;32mINFO: Skipping download for haze by john vella as it already exists.\u001b[0m\n",
      "\u001b[1;32mINFO: Completed processing for song: haze by john vella\u001b[0m\n",
      "\u001b[1;32mINFO: Fetched Spotify audio features for i want to know what love is - 1999 remaster by foreigner\u001b[0m\n",
      "\u001b[1;32mINFO: Skipping download for i want to know what love is - 1999 remaster by foreigner as it already exists.\u001b[0m\n",
      "\u001b[1;32mINFO: Completed processing for song: i want to know what love is - 1999 remaster by foreigner\u001b[0m\n",
      "\u001b[1;32mINFO: Fetched Spotify audio features for burn the house down by ajr\u001b[0m\n",
      "\u001b[1;32mINFO: Skipping download for burn the house down by ajr as it already exists.\u001b[0m\n",
      "\u001b[1;32mINFO: Completed processing for song: burn the house down by ajr\u001b[0m\n",
      "\u001b[1;32mINFO: Fetched Spotify audio features for never go away - radio edit by c-bool\u001b[0m\n",
      "\u001b[1;32mINFO: Skipping download for never go away - radio edit by c-bool as it already exists.\u001b[0m\n",
      "\u001b[1;32mINFO: Completed processing for song: never go away - radio edit by c-bool\u001b[0m\n",
      "\u001b[1;32mINFO: Fetched Spotify audio features for you bring on the sun by londonbeat\u001b[0m\n",
      "\u001b[1;32mINFO: Skipping download for you bring on the sun by londonbeat as it already exists.\u001b[0m\n",
      "\u001b[1;32mINFO: Completed processing for song: you bring on the sun by londonbeat\u001b[0m\n",
      "\u001b[1;32mINFO: Fetched Spotify audio features for hallelujah by leonard cohen\u001b[0m\n",
      "\u001b[1;32mINFO: Skipping download for hallelujah by leonard cohen as it already exists.\u001b[0m\n",
      "\u001b[1;32mINFO: Completed processing for song: hallelujah by leonard cohen\u001b[0m\n",
      "\u001b[1;32mINFO: Fetched Spotify audio features for as you are by rag'n'bone man\u001b[0m\n",
      "\u001b[1;32mINFO: Skipping download for as you are by rag'n'bone man as it already exists.\u001b[0m\n",
      "\u001b[1;32mINFO: Completed processing for song: as you are by rag'n'bone man\u001b[0m\n",
      "\u001b[1;32mINFO: Fetched Spotify audio features for dandelion by sad eye\u001b[0m\n"
     ]
    },
    {
     "name": "stderr",
     "output_type": "stream",
     "text": [
      "\u001b[1;33mWARNING: Lyrics not found for 'dandelion' by sad eye using all available providers.\u001b[0m\n"
     ]
    },
    {
     "name": "stdout",
     "output_type": "stream",
     "text": [
      "\u001b[1;32mINFO: Skipping download for dandelion by sad eye as it already exists.\u001b[0m\n",
      "\u001b[1;32mINFO: Completed processing for song: dandelion by sad eye\u001b[0m\n",
      "\u001b[1;32mINFO: Fetched Spotify audio features for me and my guitar by tep no\u001b[0m\n",
      "\u001b[1;32mINFO: Skipping download for me and my guitar by tep no as it already exists.\u001b[0m\n",
      "\u001b[1;32mINFO: Completed processing for song: me and my guitar by tep no\u001b[0m\n",
      "\u001b[1;32mINFO: Fetched Spotify audio features for chasing pavements by adele\u001b[0m\n",
      "\u001b[1;32mINFO: Skipping download for chasing pavements by adele as it already exists.\u001b[0m\n",
      "\u001b[1;32mINFO: Completed processing for song: chasing pavements by adele\u001b[0m\n",
      "\u001b[1;32mINFO: Fetched Spotify audio features for hallelujah by pentatonix\u001b[0m\n",
      "\u001b[1;32mINFO: Skipping download for hallelujah by pentatonix as it already exists.\u001b[0m\n",
      "\u001b[1;32mINFO: Completed processing for song: hallelujah by pentatonix\u001b[0m\n",
      "\u001b[1;32mINFO: Fetched Spotify audio features for rock with you - single version by michael jackson\u001b[0m\n",
      "\u001b[1;32mINFO: Skipping download for rock with you - single version by michael jackson as it already exists.\u001b[0m\n",
      "\u001b[1;32mINFO: Completed processing for song: rock with you - single version by michael jackson\u001b[0m\n",
      "\u001b[1;32mINFO: Fetched Spotify audio features for hideaway by dan owen\u001b[0m\n"
     ]
    },
    {
     "name": "stderr",
     "output_type": "stream",
     "text": [
      "\u001b[1;33mWARNING: Lyrics not found for 'hideaway' by dan owen using all available providers.\u001b[0m\n"
     ]
    },
    {
     "name": "stdout",
     "output_type": "stream",
     "text": [
      "\u001b[1;32mINFO: Skipping download for hideaway by dan owen as it already exists.\u001b[0m\n",
      "\u001b[1;32mINFO: Completed processing for song: hideaway by dan owen\u001b[0m\n",
      "\u001b[1;32mINFO: Fetched Spotify audio features for bal wszystkich świętych by budka suflera\u001b[0m\n",
      "\u001b[1;32mINFO: Skipping download for bal wszystkich świętych by budka suflera as it already exists.\u001b[0m\n",
      "\u001b[1;32mINFO: Completed processing for song: bal wszystkich świętych by budka suflera\u001b[0m\n",
      "\u001b[1;32mINFO: Fetched Spotify audio features for school day (hail! hail! rock’n’roll) by chuck berry\u001b[0m\n",
      "\u001b[1;32mINFO: Skipping download for school day (hail! hail! rock’n’roll) by chuck berry as it already exists.\u001b[0m\n",
      "\u001b[1;32mINFO: Completed processing for song: school day (hail! hail! rock’n’roll) by chuck berry\u001b[0m\n",
      "\u001b[1;32mINFO: Fetched Spotify audio features for big boys by chuck berry\u001b[0m\n",
      "\u001b[1;32mINFO: Skipping download for big boys by chuck berry as it already exists.\u001b[0m\n",
      "\u001b[1;32mINFO: Completed processing for song: big boys by chuck berry\u001b[0m\n",
      "\u001b[1;32mINFO: Fetched Spotify audio features for brown eyed handsome man by chuck berry\u001b[0m\n",
      "\u001b[1;32mINFO: Skipping download for brown eyed handsome man by chuck berry as it already exists.\u001b[0m\n",
      "\u001b[1;32mINFO: Completed processing for song: brown eyed handsome man by chuck berry\u001b[0m\n",
      "\u001b[1;32mINFO: Fetched Spotify audio features for maybellene - single version by chuck berry\u001b[0m\n",
      "\u001b[1;32mINFO: Skipping download for maybellene - single version by chuck berry as it already exists.\u001b[0m\n",
      "\u001b[1;32mINFO: Completed processing for song: maybellene - single version by chuck berry\u001b[0m\n",
      "\u001b[1;32mINFO: Fetched Spotify audio features for run rudolph run by chuck berry\u001b[0m\n",
      "\u001b[1;32mINFO: Skipping download for run rudolph run by chuck berry as it already exists.\u001b[0m\n",
      "\u001b[1;32mINFO: Completed processing for song: run rudolph run by chuck berry\u001b[0m\n",
      "\u001b[1;32mINFO: Fetched Spotify audio features for jesus he knows me - remastered 2007 by genesis\u001b[0m\n",
      "\u001b[1;32mINFO: Skipping download for jesus he knows me - remastered 2007 by genesis as it already exists.\u001b[0m\n",
      "\u001b[1;32mINFO: Completed processing for song: jesus he knows me - remastered 2007 by genesis\u001b[0m\n",
      "\u001b[1;32mINFO: Fetched Spotify audio features for beggin' by madcon\u001b[0m\n",
      "\u001b[1;32mINFO: Skipping download for beggin' by madcon as it already exists.\u001b[0m\n",
      "\u001b[1;32mINFO: Completed processing for song: beggin' by madcon\u001b[0m\n",
      "\u001b[1;32mINFO: Fetched Spotify audio features for mistake by moby\u001b[0m\n",
      "\u001b[1;32mINFO: Skipping download for mistake by moby as it already exists.\u001b[0m\n",
      "\u001b[1;32mINFO: Completed processing for song: mistake by moby\u001b[0m\n",
      "\u001b[1;32mINFO: Fetched Spotify audio features for levitator - live by lp\u001b[0m\n",
      "\u001b[1;32mINFO: Skipping download for levitator - live by lp as it already exists.\u001b[0m\n",
      "\u001b[1;32mINFO: Completed processing for song: levitator - live by lp\u001b[0m\n",
      "\u001b[1;32mINFO: Fetched Spotify audio features for long way to go to die by lp\u001b[0m\n",
      "\u001b[1;32mINFO: Skipping download for long way to go to die by lp as it already exists.\u001b[0m\n",
      "\u001b[1;32mINFO: Completed processing for song: long way to go to die by lp\u001b[0m\n",
      "\u001b[1;32mINFO: Fetched Spotify audio features for muddy waters by lp\u001b[0m\n",
      "\u001b[1;32mINFO: Skipping download for muddy waters by lp as it already exists.\u001b[0m\n",
      "\u001b[1;32mINFO: Completed processing for song: muddy waters by lp\u001b[0m\n",
      "\u001b[1;32mINFO: Fetched Spotify audio features for girls go wild by lp\u001b[0m\n",
      "\u001b[1;32mINFO: Skipping download for girls go wild by lp as it already exists.\u001b[0m\n",
      "\u001b[1;32mINFO: Completed processing for song: girls go wild by lp\u001b[0m\n",
      "\u001b[1;32mINFO: Fetched Spotify audio features for into the wild by lp\u001b[0m\n",
      "\u001b[1;32mINFO: Skipping download for into the wild by lp as it already exists.\u001b[0m\n",
      "\u001b[1;32mINFO: Completed processing for song: into the wild by lp\u001b[0m\n",
      "\u001b[1;32mINFO: Fetched Spotify audio features for digital by imagine dragons\u001b[0m\n",
      "\u001b[1;32mINFO: Skipping download for digital by imagine dragons as it already exists.\u001b[0m\n",
      "\u001b[1;32mINFO: Completed processing for song: digital by imagine dragons\u001b[0m\n",
      "\u001b[1;32mINFO: Fetched Spotify audio features for szczęśliwego nowego yorku - live by ira\u001b[0m\n"
     ]
    },
    {
     "name": "stderr",
     "output_type": "stream",
     "text": [
      "\u001b[1;33mWARNING: Lyrics not found for 'szczęśliwego nowego yorku' by ira using all available providers.\u001b[0m\n"
     ]
    },
    {
     "name": "stdout",
     "output_type": "stream",
     "text": [
      "\u001b[1;32mINFO: Skipping download for szczęśliwego nowego yorku - live by ira as it already exists.\u001b[0m\n",
      "\u001b[1;32mINFO: Completed processing for song: szczęśliwego nowego yorku - live by ira\u001b[0m\n",
      "\u001b[1;32mINFO: Fetched Spotify audio features for cool out by imagine dragons\u001b[0m\n",
      "\u001b[1;32mINFO: Skipping download for cool out by imagine dragons as it already exists.\u001b[0m\n",
      "\u001b[1;32mINFO: Completed processing for song: cool out by imagine dragons\u001b[0m\n",
      "\u001b[1;32mINFO: Fetched Spotify audio features for machine by imagine dragons\u001b[0m\n",
      "\u001b[1;32mINFO: Skipping download for machine by imagine dragons as it already exists.\u001b[0m\n",
      "\u001b[1;32mINFO: Completed processing for song: machine by imagine dragons\u001b[0m\n",
      "\u001b[1;32mINFO: Fetched Spotify audio features for bullet in a gun by imagine dragons\u001b[0m\n",
      "\u001b[1;32mINFO: Skipping download for bullet in a gun by imagine dragons as it already exists.\u001b[0m\n",
      "\u001b[1;32mINFO: Completed processing for song: bullet in a gun by imagine dragons\u001b[0m\n",
      "\u001b[1;32mINFO: Fetched Spotify audio features for west coast by imagine dragons\u001b[0m\n",
      "\u001b[1;32mINFO: Skipping download for west coast by imagine dragons as it already exists.\u001b[0m\n",
      "\u001b[1;32mINFO: Completed processing for song: west coast by imagine dragons\u001b[0m\n",
      "\u001b[1;32mINFO: Fetched Spotify audio features for ona jest ze snu - live by ira\u001b[0m\n"
     ]
    },
    {
     "name": "stderr",
     "output_type": "stream",
     "text": [
      "\u001b[1;33mWARNING: Lyrics not found for 'ona jest ze snu' by ira using all available providers.\u001b[0m\n"
     ]
    },
    {
     "name": "stdout",
     "output_type": "stream",
     "text": [
      "\u001b[1;32mINFO: Skipping download for ona jest ze snu - live by ira as it already exists.\u001b[0m\n",
      "\u001b[1;32mINFO: Completed processing for song: ona jest ze snu - live by ira\u001b[0m\n",
      "\u001b[1;32mINFO: Fetched Spotify audio features for love by imagine dragons\u001b[0m\n",
      "\u001b[1;32mINFO: Skipping download for love by imagine dragons as it already exists.\u001b[0m\n",
      "\u001b[1;32mINFO: Completed processing for song: love by imagine dragons\u001b[0m\n",
      "\u001b[1;32mINFO: Fetched Spotify audio features for color of your life by michał szpak\u001b[0m\n",
      "\u001b[1;32mINFO: Skipping download for color of your life by michał szpak as it already exists.\u001b[0m\n",
      "\u001b[1;32mINFO: Completed processing for song: color of your life by michał szpak\u001b[0m\n",
      "\u001b[1;32mINFO: Fetched Spotify audio features for i cannot believe it's true - 2016 remaster by phil collins\u001b[0m\n",
      "\u001b[1;32mINFO: Skipping download for i cannot believe it's true - 2016 remaster by phil collins as it already exists.\u001b[0m\n",
      "\u001b[1;32mINFO: Completed processing for song: i cannot believe it's true - 2016 remaster by phil collins\u001b[0m\n",
      "\u001b[1;32mINFO: Fetched Spotify audio features for bad liar by imagine dragons\u001b[0m\n",
      "\u001b[1;32mINFO: Skipping download for bad liar by imagine dragons as it already exists.\u001b[0m\n",
      "\u001b[1;32mINFO: Completed processing for song: bad liar by imagine dragons\u001b[0m\n",
      "\u001b[1;32mINFO: Fetched Spotify audio features for birds by imagine dragons\u001b[0m\n",
      "\u001b[1;32mINFO: Skipping download for birds by imagine dragons as it already exists.\u001b[0m\n",
      "\u001b[1;32mINFO: Completed processing for song: birds by imagine dragons\u001b[0m\n",
      "\u001b[1;32mINFO: Fetched Spotify audio features for rockstar by a great big world\u001b[0m\n",
      "\u001b[1;32mINFO: Skipping download for rockstar by a great big world as it already exists.\u001b[0m\n",
      "\u001b[1;32mINFO: Completed processing for song: rockstar by a great big world\u001b[0m\n",
      "\u001b[1;32mINFO: Fetched Spotify audio features for let me in by andromedik\u001b[0m\n"
     ]
    },
    {
     "name": "stderr",
     "output_type": "stream",
     "text": [
      "\u001b[1;33mWARNING: Lyrics not found for 'let me in' by andromedik using all available providers.\u001b[0m\n"
     ]
    },
    {
     "name": "stdout",
     "output_type": "stream",
     "text": [
      "\u001b[1;32mINFO: Skipping download for let me in by andromedik as it already exists.\u001b[0m\n",
      "\u001b[1;32mINFO: Completed processing for song: let me in by andromedik\u001b[0m\n",
      "\u001b[1;32mINFO: Fetched Spotify audio features for photograph by ed sheeran\u001b[0m\n",
      "\u001b[1;32mINFO: Skipping download for photograph by ed sheeran as it already exists.\u001b[0m\n",
      "\u001b[1;32mINFO: Completed processing for song: photograph by ed sheeran\u001b[0m\n",
      "\u001b[1;32mINFO: Fetched Spotify audio features for kto nie kochał by piotr cugowski\u001b[0m\n"
     ]
    },
    {
     "name": "stderr",
     "output_type": "stream",
     "text": [
      "\u001b[1;33mWARNING: Lyrics not found for 'kto nie kochał' by piotr cugowski using all available providers.\u001b[0m\n"
     ]
    },
    {
     "name": "stdout",
     "output_type": "stream",
     "text": [
      "\u001b[1;32mINFO: Skipping download for kto nie kochał by piotr cugowski as it already exists.\u001b[0m\n",
      "\u001b[1;32mINFO: Completed processing for song: kto nie kochał by piotr cugowski\u001b[0m\n",
      "\u001b[1;32mINFO: Fetched Spotify audio features for waiting on the world to change by john mayer\u001b[0m\n",
      "\u001b[1;32mINFO: Skipping download for waiting on the world to change by john mayer as it already exists.\u001b[0m\n",
      "\u001b[1;32mINFO: Completed processing for song: waiting on the world to change by john mayer\u001b[0m\n",
      "\u001b[1;32mINFO: Fetched Spotify audio features for good people by jack johnson\u001b[0m\n",
      "\u001b[1;32mINFO: Skipping download for good people by jack johnson as it already exists.\u001b[0m\n",
      "\u001b[1;32mINFO: Completed processing for song: good people by jack johnson\u001b[0m\n",
      "\u001b[1;32mINFO: Fetched Spotify audio features for livin' on a prayer by bon jovi\u001b[0m\n",
      "\u001b[1;32mINFO: Skipping download for livin' on a prayer by bon jovi as it already exists.\u001b[0m\n",
      "\u001b[1;32mINFO: Completed processing for song: livin' on a prayer by bon jovi\u001b[0m\n",
      "\u001b[1;32mINFO: Fetched Spotify audio features for you give love a bad name by bon jovi\u001b[0m\n",
      "\u001b[1;32mINFO: Skipping download for you give love a bad name by bon jovi as it already exists.\u001b[0m\n",
      "\u001b[1;32mINFO: Completed processing for song: you give love a bad name by bon jovi\u001b[0m\n",
      "\u001b[1;32mINFO: Fetched Spotify audio features for born in the u.s.a. by bruce springsteen\u001b[0m\n",
      "\u001b[1;32mINFO: Skipping download for born in the u.s.a. by bruce springsteen as it already exists.\u001b[0m\n",
      "\u001b[1;32mINFO: Completed processing for song: born in the u.s.a. by bruce springsteen\u001b[0m\n",
      "\u001b[1;32mINFO: Fetched Spotify audio features for lullaby by nickelback\u001b[0m\n",
      "\u001b[1;32mINFO: Skipping download for lullaby by nickelback as it already exists.\u001b[0m\n",
      "\u001b[1;32mINFO: Completed processing for song: lullaby by nickelback\u001b[0m\n",
      "\u001b[1;32mINFO: Fetched Spotify audio features for the greatest show by hugh jackman\u001b[0m\n",
      "\u001b[1;32mINFO: Skipping download for the greatest show by hugh jackman as it already exists.\u001b[0m\n",
      "\u001b[1;32mINFO: Completed processing for song: the greatest show by hugh jackman\u001b[0m\n",
      "\u001b[1;32mINFO: Fetched Spotify audio features for dlaczego nic by ira\u001b[0m\n",
      "\u001b[1;32mINFO: Skipping download for dlaczego nic by ira as it already exists.\u001b[0m\n",
      "\u001b[1;32mINFO: Completed processing for song: dlaczego nic by ira\u001b[0m\n",
      "\u001b[1;32mINFO: Fetched Spotify audio features for power over me by dermot kennedy\u001b[0m\n",
      "\u001b[1;32mINFO: Skipping download for power over me by dermot kennedy as it already exists.\u001b[0m\n",
      "\u001b[1;32mINFO: Completed processing for song: power over me by dermot kennedy\u001b[0m\n",
      "\u001b[1;32mINFO: Fetched Spotify audio features for set fire to the rain by adele\u001b[0m\n",
      "\u001b[1;32mINFO: Skipping download for set fire to the rain by adele as it already exists.\u001b[0m\n",
      "\u001b[1;32mINFO: Completed processing for song: set fire to the rain by adele\u001b[0m\n",
      "\u001b[1;32mINFO: Fetched Spotify audio features for sniadanie do lozka by andrzej piaseczny\u001b[0m\n",
      "\u001b[1;32mINFO: Skipping download for sniadanie do lozka by andrzej piaseczny as it already exists.\u001b[0m\n",
      "\u001b[1;32mINFO: Completed processing for song: sniadanie do lozka by andrzej piaseczny\u001b[0m\n",
      "\u001b[1;32mINFO: Fetched Spotify audio features for butterflies by michael jackson\u001b[0m\n",
      "\u001b[1;32mINFO: Skipping download for butterflies by michael jackson as it already exists.\u001b[0m\n",
      "\u001b[1;32mINFO: Completed processing for song: butterflies by michael jackson\u001b[0m\n",
      "\u001b[1;32mINFO: Fetched Spotify audio features for stranger in moscow by michael jackson\u001b[0m\n",
      "\u001b[1;32mINFO: Skipping download for stranger in moscow by michael jackson as it already exists.\u001b[0m\n",
      "\u001b[1;32mINFO: Completed processing for song: stranger in moscow by michael jackson\u001b[0m\n",
      "\u001b[1;32mINFO: Fetched Spotify audio features for leave me alone - 2012 remaster by michael jackson\u001b[0m\n",
      "\u001b[1;32mINFO: Skipping download for leave me alone - 2012 remaster by michael jackson as it already exists.\u001b[0m\n",
      "\u001b[1;32mINFO: Completed processing for song: leave me alone - 2012 remaster by michael jackson\u001b[0m\n",
      "\u001b[1;32mINFO: Fetched Spotify audio features for one more chance by michael jackson\u001b[0m\n",
      "\u001b[1;32mINFO: Skipping download for one more chance by michael jackson as it already exists.\u001b[0m\n",
      "\u001b[1;32mINFO: Completed processing for song: one more chance by michael jackson\u001b[0m\n",
      "\u001b[1;32mINFO: Fetched Spotify audio features for this isn’t the end by owl city\u001b[0m\n",
      "\u001b[1;32mINFO: Skipping download for this isn’t the end by owl city as it already exists.\u001b[0m\n",
      "\u001b[1;32mINFO: Completed processing for song: this isn’t the end by owl city\u001b[0m\n",
      "\u001b[1;32mINFO: Fetched Spotify audio features for this is it by michael jackson\u001b[0m\n",
      "\u001b[1;32mINFO: Skipping download for this is it by michael jackson as it already exists.\u001b[0m\n",
      "\u001b[1;32mINFO: Completed processing for song: this is it by michael jackson\u001b[0m\n",
      "\u001b[1;32mINFO: Fetched Spotify audio features for the 5th of july by owl city\u001b[0m\n",
      "\u001b[1;32mINFO: Skipping download for the 5th of july by owl city as it already exists.\u001b[0m\n",
      "\u001b[1;32mINFO: Completed processing for song: the 5th of july by owl city\u001b[0m\n",
      "\u001b[1;32mINFO: Fetched Spotify audio features for montana - alt version by owl city\u001b[0m\n",
      "\u001b[1;32mINFO: Skipping download for montana - alt version by owl city as it already exists.\u001b[0m\n",
      "\u001b[1;32mINFO: Completed processing for song: montana - alt version by owl city\u001b[0m\n",
      "\u001b[1;32mINFO: Fetched Spotify audio features for vanilla twilight by owl city\u001b[0m\n",
      "\u001b[1;32mINFO: Skipping download for vanilla twilight by owl city as it already exists.\u001b[0m\n",
      "\u001b[1;32mINFO: Completed processing for song: vanilla twilight by owl city\u001b[0m\n",
      "\u001b[1;32mINFO: Fetched Spotify audio features for don't stop 'til you get enough by michael jackson\u001b[0m\n",
      "\u001b[1;32mINFO: Skipping download for don't stop 'til you get enough by michael jackson as it already exists.\u001b[0m\n",
      "\u001b[1;32mINFO: Completed processing for song: don't stop 'til you get enough by michael jackson\u001b[0m\n",
      "\u001b[1;32mINFO: Fetched Spotify audio features for i just can't stop loving you (feat. siedah garrett) - 2012 remaster by michael jackson\u001b[0m\n",
      "\u001b[1;32mINFO: Skipping download for i just can't stop loving you (feat. siedah garrett) - 2012 remaster by michael jackson as it already exists.\u001b[0m\n",
      "\u001b[1;32mINFO: Completed processing for song: i just can't stop loving you (feat. siedah garrett) - 2012 remaster by michael jackson\u001b[0m\n",
      "\u001b[1;32mINFO: Fetched Spotify audio features for you are not alone by michael jackson\u001b[0m\n",
      "\u001b[1;32mINFO: Skipping download for you are not alone by michael jackson as it already exists.\u001b[0m\n",
      "\u001b[1;32mINFO: Completed processing for song: you are not alone by michael jackson\u001b[0m\n",
      "\u001b[1;32mINFO: Fetched Spotify audio features for don’t matter to me (with michael jackson) by drake\u001b[0m\n",
      "\u001b[1;32mINFO: Skipping download for don’t matter to me (with michael jackson) by drake as it already exists.\u001b[0m\n",
      "\u001b[1;32mINFO: Completed processing for song: don’t matter to me (with michael jackson) by drake\u001b[0m\n",
      "\u001b[1;32mINFO: Fetched Spotify audio features for where is the love? by black eyed peas\u001b[0m\n",
      "\u001b[1;32mINFO: Skipping download for where is the love? by black eyed peas as it already exists.\u001b[0m\n",
      "\u001b[1;32mINFO: Completed processing for song: where is the love? by black eyed peas\u001b[0m\n",
      "\u001b[1;32mINFO: Fetched Spotify audio features for invincible by michael jackson\u001b[0m\n",
      "\u001b[1;32mINFO: Skipping download for invincible by michael jackson as it already exists.\u001b[0m\n",
      "\u001b[1;32mINFO: Completed processing for song: invincible by michael jackson\u001b[0m\n",
      "\u001b[1;32mINFO: Fetched Spotify audio features for solo noi by toto cutugno\u001b[0m\n",
      "\u001b[1;32mINFO: Skipping download for solo noi by toto cutugno as it already exists.\u001b[0m\n",
      "\u001b[1;32mINFO: Completed processing for song: solo noi by toto cutugno\u001b[0m\n",
      "\u001b[1;32mINFO: Fetched Spotify audio features for human nature by michael jackson\u001b[0m\n",
      "\u001b[1;32mINFO: Skipping download for human nature by michael jackson as it already exists.\u001b[0m\n",
      "\u001b[1;32mINFO: Completed processing for song: human nature by michael jackson\u001b[0m\n",
      "\u001b[1;32mINFO: Fetched Spotify audio features for wooden chair by angus & julia stone\u001b[0m\n",
      "\u001b[1;32mINFO: Skipping download for wooden chair by angus & julia stone as it already exists.\u001b[0m\n",
      "\u001b[1;32mINFO: Completed processing for song: wooden chair by angus & julia stone\u001b[0m\n",
      "\u001b[1;32mINFO: Fetched Spotify audio features for a gdy jest już ciemno by feel\u001b[0m\n"
     ]
    },
    {
     "name": "stderr",
     "output_type": "stream",
     "text": [
      "ERROR: [youtube] 7vKpv-z1ut4: This video is not available\n",
      "Failed to download from YouTube URL 'https://www.youtube.com/watch?v=7vKpv-z1ut4&pp=ygUdZmVlbCAtIGEgZ2R5IGplc3QganXFvCBjaWVtbm8%3D': ERROR: [youtube] 7vKpv-z1ut4: This video is not available\n",
      "\u001b[1;33mWARNING: Failed to download song: a gdy jest już ciemno\u001b[0m\n"
     ]
    },
    {
     "name": "stdout",
     "output_type": "stream",
     "text": [
      "\u001b[1;32mINFO: Completed processing for song: a gdy jest już ciemno by feel\u001b[0m\n",
      "\u001b[1;32mINFO: Fetched Spotify audio features for delicate by damien rice\u001b[0m\n",
      "\u001b[1;32mINFO: Skipping download for delicate by damien rice as it already exists.\u001b[0m\n",
      "\u001b[1;32mINFO: Completed processing for song: delicate by damien rice\u001b[0m\n",
      "\u001b[1;32mINFO: Fetched Spotify audio features for ocean man by ween\u001b[0m\n",
      "\u001b[1;32mINFO: Skipping download for ocean man by ween as it already exists.\u001b[0m\n",
      "\u001b[1;32mINFO: Completed processing for song: ocean man by ween\u001b[0m\n",
      "\u001b[1;32mINFO: Fetched Spotify audio features for rise by league of legends\u001b[0m\n",
      "\u001b[1;32mINFO: Skipping download for rise by league of legends as it already exists.\u001b[0m\n",
      "\u001b[1;32mINFO: Completed processing for song: rise by league of legends\u001b[0m\n",
      "\u001b[1;32mINFO: Fetched Spotify audio features for i will always love you by whitney houston\u001b[0m\n",
      "\u001b[1;32mINFO: Skipping download for i will always love you by whitney houston as it already exists.\u001b[0m\n",
      "\u001b[1;32mINFO: Completed processing for song: i will always love you by whitney houston\u001b[0m\n",
      "\u001b[1;32mINFO: Fetched Spotify audio features for wavin' flag by k'naan\u001b[0m\n",
      "\u001b[1;32mINFO: Skipping download for wavin' flag by k'naan as it already exists.\u001b[0m\n",
      "\u001b[1;32mINFO: Completed processing for song: wavin' flag by k'naan\u001b[0m\n",
      "\u001b[1;32mINFO: Fetched Spotify audio features for my immortal by evanescence\u001b[0m\n",
      "\u001b[1;32mINFO: Skipping download for my immortal by evanescence as it already exists.\u001b[0m\n",
      "\u001b[1;32mINFO: Completed processing for song: my immortal by evanescence\u001b[0m\n",
      "\u001b[1;32mINFO: Fetched Spotify audio features for zero - from the original motion picture \"ralph breaks the internet\" by imagine dragons\u001b[0m\n",
      "\u001b[1;32mINFO: Skipping download for zero - from the original motion picture \"ralph breaks the internet\" by imagine dragons as it already exists.\u001b[0m\n",
      "\u001b[1;32mINFO: Completed processing for song: zero - from the original motion picture \"ralph breaks the internet\" by imagine dragons\u001b[0m\n",
      "\u001b[1;32mINFO: Fetched Spotify audio features for sail by awolnation\u001b[0m\n",
      "\u001b[1;32mINFO: Skipping download for sail by awolnation as it already exists.\u001b[0m\n",
      "\u001b[1;32mINFO: Completed processing for song: sail by awolnation\u001b[0m\n",
      "\u001b[1;32mINFO: Fetched Spotify audio features for think by kaleida\u001b[0m\n",
      "\u001b[1;32mINFO: Skipping download for think by kaleida as it already exists.\u001b[0m\n",
      "\u001b[1;32mINFO: Completed processing for song: think by kaleida\u001b[0m\n",
      "\u001b[1;32mINFO: Fetched Spotify audio features for what about us by p!nk\u001b[0m\n",
      "\u001b[1;32mINFO: Skipping download for what about us by p!nk as it already exists.\u001b[0m\n",
      "\u001b[1;32mINFO: Completed processing for song: what about us by p!nk\u001b[0m\n",
      "\u001b[1;32mINFO: Fetched Spotify audio features for time to say goodbye (con te partiro) by francesco sartori\u001b[0m\n"
     ]
    },
    {
     "name": "stderr",
     "output_type": "stream",
     "text": [
      "\u001b[1;33mWARNING: Lyrics not found for 'time to say goodbye' by francesco sartori using all available providers.\u001b[0m\n"
     ]
    },
    {
     "name": "stdout",
     "output_type": "stream",
     "text": [
      "\u001b[1;32mINFO: Skipping download for time to say goodbye (con te partiro) by francesco sartori as it already exists.\u001b[0m\n",
      "\u001b[1;32mINFO: Completed processing for song: time to say goodbye (con te partiro) by francesco sartori\u001b[0m\n",
      "\u001b[1;32mINFO: Fetched Spotify audio features for con te partirò by andrea bocelli\u001b[0m\n",
      "\u001b[1;32mINFO: Skipping download for con te partirò by andrea bocelli as it already exists.\u001b[0m\n",
      "\u001b[1;32mINFO: Completed processing for song: con te partirò by andrea bocelli\u001b[0m\n",
      "\u001b[1;32mINFO: Fetched Spotify audio features for young, wild & free (feat. bruno mars) by snoop dogg\u001b[0m\n",
      "\u001b[1;32mINFO: Skipping download for young, wild & free (feat. bruno mars) by snoop dogg as it already exists.\u001b[0m\n",
      "\u001b[1;32mINFO: Completed processing for song: young, wild & free (feat. bruno mars) by snoop dogg\u001b[0m\n",
      "\u001b[1;32mINFO: Fetched Spotify audio features for men at war by the u.s. navy seals\u001b[0m\n"
     ]
    },
    {
     "name": "stderr",
     "output_type": "stream",
     "text": [
      "\u001b[1;33mWARNING: Lyrics not found for 'men at war' by the u.s. navy seals using all available providers.\u001b[0m\n"
     ]
    },
    {
     "name": "stdout",
     "output_type": "stream",
     "text": [
      "\u001b[1;32mINFO: Skipping download for men at war by the u.s. navy seals as it already exists.\u001b[0m\n",
      "\u001b[1;32mINFO: Completed processing for song: men at war by the u.s. navy seals\u001b[0m\n",
      "\u001b[1;32mINFO: Fetched Spotify audio features for fired up...feels good by the u.s. marines\u001b[0m\n"
     ]
    },
    {
     "name": "stderr",
     "output_type": "stream",
     "text": [
      "\u001b[1;33mWARNING: Lyrics not found for 'fired up...feels good' by the u.s. marines using all available providers.\u001b[0m\n"
     ]
    },
    {
     "name": "stdout",
     "output_type": "stream",
     "text": [
      "\u001b[1;32mINFO: Skipping download for fired up...feels good by the u.s. marines as it already exists.\u001b[0m\n",
      "\u001b[1;32mINFO: Completed processing for song: fired up...feels good by the u.s. marines\u001b[0m\n",
      "\u001b[1;32mINFO: Fetched Spotify audio features for the funeral by ennio morricone\u001b[0m\n"
     ]
    },
    {
     "name": "stderr",
     "output_type": "stream",
     "text": [
      "\u001b[1;33mWARNING: Lyrics not found for 'the funeral' by ennio morricone using all available providers.\u001b[0m\n"
     ]
    },
    {
     "name": "stdout",
     "output_type": "stream",
     "text": [
      "\u001b[1;32mINFO: Skipping download for the funeral by ennio morricone as it already exists.\u001b[0m\n",
      "\u001b[1;32mINFO: Completed processing for song: the funeral by ennio morricone\u001b[0m\n",
      "\u001b[1;32mINFO: Fetched Spotify audio features for nie płacz ewka by perfect\u001b[0m\n",
      "\u001b[1;32mINFO: Skipping download for nie płacz ewka by perfect as it already exists.\u001b[0m\n",
      "\u001b[1;32mINFO: Completed processing for song: nie płacz ewka by perfect\u001b[0m\n",
      "\u001b[1;32mINFO: Fetched Spotify audio features for autobiografia by perfect\u001b[0m\n",
      "\u001b[1;32mINFO: Skipping download for autobiografia by perfect as it already exists.\u001b[0m\n",
      "\u001b[1;32mINFO: Completed processing for song: autobiografia by perfect\u001b[0m\n",
      "\u001b[1;32mINFO: Fetched Spotify audio features for chcemy być sobą by perfect\u001b[0m\n",
      "\u001b[1;32mINFO: Skipping download for chcemy być sobą by perfect as it already exists.\u001b[0m\n",
      "\u001b[1;32mINFO: Completed processing for song: chcemy być sobą by perfect\u001b[0m\n",
      "\u001b[1;32mINFO: Fetched Spotify audio features for dreams by the cranberries\u001b[0m\n",
      "\u001b[1;32mINFO: Skipping download for dreams by the cranberries as it already exists.\u001b[0m\n",
      "\u001b[1;32mINFO: Completed processing for song: dreams by the cranberries\u001b[0m\n",
      "\u001b[1;32mINFO: Fetched Spotify audio features for darkside by alan walker\u001b[0m\n",
      "\u001b[1;32mINFO: Skipping download for darkside by alan walker as it already exists.\u001b[0m\n",
      "\u001b[1;32mINFO: Completed processing for song: darkside by alan walker\u001b[0m\n",
      "\u001b[1;32mINFO: Fetched Spotify audio features for under by alex hepburn\u001b[0m\n",
      "\u001b[1;32mINFO: Skipping download for under by alex hepburn as it already exists.\u001b[0m\n",
      "\u001b[1;32mINFO: Completed processing for song: under by alex hepburn\u001b[0m\n",
      "\u001b[1;32mINFO: Fetched Spotify audio features for my blood by twenty one pilots\u001b[0m\n",
      "\u001b[1;32mINFO: Skipping download for my blood by twenty one pilots as it already exists.\u001b[0m\n",
      "\u001b[1;32mINFO: Completed processing for song: my blood by twenty one pilots\u001b[0m\n",
      "\u001b[1;32mINFO: Fetched Spotify audio features for i knew i loved you by savage garden\u001b[0m\n",
      "\u001b[1;32mINFO: Skipping download for i knew i loved you by savage garden as it already exists.\u001b[0m\n",
      "\u001b[1;32mINFO: Completed processing for song: i knew i loved you by savage garden\u001b[0m\n",
      "\u001b[1;32mINFO: Fetched Spotify audio features for to już było by maryla rodowicz\u001b[0m\n",
      "\u001b[1;32mINFO: Skipping download for to już było by maryla rodowicz as it already exists.\u001b[0m\n",
      "\u001b[1;32mINFO: Completed processing for song: to już było by maryla rodowicz\u001b[0m\n",
      "\u001b[1;32mINFO: Fetched Spotify audio features for lubie wracac tam, gdzie bylem by zbigniew wodecki\u001b[0m\n",
      "\u001b[1;32mINFO: Skipping download for lubie wracac tam, gdzie bylem by zbigniew wodecki as it already exists.\u001b[0m\n",
      "\u001b[1;32mINFO: Completed processing for song: lubie wracac tam, gdzie bylem by zbigniew wodecki\u001b[0m\n",
      "\u001b[1;32mINFO: Fetched Spotify audio features for ghost town by adam lambert\u001b[0m\n",
      "\u001b[1;32mINFO: Skipping download for ghost town by adam lambert as it already exists.\u001b[0m\n",
      "\u001b[1;32mINFO: Completed processing for song: ghost town by adam lambert\u001b[0m\n",
      "\u001b[1;32mINFO: Fetched Spotify audio features for demons by imagine dragons\u001b[0m\n",
      "\u001b[1;32mINFO: Skipping download for demons by imagine dragons as it already exists.\u001b[0m\n",
      "\u001b[1;32mINFO: Completed processing for song: demons by imagine dragons\u001b[0m\n",
      "\u001b[1;32mINFO: Fetched Spotify audio features for happier by ed sheeran\u001b[0m\n",
      "\u001b[1;32mINFO: Skipping download for happier by ed sheeran as it already exists.\u001b[0m\n",
      "\u001b[1;32mINFO: Completed processing for song: happier by ed sheeran\u001b[0m\n",
      "\u001b[1;32mINFO: Fetched Spotify audio features for i just called to say i love you by brave\u001b[0m\n"
     ]
    },
    {
     "name": "stderr",
     "output_type": "stream",
     "text": [
      "\u001b[1;33mWARNING: Lyrics not found for 'i just called to say i love you' by brave using all available providers.\u001b[0m\n"
     ]
    },
    {
     "name": "stdout",
     "output_type": "stream",
     "text": [
      "\u001b[1;32mINFO: Skipping download for i just called to say i love you by brave as it already exists.\u001b[0m\n",
      "\u001b[1;32mINFO: Completed processing for song: i just called to say i love you by brave\u001b[0m\n",
      "\u001b[1;32mINFO: Fetched Spotify audio features for miracles (someone special) by coldplay\u001b[0m\n",
      "\u001b[1;32mINFO: Skipping download for miracles (someone special) by coldplay as it already exists.\u001b[0m\n",
      "\u001b[1;32mINFO: Completed processing for song: miracles (someone special) by coldplay\u001b[0m\n",
      "\u001b[1;32mINFO: Fetched Spotify audio features for baila morena - new spanish version by zucchero\u001b[0m\n",
      "\u001b[1;32mINFO: Skipping download for baila morena - new spanish version by zucchero as it already exists.\u001b[0m\n",
      "\u001b[1;32mINFO: Completed processing for song: baila morena - new spanish version by zucchero\u001b[0m\n",
      "\u001b[1;32mINFO: Fetched Spotify audio features for nobody to love - radio edit by sigma\u001b[0m\n",
      "\u001b[1;32mINFO: Skipping download for nobody to love - radio edit by sigma as it already exists.\u001b[0m\n",
      "\u001b[1;32mINFO: Completed processing for song: nobody to love - radio edit by sigma\u001b[0m\n",
      "\u001b[1;32mINFO: Fetched Spotify audio features for love on the brain by rihanna\u001b[0m\n",
      "\u001b[1;32mINFO: Skipping download for love on the brain by rihanna as it already exists.\u001b[0m\n",
      "\u001b[1;32mINFO: Completed processing for song: love on the brain by rihanna\u001b[0m\n",
      "\u001b[1;32mINFO: Fetched Spotify audio features for sunshine reggae by laid back\u001b[0m\n",
      "\u001b[1;32mINFO: Skipping download for sunshine reggae by laid back as it already exists.\u001b[0m\n",
      "\u001b[1;32mINFO: Completed processing for song: sunshine reggae by laid back\u001b[0m\n",
      "\u001b[1;32mINFO: Fetched Spotify audio features for tired by alan walker\u001b[0m\n",
      "\u001b[1;32mINFO: Skipping download for tired by alan walker as it already exists.\u001b[0m\n",
      "\u001b[1;32mINFO: Completed processing for song: tired by alan walker\u001b[0m\n",
      "\u001b[1;32mINFO: Fetched Spotify audio features for harder, better, faster, stronger by daft punk\u001b[0m\n",
      "\u001b[1;32mINFO: Skipping download for harder, better, faster, stronger by daft punk as it already exists.\u001b[0m\n",
      "\u001b[1;32mINFO: Completed processing for song: harder, better, faster, stronger by daft punk\u001b[0m\n",
      "\u001b[1;32mINFO: Fetched Spotify audio features for move with me by am.pm.\u001b[0m\n"
     ]
    },
    {
     "name": "stderr",
     "output_type": "stream",
     "text": [
      "\u001b[1;33mWARNING: Lyrics not found for 'move with me' by am.pm. using all available providers.\u001b[0m\n"
     ]
    },
    {
     "name": "stdout",
     "output_type": "stream",
     "text": [
      "\u001b[1;32mINFO: Skipping download for move with me by am.pm. as it already exists.\u001b[0m\n",
      "\u001b[1;32mINFO: Completed processing for song: move with me by am.pm.\u001b[0m\n",
      "\u001b[1;32mINFO: Fetched Spotify audio features for where were you (when the world stopped turning) by alan jackson\u001b[0m\n",
      "\u001b[1;32mINFO: Skipping download for where were you (when the world stopped turning) by alan jackson as it already exists.\u001b[0m\n",
      "\u001b[1;32mINFO: Completed processing for song: where were you (when the world stopped turning) by alan jackson\u001b[0m\n",
      "\u001b[1;32mINFO: Fetched Spotify audio features for forever and ever, amen by randy travis\u001b[0m\n",
      "\u001b[1;32mINFO: Skipping download for forever and ever, amen by randy travis as it already exists.\u001b[0m\n",
      "\u001b[1;32mINFO: Completed processing for song: forever and ever, amen by randy travis\u001b[0m\n",
      "\u001b[1;32mINFO: Fetched Spotify audio features for mr. tambourine man by bob dylan\u001b[0m\n",
      "\u001b[1;32mINFO: Skipping download for mr. tambourine man by bob dylan as it already exists.\u001b[0m\n",
      "\u001b[1;32mINFO: Completed processing for song: mr. tambourine man by bob dylan\u001b[0m\n",
      "\u001b[1;32mINFO: Fetched Spotify audio features for song of the south by alabama\u001b[0m\n",
      "\u001b[1;32mINFO: Skipping download for song of the south by alabama as it already exists.\u001b[0m\n",
      "\u001b[1;32mINFO: Completed processing for song: song of the south by alabama\u001b[0m\n",
      "\u001b[1;32mINFO: Fetched Spotify audio features for remember when by alan jackson\u001b[0m\n",
      "\u001b[1;32mINFO: Skipping download for remember when by alan jackson as it already exists.\u001b[0m\n",
      "\u001b[1;32mINFO: Completed processing for song: remember when by alan jackson\u001b[0m\n",
      "\u001b[1;32mINFO: Fetched Spotify audio features for the spectre by alan walker\u001b[0m\n",
      "\u001b[1;32mINFO: Skipping download for the spectre by alan walker as it already exists.\u001b[0m\n",
      "\u001b[1;32mINFO: Completed processing for song: the spectre by alan walker\u001b[0m\n",
      "\u001b[1;32mINFO: Fetched Spotify audio features for wherever you will go by the calling\u001b[0m\n",
      "\u001b[1;32mINFO: Skipping download for wherever you will go by the calling as it already exists.\u001b[0m\n",
      "\u001b[1;32mINFO: Completed processing for song: wherever you will go by the calling\u001b[0m\n",
      "\u001b[1;32mINFO: Fetched Spotify audio features for healed by rag'n'bone man\u001b[0m\n"
     ]
    },
    {
     "name": "stderr",
     "output_type": "stream",
     "text": [
      "\u001b[1;33mWARNING: Lyrics not found for 'healed' by rag'n'bone man using all available providers.\u001b[0m\n"
     ]
    },
    {
     "name": "stdout",
     "output_type": "stream",
     "text": [
      "\u001b[1;32mINFO: Skipping download for healed by rag'n'bone man as it already exists.\u001b[0m\n",
      "\u001b[1;32mINFO: Completed processing for song: healed by rag'n'bone man\u001b[0m\n",
      "\u001b[1;32mINFO: Fetched Spotify audio features for your way or the rope by rag'n'bone man\u001b[0m\n"
     ]
    },
    {
     "name": "stderr",
     "output_type": "stream",
     "text": [
      "\u001b[1;33mWARNING: Lyrics not found for 'your way or the rope' by rag'n'bone man using all available providers.\u001b[0m\n"
     ]
    },
    {
     "name": "stdout",
     "output_type": "stream",
     "text": [
      "\u001b[1;32mINFO: Skipping download for your way or the rope by rag'n'bone man as it already exists.\u001b[0m\n",
      "\u001b[1;32mINFO: Completed processing for song: your way or the rope by rag'n'bone man\u001b[0m\n",
      "\u001b[1;32mINFO: Fetched Spotify audio features for life in her yet by rag'n'bone man\u001b[0m\n"
     ]
    },
    {
     "name": "stderr",
     "output_type": "stream",
     "text": [
      "\u001b[1;33mWARNING: Lyrics not found for 'life in her yet' by rag'n'bone man using all available providers.\u001b[0m\n"
     ]
    },
    {
     "name": "stdout",
     "output_type": "stream",
     "text": [
      "\u001b[1;32mINFO: Skipping download for life in her yet by rag'n'bone man as it already exists.\u001b[0m\n",
      "\u001b[1;32mINFO: Completed processing for song: life in her yet by rag'n'bone man\u001b[0m\n",
      "\u001b[1;32mINFO: Fetched Spotify audio features for the fire by rag'n'bone man\u001b[0m\n"
     ]
    },
    {
     "name": "stderr",
     "output_type": "stream",
     "text": [
      "\u001b[1;33mWARNING: Lyrics not found for 'the fire' by rag'n'bone man using all available providers.\u001b[0m\n"
     ]
    },
    {
     "name": "stdout",
     "output_type": "stream",
     "text": [
      "\u001b[1;32mINFO: Skipping download for the fire by rag'n'bone man as it already exists.\u001b[0m\n",
      "\u001b[1;32mINFO: Completed processing for song: the fire by rag'n'bone man\u001b[0m\n",
      "\u001b[1;32mINFO: Fetched Spotify audio features for arrow by rag'n'bone man\u001b[0m\n",
      "\u001b[1;32mINFO: Skipping download for arrow by rag'n'bone man as it already exists.\u001b[0m\n",
      "\u001b[1;32mINFO: Completed processing for song: arrow by rag'n'bone man\u001b[0m\n",
      "\u001b[1;32mINFO: Fetched Spotify audio features for ego by rag'n'bone man\u001b[0m\n",
      "\u001b[1;32mINFO: Skipping download for ego by rag'n'bone man as it already exists.\u001b[0m\n",
      "\u001b[1;32mINFO: Completed processing for song: ego by rag'n'bone man\u001b[0m\n",
      "\u001b[1;32mINFO: Fetched Spotify audio features for odetta by rag'n'bone man\u001b[0m\n",
      "\u001b[1;32mINFO: Skipping download for odetta by rag'n'bone man as it already exists.\u001b[0m\n",
      "\u001b[1;32mINFO: Completed processing for song: odetta by rag'n'bone man\u001b[0m\n",
      "\u001b[1;32mINFO: Fetched Spotify audio features for love you any less by rag'n'bone man\u001b[0m\n",
      "\u001b[1;32mINFO: Skipping download for love you any less by rag'n'bone man as it already exists.\u001b[0m\n",
      "\u001b[1;32mINFO: Completed processing for song: love you any less by rag'n'bone man\u001b[0m\n",
      "\u001b[1;32mINFO: Fetched Spotify audio features for bitter end by rag'n'bone man\u001b[0m\n",
      "\u001b[1;32mINFO: Skipping download for bitter end by rag'n'bone man as it already exists.\u001b[0m\n",
      "\u001b[1;32mINFO: Completed processing for song: bitter end by rag'n'bone man\u001b[0m\n",
      "\u001b[1;32mINFO: Fetched Spotify audio features for innocent man by rag'n'bone man\u001b[0m\n",
      "\u001b[1;32mINFO: Skipping download for innocent man by rag'n'bone man as it already exists.\u001b[0m\n",
      "\u001b[1;32mINFO: Completed processing for song: innocent man by rag'n'bone man\u001b[0m\n",
      "\u001b[1;32mINFO: Fetched Spotify audio features for be the man by rag'n'bone man\u001b[0m\n",
      "\u001b[1;32mINFO: Skipping download for be the man by rag'n'bone man as it already exists.\u001b[0m\n",
      "\u001b[1;32mINFO: Completed processing for song: be the man by rag'n'bone man\u001b[0m\n",
      "\u001b[1;32mINFO: Fetched Spotify audio features for shotgun by george ezra\u001b[0m\n",
      "\u001b[1;32mINFO: Skipping download for shotgun by george ezra as it already exists.\u001b[0m\n",
      "\u001b[1;32mINFO: Completed processing for song: shotgun by george ezra\u001b[0m\n",
      "\u001b[1;32mINFO: Fetched Spotify audio features for natural by imagine dragons\u001b[0m\n",
      "\u001b[1;32mINFO: Skipping download for natural by imagine dragons as it already exists.\u001b[0m\n",
      "\u001b[1;32mINFO: Completed processing for song: natural by imagine dragons\u001b[0m\n",
      "\u001b[1;32mINFO: Fetched Spotify audio features for slow it down by amy macdonald\u001b[0m\n",
      "\u001b[1;32mINFO: Skipping download for slow it down by amy macdonald as it already exists.\u001b[0m\n",
      "\u001b[1;32mINFO: Completed processing for song: slow it down by amy macdonald\u001b[0m\n",
      "\u001b[1;32mINFO: Fetched Spotify audio features for sky is the limit by lost frequencies\u001b[0m\n",
      "\u001b[1;32mINFO: Skipping download for sky is the limit by lost frequencies as it already exists.\u001b[0m\n",
      "\u001b[1;32mINFO: Completed processing for song: sky is the limit by lost frequencies\u001b[0m\n",
      "\u001b[1;32mINFO: Fetched Spotify audio features for i've been tested (original song from 6 below) by beth waugh\u001b[0m\n"
     ]
    },
    {
     "name": "stderr",
     "output_type": "stream",
     "text": [
      "\u001b[1;33mWARNING: Lyrics not found for 'i've been tested' by beth waugh using all available providers.\u001b[0m\n"
     ]
    },
    {
     "name": "stdout",
     "output_type": "stream",
     "text": [
      "\u001b[1;32mINFO: Skipping download for i've been tested (original song from 6 below) by beth waugh as it already exists.\u001b[0m\n",
      "\u001b[1;32mINFO: Completed processing for song: i've been tested (original song from 6 below) by beth waugh\u001b[0m\n",
      "\u001b[1;32mINFO: Fetched Spotify audio features for reality by lost frequencies\u001b[0m\n",
      "\u001b[1;32mINFO: Skipping download for reality by lost frequencies as it already exists.\u001b[0m\n",
      "\u001b[1;32mINFO: Completed processing for song: reality by lost frequencies\u001b[0m\n",
      "\u001b[1;32mINFO: Fetched Spotify audio features for safe by nico santos\u001b[0m\n",
      "\u001b[1;32mINFO: Skipping download for safe by nico santos as it already exists.\u001b[0m\n",
      "\u001b[1;32mINFO: Completed processing for song: safe by nico santos\u001b[0m\n",
      "\u001b[1;32mINFO: Fetched Spotify audio features for safe and sound by capital cities\u001b[0m\n",
      "\u001b[1;32mINFO: Skipping download for safe and sound by capital cities as it already exists.\u001b[0m\n",
      "\u001b[1;32mINFO: Completed processing for song: safe and sound by capital cities\u001b[0m\n",
      "\u001b[1;32mINFO: Fetched Spotify audio features for lemon tree by fools garden\u001b[0m\n",
      "\u001b[1;32mINFO: Skipping download for lemon tree by fools garden as it already exists.\u001b[0m\n",
      "\u001b[1;32mINFO: Completed processing for song: lemon tree by fools garden\u001b[0m\n",
      "\u001b[1;32mINFO: Fetched Spotify audio features for 3 foot tall by classified\u001b[0m\n",
      "\u001b[1;32mINFO: Skipping download for 3 foot tall by classified as it already exists.\u001b[0m\n",
      "\u001b[1;32mINFO: Completed processing for song: 3 foot tall by classified\u001b[0m\n",
      "\u001b[1;32mINFO: Fetched Spotify audio features for meet me halfway by black eyed peas\u001b[0m\n",
      "\u001b[1;32mINFO: Skipping download for meet me halfway by black eyed peas as it already exists.\u001b[0m\n",
      "\u001b[1;32mINFO: Completed processing for song: meet me halfway by black eyed peas\u001b[0m\n",
      "\u001b[1;32mINFO: Fetched Spotify audio features for a sky full of stars by coldplay\u001b[0m\n",
      "\u001b[1;32mINFO: Skipping download for a sky full of stars by coldplay as it already exists.\u001b[0m\n",
      "\u001b[1;32mINFO: Completed processing for song: a sky full of stars by coldplay\u001b[0m\n",
      "\u001b[1;32mINFO: Fetched Spotify audio features for lovers on the sun (feat. sam martin) by david guetta\u001b[0m\n",
      "\u001b[1;32mINFO: Skipping download for lovers on the sun (feat. sam martin) by david guetta as it already exists.\u001b[0m\n",
      "\u001b[1;32mINFO: Completed processing for song: lovers on the sun (feat. sam martin) by david guetta\u001b[0m\n",
      "\u001b[1;32mINFO: Fetched Spotify audio features for jackie chan by tiësto\u001b[0m\n",
      "\u001b[1;32mINFO: Skipping download for jackie chan by tiësto as it already exists.\u001b[0m\n",
      "\u001b[1;32mINFO: Completed processing for song: jackie chan by tiësto\u001b[0m\n",
      "\u001b[1;32mINFO: Fetched Spotify audio features for oh, lonesome me (2017 remaster) by johnny cash\u001b[0m\n",
      "\u001b[1;32mINFO: Skipping download for oh, lonesome me (2017 remaster) by johnny cash as it already exists.\u001b[0m\n",
      "\u001b[1;32mINFO: Completed processing for song: oh, lonesome me (2017 remaster) by johnny cash\u001b[0m\n",
      "\u001b[1;32mINFO: Fetched Spotify audio features for i walk the line by johnny cash\u001b[0m\n",
      "\u001b[1;32mINFO: Skipping download for i walk the line by johnny cash as it already exists.\u001b[0m\n",
      "\u001b[1;32mINFO: Completed processing for song: i walk the line by johnny cash\u001b[0m\n",
      "\u001b[1;32mINFO: Fetched Spotify audio features for ring of fire by johnny cash\u001b[0m\n",
      "\u001b[1;32mINFO: Skipping download for ring of fire by johnny cash as it already exists.\u001b[0m\n",
      "\u001b[1;32mINFO: Completed processing for song: ring of fire by johnny cash\u001b[0m\n",
      "\u001b[1;32mINFO: Fetched Spotify audio features for ostatnia nocka - 2014 remastered by yugopolis\u001b[0m\n",
      "\u001b[1;32mINFO: Skipping download for ostatnia nocka - 2014 remastered by yugopolis as it already exists.\u001b[0m\n",
      "\u001b[1;32mINFO: Completed processing for song: ostatnia nocka - 2014 remastered by yugopolis\u001b[0m\n",
      "\u001b[1;32mINFO: Fetched Spotify audio features for blank space/stand by me - live from spotify london by imagine dragons\u001b[0m\n",
      "\u001b[1;32mINFO: Downloaded song: blank space/stand by me - live from spotify london\u001b[0m\n",
      "\u001b[1;32mINFO: Completed processing for song: blank space/stand by me - live from spotify london by imagine dragons\u001b[0m\n",
      "\u001b[1;32mINFO: Fetched Spotify audio features for i'd do anything for love (but i won't do that) - live from the beacon theatre, new york, u.s.a./1995 by meat loaf\u001b[0m\n",
      "\u001b[1;32mINFO: Downloaded song: i'd do anything for love (but i won't do that) - live from the beacon theatre, new york, u.s.a./1995\u001b[0m\n",
      "\u001b[1;32mINFO: Completed processing for song: i'd do anything for love (but i won't do that) - live from the beacon theatre, new york, u.s.a./1995 by meat loaf\u001b[0m\n",
      "\u001b[1;32mINFO: Fetched Spotify audio features for (everything i do) i do it for you by bryan adams\u001b[0m\n",
      "\u001b[1;32mINFO: Skipping download for (everything i do) i do it for you by bryan adams as it already exists.\u001b[0m\n",
      "\u001b[1;32mINFO: Completed processing for song: (everything i do) i do it for you by bryan adams\u001b[0m\n",
      "\u001b[1;32mINFO: Fetched Spotify audio features for blaze of glory - from \"young guns ii\" soundtrack by jon bon jovi\u001b[0m\n",
      "\u001b[1;32mINFO: Skipping download for blaze of glory - from \"young guns ii\" soundtrack by jon bon jovi as it already exists.\u001b[0m\n",
      "\u001b[1;32mINFO: Completed processing for song: blaze of glory - from \"young guns ii\" soundtrack by jon bon jovi\u001b[0m\n",
      "\u001b[1;32mINFO: Fetched Spotify audio features for shake the disease by depeche mode\u001b[0m\n",
      "\u001b[1;32mINFO: Skipping download for shake the disease by depeche mode as it already exists.\u001b[0m\n",
      "\u001b[1;32mINFO: Completed processing for song: shake the disease by depeche mode\u001b[0m\n",
      "\u001b[1;32mINFO: Fetched Spotify audio features for are you with me by lost frequencies\u001b[0m\n",
      "\u001b[1;32mINFO: Skipping download for are you with me by lost frequencies as it already exists.\u001b[0m\n",
      "\u001b[1;32mINFO: Completed processing for song: are you with me by lost frequencies\u001b[0m\n",
      "\u001b[1;32mINFO: Fetched Spotify audio features for holding on and letting go by ross copperman\u001b[0m\n",
      "\u001b[1;32mINFO: Skipping download for holding on and letting go by ross copperman as it already exists.\u001b[0m\n",
      "\u001b[1;32mINFO: Completed processing for song: holding on and letting go by ross copperman\u001b[0m\n",
      "\u001b[1;32mINFO: Fetched Spotify audio features for adore by dean lewis\u001b[0m\n",
      "\u001b[1;32mINFO: Skipping download for adore by dean lewis as it already exists.\u001b[0m\n",
      "\u001b[1;32mINFO: Completed processing for song: adore by dean lewis\u001b[0m\n",
      "\u001b[1;32mINFO: Fetched Spotify audio features for wings by birdy\u001b[0m\n",
      "\u001b[1;32mINFO: Skipping download for wings by birdy as it already exists.\u001b[0m\n",
      "\u001b[1;32mINFO: Completed processing for song: wings by birdy\u001b[0m\n",
      "\u001b[1;32mINFO: Fetched Spotify audio features for forget not yet by american gospel\u001b[0m\n",
      "\u001b[1;32mINFO: Skipping download for forget not yet by american gospel as it already exists.\u001b[0m\n",
      "\u001b[1;32mINFO: Completed processing for song: forget not yet by american gospel\u001b[0m\n",
      "\u001b[1;32mINFO: Fetched Spotify audio features for born to be yours by kygo\u001b[0m\n",
      "\u001b[1;32mINFO: Skipping download for born to be yours by kygo as it already exists.\u001b[0m\n",
      "\u001b[1;32mINFO: Completed processing for song: born to be yours by kygo\u001b[0m\n",
      "\u001b[1;32mINFO: Fetched Spotify audio features for mama, i'm coming home by ozzy osbourne\u001b[0m\n",
      "\u001b[1;32mINFO: Skipping download for mama, i'm coming home by ozzy osbourne as it already exists.\u001b[0m\n",
      "\u001b[1;32mINFO: Completed processing for song: mama, i'm coming home by ozzy osbourne\u001b[0m\n",
      "\u001b[1;32mINFO: Fetched Spotify audio features for electric avennue by the harmony group\u001b[0m\n"
     ]
    },
    {
     "name": "stderr",
     "output_type": "stream",
     "text": [
      "\u001b[1;33mWARNING: Lyrics not found for 'electric avennue' by the harmony group using all available providers.\u001b[0m\n"
     ]
    },
    {
     "name": "stdout",
     "output_type": "stream",
     "text": [
      "\u001b[1;32mINFO: Skipping download for electric avennue by the harmony group as it already exists.\u001b[0m\n",
      "\u001b[1;32mINFO: Completed processing for song: electric avennue by the harmony group\u001b[0m\n",
      "\u001b[1;32mINFO: Fetched Spotify audio features for thnks fr th mmrs by fall out boy\u001b[0m\n",
      "\u001b[1;32mINFO: Skipping download for thnks fr th mmrs by fall out boy as it already exists.\u001b[0m\n",
      "\u001b[1;32mINFO: Completed processing for song: thnks fr th mmrs by fall out boy\u001b[0m\n",
      "\u001b[1;32mINFO: Fetched Spotify audio features for sunshine riptide by fall out boy\u001b[0m\n",
      "\u001b[1;32mINFO: Skipping download for sunshine riptide by fall out boy as it already exists.\u001b[0m\n",
      "\u001b[1;32mINFO: Completed processing for song: sunshine riptide by fall out boy\u001b[0m\n",
      "\u001b[1;32mINFO: Fetched Spotify audio features for young and menace by fall out boy\u001b[0m\n",
      "\u001b[1;32mINFO: Skipping download for young and menace by fall out boy as it already exists.\u001b[0m\n",
      "\u001b[1;32mINFO: Completed processing for song: young and menace by fall out boy\u001b[0m\n",
      "\u001b[1;32mINFO: Fetched Spotify audio features for stay frosty royal milk tea by fall out boy\u001b[0m\n",
      "\u001b[1;32mINFO: Skipping download for stay frosty royal milk tea by fall out boy as it already exists.\u001b[0m\n",
      "\u001b[1;32mINFO: Completed processing for song: stay frosty royal milk tea by fall out boy\u001b[0m\n",
      "\u001b[1;32mINFO: Fetched Spotify audio features for all i want by kodaline\u001b[0m\n",
      "\u001b[1;32mINFO: Skipping download for all i want by kodaline as it already exists.\u001b[0m\n",
      "\u001b[1;32mINFO: Completed processing for song: all i want by kodaline\u001b[0m\n",
      "\u001b[1;32mINFO: Fetched Spotify audio features for a thousand years by christina perri\u001b[0m\n",
      "\u001b[1;32mINFO: Skipping download for a thousand years by christina perri as it already exists.\u001b[0m\n",
      "\u001b[1;32mINFO: Completed processing for song: a thousand years by christina perri\u001b[0m\n",
      "\u001b[1;32mINFO: Fetched Spotify audio features for jar of hearts by christina perri\u001b[0m\n",
      "\u001b[1;32mINFO: Skipping download for jar of hearts by christina perri as it already exists.\u001b[0m\n",
      "\u001b[1;32mINFO: Completed processing for song: jar of hearts by christina perri\u001b[0m\n",
      "\u001b[1;32mINFO: Fetched Spotify audio features for fix you by coldplay\u001b[0m\n",
      "\u001b[1;32mINFO: Skipping download for fix you by coldplay as it already exists.\u001b[0m\n",
      "\u001b[1;32mINFO: Completed processing for song: fix you by coldplay\u001b[0m\n",
      "\u001b[1;32mINFO: Fetched Spotify audio features for the scientist by coldplay\u001b[0m\n",
      "\u001b[1;32mINFO: Skipping download for the scientist by coldplay as it already exists.\u001b[0m\n",
      "\u001b[1;32mINFO: Completed processing for song: the scientist by coldplay\u001b[0m\n",
      "\u001b[1;32mINFO: Fetched Spotify audio features for dark necessities by red hot chili peppers\u001b[0m\n",
      "\u001b[1;32mINFO: Skipping download for dark necessities by red hot chili peppers as it already exists.\u001b[0m\n",
      "\u001b[1;32mINFO: Completed processing for song: dark necessities by red hot chili peppers\u001b[0m\n",
      "\u001b[1;32mINFO: Fetched Spotify audio features for ratujmy co się da by budka suflera\u001b[0m\n",
      "\u001b[1;32mINFO: Skipping download for ratujmy co się da by budka suflera as it already exists.\u001b[0m\n",
      "\u001b[1;32mINFO: Completed processing for song: ratujmy co się da by budka suflera\u001b[0m\n",
      "\u001b[1;32mINFO: Fetched Spotify audio features for what do you love by seeb\u001b[0m\n",
      "\u001b[1;32mINFO: Skipping download for what do you love by seeb as it already exists.\u001b[0m\n",
      "\u001b[1;32mINFO: Completed processing for song: what do you love by seeb\u001b[0m\n",
      "\u001b[1;32mINFO: Fetched Spotify audio features for ready yet by sasha alex sloan\u001b[0m\n",
      "\u001b[1;32mINFO: Skipping download for ready yet by sasha alex sloan as it already exists.\u001b[0m\n",
      "\u001b[1;32mINFO: Completed processing for song: ready yet by sasha alex sloan\u001b[0m\n",
      "\u001b[1;32mINFO: Fetched Spotify audio features for human by christina perri\u001b[0m\n",
      "\u001b[1;32mINFO: Skipping download for human by christina perri as it already exists.\u001b[0m\n",
      "\u001b[1;32mINFO: Completed processing for song: human by christina perri\u001b[0m\n",
      "\u001b[1;32mINFO: Fetched Spotify audio features for everybody hates me by the chainsmokers\u001b[0m\n",
      "\u001b[1;32mINFO: Skipping download for everybody hates me by the chainsmokers as it already exists.\u001b[0m\n",
      "\u001b[1;32mINFO: Completed processing for song: everybody hates me by the chainsmokers\u001b[0m\n",
      "\u001b[1;32mINFO: Fetched Spotify audio features for everybody hurts by r.e.m.\u001b[0m\n",
      "\u001b[1;32mINFO: Skipping download for everybody hurts by r.e.m. as it already exists.\u001b[0m\n",
      "\u001b[1;32mINFO: Completed processing for song: everybody hurts by r.e.m.\u001b[0m\n",
      "\u001b[1;32mINFO: Fetched Spotify audio features for heaven’s gate by fall out boy\u001b[0m\n",
      "\u001b[1;32mINFO: Skipping download for heaven’s gate by fall out boy as it already exists.\u001b[0m\n",
      "\u001b[1;32mINFO: Completed processing for song: heaven’s gate by fall out boy\u001b[0m\n",
      "\u001b[1;32mINFO: Fetched Spotify audio features for wilson (expensive mistakes) by fall out boy\u001b[0m\n"
     ]
    },
    {
     "name": "stderr",
     "output_type": "stream",
     "text": [
      "\u001b[1;33mWARNING: Lyrics not found for 'wilson' by fall out boy using all available providers.\u001b[0m\n"
     ]
    },
    {
     "name": "stdout",
     "output_type": "stream",
     "text": [
      "\u001b[1;32mINFO: Skipping download for wilson (expensive mistakes) by fall out boy as it already exists.\u001b[0m\n",
      "\u001b[1;32mINFO: Completed processing for song: wilson (expensive mistakes) by fall out boy\u001b[0m\n",
      "\u001b[1;32mINFO: Fetched Spotify audio features for the last of the real ones by fall out boy\u001b[0m\n",
      "\u001b[1;32mINFO: Skipping download for the last of the real ones by fall out boy as it already exists.\u001b[0m\n",
      "\u001b[1;32mINFO: Completed processing for song: the last of the real ones by fall out boy\u001b[0m\n",
      "\u001b[1;32mINFO: Fetched Spotify audio features for bishops knife trick by fall out boy\u001b[0m\n",
      "\u001b[1;32mINFO: Skipping download for bishops knife trick by fall out boy as it already exists.\u001b[0m\n",
      "\u001b[1;32mINFO: Completed processing for song: bishops knife trick by fall out boy\u001b[0m\n",
      "\u001b[1;32mINFO: Fetched Spotify audio features for church by fall out boy\u001b[0m\n",
      "\u001b[1;32mINFO: Skipping download for church by fall out boy as it already exists.\u001b[0m\n",
      "\u001b[1;32mINFO: Completed processing for song: church by fall out boy\u001b[0m\n",
      "\u001b[1;32mINFO: Fetched Spotify audio features for sugar, we're goin down by fall out boy\u001b[0m\n",
      "\u001b[1;32mINFO: Skipping download for sugar, we're goin down by fall out boy as it already exists.\u001b[0m\n",
      "\u001b[1;32mINFO: Completed processing for song: sugar, we're goin down by fall out boy\u001b[0m\n",
      "\u001b[1;32mINFO: Fetched Spotify audio features for where did it go? by asking alexandria\u001b[0m\n",
      "\u001b[1;32mINFO: Skipping download for where did it go? by asking alexandria as it already exists.\u001b[0m\n",
      "\u001b[1;32mINFO: Completed processing for song: where did it go? by asking alexandria\u001b[0m\n",
      "\u001b[1;32mINFO: Fetched Spotify audio features for impossible by james arthur\u001b[0m\n",
      "\u001b[1;32mINFO: Skipping download for impossible by james arthur as it already exists.\u001b[0m\n",
      "\u001b[1;32mINFO: Completed processing for song: impossible by james arthur\u001b[0m\n",
      "\u001b[1;32mINFO: Fetched Spotify audio features for god's gonna cut you down by johnny cash\u001b[0m\n",
      "\u001b[1;32mINFO: Skipping download for god's gonna cut you down by johnny cash as it already exists.\u001b[0m\n",
      "\u001b[1;32mINFO: Completed processing for song: god's gonna cut you down by johnny cash\u001b[0m\n",
      "\u001b[1;32mINFO: Fetched Spotify audio features for hurt by johnny cash\u001b[0m\n",
      "\u001b[1;32mINFO: Skipping download for hurt by johnny cash as it already exists.\u001b[0m\n",
      "\u001b[1;32mINFO: Completed processing for song: hurt by johnny cash\u001b[0m\n",
      "\u001b[1;32mINFO: Fetched Spotify audio features for dancing in the dark by bruce springsteen\u001b[0m\n",
      "\u001b[1;32mINFO: Skipping download for dancing in the dark by bruce springsteen as it already exists.\u001b[0m\n",
      "\u001b[1;32mINFO: Completed processing for song: dancing in the dark by bruce springsteen\u001b[0m\n",
      "\u001b[1;32mINFO: Fetched Spotify audio features for love runs out by onerepublic\u001b[0m\n",
      "\u001b[1;32mINFO: Skipping download for love runs out by onerepublic as it already exists.\u001b[0m\n",
      "\u001b[1;32mINFO: Completed processing for song: love runs out by onerepublic\u001b[0m\n",
      "\u001b[1;32mINFO: Fetched Spotify audio features for heaven - live by depeche mode\u001b[0m\n",
      "\u001b[1;32mINFO: Skipping download for heaven - live by depeche mode as it already exists.\u001b[0m\n",
      "\u001b[1;32mINFO: Completed processing for song: heaven - live by depeche mode\u001b[0m\n",
      "\u001b[1;32mINFO: Fetched Spotify audio features for hole to feed by depeche mode\u001b[0m\n",
      "\u001b[1;32mINFO: Skipping download for hole to feed by depeche mode as it already exists.\u001b[0m\n",
      "\u001b[1;32mINFO: Completed processing for song: hole to feed by depeche mode\u001b[0m\n",
      "\u001b[1;32mINFO: Fetched Spotify audio features for sacrifice by elton john\u001b[0m\n",
      "\u001b[1;32mINFO: Skipping download for sacrifice by elton john as it already exists.\u001b[0m\n",
      "\u001b[1;32mINFO: Completed processing for song: sacrifice by elton john\u001b[0m\n",
      "\u001b[1;32mINFO: Fetched Spotify audio features for old time rock & roll by bob seger\u001b[0m\n",
      "\u001b[1;32mINFO: Skipping download for old time rock & roll by bob seger as it already exists.\u001b[0m\n",
      "\u001b[1;32mINFO: Completed processing for song: old time rock & roll by bob seger\u001b[0m\n",
      "\u001b[1;32mINFO: Fetched Spotify audio features for i guess that's why they call it the blues by elton john\u001b[0m\n",
      "\u001b[1;32mINFO: Skipping download for i guess that's why they call it the blues by elton john as it already exists.\u001b[0m\n",
      "\u001b[1;32mINFO: Completed processing for song: i guess that's why they call it the blues by elton john\u001b[0m\n",
      "\u001b[1;32mINFO: Fetched Spotify audio features for be with you by mondays\u001b[0m\n",
      "\u001b[1;32mINFO: Skipping download for be with you by mondays as it already exists.\u001b[0m\n",
      "\u001b[1;32mINFO: Completed processing for song: be with you by mondays\u001b[0m\n",
      "\u001b[1;32mINFO: Fetched Spotify audio features for wstaje by grzegorz hyży\u001b[0m\n",
      "\u001b[1;32mINFO: Skipping download for wstaje by grzegorz hyży as it already exists.\u001b[0m\n",
      "\u001b[1;32mINFO: Completed processing for song: wstaje by grzegorz hyży\u001b[0m\n",
      "\u001b[1;32mINFO: Fetched Spotify audio features for for a better day by avicii\u001b[0m\n",
      "\u001b[1;32mINFO: Skipping download for for a better day by avicii as it already exists.\u001b[0m\n",
      "\u001b[1;32mINFO: Completed processing for song: for a better day by avicii\u001b[0m\n",
      "\u001b[1;32mINFO: Fetched Spotify audio features for broken arrows by avicii\u001b[0m\n",
      "\u001b[1;32mINFO: Skipping download for broken arrows by avicii as it already exists.\u001b[0m\n",
      "\u001b[1;32mINFO: Completed processing for song: broken arrows by avicii\u001b[0m\n",
      "\u001b[1;32mINFO: Fetched Spotify audio features for pictures of you by the last goodnight\u001b[0m\n",
      "\u001b[1;32mINFO: Skipping download for pictures of you by the last goodnight as it already exists.\u001b[0m\n",
      "\u001b[1;32mINFO: Completed processing for song: pictures of you by the last goodnight\u001b[0m\n",
      "\u001b[1;32mINFO: Fetched Spotify audio features for tropic love by diviners\u001b[0m\n",
      "\u001b[1;32mINFO: Skipping download for tropic love by diviners as it already exists.\u001b[0m\n",
      "\u001b[1;32mINFO: Completed processing for song: tropic love by diviners\u001b[0m\n",
      "\u001b[1;32mINFO: Fetched Spotify audio features for without you (feat. sandro cavazza) by avicii\u001b[0m\n",
      "\u001b[1;32mINFO: Skipping download for without you (feat. sandro cavazza) by avicii as it already exists.\u001b[0m\n",
      "\u001b[1;32mINFO: Completed processing for song: without you (feat. sandro cavazza) by avicii\u001b[0m\n",
      "\u001b[1;32mINFO: Fetched Spotify audio features for somebody that i used to know by gotye\u001b[0m\n",
      "\u001b[1;32mINFO: Skipping download for somebody that i used to know by gotye as it already exists.\u001b[0m\n",
      "\u001b[1;32mINFO: Completed processing for song: somebody that i used to know by gotye\u001b[0m\n",
      "\u001b[1;32mINFO: Fetched Spotify audio features for wild horses by the rolling stones\u001b[0m\n",
      "\u001b[1;32mINFO: Skipping download for wild horses by the rolling stones as it already exists.\u001b[0m\n",
      "\u001b[1;32mINFO: Completed processing for song: wild horses by the rolling stones\u001b[0m\n",
      "\u001b[1;32mINFO: Fetched Spotify audio features for trying not to love you by nickelback\u001b[0m\n",
      "\u001b[1;32mINFO: Skipping download for trying not to love you by nickelback as it already exists.\u001b[0m\n",
      "\u001b[1;32mINFO: Completed processing for song: trying not to love you by nickelback\u001b[0m\n",
      "\u001b[1;32mINFO: Fetched Spotify audio features for zombie by bad wolves\u001b[0m\n",
      "\u001b[1;32mINFO: Skipping download for zombie by bad wolves as it already exists.\u001b[0m\n",
      "\u001b[1;32mINFO: Completed processing for song: zombie by bad wolves\u001b[0m\n",
      "\u001b[1;32mINFO: Fetched Spotify audio features for goner by twenty one pilots\u001b[0m\n",
      "\u001b[1;32mINFO: Skipping download for goner by twenty one pilots as it already exists.\u001b[0m\n",
      "\u001b[1;32mINFO: Completed processing for song: goner by twenty one pilots\u001b[0m\n",
      "\u001b[1;32mINFO: Fetched Spotify audio features for if today was your last day by nickelback\u001b[0m\n",
      "\u001b[1;32mINFO: Skipping download for if today was your last day by nickelback as it already exists.\u001b[0m\n",
      "\u001b[1;32mINFO: Completed processing for song: if today was your last day by nickelback\u001b[0m\n",
      "\u001b[1;32mINFO: Fetched Spotify audio features for how you remind me by nickelback\u001b[0m\n",
      "\u001b[1;32mINFO: Skipping download for how you remind me by nickelback as it already exists.\u001b[0m\n",
      "\u001b[1;32mINFO: Completed processing for song: how you remind me by nickelback\u001b[0m\n",
      "\u001b[1;32mINFO: Fetched Spotify audio features for i love you - 2008 remaster by t.love\u001b[0m\n",
      "\u001b[1;32mINFO: Skipping download for i love you - 2008 remaster by t.love as it already exists.\u001b[0m\n",
      "\u001b[1;32mINFO: Completed processing for song: i love you - 2008 remaster by t.love\u001b[0m\n",
      "\u001b[1;32mINFO: Fetched Spotify audio features for back to start by stonebank\u001b[0m\n",
      "\u001b[1;32mINFO: Skipping download for back to start by stonebank as it already exists.\u001b[0m\n",
      "\u001b[1;32mINFO: Completed processing for song: back to start by stonebank\u001b[0m\n",
      "\u001b[1;32mINFO: Fetched Spotify audio features for crazy by lost frequencies\u001b[0m\n"
     ]
    },
    {
     "name": "stderr",
     "output_type": "stream",
     "text": [
      "\u001b[1;33mWARNING: Lyrics not found for 'crazy' by lost frequencies using all available providers.\u001b[0m\n"
     ]
    },
    {
     "name": "stdout",
     "output_type": "stream",
     "text": [
      "\u001b[1;32mINFO: Skipping download for crazy by lost frequencies as it already exists.\u001b[0m\n",
      "\u001b[1;32mINFO: Completed processing for song: crazy by lost frequencies\u001b[0m\n",
      "\u001b[1;32mINFO: Fetched Spotify audio features for ignite - 2016 league of legends world championship by zedd\u001b[0m\n",
      "\u001b[1;32mINFO: Skipping download for ignite - 2016 league of legends world championship by zedd as it already exists.\u001b[0m\n",
      "\u001b[1;32mINFO: Completed processing for song: ignite - 2016 league of legends world championship by zedd\u001b[0m\n",
      "\u001b[1;32mINFO: Fetched Spotify audio features for silver scrapes (as featured in league of legends season 2 world championship) by danny mccarthy\u001b[0m\n"
     ]
    },
    {
     "name": "stderr",
     "output_type": "stream",
     "text": [
      "\u001b[1;33mWARNING: Lyrics not found for 'silver scrapes' by danny mccarthy using all available providers.\u001b[0m\n"
     ]
    },
    {
     "name": "stdout",
     "output_type": "stream",
     "text": [
      "\u001b[1;32mINFO: Skipping download for silver scrapes (as featured in league of legends season 2 world championship) by danny mccarthy as it already exists.\u001b[0m\n",
      "\u001b[1;32mINFO: Completed processing for song: silver scrapes (as featured in league of legends season 2 world championship) by danny mccarthy\u001b[0m\n",
      "\u001b[1;32mINFO: Fetched Spotify audio features for sinner by andy grammer\u001b[0m\n",
      "\u001b[1;32mINFO: Skipping download for sinner by andy grammer as it already exists.\u001b[0m\n",
      "\u001b[1;32mINFO: Completed processing for song: sinner by andy grammer\u001b[0m\n",
      "\u001b[1;32mINFO: Fetched Spotify audio features for wind of change by scorpions\u001b[0m\n",
      "\u001b[1;32mINFO: Skipping download for wind of change by scorpions as it already exists.\u001b[0m\n",
      "\u001b[1;32mINFO: Completed processing for song: wind of change by scorpions\u001b[0m\n",
      "\u001b[1;32mINFO: Fetched Spotify audio features for losin' by thomas oliver\u001b[0m\n"
     ]
    },
    {
     "name": "stderr",
     "output_type": "stream",
     "text": [
      "\u001b[1;33mWARNING: Lyrics not found for 'losin'' by thomas oliver using all available providers.\u001b[0m\n"
     ]
    },
    {
     "name": "stdout",
     "output_type": "stream",
     "text": [
      "\u001b[1;32mINFO: Skipping download for losin' by thomas oliver as it already exists.\u001b[0m\n",
      "\u001b[1;32mINFO: Completed processing for song: losin' by thomas oliver\u001b[0m\n",
      "\u001b[1;32mINFO: Fetched Spotify audio features for mój przyjacielu (2011 version) by krzysztof krawczyk\u001b[0m\n",
      "\u001b[1;32mINFO: Skipping download for mój przyjacielu (2011 version) by krzysztof krawczyk as it already exists.\u001b[0m\n",
      "\u001b[1;32mINFO: Completed processing for song: mój przyjacielu (2011 version) by krzysztof krawczyk\u001b[0m\n",
      "\u001b[1;32mINFO: Fetched Spotify audio features for kochac inaczej by de mono\u001b[0m\n",
      "\u001b[1;32mINFO: Skipping download for kochac inaczej by de mono as it already exists.\u001b[0m\n",
      "\u001b[1;32mINFO: Completed processing for song: kochac inaczej by de mono\u001b[0m\n",
      "\u001b[1;32mINFO: Fetched Spotify audio features for not today by imagine dragons\u001b[0m\n",
      "\u001b[1;32mINFO: Skipping download for not today by imagine dragons as it already exists.\u001b[0m\n",
      "\u001b[1;32mINFO: Completed processing for song: not today by imagine dragons\u001b[0m\n",
      "\u001b[1;32mINFO: Fetched Spotify audio features for i was me by imagine dragons\u001b[0m\n",
      "\u001b[1;32mINFO: Skipping download for i was me by imagine dragons as it already exists.\u001b[0m\n",
      "\u001b[1;32mINFO: Completed processing for song: i was me by imagine dragons\u001b[0m\n",
      "\u001b[1;32mINFO: Fetched Spotify audio features for tokyo by imagine dragons\u001b[0m\n",
      "\u001b[1;32mINFO: Skipping download for tokyo by imagine dragons as it already exists.\u001b[0m\n",
      "\u001b[1;32mINFO: Completed processing for song: tokyo by imagine dragons\u001b[0m\n",
      "\u001b[1;32mINFO: Fetched Spotify audio features for i don't mind by imagine dragons\u001b[0m\n",
      "\u001b[1;32mINFO: Skipping download for i don't mind by imagine dragons as it already exists.\u001b[0m\n",
      "\u001b[1;32mINFO: Completed processing for song: i don't mind by imagine dragons\u001b[0m\n",
      "\u001b[1;32mINFO: Fetched Spotify audio features for selene by imagine dragons\u001b[0m\n",
      "\u001b[1;32mINFO: Skipping download for selene by imagine dragons as it already exists.\u001b[0m\n",
      "\u001b[1;32mINFO: Completed processing for song: selene by imagine dragons\u001b[0m\n",
      "\u001b[1;32mINFO: Fetched Spotify audio features for cover up by imagine dragons\u001b[0m\n",
      "\u001b[1;32mINFO: Skipping download for cover up by imagine dragons as it already exists.\u001b[0m\n",
      "\u001b[1;32mINFO: Completed processing for song: cover up by imagine dragons\u001b[0m\n",
      "\u001b[1;32mINFO: Fetched Spotify audio features for america by imagine dragons\u001b[0m\n",
      "\u001b[1;32mINFO: Skipping download for america by imagine dragons as it already exists.\u001b[0m\n",
      "\u001b[1;32mINFO: Completed processing for song: america by imagine dragons\u001b[0m\n",
      "\u001b[1;32mINFO: Fetched Spotify audio features for the river by imagine dragons\u001b[0m\n",
      "\u001b[1;32mINFO: Skipping download for the river by imagine dragons as it already exists.\u001b[0m\n",
      "\u001b[1;32mINFO: Completed processing for song: the river by imagine dragons\u001b[0m\n",
      "\u001b[1;32mINFO: Fetched Spotify audio features for round and round by imagine dragons\u001b[0m\n",
      "\u001b[1;32mINFO: Skipping download for round and round by imagine dragons as it already exists.\u001b[0m\n",
      "\u001b[1;32mINFO: Completed processing for song: round and round by imagine dragons\u001b[0m\n",
      "\u001b[1;32mINFO: Fetched Spotify audio features for working man by imagine dragons\u001b[0m\n",
      "\u001b[1;32mINFO: Skipping download for working man by imagine dragons as it already exists.\u001b[0m\n",
      "\u001b[1;32mINFO: Completed processing for song: working man by imagine dragons\u001b[0m\n",
      "\u001b[1;32mINFO: Fetched Spotify audio features for my fault by imagine dragons\u001b[0m\n",
      "\u001b[1;32mINFO: Skipping download for my fault by imagine dragons as it already exists.\u001b[0m\n",
      "\u001b[1;32mINFO: Completed processing for song: my fault by imagine dragons\u001b[0m\n",
      "\u001b[1;32mINFO: Fetched Spotify audio features for cha-ching (till we grow older) by imagine dragons\u001b[0m\n"
     ]
    },
    {
     "name": "stderr",
     "output_type": "stream",
     "text": [
      "\u001b[1;33mWARNING: Lyrics not found for 'cha' by imagine dragons using all available providers.\u001b[0m\n"
     ]
    },
    {
     "name": "stdout",
     "output_type": "stream",
     "text": [
      "\u001b[1;32mINFO: Skipping download for cha-ching (till we grow older) by imagine dragons as it already exists.\u001b[0m\n",
      "\u001b[1;32mINFO: Completed processing for song: cha-ching (till we grow older) by imagine dragons\u001b[0m\n",
      "\u001b[1;32mINFO: Fetched Spotify audio features for underdog by imagine dragons\u001b[0m\n",
      "\u001b[1;32mINFO: Skipping download for underdog by imagine dragons as it already exists.\u001b[0m\n",
      "\u001b[1;32mINFO: Completed processing for song: underdog by imagine dragons\u001b[0m\n",
      "\u001b[1;32mINFO: Fetched Spotify audio features for nothing left to say / rocks - medley by imagine dragons\u001b[0m\n",
      "\u001b[1;32mINFO: Downloaded song: nothing left to say / rocks - medley\u001b[0m\n",
      "\u001b[1;32mINFO: Completed processing for song: nothing left to say / rocks - medley by imagine dragons\u001b[0m\n",
      "\u001b[1;32mINFO: Fetched Spotify audio features for every night by imagine dragons\u001b[0m\n",
      "\u001b[1;32mINFO: Skipping download for every night by imagine dragons as it already exists.\u001b[0m\n",
      "\u001b[1;32mINFO: Completed processing for song: every night by imagine dragons\u001b[0m\n",
      "\u001b[1;32mINFO: Fetched Spotify audio features for amsterdam by imagine dragons\u001b[0m\n",
      "\u001b[1;32mINFO: Skipping download for amsterdam by imagine dragons as it already exists.\u001b[0m\n",
      "\u001b[1;32mINFO: Completed processing for song: amsterdam by imagine dragons\u001b[0m\n",
      "\u001b[1;32mINFO: Fetched Spotify audio features for tiptoe by imagine dragons\u001b[0m\n",
      "\u001b[1;32mINFO: Skipping download for tiptoe by imagine dragons as it already exists.\u001b[0m\n",
      "\u001b[1;32mINFO: Completed processing for song: tiptoe by imagine dragons\u001b[0m\n",
      "\u001b[1;32mINFO: Fetched Spotify audio features for battle cry by imagine dragons\u001b[0m\n",
      "\u001b[1;32mINFO: Skipping download for battle cry by imagine dragons as it already exists.\u001b[0m\n",
      "\u001b[1;32mINFO: Completed processing for song: battle cry by imagine dragons\u001b[0m\n",
      "\u001b[1;32mINFO: Fetched Spotify audio features for second chances by imagine dragons\u001b[0m\n",
      "\u001b[1;32mINFO: Skipping download for second chances by imagine dragons as it already exists.\u001b[0m\n",
      "\u001b[1;32mINFO: Completed processing for song: second chances by imagine dragons\u001b[0m\n",
      "\u001b[1;32mINFO: Fetched Spotify audio features for release by imagine dragons\u001b[0m\n",
      "\u001b[1;32mINFO: Skipping download for release by imagine dragons as it already exists.\u001b[0m\n",
      "\u001b[1;32mINFO: Completed processing for song: release by imagine dragons\u001b[0m\n",
      "\u001b[1;32mINFO: Fetched Spotify audio features for the unknown by imagine dragons\u001b[0m\n",
      "\u001b[1;32mINFO: Skipping download for the unknown by imagine dragons as it already exists.\u001b[0m\n",
      "\u001b[1;32mINFO: Completed processing for song: the unknown by imagine dragons\u001b[0m\n",
      "\u001b[1;32mINFO: Fetched Spotify audio features for thief by imagine dragons\u001b[0m\n",
      "\u001b[1;32mINFO: Skipping download for thief by imagine dragons as it already exists.\u001b[0m\n",
      "\u001b[1;32mINFO: Completed processing for song: thief by imagine dragons\u001b[0m\n",
      "\u001b[1;32mINFO: Fetched Spotify audio features for the fall by imagine dragons\u001b[0m\n",
      "\u001b[1;32mINFO: Skipping download for the fall by imagine dragons as it already exists.\u001b[0m\n",
      "\u001b[1;32mINFO: Completed processing for song: the fall by imagine dragons\u001b[0m\n",
      "\u001b[1;32mINFO: Fetched Spotify audio features for hopeless opus by imagine dragons\u001b[0m\n",
      "\u001b[1;32mINFO: Skipping download for hopeless opus by imagine dragons as it already exists.\u001b[0m\n",
      "\u001b[1;32mINFO: Completed processing for song: hopeless opus by imagine dragons\u001b[0m\n",
      "\u001b[1;32mINFO: Fetched Spotify audio features for summer by imagine dragons\u001b[0m\n",
      "\u001b[1;32mINFO: Skipping download for summer by imagine dragons as it already exists.\u001b[0m\n",
      "\u001b[1;32mINFO: Completed processing for song: summer by imagine dragons\u001b[0m\n",
      "\u001b[1;32mINFO: Fetched Spotify audio features for trouble by imagine dragons\u001b[0m\n",
      "\u001b[1;32mINFO: Skipping download for trouble by imagine dragons as it already exists.\u001b[0m\n",
      "\u001b[1;32mINFO: Completed processing for song: trouble by imagine dragons\u001b[0m\n",
      "\u001b[1;32mINFO: Fetched Spotify audio features for dream by imagine dragons\u001b[0m\n",
      "\u001b[1;32mINFO: Skipping download for dream by imagine dragons as it already exists.\u001b[0m\n",
      "\u001b[1;32mINFO: Completed processing for song: dream by imagine dragons\u001b[0m\n",
      "\u001b[1;32mINFO: Fetched Spotify audio features for friction by imagine dragons\u001b[0m\n",
      "\u001b[1;32mINFO: Skipping download for friction by imagine dragons as it already exists.\u001b[0m\n",
      "\u001b[1;32mINFO: Completed processing for song: friction by imagine dragons\u001b[0m\n",
      "\u001b[1;32mINFO: Fetched Spotify audio features for it comes back to you by imagine dragons\u001b[0m\n",
      "\u001b[1;32mINFO: Skipping download for it comes back to you by imagine dragons as it already exists.\u001b[0m\n",
      "\u001b[1;32mINFO: Completed processing for song: it comes back to you by imagine dragons\u001b[0m\n",
      "\u001b[1;32mINFO: Fetched Spotify audio features for polaroid by imagine dragons\u001b[0m\n",
      "\u001b[1;32mINFO: Skipping download for polaroid by imagine dragons as it already exists.\u001b[0m\n",
      "\u001b[1;32mINFO: Completed processing for song: polaroid by imagine dragons\u001b[0m\n",
      "\u001b[1;32mINFO: Fetched Spotify audio features for smoke and mirrors by imagine dragons\u001b[0m\n",
      "\u001b[1;32mINFO: Skipping download for smoke and mirrors by imagine dragons as it already exists.\u001b[0m\n",
      "\u001b[1;32mINFO: Completed processing for song: smoke and mirrors by imagine dragons\u001b[0m\n",
      "\u001b[1;32mINFO: Fetched Spotify audio features for dancing in the dark by imagine dragons\u001b[0m\n",
      "\u001b[1;32mINFO: Skipping download for dancing in the dark by imagine dragons as it already exists.\u001b[0m\n",
      "\u001b[1;32mINFO: Completed processing for song: dancing in the dark by imagine dragons\u001b[0m\n",
      "\u001b[1;32mINFO: Fetched Spotify audio features for i don’t know why by imagine dragons\u001b[0m\n",
      "\u001b[1;32mINFO: Skipping download for i don’t know why by imagine dragons as it already exists.\u001b[0m\n",
      "\u001b[1;32mINFO: Completed processing for song: i don’t know why by imagine dragons\u001b[0m\n",
      "\u001b[1;32mINFO: Fetched Spotify audio features for yesterday by imagine dragons\u001b[0m\n",
      "\u001b[1;32mINFO: Skipping download for yesterday by imagine dragons as it already exists.\u001b[0m\n",
      "\u001b[1;32mINFO: Completed processing for song: yesterday by imagine dragons\u001b[0m\n",
      "\u001b[1;32mINFO: Fetched Spotify audio features for mouth of the river by imagine dragons\u001b[0m\n",
      "\u001b[1;32mINFO: Skipping download for mouth of the river by imagine dragons as it already exists.\u001b[0m\n",
      "\u001b[1;32mINFO: Completed processing for song: mouth of the river by imagine dragons\u001b[0m\n",
      "\u001b[1;32mINFO: Fetched Spotify audio features for start over by imagine dragons\u001b[0m\n",
      "\u001b[1;32mINFO: Skipping download for start over by imagine dragons as it already exists.\u001b[0m\n",
      "\u001b[1;32mINFO: Completed processing for song: start over by imagine dragons\u001b[0m\n",
      "\u001b[1;32mINFO: Fetched Spotify audio features for when you were young by the killers\u001b[0m\n",
      "\u001b[1;32mINFO: Skipping download for when you were young by the killers as it already exists.\u001b[0m\n",
      "\u001b[1;32mINFO: Completed processing for song: when you were young by the killers\u001b[0m\n",
      "\u001b[1;32mINFO: Fetched Spotify audio features for mr. brightside by the killers\u001b[0m\n",
      "\u001b[1;32mINFO: Skipping download for mr. brightside by the killers as it already exists.\u001b[0m\n",
      "\u001b[1;32mINFO: Completed processing for song: mr. brightside by the killers\u001b[0m\n",
      "\u001b[1;32mINFO: Fetched Spotify audio features for all these things that i've done by the killers\u001b[0m\n",
      "\u001b[1;32mINFO: Skipping download for all these things that i've done by the killers as it already exists.\u001b[0m\n",
      "\u001b[1;32mINFO: Completed processing for song: all these things that i've done by the killers\u001b[0m\n",
      "\u001b[1;32mINFO: Fetched Spotify audio features for next to me by imagine dragons\u001b[0m\n",
      "\u001b[1;32mINFO: Skipping download for next to me by imagine dragons as it already exists.\u001b[0m\n",
      "\u001b[1;32mINFO: Completed processing for song: next to me by imagine dragons\u001b[0m\n",
      "\u001b[1;32mINFO: Fetched Spotify audio features for little talks by of monsters and men\u001b[0m\n",
      "\u001b[1;32mINFO: Skipping download for little talks by of monsters and men as it already exists.\u001b[0m\n",
      "\u001b[1;32mINFO: Completed processing for song: little talks by of monsters and men\u001b[0m\n",
      "\u001b[1;32mINFO: Fetched Spotify audio features for as we fall by league of legends\u001b[0m\n",
      "\u001b[1;32mINFO: Skipping download for as we fall by league of legends as it already exists.\u001b[0m\n",
      "\u001b[1;32mINFO: Completed processing for song: as we fall by league of legends\u001b[0m\n",
      "\u001b[1;32mINFO: Fetched Spotify audio features for kołysanka dla nieznajomej by perfect\u001b[0m\n",
      "\u001b[1;32mINFO: Skipping download for kołysanka dla nieznajomej by perfect as it already exists.\u001b[0m\n",
      "\u001b[1;32mINFO: Completed processing for song: kołysanka dla nieznajomej by perfect\u001b[0m\n",
      "\u001b[1;32mINFO: Fetched Spotify audio features for demons by joji\u001b[0m\n",
      "\u001b[1;32mINFO: Skipping download for demons by joji as it already exists.\u001b[0m\n",
      "\u001b[1;32mINFO: Completed processing for song: demons by joji\u001b[0m\n",
      "\u001b[1;32mINFO: Fetched Spotify audio features for waiting all night (feat. ella eyre) by rudimental\u001b[0m\n",
      "\u001b[1;32mINFO: Skipping download for waiting all night (feat. ella eyre) by rudimental as it already exists.\u001b[0m\n",
      "\u001b[1;32mINFO: Completed processing for song: waiting all night (feat. ella eyre) by rudimental\u001b[0m\n",
      "\u001b[1;32mINFO: Fetched Spotify audio features for bonfire heart by james blunt\u001b[0m\n",
      "\u001b[1;32mINFO: Skipping download for bonfire heart by james blunt as it already exists.\u001b[0m\n",
      "\u001b[1;32mINFO: Completed processing for song: bonfire heart by james blunt\u001b[0m\n",
      "\u001b[1;32mINFO: Fetched Spotify audio features for i was made for lovin' you by kiss\u001b[0m\n",
      "\u001b[1;32mINFO: Skipping download for i was made for lovin' you by kiss as it already exists.\u001b[0m\n",
      "\u001b[1;32mINFO: Completed processing for song: i was made for lovin' you by kiss\u001b[0m\n",
      "\u001b[1;32mINFO: Fetched Spotify audio features for closer by tore\u001b[0m\n"
     ]
    },
    {
     "name": "stderr",
     "output_type": "stream",
     "text": [
      "\u001b[1;33mWARNING: Lyrics not found for 'closer' by tore using all available providers.\u001b[0m\n"
     ]
    },
    {
     "name": "stdout",
     "output_type": "stream",
     "text": [
      "\u001b[1;32mINFO: Skipping download for closer by tore as it already exists.\u001b[0m\n",
      "\u001b[1;32mINFO: Completed processing for song: closer by tore\u001b[0m\n",
      "\u001b[1;32mINFO: Fetched Spotify audio features for more than you know - acoustic by axwell /\\ ingrosso\u001b[0m\n"
     ]
    },
    {
     "name": "stderr",
     "output_type": "stream",
     "text": [
      "\u001b[1;33mWARNING: Lyrics not found for 'more than you know' by axwell /\\ ingrosso using all available providers.\u001b[0m\n"
     ]
    },
    {
     "name": "stdout",
     "output_type": "stream",
     "text": [
      "\u001b[1;32mINFO: Skipping download for more than you know - acoustic by axwell /\\ ingrosso as it already exists.\u001b[0m\n",
      "\u001b[1;32mINFO: Completed processing for song: more than you know - acoustic by axwell /\\ ingrosso\u001b[0m\n",
      "\u001b[1;32mINFO: Fetched Spotify audio features for use somebody - acoustic version by isabella celander\u001b[0m\n"
     ]
    },
    {
     "name": "stderr",
     "output_type": "stream",
     "text": [
      "\u001b[1;33mWARNING: Lyrics not found for 'use somebody' by isabella celander using all available providers.\u001b[0m\n"
     ]
    },
    {
     "name": "stdout",
     "output_type": "stream",
     "text": [
      "\u001b[1;32mINFO: Skipping download for use somebody - acoustic version by isabella celander as it already exists.\u001b[0m\n",
      "\u001b[1;32mINFO: Completed processing for song: use somebody - acoustic version by isabella celander\u001b[0m\n",
      "\u001b[1;32mINFO: Fetched Spotify audio features for stay by missy & blonde\u001b[0m\n"
     ]
    },
    {
     "name": "stderr",
     "output_type": "stream",
     "text": [
      "\u001b[1;33mWARNING: Lyrics not found for 'stay' by missy & blonde using all available providers.\u001b[0m\n"
     ]
    },
    {
     "name": "stdout",
     "output_type": "stream",
     "text": [
      "\u001b[1;32mINFO: Skipping download for stay by missy & blonde as it already exists.\u001b[0m\n",
      "\u001b[1;32mINFO: Completed processing for song: stay by missy & blonde\u001b[0m\n",
      "\u001b[1;32mINFO: Fetched Spotify audio features for castle on the hill - acoustic by ed sheeran\u001b[0m\n",
      "\u001b[1;32mINFO: Skipping download for castle on the hill - acoustic by ed sheeran as it already exists.\u001b[0m\n",
      "\u001b[1;32mINFO: Completed processing for song: castle on the hill - acoustic by ed sheeran\u001b[0m\n",
      "\u001b[1;32mINFO: Fetched Spotify audio features for human by clementine duo\u001b[0m\n"
     ]
    },
    {
     "name": "stderr",
     "output_type": "stream",
     "text": [
      "\u001b[1;33mWARNING: Lyrics not found for 'human' by clementine duo using all available providers.\u001b[0m\n"
     ]
    },
    {
     "name": "stdout",
     "output_type": "stream",
     "text": [
      "\u001b[1;32mINFO: Skipping download for human by clementine duo as it already exists.\u001b[0m\n",
      "\u001b[1;32mINFO: Completed processing for song: human by clementine duo\u001b[0m\n",
      "\u001b[1;32mINFO: Fetched Spotify audio features for a sky full of stars by mother's daughter\u001b[0m\n"
     ]
    },
    {
     "name": "stderr",
     "output_type": "stream",
     "text": [
      "\u001b[1;33mWARNING: Lyrics not found for 'a sky full of stars' by mother's daughter using all available providers.\u001b[0m\n"
     ]
    },
    {
     "name": "stdout",
     "output_type": "stream",
     "text": [
      "\u001b[1;32mINFO: Skipping download for a sky full of stars by mother's daughter as it already exists.\u001b[0m\n",
      "\u001b[1;32mINFO: Completed processing for song: a sky full of stars by mother's daughter\u001b[0m\n",
      "\u001b[1;32mINFO: Fetched Spotify audio features for something just like this - acoustic by missy & blonde\u001b[0m\n"
     ]
    },
    {
     "name": "stderr",
     "output_type": "stream",
     "text": [
      "\u001b[1;33mWARNING: Lyrics not found for 'something just like this' by missy & blonde using all available providers.\u001b[0m\n"
     ]
    },
    {
     "name": "stdout",
     "output_type": "stream",
     "text": [
      "\u001b[1;32mINFO: Skipping download for something just like this - acoustic by missy & blonde as it already exists.\u001b[0m\n",
      "\u001b[1;32mINFO: Completed processing for song: something just like this - acoustic by missy & blonde\u001b[0m\n",
      "\u001b[1;32mINFO: Fetched Spotify audio features for ain't nobody (loves me better) - acoustic by jasmine thompson\u001b[0m\n",
      "\u001b[1;32mINFO: Skipping download for ain't nobody (loves me better) - acoustic by jasmine thompson as it already exists.\u001b[0m\n",
      "\u001b[1;32mINFO: Completed processing for song: ain't nobody (loves me better) - acoustic by jasmine thompson\u001b[0m\n",
      "\u001b[1;32mINFO: Fetched Spotify audio features for weak - acoustic by halloran & kate\u001b[0m\n"
     ]
    },
    {
     "name": "stderr",
     "output_type": "stream",
     "text": [
      "\u001b[1;33mWARNING: Lyrics not found for 'weak' by halloran & kate using all available providers.\u001b[0m\n"
     ]
    },
    {
     "name": "stdout",
     "output_type": "stream",
     "text": [
      "\u001b[1;32mINFO: Skipping download for weak - acoustic by halloran & kate as it already exists.\u001b[0m\n",
      "\u001b[1;32mINFO: Completed processing for song: weak - acoustic by halloran & kate\u001b[0m\n",
      "\u001b[1;32mINFO: Fetched Spotify audio features for just give me a reason (feat. nate ruess) by p!nk\u001b[0m\n",
      "\u001b[1;32mINFO: Skipping download for just give me a reason (feat. nate ruess) by p!nk as it already exists.\u001b[0m\n",
      "\u001b[1;32mINFO: Completed processing for song: just give me a reason (feat. nate ruess) by p!nk\u001b[0m\n",
      "\u001b[1;32mINFO: Fetched Spotify audio features for arrival of the birds by the cinematic orchestra\u001b[0m\n"
     ]
    },
    {
     "name": "stderr",
     "output_type": "stream",
     "text": [
      "\u001b[1;33mWARNING: Lyrics not found for 'arrival of the birds' by the cinematic orchestra using all available providers.\u001b[0m\n"
     ]
    },
    {
     "name": "stdout",
     "output_type": "stream",
     "text": [
      "\u001b[1;32mINFO: Skipping download for arrival of the birds by the cinematic orchestra as it already exists.\u001b[0m\n",
      "\u001b[1;32mINFO: Completed processing for song: arrival of the birds by the cinematic orchestra\u001b[0m\n",
      "\u001b[1;32mINFO: Fetched Spotify audio features for transformation by the cinematic orchestra\u001b[0m\n"
     ]
    },
    {
     "name": "stderr",
     "output_type": "stream",
     "text": [
      "\u001b[1;33mWARNING: Lyrics not found for 'transformation' by the cinematic orchestra using all available providers.\u001b[0m\n"
     ]
    },
    {
     "name": "stdout",
     "output_type": "stream",
     "text": [
      "\u001b[1;32mINFO: Skipping download for transformation by the cinematic orchestra as it already exists.\u001b[0m\n",
      "\u001b[1;32mINFO: Completed processing for song: transformation by the cinematic orchestra\u001b[0m\n",
      "\u001b[1;32mINFO: Fetched Spotify audio features for car radio by twenty one pilots\u001b[0m\n",
      "\u001b[1;32mINFO: Skipping download for car radio by twenty one pilots as it already exists.\u001b[0m\n",
      "\u001b[1;32mINFO: Completed processing for song: car radio by twenty one pilots\u001b[0m\n",
      "\u001b[1;32mINFO: Fetched Spotify audio features for catch me if you can by walking on cars\u001b[0m\n",
      "\u001b[1;32mINFO: Skipping download for catch me if you can by walking on cars as it already exists.\u001b[0m\n",
      "\u001b[1;32mINFO: Completed processing for song: catch me if you can by walking on cars\u001b[0m\n",
      "\u001b[1;32mINFO: Fetched Spotify audio features for cold cold man by saint motel\u001b[0m\n",
      "\u001b[1;32mINFO: Skipping download for cold cold man by saint motel as it already exists.\u001b[0m\n",
      "\u001b[1;32mINFO: Completed processing for song: cold cold man by saint motel\u001b[0m\n",
      "\u001b[1;32mINFO: Fetched Spotify audio features for stranger things (feat. onerepublic) by kygo\u001b[0m\n",
      "\u001b[1;32mINFO: Skipping download for stranger things (feat. onerepublic) by kygo as it already exists.\u001b[0m\n",
      "\u001b[1;32mINFO: Completed processing for song: stranger things (feat. onerepublic) by kygo\u001b[0m\n",
      "\u001b[1;32mINFO: Fetched Spotify audio features for piano sonata no. 14 (quasi una fantasia) in c-sharp minor, op. 27 no.2 \"moonlight\": i. adagio sostenuto by ludwig van beethoven\u001b[0m\n"
     ]
    },
    {
     "name": "stderr",
     "output_type": "stream",
     "text": [
      "\u001b[1;33mWARNING: Lyrics not found for 'piano sonata no. 14  in c' by ludwig van beethoven using all available providers.\u001b[0m\n"
     ]
    },
    {
     "name": "stdout",
     "output_type": "stream",
     "text": [
      "\u001b[1;32mINFO: Skipping download for piano sonata no. 14 (quasi una fantasia) in c-sharp minor, op. 27 no.2 \"moonlight\": i. adagio sostenuto by ludwig van beethoven as it already exists.\u001b[0m\n",
      "\u001b[1;32mINFO: Completed processing for song: piano sonata no. 14 (quasi una fantasia) in c-sharp minor, op. 27 no.2 \"moonlight\": i. adagio sostenuto by ludwig van beethoven\u001b[0m\n",
      "\u001b[1;32mINFO: Fetched Spotify audio features for speeding cars by walking on cars\u001b[0m\n",
      "\u001b[1;32mINFO: Skipping download for speeding cars by walking on cars as it already exists.\u001b[0m\n",
      "\u001b[1;32mINFO: Completed processing for song: speeding cars by walking on cars\u001b[0m\n",
      "\u001b[1;32mINFO: Fetched Spotify audio features for welcome home, son by radical face\u001b[0m\n",
      "\u001b[1;32mINFO: Skipping download for welcome home, son by radical face as it already exists.\u001b[0m\n",
      "\u001b[1;32mINFO: Completed processing for song: welcome home, son by radical face\u001b[0m\n",
      "\u001b[1;32mINFO: Fetched Spotify audio features for everytime we touch by cascada\u001b[0m\n",
      "\u001b[1;32mINFO: Skipping download for everytime we touch by cascada as it already exists.\u001b[0m\n",
      "\u001b[1;32mINFO: Completed processing for song: everytime we touch by cascada\u001b[0m\n",
      "\u001b[1;32mINFO: Fetched Spotify audio features for will you be there - single version by michael jackson\u001b[0m\n",
      "\u001b[1;32mINFO: Skipping download for will you be there - single version by michael jackson as it already exists.\u001b[0m\n",
      "\u001b[1;32mINFO: Completed processing for song: will you be there - single version by michael jackson\u001b[0m\n",
      "\u001b[1;32mINFO: Fetched Spotify audio features for boso by zakopower\u001b[0m\n",
      "\u001b[1;32mINFO: Skipping download for boso by zakopower as it already exists.\u001b[0m\n",
      "\u001b[1;32mINFO: Completed processing for song: boso by zakopower\u001b[0m\n",
      "\u001b[1;32mINFO: Fetched Spotify audio features for wrong side of heaven by five finger death punch\u001b[0m\n",
      "\u001b[1;32mINFO: Skipping download for wrong side of heaven by five finger death punch as it already exists.\u001b[0m\n",
      "\u001b[1;32mINFO: Completed processing for song: wrong side of heaven by five finger death punch\u001b[0m\n",
      "\u001b[1;32mINFO: Fetched Spotify audio features for closer by the chainsmokers\u001b[0m\n",
      "\u001b[1;32mINFO: Skipping download for closer by the chainsmokers as it already exists.\u001b[0m\n",
      "\u001b[1;32mINFO: Completed processing for song: closer by the chainsmokers\u001b[0m\n",
      "\u001b[1;32mINFO: Fetched Spotify audio features for ordinary love by u2\u001b[0m\n",
      "\u001b[1;32mINFO: Skipping download for ordinary love by u2 as it already exists.\u001b[0m\n",
      "\u001b[1;32mINFO: Completed processing for song: ordinary love by u2\u001b[0m\n",
      "\u001b[1;32mINFO: Fetched Spotify audio features for szczescie jest blisko by andrzej piaseczny\u001b[0m\n",
      "\u001b[1;32mINFO: Skipping download for szczescie jest blisko by andrzej piaseczny as it already exists.\u001b[0m\n",
      "\u001b[1;32mINFO: Completed processing for song: szczescie jest blisko by andrzej piaseczny\u001b[0m\n",
      "\u001b[1;32mINFO: Fetched Spotify audio features for perfect by ed sheeran\u001b[0m\n",
      "\u001b[1;32mINFO: Skipping download for perfect by ed sheeran as it already exists.\u001b[0m\n",
      "\u001b[1;32mINFO: Completed processing for song: perfect by ed sheeran\u001b[0m\n",
      "\u001b[1;32mINFO: Fetched Spotify audio features for footloose - from \"footloose\" soundtrack by kenny loggins\u001b[0m\n",
      "\u001b[1;32mINFO: Skipping download for footloose - from \"footloose\" soundtrack by kenny loggins as it already exists.\u001b[0m\n",
      "\u001b[1;32mINFO: Completed processing for song: footloose - from \"footloose\" soundtrack by kenny loggins\u001b[0m\n",
      "\u001b[1;32mINFO: Fetched Spotify audio features for momentz (feat. de la soul) by gorillaz\u001b[0m\n",
      "\u001b[1;32mINFO: Skipping download for momentz (feat. de la soul) by gorillaz as it already exists.\u001b[0m\n",
      "\u001b[1;32mINFO: Completed processing for song: momentz (feat. de la soul) by gorillaz\u001b[0m\n",
      "\u001b[1;32mINFO: Fetched Spotify audio features for the apprentice (feat. rag'n'bone man, zebra katz & ray blk) by gorillaz\u001b[0m\n",
      "\u001b[1;32mINFO: Skipping download for the apprentice (feat. rag'n'bone man, zebra katz & ray blk) by gorillaz as it already exists.\u001b[0m\n",
      "\u001b[1;32mINFO: Completed processing for song: the apprentice (feat. rag'n'bone man, zebra katz & ray blk) by gorillaz\u001b[0m\n",
      "\u001b[1;32mINFO: Fetched Spotify audio features for relax, take it easy by mika\u001b[0m\n",
      "\u001b[1;32mINFO: Skipping download for relax, take it easy by mika as it already exists.\u001b[0m\n",
      "\u001b[1;32mINFO: Completed processing for song: relax, take it easy by mika\u001b[0m\n",
      "\u001b[1;32mINFO: Fetched Spotify audio features for lane boy by twenty one pilots\u001b[0m\n",
      "\u001b[1;32mINFO: Skipping download for lane boy by twenty one pilots as it already exists.\u001b[0m\n",
      "\u001b[1;32mINFO: Completed processing for song: lane boy by twenty one pilots\u001b[0m\n",
      "\u001b[1;32mINFO: Fetched Spotify audio features for electric feel by mgmt\u001b[0m\n",
      "\u001b[1;32mINFO: Skipping download for electric feel by mgmt as it already exists.\u001b[0m\n",
      "\u001b[1;32mINFO: Completed processing for song: electric feel by mgmt\u001b[0m\n",
      "\u001b[1;32mINFO: Fetched Spotify audio features for hearts on fire - from \"rocky iv\" soundtrack by john cafferty\u001b[0m\n",
      "\u001b[1;32mINFO: Skipping download for hearts on fire - from \"rocky iv\" soundtrack by john cafferty as it already exists.\u001b[0m\n",
      "\u001b[1;32mINFO: Completed processing for song: hearts on fire - from \"rocky iv\" soundtrack by john cafferty\u001b[0m\n",
      "\u001b[1;32mINFO: Fetched Spotify audio features for bring me to life by evanescence\u001b[0m\n",
      "\u001b[1;32mINFO: Skipping download for bring me to life by evanescence as it already exists.\u001b[0m\n",
      "\u001b[1;32mINFO: Completed processing for song: bring me to life by evanescence\u001b[0m\n",
      "\u001b[1;32mINFO: Fetched Spotify audio features for feel good inc. by gorillaz\u001b[0m\n",
      "\u001b[1;32mINFO: Skipping download for feel good inc. by gorillaz as it already exists.\u001b[0m\n",
      "\u001b[1;32mINFO: Completed processing for song: feel good inc. by gorillaz\u001b[0m\n",
      "\u001b[1;32mINFO: Fetched Spotify audio features for clint eastwood by gorillaz\u001b[0m\n",
      "\u001b[1;32mINFO: Skipping download for clint eastwood by gorillaz as it already exists.\u001b[0m\n",
      "\u001b[1;32mINFO: Completed processing for song: clint eastwood by gorillaz\u001b[0m\n",
      "\u001b[1;32mINFO: Fetched Spotify audio features for sweet dreams (are made of this) - 2005 remaster by eurythmics\u001b[0m\n",
      "\u001b[1;32mINFO: Skipping download for sweet dreams (are made of this) - 2005 remaster by eurythmics as it already exists.\u001b[0m\n",
      "\u001b[1;32mINFO: Completed processing for song: sweet dreams (are made of this) - 2005 remaster by eurythmics\u001b[0m\n",
      "\u001b[1;32mINFO: Fetched Spotify audio features for three little birds by bob marley & the wailers\u001b[0m\n",
      "\u001b[1;32mINFO: Skipping download for three little birds by bob marley & the wailers as it already exists.\u001b[0m\n",
      "\u001b[1;32mINFO: Completed processing for song: three little birds by bob marley & the wailers\u001b[0m\n",
      "\u001b[1;32mINFO: Fetched Spotify audio features for wrong by depeche mode\u001b[0m\n",
      "\u001b[1;32mINFO: Skipping download for wrong by depeche mode as it already exists.\u001b[0m\n",
      "\u001b[1;32mINFO: Completed processing for song: wrong by depeche mode\u001b[0m\n",
      "\u001b[1;32mINFO: Fetched Spotify audio features for chryzantemy złociste by big dance\u001b[0m\n"
     ]
    },
    {
     "name": "stderr",
     "output_type": "stream",
     "text": [
      "\u001b[1;33mWARNING: Lyrics not found for 'chryzantemy złociste' by big dance using all available providers.\u001b[0m\n"
     ]
    },
    {
     "name": "stdout",
     "output_type": "stream",
     "text": [
      "\u001b[1;32mINFO: Skipping download for chryzantemy złociste by big dance as it already exists.\u001b[0m\n",
      "\u001b[1;32mINFO: Completed processing for song: chryzantemy złociste by big dance\u001b[0m\n",
      "\u001b[1;32mINFO: Fetched Spotify audio features for christmas time by bryan adams\u001b[0m\n",
      "\u001b[1;32mINFO: Skipping download for christmas time by bryan adams as it already exists.\u001b[0m\n",
      "\u001b[1;32mINFO: Completed processing for song: christmas time by bryan adams\u001b[0m\n",
      "\u001b[1;32mINFO: Fetched Spotify audio features for w dobrą stronę by dawid podsiadło\u001b[0m\n",
      "\u001b[1;32mINFO: Skipping download for w dobrą stronę by dawid podsiadło as it already exists.\u001b[0m\n",
      "\u001b[1;32mINFO: Completed processing for song: w dobrą stronę by dawid podsiadło\u001b[0m\n",
      "\u001b[1;32mINFO: Fetched Spotify audio features for cake by the ocean by dnce\u001b[0m\n",
      "\u001b[1;32mINFO: Skipping download for cake by the ocean by dnce as it already exists.\u001b[0m\n",
      "\u001b[1;32mINFO: Completed processing for song: cake by the ocean by dnce\u001b[0m\n",
      "\u001b[1;32mINFO: Fetched Spotify audio features for the nights by avicii\u001b[0m\n",
      "\u001b[1;32mINFO: Skipping download for the nights by avicii as it already exists.\u001b[0m\n",
      "\u001b[1;32mINFO: Completed processing for song: the nights by avicii\u001b[0m\n",
      "\u001b[1;32mINFO: Fetched Spotify audio features for stars (hold on) by youngblood hawke\u001b[0m\n",
      "\u001b[1;32mINFO: Skipping download for stars (hold on) by youngblood hawke as it already exists.\u001b[0m\n",
      "\u001b[1;32mINFO: Completed processing for song: stars (hold on) by youngblood hawke\u001b[0m\n",
      "\u001b[1;32mINFO: Fetched Spotify audio features for river (feat. ed sheeran) by eminem\u001b[0m\n",
      "\u001b[1;32mINFO: Skipping download for river (feat. ed sheeran) by eminem as it already exists.\u001b[0m\n",
      "\u001b[1;32mINFO: Completed processing for song: river (feat. ed sheeran) by eminem\u001b[0m\n",
      "\u001b[1;32mINFO: Fetched Spotify audio features for perfect duet (ed sheeran & beyoncé) by ed sheeran\u001b[0m\n",
      "\u001b[1;32mINFO: Skipping download for perfect duet (ed sheeran & beyoncé) by ed sheeran as it already exists.\u001b[0m\n",
      "\u001b[1;32mINFO: Completed processing for song: perfect duet (ed sheeran & beyoncé) by ed sheeran\u001b[0m\n",
      "\u001b[1;32mINFO: Fetched Spotify audio features for heathens by twenty one pilots\u001b[0m\n",
      "\u001b[1;32mINFO: Skipping download for heathens by twenty one pilots as it already exists.\u001b[0m\n",
      "\u001b[1;32mINFO: Completed processing for song: heathens by twenty one pilots\u001b[0m\n",
      "\u001b[1;32mINFO: Fetched Spotify audio features for i just wanna run by the downtown fiction\u001b[0m\n",
      "\u001b[1;32mINFO: Skipping download for i just wanna run by the downtown fiction as it already exists.\u001b[0m\n",
      "\u001b[1;32mINFO: Completed processing for song: i just wanna run by the downtown fiction\u001b[0m\n",
      "\u001b[1;32mINFO: Fetched Spotify audio features for wwe: glorious domination (bobby roode) by wwe\u001b[0m\n"
     ]
    },
    {
     "name": "stderr",
     "output_type": "stream",
     "text": [
      "\u001b[1;33mWARNING: Lyrics not found for 'wwe: glorious domination' by wwe using all available providers.\u001b[0m\n"
     ]
    },
    {
     "name": "stdout",
     "output_type": "stream",
     "text": [
      "\u001b[1;32mINFO: Skipping download for wwe: glorious domination (bobby roode) by wwe as it already exists.\u001b[0m\n",
      "\u001b[1;32mINFO: Completed processing for song: wwe: glorious domination (bobby roode) by wwe\u001b[0m\n",
      "\u001b[1;32mINFO: Fetched Spotify audio features for party like a russian by robbie williams\u001b[0m\n",
      "\u001b[1;32mINFO: Skipping download for party like a russian by robbie williams as it already exists.\u001b[0m\n",
      "\u001b[1;32mINFO: Completed processing for song: party like a russian by robbie williams\u001b[0m\n",
      "\u001b[1;32mINFO: Fetched Spotify audio features for feel the way i do by the jungle giants\u001b[0m\n",
      "\u001b[1;32mINFO: Skipping download for feel the way i do by the jungle giants as it already exists.\u001b[0m\n",
      "\u001b[1;32mINFO: Completed processing for song: feel the way i do by the jungle giants\u001b[0m\n",
      "\u001b[1;32mINFO: Fetched Spotify audio features for centuries by fall out boy\u001b[0m\n",
      "\u001b[1;32mINFO: Skipping download for centuries by fall out boy as it already exists.\u001b[0m\n",
      "\u001b[1;32mINFO: Completed processing for song: centuries by fall out boy\u001b[0m\n",
      "\u001b[1;32mINFO: Fetched Spotify audio features for we come running by youngblood hawke\u001b[0m\n",
      "\u001b[1;32mINFO: Skipping download for we come running by youngblood hawke as it already exists.\u001b[0m\n",
      "\u001b[1;32mINFO: Completed processing for song: we come running by youngblood hawke\u001b[0m\n",
      "\u001b[1;32mINFO: Fetched Spotify audio features for co ty tutaj robisz by elektryczne gitary\u001b[0m\n",
      "\u001b[1;32mINFO: Skipping download for co ty tutaj robisz by elektryczne gitary as it already exists.\u001b[0m\n",
      "\u001b[1;32mINFO: Completed processing for song: co ty tutaj robisz by elektryczne gitary\u001b[0m\n",
      "\u001b[1;32mINFO: Fetched Spotify audio features for casual sex by my darkest days\u001b[0m\n",
      "\u001b[1;32mINFO: Skipping download for casual sex by my darkest days as it already exists.\u001b[0m\n",
      "\u001b[1;32mINFO: Completed processing for song: casual sex by my darkest days\u001b[0m\n",
      "\u001b[1;32mINFO: Fetched Spotify audio features for the man who sold the world by nirvana\u001b[0m\n",
      "\u001b[1;32mINFO: Skipping download for the man who sold the world by nirvana as it already exists.\u001b[0m\n",
      "\u001b[1;32mINFO: Completed processing for song: the man who sold the world by nirvana\u001b[0m\n",
      "\u001b[1;32mINFO: Fetched Spotify audio features for just can't get enough by depeche mode\u001b[0m\n",
      "\u001b[1;32mINFO: Skipping download for just can't get enough by depeche mode as it already exists.\u001b[0m\n",
      "\u001b[1;32mINFO: Completed processing for song: just can't get enough by depeche mode\u001b[0m\n",
      "\u001b[1;32mINFO: Fetched Spotify audio features for enjoy the silence by depeche mode\u001b[0m\n",
      "\u001b[1;32mINFO: Skipping download for enjoy the silence by depeche mode as it already exists.\u001b[0m\n",
      "\u001b[1;32mINFO: Completed processing for song: enjoy the silence by depeche mode\u001b[0m\n",
      "\u001b[1;32mINFO: Fetched Spotify audio features for hymn for the weekend by eddie van der meer\u001b[0m\n"
     ]
    },
    {
     "name": "stderr",
     "output_type": "stream",
     "text": [
      "\u001b[1;33mWARNING: Lyrics not found for 'hymn for the weekend' by eddie van der meer using all available providers.\u001b[0m\n"
     ]
    },
    {
     "name": "stdout",
     "output_type": "stream",
     "text": [
      "\u001b[1;32mINFO: Skipping download for hymn for the weekend by eddie van der meer as it already exists.\u001b[0m\n",
      "\u001b[1;32mINFO: Completed processing for song: hymn for the weekend by eddie van der meer\u001b[0m\n",
      "\u001b[1;32mINFO: Fetched Spotify audio features for castle on the hill by eddie van der meer\u001b[0m\n"
     ]
    },
    {
     "name": "stderr",
     "output_type": "stream",
     "text": [
      "\u001b[1;33mWARNING: Lyrics not found for 'castle on the hill' by eddie van der meer using all available providers.\u001b[0m\n"
     ]
    },
    {
     "name": "stdout",
     "output_type": "stream",
     "text": [
      "\u001b[1;32mINFO: Skipping download for castle on the hill by eddie van der meer as it already exists.\u001b[0m\n",
      "\u001b[1;32mINFO: Completed processing for song: castle on the hill by eddie van der meer\u001b[0m\n",
      "\u001b[1;32mINFO: Fetched Spotify audio features for too good at goodbyes by eddie van der meer\u001b[0m\n"
     ]
    },
    {
     "name": "stderr",
     "output_type": "stream",
     "text": [
      "\u001b[1;33mWARNING: Lyrics not found for 'too good at goodbyes' by eddie van der meer using all available providers.\u001b[0m\n"
     ]
    },
    {
     "name": "stdout",
     "output_type": "stream",
     "text": [
      "\u001b[1;32mINFO: Skipping download for too good at goodbyes by eddie van der meer as it already exists.\u001b[0m\n",
      "\u001b[1;32mINFO: Completed processing for song: too good at goodbyes by eddie van der meer\u001b[0m\n",
      "\u001b[1;32mINFO: Fetched Spotify audio features for dusk till dawn by eddie van der meer\u001b[0m\n"
     ]
    },
    {
     "name": "stderr",
     "output_type": "stream",
     "text": [
      "\u001b[1;33mWARNING: Lyrics not found for 'dusk till dawn' by eddie van der meer using all available providers.\u001b[0m\n"
     ]
    },
    {
     "name": "stdout",
     "output_type": "stream",
     "text": [
      "\u001b[1;32mINFO: Skipping download for dusk till dawn by eddie van der meer as it already exists.\u001b[0m\n",
      "\u001b[1;32mINFO: Completed processing for song: dusk till dawn by eddie van der meer\u001b[0m\n",
      "\u001b[1;32mINFO: Fetched Spotify audio features for demons by eddie van der meer\u001b[0m\n"
     ]
    },
    {
     "name": "stderr",
     "output_type": "stream",
     "text": [
      "\u001b[1;33mWARNING: Lyrics not found for 'demons' by eddie van der meer using all available providers.\u001b[0m\n"
     ]
    },
    {
     "name": "stdout",
     "output_type": "stream",
     "text": [
      "\u001b[1;32mINFO: Skipping download for demons by eddie van der meer as it already exists.\u001b[0m\n",
      "\u001b[1;32mINFO: Completed processing for song: demons by eddie van der meer\u001b[0m\n",
      "\u001b[1;32mINFO: Fetched Spotify audio features for kiss the rain - original by yiruma\u001b[0m\n"
     ]
    },
    {
     "name": "stderr",
     "output_type": "stream",
     "text": [
      "\u001b[1;33mWARNING: Lyrics not found for 'kiss the rain' by yiruma using all available providers.\u001b[0m\n"
     ]
    },
    {
     "name": "stdout",
     "output_type": "stream",
     "text": [
      "\u001b[1;32mINFO: Skipping download for kiss the rain - original by yiruma as it already exists.\u001b[0m\n",
      "\u001b[1;32mINFO: Completed processing for song: kiss the rain - original by yiruma\u001b[0m\n",
      "\u001b[1;32mINFO: Fetched Spotify audio features for river flows in you - original by yiruma\u001b[0m\n"
     ]
    },
    {
     "name": "stderr",
     "output_type": "stream",
     "text": [
      "\u001b[1;33mWARNING: Lyrics not found for 'river flows in you' by yiruma using all available providers.\u001b[0m\n"
     ]
    },
    {
     "name": "stdout",
     "output_type": "stream",
     "text": [
      "\u001b[1;32mINFO: Skipping download for river flows in you - original by yiruma as it already exists.\u001b[0m\n",
      "\u001b[1;32mINFO: Completed processing for song: river flows in you - original by yiruma\u001b[0m\n",
      "\u001b[1;32mINFO: Fetched Spotify audio features for empire state of mind (part ii) broken down by alicia keys\u001b[0m\n",
      "\u001b[1;32mINFO: Skipping download for empire state of mind (part ii) broken down by alicia keys as it already exists.\u001b[0m\n",
      "\u001b[1;32mINFO: Completed processing for song: empire state of mind (part ii) broken down by alicia keys\u001b[0m\n",
      "\u001b[1;32mINFO: Fetched Spotify audio features for jingle bell rock by daryl hall & john oates\u001b[0m\n",
      "\u001b[1;32mINFO: Skipping download for jingle bell rock by daryl hall & john oates as it already exists.\u001b[0m\n",
      "\u001b[1;32mINFO: Completed processing for song: jingle bell rock by daryl hall & john oates\u001b[0m\n",
      "\u001b[1;32mINFO: Fetched Spotify audio features for tak ... tak ... to ja by obywatel g.c.\u001b[0m\n",
      "\u001b[1;32mINFO: Skipping download for tak ... tak ... to ja by obywatel g.c. as it already exists.\u001b[0m\n",
      "\u001b[1;32mINFO: Completed processing for song: tak ... tak ... to ja by obywatel g.c.\u001b[0m\n",
      "\u001b[1;32mINFO: Fetched Spotify audio features for dzieci wybiegły - 2014 by elektryczne gitary\u001b[0m\n",
      "\u001b[1;32mINFO: Skipping download for dzieci wybiegły - 2014 by elektryczne gitary as it already exists.\u001b[0m\n",
      "\u001b[1;32mINFO: Completed processing for song: dzieci wybiegły - 2014 by elektryczne gitary\u001b[0m\n",
      "\u001b[1;32mINFO: Fetched Spotify audio features for when christmas comes around by matt terry\u001b[0m\n",
      "\u001b[1;32mINFO: Skipping download for when christmas comes around by matt terry as it already exists.\u001b[0m\n",
      "\u001b[1;32mINFO: Completed processing for song: when christmas comes around by matt terry\u001b[0m\n",
      "\u001b[1;32mINFO: Fetched Spotify audio features for deszcz na betonie by taco hemingway\u001b[0m\n",
      "\u001b[1;32mINFO: Skipping download for deszcz na betonie by taco hemingway as it already exists.\u001b[0m\n",
      "\u001b[1;32mINFO: Completed processing for song: deszcz na betonie by taco hemingway\u001b[0m\n",
      "\u001b[1;32mINFO: Fetched Spotify audio features for jak zapomnieć by jeden osiem l\u001b[0m\n",
      "\u001b[1;32mINFO: Skipping download for jak zapomnieć by jeden osiem l as it already exists.\u001b[0m\n",
      "\u001b[1;32mINFO: Completed processing for song: jak zapomnieć by jeden osiem l\u001b[0m\n",
      "\u001b[1;32mINFO: Fetched Spotify audio features for rockstar by post malone\u001b[0m\n",
      "\u001b[1;32mINFO: Skipping download for rockstar by post malone as it already exists.\u001b[0m\n",
      "\u001b[1;32mINFO: Completed processing for song: rockstar by post malone\u001b[0m\n",
      "\u001b[1;32mINFO: Fetched Spotify audio features for the boy who cried wolf by passenger\u001b[0m\n",
      "\u001b[1;32mINFO: Skipping download for the boy who cried wolf by passenger as it already exists.\u001b[0m\n",
      "\u001b[1;32mINFO: Completed processing for song: the boy who cried wolf by passenger\u001b[0m\n",
      "\u001b[1;32mINFO: Fetched Spotify audio features for simple song by passenger\u001b[0m\n",
      "\u001b[1;32mINFO: Skipping download for simple song by passenger as it already exists.\u001b[0m\n",
      "\u001b[1;32mINFO: Completed processing for song: simple song by passenger\u001b[0m\n",
      "\u001b[1;32mINFO: Fetched Spotify audio features for let it go by james bay\u001b[0m\n",
      "\u001b[1;32mINFO: Skipping download for let it go by james bay as it already exists.\u001b[0m\n",
      "\u001b[1;32mINFO: Completed processing for song: let it go by james bay\u001b[0m\n",
      "\u001b[1;32mINFO: Fetched Spotify audio features for dusk till dawn (feat. sia) - radio edit by zayn\u001b[0m\n",
      "\u001b[1;32mINFO: Skipping download for dusk till dawn (feat. sia) - radio edit by zayn as it already exists.\u001b[0m\n",
      "\u001b[1;32mINFO: Completed processing for song: dusk till dawn (feat. sia) - radio edit by zayn\u001b[0m\n",
      "\u001b[1;32mINFO: Fetched Spotify audio features for nostalgia by taco hemingway\u001b[0m\n",
      "\u001b[1;32mINFO: Skipping download for nostalgia by taco hemingway as it already exists.\u001b[0m\n",
      "\u001b[1;32mINFO: Completed processing for song: nostalgia by taco hemingway\u001b[0m\n",
      "\u001b[1;32mINFO: Fetched Spotify audio features for chodź by taco hemingway\u001b[0m\n",
      "\u001b[1;32mINFO: Skipping download for chodź by taco hemingway as it already exists.\u001b[0m\n",
      "\u001b[1;32mINFO: Completed processing for song: chodź by taco hemingway\u001b[0m\n",
      "\u001b[1;32mINFO: Fetched Spotify audio features for the one and only by chesney hawkes\u001b[0m\n",
      "\u001b[1;32mINFO: Skipping download for the one and only by chesney hawkes as it already exists.\u001b[0m\n",
      "\u001b[1;32mINFO: Completed processing for song: the one and only by chesney hawkes\u001b[0m\n",
      "\u001b[1;32mINFO: Fetched Spotify audio features for piosenka pisana nocą by piotr rogucki\u001b[0m\n",
      "\u001b[1;32mINFO: Skipping download for piosenka pisana nocą by piotr rogucki as it already exists.\u001b[0m\n",
      "\u001b[1;32mINFO: Completed processing for song: piosenka pisana nocą by piotr rogucki\u001b[0m\n",
      "\u001b[1;32mINFO: Fetched Spotify audio features for jej czarne oczy by ivan i delfin\u001b[0m\n",
      "\u001b[1;32mINFO: Skipping download for jej czarne oczy by ivan i delfin as it already exists.\u001b[0m\n",
      "\u001b[1;32mINFO: Completed processing for song: jej czarne oczy by ivan i delfin\u001b[0m\n",
      "\u001b[1;32mINFO: Fetched Spotify audio features for pod niebem pełnym cudów (feat. kinga preis, andrzej jagodziński) by raz dwa trzy\u001b[0m\n",
      "\u001b[1;32mINFO: Skipping download for pod niebem pełnym cudów (feat. kinga preis, andrzej jagodziński) by raz dwa trzy as it already exists.\u001b[0m\n",
      "\u001b[1;32mINFO: Completed processing for song: pod niebem pełnym cudów (feat. kinga preis, andrzej jagodziński) by raz dwa trzy\u001b[0m\n",
      "\u001b[1;32mINFO: Fetched Spotify audio features for assassin's creed origins main theme by sarah schachner\u001b[0m\n"
     ]
    },
    {
     "name": "stderr",
     "output_type": "stream",
     "text": [
      "\u001b[1;33mWARNING: Lyrics not found for 'assassin's creed origins main theme' by sarah schachner using all available providers.\u001b[0m\n"
     ]
    },
    {
     "name": "stdout",
     "output_type": "stream",
     "text": [
      "\u001b[1;32mINFO: Skipping download for assassin's creed origins main theme by sarah schachner as it already exists.\u001b[0m\n",
      "\u001b[1;32mINFO: Completed processing for song: assassin's creed origins main theme by sarah schachner\u001b[0m\n",
      "\u001b[1;32mINFO: Fetched Spotify audio features for too good at goodbyes - edit by sam smith\u001b[0m\n",
      "\u001b[1;32mINFO: Skipping download for too good at goodbyes - edit by sam smith as it already exists.\u001b[0m\n",
      "\u001b[1;32mINFO: Completed processing for song: too good at goodbyes - edit by sam smith\u001b[0m\n",
      "\u001b[1;32mINFO: Fetched Spotify audio features for wszystko jedno by video\u001b[0m\n",
      "\u001b[1;32mINFO: Skipping download for wszystko jedno by video as it already exists.\u001b[0m\n",
      "\u001b[1;32mINFO: Completed processing for song: wszystko jedno by video\u001b[0m\n",
      "\u001b[1;32mINFO: Fetched Spotify audio features for more than you know by axwell /\\ ingrosso\u001b[0m\n"
     ]
    },
    {
     "name": "stderr",
     "output_type": "stream",
     "text": [
      "\u001b[1;33mWARNING: Lyrics not found for 'more than you know' by axwell /\\ ingrosso using all available providers.\u001b[0m\n"
     ]
    },
    {
     "name": "stdout",
     "output_type": "stream",
     "text": [
      "\u001b[1;32mINFO: Skipping download for more than you know by axwell /\\ ingrosso as it already exists.\u001b[0m\n",
      "\u001b[1;32mINFO: Completed processing for song: more than you know by axwell /\\ ingrosso\u001b[0m\n",
      "\u001b[1;32mINFO: Fetched Spotify audio features for war by matstubs\u001b[0m\n"
     ]
    },
    {
     "name": "stderr",
     "output_type": "stream",
     "text": [
      "\u001b[1;33mWARNING: Lyrics not found for 'war' by matstubs using all available providers.\u001b[0m\n"
     ]
    },
    {
     "name": "stdout",
     "output_type": "stream",
     "text": [
      "\u001b[1;32mINFO: Skipping download for war by matstubs as it already exists.\u001b[0m\n",
      "\u001b[1;32mINFO: Completed processing for song: war by matstubs\u001b[0m\n",
      "\u001b[1;32mINFO: Fetched Spotify audio features for a place with no name by michael jackson\u001b[0m\n",
      "\u001b[1;32mINFO: Skipping download for a place with no name by michael jackson as it already exists.\u001b[0m\n",
      "\u001b[1;32mINFO: Completed processing for song: a place with no name by michael jackson\u001b[0m\n",
      "\u001b[1;32mINFO: Fetched Spotify audio features for hall of fame (feat. will.i.am) by the script\u001b[0m\n",
      "\u001b[1;32mINFO: Skipping download for hall of fame (feat. will.i.am) by the script as it already exists.\u001b[0m\n",
      "\u001b[1;32mINFO: Completed processing for song: hall of fame (feat. will.i.am) by the script\u001b[0m\n",
      "\u001b[1;32mINFO: Fetched Spotify audio features for superheroes by the script\u001b[0m\n",
      "\u001b[1;32mINFO: Skipping download for superheroes by the script as it already exists.\u001b[0m\n",
      "\u001b[1;32mINFO: Completed processing for song: superheroes by the script\u001b[0m\n",
      "\u001b[1;32mINFO: Fetched Spotify audio features for all time low by jon bellion\u001b[0m\n",
      "\u001b[1;32mINFO: Skipping download for all time low by jon bellion as it already exists.\u001b[0m\n",
      "\u001b[1;32mINFO: Completed processing for song: all time low by jon bellion\u001b[0m\n",
      "\u001b[1;32mINFO: Fetched Spotify audio features for rhythm of the night (acoustic) by hattie webb\u001b[0m\n"
     ]
    },
    {
     "name": "stderr",
     "output_type": "stream",
     "text": [
      "\u001b[1;33mWARNING: Lyrics not found for 'rhythm of the night' by hattie webb using all available providers.\u001b[0m\n"
     ]
    },
    {
     "name": "stdout",
     "output_type": "stream",
     "text": [
      "\u001b[1;32mINFO: Skipping download for rhythm of the night (acoustic) by hattie webb as it already exists.\u001b[0m\n",
      "\u001b[1;32mINFO: Completed processing for song: rhythm of the night (acoustic) by hattie webb\u001b[0m\n",
      "\u001b[1;32mINFO: Fetched Spotify audio features for rhythm of the night by fedde le grand\u001b[0m\n"
     ]
    },
    {
     "name": "stderr",
     "output_type": "stream",
     "text": [
      "\u001b[1;33mWARNING: Lyrics not found for 'rhythm of the night' by fedde le grand using all available providers.\u001b[0m\n"
     ]
    },
    {
     "name": "stdout",
     "output_type": "stream",
     "text": [
      "\u001b[1;32mINFO: Skipping download for rhythm of the night by fedde le grand as it already exists.\u001b[0m\n",
      "\u001b[1;32mINFO: Completed processing for song: rhythm of the night by fedde le grand\u001b[0m\n",
      "\u001b[1;32mINFO: Fetched Spotify audio features for hollywood hills by sunrise avenue\u001b[0m\n",
      "\u001b[1;32mINFO: Skipping download for hollywood hills by sunrise avenue as it already exists.\u001b[0m\n",
      "\u001b[1;32mINFO: Completed processing for song: hollywood hills by sunrise avenue\u001b[0m\n",
      "\u001b[1;32mINFO: Fetched Spotify audio features for legends never die (feat. against the current) by league of legends\u001b[0m\n",
      "\u001b[1;32mINFO: Skipping download for legends never die (feat. against the current) by league of legends as it already exists.\u001b[0m\n",
      "\u001b[1;32mINFO: Completed processing for song: legends never die (feat. against the current) by league of legends\u001b[0m\n",
      "\u001b[1;32mINFO: Fetched Spotify audio features for legendary by welshly arms\u001b[0m\n",
      "\u001b[1;32mINFO: Skipping download for legendary by welshly arms as it already exists.\u001b[0m\n",
      "\u001b[1;32mINFO: Completed processing for song: legendary by welshly arms\u001b[0m\n",
      "\u001b[1;32mINFO: Fetched Spotify audio features for every breath you take - remastered 2003 by the police\u001b[0m\n",
      "\u001b[1;32mINFO: Skipping download for every breath you take - remastered 2003 by the police as it already exists.\u001b[0m\n",
      "\u001b[1;32mINFO: Completed processing for song: every breath you take - remastered 2003 by the police\u001b[0m\n",
      "\u001b[1;32mINFO: Fetched Spotify audio features for day i die by the national\u001b[0m\n",
      "\u001b[1;32mINFO: Skipping download for day i die by the national as it already exists.\u001b[0m\n",
      "\u001b[1;32mINFO: Completed processing for song: day i die by the national\u001b[0m\n",
      "\u001b[1;32mINFO: Fetched Spotify audio features for savannah by diviners\u001b[0m\n",
      "\u001b[1;32mINFO: Skipping download for savannah by diviners as it already exists.\u001b[0m\n",
      "\u001b[1;32mINFO: Completed processing for song: savannah by diviners\u001b[0m\n",
      "\u001b[1;32mINFO: Fetched Spotify audio features for mad world by gary jules\u001b[0m\n",
      "\u001b[1;32mINFO: Skipping download for mad world by gary jules as it already exists.\u001b[0m\n",
      "\u001b[1;32mINFO: Completed processing for song: mad world by gary jules\u001b[0m\n",
      "\u001b[1;32mINFO: Fetched Spotify audio features for perseus by unknown brain\u001b[0m\n",
      "\u001b[1;32mINFO: Skipping download for perseus by unknown brain as it already exists.\u001b[0m\n",
      "\u001b[1;32mINFO: Completed processing for song: perseus by unknown brain\u001b[0m\n",
      "\u001b[1;32mINFO: Fetched Spotify audio features for amulet by raz dwa trzy\u001b[0m\n"
     ]
    },
    {
     "name": "stderr",
     "output_type": "stream",
     "text": [
      "\u001b[1;33mWARNING: Lyrics not found for 'amulet' by raz dwa trzy using all available providers.\u001b[0m\n"
     ]
    },
    {
     "name": "stdout",
     "output_type": "stream",
     "text": [
      "\u001b[1;32mINFO: Skipping download for amulet by raz dwa trzy as it already exists.\u001b[0m\n",
      "\u001b[1;32mINFO: Completed processing for song: amulet by raz dwa trzy\u001b[0m\n",
      "\u001b[1;32mINFO: Fetched Spotify audio features for niepokonani by perfect\u001b[0m\n",
      "\u001b[1;32mINFO: Skipping download for niepokonani by perfect as it already exists.\u001b[0m\n",
      "\u001b[1;32mINFO: Completed processing for song: niepokonani by perfect\u001b[0m\n",
      "\u001b[1;32mINFO: Fetched Spotify audio features for jeszcze w zielone gramy by raz dwa trzy\u001b[0m\n"
     ]
    },
    {
     "name": "stderr",
     "output_type": "stream",
     "text": [
      "\u001b[1;33mWARNING: Lyrics not found for 'jeszcze w zielone gramy' by raz dwa trzy using all available providers.\u001b[0m\n"
     ]
    },
    {
     "name": "stdout",
     "output_type": "stream",
     "text": [
      "\u001b[1;32mINFO: Skipping download for jeszcze w zielone gramy by raz dwa trzy as it already exists.\u001b[0m\n",
      "\u001b[1;32mINFO: Completed processing for song: jeszcze w zielone gramy by raz dwa trzy\u001b[0m\n",
      "\u001b[1;32mINFO: Fetched Spotify audio features for your song by elton john\u001b[0m\n",
      "\u001b[1;32mINFO: Skipping download for your song by elton john as it already exists.\u001b[0m\n",
      "\u001b[1;32mINFO: Completed processing for song: your song by elton john\u001b[0m\n",
      "\u001b[1;32mINFO: Fetched Spotify audio features for tlen by taco hemingway\u001b[0m\n",
      "\u001b[1;32mINFO: Skipping download for tlen by taco hemingway as it already exists.\u001b[0m\n",
      "\u001b[1;32mINFO: Completed processing for song: tlen by taco hemingway\u001b[0m\n",
      "\u001b[1;32mINFO: Fetched Spotify audio features for freedom is ours by epic score\u001b[0m\n"
     ]
    },
    {
     "name": "stderr",
     "output_type": "stream",
     "text": [
      "\u001b[1;33mWARNING: Lyrics not found for 'freedom is ours' by epic score using all available providers.\u001b[0m\n"
     ]
    },
    {
     "name": "stdout",
     "output_type": "stream",
     "text": [
      "\u001b[1;32mINFO: Skipping download for freedom is ours by epic score as it already exists.\u001b[0m\n",
      "\u001b[1;32mINFO: Completed processing for song: freedom is ours by epic score\u001b[0m\n",
      "\u001b[1;32mINFO: Fetched Spotify audio features for we're on our way by radical face\u001b[0m\n",
      "\u001b[1;32mINFO: Skipping download for we're on our way by radical face as it already exists.\u001b[0m\n",
      "\u001b[1;32mINFO: Completed processing for song: we're on our way by radical face\u001b[0m\n",
      "\u001b[1;32mINFO: Fetched Spotify audio features for gangsta's paradise (feat. l.v.) by coolio\u001b[0m\n",
      "\u001b[1;32mINFO: Skipping download for gangsta's paradise (feat. l.v.) by coolio as it already exists.\u001b[0m\n",
      "\u001b[1;32mINFO: Completed processing for song: gangsta's paradise (feat. l.v.) by coolio\u001b[0m\n",
      "\u001b[1;32mINFO: Fetched Spotify audio features for can't hold us (feat. ray dalton) by macklemore\u001b[0m\n",
      "\u001b[1;32mINFO: Skipping download for can't hold us (feat. ray dalton) by macklemore as it already exists.\u001b[0m\n",
      "\u001b[1;32mINFO: Completed processing for song: can't hold us (feat. ray dalton) by macklemore\u001b[0m\n",
      "\u001b[1;32mINFO: Fetched Spotify audio features for your love could start a war by the unlikely candidates\u001b[0m\n",
      "\u001b[1;32mINFO: Skipping download for your love could start a war by the unlikely candidates as it already exists.\u001b[0m\n",
      "\u001b[1;32mINFO: Completed processing for song: your love could start a war by the unlikely candidates\u001b[0m\n",
      "\u001b[1;32mINFO: Fetched Spotify audio features for grace by rag'n'bone man\u001b[0m\n",
      "\u001b[1;32mINFO: Skipping download for grace by rag'n'bone man as it already exists.\u001b[0m\n",
      "\u001b[1;32mINFO: Completed processing for song: grace by rag'n'bone man\u001b[0m\n",
      "\u001b[1;32mINFO: Fetched Spotify audio features for lay my body down by rag'n'bone man\u001b[0m\n",
      "\u001b[1;32mINFO: Skipping download for lay my body down by rag'n'bone man as it already exists.\u001b[0m\n",
      "\u001b[1;32mINFO: Completed processing for song: lay my body down by rag'n'bone man\u001b[0m\n",
      "\u001b[1;32mINFO: Fetched Spotify audio features for it's all on u (t-mass & lzrd remix) [feat. liam o'donnell] by illenium\u001b[0m\n",
      "\u001b[1;32mINFO: Skipping download for it's all on u (t-mass & lzrd remix) [feat. liam o'donnell] by illenium as it already exists.\u001b[0m\n",
      "\u001b[1;32mINFO: Completed processing for song: it's all on u (t-mass & lzrd remix) [feat. liam o'donnell] by illenium\u001b[0m\n",
      "\u001b[1;32mINFO: Fetched Spotify audio features for rude by magic!\u001b[0m\n",
      "\u001b[1;32mINFO: Skipping download for rude by magic! as it already exists.\u001b[0m\n",
      "\u001b[1;32mINFO: Completed processing for song: rude by magic!\u001b[0m\n",
      "\u001b[1;32mINFO: Fetched Spotify audio features for somewhere in stockholm by avicii\u001b[0m\n",
      "\u001b[1;32mINFO: Skipping download for somewhere in stockholm by avicii as it already exists.\u001b[0m\n",
      "\u001b[1;32mINFO: Completed processing for song: somewhere in stockholm by avicii\u001b[0m\n",
      "\u001b[1;32mINFO: Fetched Spotify audio features for best of joy by michael jackson\u001b[0m\n",
      "\u001b[1;32mINFO: Skipping download for best of joy by michael jackson as it already exists.\u001b[0m\n",
      "\u001b[1;32mINFO: Completed processing for song: best of joy by michael jackson\u001b[0m\n",
      "\u001b[1;32mINFO: Fetched Spotify audio features for keep your head up by michael jackson\u001b[0m\n",
      "\u001b[1;32mINFO: Skipping download for keep your head up by michael jackson as it already exists.\u001b[0m\n",
      "\u001b[1;32mINFO: Completed processing for song: keep your head up by michael jackson\u001b[0m\n",
      "\u001b[1;32mINFO: Fetched Spotify audio features for 2000 watts by michael jackson\u001b[0m\n",
      "\u001b[1;32mINFO: Skipping download for 2000 watts by michael jackson as it already exists.\u001b[0m\n",
      "\u001b[1;32mINFO: Completed processing for song: 2000 watts by michael jackson\u001b[0m\n",
      "\u001b[1;32mINFO: Fetched Spotify audio features for love never felt so good by michael jackson\u001b[0m\n",
      "\u001b[1;32mINFO: Skipping download for love never felt so good by michael jackson as it already exists.\u001b[0m\n",
      "\u001b[1;32mINFO: Completed processing for song: love never felt so good by michael jackson\u001b[0m\n",
      "\u001b[1;32mINFO: Fetched Spotify audio features for earth song - hani's club experience by michael jackson\u001b[0m\n",
      "\u001b[1;32mINFO: Skipping download for earth song - hani's club experience by michael jackson as it already exists.\u001b[0m\n",
      "\u001b[1;32mINFO: Completed processing for song: earth song - hani's club experience by michael jackson\u001b[0m\n",
      "\u001b[1;32mINFO: Fetched Spotify audio features for chicago by michael jackson\u001b[0m\n",
      "\u001b[1;32mINFO: Skipping download for chicago by michael jackson as it already exists.\u001b[0m\n",
      "\u001b[1;32mINFO: Completed processing for song: chicago by michael jackson\u001b[0m\n",
      "\u001b[1;32mINFO: Fetched Spotify audio features for rock me amadeus by falco\u001b[0m\n",
      "\u001b[1;32mINFO: Skipping download for rock me amadeus by falco as it already exists.\u001b[0m\n",
      "\u001b[1;32mINFO: Completed processing for song: rock me amadeus by falco\u001b[0m\n",
      "\u001b[1;32mINFO: Fetched Spotify audio features for when we were young by adele\u001b[0m\n",
      "\u001b[1;32mINFO: Skipping download for when we were young by adele as it already exists.\u001b[0m\n",
      "\u001b[1;32mINFO: Completed processing for song: when we were young by adele\u001b[0m\n",
      "\u001b[1;32mINFO: Fetched Spotify audio features for reminding me by shawn hook\u001b[0m\n",
      "\u001b[1;32mINFO: Skipping download for reminding me by shawn hook as it already exists.\u001b[0m\n",
      "\u001b[1;32mINFO: Completed processing for song: reminding me by shawn hook\u001b[0m\n",
      "\u001b[1;32mINFO: Fetched Spotify audio features for hold back the river by james bay\u001b[0m\n",
      "\u001b[1;32mINFO: Skipping download for hold back the river by james bay as it already exists.\u001b[0m\n",
      "\u001b[1;32mINFO: Completed processing for song: hold back the river by james bay\u001b[0m\n",
      "\u001b[1;32mINFO: Fetched Spotify audio features for karma chameleon - remastered 2002 by culture club\u001b[0m\n",
      "\u001b[1;32mINFO: Skipping download for karma chameleon - remastered 2002 by culture club as it already exists.\u001b[0m\n",
      "\u001b[1;32mINFO: Completed processing for song: karma chameleon - remastered 2002 by culture club\u001b[0m\n",
      "\u001b[1;32mINFO: Fetched Spotify audio features for alone together by fall out boy\u001b[0m\n",
      "\u001b[1;32mINFO: Skipping download for alone together by fall out boy as it already exists.\u001b[0m\n",
      "\u001b[1;32mINFO: Completed processing for song: alone together by fall out boy\u001b[0m\n",
      "\u001b[1;32mINFO: Fetched Spotify audio features for viva la vida by coldplay\u001b[0m\n",
      "\u001b[1;32mINFO: Skipping download for viva la vida by coldplay as it already exists.\u001b[0m\n",
      "\u001b[1;32mINFO: Completed processing for song: viva la vida by coldplay\u001b[0m\n",
      "\u001b[1;32mINFO: Fetched Spotify audio features for i lived by onerepublic\u001b[0m\n",
      "\u001b[1;32mINFO: Skipping download for i lived by onerepublic as it already exists.\u001b[0m\n",
      "\u001b[1;32mINFO: Completed processing for song: i lived by onerepublic\u001b[0m\n",
      "\u001b[1;32mINFO: Fetched Spotify audio features for what you wanted by onerepublic\u001b[0m\n",
      "\u001b[1;32mINFO: Skipping download for what you wanted by onerepublic as it already exists.\u001b[0m\n",
      "\u001b[1;32mINFO: Completed processing for song: what you wanted by onerepublic\u001b[0m\n",
      "\u001b[1;32mINFO: Fetched Spotify audio features for burning bridges by onerepublic\u001b[0m\n",
      "\u001b[1;32mINFO: Skipping download for burning bridges by onerepublic as it already exists.\u001b[0m\n",
      "\u001b[1;32mINFO: Completed processing for song: burning bridges by onerepublic\u001b[0m\n",
      "\u001b[1;32mINFO: Fetched Spotify audio features for stop and stare by onerepublic\u001b[0m\n",
      "\u001b[1;32mINFO: Skipping download for stop and stare by onerepublic as it already exists.\u001b[0m\n",
      "\u001b[1;32mINFO: Completed processing for song: stop and stare by onerepublic\u001b[0m\n",
      "\u001b[1;32mINFO: Fetched Spotify audio features for all the right moves by onerepublic\u001b[0m\n",
      "\u001b[1;32mINFO: Skipping download for all the right moves by onerepublic as it already exists.\u001b[0m\n",
      "\u001b[1;32mINFO: Completed processing for song: all the right moves by onerepublic\u001b[0m\n",
      "\u001b[1;32mINFO: Fetched Spotify audio features for if i lose myself by onerepublic\u001b[0m\n",
      "\u001b[1;32mINFO: Skipping download for if i lose myself by onerepublic as it already exists.\u001b[0m\n",
      "\u001b[1;32mINFO: Completed processing for song: if i lose myself by onerepublic\u001b[0m\n",
      "\u001b[1;32mINFO: Fetched Spotify audio features for monster by imagine dragons\u001b[0m\n",
      "\u001b[1;32mINFO: Skipping download for monster by imagine dragons as it already exists.\u001b[0m\n",
      "\u001b[1;32mINFO: Completed processing for song: monster by imagine dragons\u001b[0m\n",
      "\u001b[1;32mINFO: Fetched Spotify audio features for bleeding out by imagine dragons\u001b[0m\n",
      "\u001b[1;32mINFO: Skipping download for bleeding out by imagine dragons as it already exists.\u001b[0m\n",
      "\u001b[1;32mINFO: Completed processing for song: bleeding out by imagine dragons\u001b[0m\n",
      "\u001b[1;32mINFO: Fetched Spotify audio features for gold by imagine dragons\u001b[0m\n",
      "\u001b[1;32mINFO: Skipping download for gold by imagine dragons as it already exists.\u001b[0m\n",
      "\u001b[1;32mINFO: Completed processing for song: gold by imagine dragons\u001b[0m\n",
      "\u001b[1;32mINFO: Fetched Spotify audio features for teenagers by my chemical romance\u001b[0m\n",
      "\u001b[1;32mINFO: Skipping download for teenagers by my chemical romance as it already exists.\u001b[0m\n",
      "\u001b[1;32mINFO: Completed processing for song: teenagers by my chemical romance\u001b[0m\n",
      "\u001b[1;32mINFO: Fetched Spotify audio features for the ghost of you by my chemical romance\u001b[0m\n",
      "\u001b[1;32mINFO: Skipping download for the ghost of you by my chemical romance as it already exists.\u001b[0m\n",
      "\u001b[1;32mINFO: Completed processing for song: the ghost of you by my chemical romance\u001b[0m\n",
      "\u001b[1;32mINFO: Fetched Spotify audio features for famous last words by my chemical romance\u001b[0m\n",
      "\u001b[1;32mINFO: Skipping download for famous last words by my chemical romance as it already exists.\u001b[0m\n",
      "\u001b[1;32mINFO: Completed processing for song: famous last words by my chemical romance\u001b[0m\n",
      "\u001b[1;32mINFO: Fetched Spotify audio features for welcome to the black parade by my chemical romance\u001b[0m\n",
      "\u001b[1;32mINFO: Skipping download for welcome to the black parade by my chemical romance as it already exists.\u001b[0m\n",
      "\u001b[1;32mINFO: Completed processing for song: welcome to the black parade by my chemical romance\u001b[0m\n",
      "\u001b[1;32mINFO: Fetched Spotify audio features for little things by one direction\u001b[0m\n",
      "\u001b[1;32mINFO: Skipping download for little things by one direction as it already exists.\u001b[0m\n",
      "\u001b[1;32mINFO: Completed processing for song: little things by one direction\u001b[0m\n",
      "\u001b[1;32mINFO: Fetched Spotify audio features for love never felt so good by michael jackson\u001b[0m\n",
      "\u001b[1;32mINFO: Skipping download for love never felt so good by michael jackson as it already exists.\u001b[0m\n",
      "\u001b[1;32mINFO: Completed processing for song: love never felt so good by michael jackson\u001b[0m\n",
      "\u001b[1;32mINFO: Fetched Spotify audio features for hear me by imagine dragons\u001b[0m\n",
      "\u001b[1;32mINFO: Skipping download for hear me by imagine dragons as it already exists.\u001b[0m\n",
      "\u001b[1;32mINFO: Completed processing for song: hear me by imagine dragons\u001b[0m\n",
      "\u001b[1;32mINFO: Fetched Spotify audio features for i’ll make it up to you by imagine dragons\u001b[0m\n",
      "\u001b[1;32mINFO: Skipping download for i’ll make it up to you by imagine dragons as it already exists.\u001b[0m\n",
      "\u001b[1;32mINFO: Completed processing for song: i’ll make it up to you by imagine dragons\u001b[0m\n",
      "\u001b[1;32mINFO: Fetched Spotify audio features for shots by imagine dragons\u001b[0m\n",
      "\u001b[1;32mINFO: Skipping download for shots by imagine dragons as it already exists.\u001b[0m\n",
      "\u001b[1;32mINFO: Completed processing for song: shots by imagine dragons\u001b[0m\n",
      "\u001b[1;32mINFO: Fetched Spotify audio features for rise up by imagine dragons\u001b[0m\n",
      "\u001b[1;32mINFO: Skipping download for rise up by imagine dragons as it already exists.\u001b[0m\n",
      "\u001b[1;32mINFO: Completed processing for song: rise up by imagine dragons\u001b[0m\n",
      "\u001b[1;32mINFO: Fetched Spotify audio features for here she comes again - dj antonio remix by röyksopp\u001b[0m\n"
     ]
    }
   ],
   "source": [
    "spotify_manager = SpotifyManager(client_id=os.environ.get(\"client_id\"), client_secret=os.environ.get(\"client_secret\"))\n",
    "\n",
    "for name, uri in URIS_TO_DOWNLOAD.items():\n",
    "    print(f\"Processing {name}...\")\n",
    "    playlist = Playlist(uri=uri, spotify_manager=spotify_manager)\n",
    "    playlist.process_songs()"
   ]
  },
  {
   "cell_type": "markdown",
   "id": "f553cf19-b381-4ee4-9ed2-9ad32c44db43",
   "metadata": {},
   "source": [
    "# Loading the data"
   ]
  },
  {
   "cell_type": "code",
   "execution_count": 34,
   "id": "739719b1-3fc5-4cf2-9d7f-e6351fb5d513",
   "metadata": {},
   "outputs": [
    {
     "name": "stdout",
     "output_type": "stream",
     "text": [
      "Loading CSV file: /home/krystian/Python/Jupyter-projects/thesis/songs_analysis/playlists/final download 1/final download 1.csv\n",
      "Loading CSV file: /home/krystian/Python/Jupyter-projects/thesis/songs_analysis/playlists/Every song in the world 🌍 /_Every song in the world 🌍 .csv\n",
      "Loading CSV file: /home/krystian/Python/Jupyter-projects/thesis/songs_analysis/playlists/Skinny Love/Skinny Love.csv\n",
      "Loading CSV file: /home/krystian/Python/Jupyter-projects/thesis/songs_analysis/playlists/final download 2/final download 2.csv\n"
     ]
    }
   ],
   "source": [
    "playlists_dir = 'audio_sentiment_classifier/playlists'\n",
    "playlists_dir = os.path.join(\"/\".join(os.path.abspath(os.path.realpath(__name__)).split(\"/\")[:-1]), \"playlists\")\n",
    "df = gather_data_from_folders(playlists_dir)"
   ]
  },
  {
   "cell_type": "code",
   "execution_count": 35,
   "id": "82d805c4-a9f7-42f6-b360-75cc9633d04c",
   "metadata": {},
   "outputs": [
    {
     "data": {
      "text/html": [
       "<div>\n",
       "<style scoped>\n",
       "    .dataframe tbody tr th:only-of-type {\n",
       "        vertical-align: middle;\n",
       "    }\n",
       "\n",
       "    .dataframe tbody tr th {\n",
       "        vertical-align: top;\n",
       "    }\n",
       "\n",
       "    .dataframe thead th {\n",
       "        text-align: right;\n",
       "    }\n",
       "</style>\n",
       "<table border=\"1\" class=\"dataframe\">\n",
       "  <thead>\n",
       "    <tr style=\"text-align: right;\">\n",
       "      <th></th>\n",
       "      <th>title</th>\n",
       "      <th>artist</th>\n",
       "      <th>mp3_path</th>\n",
       "      <th>lyrics</th>\n",
       "      <th>popularity</th>\n",
       "      <th>explicit</th>\n",
       "      <th>album_release_year</th>\n",
       "      <th>duration_ms</th>\n",
       "      <th>danceability</th>\n",
       "      <th>energy</th>\n",
       "      <th>...</th>\n",
       "      <th>spectral_contrast_3</th>\n",
       "      <th>spectral_contrast_4</th>\n",
       "      <th>spectral_contrast_5</th>\n",
       "      <th>spectral_contrast_6</th>\n",
       "      <th>spectral_contrast_7</th>\n",
       "      <th>tempo_extracted</th>\n",
       "      <th>zcr</th>\n",
       "      <th>id</th>\n",
       "      <th>album_art_url</th>\n",
       "      <th>genres</th>\n",
       "    </tr>\n",
       "  </thead>\n",
       "  <tbody>\n",
       "    <tr>\n",
       "      <th>0</th>\n",
       "      <td>skinny love</td>\n",
       "      <td>birdy</td>\n",
       "      <td>/home/krystian/Python/Jupyter-projects/thesis/...</td>\n",
       "      <td>Come on, skinny love, just last the year\\nPour...</td>\n",
       "      <td>71.0</td>\n",
       "      <td>False</td>\n",
       "      <td>2011.0</td>\n",
       "      <td>201080.0</td>\n",
       "      <td>0.379</td>\n",
       "      <td>0.290</td>\n",
       "      <td>...</td>\n",
       "      <td>19.275149</td>\n",
       "      <td>22.244659</td>\n",
       "      <td>23.802122</td>\n",
       "      <td>22.563887</td>\n",
       "      <td>46.881367</td>\n",
       "      <td>119.680851</td>\n",
       "      <td>0.031446</td>\n",
       "      <td>NaN</td>\n",
       "      <td>NaN</td>\n",
       "      <td>NaN</td>\n",
       "    </tr>\n",
       "    <tr>\n",
       "      <th>1</th>\n",
       "      <td>deathwish</td>\n",
       "      <td>red sun rising</td>\n",
       "      <td>/home/krystian/Python/Jupyter-projects/thesis/...</td>\n",
       "      <td>Life is fleeting by the slow\\nIt chills us to ...</td>\n",
       "      <td>NaN</td>\n",
       "      <td>False</td>\n",
       "      <td>2018.0</td>\n",
       "      <td>287946.0</td>\n",
       "      <td>0.508</td>\n",
       "      <td>0.882</td>\n",
       "      <td>...</td>\n",
       "      <td>13.744232</td>\n",
       "      <td>16.058571</td>\n",
       "      <td>17.278253</td>\n",
       "      <td>16.887822</td>\n",
       "      <td>53.087236</td>\n",
       "      <td>133.928571</td>\n",
       "      <td>0.051242</td>\n",
       "      <td>NaN</td>\n",
       "      <td>NaN</td>\n",
       "      <td>NaN</td>\n",
       "    </tr>\n",
       "    <tr>\n",
       "      <th>2</th>\n",
       "      <td>iris</td>\n",
       "      <td>the goo goo dolls</td>\n",
       "      <td>/home/krystian/Python/Jupyter-projects/thesis/...</td>\n",
       "      <td>And I'd give up forever to touch you\\n'Cause I...</td>\n",
       "      <td>71.0</td>\n",
       "      <td>False</td>\n",
       "      <td>2007.0</td>\n",
       "      <td>289906.0</td>\n",
       "      <td>0.291</td>\n",
       "      <td>0.790</td>\n",
       "      <td>...</td>\n",
       "      <td>13.698081</td>\n",
       "      <td>17.050868</td>\n",
       "      <td>18.783636</td>\n",
       "      <td>17.473927</td>\n",
       "      <td>56.185155</td>\n",
       "      <td>152.027027</td>\n",
       "      <td>0.069683</td>\n",
       "      <td>NaN</td>\n",
       "      <td>NaN</td>\n",
       "      <td>NaN</td>\n",
       "    </tr>\n",
       "    <tr>\n",
       "      <th>3</th>\n",
       "      <td>the woods</td>\n",
       "      <td>hollow coves</td>\n",
       "      <td>/home/krystian/Python/Jupyter-projects/thesis/...</td>\n",
       "      <td>No lyrics found</td>\n",
       "      <td>NaN</td>\n",
       "      <td>False</td>\n",
       "      <td>2017.0</td>\n",
       "      <td>241546.0</td>\n",
       "      <td>0.802</td>\n",
       "      <td>0.410</td>\n",
       "      <td>...</td>\n",
       "      <td>16.385667</td>\n",
       "      <td>18.056113</td>\n",
       "      <td>19.254186</td>\n",
       "      <td>18.392819</td>\n",
       "      <td>52.349427</td>\n",
       "      <td>106.132075</td>\n",
       "      <td>0.026942</td>\n",
       "      <td>NaN</td>\n",
       "      <td>NaN</td>\n",
       "      <td>NaN</td>\n",
       "    </tr>\n",
       "    <tr>\n",
       "      <th>4</th>\n",
       "      <td>don't dream it's over</td>\n",
       "      <td>crowded house</td>\n",
       "      <td>/home/krystian/Python/Jupyter-projects/thesis/...</td>\n",
       "      <td>There is freedom within\\nThere is freedom with...</td>\n",
       "      <td>NaN</td>\n",
       "      <td>False</td>\n",
       "      <td>2017.0</td>\n",
       "      <td>231377.0</td>\n",
       "      <td>0.403</td>\n",
       "      <td>0.746</td>\n",
       "      <td>...</td>\n",
       "      <td>15.084157</td>\n",
       "      <td>17.604808</td>\n",
       "      <td>18.362215</td>\n",
       "      <td>18.056211</td>\n",
       "      <td>51.318052</td>\n",
       "      <td>160.714286</td>\n",
       "      <td>0.044647</td>\n",
       "      <td>NaN</td>\n",
       "      <td>NaN</td>\n",
       "      <td>NaN</td>\n",
       "    </tr>\n",
       "    <tr>\n",
       "      <th>...</th>\n",
       "      <td>...</td>\n",
       "      <td>...</td>\n",
       "      <td>...</td>\n",
       "      <td>...</td>\n",
       "      <td>...</td>\n",
       "      <td>...</td>\n",
       "      <td>...</td>\n",
       "      <td>...</td>\n",
       "      <td>...</td>\n",
       "      <td>...</td>\n",
       "      <td>...</td>\n",
       "      <td>...</td>\n",
       "      <td>...</td>\n",
       "      <td>...</td>\n",
       "      <td>...</td>\n",
       "      <td>...</td>\n",
       "      <td>...</td>\n",
       "      <td>...</td>\n",
       "      <td>...</td>\n",
       "      <td>...</td>\n",
       "      <td>...</td>\n",
       "    </tr>\n",
       "    <tr>\n",
       "      <th>5996</th>\n",
       "      <td>the otherside</td>\n",
       "      <td>red sun rising</td>\n",
       "      <td>/home/krystian/Python/Jupyter-projects/thesis/...</td>\n",
       "      <td>I know I'm not as hot as the flame that\\nBurne...</td>\n",
       "      <td>42.0</td>\n",
       "      <td>False</td>\n",
       "      <td>2016.0</td>\n",
       "      <td>216106.0</td>\n",
       "      <td>0.526</td>\n",
       "      <td>0.761</td>\n",
       "      <td>...</td>\n",
       "      <td>14.608131</td>\n",
       "      <td>17.716818</td>\n",
       "      <td>19.001943</td>\n",
       "      <td>17.132375</td>\n",
       "      <td>51.418460</td>\n",
       "      <td>122.282609</td>\n",
       "      <td>0.034019</td>\n",
       "      <td>NaN</td>\n",
       "      <td>NaN</td>\n",
       "      <td>NaN</td>\n",
       "    </tr>\n",
       "    <tr>\n",
       "      <th>5997</th>\n",
       "      <td>light me up</td>\n",
       "      <td>birdy</td>\n",
       "      <td>/home/krystian/Python/Jupyter-projects/thesis/...</td>\n",
       "      <td>I'm finding my heart\\nUsing my hands\\nYou're m...</td>\n",
       "      <td>30.0</td>\n",
       "      <td>False</td>\n",
       "      <td>2013.0</td>\n",
       "      <td>255506.0</td>\n",
       "      <td>0.722</td>\n",
       "      <td>0.678</td>\n",
       "      <td>...</td>\n",
       "      <td>14.890077</td>\n",
       "      <td>16.988014</td>\n",
       "      <td>18.786151</td>\n",
       "      <td>16.732640</td>\n",
       "      <td>52.608561</td>\n",
       "      <td>98.684211</td>\n",
       "      <td>0.046682</td>\n",
       "      <td>NaN</td>\n",
       "      <td>NaN</td>\n",
       "      <td>NaN</td>\n",
       "    </tr>\n",
       "    <tr>\n",
       "      <th>5998</th>\n",
       "      <td>shelter</td>\n",
       "      <td>birdy</td>\n",
       "      <td>/home/krystian/Python/Jupyter-projects/thesis/...</td>\n",
       "      <td>I find shelter in this way\\nUndercover, hideaw...</td>\n",
       "      <td>45.0</td>\n",
       "      <td>False</td>\n",
       "      <td>2011.0</td>\n",
       "      <td>224866.0</td>\n",
       "      <td>0.379</td>\n",
       "      <td>0.196</td>\n",
       "      <td>...</td>\n",
       "      <td>13.950744</td>\n",
       "      <td>16.168215</td>\n",
       "      <td>18.252631</td>\n",
       "      <td>17.261166</td>\n",
       "      <td>54.274538</td>\n",
       "      <td>148.026316</td>\n",
       "      <td>0.056827</td>\n",
       "      <td>NaN</td>\n",
       "      <td>NaN</td>\n",
       "      <td>NaN</td>\n",
       "    </tr>\n",
       "    <tr>\n",
       "      <th>5999</th>\n",
       "      <td>c'est la vie</td>\n",
       "      <td>shania twain</td>\n",
       "      <td>/home/krystian/Python/Jupyter-projects/thesis/...</td>\n",
       "      <td>It must be Monday! What a dumb day!\\nCan't dra...</td>\n",
       "      <td>23.0</td>\n",
       "      <td>False</td>\n",
       "      <td>2002.0</td>\n",
       "      <td>218960.0</td>\n",
       "      <td>0.597</td>\n",
       "      <td>0.834</td>\n",
       "      <td>...</td>\n",
       "      <td>15.431929</td>\n",
       "      <td>18.240744</td>\n",
       "      <td>20.644744</td>\n",
       "      <td>18.463993</td>\n",
       "      <td>58.193529</td>\n",
       "      <td>92.213115</td>\n",
       "      <td>0.072854</td>\n",
       "      <td>NaN</td>\n",
       "      <td>NaN</td>\n",
       "      <td>NaN</td>\n",
       "    </tr>\n",
       "    <tr>\n",
       "      <th>6000</th>\n",
       "      <td>people help the people</td>\n",
       "      <td>birdy</td>\n",
       "      <td>/home/krystian/Python/Jupyter-projects/thesis/...</td>\n",
       "      <td>God knows what is hiding\\nIn those weak and dr...</td>\n",
       "      <td>69.0</td>\n",
       "      <td>False</td>\n",
       "      <td>2011.0</td>\n",
       "      <td>256236.0</td>\n",
       "      <td>0.433</td>\n",
       "      <td>0.308</td>\n",
       "      <td>...</td>\n",
       "      <td>17.740944</td>\n",
       "      <td>19.416752</td>\n",
       "      <td>21.367145</td>\n",
       "      <td>20.205828</td>\n",
       "      <td>50.704285</td>\n",
       "      <td>148.026316</td>\n",
       "      <td>0.028913</td>\n",
       "      <td>NaN</td>\n",
       "      <td>NaN</td>\n",
       "      <td>NaN</td>\n",
       "    </tr>\n",
       "  </tbody>\n",
       "</table>\n",
       "<p>6001 rows × 57 columns</p>\n",
       "</div>"
      ],
      "text/plain": [
       "                       title             artist  \\\n",
       "0                skinny love              birdy   \n",
       "1                  deathwish     red sun rising   \n",
       "2                       iris  the goo goo dolls   \n",
       "3                  the woods       hollow coves   \n",
       "4      don't dream it's over      crowded house   \n",
       "...                      ...                ...   \n",
       "5996           the otherside     red sun rising   \n",
       "5997             light me up              birdy   \n",
       "5998                 shelter              birdy   \n",
       "5999            c'est la vie       shania twain   \n",
       "6000  people help the people              birdy   \n",
       "\n",
       "                                               mp3_path  \\\n",
       "0     /home/krystian/Python/Jupyter-projects/thesis/...   \n",
       "1     /home/krystian/Python/Jupyter-projects/thesis/...   \n",
       "2     /home/krystian/Python/Jupyter-projects/thesis/...   \n",
       "3     /home/krystian/Python/Jupyter-projects/thesis/...   \n",
       "4     /home/krystian/Python/Jupyter-projects/thesis/...   \n",
       "...                                                 ...   \n",
       "5996  /home/krystian/Python/Jupyter-projects/thesis/...   \n",
       "5997  /home/krystian/Python/Jupyter-projects/thesis/...   \n",
       "5998  /home/krystian/Python/Jupyter-projects/thesis/...   \n",
       "5999  /home/krystian/Python/Jupyter-projects/thesis/...   \n",
       "6000  /home/krystian/Python/Jupyter-projects/thesis/...   \n",
       "\n",
       "                                                 lyrics  popularity  explicit  \\\n",
       "0     Come on, skinny love, just last the year\\nPour...        71.0     False   \n",
       "1     Life is fleeting by the slow\\nIt chills us to ...         NaN     False   \n",
       "2     And I'd give up forever to touch you\\n'Cause I...        71.0     False   \n",
       "3                                       No lyrics found         NaN     False   \n",
       "4     There is freedom within\\nThere is freedom with...         NaN     False   \n",
       "...                                                 ...         ...       ...   \n",
       "5996  I know I'm not as hot as the flame that\\nBurne...        42.0     False   \n",
       "5997  I'm finding my heart\\nUsing my hands\\nYou're m...        30.0     False   \n",
       "5998  I find shelter in this way\\nUndercover, hideaw...        45.0     False   \n",
       "5999  It must be Monday! What a dumb day!\\nCan't dra...        23.0     False   \n",
       "6000  God knows what is hiding\\nIn those weak and dr...        69.0     False   \n",
       "\n",
       "      album_release_year  duration_ms  danceability  energy  ...  \\\n",
       "0                 2011.0     201080.0         0.379   0.290  ...   \n",
       "1                 2018.0     287946.0         0.508   0.882  ...   \n",
       "2                 2007.0     289906.0         0.291   0.790  ...   \n",
       "3                 2017.0     241546.0         0.802   0.410  ...   \n",
       "4                 2017.0     231377.0         0.403   0.746  ...   \n",
       "...                  ...          ...           ...     ...  ...   \n",
       "5996              2016.0     216106.0         0.526   0.761  ...   \n",
       "5997              2013.0     255506.0         0.722   0.678  ...   \n",
       "5998              2011.0     224866.0         0.379   0.196  ...   \n",
       "5999              2002.0     218960.0         0.597   0.834  ...   \n",
       "6000              2011.0     256236.0         0.433   0.308  ...   \n",
       "\n",
       "      spectral_contrast_3  spectral_contrast_4  spectral_contrast_5  \\\n",
       "0               19.275149            22.244659            23.802122   \n",
       "1               13.744232            16.058571            17.278253   \n",
       "2               13.698081            17.050868            18.783636   \n",
       "3               16.385667            18.056113            19.254186   \n",
       "4               15.084157            17.604808            18.362215   \n",
       "...                   ...                  ...                  ...   \n",
       "5996            14.608131            17.716818            19.001943   \n",
       "5997            14.890077            16.988014            18.786151   \n",
       "5998            13.950744            16.168215            18.252631   \n",
       "5999            15.431929            18.240744            20.644744   \n",
       "6000            17.740944            19.416752            21.367145   \n",
       "\n",
       "      spectral_contrast_6  spectral_contrast_7  tempo_extracted       zcr  \\\n",
       "0               22.563887            46.881367       119.680851  0.031446   \n",
       "1               16.887822            53.087236       133.928571  0.051242   \n",
       "2               17.473927            56.185155       152.027027  0.069683   \n",
       "3               18.392819            52.349427       106.132075  0.026942   \n",
       "4               18.056211            51.318052       160.714286  0.044647   \n",
       "...                   ...                  ...              ...       ...   \n",
       "5996            17.132375            51.418460       122.282609  0.034019   \n",
       "5997            16.732640            52.608561        98.684211  0.046682   \n",
       "5998            17.261166            54.274538       148.026316  0.056827   \n",
       "5999            18.463993            58.193529        92.213115  0.072854   \n",
       "6000            20.205828            50.704285       148.026316  0.028913   \n",
       "\n",
       "       id  album_art_url  genres  \n",
       "0     NaN            NaN     NaN  \n",
       "1     NaN            NaN     NaN  \n",
       "2     NaN            NaN     NaN  \n",
       "3     NaN            NaN     NaN  \n",
       "4     NaN            NaN     NaN  \n",
       "...   ...            ...     ...  \n",
       "5996  NaN            NaN     NaN  \n",
       "5997  NaN            NaN     NaN  \n",
       "5998  NaN            NaN     NaN  \n",
       "5999  NaN            NaN     NaN  \n",
       "6000  NaN            NaN     NaN  \n",
       "\n",
       "[6001 rows x 57 columns]"
      ]
     },
     "execution_count": 35,
     "metadata": {},
     "output_type": "execute_result"
    }
   ],
   "source": [
    "df"
   ]
  },
  {
   "cell_type": "code",
   "execution_count": null,
   "id": "f09158e1-5338-4d82-8af6-e8a6e9d3956f",
   "metadata": {},
   "outputs": [],
   "source": []
  }
 ],
 "metadata": {
  "kernelspec": {
   "display_name": "Python 3 (ipykernel)",
   "language": "python",
   "name": "python3"
  },
  "language_info": {
   "codemirror_mode": {
    "name": "ipython",
    "version": 3
   },
   "file_extension": ".py",
   "mimetype": "text/x-python",
   "name": "python",
   "nbconvert_exporter": "python",
   "pygments_lexer": "ipython3",
   "version": "3.10.12"
  }
 },
 "nbformat": 4,
 "nbformat_minor": 5
}
