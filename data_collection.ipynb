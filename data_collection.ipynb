{
 "cells": [
  {
   "cell_type": "code",
   "execution_count": 4,
   "id": "3aac368b-0904-4021-afa9-e5c9d9202bb0",
   "metadata": {},
   "outputs": [
    {
     "name": "stdout",
     "output_type": "stream",
     "text": [
      "The autoreload extension is already loaded. To reload it, use:\n",
      "  %reload_ext autoreload\n"
     ]
    }
   ],
   "source": [
    "%load_ext autoreload\n",
    "%autoreload 2\n",
    "    \n",
    "from classes.song import Song\n",
    "from classes.playlist import Playlist\n",
    "from classes.spotify_manager import SpotifyManager\n",
    "from classes.lyrics_manager import LyricsManager\n",
    "from dotenv import load_dotenv\n",
    "from classes.utils import gather_data_from_folders\n",
    "import pandas as pd\n",
    "import os\n",
    "import seaborn as sns\n",
    "\n",
    "load_dotenv();"
   ]
  },
  {
   "cell_type": "code",
   "execution_count": 5,
   "id": "eb84bde8-9087-4b70-a41a-40144d6f33a0",
   "metadata": {},
   "outputs": [],
   "source": [
    "URIS_TO_DOWNLOAD = {\n",
    "    # 'final_download_1_uri': '5yMkxmCpYEinULq68rAj53',\n",
    "    # 'final_download_2_uri': '7zhbpv3MIAermGw2SJ3wMm',\n",
    "    # 'all_songs_in_the_world': '1RDk6T6DZNnYvBaBZQ3eWh'\n",
    "    # 'test': '5SsbsW06wS6UAQQzq71nZv'\n",
    "    'skinny_love': '5SsbsW06wS6UAQQzq71nZv'\n",
    "}"
   ]
  },
  {
   "cell_type": "code",
   "execution_count": 6,
   "id": "29d99280-7203-4dd3-92d6-c3ae9e56d934",
   "metadata": {},
   "outputs": [
    {
     "name": "stdout",
     "output_type": "stream",
     "text": [
      "Processing skinny_love...\n",
      "\u001b[1;32mINFO: Found playlist: Skinny Love with 3 tracks.\u001b[0m\n"
     ]
    },
    {
     "data": {
      "application/vnd.jupyter.widget-view+json": {
       "model_id": "375c780779f84da8ad7bd2f83afcb228",
       "version_major": 2,
       "version_minor": 0
      },
      "text/plain": [
       "Fetching songs info:   0%|          | 0/3 [00:00<?, ?song/s]"
      ]
     },
     "metadata": {},
     "output_type": "display_data"
    },
    {
     "data": {
      "application/vnd.jupyter.widget-view+json": {
       "model_id": "c190f1095dc146188860c29105abc655",
       "version_major": 2,
       "version_minor": 0
      },
      "text/plain": [
       "Processing Songs:   0%|          | 0/3 [00:00<?, ?song/s]"
      ]
     },
     "metadata": {},
     "output_type": "display_data"
    },
    {
     "name": "stdout",
     "output_type": "stream",
     "text": [
      "\u001b[1;32mINFO: Skipping skinny love by birdy as it already exists with MP3 file.\u001b[0m\n",
      "\u001b[1;32mINFO: Skipping til you're home by david hodges as it already exists with MP3 file.\u001b[0m\n",
      "\u001b[1;32mINFO: Skipping los abrazos prohibidos by vetusta morla as it already exists with MP3 file.\u001b[0m\n"
     ]
    }
   ],
   "source": [
    "spotify_manager = SpotifyManager(client_id=os.environ.get(\"client_id\"), client_secret=os.environ.get(\"client_secret\"))\n",
    "\n",
    "for name, uri in URIS_TO_DOWNLOAD.items():\n",
    "    print(f\"Processing {name}...\")\n",
    "    playlist = Playlist(uri=uri, spotify_manager=spotify_manager)\n",
    "    new = playlist.process_songs()"
   ]
  },
  {
   "cell_type": "markdown",
   "id": "f553cf19-b381-4ee4-9ed2-9ad32c44db43",
   "metadata": {},
   "source": [
    "# Loading the data"
   ]
  },
  {
   "cell_type": "code",
   "execution_count": 14,
   "id": "739719b1-3fc5-4cf2-9d7f-e6351fb5d513",
   "metadata": {},
   "outputs": [
    {
     "name": "stdout",
     "output_type": "stream",
     "text": [
      "Loading CSV file: /home/krystian/Python/Jupyter-projects/thesis/songs_analysis/playlists/final download 1/final download 1.csv\n",
      "Loading CSV file: /home/krystian/Python/Jupyter-projects/thesis/songs_analysis/playlists/Every song in the world 🌍 /Every song in the world 🌍 .csv\n",
      "Loading CSV file: /home/krystian/Python/Jupyter-projects/thesis/songs_analysis/playlists/final download 2/final download 2.csv\n"
     ]
    }
   ],
   "source": [
    "playlists_dir = 'audio_sentiment_classifier/playlists'\n",
    "playlists_dir = os.path.join(\"/\".join(os.path.abspath(os.path.realpath(__name__)).split(\"/\")[:-1]), \"playlists\")\n",
    "df = gather_data_from_folders(playlists_dir)"
   ]
  },
  {
   "cell_type": "code",
   "execution_count": 15,
   "id": "9da460aa-273a-431d-b76b-a320eb114913",
   "metadata": {},
   "outputs": [
    {
     "data": {
      "text/html": [
       "<div>\n",
       "<style scoped>\n",
       "    .dataframe tbody tr th:only-of-type {\n",
       "        vertical-align: middle;\n",
       "    }\n",
       "\n",
       "    .dataframe tbody tr th {\n",
       "        vertical-align: top;\n",
       "    }\n",
       "\n",
       "    .dataframe thead th {\n",
       "        text-align: right;\n",
       "    }\n",
       "</style>\n",
       "<table border=\"1\" class=\"dataframe\">\n",
       "  <thead>\n",
       "    <tr style=\"text-align: right;\">\n",
       "      <th></th>\n",
       "      <th>id</th>\n",
       "      <th>title</th>\n",
       "      <th>artist</th>\n",
       "      <th>album_art_url</th>\n",
       "      <th>popularity</th>\n",
       "      <th>explicit</th>\n",
       "      <th>album_release_year</th>\n",
       "      <th>duration_ms</th>\n",
       "      <th>genres</th>\n",
       "      <th>lyrics</th>\n",
       "      <th>...</th>\n",
       "      <th>key</th>\n",
       "      <th>loudness</th>\n",
       "      <th>mode</th>\n",
       "      <th>speechiness</th>\n",
       "      <th>acousticness</th>\n",
       "      <th>instrumentalness</th>\n",
       "      <th>liveness</th>\n",
       "      <th>valence</th>\n",
       "      <th>tempo</th>\n",
       "      <th>time_signature</th>\n",
       "    </tr>\n",
       "  </thead>\n",
       "  <tbody>\n",
       "    <tr>\n",
       "      <th>0</th>\n",
       "      <td>4RL77hMWUq35NYnPLXBpih</td>\n",
       "      <td>skinny love</td>\n",
       "      <td>birdy</td>\n",
       "      <td>https://i.scdn.co/image/ab67616d0000b2733661c0...</td>\n",
       "      <td>70.0</td>\n",
       "      <td>False</td>\n",
       "      <td>2011.0</td>\n",
       "      <td>201080.0</td>\n",
       "      <td>['neo mellow', 'uk pop', 'viral pop']</td>\n",
       "      <td>Come on, skinny love, just last the year\\nPour...</td>\n",
       "      <td>...</td>\n",
       "      <td>4.0</td>\n",
       "      <td>-8.487</td>\n",
       "      <td>1.0</td>\n",
       "      <td>0.0513</td>\n",
       "      <td>0.95200</td>\n",
       "      <td>0.000996</td>\n",
       "      <td>0.1180</td>\n",
       "      <td>0.184</td>\n",
       "      <td>165.997</td>\n",
       "      <td>4.0</td>\n",
       "    </tr>\n",
       "    <tr>\n",
       "      <th>1</th>\n",
       "      <td>5PsjZ21f5tMPFf1sJpokm7</td>\n",
       "      <td>deathwish</td>\n",
       "      <td>red sun rising</td>\n",
       "      <td>https://i.scdn.co/image/ab67616d0000b273612f16...</td>\n",
       "      <td>NaN</td>\n",
       "      <td>False</td>\n",
       "      <td>2018.0</td>\n",
       "      <td>287946.0</td>\n",
       "      <td>['modern hard rock', 'post-grunge']</td>\n",
       "      <td>Life is fleeting by the slow\\nIt chills us to ...</td>\n",
       "      <td>...</td>\n",
       "      <td>8.0</td>\n",
       "      <td>-5.518</td>\n",
       "      <td>0.0</td>\n",
       "      <td>0.0518</td>\n",
       "      <td>0.00614</td>\n",
       "      <td>0.000003</td>\n",
       "      <td>0.3460</td>\n",
       "      <td>0.603</td>\n",
       "      <td>134.989</td>\n",
       "      <td>4.0</td>\n",
       "    </tr>\n",
       "    <tr>\n",
       "      <th>2</th>\n",
       "      <td>6vrUTGn5p8IrfTZ0J6sIVM</td>\n",
       "      <td>iris</td>\n",
       "      <td>the goo goo dolls</td>\n",
       "      <td>https://i.scdn.co/image/ab67616d0000b273d54c4b...</td>\n",
       "      <td>71.0</td>\n",
       "      <td>False</td>\n",
       "      <td>2007.0</td>\n",
       "      <td>289906.0</td>\n",
       "      <td>['neo mellow', 'permanent wave', 'pop rock', '...</td>\n",
       "      <td>And I'd give up forever to touch you\\n'Cause I...</td>\n",
       "      <td>...</td>\n",
       "      <td>11.0</td>\n",
       "      <td>-5.683</td>\n",
       "      <td>0.0</td>\n",
       "      <td>0.0363</td>\n",
       "      <td>0.00133</td>\n",
       "      <td>0.000006</td>\n",
       "      <td>0.0811</td>\n",
       "      <td>0.513</td>\n",
       "      <td>155.667</td>\n",
       "      <td>3.0</td>\n",
       "    </tr>\n",
       "    <tr>\n",
       "      <th>3</th>\n",
       "      <td>08bo51XXjxoJRv3O9tuUaj</td>\n",
       "      <td>the woods</td>\n",
       "      <td>hollow coves</td>\n",
       "      <td>https://i.scdn.co/image/ab67616d0000b273e771a3...</td>\n",
       "      <td>NaN</td>\n",
       "      <td>False</td>\n",
       "      <td>2017.0</td>\n",
       "      <td>241546.0</td>\n",
       "      <td>['indie anthem-folk', 'indie folk', 'modern in...</td>\n",
       "      <td>NaN</td>\n",
       "      <td>...</td>\n",
       "      <td>9.0</td>\n",
       "      <td>-12.793</td>\n",
       "      <td>1.0</td>\n",
       "      <td>0.0454</td>\n",
       "      <td>0.41100</td>\n",
       "      <td>0.001070</td>\n",
       "      <td>0.0941</td>\n",
       "      <td>0.224</td>\n",
       "      <td>106.047</td>\n",
       "      <td>4.0</td>\n",
       "    </tr>\n",
       "    <tr>\n",
       "      <th>4</th>\n",
       "      <td>0Leo4GP0UKG4tUABm9JATe</td>\n",
       "      <td>don't dream it's over</td>\n",
       "      <td>crowded house</td>\n",
       "      <td>https://i.scdn.co/image/ab67616d0000b27380ed24...</td>\n",
       "      <td>NaN</td>\n",
       "      <td>False</td>\n",
       "      <td>2017.0</td>\n",
       "      <td>231377.0</td>\n",
       "      <td>['australian rock', 'permanent wave']</td>\n",
       "      <td>There is freedom within\\nThere is freedom with...</td>\n",
       "      <td>...</td>\n",
       "      <td>8.0</td>\n",
       "      <td>-5.574</td>\n",
       "      <td>1.0</td>\n",
       "      <td>0.0404</td>\n",
       "      <td>0.04440</td>\n",
       "      <td>0.000259</td>\n",
       "      <td>0.1360</td>\n",
       "      <td>0.512</td>\n",
       "      <td>80.858</td>\n",
       "      <td>4.0</td>\n",
       "    </tr>\n",
       "  </tbody>\n",
       "</table>\n",
       "<p>5 rows × 23 columns</p>\n",
       "</div>"
      ],
      "text/plain": [
       "                       id                  title             artist  \\\n",
       "0  4RL77hMWUq35NYnPLXBpih            skinny love              birdy   \n",
       "1  5PsjZ21f5tMPFf1sJpokm7              deathwish     red sun rising   \n",
       "2  6vrUTGn5p8IrfTZ0J6sIVM                   iris  the goo goo dolls   \n",
       "3  08bo51XXjxoJRv3O9tuUaj              the woods       hollow coves   \n",
       "4  0Leo4GP0UKG4tUABm9JATe  don't dream it's over      crowded house   \n",
       "\n",
       "                                       album_art_url  popularity explicit  \\\n",
       "0  https://i.scdn.co/image/ab67616d0000b2733661c0...        70.0    False   \n",
       "1  https://i.scdn.co/image/ab67616d0000b273612f16...         NaN    False   \n",
       "2  https://i.scdn.co/image/ab67616d0000b273d54c4b...        71.0    False   \n",
       "3  https://i.scdn.co/image/ab67616d0000b273e771a3...         NaN    False   \n",
       "4  https://i.scdn.co/image/ab67616d0000b27380ed24...         NaN    False   \n",
       "\n",
       "   album_release_year  duration_ms  \\\n",
       "0              2011.0     201080.0   \n",
       "1              2018.0     287946.0   \n",
       "2              2007.0     289906.0   \n",
       "3              2017.0     241546.0   \n",
       "4              2017.0     231377.0   \n",
       "\n",
       "                                              genres  \\\n",
       "0              ['neo mellow', 'uk pop', 'viral pop']   \n",
       "1                ['modern hard rock', 'post-grunge']   \n",
       "2  ['neo mellow', 'permanent wave', 'pop rock', '...   \n",
       "3  ['indie anthem-folk', 'indie folk', 'modern in...   \n",
       "4              ['australian rock', 'permanent wave']   \n",
       "\n",
       "                                              lyrics  ...   key  loudness  \\\n",
       "0  Come on, skinny love, just last the year\\nPour...  ...   4.0    -8.487   \n",
       "1  Life is fleeting by the slow\\nIt chills us to ...  ...   8.0    -5.518   \n",
       "2  And I'd give up forever to touch you\\n'Cause I...  ...  11.0    -5.683   \n",
       "3                                                NaN  ...   9.0   -12.793   \n",
       "4  There is freedom within\\nThere is freedom with...  ...   8.0    -5.574   \n",
       "\n",
       "   mode  speechiness  acousticness  instrumentalness  liveness  valence  \\\n",
       "0   1.0       0.0513       0.95200          0.000996    0.1180    0.184   \n",
       "1   0.0       0.0518       0.00614          0.000003    0.3460    0.603   \n",
       "2   0.0       0.0363       0.00133          0.000006    0.0811    0.513   \n",
       "3   1.0       0.0454       0.41100          0.001070    0.0941    0.224   \n",
       "4   1.0       0.0404       0.04440          0.000259    0.1360    0.512   \n",
       "\n",
       "     tempo  time_signature  \n",
       "0  165.997             4.0  \n",
       "1  134.989             4.0  \n",
       "2  155.667             3.0  \n",
       "3  106.047             4.0  \n",
       "4   80.858             4.0  \n",
       "\n",
       "[5 rows x 23 columns]"
      ]
     },
     "execution_count": 15,
     "metadata": {},
     "output_type": "execute_result"
    }
   ],
   "source": [
    "df.head()"
   ]
  },
  {
   "cell_type": "code",
   "execution_count": null,
   "id": "16b0fbfc-cbd4-4707-a250-c953e892617c",
   "metadata": {},
   "outputs": [],
   "source": []
  }
 ],
 "metadata": {
  "kernelspec": {
   "display_name": "Python 3 (ipykernel)",
   "language": "python",
   "name": "python3"
  },
  "language_info": {
   "codemirror_mode": {
    "name": "ipython",
    "version": 3
   },
   "file_extension": ".py",
   "mimetype": "text/x-python",
   "name": "python",
   "nbconvert_exporter": "python",
   "pygments_lexer": "ipython3",
   "version": "3.10.12"
  }
 },
 "nbformat": 4,
 "nbformat_minor": 5
}
