{
 "cells": [
  {
   "cell_type": "code",
   "execution_count": 103,
   "id": "50a76544-c6e1-4d92-ba96-da1e6c07b9d2",
   "metadata": {},
   "outputs": [
    {
     "name": "stdout",
     "output_type": "stream",
     "text": [
      "The autoreload extension is already loaded. To reload it, use:\n",
      "  %reload_ext autoreload\n"
     ]
    }
   ],
   "source": [
    "%load_ext autoreload\n",
    "%autoreload 2"
   ]
  },
  {
   "cell_type": "code",
   "execution_count": 298,
   "id": "3aac368b-0904-4021-afa9-e5c9d9202bb0",
   "metadata": {},
   "outputs": [],
   "source": [
    "from classes.song import Song\n",
    "from classes.playlist import Playlist\n",
    "from classes.spotify_manager import SpotifyManager\n",
    "from classes.lyrics_manager import LyricsManager\n",
    "from dotenv import load_dotenv\n",
    "from classes.utils import gather_data_from_folders\n",
    "import pandas as pd\n",
    "import os\n",
    "import seaborn as sns\n",
    "\n",
    "load_dotenv();"
   ]
  },
  {
   "cell_type": "code",
   "execution_count": 105,
   "id": "84318926-b30c-4e89-bd00-15cb863ec16d",
   "metadata": {},
   "outputs": [
    {
     "name": "stdout",
     "output_type": "stream",
     "text": [
      "\u001b[1;32mINFO: Found playlist: final download 2 with 1500 tracks.\u001b[0m\n"
     ]
    },
    {
     "data": {
      "application/vnd.jupyter.widget-view+json": {
       "model_id": "f07da30fb1d94f7389d02b9423d90d05",
       "version_major": 2,
       "version_minor": 0
      },
      "text/plain": [
       "Processing Songs:   0%|          | 0/1500 [00:00<?, ?song/s]"
      ]
     },
     "metadata": {},
     "output_type": "display_data"
    },
    {
     "name": "stdout",
     "output_type": "stream",
     "text": [
      "\u001b[1;32mINFO: Processing song: til you're home - acoustic mix\u001b[0m\n",
      "\u001b[1;32mINFO: Downloading song: til you're home - acoustic mix\u001b[0m\n",
      "                                                         \r"
     ]
    },
    {
     "name": "stderr",
     "output_type": "stream",
     "text": [
      "\u001b[1;33mWARNING: Lyrics not found for 'til you're home' by david hodges using all available providers.\u001b[0m\n"
     ]
    },
    {
     "name": "stdout",
     "output_type": "stream",
     "text": [
      "\u001b[1;32mINFO: Successfully processed and saved song: til you're home - acoustic mix\u001b[0m\n",
      "\u001b[1;32mINFO: Processing song: tropic love\u001b[0m\n",
      "\u001b[1;32mINFO: Downloading song: tropic love\u001b[0m\n",
      "                                                           \r"
     ]
    },
    {
     "name": "stderr",
     "output_type": "stream",
     "text": [
      "\u001b[1;33mWARNING: Lyrics not found for 'tropic love' by contacreast using all available providers.\u001b[0m\n"
     ]
    },
    {
     "name": "stdout",
     "output_type": "stream",
     "text": [
      "\u001b[1;32mINFO: Successfully processed and saved song: tropic love\u001b[0m\n",
      "\u001b[1;32mINFO: Processing song: why we lose\u001b[0m\n",
      "\u001b[1;32mINFO: Downloading song: why we lose\u001b[0m\n",
      "\u001b[1;32mINFO: Successfully processed and saved song: why we lose\u001b[0m\n",
      "\u001b[1;32mINFO: Processing song: heroes tonight\u001b[0m\n",
      "\u001b[1;32mINFO: Downloading song: heroes tonight\u001b[0m\n",
      "\u001b[1;32mINFO: Successfully processed and saved song: heroes tonight\u001b[0m\n",
      "\u001b[1;32mINFO: Processing song: lighters\u001b[0m\n",
      "\u001b[1;32mINFO: Downloading song: lighters\u001b[0m\n",
      "\u001b[1;32mINFO: Successfully processed and saved song: lighters\u001b[0m\n",
      "\u001b[1;32mINFO: Processing song: lose control\u001b[0m\n",
      "\u001b[1;32mINFO: Downloading song: lose control\u001b[0m\n",
      "\u001b[1;32mINFO: Successfully processed and saved song: lose control\u001b[0m\n",
      "\u001b[1;32mINFO: Processing song: for cryin' out loud!\u001b[0m\n",
      "\u001b[1;32mINFO: Downloading song: for cryin' out loud!\u001b[0m\n",
      "\u001b[1;32mINFO: Successfully processed and saved song: for cryin' out loud!\u001b[0m\n",
      "\u001b[1;32mINFO: Processing song: fade away\u001b[0m\n",
      "\u001b[1;32mINFO: Downloading song: fade away\u001b[0m\n",
      "                                                           \r"
     ]
    },
    {
     "name": "stderr",
     "output_type": "stream",
     "text": [
      "\u001b[1;33mWARNING: Lyrics not found for 'fade away' by love ghost using all available providers.\u001b[0m\n"
     ]
    },
    {
     "name": "stdout",
     "output_type": "stream",
     "text": [
      "\u001b[1;32mINFO: Successfully processed and saved song: fade away\u001b[0m\n",
      "\u001b[1;32mINFO: Processing song: don't say a thing\u001b[0m\n",
      "\u001b[1;32mINFO: Downloading song: don't say a thing\u001b[0m\n",
      "                                                         \r"
     ]
    },
    {
     "name": "stderr",
     "output_type": "stream",
     "text": [
      "\u001b[1;33mWARNING: Lyrics not found for 'don't say a thing' by charlie chronopoulos using all available providers.\u001b[0m\n"
     ]
    },
    {
     "name": "stdout",
     "output_type": "stream",
     "text": [
      "\u001b[1;32mINFO: Successfully processed and saved song: don't say a thing\u001b[0m\n",
      "\u001b[1;32mINFO: Processing song: popular monster\u001b[0m\n",
      "\u001b[1;32mINFO: Downloading song: popular monster\u001b[0m\n",
      "\u001b[1;32mINFO: Successfully processed and saved song: popular monster\u001b[0m\n",
      "\u001b[1;32mINFO: Processing song: asereje (airplane mode)\u001b[0m\n",
      "\u001b[1;32mINFO: Downloading song: asereje (airplane mode)\u001b[0m\n",
      "                                                           \r"
     ]
    },
    {
     "name": "stderr",
     "output_type": "stream",
     "text": [
      "\u001b[1;33mWARNING: Lyrics not found for 'asereje' by blanka using all available providers.\u001b[0m\n"
     ]
    },
    {
     "name": "stdout",
     "output_type": "stream",
     "text": [
      "\u001b[1;32mINFO: Successfully processed and saved song: asereje (airplane mode)\u001b[0m\n",
      "\u001b[1;32mINFO: Processing song: angelic\u001b[0m\n",
      "\u001b[1;32mINFO: Downloading song: angelic\u001b[0m\n",
      "                                                         \r"
     ]
    },
    {
     "name": "stderr",
     "output_type": "stream",
     "text": [
      "\u001b[1;33mWARNING: Lyrics not found for 'angelic' by love ghost using all available providers.\u001b[0m\n"
     ]
    },
    {
     "name": "stdout",
     "output_type": "stream",
     "text": [
      "\u001b[1;32mINFO: Successfully processed and saved song: angelic\u001b[0m\n",
      "\u001b[1;32mINFO: Processing song: say it right\u001b[0m\n",
      "\u001b[1;32mINFO: Downloading song: say it right\u001b[0m\n",
      "\u001b[1;32mINFO: Successfully processed and saved song: say it right\u001b[0m\n",
      "\u001b[1;32mINFO: Processing song: beautiful things - acoustic\u001b[0m\n",
      "\u001b[1;32mINFO: Downloading song: beautiful things - acoustic\u001b[0m\n",
      "\u001b[1;32mINFO: Successfully processed and saved song: beautiful things - acoustic\u001b[0m\n",
      "\u001b[1;32mINFO: Processing song: space\u001b[0m\n",
      "\u001b[1;32mINFO: Downloading song: space\u001b[0m\n",
      "                                                           \r"
     ]
    },
    {
     "name": "stderr",
     "output_type": "stream",
     "text": [
      "\u001b[1;33mWARNING: Lyrics not found for 'space' by miles wesley using all available providers.\u001b[0m\n"
     ]
    },
    {
     "name": "stdout",
     "output_type": "stream",
     "text": [
      "\u001b[1;32mINFO: Successfully processed and saved song: space\u001b[0m\n",
      "\u001b[1;32mINFO: Processing song: golden shore\u001b[0m\n",
      "\u001b[1;32mINFO: Downloading song: golden shore\u001b[0m\n",
      "\u001b[1;32mINFO: Successfully processed and saved song: golden shore\u001b[0m\n",
      "\u001b[1;32mINFO: Processing song: not enough\u001b[0m\n",
      "\u001b[1;32mINFO: Downloading song: not enough\u001b[0m\n",
      "                                                         \r"
     ]
    },
    {
     "name": "stderr",
     "output_type": "stream",
     "text": [
      "\u001b[1;33mWARNING: Lyrics not found for 'not enough' by eon zero using all available providers.\u001b[0m\n"
     ]
    },
    {
     "name": "stdout",
     "output_type": "stream",
     "text": [
      "\u001b[1;32mINFO: Successfully processed and saved song: not enough\u001b[0m\n",
      "\u001b[1;32mINFO: Processing song: sea of time\u001b[0m\n",
      "\u001b[1;32mINFO: Downloading song: sea of time\u001b[0m\n",
      "                                                         \r"
     ]
    },
    {
     "name": "stderr",
     "output_type": "stream",
     "text": [
      "\u001b[1;33mWARNING: Lyrics not found for 'sea of time' by rasmus fynbo using all available providers.\u001b[0m\n"
     ]
    },
    {
     "name": "stdout",
     "output_type": "stream",
     "text": [
      "\u001b[1;32mINFO: Successfully processed and saved song: sea of time\u001b[0m\n",
      "\u001b[1;32mINFO: Processing song: myself\u001b[0m\n",
      "\u001b[1;32mINFO: Downloading song: myself\u001b[0m\n",
      "                                                         \r"
     ]
    },
    {
     "name": "stderr",
     "output_type": "stream",
     "text": [
      "\u001b[1;33mWARNING: Lyrics not found for 'myself' by ben kai using all available providers.\u001b[0m\n"
     ]
    },
    {
     "name": "stdout",
     "output_type": "stream",
     "text": [
      "\u001b[1;32mINFO: Successfully processed and saved song: myself\u001b[0m\n",
      "\u001b[1;32mINFO: Processing song: hurt locker\u001b[0m\n",
      "\u001b[1;32mINFO: Downloading song: hurt locker\u001b[0m\n",
      "\u001b[1;32mINFO: Successfully processed and saved song: hurt locker\u001b[0m\n",
      "\u001b[1;32mINFO: Processing song: around my neck\u001b[0m\n",
      "\u001b[1;32mINFO: Downloading song: around my neck\u001b[0m\n",
      "\u001b[1;32mINFO: Successfully processed and saved song: around my neck\u001b[0m\n",
      "\u001b[1;32mINFO: Processing song: mary on a cross - slowed + reverb\u001b[0m\n",
      "\u001b[1;32mINFO: Downloading song: mary on a cross - slowed + reverb\u001b[0m\n",
      "\u001b[1;32mINFO: Successfully processed and saved song: mary on a cross - slowed + reverb\u001b[0m\n",
      "\u001b[1;32mINFO: Processing song: acantilado\u001b[0m\n",
      "\u001b[1;32mINFO: Downloading song: acantilado\u001b[0m\n",
      "\u001b[1;32mINFO: Successfully processed and saved song: acantilado\u001b[0m\n",
      "\u001b[1;32mINFO: Processing song: heather\u001b[0m\n",
      "\u001b[1;32mINFO: Downloading song: heather\u001b[0m\n",
      "\u001b[1;32mINFO: Successfully processed and saved song: heather\u001b[0m\n",
      "\u001b[1;32mINFO: Processing song: decode\u001b[0m\n",
      "\u001b[1;32mINFO: Downloading song: decode\u001b[0m\n",
      "\u001b[1;32mINFO: Successfully processed and saved song: decode\u001b[0m\n",
      "\u001b[1;32mINFO: Processing song: all i wanted\u001b[0m\n",
      "\u001b[1;32mINFO: Downloading song: all i wanted\u001b[0m\n",
      "\u001b[1;32mINFO: Successfully processed and saved song: all i wanted\u001b[0m\n",
      "\u001b[1;32mINFO: Processing song: let her go - anniversary edition\u001b[0m\n",
      "\u001b[1;32mINFO: Downloading song: let her go - anniversary edition\u001b[0m\n",
      "\u001b[1;32mINFO: Successfully processed and saved song: let her go - anniversary edition\u001b[0m\n",
      "\u001b[1;32mINFO: Processing song: that's why\u001b[0m\n",
      "\u001b[1;32mINFO: Downloading song: that's why\u001b[0m\n",
      "                                                         \r"
     ]
    },
    {
     "name": "stderr",
     "output_type": "stream",
     "text": [
      "\u001b[1;33mWARNING: Lyrics not found for 'that's why' by troy cartwright using all available providers.\u001b[0m\n"
     ]
    },
    {
     "name": "stdout",
     "output_type": "stream",
     "text": [
      "\u001b[1;32mINFO: Successfully processed and saved song: that's why\u001b[0m\n",
      "\u001b[1;32mINFO: Processing song: don't you worry child\u001b[0m\n",
      "\u001b[1;32mINFO: Downloading song: don't you worry child\u001b[0m\n",
      "                                                         \r"
     ]
    },
    {
     "name": "stderr",
     "output_type": "stream",
     "text": [
      "\u001b[1;33mWARNING: Lyrics not found for 'don't you worry child' by city sessions using all available providers.\u001b[0m\n"
     ]
    },
    {
     "name": "stdout",
     "output_type": "stream",
     "text": [
      "\u001b[1;32mINFO: Successfully processed and saved song: don't you worry child\u001b[0m\n",
      "\u001b[1;32mINFO: Processing song: i remember everything (feat. kacey musgraves)\u001b[0m\n",
      "\u001b[1;32mINFO: Downloading song: i remember everything (feat. kacey musgraves)\u001b[0m\n",
      "\u001b[1;32mINFO: Successfully processed and saved song: i remember everything (feat. kacey musgraves)\u001b[0m\n",
      "\u001b[1;32mINFO: Processing song: baby blue - remastered 2010\u001b[0m\n",
      "\u001b[1;32mINFO: Downloading song: baby blue - remastered 2010\u001b[0m\n",
      "\u001b[1;32mINFO: Successfully processed and saved song: baby blue - remastered 2010\u001b[0m\n",
      "\u001b[1;32mINFO: Processing song: demons - live in vegas\u001b[0m\n",
      "\u001b[1;32mINFO: Downloading song: demons - live in vegas\u001b[0m\n",
      "\u001b[1;32mINFO: Successfully processed and saved song: demons - live in vegas\u001b[0m\n",
      "\u001b[1;32mINFO: Processing song: little do you know beat cry\u001b[0m\n",
      "\u001b[1;32mINFO: Downloading song: little do you know beat cry\u001b[0m\n",
      "                                                           \r"
     ]
    },
    {
     "name": "stderr",
     "output_type": "stream",
     "text": [
      "\u001b[1;33mWARNING: Lyrics not found for 'little do you know beat cry' by yagih mael using all available providers.\u001b[0m\n"
     ]
    },
    {
     "name": "stdout",
     "output_type": "stream",
     "text": [
      "\u001b[1;32mINFO: Successfully processed and saved song: little do you know beat cry\u001b[0m\n",
      "\u001b[1;32mINFO: Processing song: i miss your warm hands\u001b[0m\n",
      "\u001b[1;32mINFO: Downloading song: i miss your warm hands\u001b[0m\n",
      "                                                         \r"
     ]
    },
    {
     "name": "stderr",
     "output_type": "stream",
     "text": [
      "\u001b[1;33mWARNING: Lyrics not found for 'i miss your warm hands' by i don't like mirrors using all available providers.\u001b[0m\n"
     ]
    },
    {
     "name": "stdout",
     "output_type": "stream",
     "text": [
      "\u001b[1;32mINFO: Successfully processed and saved song: i miss your warm hands\u001b[0m\n",
      "\u001b[1;32mINFO: Processing song: past lives\u001b[0m\n",
      "\u001b[1;32mINFO: Downloading song: past lives\u001b[0m\n",
      "\u001b[1;32mINFO: Successfully processed and saved song: past lives\u001b[0m\n",
      "\u001b[1;32mINFO: Processing song: did you/fall apart\u001b[0m\n",
      "\u001b[1;32mINFO: Downloading song: did you/fall apart\u001b[0m\n"
     ]
    },
    {
     "name": "stderr",
     "output_type": "stream",
     "text": [
      "\u001b[1;31mERROR: There was an error processing song: did you/fall apart by prateek kuhad: [Errno 2] No such file or directory: '/home/krystian/Python/Jupyter-projects/thesis/songs_analysis/playlists/final download 2/did you/fall apart.jpg'\u001b[0m\n"
     ]
    },
    {
     "name": "stdout",
     "output_type": "stream",
     "text": [
      "\u001b[1;32mINFO: Processing song: unchained melody - from \"ghost\"\u001b[0m\n",
      "\u001b[1;32mINFO: Downloading song: unchained melody - from \"ghost\"\u001b[0m\n",
      "                                                         \r"
     ]
    },
    {
     "name": "stderr",
     "output_type": "stream",
     "text": [
      "\u001b[1;33mWARNING: Lyrics not found for 'unchained melody' by the city of prague philharmonic orchestra using all available providers.\u001b[0m\n"
     ]
    },
    {
     "name": "stdout",
     "output_type": "stream",
     "text": [
      "\u001b[1;32mINFO: Successfully processed and saved song: unchained melody - from \"ghost\"\u001b[0m\n",
      "\u001b[1;32mINFO: Processing song: sztuka latania\u001b[0m\n",
      "\u001b[1;32mINFO: Downloading song: sztuka latania\u001b[0m\n",
      "\u001b[1;32mINFO: Successfully processed and saved song: sztuka latania\u001b[0m\n",
      "\u001b[1;32mINFO: Processing song: środa czwartek\u001b[0m\n",
      "\u001b[1;32mINFO: Downloading song: środa czwartek\u001b[0m\n",
      "\u001b[1;32mINFO: Successfully processed and saved song: środa czwartek\u001b[0m\n",
      "\u001b[1;32mINFO: Processing song: dancin (feat. luvli) - krono remix\u001b[0m\n",
      "\u001b[1;32mINFO: Downloading song: dancin (feat. luvli) - krono remix\u001b[0m\n",
      "\u001b[1;32mINFO: Successfully processed and saved song: dancin (feat. luvli) - krono remix\u001b[0m\n",
      "\u001b[1;32mINFO: Processing song: need you now\u001b[0m\n",
      "\u001b[1;32mINFO: Downloading song: need you now\u001b[0m\n",
      "\u001b[1;32mINFO: Successfully processed and saved song: need you now\u001b[0m\n",
      "\u001b[1;32mINFO: Processing song: to build a home\u001b[0m\n",
      "\u001b[1;32mINFO: Downloading song: to build a home\u001b[0m\n",
      "\u001b[1;32mINFO: Successfully processed and saved song: to build a home\u001b[0m\n",
      "\u001b[1;32mINFO: Processing song: a storytime for bed\u001b[0m\n",
      "\u001b[1;32mINFO: Downloading song: a storytime for bed\u001b[0m\n",
      "                                                         \r"
     ]
    },
    {
     "name": "stderr",
     "output_type": "stream",
     "text": [
      "\u001b[1;33mWARNING: Lyrics not found for 'a storytime for bed' by josiah maccartney using all available providers.\u001b[0m\n"
     ]
    },
    {
     "name": "stdout",
     "output_type": "stream",
     "text": [
      "\u001b[1;32mINFO: Successfully processed and saved song: a storytime for bed\u001b[0m\n",
      "\u001b[1;32mINFO: Processing song: go solo (feat. tom rosenthal)\u001b[0m\n",
      "\u001b[1;32mINFO: Downloading song: go solo (feat. tom rosenthal)\u001b[0m\n",
      "\u001b[1;32mINFO: Successfully processed and saved song: go solo (feat. tom rosenthal)\u001b[0m\n",
      "\u001b[1;32mINFO: Processing song: surrender\u001b[0m\n",
      "\u001b[1;32mINFO: Downloading song: surrender\u001b[0m\n",
      "\u001b[1;32mINFO: Successfully processed and saved song: surrender\u001b[0m\n",
      "\u001b[1;32mINFO: Processing song: abstract (psychopomp)\u001b[0m\n",
      "\u001b[1;32mINFO: Downloading song: abstract (psychopomp)\u001b[0m\n",
      "\u001b[1;32mINFO: Successfully processed and saved song: abstract (psychopomp)\u001b[0m\n",
      "\u001b[1;32mINFO: Processing song: soñé - en vivo\u001b[0m\n",
      "\u001b[1;32mINFO: Downloading song: soñé - en vivo\u001b[0m\n",
      "\u001b[1;32mINFO: Successfully processed and saved song: soñé - en vivo\u001b[0m\n",
      "\u001b[1;32mINFO: Processing song: will anybody ever love me?\u001b[0m\n",
      "\u001b[1;32mINFO: Downloading song: will anybody ever love me?\u001b[0m\n",
      "\u001b[1;32mINFO: Successfully processed and saved song: will anybody ever love me?\u001b[0m\n",
      "\u001b[1;32mINFO: Processing song: i only want to be with you\u001b[0m\n",
      "\u001b[1;32mINFO: Downloading song: i only want to be with you\u001b[0m\n",
      "\u001b[1;32mINFO: Successfully processed and saved song: i only want to be with you\u001b[0m\n",
      "\u001b[1;32mINFO: Processing song: call of silence - clear sky remix\u001b[0m\n",
      "\u001b[1;32mINFO: Downloading song: call of silence - clear sky remix\u001b[0m\n",
      "                                                         \r"
     ]
    },
    {
     "name": "stderr",
     "output_type": "stream",
     "text": [
      "\u001b[1;33mWARNING: Lyrics not found for 'call of silence' by clear sky using all available providers.\u001b[0m\n"
     ]
    },
    {
     "name": "stdout",
     "output_type": "stream",
     "text": [
      "\u001b[1;32mINFO: Successfully processed and saved song: call of silence - clear sky remix\u001b[0m\n",
      "\u001b[1;32mINFO: Processing song: the feels\u001b[0m\n",
      "\u001b[1;32mINFO: Downloading song: the feels\u001b[0m\n",
      "\u001b[1;32mINFO: Successfully processed and saved song: the feels\u001b[0m\n",
      "\u001b[1;32mINFO: Processing song: about you\u001b[0m\n",
      "\u001b[1;32mINFO: Downloading song: about you\u001b[0m\n",
      "\u001b[1;32mINFO: Successfully processed and saved song: about you\u001b[0m\n",
      "\u001b[1;32mINFO: Processing song: the less i know the better\u001b[0m\n",
      "\u001b[1;32mINFO: Downloading song: the less i know the better\u001b[0m\n",
      "\u001b[1;32mINFO: Successfully processed and saved song: the less i know the better\u001b[0m\n",
      "\u001b[1;32mINFO: Processing song: my demons\u001b[0m\n",
      "\u001b[1;32mINFO: Downloading song: my demons\u001b[0m\n",
      "\u001b[1;32mINFO: Successfully processed and saved song: my demons\u001b[0m\n",
      "\u001b[1;32mINFO: Processing song: ruthless\u001b[0m\n",
      "\u001b[1;32mINFO: Downloading song: ruthless\u001b[0m\n",
      "                                                         \r"
     ]
    },
    {
     "name": "stderr",
     "output_type": "stream",
     "text": [
      "\u001b[1;33mWARNING: Lyrics not found for 'ruthless' by neffex using all available providers.\u001b[0m\n"
     ]
    },
    {
     "name": "stdout",
     "output_type": "stream",
     "text": [
      "\u001b[1;32mINFO: Successfully processed and saved song: ruthless\u001b[0m\n",
      "\u001b[1;32mINFO: Processing song: strangers\u001b[0m\n",
      "\u001b[1;32mINFO: Downloading song: strangers\u001b[0m\n",
      "\u001b[1;32mINFO: Successfully processed and saved song: strangers\u001b[0m\n",
      "\u001b[1;32mINFO: Processing song: cursed\u001b[0m\n",
      "\u001b[1;32mINFO: Downloading song: cursed\u001b[0m\n",
      "                                                         \r"
     ]
    },
    {
     "name": "stderr",
     "output_type": "stream",
     "text": [
      "\u001b[1;33mWARNING: Lyrics not found for 'cursed' by wesghost using all available providers.\u001b[0m\n"
     ]
    },
    {
     "name": "stdout",
     "output_type": "stream",
     "text": [
      "\u001b[1;32mINFO: Successfully processed and saved song: cursed\u001b[0m\n",
      "\u001b[1;32mINFO: Processing song: labios compartidos\u001b[0m\n",
      "\u001b[1;32mINFO: Downloading song: labios compartidos\u001b[0m\n",
      "\u001b[1;32mINFO: Successfully processed and saved song: labios compartidos\u001b[0m\n",
      "\u001b[1;32mINFO: Processing song: girl i wish i didn't know\u001b[0m\n",
      "\u001b[1;32mINFO: Downloading song: girl i wish i didn't know\u001b[0m\n",
      "\u001b[1;32mINFO: Successfully processed and saved song: girl i wish i didn't know\u001b[0m\n",
      "\u001b[1;32mINFO: Processing song: moral of the story\u001b[0m\n",
      "\u001b[1;32mINFO: Downloading song: moral of the story\u001b[0m\n",
      "\u001b[1;32mINFO: Successfully processed and saved song: moral of the story\u001b[0m\n",
      "\u001b[1;32mINFO: Processing song: after the landslide\u001b[0m\n",
      "\u001b[1;32mINFO: Downloading song: after the landslide\u001b[0m\n",
      "\u001b[1;32mINFO: Successfully processed and saved song: after the landslide\u001b[0m\n",
      "\u001b[1;32mINFO: Processing song: cień w dolinie mgieł\u001b[0m\n",
      "\u001b[1;32mINFO: Downloading song: cień w dolinie mgieł\u001b[0m\n",
      "\u001b[1;32mINFO: Successfully processed and saved song: cień w dolinie mgieł\u001b[0m\n",
      "\u001b[1;32mINFO: Processing song: po drugiej stronie chmur\u001b[0m\n",
      "\u001b[1;32mINFO: Downloading song: po drugiej stronie chmur\u001b[0m\n",
      "\u001b[1;32mINFO: Successfully processed and saved song: po drugiej stronie chmur\u001b[0m\n",
      "\u001b[1;32mINFO: Processing song: papieros\u001b[0m\n",
      "\u001b[1;32mINFO: Downloading song: papieros\u001b[0m\n",
      "\u001b[1;32mINFO: Successfully processed and saved song: papieros\u001b[0m\n",
      "\u001b[1;32mINFO: Processing song: bede z toba - radio edit\u001b[0m\n",
      "\u001b[1;32mINFO: Downloading song: bede z toba - radio edit\u001b[0m\n",
      "\u001b[1;32mINFO: Successfully processed and saved song: bede z toba - radio edit\u001b[0m\n",
      "\u001b[1;32mINFO: Processing song: naiwne pytania - 2003 remaster\u001b[0m\n",
      "\u001b[1;32mINFO: Downloading song: naiwne pytania - 2003 remaster\u001b[0m\n",
      "                                                         \r"
     ]
    },
    {
     "name": "stderr",
     "output_type": "stream",
     "text": [
      "\u001b[1;33mWARNING: Lyrics not found for 'naiwne pytania' by dzem using all available providers.\u001b[0m\n"
     ]
    },
    {
     "name": "stdout",
     "output_type": "stream",
     "text": [
      "\u001b[1;32mINFO: Successfully processed and saved song: naiwne pytania - 2003 remaster\u001b[0m\n",
      "\u001b[1;32mINFO: Processing song: parę chwil\u001b[0m\n",
      "\u001b[1;32mINFO: Downloading song: parę chwil\u001b[0m\n",
      "\u001b[1;32mINFO: Successfully processed and saved song: parę chwil\u001b[0m\n",
      "\u001b[1;32mINFO: Processing song: ważne\u001b[0m\n",
      "\u001b[1;32mINFO: Downloading song: ważne\u001b[0m\n",
      "\u001b[1;32mINFO: Successfully processed and saved song: ważne\u001b[0m\n",
      "\u001b[1;32mINFO: Processing song: wymyśleni\u001b[0m\n",
      "\u001b[1;32mINFO: Downloading song: wymyśleni\u001b[0m\n",
      "                                                           \r"
     ]
    },
    {
     "name": "stderr",
     "output_type": "stream",
     "text": [
      "\u001b[1;33mWARNING: Lyrics not found for 'wymyśleni' by ira using all available providers.\u001b[0m\n"
     ]
    },
    {
     "name": "stdout",
     "output_type": "stream",
     "text": [
      "\u001b[1;32mINFO: Successfully processed and saved song: wymyśleni\u001b[0m\n",
      "\u001b[1;32mINFO: Processing song: love story\u001b[0m\n",
      "\u001b[1;32mINFO: Downloading song: love story\u001b[0m\n",
      "\u001b[1;32mINFO: Successfully processed and saved song: love story\u001b[0m\n",
      "\u001b[1;32mINFO: Processing song: miales byc\u001b[0m\n",
      "\u001b[1;32mINFO: Downloading song: miales byc\u001b[0m\n",
      "\u001b[1;32mINFO: Successfully processed and saved song: miales byc\u001b[0m\n",
      "\u001b[1;32mINFO: Processing song: wszystko jedno akustycznie\u001b[0m\n",
      "\u001b[1;32mINFO: Downloading song: wszystko jedno akustycznie\u001b[0m\n",
      "                                                         \r"
     ]
    },
    {
     "name": "stderr",
     "output_type": "stream",
     "text": [
      "\u001b[1;33mWARNING: Lyrics not found for 'wszystko jedno akustycznie' by video using all available providers.\u001b[0m\n"
     ]
    },
    {
     "name": "stdout",
     "output_type": "stream",
     "text": [
      "\u001b[1;32mINFO: Successfully processed and saved song: wszystko jedno akustycznie\u001b[0m\n",
      "\u001b[1;32mINFO: Processing song: miłość\u001b[0m\n",
      "\u001b[1;32mINFO: Downloading song: miłość\u001b[0m\n",
      "                                                           \r"
     ]
    },
    {
     "name": "stderr",
     "output_type": "stream",
     "text": [
      "\u001b[1;33mWARNING: Lyrics not found for 'miłość' by ira using all available providers.\u001b[0m\n"
     ]
    },
    {
     "name": "stdout",
     "output_type": "stream",
     "text": [
      "\u001b[1;32mINFO: Successfully processed and saved song: miłość\u001b[0m\n",
      "\u001b[1;32mINFO: Processing song: szczęśliwa\u001b[0m\n",
      "\u001b[1;32mINFO: Downloading song: szczęśliwa\u001b[0m\n",
      "\u001b[1;32mINFO: Successfully processed and saved song: szczęśliwa\u001b[0m\n",
      "\u001b[1;32mINFO: Processing song: feather\u001b[0m\n",
      "\u001b[1;32mINFO: Downloading song: feather\u001b[0m\n",
      "\u001b[1;32mINFO: Successfully processed and saved song: feather\u001b[0m\n",
      "\u001b[1;32mINFO: Processing song: to co masz ty!\u001b[0m\n",
      "\u001b[1;32mINFO: Downloading song: to co masz ty!\u001b[0m\n",
      "\u001b[1;32mINFO: Successfully processed and saved song: to co masz ty!\u001b[0m\n",
      "\u001b[1;32mINFO: Processing song: mockingbird\u001b[0m\n",
      "\u001b[1;32mINFO: Downloading song: mockingbird\u001b[0m\n",
      "\u001b[1;32mINFO: Successfully processed and saved song: mockingbird\u001b[0m\n",
      "\u001b[1;32mINFO: Processing song: zvvl\u001b[0m\n",
      "\u001b[1;32mINFO: Downloading song: zvvl\u001b[0m\n",
      "\u001b[1;32mINFO: Successfully processed and saved song: zvvl\u001b[0m\n",
      "\u001b[1;32mINFO: Processing song: dandelions - slowed + reverb\u001b[0m\n",
      "\u001b[1;32mINFO: Downloading song: dandelions - slowed + reverb\u001b[0m\n",
      "\u001b[1;32mINFO: Successfully processed and saved song: dandelions - slowed + reverb\u001b[0m\n",
      "\u001b[1;32mINFO: Processing song: your love\u001b[0m\n",
      "\u001b[1;32mINFO: Downloading song: your love\u001b[0m\n",
      "                                                           \r"
     ]
    },
    {
     "name": "stderr",
     "output_type": "stream",
     "text": [
      "\u001b[1;33mWARNING: Lyrics not found for 'your love' by renew and ruin using all available providers.\u001b[0m\n"
     ]
    },
    {
     "name": "stdout",
     "output_type": "stream",
     "text": [
      "\u001b[1;32mINFO: Successfully processed and saved song: your love\u001b[0m\n",
      "\u001b[1;32mINFO: Processing song: if not for you\u001b[0m\n",
      "\u001b[1;32mINFO: Downloading song: if not for you\u001b[0m\n",
      "\u001b[1;32mINFO: Successfully processed and saved song: if not for you\u001b[0m\n",
      "\u001b[1;32mINFO: Processing song: timezone\u001b[0m\n",
      "\u001b[1;32mINFO: Downloading song: timezone\u001b[0m\n",
      "\u001b[1;32mINFO: Successfully processed and saved song: timezone\u001b[0m\n",
      "\u001b[1;32mINFO: Processing song: beggin'\u001b[0m\n",
      "\u001b[1;32mINFO: Downloading song: beggin'\u001b[0m\n",
      "\u001b[1;32mINFO: Successfully processed and saved song: beggin'\u001b[0m\n",
      "\u001b[1;32mINFO: Processing song: baby said\u001b[0m\n",
      "\u001b[1;32mINFO: Downloading song: baby said\u001b[0m\n",
      "\u001b[1;32mINFO: Successfully processed and saved song: baby said\u001b[0m\n",
      "\u001b[1;32mINFO: Processing song: ti dedico il silenzio\u001b[0m\n",
      "\u001b[1;32mINFO: Downloading song: ti dedico il silenzio\u001b[0m\n",
      "\u001b[1;32mINFO: Successfully processed and saved song: ti dedico il silenzio\u001b[0m\n",
      "\u001b[1;32mINFO: Processing song: the only thing\u001b[0m\n",
      "\u001b[1;32mINFO: Downloading song: the only thing\u001b[0m\n",
      "\u001b[1;32mINFO: Successfully processed and saved song: the only thing\u001b[0m\n",
      "\u001b[1;32mINFO: Processing song: eat your young\u001b[0m\n",
      "\u001b[1;32mINFO: Downloading song: eat your young\u001b[0m\n",
      "\u001b[1;32mINFO: Successfully processed and saved song: eat your young\u001b[0m\n",
      "\u001b[1;32mINFO: Processing song: green\u001b[0m\n",
      "\u001b[1;32mINFO: Downloading song: green\u001b[0m\n",
      "                                                         \r"
     ]
    },
    {
     "name": "stderr",
     "output_type": "stream",
     "text": [
      "\u001b[1;33mWARNING: Lyrics not found for 'green' by cavetown using all available providers.\u001b[0m\n"
     ]
    },
    {
     "name": "stdout",
     "output_type": "stream",
     "text": [
      "\u001b[1;32mINFO: Successfully processed and saved song: green\u001b[0m\n",
      "\u001b[1;32mINFO: Processing song: gajumaru\u001b[0m\n",
      "\u001b[1;32mINFO: Downloading song: gajumaru\u001b[0m\n",
      "\u001b[1;32mINFO: Successfully processed and saved song: gajumaru\u001b[0m\n",
      "\u001b[1;32mINFO: Processing song: trustfall\u001b[0m\n",
      "\u001b[1;32mINFO: Downloading song: trustfall\u001b[0m\n",
      "\u001b[1;32mINFO: Successfully processed and saved song: trustfall\u001b[0m\n",
      "\u001b[1;32mINFO: Processing song: until valhalla\u001b[0m\n",
      "\u001b[1;32mINFO: Downloading song: until valhalla\u001b[0m\n",
      "                                                         \r"
     ]
    },
    {
     "name": "stderr",
     "output_type": "stream",
     "text": [
      "\u001b[1;33mWARNING: Lyrics not found for 'until valhalla' by kevin graham using all available providers.\u001b[0m\n"
     ]
    },
    {
     "name": "stdout",
     "output_type": "stream",
     "text": [
      "\u001b[1;32mINFO: Successfully processed and saved song: until valhalla\u001b[0m\n",
      "\u001b[1;32mINFO: Processing song: lionheart (fearless)\u001b[0m\n",
      "\u001b[1;32mINFO: Downloading song: lionheart (fearless)\u001b[0m\n",
      "                                                         \r"
     ]
    },
    {
     "name": "stderr",
     "output_type": "stream",
     "text": [
      "\u001b[1;33mWARNING: Lyrics not found for 'lionheart' by joel corry using all available providers.\u001b[0m\n"
     ]
    },
    {
     "name": "stdout",
     "output_type": "stream",
     "text": [
      "\u001b[1;32mINFO: Successfully processed and saved song: lionheart (fearless)\u001b[0m\n",
      "\u001b[1;32mINFO: Processing song: daylight\u001b[0m\n",
      "\u001b[1;32mINFO: Downloading song: daylight\u001b[0m\n",
      "\u001b[1;32mINFO: Successfully processed and saved song: daylight\u001b[0m\n",
      "\u001b[1;32mINFO: Processing song: where's my love\u001b[0m\n",
      "\u001b[1;32mINFO: Downloading song: where's my love\u001b[0m\n",
      "\u001b[1;32mINFO: Successfully processed and saved song: where's my love\u001b[0m\n",
      "\u001b[1;32mINFO: Processing song: matilda\u001b[0m\n",
      "\u001b[1;32mINFO: Downloading song: matilda\u001b[0m\n",
      "\u001b[1;32mINFO: Successfully processed and saved song: matilda\u001b[0m\n",
      "\u001b[1;32mINFO: Processing song: coping\u001b[0m\n",
      "\u001b[1;32mINFO: Downloading song: coping\u001b[0m\n",
      "\u001b[1;32mINFO: Successfully processed and saved song: coping\u001b[0m\n",
      "\u001b[1;32mINFO: Processing song: not easy\u001b[0m\n",
      "\u001b[1;32mINFO: Downloading song: not easy\u001b[0m\n",
      "\u001b[1;32mINFO: Successfully processed and saved song: not easy\u001b[0m\n",
      "\u001b[1;32mINFO: Processing song: fiołkowe pole\u001b[0m\n",
      "\u001b[1;32mINFO: Downloading song: fiołkowe pole\u001b[0m\n",
      "\u001b[1;32mINFO: Successfully processed and saved song: fiołkowe pole\u001b[0m\n",
      "\u001b[1;32mINFO: Processing song: gone\u001b[0m\n",
      "\u001b[1;32mINFO: Downloading song: gone\u001b[0m\n",
      "                                                           \r"
     ]
    },
    {
     "name": "stderr",
     "output_type": "stream",
     "text": [
      "\u001b[1;33mWARNING: Lyrics not found for 'gone' by blake rose using all available providers.\u001b[0m\n"
     ]
    },
    {
     "name": "stdout",
     "output_type": "stream",
     "text": [
      "\u001b[1;32mINFO: Successfully processed and saved song: gone\u001b[0m\n",
      "\u001b[1;32mINFO: Processing song: peter pan\u001b[0m\n",
      "\u001b[1;32mINFO: Downloading song: peter pan\u001b[0m\n",
      "\u001b[1;32mINFO: Successfully processed and saved song: peter pan\u001b[0m\n",
      "\u001b[1;32mINFO: Processing song: painkiller\u001b[0m\n",
      "\u001b[1;32mINFO: Downloading song: painkiller\u001b[0m\n",
      "\u001b[1;32mINFO: Successfully processed and saved song: painkiller\u001b[0m\n",
      "\u001b[1;32mINFO: Processing song: high hopes\u001b[0m\n",
      "\u001b[1;32mINFO: Downloading song: high hopes\u001b[0m\n",
      "                                                           \r"
     ]
    },
    {
     "name": "stderr",
     "output_type": "stream",
     "text": [
      "\u001b[1;33mWARNING: Lyrics not found for 'high hopes' by quails using all available providers.\u001b[0m\n"
     ]
    },
    {
     "name": "stdout",
     "output_type": "stream",
     "text": [
      "\u001b[1;32mINFO: Successfully processed and saved song: high hopes\u001b[0m\n",
      "\u001b[1;32mINFO: Processing song: nothing in common\u001b[0m\n",
      "\u001b[1;32mINFO: Downloading song: nothing in common\u001b[0m\n",
      "                                                         \r"
     ]
    },
    {
     "name": "stderr",
     "output_type": "stream",
     "text": [
      "\u001b[1;33mWARNING: Lyrics not found for 'nothing in common' by moti using all available providers.\u001b[0m\n"
     ]
    },
    {
     "name": "stdout",
     "output_type": "stream",
     "text": [
      "\u001b[1;32mINFO: Successfully processed and saved song: nothing in common\u001b[0m\n",
      "\u001b[1;32mINFO: Processing song: blue (da ba dee)\u001b[0m\n",
      "\u001b[1;32mINFO: Downloading song: blue (da ba dee)\u001b[0m\n",
      "                                                         \r"
     ]
    },
    {
     "name": "stderr",
     "output_type": "stream",
     "text": [
      "\u001b[1;33mWARNING: Lyrics not found for 'blue' by lovinc using all available providers.\u001b[0m\n"
     ]
    },
    {
     "name": "stdout",
     "output_type": "stream",
     "text": [
      "\u001b[1;32mINFO: Successfully processed and saved song: blue (da ba dee)\u001b[0m\n",
      "\u001b[1;32mINFO: Processing song: same sun\u001b[0m\n",
      "\u001b[1;32mINFO: Downloading song: same sun\u001b[0m\n",
      "\u001b[1;32mINFO: Successfully processed and saved song: same sun\u001b[0m\n",
      "\u001b[1;32mINFO: Processing song: don’t forget\u001b[0m\n",
      "\u001b[1;32mINFO: Downloading song: don’t forget\u001b[0m\n",
      "                                                           \r"
     ]
    },
    {
     "name": "stderr",
     "output_type": "stream",
     "text": [
      "\u001b[1;33mWARNING: Lyrics not found for 'don’t forget' by the magic mumble jumble using all available providers.\u001b[0m\n"
     ]
    },
    {
     "name": "stdout",
     "output_type": "stream",
     "text": [
      "\u001b[1;32mINFO: Successfully processed and saved song: don’t forget\u001b[0m\n",
      "\u001b[1;32mINFO: Processing song: star walkin' (league of legends worlds anthem)\u001b[0m\n",
      "\u001b[1;32mINFO: Downloading song: star walkin' (league of legends worlds anthem)\u001b[0m\n",
      "\u001b[1;32mINFO: Successfully processed and saved song: star walkin' (league of legends worlds anthem)\u001b[0m\n",
      "\u001b[1;32mINFO: Processing song: hesitate\u001b[0m\n",
      "\u001b[1;32mINFO: Downloading song: hesitate\u001b[0m\n",
      "                                                         \r"
     ]
    },
    {
     "name": "stderr",
     "output_type": "stream",
     "text": [
      "\u001b[1;33mWARNING: Lyrics not found for 'hesitate' by maniba using all available providers.\u001b[0m\n"
     ]
    },
    {
     "name": "stdout",
     "output_type": "stream",
     "text": [
      "\u001b[1;32mINFO: Successfully processed and saved song: hesitate\u001b[0m\n",
      "\u001b[1;32mINFO: Processing song: wat wil je van mij\u001b[0m\n",
      "\u001b[1;32mINFO: Downloading song: wat wil je van mij\u001b[0m\n",
      "\u001b[1;32mINFO: Successfully processed and saved song: wat wil je van mij\u001b[0m\n",
      "\u001b[1;32mINFO: Processing song: adam, check please\u001b[0m\n",
      "\u001b[1;32mINFO: Downloading song: adam, check please\u001b[0m\n",
      "\u001b[1;32mINFO: Successfully processed and saved song: adam, check please\u001b[0m\n",
      "\u001b[1;32mINFO: Processing song: broken love\u001b[0m\n",
      "\u001b[1;32mINFO: Downloading song: broken love\u001b[0m\n",
      "                                                         \r"
     ]
    },
    {
     "name": "stderr",
     "output_type": "stream",
     "text": [
      "\u001b[1;33mWARNING: Lyrics not found for 'broken love' by vivien scotson using all available providers.\u001b[0m\n"
     ]
    },
    {
     "name": "stdout",
     "output_type": "stream",
     "text": [
      "\u001b[1;32mINFO: Successfully processed and saved song: broken love\u001b[0m\n",
      "\u001b[1;32mINFO: Processing song: whenever, wherever\u001b[0m\n",
      "\u001b[1;32mINFO: Downloading song: whenever, wherever\u001b[0m\n",
      "\u001b[1;32mINFO: Successfully processed and saved song: whenever, wherever\u001b[0m\n",
      "\u001b[1;32mINFO: Processing song: can i get it\u001b[0m\n",
      "\u001b[1;32mINFO: Downloading song: can i get it\u001b[0m\n",
      "\u001b[1;32mINFO: Successfully processed and saved song: can i get it\u001b[0m\n",
      "\u001b[1;32mINFO: Processing song: noodgeval\u001b[0m\n",
      "\u001b[1;32mINFO: Downloading song: noodgeval\u001b[0m\n",
      "\u001b[1;32mINFO: Successfully processed and saved song: noodgeval\u001b[0m\n",
      "\u001b[1;32mINFO: Processing song: time bomb\u001b[0m\n",
      "\u001b[1;32mINFO: Downloading song: time bomb\u001b[0m\n",
      "                                                         \r"
     ]
    },
    {
     "name": "stderr",
     "output_type": "stream",
     "text": [
      "\u001b[1;33mWARNING: Lyrics not found for 'time bomb' by the chainsmokers using all available providers.\u001b[0m\n"
     ]
    },
    {
     "name": "stdout",
     "output_type": "stream",
     "text": [
      "\u001b[1;32mINFO: Successfully processed and saved song: time bomb\u001b[0m\n",
      "\u001b[1;32mINFO: Processing song: love myself\u001b[0m\n",
      "\u001b[1;32mINFO: Downloading song: love myself\u001b[0m\n",
      "                                                         \r"
     ]
    },
    {
     "name": "stderr",
     "output_type": "stream",
     "text": [
      "\u001b[1;33mWARNING: Lyrics not found for 'love myself' by rondé using all available providers.\u001b[0m\n"
     ]
    },
    {
     "name": "stdout",
     "output_type": "stream",
     "text": [
      "\u001b[1;32mINFO: Successfully processed and saved song: love myself\u001b[0m\n",
      "\u001b[1;32mINFO: Processing song: jedwab\u001b[0m\n",
      "\u001b[1;32mINFO: Downloading song: jedwab\u001b[0m\n",
      "\u001b[1;32mINFO: Successfully processed and saved song: jedwab\u001b[0m\n",
      "\u001b[1;32mINFO: Processing song: tylko z tobą chcę być sobą\u001b[0m\n",
      "\u001b[1;32mINFO: Downloading song: tylko z tobą chcę być sobą\u001b[0m\n",
      "                                                         \r"
     ]
    },
    {
     "name": "stderr",
     "output_type": "stream",
     "text": [
      "\u001b[1;33mWARNING: Lyrics not found for 'tylko z tobą chcę być sobą' by łukasz zagrobelny using all available providers.\u001b[0m\n"
     ]
    },
    {
     "name": "stdout",
     "output_type": "stream",
     "text": [
      "\u001b[1;32mINFO: Successfully processed and saved song: tylko z tobą chcę być sobą\u001b[0m\n",
      "\u001b[1;32mINFO: Processing song: silacz\u001b[0m\n",
      "\u001b[1;32mINFO: Downloading song: silacz\u001b[0m\n",
      "\u001b[1;32mINFO: Successfully processed and saved song: silacz\u001b[0m\n",
      "\u001b[1;32mINFO: Processing song: talk to me\u001b[0m\n",
      "\u001b[1;32mINFO: Downloading song: talk to me\u001b[0m\n",
      "\u001b[1;32mINFO: Successfully processed and saved song: talk to me\u001b[0m\n",
      "\u001b[1;32mINFO: Processing song: pointless\u001b[0m\n",
      "\u001b[1;32mINFO: Downloading song: pointless\u001b[0m\n",
      "\u001b[1;32mINFO: Successfully processed and saved song: pointless\u001b[0m\n",
      "\u001b[1;32mINFO: Processing song: follow you\u001b[0m\n",
      "\u001b[1;32mINFO: Downloading song: follow you\u001b[0m\n",
      "\u001b[1;32mINFO: Successfully processed and saved song: follow you\u001b[0m\n",
      "\u001b[1;32mINFO: Processing song: sex, drugs, etc. - stripped down\u001b[0m\n",
      "\u001b[1;32mINFO: Downloading song: sex, drugs, etc. - stripped down\u001b[0m\n",
      "\u001b[1;32mINFO: Successfully processed and saved song: sex, drugs, etc. - stripped down\u001b[0m\n",
      "\u001b[1;32mINFO: Processing song: sofia\u001b[0m\n",
      "\u001b[1;32mINFO: Downloading song: sofia\u001b[0m\n",
      "\u001b[1;32mINFO: Successfully processed and saved song: sofia\u001b[0m\n",
      "\u001b[1;32mINFO: Processing song: the loneliest\u001b[0m\n",
      "\u001b[1;32mINFO: Downloading song: the loneliest\u001b[0m\n",
      "\u001b[1;32mINFO: Successfully processed and saved song: the loneliest\u001b[0m\n",
      "\u001b[1;32mINFO: Processing song: cupid\u001b[0m\n",
      "\u001b[1;32mINFO: Downloading song: cupid\u001b[0m\n",
      "                                                         \r"
     ]
    },
    {
     "name": "stderr",
     "output_type": "stream",
     "text": [
      "\u001b[1;33mWARNING: Lyrics not found for 'cupid' by jack stauber's micropop using all available providers.\u001b[0m\n"
     ]
    },
    {
     "name": "stdout",
     "output_type": "stream",
     "text": [
      "\u001b[1;32mINFO: Successfully processed and saved song: cupid\u001b[0m\n",
      "\u001b[1;32mINFO: Processing song: primadonna\u001b[0m\n",
      "\u001b[1;32mINFO: Downloading song: primadonna\u001b[0m\n",
      "\u001b[1;32mINFO: Successfully processed and saved song: primadonna\u001b[0m\n",
      "\u001b[1;32mINFO: Processing song: lo malo de ser bueno\u001b[0m\n",
      "\u001b[1;32mINFO: Downloading song: lo malo de ser bueno\u001b[0m\n",
      "\u001b[1;32mINFO: Successfully processed and saved song: lo malo de ser bueno\u001b[0m\n",
      "\u001b[1;32mINFO: Processing song: smoke signals\u001b[0m\n",
      "\u001b[1;32mINFO: Downloading song: smoke signals\u001b[0m\n",
      "\u001b[1;32mINFO: Successfully processed and saved song: smoke signals\u001b[0m\n",
      "\u001b[1;32mINFO: Processing song: vengo del futuro - remix\u001b[0m\n",
      "\u001b[1;32mINFO: Downloading song: vengo del futuro - remix\u001b[0m\n",
      "\u001b[1;32mINFO: Successfully processed and saved song: vengo del futuro - remix\u001b[0m\n",
      "\u001b[1;32mINFO: Processing song: put a little love on me\u001b[0m\n",
      "\u001b[1;32mINFO: Downloading song: put a little love on me\u001b[0m\n",
      "\u001b[1;32mINFO: Successfully processed and saved song: put a little love on me\u001b[0m\n",
      "\u001b[1;32mINFO: Processing song: soon you’ll get better (feat. the chicks)\u001b[0m\n",
      "\u001b[1;32mINFO: Downloading song: soon you’ll get better (feat. the chicks)\u001b[0m\n",
      "\u001b[1;32mINFO: Successfully processed and saved song: soon you’ll get better (feat. the chicks)\u001b[0m\n",
      "\u001b[1;32mINFO: Processing song: drivers license\u001b[0m\n",
      "\u001b[1;32mINFO: Downloading song: drivers license\u001b[0m\n",
      "\u001b[1;32mINFO: Successfully processed and saved song: drivers license\u001b[0m\n",
      "\u001b[1;32mINFO: Processing song: let her go\u001b[0m\n",
      "\u001b[1;32mINFO: Downloading song: let her go\u001b[0m\n",
      "                                                         \r"
     ]
    },
    {
     "name": "stderr",
     "output_type": "stream",
     "text": [
      "\u001b[1;33mWARNING: Lyrics not found for 'let her go' by lost. using all available providers.\u001b[0m\n"
     ]
    },
    {
     "name": "stdout",
     "output_type": "stream",
     "text": [
      "\u001b[1;32mINFO: Successfully processed and saved song: let her go\u001b[0m\n",
      "\u001b[1;32mINFO: Processing song: stay\u001b[0m\n",
      "\u001b[1;32mINFO: Downloading song: stay\u001b[0m\n",
      "                                                         \r"
     ]
    },
    {
     "name": "stderr",
     "output_type": "stream",
     "text": [
      "\u001b[1;33mWARNING: Lyrics not found for 'stay' by studio beyond using all available providers.\u001b[0m\n"
     ]
    },
    {
     "name": "stdout",
     "output_type": "stream",
     "text": [
      "\u001b[1;32mINFO: Successfully processed and saved song: stay\u001b[0m\n",
      "\u001b[1;32mINFO: Processing song: dream on\u001b[0m\n",
      "\u001b[1;32mINFO: Downloading song: dream on\u001b[0m\n",
      "\u001b[1;32mINFO: Successfully processed and saved song: dream on\u001b[0m\n",
      "\u001b[1;32mINFO: Processing song: golden hour\u001b[0m\n",
      "\u001b[1;32mINFO: Downloading song: golden hour\u001b[0m\n",
      "\u001b[1;32mINFO: Successfully processed and saved song: golden hour\u001b[0m\n",
      "\u001b[1;32mINFO: Processing song: ghosts (how can i move on)\u001b[0m\n",
      "\u001b[1;32mINFO: Downloading song: ghosts (how can i move on)\u001b[0m\n",
      "                                                         \r"
     ]
    },
    {
     "name": "stderr",
     "output_type": "stream",
     "text": [
      "\u001b[1;33mWARNING: Lyrics not found for 'ghosts' by muse using all available providers.\u001b[0m\n"
     ]
    },
    {
     "name": "stdout",
     "output_type": "stream",
     "text": [
      "\u001b[1;32mINFO: Successfully processed and saved song: ghosts (how can i move on)\u001b[0m\n",
      "\u001b[1;32mINFO: Processing song: ghosts (how can i move on) [feat. elisa]\u001b[0m\n",
      "\u001b[1;32mINFO: Downloading song: ghosts (how can i move on) [feat. elisa]\u001b[0m\n",
      "                                                         \r"
     ]
    },
    {
     "name": "stderr",
     "output_type": "stream",
     "text": [
      "\u001b[1;33mWARNING: Lyrics not found for 'ghosts' by muse using all available providers.\u001b[0m\n"
     ]
    },
    {
     "name": "stdout",
     "output_type": "stream",
     "text": [
      "\u001b[1;32mINFO: Successfully processed and saved song: ghosts (how can i move on) [feat. elisa]\u001b[0m\n",
      "\u001b[1;32mINFO: Processing song: with arms wide open\u001b[0m\n",
      "\u001b[1;32mINFO: Downloading song: with arms wide open\u001b[0m\n",
      "\u001b[1;32mINFO: Successfully processed and saved song: with arms wide open\u001b[0m\n",
      "\u001b[1;32mINFO: Processing song: myszy i ludzie\u001b[0m\n",
      "\u001b[1;32mINFO: Downloading song: myszy i ludzie\u001b[0m\n",
      "\u001b[1;32mINFO: Successfully processed and saved song: myszy i ludzie\u001b[0m\n",
      "\u001b[1;32mINFO: Processing song: ty i ja i wszystko co mamy\u001b[0m\n",
      "\u001b[1;32mINFO: Downloading song: ty i ja i wszystko co mamy\u001b[0m\n",
      "\u001b[1;32mINFO: Successfully processed and saved song: ty i ja i wszystko co mamy\u001b[0m\n",
      "\u001b[1;32mINFO: Processing song: złe mi się śni\u001b[0m\n",
      "\u001b[1;32mINFO: Downloading song: złe mi się śni\u001b[0m\n",
      "\u001b[1;32mINFO: Successfully processed and saved song: złe mi się śni\u001b[0m\n",
      "\u001b[1;32mINFO: Processing song: w deszczu maleńkich żółtych kwiatów\u001b[0m\n",
      "\u001b[1;32mINFO: Downloading song: w deszczu maleńkich żółtych kwiatów\u001b[0m\n",
      "\u001b[1;32mINFO: Successfully processed and saved song: w deszczu maleńkich żółtych kwiatów\u001b[0m\n",
      "\u001b[1;32mINFO: Processing song: nocnym pociągiem aż do końca świata\u001b[0m\n",
      "\u001b[1;32mINFO: Downloading song: nocnym pociągiem aż do końca świata\u001b[0m\n",
      "\u001b[1;32mINFO: Successfully processed and saved song: nocnym pociągiem aż do końca świata\u001b[0m\n",
      "\u001b[1;32mINFO: Processing song: znów wszystko poszło nie tak\u001b[0m\n",
      "\u001b[1;32mINFO: Downloading song: znów wszystko poszło nie tak\u001b[0m\n",
      "\u001b[1;32mINFO: Successfully processed and saved song: znów wszystko poszło nie tak\u001b[0m\n",
      "\u001b[1;32mINFO: Processing song: gdzieś\u001b[0m\n",
      "\u001b[1;32mINFO: Downloading song: gdzieś\u001b[0m\n",
      "\u001b[1;32mINFO: Successfully processed and saved song: gdzieś\u001b[0m\n",
      "\u001b[1;32mINFO: Processing song: 3 sny o tym samym\u001b[0m\n",
      "\u001b[1;32mINFO: Downloading song: 3 sny o tym samym\u001b[0m\n",
      "\u001b[1;32mINFO: Successfully processed and saved song: 3 sny o tym samym\u001b[0m\n",
      "\u001b[1;32mINFO: Processing song: telefon\u001b[0m\n",
      "\u001b[1;32mINFO: Downloading song: telefon\u001b[0m\n",
      "\u001b[1;32mINFO: Successfully processed and saved song: telefon\u001b[0m\n",
      "\u001b[1;32mINFO: Processing song: srebrna nitka ciszy\u001b[0m\n",
      "\u001b[1;32mINFO: Downloading song: srebrna nitka ciszy\u001b[0m\n",
      "\u001b[1;32mINFO: Successfully processed and saved song: srebrna nitka ciszy\u001b[0m\n",
      "\u001b[1;32mINFO: Processing song: zamiana\u001b[0m\n",
      "\u001b[1;32mINFO: Downloading song: zamiana\u001b[0m\n",
      "\u001b[1;32mINFO: Successfully processed and saved song: zamiana\u001b[0m\n",
      "\u001b[1;32mINFO: Processing song: noc\u001b[0m\n",
      "\u001b[1;32mINFO: Downloading song: noc\u001b[0m\n",
      "\u001b[1;32mINFO: Successfully processed and saved song: noc\u001b[0m\n",
      "\u001b[1;32mINFO: Processing song: kraków\u001b[0m\n",
      "\u001b[1;32mINFO: Downloading song: kraków\u001b[0m\n",
      "\u001b[1;32mINFO: Successfully processed and saved song: kraków\u001b[0m\n",
      "\u001b[1;32mINFO: Processing song: in my bones\u001b[0m\n",
      "\u001b[1;32mINFO: Downloading song: in my bones\u001b[0m\n",
      "\u001b[1;32mINFO: Successfully processed and saved song: in my bones\u001b[0m\n",
      "\u001b[1;32mINFO: Processing song: chciałbym być znany na starość\u001b[0m\n",
      "\u001b[1;32mINFO: Downloading song: chciałbym być znany na starość\u001b[0m\n",
      "                                                           \r"
     ]
    },
    {
     "name": "stderr",
     "output_type": "stream",
     "text": [
      "\u001b[1;33mWARNING: Lyrics not found for 'chciałbym być znany na starość' by zimnv using all available providers.\u001b[0m\n"
     ]
    },
    {
     "name": "stdout",
     "output_type": "stream",
     "text": [
      "\u001b[1;32mINFO: Successfully processed and saved song: chciałbym być znany na starość\u001b[0m\n",
      "\u001b[1;32mINFO: Processing song: questions\u001b[0m\n",
      "\u001b[1;32mINFO: Downloading song: questions\u001b[0m\n",
      "                                                         \r"
     ]
    },
    {
     "name": "stderr",
     "output_type": "stream",
     "text": [
      "\u001b[1;33mWARNING: Lyrics not found for 'questions' by lost frequencies using all available providers.\u001b[0m\n"
     ]
    },
    {
     "name": "stdout",
     "output_type": "stream",
     "text": [
      "\u001b[1;32mINFO: Successfully processed and saved song: questions\u001b[0m\n",
      "\u001b[1;32mINFO: Processing song: each day gets better\u001b[0m\n",
      "\u001b[1;32mINFO: Downloading song: each day gets better\u001b[0m\n",
      "\u001b[1;32mINFO: Successfully processed and saved song: each day gets better\u001b[0m\n",
      "\u001b[1;32mINFO: Processing song: last call\u001b[0m\n",
      "\u001b[1;32mINFO: Downloading song: last call\u001b[0m\n",
      "\u001b[1;32mINFO: Successfully processed and saved song: last call\u001b[0m\n",
      "\u001b[1;32mINFO: Processing song: satellite\u001b[0m\n",
      "\u001b[1;32mINFO: Downloading song: satellite\u001b[0m\n",
      "                                                         \r"
     ]
    },
    {
     "name": "stderr",
     "output_type": "stream",
     "text": [
      "\u001b[1;33mWARNING: Lyrics not found for 'satellite' by khalid using all available providers.\u001b[0m\n"
     ]
    },
    {
     "name": "stdout",
     "output_type": "stream",
     "text": [
      "\u001b[1;32mINFO: Successfully processed and saved song: satellite\u001b[0m\n",
      "\u001b[1;32mINFO: Processing song: forget me - piano acoustic\u001b[0m\n",
      "\u001b[1;32mINFO: Downloading song: forget me - piano acoustic\u001b[0m\n",
      "\u001b[1;32mINFO: Successfully processed and saved song: forget me - piano acoustic\u001b[0m\n",
      "\u001b[1;32mINFO: Processing song: chwile ulotne\u001b[0m\n",
      "\u001b[1;32mINFO: Downloading song: chwile ulotne\u001b[0m\n",
      "\u001b[1;32mINFO: Successfully processed and saved song: chwile ulotne\u001b[0m\n",
      "\u001b[1;32mINFO: Processing song: ostatni raz zatańczysz ze mną\u001b[0m\n",
      "\u001b[1;32mINFO: Downloading song: ostatni raz zatańczysz ze mną\u001b[0m\n",
      "                                                         \r"
     ]
    },
    {
     "name": "stderr",
     "output_type": "stream",
     "text": [
      "\u001b[1;33mWARNING: Lyrics not found for 'ostatni raz zatańczysz ze mną' by urbański orkiestra using all available providers.\u001b[0m\n"
     ]
    },
    {
     "name": "stdout",
     "output_type": "stream",
     "text": [
      "\u001b[1;32mINFO: Successfully processed and saved song: ostatni raz zatańczysz ze mną\u001b[0m\n",
      "\u001b[1;32mINFO: Processing song: dziki brzeg\u001b[0m\n",
      "\u001b[1;32mINFO: Downloading song: dziki brzeg\u001b[0m\n",
      "                                                         \r"
     ]
    },
    {
     "name": "stderr",
     "output_type": "stream",
     "text": [
      "\u001b[1;33mWARNING: Lyrics not found for 'dziki brzeg' by flirtini using all available providers.\u001b[0m\n"
     ]
    },
    {
     "name": "stdout",
     "output_type": "stream",
     "text": [
      "\u001b[1;32mINFO: Successfully processed and saved song: dziki brzeg\u001b[0m\n",
      "\u001b[1;32mINFO: Processing song: as i'm meant to be\u001b[0m\n",
      "\u001b[1;32mINFO: Downloading song: as i'm meant to be\u001b[0m\n",
      "                                                           \r"
     ]
    },
    {
     "name": "stderr",
     "output_type": "stream",
     "text": [
      "\u001b[1;33mWARNING: Lyrics not found for 'as i'm meant to be' by piotr zioła using all available providers.\u001b[0m\n"
     ]
    },
    {
     "name": "stdout",
     "output_type": "stream",
     "text": [
      "\u001b[1;32mINFO: Successfully processed and saved song: as i'm meant to be\u001b[0m\n",
      "\u001b[1;32mINFO: Processing song: tú me dejaste de querer\u001b[0m\n",
      "\u001b[1;32mINFO: Downloading song: tú me dejaste de querer\u001b[0m\n",
      "\u001b[1;32mINFO: Successfully processed and saved song: tú me dejaste de querer\u001b[0m\n",
      "\u001b[1;32mINFO: Processing song: war paint\u001b[0m\n",
      "\u001b[1;32mINFO: Downloading song: war paint\u001b[0m\n",
      "                                                           \r"
     ]
    },
    {
     "name": "stderr",
     "output_type": "stream",
     "text": [
      "\u001b[1;33mWARNING: Lyrics not found for 'war paint' by chasing jonah using all available providers.\u001b[0m\n"
     ]
    },
    {
     "name": "stdout",
     "output_type": "stream",
     "text": [
      "\u001b[1;32mINFO: Successfully processed and saved song: war paint\u001b[0m\n",
      "\u001b[1;32mINFO: Processing song: be who you are\u001b[0m\n",
      "\u001b[1;32mINFO: Downloading song: be who you are\u001b[0m\n",
      "\u001b[1;32mINFO: Successfully processed and saved song: be who you are\u001b[0m\n",
      "\u001b[1;32mINFO: Processing song: naive\u001b[0m\n",
      "\u001b[1;32mINFO: Downloading song: naive\u001b[0m\n",
      "\u001b[1;32mINFO: Successfully processed and saved song: naive\u001b[0m\n",
      "\u001b[1;32mINFO: Processing song: one for the road\u001b[0m\n",
      "\u001b[1;32mINFO: Downloading song: one for the road\u001b[0m\n",
      "\u001b[1;32mINFO: Successfully processed and saved song: one for the road\u001b[0m\n",
      "\u001b[1;32mINFO: Processing song: r u mine?\u001b[0m\n",
      "\u001b[1;32mINFO: Downloading song: r u mine?\u001b[0m\n",
      "\u001b[1;32mINFO: Successfully processed and saved song: r u mine?\u001b[0m\n",
      "\u001b[1;32mINFO: Processing song: waiting room\u001b[0m\n",
      "\u001b[1;32mINFO: Downloading song: waiting room\u001b[0m\n",
      "\u001b[1;32mINFO: Successfully processed and saved song: waiting room\u001b[0m\n",
      "\u001b[1;32mINFO: Processing song: the otherside\u001b[0m\n",
      "\u001b[1;32mINFO: Downloading song: the otherside\u001b[0m\n",
      "                                                         \r"
     ]
    },
    {
     "name": "stderr",
     "output_type": "stream",
     "text": [
      "\u001b[1;33mWARNING: Lyrics not found for 'the otherside' by birdy using all available providers.\u001b[0m\n"
     ]
    },
    {
     "name": "stdout",
     "output_type": "stream",
     "text": [
      "\u001b[1;32mINFO: Successfully processed and saved song: the otherside\u001b[0m\n",
      "\u001b[1;32mINFO: Processing song: everlasting love\u001b[0m\n",
      "\u001b[1;32mINFO: Downloading song: everlasting love\u001b[0m\n",
      "\u001b[1;32mINFO: Successfully processed and saved song: everlasting love\u001b[0m\n",
      "\u001b[1;32mINFO: Processing song: al olvido (feat. ara malikian, rozalén, coque malla, lori meyers y mikel izal)\u001b[0m\n",
      "\u001b[1;32mINFO: Downloading song: al olvido (feat. ara malikian, rozalén, coque malla, lori meyers y mikel izal)\u001b[0m\n",
      "\u001b[1;32mINFO: Successfully processed and saved song: al olvido (feat. ara malikian, rozalén, coque malla, lori meyers y mikel izal)\u001b[0m\n",
      "\u001b[1;32mINFO: Processing song: one of us\u001b[0m\n",
      "\u001b[1;32mINFO: Downloading song: one of us\u001b[0m\n",
      "\u001b[1;32mINFO: Successfully processed and saved song: one of us\u001b[0m\n",
      "\u001b[1;32mINFO: Processing song: over - single version\u001b[0m\n",
      "\u001b[1;32mINFO: Downloading song: over - single version\u001b[0m\n",
      "                                                         \r"
     ]
    },
    {
     "name": "stderr",
     "output_type": "stream",
     "text": [
      "\u001b[1;33mWARNING: Lyrics not found for 'over' by flora cash using all available providers.\u001b[0m\n"
     ]
    },
    {
     "name": "stdout",
     "output_type": "stream",
     "text": [
      "\u001b[1;32mINFO: Successfully processed and saved song: over - single version\u001b[0m\n",
      "\u001b[1;32mINFO: Processing song: over - connor holcombe remix\u001b[0m\n",
      "\u001b[1;32mINFO: Downloading song: over - connor holcombe remix\u001b[0m\n",
      "                                                         \r"
     ]
    },
    {
     "name": "stderr",
     "output_type": "stream",
     "text": [
      "\u001b[1;33mWARNING: Lyrics not found for 'over' by flora cash using all available providers.\u001b[0m\n"
     ]
    },
    {
     "name": "stdout",
     "output_type": "stream",
     "text": [
      "\u001b[1;32mINFO: Successfully processed and saved song: over - connor holcombe remix\u001b[0m\n",
      "\u001b[1;32mINFO: Processing song: always remember us this way\u001b[0m\n",
      "\u001b[1;32mINFO: Downloading song: always remember us this way\u001b[0m\n",
      "                                                         \r"
     ]
    },
    {
     "name": "stderr",
     "output_type": "stream",
     "text": [
      "\u001b[1;33mWARNING: Lyrics not found for 'always remember us this way' by benedetta caretta using all available providers.\u001b[0m\n"
     ]
    },
    {
     "name": "stdout",
     "output_type": "stream",
     "text": [
      "\u001b[1;32mINFO: Successfully processed and saved song: always remember us this way\u001b[0m\n",
      "\u001b[1;32mINFO: Processing song: silhouettes - from “the hunger games: catching fire” soundtrack\u001b[0m\n",
      "\u001b[1;32mINFO: Downloading song: silhouettes - from “the hunger games: catching fire” soundtrack\u001b[0m\n",
      "\u001b[1;32mINFO: Successfully processed and saved song: silhouettes - from “the hunger games: catching fire” soundtrack\u001b[0m\n",
      "\u001b[1;32mINFO: Processing song: middle of the night\u001b[0m\n",
      "\u001b[1;32mINFO: Downloading song: middle of the night\u001b[0m\n",
      "\u001b[1;32mINFO: Successfully processed and saved song: middle of the night\u001b[0m\n",
      "\u001b[1;32mINFO: Processing song: little talks - acoustic\u001b[0m\n",
      "\u001b[1;32mINFO: Downloading song: little talks - acoustic\u001b[0m\n",
      "\u001b[1;32mINFO: Successfully processed and saved song: little talks - acoustic\u001b[0m\n",
      "\u001b[1;32mINFO: Processing song: snap\u001b[0m\n",
      "\u001b[1;32mINFO: Downloading song: snap\u001b[0m\n",
      "\u001b[1;32mINFO: Successfully processed and saved song: snap\u001b[0m\n",
      "\u001b[1;32mINFO: Processing song: 2step (feat. lil baby)\u001b[0m\n",
      "\u001b[1;32mINFO: Downloading song: 2step (feat. lil baby)\u001b[0m\n",
      "\u001b[1;32mINFO: Successfully processed and saved song: 2step (feat. lil baby)\u001b[0m\n",
      "\u001b[1;32mINFO: Processing song: kernkraft 400 (a better day)\u001b[0m\n",
      "\u001b[1;32mINFO: Downloading song: kernkraft 400 (a better day)\u001b[0m\n",
      "\u001b[1;32mINFO: Successfully processed and saved song: kernkraft 400 (a better day)\u001b[0m\n",
      "\u001b[1;32mINFO: Processing song: sometimes\u001b[0m\n",
      "\u001b[1;32mINFO: Downloading song: sometimes\u001b[0m\n",
      "\u001b[1;32mINFO: Successfully processed and saved song: sometimes\u001b[0m\n",
      "\u001b[1;32mINFO: Processing song: i ain't worried\u001b[0m\n",
      "\u001b[1;32mINFO: Downloading song: i ain't worried\u001b[0m\n",
      "\u001b[1;32mINFO: Successfully processed and saved song: i ain't worried\u001b[0m\n",
      "\u001b[1;32mINFO: Processing song: brutta nuvola\u001b[0m\n",
      "\u001b[1;32mINFO: Downloading song: brutta nuvola\u001b[0m\n",
      "\u001b[1;32mINFO: Successfully processed and saved song: brutta nuvola\u001b[0m\n",
      "\u001b[1;32mINFO: Processing song: this happiness\u001b[0m\n",
      "\u001b[1;32mINFO: Downloading song: this happiness\u001b[0m\n",
      "\u001b[1;32mINFO: Successfully processed and saved song: this happiness\u001b[0m\n",
      "\u001b[1;32mINFO: Processing song: love in the time of socialism\u001b[0m\n",
      "\u001b[1;32mINFO: Downloading song: love in the time of socialism\u001b[0m\n",
      "\u001b[1;32mINFO: Successfully processed and saved song: love in the time of socialism\u001b[0m\n",
      "\u001b[1;32mINFO: Processing song: bandito\u001b[0m\n",
      "\u001b[1;32mINFO: Downloading song: bandito\u001b[0m\n",
      "\u001b[1;32mINFO: Successfully processed and saved song: bandito\u001b[0m\n",
      "\u001b[1;32mINFO: Processing song: before you start your day\u001b[0m\n",
      "\u001b[1;32mINFO: Downloading song: before you start your day\u001b[0m\n",
      "\u001b[1;32mINFO: Successfully processed and saved song: before you start your day\u001b[0m\n",
      "\u001b[1;32mINFO: Processing song: sur la lune\u001b[0m\n",
      "\u001b[1;32mINFO: Downloading song: sur la lune\u001b[0m\n",
      "\u001b[1;32mINFO: Successfully processed and saved song: sur la lune\u001b[0m\n",
      "\u001b[1;32mINFO: Processing song: you love me\u001b[0m\n",
      "\u001b[1;32mINFO: Downloading song: you love me\u001b[0m\n",
      "                                                         \r"
     ]
    },
    {
     "name": "stderr",
     "output_type": "stream",
     "text": [
      "\u001b[1;33mWARNING: Lyrics not found for 'you love me' by flora cash using all available providers.\u001b[0m\n"
     ]
    },
    {
     "name": "stdout",
     "output_type": "stream",
     "text": [
      "\u001b[1;32mINFO: Successfully processed and saved song: you love me\u001b[0m\n",
      "\u001b[1;32mINFO: Processing song: the bad boys\u001b[0m\n",
      "\u001b[1;32mINFO: Downloading song: the bad boys\u001b[0m\n",
      "\u001b[1;32mINFO: Successfully processed and saved song: the bad boys\u001b[0m\n",
      "\u001b[1;32mINFO: Processing song: don't you look at me that way - single version\u001b[0m\n",
      "\u001b[1;32mINFO: Downloading song: don't you look at me that way - single version\u001b[0m\n",
      "\u001b[1;32mINFO: Successfully processed and saved song: don't you look at me that way - single version\u001b[0m\n",
      "\u001b[1;32mINFO: Processing song: standing in the way of the light\u001b[0m\n",
      "\u001b[1;32mINFO: Downloading song: standing in the way of the light\u001b[0m\n",
      "\u001b[1;32mINFO: Successfully processed and saved song: standing in the way of the light\u001b[0m\n",
      "\u001b[1;32mINFO: Processing song: = (igual)\u001b[0m\n",
      "\u001b[1;32mINFO: Downloading song: = (igual)\u001b[0m\n",
      "                                                         \r"
     ]
    },
    {
     "name": "stderr",
     "output_type": "stream",
     "text": [
      "\u001b[1;33mWARNING: Lyrics not found for '=' by aitana using all available providers.\u001b[0m\n"
     ]
    },
    {
     "name": "stdout",
     "output_type": "stream",
     "text": [
      "\u001b[1;32mINFO: Successfully processed and saved song: = (igual)\u001b[0m\n",
      "\u001b[1;32mINFO: Processing song: dove è sempre sole (feat. jarabe de palo)\u001b[0m\n",
      "\u001b[1;32mINFO: Downloading song: dove è sempre sole (feat. jarabe de palo)\u001b[0m\n",
      "\u001b[1;32mINFO: Successfully processed and saved song: dove è sempre sole (feat. jarabe de palo)\u001b[0m\n",
      "\u001b[1;32mINFO: Processing song: sadderdaze\u001b[0m\n",
      "\u001b[1;32mINFO: Downloading song: sadderdaze\u001b[0m\n",
      "\u001b[1;32mINFO: Successfully processed and saved song: sadderdaze\u001b[0m\n",
      "\u001b[1;32mINFO: Processing song: i wish i was a horse\u001b[0m\n",
      "\u001b[1;32mINFO: Downloading song: i wish i was a horse\u001b[0m\n",
      "                                                         \r"
     ]
    },
    {
     "name": "stderr",
     "output_type": "stream",
     "text": [
      "\u001b[1;33mWARNING: Lyrics not found for 'i wish i was a horse' by rudy ayoub using all available providers.\u001b[0m\n"
     ]
    },
    {
     "name": "stdout",
     "output_type": "stream",
     "text": [
      "\u001b[1;32mINFO: Successfully processed and saved song: i wish i was a horse\u001b[0m\n",
      "\u001b[1;32mINFO: Processing song: can you hold me\u001b[0m\n",
      "\u001b[1;32mINFO: Downloading song: can you hold me\u001b[0m\n",
      "\u001b[1;32mINFO: Successfully processed and saved song: can you hold me\u001b[0m\n",
      "\u001b[1;32mINFO: Processing song: drifting\u001b[0m\n",
      "\u001b[1;32mINFO: Downloading song: drifting\u001b[0m\n",
      "\u001b[1;32mINFO: Successfully processed and saved song: drifting\u001b[0m\n",
      "\u001b[1;32mINFO: Processing song: remember this\u001b[0m\n",
      "\u001b[1;32mINFO: Downloading song: remember this\u001b[0m\n",
      "\u001b[1;32mINFO: Successfully processed and saved song: remember this\u001b[0m\n",
      "\u001b[1;32mINFO: Processing song: oh lord\u001b[0m\n",
      "\u001b[1;32mINFO: Downloading song: oh lord\u001b[0m\n",
      "\u001b[1;32mINFO: Successfully processed and saved song: oh lord\u001b[0m\n",
      "\u001b[1;32mINFO: Processing song: wake up\u001b[0m\n",
      "\u001b[1;32mINFO: Downloading song: wake up\u001b[0m\n",
      "\u001b[1;32mINFO: Successfully processed and saved song: wake up\u001b[0m\n",
      "\u001b[1;32mINFO: Processing song: 3 a.m.\u001b[0m\n",
      "\u001b[1;32mINFO: Downloading song: 3 a.m.\u001b[0m\n",
      "\u001b[1;32mINFO: Successfully processed and saved song: 3 a.m.\u001b[0m\n",
      "\u001b[1;32mINFO: Processing song: false confidence\u001b[0m\n",
      "\u001b[1;32mINFO: Downloading song: false confidence\u001b[0m\n",
      "\u001b[1;32mINFO: Successfully processed and saved song: false confidence\u001b[0m\n",
      "\u001b[1;32mINFO: Processing song: wake me up\u001b[0m\n",
      "\u001b[1;32mINFO: Downloading song: wake me up\u001b[0m\n",
      "                                                         \r"
     ]
    },
    {
     "name": "stderr",
     "output_type": "stream",
     "text": [
      "\u001b[1;33mWARNING: Lyrics not found for 'wake me up' by roses & frey using all available providers.\u001b[0m\n"
     ]
    },
    {
     "name": "stdout",
     "output_type": "stream",
     "text": [
      "\u001b[1;32mINFO: Successfully processed and saved song: wake me up\u001b[0m\n",
      "\u001b[1;32mINFO: Processing song: supergirl\u001b[0m\n",
      "\u001b[1;32mINFO: Downloading song: supergirl\u001b[0m\n",
      "\u001b[1;32mINFO: Successfully processed and saved song: supergirl\u001b[0m\n",
      "\u001b[1;32mINFO: Processing song: through the eyes of a child\u001b[0m\n",
      "\u001b[1;32mINFO: Downloading song: through the eyes of a child\u001b[0m\n",
      "\u001b[1;32mINFO: Successfully processed and saved song: through the eyes of a child\u001b[0m\n",
      "\u001b[1;32mINFO: Processing song: him\u001b[0m\n",
      "\u001b[1;32mINFO: Downloading song: him\u001b[0m\n",
      "                                                         \r"
     ]
    },
    {
     "name": "stderr",
     "output_type": "stream",
     "text": [
      "\u001b[1;33mWARNING: Lyrics not found for 'him' by louis lollie using all available providers.\u001b[0m\n"
     ]
    },
    {
     "name": "stdout",
     "output_type": "stream",
     "text": [
      "\u001b[1;32mINFO: Successfully processed and saved song: him\u001b[0m\n",
      "\u001b[1;32mINFO: Processing song: star - single edit\u001b[0m\n",
      "\u001b[1;32mINFO: Downloading song: star - single edit\u001b[0m\n",
      "\u001b[1;32mINFO: Successfully processed and saved song: star - single edit\u001b[0m\n",
      "\u001b[1;32mINFO: Processing song: particle waves\u001b[0m\n",
      "\u001b[1;32mINFO: Downloading song: particle waves\u001b[0m\n",
      "                                                         \r"
     ]
    },
    {
     "name": "stderr",
     "output_type": "stream",
     "text": [
      "\u001b[1;33mWARNING: Lyrics not found for 'particle waves' by danny mccarthy using all available providers.\u001b[0m\n"
     ]
    },
    {
     "name": "stdout",
     "output_type": "stream",
     "text": [
      "\u001b[1;32mINFO: Successfully processed and saved song: particle waves\u001b[0m\n",
      "\u001b[1;32mINFO: Processing song: we didn't start the fire\u001b[0m\n",
      "\u001b[1;32mINFO: Downloading song: we didn't start the fire\u001b[0m\n",
      "\u001b[1;32mINFO: Successfully processed and saved song: we didn't start the fire\u001b[0m\n",
      "\u001b[1;32mINFO: Processing song: invisible dress - maro music x skytech remix / short edit\u001b[0m\n",
      "\u001b[1;32mINFO: Downloading song: invisible dress - maro music x skytech remix / short edit\u001b[0m\n"
     ]
    },
    {
     "name": "stderr",
     "output_type": "stream",
     "text": [
      "\u001b[1;31mERROR: There was an error processing song: invisible dress - maro music x skytech remix / short edit by sanah: [Errno 2] No such file or directory: '/home/krystian/Python/Jupyter-projects/thesis/songs_analysis/playlists/final download 2/invisible dress - maro music x skytech remix / short edit.jpg'\u001b[0m\n"
     ]
    },
    {
     "name": "stdout",
     "output_type": "stream",
     "text": [
      "\u001b[1;32mINFO: Processing song: her sweet kiss\u001b[0m\n",
      "\u001b[1;32mINFO: Downloading song: her sweet kiss\u001b[0m\n",
      "\u001b[1;32mINFO: Successfully processed and saved song: her sweet kiss\u001b[0m\n",
      "\u001b[1;32mINFO: Processing song: take on me\u001b[0m\n",
      "\u001b[1;32mINFO: Downloading song: take on me\u001b[0m\n",
      "\u001b[1;32mINFO: Successfully processed and saved song: take on me\u001b[0m\n",
      "\u001b[1;32mINFO: Processing song: i know\u001b[0m\n",
      "\u001b[1;32mINFO: Downloading song: i know\u001b[0m\n",
      "                                                         \r"
     ]
    },
    {
     "name": "stderr",
     "output_type": "stream",
     "text": [
      "\u001b[1;33mWARNING: Lyrics not found for 'i know' by post malone using all available providers.\u001b[0m\n"
     ]
    },
    {
     "name": "stdout",
     "output_type": "stream",
     "text": [
      "\u001b[1;32mINFO: Successfully processed and saved song: i know\u001b[0m\n",
      "\u001b[1;32mINFO: Processing song: angel\u001b[0m\n",
      "\u001b[1;32mINFO: Downloading song: angel\u001b[0m\n",
      "\u001b[1;32mINFO: Successfully processed and saved song: angel\u001b[0m\n",
      "\u001b[1;32mINFO: Processing song: kids\u001b[0m\n",
      "\u001b[1;32mINFO: Downloading song: kids\u001b[0m\n",
      "                                                         \r"
     ]
    },
    {
     "name": "stderr",
     "output_type": "stream",
     "text": [
      "\u001b[1;33mWARNING: Lyrics not found for 'kids' by leoniden using all available providers.\u001b[0m\n"
     ]
    },
    {
     "name": "stdout",
     "output_type": "stream",
     "text": [
      "\u001b[1;32mINFO: Successfully processed and saved song: kids\u001b[0m\n",
      "\u001b[1;32mINFO: Processing song: save you\u001b[0m\n",
      "\u001b[1;32mINFO: Downloading song: save you\u001b[0m\n",
      "\u001b[1;32mINFO: Successfully processed and saved song: save you\u001b[0m\n",
      "\u001b[1;32mINFO: Processing song: the last time (feat. gary lightbody of snow patrol) (taylor’s version)\u001b[0m\n",
      "\u001b[1;32mINFO: Downloading song: the last time (feat. gary lightbody of snow patrol) (taylor’s version)\u001b[0m\n",
      "\u001b[1;32mINFO: Successfully processed and saved song: the last time (feat. gary lightbody of snow patrol) (taylor’s version)\u001b[0m\n",
      "\u001b[1;32mINFO: Processing song: saigon\u001b[0m\n",
      "\u001b[1;32mINFO: Downloading song: saigon\u001b[0m\n",
      "\u001b[1;32mINFO: Successfully processed and saved song: saigon\u001b[0m\n",
      "\u001b[1;32mINFO: Processing song: revolution\u001b[0m\n",
      "\u001b[1;32mINFO: Downloading song: revolution\u001b[0m\n",
      "                                                         \r"
     ]
    },
    {
     "name": "stderr",
     "output_type": "stream",
     "text": [
      "\u001b[1;33mWARNING: Lyrics not found for 'revolution' by bastille using all available providers.\u001b[0m\n"
     ]
    },
    {
     "name": "stdout",
     "output_type": "stream",
     "text": [
      "\u001b[1;32mINFO: Successfully processed and saved song: revolution\u001b[0m\n",
      "\u001b[1;32mINFO: Processing song: chwila\u001b[0m\n",
      "\u001b[1;32mINFO: Downloading song: chwila\u001b[0m\n",
      "                                                         \r"
     ]
    },
    {
     "name": "stderr",
     "output_type": "stream",
     "text": [
      "\u001b[1;33mWARNING: Lyrics not found for 'chwila' by stach bukowski using all available providers.\u001b[0m\n"
     ]
    },
    {
     "name": "stdout",
     "output_type": "stream",
     "text": [
      "\u001b[1;32mINFO: Successfully processed and saved song: chwila\u001b[0m\n",
      "\u001b[1;32mINFO: Processing song: like real people do\u001b[0m\n",
      "\u001b[1;32mINFO: Downloading song: like real people do\u001b[0m\n",
      "\u001b[1;32mINFO: Successfully processed and saved song: like real people do\u001b[0m\n",
      "\u001b[1;32mINFO: Processing song: movement\u001b[0m\n",
      "\u001b[1;32mINFO: Downloading song: movement\u001b[0m\n",
      "\u001b[1;32mINFO: Successfully processed and saved song: movement\u001b[0m\n",
      "\u001b[1;32mINFO: Processing song: all of me\u001b[0m\n",
      "\u001b[1;32mINFO: Downloading song: all of me\u001b[0m\n",
      "\u001b[1;32mINFO: Successfully processed and saved song: all of me\u001b[0m\n",
      "\u001b[1;32mINFO: Processing song: i think he knows\u001b[0m\n",
      "\u001b[1;32mINFO: Downloading song: i think he knows\u001b[0m\n",
      "\u001b[1;32mINFO: Successfully processed and saved song: i think he knows\u001b[0m\n",
      "\u001b[1;32mINFO: Processing song: teenage dirtbag\u001b[0m\n",
      "\u001b[1;32mINFO: Downloading song: teenage dirtbag\u001b[0m\n",
      "\u001b[1;32mINFO: Successfully processed and saved song: teenage dirtbag\u001b[0m\n",
      "\u001b[1;32mINFO: Processing song: love is gone - acoustic\u001b[0m\n",
      "\u001b[1;32mINFO: Downloading song: love is gone - acoustic\u001b[0m\n",
      "\u001b[1;32mINFO: Successfully processed and saved song: love is gone - acoustic\u001b[0m\n",
      "\u001b[1;32mINFO: Processing song: cannonball\u001b[0m\n",
      "\u001b[1;32mINFO: Downloading song: cannonball\u001b[0m\n",
      "\u001b[1;32mINFO: Successfully processed and saved song: cannonball\u001b[0m\n",
      "\u001b[1;32mINFO: Processing song: cool kids\u001b[0m\n",
      "\u001b[1;32mINFO: Downloading song: cool kids\u001b[0m\n",
      "\u001b[1;32mINFO: Successfully processed and saved song: cool kids\u001b[0m\n",
      "\u001b[1;32mINFO: Processing song: mona lisa, mona lisa\u001b[0m\n",
      "\u001b[1;32mINFO: Downloading song: mona lisa, mona lisa\u001b[0m\n",
      "\u001b[1;32mINFO: Successfully processed and saved song: mona lisa, mona lisa\u001b[0m\n",
      "\u001b[1;32mINFO: Processing song: get you the moon (feat. snøw)\u001b[0m\n",
      "\u001b[1;32mINFO: Downloading song: get you the moon (feat. snøw)\u001b[0m\n",
      "\u001b[1;32mINFO: Successfully processed and saved song: get you the moon (feat. snøw)\u001b[0m\n",
      "\u001b[1;32mINFO: Processing song: alone star\u001b[0m\n",
      "\u001b[1;32mINFO: Downloading song: alone star\u001b[0m\n",
      "\u001b[1;32mINFO: Successfully processed and saved song: alone star\u001b[0m\n",
      "\u001b[1;32mINFO: Processing song: separate ways (worlds apart)\u001b[0m\n",
      "\u001b[1;32mINFO: Downloading song: separate ways (worlds apart)\u001b[0m\n",
      "\u001b[1;32mINFO: Successfully processed and saved song: separate ways (worlds apart)\u001b[0m\n",
      "\u001b[1;32mINFO: Processing song: the beach\u001b[0m\n",
      "\u001b[1;32mINFO: Downloading song: the beach\u001b[0m\n",
      "\u001b[1;32mINFO: Successfully processed and saved song: the beach\u001b[0m\n",
      "\u001b[1;32mINFO: Processing song: llueve sobre la ciudad\u001b[0m\n",
      "\u001b[1;32mINFO: Downloading song: llueve sobre la ciudad\u001b[0m\n",
      "\u001b[1;32mINFO: Successfully processed and saved song: llueve sobre la ciudad\u001b[0m\n",
      "\u001b[1;32mINFO: Processing song: big bang\u001b[0m\n",
      "\u001b[1;32mINFO: Downloading song: big bang\u001b[0m\n",
      "\u001b[1;32mINFO: Successfully processed and saved song: big bang\u001b[0m\n",
      "\u001b[1;32mINFO: Processing song: bonita\u001b[0m\n",
      "\u001b[1;32mINFO: Downloading song: bonita\u001b[0m\n",
      "                                                         \r"
     ]
    },
    {
     "name": "stderr",
     "output_type": "stream",
     "text": [
      "\u001b[1;33mWARNING: Lyrics not found for 'bonita' by sebastián romero using all available providers.\u001b[0m\n"
     ]
    },
    {
     "name": "stdout",
     "output_type": "stream",
     "text": [
      "\u001b[1;32mINFO: Successfully processed and saved song: bonita\u001b[0m\n",
      "\u001b[1;32mINFO: Processing song: cuando nadie ve\u001b[0m\n",
      "\u001b[1;32mINFO: Downloading song: cuando nadie ve\u001b[0m\n",
      "\u001b[1;32mINFO: Successfully processed and saved song: cuando nadie ve\u001b[0m\n",
      "\u001b[1;32mINFO: Processing song: vuelve\u001b[0m\n",
      "\u001b[1;32mINFO: Downloading song: vuelve\u001b[0m\n",
      "\u001b[1;32mINFO: Successfully processed and saved song: vuelve\u001b[0m\n",
      "\u001b[1;32mINFO: Processing song: fiesta pagana\u001b[0m\n",
      "\u001b[1;32mINFO: Downloading song: fiesta pagana\u001b[0m\n",
      "\u001b[1;32mINFO: Successfully processed and saved song: fiesta pagana\u001b[0m\n",
      "\u001b[1;32mINFO: Processing song: el ecuador\u001b[0m\n",
      "\u001b[1;32mINFO: Downloading song: el ecuador\u001b[0m\n",
      "\u001b[1;32mINFO: Successfully processed and saved song: el ecuador\u001b[0m\n",
      "\u001b[1;32mINFO: Processing song: best friend\u001b[0m\n",
      "\u001b[1;32mINFO: Downloading song: best friend\u001b[0m\n",
      "\u001b[1;32mINFO: Successfully processed and saved song: best friend\u001b[0m\n",
      "\u001b[1;32mINFO: Processing song: tongue tied\u001b[0m\n",
      "\u001b[1;32mINFO: Downloading song: tongue tied\u001b[0m\n",
      "\u001b[1;32mINFO: Successfully processed and saved song: tongue tied\u001b[0m\n",
      "\u001b[1;32mINFO: Processing song: lamento boliviano\u001b[0m\n",
      "\u001b[1;32mINFO: Downloading song: lamento boliviano\u001b[0m\n",
      "\u001b[1;32mINFO: Successfully processed and saved song: lamento boliviano\u001b[0m\n",
      "\u001b[1;32mINFO: Processing song: the blower's daughter\u001b[0m\n",
      "\u001b[1;32mINFO: Downloading song: the blower's daughter\u001b[0m\n",
      "\u001b[1;32mINFO: Successfully processed and saved song: the blower's daughter\u001b[0m\n",
      "\u001b[1;32mINFO: Processing song: i don't want to change you\u001b[0m\n",
      "\u001b[1;32mINFO: Downloading song: i don't want to change you\u001b[0m\n",
      "\u001b[1;32mINFO: Successfully processed and saved song: i don't want to change you\u001b[0m\n",
      "\u001b[1;32mINFO: Processing song: 9 crimes\u001b[0m\n",
      "\u001b[1;32mINFO: Downloading song: 9 crimes\u001b[0m\n",
      "\u001b[1;32mINFO: Successfully processed and saved song: 9 crimes\u001b[0m\n",
      "\u001b[1;32mINFO: Processing song: wet dream\u001b[0m\n",
      "\u001b[1;32mINFO: Downloading song: wet dream\u001b[0m\n",
      "\u001b[1;32mINFO: Successfully processed and saved song: wet dream\u001b[0m\n",
      "\u001b[1;32mINFO: Processing song: little freak\u001b[0m\n",
      "\u001b[1;32mINFO: Downloading song: little freak\u001b[0m\n",
      "\u001b[1;32mINFO: Successfully processed and saved song: little freak\u001b[0m\n",
      "\u001b[1;32mINFO: Processing song: soy de volar\u001b[0m\n",
      "\u001b[1;32mINFO: Downloading song: soy de volar\u001b[0m\n",
      "\u001b[1;32mINFO: Successfully processed and saved song: soy de volar\u001b[0m\n",
      "\u001b[1;32mINFO: Processing song: set the fire to the third bar\u001b[0m\n",
      "\u001b[1;32mINFO: Downloading song: set the fire to the third bar\u001b[0m\n",
      "\u001b[1;32mINFO: Successfully processed and saved song: set the fire to the third bar\u001b[0m\n",
      "\u001b[1;32mINFO: Processing song: hands open\u001b[0m\n",
      "\u001b[1;32mINFO: Downloading song: hands open\u001b[0m\n",
      "\u001b[1;32mINFO: Successfully processed and saved song: hands open\u001b[0m\n",
      "\u001b[1;32mINFO: Processing song: blank space\u001b[0m\n",
      "\u001b[1;32mINFO: Downloading song: blank space\u001b[0m\n",
      "\u001b[1;32mINFO: Successfully processed and saved song: blank space\u001b[0m\n",
      "\u001b[1;32mINFO: Processing song: one life\u001b[0m\n",
      "\u001b[1;32mINFO: Downloading song: one life\u001b[0m\n",
      "\u001b[1;32mINFO: Successfully processed and saved song: one life\u001b[0m\n",
      "\u001b[1;32mINFO: Processing song: teeth\u001b[0m\n",
      "\u001b[1;32mINFO: Downloading song: teeth\u001b[0m\n",
      "\u001b[1;32mINFO: Successfully processed and saved song: teeth\u001b[0m\n",
      "\u001b[1;32mINFO: Processing song: latch - today fm live version\u001b[0m\n",
      "\u001b[1;32mINFO: Downloading song: latch - today fm live version\u001b[0m\n",
      "\u001b[1;32mINFO: Successfully processed and saved song: latch - today fm live version\u001b[0m\n",
      "\u001b[1;32mINFO: Processing song: in my veins - feat. erin mccarley\u001b[0m\n",
      "\u001b[1;32mINFO: Downloading song: in my veins - feat. erin mccarley\u001b[0m\n",
      "\u001b[1;32mINFO: Successfully processed and saved song: in my veins - feat. erin mccarley\u001b[0m\n",
      "\u001b[1;32mINFO: Processing song: bloom (online bonus track)\u001b[0m\n",
      "\u001b[1;32mINFO: Downloading song: bloom (online bonus track)\u001b[0m\n",
      "\u001b[1;32mINFO: Successfully processed and saved song: bloom (online bonus track)\u001b[0m\n",
      "\u001b[1;32mINFO: Processing song: everyone changes - feat. gabriel aplin\u001b[0m\n",
      "\u001b[1;32mINFO: Downloading song: everyone changes - feat. gabriel aplin\u001b[0m\n",
      "\u001b[1;32mINFO: Successfully processed and saved song: everyone changes - feat. gabriel aplin\u001b[0m\n",
      "\u001b[1;32mINFO: Processing song: everything works out in the end\u001b[0m\n",
      "\u001b[1;32mINFO: Downloading song: everything works out in the end\u001b[0m\n",
      "\u001b[1;32mINFO: Successfully processed and saved song: everything works out in the end\u001b[0m\n",
      "\u001b[1;32mINFO: Processing song: follow your fire\u001b[0m\n",
      "\u001b[1;32mINFO: Downloading song: follow your fire\u001b[0m\n",
      "\u001b[1;32mINFO: Successfully processed and saved song: follow your fire\u001b[0m\n",
      "\u001b[1;32mINFO: Processing song: hurtless\u001b[0m\n",
      "\u001b[1;32mINFO: Downloading song: hurtless\u001b[0m\n",
      "\u001b[1;32mINFO: Successfully processed and saved song: hurtless\u001b[0m\n",
      "\u001b[1;32mINFO: Processing song: one day\u001b[0m\n",
      "\u001b[1;32mINFO: Downloading song: one day\u001b[0m\n",
      "\u001b[1;32mINFO: Successfully processed and saved song: one day\u001b[0m\n",
      "\u001b[1;32mINFO: Processing song: animal\u001b[0m\n",
      "\u001b[1;32mINFO: Downloading song: animal\u001b[0m\n",
      "                                                         \r"
     ]
    },
    {
     "name": "stderr",
     "output_type": "stream",
     "text": [
      "\u001b[1;33mWARNING: Lyrics not found for 'animal' by noah kahan using all available providers.\u001b[0m\n"
     ]
    },
    {
     "name": "stdout",
     "output_type": "stream",
     "text": [
      "\u001b[1;32mINFO: Successfully processed and saved song: animal\u001b[0m\n",
      "\u001b[1;32mINFO: Processing song: ready\u001b[0m\n",
      "\u001b[1;32mINFO: Downloading song: ready\u001b[0m\n",
      "\u001b[1;32mINFO: Successfully processed and saved song: ready\u001b[0m\n",
      "\u001b[1;32mINFO: Processing song: high hopes - filous remix\u001b[0m\n",
      "\u001b[1;32mINFO: Downloading song: high hopes - filous remix\u001b[0m\n",
      "\u001b[1;32mINFO: Successfully processed and saved song: high hopes - filous remix\u001b[0m\n",
      "\u001b[1;32mINFO: Processing song: be alright - acoustic\u001b[0m\n",
      "\u001b[1;32mINFO: Downloading song: be alright - acoustic\u001b[0m\n",
      "\u001b[1;32mINFO: Successfully processed and saved song: be alright - acoustic\u001b[0m\n",
      "\u001b[1;32mINFO: Processing song: over you yet\u001b[0m\n",
      "\u001b[1;32mINFO: Downloading song: over you yet\u001b[0m\n",
      "\u001b[1;32mINFO: Successfully processed and saved song: over you yet\u001b[0m\n",
      "\u001b[1;32mINFO: Processing song: falling up - piano acoustic\u001b[0m\n",
      "\u001b[1;32mINFO: Downloading song: falling up - piano acoustic\u001b[0m\n",
      "\u001b[1;32mINFO: Successfully processed and saved song: falling up - piano acoustic\u001b[0m\n",
      "\u001b[1;32mINFO: Processing song: all we are\u001b[0m\n",
      "\u001b[1;32mINFO: Downloading song: all we are\u001b[0m\n",
      "\u001b[1;32mINFO: Successfully processed and saved song: all we are\u001b[0m\n",
      "\u001b[1;32mINFO: Processing song: from now on\u001b[0m\n",
      "\u001b[1;32mINFO: Downloading song: from now on\u001b[0m\n",
      "\u001b[1;32mINFO: Successfully processed and saved song: from now on\u001b[0m\n",
      "\u001b[1;32mINFO: Processing song: warm with you\u001b[0m\n",
      "\u001b[1;32mINFO: Downloading song: warm with you\u001b[0m\n",
      "\u001b[1;32mINFO: Successfully processed and saved song: warm with you\u001b[0m\n",
      "\u001b[1;32mINFO: Processing song: guns for hire (from the series arcane league of legends)\u001b[0m\n",
      "\u001b[1;32mINFO: Downloading song: guns for hire (from the series arcane league of legends)\u001b[0m\n",
      "\u001b[1;32mINFO: Successfully processed and saved song: guns for hire (from the series arcane league of legends)\u001b[0m\n",
      "\u001b[1;32mINFO: Processing song: goodbye (from the series arcane league of legends)\u001b[0m\n",
      "\u001b[1;32mINFO: Downloading song: goodbye (from the series arcane league of legends)\u001b[0m\n",
      "                                                         \r"
     ]
    },
    {
     "name": "stderr",
     "output_type": "stream",
     "text": [
      "\u001b[1;33mWARNING: Lyrics not found for 'goodbye' by ramsey using all available providers.\u001b[0m\n"
     ]
    },
    {
     "name": "stdout",
     "output_type": "stream",
     "text": [
      "\u001b[1;32mINFO: Successfully processed and saved song: goodbye (from the series arcane league of legends)\u001b[0m\n",
      "\u001b[1;32mINFO: Processing song: alexander hamilton\u001b[0m\n",
      "\u001b[1;32mINFO: Downloading song: alexander hamilton\u001b[0m\n",
      "\u001b[1;32mINFO: Successfully processed and saved song: alexander hamilton\u001b[0m\n",
      "\u001b[1;32mINFO: Processing song: rather be (feat. jess glynne)\u001b[0m\n",
      "\u001b[1;32mINFO: Downloading song: rather be (feat. jess glynne)\u001b[0m\n",
      "\u001b[1;32mINFO: Successfully processed and saved song: rather be (feat. jess glynne)\u001b[0m\n",
      "\u001b[1;32mINFO: Processing song: alexander\u001b[0m\n",
      "\u001b[1;32mINFO: Downloading song: alexander\u001b[0m\n",
      "\u001b[1;32mINFO: Successfully processed and saved song: alexander\u001b[0m\n",
      "\u001b[1;32mINFO: Processing song: here with me\u001b[0m\n",
      "\u001b[1;32mINFO: Downloading song: here with me\u001b[0m\n",
      "\u001b[1;32mINFO: Successfully processed and saved song: here with me\u001b[0m\n",
      "\u001b[1;32mINFO: Processing song: cisza i wiatr\u001b[0m\n",
      "\u001b[1;32mINFO: Downloading song: cisza i wiatr\u001b[0m\n",
      "\u001b[1;32mINFO: Successfully processed and saved song: cisza i wiatr\u001b[0m\n",
      "\u001b[1;32mINFO: Processing song: free fallin'\u001b[0m\n",
      "\u001b[1;32mINFO: Downloading song: free fallin'\u001b[0m\n",
      "\u001b[1;32mINFO: Successfully processed and saved song: free fallin'\u001b[0m\n",
      "\u001b[1;32mINFO: Processing song: life itself\u001b[0m\n",
      "\u001b[1;32mINFO: Downloading song: life itself\u001b[0m\n",
      "\u001b[1;32mINFO: Successfully processed and saved song: life itself\u001b[0m\n",
      "\u001b[1;32mINFO: Processing song: the kids from yesterday\u001b[0m\n",
      "\u001b[1;32mINFO: Downloading song: the kids from yesterday\u001b[0m\n",
      "\u001b[1;32mINFO: Successfully processed and saved song: the kids from yesterday\u001b[0m\n",
      "\u001b[1;32mINFO: Processing song: hurt people\u001b[0m\n",
      "\u001b[1;32mINFO: Downloading song: hurt people\u001b[0m\n",
      "\u001b[1;32mINFO: Successfully processed and saved song: hurt people\u001b[0m\n",
      "\u001b[1;32mINFO: Processing song: chciałbym umrzeć z miłości - live\u001b[0m\n",
      "\u001b[1;32mINFO: Downloading song: chciałbym umrzeć z miłości - live\u001b[0m\n",
      "                                                           \r"
     ]
    },
    {
     "name": "stderr",
     "output_type": "stream",
     "text": [
      "\u001b[1;33mWARNING: Lyrics not found for 'chciałbym umrzeć z miłości' by artur rojek using all available providers.\u001b[0m\n"
     ]
    },
    {
     "name": "stdout",
     "output_type": "stream",
     "text": [
      "\u001b[1;32mINFO: Successfully processed and saved song: chciałbym umrzeć z miłości - live\u001b[0m\n",
      "\u001b[1;32mINFO: Processing song: our love (from the series arcane league of legends)\u001b[0m\n",
      "\u001b[1;32mINFO: Downloading song: our love (from the series arcane league of legends)\u001b[0m\n",
      "                                                         \r"
     ]
    },
    {
     "name": "stderr",
     "output_type": "stream",
     "text": [
      "\u001b[1;33mWARNING: Lyrics not found for 'our love' by curtis harding using all available providers.\u001b[0m\n"
     ]
    },
    {
     "name": "stdout",
     "output_type": "stream",
     "text": [
      "\u001b[1;32mINFO: Successfully processed and saved song: our love (from the series arcane league of legends)\u001b[0m\n",
      "\u001b[1;32mINFO: Processing song: all for you\u001b[0m\n",
      "\u001b[1;32mINFO: Downloading song: all for you\u001b[0m\n",
      "\u001b[1;32mINFO: Successfully processed and saved song: all for you\u001b[0m\n",
      "\u001b[1;32mINFO: Processing song: how to save a life - live in nyc - 2009\u001b[0m\n",
      "\u001b[1;32mINFO: Downloading song: how to save a life - live in nyc - 2009\u001b[0m\n",
      "\u001b[1;32mINFO: Successfully processed and saved song: how to save a life - live in nyc - 2009\u001b[0m\n",
      "\u001b[1;32mINFO: Processing song: dobrze, że cię mam\u001b[0m\n",
      "\u001b[1;32mINFO: Downloading song: dobrze, że cię mam\u001b[0m\n",
      "\u001b[1;32mINFO: Successfully processed and saved song: dobrze, że cię mam\u001b[0m\n",
      "\u001b[1;32mINFO: Processing song: what a wonderful world\u001b[0m\n",
      "\u001b[1;32mINFO: Downloading song: what a wonderful world\u001b[0m\n",
      "\u001b[1;32mINFO: Successfully processed and saved song: what a wonderful world\u001b[0m\n",
      "\u001b[1;32mINFO: Processing song: wonderful life\u001b[0m\n",
      "\u001b[1;32mINFO: Downloading song: wonderful life\u001b[0m\n",
      "\u001b[1;32mINFO: Successfully processed and saved song: wonderful life\u001b[0m\n",
      "\u001b[1;32mINFO: Processing song: mimo wszystko\u001b[0m\n",
      "\u001b[1;32mINFO: Downloading song: mimo wszystko\u001b[0m\n",
      "\u001b[1;32mINFO: Successfully processed and saved song: mimo wszystko\u001b[0m\n",
      "\u001b[1;32mINFO: Processing song: hand in hand\u001b[0m\n",
      "\u001b[1;32mINFO: Downloading song: hand in hand\u001b[0m\n",
      "                                                         \r"
     ]
    },
    {
     "name": "stderr",
     "output_type": "stream",
     "text": [
      "\u001b[1;33mWARNING: Lyrics not found for 'hand in hand' by walking on cars using all available providers.\u001b[0m\n"
     ]
    },
    {
     "name": "stdout",
     "output_type": "stream",
     "text": [
      "\u001b[1;32mINFO: Successfully processed and saved song: hand in hand\u001b[0m\n",
      "\u001b[1;32mINFO: Processing song: sunrise\u001b[0m\n",
      "\u001b[1;32mINFO: Downloading song: sunrise\u001b[0m\n",
      "\u001b[1;32mINFO: Successfully processed and saved song: sunrise\u001b[0m\n",
      "\u001b[1;32mINFO: Processing song: for the first time - acoustic\u001b[0m\n",
      "\u001b[1;32mINFO: Downloading song: for the first time - acoustic\u001b[0m\n",
      "\u001b[1;32mINFO: Successfully processed and saved song: for the first time - acoustic\u001b[0m\n",
      "\u001b[1;32mINFO: Processing song: darkroom double\u001b[0m\n",
      "\u001b[1;32mINFO: Downloading song: darkroom double\u001b[0m\n",
      "                                                         \r"
     ]
    },
    {
     "name": "stderr",
     "output_type": "stream",
     "text": [
      "\u001b[1;33mWARNING: Lyrics not found for 'darkroom double' by moon & pollution using all available providers.\u001b[0m\n"
     ]
    },
    {
     "name": "stdout",
     "output_type": "stream",
     "text": [
      "\u001b[1;32mINFO: Successfully processed and saved song: darkroom double\u001b[0m\n",
      "\u001b[1;32mINFO: Processing song: and i love her - remastered 2009\u001b[0m\n",
      "\u001b[1;32mINFO: Downloading song: and i love her - remastered 2009\u001b[0m\n",
      "\u001b[1;32mINFO: Successfully processed and saved song: and i love her - remastered 2009\u001b[0m\n",
      "\u001b[1;32mINFO: Processing song: marry you\u001b[0m\n",
      "\u001b[1;32mINFO: Downloading song: marry you\u001b[0m\n",
      "\u001b[1;32mINFO: Successfully processed and saved song: marry you\u001b[0m\n",
      "\u001b[1;32mINFO: Processing song: kometa\u001b[0m\n",
      "\u001b[1;32mINFO: Downloading song: kometa\u001b[0m\n",
      "\u001b[1;32mINFO: Successfully processed and saved song: kometa\u001b[0m\n",
      "\u001b[1;32mINFO: Processing song: american oxygen\u001b[0m\n",
      "\u001b[1;32mINFO: Downloading song: american oxygen\u001b[0m\n",
      "\u001b[1;32mINFO: Successfully processed and saved song: american oxygen\u001b[0m\n",
      "\u001b[1;32mINFO: Processing song: długa droga w dół\u001b[0m\n",
      "\u001b[1;32mINFO: Downloading song: długa droga w dół\u001b[0m\n",
      "\u001b[1;32mINFO: Successfully processed and saved song: długa droga w dół\u001b[0m\n",
      "\u001b[1;32mINFO: Processing song: powiedz mi, że nie chcesz\u001b[0m\n",
      "\u001b[1;32mINFO: Downloading song: powiedz mi, że nie chcesz\u001b[0m\n",
      "\u001b[1;32mINFO: Successfully processed and saved song: powiedz mi, że nie chcesz\u001b[0m\n",
      "\u001b[1;32mINFO: Processing song: autobiografia\u001b[0m\n",
      "\u001b[1;32mINFO: Downloading song: autobiografia\u001b[0m\n",
      "\u001b[1;32mINFO: Successfully processed and saved song: autobiografia\u001b[0m\n",
      "\u001b[1;32mINFO: Processing song: moondust\u001b[0m\n",
      "\u001b[1;32mINFO: Downloading song: moondust\u001b[0m\n",
      "\u001b[1;32mINFO: Successfully processed and saved song: moondust\u001b[0m\n",
      "\u001b[1;32mINFO: Processing song: forever\u001b[0m\n",
      "\u001b[1;32mINFO: Downloading song: forever\u001b[0m\n",
      "                                                         \r"
     ]
    },
    {
     "name": "stderr",
     "output_type": "stream",
     "text": [
      "\u001b[1;33mWARNING: Lyrics not found for 'forever' by lewis capaldi using all available providers.\u001b[0m\n"
     ]
    },
    {
     "name": "stdout",
     "output_type": "stream",
     "text": [
      "\u001b[1;32mINFO: Successfully processed and saved song: forever\u001b[0m\n",
      "\u001b[1;32mINFO: Processing song: organs\u001b[0m\n",
      "\u001b[1;32mINFO: Downloading song: organs\u001b[0m\n",
      "\u001b[1;32mINFO: Successfully processed and saved song: organs\u001b[0m\n",
      "\u001b[1;32mINFO: Processing song: when your heart is a stranger\u001b[0m\n",
      "\u001b[1;32mINFO: Downloading song: when your heart is a stranger\u001b[0m\n",
      "\u001b[1;32mINFO: Successfully processed and saved song: when your heart is a stranger\u001b[0m\n",
      "\u001b[1;32mINFO: Processing song: broken\u001b[0m\n",
      "\u001b[1;32mINFO: Downloading song: broken\u001b[0m\n",
      "                                                         \r"
     ]
    },
    {
     "name": "stderr",
     "output_type": "stream",
     "text": [
      "\u001b[1;33mWARNING: Lyrics not found for 'broken' by jonah kagen using all available providers.\u001b[0m\n"
     ]
    },
    {
     "name": "stdout",
     "output_type": "stream",
     "text": [
      "\u001b[1;32mINFO: Successfully processed and saved song: broken\u001b[0m\n",
      "\u001b[1;32mINFO: Processing song: white suburban\u001b[0m\n",
      "\u001b[1;32mINFO: Downloading song: white suburban\u001b[0m\n",
      "\u001b[1;32mINFO: Successfully processed and saved song: white suburban\u001b[0m\n",
      "\u001b[1;32mINFO: Processing song: redbone\u001b[0m\n",
      "\u001b[1;32mINFO: Downloading song: redbone\u001b[0m\n",
      "\u001b[1;32mINFO: Successfully processed and saved song: redbone\u001b[0m\n",
      "\u001b[1;32mINFO: Processing song: sen we śnie\u001b[0m\n",
      "\u001b[1;32mINFO: Downloading song: sen we śnie\u001b[0m\n",
      "\u001b[1;32mINFO: Successfully processed and saved song: sen we śnie\u001b[0m\n",
      "\u001b[1;32mINFO: Processing song: hallelujah\u001b[0m\n",
      "\u001b[1;32mINFO: Downloading song: hallelujah\u001b[0m\n",
      "\u001b[1;32mINFO: Successfully processed and saved song: hallelujah\u001b[0m\n",
      "\u001b[1;32mINFO: Processing song: playground (from the series arcane league of legends)\u001b[0m\n",
      "\u001b[1;32mINFO: Downloading song: playground (from the series arcane league of legends)\u001b[0m\n",
      "\u001b[1;32mINFO: Successfully processed and saved song: playground (from the series arcane league of legends)\u001b[0m\n",
      "\u001b[1;32mINFO: Processing song: g o o d\u001b[0m\n",
      "\u001b[1;32mINFO: Downloading song: g o o d\u001b[0m\n",
      "                                                           \r"
     ]
    },
    {
     "name": "stderr",
     "output_type": "stream",
     "text": [
      "\u001b[1;33mWARNING: Lyrics not found for 'g o o d' by erin mccarley using all available providers.\u001b[0m\n"
     ]
    },
    {
     "name": "stdout",
     "output_type": "stream",
     "text": [
      "\u001b[1;32mINFO: Successfully processed and saved song: g o o d\u001b[0m\n",
      "\u001b[1;32mINFO: Processing song: atado entre tus manos\u001b[0m\n",
      "\u001b[1;32mINFO: Downloading song: atado entre tus manos\u001b[0m\n",
      "\u001b[1;32mINFO: Successfully processed and saved song: atado entre tus manos\u001b[0m\n",
      "\u001b[1;32mINFO: Processing song: the unforgiven\u001b[0m\n",
      "\u001b[1;32mINFO: Downloading song: the unforgiven\u001b[0m\n",
      "\u001b[1;32mINFO: Successfully processed and saved song: the unforgiven\u001b[0m\n",
      "\u001b[1;32mINFO: Processing song: beniamin\u001b[0m\n",
      "\u001b[1;32mINFO: Downloading song: beniamin\u001b[0m\n",
      "\u001b[1;32mINFO: Successfully processed and saved song: beniamin\u001b[0m\n",
      "\u001b[1;32mINFO: Processing song: słońce pokonał cień\u001b[0m\n",
      "\u001b[1;32mINFO: Downloading song: słońce pokonał cień\u001b[0m\n",
      "\u001b[1;32mINFO: Successfully processed and saved song: słońce pokonał cień\u001b[0m\n",
      "\u001b[1;32mINFO: Processing song: liczysz się tylko ty - radio edit\u001b[0m\n",
      "\u001b[1;32mINFO: Downloading song: liczysz się tylko ty - radio edit\u001b[0m\n",
      "\u001b[1;32mINFO: Successfully processed and saved song: liczysz się tylko ty - radio edit\u001b[0m\n",
      "\u001b[1;32mINFO: Processing song: baśka\u001b[0m\n",
      "\u001b[1;32mINFO: Downloading song: baśka\u001b[0m\n",
      "\u001b[1;32mINFO: Successfully processed and saved song: baśka\u001b[0m\n",
      "\u001b[1;32mINFO: Processing song: wenus, tu mars\u001b[0m\n",
      "\u001b[1;32mINFO: Downloading song: wenus, tu mars\u001b[0m\n",
      "                                                         \r"
     ]
    },
    {
     "name": "stderr",
     "output_type": "stream",
     "text": [
      "\u001b[1;33mWARNING: Lyrics not found for 'wenus, tu mars' by wilki using all available providers.\u001b[0m\n"
     ]
    },
    {
     "name": "stdout",
     "output_type": "stream",
     "text": [
      "\u001b[1;32mINFO: Successfully processed and saved song: wenus, tu mars\u001b[0m\n",
      "\u001b[1;32mINFO: Processing song: restless\u001b[0m\n",
      "\u001b[1;32mINFO: Downloading song: restless\u001b[0m\n",
      "\u001b[1;32mINFO: Successfully processed and saved song: restless\u001b[0m\n",
      "\u001b[1;32mINFO: Processing song: bad day\u001b[0m\n",
      "\u001b[1;32mINFO: Downloading song: bad day\u001b[0m\n",
      "\u001b[1;32mINFO: Successfully processed and saved song: bad day\u001b[0m\n",
      "\u001b[1;32mINFO: Processing song: hola\u001b[0m\n",
      "\u001b[1;32mINFO: Downloading song: hola\u001b[0m\n",
      "\u001b[1;32mINFO: Successfully processed and saved song: hola\u001b[0m\n",
      "\u001b[1;32mINFO: Processing song: happiest year\u001b[0m\n",
      "\u001b[1;32mINFO: Downloading song: happiest year\u001b[0m\n",
      "\u001b[1;32mINFO: Successfully processed and saved song: happiest year\u001b[0m\n",
      "\u001b[1;32mINFO: Processing song: never too late\u001b[0m\n",
      "\u001b[1;32mINFO: Downloading song: never too late\u001b[0m\n",
      "\u001b[1;32mINFO: Successfully processed and saved song: never too late\u001b[0m\n",
      "\u001b[1;32mINFO: Processing song: caída libre\u001b[0m\n",
      "\u001b[1;32mINFO: Downloading song: caída libre\u001b[0m\n",
      "                                                         \r"
     ]
    },
    {
     "name": "stderr",
     "output_type": "stream",
     "text": [
      "\u001b[1;33mWARNING: Lyrics not found for 'caída libre' by vanesa martín using all available providers.\u001b[0m\n"
     ]
    },
    {
     "name": "stdout",
     "output_type": "stream",
     "text": [
      "\u001b[1;32mINFO: Successfully processed and saved song: caída libre\u001b[0m\n",
      "\u001b[1;32mINFO: Processing song: storm\u001b[0m\n",
      "\u001b[1;32mINFO: Downloading song: storm\u001b[0m\n",
      "\u001b[1;32mINFO: Successfully processed and saved song: storm\u001b[0m\n",
      "\u001b[1;32mINFO: Processing song: city lights - acoustic\u001b[0m\n",
      "\u001b[1;32mINFO: Downloading song: city lights - acoustic\u001b[0m\n",
      "\u001b[1;32mINFO: Successfully processed and saved song: city lights - acoustic\u001b[0m\n",
      "\u001b[1;32mINFO: Processing song: aléjate de mí\u001b[0m\n",
      "\u001b[1;32mINFO: Downloading song: aléjate de mí\u001b[0m\n",
      "\u001b[1;32mINFO: Successfully processed and saved song: aléjate de mí\u001b[0m\n",
      "\u001b[1;32mINFO: Processing song: miłość\u001b[0m\n",
      "\u001b[1;32mINFO: Song miłość already downloaded, skipping download.\u001b[0m\n"
     ]
    },
    {
     "name": "stderr",
     "output_type": "stream",
     "text": [
      "\u001b[1;33mWARNING: Lyrics not found for 'miłość' by myslovitz using all available providers.\u001b[0m\n"
     ]
    },
    {
     "name": "stdout",
     "output_type": "stream",
     "text": [
      "\u001b[1;32mINFO: Successfully processed and saved song: miłość\u001b[0m\n",
      "\u001b[1;32mINFO: Processing song: used to love (with dean lewis)\u001b[0m\n",
      "\u001b[1;32mINFO: Downloading song: used to love (with dean lewis)\u001b[0m\n",
      "\u001b[1;32mINFO: Successfully processed and saved song: used to love (with dean lewis)\u001b[0m\n",
      "\u001b[1;32mINFO: Processing song: falling up\u001b[0m\n",
      "\u001b[1;32mINFO: Downloading song: falling up\u001b[0m\n",
      "\u001b[1;32mINFO: Successfully processed and saved song: falling up\u001b[0m\n",
      "\u001b[1;32mINFO: Processing song: waves\u001b[0m\n",
      "\u001b[1;32mINFO: Downloading song: waves\u001b[0m\n",
      "\u001b[1;32mINFO: Successfully processed and saved song: waves\u001b[0m\n",
      "\u001b[1;32mINFO: Processing song: rest of us\u001b[0m\n",
      "\u001b[1;32mINFO: Downloading song: rest of us\u001b[0m\n",
      "\u001b[1;32mINFO: Successfully processed and saved song: rest of us\u001b[0m\n",
      "\u001b[1;32mINFO: Processing song: dawning of spring\u001b[0m\n",
      "\u001b[1;32mINFO: Downloading song: dawning of spring\u001b[0m\n",
      "\u001b[1;32mINFO: Successfully processed and saved song: dawning of spring\u001b[0m\n",
      "\u001b[1;32mINFO: Processing song: taking pictures of you\u001b[0m\n",
      "\u001b[1;32mINFO: Downloading song: taking pictures of you\u001b[0m\n",
      "\u001b[1;32mINFO: Successfully processed and saved song: taking pictures of you\u001b[0m\n",
      "\u001b[1;32mINFO: Processing song: lose somebody\u001b[0m\n",
      "\u001b[1;32mINFO: Downloading song: lose somebody\u001b[0m\n",
      "\u001b[1;32mINFO: Successfully processed and saved song: lose somebody\u001b[0m\n",
      "\u001b[1;32mINFO: Processing song: apocalypse\u001b[0m\n",
      "\u001b[1;32mINFO: Downloading song: apocalypse\u001b[0m\n",
      "\u001b[1;32mINFO: Successfully processed and saved song: apocalypse\u001b[0m\n",
      "\u001b[1;32mINFO: Processing song: woke up in bangkok - acoustic version\u001b[0m\n",
      "\u001b[1;32mINFO: Downloading song: woke up in bangkok - acoustic version\u001b[0m\n",
      "\u001b[1;32mINFO: Successfully processed and saved song: woke up in bangkok - acoustic version\u001b[0m\n",
      "\u001b[1;32mINFO: Processing song: wake me up\u001b[0m\n",
      "\u001b[1;32mINFO: Song wake me up already downloaded, skipping download.\u001b[0m\n"
     ]
    },
    {
     "name": "stderr",
     "output_type": "stream",
     "text": [
      "\u001b[1;33mWARNING: Lyrics not found for 'wake me up' by tommee profitt using all available providers.\u001b[0m\n"
     ]
    },
    {
     "name": "stdout",
     "output_type": "stream",
     "text": [
      "\u001b[1;32mINFO: Successfully processed and saved song: wake me up\u001b[0m\n",
      "\u001b[1;32mINFO: Processing song: wake me up - acoustic\u001b[0m\n",
      "\u001b[1;32mINFO: Downloading song: wake me up - acoustic\u001b[0m\n",
      "\u001b[1;32mINFO: Successfully processed and saved song: wake me up - acoustic\u001b[0m\n",
      "\u001b[1;32mINFO: Processing song: wake me up\u001b[0m\n",
      "\u001b[1;32mINFO: Song wake me up already downloaded, skipping download.\u001b[0m\n",
      "\u001b[1;32mINFO: Successfully processed and saved song: wake me up\u001b[0m\n",
      "\u001b[1;32mINFO: Processing song: tech noir\u001b[0m\n",
      "\u001b[1;32mINFO: Downloading song: tech noir\u001b[0m\n",
      "\u001b[1;32mINFO: Successfully processed and saved song: tech noir\u001b[0m\n",
      "\u001b[1;32mINFO: Processing song: taking care of things\u001b[0m\n",
      "\u001b[1;32mINFO: Downloading song: taking care of things\u001b[0m\n",
      "\u001b[1;32mINFO: Successfully processed and saved song: taking care of things\u001b[0m\n",
      "\u001b[1;32mINFO: Processing song: advice\u001b[0m\n",
      "\u001b[1;32mINFO: Downloading song: advice\u001b[0m\n",
      "\u001b[1;32mINFO: Successfully processed and saved song: advice\u001b[0m\n",
      "\u001b[1;32mINFO: Processing song: hug all ur friends\u001b[0m\n",
      "\u001b[1;32mINFO: Downloading song: hug all ur friends\u001b[0m\n",
      "\u001b[1;32mINFO: Successfully processed and saved song: hug all ur friends\u001b[0m\n",
      "\u001b[1;32mINFO: Processing song: somebody's baby\u001b[0m\n",
      "\u001b[1;32mINFO: Downloading song: somebody's baby\u001b[0m\n",
      "\u001b[1;32mINFO: Successfully processed and saved song: somebody's baby\u001b[0m\n",
      "\u001b[1;32mINFO: Processing song: light a fire\u001b[0m\n",
      "\u001b[1;32mINFO: Downloading song: light a fire\u001b[0m\n",
      "\u001b[1;32mINFO: Successfully processed and saved song: light a fire\u001b[0m\n",
      "\u001b[1;32mINFO: Processing song: world on fire\u001b[0m\n",
      "\u001b[1;32mINFO: Downloading song: world on fire\u001b[0m\n",
      "\u001b[1;32mINFO: Successfully processed and saved song: world on fire\u001b[0m\n",
      "\u001b[1;32mINFO: Processing song: lose yourself to dance (feat. pharrell williams)\u001b[0m\n",
      "\u001b[1;32mINFO: Downloading song: lose yourself to dance (feat. pharrell williams)\u001b[0m\n",
      "\u001b[1;32mINFO: Successfully processed and saved song: lose yourself to dance (feat. pharrell williams)\u001b[0m\n",
      "\u001b[1;32mINFO: Processing song: gamesofluck\u001b[0m\n",
      "\u001b[1;32mINFO: Downloading song: gamesofluck\u001b[0m\n",
      "\u001b[1;32mINFO: Successfully processed and saved song: gamesofluck\u001b[0m\n",
      "\u001b[1;32mINFO: Processing song: instant crush (feat. julian casablancas)\u001b[0m\n",
      "\u001b[1;32mINFO: Downloading song: instant crush (feat. julian casablancas)\u001b[0m\n",
      "\u001b[1;32mINFO: Successfully processed and saved song: instant crush (feat. julian casablancas)\u001b[0m\n",
      "\u001b[1;32mINFO: Processing song: open up your eyes\u001b[0m\n",
      "\u001b[1;32mINFO: Downloading song: open up your eyes\u001b[0m\n",
      "\u001b[1;32mINFO: Successfully processed and saved song: open up your eyes\u001b[0m\n",
      "\u001b[1;32mINFO: Processing song: letting go\u001b[0m\n",
      "\u001b[1;32mINFO: Downloading song: letting go\u001b[0m\n",
      "                                                         \r"
     ]
    },
    {
     "name": "stderr",
     "output_type": "stream",
     "text": [
      "\u001b[1;33mWARNING: Lyrics not found for 'letting go' by tristan prettyman using all available providers.\u001b[0m\n"
     ]
    },
    {
     "name": "stdout",
     "output_type": "stream",
     "text": [
      "\u001b[1;32mINFO: Successfully processed and saved song: letting go\u001b[0m\n",
      "\u001b[1;32mINFO: Processing song: song for the rich\u001b[0m\n",
      "\u001b[1;32mINFO: Downloading song: song for the rich\u001b[0m\n",
      "\u001b[1;32mINFO: Successfully processed and saved song: song for the rich\u001b[0m\n",
      "\u001b[1;32mINFO: Processing song: i was gonna marry you\u001b[0m\n",
      "\u001b[1;32mINFO: Downloading song: i was gonna marry you\u001b[0m\n",
      "\u001b[1;32mINFO: Successfully processed and saved song: i was gonna marry you\u001b[0m\n",
      "\u001b[1;32mINFO: Processing song: when we were young\u001b[0m\n",
      "\u001b[1;32mINFO: Downloading song: when we were young\u001b[0m\n",
      "                                                         \r"
     ]
    },
    {
     "name": "stderr",
     "output_type": "stream",
     "text": [
      "\u001b[1;33mWARNING: Lyrics not found for 'when we were young' by hollow coves using all available providers.\u001b[0m\n"
     ]
    },
    {
     "name": "stdout",
     "output_type": "stream",
     "text": [
      "\u001b[1;32mINFO: Successfully processed and saved song: when we were young\u001b[0m\n",
      "\u001b[1;32mINFO: Processing song: coastline\u001b[0m\n",
      "\u001b[1;32mINFO: Downloading song: coastline\u001b[0m\n",
      "\u001b[1;32mINFO: Successfully processed and saved song: coastline\u001b[0m\n",
      "\u001b[1;32mINFO: Processing song: if the world was ending (feat. julia michaels)\u001b[0m\n",
      "\u001b[1;32mINFO: Downloading song: if the world was ending (feat. julia michaels)\u001b[0m\n",
      "\u001b[1;32mINFO: Successfully processed and saved song: if the world was ending (feat. julia michaels)\u001b[0m\n",
      "\u001b[1;32mINFO: Processing song: crazier things (with noah kahan)\u001b[0m\n",
      "\u001b[1;32mINFO: Downloading song: crazier things (with noah kahan)\u001b[0m\n",
      "\u001b[1;32mINFO: Successfully processed and saved song: crazier things (with noah kahan)\u001b[0m\n",
      "\u001b[1;32mINFO: Processing song: lost\u001b[0m\n",
      "\u001b[1;32mINFO: Downloading song: lost\u001b[0m\n",
      "                                                         \r"
     ]
    },
    {
     "name": "stderr",
     "output_type": "stream",
     "text": [
      "\u001b[1;33mWARNING: Lyrics not found for 'lost' by blake rose using all available providers.\u001b[0m\n"
     ]
    },
    {
     "name": "stdout",
     "output_type": "stream",
     "text": [
      "\u001b[1;32mINFO: Successfully processed and saved song: lost\u001b[0m\n",
      "\u001b[1;32mINFO: Processing song: wanted\u001b[0m\n",
      "\u001b[1;32mINFO: Downloading song: wanted\u001b[0m\n",
      "                                                           \r"
     ]
    },
    {
     "name": "stderr",
     "output_type": "stream",
     "text": [
      "\u001b[1;33mWARNING: Lyrics not found for 'wanted' by onerepublic using all available providers.\u001b[0m\n"
     ]
    },
    {
     "name": "stdout",
     "output_type": "stream",
     "text": [
      "\u001b[1;32mINFO: Successfully processed and saved song: wanted\u001b[0m\n",
      "\u001b[1;32mINFO: Processing song: someday\u001b[0m\n",
      "\u001b[1;32mINFO: Downloading song: someday\u001b[0m\n",
      "\u001b[1;32mINFO: Successfully processed and saved song: someday\u001b[0m\n",
      "\u001b[1;32mINFO: Processing song: bo jesteś ty\u001b[0m\n",
      "\u001b[1;32mINFO: Downloading song: bo jesteś ty\u001b[0m\n",
      "\u001b[1;32mINFO: Successfully processed and saved song: bo jesteś ty\u001b[0m\n",
      "\u001b[1;32mINFO: Processing song: in the air tonight\u001b[0m\n",
      "\u001b[1;32mINFO: Downloading song: in the air tonight\u001b[0m\n",
      "                                                         \r"
     ]
    },
    {
     "name": "stderr",
     "output_type": "stream",
     "text": [
      "\u001b[1;33mWARNING: Lyrics not found for 'in the air tonight' by jon howard using all available providers.\u001b[0m\n"
     ]
    },
    {
     "name": "stdout",
     "output_type": "stream",
     "text": [
      "\u001b[1;32mINFO: Successfully processed and saved song: in the air tonight\u001b[0m\n",
      "\u001b[1;32mINFO: Processing song: judgement day\u001b[0m\n",
      "\u001b[1;32mINFO: Downloading song: judgement day\u001b[0m\n",
      "\u001b[1;32mINFO: Successfully processed and saved song: judgement day\u001b[0m\n",
      "\u001b[1;32mINFO: Processing song: the story\u001b[0m\n",
      "\u001b[1;32mINFO: Downloading song: the story\u001b[0m\n",
      "\u001b[1;32mINFO: Successfully processed and saved song: the story\u001b[0m\n",
      "\u001b[1;32mINFO: Processing song: too sad to cry\u001b[0m\n",
      "\u001b[1;32mINFO: Downloading song: too sad to cry\u001b[0m\n",
      "\u001b[1;32mINFO: Successfully processed and saved song: too sad to cry\u001b[0m\n",
      "\u001b[1;32mINFO: Processing song: wildfire\u001b[0m\n",
      "\u001b[1;32mINFO: Downloading song: wildfire\u001b[0m\n",
      "                                                         \r"
     ]
    },
    {
     "name": "stderr",
     "output_type": "stream",
     "text": [
      "\u001b[1;33mWARNING: Lyrics not found for 'wildfire' by against the current using all available providers.\u001b[0m\n"
     ]
    },
    {
     "name": "stdout",
     "output_type": "stream",
     "text": [
      "\u001b[1;32mINFO: Successfully processed and saved song: wildfire\u001b[0m\n",
      "\u001b[1;32mINFO: Processing song: suivre le soleil\u001b[0m\n",
      "\u001b[1;32mINFO: Downloading song: suivre le soleil\u001b[0m\n",
      "\u001b[1;32mINFO: Successfully processed and saved song: suivre le soleil\u001b[0m\n",
      "\u001b[1;32mINFO: Processing song: i don't dance\u001b[0m\n",
      "\u001b[1;32mINFO: Downloading song: i don't dance\u001b[0m\n",
      "\u001b[1;32mINFO: Successfully processed and saved song: i don't dance\u001b[0m\n",
      "\u001b[1;32mINFO: Processing song: somebody help me\u001b[0m\n",
      "\u001b[1;32mINFO: Downloading song: somebody help me\u001b[0m\n",
      "\u001b[1;32mINFO: Successfully processed and saved song: somebody help me\u001b[0m\n",
      "\u001b[1;32mINFO: Processing song: it's u\u001b[0m\n",
      "\u001b[1;32mINFO: Downloading song: it's u\u001b[0m\n",
      "\u001b[1;32mINFO: Successfully processed and saved song: it's u\u001b[0m\n",
      "\u001b[1;32mINFO: Processing song: another one of those days\u001b[0m\n",
      "\u001b[1;32mINFO: Downloading song: another one of those days\u001b[0m\n",
      "\u001b[1;32mINFO: Successfully processed and saved song: another one of those days\u001b[0m\n",
      "\u001b[1;32mINFO: Processing song: lemon boy\u001b[0m\n",
      "\u001b[1;32mINFO: Downloading song: lemon boy\u001b[0m\n",
      "\u001b[1;32mINFO: Successfully processed and saved song: lemon boy\u001b[0m\n",
      "\u001b[1;32mINFO: Processing song: poison\u001b[0m\n",
      "\u001b[1;32mINFO: Downloading song: poison\u001b[0m\n",
      "                                                         \r"
     ]
    },
    {
     "name": "stderr",
     "output_type": "stream",
     "text": [
      "\u001b[1;33mWARNING: Lyrics not found for 'poison' by cavetown using all available providers.\u001b[0m\n"
     ]
    },
    {
     "name": "stdout",
     "output_type": "stream",
     "text": [
      "\u001b[1;32mINFO: Successfully processed and saved song: poison\u001b[0m\n",
      "\u001b[1;32mINFO: Processing song: this is home\u001b[0m\n",
      "\u001b[1;32mINFO: Downloading song: this is home\u001b[0m\n",
      "\u001b[1;32mINFO: Successfully processed and saved song: this is home\u001b[0m\n",
      "\u001b[1;32mINFO: Processing song: home\u001b[0m\n",
      "\u001b[1;32mINFO: Downloading song: home\u001b[0m\n",
      "                                                         \r"
     ]
    },
    {
     "name": "stderr",
     "output_type": "stream",
     "text": [
      "\u001b[1;33mWARNING: Lyrics not found for 'home' by cavetown using all available providers.\u001b[0m\n"
     ]
    },
    {
     "name": "stdout",
     "output_type": "stream",
     "text": [
      "\u001b[1;32mINFO: Successfully processed and saved song: home\u001b[0m\n",
      "\u001b[1;32mINFO: Processing song: juliet\u001b[0m\n",
      "\u001b[1;32mINFO: Downloading song: juliet\u001b[0m\n",
      "\u001b[1;32mINFO: Successfully processed and saved song: juliet\u001b[0m\n",
      "\u001b[1;32mINFO: Processing song: fourth of july\u001b[0m\n",
      "\u001b[1;32mINFO: Downloading song: fourth of july\u001b[0m\n",
      "\u001b[1;32mINFO: Successfully processed and saved song: fourth of july\u001b[0m\n",
      "\u001b[1;32mINFO: Processing song: i think we're alone now\u001b[0m\n",
      "\u001b[1;32mINFO: Downloading song: i think we're alone now\u001b[0m\n",
      "                                                         \r"
     ]
    },
    {
     "name": "stderr",
     "output_type": "stream",
     "text": [
      "\u001b[1;33mWARNING: Lyrics not found for 'i think we're alone now' by linney using all available providers.\u001b[0m\n"
     ]
    },
    {
     "name": "stdout",
     "output_type": "stream",
     "text": [
      "\u001b[1;32mINFO: Successfully processed and saved song: i think we're alone now\u001b[0m\n",
      "\u001b[1;32mINFO: Processing song: all too well (10 minute version) (taylor's version) (from the vault)\u001b[0m\n",
      "\u001b[1;32mINFO: Downloading song: all too well (10 minute version) (taylor's version) (from the vault)\u001b[0m\n",
      "\u001b[1;32mINFO: Successfully processed and saved song: all too well (10 minute version) (taylor's version) (from the vault)\u001b[0m\n",
      "\u001b[1;32mINFO: Processing song: żmijowisko\u001b[0m\n",
      "\u001b[1;32mINFO: Downloading song: żmijowisko\u001b[0m\n",
      "\u001b[1;32mINFO: Successfully processed and saved song: żmijowisko\u001b[0m\n",
      "\u001b[1;32mINFO: Processing song: zaufaj - piosenka z filmu kobieta sukcesu\u001b[0m\n",
      "\u001b[1;32mINFO: Downloading song: zaufaj - piosenka z filmu kobieta sukcesu\u001b[0m\n",
      "                                                         \r"
     ]
    },
    {
     "name": "stderr",
     "output_type": "stream",
     "text": [
      "\u001b[1;33mWARNING: Lyrics not found for 'zaufaj' by afromental using all available providers.\u001b[0m\n"
     ]
    },
    {
     "name": "stdout",
     "output_type": "stream",
     "text": [
      "\u001b[1;32mINFO: Successfully processed and saved song: zaufaj - piosenka z filmu kobieta sukcesu\u001b[0m\n",
      "\u001b[1;32mINFO: Processing song: gotowi na wszystko\u001b[0m\n",
      "\u001b[1;32mINFO: Downloading song: gotowi na wszystko\u001b[0m\n",
      "                                                         \r"
     ]
    },
    {
     "name": "stderr",
     "output_type": "stream",
     "text": [
      "\u001b[1;33mWARNING: Lyrics not found for 'gotowi na wszystko' by feel using all available providers.\u001b[0m\n"
     ]
    },
    {
     "name": "stdout",
     "output_type": "stream",
     "text": [
      "\u001b[1;32mINFO: Successfully processed and saved song: gotowi na wszystko\u001b[0m\n",
      "\u001b[1;32mINFO: Processing song: na chwile\u001b[0m\n",
      "\u001b[1;32mINFO: Downloading song: na chwile\u001b[0m\n",
      "\u001b[1;32mINFO: Successfully processed and saved song: na chwile\u001b[0m\n",
      "\u001b[1;32mINFO: Processing song: mała\u001b[0m\n",
      "\u001b[1;32mINFO: Downloading song: mała\u001b[0m\n",
      "\u001b[1;32mINFO: Successfully processed and saved song: mała\u001b[0m\n",
      "\u001b[1;32mINFO: Processing song: jutro\u001b[0m\n",
      "\u001b[1;32mINFO: Downloading song: jutro\u001b[0m\n",
      "                                                         \r"
     ]
    },
    {
     "name": "stderr",
     "output_type": "stream",
     "text": [
      "\u001b[1;33mWARNING: Lyrics not found for 'jutro' by lemon using all available providers.\u001b[0m\n"
     ]
    },
    {
     "name": "stdout",
     "output_type": "stream",
     "text": [
      "\u001b[1;32mINFO: Successfully processed and saved song: jutro\u001b[0m\n",
      "\u001b[1;32mINFO: Processing song: prosto w serce\u001b[0m\n",
      "\u001b[1;32mINFO: Downloading song: prosto w serce\u001b[0m\n",
      "                                                         \r"
     ]
    },
    {
     "name": "stderr",
     "output_type": "stream",
     "text": [
      "\u001b[1;33mWARNING: Lyrics not found for 'prosto w serce' by de mono using all available providers.\u001b[0m\n"
     ]
    },
    {
     "name": "stdout",
     "output_type": "stream",
     "text": [
      "\u001b[1;32mINFO: Successfully processed and saved song: prosto w serce\u001b[0m\n",
      "\u001b[1;32mINFO: Processing song: nightclub love\u001b[0m\n",
      "\u001b[1;32mINFO: Downloading song: nightclub love\u001b[0m\n",
      "\u001b[1;32mINFO: Successfully processed and saved song: nightclub love\u001b[0m\n",
      "\u001b[1;32mINFO: Processing song: swoje szczęście znam\u001b[0m\n",
      "\u001b[1;32mINFO: Downloading song: swoje szczęście znam\u001b[0m\n",
      "\u001b[1;32mINFO: Successfully processed and saved song: swoje szczęście znam\u001b[0m\n",
      "\u001b[1;32mINFO: Processing song: niepisane\u001b[0m\n",
      "\u001b[1;32mINFO: Downloading song: niepisane\u001b[0m\n",
      "                                                         \r"
     ]
    },
    {
     "name": "stderr",
     "output_type": "stream",
     "text": [
      "\u001b[1;33mWARNING: Lyrics not found for 'niepisane' by bracia using all available providers.\u001b[0m\n"
     ]
    },
    {
     "name": "stdout",
     "output_type": "stream",
     "text": [
      "\u001b[1;32mINFO: Successfully processed and saved song: niepisane\u001b[0m\n",
      "\u001b[1;32mINFO: Processing song: revelations day\u001b[0m\n",
      "\u001b[1;32mINFO: Downloading song: revelations day\u001b[0m\n",
      "\u001b[1;32mINFO: Successfully processed and saved song: revelations day\u001b[0m\n",
      "\u001b[1;32mINFO: Processing song: moj swiat bez ciebie\u001b[0m\n",
      "\u001b[1;32mINFO: Downloading song: moj swiat bez ciebie\u001b[0m\n",
      "\u001b[1;32mINFO: Successfully processed and saved song: moj swiat bez ciebie\u001b[0m\n",
      "\u001b[1;32mINFO: Processing song: mój bóg\u001b[0m\n",
      "\u001b[1;32mINFO: Downloading song: mój bóg\u001b[0m\n",
      "\u001b[1;32mINFO: Successfully processed and saved song: mój bóg\u001b[0m\n",
      "\u001b[1;32mINFO: Processing song: magiczne słowa\u001b[0m\n",
      "\u001b[1;32mINFO: Downloading song: magiczne słowa\u001b[0m\n",
      "                                                         \r"
     ]
    },
    {
     "name": "stderr",
     "output_type": "stream",
     "text": [
      "\u001b[1;33mWARNING: Lyrics not found for 'magiczne słowa' by ziyo using all available providers.\u001b[0m\n"
     ]
    },
    {
     "name": "stdout",
     "output_type": "stream",
     "text": [
      "\u001b[1;32mINFO: Successfully processed and saved song: magiczne słowa\u001b[0m\n",
      "\u001b[1;32mINFO: Processing song: fire in your eyes (ay ay)\u001b[0m\n",
      "\u001b[1;32mINFO: Downloading song: fire in your eyes (ay ay)\u001b[0m\n",
      "                                                         \r"
     ]
    },
    {
     "name": "stderr",
     "output_type": "stream",
     "text": [
      "\u001b[1;33mWARNING: Lyrics not found for 'fire in your eyes' by twoface using all available providers.\u001b[0m\n"
     ]
    },
    {
     "name": "stdout",
     "output_type": "stream",
     "text": [
      "\u001b[1;32mINFO: Successfully processed and saved song: fire in your eyes (ay ay)\u001b[0m\n",
      "\u001b[1;32mINFO: Processing song: nie daj mi odejść\u001b[0m\n",
      "\u001b[1;32mINFO: Downloading song: nie daj mi odejść\u001b[0m\n",
      "\u001b[1;32mINFO: Successfully processed and saved song: nie daj mi odejść\u001b[0m\n",
      "\u001b[1;32mINFO: Processing song: gdy kiedyś znów zawołam cię\u001b[0m\n",
      "\u001b[1;32mINFO: Downloading song: gdy kiedyś znów zawołam cię\u001b[0m\n",
      "\u001b[1;32mINFO: Successfully processed and saved song: gdy kiedyś znów zawołam cię\u001b[0m\n",
      "\u001b[1;32mINFO: Processing song: na krawędzi życia\u001b[0m\n",
      "\u001b[1;32mINFO: Downloading song: na krawędzi życia\u001b[0m\n",
      "\u001b[1;32mINFO: Successfully processed and saved song: na krawędzi życia\u001b[0m\n",
      "\u001b[1;32mINFO: Processing song: planety\u001b[0m\n",
      "\u001b[1;32mINFO: Downloading song: planety\u001b[0m\n",
      "                                                         \r"
     ]
    },
    {
     "name": "stderr",
     "output_type": "stream",
     "text": [
      "\u001b[1;33mWARNING: Lyrics not found for 'planety' by ira using all available providers.\u001b[0m\n"
     ]
    },
    {
     "name": "stdout",
     "output_type": "stream",
     "text": [
      "\u001b[1;32mINFO: Successfully processed and saved song: planety\u001b[0m\n",
      "\u001b[1;32mINFO: Processing song: drzewa\u001b[0m\n",
      "\u001b[1;32mINFO: Downloading song: drzewa\u001b[0m\n",
      "\u001b[1;32mINFO: Successfully processed and saved song: drzewa\u001b[0m\n",
      "\u001b[1;32mINFO: Processing song: nad przepascia\u001b[0m\n",
      "\u001b[1;32mINFO: Downloading song: nad przepascia\u001b[0m\n",
      "\u001b[1;32mINFO: Successfully processed and saved song: nad przepascia\u001b[0m\n",
      "\u001b[1;32mINFO: Processing song: dobrze, że jesteś\u001b[0m\n",
      "\u001b[1;32mINFO: Downloading song: dobrze, że jesteś\u001b[0m\n",
      "                                                         \r"
     ]
    },
    {
     "name": "stderr",
     "output_type": "stream",
     "text": [
      "\u001b[1;33mWARNING: Lyrics not found for 'dobrze, że jesteś' by video using all available providers.\u001b[0m\n"
     ]
    },
    {
     "name": "stdout",
     "output_type": "stream",
     "text": [
      "\u001b[1;32mINFO: Successfully processed and saved song: dobrze, że jesteś\u001b[0m\n",
      "\u001b[1;32mINFO: Processing song: powtarzaj to\u001b[0m\n",
      "\u001b[1;32mINFO: Downloading song: powtarzaj to\u001b[0m\n",
      "                                                           \r"
     ]
    },
    {
     "name": "stderr",
     "output_type": "stream",
     "text": [
      "\u001b[1;33mWARNING: Lyrics not found for 'powtarzaj to' by ira using all available providers.\u001b[0m\n"
     ]
    },
    {
     "name": "stdout",
     "output_type": "stream",
     "text": [
      "\u001b[1;32mINFO: Successfully processed and saved song: powtarzaj to\u001b[0m\n",
      "\u001b[1;32mINFO: Processing song: gdy umiera dzien\u001b[0m\n",
      "\u001b[1;32mINFO: Downloading song: gdy umiera dzien\u001b[0m\n",
      "                                                         \r"
     ]
    },
    {
     "name": "stderr",
     "output_type": "stream",
     "text": [
      "\u001b[1;33mWARNING: Lyrics not found for 'gdy umiera dzien' by silski using all available providers.\u001b[0m\n"
     ]
    },
    {
     "name": "stdout",
     "output_type": "stream",
     "text": [
      "\u001b[1;32mINFO: Successfully processed and saved song: gdy umiera dzien\u001b[0m\n",
      "\u001b[1;32mINFO: Processing song: wybacz\u001b[0m\n",
      "\u001b[1;32mINFO: Downloading song: wybacz\u001b[0m\n",
      "                                                         \r"
     ]
    },
    {
     "name": "stderr",
     "output_type": "stream",
     "text": [
      "\u001b[1;33mWARNING: Lyrics not found for 'wybacz' by ira using all available providers.\u001b[0m\n"
     ]
    },
    {
     "name": "stdout",
     "output_type": "stream",
     "text": [
      "\u001b[1;32mINFO: Successfully processed and saved song: wybacz\u001b[0m\n",
      "\u001b[1;32mINFO: Processing song: wszystko ma swój czas\u001b[0m\n",
      "\u001b[1;32mINFO: Downloading song: wszystko ma swój czas\u001b[0m\n",
      "\u001b[1;32mINFO: Successfully processed and saved song: wszystko ma swój czas\u001b[0m\n",
      "\u001b[1;32mINFO: Processing song: na zawsze i na wieczność\u001b[0m\n",
      "\u001b[1;32mINFO: Downloading song: na zawsze i na wieczność\u001b[0m\n",
      "\u001b[1;32mINFO: Successfully processed and saved song: na zawsze i na wieczność\u001b[0m\n",
      "\u001b[1;32mINFO: Processing song: każdej nocy\u001b[0m\n",
      "\u001b[1;32mINFO: Downloading song: każdej nocy\u001b[0m\n",
      "                                                         \r"
     ]
    },
    {
     "name": "stderr",
     "output_type": "stream",
     "text": [
      "\u001b[1;33mWARNING: Lyrics not found for 'każdej nocy' by grzegorz markowski using all available providers.\u001b[0m\n"
     ]
    },
    {
     "name": "stdout",
     "output_type": "stream",
     "text": [
      "\u001b[1;32mINFO: Successfully processed and saved song: każdej nocy\u001b[0m\n",
      "\u001b[1;32mINFO: Processing song: savage love (laxed - siren beat)\u001b[0m\n",
      "\u001b[1;32mINFO: Downloading song: savage love (laxed - siren beat)\u001b[0m\n",
      "\u001b[1;32mINFO: Successfully processed and saved song: savage love (laxed - siren beat)\u001b[0m\n",
      "\u001b[1;32mINFO: Processing song: 505\u001b[0m\n",
      "\u001b[1;32mINFO: Downloading song: 505\u001b[0m\n",
      "\u001b[1;32mINFO: Successfully processed and saved song: 505\u001b[0m\n",
      "\u001b[1;32mINFO: Processing song: la liesse est lovée\u001b[0m\n",
      "\u001b[1;32mINFO: Downloading song: la liesse est lovée\u001b[0m\n",
      "\u001b[1;32mINFO: Successfully processed and saved song: la liesse est lovée\u001b[0m\n",
      "\u001b[1;32mINFO: Processing song: when the end comes\u001b[0m\n",
      "\u001b[1;32mINFO: Downloading song: when the end comes\u001b[0m\n",
      "\u001b[1;32mINFO: Successfully processed and saved song: when the end comes\u001b[0m\n",
      "\u001b[1;32mINFO: Processing song: unnatural selection\u001b[0m\n",
      "\u001b[1;32mINFO: Downloading song: unnatural selection\u001b[0m\n",
      "\u001b[1;32mINFO: Successfully processed and saved song: unnatural selection\u001b[0m\n",
      "\u001b[1;32mINFO: Processing song: invincible\u001b[0m\n",
      "\u001b[1;32mINFO: Downloading song: invincible\u001b[0m\n",
      "\u001b[1;32mINFO: Successfully processed and saved song: invincible\u001b[0m\n",
      "\u001b[1;32mINFO: Processing song: mercy\u001b[0m\n",
      "\u001b[1;32mINFO: Downloading song: mercy\u001b[0m\n",
      "\u001b[1;32mINFO: Successfully processed and saved song: mercy\u001b[0m\n",
      "\u001b[1;32mINFO: Processing song: thought contagion\u001b[0m\n",
      "\u001b[1;32mINFO: Downloading song: thought contagion\u001b[0m\n",
      "\u001b[1;32mINFO: Successfully processed and saved song: thought contagion\u001b[0m\n",
      "\u001b[1;32mINFO: Processing song: run for cover\u001b[0m\n",
      "\u001b[1;32mINFO: Downloading song: run for cover\u001b[0m\n",
      "\u001b[1;32mINFO: Successfully processed and saved song: run for cover\u001b[0m\n",
      "\u001b[1;32mINFO: Processing song: the walker\u001b[0m\n",
      "\u001b[1;32mINFO: Downloading song: the walker\u001b[0m\n",
      "\u001b[1;32mINFO: Successfully processed and saved song: the walker\u001b[0m\n",
      "\u001b[1;32mINFO: Processing song: starlight\u001b[0m\n",
      "\u001b[1;32mINFO: Downloading song: starlight\u001b[0m\n",
      "\u001b[1;32mINFO: Successfully processed and saved song: starlight\u001b[0m\n",
      "\u001b[1;32mINFO: Processing song: will you fight\u001b[0m\n",
      "\u001b[1;32mINFO: Downloading song: will you fight\u001b[0m\n",
      "\u001b[1;32mINFO: Successfully processed and saved song: will you fight\u001b[0m\n",
      "\u001b[1;32mINFO: Processing song: grândola vila morena (war version)\u001b[0m\n",
      "\u001b[1;32mINFO: Downloading song: grândola vila morena (war version)\u001b[0m\n",
      "                                                         \r"
     ]
    },
    {
     "name": "stderr",
     "output_type": "stream",
     "text": [
      "\u001b[1;33mWARNING: Lyrics not found for 'grândola vila morena' by cecilia krull using all available providers.\u001b[0m\n"
     ]
    },
    {
     "name": "stdout",
     "output_type": "stream",
     "text": [
      "\u001b[1;32mINFO: Successfully processed and saved song: grândola vila morena (war version)\u001b[0m\n",
      "\u001b[1;32mINFO: Processing song: grândola vila morena (requiem)\u001b[0m\n",
      "\u001b[1;32mINFO: Downloading song: grândola vila morena (requiem)\u001b[0m\n",
      "                                                         \r"
     ]
    },
    {
     "name": "stderr",
     "output_type": "stream",
     "text": [
      "\u001b[1;33mWARNING: Lyrics not found for 'grândola vila morena' by cecilia krull using all available providers.\u001b[0m\n"
     ]
    },
    {
     "name": "stdout",
     "output_type": "stream",
     "text": [
      "\u001b[1;32mINFO: Successfully processed and saved song: grândola vila morena (requiem)\u001b[0m\n",
      "\u001b[1;32mINFO: Processing song: flawless\u001b[0m\n",
      "\u001b[1;32mINFO: Downloading song: flawless\u001b[0m\n",
      "\u001b[1;32mINFO: Successfully processed and saved song: flawless\u001b[0m\n",
      "\u001b[1;32mINFO: Processing song: everyone changes\u001b[0m\n",
      "\u001b[1;32mINFO: Downloading song: everyone changes\u001b[0m\n",
      "\u001b[1;32mINFO: Successfully processed and saved song: everyone changes\u001b[0m\n",
      "\u001b[1;32mINFO: Processing song: someone to you\u001b[0m\n",
      "\u001b[1;32mINFO: Downloading song: someone to you\u001b[0m\n",
      "\u001b[1;32mINFO: Successfully processed and saved song: someone to you\u001b[0m\n",
      "\u001b[1;32mINFO: Processing song: incredible\u001b[0m\n",
      "\u001b[1;32mINFO: Downloading song: incredible\u001b[0m\n",
      "                                                         \r"
     ]
    },
    {
     "name": "stderr",
     "output_type": "stream",
     "text": [
      "\u001b[1;33mWARNING: Lyrics not found for 'incredible' by james tw using all available providers.\u001b[0m\n"
     ]
    },
    {
     "name": "stdout",
     "output_type": "stream",
     "text": [
      "\u001b[1;32mINFO: Successfully processed and saved song: incredible\u001b[0m\n",
      "\u001b[1;32mINFO: Processing song: got it in you\u001b[0m\n",
      "\u001b[1;32mINFO: Downloading song: got it in you\u001b[0m\n",
      "\u001b[1;32mINFO: Successfully processed and saved song: got it in you\u001b[0m\n",
      "\u001b[1;32mINFO: Processing song: say something\u001b[0m\n",
      "\u001b[1;32mINFO: Downloading song: say something\u001b[0m\n",
      "                                                         \r"
     ]
    },
    {
     "name": "stderr",
     "output_type": "stream",
     "text": [
      "\u001b[1;33mWARNING: Lyrics not found for 'say something' by kodaline using all available providers.\u001b[0m\n"
     ]
    },
    {
     "name": "stdout",
     "output_type": "stream",
     "text": [
      "\u001b[1;32mINFO: Successfully processed and saved song: say something\u001b[0m\n",
      "\u001b[1;32mINFO: Processing song: no matter what\u001b[0m\n",
      "\u001b[1;32mINFO: Downloading song: no matter what\u001b[0m\n",
      "\u001b[1;32mINFO: Successfully processed and saved song: no matter what\u001b[0m\n",
      "\u001b[1;32mINFO: Processing song: what they'll say about us\u001b[0m\n",
      "\u001b[1;32mINFO: Downloading song: what they'll say about us\u001b[0m\n",
      "\u001b[1;32mINFO: Successfully processed and saved song: what they'll say about us\u001b[0m\n",
      "\u001b[1;32mINFO: Processing song: wait for you (feat. zoe wees)\u001b[0m\n",
      "\u001b[1;32mINFO: Downloading song: wait for you (feat. zoe wees)\u001b[0m\n",
      "                                                         \r"
     ]
    },
    {
     "name": "stderr",
     "output_type": "stream",
     "text": [
      "\u001b[1;33mWARNING: Lyrics not found for 'wait for you' by tom walker using all available providers.\u001b[0m\n"
     ]
    },
    {
     "name": "stdout",
     "output_type": "stream",
     "text": [
      "\u001b[1;32mINFO: Successfully processed and saved song: wait for you (feat. zoe wees)\u001b[0m\n",
      "\u001b[1;32mINFO: Processing song: half light\u001b[0m\n",
      "\u001b[1;32mINFO: Downloading song: half light\u001b[0m\n",
      "\u001b[1;32mINFO: Successfully processed and saved song: half light\u001b[0m\n",
      "\u001b[1;32mINFO: Processing song: the sea\u001b[0m\n",
      "\u001b[1;32mINFO: Downloading song: the sea\u001b[0m\n",
      "                                                         \r"
     ]
    },
    {
     "name": "stderr",
     "output_type": "stream",
     "text": [
      "\u001b[1;33mWARNING: Lyrics not found for 'the sea' by haevn using all available providers.\u001b[0m\n"
     ]
    },
    {
     "name": "stdout",
     "output_type": "stream",
     "text": [
      "\u001b[1;32mINFO: Successfully processed and saved song: the sea\u001b[0m\n",
      "\u001b[1;32mINFO: Processing song: summertime sadness\u001b[0m\n",
      "\u001b[1;32mINFO: Downloading song: summertime sadness\u001b[0m\n",
      "\u001b[1;32mINFO: Successfully processed and saved song: summertime sadness\u001b[0m\n",
      "\u001b[1;32mINFO: Processing song: kto powie mi jak\u001b[0m\n",
      "\u001b[1;32mINFO: Downloading song: kto powie mi jak\u001b[0m\n",
      "\u001b[1;32mINFO: Successfully processed and saved song: kto powie mi jak\u001b[0m\n",
      "\u001b[1;32mINFO: Processing song: how to save a life\u001b[0m\n",
      "\u001b[1;32mINFO: Downloading song: how to save a life\u001b[0m\n",
      "\u001b[1;32mINFO: Successfully processed and saved song: how to save a life\u001b[0m\n",
      "\u001b[1;32mINFO: Processing song: locked out of heaven\u001b[0m\n",
      "\u001b[1;32mINFO: Downloading song: locked out of heaven\u001b[0m\n",
      "\u001b[1;32mINFO: Successfully processed and saved song: locked out of heaven\u001b[0m\n",
      "\u001b[1;32mINFO: Processing song: you are the reason\u001b[0m\n",
      "\u001b[1;32mINFO: Downloading song: you are the reason\u001b[0m\n",
      "\u001b[1;32mINFO: Successfully processed and saved song: you are the reason\u001b[0m\n",
      "\u001b[1;32mINFO: Processing song: you killed me on the moon\u001b[0m\n",
      "\u001b[1;32mINFO: Downloading song: you killed me on the moon\u001b[0m\n",
      "\u001b[1;32mINFO: Successfully processed and saved song: you killed me on the moon\u001b[0m\n",
      "\u001b[1;32mINFO: Processing song: try\u001b[0m\n",
      "\u001b[1;32mINFO: Downloading song: try\u001b[0m\n",
      "\u001b[1;32mINFO: Successfully processed and saved song: try\u001b[0m\n",
      "\u001b[1;32mINFO: Processing song: wire to wire\u001b[0m\n",
      "\u001b[1;32mINFO: Downloading song: wire to wire\u001b[0m\n",
      "\u001b[1;32mINFO: Successfully processed and saved song: wire to wire\u001b[0m\n",
      "\u001b[1;32mINFO: Processing song: as we fall\u001b[0m\n",
      "\u001b[1;32mINFO: Downloading song: as we fall\u001b[0m\n",
      "\u001b[1;32mINFO: Successfully processed and saved song: as we fall\u001b[0m\n",
      "\u001b[1;32mINFO: Processing song: what could have been feat. ray chen (from the series arcane league of legends)\u001b[0m\n",
      "\u001b[1;32mINFO: Downloading song: what could have been feat. ray chen (from the series arcane league of legends)\u001b[0m\n",
      "\u001b[1;32mINFO: Successfully processed and saved song: what could have been feat. ray chen (from the series arcane league of legends)\u001b[0m\n",
      "\u001b[1;32mINFO: Processing song: smoke signals\u001b[0m\n",
      "\u001b[1;32mINFO: Song smoke signals already downloaded, skipping download.\u001b[0m\n",
      "\u001b[1;32mINFO: Successfully processed and saved song: smoke signals\u001b[0m\n",
      "\u001b[1;32mINFO: Processing song: hold on\u001b[0m\n",
      "\u001b[1;32mINFO: Downloading song: hold on\u001b[0m\n",
      "\u001b[1;32mINFO: Successfully processed and saved song: hold on\u001b[0m\n",
      "\u001b[1;32mINFO: Processing song: dead man walking\u001b[0m\n",
      "\u001b[1;32mINFO: Downloading song: dead man walking\u001b[0m\n",
      "\u001b[1;32mINFO: Successfully processed and saved song: dead man walking\u001b[0m\n",
      "\u001b[1;32mINFO: Processing song: baciami adesso\u001b[0m\n",
      "\u001b[1;32mINFO: Downloading song: baciami adesso\u001b[0m\n",
      "\u001b[1;32mINFO: Successfully processed and saved song: baciami adesso\u001b[0m\n",
      "\u001b[1;32mINFO: Processing song: in my arms\u001b[0m\n",
      "\u001b[1;32mINFO: Downloading song: in my arms\u001b[0m\n",
      "                                                         \r"
     ]
    },
    {
     "name": "stderr",
     "output_type": "stream",
     "text": [
      "\u001b[1;33mWARNING: Lyrics not found for 'in my arms' by will killen using all available providers.\u001b[0m\n"
     ]
    },
    {
     "name": "stdout",
     "output_type": "stream",
     "text": [
      "\u001b[1;32mINFO: Successfully processed and saved song: in my arms\u001b[0m\n",
      "\u001b[1;32mINFO: Processing song: nothing new (feat. phoebe bridgers) (taylor’s version) (from the vault)\u001b[0m\n",
      "\u001b[1;32mINFO: Downloading song: nothing new (feat. phoebe bridgers) (taylor’s version) (from the vault)\u001b[0m\n",
      "\u001b[1;32mINFO: Successfully processed and saved song: nothing new (feat. phoebe bridgers) (taylor’s version) (from the vault)\u001b[0m\n",
      "\u001b[1;32mINFO: Processing song: begin again (taylor's version)\u001b[0m\n",
      "\u001b[1;32mINFO: Downloading song: begin again (taylor's version)\u001b[0m\n",
      "\u001b[1;32mINFO: Successfully processed and saved song: begin again (taylor's version)\u001b[0m\n",
      "\u001b[1;32mINFO: Processing song: state of grace (acoustic version) (taylor's version)\u001b[0m\n",
      "\u001b[1;32mINFO: Downloading song: state of grace (acoustic version) (taylor's version)\u001b[0m\n",
      "\u001b[1;32mINFO: Successfully processed and saved song: state of grace (acoustic version) (taylor's version)\u001b[0m\n",
      "\u001b[1;32mINFO: Processing song: everything has changed (feat. ed sheeran) (taylor’s version)\u001b[0m\n",
      "\u001b[1;32mINFO: Downloading song: everything has changed (feat. ed sheeran) (taylor’s version)\u001b[0m\n",
      "\u001b[1;32mINFO: Successfully processed and saved song: everything has changed (feat. ed sheeran) (taylor’s version)\u001b[0m\n",
      "\u001b[1;32mINFO: Processing song: holy ground (taylor's version)\u001b[0m\n",
      "\u001b[1;32mINFO: Downloading song: holy ground (taylor's version)\u001b[0m\n",
      "\u001b[1;32mINFO: Successfully processed and saved song: holy ground (taylor's version)\u001b[0m\n",
      "\u001b[1;32mINFO: Processing song: all too well (taylor's version)\u001b[0m\n",
      "\u001b[1;32mINFO: Downloading song: all too well (taylor's version)\u001b[0m\n",
      "\u001b[1;32mINFO: Successfully processed and saved song: all too well (taylor's version)\u001b[0m\n",
      "\u001b[1;32mINFO: Processing song: i almost do (taylor's version)\u001b[0m\n",
      "\u001b[1;32mINFO: Downloading song: i almost do (taylor's version)\u001b[0m\n",
      "\u001b[1;32mINFO: Successfully processed and saved song: i almost do (taylor's version)\u001b[0m\n",
      "\u001b[1;32mINFO: Processing song: i knew you were trouble (taylor's version)\u001b[0m\n",
      "\u001b[1;32mINFO: Downloading song: i knew you were trouble (taylor's version)\u001b[0m\n",
      "\u001b[1;32mINFO: Successfully processed and saved song: i knew you were trouble (taylor's version)\u001b[0m\n",
      "\u001b[1;32mINFO: Processing song: state of grace (taylor's version)\u001b[0m\n",
      "\u001b[1;32mINFO: Downloading song: state of grace (taylor's version)\u001b[0m\n",
      "\u001b[1;32mINFO: Successfully processed and saved song: state of grace (taylor's version)\u001b[0m\n",
      "\u001b[1;32mINFO: Processing song: fast car\u001b[0m\n",
      "\u001b[1;32mINFO: Downloading song: fast car\u001b[0m\n",
      "\u001b[1;32mINFO: Successfully processed and saved song: fast car\u001b[0m\n",
      "\u001b[1;32mINFO: Processing song: red\u001b[0m\n",
      "\u001b[1;32mINFO: Downloading song: red\u001b[0m\n",
      "\u001b[1;32mINFO: Successfully processed and saved song: red\u001b[0m\n",
      "\u001b[1;32mINFO: Processing song: closure\u001b[0m\n",
      "\u001b[1;32mINFO: Downloading song: closure\u001b[0m\n",
      "\u001b[1;32mINFO: Successfully processed and saved song: closure\u001b[0m\n",
      "\u001b[1;32mINFO: Processing song: coney island (feat. the national)\u001b[0m\n",
      "\u001b[1;32mINFO: Downloading song: coney island (feat. the national)\u001b[0m\n",
      "\u001b[1;32mINFO: Successfully processed and saved song: coney island (feat. the national)\u001b[0m\n",
      "\u001b[1;32mINFO: Processing song: peace\u001b[0m\n",
      "\u001b[1;32mINFO: Downloading song: peace\u001b[0m\n",
      "\u001b[1;32mINFO: Successfully processed and saved song: peace\u001b[0m\n",
      "\u001b[1;32mINFO: Processing song: eternal summer\u001b[0m\n",
      "\u001b[1;32mINFO: Downloading song: eternal summer\u001b[0m\n",
      "\u001b[1;32mINFO: Successfully processed and saved song: eternal summer\u001b[0m\n",
      "\u001b[1;32mINFO: Processing song: you inspire me\u001b[0m\n",
      "\u001b[1;32mINFO: Downloading song: you inspire me\u001b[0m\n",
      "                                                         \r"
     ]
    },
    {
     "name": "stderr",
     "output_type": "stream",
     "text": [
      "\u001b[1;33mWARNING: Lyrics not found for 'you inspire me' by fm laeti using all available providers.\u001b[0m\n"
     ]
    },
    {
     "name": "stdout",
     "output_type": "stream",
     "text": [
      "\u001b[1;32mINFO: Successfully processed and saved song: you inspire me\u001b[0m\n",
      "\u001b[1;32mINFO: Processing song: when you feel sad and someone ask you to play something ...\u001b[0m\n",
      "\u001b[1;32mINFO: Downloading song: when you feel sad and someone ask you to play something ...\u001b[0m\n",
      "                                                         \r"
     ]
    },
    {
     "name": "stderr",
     "output_type": "stream",
     "text": [
      "\u001b[1;33mWARNING: Lyrics not found for 'when you feel sad and someone ask you to play something ...' by marco cirillo using all available providers.\u001b[0m\n"
     ]
    },
    {
     "name": "stdout",
     "output_type": "stream",
     "text": [
      "\u001b[1;32mINFO: Successfully processed and saved song: when you feel sad and someone ask you to play something ...\u001b[0m\n",
      "\u001b[1;32mINFO: Processing song: without you\u001b[0m\n",
      "\u001b[1;32mINFO: Downloading song: without you\u001b[0m\n",
      "\u001b[1;32mINFO: Successfully processed and saved song: without you\u001b[0m\n",
      "\u001b[1;32mINFO: Processing song: modern pressure\u001b[0m\n",
      "\u001b[1;32mINFO: Downloading song: modern pressure\u001b[0m\n",
      "\u001b[1;32mINFO: Successfully processed and saved song: modern pressure\u001b[0m\n",
      "\u001b[1;32mINFO: Processing song: bio\u001b[0m\n",
      "\u001b[1;32mINFO: Downloading song: bio\u001b[0m\n",
      "                                                           \r"
     ]
    },
    {
     "name": "stderr",
     "output_type": "stream",
     "text": [
      "\u001b[1;33mWARNING: Lyrics not found for 'bio' by alejandro sanz using all available providers.\u001b[0m\n"
     ]
    },
    {
     "name": "stdout",
     "output_type": "stream",
     "text": [
      "\u001b[1;32mINFO: Successfully processed and saved song: bio\u001b[0m\n",
      "\u001b[1;32mINFO: Processing song: a dark switch\u001b[0m\n",
      "\u001b[1;32mINFO: Downloading song: a dark switch\u001b[0m\n",
      "\u001b[1;32mINFO: Successfully processed and saved song: a dark switch\u001b[0m\n",
      "\u001b[1;32mINFO: Processing song: life on earth\u001b[0m\n",
      "\u001b[1;32mINFO: Downloading song: life on earth\u001b[0m\n",
      "\u001b[1;32mINFO: Successfully processed and saved song: life on earth\u001b[0m\n",
      "\u001b[1;32mINFO: Processing song: don't give in (reworked)\u001b[0m\n",
      "\u001b[1;32mINFO: Downloading song: don't give in (reworked)\u001b[0m\n",
      "\u001b[1;32mINFO: Successfully processed and saved song: don't give in (reworked)\u001b[0m\n",
      "\u001b[1;32mINFO: Processing song: just say yes (reworked)\u001b[0m\n",
      "\u001b[1;32mINFO: Downloading song: just say yes (reworked)\u001b[0m\n",
      "\u001b[1;32mINFO: Successfully processed and saved song: just say yes (reworked)\u001b[0m\n",
      "\u001b[1;32mINFO: Processing song: crack the shutters (reworked)\u001b[0m\n",
      "\u001b[1;32mINFO: Downloading song: crack the shutters (reworked)\u001b[0m\n",
      "\u001b[1;32mINFO: Successfully processed and saved song: crack the shutters (reworked)\u001b[0m\n",
      "\u001b[1;32mINFO: Processing song: called out in the dark (reworked)\u001b[0m\n",
      "\u001b[1;32mINFO: Downloading song: called out in the dark (reworked)\u001b[0m\n",
      "\u001b[1;32mINFO: Successfully processed and saved song: called out in the dark (reworked)\u001b[0m\n",
      "\u001b[1;32mINFO: Processing song: heal me (reworked)\u001b[0m\n",
      "\u001b[1;32mINFO: Downloading song: heal me (reworked)\u001b[0m\n",
      "\u001b[1;32mINFO: Successfully processed and saved song: heal me (reworked)\u001b[0m\n",
      "\u001b[1;32mINFO: Processing song: run (reworked)\u001b[0m\n",
      "\u001b[1;32mINFO: Downloading song: run (reworked)\u001b[0m\n",
      "\u001b[1;32mINFO: Successfully processed and saved song: run (reworked)\u001b[0m\n",
      "\u001b[1;32mINFO: Processing song: empress (reworked)\u001b[0m\n",
      "\u001b[1;32mINFO: Downloading song: empress (reworked)\u001b[0m\n",
      "\u001b[1;32mINFO: Successfully processed and saved song: empress (reworked)\u001b[0m\n",
      "\u001b[1;32mINFO: Processing song: i think of home\u001b[0m\n",
      "\u001b[1;32mINFO: Downloading song: i think of home\u001b[0m\n",
      "\u001b[1;32mINFO: Successfully processed and saved song: i think of home\u001b[0m\n",
      "\u001b[1;32mINFO: Processing song: you’re all i have (reworked)\u001b[0m\n",
      "\u001b[1;32mINFO: Downloading song: you’re all i have (reworked)\u001b[0m\n",
      "\u001b[1;32mINFO: Successfully processed and saved song: you’re all i have (reworked)\u001b[0m\n",
      "\u001b[1;32mINFO: Processing song: chocolate (reworked)\u001b[0m\n",
      "\u001b[1;32mINFO: Downloading song: chocolate (reworked)\u001b[0m\n",
      "\u001b[1;32mINFO: Successfully processed and saved song: chocolate (reworked)\u001b[0m\n",
      "\u001b[1;32mINFO: Processing song: time won't go slowly\u001b[0m\n",
      "\u001b[1;32mINFO: Downloading song: time won't go slowly\u001b[0m\n",
      "\u001b[1;32mINFO: Successfully processed and saved song: time won't go slowly\u001b[0m\n",
      "\u001b[1;32mINFO: Processing song: open your eyes (reworked)\u001b[0m\n",
      "\u001b[1;32mINFO: Downloading song: open your eyes (reworked)\u001b[0m\n",
      "\u001b[1;32mINFO: Successfully processed and saved song: open your eyes (reworked)\u001b[0m\n",
      "\u001b[1;32mINFO: Processing song: take back the city (reworked)\u001b[0m\n",
      "\u001b[1;32mINFO: Downloading song: take back the city (reworked)\u001b[0m\n",
      "\u001b[1;32mINFO: Successfully processed and saved song: take back the city (reworked)\u001b[0m\n",
      "\u001b[1;32mINFO: Processing song: what if this is all the love you ever get?\u001b[0m\n",
      "\u001b[1;32mINFO: Downloading song: what if this is all the love you ever get?\u001b[0m\n",
      "\u001b[1;32mINFO: Successfully processed and saved song: what if this is all the love you ever get?\u001b[0m\n",
      "\u001b[1;32mINFO: Processing song: don't give in\u001b[0m\n",
      "\u001b[1;32mINFO: Downloading song: don't give in\u001b[0m\n",
      "\u001b[1;32mINFO: Successfully processed and saved song: don't give in\u001b[0m\n",
      "\u001b[1;32mINFO: Processing song: crack the shutters\u001b[0m\n",
      "\u001b[1;32mINFO: Downloading song: crack the shutters\u001b[0m\n",
      "\u001b[1;32mINFO: Successfully processed and saved song: crack the shutters\u001b[0m\n",
      "\u001b[1;32mINFO: Processing song: called out in the dark\u001b[0m\n",
      "\u001b[1;32mINFO: Downloading song: called out in the dark\u001b[0m\n",
      "\u001b[1;32mINFO: Successfully processed and saved song: called out in the dark\u001b[0m\n",
      "\u001b[1;32mINFO: Processing song: run\u001b[0m\n",
      "\u001b[1;32mINFO: Downloading song: run\u001b[0m\n",
      "\u001b[1;32mINFO: Successfully processed and saved song: run\u001b[0m\n",
      "\u001b[1;32mINFO: Processing song: the war we made\u001b[0m\n",
      "\u001b[1;32mINFO: Downloading song: the war we made\u001b[0m\n",
      "\u001b[1;32mINFO: Successfully processed and saved song: the war we made\u001b[0m\n",
      "\u001b[1;32mINFO: Processing song: not alone\u001b[0m\n",
      "\u001b[1;32mINFO: Downloading song: not alone\u001b[0m\n",
      "\u001b[1;32mINFO: Successfully processed and saved song: not alone\u001b[0m\n",
      "\u001b[1;32mINFO: Processing song: breathe into me\u001b[0m\n",
      "\u001b[1;32mINFO: Downloading song: breathe into me\u001b[0m\n",
      "\u001b[1;32mINFO: Successfully processed and saved song: breathe into me\u001b[0m\n",
      "\u001b[1;32mINFO: Processing song: chasing cars\u001b[0m\n",
      "\u001b[1;32mINFO: Downloading song: chasing cars\u001b[0m\n",
      "                                                         \r"
     ]
    },
    {
     "name": "stderr",
     "output_type": "stream",
     "text": [
      "\u001b[1;33mWARNING: Lyrics not found for 'chasing cars' by james bartholomew using all available providers.\u001b[0m\n"
     ]
    },
    {
     "name": "stdout",
     "output_type": "stream",
     "text": [
      "\u001b[1;32mINFO: Successfully processed and saved song: chasing cars\u001b[0m\n",
      "\u001b[1;32mINFO: Processing song: let it burn\u001b[0m\n",
      "\u001b[1;32mINFO: Downloading song: let it burn\u001b[0m\n",
      "\u001b[1;32mINFO: Successfully processed and saved song: let it burn\u001b[0m\n",
      "\u001b[1;32mINFO: Processing song: wonderful life\u001b[0m\n",
      "\u001b[1;32mINFO: Song wonderful life already downloaded, skipping download.\u001b[0m\n"
     ]
    },
    {
     "name": "stderr",
     "output_type": "stream",
     "text": [
      "\u001b[1;33mWARNING: Lyrics not found for 'wonderful life' by katie melua using all available providers.\u001b[0m\n"
     ]
    },
    {
     "name": "stdout",
     "output_type": "stream",
     "text": [
      "\u001b[1;32mINFO: Successfully processed and saved song: wonderful life\u001b[0m\n",
      "\u001b[1;32mINFO: Processing song: are you bored yet? (feat. clairo)\u001b[0m\n",
      "\u001b[1;32mINFO: Downloading song: are you bored yet? (feat. clairo)\u001b[0m\n",
      "\u001b[1;32mINFO: Successfully processed and saved song: are you bored yet? (feat. clairo)\u001b[0m\n",
      "\u001b[1;32mINFO: Processing song: come on mess me up\u001b[0m\n",
      "\u001b[1;32mINFO: Downloading song: come on mess me up\u001b[0m\n",
      "\u001b[1;32mINFO: Successfully processed and saved song: come on mess me up\u001b[0m\n",
      "\u001b[1;32mINFO: Processing song: durante una mirada\u001b[0m\n",
      "\u001b[1;32mINFO: Downloading song: durante una mirada\u001b[0m\n",
      "\u001b[1;32mINFO: Successfully processed and saved song: durante una mirada\u001b[0m\n",
      "\u001b[1;32mINFO: Processing song: avec un si\u001b[0m\n",
      "\u001b[1;32mINFO: Downloading song: avec un si\u001b[0m\n",
      "                                                         \r"
     ]
    },
    {
     "name": "stderr",
     "output_type": "stream",
     "text": [
      "\u001b[1;33mWARNING: Lyrics not found for 'avec un si' by hopen using all available providers.\u001b[0m\n"
     ]
    },
    {
     "name": "stdout",
     "output_type": "stream",
     "text": [
      "\u001b[1;32mINFO: Successfully processed and saved song: avec un si\u001b[0m\n",
      "\u001b[1;32mINFO: Processing song: el reloj cucú (feat. mabel)\u001b[0m\n",
      "\u001b[1;32mINFO: Downloading song: el reloj cucú (feat. mabel)\u001b[0m\n",
      "\u001b[1;32mINFO: Successfully processed and saved song: el reloj cucú (feat. mabel)\u001b[0m\n",
      "\u001b[1;32mINFO: Processing song: abrázame\u001b[0m\n",
      "\u001b[1;32mINFO: Downloading song: abrázame\u001b[0m\n",
      "\u001b[1;32mINFO: Successfully processed and saved song: abrázame\u001b[0m\n",
      "\u001b[1;32mINFO: Processing song: i guess i just feel like\u001b[0m\n",
      "\u001b[1;32mINFO: Downloading song: i guess i just feel like\u001b[0m\n",
      "\u001b[1;32mINFO: Successfully processed and saved song: i guess i just feel like\u001b[0m\n",
      "\u001b[1;32mINFO: Processing song: shot in the dark\u001b[0m\n",
      "\u001b[1;32mINFO: Downloading song: shot in the dark\u001b[0m\n",
      "\u001b[1;32mINFO: Successfully processed and saved song: shot in the dark\u001b[0m\n",
      "\u001b[1;32mINFO: Processing song: de mí, de mí, de mí\u001b[0m\n",
      "\u001b[1;32mINFO: Downloading song: de mí, de mí, de mí\u001b[0m\n",
      "                                                         \r"
     ]
    },
    {
     "name": "stderr",
     "output_type": "stream",
     "text": [
      "\u001b[1;33mWARNING: Lyrics not found for 'de mí, de mí, de mí' by lasso using all available providers.\u001b[0m\n"
     ]
    },
    {
     "name": "stdout",
     "output_type": "stream",
     "text": [
      "\u001b[1;32mINFO: Successfully processed and saved song: de mí, de mí, de mí\u001b[0m\n",
      "\u001b[1;32mINFO: Processing song: plural siendo singular\u001b[0m\n",
      "\u001b[1;32mINFO: Downloading song: plural siendo singular\u001b[0m\n",
      "\u001b[1;32mINFO: Successfully processed and saved song: plural siendo singular\u001b[0m\n",
      "\u001b[1;32mINFO: Processing song: teoremas, etc.\u001b[0m\n",
      "\u001b[1;32mINFO: Downloading song: teoremas, etc.\u001b[0m\n",
      "\u001b[1;32mINFO: Successfully processed and saved song: teoremas, etc.\u001b[0m\n",
      "\u001b[1;32mINFO: Processing song: ten feet tall\u001b[0m\n",
      "\u001b[1;32mINFO: Downloading song: ten feet tall\u001b[0m\n",
      "\u001b[1;32mINFO: Successfully processed and saved song: ten feet tall\u001b[0m\n",
      "\u001b[1;32mINFO: Processing song: be as you are\u001b[0m\n",
      "\u001b[1;32mINFO: Downloading song: be as you are\u001b[0m\n",
      "\u001b[1;32mINFO: Successfully processed and saved song: be as you are\u001b[0m\n",
      "\u001b[1;32mINFO: Processing song: buried in detroit - lucas löwe remix\u001b[0m\n",
      "\u001b[1;32mINFO: Downloading song: buried in detroit - lucas löwe remix\u001b[0m\n",
      "\u001b[1;32mINFO: Successfully processed and saved song: buried in detroit - lucas löwe remix\u001b[0m\n",
      "\u001b[1;32mINFO: Processing song: sweetest taboo\u001b[0m\n",
      "\u001b[1;32mINFO: Downloading song: sweetest taboo\u001b[0m\n",
      "                                                         \r"
     ]
    },
    {
     "name": "stderr",
     "output_type": "stream",
     "text": [
      "\u001b[1;33mWARNING: Lyrics not found for 'sweetest taboo' by denton thrift using all available providers.\u001b[0m\n"
     ]
    },
    {
     "name": "stdout",
     "output_type": "stream",
     "text": [
      "\u001b[1;32mINFO: Successfully processed and saved song: sweetest taboo\u001b[0m\n",
      "\u001b[1;32mINFO: Processing song: more than words\u001b[0m\n",
      "\u001b[1;32mINFO: Downloading song: more than words\u001b[0m\n",
      "\u001b[1;32mINFO: Successfully processed and saved song: more than words\u001b[0m\n",
      "\u001b[1;32mINFO: Processing song: just like a pill\u001b[0m\n",
      "\u001b[1;32mINFO: Downloading song: just like a pill\u001b[0m\n",
      "\u001b[1;32mINFO: Successfully processed and saved song: just like a pill\u001b[0m\n",
      "\u001b[1;32mINFO: Processing song: champagne supernova\u001b[0m\n",
      "\u001b[1;32mINFO: Downloading song: champagne supernova\u001b[0m\n",
      "                                                         \r"
     ]
    },
    {
     "name": "stderr",
     "output_type": "stream",
     "text": [
      "\u001b[1;33mWARNING: Lyrics not found for 'champagne supernova' by scala & kolacny brothers using all available providers.\u001b[0m\n"
     ]
    },
    {
     "name": "stdout",
     "output_type": "stream",
     "text": [
      "\u001b[1;32mINFO: Successfully processed and saved song: champagne supernova\u001b[0m\n",
      "\u001b[1;32mINFO: Processing song: dull knives\u001b[0m\n",
      "\u001b[1;32mINFO: Downloading song: dull knives\u001b[0m\n",
      "\u001b[1;32mINFO: Successfully processed and saved song: dull knives\u001b[0m\n",
      "\u001b[1;32mINFO: Processing song: giants\u001b[0m\n",
      "\u001b[1;32mINFO: Downloading song: giants\u001b[0m\n",
      "\u001b[1;32mINFO: Successfully processed and saved song: giants\u001b[0m\n",
      "\u001b[1;32mINFO: Processing song: #1\u001b[0m\n",
      "\u001b[1;32mINFO: Downloading song: #1\u001b[0m\n",
      "\u001b[1;32mINFO: Successfully processed and saved song: #1\u001b[0m\n",
      "\u001b[1;32mINFO: Processing song: wrecked\u001b[0m\n",
      "\u001b[1;32mINFO: Downloading song: wrecked\u001b[0m\n",
      "\u001b[1;32mINFO: Successfully processed and saved song: wrecked\u001b[0m\n",
      "\u001b[1;32mINFO: Processing song: champagne supernova - remastered\u001b[0m\n",
      "\u001b[1;32mINFO: Downloading song: champagne supernova - remastered\u001b[0m\n",
      "\u001b[1;32mINFO: Successfully processed and saved song: champagne supernova - remastered\u001b[0m\n",
      "\u001b[1;32mINFO: Processing song: my life\u001b[0m\n",
      "\u001b[1;32mINFO: Downloading song: my life\u001b[0m\n",
      "                                                         \r"
     ]
    },
    {
     "name": "stderr",
     "output_type": "stream",
     "text": [
      "\u001b[1;33mWARNING: Lyrics not found for 'my life' by imagine dragons using all available providers.\u001b[0m\n"
     ]
    },
    {
     "name": "stdout",
     "output_type": "stream",
     "text": [
      "\u001b[1;32mINFO: Successfully processed and saved song: my life\u001b[0m\n",
      "\u001b[1;32mINFO: Processing song: all good things (come to an end)\u001b[0m\n",
      "\u001b[1;32mINFO: Downloading song: all good things (come to an end)\u001b[0m\n",
      "\u001b[1;32mINFO: Successfully processed and saved song: all good things (come to an end)\u001b[0m\n",
      "\u001b[1;32mINFO: Processing song: save tonight\u001b[0m\n",
      "\u001b[1;32mINFO: Downloading song: save tonight\u001b[0m\n",
      "\u001b[1;32mINFO: Successfully processed and saved song: save tonight\u001b[0m\n",
      "\u001b[1;32mINFO: Processing song: ribs\u001b[0m\n",
      "\u001b[1;32mINFO: Downloading song: ribs\u001b[0m\n",
      "\u001b[1;32mINFO: Successfully processed and saved song: ribs\u001b[0m\n",
      "\u001b[1;32mINFO: Processing song: broken strings\u001b[0m\n",
      "\u001b[1;32mINFO: Downloading song: broken strings\u001b[0m\n",
      "\u001b[1;32mINFO: Successfully processed and saved song: broken strings\u001b[0m\n",
      "\u001b[1;32mINFO: Processing song: wonderful tonight\u001b[0m\n",
      "\u001b[1;32mINFO: Downloading song: wonderful tonight\u001b[0m\n",
      "                                                         \r"
     ]
    },
    {
     "name": "stderr",
     "output_type": "stream",
     "text": [
      "\u001b[1;33mWARNING: Lyrics not found for 'wonderful tonight' by alexandr misko using all available providers.\u001b[0m\n"
     ]
    },
    {
     "name": "stdout",
     "output_type": "stream",
     "text": [
      "\u001b[1;32mINFO: Successfully processed and saved song: wonderful tonight\u001b[0m\n",
      "\u001b[1;32mINFO: Processing song: lonely boy\u001b[0m\n",
      "\u001b[1;32mINFO: Downloading song: lonely boy\u001b[0m\n",
      "\u001b[1;32mINFO: Successfully processed and saved song: lonely boy\u001b[0m\n",
      "\u001b[1;32mINFO: Processing song: diazepam\u001b[0m\n",
      "\u001b[1;32mINFO: Downloading song: diazepam\u001b[0m\n",
      "\u001b[1;32mINFO: Successfully processed and saved song: diazepam\u001b[0m\n",
      "\u001b[1;32mINFO: Processing song: i'll get you home\u001b[0m\n",
      "\u001b[1;32mINFO: Downloading song: i'll get you home\u001b[0m\n",
      "\u001b[1;32mINFO: Successfully processed and saved song: i'll get you home\u001b[0m\n",
      "\u001b[1;32mINFO: Processing song: the end\u001b[0m\n",
      "\u001b[1;32mINFO: Downloading song: the end\u001b[0m\n",
      "                                                         \r"
     ]
    },
    {
     "name": "stderr",
     "output_type": "stream",
     "text": [
      "\u001b[1;33mWARNING: Lyrics not found for 'the end' by jpolnd using all available providers.\u001b[0m\n"
     ]
    },
    {
     "name": "stdout",
     "output_type": "stream",
     "text": [
      "\u001b[1;32mINFO: Successfully processed and saved song: the end\u001b[0m\n",
      "\u001b[1;32mINFO: Processing song: the rule of life\u001b[0m\n",
      "\u001b[1;32mINFO: Downloading song: the rule of life\u001b[0m\n",
      "                                                         \r"
     ]
    },
    {
     "name": "stderr",
     "output_type": "stream",
     "text": [
      "\u001b[1;33mWARNING: Lyrics not found for 'the rule of life' by vian izak using all available providers.\u001b[0m\n"
     ]
    },
    {
     "name": "stdout",
     "output_type": "stream",
     "text": [
      "\u001b[1;32mINFO: Successfully processed and saved song: the rule of life\u001b[0m\n",
      "\u001b[1;32mINFO: Processing song: running in reverse\u001b[0m\n",
      "\u001b[1;32mINFO: Downloading song: running in reverse\u001b[0m\n",
      "                                                         \r"
     ]
    },
    {
     "name": "stderr",
     "output_type": "stream",
     "text": [
      "\u001b[1;33mWARNING: Lyrics not found for 'running in reverse' by laces using all available providers.\u001b[0m\n"
     ]
    },
    {
     "name": "stdout",
     "output_type": "stream",
     "text": [
      "\u001b[1;32mINFO: Successfully processed and saved song: running in reverse\u001b[0m\n",
      "\u001b[1;32mINFO: Processing song: tether me\u001b[0m\n",
      "\u001b[1;32mINFO: Downloading song: tether me\u001b[0m\n",
      "\u001b[1;32mINFO: Successfully processed and saved song: tether me\u001b[0m\n",
      "\u001b[1;32mINFO: Processing song: paradise\u001b[0m\n",
      "\u001b[1;32mINFO: Downloading song: paradise\u001b[0m\n",
      "                                                           \r"
     ]
    },
    {
     "name": "stderr",
     "output_type": "stream",
     "text": [
      "\u001b[1;33mWARNING: Lyrics not found for 'paradise' by anderson rocio using all available providers.\u001b[0m\n"
     ]
    },
    {
     "name": "stdout",
     "output_type": "stream",
     "text": [
      "\u001b[1;32mINFO: Successfully processed and saved song: paradise\u001b[0m\n",
      "\u001b[1;32mINFO: Processing song: where it stays\u001b[0m\n",
      "\u001b[1;32mINFO: Downloading song: where it stays\u001b[0m\n",
      "\u001b[1;32mINFO: Successfully processed and saved song: where it stays\u001b[0m\n",
      "\u001b[1;32mINFO: Processing song: don't let me go\u001b[0m\n",
      "\u001b[1;32mINFO: Downloading song: don't let me go\u001b[0m\n",
      "\u001b[1;32mINFO: Successfully processed and saved song: don't let me go\u001b[0m\n",
      "\u001b[1;32mINFO: Processing song: found\u001b[0m\n",
      "\u001b[1;32mINFO: Downloading song: found\u001b[0m\n",
      "                                                         \r"
     ]
    },
    {
     "name": "stderr",
     "output_type": "stream",
     "text": [
      "\u001b[1;33mWARNING: Lyrics not found for 'found' by jacob banks using all available providers.\u001b[0m\n"
     ]
    },
    {
     "name": "stdout",
     "output_type": "stream",
     "text": [
      "\u001b[1;32mINFO: Successfully processed and saved song: found\u001b[0m\n",
      "\u001b[1;32mINFO: Processing song: worship\u001b[0m\n",
      "\u001b[1;32mINFO: Downloading song: worship\u001b[0m\n",
      "                                                         \r"
     ]
    },
    {
     "name": "stderr",
     "output_type": "stream",
     "text": [
      "\u001b[1;33mWARNING: Lyrics not found for 'worship' by laces using all available providers.\u001b[0m\n"
     ]
    },
    {
     "name": "stdout",
     "output_type": "stream",
     "text": [
      "\u001b[1;32mINFO: Successfully processed and saved song: worship\u001b[0m\n",
      "\u001b[1;32mINFO: Processing song: you got it\u001b[0m\n",
      "\u001b[1;32mINFO: Downloading song: you got it\u001b[0m\n",
      "\u001b[1;32mINFO: Successfully processed and saved song: you got it\u001b[0m\n",
      "\u001b[1;32mINFO: Processing song: wiem dlaczego bloki płaczą\u001b[0m\n",
      "\u001b[1;32mINFO: Downloading song: wiem dlaczego bloki płaczą\u001b[0m\n",
      "\u001b[1;32mINFO: Successfully processed and saved song: wiem dlaczego bloki płaczą\u001b[0m\n",
      "\u001b[1;32mINFO: Processing song: jesus of suburbia\u001b[0m\n",
      "\u001b[1;32mINFO: Downloading song: jesus of suburbia\u001b[0m\n",
      "\u001b[1;32mINFO: Successfully processed and saved song: jesus of suburbia\u001b[0m\n",
      "\u001b[1;32mINFO: Processing song: waves\u001b[0m\n",
      "\u001b[1;32mINFO: Song waves already downloaded, skipping download.\u001b[0m\n",
      "\u001b[1;32mINFO: Successfully processed and saved song: waves\u001b[0m\n",
      "\u001b[1;32mINFO: Processing song: fragile\u001b[0m\n",
      "\u001b[1;32mINFO: Downloading song: fragile\u001b[0m\n",
      "\u001b[1;32mINFO: Successfully processed and saved song: fragile\u001b[0m\n",
      "\u001b[1;32mINFO: Processing song: ocean\u001b[0m\n",
      "\u001b[1;32mINFO: Downloading song: ocean\u001b[0m\n",
      "                                                         \r"
     ]
    },
    {
     "name": "stderr",
     "output_type": "stream",
     "text": [
      "\u001b[1;33mWARNING: Lyrics not found for 'ocean' by john butler using all available providers.\u001b[0m\n"
     ]
    },
    {
     "name": "stdout",
     "output_type": "stream",
     "text": [
      "\u001b[1;32mINFO: Successfully processed and saved song: ocean\u001b[0m\n",
      "\u001b[1;32mINFO: Processing song: summer\u001b[0m\n",
      "\u001b[1;32mINFO: Downloading song: summer\u001b[0m\n",
      "\u001b[1;32mINFO: Successfully processed and saved song: summer\u001b[0m\n",
      "\u001b[1;32mINFO: Processing song: good nights (feat. mascolo)\u001b[0m\n",
      "\u001b[1;32mINFO: Downloading song: good nights (feat. mascolo)\u001b[0m\n",
      "\u001b[1;32mINFO: Successfully processed and saved song: good nights (feat. mascolo)\u001b[0m\n",
      "\u001b[1;32mINFO: Processing song: money\u001b[0m\n",
      "\u001b[1;32mINFO: Downloading song: money\u001b[0m\n",
      "                                                         \r"
     ]
    },
    {
     "name": "stderr",
     "output_type": "stream",
     "text": [
      "\u001b[1;33mWARNING: Lyrics not found for 'money' by lime cordiale using all available providers.\u001b[0m\n"
     ]
    },
    {
     "name": "stdout",
     "output_type": "stream",
     "text": [
      "\u001b[1;32mINFO: Successfully processed and saved song: money\u001b[0m\n",
      "\u001b[1;32mINFO: Processing song: chew on my heart\u001b[0m\n",
      "\u001b[1;32mINFO: Downloading song: chew on my heart\u001b[0m\n",
      "\u001b[1;32mINFO: Successfully processed and saved song: chew on my heart\u001b[0m\n",
      "\u001b[1;32mINFO: Processing song: urke\u001b[0m\n",
      "\u001b[1;32mINFO: Downloading song: urke\u001b[0m\n",
      "\u001b[1;32mINFO: Successfully processed and saved song: urke\u001b[0m\n",
      "\u001b[1;32mINFO: Processing song: pumped up kicks\u001b[0m\n",
      "\u001b[1;32mINFO: Downloading song: pumped up kicks\u001b[0m\n",
      "\u001b[1;32mINFO: Successfully processed and saved song: pumped up kicks\u001b[0m\n",
      "\u001b[1;32mINFO: Processing song: lover\u001b[0m\n",
      "\u001b[1;32mINFO: Downloading song: lover\u001b[0m\n",
      "                                                         \r"
     ]
    },
    {
     "name": "stderr",
     "output_type": "stream",
     "text": [
      "\u001b[1;33mWARNING: Lyrics not found for 'lover' by truslow using all available providers.\u001b[0m\n"
     ]
    },
    {
     "name": "stdout",
     "output_type": "stream",
     "text": [
      "\u001b[1;32mINFO: Successfully processed and saved song: lover\u001b[0m\n",
      "\u001b[1;32mINFO: Processing song: chau\u001b[0m\n",
      "\u001b[1;32mINFO: Downloading song: chau\u001b[0m\n",
      "\u001b[1;32mINFO: Successfully processed and saved song: chau\u001b[0m\n",
      "\u001b[1;32mINFO: Processing song: shelter\u001b[0m\n",
      "\u001b[1;32mINFO: Downloading song: shelter\u001b[0m\n",
      "                                                         \r"
     ]
    },
    {
     "name": "stderr",
     "output_type": "stream",
     "text": [
      "\u001b[1;33mWARNING: Lyrics not found for 'shelter' by the satellite station using all available providers.\u001b[0m\n"
     ]
    },
    {
     "name": "stdout",
     "output_type": "stream",
     "text": [
      "\u001b[1;32mINFO: Successfully processed and saved song: shelter\u001b[0m\n",
      "\u001b[1;32mINFO: Processing song: vérité\u001b[0m\n",
      "\u001b[1;32mINFO: Downloading song: vérité\u001b[0m\n",
      "\u001b[1;32mINFO: Successfully processed and saved song: vérité\u001b[0m\n",
      "\u001b[1;32mINFO: Processing song: dziewczyna mojego chlopaka\u001b[0m\n",
      "\u001b[1;32mINFO: Downloading song: dziewczyna mojego chlopaka\u001b[0m\n",
      "\u001b[1;32mINFO: Successfully processed and saved song: dziewczyna mojego chlopaka\u001b[0m\n",
      "\u001b[1;32mINFO: Processing song: ogień i lód\u001b[0m\n",
      "\u001b[1;32mINFO: Downloading song: ogień i lód\u001b[0m\n",
      "                                                           \r"
     ]
    },
    {
     "name": "stderr",
     "output_type": "stream",
     "text": [
      "\u001b[1;33mWARNING: Lyrics not found for 'ogień i lód' by patryk kumór using all available providers.\u001b[0m\n"
     ]
    },
    {
     "name": "stdout",
     "output_type": "stream",
     "text": [
      "\u001b[1;32mINFO: Successfully processed and saved song: ogień i lód\u001b[0m\n",
      "\u001b[1;32mINFO: Processing song: w ciemno\u001b[0m\n",
      "\u001b[1;32mINFO: Downloading song: w ciemno\u001b[0m\n",
      "                                                         \r"
     ]
    },
    {
     "name": "stderr",
     "output_type": "stream",
     "text": [
      "\u001b[1;33mWARNING: Lyrics not found for 'w ciemno' by piotr zioła using all available providers.\u001b[0m\n"
     ]
    },
    {
     "name": "stdout",
     "output_type": "stream",
     "text": [
      "\u001b[1;32mINFO: Successfully processed and saved song: w ciemno\u001b[0m\n",
      "\u001b[1;32mINFO: Processing song: noisy sunday\u001b[0m\n",
      "\u001b[1;32mINFO: Downloading song: noisy sunday\u001b[0m\n",
      "\u001b[1;32mINFO: Successfully processed and saved song: noisy sunday\u001b[0m\n",
      "\u001b[1;32mINFO: Processing song: so strange\u001b[0m\n",
      "\u001b[1;32mINFO: Downloading song: so strange\u001b[0m\n",
      "\u001b[1;32mINFO: Successfully processed and saved song: so strange\u001b[0m\n",
      "\u001b[1;32mINFO: Processing song: 40oz\u001b[0m\n",
      "\u001b[1;32mINFO: Downloading song: 40oz\u001b[0m\n",
      "                                                         \r"
     ]
    },
    {
     "name": "stderr",
     "output_type": "stream",
     "text": [
      "\u001b[1;33mWARNING: Lyrics not found for '40oz' by polyphia using all available providers.\u001b[0m\n"
     ]
    },
    {
     "name": "stdout",
     "output_type": "stream",
     "text": [
      "\u001b[1;32mINFO: Successfully processed and saved song: 40oz\u001b[0m\n",
      "\u001b[1;32mINFO: Processing song: boulevard of broken dreams\u001b[0m\n",
      "\u001b[1;32mINFO: Downloading song: boulevard of broken dreams\u001b[0m\n",
      "\u001b[1;32mINFO: Successfully processed and saved song: boulevard of broken dreams\u001b[0m\n",
      "\u001b[1;32mINFO: Processing song: brother\u001b[0m\n",
      "\u001b[1;32mINFO: Downloading song: brother\u001b[0m\n",
      "\u001b[1;32mINFO: Successfully processed and saved song: brother\u001b[0m\n",
      "\u001b[1;32mINFO: Processing song: d'improvviso\u001b[0m\n",
      "\u001b[1;32mINFO: Downloading song: d'improvviso\u001b[0m\n",
      "\u001b[1;32mINFO: Successfully processed and saved song: d'improvviso\u001b[0m\n",
      "\u001b[1;32mINFO: Processing song: heart-shaped box\u001b[0m\n",
      "\u001b[1;32mINFO: Downloading song: heart-shaped box\u001b[0m\n",
      "                                                         \r"
     ]
    },
    {
     "name": "stderr",
     "output_type": "stream",
     "text": [
      "\u001b[1;33mWARNING: Lyrics not found for 'heart' by nirvana using all available providers.\u001b[0m\n"
     ]
    },
    {
     "name": "stdout",
     "output_type": "stream",
     "text": [
      "\u001b[1;32mINFO: Successfully processed and saved song: heart-shaped box\u001b[0m\n",
      "\u001b[1;32mINFO: Processing song: come as you are\u001b[0m\n",
      "\u001b[1;32mINFO: Downloading song: come as you are\u001b[0m\n",
      "\u001b[1;32mINFO: Successfully processed and saved song: come as you are\u001b[0m\n",
      "\u001b[1;32mINFO: Processing song: smells like teen spirit\u001b[0m\n",
      "\u001b[1;32mINFO: Downloading song: smells like teen spirit\u001b[0m\n",
      "\u001b[1;32mINFO: Successfully processed and saved song: smells like teen spirit\u001b[0m\n",
      "\u001b[1;32mINFO: Processing song: hey joe\u001b[0m\n",
      "\u001b[1;32mINFO: Downloading song: hey joe\u001b[0m\n",
      "\u001b[1;32mINFO: Successfully processed and saved song: hey joe\u001b[0m\n",
      "\u001b[1;32mINFO: Processing song: all along the watchtower\u001b[0m\n",
      "\u001b[1;32mINFO: Downloading song: all along the watchtower\u001b[0m\n",
      "\u001b[1;32mINFO: Successfully processed and saved song: all along the watchtower\u001b[0m\n",
      "\u001b[1;32mINFO: Processing song: in my dreams with you\u001b[0m\n",
      "\u001b[1;32mINFO: Downloading song: in my dreams with you\u001b[0m\n",
      "\u001b[1;32mINFO: Successfully processed and saved song: in my dreams with you\u001b[0m\n",
      "\u001b[1;32mINFO: Processing song: bad horsie\u001b[0m\n",
      "\u001b[1;32mINFO: Downloading song: bad horsie\u001b[0m\n",
      "\u001b[1;32mINFO: Successfully processed and saved song: bad horsie\u001b[0m\n",
      "\u001b[1;32mINFO: Processing song: tender surrender\u001b[0m\n",
      "\u001b[1;32mINFO: Downloading song: tender surrender\u001b[0m\n",
      "\u001b[1;32mINFO: Successfully processed and saved song: tender surrender\u001b[0m\n",
      "\u001b[1;32mINFO: Processing song: wild blue\u001b[0m\n",
      "\u001b[1;32mINFO: Downloading song: wild blue\u001b[0m\n",
      "\u001b[1;32mINFO: Successfully processed and saved song: wild blue\u001b[0m\n",
      "\u001b[1;32mINFO: Processing song: your body is a wonderland\u001b[0m\n",
      "\u001b[1;32mINFO: Downloading song: your body is a wonderland\u001b[0m\n",
      "\u001b[1;32mINFO: Successfully processed and saved song: your body is a wonderland\u001b[0m\n",
      "\u001b[1;32mINFO: Processing song: til the right one comes\u001b[0m\n",
      "\u001b[1;32mINFO: Downloading song: til the right one comes\u001b[0m\n",
      "\u001b[1;32mINFO: Successfully processed and saved song: til the right one comes\u001b[0m\n",
      "\u001b[1;32mINFO: Processing song: tutto per me\u001b[0m\n",
      "\u001b[1;32mINFO: Downloading song: tutto per me\u001b[0m\n",
      "\u001b[1;32mINFO: Successfully processed and saved song: tutto per me\u001b[0m\n",
      "\u001b[1;32mINFO: Processing song: torna a casa\u001b[0m\n",
      "\u001b[1;32mINFO: Downloading song: torna a casa\u001b[0m\n",
      "\u001b[1;32mINFO: Successfully processed and saved song: torna a casa\u001b[0m\n",
      "\u001b[1;32mINFO: Processing song: piccola stella\u001b[0m\n",
      "\u001b[1;32mINFO: Downloading song: piccola stella\u001b[0m\n",
      "\u001b[1;32mINFO: Successfully processed and saved song: piccola stella\u001b[0m\n",
      "\u001b[1;32mINFO: Processing song: girasole\u001b[0m\n",
      "\u001b[1;32mINFO: Downloading song: girasole\u001b[0m\n",
      "\u001b[1;32mINFO: Successfully processed and saved song: girasole\u001b[0m\n",
      "\u001b[1;32mINFO: Processing song: bergamo\u001b[0m\n",
      "\u001b[1;32mINFO: Downloading song: bergamo\u001b[0m\n",
      "\u001b[1;32mINFO: Successfully processed and saved song: bergamo\u001b[0m\n",
      "\u001b[1;32mINFO: Processing song: giovane e triste\u001b[0m\n",
      "\u001b[1;32mINFO: Downloading song: giovane e triste\u001b[0m\n",
      "\u001b[1;32mINFO: Successfully processed and saved song: giovane e triste\u001b[0m\n",
      "\u001b[1;32mINFO: Processing song: finché ti va\u001b[0m\n",
      "\u001b[1;32mINFO: Downloading song: finché ti va\u001b[0m\n",
      "\u001b[1;32mINFO: Successfully processed and saved song: finché ti va\u001b[0m\n",
      "\u001b[1;32mINFO: Processing song: notti di luna\u001b[0m\n",
      "\u001b[1;32mINFO: Downloading song: notti di luna\u001b[0m\n",
      "\u001b[1;32mINFO: Successfully processed and saved song: notti di luna\u001b[0m\n",
      "\u001b[1;32mINFO: Processing song: let down\u001b[0m\n",
      "\u001b[1;32mINFO: Downloading song: let down\u001b[0m\n",
      "                                                         \r"
     ]
    },
    {
     "name": "stderr",
     "output_type": "stream",
     "text": [
      "\u001b[1;33mWARNING: Lyrics not found for 'let down' by paris jackson using all available providers.\u001b[0m\n"
     ]
    },
    {
     "name": "stdout",
     "output_type": "stream",
     "text": [
      "\u001b[1;32mINFO: Successfully processed and saved song: let down\u001b[0m\n",
      "\u001b[1;32mINFO: Processing song: west coast\u001b[0m\n",
      "\u001b[1;32mINFO: Downloading song: west coast\u001b[0m\n",
      "\u001b[1;32mINFO: Successfully processed and saved song: west coast\u001b[0m\n",
      "\u001b[1;32mINFO: Processing song: pastello bianco\u001b[0m\n",
      "\u001b[1;32mINFO: Downloading song: pastello bianco\u001b[0m\n",
      "\u001b[1;32mINFO: Successfully processed and saved song: pastello bianco\u001b[0m\n",
      "\u001b[1;32mINFO: Processing song: love me again\u001b[0m\n",
      "\u001b[1;32mINFO: Downloading song: love me again\u001b[0m\n",
      "\u001b[1;32mINFO: Successfully processed and saved song: love me again\u001b[0m\n",
      "\u001b[1;32mINFO: Processing song: freddo cane\u001b[0m\n",
      "\u001b[1;32mINFO: Downloading song: freddo cane\u001b[0m\n",
      "\u001b[1;32mINFO: Successfully processed and saved song: freddo cane\u001b[0m\n",
      "\u001b[1;32mINFO: Processing song: la nuova stella di broadway\u001b[0m\n",
      "\u001b[1;32mINFO: Downloading song: la nuova stella di broadway\u001b[0m\n",
      "\u001b[1;32mINFO: Successfully processed and saved song: la nuova stella di broadway\u001b[0m\n",
      "\u001b[1;32mINFO: Processing song: mia\u001b[0m\n",
      "\u001b[1;32mINFO: Downloading song: mia\u001b[0m\n",
      "                                                         \r"
     ]
    },
    {
     "name": "stderr",
     "output_type": "stream",
     "text": [
      "\u001b[1;33mWARNING: Lyrics not found for 'mia' by lortex using all available providers.\u001b[0m\n"
     ]
    },
    {
     "name": "stdout",
     "output_type": "stream",
     "text": [
      "\u001b[1;32mINFO: Successfully processed and saved song: mia\u001b[0m\n",
      "\u001b[1;32mINFO: Processing song: delia\u001b[0m\n",
      "\u001b[1;32mINFO: Downloading song: delia\u001b[0m\n",
      "                                                         \r"
     ]
    },
    {
     "name": "stderr",
     "output_type": "stream",
     "text": [
      "\u001b[1;33mWARNING: Lyrics not found for 'delia' by legno using all available providers.\u001b[0m\n"
     ]
    },
    {
     "name": "stdout",
     "output_type": "stream",
     "text": [
      "\u001b[1;32mINFO: Successfully processed and saved song: delia\u001b[0m\n",
      "\u001b[1;32mINFO: Processing song: qualcosa di nuovo\u001b[0m\n",
      "\u001b[1;32mINFO: Downloading song: qualcosa di nuovo\u001b[0m\n",
      "\u001b[1;32mINFO: Successfully processed and saved song: qualcosa di nuovo\u001b[0m\n",
      "\u001b[1;32mINFO: Processing song: sono solo parole\u001b[0m\n",
      "\u001b[1;32mINFO: Downloading song: sono solo parole\u001b[0m\n",
      "\u001b[1;32mINFO: Successfully processed and saved song: sono solo parole\u001b[0m\n",
      "\u001b[1;32mINFO: Processing song: tutte le poesie sono d’amore\u001b[0m\n",
      "\u001b[1;32mINFO: Downloading song: tutte le poesie sono d’amore\u001b[0m\n",
      "\u001b[1;32mINFO: Successfully processed and saved song: tutte le poesie sono d’amore\u001b[0m\n",
      "\u001b[1;32mINFO: Processing song: astronave\u001b[0m\n",
      "\u001b[1;32mINFO: Downloading song: astronave\u001b[0m\n",
      "\u001b[1;32mINFO: Successfully processed and saved song: astronave\u001b[0m\n",
      "\u001b[1;32mINFO: Processing song: blue jeans (feat. calcutta)\u001b[0m\n",
      "\u001b[1;32mINFO: Downloading song: blue jeans (feat. calcutta)\u001b[0m\n",
      "\u001b[1;32mINFO: Successfully processed and saved song: blue jeans (feat. calcutta)\u001b[0m\n",
      "\u001b[1;32mINFO: Processing song: a parte te\u001b[0m\n",
      "\u001b[1;32mINFO: Downloading song: a parte te\u001b[0m\n",
      "\u001b[1;32mINFO: Successfully processed and saved song: a parte te\u001b[0m\n",
      "\u001b[1;32mINFO: Processing song: al giusto momento\u001b[0m\n",
      "\u001b[1;32mINFO: Downloading song: al giusto momento\u001b[0m\n",
      "\u001b[1;32mINFO: Successfully processed and saved song: al giusto momento\u001b[0m\n",
      "\u001b[1;32mINFO: Processing song: la vita breve dei coriandoli\u001b[0m\n",
      "\u001b[1;32mINFO: Downloading song: la vita breve dei coriandoli\u001b[0m\n",
      "\u001b[1;32mINFO: Successfully processed and saved song: la vita breve dei coriandoli\u001b[0m\n",
      "\u001b[1;32mINFO: Processing song: fiori di chernobyl\u001b[0m\n",
      "\u001b[1;32mINFO: Downloading song: fiori di chernobyl\u001b[0m\n",
      "\u001b[1;32mINFO: Successfully processed and saved song: fiori di chernobyl\u001b[0m\n",
      "\u001b[1;32mINFO: Processing song: le parole lontane\u001b[0m\n",
      "\u001b[1;32mINFO: Downloading song: le parole lontane\u001b[0m\n",
      "\u001b[1;32mINFO: Successfully processed and saved song: le parole lontane\u001b[0m\n",
      "\u001b[1;32mINFO: Processing song: le luci di roma\u001b[0m\n",
      "\u001b[1;32mINFO: Downloading song: le luci di roma\u001b[0m\n",
      "\u001b[1;32mINFO: Successfully processed and saved song: le luci di roma\u001b[0m\n",
      "\u001b[1;32mINFO: Processing song: l'amour toujours\u001b[0m\n",
      "\u001b[1;32mINFO: Downloading song: l'amour toujours\u001b[0m\n",
      "\u001b[1;32mINFO: Successfully processed and saved song: l'amour toujours\u001b[0m\n",
      "\u001b[1;32mINFO: Processing song: non avere paura\u001b[0m\n",
      "\u001b[1;32mINFO: Downloading song: non avere paura\u001b[0m\n",
      "\u001b[1;32mINFO: Successfully processed and saved song: non avere paura\u001b[0m\n",
      "\u001b[1;32mINFO: Processing song: un attimo di pace\u001b[0m\n",
      "\u001b[1;32mINFO: Downloading song: un attimo di pace\u001b[0m\n",
      "\u001b[1;32mINFO: Successfully processed and saved song: un attimo di pace\u001b[0m\n",
      "\u001b[1;32mINFO: Processing song: presque vu\u001b[0m\n",
      "\u001b[1;32mINFO: Downloading song: presque vu\u001b[0m\n",
      "                                                         \r"
     ]
    },
    {
     "name": "stderr",
     "output_type": "stream",
     "text": [
      "\u001b[1;33mWARNING: Lyrics not found for 'presque vu' by signal-to-noise using all available providers.\u001b[0m\n"
     ]
    },
    {
     "name": "stdout",
     "output_type": "stream",
     "text": [
      "\u001b[1;32mINFO: Successfully processed and saved song: presque vu\u001b[0m\n",
      "\u001b[1;32mINFO: Processing song: '74-'75\u001b[0m\n",
      "\u001b[1;32mINFO: Downloading song: '74-'75\u001b[0m\n",
      "\u001b[1;32mINFO: Successfully processed and saved song: '74-'75\u001b[0m\n",
      "\u001b[1;32mINFO: Processing song: no se va\u001b[0m\n",
      "\u001b[1;32mINFO: Downloading song: no se va\u001b[0m\n",
      "\u001b[1;32mINFO: Successfully processed and saved song: no se va\u001b[0m\n",
      "\u001b[1;32mINFO: Processing song: perderme en ti\u001b[0m\n",
      "\u001b[1;32mINFO: Downloading song: perderme en ti\u001b[0m\n",
      "                                                         \r"
     ]
    },
    {
     "name": "stderr",
     "output_type": "stream",
     "text": [
      "\u001b[1;33mWARNING: Lyrics not found for 'perderme en ti' by tommy torres using all available providers.\u001b[0m\n"
     ]
    },
    {
     "name": "stdout",
     "output_type": "stream",
     "text": [
      "\u001b[1;32mINFO: Successfully processed and saved song: perderme en ti\u001b[0m\n",
      "\u001b[1;32mINFO: Processing song: pegadito\u001b[0m\n",
      "\u001b[1;32mINFO: Downloading song: pegadito\u001b[0m\n",
      "\u001b[1;32mINFO: Successfully processed and saved song: pegadito\u001b[0m\n",
      "\u001b[1;32mINFO: Processing song: quédate\u001b[0m\n",
      "\u001b[1;32mINFO: Downloading song: quédate\u001b[0m\n",
      "                                                         \r"
     ]
    },
    {
     "name": "stderr",
     "output_type": "stream",
     "text": [
      "\u001b[1;33mWARNING: Lyrics not found for 'quédate' by kany garcía using all available providers.\u001b[0m\n"
     ]
    },
    {
     "name": "stdout",
     "output_type": "stream",
     "text": [
      "\u001b[1;32mINFO: Successfully processed and saved song: quédate\u001b[0m\n",
      "\u001b[1;32mINFO: Processing song: y, ¿si fuera ella? - + es +\u001b[0m\n",
      "\u001b[1;32mINFO: Downloading song: y, ¿si fuera ella? - + es +\u001b[0m\n",
      "                                                         \r"
     ]
    },
    {
     "name": "stderr",
     "output_type": "stream",
     "text": [
      "\u001b[1;33mWARNING: Lyrics not found for 'y, ¿si fuera ella?' by pablo alborán using all available providers.\u001b[0m\n"
     ]
    },
    {
     "name": "stdout",
     "output_type": "stream",
     "text": [
      "\u001b[1;32mINFO: Successfully processed and saved song: y, ¿si fuera ella? - + es +\u001b[0m\n",
      "\u001b[1;32mINFO: Processing song: we might be dead by tomorrow\u001b[0m\n",
      "\u001b[1;32mINFO: Downloading song: we might be dead by tomorrow\u001b[0m\n",
      "\u001b[1;32mINFO: Successfully processed and saved song: we might be dead by tomorrow\u001b[0m\n",
      "\u001b[1;32mINFO: Processing song: con los ojos cerrados\u001b[0m\n",
      "\u001b[1;32mINFO: Downloading song: con los ojos cerrados\u001b[0m\n",
      "\u001b[1;32mINFO: Successfully processed and saved song: con los ojos cerrados\u001b[0m\n",
      "\u001b[1;32mINFO: Processing song: te amo\u001b[0m\n",
      "\u001b[1;32mINFO: Downloading song: te amo\u001b[0m\n",
      "\u001b[1;32mINFO: Successfully processed and saved song: te amo\u001b[0m\n",
      "\u001b[1;32mINFO: Processing song: new light\u001b[0m\n",
      "\u001b[1;32mINFO: Downloading song: new light\u001b[0m\n",
      "\u001b[1;32mINFO: Successfully processed and saved song: new light\u001b[0m\n",
      "\u001b[1;32mINFO: Processing song: querido tommy\u001b[0m\n",
      "\u001b[1;32mINFO: Downloading song: querido tommy\u001b[0m\n",
      "\u001b[1;32mINFO: Successfully processed and saved song: querido tommy\u001b[0m\n",
      "\u001b[1;32mINFO: Processing song: ya no sé que hacer conmigo\u001b[0m\n",
      "\u001b[1;32mINFO: Downloading song: ya no sé que hacer conmigo\u001b[0m\n",
      "\u001b[1;32mINFO: Successfully processed and saved song: ya no sé que hacer conmigo\u001b[0m\n",
      "\u001b[1;32mINFO: Processing song: no me voy a marte\u001b[0m\n",
      "\u001b[1;32mINFO: Downloading song: no me voy a marte\u001b[0m\n",
      "                                                         \r"
     ]
    },
    {
     "name": "stderr",
     "output_type": "stream",
     "text": [
      "\u001b[1;33mWARNING: Lyrics not found for 'no me voy a marte' by nacho vegas using all available providers.\u001b[0m\n"
     ]
    },
    {
     "name": "stdout",
     "output_type": "stream",
     "text": [
      "\u001b[1;32mINFO: Successfully processed and saved song: no me voy a marte\u001b[0m\n",
      "\u001b[1;32mINFO: Processing song: visitor\u001b[0m\n",
      "\u001b[1;32mINFO: Downloading song: visitor\u001b[0m\n",
      "\u001b[1;32mINFO: Successfully processed and saved song: visitor\u001b[0m\n",
      "\u001b[1;32mINFO: Processing song: początek\u001b[0m\n",
      "\u001b[1;32mINFO: Downloading song: początek\u001b[0m\n",
      "\u001b[1;32mINFO: Successfully processed and saved song: początek\u001b[0m\n",
      "\u001b[1;32mINFO: Processing song: nie ma czasu\u001b[0m\n",
      "\u001b[1;32mINFO: Downloading song: nie ma czasu\u001b[0m\n",
      "\u001b[1;32mINFO: Successfully processed and saved song: nie ma czasu\u001b[0m\n",
      "\u001b[1;32mINFO: Processing song: warszawa\u001b[0m\n",
      "\u001b[1;32mINFO: Downloading song: warszawa\u001b[0m\n",
      "\u001b[1;32mINFO: Successfully processed and saved song: warszawa\u001b[0m\n",
      "\u001b[1;32mINFO: Processing song: los abrazos prohibidos (feat. alice wonder, andrés suárez, carlotta cosials, christina rosenvinge, dani martin, depedro, eva amaral, ismael serrano, iván ferreiro, kase.o, leiva, luz casal, maika makovski, marwán, nacho vegas, nina de juan, rozalén, joaquín sabina, santi balmes & xoel lópez)\u001b[0m\n",
      "\u001b[1;32mINFO: Downloading song: los abrazos prohibidos (feat. alice wonder, andrés suárez, carlotta cosials, christina rosenvinge, dani martin, depedro, eva amaral, ismael serrano, iván ferreiro, kase.o, leiva, luz casal, maika makovski, marwán, nacho vegas, nina de juan, rozalén, joaquín sabina, santi balmes & xoel lópez)\u001b[0m\n"
     ]
    },
    {
     "name": "stderr",
     "output_type": "stream",
     "text": [
      "\u001b[1;31mERROR: There was an error processing song: los abrazos prohibidos (feat. alice wonder, andrés suárez, carlotta cosials, christina rosenvinge, dani martin, depedro, eva amaral, ismael serrano, iván ferreiro, kase.o, leiva, luz casal, maika makovski, marwán, nacho vegas, nina de juan, rozalén, joaquín sabina, santi balmes & xoel lópez) by vetusta morla: [Errno 36] File name too long: '/home/krystian/Python/Jupyter-projects/thesis/songs_analysis/playlists/final download 2/los abrazos prohibidos (feat. alice wonder, andrés suárez, carlotta cosials, christina rosenvinge, dani martin, depedro, eva amaral, ismael serrano, iván ferreiro, kase.o, leiva, luz casal, maika makovski, marwán, nacho vegas, nina de juan, rozalén, joaquín sabina, santi balmes & xoel lópez).jpg'\u001b[0m\n"
     ]
    },
    {
     "name": "stdout",
     "output_type": "stream",
     "text": [
      "\u001b[1;32mINFO: Processing song: pelo suelto\u001b[0m\n",
      "\u001b[1;32mINFO: Downloading song: pelo suelto\u001b[0m\n",
      "\u001b[1;32mINFO: Successfully processed and saved song: pelo suelto\u001b[0m\n",
      "\u001b[1;32mINFO: Processing song: when i'm gone\u001b[0m\n",
      "\u001b[1;32mINFO: Downloading song: when i'm gone\u001b[0m\n",
      "\u001b[1;32mINFO: Successfully processed and saved song: when i'm gone\u001b[0m\n",
      "\u001b[1;32mINFO: Processing song: what’s this life for - alternate version\u001b[0m\n",
      "\u001b[1;32mINFO: Downloading song: what’s this life for - alternate version\u001b[0m\n",
      "\u001b[1;32mINFO: Successfully processed and saved song: what’s this life for - alternate version\u001b[0m\n",
      "\u001b[1;32mINFO: Processing song: what's this life for\u001b[0m\n",
      "\u001b[1;32mINFO: Downloading song: what's this life for\u001b[0m\n",
      "\u001b[1;32mINFO: Successfully processed and saved song: what's this life for\u001b[0m\n",
      "\u001b[1;32mINFO: Processing song: youth\u001b[0m\n",
      "\u001b[1;32mINFO: Downloading song: youth\u001b[0m\n",
      "\u001b[1;32mINFO: Successfully processed and saved song: youth\u001b[0m\n",
      "\u001b[1;32mINFO: Processing song: lean on\u001b[0m\n",
      "\u001b[1;32mINFO: Downloading song: lean on\u001b[0m\n",
      "                                                         \r"
     ]
    },
    {
     "name": "stderr",
     "output_type": "stream",
     "text": [
      "\u001b[1;33mWARNING: Lyrics not found for 'lean on' by squeak e. clean using all available providers.\u001b[0m\n"
     ]
    },
    {
     "name": "stdout",
     "output_type": "stream",
     "text": [
      "\u001b[1;32mINFO: Successfully processed and saved song: lean on\u001b[0m\n",
      "\u001b[1;32mINFO: Processing song: iron man\u001b[0m\n",
      "\u001b[1;32mINFO: Downloading song: iron man\u001b[0m\n",
      "\u001b[1;32mINFO: Successfully processed and saved song: iron man\u001b[0m\n",
      "\u001b[1;32mINFO: Processing song: back in black\u001b[0m\n",
      "\u001b[1;32mINFO: Downloading song: back in black\u001b[0m\n",
      "\u001b[1;32mINFO: Successfully processed and saved song: back in black\u001b[0m\n",
      "\u001b[1;32mINFO: Processing song: sweet child o' mine\u001b[0m\n",
      "\u001b[1;32mINFO: Downloading song: sweet child o' mine\u001b[0m\n",
      "\u001b[1;32mINFO: Successfully processed and saved song: sweet child o' mine\u001b[0m\n",
      "\u001b[1;32mINFO: Processing song: voyage voyage\u001b[0m\n",
      "\u001b[1;32mINFO: Downloading song: voyage voyage\u001b[0m\n",
      "                                                           \r"
     ]
    },
    {
     "name": "stderr",
     "output_type": "stream",
     "text": [
      "\u001b[1;33mWARNING: Lyrics not found for 'voyage voyage' by sloń using all available providers.\u001b[0m\n"
     ]
    },
    {
     "name": "stdout",
     "output_type": "stream",
     "text": [
      "\u001b[1;32mINFO: Successfully processed and saved song: voyage voyage\u001b[0m\n",
      "\u001b[1;32mINFO: Processing song: crawl\u001b[0m\n",
      "\u001b[1;32mINFO: Downloading song: crawl\u001b[0m\n",
      "                                                         \r"
     ]
    },
    {
     "name": "stderr",
     "output_type": "stream",
     "text": [
      "\u001b[1;33mWARNING: Lyrics not found for 'crawl' by cloud using all available providers.\u001b[0m\n"
     ]
    },
    {
     "name": "stdout",
     "output_type": "stream",
     "text": [
      "\u001b[1;32mINFO: Successfully processed and saved song: crawl\u001b[0m\n",
      "\u001b[1;32mINFO: Processing song: without you - acoustic\u001b[0m\n",
      "\u001b[1;32mINFO: Downloading song: without you - acoustic\u001b[0m\n",
      "                                                         \r"
     ]
    },
    {
     "name": "stderr",
     "output_type": "stream",
     "text": [
      "\u001b[1;33mWARNING: Lyrics not found for 'without you' by john newman using all available providers.\u001b[0m\n"
     ]
    },
    {
     "name": "stdout",
     "output_type": "stream",
     "text": [
      "\u001b[1;32mINFO: Successfully processed and saved song: without you - acoustic\u001b[0m\n",
      "\u001b[1;32mINFO: Processing song: no sound but the wind\u001b[0m\n",
      "\u001b[1;32mINFO: Downloading song: no sound but the wind\u001b[0m\n",
      "\u001b[1;32mINFO: Successfully processed and saved song: no sound but the wind\u001b[0m\n",
      "\u001b[1;32mINFO: Processing song: merci pour ça\u001b[0m\n",
      "\u001b[1;32mINFO: Downloading song: merci pour ça\u001b[0m\n",
      "\u001b[1;32mINFO: Successfully processed and saved song: merci pour ça\u001b[0m\n",
      "\u001b[1;32mINFO: Processing song: where the river runs\u001b[0m\n",
      "\u001b[1;32mINFO: Downloading song: where the river runs\u001b[0m\n",
      "\u001b[1;32mINFO: Successfully processed and saved song: where the river runs\u001b[0m\n",
      "\u001b[1;32mINFO: Processing song: blackbird - remastered 2009\u001b[0m\n",
      "\u001b[1;32mINFO: Downloading song: blackbird - remastered 2009\u001b[0m\n",
      "\u001b[1;32mINFO: Successfully processed and saved song: blackbird - remastered 2009\u001b[0m\n",
      "\u001b[1;32mINFO: Processing song: under the bridge\u001b[0m\n",
      "\u001b[1;32mINFO: Downloading song: under the bridge\u001b[0m\n",
      "\u001b[1;32mINFO: Successfully processed and saved song: under the bridge\u001b[0m\n",
      "\u001b[1;32mINFO: Processing song: save me once again\u001b[0m\n",
      "\u001b[1;32mINFO: Downloading song: save me once again\u001b[0m\n",
      "\u001b[1;32mINFO: Successfully processed and saved song: save me once again\u001b[0m\n",
      "\u001b[1;32mINFO: Processing song: mundo paralelo\u001b[0m\n",
      "\u001b[1;32mINFO: Downloading song: mundo paralelo\u001b[0m\n",
      "\u001b[1;32mINFO: Successfully processed and saved song: mundo paralelo\u001b[0m\n",
      "\u001b[1;32mINFO: Processing song: run\u001b[0m\n",
      "\u001b[1;32mINFO: Song run already downloaded, skipping download.\u001b[0m\n"
     ]
    },
    {
     "name": "stderr",
     "output_type": "stream",
     "text": [
      "\u001b[1;33mWARNING: Lyrics not found for 'run' by harrison storm using all available providers.\u001b[0m\n"
     ]
    },
    {
     "name": "stdout",
     "output_type": "stream",
     "text": [
      "\u001b[1;32mINFO: Successfully processed and saved song: run\u001b[0m\n",
      "\u001b[1;32mINFO: Processing song: la fille du bus (piano version)\u001b[0m\n",
      "\u001b[1;32mINFO: Downloading song: la fille du bus (piano version)\u001b[0m\n",
      "\u001b[1;32mINFO: Successfully processed and saved song: la fille du bus (piano version)\u001b[0m\n",
      "\u001b[1;32mINFO: Processing song: sky's still blue\u001b[0m\n",
      "\u001b[1;32mINFO: Downloading song: sky's still blue\u001b[0m\n",
      "\u001b[1;32mINFO: Successfully processed and saved song: sky's still blue\u001b[0m\n",
      "\u001b[1;32mINFO: Processing song: dancing after death\u001b[0m\n",
      "\u001b[1;32mINFO: Downloading song: dancing after death\u001b[0m\n",
      "\u001b[1;32mINFO: Successfully processed and saved song: dancing after death\u001b[0m\n",
      "\u001b[1;32mINFO: Processing song: lullaby love\u001b[0m\n",
      "\u001b[1;32mINFO: Downloading song: lullaby love\u001b[0m\n",
      "\u001b[1;32mINFO: Successfully processed and saved song: lullaby love\u001b[0m\n",
      "\u001b[1;32mINFO: Processing song: i need you\u001b[0m\n",
      "\u001b[1;32mINFO: Downloading song: i need you\u001b[0m\n",
      "                                                         \r"
     ]
    },
    {
     "name": "stderr",
     "output_type": "stream",
     "text": [
      "\u001b[1;33mWARNING: Lyrics not found for 'i need you' by faul & wad using all available providers.\u001b[0m\n"
     ]
    },
    {
     "name": "stdout",
     "output_type": "stream",
     "text": [
      "\u001b[1;32mINFO: Successfully processed and saved song: i need you\u001b[0m\n",
      "\u001b[1;32mINFO: Processing song: still got the blues\u001b[0m\n",
      "\u001b[1;32mINFO: Downloading song: still got the blues\u001b[0m\n",
      "\u001b[1;32mINFO: Successfully processed and saved song: still got the blues\u001b[0m\n",
      "\u001b[1;32mINFO: Processing song: kiler\u001b[0m\n",
      "\u001b[1;32mINFO: Downloading song: kiler\u001b[0m\n",
      "\u001b[1;32mINFO: Successfully processed and saved song: kiler\u001b[0m\n",
      "\u001b[1;32mINFO: Processing song: 30 raz\u001b[0m\n",
      "\u001b[1;32mINFO: Downloading song: 30 raz\u001b[0m\n",
      "\u001b[1;32mINFO: Successfully processed and saved song: 30 raz\u001b[0m\n",
      "\u001b[1;32mINFO: Processing song: fake your death\u001b[0m\n",
      "\u001b[1;32mINFO: Downloading song: fake your death\u001b[0m\n",
      "\u001b[1;32mINFO: Successfully processed and saved song: fake your death\u001b[0m\n",
      "\u001b[1;32mINFO: Processing song: the light behind your eyes\u001b[0m\n",
      "\u001b[1;32mINFO: Downloading song: the light behind your eyes\u001b[0m\n",
      "\u001b[1;32mINFO: Successfully processed and saved song: the light behind your eyes\u001b[0m\n",
      "\u001b[1;32mINFO: Processing song: saturn\u001b[0m\n",
      "\u001b[1;32mINFO: Downloading song: saturn\u001b[0m\n",
      "\u001b[1;32mINFO: Successfully processed and saved song: saturn\u001b[0m\n",
      "\u001b[1;32mINFO: Processing song: moondust - stripped\u001b[0m\n",
      "\u001b[1;32mINFO: Downloading song: moondust - stripped\u001b[0m\n",
      "\u001b[1;32mINFO: Successfully processed and saved song: moondust - stripped\u001b[0m\n",
      "\u001b[1;32mINFO: Processing song: don't speak\u001b[0m\n",
      "\u001b[1;32mINFO: Downloading song: don't speak\u001b[0m\n",
      "\u001b[1;32mINFO: Successfully processed and saved song: don't speak\u001b[0m\n",
      "\u001b[1;32mINFO: Processing song: i'll be good\u001b[0m\n",
      "\u001b[1;32mINFO: Downloading song: i'll be good\u001b[0m\n",
      "\u001b[1;32mINFO: Successfully processed and saved song: i'll be good\u001b[0m\n",
      "\u001b[1;32mINFO: Processing song: crazy in love\u001b[0m\n",
      "\u001b[1;32mINFO: Downloading song: crazy in love\u001b[0m\n",
      "\u001b[1;32mINFO: Successfully processed and saved song: crazy in love\u001b[0m\n",
      "\u001b[1;32mINFO: Processing song: missing\u001b[0m\n",
      "\u001b[1;32mINFO: Downloading song: missing\u001b[0m\n",
      "                                                           \r"
     ]
    },
    {
     "name": "stderr",
     "output_type": "stream",
     "text": [
      "\u001b[1;33mWARNING: Lyrics not found for 'missing' by seafret using all available providers.\u001b[0m\n"
     ]
    },
    {
     "name": "stdout",
     "output_type": "stream",
     "text": [
      "\u001b[1;32mINFO: Successfully processed and saved song: missing\u001b[0m\n",
      "\u001b[1;32mINFO: Processing song: cringe - stripped\u001b[0m\n",
      "\u001b[1;32mINFO: Downloading song: cringe - stripped\u001b[0m\n",
      "\u001b[1;32mINFO: Successfully processed and saved song: cringe - stripped\u001b[0m\n",
      "\u001b[1;32mINFO: Processing song: sick of losing soulmates\u001b[0m\n",
      "\u001b[1;32mINFO: Downloading song: sick of losing soulmates\u001b[0m\n",
      "\u001b[1;32mINFO: Successfully processed and saved song: sick of losing soulmates\u001b[0m\n",
      "\u001b[1;32mINFO: Processing song: what is love\u001b[0m\n",
      "\u001b[1;32mINFO: Downloading song: what is love\u001b[0m\n",
      "\u001b[1;32mINFO: Successfully processed and saved song: what is love\u001b[0m\n",
      "\u001b[1;32mINFO: Processing song: war of hearts (acoustic version)\u001b[0m\n",
      "\u001b[1;32mINFO: Downloading song: war of hearts (acoustic version)\u001b[0m\n",
      "\u001b[1;32mINFO: Successfully processed and saved song: war of hearts (acoustic version)\u001b[0m\n",
      "\u001b[1;32mINFO: Processing song: broken\u001b[0m\n",
      "\u001b[1;32mINFO: Song broken already downloaded, skipping download.\u001b[0m\n",
      "\u001b[1;32mINFO: Successfully processed and saved song: broken\u001b[0m\n",
      "\u001b[1;32mINFO: Processing song: just my soul responding\u001b[0m\n",
      "\u001b[1;32mINFO: Downloading song: just my soul responding\u001b[0m\n",
      "\u001b[1;32mINFO: Successfully processed and saved song: just my soul responding\u001b[0m\n",
      "\u001b[1;32mINFO: Processing song: somebody else\u001b[0m\n",
      "\u001b[1;32mINFO: Downloading song: somebody else\u001b[0m\n",
      "\u001b[1;32mINFO: Successfully processed and saved song: somebody else\u001b[0m\n",
      "\u001b[1;32mINFO: Processing song: losing you\u001b[0m\n",
      "\u001b[1;32mINFO: Downloading song: losing you\u001b[0m\n",
      "\u001b[1;32mINFO: Successfully processed and saved song: losing you\u001b[0m\n",
      "\u001b[1;32mINFO: Processing song: silhouette\u001b[0m\n",
      "\u001b[1;32mINFO: Downloading song: silhouette\u001b[0m\n",
      "\u001b[1;32mINFO: Successfully processed and saved song: silhouette\u001b[0m\n",
      "\u001b[1;32mINFO: Processing song: i found\u001b[0m\n",
      "\u001b[1;32mINFO: Downloading song: i found\u001b[0m\n",
      "\u001b[1;32mINFO: Successfully processed and saved song: i found\u001b[0m\n",
      "\u001b[1;32mINFO: Processing song: demons\u001b[0m\n",
      "\u001b[1;32mINFO: Downloading song: demons\u001b[0m\n",
      "                                                         \r"
     ]
    },
    {
     "name": "stderr",
     "output_type": "stream",
     "text": [
      "\u001b[1;33mWARNING: Lyrics not found for 'demons' by jacob lee using all available providers.\u001b[0m\n"
     ]
    },
    {
     "name": "stdout",
     "output_type": "stream",
     "text": [
      "\u001b[1;32mINFO: Successfully processed and saved song: demons\u001b[0m\n",
      "\u001b[1;32mINFO: Processing song: drown\u001b[0m\n",
      "\u001b[1;32mINFO: Downloading song: drown\u001b[0m\n",
      "                                                         \r"
     ]
    },
    {
     "name": "stderr",
     "output_type": "stream",
     "text": [
      "\u001b[1;33mWARNING: Lyrics not found for 'drown' by seafret using all available providers.\u001b[0m\n"
     ]
    },
    {
     "name": "stdout",
     "output_type": "stream",
     "text": [
      "\u001b[1;32mINFO: Successfully processed and saved song: drown\u001b[0m\n",
      "\u001b[1;32mINFO: Processing song: beso\u001b[0m\n",
      "\u001b[1;32mINFO: Downloading song: beso\u001b[0m\n",
      "\u001b[1;32mINFO: Successfully processed and saved song: beso\u001b[0m\n",
      "\u001b[1;32mINFO: Processing song: back to the start\u001b[0m\n",
      "\u001b[1;32mINFO: Downloading song: back to the start\u001b[0m\n",
      "\u001b[1;32mINFO: Successfully processed and saved song: back to the start\u001b[0m\n",
      "\u001b[1;32mINFO: Processing song: wicked game - acoustic; live\u001b[0m\n",
      "\u001b[1;32mINFO: Downloading song: wicked game - acoustic; live\u001b[0m\n",
      "\u001b[1;32mINFO: Successfully processed and saved song: wicked game - acoustic; live\u001b[0m\n",
      "\u001b[1;32mINFO: Processing song: and so it begins\u001b[0m\n",
      "\u001b[1;32mINFO: Downloading song: and so it begins\u001b[0m\n",
      "\u001b[1;32mINFO: Successfully processed and saved song: and so it begins\u001b[0m\n",
      "\u001b[1;32mINFO: Processing song: new blood (reimagined)\u001b[0m\n",
      "\u001b[1;32mINFO: Downloading song: new blood (reimagined)\u001b[0m\n",
      "\u001b[1;32mINFO: Successfully processed and saved song: new blood (reimagined)\u001b[0m\n",
      "\u001b[1;32mINFO: Processing song: the end.\u001b[0m\n",
      "\u001b[1;32mINFO: Downloading song: the end.\u001b[0m\n",
      "\u001b[1;32mINFO: Successfully processed and saved song: the end.\u001b[0m\n",
      "\u001b[1;32mINFO: Processing song: wicked game (feat. tom ellis)\u001b[0m\n",
      "\u001b[1;32mINFO: Downloading song: wicked game (feat. tom ellis)\u001b[0m\n",
      "\u001b[1;32mINFO: Successfully processed and saved song: wicked game (feat. tom ellis)\u001b[0m\n",
      "\u001b[1;32mINFO: Processing song: moved (acoustic)\u001b[0m\n",
      "\u001b[1;32mINFO: Downloading song: moved (acoustic)\u001b[0m\n",
      "                                                         \r"
     ]
    },
    {
     "name": "stderr",
     "output_type": "stream",
     "text": [
      "\u001b[1;33mWARNING: Lyrics not found for 'moved' by laces using all available providers.\u001b[0m\n"
     ]
    },
    {
     "name": "stdout",
     "output_type": "stream",
     "text": [
      "\u001b[1;32mINFO: Successfully processed and saved song: moved (acoustic)\u001b[0m\n",
      "\u001b[1;32mINFO: Processing song: chances\u001b[0m\n",
      "\u001b[1;32mINFO: Downloading song: chances\u001b[0m\n",
      "\u001b[1;32mINFO: Successfully processed and saved song: chances\u001b[0m\n",
      "\u001b[1;32mINFO: Processing song: nothing else matters\u001b[0m\n",
      "\u001b[1;32mINFO: Downloading song: nothing else matters\u001b[0m\n",
      "\u001b[1;32mINFO: Successfully processed and saved song: nothing else matters\u001b[0m\n",
      "\u001b[1;32mINFO: Processing song: dreams\u001b[0m\n",
      "\u001b[1;32mINFO: Downloading song: dreams\u001b[0m\n",
      "                                                         \r"
     ]
    },
    {
     "name": "stderr",
     "output_type": "stream",
     "text": [
      "\u001b[1;33mWARNING: Lyrics not found for 'dreams' by heyzeus using all available providers.\u001b[0m\n"
     ]
    },
    {
     "name": "stdout",
     "output_type": "stream",
     "text": [
      "\u001b[1;32mINFO: Successfully processed and saved song: dreams\u001b[0m\n",
      "\u001b[1;32mINFO: Processing song: destroyer\u001b[0m\n",
      "\u001b[1;32mINFO: Downloading song: destroyer\u001b[0m\n",
      "                                                         \r"
     ]
    },
    {
     "name": "stderr",
     "output_type": "stream",
     "text": [
      "\u001b[1;33mWARNING: Lyrics not found for 'destroyer' by of monsters and men using all available providers.\u001b[0m\n"
     ]
    },
    {
     "name": "stdout",
     "output_type": "stream",
     "text": [
      "\u001b[1;32mINFO: Successfully processed and saved song: destroyer\u001b[0m\n",
      "\u001b[1;32mINFO: Processing song: nothing's impossible\u001b[0m\n",
      "\u001b[1;32mINFO: Downloading song: nothing's impossible\u001b[0m\n",
      "\u001b[1;32mINFO: Successfully processed and saved song: nothing's impossible\u001b[0m\n",
      "\u001b[1;32mINFO: Processing song: angels\u001b[0m\n",
      "\u001b[1;32mINFO: Downloading song: angels\u001b[0m\n",
      "\u001b[1;32mINFO: Successfully processed and saved song: angels\u001b[0m\n",
      "\u001b[1;32mINFO: Processing song: when we were kids\u001b[0m\n",
      "\u001b[1;32mINFO: Downloading song: when we were kids\u001b[0m\n",
      "                                                         \r"
     ]
    },
    {
     "name": "stderr",
     "output_type": "stream",
     "text": [
      "\u001b[1;33mWARNING: Lyrics not found for 'when we were kids' by walking on cars using all available providers.\u001b[0m\n"
     ]
    },
    {
     "name": "stdout",
     "output_type": "stream",
     "text": [
      "\u001b[1;32mINFO: Successfully processed and saved song: when we were kids\u001b[0m\n",
      "\u001b[1;32mINFO: Processing song: home\u001b[0m\n",
      "\u001b[1;32mINFO: Song home already downloaded, skipping download.\u001b[0m\n",
      "\u001b[1;32mINFO: Successfully processed and saved song: home\u001b[0m\n",
      "\u001b[1;32mINFO: Processing song: when you love someone\u001b[0m\n",
      "\u001b[1;32mINFO: Downloading song: when you love someone\u001b[0m\n",
      "\u001b[1;32mINFO: Successfully processed and saved song: when you love someone\u001b[0m\n",
      "\u001b[1;32mINFO: Processing song: resolution\u001b[0m\n",
      "\u001b[1;32mINFO: Downloading song: resolution\u001b[0m\n",
      "\u001b[1;32mINFO: Successfully processed and saved song: resolution\u001b[0m\n",
      "\u001b[1;32mINFO: Processing song: only the young\u001b[0m\n",
      "\u001b[1;32mINFO: Downloading song: only the young\u001b[0m\n",
      "\u001b[1;32mINFO: Successfully processed and saved song: only the young\u001b[0m\n",
      "\u001b[1;32mINFO: Processing song: leave a light on - acoustic\u001b[0m\n",
      "\u001b[1;32mINFO: Downloading song: leave a light on - acoustic\u001b[0m\n",
      "\u001b[1;32mINFO: Successfully processed and saved song: leave a light on - acoustic\u001b[0m\n",
      "\u001b[1;32mINFO: Processing song: i won't let you go\u001b[0m\n",
      "\u001b[1;32mINFO: Downloading song: i won't let you go\u001b[0m\n",
      "\u001b[1;32mINFO: Successfully processed and saved song: i won't let you go\u001b[0m\n",
      "\u001b[1;32mINFO: Processing song: one grain of sand\u001b[0m\n",
      "\u001b[1;32mINFO: Downloading song: one grain of sand\u001b[0m\n",
      "\u001b[1;32mINFO: Successfully processed and saved song: one grain of sand\u001b[0m\n",
      "\u001b[1;32mINFO: Processing song: feel\u001b[0m\n",
      "\u001b[1;32mINFO: Downloading song: feel\u001b[0m\n",
      "\u001b[1;32mINFO: Successfully processed and saved song: feel\u001b[0m\n",
      "\u001b[1;32mINFO: Processing song: numb\u001b[0m\n",
      "\u001b[1;32mINFO: Downloading song: numb\u001b[0m\n",
      "                                                         \r"
     ]
    },
    {
     "name": "stderr",
     "output_type": "stream",
     "text": [
      "\u001b[1;33mWARNING: Lyrics not found for 'numb' by dotan using all available providers.\u001b[0m\n"
     ]
    },
    {
     "name": "stdout",
     "output_type": "stream",
     "text": [
      "\u001b[1;32mINFO: Successfully processed and saved song: numb\u001b[0m\n",
      "\u001b[1;32mINFO: Processing song: patience\u001b[0m\n",
      "\u001b[1;32mINFO: Downloading song: patience\u001b[0m\n",
      "\u001b[1;32mINFO: Successfully processed and saved song: patience\u001b[0m\n",
      "\u001b[1;32mINFO: Processing song: angels - acoustic\u001b[0m\n",
      "\u001b[1;32mINFO: Downloading song: angels - acoustic\u001b[0m\n",
      "\u001b[1;32mINFO: Successfully processed and saved song: angels - acoustic\u001b[0m\n",
      "\u001b[1;32mINFO: Processing song: you give me something\u001b[0m\n",
      "\u001b[1;32mINFO: Downloading song: you give me something\u001b[0m\n",
      "\u001b[1;32mINFO: Successfully processed and saved song: you give me something\u001b[0m\n",
      "\u001b[1;32mINFO: Processing song: i don't mind if you don't mind\u001b[0m\n",
      "\u001b[1;32mINFO: Downloading song: i don't mind if you don't mind\u001b[0m\n",
      "\u001b[1;32mINFO: Successfully processed and saved song: i don't mind if you don't mind\u001b[0m\n",
      "\u001b[1;32mINFO: Processing song: you make it real\u001b[0m\n",
      "\u001b[1;32mINFO: Downloading song: you make it real\u001b[0m\n",
      "\u001b[1;32mINFO: Successfully processed and saved song: you make it real\u001b[0m\n",
      "\u001b[1;32mINFO: Processing song: ayo technology\u001b[0m\n",
      "\u001b[1;32mINFO: Downloading song: ayo technology\u001b[0m\n",
      "\u001b[1;32mINFO: Successfully processed and saved song: ayo technology\u001b[0m\n",
      "\u001b[1;32mINFO: Processing song: clown\u001b[0m\n",
      "\u001b[1;32mINFO: Downloading song: clown\u001b[0m\n",
      "\u001b[1;32mINFO: Successfully processed and saved song: clown\u001b[0m\n",
      "\u001b[1;32mINFO: Processing song: this i promise you\u001b[0m\n",
      "\u001b[1;32mINFO: Downloading song: this i promise you\u001b[0m\n",
      "\u001b[1;32mINFO: Successfully processed and saved song: this i promise you\u001b[0m\n",
      "\u001b[1;32mINFO: Processing song: nobody needs you like i do\u001b[0m\n",
      "\u001b[1;32mINFO: Downloading song: nobody needs you like i do\u001b[0m\n",
      "\u001b[1;32mINFO: Successfully processed and saved song: nobody needs you like i do\u001b[0m\n",
      "\u001b[1;32mINFO: Processing song: lose my mind - acoustic\u001b[0m\n",
      "\u001b[1;32mINFO: Downloading song: lose my mind - acoustic\u001b[0m\n",
      "\u001b[1;32mINFO: Successfully processed and saved song: lose my mind - acoustic\u001b[0m\n",
      "\u001b[1;32mINFO: Processing song: everybody wants to rule the world - from “the hunger games: catching fire” soundtrack\u001b[0m\n",
      "\u001b[1;32mINFO: Downloading song: everybody wants to rule the world - from “the hunger games: catching fire” soundtrack\u001b[0m\n",
      "\u001b[1;32mINFO: Successfully processed and saved song: everybody wants to rule the world - from “the hunger games: catching fire” soundtrack\u001b[0m\n",
      "\u001b[1;32mINFO: Processing song: children\u001b[0m\n",
      "\u001b[1;32mINFO: Downloading song: children\u001b[0m\n",
      "\u001b[1;32mINFO: Successfully processed and saved song: children\u001b[0m\n",
      "\u001b[1;32mINFO: Processing song: scenariusz dla moich sąsiadów\u001b[0m\n",
      "\u001b[1;32mINFO: Downloading song: scenariusz dla moich sąsiadów\u001b[0m\n",
      "\u001b[1;32mINFO: Successfully processed and saved song: scenariusz dla moich sąsiadów\u001b[0m\n",
      "\u001b[1;32mINFO: Processing song: zaczynam oddychać\u001b[0m\n",
      "\u001b[1;32mINFO: Downloading song: zaczynam oddychać\u001b[0m\n",
      "                                                         \r"
     ]
    },
    {
     "name": "stderr",
     "output_type": "stream",
     "text": [
      "\u001b[1;33mWARNING: Lyrics not found for 'zaczynam oddychać' by kasjan using all available providers.\u001b[0m\n"
     ]
    },
    {
     "name": "stdout",
     "output_type": "stream",
     "text": [
      "\u001b[1;32mINFO: Successfully processed and saved song: zaczynam oddychać\u001b[0m\n",
      "\u001b[1;32mINFO: Processing song: ach nie mnie jednej\u001b[0m\n",
      "\u001b[1;32mINFO: Downloading song: ach nie mnie jednej\u001b[0m\n",
      "\u001b[1;32mINFO: Successfully processed and saved song: ach nie mnie jednej\u001b[0m\n",
      "\u001b[1;32mINFO: Processing song: someday\u001b[0m\n",
      "\u001b[1;32mINFO: Song someday already downloaded, skipping download.\u001b[0m\n",
      "\u001b[1;32mINFO: Successfully processed and saved song: someday\u001b[0m\n",
      "\u001b[1;32mINFO: Processing song: n'oublie pas\u001b[0m\n",
      "\u001b[1;32mINFO: Downloading song: n'oublie pas\u001b[0m\n",
      "\u001b[1;32mINFO: Successfully processed and saved song: n'oublie pas\u001b[0m\n",
      "\u001b[1;32mINFO: Processing song: when we're high\u001b[0m\n",
      "\u001b[1;32mINFO: Downloading song: when we're high\u001b[0m\n",
      "\u001b[1;32mINFO: Successfully processed and saved song: when we're high\u001b[0m\n",
      "\u001b[1;32mINFO: Processing song: fears\u001b[0m\n",
      "\u001b[1;32mINFO: Downloading song: fears\u001b[0m\n",
      "                                                         \r"
     ]
    },
    {
     "name": "stderr",
     "output_type": "stream",
     "text": [
      "\u001b[1;33mWARNING: Lyrics not found for 'fears' by twin wild using all available providers.\u001b[0m\n"
     ]
    },
    {
     "name": "stdout",
     "output_type": "stream",
     "text": [
      "\u001b[1;32mINFO: Successfully processed and saved song: fears\u001b[0m\n",
      "\u001b[1;32mINFO: Processing song: i lost a friend\u001b[0m\n",
      "\u001b[1;32mINFO: Downloading song: i lost a friend\u001b[0m\n",
      "\u001b[1;32mINFO: Successfully processed and saved song: i lost a friend\u001b[0m\n",
      "\u001b[1;32mINFO: Processing song: deep the water\u001b[0m\n",
      "\u001b[1;32mINFO: Downloading song: deep the water\u001b[0m\n",
      "\u001b[1;32mINFO: Successfully processed and saved song: deep the water\u001b[0m\n",
      "\u001b[1;32mINFO: Processing song: the funeral\u001b[0m\n",
      "\u001b[1;32mINFO: Downloading song: the funeral\u001b[0m\n",
      "\u001b[1;32mINFO: Successfully processed and saved song: the funeral\u001b[0m\n",
      "\u001b[1;32mINFO: Processing song: sincere\u001b[0m\n",
      "\u001b[1;32mINFO: Downloading song: sincere\u001b[0m\n",
      "                                                         \r"
     ]
    },
    {
     "name": "stderr",
     "output_type": "stream",
     "text": [
      "\u001b[1;33mWARNING: Lyrics not found for 'sincere' by apollo rising using all available providers.\u001b[0m\n"
     ]
    },
    {
     "name": "stdout",
     "output_type": "stream",
     "text": [
      "\u001b[1;32mINFO: Successfully processed and saved song: sincere\u001b[0m\n",
      "\u001b[1;32mINFO: Processing song: hell or high water - from days gone\u001b[0m\n",
      "\u001b[1;32mINFO: Downloading song: hell or high water - from days gone\u001b[0m\n",
      "\u001b[1;32mINFO: Successfully processed and saved song: hell or high water - from days gone\u001b[0m\n",
      "\u001b[1;32mINFO: Processing song: we are young (feat. janelle monáe)\u001b[0m\n",
      "\u001b[1;32mINFO: Downloading song: we are young (feat. janelle monáe)\u001b[0m\n",
      "\u001b[1;32mINFO: Successfully processed and saved song: we are young (feat. janelle monáe)\u001b[0m\n",
      "\u001b[1;32mINFO: Processing song: before you go\u001b[0m\n",
      "\u001b[1;32mINFO: Downloading song: before you go\u001b[0m\n",
      "\u001b[1;32mINFO: Successfully processed and saved song: before you go\u001b[0m\n",
      "\u001b[1;32mINFO: Processing song: children of the sun\u001b[0m\n",
      "\u001b[1;32mINFO: Downloading song: children of the sun\u001b[0m\n",
      "\u001b[1;32mINFO: Successfully processed and saved song: children of the sun\u001b[0m\n",
      "\u001b[1;32mINFO: Processing song: sultans of swing\u001b[0m\n",
      "\u001b[1;32mINFO: Downloading song: sultans of swing\u001b[0m\n",
      "\u001b[1;32mINFO: Successfully processed and saved song: sultans of swing\u001b[0m\n",
      "\u001b[1;32mINFO: Processing song: flying\u001b[0m\n",
      "\u001b[1;32mINFO: Downloading song: flying\u001b[0m\n",
      "\u001b[1;32mINFO: Successfully processed and saved song: flying\u001b[0m\n",
      "\u001b[1;32mINFO: Processing song: if i be wrong\u001b[0m\n",
      "\u001b[1;32mINFO: Downloading song: if i be wrong\u001b[0m\n",
      "\u001b[1;32mINFO: Successfully processed and saved song: if i be wrong\u001b[0m\n",
      "\u001b[1;32mINFO: Processing song: here without you\u001b[0m\n",
      "\u001b[1;32mINFO: Downloading song: here without you\u001b[0m\n",
      "\u001b[1;32mINFO: Successfully processed and saved song: here without you\u001b[0m\n",
      "\u001b[1;32mINFO: Processing song: still feel.\u001b[0m\n",
      "\u001b[1;32mINFO: Downloading song: still feel.\u001b[0m\n",
      "\u001b[1;32mINFO: Successfully processed and saved song: still feel.\u001b[0m\n",
      "\u001b[1;32mINFO: Processing song: better together\u001b[0m\n",
      "\u001b[1;32mINFO: Downloading song: better together\u001b[0m\n",
      "\u001b[1;32mINFO: Successfully processed and saved song: better together\u001b[0m\n",
      "\u001b[1;32mINFO: Processing song: nightcall\u001b[0m\n",
      "\u001b[1;32mINFO: Downloading song: nightcall\u001b[0m\n",
      "\u001b[1;32mINFO: Successfully processed and saved song: nightcall\u001b[0m\n",
      "\u001b[1;32mINFO: Processing song: drop the game\u001b[0m\n",
      "\u001b[1;32mINFO: Downloading song: drop the game\u001b[0m\n",
      "\u001b[1;32mINFO: Successfully processed and saved song: drop the game\u001b[0m\n",
      "\u001b[1;32mINFO: Processing song: romeo and juliet\u001b[0m\n",
      "\u001b[1;32mINFO: Downloading song: romeo and juliet\u001b[0m\n",
      "\u001b[1;32mINFO: Successfully processed and saved song: romeo and juliet\u001b[0m\n",
      "\u001b[1;32mINFO: Processing song: save your tears\u001b[0m\n",
      "\u001b[1;32mINFO: Downloading song: save your tears\u001b[0m\n",
      "\u001b[1;32mINFO: Successfully processed and saved song: save your tears\u001b[0m\n",
      "\u001b[1;32mINFO: Processing song: hurt\u001b[0m\n",
      "\u001b[1;32mINFO: Downloading song: hurt\u001b[0m\n",
      "\u001b[1;32mINFO: Successfully processed and saved song: hurt\u001b[0m\n",
      "\u001b[1;32mINFO: Processing song: lifeline\u001b[0m\n",
      "\u001b[1;32mINFO: Downloading song: lifeline\u001b[0m\n",
      "                                                         \r"
     ]
    },
    {
     "name": "stderr",
     "output_type": "stream",
     "text": [
      "\u001b[1;33mWARNING: Lyrics not found for 'lifeline' by tómas welding using all available providers.\u001b[0m\n"
     ]
    },
    {
     "name": "stdout",
     "output_type": "stream",
     "text": [
      "\u001b[1;32mINFO: Successfully processed and saved song: lifeline\u001b[0m\n",
      "\u001b[1;32mINFO: Processing song: be mine - acoustic version\u001b[0m\n",
      "\u001b[1;32mINFO: Downloading song: be mine - acoustic version\u001b[0m\n",
      "\u001b[1;32mINFO: Successfully processed and saved song: be mine - acoustic version\u001b[0m\n",
      "\u001b[1;32mINFO: Processing song: regarde-moi\u001b[0m\n",
      "\u001b[1;32mINFO: Downloading song: regarde-moi\u001b[0m\n",
      "\u001b[1;32mINFO: Successfully processed and saved song: regarde-moi\u001b[0m\n",
      "\u001b[1;32mINFO: Processing song: brennende liebe (feat. l'âme immortelle)\u001b[0m\n",
      "\u001b[1;32mINFO: Downloading song: brennende liebe (feat. l'âme immortelle)\u001b[0m\n",
      "\u001b[1;32mINFO: Successfully processed and saved song: brennende liebe (feat. l'âme immortelle)\u001b[0m\n",
      "\u001b[1;32mINFO: Processing song: dom\u001b[0m\n",
      "\u001b[1;32mINFO: Downloading song: dom\u001b[0m\n",
      "                                                         \r"
     ]
    },
    {
     "name": "stderr",
     "output_type": "stream",
     "text": [
      "\u001b[1;33mWARNING: Lyrics not found for 'dom' by bitamina using all available providers.\u001b[0m\n"
     ]
    },
    {
     "name": "stdout",
     "output_type": "stream",
     "text": [
      "\u001b[1;32mINFO: Successfully processed and saved song: dom\u001b[0m\n",
      "\u001b[1;32mINFO: Processing song: kocham być z tobą\u001b[0m\n",
      "\u001b[1;32mINFO: Downloading song: kocham być z tobą\u001b[0m\n",
      "\u001b[1;32mINFO: Successfully processed and saved song: kocham być z tobą\u001b[0m\n",
      "\u001b[1;32mINFO: Processing song: safari\u001b[0m\n",
      "\u001b[1;32mINFO: Downloading song: safari\u001b[0m\n",
      "                                                         \r"
     ]
    },
    {
     "name": "stderr",
     "output_type": "stream",
     "text": [
      "\u001b[1;33mWARNING: Lyrics not found for 'safari' by piotr zioła using all available providers.\u001b[0m\n"
     ]
    },
    {
     "name": "stdout",
     "output_type": "stream",
     "text": [
      "\u001b[1;32mINFO: Successfully processed and saved song: safari\u001b[0m\n",
      "\u001b[1;32mINFO: Processing song: hallelujah\u001b[0m\n",
      "\u001b[1;32mINFO: Song hallelujah already downloaded, skipping download.\u001b[0m\n"
     ]
    },
    {
     "name": "stderr",
     "output_type": "stream",
     "text": [
      "\u001b[1;33mWARNING: Lyrics not found for 'hallelujah' by thedooo using all available providers.\u001b[0m\n"
     ]
    },
    {
     "name": "stdout",
     "output_type": "stream",
     "text": [
      "\u001b[1;32mINFO: Successfully processed and saved song: hallelujah\u001b[0m\n",
      "\u001b[1;32mINFO: Processing song: malade\u001b[0m\n",
      "\u001b[1;32mINFO: Downloading song: malade\u001b[0m\n",
      "                                                         \r"
     ]
    },
    {
     "name": "stderr",
     "output_type": "stream",
     "text": [
      "\u001b[1;33mWARNING: Lyrics not found for 'malade' by alice on the roof using all available providers.\u001b[0m\n"
     ]
    },
    {
     "name": "stdout",
     "output_type": "stream",
     "text": [
      "\u001b[1;32mINFO: Successfully processed and saved song: malade\u001b[0m\n",
      "\u001b[1;32mINFO: Processing song: run for cover\u001b[0m\n",
      "\u001b[1;32mINFO: Song run for cover already downloaded, skipping download.\u001b[0m\n",
      "\u001b[1;32mINFO: Successfully processed and saved song: run for cover\u001b[0m\n",
      "\u001b[1;32mINFO: Processing song: sirens call\u001b[0m\n",
      "\u001b[1;32mINFO: Downloading song: sirens call\u001b[0m\n",
      "\u001b[1;32mINFO: Successfully processed and saved song: sirens call\u001b[0m\n",
      "\u001b[1;32mINFO: Processing song: mon âme sera vraiment belle pour toi\u001b[0m\n",
      "\u001b[1;32mINFO: Downloading song: mon âme sera vraiment belle pour toi\u001b[0m\n",
      "                                                         \r"
     ]
    },
    {
     "name": "stderr",
     "output_type": "stream",
     "text": [
      "\u001b[1;33mWARNING: Lyrics not found for 'mon âme sera vraiment belle pour toi' by terrenoire using all available providers.\u001b[0m\n"
     ]
    },
    {
     "name": "stdout",
     "output_type": "stream",
     "text": [
      "\u001b[1;32mINFO: Successfully processed and saved song: mon âme sera vraiment belle pour toi\u001b[0m\n",
      "\u001b[1;32mINFO: Processing song: alors regarde\u001b[0m\n",
      "\u001b[1;32mINFO: Downloading song: alors regarde\u001b[0m\n",
      "\u001b[1;32mINFO: Successfully processed and saved song: alors regarde\u001b[0m\n",
      "\u001b[1;32mINFO: Processing song: amour d'été\u001b[0m\n",
      "\u001b[1;32mINFO: Downloading song: amour d'été\u001b[0m\n",
      "\u001b[1;32mINFO: Successfully processed and saved song: amour d'été\u001b[0m\n",
      "\u001b[1;32mINFO: Processing song: le paradis blanc - remasterisé en 2002\u001b[0m\n",
      "\u001b[1;32mINFO: Downloading song: le paradis blanc - remasterisé en 2002\u001b[0m\n",
      "\u001b[1;32mINFO: Successfully processed and saved song: le paradis blanc - remasterisé en 2002\u001b[0m\n",
      "\u001b[1;32mINFO: Processing song: rendez-vous (feat. camélia jordana) - full english version\u001b[0m\n",
      "\u001b[1;32mINFO: Downloading song: rendez-vous (feat. camélia jordana) - full english version\u001b[0m\n",
      "                                                         \r"
     ]
    },
    {
     "name": "stderr",
     "output_type": "stream",
     "text": [
      "\u001b[1;33mWARNING: Lyrics not found for 'rendez' by charlie winston using all available providers.\u001b[0m\n"
     ]
    },
    {
     "name": "stdout",
     "output_type": "stream",
     "text": [
      "\u001b[1;32mINFO: Successfully processed and saved song: rendez-vous (feat. camélia jordana) - full english version\u001b[0m\n",
      "\u001b[1;32mINFO: Processing song: la la la\u001b[0m\n",
      "\u001b[1;32mINFO: Downloading song: la la la\u001b[0m\n",
      "\u001b[1;32mINFO: Successfully processed and saved song: la la la\u001b[0m\n",
      "\u001b[1;32mINFO: Processing song: religion\u001b[0m\n",
      "\u001b[1;32mINFO: Downloading song: religion\u001b[0m\n",
      "                                                         \r"
     ]
    },
    {
     "name": "stderr",
     "output_type": "stream",
     "text": [
      "\u001b[1;33mWARNING: Lyrics not found for 'religion' by isak danielson using all available providers.\u001b[0m\n"
     ]
    },
    {
     "name": "stdout",
     "output_type": "stream",
     "text": [
      "\u001b[1;32mINFO: Successfully processed and saved song: religion\u001b[0m\n",
      "\u001b[1;32mINFO: Processing song: breathe\u001b[0m\n",
      "\u001b[1;32mINFO: Downloading song: breathe\u001b[0m\n",
      "                                                         \r"
     ]
    },
    {
     "name": "stderr",
     "output_type": "stream",
     "text": [
      "\u001b[1;33mWARNING: Lyrics not found for 'breathe' by olly alexander (years & years) using all available providers.\u001b[0m\n"
     ]
    },
    {
     "name": "stdout",
     "output_type": "stream",
     "text": [
      "\u001b[1;32mINFO: Successfully processed and saved song: breathe\u001b[0m\n",
      "\u001b[1;32mINFO: Processing song: just doesn't feel right\u001b[0m\n",
      "\u001b[1;32mINFO: Downloading song: just doesn't feel right\u001b[0m\n",
      "\u001b[1;32mINFO: Successfully processed and saved song: just doesn't feel right\u001b[0m\n",
      "\u001b[1;32mINFO: Processing song: myself n the sea\u001b[0m\n",
      "\u001b[1;32mINFO: Downloading song: myself n the sea\u001b[0m\n",
      "\u001b[1;32mINFO: Successfully processed and saved song: myself n the sea\u001b[0m\n",
      "\u001b[1;32mINFO: Processing song: runaway\u001b[0m\n",
      "\u001b[1;32mINFO: Downloading song: runaway\u001b[0m\n",
      "\u001b[1;32mINFO: Successfully processed and saved song: runaway\u001b[0m\n",
      "\u001b[1;32mINFO: Processing song: call you out\u001b[0m\n",
      "\u001b[1;32mINFO: Downloading song: call you out\u001b[0m\n",
      "\u001b[1;32mINFO: Successfully processed and saved song: call you out\u001b[0m\n",
      "\u001b[1;32mINFO: Processing song: it's ok\u001b[0m\n",
      "\u001b[1;32mINFO: Downloading song: it's ok\u001b[0m\n",
      "\u001b[1;32mINFO: Successfully processed and saved song: it's ok\u001b[0m\n",
      "\u001b[1;32mINFO: Processing song: we belong\u001b[0m\n",
      "\u001b[1;32mINFO: Downloading song: we belong\u001b[0m\n",
      "\u001b[1;32mINFO: Successfully processed and saved song: we belong\u001b[0m\n",
      "\u001b[1;32mINFO: Processing song: 2k20\u001b[0m\n",
      "\u001b[1;32mINFO: Downloading song: 2k20\u001b[0m\n",
      "                                                         \r"
     ]
    },
    {
     "name": "stderr",
     "output_type": "stream",
     "text": [
      "\u001b[1;33mWARNING: Lyrics not found for '2k20' by draco using all available providers.\u001b[0m\n"
     ]
    },
    {
     "name": "stdout",
     "output_type": "stream",
     "text": [
      "\u001b[1;32mINFO: Successfully processed and saved song: 2k20\u001b[0m\n",
      "\u001b[1;32mINFO: Processing song: fix you\u001b[0m\n",
      "\u001b[1;32mINFO: Downloading song: fix you\u001b[0m\n",
      "                                                         \r"
     ]
    },
    {
     "name": "stderr",
     "output_type": "stream",
     "text": [
      "\u001b[1;33mWARNING: Lyrics not found for 'fix you' by fearless soul using all available providers.\u001b[0m\n"
     ]
    },
    {
     "name": "stdout",
     "output_type": "stream",
     "text": [
      "\u001b[1;32mINFO: Successfully processed and saved song: fix you\u001b[0m\n",
      "\u001b[1;32mINFO: Processing song: chanson sur ma drôle de vie\u001b[0m\n",
      "\u001b[1;32mINFO: Downloading song: chanson sur ma drôle de vie\u001b[0m\n",
      "\u001b[1;32mINFO: Successfully processed and saved song: chanson sur ma drôle de vie\u001b[0m\n",
      "\u001b[1;32mINFO: Processing song: you're somebody else\u001b[0m\n",
      "\u001b[1;32mINFO: Downloading song: you're somebody else\u001b[0m\n",
      "\u001b[1;32mINFO: Successfully processed and saved song: you're somebody else\u001b[0m\n",
      "\u001b[1;32mINFO: Processing song: empire\u001b[0m\n",
      "\u001b[1;32mINFO: Downloading song: empire\u001b[0m\n",
      "\u001b[1;32mINFO: Successfully processed and saved song: empire\u001b[0m\n",
      "\u001b[1;32mINFO: Processing song: beau malheur\u001b[0m\n",
      "\u001b[1;32mINFO: Downloading song: beau malheur\u001b[0m\n",
      "\u001b[1;32mINFO: Successfully processed and saved song: beau malheur\u001b[0m\n",
      "\u001b[1;32mINFO: Processing song: paris-seychelles\u001b[0m\n",
      "\u001b[1;32mINFO: Downloading song: paris-seychelles\u001b[0m\n",
      "                                                           \r"
     ]
    },
    {
     "name": "stderr",
     "output_type": "stream",
     "text": [
      "\u001b[1;33mWARNING: Lyrics not found for 'paris' by julien doré using all available providers.\u001b[0m\n"
     ]
    },
    {
     "name": "stdout",
     "output_type": "stream",
     "text": [
      "\u001b[1;32mINFO: Successfully processed and saved song: paris-seychelles\u001b[0m\n",
      "\u001b[1;32mINFO: Processing song: coco câline\u001b[0m\n",
      "\u001b[1;32mINFO: Downloading song: coco câline\u001b[0m\n",
      "\u001b[1;32mINFO: Successfully processed and saved song: coco câline\u001b[0m\n",
      "\u001b[1;32mINFO: Processing song: je ne te quitte pas\u001b[0m\n",
      "\u001b[1;32mINFO: Downloading song: je ne te quitte pas\u001b[0m\n",
      "\u001b[1;32mINFO: Successfully processed and saved song: je ne te quitte pas\u001b[0m\n",
      "\u001b[1;32mINFO: Processing song: les choses simples\u001b[0m\n",
      "\u001b[1;32mINFO: Downloading song: les choses simples\u001b[0m\n",
      "\u001b[1;32mINFO: Successfully processed and saved song: les choses simples\u001b[0m\n",
      "\u001b[1;32mINFO: Processing song: siebie zapytasz\u001b[0m\n",
      "\u001b[1;32mINFO: Downloading song: siebie zapytasz\u001b[0m\n",
      "\u001b[1;32mINFO: Successfully processed and saved song: siebie zapytasz\u001b[0m\n",
      "\u001b[1;32mINFO: Processing song: słucham cię w radiu co tydzień\u001b[0m\n",
      "\u001b[1;32mINFO: Downloading song: słucham cię w radiu co tydzień\u001b[0m\n",
      "                                                         \r"
     ]
    },
    {
     "name": "stderr",
     "output_type": "stream",
     "text": [
      "\u001b[1;33mWARNING: Lyrics not found for 'słucham cię w radiu co tydzień' by ania karwan using all available providers.\u001b[0m\n"
     ]
    },
    {
     "name": "stdout",
     "output_type": "stream",
     "text": [
      "\u001b[1;32mINFO: Successfully processed and saved song: słucham cię w radiu co tydzień\u001b[0m\n",
      "\u001b[1;32mINFO: Processing song: hej wy\u001b[0m\n",
      "\u001b[1;32mINFO: Downloading song: hej wy\u001b[0m\n",
      "\u001b[1;32mINFO: Successfully processed and saved song: hej wy\u001b[0m\n",
      "\u001b[1;32mINFO: Processing song: czarny świt\u001b[0m\n",
      "\u001b[1;32mINFO: Downloading song: czarny świt\u001b[0m\n",
      "\u001b[1;32mINFO: Successfully processed and saved song: czarny świt\u001b[0m\n",
      "\u001b[1;32mINFO: Processing song: kiedy tylko spojrzę (feat. sound'n'grace)\u001b[0m\n",
      "\u001b[1;32mINFO: Downloading song: kiedy tylko spojrzę (feat. sound'n'grace)\u001b[0m\n",
      "\u001b[1;32mINFO: Successfully processed and saved song: kiedy tylko spojrzę (feat. sound'n'grace)\u001b[0m\n",
      "\u001b[1;32mINFO: Processing song: księżniczka\u001b[0m\n",
      "\u001b[1;32mINFO: Downloading song: księżniczka\u001b[0m\n",
      "\u001b[1;32mINFO: Successfully processed and saved song: księżniczka\u001b[0m\n",
      "\u001b[1;32mINFO: Processing song: w płomieniach\u001b[0m\n",
      "\u001b[1;32mINFO: Downloading song: w płomieniach\u001b[0m\n",
      "                                                         \r"
     ]
    },
    {
     "name": "stderr",
     "output_type": "stream",
     "text": [
      "\u001b[1;33mWARNING: Lyrics not found for 'w płomieniach' by mateusz ziółko using all available providers.\u001b[0m\n"
     ]
    },
    {
     "name": "stdout",
     "output_type": "stream",
     "text": [
      "\u001b[1;32mINFO: Successfully processed and saved song: w płomieniach\u001b[0m\n",
      "\u001b[1;32mINFO: Processing song: 100 feat. sound'n'grace\u001b[0m\n",
      "\u001b[1;32mINFO: Downloading song: 100 feat. sound'n'grace\u001b[0m\n",
      "                                                         \r"
     ]
    },
    {
     "name": "stderr",
     "output_type": "stream",
     "text": [
      "\u001b[1;33mWARNING: Lyrics not found for '100' by filip lato using all available providers.\u001b[0m\n"
     ]
    },
    {
     "name": "stdout",
     "output_type": "stream",
     "text": [
      "\u001b[1;32mINFO: Successfully processed and saved song: 100 feat. sound'n'grace\u001b[0m\n",
      "\u001b[1;32mINFO: Processing song: miasto (feat. piotr cugowski)\u001b[0m\n",
      "\u001b[1;32mINFO: Downloading song: miasto (feat. piotr cugowski)\u001b[0m\n",
      "                                                         \r"
     ]
    },
    {
     "name": "stderr",
     "output_type": "stream",
     "text": [
      "\u001b[1;33mWARNING: Lyrics not found for 'miasto' by ania iwanek using all available providers.\u001b[0m\n"
     ]
    },
    {
     "name": "stdout",
     "output_type": "stream",
     "text": [
      "\u001b[1;32mINFO: Successfully processed and saved song: miasto (feat. piotr cugowski)\u001b[0m\n",
      "\u001b[1;32mINFO: Processing song: trofea\u001b[0m\n",
      "\u001b[1;32mINFO: Downloading song: trofea\u001b[0m\n",
      "\u001b[1;32mINFO: Successfully processed and saved song: trofea\u001b[0m\n",
      "\u001b[1;32mINFO: Processing song: naucz mnie\u001b[0m\n",
      "\u001b[1;32mINFO: Downloading song: naucz mnie\u001b[0m\n",
      "\u001b[1;32mINFO: Successfully processed and saved song: naucz mnie\u001b[0m\n",
      "\u001b[1;32mINFO: Processing song: seul sur ton tandem\u001b[0m\n",
      "\u001b[1;32mINFO: Downloading song: seul sur ton tandem\u001b[0m\n",
      "\u001b[1;32mINFO: Successfully processed and saved song: seul sur ton tandem\u001b[0m\n",
      "\u001b[1;32mINFO: Processing song: mai\u001b[0m\n",
      "\u001b[1;32mINFO: Downloading song: mai\u001b[0m\n",
      "                                                         \r"
     ]
    },
    {
     "name": "stderr",
     "output_type": "stream",
     "text": [
      "\u001b[1;33mWARNING: Lyrics not found for 'mai' by videoclub using all available providers.\u001b[0m\n"
     ]
    },
    {
     "name": "stdout",
     "output_type": "stream",
     "text": [
      "\u001b[1;32mINFO: Successfully processed and saved song: mai\u001b[0m\n",
      "\u001b[1;32mINFO: Processing song: temps de partir\u001b[0m\n",
      "\u001b[1;32mINFO: Downloading song: temps de partir\u001b[0m\n",
      "                                                           \r"
     ]
    },
    {
     "name": "stderr",
     "output_type": "stream",
     "text": [
      "\u001b[1;33mWARNING: Lyrics not found for 'temps de partir' by symon using all available providers.\u001b[0m\n"
     ]
    },
    {
     "name": "stdout",
     "output_type": "stream",
     "text": [
      "\u001b[1;32mINFO: Successfully processed and saved song: temps de partir\u001b[0m\n",
      "\u001b[1;32mINFO: Processing song: naïve\u001b[0m\n",
      "\u001b[1;32mINFO: Downloading song: naïve\u001b[0m\n",
      "                                                         \r"
     ]
    },
    {
     "name": "stderr",
     "output_type": "stream",
     "text": [
      "\u001b[1;33mWARNING: Lyrics not found for 'naïve' by therapie taxi using all available providers.\u001b[0m\n"
     ]
    },
    {
     "name": "stdout",
     "output_type": "stream",
     "text": [
      "\u001b[1;32mINFO: Successfully processed and saved song: naïve\u001b[0m\n",
      "\u001b[1;32mINFO: Processing song: tous les deux\u001b[0m\n",
      "\u001b[1;32mINFO: Downloading song: tous les deux\u001b[0m\n",
      "\u001b[1;32mINFO: Successfully processed and saved song: tous les deux\u001b[0m\n",
      "\u001b[1;32mINFO: Processing song: danse endiablée\u001b[0m\n",
      "\u001b[1;32mINFO: Downloading song: danse endiablée\u001b[0m\n",
      "\u001b[1;32mINFO: Successfully processed and saved song: danse endiablée\u001b[0m\n",
      "\u001b[1;32mINFO: Processing song: en équilibre\u001b[0m\n",
      "\u001b[1;32mINFO: Downloading song: en équilibre\u001b[0m\n",
      "                                                         \r"
     ]
    },
    {
     "name": "stderr",
     "output_type": "stream",
     "text": [
      "\u001b[1;33mWARNING: Lyrics not found for 'en équilibre' by laura crowe & him using all available providers.\u001b[0m\n"
     ]
    },
    {
     "name": "stdout",
     "output_type": "stream",
     "text": [
      "\u001b[1;32mINFO: Successfully processed and saved song: en équilibre\u001b[0m\n",
      "\u001b[1;32mINFO: Processing song: le coup de soleil - radio remix\u001b[0m\n",
      "\u001b[1;32mINFO: Downloading song: le coup de soleil - radio remix\u001b[0m\n",
      "                                                         \r"
     ]
    },
    {
     "name": "stderr",
     "output_type": "stream",
     "text": [
      "\u001b[1;33mWARNING: Lyrics not found for 'le coup de soleil' by thomas using all available providers.\u001b[0m\n"
     ]
    },
    {
     "name": "stdout",
     "output_type": "stream",
     "text": [
      "\u001b[1;32mINFO: Successfully processed and saved song: le coup de soleil - radio remix\u001b[0m\n",
      "\u001b[1;32mINFO: Processing song: jouer le jeu\u001b[0m\n",
      "\u001b[1;32mINFO: Downloading song: jouer le jeu\u001b[0m\n",
      "\u001b[1;32mINFO: Successfully processed and saved song: jouer le jeu\u001b[0m\n",
      "\u001b[1;32mINFO: Processing song: toi mon amour\u001b[0m\n",
      "\u001b[1;32mINFO: Downloading song: toi mon amour\u001b[0m\n",
      "\u001b[1;32mINFO: Successfully processed and saved song: toi mon amour\u001b[0m\n",
      "\u001b[1;32mINFO: Processing song: thunderclouds (feat. sia, diplo, and labrinth)\u001b[0m\n",
      "\u001b[1;32mINFO: Downloading song: thunderclouds (feat. sia, diplo, and labrinth)\u001b[0m\n",
      "                                                         \r"
     ]
    },
    {
     "name": "stderr",
     "output_type": "stream",
     "text": [
      "\u001b[1;33mWARNING: Lyrics not found for 'thunderclouds' by sia using all available providers.\u001b[0m\n"
     ]
    },
    {
     "name": "stdout",
     "output_type": "stream",
     "text": [
      "\u001b[1;32mINFO: Successfully processed and saved song: thunderclouds (feat. sia, diplo, and labrinth)\u001b[0m\n",
      "\u001b[1;32mINFO: Processing song: mistral gagnant\u001b[0m\n",
      "\u001b[1;32mINFO: Downloading song: mistral gagnant\u001b[0m\n",
      "\u001b[1;32mINFO: Successfully processed and saved song: mistral gagnant\u001b[0m\n",
      "\u001b[1;32mINFO: Processing song: place de la république\u001b[0m\n",
      "\u001b[1;32mINFO: Downloading song: place de la république\u001b[0m\n",
      "\u001b[1;32mINFO: Successfully processed and saved song: place de la république\u001b[0m\n",
      "\u001b[1;32mINFO: Processing song: oublie-moi - carry on\u001b[0m\n",
      "\u001b[1;32mINFO: Downloading song: oublie-moi - carry on\u001b[0m\n",
      "                                                         \r"
     ]
    },
    {
     "name": "stderr",
     "output_type": "stream",
     "text": [
      "\u001b[1;33mWARNING: Lyrics not found for 'oublie' by cœur de pirate using all available providers.\u001b[0m\n"
     ]
    },
    {
     "name": "stdout",
     "output_type": "stream",
     "text": [
      "\u001b[1;32mINFO: Successfully processed and saved song: oublie-moi - carry on\u001b[0m\n",
      "\u001b[1;32mINFO: Processing song: pourquoi on s’aime\u001b[0m\n",
      "\u001b[1;32mINFO: Downloading song: pourquoi on s’aime\u001b[0m\n",
      "\u001b[1;32mINFO: Successfully processed and saved song: pourquoi on s’aime\u001b[0m\n",
      "\u001b[1;32mINFO: Processing song: lento\u001b[0m\n",
      "\u001b[1;32mINFO: Downloading song: lento\u001b[0m\n",
      "\u001b[1;32mINFO: Successfully processed and saved song: lento\u001b[0m\n",
      "\u001b[1;32mINFO: Processing song: de cero\u001b[0m\n",
      "\u001b[1;32mINFO: Downloading song: de cero\u001b[0m\n",
      "\u001b[1;32mINFO: Successfully processed and saved song: de cero\u001b[0m\n",
      "\u001b[1;32mINFO: Processing song: autodestructivo\u001b[0m\n",
      "\u001b[1;32mINFO: Downloading song: autodestructivo\u001b[0m\n",
      "\u001b[1;32mINFO: Successfully processed and saved song: autodestructivo\u001b[0m\n",
      "\u001b[1;32mINFO: Processing song: our corner of the universe\u001b[0m\n",
      "\u001b[1;32mINFO: Downloading song: our corner of the universe\u001b[0m\n",
      "\u001b[1;32mINFO: Successfully processed and saved song: our corner of the universe\u001b[0m\n",
      "\u001b[1;32mINFO: Processing song: dlugość dźwięku samotności\u001b[0m\n",
      "\u001b[1;32mINFO: Downloading song: dlugość dźwięku samotności\u001b[0m\n",
      "\u001b[1;32mINFO: Successfully processed and saved song: dlugość dźwięku samotności\u001b[0m\n",
      "\u001b[1;32mINFO: Processing song: à nous\u001b[0m\n",
      "\u001b[1;32mINFO: Downloading song: à nous\u001b[0m\n",
      "                                                         \r"
     ]
    },
    {
     "name": "stderr",
     "output_type": "stream",
     "text": [
      "\u001b[1;33mWARNING: Lyrics not found for 'à nous' by noé preszow using all available providers.\u001b[0m\n"
     ]
    },
    {
     "name": "stdout",
     "output_type": "stream",
     "text": [
      "\u001b[1;32mINFO: Successfully processed and saved song: à nous\u001b[0m\n",
      "\u001b[1;32mINFO: Processing song: les couleurs du village\u001b[0m\n",
      "\u001b[1;32mINFO: Downloading song: les couleurs du village\u001b[0m\n",
      "                                                         \r"
     ]
    },
    {
     "name": "stderr",
     "output_type": "stream",
     "text": [
      "\u001b[1;33mWARNING: Lyrics not found for 'les couleurs du village' by toan using all available providers.\u001b[0m\n"
     ]
    },
    {
     "name": "stdout",
     "output_type": "stream",
     "text": [
      "\u001b[1;32mINFO: Successfully processed and saved song: les couleurs du village\u001b[0m\n",
      "\u001b[1;32mINFO: Processing song: sultans of swing (acoustic)\u001b[0m\n",
      "\u001b[1;32mINFO: Downloading song: sultans of swing (acoustic)\u001b[0m\n",
      "                                                         \r"
     ]
    },
    {
     "name": "stderr",
     "output_type": "stream",
     "text": [
      "\u001b[1;33mWARNING: Lyrics not found for 'sultans of swing' by kfir ochaion using all available providers.\u001b[0m\n"
     ]
    },
    {
     "name": "stdout",
     "output_type": "stream",
     "text": [
      "\u001b[1;32mINFO: Successfully processed and saved song: sultans of swing (acoustic)\u001b[0m\n",
      "\u001b[1;32mINFO: Processing song: don't cry\u001b[0m\n",
      "\u001b[1;32mINFO: Downloading song: don't cry\u001b[0m\n",
      "                                                           \r"
     ]
    },
    {
     "name": "stderr",
     "output_type": "stream",
     "text": [
      "\u001b[1;33mWARNING: Lyrics not found for 'don't cry' by kfir ochaion using all available providers.\u001b[0m\n"
     ]
    },
    {
     "name": "stdout",
     "output_type": "stream",
     "text": [
      "\u001b[1;32mINFO: Successfully processed and saved song: don't cry\u001b[0m\n",
      "\u001b[1;32mINFO: Processing song: wicked game\u001b[0m\n",
      "\u001b[1;32mINFO: Downloading song: wicked game\u001b[0m\n",
      "\u001b[1;32mINFO: Successfully processed and saved song: wicked game\u001b[0m\n",
      "\u001b[1;32mINFO: Processing song: no hay más que hablar\u001b[0m\n",
      "\u001b[1;32mINFO: Downloading song: no hay más que hablar\u001b[0m\n",
      "\u001b[1;32mINFO: Successfully processed and saved song: no hay más que hablar\u001b[0m\n",
      "\u001b[1;32mINFO: Processing song: missing piece\u001b[0m\n",
      "\u001b[1;32mINFO: Downloading song: missing piece\u001b[0m\n",
      "                                                         \r"
     ]
    },
    {
     "name": "stderr",
     "output_type": "stream",
     "text": [
      "\u001b[1;33mWARNING: Lyrics not found for 'missing piece' by aloe blacc using all available providers.\u001b[0m\n"
     ]
    },
    {
     "name": "stdout",
     "output_type": "stream",
     "text": [
      "\u001b[1;32mINFO: Successfully processed and saved song: missing piece\u001b[0m\n",
      "\u001b[1;32mINFO: Processing song: life's a mess ii (with clever & post malone)\u001b[0m\n",
      "\u001b[1;32mINFO: Downloading song: life's a mess ii (with clever & post malone)\u001b[0m\n",
      "\u001b[1;32mINFO: Successfully processed and saved song: life's a mess ii (with clever & post malone)\u001b[0m\n",
      "\u001b[1;32mINFO: Processing song: one last time\u001b[0m\n",
      "\u001b[1;32mINFO: Downloading song: one last time\u001b[0m\n",
      "\u001b[1;32mINFO: Successfully processed and saved song: one last time\u001b[0m\n",
      "\u001b[1;32mINFO: Processing song: all you ever wanted (sub focus remix)\u001b[0m\n",
      "\u001b[1;32mINFO: Downloading song: all you ever wanted (sub focus remix)\u001b[0m\n",
      "                                                         \r"
     ]
    },
    {
     "name": "stderr",
     "output_type": "stream",
     "text": [
      "\u001b[1;33mWARNING: Lyrics not found for 'all you ever wanted' by rag'n'bone man using all available providers.\u001b[0m\n"
     ]
    },
    {
     "name": "stdout",
     "output_type": "stream",
     "text": [
      "\u001b[1;32mINFO: Successfully processed and saved song: all you ever wanted (sub focus remix)\u001b[0m\n",
      "\u001b[1;32mINFO: Processing song: city of stars - from \"la la land\" soundtrack\u001b[0m\n",
      "\u001b[1;32mINFO: Downloading song: city of stars - from \"la la land\" soundtrack\u001b[0m\n",
      "\u001b[1;32mINFO: Successfully processed and saved song: city of stars - from \"la la land\" soundtrack\u001b[0m\n",
      "\u001b[1;32mINFO: Processing song: follow you\u001b[0m\n",
      "\u001b[1;32mINFO: Song follow you already downloaded, skipping download.\u001b[0m\n",
      "\u001b[1;32mINFO: Successfully processed and saved song: follow you\u001b[0m\n",
      "\u001b[1;32mINFO: Processing song: agape\u001b[0m\n",
      "\u001b[1;32mINFO: Downloading song: agape\u001b[0m\n",
      "\u001b[1;32mINFO: Successfully processed and saved song: agape\u001b[0m\n",
      "\u001b[1;32mINFO: Processing song: people ain't no good - 2011 remastered version\u001b[0m\n",
      "\u001b[1;32mINFO: Downloading song: people ain't no good - 2011 remastered version\u001b[0m\n",
      "\u001b[1;32mINFO: Successfully processed and saved song: people ain't no good - 2011 remastered version\u001b[0m\n",
      "\u001b[1;32mINFO: Processing song: oats in the water\u001b[0m\n",
      "\u001b[1;32mINFO: Downloading song: oats in the water\u001b[0m\n",
      "\u001b[1;32mINFO: Successfully processed and saved song: oats in the water\u001b[0m\n",
      "\u001b[1;32mINFO: Processing song: hold on\u001b[0m\n",
      "\u001b[1;32mINFO: Song hold on already downloaded, skipping download.\u001b[0m\n",
      "\u001b[1;32mINFO: Successfully processed and saved song: hold on\u001b[0m\n",
      "\u001b[1;32mINFO: Processing song: civilian\u001b[0m\n",
      "\u001b[1;32mINFO: Downloading song: civilian\u001b[0m\n",
      "\u001b[1;32mINFO: Successfully processed and saved song: civilian\u001b[0m\n",
      "\u001b[1;32mINFO: Processing song: valley\u001b[0m\n",
      "\u001b[1;32mINFO: Downloading song: valley\u001b[0m\n",
      "                                                         \r"
     ]
    },
    {
     "name": "stderr",
     "output_type": "stream",
     "text": [
      "\u001b[1;33mWARNING: Lyrics not found for 'valley' by torin borrowdale using all available providers.\u001b[0m\n"
     ]
    },
    {
     "name": "stdout",
     "output_type": "stream",
     "text": [
      "\u001b[1;32mINFO: Successfully processed and saved song: valley\u001b[0m\n",
      "\u001b[1;32mINFO: Processing song: woke up in bangkok\u001b[0m\n",
      "\u001b[1;32mINFO: Downloading song: woke up in bangkok\u001b[0m\n",
      "\u001b[1;32mINFO: Successfully processed and saved song: woke up in bangkok\u001b[0m\n",
      "\u001b[1;32mINFO: Processing song: non è vero mai (duetto con alex britti)\u001b[0m\n",
      "\u001b[1;32mINFO: Downloading song: non è vero mai (duetto con alex britti)\u001b[0m\n",
      "\u001b[1;32mINFO: Successfully processed and saved song: non è vero mai (duetto con alex britti)\u001b[0m\n",
      "\u001b[1;32mINFO: Processing song: il nostro amore quotidiano\u001b[0m\n",
      "\u001b[1;32mINFO: Downloading song: il nostro amore quotidiano\u001b[0m\n",
      "\u001b[1;32mINFO: Successfully processed and saved song: il nostro amore quotidiano\u001b[0m\n",
      "\u001b[1;32mINFO: Processing song: tutto questo sei tu\u001b[0m\n",
      "\u001b[1;32mINFO: Downloading song: tutto questo sei tu\u001b[0m\n",
      "\u001b[1;32mINFO: Successfully processed and saved song: tutto questo sei tu\u001b[0m\n",
      "\u001b[1;32mINFO: Processing song: allora ciao\u001b[0m\n",
      "\u001b[1;32mINFO: Downloading song: allora ciao\u001b[0m\n",
      "\u001b[1;32mINFO: Successfully processed and saved song: allora ciao\u001b[0m\n",
      "\u001b[1;32mINFO: Processing song: fai rumore\u001b[0m\n",
      "\u001b[1;32mINFO: Downloading song: fai rumore\u001b[0m\n",
      "\u001b[1;32mINFO: Successfully processed and saved song: fai rumore\u001b[0m\n",
      "\u001b[1;32mINFO: Processing song: amici per errore\u001b[0m\n",
      "\u001b[1;32mINFO: Downloading song: amici per errore\u001b[0m\n",
      "\u001b[1;32mINFO: Successfully processed and saved song: amici per errore\u001b[0m\n",
      "\u001b[1;32mINFO: Processing song: anche fragile\u001b[0m\n",
      "\u001b[1;32mINFO: Downloading song: anche fragile\u001b[0m\n",
      "\u001b[1;32mINFO: Successfully processed and saved song: anche fragile\u001b[0m\n",
      "\u001b[1;32mINFO: Processing song: latte di mandorla\u001b[0m\n",
      "\u001b[1;32mINFO: Downloading song: latte di mandorla\u001b[0m\n",
      "\u001b[1;32mINFO: Successfully processed and saved song: latte di mandorla\u001b[0m\n",
      "\u001b[1;32mINFO: Processing song: forza e coraggio\u001b[0m\n",
      "\u001b[1;32mINFO: Downloading song: forza e coraggio\u001b[0m\n",
      "\u001b[1;32mINFO: Successfully processed and saved song: forza e coraggio\u001b[0m\n",
      "\u001b[1;32mINFO: Processing song: la vita che ho deciso\u001b[0m\n",
      "\u001b[1;32mINFO: Downloading song: la vita che ho deciso\u001b[0m\n",
      "\u001b[1;32mINFO: Successfully processed and saved song: la vita che ho deciso\u001b[0m\n",
      "\u001b[1;32mINFO: Processing song: balla per me\u001b[0m\n",
      "\u001b[1;32mINFO: Downloading song: balla per me\u001b[0m\n",
      "\u001b[1;32mINFO: Successfully processed and saved song: balla per me\u001b[0m\n",
      "\u001b[1;32mINFO: Processing song: come un pittore (feat. jarabe de palo)\u001b[0m\n",
      "\u001b[1;32mINFO: Downloading song: come un pittore (feat. jarabe de palo)\u001b[0m\n",
      "\u001b[1;32mINFO: Successfully processed and saved song: come un pittore (feat. jarabe de palo)\u001b[0m\n",
      "\u001b[1;32mINFO: Processing song: amor ordinario\u001b[0m\n",
      "\u001b[1;32mINFO: Downloading song: amor ordinario\u001b[0m\n",
      "\u001b[1;32mINFO: Successfully processed and saved song: amor ordinario\u001b[0m\n",
      "\u001b[1;32mINFO: Processing song: let it be me\u001b[0m\n",
      "\u001b[1;32mINFO: Downloading song: let it be me\u001b[0m\n",
      "\u001b[1;32mINFO: Successfully processed and saved song: let it be me\u001b[0m\n",
      "\u001b[1;32mINFO: Processing song: art deco\u001b[0m\n",
      "\u001b[1;32mINFO: Downloading song: art deco\u001b[0m\n",
      "\u001b[1;32mINFO: Successfully processed and saved song: art deco\u001b[0m\n",
      "\u001b[1;32mINFO: Processing song: freak\u001b[0m\n",
      "\u001b[1;32mINFO: Downloading song: freak\u001b[0m\n",
      "\u001b[1;32mINFO: Successfully processed and saved song: freak\u001b[0m\n",
      "\u001b[1;32mINFO: Processing song: god knows i tried\u001b[0m\n",
      "\u001b[1;32mINFO: Downloading song: god knows i tried\u001b[0m\n",
      "\u001b[1;32mINFO: Successfully processed and saved song: god knows i tried\u001b[0m\n",
      "\u001b[1;32mINFO: Processing song: honeymoon\u001b[0m\n",
      "\u001b[1;32mINFO: Downloading song: honeymoon\u001b[0m\n",
      "\u001b[1;32mINFO: Successfully processed and saved song: honeymoon\u001b[0m\n",
      "\u001b[1;32mINFO: Processing song: get free\u001b[0m\n",
      "\u001b[1;32mINFO: Downloading song: get free\u001b[0m\n",
      "\u001b[1;32mINFO: Successfully processed and saved song: get free\u001b[0m\n",
      "\u001b[1;32mINFO: Processing song: change\u001b[0m\n",
      "\u001b[1;32mINFO: Downloading song: change\u001b[0m\n",
      "\u001b[1;32mINFO: Successfully processed and saved song: change\u001b[0m\n",
      "\u001b[1;32mINFO: Processing song: cherry\u001b[0m\n",
      "\u001b[1;32mINFO: Downloading song: cherry\u001b[0m\n",
      "\u001b[1;32mINFO: Successfully processed and saved song: cherry\u001b[0m\n",
      "\u001b[1;32mINFO: Processing song: 13 beaches\u001b[0m\n",
      "\u001b[1;32mINFO: Downloading song: 13 beaches\u001b[0m\n",
      "\u001b[1;32mINFO: Successfully processed and saved song: 13 beaches\u001b[0m\n",
      "\u001b[1;32mINFO: Processing song: lust for life (with the weeknd)\u001b[0m\n",
      "\u001b[1;32mINFO: Downloading song: lust for life (with the weeknd)\u001b[0m\n",
      "\u001b[1;32mINFO: Successfully processed and saved song: lust for life (with the weeknd)\u001b[0m\n",
      "\u001b[1;32mINFO: Processing song: ride\u001b[0m\n",
      "\u001b[1;32mINFO: Downloading song: ride\u001b[0m\n",
      "\u001b[1;32mINFO: Successfully processed and saved song: ride\u001b[0m\n",
      "\u001b[1;32mINFO: Processing song: gods & monsters\u001b[0m\n",
      "\u001b[1;32mINFO: Downloading song: gods & monsters\u001b[0m\n",
      "\u001b[1;32mINFO: Successfully processed and saved song: gods & monsters\u001b[0m\n",
      "\u001b[1;32mINFO: Processing song: money power glory\u001b[0m\n",
      "\u001b[1;32mINFO: Downloading song: money power glory\u001b[0m\n",
      "\u001b[1;32mINFO: Successfully processed and saved song: money power glory\u001b[0m\n",
      "\u001b[1;32mINFO: Processing song: born to die\u001b[0m\n",
      "\u001b[1;32mINFO: Downloading song: born to die\u001b[0m\n",
      "\u001b[1;32mINFO: Successfully processed and saved song: born to die\u001b[0m\n",
      "\u001b[1;32mINFO: Processing song: blue jeans\u001b[0m\n",
      "\u001b[1;32mINFO: Downloading song: blue jeans\u001b[0m\n",
      "\u001b[1;32mINFO: Successfully processed and saved song: blue jeans\u001b[0m\n",
      "\u001b[1;32mINFO: Processing song: la mujer cactus y el hombre globo\u001b[0m\n",
      "\u001b[1;32mINFO: Downloading song: la mujer cactus y el hombre globo\u001b[0m\n",
      "\u001b[1;32mINFO: Successfully processed and saved song: la mujer cactus y el hombre globo\u001b[0m\n",
      "\u001b[1;32mINFO: Processing song: maintenant - version radio\u001b[0m\n",
      "\u001b[1;32mINFO: Downloading song: maintenant - version radio\u001b[0m\n",
      "                                                         \r"
     ]
    },
    {
     "name": "stderr",
     "output_type": "stream",
     "text": [
      "\u001b[1;33mWARNING: Lyrics not found for 'maintenant' by les enfoirés using all available providers.\u001b[0m\n"
     ]
    },
    {
     "name": "stdout",
     "output_type": "stream",
     "text": [
      "\u001b[1;32mINFO: Successfully processed and saved song: maintenant - version radio\u001b[0m\n",
      "\u001b[1;32mINFO: Processing song: comme une voiture volée\u001b[0m\n",
      "\u001b[1;32mINFO: Downloading song: comme une voiture volée\u001b[0m\n",
      "\u001b[1;32mINFO: Successfully processed and saved song: comme une voiture volée\u001b[0m\n",
      "\u001b[1;32mINFO: Processing song: skin of a fool\u001b[0m\n",
      "\u001b[1;32mINFO: Downloading song: skin of a fool\u001b[0m\n",
      "\u001b[1;32mINFO: Successfully processed and saved song: skin of a fool\u001b[0m\n",
      "\u001b[1;32mINFO: Processing song: nic więcej\u001b[0m\n",
      "\u001b[1;32mINFO: Downloading song: nic więcej\u001b[0m\n",
      "\u001b[1;32mINFO: Successfully processed and saved song: nic więcej\u001b[0m\n",
      "\u001b[1;32mINFO: Processing song: pastempomat\u001b[0m\n",
      "\u001b[1;32mINFO: Downloading song: pastempomat\u001b[0m\n",
      "\u001b[1;32mINFO: Successfully processed and saved song: pastempomat\u001b[0m\n",
      "\u001b[1;32mINFO: Processing song: where did your love go?\u001b[0m\n",
      "\u001b[1;32mINFO: Downloading song: where did your love go?\u001b[0m\n",
      "\u001b[1;32mINFO: Successfully processed and saved song: where did your love go?\u001b[0m\n",
      "\u001b[1;32mINFO: Processing song: and i\u001b[0m\n",
      "\u001b[1;32mINFO: Downloading song: and i\u001b[0m\n",
      "\u001b[1;32mINFO: Successfully processed and saved song: and i\u001b[0m\n",
      "\u001b[1;32mINFO: Processing song: s&t\u001b[0m\n",
      "\u001b[1;32mINFO: Downloading song: s&t\u001b[0m\n",
      "                                                         \r"
     ]
    },
    {
     "name": "stderr",
     "output_type": "stream",
     "text": [
      "\u001b[1;33mWARNING: Lyrics not found for 's&t' by dawid podsiadło using all available providers.\u001b[0m\n"
     ]
    },
    {
     "name": "stdout",
     "output_type": "stream",
     "text": [
      "\u001b[1;32mINFO: Successfully processed and saved song: s&t\u001b[0m\n",
      "\u001b[1;32mINFO: Processing song: vitane\u001b[0m\n",
      "\u001b[1;32mINFO: Downloading song: vitane\u001b[0m\n",
      "\u001b[1;32mINFO: Successfully processed and saved song: vitane\u001b[0m\n",
      "\u001b[1;32mINFO: Processing song: no\u001b[0m\n",
      "\u001b[1;32mINFO: Downloading song: no\u001b[0m\n",
      "\u001b[1;32mINFO: Successfully processed and saved song: no\u001b[0m \n",
      "\u001b[1;32mINFO: Processing song: sinking man - the walking dead soundtrack\u001b[0m\n",
      "\u001b[1;32mINFO: Downloading song: sinking man - the walking dead soundtrack\u001b[0m\n",
      "\u001b[1;32mINFO: Successfully processed and saved song: sinking man - the walking dead soundtrack\u001b[0m\n",
      "\u001b[1;32mINFO: Processing song: circles\u001b[0m\n",
      "\u001b[1;32mINFO: Downloading song: circles\u001b[0m\n",
      "                                                           \r"
     ]
    },
    {
     "name": "stderr",
     "output_type": "stream",
     "text": [
      "\u001b[1;33mWARNING: Lyrics not found for 'circles' by of monsters and men using all available providers.\u001b[0m\n"
     ]
    },
    {
     "name": "stdout",
     "output_type": "stream",
     "text": [
      "\u001b[1;32mINFO: Successfully processed and saved song: circles\u001b[0m\n",
      "\u001b[1;32mINFO: Processing song: róróró\u001b[0m\n",
      "\u001b[1;32mINFO: Downloading song: róróró\u001b[0m\n",
      "\u001b[1;32mINFO: Successfully processed and saved song: róróró\u001b[0m\n",
      "\u001b[1;32mINFO: Processing song: yellow light\u001b[0m\n",
      "\u001b[1;32mINFO: Downloading song: yellow light\u001b[0m\n",
      "\u001b[1;32mINFO: Successfully processed and saved song: yellow light\u001b[0m\n",
      "\u001b[1;32mINFO: Processing song: from finner\u001b[0m\n",
      "\u001b[1;32mINFO: Downloading song: from finner\u001b[0m\n",
      "\u001b[1;32mINFO: Successfully processed and saved song: from finner\u001b[0m\n",
      "\u001b[1;32mINFO: Processing song: under a dome\u001b[0m\n",
      "\u001b[1;32mINFO: Downloading song: under a dome\u001b[0m\n",
      "\u001b[1;32mINFO: Successfully processed and saved song: under a dome\u001b[0m\n",
      "\u001b[1;32mINFO: Processing song: wellerman\u001b[0m\n",
      "\u001b[1;32mINFO: Downloading song: wellerman\u001b[0m\n",
      "\u001b[1;32mINFO: Successfully processed and saved song: wellerman\u001b[0m\n",
      "\u001b[1;32mINFO: Processing song: what would i change it to (feat. aluna)\u001b[0m\n",
      "\u001b[1;32mINFO: Downloading song: what would i change it to (feat. aluna)\u001b[0m\n",
      "\u001b[1;32mINFO: Successfully processed and saved song: what would i change it to (feat. aluna)\u001b[0m\n",
      "\u001b[1;32mINFO: Processing song: monde meilleur\u001b[0m\n",
      "\u001b[1;32mINFO: Downloading song: monde meilleur\u001b[0m\n",
      "\u001b[1;32mINFO: Successfully processed and saved song: monde meilleur\u001b[0m\n",
      "\u001b[1;32mINFO: Processing song: voilà\u001b[0m\n",
      "\u001b[1;32mINFO: Downloading song: voilà\u001b[0m\n",
      "\u001b[1;32mINFO: Successfully processed and saved song: voilà\u001b[0m\n",
      "\u001b[1;32mINFO: Processing song: baisers volés\u001b[0m\n",
      "\u001b[1;32mINFO: Downloading song: baisers volés\u001b[0m\n",
      "\u001b[1;32mINFO: Successfully processed and saved song: baisers volés\u001b[0m\n",
      "\u001b[1;32mINFO: Processing song: kid\u001b[0m\n",
      "\u001b[1;32mINFO: Downloading song: kid\u001b[0m\n",
      "\u001b[1;32mINFO: Successfully processed and saved song: kid\u001b[0m\n",
      "\u001b[1;32mINFO: Processing song: eté 90\u001b[0m\n",
      "\u001b[1;32mINFO: Downloading song: eté 90\u001b[0m\n",
      "\u001b[1;32mINFO: Successfully processed and saved song: eté 90\u001b[0m\n",
      "\u001b[1;32mINFO: Processing song: four hours\u001b[0m\n",
      "\u001b[1;32mINFO: Downloading song: four hours\u001b[0m\n",
      "\u001b[1;32mINFO: Successfully processed and saved song: four hours\u001b[0m\n",
      "\u001b[1;32mINFO: Processing song: bones in the ocean\u001b[0m\n",
      "\u001b[1;32mINFO: Downloading song: bones in the ocean\u001b[0m\n",
      "\u001b[1;32mINFO: Successfully processed and saved song: bones in the ocean\u001b[0m\n",
      "\u001b[1;32mINFO: Processing song: les rois du monde - roméo & juliette, les enfants de vérone\u001b[0m\n",
      "\u001b[1;32mINFO: Downloading song: les rois du monde - roméo & juliette, les enfants de vérone\u001b[0m\n",
      "\u001b[1;32mINFO: Successfully processed and saved song: les rois du monde - roméo & juliette, les enfants de vérone\u001b[0m\n",
      "\u001b[1;32mINFO: Processing song: me and bobby mcgee\u001b[0m\n",
      "\u001b[1;32mINFO: Downloading song: me and bobby mcgee\u001b[0m\n",
      "\u001b[1;32mINFO: Successfully processed and saved song: me and bobby mcgee\u001b[0m\n",
      "\u001b[1;32mINFO: Processing song: reckless with my heart\u001b[0m\n",
      "\u001b[1;32mINFO: Downloading song: reckless with my heart\u001b[0m\n",
      "\u001b[1;32mINFO: Successfully processed and saved song: reckless with my heart\u001b[0m\n",
      "\u001b[1;32mINFO: Processing song: over\u001b[0m\n",
      "\u001b[1;32mINFO: Downloading song: over\u001b[0m\n",
      "                                                         \r"
     ]
    },
    {
     "name": "stderr",
     "output_type": "stream",
     "text": [
      "\u001b[1;33mWARNING: Lyrics not found for 'over' by seafret using all available providers.\u001b[0m\n"
     ]
    },
    {
     "name": "stdout",
     "output_type": "stream",
     "text": [
      "\u001b[1;32mINFO: Successfully processed and saved song: over\u001b[0m\n",
      "\u001b[1;32mINFO: Processing song: can't look away\u001b[0m\n",
      "\u001b[1;32mINFO: Downloading song: can't look away\u001b[0m\n",
      "\u001b[1;32mINFO: Successfully processed and saved song: can't look away\u001b[0m\n",
      "\u001b[1;32mINFO: Processing song: lie to me\u001b[0m\n",
      "\u001b[1;32mINFO: Downloading song: lie to me\u001b[0m\n",
      "                                                         \r"
     ]
    },
    {
     "name": "stderr",
     "output_type": "stream",
     "text": [
      "\u001b[1;33mWARNING: Lyrics not found for 'lie to me' by seafret using all available providers.\u001b[0m\n"
     ]
    },
    {
     "name": "stdout",
     "output_type": "stream",
     "text": [
      "\u001b[1;32mINFO: Successfully processed and saved song: lie to me\u001b[0m\n",
      "\u001b[1;32mINFO: Processing song: love won't let me leave\u001b[0m\n",
      "\u001b[1;32mINFO: Downloading song: love won't let me leave\u001b[0m\n",
      "\u001b[1;32mINFO: Successfully processed and saved song: love won't let me leave\u001b[0m\n",
      "\u001b[1;32mINFO: Processing song: unbreakable\u001b[0m\n",
      "\u001b[1;32mINFO: Downloading song: unbreakable\u001b[0m\n",
      "                                                         \r"
     ]
    },
    {
     "name": "stderr",
     "output_type": "stream",
     "text": [
      "\u001b[1;33mWARNING: Lyrics not found for 'unbreakable' by seafret using all available providers.\u001b[0m\n"
     ]
    },
    {
     "name": "stdout",
     "output_type": "stream",
     "text": [
      "\u001b[1;32mINFO: Successfully processed and saved song: unbreakable\u001b[0m\n",
      "\u001b[1;32mINFO: Processing song: magnetic\u001b[0m\n",
      "\u001b[1;32mINFO: Downloading song: magnetic\u001b[0m\n",
      "                                                         \r"
     ]
    },
    {
     "name": "stderr",
     "output_type": "stream",
     "text": [
      "\u001b[1;33mWARNING: Lyrics not found for 'magnetic' by seafret using all available providers.\u001b[0m\n"
     ]
    },
    {
     "name": "stdout",
     "output_type": "stream",
     "text": [
      "\u001b[1;32mINFO: Successfully processed and saved song: magnetic\u001b[0m\n",
      "\u001b[1;32mINFO: Processing song: fall\u001b[0m\n",
      "\u001b[1;32mINFO: Downloading song: fall\u001b[0m\n",
      "                                                           \r"
     ]
    },
    {
     "name": "stderr",
     "output_type": "stream",
     "text": [
      "\u001b[1;33mWARNING: Lyrics not found for 'fall' by seafret using all available providers.\u001b[0m\n"
     ]
    },
    {
     "name": "stdout",
     "output_type": "stream",
     "text": [
      "\u001b[1;32mINFO: Successfully processed and saved song: fall\u001b[0m\n",
      "\u001b[1;32mINFO: Processing song: why do we stay\u001b[0m\n",
      "\u001b[1;32mINFO: Downloading song: why do we stay\u001b[0m\n",
      "\u001b[1;32mINFO: Successfully processed and saved song: why do we stay\u001b[0m\n",
      "\u001b[1;32mINFO: Processing song: tell me it's real\u001b[0m\n",
      "\u001b[1;32mINFO: Downloading song: tell me it's real\u001b[0m\n",
      "\u001b[1;32mINFO: Successfully processed and saved song: tell me it's real\u001b[0m\n",
      "\u001b[1;32mINFO: Processing song: be my queen\u001b[0m\n",
      "\u001b[1;32mINFO: Downloading song: be my queen\u001b[0m\n",
      "\u001b[1;32mINFO: Successfully processed and saved song: be my queen\u001b[0m\n",
      "\u001b[1;32mINFO: Processing song: be there\u001b[0m\n",
      "\u001b[1;32mINFO: Downloading song: be there\u001b[0m\n",
      "                                                         \r"
     ]
    },
    {
     "name": "stderr",
     "output_type": "stream",
     "text": [
      "\u001b[1;33mWARNING: Lyrics not found for 'be there' by seafret using all available providers.\u001b[0m\n"
     ]
    },
    {
     "name": "stdout",
     "output_type": "stream",
     "text": [
      "\u001b[1;32mINFO: Successfully processed and saved song: be there\u001b[0m\n",
      "\u001b[1;32mINFO: Processing song: wildfire\u001b[0m\n",
      "\u001b[1;32mINFO: Song wildfire already downloaded, skipping download.\u001b[0m\n",
      "\u001b[1;32mINFO: Successfully processed and saved song: wildfire\u001b[0m\n",
      "\u001b[1;32mINFO: Processing song: sans toi\u001b[0m\n",
      "\u001b[1;32mINFO: Downloading song: sans toi\u001b[0m\n",
      "\u001b[1;32mINFO: Successfully processed and saved song: sans toi\u001b[0m\n",
      "\u001b[1;32mINFO: Processing song: t'as vu\u001b[0m\n",
      "\u001b[1;32mINFO: Downloading song: t'as vu\u001b[0m\n",
      "\u001b[1;32mINFO: Successfully processed and saved song: t'as vu\u001b[0m\n",
      "\u001b[1;32mINFO: Processing song: alléluia\u001b[0m\n",
      "\u001b[1;32mINFO: Downloading song: alléluia\u001b[0m\n",
      "                                                         \r"
     ]
    },
    {
     "name": "stderr",
     "output_type": "stream",
     "text": [
      "\u001b[1;33mWARNING: Lyrics not found for 'alléluia' by andriamad using all available providers.\u001b[0m\n"
     ]
    },
    {
     "name": "stdout",
     "output_type": "stream",
     "text": [
      "\u001b[1;32mINFO: Successfully processed and saved song: alléluia\u001b[0m\n",
      "\u001b[1;32mINFO: Processing song: island lights\u001b[0m\n",
      "\u001b[1;32mINFO: Downloading song: island lights\u001b[0m\n",
      "\u001b[1;32mINFO: Successfully processed and saved song: island lights\u001b[0m\n",
      "\u001b[1;32mINFO: Processing song: all you never say\u001b[0m\n",
      "\u001b[1;32mINFO: Downloading song: all you never say\u001b[0m\n",
      "\u001b[1;32mINFO: Successfully processed and saved song: all you never say\u001b[0m\n",
      "\u001b[1;32mINFO: Processing song: un grand amour\u001b[0m\n",
      "\u001b[1;32mINFO: Downloading song: un grand amour\u001b[0m\n",
      "\u001b[1;32mINFO: Successfully processed and saved song: un grand amour\u001b[0m\n",
      "\u001b[1;32mINFO: Processing song: amour plastique\u001b[0m\n",
      "\u001b[1;32mINFO: Downloading song: amour plastique\u001b[0m\n",
      "\u001b[1;32mINFO: Successfully processed and saved song: amour plastique\u001b[0m\n",
      "\u001b[1;32mINFO: Processing song: wave(s)\u001b[0m\n",
      "\u001b[1;32mINFO: Downloading song: wave(s)\u001b[0m\n",
      "                                                         \r"
     ]
    },
    {
     "name": "stderr",
     "output_type": "stream",
     "text": [
      "\u001b[1;33mWARNING: Lyrics not found for 'wave' by lewis del mar using all available providers.\u001b[0m\n"
     ]
    },
    {
     "name": "stdout",
     "output_type": "stream",
     "text": [
      "\u001b[1;32mINFO: Successfully processed and saved song: wave(s)\u001b[0m\n",
      "\u001b[1;32mINFO: Processing song: diamond days\u001b[0m\n",
      "\u001b[1;32mINFO: Downloading song: diamond days\u001b[0m\n",
      "\u001b[1;32mINFO: Successfully processed and saved song: diamond days\u001b[0m\n",
      "\u001b[1;32mINFO: Processing song: i don't love you\u001b[0m\n",
      "\u001b[1;32mINFO: Downloading song: i don't love you\u001b[0m\n",
      "\u001b[1;32mINFO: Successfully processed and saved song: i don't love you\u001b[0m\n",
      "\u001b[1;32mINFO: Processing song: portrait of a female\u001b[0m\n",
      "\u001b[1;32mINFO: Downloading song: portrait of a female\u001b[0m\n",
      "\u001b[1;32mINFO: Successfully processed and saved song: portrait of a female\u001b[0m\n",
      "\u001b[1;32mINFO: Processing song: florida blues\u001b[0m\n",
      "\u001b[1;32mINFO: Downloading song: florida blues\u001b[0m\n",
      "\u001b[1;32mINFO: Successfully processed and saved song: florida blues\u001b[0m\n",
      "\u001b[1;32mINFO: Processing song: déjà venise\u001b[0m\n",
      "\u001b[1;32mINFO: Downloading song: déjà venise\u001b[0m\n",
      "\u001b[1;32mINFO: Successfully processed and saved song: déjà venise\u001b[0m\n",
      "\u001b[1;32mINFO: Processing song: en nuit\u001b[0m\n",
      "\u001b[1;32mINFO: Downloading song: en nuit\u001b[0m\n",
      "\u001b[1;32mINFO: Successfully processed and saved song: en nuit\u001b[0m\n",
      "\u001b[1;32mINFO: Processing song: tu me regardes\u001b[0m\n",
      "\u001b[1;32mINFO: Downloading song: tu me regardes\u001b[0m\n",
      "\u001b[1;32mINFO: Successfully processed and saved song: tu me regardes\u001b[0m\n",
      "\u001b[1;32mINFO: Processing song: les filles désir\u001b[0m\n",
      "\u001b[1;32mINFO: Downloading song: les filles désir\u001b[0m\n",
      "\u001b[1;32mINFO: Successfully processed and saved song: les filles désir\u001b[0m\n",
      "\u001b[1;32mINFO: Processing song: adieu mon homme\u001b[0m\n",
      "\u001b[1;32mINFO: Downloading song: adieu mon homme\u001b[0m\n",
      "\u001b[1;32mINFO: Successfully processed and saved song: adieu mon homme\u001b[0m\n",
      "\u001b[1;32mINFO: Processing song: oui ou non\u001b[0m\n",
      "\u001b[1;32mINFO: Downloading song: oui ou non\u001b[0m\n",
      "\u001b[1;32mINFO: Successfully processed and saved song: oui ou non\u001b[0m\n",
      "\u001b[1;32mINFO: Processing song: à peu près\u001b[0m\n",
      "\u001b[1;32mINFO: Downloading song: à peu près\u001b[0m\n",
      "\u001b[1;32mINFO: Successfully processed and saved song: à peu près\u001b[0m\n",
      "\u001b[1;32mINFO: Processing song: surrender\u001b[0m\n",
      "\u001b[1;32mINFO: Song surrender already downloaded, skipping download.\u001b[0m\n"
     ]
    },
    {
     "name": "stderr",
     "output_type": "stream",
     "text": [
      "\u001b[1;33mWARNING: Lyrics not found for 'surrender' by birdy using all available providers.\u001b[0m\n"
     ]
    },
    {
     "name": "stdout",
     "output_type": "stream",
     "text": [
      "\u001b[1;32mINFO: Successfully processed and saved song: surrender\u001b[0m\n",
      "\u001b[1;32mINFO: Processing song: comme c'est bon\u001b[0m\n",
      "\u001b[1;32mINFO: Downloading song: comme c'est bon\u001b[0m\n",
      "\u001b[1;32mINFO: Successfully processed and saved song: comme c'est bon\u001b[0m\n",
      "\u001b[1;32mINFO: Processing song: moi... lolita\u001b[0m\n",
      "\u001b[1;32mINFO: Downloading song: moi... lolita\u001b[0m\n",
      "\u001b[1;32mINFO: Successfully processed and saved song: moi... lolita\u001b[0m\n",
      "\u001b[1;32mINFO: Processing song: behind these hazel eyes\u001b[0m\n",
      "\u001b[1;32mINFO: Downloading song: behind these hazel eyes\u001b[0m\n",
      "\u001b[1;32mINFO: Successfully processed and saved song: behind these hazel eyes\u001b[0m\n",
      "\u001b[1;32mINFO: Processing song: fire on fire\u001b[0m\n",
      "\u001b[1;32mINFO: Downloading song: fire on fire\u001b[0m\n",
      "\u001b[1;32mINFO: Successfully processed and saved song: fire on fire\u001b[0m\n",
      "\u001b[1;32mINFO: Processing song: flawless\u001b[0m\n",
      "\u001b[1;32mINFO: Song flawless already downloaded, skipping download.\u001b[0m\n",
      "\u001b[1;32mINFO: Successfully processed and saved song: flawless\u001b[0m\n",
      "\u001b[1;32mINFO: Processing song: le fil\u001b[0m\n",
      "\u001b[1;32mINFO: Downloading song: le fil\u001b[0m\n",
      "                                                         \r"
     ]
    },
    {
     "name": "stderr",
     "output_type": "stream",
     "text": [
      "\u001b[1;33mWARNING: Lyrics not found for 'le fil' by patrick bruel using all available providers.\u001b[0m\n"
     ]
    },
    {
     "name": "stdout",
     "output_type": "stream",
     "text": [
      "\u001b[1;32mINFO: Successfully processed and saved song: le fil\u001b[0m\n",
      "\u001b[1;32mINFO: Processing song: jusqu'ici tout va bien\u001b[0m\n",
      "\u001b[1;32mINFO: Downloading song: jusqu'ici tout va bien\u001b[0m\n",
      "\u001b[1;32mINFO: Successfully processed and saved song: jusqu'ici tout va bien\u001b[0m\n",
      "\u001b[1;32mINFO: Processing song: andalouse\u001b[0m\n",
      "\u001b[1;32mINFO: Downloading song: andalouse\u001b[0m\n",
      "\u001b[1;32mINFO: Successfully processed and saved song: andalouse\u001b[0m\n",
      "\u001b[1;32mINFO: Processing song: eres\u001b[0m\n",
      "\u001b[1;32mINFO: Downloading song: eres\u001b[0m\n",
      "\u001b[1;32mINFO: Successfully processed and saved song: eres\u001b[0m\n",
      "\u001b[1;32mINFO: Processing song: mercy\u001b[0m\n",
      "\u001b[1;32mINFO: Song mercy already downloaded, skipping download.\u001b[0m\n",
      "\u001b[1;32mINFO: Successfully processed and saved song: mercy\u001b[0m\n",
      "\u001b[1;32mINFO: Processing song: 2016 (en ce temps-là)\u001b[0m\n",
      "\u001b[1;32mINFO: Downloading song: 2016 (en ce temps-là)\u001b[0m\n",
      "                                                         \r"
     ]
    },
    {
     "name": "stderr",
     "output_type": "stream",
     "text": [
      "\u001b[1;33mWARNING: Lyrics not found for '2016' by the pirouettes using all available providers.\u001b[0m\n"
     ]
    },
    {
     "name": "stdout",
     "output_type": "stream",
     "text": [
      "\u001b[1;32mINFO: Successfully processed and saved song: 2016 (en ce temps-là)\u001b[0m\n",
      "\u001b[1;32mINFO: Processing song: la parisienne\u001b[0m\n",
      "\u001b[1;32mINFO: Downloading song: la parisienne\u001b[0m\n",
      "\u001b[1;32mINFO: Successfully processed and saved song: la parisienne\u001b[0m\n",
      "\u001b[1;32mINFO: Processing song: casting\u001b[0m\n",
      "\u001b[1;32mINFO: Downloading song: casting\u001b[0m\n",
      "                                                         \r"
     ]
    },
    {
     "name": "stderr",
     "output_type": "stream",
     "text": [
      "\u001b[1;33mWARNING: Lyrics not found for 'casting' by christophe maé using all available providers.\u001b[0m\n"
     ]
    },
    {
     "name": "stdout",
     "output_type": "stream",
     "text": [
      "\u001b[1;32mINFO: Successfully processed and saved song: casting\u001b[0m\n",
      "\u001b[1;32mINFO: Processing song: on s'attache\u001b[0m\n",
      "\u001b[1;32mINFO: Downloading song: on s'attache\u001b[0m\n",
      "\u001b[1;32mINFO: Successfully processed and saved song: on s'attache\u001b[0m\n",
      "\u001b[1;32mINFO: Processing song: lampedusa\u001b[0m\n",
      "\u001b[1;32mINFO: Downloading song: lampedusa\u001b[0m\n",
      "\u001b[1;32mINFO: Successfully processed and saved song: lampedusa\u001b[0m\n",
      "\u001b[1;32mINFO: Processing song: come\u001b[0m\n",
      "\u001b[1;32mINFO: Downloading song: come\u001b[0m\n",
      "\u001b[1;32mINFO: Successfully processed and saved song: come\u001b[0m\n",
      "\u001b[1;32mINFO: Processing song: lampedusa - unplugged\u001b[0m\n",
      "\u001b[1;32mINFO: Downloading song: lampedusa - unplugged\u001b[0m\n",
      "\u001b[1;32mINFO: Successfully processed and saved song: lampedusa - unplugged\u001b[0m\n",
      "\u001b[1;32mINFO: Processing song: ensemble\u001b[0m\n",
      "\u001b[1;32mINFO: Downloading song: ensemble\u001b[0m\n",
      "                                                         \r"
     ]
    },
    {
     "name": "stderr",
     "output_type": "stream",
     "text": [
      "\u001b[1;33mWARNING: Lyrics not found for 'ensemble' by shy'm using all available providers.\u001b[0m\n"
     ]
    },
    {
     "name": "stdout",
     "output_type": "stream",
     "text": [
      "\u001b[1;32mINFO: Successfully processed and saved song: ensemble\u001b[0m\n",
      "\u001b[1;32mINFO: Processing song: je reviens plus fort - inspiré par \"soul\"\u001b[0m\n",
      "\u001b[1;32mINFO: Downloading song: je reviens plus fort - inspiré par \"soul\"\u001b[0m\n",
      "                                                         \r"
     ]
    },
    {
     "name": "stderr",
     "output_type": "stream",
     "text": [
      "\u001b[1;33mWARNING: Lyrics not found for 'je reviens plus fort' by abi bernadoth using all available providers.\u001b[0m\n"
     ]
    },
    {
     "name": "stdout",
     "output_type": "stream",
     "text": [
      "\u001b[1;32mINFO: Successfully processed and saved song: je reviens plus fort - inspiré par \"soul\"\u001b[0m\n",
      "\u001b[1;32mINFO: Processing song: i need you\u001b[0m\n",
      "\u001b[1;32mINFO: Song i need you already downloaded, skipping download.\u001b[0m\n",
      "\u001b[1;32mINFO: Successfully processed and saved song: i need you\u001b[0m\n",
      "\u001b[1;32mINFO: Processing song: est-ce que tu m'aimes ? - pilule bleue\u001b[0m\n",
      "\u001b[1;32mINFO: Downloading song: est-ce que tu m'aimes ? - pilule bleue\u001b[0m\n",
      "                                                         \r"
     ]
    },
    {
     "name": "stderr",
     "output_type": "stream",
     "text": [
      "\u001b[1;33mWARNING: Lyrics not found for 'est' by gims using all available providers.\u001b[0m\n"
     ]
    },
    {
     "name": "stdout",
     "output_type": "stream",
     "text": [
      "\u001b[1;32mINFO: Successfully processed and saved song: est-ce que tu m'aimes ? - pilule bleue\u001b[0m\n",
      "\u001b[1;32mINFO: Processing song: waiting on the corner\u001b[0m\n",
      "\u001b[1;32mINFO: Downloading song: waiting on the corner\u001b[0m\n",
      "\u001b[1;32mINFO: Successfully processed and saved song: waiting on the corner\u001b[0m\n",
      "\u001b[1;32mINFO: Processing song: elle me dit\u001b[0m\n",
      "\u001b[1;32mINFO: Downloading song: elle me dit\u001b[0m\n",
      "\u001b[1;32mINFO: Successfully processed and saved song: elle me dit\u001b[0m\n",
      "\u001b[1;32mINFO: Processing song: happy ending\u001b[0m\n",
      "\u001b[1;32mINFO: Downloading song: happy ending\u001b[0m\n",
      "\u001b[1;32mINFO: Successfully processed and saved song: happy ending\u001b[0m\n",
      "\u001b[1;32mINFO: Processing song: si jamais j'oublie - sur la route live 2015\u001b[0m\n",
      "\u001b[1;32mINFO: Downloading song: si jamais j'oublie - sur la route live 2015\u001b[0m\n",
      "\u001b[1;32mINFO: Successfully processed and saved song: si jamais j'oublie - sur la route live 2015\u001b[0m\n",
      "\u001b[1;32mINFO: Processing song: jour 1\u001b[0m\n",
      "\u001b[1;32mINFO: Downloading song: jour 1\u001b[0m\n",
      "\u001b[1;32mINFO: Successfully processed and saved song: jour 1\u001b[0m\n",
      "\u001b[1;32mINFO: Processing song: si on disait\u001b[0m\n",
      "\u001b[1;32mINFO: Downloading song: si on disait\u001b[0m\n",
      "\u001b[1;32mINFO: Successfully processed and saved song: si on disait\u001b[0m\n",
      "\u001b[1;32mINFO: Processing song: ta reine\u001b[0m\n",
      "\u001b[1;32mINFO: Downloading song: ta reine\u001b[0m\n",
      "\u001b[1;32mINFO: Successfully processed and saved song: ta reine\u001b[0m\n",
      "\u001b[1;32mINFO: Processing song: exister\u001b[0m\n",
      "\u001b[1;32mINFO: Downloading song: exister\u001b[0m\n",
      "\u001b[1;32mINFO: Successfully processed and saved song: exister\u001b[0m\n",
      "\u001b[1;32mINFO: Processing song: avancer\u001b[0m\n",
      "\u001b[1;32mINFO: Downloading song: avancer\u001b[0m\n",
      "\u001b[1;32mINFO: Successfully processed and saved song: avancer\u001b[0m\n",
      "\u001b[1;32mINFO: Processing song: malaisant\u001b[0m\n",
      "\u001b[1;32mINFO: Downloading song: malaisant\u001b[0m\n",
      "\u001b[1;32mINFO: Successfully processed and saved song: malaisant\u001b[0m\n",
      "\u001b[1;32mINFO: Processing song: balance ton quoi\u001b[0m\n",
      "\u001b[1;32mINFO: Downloading song: balance ton quoi\u001b[0m\n",
      "\u001b[1;32mINFO: Successfully processed and saved song: balance ton quoi\u001b[0m\n",
      "\u001b[1;32mINFO: Processing song: donne-moi ton cœur\u001b[0m\n",
      "\u001b[1;32mINFO: Downloading song: donne-moi ton cœur\u001b[0m\n",
      "                                                         \r"
     ]
    },
    {
     "name": "stderr",
     "output_type": "stream",
     "text": [
      "\u001b[1;33mWARNING: Lyrics not found for 'donne' by louane using all available providers.\u001b[0m\n"
     ]
    },
    {
     "name": "stdout",
     "output_type": "stream",
     "text": [
      "\u001b[1;32mINFO: Successfully processed and saved song: donne-moi ton cœur\u001b[0m\n",
      "\u001b[1;32mINFO: Processing song: evidemment\u001b[0m\n",
      "\u001b[1;32mINFO: Downloading song: evidemment\u001b[0m\n",
      "                                                         \r"
     ]
    },
    {
     "name": "stderr",
     "output_type": "stream",
     "text": [
      "\u001b[1;33mWARNING: Lyrics not found for 'evidemment' by jenifer using all available providers.\u001b[0m\n"
     ]
    },
    {
     "name": "stdout",
     "output_type": "stream",
     "text": [
      "\u001b[1;32mINFO: Successfully processed and saved song: evidemment\u001b[0m\n",
      "\u001b[1;32mINFO: Processing song: toi\u001b[0m\n",
      "\u001b[1;32mINFO: Downloading song: toi\u001b[0m\n",
      "                                                         \r"
     ]
    },
    {
     "name": "stderr",
     "output_type": "stream",
     "text": [
      "\u001b[1;33mWARNING: Lyrics not found for 'toi' by amir using all available providers.\u001b[0m\n"
     ]
    },
    {
     "name": "stdout",
     "output_type": "stream",
     "text": [
      "\u001b[1;32mINFO: Successfully processed and saved song: toi\u001b[0m\n",
      "\u001b[1;32mINFO: Processing song: le coeur holiday (with soprano)\u001b[0m\n",
      "\u001b[1;32mINFO: Downloading song: le coeur holiday (with soprano)\u001b[0m\n",
      "\u001b[1;32mINFO: Successfully processed and saved song: le coeur holiday (with soprano)\u001b[0m\n",
      "\u001b[1;32mINFO: Processing song: soleil\u001b[0m\n",
      "\u001b[1;32mINFO: Downloading song: soleil\u001b[0m\n",
      "\u001b[1;32mINFO: Successfully processed and saved song: soleil\u001b[0m\n",
      "\u001b[1;32mINFO: Processing song: cœur sur toi\u001b[0m\n",
      "\u001b[1;32mINFO: Downloading song: cœur sur toi\u001b[0m\n",
      "\u001b[1;32mINFO: Successfully processed and saved song: cœur sur toi\u001b[0m\n",
      "\u001b[1;32mINFO: Processing song: et si tu n'existais pas\u001b[0m\n",
      "\u001b[1;32mINFO: Downloading song: et si tu n'existais pas\u001b[0m\n",
      "\u001b[1;32mINFO: Successfully processed and saved song: et si tu n'existais pas\u001b[0m\n",
      "\u001b[1;32mINFO: Processing song: formidable\u001b[0m\n",
      "\u001b[1;32mINFO: Downloading song: formidable\u001b[0m\n",
      "\u001b[1;32mINFO: Successfully processed and saved song: formidable\u001b[0m\n",
      "\u001b[1;32mINFO: Processing song: nie mam nic\u001b[0m\n",
      "\u001b[1;32mINFO: Downloading song: nie mam nic\u001b[0m\n",
      "\u001b[1;32mINFO: Successfully processed and saved song: nie mam nic\u001b[0m\n",
      "\u001b[1;32mINFO: Processing song: for the last time\u001b[0m\n",
      "\u001b[1;32mINFO: Downloading song: for the last time\u001b[0m\n",
      "\u001b[1;32mINFO: Successfully processed and saved song: for the last time\u001b[0m\n",
      "\u001b[1;32mINFO: Processing song: be alright\u001b[0m\n",
      "\u001b[1;32mINFO: Downloading song: be alright\u001b[0m\n",
      "\u001b[1;32mINFO: Successfully processed and saved song: be alright\u001b[0m\n",
      "\u001b[1;32mINFO: Processing song: don't cry (original)\u001b[0m\n",
      "\u001b[1;32mINFO: Downloading song: don't cry (original)\u001b[0m\n",
      "\u001b[1;32mINFO: Successfully processed and saved song: don't cry (original)\u001b[0m\n",
      "\u001b[1;32mINFO: Processing song: christmas saves the year\u001b[0m\n",
      "\u001b[1;32mINFO: Downloading song: christmas saves the year\u001b[0m\n",
      "\u001b[1;32mINFO: Successfully processed and saved song: christmas saves the year\u001b[0m\n",
      "\u001b[1;32mINFO: Processing song: is it just me?\u001b[0m\n",
      "\u001b[1;32mINFO: Downloading song: is it just me?\u001b[0m\n",
      "\u001b[1;32mINFO: Successfully processed and saved song: is it just me?\u001b[0m\n",
      "\u001b[1;32mINFO: Processing song: only child\u001b[0m\n",
      "\u001b[1;32mINFO: Downloading song: only child\u001b[0m\n",
      "\u001b[1;32mINFO: Successfully processed and saved song: only child\u001b[0m\n",
      "\u001b[1;32mINFO: Processing song: house with no mirrors\u001b[0m\n",
      "\u001b[1;32mINFO: Downloading song: house with no mirrors\u001b[0m\n",
      "\u001b[1;32mINFO: Successfully processed and saved song: house with no mirrors\u001b[0m\n",
      "\u001b[1;32mINFO: Processing song: matter to you\u001b[0m\n",
      "\u001b[1;32mINFO: Downloading song: matter to you\u001b[0m\n",
      "\u001b[1;32mINFO: Successfully processed and saved song: matter to you\u001b[0m\n",
      "\u001b[1;32mINFO: Processing song: lie\u001b[0m\n",
      "\u001b[1;32mINFO: Downloading song: lie\u001b[0m\n",
      "                                                         \r"
     ]
    },
    {
     "name": "stderr",
     "output_type": "stream",
     "text": [
      "\u001b[1;33mWARNING: Lyrics not found for 'lie' by sasha alex sloan using all available providers.\u001b[0m\n"
     ]
    },
    {
     "name": "stdout",
     "output_type": "stream",
     "text": [
      "\u001b[1;32mINFO: Successfully processed and saved song: lie\u001b[0m\n",
      "\u001b[1;32mINFO: Processing song: i'll wait\u001b[0m\n",
      "\u001b[1;32mINFO: Downloading song: i'll wait\u001b[0m\n",
      "\u001b[1;32mINFO: Successfully processed and saved song: i'll wait\u001b[0m\n",
      "\u001b[1;32mINFO: Processing song: dancing with your ghost\u001b[0m\n",
      "\u001b[1;32mINFO: Downloading song: dancing with your ghost\u001b[0m\n",
      "\u001b[1;32mINFO: Successfully processed and saved song: dancing with your ghost\u001b[0m\n",
      "\u001b[1;32mINFO: Processing song: older\u001b[0m\n",
      "\u001b[1;32mINFO: Downloading song: older\u001b[0m\n",
      "\u001b[1;32mINFO: Successfully processed and saved song: older\u001b[0m\n",
      "\u001b[1;32mINFO: Processing song: undone\u001b[0m\n",
      "\u001b[1;32mINFO: Downloading song: undone\u001b[0m\n",
      "                                                         \r"
     ]
    },
    {
     "name": "stderr",
     "output_type": "stream",
     "text": [
      "\u001b[1;33mWARNING: Lyrics not found for 'undone' by paris jackson using all available providers.\u001b[0m\n"
     ]
    },
    {
     "name": "stdout",
     "output_type": "stream",
     "text": [
      "\u001b[1;32mINFO: Successfully processed and saved song: undone\u001b[0m\n",
      "\u001b[1;32mINFO: Processing song: sad song (feat. elena coats)\u001b[0m\n",
      "\u001b[1;32mINFO: Downloading song: sad song (feat. elena coats)\u001b[0m\n",
      "\u001b[1;32mINFO: Successfully processed and saved song: sad song (feat. elena coats)\u001b[0m\n",
      "\u001b[1;32mINFO: Processing song: half a man\u001b[0m\n",
      "\u001b[1;32mINFO: Downloading song: half a man\u001b[0m\n",
      "\u001b[1;32mINFO: Successfully processed and saved song: half a man\u001b[0m\n",
      "\u001b[1;32mINFO: Processing song: broken parts\u001b[0m\n",
      "\u001b[1;32mINFO: Downloading song: broken parts\u001b[0m\n",
      "\u001b[1;32mINFO: Successfully processed and saved song: broken parts\u001b[0m\n",
      "\u001b[1;32mINFO: Processing song: wild world - 2009 remastered version\u001b[0m\n",
      "\u001b[1;32mINFO: Downloading song: wild world - 2009 remastered version\u001b[0m\n",
      "\u001b[1;32mINFO: Successfully processed and saved song: wild world - 2009 remastered version\u001b[0m\n",
      "\u001b[1;32mINFO: Processing song: chasing cars\u001b[0m\n",
      "\u001b[1;32mINFO: Song chasing cars already downloaded, skipping download.\u001b[0m\n",
      "\u001b[1;32mINFO: Successfully processed and saved song: chasing cars\u001b[0m\n",
      "\u001b[1;32mINFO: Processing song: coleccionista de canciones\u001b[0m\n",
      "\u001b[1;32mINFO: Downloading song: coleccionista de canciones\u001b[0m\n",
      "\u001b[1;32mINFO: Successfully processed and saved song: coleccionista de canciones\u001b[0m\n",
      "\u001b[1;32mINFO: Processing song: bad\u001b[0m\n",
      "\u001b[1;32mINFO: Downloading song: bad\u001b[0m\n",
      "                                                         \r"
     ]
    },
    {
     "name": "stderr",
     "output_type": "stream",
     "text": [
      "\u001b[1;33mWARNING: Lyrics not found for 'bad' by james bay using all available providers.\u001b[0m\n"
     ]
    },
    {
     "name": "stdout",
     "output_type": "stream",
     "text": [
      "\u001b[1;32mINFO: Successfully processed and saved song: bad\u001b[0m\n",
      "\u001b[1;32mINFO: Processing song: the one\u001b[0m\n",
      "\u001b[1;32mINFO: Downloading song: the one\u001b[0m\n",
      "\u001b[1;32mINFO: Successfully processed and saved song: the one\u001b[0m\n",
      "\u001b[1;32mINFO: Processing song: first love never die\u001b[0m\n",
      "\u001b[1;32mINFO: Downloading song: first love never die\u001b[0m\n",
      "\u001b[1;32mINFO: Successfully processed and saved song: first love never die\u001b[0m\n",
      "\u001b[1;32mINFO: Processing song: second chance\u001b[0m\n",
      "\u001b[1;32mINFO: Downloading song: second chance\u001b[0m\n",
      "                                                         \r"
     ]
    },
    {
     "name": "stderr",
     "output_type": "stream",
     "text": [
      "\u001b[1;33mWARNING: Lyrics not found for 'second chance' by tristan prettyman using all available providers.\u001b[0m\n"
     ]
    },
    {
     "name": "stdout",
     "output_type": "stream",
     "text": [
      "\u001b[1;32mINFO: Successfully processed and saved song: second chance\u001b[0m\n",
      "\u001b[1;32mINFO: Processing song: back to home\u001b[0m\n",
      "\u001b[1;32mINFO: Downloading song: back to home\u001b[0m\n",
      "\u001b[1;32mINFO: Successfully processed and saved song: back to home\u001b[0m\n",
      "\u001b[1;32mINFO: Processing song: say anything\u001b[0m\n",
      "\u001b[1;32mINFO: Downloading song: say anything\u001b[0m\n",
      "\u001b[1;32mINFO: Successfully processed and saved song: say anything\u001b[0m\n",
      "\u001b[1;32mINFO: Processing song: for now\u001b[0m\n",
      "\u001b[1;32mINFO: Downloading song: for now\u001b[0m\n",
      "                                                         \r"
     ]
    },
    {
     "name": "stderr",
     "output_type": "stream",
     "text": [
      "\u001b[1;33mWARNING: Lyrics not found for 'for now' by sam fischer using all available providers.\u001b[0m\n"
     ]
    },
    {
     "name": "stdout",
     "output_type": "stream",
     "text": [
      "\u001b[1;32mINFO: Successfully processed and saved song: for now\u001b[0m\n",
      "\u001b[1;32mINFO: Processing song: clementine - alternate version\u001b[0m\n",
      "\u001b[1;32mINFO: Downloading song: clementine - alternate version\u001b[0m\n",
      "\u001b[1;32mINFO: Successfully processed and saved song: clementine - alternate version\u001b[0m\n",
      "\u001b[1;32mINFO: Processing song: break my broken heart\u001b[0m\n",
      "\u001b[1;32mINFO: Downloading song: break my broken heart\u001b[0m\n",
      "\u001b[1;32mINFO: Successfully processed and saved song: break my broken heart\u001b[0m\n",
      "\u001b[1;32mINFO: Processing song: the only\u001b[0m\n",
      "\u001b[1;32mINFO: Downloading song: the only\u001b[0m\n",
      "                                                         \r"
     ]
    },
    {
     "name": "stderr",
     "output_type": "stream",
     "text": [
      "\u001b[1;33mWARNING: Lyrics not found for 'the only' by sasha alex sloan using all available providers.\u001b[0m\n"
     ]
    },
    {
     "name": "stdout",
     "output_type": "stream",
     "text": [
      "\u001b[1;32mINFO: Successfully processed and saved song: the only\u001b[0m\n",
      "\u001b[1;32mINFO: Processing song: who we are\u001b[0m\n",
      "\u001b[1;32mINFO: Downloading song: who we are\u001b[0m\n",
      "\u001b[1;32mINFO: Successfully processed and saved song: who we are\u001b[0m\n",
      "\u001b[1;32mINFO: Processing song: trampoline - acoustic\u001b[0m\n",
      "\u001b[1;32mINFO: Downloading song: trampoline - acoustic\u001b[0m\n",
      "                                                         \r"
     ]
    },
    {
     "name": "stderr",
     "output_type": "stream",
     "text": [
      "\u001b[1;33mWARNING: Lyrics not found for 'trampoline' by highland peak using all available providers.\u001b[0m\n"
     ]
    },
    {
     "name": "stdout",
     "output_type": "stream",
     "text": [
      "\u001b[1;32mINFO: Successfully processed and saved song: trampoline - acoustic\u001b[0m\n",
      "\u001b[1;32mINFO: Processing song: when the party's over\u001b[0m\n",
      "\u001b[1;32mINFO: Downloading song: when the party's over\u001b[0m\n",
      "\u001b[1;32mINFO: Successfully processed and saved song: when the party's over\u001b[0m\n",
      "\u001b[1;32mINFO: Processing song: all of the stars\u001b[0m\n",
      "\u001b[1;32mINFO: Downloading song: all of the stars\u001b[0m\n",
      "\u001b[1;32mINFO: Successfully processed and saved song: all of the stars\u001b[0m\n",
      "\u001b[1;32mINFO: Processing song: i wrote you a letter\u001b[0m\n",
      "\u001b[1;32mINFO: Downloading song: i wrote you a letter\u001b[0m\n",
      "                                                         \r"
     ]
    },
    {
     "name": "stderr",
     "output_type": "stream",
     "text": [
      "\u001b[1;33mWARNING: Lyrics not found for 'i wrote you a letter' by fudasca using all available providers.\u001b[0m\n"
     ]
    },
    {
     "name": "stdout",
     "output_type": "stream",
     "text": [
      "\u001b[1;32mINFO: Successfully processed and saved song: i wrote you a letter\u001b[0m\n",
      "\u001b[1;32mINFO: Processing song: not about angels\u001b[0m\n",
      "\u001b[1;32mINFO: Downloading song: not about angels\u001b[0m\n",
      "\u001b[1;32mINFO: Successfully processed and saved song: not about angels\u001b[0m\n",
      "\u001b[1;32mINFO: Processing song: disfigured\u001b[0m\n",
      "\u001b[1;32mINFO: Downloading song: disfigured\u001b[0m\n",
      "                                                         \r"
     ]
    },
    {
     "name": "stderr",
     "output_type": "stream",
     "text": [
      "\u001b[1;33mWARNING: Lyrics not found for 'disfigured' by rag'n'bone man using all available providers.\u001b[0m\n"
     ]
    },
    {
     "name": "stdout",
     "output_type": "stream",
     "text": [
      "\u001b[1;32mINFO: Successfully processed and saved song: disfigured\u001b[0m\n",
      "\u001b[1;32mINFO: Processing song: all good\u001b[0m\n",
      "\u001b[1;32mINFO: Downloading song: all good\u001b[0m\n",
      "                                                         \r"
     ]
    },
    {
     "name": "stderr",
     "output_type": "stream",
     "text": [
      "\u001b[1;33mWARNING: Lyrics not found for 'all good' by garrett kato using all available providers.\u001b[0m\n"
     ]
    },
    {
     "name": "stdout",
     "output_type": "stream",
     "text": [
      "\u001b[1;32mINFO: Successfully processed and saved song: all good\u001b[0m\n",
      "\u001b[1;32mINFO: Processing song: time out\u001b[0m\n",
      "\u001b[1;32mINFO: Downloading song: time out\u001b[0m\n",
      "                                                         \r"
     ]
    },
    {
     "name": "stderr",
     "output_type": "stream",
     "text": [
      "\u001b[1;33mWARNING: Lyrics not found for 'time out' by aj wander using all available providers.\u001b[0m\n"
     ]
    },
    {
     "name": "stdout",
     "output_type": "stream",
     "text": [
      "\u001b[1;32mINFO: Successfully processed and saved song: time out\u001b[0m\n",
      "\u001b[1;32mINFO: Processing song: leave a light on\u001b[0m\n",
      "\u001b[1;32mINFO: Downloading song: leave a light on\u001b[0m\n",
      "\u001b[1;32mINFO: Successfully processed and saved song: leave a light on\u001b[0m\n",
      "\u001b[1;32mINFO: Processing song: empty space\u001b[0m\n",
      "\u001b[1;32mINFO: Downloading song: empty space\u001b[0m\n",
      "\u001b[1;32mINFO: Successfully processed and saved song: empty space\u001b[0m\n",
      "\u001b[1;32mINFO: Processing song: july\u001b[0m\n",
      "\u001b[1;32mINFO: Downloading song: july\u001b[0m\n",
      "\u001b[1;32mINFO: Successfully processed and saved song: july\u001b[0m\n",
      "\u001b[1;32mINFO: Processing song: we might be dead by tomorrow\u001b[0m\n",
      "\u001b[1;32mINFO: Song we might be dead by tomorrow already downloaded, skipping download.\u001b[0m\n",
      "\u001b[1;32mINFO: Successfully processed and saved song: we might be dead by tomorrow\u001b[0m\n",
      "\u001b[1;32mINFO: Processing song: dancing on my own\u001b[0m\n",
      "\u001b[1;32mINFO: Downloading song: dancing on my own\u001b[0m\n",
      "\u001b[1;32mINFO: Successfully processed and saved song: dancing on my own\u001b[0m\n",
      "\u001b[1;32mINFO: Processing song: always remember us this way\u001b[0m\n",
      "\u001b[1;32mINFO: Song always remember us this way already downloaded, skipping download.\u001b[0m\n",
      "\u001b[1;32mINFO: Successfully processed and saved song: always remember us this way\u001b[0m\n",
      "\u001b[1;32mINFO: Processing song: in my head\u001b[0m\n",
      "\u001b[1;32mINFO: Downloading song: in my head\u001b[0m\n",
      "\u001b[1;32mINFO: Successfully processed and saved song: in my head\u001b[0m\n",
      "\u001b[1;32mINFO: Processing song: carry you\u001b[0m\n",
      "\u001b[1;32mINFO: Downloading song: carry you\u001b[0m\n",
      "\u001b[1;32mINFO: Successfully processed and saved song: carry you\u001b[0m\n",
      "\u001b[1;32mINFO: Processing song: umbrella\u001b[0m\n",
      "\u001b[1;32mINFO: Downloading song: umbrella\u001b[0m\n",
      "\u001b[1;32mINFO: Successfully processed and saved song: umbrella\u001b[0m\n",
      "\u001b[1;32mINFO: Processing song: atlantis\u001b[0m\n",
      "\u001b[1;32mINFO: Downloading song: atlantis\u001b[0m\n",
      "\u001b[1;32mINFO: Successfully processed and saved song: atlantis\u001b[0m\n",
      "\u001b[1;32mINFO: Processing song: loving you\u001b[0m\n",
      "\u001b[1;32mINFO: Downloading song: loving you\u001b[0m\n",
      "                                                         \r"
     ]
    },
    {
     "name": "stderr",
     "output_type": "stream",
     "text": [
      "\u001b[1;33mWARNING: Lyrics not found for 'loving you' by seafret using all available providers.\u001b[0m\n"
     ]
    },
    {
     "name": "stdout",
     "output_type": "stream",
     "text": [
      "\u001b[1;32mINFO: Successfully processed and saved song: loving you\u001b[0m\n",
      "\u001b[1;32mINFO: Processing song: most of us are strangers\u001b[0m\n",
      "\u001b[1;32mINFO: Downloading song: most of us are strangers\u001b[0m\n",
      "\u001b[1;32mINFO: Successfully processed and saved song: most of us are strangers\u001b[0m\n",
      "\u001b[1;32mINFO: Processing song: je veux\u001b[0m\n",
      "\u001b[1;32mINFO: Downloading song: je veux\u001b[0m\n",
      "\u001b[1;32mINFO: Successfully processed and saved song: je veux\u001b[0m\n",
      "\u001b[1;32mINFO: Processing song: dime como hago\u001b[0m\n",
      "\u001b[1;32mINFO: Downloading song: dime como hago\u001b[0m\n",
      "\u001b[1;32mINFO: Successfully processed and saved song: dime como hago\u001b[0m\n",
      "\u001b[1;32mINFO: Processing song: corazón sin cara\u001b[0m\n",
      "\u001b[1;32mINFO: Downloading song: corazón sin cara\u001b[0m\n",
      "\u001b[1;32mINFO: Successfully processed and saved song: corazón sin cara\u001b[0m\n",
      "\u001b[1;32mINFO: Processing song: freelove\u001b[0m\n",
      "\u001b[1;32mINFO: Downloading song: freelove\u001b[0m\n",
      "\u001b[1;32mINFO: Successfully processed and saved song: freelove\u001b[0m\n",
      "\u001b[1;32mINFO: Processing song: me voy\u001b[0m\n",
      "\u001b[1;32mINFO: Downloading song: me voy\u001b[0m\n",
      "\u001b[1;32mINFO: Successfully processed and saved song: me voy\u001b[0m\n",
      "\u001b[1;32mINFO: Processing song: anxiety\u001b[0m\n",
      "\u001b[1;32mINFO: Downloading song: anxiety\u001b[0m\n",
      "                                                           \r"
     ]
    },
    {
     "name": "stderr",
     "output_type": "stream",
     "text": [
      "\u001b[1;33mWARNING: Lyrics not found for 'anxiety' by besomorph using all available providers.\u001b[0m\n"
     ]
    },
    {
     "name": "stdout",
     "output_type": "stream",
     "text": [
      "\u001b[1;32mINFO: Successfully processed and saved song: anxiety\u001b[0m\n",
      "\u001b[1;32mINFO: Processing song: azul\u001b[0m\n",
      "\u001b[1;32mINFO: Downloading song: azul\u001b[0m\n",
      "\u001b[1;32mINFO: Successfully processed and saved song: azul\u001b[0m\n",
      "\u001b[1;32mINFO: Processing song: la llamada\u001b[0m\n",
      "\u001b[1;32mINFO: Downloading song: la llamada\u001b[0m\n",
      "\u001b[1;32mINFO: Successfully processed and saved song: la llamada\u001b[0m\n",
      "\u001b[1;32mINFO: Processing song: como si fueras a morir mañana\u001b[0m\n",
      "\u001b[1;32mINFO: Downloading song: como si fueras a morir mañana\u001b[0m\n",
      "\u001b[1;32mINFO: Successfully processed and saved song: como si fueras a morir mañana\u001b[0m\n",
      "\u001b[1;32mINFO: Processing song: venimos\u001b[0m\n",
      "\u001b[1;32mINFO: Downloading song: venimos\u001b[0m\n",
      "\u001b[1;32mINFO: Successfully processed and saved song: venimos\u001b[0m\n",
      "\u001b[1;32mINFO: Processing song: cómo te va?\u001b[0m\n",
      "\u001b[1;32mINFO: Downloading song: cómo te va?\u001b[0m\n",
      "\u001b[1;32mINFO: Successfully processed and saved song: cómo te va?\u001b[0m\n",
      "\u001b[1;32mINFO: Processing song: my stress\u001b[0m\n",
      "\u001b[1;32mINFO: Downloading song: my stress\u001b[0m\n",
      "\u001b[1;32mINFO: Successfully processed and saved song: my stress\u001b[0m\n",
      "\u001b[1;32mINFO: Processing song: if you want love\u001b[0m\n",
      "\u001b[1;32mINFO: Downloading song: if you want love\u001b[0m\n",
      "\u001b[1;32mINFO: Successfully processed and saved song: if you want love\u001b[0m\n",
      "\u001b[1;32mINFO: Processing song: i miss the days\u001b[0m\n",
      "\u001b[1;32mINFO: Downloading song: i miss the days\u001b[0m\n",
      "\u001b[1;32mINFO: Successfully processed and saved song: i miss the days\u001b[0m\n",
      "\u001b[1;32mINFO: Processing song: only\u001b[0m\n",
      "\u001b[1;32mINFO: Downloading song: only\u001b[0m\n",
      "                                                         \r"
     ]
    },
    {
     "name": "stderr",
     "output_type": "stream",
     "text": [
      "\u001b[1;33mWARNING: Lyrics not found for 'only' by nf using all available providers.\u001b[0m\n"
     ]
    },
    {
     "name": "stdout",
     "output_type": "stream",
     "text": [
      "\u001b[1;32mINFO: Successfully processed and saved song: only\u001b[0m\n",
      "\u001b[1;32mINFO: Processing song: hate myself\u001b[0m\n",
      "\u001b[1;32mINFO: Downloading song: hate myself\u001b[0m\n",
      "\u001b[1;32mINFO: Successfully processed and saved song: hate myself\u001b[0m\n",
      "\u001b[1;32mINFO: Processing song: time\u001b[0m\n",
      "\u001b[1;32mINFO: Downloading song: time\u001b[0m\n",
      "                                                         \r"
     ]
    },
    {
     "name": "stderr",
     "output_type": "stream",
     "text": [
      "\u001b[1;33mWARNING: Lyrics not found for 'time' by nf using all available providers.\u001b[0m\n"
     ]
    },
    {
     "name": "stdout",
     "output_type": "stream",
     "text": [
      "\u001b[1;32mINFO: Successfully processed and saved song: time\u001b[0m\n",
      "\u001b[1;32mINFO: Processing song: chasing_(demo)\u001b[0m\n",
      "\u001b[1;32mINFO: Downloading song: chasing_(demo)\u001b[0m\n",
      "\u001b[1;32mINFO: Successfully processed and saved song: chasing_(demo)\u001b[0m\n",
      "\u001b[1;32mINFO: Processing song: lie\u001b[0m\n",
      "\u001b[1;32mINFO: Song lie already downloaded, skipping download.\u001b[0m\n",
      "\u001b[1;32mINFO: Successfully processed and saved song: lie\u001b[0m\n",
      "\u001b[1;32mINFO: Processing song: let you down\u001b[0m\n",
      "\u001b[1;32mINFO: Downloading song: let you down\u001b[0m\n",
      "\u001b[1;32mINFO: Successfully processed and saved song: let you down\u001b[0m\n",
      "\u001b[1;32mINFO: Processing song: bored\u001b[0m\n",
      "\u001b[1;32mINFO: Downloading song: bored\u001b[0m\n",
      "\u001b[1;32mINFO: Successfully processed and saved song: bored\u001b[0m\n",
      "\u001b[1;32mINFO: Processing song: the end (feat. andrés suárez)\u001b[0m\n",
      "\u001b[1;32mINFO: Downloading song: the end (feat. andrés suárez)\u001b[0m\n",
      "                                                         \r"
     ]
    },
    {
     "name": "stderr",
     "output_type": "stream",
     "text": [
      "\u001b[1;33mWARNING: Lyrics not found for 'the end' by rulo y la contrabanda using all available providers.\u001b[0m\n"
     ]
    },
    {
     "name": "stdout",
     "output_type": "stream",
     "text": [
      "\u001b[1;32mINFO: Successfully processed and saved song: the end (feat. andrés suárez)\u001b[0m\n",
      "\u001b[1;32mINFO: Processing song: bajo el agua\u001b[0m\n",
      "\u001b[1;32mINFO: Downloading song: bajo el agua\u001b[0m\n",
      "\u001b[1;32mINFO: Successfully processed and saved song: bajo el agua\u001b[0m\n",
      "\u001b[1;32mINFO: Processing song: viernes 13\u001b[0m\n",
      "\u001b[1;32mINFO: Downloading song: viernes 13\u001b[0m\n",
      "\u001b[1;32mINFO: Successfully processed and saved song: viernes 13\u001b[0m\n",
      "\u001b[1;32mINFO: Processing song: crawling - one more light live\u001b[0m\n",
      "\u001b[1;32mINFO: Downloading song: crawling - one more light live\u001b[0m\n",
      "\u001b[1;32mINFO: Successfully processed and saved song: crawling - one more light live\u001b[0m\n",
      "\u001b[1;32mINFO: Processing song: le due finestre\u001b[0m\n",
      "\u001b[1;32mINFO: Downloading song: le due finestre\u001b[0m\n",
      "\u001b[1;32mINFO: Successfully processed and saved song: le due finestre\u001b[0m\n",
      "\u001b[1;32mINFO: Processing song: oye\u001b[0m\n",
      "\u001b[1;32mINFO: Downloading song: oye\u001b[0m\n",
      "\u001b[1;32mINFO: Successfully processed and saved song: oye\u001b[0m\n",
      "\u001b[1;32mINFO: Processing song: who's laughing now\u001b[0m\n",
      "\u001b[1;32mINFO: Downloading song: who's laughing now\u001b[0m\n",
      "\u001b[1;32mINFO: Successfully processed and saved song: who's laughing now\u001b[0m\n",
      "\u001b[1;32mINFO: Processing song: a partir de hoy\u001b[0m\n",
      "\u001b[1;32mINFO: Downloading song: a partir de hoy\u001b[0m\n",
      "\u001b[1;32mINFO: Successfully processed and saved song: a partir de hoy\u001b[0m\n",
      "\u001b[1;32mINFO: Processing song: tarde o temprano\u001b[0m\n",
      "\u001b[1;32mINFO: Downloading song: tarde o temprano\u001b[0m\n",
      "\u001b[1;32mINFO: Successfully processed and saved song: tarde o temprano\u001b[0m\n",
      "\u001b[1;32mINFO: Processing song: el secreto de las tortugas - version 2010\u001b[0m\n",
      "\u001b[1;32mINFO: Downloading song: el secreto de las tortugas - version 2010\u001b[0m\n",
      "\u001b[1;32mINFO: Successfully processed and saved song: el secreto de las tortugas - version 2010\u001b[0m\n",
      "\u001b[1;32mINFO: Processing song: ya nada volvera a ser como antes\u001b[0m\n",
      "\u001b[1;32mINFO: Downloading song: ya nada volvera a ser como antes\u001b[0m\n",
      "\u001b[1;32mINFO: Successfully processed and saved song: ya nada volvera a ser como antes\u001b[0m\n",
      "\u001b[1;32mINFO: Processing song: sin remitente\u001b[0m\n",
      "\u001b[1;32mINFO: Downloading song: sin remitente\u001b[0m\n",
      "\u001b[1;32mINFO: Successfully processed and saved song: sin remitente\u001b[0m\n",
      "\u001b[1;32mINFO: Processing song: otoño, octubre\u001b[0m\n",
      "\u001b[1;32mINFO: Downloading song: otoño, octubre\u001b[0m\n",
      "\u001b[1;32mINFO: Successfully processed and saved song: otoño, octubre\u001b[0m\n",
      "\u001b[1;32mINFO: Processing song: baile (with rozalén)\u001b[0m\n",
      "\u001b[1;32mINFO: Downloading song: baile (with rozalén)\u001b[0m\n",
      "                                                         \r"
     ]
    },
    {
     "name": "stderr",
     "output_type": "stream",
     "text": [
      "\u001b[1;33mWARNING: Lyrics not found for 'baile' by david otero using all available providers.\u001b[0m\n"
     ]
    },
    {
     "name": "stdout",
     "output_type": "stream",
     "text": [
      "\u001b[1;32mINFO: Successfully processed and saved song: baile (with rozalén)\u001b[0m\n",
      "\u001b[1;32mINFO: Processing song: daisies\u001b[0m\n",
      "\u001b[1;32mINFO: Downloading song: daisies\u001b[0m\n",
      "\u001b[1;32mINFO: Successfully processed and saved song: daisies\u001b[0m\n",
      "\u001b[1;32mINFO: Processing song: te amo\u001b[0m\n",
      "\u001b[1;32mINFO: Song te amo already downloaded, skipping download.\u001b[0m\n",
      "\u001b[1;32mINFO: Successfully processed and saved song: te amo\u001b[0m\n",
      "\u001b[1;32mINFO: Processing song: volvería\u001b[0m\n",
      "\u001b[1;32mINFO: Downloading song: volvería\u001b[0m\n",
      "                                                         \r"
     ]
    },
    {
     "name": "stderr",
     "output_type": "stream",
     "text": [
      "\u001b[1;33mWARNING: Lyrics not found for 'volvería' by marta soto using all available providers.\u001b[0m\n"
     ]
    },
    {
     "name": "stdout",
     "output_type": "stream",
     "text": [
      "\u001b[1;32mINFO: Successfully processed and saved song: volvería\u001b[0m\n",
      "\u001b[1;32mINFO: Processing song: en la puerta de al lado\u001b[0m\n",
      "\u001b[1;32mINFO: Downloading song: en la puerta de al lado\u001b[0m\n",
      "\u001b[1;32mINFO: Successfully processed and saved song: en la puerta de al lado\u001b[0m\n",
      "\u001b[1;32mINFO: Processing song: maneras de pensar\u001b[0m\n",
      "\u001b[1;32mINFO: Downloading song: maneras de pensar\u001b[0m\n",
      "                                                         \r"
     ]
    },
    {
     "name": "stderr",
     "output_type": "stream",
     "text": [
      "\u001b[1;33mWARNING: Lyrics not found for 'maneras de pensar' by david demaría using all available providers.\u001b[0m\n"
     ]
    },
    {
     "name": "stdout",
     "output_type": "stream",
     "text": [
      "\u001b[1;32mINFO: Successfully processed and saved song: maneras de pensar\u001b[0m\n",
      "\u001b[1;32mINFO: Processing song: hoy\u001b[0m\n",
      "\u001b[1;32mINFO: Downloading song: hoy\u001b[0m\n",
      "                                                         \r"
     ]
    },
    {
     "name": "stderr",
     "output_type": "stream",
     "text": [
      "\u001b[1;33mWARNING: Lyrics not found for 'hoy' by antonio orozco using all available providers.\u001b[0m\n"
     ]
    },
    {
     "name": "stdout",
     "output_type": "stream",
     "text": [
      "\u001b[1;32mINFO: Successfully processed and saved song: hoy\u001b[0m\n",
      "\u001b[1;32mINFO: Processing song: la soluzione\u001b[0m\n",
      "\u001b[1;32mINFO: Downloading song: la soluzione\u001b[0m\n",
      "\u001b[1;32mINFO: Successfully processed and saved song: la soluzione\u001b[0m\n",
      "\u001b[1;32mINFO: Processing song: como un lobo\u001b[0m\n",
      "\u001b[1;32mINFO: Downloading song: como un lobo\u001b[0m\n",
      "\u001b[1;32mINFO: Successfully processed and saved song: como un lobo\u001b[0m\n",
      "\u001b[1;32mINFO: Processing song: de qué me sirve la vida\u001b[0m\n",
      "\u001b[1;32mINFO: Downloading song: de qué me sirve la vida\u001b[0m\n",
      "\u001b[1;32mINFO: Successfully processed and saved song: de qué me sirve la vida\u001b[0m\n",
      "\u001b[1;32mINFO: Processing song: brother\u001b[0m\n",
      "\u001b[1;32mINFO: Song brother already downloaded, skipping download.\u001b[0m\n",
      "\u001b[1;32mINFO: Successfully processed and saved song: brother\u001b[0m\n",
      "\u001b[1;32mINFO: Processing song: hatefuck\u001b[0m\n",
      "\u001b[1;32mINFO: Downloading song: hatefuck\u001b[0m\n",
      "\u001b[1;32mINFO: Successfully processed and saved song: hatefuck\u001b[0m\n",
      "\u001b[1;32mINFO: Processing song: tu jardín con enanitos\u001b[0m\n",
      "\u001b[1;32mINFO: Downloading song: tu jardín con enanitos\u001b[0m\n",
      "\u001b[1;32mINFO: Successfully processed and saved song: tu jardín con enanitos\u001b[0m\n",
      "\u001b[1;32mINFO: Processing song: juntos - from \"mcfarland, usa\"/soundtrack version\u001b[0m\n",
      "\u001b[1;32mINFO: Downloading song: juntos - from \"mcfarland, usa\"/soundtrack version\u001b[0m\n"
     ]
    },
    {
     "name": "stderr",
     "output_type": "stream",
     "text": [
      "\u001b[1;31mERROR: There was an error processing song: juntos - from \"mcfarland, usa\"/soundtrack version by juanes: [Errno 2] No such file or directory: '/home/krystian/Python/Jupyter-projects/thesis/songs_analysis/playlists/final download 2/juntos - from \"mcfarland, usa\"/soundtrack version.jpg'\u001b[0m\n"
     ]
    },
    {
     "name": "stdout",
     "output_type": "stream",
     "text": [
      "\u001b[1;32mINFO: Processing song: hablemos de amor\u001b[0m\n",
      "\u001b[1;32mINFO: Downloading song: hablemos de amor\u001b[0m\n",
      "\u001b[1;32mINFO: Successfully processed and saved song: hablemos de amor\u001b[0m\n",
      "\u001b[1;32mINFO: Processing song: qué tienes tú (feat. jesús de reik & mau y ricky)\u001b[0m\n",
      "\u001b[1;32mINFO: Downloading song: qué tienes tú (feat. jesús de reik & mau y ricky)\u001b[0m\n",
      "\u001b[1;32mINFO: Successfully processed and saved song: qué tienes tú (feat. jesús de reik & mau y ricky)\u001b[0m\n",
      "\u001b[1;32mINFO: Processing song: el paso del tiempo\u001b[0m\n",
      "\u001b[1;32mINFO: Downloading song: el paso del tiempo\u001b[0m\n",
      "\u001b[1;32mINFO: Successfully processed and saved song: el paso del tiempo\u001b[0m\n",
      "\u001b[1;32mINFO: Processing song: adiós\u001b[0m\n",
      "\u001b[1;32mINFO: Downloading song: adiós\u001b[0m\n",
      "                                                         \r"
     ]
    },
    {
     "name": "stderr",
     "output_type": "stream",
     "text": [
      "\u001b[1;33mWARNING: Lyrics not found for 'adiós' by cali y el dandee using all available providers.\u001b[0m\n"
     ]
    },
    {
     "name": "stdout",
     "output_type": "stream",
     "text": [
      "\u001b[1;32mINFO: Successfully processed and saved song: adiós\u001b[0m\n",
      "\u001b[1;32mINFO: Processing song: quiero que vuelvas\u001b[0m\n",
      "\u001b[1;32mINFO: Downloading song: quiero que vuelvas\u001b[0m\n",
      "\u001b[1;32mINFO: Successfully processed and saved song: quiero que vuelvas\u001b[0m\n",
      "\u001b[1;32mINFO: Processing song: tus siete diferencias\u001b[0m\n",
      "\u001b[1;32mINFO: Downloading song: tus siete diferencias\u001b[0m\n",
      "\u001b[1;32mINFO: Successfully processed and saved song: tus siete diferencias\u001b[0m\n",
      "\u001b[1;32mINFO: Processing song: ayer te vi (feat. zoe gotusso)\u001b[0m\n",
      "\u001b[1;32mINFO: Downloading song: ayer te vi (feat. zoe gotusso)\u001b[0m\n",
      "\u001b[1;32mINFO: Successfully processed and saved song: ayer te vi (feat. zoe gotusso)\u001b[0m\n",
      "\u001b[1;32mINFO: Processing song: la pared\u001b[0m\n",
      "\u001b[1;32mINFO: Downloading song: la pared\u001b[0m\n",
      "\u001b[1;32mINFO: Successfully processed and saved song: la pared\u001b[0m\n",
      "\u001b[1;32mINFO: Processing song: ruido\u001b[0m\n",
      "\u001b[1;32mINFO: Downloading song: ruido\u001b[0m\n",
      "                                                         \r"
     ]
    },
    {
     "name": "stderr",
     "output_type": "stream",
     "text": [
      "\u001b[1;33mWARNING: Lyrics not found for 'ruido' by amaral using all available providers.\u001b[0m\n"
     ]
    },
    {
     "name": "stdout",
     "output_type": "stream",
     "text": [
      "\u001b[1;32mINFO: Successfully processed and saved song: ruido\u001b[0m\n",
      "\u001b[1;32mINFO: Processing song: un beso en madrid\u001b[0m\n",
      "\u001b[1;32mINFO: Downloading song: un beso en madrid\u001b[0m\n",
      "\u001b[1;32mINFO: Successfully processed and saved song: un beso en madrid\u001b[0m\n",
      "\u001b[1;32mINFO: Processing song: la llorona\u001b[0m\n",
      "\u001b[1;32mINFO: Downloading song: la llorona\u001b[0m\n",
      "\u001b[1;32mINFO: Successfully processed and saved song: la llorona\u001b[0m\n",
      "\u001b[1;32mINFO: Processing song: por hacerme el bueno\u001b[0m\n",
      "\u001b[1;32mINFO: Downloading song: por hacerme el bueno\u001b[0m\n",
      "\u001b[1;32mINFO: Successfully processed and saved song: por hacerme el bueno\u001b[0m\n",
      "\u001b[1;32mINFO: Processing song: oh long johnson\u001b[0m\n",
      "\u001b[1;32mINFO: Downloading song: oh long johnson\u001b[0m\n",
      "\u001b[1;32mINFO: Successfully processed and saved song: oh long johnson\u001b[0m\n",
      "\u001b[1;32mINFO: Processing song: volar\u001b[0m\n",
      "\u001b[1;32mINFO: Downloading song: volar\u001b[0m\n",
      "                                                           \r"
     ]
    },
    {
     "name": "stderr",
     "output_type": "stream",
     "text": [
      "\u001b[1;33mWARNING: Lyrics not found for 'volar' by alvaro soler using all available providers.\u001b[0m\n"
     ]
    },
    {
     "name": "stdout",
     "output_type": "stream",
     "text": [
      "\u001b[1;32mINFO: Successfully processed and saved song: volar\u001b[0m\n",
      "\u001b[1;32mINFO: Processing song: la llave\u001b[0m\n",
      "\u001b[1;32mINFO: Downloading song: la llave\u001b[0m\n",
      "\u001b[1;32mINFO: Successfully processed and saved song: la llave\u001b[0m\n",
      "\u001b[1;32mINFO: Processing song: 2018: odisea en el espacio\u001b[0m\n",
      "\u001b[1;32mINFO: Downloading song: 2018: odisea en el espacio\u001b[0m\n",
      "\u001b[1;32mINFO: Successfully processed and saved song: 2018: odisea en el espacio\u001b[0m\n",
      "\u001b[1;32mINFO: Processing song: nuits d'été\u001b[0m\n",
      "\u001b[1;32mINFO: Downloading song: nuits d'été\u001b[0m\n",
      "\u001b[1;32mINFO: Successfully processed and saved song: nuits d'été\u001b[0m\n",
      "\u001b[1;32mINFO: Processing song: changes\u001b[0m\n",
      "\u001b[1;32mINFO: Downloading song: changes\u001b[0m\n",
      "\u001b[1;32mINFO: Successfully processed and saved song: changes\u001b[0m\n",
      "\u001b[1;32mINFO: Processing song: big in japan\u001b[0m\n",
      "\u001b[1;32mINFO: Downloading song: big in japan\u001b[0m\n",
      "\u001b[1;32mINFO: Successfully processed and saved song: big in japan\u001b[0m\n",
      "\u001b[1;32mINFO: Processing song: hielo t\u001b[0m\n",
      "\u001b[1;32mINFO: Downloading song: hielo t\u001b[0m\n",
      "\u001b[1;32mINFO: Successfully processed and saved song: hielo t\u001b[0m\n",
      "\u001b[1;32mINFO: Processing song: átomos dispersos\u001b[0m\n",
      "\u001b[1;32mINFO: Downloading song: átomos dispersos\u001b[0m\n",
      "\u001b[1;32mINFO: Successfully processed and saved song: átomos dispersos\u001b[0m\n",
      "\u001b[1;32mINFO: Processing song: boda real - demo\u001b[0m\n",
      "\u001b[1;32mINFO: Downloading song: boda real - demo\u001b[0m\n",
      "                                                         \r"
     ]
    },
    {
     "name": "stderr",
     "output_type": "stream",
     "text": [
      "\u001b[1;33mWARNING: Lyrics not found for 'boda real' by miss caffeina using all available providers.\u001b[0m\n"
     ]
    },
    {
     "name": "stdout",
     "output_type": "stream",
     "text": [
      "\u001b[1;32mINFO: Successfully processed and saved song: boda real - demo\u001b[0m\n",
      "\u001b[1;32mINFO: Processing song: el gran temblor\u001b[0m\n",
      "\u001b[1;32mINFO: Downloading song: el gran temblor\u001b[0m\n",
      "\u001b[1;32mINFO: Successfully processed and saved song: el gran temblor\u001b[0m\n",
      "\u001b[1;32mINFO: Processing song: cola de pez (fuego) [feat. javiera mena y la casa azul]\u001b[0m\n",
      "\u001b[1;32mINFO: Downloading song: cola de pez (fuego) [feat. javiera mena y la casa azul]\u001b[0m\n",
      "\u001b[1;32mINFO: Successfully processed and saved song: cola de pez (fuego) [feat. javiera mena y la casa azul]\u001b[0m\n",
      "\u001b[1;32mINFO: Processing song: merlí\u001b[0m\n",
      "\u001b[1;32mINFO: Downloading song: merlí\u001b[0m\n",
      "                                                         \r"
     ]
    },
    {
     "name": "stderr",
     "output_type": "stream",
     "text": [
      "\u001b[1;33mWARNING: Lyrics not found for 'merlí' by miss caffeina using all available providers.\u001b[0m\n"
     ]
    },
    {
     "name": "stdout",
     "output_type": "stream",
     "text": [
      "\u001b[1;32mINFO: Successfully processed and saved song: merlí\u001b[0m\n",
      "\u001b[1;32mINFO: Processing song: mira cómo vuelo\u001b[0m\n",
      "\u001b[1;32mINFO: Downloading song: mira cómo vuelo\u001b[0m\n",
      "\u001b[1;32mINFO: Successfully processed and saved song: mira cómo vuelo\u001b[0m\n",
      "\u001b[1;32mINFO: Processing song: si tú existieras\u001b[0m\n",
      "\u001b[1;32mINFO: Downloading song: si tú existieras\u001b[0m\n",
      "\u001b[1;32mINFO: Successfully processed and saved song: si tú existieras\u001b[0m\n",
      "\u001b[1;32mINFO: Processing song: en guerra\u001b[0m\n",
      "\u001b[1;32mINFO: Downloading song: en guerra\u001b[0m\n",
      "                                                         \r"
     ]
    },
    {
     "name": "stderr",
     "output_type": "stream",
     "text": [
      "\u001b[1;33mWARNING: Lyrics not found for 'en guerra' by sebastian yatra using all available providers.\u001b[0m\n"
     ]
    },
    {
     "name": "stdout",
     "output_type": "stream",
     "text": [
      "\u001b[1;32mINFO: Successfully processed and saved song: en guerra\u001b[0m\n",
      "\u001b[1;32mINFO: Processing song: la libertad\u001b[0m\n",
      "\u001b[1;32mINFO: Downloading song: la libertad\u001b[0m\n",
      "\u001b[1;32mINFO: Successfully processed and saved song: la libertad\u001b[0m\n",
      "\u001b[1;32mINFO: Processing song: el mismo sol\u001b[0m\n",
      "\u001b[1;32mINFO: Downloading song: el mismo sol\u001b[0m\n",
      "\u001b[1;32mINFO: Successfully processed and saved song: el mismo sol\u001b[0m\n",
      "\u001b[1;32mINFO: Processing song: un año\u001b[0m\n",
      "\u001b[1;32mINFO: Downloading song: un año\u001b[0m\n",
      "                                                         \r"
     ]
    },
    {
     "name": "stderr",
     "output_type": "stream",
     "text": [
      "\u001b[1;33mWARNING: Lyrics not found for 'un año' by sebastian yatra using all available providers.\u001b[0m\n"
     ]
    },
    {
     "name": "stdout",
     "output_type": "stream",
     "text": [
      "\u001b[1;32mINFO: Successfully processed and saved song: un año\u001b[0m\n",
      "\u001b[1;32mINFO: Processing song: con los pies en el suelo\u001b[0m\n",
      "\u001b[1;32mINFO: Downloading song: con los pies en el suelo\u001b[0m\n",
      "\u001b[1;32mINFO: Successfully processed and saved song: con los pies en el suelo\u001b[0m\n",
      "\u001b[1;32mINFO: Processing song: let me\u001b[0m\n",
      "\u001b[1;32mINFO: Downloading song: let me\u001b[0m\n",
      "\u001b[1;32mINFO: Successfully processed and saved song: let me\u001b[0m\n",
      "\u001b[1;32mINFO: Processing song: la femme idéale\u001b[0m\n",
      "\u001b[1;32mINFO: Downloading song: la femme idéale\u001b[0m\n",
      "\u001b[1;32mINFO: Successfully processed and saved song: la femme idéale\u001b[0m\n",
      "\u001b[1;32mINFO: Processing song: élodie\u001b[0m\n",
      "\u001b[1;32mINFO: Downloading song: élodie\u001b[0m\n",
      "                                                         \r"
     ]
    },
    {
     "name": "stderr",
     "output_type": "stream",
     "text": [
      "\u001b[1;33mWARNING: Lyrics not found for 'élodie' by ben mazué using all available providers.\u001b[0m\n"
     ]
    },
    {
     "name": "stdout",
     "output_type": "stream",
     "text": [
      "\u001b[1;32mINFO: Successfully processed and saved song: élodie\u001b[0m\n",
      "\u001b[1;32mINFO: Processing song: j'attends\u001b[0m\n",
      "\u001b[1;32mINFO: Downloading song: j'attends\u001b[0m\n",
      "\u001b[1;32mINFO: Successfully processed and saved song: j'attends\u001b[0m\n",
      "\u001b[1;32mINFO: Processing song: mr/mme\u001b[0m\n",
      "\u001b[1;32mINFO: Downloading song: mr/mme\u001b[0m\n"
     ]
    },
    {
     "name": "stderr",
     "output_type": "stream",
     "text": [
      "\u001b[1;31mERROR: There was an error processing song: mr/mme by loïc nottet: [Errno 2] No such file or directory: '/home/krystian/Python/Jupyter-projects/thesis/songs_analysis/playlists/final download 2/mr/mme.jpg'\u001b[0m\n"
     ]
    },
    {
     "name": "stdout",
     "output_type": "stream",
     "text": [
      "\u001b[1;32mINFO: Processing song: enjoy your life\u001b[0m\n",
      "\u001b[1;32mINFO: Downloading song: enjoy your life\u001b[0m\n",
      "\u001b[1;32mINFO: Successfully processed and saved song: enjoy your life\u001b[0m\n",
      "\u001b[1;32mINFO: Processing song: orange trees\u001b[0m\n",
      "\u001b[1;32mINFO: Downloading song: orange trees\u001b[0m\n",
      "\u001b[1;32mINFO: Successfully processed and saved song: orange trees\u001b[0m\n",
      "\u001b[1;32mINFO: Processing song: believe in love\u001b[0m\n",
      "\u001b[1;32mINFO: Downloading song: believe in love\u001b[0m\n",
      "\u001b[1;32mINFO: Successfully processed and saved song: believe in love\u001b[0m\n",
      "\u001b[1;32mINFO: Processing song: no more suckers\u001b[0m\n",
      "\u001b[1;32mINFO: Downloading song: no more suckers\u001b[0m\n",
      "\u001b[1;32mINFO: Successfully processed and saved song: no more suckers\u001b[0m\n",
      "\u001b[1;32mINFO: Processing song: you\u001b[0m\n",
      "\u001b[1;32mINFO: Downloading song: you\u001b[0m\n",
      "                                                           \r"
     ]
    },
    {
     "name": "stderr",
     "output_type": "stream",
     "text": [
      "\u001b[1;33mWARNING: Lyrics not found for 'you' by marina using all available providers.\u001b[0m\n"
     ]
    },
    {
     "name": "stdout",
     "output_type": "stream",
     "text": [
      "\u001b[1;32mINFO: Successfully processed and saved song: you\u001b[0m\n",
      "\u001b[1;32mINFO: Processing song: handmade heaven\u001b[0m\n",
      "\u001b[1;32mINFO: Downloading song: handmade heaven\u001b[0m\n",
      "\u001b[1;32mINFO: Successfully processed and saved song: handmade heaven\u001b[0m\n",
      "\u001b[1;32mINFO: Processing song: to be human\u001b[0m\n",
      "\u001b[1;32mINFO: Downloading song: to be human\u001b[0m\n",
      "\u001b[1;32mINFO: Successfully processed and saved song: to be human\u001b[0m\n",
      "\u001b[1;32mINFO: Processing song: day in, day out\u001b[0m\n",
      "\u001b[1;32mINFO: Downloading song: day in, day out\u001b[0m\n",
      "                                                         \r"
     ]
    },
    {
     "name": "stderr",
     "output_type": "stream",
     "text": [
      "\u001b[1;33mWARNING: Lyrics not found for 'day in, day out' by jr jr using all available providers.\u001b[0m\n"
     ]
    },
    {
     "name": "stdout",
     "output_type": "stream",
     "text": [
      "\u001b[1;32mINFO: Successfully processed and saved song: day in, day out\u001b[0m\n",
      "\u001b[1;32mINFO: Processing song: the other side of paradise\u001b[0m\n",
      "\u001b[1;32mINFO: Downloading song: the other side of paradise\u001b[0m\n",
      "\u001b[1;32mINFO: Successfully processed and saved song: the other side of paradise\u001b[0m\n",
      "\u001b[1;32mINFO: Processing song: poplar st\u001b[0m\n",
      "\u001b[1;32mINFO: Downloading song: poplar st\u001b[0m\n",
      "\u001b[1;32mINFO: Successfully processed and saved song: poplar st\u001b[0m\n",
      "\u001b[1;32mINFO: Processing song: take a slice\u001b[0m\n",
      "\u001b[1;32mINFO: Downloading song: take a slice\u001b[0m\n",
      "\u001b[1;32mINFO: Successfully processed and saved song: take a slice\u001b[0m\n",
      "\u001b[1;32mINFO: Processing song: mama's gun\u001b[0m\n",
      "\u001b[1;32mINFO: Downloading song: mama's gun\u001b[0m\n",
      "\u001b[1;32mINFO: Successfully processed and saved song: mama's gun\u001b[0m\n",
      "\u001b[1;32mINFO: Processing song: season 2 episode 3\u001b[0m\n",
      "\u001b[1;32mINFO: Downloading song: season 2 episode 3\u001b[0m\n",
      "\u001b[1;32mINFO: Successfully processed and saved song: season 2 episode 3\u001b[0m\n",
      "\u001b[1;32mINFO: Processing song: agnes\u001b[0m\n",
      "\u001b[1;32mINFO: Downloading song: agnes\u001b[0m\n",
      "\u001b[1;32mINFO: Successfully processed and saved song: agnes\u001b[0m\n",
      "\u001b[1;32mINFO: Processing song: your love (deja vu) - stripped back\u001b[0m\n",
      "\u001b[1;32mINFO: Downloading song: your love (deja vu) - stripped back\u001b[0m\n",
      "                                                         \r"
     ]
    },
    {
     "name": "stderr",
     "output_type": "stream",
     "text": [
      "\u001b[1;33mWARNING: Lyrics not found for 'your love' by glass animals using all available providers.\u001b[0m\n"
     ]
    },
    {
     "name": "stdout",
     "output_type": "stream",
     "text": [
      "\u001b[1;32mINFO: Successfully processed and saved song: your love (deja vu) - stripped back\u001b[0m\n",
      "\u001b[1;32mINFO: Processing song: tangerine\u001b[0m\n",
      "\u001b[1;32mINFO: Downloading song: tangerine\u001b[0m\n",
      "\u001b[1;32mINFO: Successfully processed and saved song: tangerine\u001b[0m\n",
      "\u001b[1;32mINFO: Processing song: melon and the coconut\u001b[0m\n",
      "\u001b[1;32mINFO: Downloading song: melon and the coconut\u001b[0m\n",
      "\u001b[1;32mINFO: Successfully processed and saved song: melon and the coconut\u001b[0m\n",
      "\u001b[1;32mINFO: Processing song: your love (déjà vu)\u001b[0m\n",
      "\u001b[1;32mINFO: Downloading song: your love (déjà vu)\u001b[0m\n",
      "                                                           \r"
     ]
    },
    {
     "name": "stderr",
     "output_type": "stream",
     "text": [
      "\u001b[1;33mWARNING: Lyrics not found for 'your love' by glass animals using all available providers.\u001b[0m\n"
     ]
    },
    {
     "name": "stdout",
     "output_type": "stream",
     "text": [
      "\u001b[1;32mINFO: Successfully processed and saved song: your love (déjà vu)\u001b[0m\n",
      "\u001b[1;32mINFO: Processing song: waterfalls coming out your mouth\u001b[0m\n",
      "\u001b[1;32mINFO: Downloading song: waterfalls coming out your mouth\u001b[0m\n",
      "\u001b[1;32mINFO: Successfully processed and saved song: waterfalls coming out your mouth\u001b[0m\n",
      "\u001b[1;32mINFO: Processing song: dreamland\u001b[0m\n",
      "\u001b[1;32mINFO: Downloading song: dreamland\u001b[0m\n",
      "\u001b[1;32mINFO: Successfully processed and saved song: dreamland\u001b[0m\n",
      "\u001b[1;32mINFO: Processing song: helium\u001b[0m\n",
      "\u001b[1;32mINFO: Downloading song: helium\u001b[0m\n",
      "\u001b[1;32mINFO: Successfully processed and saved song: helium\u001b[0m\n",
      "\u001b[1;32mINFO: Processing song: heat waves - stripped back\u001b[0m\n",
      "\u001b[1;32mINFO: Downloading song: heat waves - stripped back\u001b[0m\n",
      "\u001b[1;32mINFO: Successfully processed and saved song: heat waves - stripped back\u001b[0m\n",
      "\u001b[1;32mINFO: Processing song: głos\u001b[0m\n",
      "\u001b[1;32mINFO: Downloading song: głos\u001b[0m\n",
      "                                                           \r"
     ]
    },
    {
     "name": "stderr",
     "output_type": "stream",
     "text": [
      "\u001b[1;33mWARNING: Lyrics not found for 'głos' by perfect using all available providers.\u001b[0m\n"
     ]
    },
    {
     "name": "stdout",
     "output_type": "stream",
     "text": [
      "\u001b[1;32mINFO: Successfully processed and saved song: głos\u001b[0m\n",
      "\u001b[1;32mINFO: Processing song: don't close the drive in\u001b[0m\n",
      "\u001b[1;32mINFO: Downloading song: don't close the drive in\u001b[0m\n",
      "                                                         \r"
     ]
    },
    {
     "name": "stderr",
     "output_type": "stream",
     "text": [
      "\u001b[1;33mWARNING: Lyrics not found for 'don't close the drive in' by butch tavares using all available providers.\u001b[0m\n"
     ]
    },
    {
     "name": "stdout",
     "output_type": "stream",
     "text": [
      "\u001b[1;32mINFO: Successfully processed and saved song: don't close the drive in\u001b[0m\n",
      "\u001b[1;32mINFO: Processing song: el lazo\u001b[0m\n",
      "\u001b[1;32mINFO: Downloading song: el lazo\u001b[0m\n",
      "\u001b[1;32mINFO: Successfully processed and saved song: el lazo\u001b[0m\n",
      "\u001b[1;32mINFO: Processing song: clarity\u001b[0m\n",
      "\u001b[1;32mINFO: Downloading song: clarity\u001b[0m\n",
      "\u001b[1;32mINFO: Successfully processed and saved song: clarity\u001b[0m\n",
      "\u001b[1;32mINFO: Processing song: veins\u001b[0m\n",
      "\u001b[1;32mINFO: Downloading song: veins\u001b[0m\n",
      "\u001b[1;32mINFO: Successfully processed and saved song: veins\u001b[0m\n",
      "\u001b[1;32mINFO: Processing song: amnesia\u001b[0m\n",
      "\u001b[1;32mINFO: Downloading song: amnesia\u001b[0m\n",
      "\u001b[1;32mINFO: Successfully processed and saved song: amnesia\u001b[0m\n",
      "\u001b[1;32mINFO: Processing song: if i had a gun...\u001b[0m\n",
      "\u001b[1;32mINFO: Downloading song: if i had a gun...\u001b[0m\n",
      "\u001b[1;32mINFO: Successfully processed and saved song: if i had a gun...\u001b[0m\n",
      "\u001b[1;32mINFO: Processing song: stealing life\u001b[0m\n",
      "\u001b[1;32mINFO: Downloading song: stealing life\u001b[0m\n",
      "\u001b[1;32mINFO: Successfully processed and saved song: stealing life\u001b[0m\n",
      "\u001b[1;32mINFO: Processing song: uninvited\u001b[0m\n",
      "\u001b[1;32mINFO: Downloading song: uninvited\u001b[0m\n",
      "\u001b[1;32mINFO: Successfully processed and saved song: uninvited\u001b[0m\n",
      "\u001b[1;32mINFO: Processing song: fascination\u001b[0m\n",
      "\u001b[1;32mINFO: Downloading song: fascination\u001b[0m\n",
      "\u001b[1;32mINFO: Successfully processed and saved song: fascination\u001b[0m\n",
      "\u001b[1;32mINFO: Processing song: papierowe skrzydła\u001b[0m\n",
      "\u001b[1;32mINFO: Downloading song: papierowe skrzydła\u001b[0m\n",
      "\u001b[1;32mINFO: Successfully processed and saved song: papierowe skrzydła\u001b[0m\n",
      "\u001b[1;32mINFO: Processing song: dla ciebie\u001b[0m\n",
      "\u001b[1;32mINFO: Downloading song: dla ciebie\u001b[0m\n",
      "\u001b[1;32mINFO: Successfully processed and saved song: dla ciebie\u001b[0m\n",
      "\u001b[1;32mINFO: Processing song: nienawiść\u001b[0m\n",
      "\u001b[1;32mINFO: Downloading song: nienawiść\u001b[0m\n",
      "\u001b[1;32mINFO: Successfully processed and saved song: nienawiść\u001b[0m\n",
      "\u001b[1;32mINFO: Processing song: my type\u001b[0m\n",
      "\u001b[1;32mINFO: Downloading song: my type\u001b[0m\n",
      "\u001b[1;32mINFO: Successfully processed and saved song: my type\u001b[0m\n",
      "\u001b[1;32mINFO: Processing song: battle symphony\u001b[0m\n",
      "\u001b[1;32mINFO: Downloading song: battle symphony\u001b[0m\n",
      "\u001b[1;32mINFO: Successfully processed and saved song: battle symphony\u001b[0m\n",
      "\u001b[1;32mINFO: Processing song: the love club\u001b[0m\n",
      "\u001b[1;32mINFO: Downloading song: the love club\u001b[0m\n",
      "\u001b[1;32mINFO: Successfully processed and saved song: the love club\u001b[0m\n",
      "\u001b[1;32mINFO: Processing song: supercut\u001b[0m\n",
      "\u001b[1;32mINFO: Downloading song: supercut\u001b[0m\n",
      "\u001b[1;32mINFO: Successfully processed and saved song: supercut\u001b[0m\n",
      "\u001b[1;32mINFO: Processing song: 400 lux\u001b[0m\n",
      "\u001b[1;32mINFO: Downloading song: 400 lux\u001b[0m\n",
      "\u001b[1;32mINFO: Successfully processed and saved song: 400 lux\u001b[0m\n",
      "\u001b[1;32mINFO: Processing song: bravado\u001b[0m\n",
      "\u001b[1;32mINFO: Downloading song: bravado\u001b[0m\n",
      "\u001b[1;32mINFO: Successfully processed and saved song: bravado\u001b[0m\n",
      "\u001b[1;32mINFO: Processing song: homemade dynamite\u001b[0m\n",
      "\u001b[1;32mINFO: Downloading song: homemade dynamite\u001b[0m\n",
      "\u001b[1;32mINFO: Successfully processed and saved song: homemade dynamite\u001b[0m\n",
      "\u001b[1;32mINFO: Processing song: glory and gore\u001b[0m\n",
      "\u001b[1;32mINFO: Downloading song: glory and gore\u001b[0m\n",
      "\u001b[1;32mINFO: Successfully processed and saved song: glory and gore\u001b[0m\n",
      "\u001b[1;32mINFO: Processing song: team\u001b[0m\n",
      "\u001b[1;32mINFO: Downloading song: team\u001b[0m\n",
      "\u001b[1;32mINFO: Successfully processed and saved song: team\u001b[0m\n",
      "\u001b[1;32mINFO: Processing song: liability\u001b[0m\n",
      "\u001b[1;32mINFO: Downloading song: liability\u001b[0m\n",
      "\u001b[1;32mINFO: Successfully processed and saved song: liability\u001b[0m\n",
      "\u001b[1;32mINFO: Processing song: green light\u001b[0m\n",
      "\u001b[1;32mINFO: Downloading song: green light\u001b[0m\n",
      "\u001b[1;32mINFO: Successfully processed and saved song: green light\u001b[0m\n",
      "\u001b[1;32mINFO: Processing song: la vuelta al mundo\u001b[0m\n",
      "\u001b[1;32mINFO: Downloading song: la vuelta al mundo\u001b[0m\n",
      "\u001b[1;32mINFO: Successfully processed and saved song: la vuelta al mundo\u001b[0m\n",
      "\u001b[1;32mINFO: Processing song: buzzcut season\u001b[0m\n",
      "\u001b[1;32mINFO: Downloading song: buzzcut season\u001b[0m\n",
      "\u001b[1;32mINFO: Successfully processed and saved song: buzzcut season\u001b[0m\n",
      "\u001b[1;32mINFO: Processing song: screen\u001b[0m\n",
      "\u001b[1;32mINFO: Downloading song: screen\u001b[0m\n",
      "\u001b[1;32mINFO: Successfully processed and saved song: screen\u001b[0m\n",
      "\u001b[1;32mINFO: Processing song: youth\u001b[0m\n",
      "\u001b[1;32mINFO: Song youth already downloaded, skipping download.\u001b[0m\n",
      "\u001b[1;32mINFO: Successfully processed and saved song: youth\u001b[0m\n",
      "\u001b[1;32mINFO: Processing song: happens to the heart\u001b[0m\n",
      "\u001b[1;32mINFO: Downloading song: happens to the heart\u001b[0m\n",
      "\u001b[1;32mINFO: Successfully processed and saved song: happens to the heart\u001b[0m\n",
      "\u001b[1;32mINFO: Processing song: no hay nadie más\u001b[0m\n",
      "\u001b[1;32mINFO: Downloading song: no hay nadie más\u001b[0m\n",
      "                                                         \r"
     ]
    },
    {
     "name": "stderr",
     "output_type": "stream",
     "text": [
      "\u001b[1;33mWARNING: Lyrics not found for 'no hay nadie más' by sebastian yatra using all available providers.\u001b[0m\n"
     ]
    },
    {
     "name": "stdout",
     "output_type": "stream",
     "text": [
      "\u001b[1;32mINFO: Successfully processed and saved song: no hay nadie más\u001b[0m\n",
      "\u001b[1;32mINFO: Processing song: maybe\u001b[0m\n",
      "\u001b[1;32mINFO: Downloading song: maybe\u001b[0m\n",
      "\u001b[1;32mINFO: Successfully processed and saved song: maybe\u001b[0m\n",
      "\u001b[1;32mINFO: Processing song: consejo de sabios\u001b[0m\n",
      "\u001b[1;32mINFO: Downloading song: consejo de sabios\u001b[0m\n",
      "\u001b[1;32mINFO: Successfully processed and saved song: consejo de sabios\u001b[0m\n",
      "\u001b[1;32mINFO: Processing song: day by day\u001b[0m\n",
      "\u001b[1;32mINFO: Downloading song: day by day\u001b[0m\n",
      "                                                         \r"
     ]
    },
    {
     "name": "stderr",
     "output_type": "stream",
     "text": [
      "\u001b[1;33mWARNING: Lyrics not found for 'day by day' by powderfinger using all available providers.\u001b[0m\n"
     ]
    },
    {
     "name": "stdout",
     "output_type": "stream",
     "text": [
      "\u001b[1;32mINFO: Successfully processed and saved song: day by day\u001b[0m\n",
      "\u001b[1;32mINFO: Processing song: whatever you like (single version)\u001b[0m\n",
      "\u001b[1;32mINFO: Downloading song: whatever you like (single version)\u001b[0m\n",
      "\u001b[1;32mINFO: Successfully processed and saved song: whatever you like (single version)\u001b[0m\n",
      "\u001b[1;32mINFO: Processing song: respirar\u001b[0m\n",
      "\u001b[1;32mINFO: Downloading song: respirar\u001b[0m\n",
      "\u001b[1;32mINFO: Successfully processed and saved song: respirar\u001b[0m\n",
      "\u001b[1;32mINFO: Processing song: i gave you all\u001b[0m\n",
      "\u001b[1;32mINFO: Downloading song: i gave you all\u001b[0m\n",
      "\u001b[1;32mINFO: Successfully processed and saved song: i gave you all\u001b[0m\n",
      "\u001b[1;32mINFO: Processing song: ese no sé qué\u001b[0m\n",
      "\u001b[1;32mINFO: Downloading song: ese no sé qué\u001b[0m\n",
      "                                                         \r"
     ]
    },
    {
     "name": "stderr",
     "output_type": "stream",
     "text": [
      "\u001b[1;33mWARNING: Lyrics not found for 'ese no sé qué' by caztro using all available providers.\u001b[0m\n"
     ]
    },
    {
     "name": "stdout",
     "output_type": "stream",
     "text": [
      "\u001b[1;32mINFO: Successfully processed and saved song: ese no sé qué\u001b[0m\n",
      "\u001b[1;32mINFO: Processing song: our revels\u001b[0m\n",
      "\u001b[1;32mINFO: Downloading song: our revels\u001b[0m\n",
      "                                                         \r"
     ]
    },
    {
     "name": "stderr",
     "output_type": "stream",
     "text": [
      "\u001b[1;33mWARNING: Lyrics not found for 'our revels' by carter burwell using all available providers.\u001b[0m\n"
     ]
    },
    {
     "name": "stdout",
     "output_type": "stream",
     "text": [
      "\u001b[1;32mINFO: Successfully processed and saved song: our revels\u001b[0m\n",
      "\u001b[1;32mINFO: Processing song: the oregon trail\u001b[0m\n",
      "\u001b[1;32mINFO: Downloading song: the oregon trail\u001b[0m\n",
      "                                                         \r"
     ]
    },
    {
     "name": "stderr",
     "output_type": "stream",
     "text": [
      "\u001b[1;33mWARNING: Lyrics not found for 'the oregon trail' by carter burwell using all available providers.\u001b[0m\n"
     ]
    },
    {
     "name": "stdout",
     "output_type": "stream",
     "text": [
      "\u001b[1;32mINFO: Successfully processed and saved song: the oregon trail\u001b[0m\n",
      "\u001b[1;32mINFO: Processing song: certainty\u001b[0m\n",
      "\u001b[1;32mINFO: Downloading song: certainty\u001b[0m\n",
      "                                                         \r"
     ]
    },
    {
     "name": "stderr",
     "output_type": "stream",
     "text": [
      "\u001b[1;33mWARNING: Lyrics not found for 'certainty' by carter burwell using all available providers.\u001b[0m\n"
     ]
    },
    {
     "name": "stdout",
     "output_type": "stream",
     "text": [
      "\u001b[1;32mINFO: Successfully processed and saved song: certainty\u001b[0m\n",
      "\u001b[1;32mINFO: Processing song: the book\u001b[0m\n",
      "\u001b[1;32mINFO: Downloading song: the book\u001b[0m\n",
      "                                                         \r"
     ]
    },
    {
     "name": "stderr",
     "output_type": "stream",
     "text": [
      "\u001b[1;33mWARNING: Lyrics not found for 'the book' by carter burwell using all available providers.\u001b[0m\n"
     ]
    },
    {
     "name": "stdout",
     "output_type": "stream",
     "text": [
      "\u001b[1;32mINFO: Successfully processed and saved song: the book\u001b[0m\n",
      "\u001b[1;32mINFO: Processing song: the wingless thrush\u001b[0m\n",
      "\u001b[1;32mINFO: Downloading song: the wingless thrush\u001b[0m\n",
      "                                                         \r"
     ]
    },
    {
     "name": "stderr",
     "output_type": "stream",
     "text": [
      "\u001b[1;33mWARNING: Lyrics not found for 'the wingless thrush' by carter burwell using all available providers.\u001b[0m\n"
     ]
    },
    {
     "name": "stdout",
     "output_type": "stream",
     "text": [
      "\u001b[1;32mINFO: Successfully processed and saved song: the wingless thrush\u001b[0m\n",
      "\u001b[1;32mINFO: Processing song: unmarked grave\u001b[0m\n",
      "\u001b[1;32mINFO: Downloading song: unmarked grave\u001b[0m\n",
      "                                                         \r"
     ]
    },
    {
     "name": "stderr",
     "output_type": "stream",
     "text": [
      "\u001b[1;33mWARNING: Lyrics not found for 'unmarked grave' by carter burwell using all available providers.\u001b[0m\n"
     ]
    },
    {
     "name": "stdout",
     "output_type": "stream",
     "text": [
      "\u001b[1;32mINFO: Successfully processed and saved song: unmarked grave\u001b[0m\n",
      "\u001b[1;32mINFO: Processing song: the unfortunate lad\u001b[0m\n",
      "\u001b[1;32mINFO: Downloading song: the unfortunate lad\u001b[0m\n",
      "\u001b[1;32mINFO: Successfully processed and saved song: the unfortunate lad\u001b[0m\n",
      "\u001b[1;32mINFO: Processing song: when a cowboy trades his spurs for wings\u001b[0m\n",
      "\u001b[1;32mINFO: Downloading song: when a cowboy trades his spurs for wings\u001b[0m\n",
      "\u001b[1;32mINFO: Successfully processed and saved song: when a cowboy trades his spurs for wings\u001b[0m\n",
      "\u001b[1;32mINFO: Processing song: cool water\u001b[0m\n",
      "\u001b[1;32mINFO: Downloading song: cool water\u001b[0m\n",
      "\u001b[1;32mINFO: Successfully processed and saved song: cool water\u001b[0m\n",
      "\u001b[1;32mINFO: Processing song: the end of buster scruggs\u001b[0m\n",
      "\u001b[1;32mINFO: Downloading song: the end of buster scruggs\u001b[0m\n",
      "                                                         \r"
     ]
    },
    {
     "name": "stderr",
     "output_type": "stream",
     "text": [
      "\u001b[1;33mWARNING: Lyrics not found for 'the end of buster scruggs' by carter burwell using all available providers.\u001b[0m\n"
     ]
    },
    {
     "name": "stdout",
     "output_type": "stream",
     "text": [
      "\u001b[1;32mINFO: Successfully processed and saved song: the end of buster scruggs\u001b[0m\n",
      "\u001b[1;32mINFO: Processing song: she found the portal\u001b[0m\n",
      "\u001b[1;32mINFO: Downloading song: she found the portal\u001b[0m\n",
      "                                                         \r"
     ]
    },
    {
     "name": "stderr",
     "output_type": "stream",
     "text": [
      "\u001b[1;33mWARNING: Lyrics not found for 'she found the portal' by thomas andersen using all available providers.\u001b[0m\n"
     ]
    },
    {
     "name": "stdout",
     "output_type": "stream",
     "text": [
      "\u001b[1;32mINFO: Successfully processed and saved song: she found the portal\u001b[0m\n",
      "\u001b[1;32mINFO: Processing song: listen to your heart\u001b[0m\n",
      "\u001b[1;32mINFO: Downloading song: listen to your heart\u001b[0m\n",
      "\u001b[1;32mINFO: Successfully processed and saved song: listen to your heart\u001b[0m\n",
      "\u001b[1;32mINFO: Processing song: la puerta violeta\u001b[0m\n",
      "\u001b[1;32mINFO: Downloading song: la puerta violeta\u001b[0m\n",
      "\u001b[1;32mINFO: Successfully processed and saved song: la puerta violeta\u001b[0m\n",
      "\u001b[1;32mINFO: Processing song: amor clandestino\u001b[0m\n",
      "\u001b[1;32mINFO: Downloading song: amor clandestino\u001b[0m\n",
      "\u001b[1;32mINFO: Successfully processed and saved song: amor clandestino\u001b[0m\n",
      "\u001b[1;32mINFO: Processing song: recuérdame (reencuentro)\u001b[0m\n",
      "\u001b[1;32mINFO: Downloading song: recuérdame (reencuentro)\u001b[0m\n",
      "\u001b[1;32mINFO: Successfully processed and saved song: recuérdame (reencuentro)\u001b[0m\n",
      "\u001b[1;32mINFO: Processing song: carol quiere un viaje a londres\u001b[0m\n",
      "\u001b[1;32mINFO: Downloading song: carol quiere un viaje a londres\u001b[0m\n",
      "\u001b[1;32mINFO: Successfully processed and saved song: carol quiere un viaje a londres\u001b[0m\n",
      "\u001b[1;32mINFO: Processing song: te he echado de menos - radio edit\u001b[0m\n",
      "\u001b[1;32mINFO: Downloading song: te he echado de menos - radio edit\u001b[0m\n",
      "\u001b[1;32mINFO: Successfully processed and saved song: te he echado de menos - radio edit\u001b[0m\n",
      "\u001b[1;32mINFO: Processing song: la escalera\u001b[0m\n",
      "\u001b[1;32mINFO: Downloading song: la escalera\u001b[0m\n",
      "\u001b[1;32mINFO: Successfully processed and saved song: la escalera\u001b[0m\n",
      "\u001b[1;32mINFO: Processing song: caraluna\u001b[0m\n",
      "\u001b[1;32mINFO: Downloading song: caraluna\u001b[0m\n",
      "\u001b[1;32mINFO: Successfully processed and saved song: caraluna\u001b[0m\n",
      "\u001b[1;32mINFO: Processing song: caught in the fire\u001b[0m\n",
      "\u001b[1;32mINFO: Downloading song: caught in the fire\u001b[0m\n",
      "\u001b[1;32mINFO: Successfully processed and saved song: caught in the fire\u001b[0m\n",
      "\u001b[1;32mINFO: Processing song: lean on\u001b[0m\n",
      "\u001b[1;32mINFO: Song lean on already downloaded, skipping download.\u001b[0m\n",
      "\u001b[1;32mINFO: Successfully processed and saved song: lean on\u001b[0m\n",
      "\u001b[1;32mINFO: Processing song: el mismo aire - con pablo alborán\u001b[0m\n",
      "\u001b[1;32mINFO: Downloading song: el mismo aire - con pablo alborán\u001b[0m\n",
      "\u001b[1;32mINFO: Successfully processed and saved song: el mismo aire - con pablo alborán\u001b[0m\n",
      "\u001b[1;32mINFO: Processing song: the road to hell part 2\u001b[0m\n",
      "\u001b[1;32mINFO: Downloading song: the road to hell part 2\u001b[0m\n",
      "\u001b[1;32mINFO: Successfully processed and saved song: the road to hell part 2\u001b[0m\n",
      "\u001b[1;32mINFO: Processing song: i'm outta love\u001b[0m\n",
      "\u001b[1;32mINFO: Downloading song: i'm outta love\u001b[0m\n",
      "\u001b[1;32mINFO: Successfully processed and saved song: i'm outta love\u001b[0m\n",
      "\u001b[1;32mINFO: Processing song: beautiful madness\u001b[0m\n",
      "\u001b[1;32mINFO: Downloading song: beautiful madness\u001b[0m\n",
      "\u001b[1;32mINFO: Successfully processed and saved song: beautiful madness\u001b[0m\n",
      "\u001b[1;32mINFO: Processing song: lo mejor ya va a venir\u001b[0m\n",
      "\u001b[1;32mINFO: Downloading song: lo mejor ya va a venir\u001b[0m\n",
      "\u001b[1;32mINFO: Successfully processed and saved song: lo mejor ya va a venir\u001b[0m\n",
      "\u001b[1;32mINFO: Processing song: shadow of the day\u001b[0m\n",
      "\u001b[1;32mINFO: Downloading song: shadow of the day\u001b[0m\n",
      "\u001b[1;32mINFO: Successfully processed and saved song: shadow of the day\u001b[0m\n",
      "\u001b[1;32mINFO: Processing song: vuela\u001b[0m\n",
      "\u001b[1;32mINFO: Downloading song: vuela\u001b[0m\n",
      "                                                         \r"
     ]
    },
    {
     "name": "stderr",
     "output_type": "stream",
     "text": [
      "\u001b[1;33mWARNING: Lyrics not found for 'vuela' by paul alone using all available providers.\u001b[0m\n"
     ]
    },
    {
     "name": "stdout",
     "output_type": "stream",
     "text": [
      "\u001b[1;32mINFO: Successfully processed and saved song: vuela\u001b[0m\n",
      "\u001b[1;32mINFO: Processing song: felicidad\u001b[0m\n",
      "\u001b[1;32mINFO: Downloading song: felicidad\u001b[0m\n",
      "\u001b[1;32mINFO: Successfully processed and saved song: felicidad\u001b[0m\n",
      "\u001b[1;32mINFO: Processing song: wake up\u001b[0m\n",
      "\u001b[1;32mINFO: Song wake up already downloaded, skipping download.\u001b[0m\n",
      "\u001b[1;32mINFO: Successfully processed and saved song: wake up\u001b[0m\n",
      "\u001b[1;32mINFO: Processing song: next year\u001b[0m\n",
      "\u001b[1;32mINFO: Downloading song: next year\u001b[0m\n",
      "\u001b[1;32mINFO: Successfully processed and saved song: next year\u001b[0m\n",
      "\u001b[1;32mINFO: Processing song: la flaca (feat. juanes)\u001b[0m\n",
      "\u001b[1;32mINFO: Downloading song: la flaca (feat. juanes)\u001b[0m\n",
      "\u001b[1;32mINFO: Successfully processed and saved song: la flaca (feat. juanes)\u001b[0m\n",
      "\u001b[1;32mINFO: Processing song: leave out all the rest\u001b[0m\n",
      "\u001b[1;32mINFO: Downloading song: leave out all the rest\u001b[0m\n",
      "\u001b[1;32mINFO: Successfully processed and saved song: leave out all the rest\u001b[0m\n",
      "\u001b[1;32mINFO: Processing song: what i've done\u001b[0m\n",
      "\u001b[1;32mINFO: Downloading song: what i've done\u001b[0m\n",
      "\u001b[1;32mINFO: Successfully processed and saved song: what i've done\u001b[0m\n",
      "\u001b[1;32mINFO: Processing song: new divide\u001b[0m\n",
      "\u001b[1;32mINFO: Downloading song: new divide\u001b[0m\n",
      "\u001b[1;32mINFO: Successfully processed and saved song: new divide\u001b[0m\n",
      "\u001b[1;32mINFO: Processing song: numb\u001b[0m\n",
      "\u001b[1;32mINFO: Song numb already downloaded, skipping download.\u001b[0m\n",
      "\u001b[1;32mINFO: Successfully processed and saved song: numb\u001b[0m\n",
      "\u001b[1;32mINFO: Processing song: destino o casualidad\u001b[0m\n",
      "\u001b[1;32mINFO: Downloading song: destino o casualidad\u001b[0m\n",
      "\u001b[1;32mINFO: Successfully processed and saved song: destino o casualidad\u001b[0m\n",
      "\u001b[1;32mINFO: Processing song: maniac\u001b[0m\n",
      "\u001b[1;32mINFO: Downloading song: maniac\u001b[0m\n",
      "\u001b[1;32mINFO: Successfully processed and saved song: maniac\u001b[0m\n",
      "\u001b[1;32mINFO: Processing song: treaty\u001b[0m\n",
      "\u001b[1;32mINFO: Downloading song: treaty\u001b[0m\n",
      "\u001b[1;32mINFO: Successfully processed and saved song: treaty\u001b[0m\n",
      "\u001b[1;32mINFO: Processing song: the beast\u001b[0m\n",
      "\u001b[1;32mINFO: Downloading song: the beast\u001b[0m\n",
      "                                                         \r"
     ]
    },
    {
     "name": "stderr",
     "output_type": "stream",
     "text": [
      "\u001b[1;33mWARNING: Lyrics not found for 'the beast' by old caltone using all available providers.\u001b[0m\n"
     ]
    },
    {
     "name": "stdout",
     "output_type": "stream",
     "text": [
      "\u001b[1;32mINFO: Successfully processed and saved song: the beast\u001b[0m\n",
      "\u001b[1;32mINFO: Processing song: we come together\u001b[0m\n",
      "\u001b[1;32mINFO: Downloading song: we come together\u001b[0m\n",
      "\u001b[1;32mINFO: Successfully processed and saved song: we come together\u001b[0m\n",
      "\u001b[1;32mINFO: Processing song: can you hear me\u001b[0m\n",
      "\u001b[1;32mINFO: Downloading song: can you hear me\u001b[0m\n",
      "                                                         \r"
     ]
    },
    {
     "name": "stderr",
     "output_type": "stream",
     "text": [
      "\u001b[1;33mWARNING: Lyrics not found for 'can you hear me' by unsecret using all available providers.\u001b[0m\n"
     ]
    },
    {
     "name": "stdout",
     "output_type": "stream",
     "text": [
      "\u001b[1;32mINFO: Successfully processed and saved song: can you hear me\u001b[0m\n",
      "\u001b[1;32mINFO: Processing song: goliath\u001b[0m\n",
      "\u001b[1;32mINFO: Downloading song: goliath\u001b[0m\n",
      "\u001b[1;32mINFO: Successfully processed and saved song: goliath\u001b[0m\n",
      "\u001b[1;32mINFO: Processing song: we don't eat\u001b[0m\n",
      "\u001b[1;32mINFO: Downloading song: we don't eat\u001b[0m\n",
      "\u001b[1;32mINFO: Successfully processed and saved song: we don't eat\u001b[0m\n",
      "\u001b[1;32mINFO: Processing song: whirlwind of rubbish\u001b[0m\n",
      "\u001b[1;32mINFO: Downloading song: whirlwind of rubbish\u001b[0m\n",
      "\u001b[1;32mINFO: Successfully processed and saved song: whirlwind of rubbish\u001b[0m\n",
      "\u001b[1;32mINFO: Processing song: in the air tonight\u001b[0m\n",
      "\u001b[1;32mINFO: Song in the air tonight already downloaded, skipping download.\u001b[0m\n",
      "\u001b[1;32mINFO: Successfully processed and saved song: in the air tonight\u001b[0m\n",
      "\u001b[1;32mINFO: Processing song: feather jesus\u001b[0m\n",
      "\u001b[1;32mINFO: Downloading song: feather jesus\u001b[0m\n",
      "\u001b[1;32mINFO: Successfully processed and saved song: feather jesus\u001b[0m\n",
      "\u001b[1;32mINFO: Processing song: you want it darker\u001b[0m\n",
      "\u001b[1;32mINFO: Downloading song: you want it darker\u001b[0m\n",
      "\u001b[1;32mINFO: Successfully processed and saved song: you want it darker\u001b[0m\n",
      "\u001b[1;32mINFO: Processing song: at gunpoint\u001b[0m\n",
      "\u001b[1;32mINFO: Downloading song: at gunpoint\u001b[0m\n",
      "\u001b[1;32mINFO: Successfully processed and saved song: at gunpoint\u001b[0m\n",
      "\u001b[1;32mINFO: Processing song: it's not the same anymore\u001b[0m\n",
      "\u001b[1;32mINFO: Downloading song: it's not the same anymore\u001b[0m\n",
      "\u001b[1;32mINFO: Successfully processed and saved song: it's not the same anymore\u001b[0m\n",
      "\u001b[1;32mINFO: Processing song: am i wrong\u001b[0m\n",
      "\u001b[1;32mINFO: Downloading song: am i wrong\u001b[0m\n",
      "\u001b[1;32mINFO: Successfully processed and saved song: am i wrong\u001b[0m\n",
      "\u001b[1;32mINFO: Processing song: body\u001b[0m\n",
      "\u001b[1;32mINFO: Downloading song: body\u001b[0m\n",
      "\u001b[1;32mINFO: Successfully processed and saved song: body\u001b[0m\n",
      "\u001b[1;32mINFO: Processing song: castle of glass\u001b[0m\n",
      "\u001b[1;32mINFO: Downloading song: castle of glass\u001b[0m\n",
      "\u001b[1;32mINFO: Successfully processed and saved song: castle of glass\u001b[0m\n",
      "\u001b[1;32mINFO: Processing song: free\u001b[0m\n",
      "\u001b[1;32mINFO: Downloading song: free\u001b[0m\n",
      "\u001b[1;32mINFO: Successfully processed and saved song: free\u001b[0m\n",
      "\u001b[1;32mINFO: Processing song: business man\u001b[0m\n",
      "\u001b[1;32mINFO: Downloading song: business man\u001b[0m\n",
      "\u001b[1;32mINFO: Successfully processed and saved song: business man\u001b[0m\n",
      "\u001b[1;32mINFO: Processing song: cut the string\u001b[0m\n",
      "\u001b[1;32mINFO: Downloading song: cut the string\u001b[0m\n",
      "\u001b[1;32mINFO: Successfully processed and saved song: cut the string\u001b[0m\n",
      "\u001b[1;32mINFO: Processing song: everything is happening\u001b[0m\n",
      "\u001b[1;32mINFO: Downloading song: everything is happening\u001b[0m\n",
      "\u001b[1;32mINFO: Successfully processed and saved song: everything is happening\u001b[0m\n",
      "\u001b[1;32mINFO: Processing song: baby boy\u001b[0m\n",
      "\u001b[1;32mINFO: Downloading song: baby boy\u001b[0m\n",
      "\u001b[1;32mINFO: Successfully processed and saved song: baby boy\u001b[0m\n",
      "\u001b[1;32mINFO: Processing song: letter\u001b[0m\n",
      "\u001b[1;32mINFO: Downloading song: letter\u001b[0m\n",
      "\u001b[1;32mINFO: Successfully processed and saved song: letter\u001b[0m\n",
      "\u001b[1;32mINFO: Processing song: back in school\u001b[0m\n",
      "\u001b[1;32mINFO: Downloading song: back in school\u001b[0m\n",
      "\u001b[1;32mINFO: Successfully processed and saved song: back in school\u001b[0m\n",
      "\u001b[1;32mINFO: Processing song: love stuck\u001b[0m\n",
      "\u001b[1;32mINFO: Downloading song: love stuck\u001b[0m\n",
      "\u001b[1;32mINFO: Successfully processed and saved song: love stuck\u001b[0m\n",
      "\u001b[1;32mINFO: Processing song: keep\u001b[0m\n",
      "\u001b[1;32mINFO: Downloading song: keep\u001b[0m\n",
      "\u001b[1;32mINFO: Successfully processed and saved song: keep\u001b[0m\n",
      "\u001b[1;32mINFO: Processing song: bottom is a rock\u001b[0m\n",
      "\u001b[1;32mINFO: Downloading song: bottom is a rock\u001b[0m\n",
      "\u001b[1;32mINFO: Successfully processed and saved song: bottom is a rock\u001b[0m\n",
      "\u001b[1;32mINFO: Processing song: only love\u001b[0m\n",
      "\u001b[1;32mINFO: Downloading song: only love\u001b[0m\n",
      "\u001b[1;32mINFO: Successfully processed and saved song: only love\u001b[0m\n",
      "\u001b[1;32mINFO: Processing song: back to life\u001b[0m\n",
      "\u001b[1;32mINFO: Downloading song: back to life\u001b[0m\n",
      "\u001b[1;32mINFO: Successfully processed and saved song: back to life\u001b[0m\n",
      "\u001b[1;32mINFO: Processing song: give me back the night\u001b[0m\n",
      "\u001b[1;32mINFO: Downloading song: give me back the night\u001b[0m\n",
      "\u001b[1;32mINFO: Successfully processed and saved song: give me back the night\u001b[0m\n",
      "\u001b[1;32mINFO: Processing song: it's alright\u001b[0m\n",
      "\u001b[1;32mINFO: Downloading song: it's alright\u001b[0m\n",
      "\u001b[1;32mINFO: Successfully processed and saved song: it's alright\u001b[0m\n",
      "\u001b[1;32mINFO: Processing song: so down\u001b[0m\n",
      "\u001b[1;32mINFO: Downloading song: so down\u001b[0m\n",
      "\u001b[1;32mINFO: Successfully processed and saved song: so down\u001b[0m\n",
      "\u001b[1;32mINFO: Processing song: get up\u001b[0m\n",
      "\u001b[1;32mINFO: Downloading song: get up\u001b[0m\n",
      "\u001b[1;32mINFO: Successfully processed and saved song: get up\u001b[0m\n",
      "\u001b[1;32mINFO: Processing song: dance and cry\u001b[0m\n",
      "\u001b[1;32mINFO: Downloading song: dance and cry\u001b[0m\n",
      "\u001b[1;32mINFO: Successfully processed and saved song: dance and cry\u001b[0m\n",
      "\u001b[1;32mINFO: Processing song: i must cry out loud\u001b[0m\n",
      "\u001b[1;32mINFO: Downloading song: i must cry out loud\u001b[0m\n",
      "\u001b[1;32mINFO: Successfully processed and saved song: i must cry out loud\u001b[0m\n",
      "\u001b[1;32mINFO: Processing song: no culture\u001b[0m\n",
      "\u001b[1;32mINFO: Downloading song: no culture\u001b[0m\n",
      "\u001b[1;32mINFO: Successfully processed and saved song: no culture\u001b[0m\n",
      "\u001b[1;32mINFO: Processing song: mouth of the devil\u001b[0m\n",
      "\u001b[1;32mINFO: Downloading song: mouth of the devil\u001b[0m\n",
      "\u001b[1;32mINFO: Successfully processed and saved song: mouth of the devil\u001b[0m\n",
      "\u001b[1;32mINFO: Processing song: gdyby jutra nie było\u001b[0m\n",
      "\u001b[1;32mINFO: Downloading song: gdyby jutra nie było\u001b[0m\n",
      "                                                           \r"
     ]
    },
    {
     "name": "stderr",
     "output_type": "stream",
     "text": [
      "\u001b[1;33mWARNING: Lyrics not found for 'gdyby jutra nie było' by budka suflera using all available providers.\u001b[0m\n"
     ]
    },
    {
     "name": "stdout",
     "output_type": "stream",
     "text": [
      "\u001b[1;32mINFO: Successfully processed and saved song: gdyby jutra nie było\u001b[0m\n",
      "\u001b[1;32mINFO: Processing song: za ostatni grosz\u001b[0m\n",
      "\u001b[1;32mINFO: Downloading song: za ostatni grosz\u001b[0m\n",
      "\u001b[1;32mINFO: Successfully processed and saved song: za ostatni grosz\u001b[0m\n",
      "\u001b[1;32mINFO: Processing song: takie tango\u001b[0m\n",
      "\u001b[1;32mINFO: Downloading song: takie tango\u001b[0m\n",
      "\u001b[1;32mINFO: Successfully processed and saved song: takie tango\u001b[0m\n",
      "\u001b[1;32mINFO: Processing song: yo más te adoro\u001b[0m\n",
      "\u001b[1;32mINFO: Downloading song: yo más te adoro\u001b[0m\n",
      "\u001b[1;32mINFO: Successfully processed and saved song: yo más te adoro\u001b[0m\n",
      "\u001b[1;32mINFO: Processing song: latinoamérica (feat. totó la momposina, susana baca & maria rita)\u001b[0m\n",
      "\u001b[1;32mINFO: Downloading song: latinoamérica (feat. totó la momposina, susana baca & maria rita)\u001b[0m\n",
      "\u001b[1;32mINFO: Successfully processed and saved song: latinoamérica (feat. totó la momposina, susana baca & maria rita)\u001b[0m\n",
      "\u001b[1;32mINFO: Processing song: in the end\u001b[0m\n",
      "\u001b[1;32mINFO: Downloading song: in the end\u001b[0m\n",
      "\u001b[1;32mINFO: Successfully processed and saved song: in the end\u001b[0m\n",
      "\u001b[1;32mINFO: Processing song: nunca te olvidé\u001b[0m\n",
      "\u001b[1;32mINFO: Downloading song: nunca te olvidé\u001b[0m\n",
      "\u001b[1;32mINFO: Successfully processed and saved song: nunca te olvidé\u001b[0m\n",
      "\u001b[1;32mINFO: Processing song: mi nuevo vicio\u001b[0m\n",
      "\u001b[1;32mINFO: Downloading song: mi nuevo vicio\u001b[0m\n",
      "\u001b[1;32mINFO: Successfully processed and saved song: mi nuevo vicio\u001b[0m\n",
      "\u001b[1;32mINFO: Processing song: enamórate de alguien más\u001b[0m\n",
      "\u001b[1;32mINFO: Downloading song: enamórate de alguien más\u001b[0m\n",
      "\u001b[1;32mINFO: Successfully processed and saved song: enamórate de alguien más\u001b[0m\n",
      "\u001b[1;32mINFO: Processing song: bajo la mesa\u001b[0m\n",
      "\u001b[1;32mINFO: Downloading song: bajo la mesa\u001b[0m\n",
      "\u001b[1;32mINFO: Successfully processed and saved song: bajo la mesa\u001b[0m\n",
      "\u001b[1;32mINFO: Processing song: amor con hielo\u001b[0m\n",
      "\u001b[1;32mINFO: Downloading song: amor con hielo\u001b[0m\n",
      "\u001b[1;32mINFO: Successfully processed and saved song: amor con hielo\u001b[0m\n",
      "\u001b[1;32mINFO: Processing song: besos en guerra\u001b[0m\n",
      "\u001b[1;32mINFO: Downloading song: besos en guerra\u001b[0m\n",
      "\u001b[1;32mINFO: Successfully processed and saved song: besos en guerra\u001b[0m\n",
      "\u001b[1;32mINFO: Processing song: light years\u001b[0m\n",
      "\u001b[1;32mINFO: Downloading song: light years\u001b[0m\n",
      "\u001b[1;32mINFO: Successfully processed and saved song: light years\u001b[0m\n",
      "\u001b[1;32mINFO: Processing song: unmoved (a black woman truth)\u001b[0m\n",
      "\u001b[1;32mINFO: Downloading song: unmoved (a black woman truth)\u001b[0m\n",
      "\u001b[1;32mINFO: Successfully processed and saved song: unmoved (a black woman truth)\u001b[0m\n",
      "\u001b[1;32mINFO: Processing song: chandelier\u001b[0m\n",
      "\u001b[1;32mINFO: Downloading song: chandelier\u001b[0m\n",
      "                                                         \r"
     ]
    },
    {
     "name": "stderr",
     "output_type": "stream",
     "text": [
      "\u001b[1;33mWARNING: Lyrics not found for 'chandelier' by damien rice using all available providers.\u001b[0m\n"
     ]
    },
    {
     "name": "stdout",
     "output_type": "stream",
     "text": [
      "\u001b[1;32mINFO: Successfully processed and saved song: chandelier\u001b[0m\n",
      "\u001b[1;32mINFO: Processing song: brother\u001b[0m\n",
      "\u001b[1;32mINFO: Song brother already downloaded, skipping download.\u001b[0m\n"
     ]
    },
    {
     "name": "stderr",
     "output_type": "stream",
     "text": [
      "\u001b[1;33mWARNING: Lyrics not found for 'brother' by aaron smith using all available providers.\u001b[0m\n"
     ]
    },
    {
     "name": "stdout",
     "output_type": "stream",
     "text": [
      "\u001b[1;32mINFO: Successfully processed and saved song: brother\u001b[0m\n",
      "\u001b[1;32mINFO: Processing song: wild\u001b[0m\n",
      "\u001b[1;32mINFO: Downloading song: wild\u001b[0m\n",
      "                                                           \r"
     ]
    },
    {
     "name": "stderr",
     "output_type": "stream",
     "text": [
      "\u001b[1;33mWARNING: Lyrics not found for 'wild' by hailaker using all available providers.\u001b[0m\n"
     ]
    },
    {
     "name": "stdout",
     "output_type": "stream",
     "text": [
      "\u001b[1;32mINFO: Successfully processed and saved song: wild\u001b[0m\n",
      "\u001b[1;32mINFO: Processing song: thin\u001b[0m\n",
      "\u001b[1;32mINFO: Downloading song: thin\u001b[0m\n",
      "\u001b[1;32mINFO: Successfully processed and saved song: thin\u001b[0m\n",
      "\u001b[1;32mINFO: Processing song: lego bricks\u001b[0m\n",
      "\u001b[1;32mINFO: Downloading song: lego bricks\u001b[0m\n",
      "\u001b[1;32mINFO: Successfully processed and saved song: lego bricks\u001b[0m\n",
      "\u001b[1;32mINFO: Processing song: the place\u001b[0m\n",
      "\u001b[1;32mINFO: Downloading song: the place\u001b[0m\n",
      "                                                         \r"
     ]
    },
    {
     "name": "stderr",
     "output_type": "stream",
     "text": [
      "\u001b[1;33mWARNING: Lyrics not found for 'the place' by nnic using all available providers.\u001b[0m\n"
     ]
    },
    {
     "name": "stdout",
     "output_type": "stream",
     "text": [
      "\u001b[1;32mINFO: Successfully processed and saved song: the place\u001b[0m\n",
      "\u001b[1;32mINFO: Processing song: infinito\u001b[0m\n",
      "\u001b[1;32mINFO: Downloading song: infinito\u001b[0m\n",
      "                                                         \r"
     ]
    },
    {
     "name": "stderr",
     "output_type": "stream",
     "text": [
      "\u001b[1;33mWARNING: Lyrics not found for 'infinito' by andrés cepeda using all available providers.\u001b[0m\n"
     ]
    },
    {
     "name": "stdout",
     "output_type": "stream",
     "text": [
      "\u001b[1;32mINFO: Successfully processed and saved song: infinito\u001b[0m\n",
      "\u001b[1;32mINFO: Processing song: te voy a amar\u001b[0m\n",
      "\u001b[1;32mINFO: Downloading song: te voy a amar\u001b[0m\n",
      "\u001b[1;32mINFO: Successfully processed and saved song: te voy a amar\u001b[0m\n",
      "\u001b[1;32mINFO: Processing song: te dejo ir\u001b[0m\n",
      "\u001b[1;32mINFO: Downloading song: te dejo ir\u001b[0m\n",
      "\u001b[1;32mINFO: Successfully processed and saved song: te dejo ir\u001b[0m\n",
      "\u001b[1;32mINFO: Processing song: magia (feat. sebastián yatra)\u001b[0m\n",
      "\u001b[1;32mINFO: Downloading song: magia (feat. sebastián yatra)\u001b[0m\n",
      "                                                         \r"
     ]
    },
    {
     "name": "stderr",
     "output_type": "stream",
     "text": [
      "\u001b[1;33mWARNING: Lyrics not found for 'magia' by andrés cepeda using all available providers.\u001b[0m\n"
     ]
    },
    {
     "name": "stdout",
     "output_type": "stream",
     "text": [
      "\u001b[1;32mINFO: Successfully processed and saved song: magia (feat. sebastián yatra)\u001b[0m\n",
      "\u001b[1;32mINFO: Processing song: desesperado\u001b[0m\n",
      "\u001b[1;32mINFO: Downloading song: desesperado\u001b[0m\n",
      "\u001b[1;32mINFO: Successfully processed and saved song: desesperado\u001b[0m\n",
      "\u001b[1;32mINFO: Processing song: aprender a quererte\u001b[0m\n",
      "\u001b[1;32mINFO: Downloading song: aprender a quererte\u001b[0m\n",
      "\u001b[1;32mINFO: Successfully processed and saved song: aprender a quererte\u001b[0m\n",
      "\u001b[1;32mINFO: Processing song: éblouie par la nuit\u001b[0m\n",
      "\u001b[1;32mINFO: Downloading song: éblouie par la nuit\u001b[0m\n",
      "\u001b[1;32mINFO: Successfully processed and saved song: éblouie par la nuit\u001b[0m\n",
      "\u001b[1;32mINFO: Processing song: little pistol\u001b[0m\n",
      "\u001b[1;32mINFO: Downloading song: little pistol\u001b[0m\n",
      "\u001b[1;32mINFO: Successfully processed and saved song: little pistol\u001b[0m\n",
      "\u001b[1;32mINFO: Processing song: como te extraño mi amor\u001b[0m\n",
      "\u001b[1;32mINFO: Downloading song: como te extraño mi amor\u001b[0m\n",
      "\u001b[1;32mINFO: Successfully processed and saved song: como te extraño mi amor\u001b[0m\n",
      "\u001b[1;32mINFO: Processing song: yes, i have ghosts\u001b[0m\n",
      "\u001b[1;32mINFO: Downloading song: yes, i have ghosts\u001b[0m\n",
      "\u001b[1;32mINFO: Successfully processed and saved song: yes, i have ghosts\u001b[0m\n",
      "\u001b[1;32mINFO: Processing song: procura\u001b[0m\n",
      "\u001b[1;32mINFO: Downloading song: procura\u001b[0m\n",
      "\u001b[1;32mINFO: Successfully processed and saved song: procura\u001b[0m\n",
      "\u001b[1;32mINFO: Processing song: cuéntame\u001b[0m\n",
      "\u001b[1;32mINFO: Downloading song: cuéntame\u001b[0m\n",
      "                                                         \r"
     ]
    },
    {
     "name": "stderr",
     "output_type": "stream",
     "text": [
      "\u001b[1;33mWARNING: Lyrics not found for 'cuéntame' by gian marco using all available providers.\u001b[0m\n"
     ]
    },
    {
     "name": "stdout",
     "output_type": "stream",
     "text": [
      "\u001b[1;32mINFO: Successfully processed and saved song: cuéntame\u001b[0m\n",
      "\u001b[1;32mINFO: Processing song: te quiero\u001b[0m\n",
      "\u001b[1;32mINFO: Downloading song: te quiero\u001b[0m\n",
      "\u001b[1;32mINFO: Successfully processed and saved song: te quiero\u001b[0m\n",
      "\u001b[1;32mINFO: Processing song: caraluna\u001b[0m\n",
      "\u001b[1;32mINFO: Song caraluna already downloaded, skipping download.\u001b[0m\n",
      "\u001b[1;32mINFO: Successfully processed and saved song: caraluna\u001b[0m\n",
      "\u001b[1;32mINFO: Processing song: dobry czas\u001b[0m\n",
      "\u001b[1;32mINFO: Downloading song: dobry czas\u001b[0m\n",
      "\u001b[1;32mINFO: Successfully processed and saved song: dobry czas\u001b[0m\n",
      "\u001b[1;32mINFO: Processing song: dlugosc dzwieku samotnosci\u001b[0m\n",
      "\u001b[1;32mINFO: Downloading song: dlugosc dzwieku samotnosci\u001b[0m\n",
      "\u001b[1;32mINFO: Successfully processed and saved song: dlugosc dzwieku samotnosci\u001b[0m\n",
      "\u001b[1;32mINFO: Processing song: cuando seas grande\u001b[0m\n",
      "\u001b[1;32mINFO: Downloading song: cuando seas grande\u001b[0m\n",
      "                                                         \r"
     ]
    },
    {
     "name": "stderr",
     "output_type": "stream",
     "text": [
      "\u001b[1;33mWARNING: Lyrics not found for 'cuando seas grande' by miguel mateos - zas using all available providers.\u001b[0m\n"
     ]
    },
    {
     "name": "stdout",
     "output_type": "stream",
     "text": [
      "\u001b[1;32mINFO: Successfully processed and saved song: cuando seas grande\u001b[0m\n",
      "\u001b[1;32mINFO: Processing song: rayando el sol\u001b[0m\n",
      "\u001b[1;32mINFO: Downloading song: rayando el sol\u001b[0m\n",
      "\u001b[1;32mINFO: Successfully processed and saved song: rayando el sol\u001b[0m\n",
      "\u001b[1;32mINFO: Processing song: en algún lugar\u001b[0m\n",
      "\u001b[1;32mINFO: Downloading song: en algún lugar\u001b[0m\n",
      "\u001b[1;32mINFO: Successfully processed and saved song: en algún lugar\u001b[0m\n",
      "\u001b[1;32mINFO: Processing song: ołów\u001b[0m\n",
      "\u001b[1;32mINFO: Downloading song: ołów\u001b[0m\n",
      "                                                         \r"
     ]
    },
    {
     "name": "stderr",
     "output_type": "stream",
     "text": [
      "\u001b[1;33mWARNING: Lyrics not found for 'ołów' by muniek staszczyk using all available providers.\u001b[0m\n"
     ]
    },
    {
     "name": "stdout",
     "output_type": "stream",
     "text": [
      "\u001b[1;32mINFO: Successfully processed and saved song: ołów\u001b[0m\n",
      "\u001b[1;32mINFO: Processing song: nie nie nie\u001b[0m\n",
      "\u001b[1;32mINFO: Downloading song: nie nie nie\u001b[0m\n",
      "\u001b[1;32mINFO: Successfully processed and saved song: nie nie nie\u001b[0m\n",
      "\u001b[1;32mINFO: Processing song: king\u001b[0m\n",
      "\u001b[1;32mINFO: Downloading song: king\u001b[0m\n",
      "\u001b[1;32mINFO: Successfully processed and saved song: king\u001b[0m\n",
      "\u001b[1;32mINFO: Processing song: chłopaki nie płaczą\u001b[0m\n",
      "\u001b[1;32mINFO: Downloading song: chłopaki nie płaczą\u001b[0m\n",
      "\u001b[1;32mINFO: Successfully processed and saved song: chłopaki nie płaczą\u001b[0m\n",
      "\u001b[1;32mINFO: Processing song: oye mi amor\u001b[0m\n",
      "\u001b[1;32mINFO: Downloading song: oye mi amor\u001b[0m\n",
      "\u001b[1;32mINFO: Successfully processed and saved song: oye mi amor\u001b[0m\n",
      "\u001b[1;32mINFO: Processing song: ale to już było\u001b[0m\n",
      "\u001b[1;32mINFO: Downloading song: ale to już było\u001b[0m\n",
      "                                                         \r"
     ]
    },
    {
     "name": "stderr",
     "output_type": "stream",
     "text": [
      "\u001b[1;33mWARNING: Lyrics not found for 'ale to już było' by andrzej sikorowski using all available providers.\u001b[0m\n"
     ]
    },
    {
     "name": "stdout",
     "output_type": "stream",
     "text": [
      "\u001b[1;32mINFO: Successfully processed and saved song: ale to już było\u001b[0m\n",
      "\u001b[1;32mINFO: Processing song: wierze w lepszy swiat\u001b[0m\n",
      "\u001b[1;32mINFO: Downloading song: wierze w lepszy swiat\u001b[0m\n",
      "\u001b[1;32mINFO: Successfully processed and saved song: wierze w lepszy swiat\u001b[0m\n",
      "\u001b[1;32mINFO: Processing song: statki na niebie\u001b[0m\n",
      "\u001b[1;32mINFO: Downloading song: statki na niebie\u001b[0m\n",
      "\u001b[1;32mINFO: Successfully processed and saved song: statki na niebie\u001b[0m\n",
      "\u001b[1;32mINFO: Processing song: typ niepokorny\u001b[0m\n",
      "\u001b[1;32mINFO: Downloading song: typ niepokorny\u001b[0m\n",
      "                                                           \r"
     ]
    },
    {
     "name": "stderr",
     "output_type": "stream",
     "text": [
      "\u001b[1;33mWARNING: Lyrics not found for 'typ niepokorny' by jacek stachursky using all available providers.\u001b[0m\n"
     ]
    },
    {
     "name": "stdout",
     "output_type": "stream",
     "text": [
      "\u001b[1;32mINFO: Successfully processed and saved song: typ niepokorny\u001b[0m\n",
      "\u001b[1;32mINFO: Processing song: kroplą deszczu\u001b[0m\n",
      "\u001b[1;32mINFO: Downloading song: kroplą deszczu\u001b[0m\n",
      "\u001b[1;32mINFO: Successfully processed and saved song: kroplą deszczu\u001b[0m\n",
      "\u001b[1;32mINFO: Processing song: poki na to czas\u001b[0m\n",
      "\u001b[1;32mINFO: Downloading song: poki na to czas\u001b[0m\n",
      "                                                         \r"
     ]
    },
    {
     "name": "stderr",
     "output_type": "stream",
     "text": [
      "\u001b[1;33mWARNING: Lyrics not found for 'poki na to czas' by de mono using all available providers.\u001b[0m\n"
     ]
    },
    {
     "name": "stdout",
     "output_type": "stream",
     "text": [
      "\u001b[1;32mINFO: Successfully processed and saved song: poki na to czas\u001b[0m\n",
      "\u001b[1;32mINFO: Processing song: a wszystko to...(bo ciebie kocham)\u001b[0m\n",
      "\u001b[1;32mINFO: Downloading song: a wszystko to...(bo ciebie kocham)\u001b[0m\n",
      "\u001b[1;32mINFO: Successfully processed and saved song: a wszystko to...(bo ciebie kocham)\u001b[0m\n",
      "\u001b[1;32mINFO: Processing song: bohema\u001b[0m\n",
      "\u001b[1;32mINFO: Downloading song: bohema\u001b[0m\n",
      "\u001b[1;32mINFO: Successfully processed and saved song: bohema\u001b[0m\n",
      "\u001b[1;32mINFO: Processing song: mieć czy być\u001b[0m\n",
      "\u001b[1;32mINFO: Downloading song: mieć czy być\u001b[0m\n",
      "\u001b[1;32mINFO: Successfully processed and saved song: mieć czy być\u001b[0m\n",
      "\u001b[1;32mINFO: Processing song: kocham cię jak irlandię\u001b[0m\n",
      "\u001b[1;32mINFO: Downloading song: kocham cię jak irlandię\u001b[0m\n",
      "\u001b[1;32mINFO: Successfully processed and saved song: kocham cię jak irlandię\u001b[0m\n",
      "\u001b[1;32mINFO: Processing song: biała armia\u001b[0m\n",
      "\u001b[1;32mINFO: Downloading song: biała armia\u001b[0m\n",
      "\u001b[1;32mINFO: Successfully processed and saved song: biała armia\u001b[0m\n",
      "\u001b[1;32mINFO: Processing song: zanim pójdę\u001b[0m\n",
      "\u001b[1;32mINFO: Downloading song: zanim pójdę\u001b[0m\n",
      "\u001b[1;32mINFO: Successfully processed and saved song: zanim pójdę\u001b[0m\n",
      "\u001b[1;32mINFO: Processing song: na jednej z dzikich plaż\u001b[0m\n",
      "\u001b[1;32mINFO: Downloading song: na jednej z dzikich plaż\u001b[0m\n",
      "\u001b[1;32mINFO: Successfully processed and saved song: na jednej z dzikich plaż\u001b[0m\n",
      "\u001b[1;32mINFO: Processing song: pasos de cero\u001b[0m\n",
      "\u001b[1;32mINFO: Downloading song: pasos de cero\u001b[0m\n",
      "\u001b[1;32mINFO: Successfully processed and saved song: pasos de cero\u001b[0m\n",
      "\u001b[1;32mINFO: Processing song: las avispas\u001b[0m\n",
      "\u001b[1;32mINFO: Downloading song: las avispas\u001b[0m\n",
      "                                                           \r"
     ]
    },
    {
     "name": "stderr",
     "output_type": "stream",
     "text": [
      "\u001b[1;33mWARNING: Lyrics not found for 'las avispas' by juan luis guerra 4.40 using all available providers.\u001b[0m\n"
     ]
    },
    {
     "name": "stdout",
     "output_type": "stream",
     "text": [
      "\u001b[1;32mINFO: Successfully processed and saved song: las avispas\u001b[0m\n",
      "\u001b[1;32mINFO: Processing song: tras el cristal\u001b[0m\n",
      "\u001b[1;32mINFO: Downloading song: tras el cristal\u001b[0m\n",
      "\u001b[1;32mINFO: Successfully processed and saved song: tras el cristal\u001b[0m\n",
      "\u001b[1;32mINFO: Processing song: el ataque de las chicas cocodrilo\u001b[0m\n",
      "\u001b[1;32mINFO: Downloading song: el ataque de las chicas cocodrilo\u001b[0m\n",
      "\u001b[1;32mINFO: Successfully processed and saved song: el ataque de las chicas cocodrilo\u001b[0m\n",
      "\u001b[1;32mINFO: Processing song: el run run (with rosario)\u001b[0m\n",
      "\u001b[1;32mINFO: Downloading song: el run run (with rosario)\u001b[0m\n",
      "\u001b[1;32mINFO: Successfully processed and saved song: el run run (with rosario)\u001b[0m\n",
      "\u001b[1;32mINFO: Processing song: clavado en un bar\u001b[0m\n",
      "\u001b[1;32mINFO: Downloading song: clavado en un bar\u001b[0m\n",
      "\u001b[1;32mINFO: Successfully processed and saved song: clavado en un bar\u001b[0m\n",
      "\u001b[1;32mINFO: Processing song: quizás\u001b[0m\n",
      "\u001b[1;32mINFO: Downloading song: quizás\u001b[0m\n",
      "\u001b[1;32mINFO: Successfully processed and saved song: quizás\u001b[0m\n",
      "\u001b[1;32mINFO: Processing song: ojos color sol (feat. silvio rodríguez)\u001b[0m\n",
      "\u001b[1;32mINFO: Downloading song: ojos color sol (feat. silvio rodríguez)\u001b[0m\n",
      "\u001b[1;32mINFO: Successfully processed and saved song: ojos color sol (feat. silvio rodríguez)\u001b[0m\n",
      "\u001b[1;32mINFO: Processing song: perfecta\u001b[0m\n",
      "\u001b[1;32mINFO: Downloading song: perfecta\u001b[0m\n",
      "\u001b[1;32mINFO: Successfully processed and saved song: perfecta\u001b[0m\n",
      "\u001b[1;32mINFO: Processing song: weź nie pytaj\u001b[0m\n",
      "\u001b[1;32mINFO: Downloading song: weź nie pytaj\u001b[0m\n",
      "\u001b[1;32mINFO: Successfully processed and saved song: weź nie pytaj\u001b[0m\n",
      "\u001b[1;32mINFO: Processing song: re:date\u001b[0m\n",
      "\u001b[1;32mINFO: Downloading song: re:date\u001b[0m\n",
      "\u001b[1;32mINFO: Successfully processed and saved song: re:date\u001b[0m\n",
      "\u001b[1;32mINFO: Processing song: overthinking\u001b[0m\n",
      "\u001b[1;32mINFO: Downloading song: overthinking\u001b[0m\n",
      "                                                         \r"
     ]
    },
    {
     "name": "stderr",
     "output_type": "stream",
     "text": [
      "\u001b[1;33mWARNING: Lyrics not found for 'overthinking' by will killen using all available providers.\u001b[0m\n"
     ]
    },
    {
     "name": "stdout",
     "output_type": "stream",
     "text": [
      "\u001b[1;32mINFO: Successfully processed and saved song: overthinking\u001b[0m\n",
      "\u001b[1;32mINFO: Processing song: coda\u001b[0m\n",
      "\u001b[1;32mINFO: Downloading song: coda\u001b[0m\n",
      "                                                         \r"
     ]
    },
    {
     "name": "stderr",
     "output_type": "stream",
     "text": [
      "\u001b[1;33mWARNING: Lyrics not found for 'coda' by will killen using all available providers.\u001b[0m\n"
     ]
    },
    {
     "name": "stdout",
     "output_type": "stream",
     "text": [
      "\u001b[1;32mINFO: Successfully processed and saved song: coda\u001b[0m\n",
      "\u001b[1;32mINFO: Processing song: write you out\u001b[0m\n",
      "\u001b[1;32mINFO: Downloading song: write you out\u001b[0m\n",
      "\u001b[1;32mINFO: Successfully processed and saved song: write you out\u001b[0m\n",
      "\u001b[1;32mINFO: Processing song: the outside\u001b[0m\n",
      "\u001b[1;32mINFO: Downloading song: the outside\u001b[0m\n",
      "                                                         \r"
     ]
    },
    {
     "name": "stderr",
     "output_type": "stream",
     "text": [
      "\u001b[1;33mWARNING: Lyrics not found for 'the outside' by will killen using all available providers.\u001b[0m\n"
     ]
    },
    {
     "name": "stdout",
     "output_type": "stream",
     "text": [
      "\u001b[1;32mINFO: Successfully processed and saved song: the outside\u001b[0m\n",
      "\u001b[1;32mINFO: Processing song: limón y sal\u001b[0m\n",
      "\u001b[1;32mINFO: Downloading song: limón y sal\u001b[0m\n",
      "\u001b[1;32mINFO: Successfully processed and saved song: limón y sal\u001b[0m\n",
      "\u001b[1;32mINFO: Processing song: devuélveme a mi chica\u001b[0m\n",
      "\u001b[1;32mINFO: Downloading song: devuélveme a mi chica\u001b[0m\n",
      "\u001b[1;32mINFO: Successfully processed and saved song: devuélveme a mi chica\u001b[0m\n",
      "\u001b[1;32mINFO: Processing song: muerte en hawaii\u001b[0m\n",
      "\u001b[1;32mINFO: Downloading song: muerte en hawaii\u001b[0m\n",
      "\u001b[1;32mINFO: Successfully processed and saved song: muerte en hawaii\u001b[0m\n",
      "\u001b[1;32mINFO: Processing song: tabaco y chanel\u001b[0m\n",
      "\u001b[1;32mINFO: Downloading song: tabaco y chanel\u001b[0m\n",
      "\u001b[1;32mINFO: Successfully processed and saved song: tabaco y chanel\u001b[0m\n",
      "\u001b[1;32mINFO: Processing song: popatrz na mnie\u001b[0m\n",
      "\u001b[1;32mINFO: Downloading song: popatrz na mnie\u001b[0m\n",
      "\u001b[1;32mINFO: Successfully processed and saved song: popatrz na mnie\u001b[0m\n",
      "\u001b[1;32mINFO: Processing song: ong namo\u001b[0m\n",
      "\u001b[1;32mINFO: Downloading song: ong namo\u001b[0m\n",
      "\u001b[1;32mINFO: Successfully processed and saved song: ong namo\u001b[0m\n",
      "\u001b[1;32mINFO: Processing song: space song\u001b[0m\n",
      "\u001b[1;32mINFO: Downloading song: space song\u001b[0m\n",
      "\u001b[1;32mINFO: Successfully processed and saved song: space song\u001b[0m\n",
      "\u001b[1;32mINFO: Processing song: too close\u001b[0m\n",
      "\u001b[1;32mINFO: Downloading song: too close\u001b[0m\n",
      "\u001b[1;32mINFO: Successfully processed and saved song: too close\u001b[0m\n",
      "\u001b[1;32mINFO: Processing song: promising\u001b[0m\n",
      "\u001b[1;32mINFO: Downloading song: promising\u001b[0m\n",
      "\u001b[1;32mINFO: Successfully processed and saved song: promising\u001b[0m\n",
      "\u001b[1;32mINFO: Processing song: memories of us\u001b[0m\n",
      "\u001b[1;32mINFO: Downloading song: memories of us\u001b[0m\n",
      "\u001b[1;32mINFO: Successfully processed and saved song: memories of us\u001b[0m\n",
      "\u001b[1;32mINFO: Processing song: pharaoh\u001b[0m\n",
      "\u001b[1;32mINFO: Downloading song: pharaoh\u001b[0m\n",
      "\u001b[1;32mINFO: Successfully processed and saved song: pharaoh\u001b[0m\n",
      "\u001b[1;32mINFO: Processing song: i wasted you\u001b[0m\n",
      "\u001b[1;32mINFO: Downloading song: i wasted you\u001b[0m\n",
      "\u001b[1;32mINFO: Successfully processed and saved song: i wasted you\u001b[0m\n",
      "\u001b[1;32mINFO: Processing song: nightmare\u001b[0m\n",
      "\u001b[1;32mINFO: Downloading song: nightmare\u001b[0m\n",
      "\u001b[1;32mINFO: Successfully processed and saved song: nightmare\u001b[0m\n",
      "\u001b[1;32mINFO: Processing song: sadness is taking over\u001b[0m\n",
      "\u001b[1;32mINFO: Downloading song: sadness is taking over\u001b[0m\n",
      "\u001b[1;32mINFO: Successfully processed and saved song: sadness is taking over\u001b[0m\n",
      "\u001b[1;32mINFO: Processing song: roses on your dress\u001b[0m\n",
      "\u001b[1;32mINFO: Downloading song: roses on your dress\u001b[0m\n",
      "\u001b[1;32mINFO: Successfully processed and saved song: roses on your dress\u001b[0m\n",
      "\u001b[1;32mINFO: Processing song: nothing lasts forever (and it's fine)\u001b[0m\n",
      "\u001b[1;32mINFO: Downloading song: nothing lasts forever (and it's fine)\u001b[0m\n",
      "\u001b[1;32mINFO: Successfully processed and saved song: nothing lasts forever (and it's fine)\u001b[0m\n",
      "\u001b[1;32mINFO: Processing song: indie on loud\u001b[0m\n",
      "\u001b[1;32mINFO: Downloading song: indie on loud\u001b[0m\n",
      "\u001b[1;32mINFO: Successfully processed and saved song: indie on loud\u001b[0m\n",
      "\u001b[1;32mINFO: Processing song: in a little bubble\u001b[0m\n",
      "\u001b[1;32mINFO: Downloading song: in a little bubble\u001b[0m\n",
      "\u001b[1;32mINFO: Successfully processed and saved song: in a little bubble\u001b[0m\n",
      "\u001b[1;32mINFO: Processing song: you're somebody else - piano solo\u001b[0m\n",
      "\u001b[1;32mINFO: Downloading song: you're somebody else - piano solo\u001b[0m\n",
      "\u001b[1;32mINFO: Successfully processed and saved song: you're somebody else - piano solo\u001b[0m\n",
      "\u001b[1;32mINFO: Processing song: castles made of sand - 2006 remaster\u001b[0m\n",
      "\u001b[1;32mINFO: Downloading song: castles made of sand - 2006 remaster\u001b[0m\n",
      "\u001b[1;32mINFO: Successfully processed and saved song: castles made of sand - 2006 remaster\u001b[0m\n",
      "\u001b[1;32mINFO: Processing song: the broken hearts club\u001b[0m\n",
      "\u001b[1;32mINFO: Downloading song: the broken hearts club\u001b[0m\n",
      "\u001b[1;32mINFO: Successfully processed and saved song: the broken hearts club\u001b[0m\n",
      "\u001b[1;32mINFO: Processing song: you are healing\u001b[0m\n",
      "\u001b[1;32mINFO: Downloading song: you are healing\u001b[0m\n",
      "                                                         \r"
     ]
    },
    {
     "name": "stderr",
     "output_type": "stream",
     "text": [
      "\u001b[1;33mWARNING: Lyrics not found for 'you are healing' by flora cash using all available providers.\u001b[0m\n"
     ]
    },
    {
     "name": "stdout",
     "output_type": "stream",
     "text": [
      "\u001b[1;32mINFO: Successfully processed and saved song: you are healing\u001b[0m\n",
      "\u001b[1;32mINFO: Processing song: love is in the small things\u001b[0m\n",
      "\u001b[1;32mINFO: Downloading song: love is in the small things\u001b[0m\n",
      "\u001b[1;32mINFO: Successfully processed and saved song: love is in the small things\u001b[0m\n",
      "\u001b[1;32mINFO: Processing song: save me\u001b[0m\n",
      "\u001b[1;32mINFO: Downloading song: save me\u001b[0m\n",
      "                                                         \r"
     ]
    },
    {
     "name": "stderr",
     "output_type": "stream",
     "text": [
      "\u001b[1;33mWARNING: Lyrics not found for 'save me' by flora cash using all available providers.\u001b[0m\n"
     ]
    },
    {
     "name": "stdout",
     "output_type": "stream",
     "text": [
      "\u001b[1;32mINFO: Successfully processed and saved song: save me\u001b[0m\n",
      "\u001b[1;32mINFO: Processing song: heaven\u001b[0m\n",
      "\u001b[1;32mINFO: Downloading song: heaven\u001b[0m\n",
      "                                                         \r"
     ]
    },
    {
     "name": "stderr",
     "output_type": "stream",
     "text": [
      "\u001b[1;33mWARNING: Lyrics not found for 'heaven' by andy black using all available providers.\u001b[0m\n"
     ]
    },
    {
     "name": "stdout",
     "output_type": "stream",
     "text": [
      "\u001b[1;32mINFO: Successfully processed and saved song: heaven\u001b[0m\n",
      "\u001b[1;32mINFO: Processing song: the wind & spark\u001b[0m\n",
      "\u001b[1;32mINFO: Downloading song: the wind & spark\u001b[0m\n",
      "\u001b[1;32mINFO: Successfully processed and saved song: the wind & spark\u001b[0m\n",
      "\u001b[1;32mINFO: Processing song: know one\u001b[0m\n",
      "\u001b[1;32mINFO: Downloading song: know one\u001b[0m\n",
      "\u001b[1;32mINFO: Successfully processed and saved song: know one\u001b[0m\n",
      "\u001b[1;32mINFO: Processing song: heroes we were\u001b[0m\n",
      "\u001b[1;32mINFO: Downloading song: heroes we were\u001b[0m\n",
      "\u001b[1;32mINFO: Successfully processed and saved song: heroes we were\u001b[0m\n",
      "\u001b[1;32mINFO: Processing song: my way\u001b[0m\n",
      "\u001b[1;32mINFO: Downloading song: my way\u001b[0m\n",
      "                                                         \r"
     ]
    },
    {
     "name": "stderr",
     "output_type": "stream",
     "text": [
      "\u001b[1;33mWARNING: Lyrics not found for 'my way' by andy black using all available providers.\u001b[0m\n"
     ]
    },
    {
     "name": "stdout",
     "output_type": "stream",
     "text": [
      "\u001b[1;32mINFO: Successfully processed and saved song: my way\u001b[0m\n",
      "\u001b[1;32mINFO: Processing song: ghost of ohio\u001b[0m\n",
      "\u001b[1;32mINFO: Downloading song: ghost of ohio\u001b[0m\n",
      "\u001b[1;32mINFO: Successfully processed and saved song: ghost of ohio\u001b[0m\n",
      "\u001b[1;32mINFO: Processing song: the martyr\u001b[0m\n",
      "\u001b[1;32mINFO: Downloading song: the martyr\u001b[0m\n",
      "                                                         \r"
     ]
    },
    {
     "name": "stderr",
     "output_type": "stream",
     "text": [
      "\u001b[1;33mWARNING: Lyrics not found for 'the martyr' by andy black using all available providers.\u001b[0m\n"
     ]
    },
    {
     "name": "stdout",
     "output_type": "stream",
     "text": [
      "\u001b[1;32mINFO: Successfully processed and saved song: the martyr\u001b[0m\n",
      "\u001b[1;32mINFO: Processing song: when we were young\u001b[0m\n",
      "\u001b[1;32mINFO: Song when we were young already downloaded, skipping download.\u001b[0m\n",
      "\u001b[1;32mINFO: Successfully processed and saved song: when we were young\u001b[0m\n",
      "\u001b[1;32mINFO: Processing song: westwood road\u001b[0m\n",
      "\u001b[1;32mINFO: Downloading song: westwood road\u001b[0m\n",
      "\u001b[1;32mINFO: Successfully processed and saved song: westwood road\u001b[0m\n",
      "\u001b[1;32mINFO: Processing song: soul like me\u001b[0m\n",
      "\u001b[1;32mINFO: Downloading song: soul like me\u001b[0m\n",
      "\u001b[1;32mINFO: Successfully processed and saved song: soul like me\u001b[0m\n",
      "\u001b[1;32mINFO: Processing song: the void\u001b[0m\n",
      "\u001b[1;32mINFO: Downloading song: the void\u001b[0m\n",
      "                                                         \r"
     ]
    },
    {
     "name": "stderr",
     "output_type": "stream",
     "text": [
      "\u001b[1;33mWARNING: Lyrics not found for 'the void' by andy black using all available providers.\u001b[0m\n"
     ]
    },
    {
     "name": "stdout",
     "output_type": "stream",
     "text": [
      "\u001b[1;32mINFO: Successfully processed and saved song: the void\u001b[0m\n",
      "\u001b[1;32mINFO: Processing song: broken pieces\u001b[0m\n",
      "\u001b[1;32mINFO: Downloading song: broken pieces\u001b[0m\n",
      "\u001b[1;32mINFO: Successfully processed and saved song: broken pieces\u001b[0m\n",
      "\u001b[1;32mINFO: Processing song: louder than your love\u001b[0m\n",
      "\u001b[1;32mINFO: Downloading song: louder than your love\u001b[0m\n",
      "\u001b[1;32mINFO: Successfully processed and saved song: louder than your love\u001b[0m\n",
      "\u001b[1;32mINFO: Processing song: break your halo\u001b[0m\n",
      "\u001b[1;32mINFO: Downloading song: break your halo\u001b[0m\n",
      "\u001b[1;32mINFO: Successfully processed and saved song: break your halo\u001b[0m\n",
      "\u001b[1;32mINFO: Processing song: paint it black\u001b[0m\n",
      "\u001b[1;32mINFO: Downloading song: paint it black\u001b[0m\n",
      "\u001b[1;32mINFO: Successfully processed and saved song: paint it black\u001b[0m\n",
      "\u001b[1;32mINFO: Processing song: beautiful pain\u001b[0m\n",
      "\u001b[1;32mINFO: Downloading song: beautiful pain\u001b[0m\n",
      "\u001b[1;32mINFO: Successfully processed and saved song: beautiful pain\u001b[0m\n",
      "\u001b[1;32mINFO: Processing song: put the gun down\u001b[0m\n",
      "\u001b[1;32mINFO: Downloading song: put the gun down\u001b[0m\n",
      "\u001b[1;32mINFO: Successfully processed and saved song: put the gun down\u001b[0m\n",
      "\u001b[1;32mINFO: Processing song: drown me out\u001b[0m\n",
      "\u001b[1;32mINFO: Downloading song: drown me out\u001b[0m\n",
      "\u001b[1;32mINFO: Successfully processed and saved song: drown me out\u001b[0m\n",
      "\u001b[1;32mINFO: Processing song: love was made to break\u001b[0m\n",
      "\u001b[1;32mINFO: Downloading song: love was made to break\u001b[0m\n",
      "\u001b[1;32mINFO: Successfully processed and saved song: love was made to break\u001b[0m\n",
      "\u001b[1;32mINFO: Processing song: ribcage\u001b[0m\n",
      "\u001b[1;32mINFO: Downloading song: ribcage\u001b[0m\n",
      "\u001b[1;32mINFO: Successfully processed and saved song: ribcage\u001b[0m\n",
      "\u001b[1;32mINFO: Processing song: stay alive\u001b[0m\n",
      "\u001b[1;32mINFO: Downloading song: stay alive\u001b[0m\n",
      "                                                         \r"
     ]
    },
    {
     "name": "stderr",
     "output_type": "stream",
     "text": [
      "\u001b[1;33mWARNING: Lyrics not found for 'stay a' by andy black using all available providers.\u001b[0m\n"
     ]
    },
    {
     "name": "stdout",
     "output_type": "stream",
     "text": [
      "\u001b[1;32mINFO: Successfully processed and saved song: stay alive\u001b[0m\n",
      "\u001b[1;32mINFO: Processing song: blue cellophane\u001b[0m\n",
      "\u001b[1;32mINFO: Downloading song: blue cellophane\u001b[0m\n",
      "\u001b[1;32mINFO: Successfully processed and saved song: blue cellophane\u001b[0m\n",
      "\u001b[1;32mINFO: Processing song: freedom\u001b[0m\n",
      "\u001b[1;32mINFO: Downloading song: freedom\u001b[0m\n",
      "                                                         \r"
     ]
    },
    {
     "name": "stderr",
     "output_type": "stream",
     "text": [
      "\u001b[1;33mWARNING: Lyrics not found for 'freedom' by teddy hyde using all available providers.\u001b[0m\n"
     ]
    },
    {
     "name": "stdout",
     "output_type": "stream",
     "text": [
      "\u001b[1;32mINFO: Successfully processed and saved song: freedom\u001b[0m\n",
      "\u001b[1;32mINFO: Processing song: boy in the bubble\u001b[0m\n",
      "\u001b[1;32mINFO: Downloading song: boy in the bubble\u001b[0m\n",
      "\u001b[1;32mINFO: Successfully processed and saved song: boy in the bubble\u001b[0m\n",
      "\u001b[1;32mINFO: Processing song: homecoming king\u001b[0m\n",
      "\u001b[1;32mINFO: Downloading song: homecoming king\u001b[0m\n",
      "\u001b[1;32mINFO: Successfully processed and saved song: homecoming king\u001b[0m\n",
      "\u001b[1;32mINFO: Processing song: shelter\u001b[0m\n",
      "\u001b[1;32mINFO: Song shelter already downloaded, skipping download.\u001b[0m\n"
     ]
    },
    {
     "name": "stderr",
     "output_type": "stream",
     "text": [
      "\u001b[1;33mWARNING: Lyrics not found for 'shelter' by finneas using all available providers.\u001b[0m\n"
     ]
    },
    {
     "name": "stdout",
     "output_type": "stream",
     "text": [
      "\u001b[1;32mINFO: Successfully processed and saved song: shelter\u001b[0m\n",
      "\u001b[1;32mINFO: Processing song: claudia\u001b[0m\n",
      "\u001b[1;32mINFO: Downloading song: claudia\u001b[0m\n",
      "\u001b[1;32mINFO: Successfully processed and saved song: claudia\u001b[0m\n",
      "\u001b[1;32mINFO: Processing song: new girl\u001b[0m\n",
      "\u001b[1;32mINFO: Downloading song: new girl\u001b[0m\n",
      "\u001b[1;32mINFO: Successfully processed and saved song: new girl\u001b[0m\n",
      "\u001b[1;32mINFO: Processing song: angel\u001b[0m\n",
      "\u001b[1;32mINFO: Song angel already downloaded, skipping download.\u001b[0m\n"
     ]
    },
    {
     "name": "stderr",
     "output_type": "stream",
     "text": [
      "\u001b[1;33mWARNING: Lyrics not found for 'angel' by finneas using all available providers.\u001b[0m\n"
     ]
    },
    {
     "name": "stdout",
     "output_type": "stream",
     "text": [
      "\u001b[1;32mINFO: Successfully processed and saved song: angel\u001b[0m\n",
      "\u001b[1;32mINFO: Processing song: die alone\u001b[0m\n",
      "\u001b[1;32mINFO: Downloading song: die alone\u001b[0m\n",
      "                                                         \r"
     ]
    },
    {
     "name": "stderr",
     "output_type": "stream",
     "text": [
      "\u001b[1;33mWARNING: Lyrics not found for 'die alone' by finneas using all available providers.\u001b[0m\n"
     ]
    },
    {
     "name": "stdout",
     "output_type": "stream",
     "text": [
      "\u001b[1;32mINFO: Successfully processed and saved song: die alone\u001b[0m\n",
      "\u001b[1;32mINFO: Processing song: break my heart again\u001b[0m\n",
      "\u001b[1;32mINFO: Downloading song: break my heart again\u001b[0m\n",
      "\u001b[1;32mINFO: Successfully processed and saved song: break my heart again\u001b[0m\n",
      "\u001b[1;32mINFO: Processing song: let's fall in love for the night\u001b[0m\n",
      "\u001b[1;32mINFO: Downloading song: let's fall in love for the night\u001b[0m\n",
      "\u001b[1;32mINFO: Successfully processed and saved song: let's fall in love for the night\u001b[0m\n",
      "\u001b[1;32mINFO: Processing song: lost my mind\u001b[0m\n",
      "\u001b[1;32mINFO: Downloading song: lost my mind\u001b[0m\n",
      "                                                         \r"
     ]
    },
    {
     "name": "stderr",
     "output_type": "stream",
     "text": [
      "\u001b[1;33mWARNING: Lyrics not found for 'lost my mind' by finneas using all available providers.\u001b[0m\n"
     ]
    },
    {
     "name": "stdout",
     "output_type": "stream",
     "text": [
      "\u001b[1;32mINFO: Successfully processed and saved song: lost my mind\u001b[0m\n",
      "\u001b[1;32mINFO: Processing song: chachachá\u001b[0m\n",
      "\u001b[1;32mINFO: Downloading song: chachachá\u001b[0m\n",
      "\u001b[1;32mINFO: Successfully processed and saved song: chachachá\u001b[0m\n",
      "\u001b[1;32mINFO: Processing song: wzięli zamknęli mi klub\u001b[0m\n",
      "\u001b[1;32mINFO: Downloading song: wzięli zamknęli mi klub\u001b[0m\n",
      "\u001b[1;32mINFO: Successfully processed and saved song: wzięli zamknęli mi klub\u001b[0m\n",
      "\u001b[1;32mINFO: Processing song: idzie zima\u001b[0m\n",
      "\u001b[1;32mINFO: Downloading song: idzie zima\u001b[0m\n",
      "\u001b[1;32mINFO: Successfully processed and saved song: idzie zima\u001b[0m\n",
      "\u001b[1;32mINFO: Processing song: cheque al portamor\u001b[0m\n",
      "\u001b[1;32mINFO: Downloading song: cheque al portamor\u001b[0m\n",
      "\u001b[1;32mINFO: Successfully processed and saved song: cheque al portamor\u001b[0m\n",
      "\u001b[1;32mINFO: Processing song: sueño (con pablo alborán)\u001b[0m\n",
      "\u001b[1;32mINFO: Downloading song: sueño (con pablo alborán)\u001b[0m\n",
      "                                                         \r"
     ]
    },
    {
     "name": "stderr",
     "output_type": "stream",
     "text": [
      "\u001b[1;33mWARNING: Lyrics not found for 'sueño' by beret using all available providers.\u001b[0m\n"
     ]
    },
    {
     "name": "stdout",
     "output_type": "stream",
     "text": [
      "\u001b[1;32mINFO: Successfully processed and saved song: sueño (con pablo alborán)\u001b[0m\n",
      "\u001b[1;32mINFO: Processing song: mi persona favorita\u001b[0m\n",
      "\u001b[1;32mINFO: Downloading song: mi persona favorita\u001b[0m\n",
      "\u001b[1;32mINFO: Successfully processed and saved song: mi persona favorita\u001b[0m\n",
      "\u001b[1;32mINFO: Processing song: bailando - spanish version\u001b[0m\n",
      "\u001b[1;32mINFO: Downloading song: bailando - spanish version\u001b[0m\n",
      "\u001b[1;32mINFO: Successfully processed and saved song: bailando - spanish version\u001b[0m\n",
      "\u001b[1;32mINFO: Processing song: échame la culpa\u001b[0m\n",
      "\u001b[1;32mINFO: Downloading song: échame la culpa\u001b[0m\n",
      "\u001b[1;32mINFO: Successfully processed and saved song: échame la culpa\u001b[0m\n",
      "\u001b[1;32mINFO: Processing song: reggaetón lento (remix)\u001b[0m\n",
      "\u001b[1;32mINFO: Downloading song: reggaetón lento (remix)\u001b[0m\n",
      "\u001b[1;32mINFO: Successfully processed and saved song: reggaetón lento (remix)\u001b[0m\n",
      "\u001b[1;32mINFO: Processing song: corazón (feat. nego do borel)\u001b[0m\n",
      "\u001b[1;32mINFO: Downloading song: corazón (feat. nego do borel)\u001b[0m\n",
      "\u001b[1;32mINFO: Successfully processed and saved song: corazón (feat. nego do borel)\u001b[0m\n",
      "\u001b[1;32mINFO: Processing song: una lady como tú\u001b[0m\n",
      "\u001b[1;32mINFO: Downloading song: una lady como tú\u001b[0m\n",
      "\u001b[1;32mINFO: Successfully processed and saved song: una lady como tú\u001b[0m\n",
      "\u001b[1;32mINFO: Processing song: el perdón (with enrique iglesias)\u001b[0m\n",
      "\u001b[1;32mINFO: Downloading song: el perdón (with enrique iglesias)\u001b[0m\n",
      "\u001b[1;32mINFO: Successfully processed and saved song: el perdón (with enrique iglesias)\u001b[0m\n",
      "\u001b[1;32mINFO: Processing song: escápate conmigo (feat. ozuna)\u001b[0m\n",
      "\u001b[1;32mINFO: Downloading song: escápate conmigo (feat. ozuna)\u001b[0m\n",
      "\u001b[1;32mINFO: Successfully processed and saved song: escápate conmigo (feat. ozuna)\u001b[0m\n",
      "\u001b[1;32mINFO: Processing song: el perdedor\u001b[0m\n",
      "\u001b[1;32mINFO: Downloading song: el perdedor\u001b[0m\n",
      "\u001b[1;32mINFO: Successfully processed and saved song: el perdedor\u001b[0m\n",
      "\u001b[1;32mINFO: Processing song: vivir mi vida\u001b[0m\n",
      "\u001b[1;32mINFO: Downloading song: vivir mi vida\u001b[0m\n",
      "\u001b[1;32mINFO: Successfully processed and saved song: vivir mi vida\u001b[0m\n",
      "\u001b[1;32mINFO: Processing song: bella\u001b[0m\n",
      "\u001b[1;32mINFO: Downloading song: bella\u001b[0m\n",
      "                                                           \r"
     ]
    },
    {
     "name": "stderr",
     "output_type": "stream",
     "text": [
      "\u001b[1;33mWARNING: Lyrics not found for 'bella' by wolfine using all available providers.\u001b[0m\n"
     ]
    },
    {
     "name": "stdout",
     "output_type": "stream",
     "text": [
      "\u001b[1;32mINFO: Successfully processed and saved song: bella\u001b[0m\n",
      "\u001b[1;32mINFO: Processing song: lo aprendí de ti - ha-ash primera fila - hecho realidad [en vivo]\u001b[0m\n",
      "\u001b[1;32mINFO: Downloading song: lo aprendí de ti - ha-ash primera fila - hecho realidad [en vivo]\u001b[0m\n",
      "                                                         \r"
     ]
    },
    {
     "name": "stderr",
     "output_type": "stream",
     "text": [
      "\u001b[1;33mWARNING: Lyrics not found for 'lo aprendí de ti' by ha*ash using all available providers.\u001b[0m\n"
     ]
    },
    {
     "name": "stdout",
     "output_type": "stream",
     "text": [
      "\u001b[1;32mINFO: Successfully processed and saved song: lo aprendí de ti - ha-ash primera fila - hecho realidad [en vivo]\u001b[0m\n",
      "\u001b[1;32mINFO: Processing song: báilame - remix\u001b[0m\n",
      "\u001b[1;32mINFO: Downloading song: báilame - remix\u001b[0m\n",
      "\u001b[1;32mINFO: Successfully processed and saved song: báilame - remix\u001b[0m\n",
      "\u001b[1;32mINFO: Processing song: cuando me enamoro\u001b[0m\n",
      "\u001b[1;32mINFO: Downloading song: cuando me enamoro\u001b[0m\n",
      "\u001b[1;32mINFO: Successfully processed and saved song: cuando me enamoro\u001b[0m\n",
      "\u001b[1;32mINFO: Processing song: calma - remix\u001b[0m\n",
      "\u001b[1;32mINFO: Downloading song: calma - remix\u001b[0m\n",
      "\u001b[1;32mINFO: Successfully processed and saved song: calma - remix\u001b[0m\n",
      "\u001b[1;32mINFO: Processing song: sofia\u001b[0m\n",
      "\u001b[1;32mINFO: Song sofia already downloaded, skipping download.\u001b[0m\n",
      "\u001b[1;32mINFO: Successfully processed and saved song: sofia\u001b[0m\n",
      "\u001b[1;32mINFO: Processing song: purple yellow red and blue\u001b[0m\n",
      "\u001b[1;32mINFO: Downloading song: purple yellow red and blue\u001b[0m\n",
      "\u001b[1;32mINFO: Successfully processed and saved song: purple yellow red and blue\u001b[0m\n",
      "\u001b[1;32mINFO: Processing song: dulce mal\u001b[0m\n",
      "\u001b[1;32mINFO: Downloading song: dulce mal\u001b[0m\n",
      "\u001b[1;32mINFO: Successfully processed and saved song: dulce mal\u001b[0m\n",
      "\u001b[1;32mINFO: Processing song: embrujo\u001b[0m\n",
      "\u001b[1;32mINFO: Downloading song: embrujo\u001b[0m\n",
      "\u001b[1;32mINFO: Successfully processed and saved song: embrujo\u001b[0m\n",
      "\u001b[1;32mINFO: Processing song: i see you (theme from avatar)\u001b[0m\n",
      "\u001b[1;32mINFO: Downloading song: i see you (theme from avatar)\u001b[0m\n",
      "\u001b[1;32mINFO: Successfully processed and saved song: i see you (theme from avatar)\u001b[0m\n",
      "\u001b[1;32mINFO: Processing song: becoming one of \"the people\" becoming one with neytiri\u001b[0m\n",
      "\u001b[1;32mINFO: Downloading song: becoming one of \"the people\" becoming one with neytiri\u001b[0m\n",
      "\u001b[1;32mINFO: Successfully processed and saved song: becoming one of \"the people\" becoming one with neytiri\u001b[0m\n",
      "\u001b[1;32mINFO: Processing song: she wolf (falling to pieces) [feat. sia]\u001b[0m\n",
      "\u001b[1;32mINFO: Downloading song: she wolf (falling to pieces) [feat. sia]\u001b[0m\n",
      "\u001b[1;32mINFO: Successfully processed and saved song: she wolf (falling to pieces) [feat. sia]\u001b[0m\n",
      "\u001b[1;32mINFO: Processing song: house of gold\u001b[0m\n",
      "\u001b[1;32mINFO: Downloading song: house of gold\u001b[0m\n",
      "\u001b[1;32mINFO: Successfully processed and saved song: house of gold\u001b[0m\n",
      "\u001b[1;32mINFO: Processing song: livin' la vida loca\u001b[0m\n",
      "\u001b[1;32mINFO: Downloading song: livin' la vida loca\u001b[0m\n",
      "\u001b[1;32mINFO: Successfully processed and saved song: livin' la vida loca\u001b[0m\n",
      "\u001b[1;32mINFO: Processing song: biba w internacie\u001b[0m\n",
      "\u001b[1;32mINFO: Downloading song: biba w internacie\u001b[0m\n",
      "                                                         \r"
     ]
    },
    {
     "name": "stderr",
     "output_type": "stream",
     "text": [
      "\u001b[1;33mWARNING: Lyrics not found for 'biba w internacie' by draco using all available providers.\u001b[0m\n"
     ]
    },
    {
     "name": "stdout",
     "output_type": "stream",
     "text": [
      "\u001b[1;32mINFO: Successfully processed and saved song: biba w internacie\u001b[0m\n",
      "\u001b[1;32mINFO: Processing song: intel pentium 4\u001b[0m\n",
      "\u001b[1;32mINFO: Downloading song: intel pentium 4\u001b[0m\n",
      "                                                         \r"
     ]
    },
    {
     "name": "stderr",
     "output_type": "stream",
     "text": [
      "\u001b[1;33mWARNING: Lyrics not found for 'intel pentium 4' by draco using all available providers.\u001b[0m\n"
     ]
    },
    {
     "name": "stdout",
     "output_type": "stream",
     "text": [
      "\u001b[1;32mINFO: Successfully processed and saved song: intel pentium 4\u001b[0m\n",
      "\u001b[1;32mINFO: Processing song: 512i\u001b[0m\n",
      "\u001b[1;32mINFO: Downloading song: 512i\u001b[0m\n",
      "                                                         \r"
     ]
    },
    {
     "name": "stderr",
     "output_type": "stream",
     "text": [
      "\u001b[1;33mWARNING: Lyrics not found for '512i' by draco using all available providers.\u001b[0m\n"
     ]
    },
    {
     "name": "stdout",
     "output_type": "stream",
     "text": [
      "\u001b[1;32mINFO: Successfully processed and saved song: 512i\u001b[0m\n",
      "\u001b[1;32mINFO: Processing song: fuiste tú (feat. gaby moreno)\u001b[0m\n",
      "\u001b[1;32mINFO: Downloading song: fuiste tú (feat. gaby moreno)\u001b[0m\n",
      "\u001b[1;32mINFO: Successfully processed and saved song: fuiste tú (feat. gaby moreno)\u001b[0m\n",
      "\u001b[1;32mINFO: Processing song: duele el corazon (feat. wisin)\u001b[0m\n",
      "\u001b[1;32mINFO: Downloading song: duele el corazon (feat. wisin)\u001b[0m\n",
      "\u001b[1;32mINFO: Successfully processed and saved song: duele el corazon (feat. wisin)\u001b[0m\n",
      "\u001b[1;32mINFO: Processing song: the air that i breathe - 2008 remaster\u001b[0m\n",
      "\u001b[1;32mINFO: Downloading song: the air that i breathe - 2008 remaster\u001b[0m\n",
      "\u001b[1;32mINFO: Successfully processed and saved song: the air that i breathe - 2008 remaster\u001b[0m\n",
      "\u001b[1;32mINFO: Processing song: temptation got me\u001b[0m\n",
      "\u001b[1;32mINFO: Downloading song: temptation got me\u001b[0m\n",
      "                                                         \r"
     ]
    },
    {
     "name": "stderr",
     "output_type": "stream",
     "text": [
      "\u001b[1;33mWARNING: Lyrics not found for 'temptation got me' by homegrown using all available providers.\u001b[0m\n"
     ]
    },
    {
     "name": "stdout",
     "output_type": "stream",
     "text": [
      "\u001b[1;32mINFO: Successfully processed and saved song: temptation got me\u001b[0m\n",
      "\u001b[1;32mINFO: Processing song: death bed (coffee for your head)\u001b[0m\n",
      "\u001b[1;32mINFO: Downloading song: death bed (coffee for your head)\u001b[0m\n",
      "\u001b[1;32mINFO: Successfully processed and saved song: death bed (coffee for your head)\u001b[0m\n",
      "\u001b[1;32mINFO: Processing song: this is the life\u001b[0m\n",
      "\u001b[1;32mINFO: Downloading song: this is the life\u001b[0m\n",
      "\u001b[1;32mINFO: Successfully processed and saved song: this is the life\u001b[0m\n",
      "\u001b[1;32mINFO: Processing song: time for me to fly\u001b[0m\n",
      "\u001b[1;32mINFO: Downloading song: time for me to fly\u001b[0m\n",
      "\u001b[1;32mINFO: Successfully processed and saved song: time for me to fly\u001b[0m\n",
      "\u001b[1;32mINFO: Processing song: fotografía\u001b[0m\n",
      "\u001b[1;32mINFO: Downloading song: fotografía\u001b[0m\n",
      "\u001b[1;32mINFO: Successfully processed and saved song: fotografía\u001b[0m\n",
      "\u001b[1;32mINFO: Processing song: rysa na szkle\u001b[0m\n",
      "\u001b[1;32mINFO: Downloading song: rysa na szkle\u001b[0m\n",
      "                                                         \r"
     ]
    },
    {
     "name": "stderr",
     "output_type": "stream",
     "text": [
      "\u001b[1;33mWARNING: Lyrics not found for 'rysa na szkle' by maciek czemplik using all available providers.\u001b[0m\n"
     ]
    },
    {
     "name": "stdout",
     "output_type": "stream",
     "text": [
      "\u001b[1;32mINFO: Successfully processed and saved song: rysa na szkle\u001b[0m\n",
      "\u001b[1;32mINFO: Processing song: rysa na szkle - acoustic live\u001b[0m\n",
      "\u001b[1;32mINFO: Downloading song: rysa na szkle - acoustic live\u001b[0m\n",
      "\u001b[1;32mINFO: Successfully processed and saved song: rysa na szkle - acoustic live\u001b[0m\n",
      "\u001b[1;32mINFO: Processing song: stay alive (official esl theme)\u001b[0m\n",
      "\u001b[1;32mINFO: Downloading song: stay alive (official esl theme)\u001b[0m\n",
      "                                                         \r"
     ]
    },
    {
     "name": "stderr",
     "output_type": "stream",
     "text": [
      "\u001b[1;33mWARNING: Lyrics not found for 'stay a' by leet mob using all available providers.\u001b[0m\n"
     ]
    },
    {
     "name": "stdout",
     "output_type": "stream",
     "text": [
      "\u001b[1;32mINFO: Successfully processed and saved song: stay alive (official esl theme)\u001b[0m\n",
      "\u001b[1;32mINFO: Processing song: beautiful\u001b[0m\n",
      "\u001b[1;32mINFO: Downloading song: beautiful\u001b[0m\n",
      "                                                         \r"
     ]
    },
    {
     "name": "stderr",
     "output_type": "stream",
     "text": [
      "\u001b[1;33mWARNING: Lyrics not found for 'beautiful' by zachary nelson using all available providers.\u001b[0m\n"
     ]
    },
    {
     "name": "stdout",
     "output_type": "stream",
     "text": [
      "\u001b[1;32mINFO: Successfully processed and saved song: beautiful\u001b[0m\n",
      "\u001b[1;32mINFO: Processing song: that's the way it is\u001b[0m\n",
      "\u001b[1;32mINFO: Downloading song: that's the way it is\u001b[0m\n",
      "\u001b[1;32mINFO: Successfully processed and saved song: that's the way it is\u001b[0m\n",
      "\u001b[1;32mINFO: Processing song: i found a reason\u001b[0m\n",
      "\u001b[1;32mINFO: Downloading song: i found a reason\u001b[0m\n",
      "\u001b[1;32mINFO: Successfully processed and saved song: i found a reason\u001b[0m\n",
      "\u001b[1;32mINFO: Processing song: i want to\u001b[0m\n",
      "\u001b[1;32mINFO: Downloading song: i want to\u001b[0m\n",
      "                                                         \r"
     ]
    },
    {
     "name": "stderr",
     "output_type": "stream",
     "text": [
      "\u001b[1;33mWARNING: Lyrics not found for 'i want to' by phil buckle using all available providers.\u001b[0m\n"
     ]
    },
    {
     "name": "stdout",
     "output_type": "stream",
     "text": [
      "\u001b[1;32mINFO: Successfully processed and saved song: i want to\u001b[0m\n",
      "\u001b[1;32mINFO: Processing song: bella ciao\u001b[0m\n",
      "\u001b[1;32mINFO: Downloading song: bella ciao\u001b[0m\n",
      "                                                         \r"
     ]
    },
    {
     "name": "stderr",
     "output_type": "stream",
     "text": [
      "\u001b[1;33mWARNING: Lyrics not found for 'bella ciao' by najwa using all available providers.\u001b[0m\n"
     ]
    },
    {
     "name": "stdout",
     "output_type": "stream",
     "text": [
      "\u001b[1;32mINFO: Successfully processed and saved song: bella ciao\u001b[0m\n",
      "\u001b[1;32mINFO: Processing song: stoned soul\u001b[0m\n",
      "\u001b[1;32mINFO: Downloading song: stoned soul\u001b[0m\n",
      "                                                         \r"
     ]
    },
    {
     "name": "stderr",
     "output_type": "stream",
     "text": [
      "\u001b[1;33mWARNING: Lyrics not found for 'stoned soul' by janice dempsey using all available providers.\u001b[0m\n"
     ]
    },
    {
     "name": "stdout",
     "output_type": "stream",
     "text": [
      "\u001b[1;32mINFO: Successfully processed and saved song: stoned soul\u001b[0m\n",
      "\u001b[1;32mINFO: Processing song: wake up\u001b[0m\n",
      "\u001b[1;32mINFO: Song wake up already downloaded, skipping download.\u001b[0m\n",
      "\u001b[1;32mINFO: Successfully processed and saved song: wake up\u001b[0m\n",
      "\u001b[1;32mINFO: Processing song: cuando suba la marea\u001b[0m\n",
      "\u001b[1;32mINFO: Downloading song: cuando suba la marea\u001b[0m\n",
      "\u001b[1;32mINFO: Successfully processed and saved song: cuando suba la marea\u001b[0m\n",
      "\u001b[1;32mINFO: Processing song: centro di gravità permanente - remastered\u001b[0m\n",
      "\u001b[1;32mINFO: Downloading song: centro di gravità permanente - remastered\u001b[0m\n",
      "\u001b[1;32mINFO: Successfully processed and saved song: centro di gravità permanente - remastered\u001b[0m\n",
      "\u001b[1;32mINFO: Processing song: backbone\u001b[0m\n",
      "\u001b[1;32mINFO: Downloading song: backbone\u001b[0m\n",
      "\u001b[1;32mINFO: Successfully processed and saved song: backbone\u001b[0m\n",
      "\u001b[1;32mINFO: Processing song: water under the bridge\u001b[0m\n",
      "\u001b[1;32mINFO: Downloading song: water under the bridge\u001b[0m\n",
      "\u001b[1;32mINFO: Successfully processed and saved song: water under the bridge\u001b[0m\n",
      "\u001b[1;32mINFO: Processing song: la deriva\u001b[0m\n",
      "\u001b[1;32mINFO: Downloading song: la deriva\u001b[0m\n",
      "\u001b[1;32mINFO: Successfully processed and saved song: la deriva\u001b[0m\n",
      "\u001b[1;32mINFO: Processing song: another sunny day\u001b[0m\n",
      "\u001b[1;32mINFO: Downloading song: another sunny day\u001b[0m\n",
      "\u001b[1;32mINFO: Successfully processed and saved song: another sunny day\u001b[0m\n",
      "\u001b[1;32mINFO: Processing song: guajira guantanamera\u001b[0m\n",
      "\u001b[1;32mINFO: Downloading song: guajira guantanamera\u001b[0m\n",
      "\u001b[1;32mINFO: Successfully processed and saved song: guajira guantanamera\u001b[0m\n",
      "\u001b[1;32mINFO: Processing song: broken coastline\u001b[0m\n",
      "\u001b[1;32mINFO: Downloading song: broken coastline\u001b[0m\n",
      "\u001b[1;32mINFO: Successfully processed and saved song: broken coastline\u001b[0m\n",
      "\u001b[1;32mINFO: Processing song: rolling in the deep\u001b[0m\n",
      "\u001b[1;32mINFO: Downloading song: rolling in the deep\u001b[0m\n",
      "\u001b[1;32mINFO: Successfully processed and saved song: rolling in the deep\u001b[0m\n",
      "\u001b[1;32mINFO: Processing song: jealous\u001b[0m\n",
      "\u001b[1;32mINFO: Downloading song: jealous\u001b[0m\n",
      "\u001b[1;32mINFO: Successfully processed and saved song: jealous\u001b[0m\n",
      "\u001b[1;32mINFO: Processing song: cough syrup\u001b[0m\n",
      "\u001b[1;32mINFO: Downloading song: cough syrup\u001b[0m\n",
      "\u001b[1;32mINFO: Successfully processed and saved song: cough syrup\u001b[0m\n",
      "\u001b[1;32mINFO: Processing song: never enough\u001b[0m\n",
      "\u001b[1;32mINFO: Downloading song: never enough\u001b[0m\n",
      "\u001b[1;32mINFO: Successfully processed and saved song: never enough\u001b[0m\n",
      "\u001b[1;32mINFO: Processing song: stone cold\u001b[0m\n",
      "\u001b[1;32mINFO: Downloading song: stone cold\u001b[0m\n",
      "\u001b[1;32mINFO: Successfully processed and saved song: stone cold\u001b[0m\n",
      "\u001b[1;32mINFO: Processing song: dance monkey\u001b[0m\n",
      "\u001b[1;32mINFO: Downloading song: dance monkey\u001b[0m\n",
      "\u001b[1;32mINFO: Successfully processed and saved song: dance monkey\u001b[0m\n",
      "\u001b[1;32mINFO: Processing song: hey you - 2011 remastered version\u001b[0m\n",
      "\u001b[1;32mINFO: Downloading song: hey you - 2011 remastered version\u001b[0m\n",
      "\u001b[1;32mINFO: Successfully processed and saved song: hey you - 2011 remastered version\u001b[0m\n",
      "\u001b[1;32mINFO: Processing song: is there a ghost\u001b[0m\n",
      "\u001b[1;32mINFO: Downloading song: is there a ghost\u001b[0m\n",
      "\u001b[1;32mINFO: Successfully processed and saved song: is there a ghost\u001b[0m\n",
      "\u001b[1;32mINFO: Processing song: unbreakable\u001b[0m\n",
      "\u001b[1;32mINFO: Song unbreakable already downloaded, skipping download.\u001b[0m\n"
     ]
    },
    {
     "name": "stderr",
     "output_type": "stream",
     "text": [
      "\u001b[1;33mWARNING: Lyrics not found for 'unbreakable' by ellen once again using all available providers.\u001b[0m\n"
     ]
    },
    {
     "name": "stdout",
     "output_type": "stream",
     "text": [
      "\u001b[1;32mINFO: Successfully processed and saved song: unbreakable\u001b[0m\n",
      "\u001b[1;32mINFO: Processing song: knockin' on heaven's door\u001b[0m\n",
      "\u001b[1;32mINFO: Downloading song: knockin' on heaven's door\u001b[0m\n",
      "\u001b[1;32mINFO: Successfully processed and saved song: knockin' on heaven's door\u001b[0m\n",
      "\u001b[1;32mINFO: Processing song: my life is going on - música original de la serie de tv la casa de papel / money heist\u001b[0m\n",
      "\u001b[1;32mINFO: Downloading song: my life is going on - música original de la serie de tv la casa de papel / money heist\u001b[0m\n"
     ]
    },
    {
     "name": "stderr",
     "output_type": "stream",
     "text": [
      "\u001b[1;31mERROR: There was an error processing song: my life is going on - música original de la serie de tv la casa de papel / money heist by cecilia krull: [Errno 2] No such file or directory: '/home/krystian/Python/Jupyter-projects/thesis/songs_analysis/playlists/final download 2/my life is going on - música original de la serie de tv la casa de papel / money heist.jpg'\u001b[0m\n"
     ]
    },
    {
     "name": "stdout",
     "output_type": "stream",
     "text": [
      "\u001b[1;32mINFO: Processing song: what's up?\u001b[0m\n",
      "\u001b[1;32mINFO: Downloading song: what's up?\u001b[0m\n",
      "\u001b[1;32mINFO: Successfully processed and saved song: what's up?\u001b[0m\n",
      "\u001b[1;32mINFO: Processing song: roswell\u001b[0m\n",
      "\u001b[1;32mINFO: Downloading song: roswell\u001b[0m\n",
      "\u001b[1;32mINFO: Successfully processed and saved song: roswell\u001b[0m\n",
      "\u001b[1;32mINFO: Processing song: aawake at night\u001b[0m\n",
      "\u001b[1;32mINFO: Downloading song: aawake at night\u001b[0m\n",
      "\u001b[1;32mINFO: Successfully processed and saved song: aawake at night\u001b[0m\n",
      "\u001b[1;32mINFO: Processing song: here comes the sun\u001b[0m\n",
      "\u001b[1;32mINFO: Downloading song: here comes the sun\u001b[0m\n",
      "\u001b[1;32mINFO: Successfully processed and saved song: here comes the sun\u001b[0m\n",
      "\u001b[1;32mINFO: Processing song: parkie's pieces\u001b[0m\n",
      "\u001b[1;32mINFO: Downloading song: parkie's pieces\u001b[0m\n",
      "                                                         \r"
     ]
    },
    {
     "name": "stderr",
     "output_type": "stream",
     "text": [
      "\u001b[1;33mWARNING: Lyrics not found for 'parkie's pieces' by j.j. ipsen using all available providers.\u001b[0m\n"
     ]
    },
    {
     "name": "stdout",
     "output_type": "stream",
     "text": [
      "\u001b[1;32mINFO: Successfully processed and saved song: parkie's pieces\u001b[0m\n",
      "\u001b[1;32mINFO: Processing song: if you don't know me by now - 2008 remaster\u001b[0m\n",
      "\u001b[1;32mINFO: Downloading song: if you don't know me by now - 2008 remaster\u001b[0m\n",
      "\u001b[1;32mINFO: Successfully processed and saved song: if you don't know me by now - 2008 remaster\u001b[0m\n",
      "\u001b[1;32mINFO: Processing song: why am i the one\u001b[0m\n",
      "\u001b[1;32mINFO: Downloading song: why am i the one\u001b[0m\n",
      "\u001b[1;32mINFO: Successfully processed and saved song: why am i the one\u001b[0m\n",
      "\u001b[1;32mINFO: Processing song: the night we met\u001b[0m\n",
      "\u001b[1;32mINFO: Downloading song: the night we met\u001b[0m\n",
      "\u001b[1;32mINFO: Successfully processed and saved song: the night we met\u001b[0m\n",
      "\u001b[1;32mINFO: Processing song: some nights\u001b[0m\n",
      "\u001b[1;32mINFO: Downloading song: some nights\u001b[0m\n",
      "\u001b[1;32mINFO: Successfully processed and saved song: some nights\u001b[0m\n",
      "\u001b[1;32mINFO: Processing song: lose my number\u001b[0m\n",
      "\u001b[1;32mINFO: Downloading song: lose my number\u001b[0m\n",
      "\u001b[1;32mINFO: Successfully processed and saved song: lose my number\u001b[0m\n",
      "\u001b[1;32mINFO: Processing song: courtney's song\u001b[0m\n",
      "\u001b[1;32mINFO: Downloading song: courtney's song\u001b[0m\n",
      "\u001b[1;32mINFO: Successfully processed and saved song: courtney's song\u001b[0m\n",
      "\u001b[1;32mINFO: Processing song: someone you loved\u001b[0m\n",
      "\u001b[1;32mINFO: Downloading song: someone you loved\u001b[0m\n",
      "\u001b[1;32mINFO: Successfully processed and saved song: someone you loved\u001b[0m\n",
      "\u001b[1;32mINFO: Processing song: someone singing along\u001b[0m\n",
      "\u001b[1;32mINFO: Downloading song: someone singing along\u001b[0m\n",
      "\u001b[1;32mINFO: Successfully processed and saved song: someone singing along\u001b[0m\n",
      "\u001b[1;32mINFO: Processing song: carry on\u001b[0m\n",
      "\u001b[1;32mINFO: Downloading song: carry on\u001b[0m\n",
      "\u001b[1;32mINFO: Successfully processed and saved song: carry on\u001b[0m\n",
      "\u001b[1;32mINFO: Processing song: shape of my heart\u001b[0m\n",
      "\u001b[1;32mINFO: Downloading song: shape of my heart\u001b[0m\n",
      "\u001b[1;32mINFO: Successfully processed and saved song: shape of my heart\u001b[0m\n",
      "\u001b[1;32mINFO: Processing song: rivers\u001b[0m\n",
      "\u001b[1;32mINFO: Downloading song: rivers\u001b[0m\n",
      "\u001b[1;32mINFO: Successfully processed and saved song: rivers\u001b[0m\n",
      "\u001b[1;32mINFO: Processing song: time of our lives\u001b[0m\n",
      "\u001b[1;32mINFO: Downloading song: time of our lives\u001b[0m\n",
      "\u001b[1;32mINFO: Successfully processed and saved song: time of our lives\u001b[0m\n",
      "\u001b[1;32mINFO: Processing song: youngster\u001b[0m\n",
      "\u001b[1;32mINFO: Downloading song: youngster\u001b[0m\n",
      "\u001b[1;32mINFO: Successfully processed and saved song: youngster\u001b[0m\n",
      "\u001b[1;32mINFO: Processing song: blue on blue\u001b[0m\n",
      "\u001b[1;32mINFO: Downloading song: blue on blue\u001b[0m\n",
      "\u001b[1;32mINFO: Successfully processed and saved song: blue on blue\u001b[0m\n",
      "\u001b[1;32mINFO: Processing song: don't give me those eyes\u001b[0m\n",
      "\u001b[1;32mINFO: Downloading song: don't give me those eyes\u001b[0m\n",
      "\u001b[1;32mINFO: Successfully processed and saved song: don't give me those eyes\u001b[0m\n",
      "\u001b[1;32mINFO: Processing song: stay the night\u001b[0m\n",
      "\u001b[1;32mINFO: Downloading song: stay the night\u001b[0m\n",
      "\u001b[1;32mINFO: Successfully processed and saved song: stay the night\u001b[0m\n",
      "\u001b[1;32mINFO: Processing song: i'll be your man\u001b[0m\n",
      "\u001b[1;32mINFO: Downloading song: i'll be your man\u001b[0m\n",
      "\u001b[1;32mINFO: Successfully processed and saved song: i'll be your man\u001b[0m\n",
      "\u001b[1;32mINFO: Processing song: 1973\u001b[0m\n",
      "\u001b[1;32mINFO: Downloading song: 1973\u001b[0m\n",
      "\u001b[1;32mINFO: Successfully processed and saved song: 1973\u001b[0m\n",
      "\u001b[1;32mINFO: Processing song: high\u001b[0m\n",
      "\u001b[1;32mINFO: Downloading song: high\u001b[0m\n",
      "\u001b[1;32mINFO: Successfully processed and saved song: high\u001b[0m\n",
      "\u001b[1;32mINFO: Processing song: wisemen\u001b[0m\n",
      "\u001b[1;32mINFO: Downloading song: wisemen\u001b[0m\n",
      "\u001b[1;32mINFO: Successfully processed and saved song: wisemen\u001b[0m\n",
      "\u001b[1;32mINFO: Processing song: heart to heart\u001b[0m\n",
      "\u001b[1;32mINFO: Downloading song: heart to heart\u001b[0m\n",
      "\u001b[1;32mINFO: Successfully processed and saved song: heart to heart\u001b[0m\n",
      "\u001b[1;32mINFO: Processing song: when i find love again - apollo edition version\u001b[0m\n",
      "\u001b[1;32mINFO: Downloading song: when i find love again - apollo edition version\u001b[0m\n",
      "\u001b[1;32mINFO: Successfully processed and saved song: when i find love again - apollo edition version\u001b[0m\n",
      "\u001b[1;32mINFO: Processing song: bartender\u001b[0m\n",
      "\u001b[1;32mINFO: Downloading song: bartender\u001b[0m\n",
      "\u001b[1;32mINFO: Successfully processed and saved song: bartender\u001b[0m\n",
      "\u001b[1;32mINFO: Processing song: love me better\u001b[0m\n",
      "\u001b[1;32mINFO: Downloading song: love me better\u001b[0m\n",
      "\u001b[1;32mINFO: Successfully processed and saved song: love me better\u001b[0m\n",
      "\u001b[1;32mINFO: Processing song: postcards\u001b[0m\n",
      "\u001b[1;32mINFO: Downloading song: postcards\u001b[0m\n",
      "\u001b[1;32mINFO: Successfully processed and saved song: postcards\u001b[0m\n",
      "\u001b[1;32mINFO: Processing song: girls just want to have fun\u001b[0m\n",
      "\u001b[1;32mINFO: Downloading song: girls just want to have fun\u001b[0m\n",
      "\u001b[1;32mINFO: Successfully processed and saved song: girls just want to have fun\u001b[0m\n",
      "\u001b[1;32mINFO: Processing song: start again (feat. logic)\u001b[0m\n",
      "\u001b[1;32mINFO: Downloading song: start again (feat. logic)\u001b[0m\n",
      "\u001b[1;32mINFO: Successfully processed and saved song: start again (feat. logic)\u001b[0m\n",
      "\u001b[1;32mINFO: Processing song: carry you home\u001b[0m\n",
      "\u001b[1;32mINFO: Downloading song: carry you home\u001b[0m\n",
      "\u001b[1;32mINFO: Successfully processed and saved song: carry you home\u001b[0m\n",
      "\u001b[1;32mINFO: Processing song: unshaken\u001b[0m\n",
      "\u001b[1;32mINFO: Downloading song: unshaken\u001b[0m\n",
      "                                                         \r"
     ]
    },
    {
     "name": "stderr",
     "output_type": "stream",
     "text": [
      "\u001b[1;33mWARNING: Lyrics not found for 'unshaken' by d'angelo using all available providers.\u001b[0m\n"
     ]
    },
    {
     "name": "stdout",
     "output_type": "stream",
     "text": [
      "\u001b[1;32mINFO: Successfully processed and saved song: unshaken\u001b[0m\n",
      "\u001b[1;32mINFO: Processing song: stay with me\u001b[0m\n",
      "\u001b[1;32mINFO: Downloading song: stay with me\u001b[0m\n",
      "\u001b[1;32mINFO: Successfully processed and saved song: stay with me\u001b[0m\n",
      "\u001b[1;32mINFO: Processing song: last goodbye\u001b[0m\n",
      "\u001b[1;32mINFO: Downloading song: last goodbye\u001b[0m\n",
      "                                                         \r"
     ]
    },
    {
     "name": "stderr",
     "output_type": "stream",
     "text": [
      "\u001b[1;33mWARNING: Lyrics not found for 'last goodbye' by eric kinny using all available providers.\u001b[0m\n"
     ]
    },
    {
     "name": "stdout",
     "output_type": "stream",
     "text": [
      "\u001b[1;32mINFO: Successfully processed and saved song: last goodbye\u001b[0m\n",
      "\u001b[1;32mINFO: Processing song: high by the beach\u001b[0m\n",
      "\u001b[1;32mINFO: Downloading song: high by the beach\u001b[0m\n",
      "\u001b[1;32mINFO: Successfully processed and saved song: high by the beach\u001b[0m\n",
      "\u001b[1;32mINFO: Processing song: didn't i\u001b[0m\n",
      "\u001b[1;32mINFO: Downloading song: didn't i\u001b[0m\n",
      "\u001b[1;32mINFO: Successfully processed and saved song: didn't i\u001b[0m\n",
      "\u001b[1;32mINFO: Processing song: no one's gonna ever love u\u001b[0m\n",
      "\u001b[1;32mINFO: Downloading song: no one's gonna ever love u\u001b[0m\n",
      "\u001b[1;32mINFO: Successfully processed and saved song: no one's gonna ever love u\u001b[0m\n",
      "\u001b[1;32mINFO: Processing song: dałbym ci wszystko\u001b[0m\n",
      "\u001b[1;32mINFO: Downloading song: dałbym ci wszystko\u001b[0m\n",
      "                                                         \r"
     ]
    },
    {
     "name": "stderr",
     "output_type": "stream",
     "text": [
      "\u001b[1;33mWARNING: Lyrics not found for 'dałbym ci wszystko' by zimnv using all available providers.\u001b[0m\n"
     ]
    },
    {
     "name": "stdout",
     "output_type": "stream",
     "text": [
      "\u001b[1;32mINFO: Successfully processed and saved song: dałbym ci wszystko\u001b[0m\n",
      "\u001b[1;32mINFO: Processing song: left outside alone\u001b[0m\n",
      "\u001b[1;32mINFO: Downloading song: left outside alone\u001b[0m\n",
      "\u001b[1;32mINFO: Successfully processed and saved song: left outside alone\u001b[0m\n",
      "\u001b[1;32mINFO: Processing song: alter ego\u001b[0m\n",
      "\u001b[1;32mINFO: Downloading song: alter ego\u001b[0m\n",
      "\u001b[1;32mINFO: Successfully processed and saved song: alter ego\u001b[0m\n",
      "\u001b[1;32mINFO: Processing song: trouble in town\u001b[0m\n",
      "\u001b[1;32mINFO: Downloading song: trouble in town\u001b[0m\n",
      "\u001b[1;32mINFO: Successfully processed and saved song: trouble in town\u001b[0m\n",
      "\u001b[1;32mINFO: Processing song: glass houses\u001b[0m\n",
      "\u001b[1;32mINFO: Downloading song: glass houses\u001b[0m\n",
      "\u001b[1;32mINFO: Successfully processed and saved song: glass houses\u001b[0m\n",
      "\u001b[1;32mINFO: Processing song: home\u001b[0m\n",
      "\u001b[1;32mINFO: Song home already downloaded, skipping download.\u001b[0m\n"
     ]
    },
    {
     "name": "stderr",
     "output_type": "stream",
     "text": [
      "\u001b[1;33mWARNING: Lyrics not found for 'home' by amarante using all available providers.\u001b[0m\n"
     ]
    },
    {
     "name": "stdout",
     "output_type": "stream",
     "text": [
      "\u001b[1;32mINFO: Successfully processed and saved song: home\u001b[0m\n",
      "\u001b[1;32mINFO: Processing song: time after time\u001b[0m\n",
      "\u001b[1;32mINFO: Downloading song: time after time\u001b[0m\n",
      "\u001b[1;32mINFO: Successfully processed and saved song: time after time\u001b[0m\n",
      "\u001b[1;32mINFO: Processing song: ten times the weight\u001b[0m\n",
      "\u001b[1;32mINFO: Downloading song: ten times the weight\u001b[0m\n",
      "\u001b[1;32mINFO: Successfully processed and saved song: ten times the weight\u001b[0m\n",
      "\u001b[1;32mINFO: Processing song: monsters\u001b[0m\n",
      "\u001b[1;32mINFO: Downloading song: monsters\u001b[0m\n",
      "                                                         \r"
     ]
    },
    {
     "name": "stderr",
     "output_type": "stream",
     "text": [
      "\u001b[1;33mWARNING: Lyrics not found for 'monsters' by hazlett using all available providers.\u001b[0m\n"
     ]
    },
    {
     "name": "stdout",
     "output_type": "stream",
     "text": [
      "\u001b[1;32mINFO: Successfully processed and saved song: monsters\u001b[0m\n",
      "\u001b[1;32mINFO: Processing song: glass houses - acoustic\u001b[0m\n",
      "\u001b[1;32mINFO: Downloading song: glass houses - acoustic\u001b[0m\n",
      "\u001b[1;32mINFO: Successfully processed and saved song: glass houses - acoustic\u001b[0m\n",
      "\u001b[1;32mINFO: Processing song: voices\u001b[0m\n",
      "\u001b[1;32mINFO: Downloading song: voices\u001b[0m\n",
      "\u001b[1;32mINFO: Successfully processed and saved song: voices\u001b[0m\n",
      "\u001b[1;32mINFO: Processing song: sunrise - acoustic\u001b[0m\n",
      "\u001b[1;32mINFO: Downloading song: sunrise - acoustic\u001b[0m\n",
      "\u001b[1;32mINFO: Successfully processed and saved song: sunrise - acoustic\u001b[0m\n",
      "\u001b[1;32mINFO: Processing song: i miss the old days too\u001b[0m\n",
      "\u001b[1;32mINFO: Downloading song: i miss the old days too\u001b[0m\n",
      "\u001b[1;32mINFO: Successfully processed and saved song: i miss the old days too\u001b[0m\n",
      "\u001b[1;32mINFO: Processing song: sentimental\u001b[0m\n",
      "\u001b[1;32mINFO: Downloading song: sentimental\u001b[0m\n",
      "\u001b[1;32mINFO: Successfully processed and saved song: sentimental\u001b[0m\n",
      "\u001b[1;32mINFO: Processing song: let's hurt tonight\u001b[0m\n",
      "\u001b[1;32mINFO: Downloading song: let's hurt tonight\u001b[0m\n",
      "\u001b[1;32mINFO: Successfully processed and saved song: let's hurt tonight\u001b[0m\n",
      "\u001b[1;32mINFO: Processing song: i'm not a saint\u001b[0m\n",
      "\u001b[1;32mINFO: Downloading song: i'm not a saint\u001b[0m\n",
      "\u001b[1;32mINFO: Successfully processed and saved song: i'm not a saint\u001b[0m\n",
      "\u001b[1;32mINFO: Processing song: until the hurting is gone\u001b[0m\n",
      "\u001b[1;32mINFO: Downloading song: until the hurting is gone\u001b[0m\n",
      "\u001b[1;32mINFO: Successfully processed and saved song: until the hurting is gone\u001b[0m\n",
      "\u001b[1;32mINFO: Processing song: ghost\u001b[0m\n",
      "\u001b[1;32mINFO: Downloading song: ghost\u001b[0m\n",
      "\u001b[1;32mINFO: Successfully processed and saved song: ghost\u001b[0m\n",
      "\u001b[1;32mINFO: Processing song: dreamer\u001b[0m\n",
      "\u001b[1;32mINFO: Downloading song: dreamer\u001b[0m\n",
      "                                                         \r"
     ]
    },
    {
     "name": "stderr",
     "output_type": "stream",
     "text": [
      "\u001b[1;33mWARNING: Lyrics not found for 'dreamer' by sunrise avenue using all available providers.\u001b[0m\n"
     ]
    },
    {
     "name": "stdout",
     "output_type": "stream",
     "text": [
      "\u001b[1;32mINFO: Successfully processed and saved song: dreamer\u001b[0m\n",
      "\u001b[1;32mINFO: Processing song: thank you for everything\u001b[0m\n",
      "\u001b[1;32mINFO: Downloading song: thank you for everything\u001b[0m\n",
      "\u001b[1;32mINFO: Successfully processed and saved song: thank you for everything\u001b[0m\n",
      "\u001b[1;32mINFO: Processing song: i help you hate me\u001b[0m\n",
      "\u001b[1;32mINFO: Downloading song: i help you hate me\u001b[0m\n",
      "\u001b[1;32mINFO: Successfully processed and saved song: i help you hate me\u001b[0m\n",
      "\u001b[1;32mINFO: Processing song: when the rain begins to fall\u001b[0m\n",
      "\u001b[1;32mINFO: Downloading song: when the rain begins to fall\u001b[0m\n",
      "\u001b[1;32mINFO: Successfully processed and saved song: when the rain begins to fall\u001b[0m\n",
      "\u001b[1;32mINFO: Processing song: fairytale gone bad\u001b[0m\n",
      "\u001b[1;32mINFO: Downloading song: fairytale gone bad\u001b[0m\n",
      "\u001b[1;32mINFO: Successfully processed and saved song: fairytale gone bad\u001b[0m\n",
      "\u001b[1;32mINFO: Processing song: brave shine\u001b[0m\n",
      "\u001b[1;32mINFO: Downloading song: brave shine\u001b[0m\n",
      "\u001b[1;32mINFO: Successfully processed and saved song: brave shine\u001b[0m\n",
      "\u001b[1;32mINFO: Processing song: human\u001b[0m\n",
      "\u001b[1;32mINFO: Downloading song: human\u001b[0m\n",
      "\u001b[1;32mINFO: Successfully processed and saved song: human\u001b[0m\n",
      "\u001b[1;32mINFO: Processing song: home\u001b[0m\n",
      "\u001b[1;32mINFO: Song home already downloaded, skipping download.\u001b[0m\n",
      "\u001b[1;32mINFO: Successfully processed and saved song: home\u001b[0m\n",
      "\u001b[1;32mINFO: Processing song: i don't want to fall in love\u001b[0m\n",
      "\u001b[1;32mINFO: Downloading song: i don't want to fall in love\u001b[0m\n",
      "\u001b[1;32mINFO: Successfully processed and saved song: i don't want to fall in love\u001b[0m\n",
      "\u001b[1;32mINFO: Processing song: patience\u001b[0m\n",
      "\u001b[1;32mINFO: Song patience already downloaded, skipping download.\u001b[0m\n"
     ]
    },
    {
     "name": "stderr",
     "output_type": "stream",
     "text": [
      "\u001b[1;33mWARNING: Lyrics not found for 'patience' by hollow coves using all available providers.\u001b[0m\n"
     ]
    },
    {
     "name": "stdout",
     "output_type": "stream",
     "text": [
      "\u001b[1;32mINFO: Successfully processed and saved song: patience\u001b[0m\n",
      "\u001b[1;32mINFO: Processing song: to be with you\u001b[0m\n",
      "\u001b[1;32mINFO: Downloading song: to be with you\u001b[0m\n",
      "\u001b[1;32mINFO: Successfully processed and saved song: to be with you\u001b[0m\n",
      "\u001b[1;32mINFO: Processing song: strange birds\u001b[0m\n",
      "\u001b[1;32mINFO: Downloading song: strange birds\u001b[0m\n",
      "\u001b[1;32mINFO: Successfully processed and saved song: strange birds\u001b[0m\n",
      "\u001b[1;32mINFO: Processing song: all about you\u001b[0m\n",
      "\u001b[1;32mINFO: Downloading song: all about you\u001b[0m\n",
      "\u001b[1;32mINFO: Successfully processed and saved song: all about you\u001b[0m\n",
      "\u001b[1;32mINFO: Processing song: home\u001b[0m\n",
      "\u001b[1;32mINFO: Song home already downloaded, skipping download.\u001b[0m\n",
      "\u001b[1;32mINFO: Successfully processed and saved song: home\u001b[0m\n",
      "\u001b[1;32mINFO: Processing song: no angel\u001b[0m\n",
      "\u001b[1;32mINFO: Downloading song: no angel\u001b[0m\n",
      "\u001b[1;32mINFO: Successfully processed and saved song: no angel\u001b[0m\n",
      "\u001b[1;32mINFO: Processing song: maybe\u001b[0m\n",
      "\u001b[1;32mINFO: Song maybe already downloaded, skipping download.\u001b[0m\n",
      "\u001b[1;32mINFO: Successfully processed and saved song: maybe\u001b[0m\n",
      "\u001b[1;32mINFO: Processing song: heart of gold\u001b[0m\n",
      "\u001b[1;32mINFO: Downloading song: heart of gold\u001b[0m\n",
      "\u001b[1;32mINFO: Successfully processed and saved song: heart of gold\u001b[0m\n",
      "\u001b[1;32mINFO: Processing song: spanish bombs - remastered\u001b[0m\n",
      "\u001b[1;32mINFO: Downloading song: spanish bombs - remastered\u001b[0m\n",
      "\u001b[1;32mINFO: Successfully processed and saved song: spanish bombs - remastered\u001b[0m\n",
      "\u001b[1;32mINFO: Processing song: changes\u001b[0m\n",
      "\u001b[1;32mINFO: Song changes already downloaded, skipping download.\u001b[0m\n",
      "\u001b[1;32mINFO: Successfully processed and saved song: changes\u001b[0m\n",
      "\u001b[1;32mINFO: Processing song: find me\u001b[0m\n",
      "\u001b[1;32mINFO: Downloading song: find me\u001b[0m\n",
      "\u001b[1;32mINFO: Successfully processed and saved song: find me\u001b[0m\n",
      "\u001b[1;32mINFO: Processing song: lonely girl\u001b[0m\n",
      "\u001b[1;32mINFO: Downloading song: lonely girl\u001b[0m\n",
      "\u001b[1;32mINFO: Successfully processed and saved song: lonely girl\u001b[0m\n",
      "\u001b[1;32mINFO: Processing song: emotionless\u001b[0m\n",
      "\u001b[1;32mINFO: Downloading song: emotionless\u001b[0m\n",
      "\u001b[1;32mINFO: Successfully processed and saved song: emotionless\u001b[0m\n",
      "\u001b[1;32mINFO: Processing song: the otherside\u001b[0m\n",
      "\u001b[1;32mINFO: Song the otherside already downloaded, skipping download.\u001b[0m\n",
      "\u001b[1;32mINFO: Successfully processed and saved song: the otherside\u001b[0m\n",
      "\u001b[1;32mINFO: Processing song: light me up\u001b[0m\n",
      "\u001b[1;32mINFO: Downloading song: light me up\u001b[0m\n",
      "\u001b[1;32mINFO: Successfully processed and saved song: light me up\u001b[0m\n",
      "\u001b[1;32mINFO: Processing song: shelter\u001b[0m\n",
      "\u001b[1;32mINFO: Song shelter already downloaded, skipping download.\u001b[0m\n",
      "\u001b[1;32mINFO: Successfully processed and saved song: shelter\u001b[0m\n",
      "\u001b[1;32mINFO: Processing song: c'est la vie\u001b[0m\n",
      "\u001b[1;32mINFO: Downloading song: c'est la vie\u001b[0m\n",
      "\u001b[1;32mINFO: Successfully processed and saved song: c'est la vie\u001b[0m\n",
      "\u001b[1;32mINFO: Processing song: people help the people\u001b[0m\n",
      "\u001b[1;32mINFO: Downloading song: people help the people\u001b[0m\n",
      "\u001b[1;32mINFO: Successfully processed and saved song: people help the people\u001b[0m\n",
      "\u001b[1;32mINFO: Audio features and metadata saved to /home/krystian/Python/Jupyter-projects/thesis/songs_analysis/playlists/final download 2/final download 2.csv\u001b[0m\n"
     ]
    }
   ],
   "source": [
    "final_download_1_uri = '5yMkxmCpYEinULq68rAj53'\n",
    "final_download_2_uri = '7zhbpv3MIAermGw2SJ3wMm'\n",
    "\n",
    "spotify_manager = SpotifyManager(client_id=os.environ.get(\"client_id\"), client_secret=os.environ.get(\"client_secret\"))\n",
    "\n",
    "playlist = Playlist(uri=final_download_2_uri, spotify_manager=spotify_manager)\n",
    "\n",
    "playlist.load_songs(download_when_no_lyrics=True)"
   ]
  },
  {
   "cell_type": "code",
   "execution_count": 245,
   "id": "739719b1-3fc5-4cf2-9d7f-e6351fb5d513",
   "metadata": {},
   "outputs": [
    {
     "name": "stdout",
     "output_type": "stream",
     "text": [
      "Loading CSV file: /home/krystian/Python/Jupyter-projects/thesis/songs_analysis/playlists/final download 1/final download 1.csv\n",
      "Loading CSV file: /home/krystian/Python/Jupyter-projects/thesis/songs_analysis/playlists/final download 2/final download 2.csv\n"
     ]
    }
   ],
   "source": [
    "playlists_dir = 'audio_sentiment_classifier/playlists'\n",
    "playlists_dir = os.path.join(\"/\".join(os.path.abspath(os.path.realpath(__name__)).split(\"/\")[:-1]), \"playlists\")\n",
    "df = gather_data_from_folders(playlists_dir)"
   ]
  },
  {
   "cell_type": "code",
   "execution_count": 246,
   "id": "82d805c4-a9f7-42f6-b360-75cc9633d04c",
   "metadata": {},
   "outputs": [
    {
     "data": {
      "text/html": [
       "<div>\n",
       "<style scoped>\n",
       "    .dataframe tbody tr th:only-of-type {\n",
       "        vertical-align: middle;\n",
       "    }\n",
       "\n",
       "    .dataframe tbody tr th {\n",
       "        vertical-align: top;\n",
       "    }\n",
       "\n",
       "    .dataframe thead th {\n",
       "        text-align: right;\n",
       "    }\n",
       "</style>\n",
       "<table border=\"1\" class=\"dataframe\">\n",
       "  <thead>\n",
       "    <tr style=\"text-align: right;\">\n",
       "      <th></th>\n",
       "      <th>title</th>\n",
       "      <th>artist</th>\n",
       "      <th>mp3_path</th>\n",
       "      <th>lyrics</th>\n",
       "      <th>popularity</th>\n",
       "      <th>explicit</th>\n",
       "      <th>album_release_year</th>\n",
       "      <th>duration_ms</th>\n",
       "      <th>danceability</th>\n",
       "      <th>energy</th>\n",
       "      <th>...</th>\n",
       "      <th>chroma_12</th>\n",
       "      <th>spectral_contrast_1</th>\n",
       "      <th>spectral_contrast_2</th>\n",
       "      <th>spectral_contrast_3</th>\n",
       "      <th>spectral_contrast_4</th>\n",
       "      <th>spectral_contrast_5</th>\n",
       "      <th>spectral_contrast_6</th>\n",
       "      <th>spectral_contrast_7</th>\n",
       "      <th>tempo_extracted</th>\n",
       "      <th>zcr</th>\n",
       "    </tr>\n",
       "  </thead>\n",
       "  <tbody>\n",
       "    <tr>\n",
       "      <th>0</th>\n",
       "      <td>skinny love</td>\n",
       "      <td>birdy</td>\n",
       "      <td>/home/krystian/Python/Jupyter-projects/thesis/...</td>\n",
       "      <td>Come on, skinny love, just last the year\\nPour...</td>\n",
       "      <td>71.0</td>\n",
       "      <td>False</td>\n",
       "      <td>2011.0</td>\n",
       "      <td>201080.0</td>\n",
       "      <td>0.379</td>\n",
       "      <td>0.290</td>\n",
       "      <td>...</td>\n",
       "      <td>0.353238</td>\n",
       "      <td>17.627332</td>\n",
       "      <td>13.771729</td>\n",
       "      <td>19.275149</td>\n",
       "      <td>22.244659</td>\n",
       "      <td>23.802122</td>\n",
       "      <td>22.563887</td>\n",
       "      <td>46.881367</td>\n",
       "      <td>119.680851</td>\n",
       "      <td>0.031446</td>\n",
       "    </tr>\n",
       "    <tr>\n",
       "      <th>1</th>\n",
       "      <td>deathwish</td>\n",
       "      <td>red sun rising</td>\n",
       "      <td>/home/krystian/Python/Jupyter-projects/thesis/...</td>\n",
       "      <td>Life is fleeting by the slow\\nIt chills us to ...</td>\n",
       "      <td>NaN</td>\n",
       "      <td>False</td>\n",
       "      <td>2018.0</td>\n",
       "      <td>287946.0</td>\n",
       "      <td>0.508</td>\n",
       "      <td>0.882</td>\n",
       "      <td>...</td>\n",
       "      <td>0.490154</td>\n",
       "      <td>16.215804</td>\n",
       "      <td>10.309580</td>\n",
       "      <td>13.744232</td>\n",
       "      <td>16.058571</td>\n",
       "      <td>17.278253</td>\n",
       "      <td>16.887822</td>\n",
       "      <td>53.087236</td>\n",
       "      <td>133.928571</td>\n",
       "      <td>0.051242</td>\n",
       "    </tr>\n",
       "    <tr>\n",
       "      <th>2</th>\n",
       "      <td>iris</td>\n",
       "      <td>the goo goo dolls</td>\n",
       "      <td>/home/krystian/Python/Jupyter-projects/thesis/...</td>\n",
       "      <td>And I'd give up forever to touch you\\n'Cause I...</td>\n",
       "      <td>71.0</td>\n",
       "      <td>False</td>\n",
       "      <td>2007.0</td>\n",
       "      <td>289906.0</td>\n",
       "      <td>0.291</td>\n",
       "      <td>0.790</td>\n",
       "      <td>...</td>\n",
       "      <td>0.487768</td>\n",
       "      <td>15.357601</td>\n",
       "      <td>10.201447</td>\n",
       "      <td>13.698081</td>\n",
       "      <td>17.050868</td>\n",
       "      <td>18.783636</td>\n",
       "      <td>17.473927</td>\n",
       "      <td>56.185155</td>\n",
       "      <td>152.027027</td>\n",
       "      <td>0.069683</td>\n",
       "    </tr>\n",
       "    <tr>\n",
       "      <th>3</th>\n",
       "      <td>the woods</td>\n",
       "      <td>hollow coves</td>\n",
       "      <td>/home/krystian/Python/Jupyter-projects/thesis/...</td>\n",
       "      <td>No lyrics found</td>\n",
       "      <td>NaN</td>\n",
       "      <td>False</td>\n",
       "      <td>2017.0</td>\n",
       "      <td>241546.0</td>\n",
       "      <td>0.802</td>\n",
       "      <td>0.410</td>\n",
       "      <td>...</td>\n",
       "      <td>0.505834</td>\n",
       "      <td>16.528073</td>\n",
       "      <td>10.935291</td>\n",
       "      <td>16.385667</td>\n",
       "      <td>18.056113</td>\n",
       "      <td>19.254186</td>\n",
       "      <td>18.392819</td>\n",
       "      <td>52.349427</td>\n",
       "      <td>106.132075</td>\n",
       "      <td>0.026942</td>\n",
       "    </tr>\n",
       "    <tr>\n",
       "      <th>4</th>\n",
       "      <td>don't dream it's over</td>\n",
       "      <td>crowded house</td>\n",
       "      <td>/home/krystian/Python/Jupyter-projects/thesis/...</td>\n",
       "      <td>There is freedom within\\nThere is freedom with...</td>\n",
       "      <td>NaN</td>\n",
       "      <td>False</td>\n",
       "      <td>2017.0</td>\n",
       "      <td>231377.0</td>\n",
       "      <td>0.403</td>\n",
       "      <td>0.746</td>\n",
       "      <td>...</td>\n",
       "      <td>0.428388</td>\n",
       "      <td>14.941456</td>\n",
       "      <td>11.061548</td>\n",
       "      <td>15.084157</td>\n",
       "      <td>17.604808</td>\n",
       "      <td>18.362215</td>\n",
       "      <td>18.056211</td>\n",
       "      <td>51.318052</td>\n",
       "      <td>160.714286</td>\n",
       "      <td>0.044647</td>\n",
       "    </tr>\n",
       "    <tr>\n",
       "      <th>...</th>\n",
       "      <td>...</td>\n",
       "      <td>...</td>\n",
       "      <td>...</td>\n",
       "      <td>...</td>\n",
       "      <td>...</td>\n",
       "      <td>...</td>\n",
       "      <td>...</td>\n",
       "      <td>...</td>\n",
       "      <td>...</td>\n",
       "      <td>...</td>\n",
       "      <td>...</td>\n",
       "      <td>...</td>\n",
       "      <td>...</td>\n",
       "      <td>...</td>\n",
       "      <td>...</td>\n",
       "      <td>...</td>\n",
       "      <td>...</td>\n",
       "      <td>...</td>\n",
       "      <td>...</td>\n",
       "      <td>...</td>\n",
       "      <td>...</td>\n",
       "    </tr>\n",
       "    <tr>\n",
       "      <th>2973</th>\n",
       "      <td>the otherside</td>\n",
       "      <td>red sun rising</td>\n",
       "      <td>/home/krystian/Python/Jupyter-projects/thesis/...</td>\n",
       "      <td>I know I'm not as hot as the flame that\\nBurne...</td>\n",
       "      <td>42.0</td>\n",
       "      <td>False</td>\n",
       "      <td>2016.0</td>\n",
       "      <td>216106.0</td>\n",
       "      <td>0.526</td>\n",
       "      <td>0.761</td>\n",
       "      <td>...</td>\n",
       "      <td>0.566149</td>\n",
       "      <td>16.620673</td>\n",
       "      <td>11.514326</td>\n",
       "      <td>14.608131</td>\n",
       "      <td>17.716818</td>\n",
       "      <td>19.001943</td>\n",
       "      <td>17.132375</td>\n",
       "      <td>51.418460</td>\n",
       "      <td>122.282609</td>\n",
       "      <td>0.034019</td>\n",
       "    </tr>\n",
       "    <tr>\n",
       "      <th>2974</th>\n",
       "      <td>light me up</td>\n",
       "      <td>birdy</td>\n",
       "      <td>/home/krystian/Python/Jupyter-projects/thesis/...</td>\n",
       "      <td>I'm finding my heart\\nUsing my hands\\nYou're m...</td>\n",
       "      <td>30.0</td>\n",
       "      <td>False</td>\n",
       "      <td>2013.0</td>\n",
       "      <td>255506.0</td>\n",
       "      <td>0.722</td>\n",
       "      <td>0.678</td>\n",
       "      <td>...</td>\n",
       "      <td>0.414693</td>\n",
       "      <td>13.234667</td>\n",
       "      <td>11.195643</td>\n",
       "      <td>14.890077</td>\n",
       "      <td>16.988014</td>\n",
       "      <td>18.786151</td>\n",
       "      <td>16.732640</td>\n",
       "      <td>52.608561</td>\n",
       "      <td>98.684211</td>\n",
       "      <td>0.046682</td>\n",
       "    </tr>\n",
       "    <tr>\n",
       "      <th>2975</th>\n",
       "      <td>shelter</td>\n",
       "      <td>birdy</td>\n",
       "      <td>/home/krystian/Python/Jupyter-projects/thesis/...</td>\n",
       "      <td>I find shelter in this way\\nUndercover, hideaw...</td>\n",
       "      <td>45.0</td>\n",
       "      <td>False</td>\n",
       "      <td>2011.0</td>\n",
       "      <td>224866.0</td>\n",
       "      <td>0.379</td>\n",
       "      <td>0.196</td>\n",
       "      <td>...</td>\n",
       "      <td>0.472153</td>\n",
       "      <td>17.503329</td>\n",
       "      <td>11.104159</td>\n",
       "      <td>13.950744</td>\n",
       "      <td>16.168215</td>\n",
       "      <td>18.252631</td>\n",
       "      <td>17.261166</td>\n",
       "      <td>54.274538</td>\n",
       "      <td>148.026316</td>\n",
       "      <td>0.056827</td>\n",
       "    </tr>\n",
       "    <tr>\n",
       "      <th>2976</th>\n",
       "      <td>c'est la vie</td>\n",
       "      <td>shania twain</td>\n",
       "      <td>/home/krystian/Python/Jupyter-projects/thesis/...</td>\n",
       "      <td>It must be Monday! What a dumb day!\\nCan't dra...</td>\n",
       "      <td>23.0</td>\n",
       "      <td>False</td>\n",
       "      <td>2002.0</td>\n",
       "      <td>218960.0</td>\n",
       "      <td>0.597</td>\n",
       "      <td>0.834</td>\n",
       "      <td>...</td>\n",
       "      <td>0.417470</td>\n",
       "      <td>15.187408</td>\n",
       "      <td>10.675326</td>\n",
       "      <td>15.431929</td>\n",
       "      <td>18.240744</td>\n",
       "      <td>20.644744</td>\n",
       "      <td>18.463993</td>\n",
       "      <td>58.193529</td>\n",
       "      <td>92.213115</td>\n",
       "      <td>0.072854</td>\n",
       "    </tr>\n",
       "    <tr>\n",
       "      <th>2977</th>\n",
       "      <td>people help the people</td>\n",
       "      <td>birdy</td>\n",
       "      <td>/home/krystian/Python/Jupyter-projects/thesis/...</td>\n",
       "      <td>God knows what is hiding\\nIn those weak and dr...</td>\n",
       "      <td>69.0</td>\n",
       "      <td>False</td>\n",
       "      <td>2011.0</td>\n",
       "      <td>256236.0</td>\n",
       "      <td>0.433</td>\n",
       "      <td>0.308</td>\n",
       "      <td>...</td>\n",
       "      <td>0.294771</td>\n",
       "      <td>16.001677</td>\n",
       "      <td>13.129550</td>\n",
       "      <td>17.740944</td>\n",
       "      <td>19.416752</td>\n",
       "      <td>21.367145</td>\n",
       "      <td>20.205828</td>\n",
       "      <td>50.704285</td>\n",
       "      <td>148.026316</td>\n",
       "      <td>0.028913</td>\n",
       "    </tr>\n",
       "  </tbody>\n",
       "</table>\n",
       "<p>2978 rows × 54 columns</p>\n",
       "</div>"
      ],
      "text/plain": [
       "                       title             artist  \\\n",
       "0                skinny love              birdy   \n",
       "1                  deathwish     red sun rising   \n",
       "2                       iris  the goo goo dolls   \n",
       "3                  the woods       hollow coves   \n",
       "4      don't dream it's over      crowded house   \n",
       "...                      ...                ...   \n",
       "2973           the otherside     red sun rising   \n",
       "2974             light me up              birdy   \n",
       "2975                 shelter              birdy   \n",
       "2976            c'est la vie       shania twain   \n",
       "2977  people help the people              birdy   \n",
       "\n",
       "                                               mp3_path  \\\n",
       "0     /home/krystian/Python/Jupyter-projects/thesis/...   \n",
       "1     /home/krystian/Python/Jupyter-projects/thesis/...   \n",
       "2     /home/krystian/Python/Jupyter-projects/thesis/...   \n",
       "3     /home/krystian/Python/Jupyter-projects/thesis/...   \n",
       "4     /home/krystian/Python/Jupyter-projects/thesis/...   \n",
       "...                                                 ...   \n",
       "2973  /home/krystian/Python/Jupyter-projects/thesis/...   \n",
       "2974  /home/krystian/Python/Jupyter-projects/thesis/...   \n",
       "2975  /home/krystian/Python/Jupyter-projects/thesis/...   \n",
       "2976  /home/krystian/Python/Jupyter-projects/thesis/...   \n",
       "2977  /home/krystian/Python/Jupyter-projects/thesis/...   \n",
       "\n",
       "                                                 lyrics  popularity  explicit  \\\n",
       "0     Come on, skinny love, just last the year\\nPour...        71.0     False   \n",
       "1     Life is fleeting by the slow\\nIt chills us to ...         NaN     False   \n",
       "2     And I'd give up forever to touch you\\n'Cause I...        71.0     False   \n",
       "3                                       No lyrics found         NaN     False   \n",
       "4     There is freedom within\\nThere is freedom with...         NaN     False   \n",
       "...                                                 ...         ...       ...   \n",
       "2973  I know I'm not as hot as the flame that\\nBurne...        42.0     False   \n",
       "2974  I'm finding my heart\\nUsing my hands\\nYou're m...        30.0     False   \n",
       "2975  I find shelter in this way\\nUndercover, hideaw...        45.0     False   \n",
       "2976  It must be Monday! What a dumb day!\\nCan't dra...        23.0     False   \n",
       "2977  God knows what is hiding\\nIn those weak and dr...        69.0     False   \n",
       "\n",
       "      album_release_year  duration_ms  danceability  energy  ...  chroma_12  \\\n",
       "0                 2011.0     201080.0         0.379   0.290  ...   0.353238   \n",
       "1                 2018.0     287946.0         0.508   0.882  ...   0.490154   \n",
       "2                 2007.0     289906.0         0.291   0.790  ...   0.487768   \n",
       "3                 2017.0     241546.0         0.802   0.410  ...   0.505834   \n",
       "4                 2017.0     231377.0         0.403   0.746  ...   0.428388   \n",
       "...                  ...          ...           ...     ...  ...        ...   \n",
       "2973              2016.0     216106.0         0.526   0.761  ...   0.566149   \n",
       "2974              2013.0     255506.0         0.722   0.678  ...   0.414693   \n",
       "2975              2011.0     224866.0         0.379   0.196  ...   0.472153   \n",
       "2976              2002.0     218960.0         0.597   0.834  ...   0.417470   \n",
       "2977              2011.0     256236.0         0.433   0.308  ...   0.294771   \n",
       "\n",
       "      spectral_contrast_1  spectral_contrast_2  spectral_contrast_3  \\\n",
       "0               17.627332            13.771729            19.275149   \n",
       "1               16.215804            10.309580            13.744232   \n",
       "2               15.357601            10.201447            13.698081   \n",
       "3               16.528073            10.935291            16.385667   \n",
       "4               14.941456            11.061548            15.084157   \n",
       "...                   ...                  ...                  ...   \n",
       "2973            16.620673            11.514326            14.608131   \n",
       "2974            13.234667            11.195643            14.890077   \n",
       "2975            17.503329            11.104159            13.950744   \n",
       "2976            15.187408            10.675326            15.431929   \n",
       "2977            16.001677            13.129550            17.740944   \n",
       "\n",
       "      spectral_contrast_4  spectral_contrast_5  spectral_contrast_6  \\\n",
       "0               22.244659            23.802122            22.563887   \n",
       "1               16.058571            17.278253            16.887822   \n",
       "2               17.050868            18.783636            17.473927   \n",
       "3               18.056113            19.254186            18.392819   \n",
       "4               17.604808            18.362215            18.056211   \n",
       "...                   ...                  ...                  ...   \n",
       "2973            17.716818            19.001943            17.132375   \n",
       "2974            16.988014            18.786151            16.732640   \n",
       "2975            16.168215            18.252631            17.261166   \n",
       "2976            18.240744            20.644744            18.463993   \n",
       "2977            19.416752            21.367145            20.205828   \n",
       "\n",
       "      spectral_contrast_7  tempo_extracted       zcr  \n",
       "0               46.881367       119.680851  0.031446  \n",
       "1               53.087236       133.928571  0.051242  \n",
       "2               56.185155       152.027027  0.069683  \n",
       "3               52.349427       106.132075  0.026942  \n",
       "4               51.318052       160.714286  0.044647  \n",
       "...                   ...              ...       ...  \n",
       "2973            51.418460       122.282609  0.034019  \n",
       "2974            52.608561        98.684211  0.046682  \n",
       "2975            54.274538       148.026316  0.056827  \n",
       "2976            58.193529        92.213115  0.072854  \n",
       "2977            50.704285       148.026316  0.028913  \n",
       "\n",
       "[2978 rows x 54 columns]"
      ]
     },
     "execution_count": 246,
     "metadata": {},
     "output_type": "execute_result"
    }
   ],
   "source": [
    "df"
   ]
  }
 ],
 "metadata": {
  "kernelspec": {
   "display_name": "Python 3 (ipykernel)",
   "language": "python",
   "name": "python3"
  },
  "language_info": {
   "codemirror_mode": {
    "name": "ipython",
    "version": 3
   },
   "file_extension": ".py",
   "mimetype": "text/x-python",
   "name": "python",
   "nbconvert_exporter": "python",
   "pygments_lexer": "ipython3",
   "version": "3.10.12"
  }
 },
 "nbformat": 4,
 "nbformat_minor": 5
}
