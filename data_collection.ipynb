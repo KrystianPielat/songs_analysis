{
 "cells": [
  {
   "cell_type": "code",
   "execution_count": 1,
   "id": "3aac368b-0904-4021-afa9-e5c9d9202bb0",
   "metadata": {},
   "outputs": [],
   "source": [
    "%load_ext autoreload\n",
    "%autoreload 2\n",
    "    \n",
    "from classes.song import Song\n",
    "from classes.playlist import Playlist\n",
    "from classes.spotify_manager import SpotifyManager\n",
    "from classes.lyrics_manager import LyricsManager\n",
    "from dotenv import load_dotenv\n",
    "from classes.utils import gather_data_from_folders\n",
    "from classes.song_container import SongContainer\n",
    "import pandas as pd\n",
    "import os\n",
    "import seaborn as sns\n",
    "\n",
    "load_dotenv();"
   ]
  },
  {
   "cell_type": "code",
   "execution_count": 2,
   "id": "eb84bde8-9087-4b70-a41a-40144d6f33a0",
   "metadata": {},
   "outputs": [],
   "source": [
    "URIS_TO_DOWNLOAD = {\n",
    "    # 'final_download_1_uri': '5yMkxmCpYEinULq68rAj53',\n",
    "    # 'final_download_2_uri': '7zhbpv3MIAermGw2SJ3wMm',\n",
    "    # 'all_songs_in_the_world': '1RDk6T6DZNnYvBaBZQ3eWh'\n",
    "    # 'test': '5SsbsW06wS6UAQQzq71nZv'\n",
    "    # 'skinny_love': '5SsbsW06wS6UAQQzq71nZv'\n",
    "    # \"multigenre\": '1DBhioGgpTizaQDiHOV30u'\n",
    "    # \"uuuu\": '057QmV9rwuot6wTOwHxTeF'\n",
    "    # 'changes': '7BdNMSW3sAYk0wbd2Br3BE'\n",
    "    # 'best of global hip hop': '37i9dQZF1DX2sQHbtx0sdt',\n",
    "    # 'rap mix': '37i9dQZF1EIgbjUtLiWmHt',\n",
    "    # 'jazz mix': '37i9dQZF1EQqA6klNdJvwx',\n",
    "    # 'house mix': '6bylhv1iSmMylVzgeWTtkb',\n",
    "    # 'reggae mix' : '37i9dQZF1EQpjs4F0vUZ1x',\n",
    "    # 'alternative mix': '37i9dQZF1EIgvT6k4mUrw7',\n",
    "    # 'latin mix': '37i9dQZF1EQmK1rjZuPGDt',\n",
    "    # 'metal mix': '37i9dQZF1EQpgT26jgbgRI',\n",
    "    # 'latin hit mix': '37i9dQZF1DXbLMw3ry7d7k',\n",
    "    # 'latino': '4tROKykKNhOQc7a3Mb8tC6',\n",
    "    # 'soul jazz mix': '37i9dQZF1EIhKhPuz9X9RP',\n",
    "    # 'best reggae mix ever': '3yGc2rDc3oZVnZ1QV4XYRn',\n",
    "    # 'country mix': '0nNeZehK2PNhzqxpCzqO2k',\n",
    "    # 'best country songs(greatest hits)': '7fIdjWhWzPbf1g5OSDKOXw'\n",
    "    # '60s-70s Mix': '37i9dQZF1EIhdup1SOLFpO',\n",
    "    # 'all out 60s': '37i9dQZF1DXaKIA8E7WcJj',\n",
    "    # 'all out 70s': '37i9dQZF1DWTJ7xPn4vNaz',\n",
    "    # 'all out 80s': '37i9dQZF1DX4UtSsGT1Sbe',\n",
    "    # 'all out 90s': '37i9dQZF1DXbTxeAdrVG2l',\n",
    "    # 'all out 2000s': '37i9dQZF1DX4o1oenSJRJd',\n",
    "    'how long': '2Dwf6MaRtRLr7zvvmhZvaG'\n",
    "}"
   ]
  },
  {
   "cell_type": "code",
   "execution_count": 31,
   "id": "1452c9ed-a8b1-4164-8e63-30399722ddd0",
   "metadata": {},
   "outputs": [],
   "source": [
    "spotify_manager = SpotifyManager(client_id=os.environ.get(\"client_id\"), client_secret=os.environ.get(\"client_secret\"))"
   ]
  },
  {
   "cell_type": "code",
   "execution_count": 32,
   "id": "16c30f6d-97dc-421c-92be-e0588419b527",
   "metadata": {},
   "outputs": [
    {
     "name": "stdout",
     "output_type": "stream",
     "text": [
      "\u001b[1;32mINFO: Added song 'bonfire heart' by 'james blunt' to the container.\u001b[0m\n",
      "\u001b[1;32mINFO: Loaded existing song 'bonfire heart' by 'james blunt' from CSV.\u001b[0m\n",
      "\u001b[1;32mINFO: Added song 'carry you home' by 'james blunt' to the container.\u001b[0m\n",
      "\u001b[1;32mINFO: Loaded existing song 'carry you home' by 'james blunt' from CSV.\u001b[0m\n",
      "\u001b[1;32mINFO: Loaded 1 faulty songs from CSV.\u001b[0m\n"
     ]
    }
   ],
   "source": [
    "ctnr = SongContainer(spotify_manager, save_path=os.path.abspath('playlists_new'))"
   ]
  },
  {
   "cell_type": "code",
   "execution_count": 33,
   "id": "ea03439e-c2bb-4209-a924-242c8d5ce562",
   "metadata": {},
   "outputs": [
    {
     "data": {
      "text/plain": [
       "2"
      ]
     },
     "execution_count": 33,
     "metadata": {},
     "output_type": "execute_result"
    }
   ],
   "source": [
    "len(ctnr.songs)"
   ]
  },
  {
   "cell_type": "code",
   "execution_count": 34,
   "id": "d842793f-3d03-45fd-b9eb-4b5caea272ed",
   "metadata": {},
   "outputs": [
    {
     "name": "stdout",
     "output_type": "stream",
     "text": [
      "\u001b[1;32mINFO: Fetching songs from playlist with URI: 057QmV9rwuot6wTOwHxTeF\u001b[0m\n"
     ]
    },
    {
     "name": "stderr",
     "output_type": "stream",
     "text": [
      "\u001b[1;33mWARNING: Duplicate song detected: 'bonfire heart' by 'james blunt'. Skipping.\u001b[0m\n",
      "\u001b[1;33mWARNING: Duplicate song detected: 'carry you home' by 'james blunt'. Skipping.\u001b[0m\n",
      "\u001b[1;33mWARNING: Skipping previously marked faulty song 'Monsters' by 'James Blunt'.\u001b[0m\n"
     ]
    },
    {
     "name": "stdout",
     "output_type": "stream",
     "text": [
      "\u001b[1;32mINFO: Added songs from playlist 'uu' with URI '057QmV9rwuot6wTOwHxTeF'.\u001b[0m\n"
     ]
    }
   ],
   "source": [
    "# ctnr.add_songs_by_genre('pop', num_tracks=10)\n",
    "ctnr.add_songs_from_playlist('057QmV9rwuot6wTOwHxTeF')"
   ]
  },
  {
   "cell_type": "code",
   "execution_count": 35,
   "id": "205f6f65-3737-44e6-beb6-89265096e64b",
   "metadata": {},
   "outputs": [
    {
     "data": {
      "text/plain": [
       "[<Song bonfire heart by james blunt>, <Song carry you home by james blunt>]"
      ]
     },
     "execution_count": 35,
     "metadata": {},
     "output_type": "execute_result"
    }
   ],
   "source": [
    "ctnr.songs"
   ]
  },
  {
   "cell_type": "code",
   "execution_count": 36,
   "id": "f9e90389-96b9-4834-a8fb-b0169f33e4b3",
   "metadata": {},
   "outputs": [
    {
     "data": {
      "text/plain": [
       "2"
      ]
     },
     "execution_count": 36,
     "metadata": {},
     "output_type": "execute_result"
    }
   ],
   "source": [
    "len(ctnr.songs)"
   ]
  },
  {
   "cell_type": "code",
   "execution_count": 37,
   "id": "89977c89-1702-4157-abc4-290236c146da",
   "metadata": {},
   "outputs": [
    {
     "name": "stdout",
     "output_type": "stream",
     "text": [
      "\u001b[1;32mINFO: Fetching metadata for all songs...\u001b[0m\n",
      "\u001b[1;32mINFO: Cleaning faulty songs...\u001b[0m\n",
      "\u001b[1;32mINFO: Removed 0 faulty songs from the container.\u001b[0m\n",
      "\u001b[1;32mINFO: Downloading songs...\u001b[0m\n",
      "\u001b[1;32mINFO: Saving songs to CSV...\u001b[0m\n",
      "\u001b[1;32mINFO: Finished saving songs to CSV.\u001b[0m\n"
     ]
    }
   ],
   "source": [
    "ctnr.fetch_metadata()\n",
    "\n",
    "ctnr.clean_faulty()\n",
    "\n",
    "ctnr.download_songs()\n",
    "\n",
    "ctnr.save_songs_to_csv()"
   ]
  },
  {
   "cell_type": "code",
   "execution_count": null,
   "id": "30f5fb10-494b-4b96-84ea-27fc817b9ebd",
   "metadata": {},
   "outputs": [],
   "source": []
  },
  {
   "cell_type": "code",
   "execution_count": null,
   "id": "c6a54d76-be78-445f-9bd7-f03a78a34a6b",
   "metadata": {},
   "outputs": [],
   "source": []
  }
 ],
 "metadata": {
  "kernelspec": {
   "display_name": "Python 3 (ipykernel)",
   "language": "python",
   "name": "python3"
  },
  "language_info": {
   "codemirror_mode": {
    "name": "ipython",
    "version": 3
   },
   "file_extension": ".py",
   "mimetype": "text/x-python",
   "name": "python",
   "nbconvert_exporter": "python",
   "pygments_lexer": "ipython3",
   "version": "3.10.12"
  }
 },
 "nbformat": 4,
 "nbformat_minor": 5
}
