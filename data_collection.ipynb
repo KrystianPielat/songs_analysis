{
 "cells": [
  {
   "cell_type": "code",
   "execution_count": 1,
   "id": "3aac368b-0904-4021-afa9-e5c9d9202bb0",
   "metadata": {},
   "outputs": [],
   "source": [
    "%load_ext autoreload\n",
    "%autoreload 2\n",
    "    \n",
    "from classes.song import Song\n",
    "from classes.spotify_manager import SpotifyManager\n",
    "from classes.lyrics_manager import LyricsManager\n",
    "from dotenv import load_dotenv\n",
    "from classes.utils import gather_data_from_folders\n",
    "from classes.song_container import SongContainer\n",
    "import pandas as pd\n",
    "import os\n",
    "import seaborn as sns\n",
    "\n",
    "load_dotenv();"
   ]
  },
  {
   "cell_type": "code",
   "execution_count": 38,
   "id": "1452c9ed-a8b1-4164-8e63-30399722ddd0",
   "metadata": {},
   "outputs": [],
   "source": [
    "spotify_manager = SpotifyManager(client_id=os.environ.get(\"client_id\"), client_secret=os.environ.get(\"client_secret\"))"
   ]
  },
  {
   "cell_type": "code",
   "execution_count": 39,
   "id": "16c30f6d-97dc-421c-92be-e0588419b527",
   "metadata": {},
   "outputs": [],
   "source": [
    "ctnr = SongContainer(spotify_manager, save_path=os.path.abspath('playlists_new'))"
   ]
  },
  {
   "cell_type": "code",
   "execution_count": 40,
   "id": "ea03439e-c2bb-4209-a924-242c8d5ce562",
   "metadata": {},
   "outputs": [
    {
     "data": {
      "text/plain": [
       "4451"
      ]
     },
     "execution_count": 40,
     "metadata": {},
     "output_type": "execute_result"
    }
   ],
   "source": [
    "len(ctnr.songs)"
   ]
  },
  {
   "cell_type": "code",
   "execution_count": 47,
   "id": "aed3b5e2-4146-44f7-8828-24f2afef09ae",
   "metadata": {
    "scrolled": true
   },
   "outputs": [],
   "source": [
    "year_buckets = [(1950, 1960), (1960, 1970), (1970, 1980), (1980, 1990), (1990, 2000), (2000, 2010), (2010, 2020)]\n",
    "# ctnr.stratify_tracks_by_genre_and_year('rap', year_buckets=year_buckets, num_tracks=200)\n",
    "# ctnr.stratify_tracks_by_genre_and_year('hip hop', year_buckets=year_buckets, num_tracks=350)\n",
    "# ctnr.stratify_tracks_by_genre_and_year('edm', year_buckets=year_buckets, num_tracks=340)\n",
    "# ctnr.stratify_tracks_by_genre_and_year('reggae', year_buckets=year_buckets, num_tracks=150)\n",
    "# ctnr.stratify_tracks_by_genre_and_year('metal', year_buckets=year_buckets, num_tracks=100)\n",
    "# ctnr.stratify_tracks_by_genre_and_year('reggaeton', year_buckets=year_buckets, num_tracks=300)\n",
    "# ctnr.stratify_tracks_by_genre_and_year('indie', year_buckets=year_buckets, num_tracks=100)\n",
    "\n",
    "# ctnr.stratify_tracks_by_genre_and_year('pop', year_buckets=year_buckets, num_tracks=500)\n",
    "# ctnr.stratify_tracks_by_genre_and_year('rock', year_buckets=year_buckets, num_tracks=500)\n",
    "# ctnr.stratify_tracks_by_genre_and_year('rap', year_buckets=year_buckets, num_tracks=200)\n",
    "# ctnr.stratify_tracks_by_genre_and_year('hip hop', year_buckets=year_buckets, num_tracks=350)\n",
    "# ctnr.stratify_tracks_by_genre_and_year('edm', year_buckets=year_buckets, num_tracks=340)\n",
    "# ctnr.stratify_tracks_by_genre_and_year('r&b', year_buckets=year_buckets, num_tracks=500)\n",
    "# ctnr.stratify_tracks_by_genre_and_year('reggae', year_buckets=year_buckets, num_tracks=150)\n",
    "# ctnr.stratify_tracks_by_genre_and_year('metal', year_buckets=year_buckets, num_tracks=100)\n",
    "# ctnr.stratify_tracks_by_genre_and_year('country', year_buckets=year_buckets, num_tracks=500)\n",
    "# ctnr.stratify_tracks_by_genre_and_year('reggaeton', year_buckets=year_buckets, num_tracks=300)\n",
    "# ctnr.stratify_tracks_by_genre_and_year('indie', year_buckets=year_buckets, num_tracks=100)"
   ]
  },
  {
   "cell_type": "code",
   "execution_count": 48,
   "id": "f8237d46-6c83-4062-bcea-4d19c529d413",
   "metadata": {},
   "outputs": [],
   "source": [
    "# ctnr.stratify_tracks_by_genre_and_year('rap', year_buckets=year_buckets, num_tracks=10)"
   ]
  },
  {
   "cell_type": "code",
   "execution_count": 49,
   "id": "9a2d4df2-57b2-4260-8c5f-61ae7de222df",
   "metadata": {},
   "outputs": [
    {
     "data": {
      "text/plain": [
       "4451"
      ]
     },
     "execution_count": 49,
     "metadata": {},
     "output_type": "execute_result"
    }
   ],
   "source": [
    "len(ctnr.songs)"
   ]
  },
  {
   "cell_type": "code",
   "execution_count": 50,
   "id": "ca877bd3-4228-45bd-ac9e-bd8e210903b5",
   "metadata": {
    "scrolled": true
   },
   "outputs": [],
   "source": [
    "ctnr.fetch_metadata()"
   ]
  },
  {
   "cell_type": "code",
   "execution_count": 51,
   "id": "3716cb43-1dc1-4b6e-b9a3-45c8fb4dc5d4",
   "metadata": {},
   "outputs": [],
   "source": [
    "ctnr.clean_faulty()"
   ]
  },
  {
   "cell_type": "code",
   "execution_count": 52,
   "id": "6c7072c3-c548-455e-82fd-2993f8f75093",
   "metadata": {},
   "outputs": [],
   "source": [
    "import logging\n",
    "logging.getLogger('classes.song_container').setLevel(logging.INFO)"
   ]
  },
  {
   "cell_type": "code",
   "execution_count": 53,
   "id": "a20fe7d9-c3eb-4e42-9529-3bc3770ca026",
   "metadata": {},
   "outputs": [
    {
     "data": {
      "text/plain": [
       "4451"
      ]
     },
     "execution_count": 53,
     "metadata": {},
     "output_type": "execute_result"
    }
   ],
   "source": [
    "len(ctnr.songs)"
   ]
  },
  {
   "cell_type": "code",
   "execution_count": 54,
   "id": "bc83dfb1-a0df-4ef1-a38b-d814ecea10d4",
   "metadata": {
    "scrolled": true
   },
   "outputs": [
    {
     "name": "stdout",
     "output_type": "stream",
     "text": [
      "\u001b[1;32mINFO: Starting to download songs...\u001b[0m\n"
     ]
    },
    {
     "data": {
      "application/vnd.jupyter.widget-view+json": {
       "model_id": "fcb0eca62c264e1bb6f20447cc2959b4",
       "version_major": 2,
       "version_minor": 0
      },
      "text/plain": [
       "Downloading songs: 0song [00:00, ?song/s]"
      ]
     },
     "metadata": {},
     "output_type": "display_data"
    },
    {
     "name": "stdout",
     "output_type": "stream",
     "text": [
      "\u001b[1;32mINFO: All downloads completed successfully.\u001b[0m\n"
     ]
    }
   ],
   "source": [
    "ctnr.download_songs()"
   ]
  },
  {
   "cell_type": "code",
   "execution_count": 55,
   "id": "b54047e0-3ca5-449f-87e0-609d763e8689",
   "metadata": {
    "scrolled": true
   },
   "outputs": [
    {
     "name": "stdout",
     "output_type": "stream",
     "text": [
      "\u001b[1;32mINFO: Cleaning faulty songs...\u001b[0m\n",
      "\u001b[1;32mINFO: Removed 0 faulty songs from the container.\u001b[0m\n"
     ]
    }
   ],
   "source": [
    "ctnr.clean_faulty()"
   ]
  },
  {
   "cell_type": "code",
   "execution_count": 56,
   "id": "293f3a05-c964-41c8-a152-322b7d87783a",
   "metadata": {},
   "outputs": [
    {
     "data": {
      "text/plain": [
       "0"
      ]
     },
     "execution_count": 56,
     "metadata": {},
     "output_type": "execute_result"
    }
   ],
   "source": [
    "len([ s.mp3_path for s in ctnr.songs if not s.mp3_path])"
   ]
  },
  {
   "cell_type": "code",
   "execution_count": 57,
   "id": "d63adc7e-1972-499d-9cd5-ea4052606960",
   "metadata": {},
   "outputs": [],
   "source": [
    "import logging\n",
    "logging.getLogger('classes.song_container').setLevel(logging.WARNING)"
   ]
  },
  {
   "cell_type": "code",
   "execution_count": 58,
   "id": "86c65743-e080-48f4-96ae-60d852d7b217",
   "metadata": {
    "scrolled": true
   },
   "outputs": [],
   "source": [
    "ctnr.save_songs_to_csv()"
   ]
  },
  {
   "cell_type": "code",
   "execution_count": 59,
   "id": "9f9daca6-29f7-4410-b453-37e67f12c3fd",
   "metadata": {},
   "outputs": [
    {
     "data": {
      "text/plain": [
       "4451"
      ]
     },
     "execution_count": 59,
     "metadata": {},
     "output_type": "execute_result"
    }
   ],
   "source": [
    "len(ctnr.songs)"
   ]
  },
  {
   "cell_type": "markdown",
   "id": "715fda4b-1db5-4bd3-a98d-51e9eba153d9",
   "metadata": {},
   "source": [
    "---"
   ]
  },
  {
   "cell_type": "code",
   "execution_count": 88,
   "id": "09e5b336-6e2b-4d48-9f53-afc58818635b",
   "metadata": {},
   "outputs": [],
   "source": [
    "import logging\n",
    "logging.getLogger('classes.song_container').setLevel(logging.INFO)"
   ]
  },
  {
   "cell_type": "code",
   "execution_count": 89,
   "id": "3b551683-f2b5-41a1-8edb-639c6588db40",
   "metadata": {},
   "outputs": [],
   "source": [
    "spotify_manager = SpotifyManager(client_id=os.environ.get(\"client_id\"), client_secret=os.environ.get(\"client_secret\"))"
   ]
  },
  {
   "cell_type": "code",
   "execution_count": 90,
   "id": "fa451fa2-c792-467c-8913-f68686180d7e",
   "metadata": {},
   "outputs": [
    {
     "name": "stdout",
     "output_type": "stream",
     "text": [
      "\u001b[1;32mINFO: Added song 'all i want for christmas is you' by 'mariah carey' to the container.\u001b[0m\n",
      "\u001b[1;32mINFO: Added song 'merry christmas everyone' by 'shakin' stevens' to the container.\u001b[0m\n",
      "\u001b[1;32mINFO: Added song 'call me' by 'blondie' to the container.\u001b[0m\n",
      "\u001b[1;32mINFO: Added song 'all star' by 'smash mouth' to the container.\u001b[0m\n",
      "\u001b[1;32mINFO: Added song 'w kinie w lublinie' by 'brathanki' to the container.\u001b[0m\n",
      "\u001b[1;32mINFO: Added song 'danger zone' by 'kenny loggins' to the container.\u001b[0m\n"
     ]
    }
   ],
   "source": [
    "ctnr = SongContainer(spotify_manager, save_path=os.path.abspath('test2'))"
   ]
  },
  {
   "cell_type": "code",
   "execution_count": 91,
   "id": "2a5f02ec-694f-4ba2-ab8e-142fb674b48b",
   "metadata": {},
   "outputs": [
    {
     "name": "stdout",
     "output_type": "stream",
     "text": [
      "\u001b[1;32mINFO: Stratifying 2 tracks across 1 year buckets for genre 'pop'.\u001b[0m\n",
      "\u001b[1;32mINFO: Fetching tracks for genre 'pop' between 1990 and 2000.\u001b[0m\n"
     ]
    },
    {
     "name": "stderr",
     "output_type": "stream",
     "text": [
      "\u001b[1;33mWARNING: Duplicate song detected: 'all i want for christmas is you' by 'mariah carey'. Skipping.\u001b[0m\n",
      "\u001b[1;33mWARNING: Failed to add song 'All I Want for Christmas Is You' by 'Mariah Carey' because its already in the container.\u001b[0m\n",
      "\u001b[1;33mWARNING: Duplicate song detected: 'merry christmas everyone' by 'shakin' stevens'. Skipping.\u001b[0m\n",
      "\u001b[1;33mWARNING: Failed to add song 'Merry Christmas Everyone' by 'Shakin' Stevens' because its already in the container.\u001b[0m\n",
      "\u001b[1;33mWARNING: Duplicate song detected: 'call me' by 'blondie'. Skipping.\u001b[0m\n",
      "\u001b[1;33mWARNING: Failed to add song 'Call Me' by 'Blondie' because its already in the container.\u001b[0m\n",
      "\u001b[1;33mWARNING: Duplicate song detected: 'all star' by 'smash mouth'. Skipping.\u001b[0m\n",
      "\u001b[1;33mWARNING: Failed to add song 'All Star' by 'Smash Mouth' because its already in the container.\u001b[0m\n",
      "\u001b[1;33mWARNING: Duplicate song detected: 'w kinie w lublinie' by 'brathanki'. Skipping.\u001b[0m\n",
      "\u001b[1;33mWARNING: Failed to add song 'W Kinie W Lublinie - Kochaj Mnie' by 'Brathanki' because its already in the container.\u001b[0m\n",
      "\u001b[1;33mWARNING: Duplicate song detected: 'danger zone' by 'kenny loggins'. Skipping.\u001b[0m\n",
      "\u001b[1;33mWARNING: Failed to add song 'Danger Zone - From \"Top Gun\" Original Soundtrack' by 'Kenny Loggins' because its already in the container.\u001b[0m\n"
     ]
    },
    {
     "name": "stdout",
     "output_type": "stream",
     "text": [
      "\u001b[1;32mINFO: Added song 'don't panic' by 'coldplay' to the container.\u001b[0m\n",
      "\u001b[1;32mINFO: Added song 'don't panic' by 'coldplay' to the container.\u001b[0m\n",
      "\u001b[1;32mINFO: Added song 'trouble' by 'coldplay' to the container.\u001b[0m\n",
      "\u001b[1;32mINFO: Added song 'trouble' by 'coldplay' to the container.\u001b[0m\n",
      "\u001b[1;32mINFO: Stratified tracks fetching completed for genre 'pop'. Total songs in container: 8.\u001b[0m\n"
     ]
    }
   ],
   "source": [
    "# ctnr.add_songs_by_genre('classical', num_tracks=2)\n",
    "ctnr.stratify_tracks_by_genre_and_year('pop', [(1990, 2000)], num_tracks=2)"
   ]
  },
  {
   "cell_type": "code",
   "execution_count": 92,
   "id": "791e5c90-ce53-4a76-8296-fc4cd6b0592d",
   "metadata": {},
   "outputs": [
    {
     "data": {
      "text/plain": [
       "[\"['genre:pop', 'dance pop', 'pop', 'urban contemporary']\",\n",
       " \"['genre:pop', 'classic uk pop', 'rockabilly']\",\n",
       " \"['genre:pop', 'candy pop', 'new wave pop', 'permanent wave', 'power pop', 'rock', 'synthpop']\",\n",
       " \"['genre:pop', 'pop rock', 'post-grunge']\",\n",
       " \"['genre:pop', 'polish pop']\",\n",
       " \"['genre:pop', 'album rock', 'classic rock', 'mellow gold', 'new wave pop', 'singer-songwriter', 'soft rock', 'yacht rock']\",\n",
       " ['genre:pop', 'permanent wave', 'pop'],\n",
       " ['genre:pop', 'permanent wave', 'pop']]"
      ]
     },
     "execution_count": 92,
     "metadata": {},
     "output_type": "execute_result"
    }
   ],
   "source": [
    "[ s.genres for s in ctnr.songs ]"
   ]
  },
  {
   "cell_type": "code",
   "execution_count": 83,
   "id": "1a53b7df-b8e7-48ff-9f81-48491a17df4b",
   "metadata": {
    "scrolled": true
   },
   "outputs": [
    {
     "name": "stdout",
     "output_type": "stream",
     "text": [
      "\u001b[1;32mINFO: Fetching metadata for all songs...\u001b[0m\n"
     ]
    },
    {
     "data": {
      "application/vnd.jupyter.widget-view+json": {
       "model_id": "011fce5d00394c5aafccc29423275063",
       "version_major": 2,
       "version_minor": 0
      },
      "text/plain": [
       "Fetching metadata:   0%|          | 0/2 [00:00<?, ?song/s]"
      ]
     },
     "metadata": {},
     "output_type": "display_data"
    },
    {
     "name": "stdout",
     "output_type": "stream",
     "text": [
      "\u001b[1;32mINFO: Loaded audio features for 'danger zone' by 'kenny loggins'.\u001b[0m\n",
      "\u001b[1;32mINFO: Loaded audio features for 'w kinie w lublinie' by 'brathanki'.\u001b[0m\n",
      "\u001b[1;32mINFO: Lyrics for 'danger zone' by 'kenny loggins' loaded successfully.\u001b[0m\n",
      "\u001b[1;32mINFO: Lyrics for 'w kinie w lublinie' by 'brathanki' loaded successfully.\u001b[0m\n"
     ]
    }
   ],
   "source": [
    "ctnr.fetch_metadata()"
   ]
  },
  {
   "cell_type": "code",
   "execution_count": 84,
   "id": "c87d17ff-a58f-478d-a7ba-e4c6aac1d8d2",
   "metadata": {},
   "outputs": [
    {
     "name": "stdout",
     "output_type": "stream",
     "text": [
      "\u001b[1;32mINFO: Cleaning faulty songs...\u001b[0m\n",
      "\u001b[1;32mINFO: Removed 0 faulty songs from the container.\u001b[0m\n"
     ]
    }
   ],
   "source": [
    "ctnr.clean_faulty()"
   ]
  },
  {
   "cell_type": "code",
   "execution_count": 85,
   "id": "c5b35598-9773-406d-9d5e-47177baf44c9",
   "metadata": {
    "scrolled": true
   },
   "outputs": [
    {
     "name": "stdout",
     "output_type": "stream",
     "text": [
      "\u001b[1;32mINFO: Starting to download songs...\u001b[0m\n"
     ]
    },
    {
     "data": {
      "application/vnd.jupyter.widget-view+json": {
       "model_id": "eccc40dde3f24f2fb571b973fff0c9fb",
       "version_major": 2,
       "version_minor": 0
      },
      "text/plain": [
       "Downloading songs:   0%|          | 0/2 [00:00<?, ?song/s]"
      ]
     },
     "metadata": {},
     "output_type": "display_data"
    },
    {
     "name": "stdout",
     "output_type": "stream",
     "text": [
      "\u001b[1;32mINFO: Downloaded 'w kinie w lublinie' by 'brathanki' successfully.\u001b[0m\n",
      "\u001b[1;32mINFO: Downloaded 'danger zone' by 'kenny loggins' successfully.\u001b[0m\n",
      "\u001b[1;32mINFO: All downloads completed successfully.\u001b[0m\n"
     ]
    }
   ],
   "source": [
    "ctnr.download_songs()"
   ]
  },
  {
   "cell_type": "code",
   "execution_count": 86,
   "id": "024ef8ec-8e60-4ce2-9c5d-10a9854584f3",
   "metadata": {
    "scrolled": true
   },
   "outputs": [
    {
     "name": "stdout",
     "output_type": "stream",
     "text": [
      "\u001b[1;32mINFO: Cleaning faulty songs...\u001b[0m\n",
      "\u001b[1;32mINFO: Removed 0 faulty songs from the container.\u001b[0m\n",
      "\u001b[1;32mINFO: Saving songs to CSV...\u001b[0m\n",
      "\u001b[1;32mINFO: Finished saving songs to CSV.\u001b[0m\n"
     ]
    }
   ],
   "source": [
    "ctnr.clean_faulty()\n",
    "ctnr.save_songs_to_csv()"
   ]
  },
  {
   "cell_type": "code",
   "execution_count": 87,
   "id": "2f22e2d0-5ac2-4bde-ad19-738053b8dac9",
   "metadata": {},
   "outputs": [
    {
     "data": {
      "text/plain": [
       "6"
      ]
     },
     "execution_count": 87,
     "metadata": {},
     "output_type": "execute_result"
    }
   ],
   "source": [
    "len(ctnr.songs)"
   ]
  },
  {
   "cell_type": "code",
   "execution_count": null,
   "id": "377db39f-7d03-4e7a-b847-43c89a2ee944",
   "metadata": {},
   "outputs": [],
   "source": []
  }
 ],
 "metadata": {
  "kernelspec": {
   "display_name": "Python 3 (ipykernel)",
   "language": "python",
   "name": "python3"
  },
  "language_info": {
   "codemirror_mode": {
    "name": "ipython",
    "version": 3
   },
   "file_extension": ".py",
   "mimetype": "text/x-python",
   "name": "python",
   "nbconvert_exporter": "python",
   "pygments_lexer": "ipython3",
   "version": "3.10.12"
  }
 },
 "nbformat": 4,
 "nbformat_minor": 5
}
