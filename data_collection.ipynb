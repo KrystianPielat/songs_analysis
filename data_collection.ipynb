{
 "cells": [
  {
   "cell_type": "code",
   "execution_count": 1,
   "id": "3aac368b-0904-4021-afa9-e5c9d9202bb0",
   "metadata": {},
   "outputs": [],
   "source": [
    "%load_ext autoreload\n",
    "%autoreload 2\n",
    "    \n",
    "from classes.song import Song\n",
    "from classes.playlist import Playlist\n",
    "from classes.spotify_manager import SpotifyManager\n",
    "from classes.lyrics_manager import LyricsManager\n",
    "from dotenv import load_dotenv\n",
    "from classes.utils import gather_data_from_folders\n",
    "from classes.song_container import SongContainer\n",
    "import pandas as pd\n",
    "import os\n",
    "import seaborn as sns\n",
    "\n",
    "load_dotenv();"
   ]
  },
  {
   "cell_type": "code",
   "execution_count": 2,
   "id": "eb84bde8-9087-4b70-a41a-40144d6f33a0",
   "metadata": {},
   "outputs": [],
   "source": [
    "URIS_TO_DOWNLOAD = {\n",
    "    # 'final_download_1_uri': '5yMkxmCpYEinULq68rAj53',\n",
    "    # 'final_download_2_uri': '7zhbpv3MIAermGw2SJ3wMm',\n",
    "    # 'all_songs_in_the_world': '1RDk6T6DZNnYvBaBZQ3eWh'\n",
    "    # 'test': '5SsbsW06wS6UAQQzq71nZv'\n",
    "    # 'skinny_love': '5SsbsW06wS6UAQQzq71nZv'\n",
    "    # \"multigenre\": '1DBhioGgpTizaQDiHOV30u'\n",
    "    # \"uuuu\": '057QmV9rwuot6wTOwHxTeF'\n",
    "    # 'changes': '7BdNMSW3sAYk0wbd2Br3BE'\n",
    "    # 'best of global hip hop': '37i9dQZF1DX2sQHbtx0sdt',\n",
    "    # 'rap mix': '37i9dQZF1EIgbjUtLiWmHt',\n",
    "    # 'jazz mix': '37i9dQZF1EQqA6klNdJvwx',\n",
    "    # 'house mix': '6bylhv1iSmMylVzgeWTtkb',\n",
    "    # 'reggae mix' : '37i9dQZF1EQpjs4F0vUZ1x',\n",
    "    # 'alternative mix': '37i9dQZF1EIgvT6k4mUrw7',\n",
    "    # 'latin mix': '37i9dQZF1EQmK1rjZuPGDt',\n",
    "    # 'metal mix': '37i9dQZF1EQpgT26jgbgRI',\n",
    "    # 'latin hit mix': '37i9dQZF1DXbLMw3ry7d7k',\n",
    "    # 'latino': '4tROKykKNhOQc7a3Mb8tC6',\n",
    "    # 'soul jazz mix': '37i9dQZF1EIhKhPuz9X9RP',\n",
    "    # 'best reggae mix ever': '3yGc2rDc3oZVnZ1QV4XYRn',\n",
    "    # 'country mix': '0nNeZehK2PNhzqxpCzqO2k',\n",
    "    # 'best country songs(greatest hits)': '7fIdjWhWzPbf1g5OSDKOXw'\n",
    "    # '60s-70s Mix': '37i9dQZF1EIhdup1SOLFpO',\n",
    "    # 'all out 60s': '37i9dQZF1DXaKIA8E7WcJj',\n",
    "    # 'all out 70s': '37i9dQZF1DWTJ7xPn4vNaz',\n",
    "    # 'all out 80s': '37i9dQZF1DX4UtSsGT1Sbe',\n",
    "    # 'all out 90s': '37i9dQZF1DXbTxeAdrVG2l',\n",
    "    # 'all out 2000s': '37i9dQZF1DX4o1oenSJRJd',\n",
    "    'how long': '2Dwf6MaRtRLr7zvvmhZvaG'\n",
    "}"
   ]
  },
  {
   "cell_type": "code",
   "execution_count": 3,
   "id": "29d99280-7203-4dd3-92d6-c3ae9e56d934",
   "metadata": {},
   "outputs": [
    {
     "name": "stdout",
     "output_type": "stream",
     "text": [
      "Processing how long...\n",
      "\u001b[1;32mINFO: Found playlist: How Long with 2 tracks.\u001b[0m\n"
     ]
    },
    {
     "data": {
      "application/vnd.jupyter.widget-view+json": {
       "model_id": "01bbf5cbeec848499fd0a41ca6876a8a",
       "version_major": 2,
       "version_minor": 0
      },
      "text/plain": [
       "Fetching songs info:   0%|          | 0/2 [00:00<?, ?song/s]"
      ]
     },
     "metadata": {},
     "output_type": "display_data"
    },
    {
     "data": {
      "application/vnd.jupyter.widget-view+json": {
       "model_id": "f2c2da320e27465e9e75092ac727644e",
       "version_major": 2,
       "version_minor": 0
      },
      "text/plain": [
       "Processing Songs:   0%|          | 0/2 [00:00<?, ?song/s]"
      ]
     },
     "metadata": {},
     "output_type": "display_data"
    },
    {
     "name": "stdout",
     "output_type": "stream",
     "text": [
      "\u001b[1;32mINFO: Fetched Spotify audio features for how long by dire straits\u001b[0m\n",
      "\u001b[1;32mINFO: Fetched Spotify audio features for money for nothing by dire straits\u001b[0m\n",
      "\u001b[1;32mINFO: Downloaded song: how long\u001b[0m                 \n",
      "\u001b[1;32mINFO: Completed processing for song: how long by dire straits\u001b[0m\n",
      "\u001b[1;32mINFO: Downloaded song: money for nothing\u001b[0m\n",
      "\u001b[1;32mINFO: Completed processing for song: money for nothing by dire straits\u001b[0m\n"
     ]
    }
   ],
   "source": [
    "spotify_manager = SpotifyManager(client_id=os.environ.get(\"client_id\"), client_secret=os.environ.get(\"client_secret\"))\n",
    "\n",
    "for name, uri in URIS_TO_DOWNLOAD.items():\n",
    "    print(f\"Processing {name}...\")\n",
    "    playlist = Playlist(uri=uri, spotify_manager=spotify_manager)\n",
    "    new = playlist.process_songs()"
   ]
  },
  {
   "cell_type": "code",
   "execution_count": 10,
   "id": "1452c9ed-a8b1-4164-8e63-30399722ddd0",
   "metadata": {},
   "outputs": [],
   "source": [
    "spotify_manager = SpotifyManager(client_id=os.environ.get(\"client_id\"), client_secret=os.environ.get(\"client_secret\"))"
   ]
  },
  {
   "cell_type": "code",
   "execution_count": 11,
   "id": "16c30f6d-97dc-421c-92be-e0588419b527",
   "metadata": {},
   "outputs": [
    {
     "name": "stdout",
     "output_type": "stream",
     "text": [
      "\u001b[1;32mINFO: Loaded existing song 'Die With A Smile' by 'Lady Gaga' from CSV.\u001b[0m\n",
      "\u001b[1;32mINFO: Loaded existing song 'All I Want for Christmas Is You' by 'Mariah Carey' from CSV.\u001b[0m\n",
      "\u001b[1;32mINFO: Loaded existing song 'Falochrony' by 'Roxie Węgiel' from CSV.\u001b[0m\n",
      "\u001b[1;32mINFO: Loaded existing song 'Last Christmas' by 'Wham!' from CSV.\u001b[0m\n",
      "\u001b[1;32mINFO: Loaded existing song 'Sailor Song' by 'Gigi Perez' from CSV.\u001b[0m\n",
      "\u001b[1;32mINFO: Loaded existing song 'BIRDS OF A FEATHER' by 'Billie Eilish' from CSV.\u001b[0m\n",
      "\u001b[1;32mINFO: Loaded existing song 'Good Luck, Babe!' by 'Chappell Roan' from CSV.\u001b[0m\n",
      "\u001b[1;32mINFO: Loaded existing song 'Miłość jest ślepa' by 'sanah' from CSV.\u001b[0m\n",
      "\u001b[1;32mINFO: Loaded existing song 'Snowman' by 'Sia' from CSV.\u001b[0m\n",
      "\u001b[1;32mINFO: Loaded 1 faulty songs from CSV.\u001b[0m\n"
     ]
    }
   ],
   "source": [
    "ctnr = SongContainer(spotify_manager, save_path=os.path.abspath('playlists_new'))"
   ]
  },
  {
   "cell_type": "code",
   "execution_count": 12,
   "id": "ea03439e-c2bb-4209-a924-242c8d5ce562",
   "metadata": {},
   "outputs": [
    {
     "data": {
      "text/plain": [
       "9"
      ]
     },
     "execution_count": 12,
     "metadata": {},
     "output_type": "execute_result"
    }
   ],
   "source": [
    "len(ctnr.songs)"
   ]
  },
  {
   "cell_type": "code",
   "execution_count": 13,
   "id": "d842793f-3d03-45fd-b9eb-4b5caea272ed",
   "metadata": {},
   "outputs": [
    {
     "name": "stdout",
     "output_type": "stream",
     "text": [
      "\u001b[1;32mINFO: Fetching 10 tracks for genre 'pop'...\u001b[0m\n"
     ]
    },
    {
     "name": "stderr",
     "output_type": "stream",
     "text": [
      "\u001b[1;33mWARNING: Skipping previously marked faulty song 'MADONNA' by 'bambi'.\u001b[0m\n"
     ]
    },
    {
     "name": "stdout",
     "output_type": "stream",
     "text": [
      "\u001b[1;32mINFO: Added 10 songs for genre 'pop'.\u001b[0m\n"
     ]
    }
   ],
   "source": [
    "ctnr.add_songs_by_genre('pop', num_tracks=10)"
   ]
  },
  {
   "cell_type": "code",
   "execution_count": 14,
   "id": "205f6f65-3737-44e6-beb6-89265096e64b",
   "metadata": {},
   "outputs": [
    {
     "data": {
      "text/plain": [
       "[<Song Die With A Smile by Lady Gaga>,\n",
       " <Song All I Want for Christmas Is You by Mariah Carey>,\n",
       " <Song Falochrony by Roxie Węgiel>,\n",
       " <Song Last Christmas by Wham!>,\n",
       " <Song Sailor Song by Gigi Perez>,\n",
       " <Song BIRDS OF A FEATHER by Billie Eilish>,\n",
       " <Song Good Luck, Babe! by Chappell Roan>,\n",
       " <Song Miłość jest ślepa by sanah>,\n",
       " <Song Snowman by Sia>,\n",
       " <Song Die With A Smile by Lady Gaga>,\n",
       " <Song All I Want for Christmas Is You by Mariah Carey>,\n",
       " <Song Falochrony by Roxie Węgiel>,\n",
       " <Song Last Christmas by Wham!>,\n",
       " <Song Sailor Song by Gigi Perez>,\n",
       " <Song BIRDS OF A FEATHER by Billie Eilish>,\n",
       " <Song Good Luck, Babe! by Chappell Roan>,\n",
       " <Song Miłość jest ślepa by sanah>,\n",
       " <Song Snowman by Sia>,\n",
       " <Song I Ciebie też, bardzo (feat. Daria Zawiałow, Dawid Podsiadło & Vito Bambino) by Męskie Granie Orkiestra>]"
      ]
     },
     "execution_count": 14,
     "metadata": {},
     "output_type": "execute_result"
    }
   ],
   "source": [
    "ctnr.songs"
   ]
  },
  {
   "cell_type": "code",
   "execution_count": 15,
   "id": "f9e90389-96b9-4834-a8fb-b0169f33e4b3",
   "metadata": {},
   "outputs": [
    {
     "data": {
      "text/plain": [
       "19"
      ]
     },
     "execution_count": 15,
     "metadata": {},
     "output_type": "execute_result"
    }
   ],
   "source": [
    "len(ctnr.songs)"
   ]
  },
  {
   "cell_type": "code",
   "execution_count": 8,
   "id": "89977c89-1702-4157-abc4-290236c146da",
   "metadata": {},
   "outputs": [
    {
     "name": "stdout",
     "output_type": "stream",
     "text": [
      "\u001b[1;32mINFO: Fetching metadata for all songs...\u001b[0m\n",
      "\u001b[1;32mINFO: Loaded audio features for 'Die With A Smile' by 'Lady Gaga'.\u001b[0m\n",
      "\u001b[1;32mINFO: Loaded audio features for 'All I Want for Christmas Is You' by 'Mariah Carey'.\u001b[0m\n",
      "\u001b[1;32mINFO: Loaded audio features for 'BIRDS OF A FEATHER' by 'Billie Eilish'.\u001b[0m\n",
      "\u001b[1;32mINFO: Loaded audio features for 'Last Christmas' by 'Wham!'.\u001b[0m\n",
      "\u001b[1;32mINFO: Loaded audio features for 'Sailor Song' by 'Gigi Perez'.\u001b[0m\n",
      "\u001b[1;32mINFO: Loaded audio features for 'Good Luck, Babe!' by 'Chappell Roan'.\u001b[0m\n",
      "\u001b[1;32mINFO: Loaded audio features for 'Falochrony' by 'Roxie Węgiel'.\u001b[0m\n",
      "\u001b[1;32mINFO: Loaded audio features for 'MADONNA' by 'bambi'.\u001b[0m\n",
      "\u001b[1;32mINFO: Lyrics for 'All I Want for Christmas Is You' by 'Mariah Carey' loaded successfully.\u001b[0m\n",
      "\u001b[1;32mINFO: Loaded audio features for 'Miłość jest ślepa' by 'sanah'.\u001b[0m\n",
      "\u001b[1;32mINFO: Lyrics for 'Last Christmas' by 'Wham!' loaded successfully.\u001b[0m\n",
      "\u001b[1;32mINFO: Loaded audio features for 'Snowman' by 'Sia'.\u001b[0m\n"
     ]
    },
    {
     "name": "stderr",
     "output_type": "stream",
     "text": [
      "\u001b[1;33mWARNING: Lyrics not found for 'MADONNA' by bambi using all available providers.\u001b[0m\n",
      "\u001b[1;33mWARNING: Lyrics for 'MADONNA' by 'bambi' could not be found.\u001b[0m\n"
     ]
    },
    {
     "name": "stdout",
     "output_type": "stream",
     "text": [
      "\u001b[1;32mINFO: Lyrics for 'Snowman' by 'Sia' loaded successfully.\u001b[0m\n",
      "\u001b[1;32mINFO: Lyrics for 'Sailor Song' by 'Gigi Perez' loaded successfully.\u001b[0m\n",
      "\u001b[1;32mINFO: Lyrics for 'Die With A Smile' by 'Lady Gaga' loaded successfully.\u001b[0m\n",
      "\u001b[1;32mINFO: Lyrics for 'Miłość jest ślepa' by 'sanah' loaded successfully.\u001b[0m\n",
      "\u001b[1;32mINFO: Lyrics for 'Falochrony' by 'Roxie Węgiel' loaded successfully.\u001b[0m\n",
      "\u001b[1;32mINFO: Lyrics for 'Good Luck, Babe!' by 'Chappell Roan' loaded successfully.\u001b[0m\n",
      "\u001b[1;32mINFO: Lyrics for 'BIRDS OF A FEATHER' by 'Billie Eilish' loaded successfully.\u001b[0m\n",
      "\u001b[1;32mINFO: Downloading songs...\u001b[0m\n",
      "\u001b[1;32mINFO: Skipping download for 'All I Want for Christmas Is You' by 'Mariah Carey' as it is already downloaded.\u001b[0m\n",
      "\u001b[1;32mINFO: Skipping download for 'Die With A Smile' by 'Lady Gaga' as it is already downloaded.\u001b[0m\n",
      "\u001b[1;32mINFO: Skipping download for 'Falochrony' by 'Roxie Węgiel' as it is already downloaded.\u001b[0m\n",
      "\u001b[1;32mINFO: Skipping download for 'Last Christmas' by 'Wham!' as it is already downloaded.\u001b[0m\n",
      "\u001b[1;32mINFO: Skipping download for 'BIRDS OF A FEATHER' by 'Billie Eilish' as it is already downloaded.\u001b[0m\n",
      "\u001b[1;32mINFO: Skipping download for 'Sailor Song' by 'Gigi Perez' as it is already downloaded.\u001b[0m\n",
      "\u001b[1;32mINFO: Skipping download for 'MADONNA' by 'bambi' as it is already downloaded.\u001b[0m\n",
      "\u001b[1;32mINFO: Skipping download for 'Good Luck, Babe!' by 'Chappell Roan' as it is already downloaded.\u001b[0m\n",
      "\u001b[1;32mINFO: Skipping download for 'Miłość jest ślepa' by 'sanah' as it is already downloaded.\u001b[0m\n",
      "\u001b[1;32mINFO: Skipping download for 'Snowman' by 'Sia' as it is already downloaded.\u001b[0m\n",
      "\u001b[1;32mINFO: Cleaning faulty songs...\u001b[0m\n",
      "\u001b[1;32mINFO: Appended 1 faulty songs to /home/krystian/Python/Jupyter-projects/thesis/songs_analysis/playlists_new/faulty_songs.csv.\u001b[0m\n",
      "\u001b[1;32mINFO: Removed 1 faulty songs from the container.\u001b[0m\n",
      "\u001b[1;32mINFO: Saving songs to CSV...\u001b[0m\n",
      "\u001b[1;32mINFO: Saved song 'Die With A Smile' by 'Lady Gaga' to CSV.\u001b[0m\n",
      "\u001b[1;32mINFO: Saved song 'All I Want for Christmas Is You' by 'Mariah Carey' to CSV.\u001b[0m\n",
      "\u001b[1;32mINFO: Saved song 'Falochrony' by 'Roxie Węgiel' to CSV.\u001b[0m\n",
      "\u001b[1;32mINFO: Saved song 'Last Christmas' by 'Wham!' to CSV.\u001b[0m\n",
      "\u001b[1;32mINFO: Saved song 'Sailor Song' by 'Gigi Perez' to CSV.\u001b[0m\n",
      "\u001b[1;32mINFO: Saved song 'BIRDS OF A FEATHER' by 'Billie Eilish' to CSV.\u001b[0m\n",
      "\u001b[1;32mINFO: Saved song 'Good Luck, Babe!' by 'Chappell Roan' to CSV.\u001b[0m\n",
      "\u001b[1;32mINFO: Saved song 'Miłość jest ślepa' by 'sanah' to CSV.\u001b[0m\n",
      "\u001b[1;32mINFO: Saved song 'Snowman' by 'Sia' to CSV.\u001b[0m\n",
      "\u001b[1;32mINFO: Finished saving songs to CSV.\u001b[0m\n"
     ]
    }
   ],
   "source": [
    "ctnr.fetch_metadata()\n",
    "\n",
    "ctnr.download_songs()\n",
    "\n",
    "ctnr.clean_faulty()\n",
    "\n",
    "ctnr.save_songs_to_csv()"
   ]
  },
  {
   "cell_type": "code",
   "execution_count": null,
   "id": "30f5fb10-494b-4b96-84ea-27fc817b9ebd",
   "metadata": {},
   "outputs": [],
   "source": []
  },
  {
   "cell_type": "code",
   "execution_count": null,
   "id": "c6a54d76-be78-445f-9bd7-f03a78a34a6b",
   "metadata": {},
   "outputs": [],
   "source": []
  }
 ],
 "metadata": {
  "kernelspec": {
   "display_name": "Python 3 (ipykernel)",
   "language": "python",
   "name": "python3"
  },
  "language_info": {
   "codemirror_mode": {
    "name": "ipython",
    "version": 3
   },
   "file_extension": ".py",
   "mimetype": "text/x-python",
   "name": "python",
   "nbconvert_exporter": "python",
   "pygments_lexer": "ipython3",
   "version": "3.10.12"
  }
 },
 "nbformat": 4,
 "nbformat_minor": 5
}
