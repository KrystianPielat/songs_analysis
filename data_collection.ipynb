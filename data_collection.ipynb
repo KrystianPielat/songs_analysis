{
 "cells": [
  {
   "cell_type": "code",
   "execution_count": 1,
   "id": "3aac368b-0904-4021-afa9-e5c9d9202bb0",
   "metadata": {},
   "outputs": [],
   "source": [
    "%load_ext autoreload\n",
    "%autoreload 2\n",
    "    \n",
    "from classes.song import Song\n",
    "from classes.playlist import Playlist\n",
    "from classes.spotify_manager import SpotifyManager\n",
    "from classes.lyrics_manager import LyricsManager\n",
    "from dotenv import load_dotenv\n",
    "from classes.utils import gather_data_from_folders\n",
    "from classes.song_container import SongContainer\n",
    "import pandas as pd\n",
    "import os\n",
    "import seaborn as sns\n",
    "\n",
    "load_dotenv();"
   ]
  },
  {
   "cell_type": "code",
   "execution_count": 119,
   "id": "eb84bde8-9087-4b70-a41a-40144d6f33a0",
   "metadata": {},
   "outputs": [],
   "source": [
    "URIS_TO_DOWNLOAD = {\n",
    "    # 'final_download_1_uri': '5yMkxmCpYEinULq68rAj53',\n",
    "    # 'final_download_2_uri': '7zhbpv3MIAermGw2SJ3wMm',\n",
    "    # 'all_songs_in_the_world': '1RDk6T6DZNnYvBaBZQ3eWh'\n",
    "    # 'test': '5SsbsW06wS6UAQQzq71nZv'\n",
    "    # 'skinny_love': '5SsbsW06wS6UAQQzq71nZv'\n",
    "    # \"multigenre\": '1DBhioGgpTizaQDiHOV30u'\n",
    "    # \"uuuu\": '057QmV9rwuot6wTOwHxTeF'\n",
    "    # 'changes': '7BdNMSW3sAYk0wbd2Br3BE'\n",
    "    # 'best of global hip hop': '37i9dQZF1DX2sQHbtx0sdt',\n",
    "    # 'rap mix': '37i9dQZF1EIgbjUtLiWmHt',\n",
    "    # 'jazz mix': '37i9dQZF1EQqA6klNdJvwx',\n",
    "    # 'house mix': '6bylhv1iSmMylVzgeWTtkb',\n",
    "    # 'reggae mix' : '37i9dQZF1EQpjs4F0vUZ1x',\n",
    "    # 'alternative mix': '37i9dQZF1EIgvT6k4mUrw7',\n",
    "    # 'latin mix': '37i9dQZF1EQmK1rjZuPGDt',\n",
    "    # 'metal mix': '37i9dQZF1EQpgT26jgbgRI',\n",
    "    # 'latin hit mix': '37i9dQZF1DXbLMw3ry7d7k',\n",
    "    # 'latino': '4tROKykKNhOQc7a3Mb8tC6',\n",
    "    # 'soul jazz mix': '37i9dQZF1EIhKhPuz9X9RP',\n",
    "    # 'best reggae mix ever': '3yGc2rDc3oZVnZ1QV4XYRn',\n",
    "    # 'country mix': '0nNeZehK2PNhzqxpCzqO2k',\n",
    "    # 'best country songs(greatest hits)': '7fIdjWhWzPbf1g5OSDKOXw'\n",
    "    # '60s-70s Mix': '37i9dQZF1EIhdup1SOLFpO',\n",
    "    # 'all out 60s': '37i9dQZF1DXaKIA8E7WcJj',\n",
    "    # 'all out 70s': '37i9dQZF1DWTJ7xPn4vNaz',\n",
    "    # 'all out 80s': '37i9dQZF1DX4UtSsGT1Sbe',\n",
    "    # 'all out 90s': '37i9dQZF1DXbTxeAdrVG2l',\n",
    "    # 'all out 2000s': '37i9dQZF1DX4o1oenSJRJd',\n",
    "    # 'how long': '2Dwf6MaRtRLr7zvvmhZvaG'\n",
    "}"
   ]
  },
  {
   "cell_type": "code",
   "execution_count": 153,
   "id": "1452c9ed-a8b1-4164-8e63-30399722ddd0",
   "metadata": {},
   "outputs": [],
   "source": [
    "spotify_manager = SpotifyManager(client_id=os.environ.get(\"client_id\"), client_secret=os.environ.get(\"client_secret\"))"
   ]
  },
  {
   "cell_type": "code",
   "execution_count": 154,
   "id": "16c30f6d-97dc-421c-92be-e0588419b527",
   "metadata": {},
   "outputs": [
    {
     "name": "stdout",
     "output_type": "stream",
     "text": [
      "\u001b[1;32mINFO: Loaded 27 faulty songs from CSV.\u001b[0m\n"
     ]
    }
   ],
   "source": [
    "ctnr = SongContainer(spotify_manager, save_path=os.path.abspath('playlists_new'))"
   ]
  },
  {
   "cell_type": "code",
   "execution_count": 155,
   "id": "ea03439e-c2bb-4209-a924-242c8d5ce562",
   "metadata": {},
   "outputs": [
    {
     "data": {
      "text/plain": [
       "0"
      ]
     },
     "execution_count": 155,
     "metadata": {},
     "output_type": "execute_result"
    }
   ],
   "source": [
    "len(ctnr.songs)"
   ]
  },
  {
   "cell_type": "code",
   "execution_count": 156,
   "id": "d842793f-3d03-45fd-b9eb-4b5caea272ed",
   "metadata": {},
   "outputs": [
    {
     "name": "stdout",
     "output_type": "stream",
     "text": [
      "\u001b[1;32mINFO: Fetching 5 tracks for genre 'reggae'...\u001b[0m\n"
     ]
    },
    {
     "name": "stderr",
     "output_type": "stream",
     "text": [
      "\u001b[1;33mWARNING: Skipping previously marked faulty song 'Na Szczycie' by 'Grubson'.\u001b[0m\n",
      "\u001b[1;33mWARNING: Skipping previously marked faulty song 'Si Antes Te Hubiera Conocido' by 'KAROL G'.\u001b[0m\n",
      "\u001b[1;33mWARNING: Skipping previously marked faulty song 'Zanim pójdę' by 'Happysad'.\u001b[0m\n",
      "\u001b[1;33mWARNING: Skipping previously marked faulty song 'Danza Kuduro' by 'Don Omar'.\u001b[0m\n"
     ]
    },
    {
     "name": "stdout",
     "output_type": "stream",
     "text": [
      "\u001b[1;32mINFO: Added song 'policeman' by 'jamal' to the container.\u001b[0m\n",
      "\u001b[1;32mINFO: Added song 'tqg' by 'karol g' to the container.\u001b[0m\n",
      "\u001b[1;32mINFO: Added song 'reggaetón lento' by 'cnco' to the container.\u001b[0m\n",
      "\u001b[1;32mINFO: Added song 'bang bang' by 'k'naan' to the container.\u001b[0m\n",
      "\u001b[1;32mINFO: Added song 'it wasn't me' by 'shaggy' to the container.\u001b[0m\n",
      "\u001b[1;32mINFO: Added 5 songs for genre 'reggae'.\u001b[0m\n",
      "\u001b[1;32mINFO: Fetching 5 tracks for genre 'pop'...\u001b[0m\n"
     ]
    },
    {
     "name": "stderr",
     "output_type": "stream",
     "text": [
      "\u001b[1;33mWARNING: Skipping previously marked faulty song 'Die With A Smile' by 'Lady Gaga'.\u001b[0m\n",
      "\u001b[1;33mWARNING: Skipping previously marked faulty song 'All I Want for Christmas Is You' by 'Mariah Carey'.\u001b[0m\n",
      "\u001b[1;33mWARNING: Skipping previously marked faulty song 'Falochrony' by 'Roxie Węgiel'.\u001b[0m\n",
      "\u001b[1;33mWARNING: Skipping previously marked faulty song 'Last Christmas' by 'Wham!'.\u001b[0m\n",
      "\u001b[1;33mWARNING: Skipping previously marked faulty song 'Sailor Song' by 'Gigi Perez'.\u001b[0m\n"
     ]
    },
    {
     "name": "stdout",
     "output_type": "stream",
     "text": [
      "\u001b[1;32mINFO: Added song 'i ciebie też, bardzo' by 'męskie granie orkiestra' to the container.\u001b[0m\n",
      "\u001b[1;32mINFO: Added song 'another love' by 'tom odell' to the container.\u001b[0m\n",
      "\u001b[1;32mINFO: Added song 'noc aniołów' by 'young leosia' to the container.\u001b[0m\n",
      "\u001b[1;32mINFO: Added song 'z kopyta kulig rwie' by 'skaldowie' to the container.\u001b[0m\n",
      "\u001b[1;32mINFO: Added song 'apocalypse' by 'cigarettes after sex' to the container.\u001b[0m\n",
      "\u001b[1;32mINFO: Added 5 songs for genre 'pop'.\u001b[0m\n",
      "\u001b[1;32mINFO: Fetching 5 tracks for genre 'rock'...\u001b[0m\n"
     ]
    },
    {
     "name": "stderr",
     "output_type": "stream",
     "text": [
      "\u001b[1;33mWARNING: Skipping previously marked faulty song 'Last Christmas' by 'Wham!'.\u001b[0m\n",
      "\u001b[1;33mWARNING: Skipping previously marked faulty song 'Rockin' Around The Christmas Tree' by 'Brenda Lee'.\u001b[0m\n",
      "\u001b[1;33mWARNING: Skipping previously marked faulty song 'Sweater Weather' by 'The Neighbourhood'.\u001b[0m\n",
      "\u001b[1;33mWARNING: Skipping previously marked faulty song 'I Wanna Be Yours' by 'Arctic Monkeys'.\u001b[0m\n"
     ]
    },
    {
     "name": "stdout",
     "output_type": "stream",
     "text": [
      "\u001b[1;32mINFO: Added song 'the sound of silence' by 'disturbed' to the container.\u001b[0m\n",
      "\u001b[1;32mINFO: Added song 'i wanna be your slave' by 'måneskin' to the container.\u001b[0m\n",
      "\u001b[1;32mINFO: Added song 'shut up and dance' by 'walk the moon' to the container.\u001b[0m\n",
      "\u001b[1;32mINFO: Added song 'kołysanka dla nieznajomej' by 'perfect' to the container.\u001b[0m\n",
      "\u001b[1;32mINFO: Added song 'jingle bell rock' by 'daryl hall & john oates' to the container.\u001b[0m\n",
      "\u001b[1;32mINFO: Added 5 songs for genre 'rock'.\u001b[0m\n",
      "\u001b[1;32mINFO: Fetching 5 tracks for genre 'metal'...\u001b[0m\n"
     ]
    },
    {
     "name": "stderr",
     "output_type": "stream",
     "text": [
      "\u001b[1;33mWARNING: Skipping previously marked faulty song 'In the End' by 'Linkin Park'.\u001b[0m\n",
      "\u001b[1;33mWARNING: Skipping previously marked faulty song 'Numb' by 'Linkin Park'.\u001b[0m\n",
      "\u001b[1;33mWARNING: Skipping previously marked faulty song 'The Emptiness Machine' by 'Linkin Park'.\u001b[0m\n",
      "\u001b[1;33mWARNING: Skipping previously marked faulty song 'Heavy Is the Crown' by 'Linkin Park'.\u001b[0m\n",
      "\u001b[1;33mWARNING: Duplicate song detected: 'the sound of silence' by 'disturbed'. Skipping.\u001b[0m\n"
     ]
    },
    {
     "name": "stdout",
     "output_type": "stream",
     "text": [
      "\u001b[1;32mINFO: Added song 'aerials' by 'system of a down' to the container.\u001b[0m\n",
      "\u001b[1;32mINFO: Added song 'hellfire' by 'arcane' to the container.\u001b[0m\n",
      "\u001b[1;32mINFO: Added song 'scar tissue' by 'red hot chili peppers' to the container.\u001b[0m\n",
      "\u001b[1;32mINFO: Added song 'whiskey in the jar' by 'metallica' to the container.\u001b[0m\n",
      "\u001b[1;32mINFO: Added 5 songs for genre 'metal'.\u001b[0m\n",
      "\u001b[1;32mINFO: Fetching 5 tracks for genre 'classical'...\u001b[0m\n"
     ]
    },
    {
     "name": "stderr",
     "output_type": "stream",
     "text": [
      "\u001b[1;33mWARNING: Skipping previously marked faulty song 'Experience' by 'Ludovico Einaudi'.\u001b[0m\n",
      "\u001b[1;33mWARNING: Skipping previously marked faulty song 'Con Te Partirò' by 'Andrea Bocelli'.\u001b[0m\n",
      "\u001b[1;33mWARNING: Skipping previously marked faulty song 'Una Mattina' by 'Ludovico Einaudi'.\u001b[0m\n",
      "\u001b[1;33mWARNING: Skipping previously marked faulty song 'River Flows In You' by 'Yiruma'.\u001b[0m\n"
     ]
    },
    {
     "name": "stdout",
     "output_type": "stream",
     "text": [
      "\u001b[1;32mINFO: Added song 'tchaikovsky swan lake, op. 20, act 2 no. 10, scene. moderato' by 'pyotr ilyich tchaikovsky' to the container.\u001b[0m\n",
      "\u001b[1;32mINFO: Added song 'the second waltz, op. 99a' by 'dmitri shostakovich' to the container.\u001b[0m\n",
      "\u001b[1;32mINFO: Added song '13 pieces, op. 76 no. 2 etude' by 'jean sibelius' to the container.\u001b[0m\n",
      "\u001b[1;32mINFO: Added song 'adieux' by 'ludovico einaudi' to the container.\u001b[0m\n",
      "\u001b[1;32mINFO: Added song 'symphony no. 5 in c minor, op. 67 i. allegro con brio' by 'ludwig van beethoven' to the container.\u001b[0m\n",
      "\u001b[1;32mINFO: Added 5 songs for genre 'classical'.\u001b[0m\n",
      "\u001b[1;32mINFO: Fetching 5 tracks for genre 'indie'...\u001b[0m\n"
     ]
    },
    {
     "name": "stderr",
     "output_type": "stream",
     "text": [
      "\u001b[1;33mWARNING: Skipping previously marked faulty song 'Good Luck, Babe!' by 'Chappell Roan'.\u001b[0m\n",
      "\u001b[1;33mWARNING: Skipping previously marked faulty song 'Złamane serce jest OK' by 'Daria Zawiałow'.\u001b[0m\n",
      "\u001b[1;33mWARNING: Skipping previously marked faulty song 'The Night We Met' by 'Lord Huron'.\u001b[0m\n",
      "\u001b[1;33mWARNING: Skipping previously marked faulty song 'I Wanna Be Yours' by 'Arctic Monkeys'.\u001b[0m\n",
      "\u001b[1;33mWARNING: Skipping previously marked faulty song 'Cigarettes out the Window' by 'TV Girl'.\u001b[0m\n"
     ]
    },
    {
     "name": "stdout",
     "output_type": "stream",
     "text": [
      "\u001b[1;32mINFO: Added song 'beggin'' by 'måneskin' to the container.\u001b[0m\n",
      "\u001b[1;32mINFO: Added song 'i love you so' by 'the walters' to the container.\u001b[0m\n",
      "\u001b[1;32mINFO: Added song 'r u mine' by 'arctic monkeys' to the container.\u001b[0m\n",
      "\u001b[1;32mINFO: Added song 'we are the people' by 'empire of the sun' to the container.\u001b[0m\n",
      "\u001b[1;32mINFO: Added song 'heathens' by 'twenty one pilots' to the container.\u001b[0m\n",
      "\u001b[1;32mINFO: Added 5 songs for genre 'indie'.\u001b[0m\n"
     ]
    }
   ],
   "source": [
    "ctnr.add_songs_by_genre('reggae', num_tracks=5)\n",
    "ctnr.add_songs_by_genre('pop', num_tracks=5)\n",
    "ctnr.add_songs_by_genre('rock', num_tracks=5)\n",
    "ctnr.add_songs_by_genre('metal', num_tracks=5)\n",
    "ctnr.add_songs_by_genre('classical', num_tracks=5)\n",
    "ctnr.add_songs_by_genre('indie', num_tracks=5)\n",
    "\n",
    "\n",
    "\n",
    "\n",
    "# ctnr.add_songs_from_playlist('057QmV9rwuot6wTOwHxTeF')"
   ]
  },
  {
   "cell_type": "code",
   "execution_count": 157,
   "id": "205f6f65-3737-44e6-beb6-89265096e64b",
   "metadata": {},
   "outputs": [
    {
     "data": {
      "text/plain": [
       "[<Song policeman by jamal>,\n",
       " <Song tqg by karol g>,\n",
       " <Song reggaetón lento by cnco>,\n",
       " <Song bang bang by k'naan>,\n",
       " <Song it wasn't me by shaggy>,\n",
       " <Song i ciebie też, bardzo by męskie granie orkiestra>,\n",
       " <Song another love by tom odell>,\n",
       " <Song noc aniołów by young leosia>,\n",
       " <Song z kopyta kulig rwie by skaldowie>,\n",
       " <Song apocalypse by cigarettes after sex>,\n",
       " <Song the sound of silence by disturbed>,\n",
       " <Song i wanna be your slave by måneskin>,\n",
       " <Song shut up and dance by walk the moon>,\n",
       " <Song kołysanka dla nieznajomej by perfect>,\n",
       " <Song jingle bell rock by daryl hall & john oates>,\n",
       " <Song aerials by system of a down>,\n",
       " <Song hellfire by arcane>,\n",
       " <Song scar tissue by red hot chili peppers>,\n",
       " <Song whiskey in the jar by metallica>,\n",
       " <Song tchaikovsky swan lake, op. 20, act 2 no. 10, scene. moderato by pyotr ilyich tchaikovsky>,\n",
       " <Song the second waltz, op. 99a by dmitri shostakovich>,\n",
       " <Song 13 pieces, op. 76 no. 2 etude by jean sibelius>,\n",
       " <Song adieux by ludovico einaudi>,\n",
       " <Song symphony no. 5 in c minor, op. 67 i. allegro con brio by ludwig van beethoven>,\n",
       " <Song beggin' by måneskin>,\n",
       " <Song i love you so by the walters>,\n",
       " <Song r u mine by arctic monkeys>,\n",
       " <Song we are the people by empire of the sun>,\n",
       " <Song heathens by twenty one pilots>]"
      ]
     },
     "execution_count": 157,
     "metadata": {},
     "output_type": "execute_result"
    }
   ],
   "source": [
    "ctnr.songs"
   ]
  },
  {
   "cell_type": "code",
   "execution_count": 158,
   "id": "f9e90389-96b9-4834-a8fb-b0169f33e4b3",
   "metadata": {},
   "outputs": [
    {
     "data": {
      "text/plain": [
       "29"
      ]
     },
     "execution_count": 158,
     "metadata": {},
     "output_type": "execute_result"
    }
   ],
   "source": [
    "len(ctnr.songs)"
   ]
  },
  {
   "cell_type": "code",
   "execution_count": 159,
   "id": "ca877bd3-4228-45bd-ac9e-bd8e210903b5",
   "metadata": {},
   "outputs": [
    {
     "name": "stdout",
     "output_type": "stream",
     "text": [
      "\u001b[1;32mINFO: Fetching metadata for all songs...\u001b[0m\n"
     ]
    },
    {
     "data": {
      "application/vnd.jupyter.widget-view+json": {
       "model_id": "331f39b8b65a41abba6aa04a12d08e6c",
       "version_major": 2,
       "version_minor": 0
      },
      "text/plain": [
       "Fetching metadata:   0%|          | 0/29 [00:00<?, ?song/s]"
      ]
     },
     "metadata": {},
     "output_type": "display_data"
    },
    {
     "name": "stdout",
     "output_type": "stream",
     "text": [
      "\u001b[1;32mINFO: Loaded audio features for 'policeman' by 'jamal'.\u001b[0m\n",
      "\u001b[1;32mINFO: Loaded audio features for 'tqg' by 'karol g'.\u001b[0m\n",
      "\u001b[1;32mINFO: Loaded audio features for 'it wasn't me' by 'shaggy'.\u001b[0m\n",
      "\u001b[1;32mINFO: Loaded audio features for 'reggaetón lento' by 'cnco'.\u001b[0m\n",
      "\u001b[1;32mINFO: Loaded audio features for 'i ciebie też, bardzo' by 'męskie granie orkiestra'.\u001b[0m\n",
      "\u001b[1;32mINFO: Loaded audio features for 'another love' by 'tom odell'.\u001b[0m\n",
      "\u001b[1;32mINFO: Loaded audio features for 'noc aniołów' by 'young leosia'.\u001b[0m\n",
      "\u001b[1;32mINFO: Loaded audio features for 'bang bang' by 'k'naan'.\u001b[0m\n",
      "\u001b[1;32mINFO: Lyrics for 'policeman' by 'jamal' loaded successfully.\u001b[0m\n",
      "\u001b[1;32mINFO: Loaded audio features for 'z kopyta kulig rwie' by 'skaldowie'.\u001b[0m\n",
      "\u001b[1;32mINFO: Lyrics for 'another love' by 'tom odell' loaded successfully.\u001b[0m\n",
      "\u001b[1;32mINFO: Loaded audio features for 'apocalypse' by 'cigarettes after sex'.\u001b[0m\n",
      "\u001b[1;32mINFO: Lyrics for 'bang bang' by 'k'naan' loaded successfully.\u001b[0m\n",
      "\u001b[1;32mINFO: Loaded audio features for 'the sound of silence' by 'disturbed'.\u001b[0m\n",
      "\u001b[1;32mINFO: Lyrics for 'the sound of silence' by 'disturbed' loaded successfully.\u001b[0m\n",
      "\u001b[1;32mINFO: Loaded audio features for 'i wanna be your slave' by 'måneskin'.\u001b[0m\n",
      "\u001b[1;32mINFO: Lyrics for 'apocalypse' by 'cigarettes after sex' loaded successfully.\u001b[0m\n",
      "\u001b[1;32mINFO: Loaded audio features for 'shut up and dance' by 'walk the moon'.\u001b[0m\n"
     ]
    },
    {
     "name": "stderr",
     "output_type": "stream",
     "text": [
      "\u001b[1;33mWARNING: Lyrics not found for 'z kopyta kulig rwie' by skaldowie using all available providers.\u001b[0m\n",
      "\u001b[1;33mWARNING: Lyrics for 'z kopyta kulig rwie' by 'skaldowie' could not be found.\u001b[0m\n"
     ]
    },
    {
     "name": "stdout",
     "output_type": "stream",
     "text": [
      "\u001b[1;32mINFO: Loaded audio features for 'kołysanka dla nieznajomej' by 'perfect'.\u001b[0m\n",
      "\u001b[1;32mINFO: Lyrics for 'tqg' by 'karol g' loaded successfully.\u001b[0m\n",
      "\u001b[1;32mINFO: Loaded audio features for 'jingle bell rock' by 'daryl hall & john oates'.\u001b[0m\n",
      "\u001b[1;32mINFO: Lyrics for 'shut up and dance' by 'walk the moon' loaded successfully.\u001b[0m\n",
      "\u001b[1;32mINFO: Loaded audio features for 'aerials' by 'system of a down'.\u001b[0m\n",
      "\u001b[1;32mINFO: Lyrics for 'aerials' by 'system of a down' loaded successfully.\u001b[0m\n",
      "\u001b[1;32mINFO: Loaded audio features for 'hellfire' by 'arcane'.\u001b[0m\n",
      "\u001b[1;32mINFO: Lyrics for 'jingle bell rock' by 'daryl hall & john oates' loaded successfully.\u001b[0m\n",
      "\u001b[1;32mINFO: Loaded audio features for 'scar tissue' by 'red hot chili peppers'.\u001b[0m\n",
      "\u001b[1;32mINFO: Lyrics for 'it wasn't me' by 'shaggy' loaded successfully.\u001b[0m\n",
      "\u001b[1;32mINFO: Loaded audio features for 'whiskey in the jar' by 'metallica'.\u001b[0m\n",
      "\u001b[1;32mINFO: Lyrics for 'scar tissue' by 'red hot chili peppers' loaded successfully.\u001b[0m\n",
      "\u001b[1;32mINFO: Loaded audio features for 'tchaikovsky swan lake, op. 20, act 2 no. 10, scene. moderato' by 'pyotr ilyich tchaikovsky'.\u001b[0m\n",
      "\u001b[1;32mINFO: Lyrics for 'whiskey in the jar' by 'metallica' loaded successfully.\u001b[0m\n",
      "\u001b[1;32mINFO: Loaded audio features for 'the second waltz, op. 99a' by 'dmitri shostakovich'.\u001b[0m\n",
      "\u001b[1;32mINFO: Lyrics for 'hellfire' by 'arcane' loaded successfully.\u001b[0m\n",
      "\u001b[1;32mINFO: Loaded audio features for '13 pieces, op. 76 no. 2 etude' by 'jean sibelius'.\u001b[0m\n"
     ]
    },
    {
     "name": "stderr",
     "output_type": "stream",
     "text": [
      "\u001b[1;33mWARNING: Lyrics not found for 'tchaikovsky swan lake, op. 20, act 2 no. 10, scene. moderato' by pyotr ilyich tchaikovsky using all available providers.\u001b[0m\n",
      "\u001b[1;33mWARNING: Lyrics for 'tchaikovsky swan lake, op. 20, act 2 no. 10, scene. moderato' by 'pyotr ilyich tchaikovsky' could not be found.\u001b[0m\n"
     ]
    },
    {
     "name": "stdout",
     "output_type": "stream",
     "text": [
      "\u001b[1;32mINFO: Loaded audio features for 'adieux' by 'ludovico einaudi'.\u001b[0m\n",
      "\u001b[1;32mINFO: Lyrics for 'i ciebie też, bardzo' by 'męskie granie orkiestra' loaded successfully.\u001b[0m\n",
      "\u001b[1;32mINFO: Loaded audio features for 'symphony no. 5 in c minor, op. 67 i. allegro con brio' by 'ludwig van beethoven'.\u001b[0m\n",
      "\u001b[1;32mINFO: Lyrics for 'noc aniołów' by 'young leosia' loaded successfully.\u001b[0m\n",
      "\u001b[1;32mINFO: Loaded audio features for 'beggin'' by 'måneskin'.\u001b[0m\n"
     ]
    },
    {
     "name": "stderr",
     "output_type": "stream",
     "text": [
      "\u001b[1;33mWARNING: Lyrics not found for 'the second waltz, op. 99a' by dmitri shostakovich using all available providers.\u001b[0m\n",
      "\u001b[1;33mWARNING: Lyrics for 'the second waltz, op. 99a' by 'dmitri shostakovich' could not be found.\u001b[0m\n"
     ]
    },
    {
     "name": "stdout",
     "output_type": "stream",
     "text": [
      "\u001b[1;32mINFO: Loaded audio features for 'i love you so' by 'the walters'.\u001b[0m\n",
      "\u001b[1;32mINFO: Lyrics for 'reggaetón lento' by 'cnco' loaded successfully.\u001b[0m\n",
      "\u001b[1;32mINFO: Loaded audio features for 'r u mine' by 'arctic monkeys'.\u001b[0m\n"
     ]
    },
    {
     "name": "stderr",
     "output_type": "stream",
     "text": [
      "\u001b[1;33mWARNING: Lyrics not found for 'adieux' by ludovico einaudi using all available providers.\u001b[0m\n",
      "\u001b[1;33mWARNING: Lyrics for 'adieux' by 'ludovico einaudi' could not be found.\u001b[0m\n"
     ]
    },
    {
     "name": "stdout",
     "output_type": "stream",
     "text": [
      "\u001b[1;32mINFO: Loaded audio features for 'we are the people' by 'empire of the sun'.\u001b[0m\n"
     ]
    },
    {
     "name": "stderr",
     "output_type": "stream",
     "text": [
      "\u001b[1;33mWARNING: Lyrics not found for '13 pieces, op. 76 no. 2 etude' by jean sibelius using all available providers.\u001b[0m\n",
      "\u001b[1;33mWARNING: Lyrics for '13 pieces, op. 76 no. 2 etude' by 'jean sibelius' could not be found.\u001b[0m\n"
     ]
    },
    {
     "name": "stdout",
     "output_type": "stream",
     "text": [
      "\u001b[1;32mINFO: Loaded audio features for 'heathens' by 'twenty one pilots'.\u001b[0m\n",
      "\u001b[1;32mINFO: Lyrics for 'i wanna be your slave' by 'måneskin' loaded successfully.\u001b[0m\n",
      "\u001b[1;32mINFO: Lyrics for 'kołysanka dla nieznajomej' by 'perfect' loaded successfully.\u001b[0m\n",
      "\u001b[1;32mINFO: Lyrics for 'r u mine' by 'arctic monkeys' loaded successfully.\u001b[0m\n",
      "\u001b[1;32mINFO: Lyrics for 'heathens' by 'twenty one pilots' loaded successfully.\u001b[0m\n",
      "\u001b[1;32mINFO: Lyrics for 'we are the people' by 'empire of the sun' loaded successfully.\u001b[0m\n"
     ]
    },
    {
     "name": "stderr",
     "output_type": "stream",
     "text": [
      "\u001b[1;33mWARNING: Lyrics not found for 'symphony no. 5 in c minor, op. 67 i. allegro con brio' by ludwig van beethoven using all available providers.\u001b[0m\n",
      "\u001b[1;33mWARNING: Lyrics for 'symphony no. 5 in c minor, op. 67 i. allegro con brio' by 'ludwig van beethoven' could not be found.\u001b[0m\n"
     ]
    },
    {
     "name": "stdout",
     "output_type": "stream",
     "text": [
      "\u001b[1;32mINFO: Lyrics for 'i love you so' by 'the walters' loaded successfully.\u001b[0m\n",
      "\u001b[1;32mINFO: Lyrics for 'beggin'' by 'måneskin' loaded successfully.\u001b[0m\n"
     ]
    }
   ],
   "source": [
    "ctnr.fetch_metadata()"
   ]
  },
  {
   "cell_type": "code",
   "execution_count": 160,
   "id": "f2dd9150-18c5-43b5-8db0-5436ab2aaa45",
   "metadata": {},
   "outputs": [
    {
     "data": {
      "text/plain": [
       "[{'title': 'na szczycie', 'artist': 'grubson'},\n",
       " {'title': 'si antes te hubiera conocido', 'artist': 'karol g'},\n",
       " {'title': 'zanim pójdę', 'artist': 'happysad'},\n",
       " {'title': 'danza kuduro', 'artist': 'don omar'},\n",
       " {'title': 'policeman', 'artist': 'jamal'},\n",
       " {'title': 'die with a smile', 'artist': 'lady gaga'},\n",
       " {'title': 'all i want for christmas is you', 'artist': 'mariah carey'},\n",
       " {'title': 'falochrony', 'artist': 'roxie węgiel'},\n",
       " {'title': 'last christmas', 'artist': 'wham!'},\n",
       " {'title': 'sailor song', 'artist': 'gigi perez'},\n",
       " {'title': \"rockin' around the christmas tree\", 'artist': 'brenda lee'},\n",
       " {'title': 'sweater weather', 'artist': 'the neighbourhood'},\n",
       " {'title': 'i wanna be yours', 'artist': 'arctic monkeys'},\n",
       " {'title': 'the sound of silence', 'artist': 'disturbed'},\n",
       " {'title': 'in the end', 'artist': 'linkin park'},\n",
       " {'title': 'numb', 'artist': 'linkin park'},\n",
       " {'title': 'the emptiness machine', 'artist': 'linkin park'},\n",
       " {'title': 'heavy is the crown', 'artist': 'linkin park'},\n",
       " {'title': 'experience', 'artist': 'ludovico einaudi'},\n",
       " {'title': 'con te partirò', 'artist': 'andrea bocelli'},\n",
       " {'title': 'una mattina', 'artist': 'ludovico einaudi'},\n",
       " {'title': 'tchaikovsky swan lake, op. 20, act 2 no. 10, scene. moderato',\n",
       "  'artist': 'pyotr ilyich tchaikovsky'},\n",
       " {'title': 'river flows in you', 'artist': 'yiruma'},\n",
       " {'title': 'good luck, babe!', 'artist': 'chappell roan'},\n",
       " {'title': 'złamane serce jest ok', 'artist': 'daria zawiałow'},\n",
       " {'title': 'the night we met', 'artist': 'lord huron'},\n",
       " {'title': 'cigarettes out the window', 'artist': 'tv girl'}]"
      ]
     },
     "execution_count": 160,
     "metadata": {},
     "output_type": "execute_result"
    }
   ],
   "source": [
    "ctnr.faulty_songs"
   ]
  },
  {
   "cell_type": "code",
   "execution_count": 161,
   "id": "3716cb43-1dc1-4b6e-b9a3-45c8fb4dc5d4",
   "metadata": {},
   "outputs": [
    {
     "name": "stdout",
     "output_type": "stream",
     "text": [
      "\u001b[1;32mINFO: Cleaning faulty songs...\u001b[0m\n",
      "\u001b[1;32mINFO: Appended 5 faulty songs to /home/krystian/Python/Jupyter-projects/thesis/songs_analysis/playlists_new/faulty_songs.csv.\u001b[0m\n",
      "\u001b[1;32mINFO: Removed 5 faulty songs from the container.\u001b[0m\n"
     ]
    }
   ],
   "source": [
    "ctnr.clean_faulty()"
   ]
  },
  {
   "cell_type": "code",
   "execution_count": 162,
   "id": "bc83dfb1-a0df-4ef1-a38b-d814ecea10d4",
   "metadata": {},
   "outputs": [
    {
     "name": "stdout",
     "output_type": "stream",
     "text": [
      "\u001b[1;32mINFO: Downloading songs...\u001b[0m\n"
     ]
    },
    {
     "data": {
      "application/vnd.jupyter.widget-view+json": {
       "model_id": "885fb3bb223941e990489a78e68e53f6",
       "version_major": 2,
       "version_minor": 0
      },
      "text/plain": [
       "Downloading songs:   0%|          | 0/23 [00:00<?, ?song/s]"
      ]
     },
     "metadata": {},
     "output_type": "display_data"
    },
    {
     "name": "stdout",
     "output_type": "stream",
     "text": [
      "\u001b[1;32mINFO: Downloaded 'policeman' by 'jamal' successfully.\u001b[0m\n",
      "\u001b[1;32mINFO: Downloaded 'noc aniołów' by 'young leosia' successfully.\u001b[0m\n",
      "\u001b[1;32mINFO: Downloaded 'bang bang' by 'k'naan' successfully.\u001b[0m\n",
      "[download]  41.3% of    4.84MiB at   10.47MiB/s ETA 00:00\u001b[1;32mINFO: Downloaded 'tqg' by 'karol g' successfully.\u001b[0m\n",
      "\u001b[1;32mINFO: Downloaded 'reggaetón lento' by 'cnco' successfully.\u001b[0m\n",
      "[download]  47.5% of    4.21MiB at    5.67MiB/s ETA 00:00\u001b[1;32mINFO: Downloaded 'i ciebie też, bardzo' by 'męskie granie orkiestra' successfully.\u001b[0m\n",
      "\u001b[1;32mINFO: Downloaded 'it wasn't me' by 'shaggy' successfully.\u001b[0m\n",
      "\u001b[1;32mINFO: Downloaded 'another love' by 'tom odell' successfully.\u001b[0m\n",
      "\u001b[1;32mINFO: Downloaded 'i wanna be your slave' by 'måneskin' successfully.\u001b[0m\n",
      "\u001b[1;32mINFO: Downloaded 'apocalypse' by 'cigarettes after sex' successfully.\u001b[0m\n",
      "\u001b[1;32mINFO: Downloaded 'hellfire' by 'arcane' successfully.\u001b[0m\n",
      "[download]   0.0% of    3.28MiB at   38.04KiB/s ETA 01:28\u001b[1;32mINFO: Downloaded 'jingle bell rock' by 'daryl hall & john oates' successfully.\u001b[0m\n",
      "\u001b[1;32mINFO: Downloaded 'the sound of silence' by 'disturbed' successfully.\u001b[0m\n",
      "\u001b[1;32mINFO: Downloaded 'kołysanka dla nieznajomej' by 'perfect' successfully.\u001b[0m\n",
      "[download]  61.2% of    3.26MiB at    9.53MiB/s ETA 00:00\u001b[1;32mINFO: Downloaded 'shut up and dance' by 'walk the moon' successfully.\u001b[0m\n",
      "[download]   0.0% of    2.44MiB at   25.23KiB/s ETA 01:39\u001b[1;32mINFO: Downloaded 'aerials' by 'system of a down' successfully.\u001b[0m\n",
      "\u001b[1;32mINFO: Downloaded 'scar tissue' by 'red hot chili peppers' successfully.\u001b[0m\n",
      "\u001b[1;32mINFO: Downloaded 'i love you so' by 'the walters' successfully.\u001b[0m\n",
      "\u001b[1;32mINFO: Downloaded 'r u mine' by 'arctic monkeys' successfully.\u001b[0m\n",
      "\u001b[1;32mINFO: Downloaded 'beggin'' by 'måneskin' successfully.\u001b[0m\n",
      "\u001b[1;32mINFO: Downloaded 'whiskey in the jar' by 'metallica' successfully.\u001b[0m\n",
      "\u001b[1;32mINFO: Downloaded 'heathens' by 'twenty one pilots' successfully.\u001b[0m\n",
      "\u001b[1;32mINFO: Downloaded 'we are the people' by 'empire of the sun' successfully.\u001b[0m\n"
     ]
    }
   ],
   "source": [
    "ctnr.download_songs()"
   ]
  },
  {
   "cell_type": "code",
   "execution_count": 163,
   "id": "86c65743-e080-48f4-96ae-60d852d7b217",
   "metadata": {},
   "outputs": [
    {
     "name": "stdout",
     "output_type": "stream",
     "text": [
      "\u001b[1;32mINFO: Saving songs to CSV...\u001b[0m\n",
      "\u001b[1;32mINFO: Saved song 'policeman' by 'jamal' to CSV.\u001b[0m\n",
      "\u001b[1;32mINFO: Saved song 'tqg' by 'karol g' to CSV.\u001b[0m\n",
      "\u001b[1;32mINFO: Saved song 'reggaetón lento' by 'cnco' to CSV.\u001b[0m\n",
      "\u001b[1;32mINFO: Saved song 'bang bang' by 'k'naan' to CSV.\u001b[0m\n",
      "\u001b[1;32mINFO: Saved song 'it wasn't me' by 'shaggy' to CSV.\u001b[0m\n",
      "\u001b[1;32mINFO: Saved song 'i ciebie też, bardzo' by 'męskie granie orkiestra' to CSV.\u001b[0m\n",
      "\u001b[1;32mINFO: Saved song 'another love' by 'tom odell' to CSV.\u001b[0m\n",
      "\u001b[1;32mINFO: Saved song 'noc aniołów' by 'young leosia' to CSV.\u001b[0m\n",
      "\u001b[1;32mINFO: Saved song 'apocalypse' by 'cigarettes after sex' to CSV.\u001b[0m\n",
      "\u001b[1;32mINFO: Saved song 'the sound of silence' by 'disturbed' to CSV.\u001b[0m\n",
      "\u001b[1;32mINFO: Saved song 'i wanna be your slave' by 'måneskin' to CSV.\u001b[0m\n",
      "\u001b[1;32mINFO: Saved song 'shut up and dance' by 'walk the moon' to CSV.\u001b[0m\n",
      "\u001b[1;32mINFO: Saved song 'kołysanka dla nieznajomej' by 'perfect' to CSV.\u001b[0m\n",
      "\u001b[1;32mINFO: Saved song 'jingle bell rock' by 'daryl hall & john oates' to CSV.\u001b[0m\n",
      "\u001b[1;32mINFO: Saved song 'aerials' by 'system of a down' to CSV.\u001b[0m\n",
      "\u001b[1;32mINFO: Saved song 'hellfire' by 'arcane' to CSV.\u001b[0m\n",
      "\u001b[1;32mINFO: Saved song 'scar tissue' by 'red hot chili peppers' to CSV.\u001b[0m\n",
      "\u001b[1;32mINFO: Saved song 'whiskey in the jar' by 'metallica' to CSV.\u001b[0m\n",
      "\u001b[1;32mINFO: Saved song 'beggin'' by 'måneskin' to CSV.\u001b[0m\n",
      "\u001b[1;32mINFO: Saved song 'i love you so' by 'the walters' to CSV.\u001b[0m\n",
      "\u001b[1;32mINFO: Saved song 'r u mine' by 'arctic monkeys' to CSV.\u001b[0m\n",
      "\u001b[1;32mINFO: Saved song 'we are the people' by 'empire of the sun' to CSV.\u001b[0m\n",
      "\u001b[1;32mINFO: Saved song 'heathens' by 'twenty one pilots' to CSV.\u001b[0m\n",
      "\u001b[1;32mINFO: Finished saving songs to CSV.\u001b[0m\n"
     ]
    }
   ],
   "source": [
    "ctnr.save_songs_to_csv()"
   ]
  },
  {
   "cell_type": "code",
   "execution_count": 164,
   "id": "9f9daca6-29f7-4410-b453-37e67f12c3fd",
   "metadata": {},
   "outputs": [
    {
     "data": {
      "text/plain": [
       "[<Song policeman by jamal>,\n",
       " <Song tqg by karol g>,\n",
       " <Song reggaetón lento by cnco>,\n",
       " <Song bang bang by k'naan>,\n",
       " <Song it wasn't me by shaggy>,\n",
       " <Song i ciebie też, bardzo by męskie granie orkiestra>,\n",
       " <Song another love by tom odell>,\n",
       " <Song noc aniołów by young leosia>,\n",
       " <Song apocalypse by cigarettes after sex>,\n",
       " <Song the sound of silence by disturbed>,\n",
       " <Song i wanna be your slave by måneskin>,\n",
       " <Song shut up and dance by walk the moon>,\n",
       " <Song kołysanka dla nieznajomej by perfect>,\n",
       " <Song jingle bell rock by daryl hall & john oates>,\n",
       " <Song aerials by system of a down>,\n",
       " <Song hellfire by arcane>,\n",
       " <Song scar tissue by red hot chili peppers>,\n",
       " <Song whiskey in the jar by metallica>,\n",
       " <Song beggin' by måneskin>,\n",
       " <Song i love you so by the walters>,\n",
       " <Song r u mine by arctic monkeys>,\n",
       " <Song we are the people by empire of the sun>,\n",
       " <Song heathens by twenty one pilots>]"
      ]
     },
     "execution_count": 164,
     "metadata": {},
     "output_type": "execute_result"
    }
   ],
   "source": [
    "ctnr.songs"
   ]
  },
  {
   "cell_type": "code",
   "execution_count": null,
   "id": "30f5fb10-494b-4b96-84ea-27fc817b9ebd",
   "metadata": {},
   "outputs": [],
   "source": []
  },
  {
   "cell_type": "code",
   "execution_count": null,
   "id": "c6a54d76-be78-445f-9bd7-f03a78a34a6b",
   "metadata": {},
   "outputs": [],
   "source": []
  }
 ],
 "metadata": {
  "kernelspec": {
   "display_name": "Python 3 (ipykernel)",
   "language": "python",
   "name": "python3"
  },
  "language_info": {
   "codemirror_mode": {
    "name": "ipython",
    "version": 3
   },
   "file_extension": ".py",
   "mimetype": "text/x-python",
   "name": "python",
   "nbconvert_exporter": "python",
   "pygments_lexer": "ipython3",
   "version": "3.10.12"
  }
 },
 "nbformat": 4,
 "nbformat_minor": 5
}
