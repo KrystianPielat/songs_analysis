{
 "cells": [
  {
   "cell_type": "code",
   "execution_count": 1,
   "id": "0aeb7f45-c808-42eb-afb3-0a46244c31e7",
   "metadata": {},
   "outputs": [],
   "source": [
    "%load_ext autoreload\n",
    "%autoreload 2"
   ]
  },
  {
   "cell_type": "code",
   "execution_count": 2,
   "id": "82ff691f-ad49-4c77-ae93-b9c7dfd61489",
   "metadata": {},
   "outputs": [
    {
     "name": "stderr",
     "output_type": "stream",
     "text": [
      "[I 2024-12-05 00:10:07,496] A new study created in memory with name: catboost_optimization\n",
      "[I 2024-12-05 00:10:09,151] Trial 0 finished with value: 0.7301249577902343 and parameters: {'iterations': 100, 'depth': 6, 'learning_rate': 0.017162317196174164, 'l2_leaf_reg': 4.42029769878453}. Best is trial 0 with value: 0.7301249577902343.\n",
      "[I 2024-12-05 00:10:10,110] Trial 1 finished with value: 0.7302807463952502 and parameters: {'iterations': 100, 'depth': 4, 'learning_rate': 0.025784883775089022, 'l2_leaf_reg': 3.791040261314456}. Best is trial 1 with value: 0.7302807463952502.\n",
      "[I 2024-12-05 00:10:10,720] Trial 2 finished with value: 0.7303695552072728 and parameters: {'iterations': 100, 'depth': 4, 'learning_rate': 0.04982829005390572, 'l2_leaf_reg': 4.737439529773209}. Best is trial 2 with value: 0.7303695552072728.\n",
      "[I 2024-12-05 00:10:12,542] Trial 3 finished with value: 0.7452912647582134 and parameters: {'iterations': 100, 'depth': 6, 'learning_rate': 0.059859715176215654, 'l2_leaf_reg': 1.329011078498279}. Best is trial 3 with value: 0.7452912647582134.\n",
      "[I 2024-12-05 00:10:14,477] Trial 4 finished with value: 0.7602616262581198 and parameters: {'iterations': 100, 'depth': 6, 'learning_rate': 0.07205054566759062, 'l2_leaf_reg': 3.8193282515849116}. Best is trial 4 with value: 0.7602616262581198.\n",
      "[I 2024-12-05 00:10:17,698] Trial 5 finished with value: 0.740396402116402 and parameters: {'iterations': 300, 'depth': 4, 'learning_rate': 0.06004614716399754, 'l2_leaf_reg': 3.039682469179017}. Best is trial 4 with value: 0.7602616262581198.\n",
      "[I 2024-12-05 00:10:24,675] Trial 6 finished with value: 0.7695315734989647 and parameters: {'iterations': 300, 'depth': 6, 'learning_rate': 0.08129077567048945, 'l2_leaf_reg': 1.6086562373822164}. Best is trial 6 with value: 0.7695315734989647.\n",
      "[I 2024-12-05 00:10:30,835] Trial 7 finished with value: 0.7502872743011147 and parameters: {'iterations': 300, 'depth': 6, 'learning_rate': 0.04685970081690182, 'l2_leaf_reg': 2.7978381616239485}. Best is trial 6 with value: 0.7695315734989647.\n",
      "[I 2024-12-05 00:10:37,250] Trial 8 finished with value: 0.7394920634920635 and parameters: {'iterations': 300, 'depth': 6, 'learning_rate': 0.0859356034200201, 'l2_leaf_reg': 2.3786511991566317}. Best is trial 6 with value: 0.7695315734989647.\n",
      "[I 2024-12-05 00:10:38,668] Trial 9 finished with value: 0.7255500811030008 and parameters: {'iterations': 100, 'depth': 6, 'learning_rate': 0.026562245281888802, 'l2_leaf_reg': 1.23514699834652}. Best is trial 6 with value: 0.7695315734989647.\n"
     ]
    }
   ],
   "source": [
    "import pandas as pd\n",
    "import numpy as np\n",
    "from sklearn.datasets import make_classification\n",
    "from sklearn.model_selection import train_test_split\n",
    "from sklearn.metrics import classification_report\n",
    "import logging\n",
    "from classes.optimal_catboost import OptimalCatBoostClassifier\n",
    "\n",
    "def generate_dataset():\n",
    "    X, y = make_classification(\n",
    "        n_samples=1000, \n",
    "        n_features=10, \n",
    "        n_informative=5, \n",
    "        n_redundant=2, \n",
    "        n_classes=3, \n",
    "        random_state=42\n",
    "    )\n",
    "    cat_features = [f\"cat_{i}\" for i in range(3)]  # Categorical feature names\n",
    "    num_features = [f\"num_{i}\" for i in range(7)]  # Numerical feature names\n",
    "    \n",
    "    X_df = pd.DataFrame(X, columns=num_features + cat_features)\n",
    "    # Add some fake categorical data\n",
    "    for cat in cat_features:\n",
    "        X_df[cat] = np.random.choice([\"A\", \"B\", \"C\"], size=X_df.shape[0])\n",
    "    \n",
    "    y_df = pd.Series(y, name=\"target\")\n",
    "    return X_df, y_df, num_features, cat_features\n",
    "\n",
    "param_grid = {\n",
    "    \"iterations\": [100, 300],\n",
    "    \"depth\": [4, 6],\n",
    "    \"learning_rate\": (0.01, 0.1),\n",
    "    \"l2_leaf_reg\": (1, 5),\n",
    "}\n",
    "\n",
    "X, y, num_features, cat_features = generate_dataset()\n",
    "\n",
    "model = OptimalCatBoostClassifier(\n",
    "    features=num_features + cat_features,\n",
    "    param_grid=param_grid,\n",
    "    n_trials=10,\n",
    "    cat_features=cat_features,\n",
    "    cache_path=None,\n",
    ")\n",
    "    \n",
    "model.fit(X, y)\n",
    "    \n",
    "#     evaluation_results = model.evaluate(X_test, y_test)\n",
    "#     print(\"Evaluation Metrics:\\n\", evaluation_results)\n",
    "    \n",
    "#     # Generate classification report\n",
    "#     y_pred = model.predict(X_test)\n",
    "#     report = classification_report(y_test, y_pred)\n",
    "#     print(\"\\nClassification Report:\\n\", report)\n",
    "    \n",
    "#     # Plot feature importance\n",
    "#     LOGGER.info(\"Plotting feature importance...\")\n",
    "#     model.plot_feature_importance()\n",
    "\n",
    "# # Run the debugging function\n",
    "# if __name__ == \"__main__\":\n",
    "#     debug_optimal_catboost()\n"
   ]
  },
  {
   "cell_type": "code",
   "execution_count": 3,
   "id": "67f51702-5391-4202-b4e4-2001056ed6e0",
   "metadata": {},
   "outputs": [
    {
     "data": {
      "text/html": [
       "<div>\n",
       "<style scoped>\n",
       "    .dataframe tbody tr th:only-of-type {\n",
       "        vertical-align: middle;\n",
       "    }\n",
       "\n",
       "    .dataframe tbody tr th {\n",
       "        vertical-align: top;\n",
       "    }\n",
       "\n",
       "    .dataframe thead th {\n",
       "        text-align: right;\n",
       "    }\n",
       "</style>\n",
       "<table border=\"1\" class=\"dataframe\">\n",
       "  <thead>\n",
       "    <tr style=\"text-align: right;\">\n",
       "      <th></th>\n",
       "      <th>Metric</th>\n",
       "      <th>Score</th>\n",
       "    </tr>\n",
       "  </thead>\n",
       "  <tbody>\n",
       "    <tr>\n",
       "      <th>0</th>\n",
       "      <td>Accuracy</td>\n",
       "      <td>0.960000</td>\n",
       "    </tr>\n",
       "    <tr>\n",
       "      <th>1</th>\n",
       "      <td>F1 Score</td>\n",
       "      <td>0.959943</td>\n",
       "    </tr>\n",
       "    <tr>\n",
       "      <th>2</th>\n",
       "      <td>Precision</td>\n",
       "      <td>0.961218</td>\n",
       "    </tr>\n",
       "    <tr>\n",
       "      <th>3</th>\n",
       "      <td>Recall</td>\n",
       "      <td>0.960000</td>\n",
       "    </tr>\n",
       "  </tbody>\n",
       "</table>\n",
       "</div>"
      ],
      "text/plain": [
       "      Metric     Score\n",
       "0   Accuracy  0.960000\n",
       "1   F1 Score  0.959943\n",
       "2  Precision  0.961218\n",
       "3     Recall  0.960000"
      ]
     },
     "execution_count": 3,
     "metadata": {},
     "output_type": "execute_result"
    }
   ],
   "source": [
    "model.training_results_"
   ]
  },
  {
   "cell_type": "code",
   "execution_count": 4,
   "id": "0507c874-3e87-4a3c-86b7-596800f24d91",
   "metadata": {},
   "outputs": [
    {
     "data": {
      "image/png": "[encoded data removed]",
      "text/plain": [
       "<Figure size 1000x800 with 1 Axes>"
      ]
     },
     "metadata": {},
     "output_type": "display_data"
    }
   ],
   "source": [
    "model.plot_feature_importance()"
   ]
  },
  {
   "cell_type": "markdown",
   "id": "81a698d3-af11-485e-8e4e-5f646aa48e6e",
   "metadata": {},
   "source": [
    "# Regression"
   ]
  },
  {
   "cell_type": "code",
   "execution_count": 5,
   "id": "c4f54a34-cb1e-4ab7-a421-54ef2d3810f9",
   "metadata": {},
   "outputs": [
    {
     "name": "stderr",
     "output_type": "stream",
     "text": [
      "[I 2024-12-05 00:10:50,419] A new study created in memory with name: catboost_regressor_optimization\n",
      "[I 2024-12-05 00:10:51,890] Trial 0 finished with value: 39.12805627107806 and parameters: {'iterations': 300, 'depth': 4, 'learning_rate': 0.07356883181720497, 'l2_leaf_reg': 1.575519955188402}. Best is trial 0 with value: 39.12805627107806.\n",
      "[I 2024-12-05 00:10:52,854] Trial 1 finished with value: 39.28807829066834 and parameters: {'iterations': 300, 'depth': 4, 'learning_rate': 0.025860927194438464, 'l2_leaf_reg': 4.537304712458077}. Best is trial 0 with value: 39.12805627107806.\n",
      "[I 2024-12-05 00:10:55,160] Trial 2 finished with value: 39.67657065291126 and parameters: {'iterations': 300, 'depth': 6, 'learning_rate': 0.01646433692721553, 'l2_leaf_reg': 2.1429922665185877}. Best is trial 0 with value: 39.12805627107806.\n",
      "[I 2024-12-05 00:10:57,811] Trial 3 finished with value: 39.40418148113023 and parameters: {'iterations': 300, 'depth': 6, 'learning_rate': 0.0709724624342671, 'l2_leaf_reg': 1.9064874462556798}. Best is trial 0 with value: 39.12805627107806.\n",
      "[I 2024-12-05 00:10:58,525] Trial 4 finished with value: 38.71285672255033 and parameters: {'iterations': 100, 'depth': 6, 'learning_rate': 0.0919543249238853, 'l2_leaf_reg': 3.1027507354531725}. Best is trial 4 with value: 38.71285672255033.\n",
      "[I 2024-12-05 00:10:59,456] Trial 5 finished with value: 39.40811119776648 and parameters: {'iterations': 300, 'depth': 4, 'learning_rate': 0.08179469181853681, 'l2_leaf_reg': 3.9937557070094836}. Best is trial 4 with value: 38.71285672255033.\n",
      "[I 2024-12-05 00:10:59,875] Trial 6 finished with value: 40.72737085816605 and parameters: {'iterations': 100, 'depth': 4, 'learning_rate': 0.036422927979657856, 'l2_leaf_reg': 2.7200115727681182}. Best is trial 4 with value: 38.71285672255033.\n",
      "[I 2024-12-05 00:11:00,549] Trial 7 finished with value: 39.82693911364649 and parameters: {'iterations': 100, 'depth': 6, 'learning_rate': 0.08803705573819351, 'l2_leaf_reg': 2.6358045109101074}. Best is trial 4 with value: 38.71285672255033.\n",
      "[I 2024-12-05 00:11:01,797] Trial 8 finished with value: 39.19319370208947 and parameters: {'iterations': 300, 'depth': 4, 'learning_rate': 0.07235862654804079, 'l2_leaf_reg': 2.3050795958768675}. Best is trial 4 with value: 38.71285672255033.\n",
      "[I 2024-12-05 00:11:03,151] Trial 9 finished with value: 38.841553337791 and parameters: {'iterations': 300, 'depth': 4, 'learning_rate': 0.04790534231401181, 'l2_leaf_reg': 1.2998829524113837}. Best is trial 4 with value: 38.71285672255033.\n"
     ]
    }
   ],
   "source": [
    "import pandas as pd\n",
    "import numpy as np\n",
    "from sklearn.datasets import make_regression\n",
    "from sklearn.model_selection import train_test_split\n",
    "from sklearn.metrics import mean_squared_error, mean_absolute_error, r2_score\n",
    "import logging\n",
    "from classes.optimal_catboost import OptimalCatBoostRegressor  # Assumes you have an equivalent for regression\n",
    "\n",
    "def generate_regression_dataset():\n",
    "    X, y = make_regression(\n",
    "        n_samples=1000,\n",
    "        n_features=10,\n",
    "        n_informative=7,\n",
    "        noise=0.1,\n",
    "        random_state=42,\n",
    "    )\n",
    "    cat_features = [f\"cat_{i}\" for i in range(3)]  # Categorical feature names\n",
    "    num_features = [f\"num_{i}\" for i in range(7)]  # Numerical feature names\n",
    "\n",
    "    X_df = pd.DataFrame(X, columns=num_features + cat_features)\n",
    "    # Add some fake categorical data\n",
    "    for cat in cat_features:\n",
    "        X_df[cat] = np.random.choice([\"A\", \"B\", \"C\"], size=X_df.shape[0])\n",
    "\n",
    "    y_df = pd.Series(y, name=\"target\")\n",
    "    return X_df, y_df, num_features, cat_features\n",
    "\n",
    "# Define the parameter grid for the CatBoost regressor\n",
    "param_grid = {\n",
    "    \"iterations\": [100, 300],\n",
    "    \"depth\": [4, 6],\n",
    "    \"learning_rate\": (0.01, 0.1),\n",
    "    \"l2_leaf_reg\": (1, 5),\n",
    "}\n",
    "\n",
    "# Generate the dataset\n",
    "X, y, num_features, cat_features = generate_regression_dataset()\n",
    "\n",
    "# Initialize the OptimalCatBoostRegressor\n",
    "model = OptimalCatBoostRegressor(\n",
    "    features=num_features + cat_features,\n",
    "    param_grid=param_grid,\n",
    "    n_trials=10,\n",
    "    cat_features=cat_features,\n",
    "    cache_path=None,\n",
    ")\n",
    "\n",
    "# Split the data into training and testing sets\n",
    "# X_train, X_test, y_train, y_test = train_test_split(X, y, test_size=0.2, random_state=42)\n",
    "\n",
    "# Train the model\n",
    "model.fit(X, y)\n",
    "\n",
    "# # Evaluate the model\n",
    "# y_pred = model.predict(X_test)\n",
    "# mse = mean_squared_error(y_test, y_pred)\n",
    "# mae = mean_absolute_error(y_test, y_pred)\n",
    "# r2 = r2_score(y_test, y_pred)\n",
    "\n",
    "# # Print evaluation metrics\n",
    "# print(\"Regression Metrics:\")\n",
    "# print(f\"Mean Squared Error (MSE): {mse:.4f}\")\n",
    "# print(f\"Mean Absolute Error (MAE): {mae:.4f}\")\n",
    "# print(f\"R-Squared (R2): {r2:.4f}\")\n",
    "\n",
    "# # Optional: Plot feature importance\n",
    "# logging.info(\"Plotting feature importance...\")\n",
    "# model.plot_feature_importance()\n"
   ]
  },
  {
   "cell_type": "code",
   "execution_count": 6,
   "id": "df44d072-78a8-4905-854b-8773fab8f134",
   "metadata": {},
   "outputs": [
    {
     "data": {
      "text/html": [
       "<div>\n",
       "<style scoped>\n",
       "    .dataframe tbody tr th:only-of-type {\n",
       "        vertical-align: middle;\n",
       "    }\n",
       "\n",
       "    .dataframe tbody tr th {\n",
       "        vertical-align: top;\n",
       "    }\n",
       "\n",
       "    .dataframe thead th {\n",
       "        text-align: right;\n",
       "    }\n",
       "</style>\n",
       "<table border=\"1\" class=\"dataframe\">\n",
       "  <thead>\n",
       "    <tr style=\"text-align: right;\">\n",
       "      <th></th>\n",
       "      <th>Metric</th>\n",
       "      <th>Score</th>\n",
       "    </tr>\n",
       "  </thead>\n",
       "  <tbody>\n",
       "    <tr>\n",
       "      <th>0</th>\n",
       "      <td>Mean Absolute Error</td>\n",
       "      <td>25.155631</td>\n",
       "    </tr>\n",
       "    <tr>\n",
       "      <th>1</th>\n",
       "      <td>Mean Squared Error</td>\n",
       "      <td>953.729079</td>\n",
       "    </tr>\n",
       "    <tr>\n",
       "      <th>2</th>\n",
       "      <td>Root Mean Squared Error</td>\n",
       "      <td>30.882504</td>\n",
       "    </tr>\n",
       "    <tr>\n",
       "      <th>3</th>\n",
       "      <td>R2 Score</td>\n",
       "      <td>0.832353</td>\n",
       "    </tr>\n",
       "  </tbody>\n",
       "</table>\n",
       "</div>"
      ],
      "text/plain": [
       "                    Metric       Score\n",
       "0      Mean Absolute Error   25.155631\n",
       "1       Mean Squared Error  953.729079\n",
       "2  Root Mean Squared Error   30.882504\n",
       "3                 R2 Score    0.832353"
      ]
     },
     "execution_count": 6,
     "metadata": {},
     "output_type": "execute_result"
    }
   ],
   "source": [
    "model.training_results_"
   ]
  },
  {
   "cell_type": "code",
   "execution_count": 7,
   "id": "e9118530-0466-4fbd-bb63-a29589b1fc1a",
   "metadata": {},
   "outputs": [
    {
     "data": {
      "image/png": "[encoded data removed]",
      "text/plain": [
       "<Figure size 1000x800 with 1 Axes>"
      ]
     },
     "metadata": {},
     "output_type": "display_data"
    }
   ],
   "source": [
    "model.plot_feature_importance()"
   ]
  },
  {
   "cell_type": "code",
   "execution_count": null,
   "id": "298943e6-08d9-4508-8575-3836d7949a8c",
   "metadata": {},
   "outputs": [],
   "source": []
  }
 ],
 "metadata": {
  "kernelspec": {
   "display_name": "Python 3 (ipykernel)",
   "language": "python",
   "name": "python3"
  },
  "language_info": {
   "codemirror_mode": {
    "name": "ipython",
    "version": 3
   },
   "file_extension": ".py",
   "mimetype": "text/x-python",
   "name": "python",
   "nbconvert_exporter": "python",
   "pygments_lexer": "ipython3",
   "version": "3.10.12"
  }
 },
 "nbformat": 4,
 "nbformat_minor": 5
}
