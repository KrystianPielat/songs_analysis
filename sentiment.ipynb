{
 "cells": [
  {
   "cell_type": "code",
   "execution_count": 1,
   "id": "50a76544-c6e1-4d92-ba96-da1e6c07b9d2",
   "metadata": {},
   "outputs": [],
   "source": [
    "%load_ext autoreload\n",
    "%autoreload 2"
   ]
  },
  {
   "cell_type": "code",
   "execution_count": 2,
   "id": "3aac368b-0904-4021-afa9-e5c9d9202bb0",
   "metadata": {},
   "outputs": [],
   "source": [
    "import os\n",
    "import re\n",
    "import pandas as pd\n",
    "import numpy as np\n",
    "import matplotlib.pyplot as plt\n",
    "import seaborn as sns\n",
    "from dotenv import load_dotenv\n",
    "from collections import Counter\n",
    "\n",
    "# NLP and Text Processing\n",
    "import nltk\n",
    "from nltk import word_tokenize, pos_tag\n",
    "from nltk.corpus import cmudict\n",
    "from textblob import TextBlob\n",
    "from nltk.sentiment.vader import SentimentIntensityAnalyzer\n",
    "import textstat\n",
    "from sklearn.feature_extraction.text import TfidfVectorizer, CountVectorizer\n",
    "\n",
    "# Scikit-learn\n",
    "from sklearn.ensemble import RandomForestClassifier, RandomForestRegressor\n",
    "from sklearn.model_selection import train_test_split\n",
    "from sklearn.feature_selection import SelectKBest, f_classif\n",
    "from sklearn.preprocessing import StandardScaler\n",
    "from sklearn.pipeline import Pipeline\n",
    "from sklearn.metrics import mean_absolute_error, mean_squared_error, r2_score, accuracy_score, classification_report\n",
    "\n",
    "# Local\n",
    "from classes.song import Song\n",
    "from classes.spotify_manager import SpotifyManager\n",
    "from classes.lyrics_manager import LyricsManager\n",
    "from classes.utils import gather_data_from_folders\n",
    "from classes.model_pipeline import OptimalRegressionPipeline, OptimalClassificationPipeline\n",
    "from classes.baseline_models import MeanBaselineModel, MajorityBaselineModel, RandomBaselineModel\n",
    "\n",
    "import warnings\n",
    "warnings.simplefilter('ignore')\n",
    "load_dotenv();"
   ]
  },
  {
   "cell_type": "code",
   "execution_count": 3,
   "id": "bd511f46-6796-4cb5-905d-c1985e7dae08",
   "metadata": {},
   "outputs": [
    {
     "name": "stdout",
     "output_type": "stream",
     "text": [
      "Loaded 3621 songs\n"
     ]
    },
    {
     "data": {
      "text/html": [
       "<div>\n",
       "<style scoped>\n",
       "    .dataframe tbody tr th:only-of-type {\n",
       "        vertical-align: middle;\n",
       "    }\n",
       "\n",
       "    .dataframe tbody tr th {\n",
       "        vertical-align: top;\n",
       "    }\n",
       "\n",
       "    .dataframe thead th {\n",
       "        text-align: right;\n",
       "    }\n",
       "</style>\n",
       "<table border=\"1\" class=\"dataframe\">\n",
       "  <thead>\n",
       "    <tr style=\"text-align: right;\">\n",
       "      <th></th>\n",
       "      <th>id</th>\n",
       "      <th>title</th>\n",
       "      <th>artist</th>\n",
       "      <th>album_art_url</th>\n",
       "      <th>popularity</th>\n",
       "      <th>explicit</th>\n",
       "      <th>album_release_year</th>\n",
       "      <th>duration_ms</th>\n",
       "      <th>genres</th>\n",
       "      <th>lyrics</th>\n",
       "      <th>...</th>\n",
       "      <th>w2v_91</th>\n",
       "      <th>w2v_92</th>\n",
       "      <th>w2v_93</th>\n",
       "      <th>w2v_94</th>\n",
       "      <th>w2v_95</th>\n",
       "      <th>w2v_96</th>\n",
       "      <th>w2v_97</th>\n",
       "      <th>w2v_98</th>\n",
       "      <th>w2v_99</th>\n",
       "      <th>genre</th>\n",
       "    </tr>\n",
       "  </thead>\n",
       "  <tbody>\n",
       "    <tr>\n",
       "      <th>0</th>\n",
       "      <td>6YDDrg8llsRtAgLlIROzZc</td>\n",
       "      <td>put your head on my shoulder</td>\n",
       "      <td>paul anka</td>\n",
       "      <td>https://i.scdn.co/image/ab67616d0000b2737f16eb...</td>\n",
       "      <td>68.0</td>\n",
       "      <td>0</td>\n",
       "      <td>1959</td>\n",
       "      <td>158906</td>\n",
       "      <td>['genre:pop', 'adult', 'standards', 'canadian'...</td>\n",
       "      <td>Put your head on my shoulder\\nHold me in your ...</td>\n",
       "      <td>...</td>\n",
       "      <td>-0.003423</td>\n",
       "      <td>0.016568</td>\n",
       "      <td>0.002319</td>\n",
       "      <td>0.007630</td>\n",
       "      <td>-0.003030</td>\n",
       "      <td>0.009287</td>\n",
       "      <td>0.006670</td>\n",
       "      <td>0.003556</td>\n",
       "      <td>0.003469</td>\n",
       "      <td>pop</td>\n",
       "    </tr>\n",
       "    <tr>\n",
       "      <th>1</th>\n",
       "      <td>5zvOXJrzzUlvXwyuwZ0toZ</td>\n",
       "      <td>oh! carol</td>\n",
       "      <td>neil sedaka</td>\n",
       "      <td>https://i.scdn.co/image/ab67616d0000b2733843b4...</td>\n",
       "      <td>58.0</td>\n",
       "      <td>0</td>\n",
       "      <td>1959</td>\n",
       "      <td>136562</td>\n",
       "      <td>['genre:pop', 'adult', 'standards', 'brill', '...</td>\n",
       "      <td>Oh! Carol\\nI am but a fool\\nDarling, I love yo...</td>\n",
       "      <td>...</td>\n",
       "      <td>-0.004206</td>\n",
       "      <td>-0.010597</td>\n",
       "      <td>0.007079</td>\n",
       "      <td>-0.003365</td>\n",
       "      <td>0.015292</td>\n",
       "      <td>-0.004908</td>\n",
       "      <td>0.000558</td>\n",
       "      <td>-0.006474</td>\n",
       "      <td>0.000418</td>\n",
       "      <td>pop</td>\n",
       "    </tr>\n",
       "    <tr>\n",
       "      <th>2</th>\n",
       "      <td>0QGwOFQChzflLAmPq5NwKo</td>\n",
       "      <td>a teenager in love</td>\n",
       "      <td>dion &amp; the belmonts</td>\n",
       "      <td>https://i.scdn.co/image/ab67616d0000b2737a6091...</td>\n",
       "      <td>61.0</td>\n",
       "      <td>0</td>\n",
       "      <td>1959</td>\n",
       "      <td>158253</td>\n",
       "      <td>['genre:pop', 'brill', 'building', 'pop', 'doo...</td>\n",
       "      <td>Each time we have a quarrel\\nIt almost breaks ...</td>\n",
       "      <td>...</td>\n",
       "      <td>-0.005288</td>\n",
       "      <td>-0.016978</td>\n",
       "      <td>0.001973</td>\n",
       "      <td>0.016645</td>\n",
       "      <td>0.005722</td>\n",
       "      <td>-0.000172</td>\n",
       "      <td>0.000788</td>\n",
       "      <td>-0.002016</td>\n",
       "      <td>0.009753</td>\n",
       "      <td>pop</td>\n",
       "    </tr>\n",
       "    <tr>\n",
       "      <th>3</th>\n",
       "      <td>0hjYuU2Z9jcKvOl39oUpeE</td>\n",
       "      <td>diana</td>\n",
       "      <td>paul anka</td>\n",
       "      <td>https://i.scdn.co/image/ab67616d0000b2737f16eb...</td>\n",
       "      <td>56.0</td>\n",
       "      <td>0</td>\n",
       "      <td>1959</td>\n",
       "      <td>147760</td>\n",
       "      <td>['genre:pop', 'adult', 'standards', 'canadian'...</td>\n",
       "      <td>I'm so young and you're so old\\nThis, my darli...</td>\n",
       "      <td>...</td>\n",
       "      <td>-0.002524</td>\n",
       "      <td>-0.011046</td>\n",
       "      <td>-0.001598</td>\n",
       "      <td>-0.004006</td>\n",
       "      <td>0.001692</td>\n",
       "      <td>0.002618</td>\n",
       "      <td>0.004807</td>\n",
       "      <td>-0.001807</td>\n",
       "      <td>-0.000070</td>\n",
       "      <td>pop</td>\n",
       "    </tr>\n",
       "    <tr>\n",
       "      <th>4</th>\n",
       "      <td>1mdfrHeZzxjz0FJ4BKRuxS</td>\n",
       "      <td>puppy love</td>\n",
       "      <td>paul anka</td>\n",
       "      <td>https://i.scdn.co/image/ab67616d0000b2737f16eb...</td>\n",
       "      <td>57.0</td>\n",
       "      <td>0</td>\n",
       "      <td>1959</td>\n",
       "      <td>161533</td>\n",
       "      <td>['genre:pop', 'adult', 'standards', 'canadian'...</td>\n",
       "      <td>And they called it puppy love\\nOh I guess they...</td>\n",
       "      <td>...</td>\n",
       "      <td>-0.005602</td>\n",
       "      <td>0.010182</td>\n",
       "      <td>-0.006879</td>\n",
       "      <td>-0.001400</td>\n",
       "      <td>-0.001735</td>\n",
       "      <td>-0.001136</td>\n",
       "      <td>-0.004035</td>\n",
       "      <td>0.016890</td>\n",
       "      <td>0.001792</td>\n",
       "      <td>pop</td>\n",
       "    </tr>\n",
       "  </tbody>\n",
       "</table>\n",
       "<p>5 rows × 473 columns</p>\n",
       "</div>"
      ],
      "text/plain": [
       "                       id                         title               artist  \\\n",
       "0  6YDDrg8llsRtAgLlIROzZc  put your head on my shoulder            paul anka   \n",
       "1  5zvOXJrzzUlvXwyuwZ0toZ                     oh! carol          neil sedaka   \n",
       "2  0QGwOFQChzflLAmPq5NwKo            a teenager in love  dion & the belmonts   \n",
       "3  0hjYuU2Z9jcKvOl39oUpeE                         diana            paul anka   \n",
       "4  1mdfrHeZzxjz0FJ4BKRuxS                    puppy love            paul anka   \n",
       "\n",
       "                                       album_art_url  popularity explicit  \\\n",
       "0  https://i.scdn.co/image/ab67616d0000b2737f16eb...        68.0        0   \n",
       "1  https://i.scdn.co/image/ab67616d0000b2733843b4...        58.0        0   \n",
       "2  https://i.scdn.co/image/ab67616d0000b2737a6091...        61.0        0   \n",
       "3  https://i.scdn.co/image/ab67616d0000b2737f16eb...        56.0        0   \n",
       "4  https://i.scdn.co/image/ab67616d0000b2737f16eb...        57.0        0   \n",
       "\n",
       "   album_release_year  duration_ms  \\\n",
       "0                1959       158906   \n",
       "1                1959       136562   \n",
       "2                1959       158253   \n",
       "3                1959       147760   \n",
       "4                1959       161533   \n",
       "\n",
       "                                              genres  \\\n",
       "0  ['genre:pop', 'adult', 'standards', 'canadian'...   \n",
       "1  ['genre:pop', 'adult', 'standards', 'brill', '...   \n",
       "2  ['genre:pop', 'brill', 'building', 'pop', 'doo...   \n",
       "3  ['genre:pop', 'adult', 'standards', 'canadian'...   \n",
       "4  ['genre:pop', 'adult', 'standards', 'canadian'...   \n",
       "\n",
       "                                              lyrics  ...    w2v_91    w2v_92  \\\n",
       "0  Put your head on my shoulder\\nHold me in your ...  ... -0.003423  0.016568   \n",
       "1  Oh! Carol\\nI am but a fool\\nDarling, I love yo...  ... -0.004206 -0.010597   \n",
       "2  Each time we have a quarrel\\nIt almost breaks ...  ... -0.005288 -0.016978   \n",
       "3  I'm so young and you're so old\\nThis, my darli...  ... -0.002524 -0.011046   \n",
       "4  And they called it puppy love\\nOh I guess they...  ... -0.005602  0.010182   \n",
       "\n",
       "     w2v_93    w2v_94    w2v_95    w2v_96    w2v_97    w2v_98    w2v_99  genre  \n",
       "0  0.002319  0.007630 -0.003030  0.009287  0.006670  0.003556  0.003469    pop  \n",
       "1  0.007079 -0.003365  0.015292 -0.004908  0.000558 -0.006474  0.000418    pop  \n",
       "2  0.001973  0.016645  0.005722 -0.000172  0.000788 -0.002016  0.009753    pop  \n",
       "3 -0.001598 -0.004006  0.001692  0.002618  0.004807 -0.001807 -0.000070    pop  \n",
       "4 -0.006879 -0.001400 -0.001735 -0.001136 -0.004035  0.016890  0.001792    pop  \n",
       "\n",
       "[5 rows x 473 columns]"
      ]
     },
     "execution_count": 3,
     "metadata": {},
     "output_type": "execute_result"
    }
   ],
   "source": [
    "df = pd.read_pickle(os.path.join('datasets', \"new_data.pkl\"))\n",
    "print(f\"Loaded {df.shape[0]} songs\")\n",
    "df.head()"
   ]
  },
  {
   "cell_type": "code",
   "execution_count": 4,
   "id": "82d805c4-a9f7-42f6-b360-75cc9633d04c",
   "metadata": {},
   "outputs": [
    {
     "data": {
      "text/html": [
       "<div>\n",
       "<style scoped>\n",
       "    .dataframe tbody tr th:only-of-type {\n",
       "        vertical-align: middle;\n",
       "    }\n",
       "\n",
       "    .dataframe tbody tr th {\n",
       "        vertical-align: top;\n",
       "    }\n",
       "\n",
       "    .dataframe thead th {\n",
       "        text-align: right;\n",
       "    }\n",
       "</style>\n",
       "<table border=\"1\" class=\"dataframe\">\n",
       "  <thead>\n",
       "    <tr style=\"text-align: right;\">\n",
       "      <th></th>\n",
       "      <th>id</th>\n",
       "      <th>title</th>\n",
       "      <th>artist</th>\n",
       "      <th>album_art_url</th>\n",
       "      <th>popularity</th>\n",
       "      <th>explicit</th>\n",
       "      <th>album_release_year</th>\n",
       "      <th>duration_ms</th>\n",
       "      <th>genres</th>\n",
       "      <th>lyrics</th>\n",
       "      <th>...</th>\n",
       "      <th>w2v_91</th>\n",
       "      <th>w2v_92</th>\n",
       "      <th>w2v_93</th>\n",
       "      <th>w2v_94</th>\n",
       "      <th>w2v_95</th>\n",
       "      <th>w2v_96</th>\n",
       "      <th>w2v_97</th>\n",
       "      <th>w2v_98</th>\n",
       "      <th>w2v_99</th>\n",
       "      <th>genre</th>\n",
       "    </tr>\n",
       "  </thead>\n",
       "  <tbody>\n",
       "    <tr>\n",
       "      <th>0</th>\n",
       "      <td>6YDDrg8llsRtAgLlIROzZc</td>\n",
       "      <td>put your head on my shoulder</td>\n",
       "      <td>paul anka</td>\n",
       "      <td>https://i.scdn.co/image/ab67616d0000b2737f16eb...</td>\n",
       "      <td>68.0</td>\n",
       "      <td>0</td>\n",
       "      <td>1959</td>\n",
       "      <td>158906</td>\n",
       "      <td>['genre:pop', 'adult', 'standards', 'canadian'...</td>\n",
       "      <td>Put your head on my shoulder\\nHold me in your ...</td>\n",
       "      <td>...</td>\n",
       "      <td>-0.003423</td>\n",
       "      <td>0.016568</td>\n",
       "      <td>0.002319</td>\n",
       "      <td>0.007630</td>\n",
       "      <td>-0.003030</td>\n",
       "      <td>0.009287</td>\n",
       "      <td>0.006670</td>\n",
       "      <td>0.003556</td>\n",
       "      <td>0.003469</td>\n",
       "      <td>pop</td>\n",
       "    </tr>\n",
       "    <tr>\n",
       "      <th>1</th>\n",
       "      <td>5zvOXJrzzUlvXwyuwZ0toZ</td>\n",
       "      <td>oh! carol</td>\n",
       "      <td>neil sedaka</td>\n",
       "      <td>https://i.scdn.co/image/ab67616d0000b2733843b4...</td>\n",
       "      <td>58.0</td>\n",
       "      <td>0</td>\n",
       "      <td>1959</td>\n",
       "      <td>136562</td>\n",
       "      <td>['genre:pop', 'adult', 'standards', 'brill', '...</td>\n",
       "      <td>Oh! Carol\\nI am but a fool\\nDarling, I love yo...</td>\n",
       "      <td>...</td>\n",
       "      <td>-0.004206</td>\n",
       "      <td>-0.010597</td>\n",
       "      <td>0.007079</td>\n",
       "      <td>-0.003365</td>\n",
       "      <td>0.015292</td>\n",
       "      <td>-0.004908</td>\n",
       "      <td>0.000558</td>\n",
       "      <td>-0.006474</td>\n",
       "      <td>0.000418</td>\n",
       "      <td>pop</td>\n",
       "    </tr>\n",
       "    <tr>\n",
       "      <th>2</th>\n",
       "      <td>0QGwOFQChzflLAmPq5NwKo</td>\n",
       "      <td>a teenager in love</td>\n",
       "      <td>dion &amp; the belmonts</td>\n",
       "      <td>https://i.scdn.co/image/ab67616d0000b2737a6091...</td>\n",
       "      <td>61.0</td>\n",
       "      <td>0</td>\n",
       "      <td>1959</td>\n",
       "      <td>158253</td>\n",
       "      <td>['genre:pop', 'brill', 'building', 'pop', 'doo...</td>\n",
       "      <td>Each time we have a quarrel\\nIt almost breaks ...</td>\n",
       "      <td>...</td>\n",
       "      <td>-0.005288</td>\n",
       "      <td>-0.016978</td>\n",
       "      <td>0.001973</td>\n",
       "      <td>0.016645</td>\n",
       "      <td>0.005722</td>\n",
       "      <td>-0.000172</td>\n",
       "      <td>0.000788</td>\n",
       "      <td>-0.002016</td>\n",
       "      <td>0.009753</td>\n",
       "      <td>pop</td>\n",
       "    </tr>\n",
       "    <tr>\n",
       "      <th>3</th>\n",
       "      <td>0hjYuU2Z9jcKvOl39oUpeE</td>\n",
       "      <td>diana</td>\n",
       "      <td>paul anka</td>\n",
       "      <td>https://i.scdn.co/image/ab67616d0000b2737f16eb...</td>\n",
       "      <td>56.0</td>\n",
       "      <td>0</td>\n",
       "      <td>1959</td>\n",
       "      <td>147760</td>\n",
       "      <td>['genre:pop', 'adult', 'standards', 'canadian'...</td>\n",
       "      <td>I'm so young and you're so old\\nThis, my darli...</td>\n",
       "      <td>...</td>\n",
       "      <td>-0.002524</td>\n",
       "      <td>-0.011046</td>\n",
       "      <td>-0.001598</td>\n",
       "      <td>-0.004006</td>\n",
       "      <td>0.001692</td>\n",
       "      <td>0.002618</td>\n",
       "      <td>0.004807</td>\n",
       "      <td>-0.001807</td>\n",
       "      <td>-0.000070</td>\n",
       "      <td>pop</td>\n",
       "    </tr>\n",
       "    <tr>\n",
       "      <th>4</th>\n",
       "      <td>1mdfrHeZzxjz0FJ4BKRuxS</td>\n",
       "      <td>puppy love</td>\n",
       "      <td>paul anka</td>\n",
       "      <td>https://i.scdn.co/image/ab67616d0000b2737f16eb...</td>\n",
       "      <td>57.0</td>\n",
       "      <td>0</td>\n",
       "      <td>1959</td>\n",
       "      <td>161533</td>\n",
       "      <td>['genre:pop', 'adult', 'standards', 'canadian'...</td>\n",
       "      <td>And they called it puppy love\\nOh I guess they...</td>\n",
       "      <td>...</td>\n",
       "      <td>-0.005602</td>\n",
       "      <td>0.010182</td>\n",
       "      <td>-0.006879</td>\n",
       "      <td>-0.001400</td>\n",
       "      <td>-0.001735</td>\n",
       "      <td>-0.001136</td>\n",
       "      <td>-0.004035</td>\n",
       "      <td>0.016890</td>\n",
       "      <td>0.001792</td>\n",
       "      <td>pop</td>\n",
       "    </tr>\n",
       "  </tbody>\n",
       "</table>\n",
       "<p>5 rows × 473 columns</p>\n",
       "</div>"
      ],
      "text/plain": [
       "                       id                         title               artist  \\\n",
       "0  6YDDrg8llsRtAgLlIROzZc  put your head on my shoulder            paul anka   \n",
       "1  5zvOXJrzzUlvXwyuwZ0toZ                     oh! carol          neil sedaka   \n",
       "2  0QGwOFQChzflLAmPq5NwKo            a teenager in love  dion & the belmonts   \n",
       "3  0hjYuU2Z9jcKvOl39oUpeE                         diana            paul anka   \n",
       "4  1mdfrHeZzxjz0FJ4BKRuxS                    puppy love            paul anka   \n",
       "\n",
       "                                       album_art_url  popularity explicit  \\\n",
       "0  https://i.scdn.co/image/ab67616d0000b2737f16eb...        68.0        0   \n",
       "1  https://i.scdn.co/image/ab67616d0000b2733843b4...        58.0        0   \n",
       "2  https://i.scdn.co/image/ab67616d0000b2737a6091...        61.0        0   \n",
       "3  https://i.scdn.co/image/ab67616d0000b2737f16eb...        56.0        0   \n",
       "4  https://i.scdn.co/image/ab67616d0000b2737f16eb...        57.0        0   \n",
       "\n",
       "   album_release_year  duration_ms  \\\n",
       "0                1959       158906   \n",
       "1                1959       136562   \n",
       "2                1959       158253   \n",
       "3                1959       147760   \n",
       "4                1959       161533   \n",
       "\n",
       "                                              genres  \\\n",
       "0  ['genre:pop', 'adult', 'standards', 'canadian'...   \n",
       "1  ['genre:pop', 'adult', 'standards', 'brill', '...   \n",
       "2  ['genre:pop', 'brill', 'building', 'pop', 'doo...   \n",
       "3  ['genre:pop', 'adult', 'standards', 'canadian'...   \n",
       "4  ['genre:pop', 'adult', 'standards', 'canadian'...   \n",
       "\n",
       "                                              lyrics  ...    w2v_91    w2v_92  \\\n",
       "0  Put your head on my shoulder\\nHold me in your ...  ... -0.003423  0.016568   \n",
       "1  Oh! Carol\\nI am but a fool\\nDarling, I love yo...  ... -0.004206 -0.010597   \n",
       "2  Each time we have a quarrel\\nIt almost breaks ...  ... -0.005288 -0.016978   \n",
       "3  I'm so young and you're so old\\nThis, my darli...  ... -0.002524 -0.011046   \n",
       "4  And they called it puppy love\\nOh I guess they...  ... -0.005602  0.010182   \n",
       "\n",
       "     w2v_93    w2v_94    w2v_95    w2v_96    w2v_97    w2v_98    w2v_99  genre  \n",
       "0  0.002319  0.007630 -0.003030  0.009287  0.006670  0.003556  0.003469    pop  \n",
       "1  0.007079 -0.003365  0.015292 -0.004908  0.000558 -0.006474  0.000418    pop  \n",
       "2  0.001973  0.016645  0.005722 -0.000172  0.000788 -0.002016  0.009753    pop  \n",
       "3 -0.001598 -0.004006  0.001692  0.002618  0.004807 -0.001807 -0.000070    pop  \n",
       "4 -0.006879 -0.001400 -0.001735 -0.001136 -0.004035  0.016890  0.001792    pop  \n",
       "\n",
       "[5 rows x 473 columns]"
      ]
     },
     "execution_count": 4,
     "metadata": {},
     "output_type": "execute_result"
    }
   ],
   "source": [
    "df.head()"
   ]
  },
  {
   "cell_type": "code",
   "execution_count": null,
   "id": "eec7890a-c76d-4d21-b992-f869a0006499",
   "metadata": {},
   "outputs": [],
   "source": [
    "spotify_features = ['popularity', 'explicit',\n",
    "       'album_release_year', 'duration_ms', 'danceability', 'energy', 'key',\n",
    "       'loudness', 'mode', 'speechiness', 'acousticness', 'instrumentalness',\n",
    "       'liveness', 'valence', 'tempo', 'time_signature']\n",
    "\n",
    "sentiment_features = ['sentiment_polarity', 'sentiment_subjectivity', 'vader_compound', 'sentiment_variability']\n",
    "\n",
    "lyrics_features = ['unique_word_count', 'noun_ratio',\n",
    "       'verb_ratio', 'repetition_count', 'language', 'genre',\n",
    "       'lexical_richness', 'semantic_depth', 'syntactic_complexity',\n",
    "       'rhyme_density',  'linguistic_uniqueness', 'flesch_reading_ease', \n",
    "        'gunning_fog', 'dale_chall', 'type_token_ratio', 'word_count']\n",
    "\n",
    "tfidf_features = [ f for f in df.columns if f.startswith(\"tfidf_\") ]\n",
    "\n",
    "w2v_features = [ f for f in df.columns if f.startswith(\"w2v\") ]\n",
    "\n",
    "empath_features = [ f for f in df.columns if f.startswith(\"empath\") ]\n",
    "\n",
    "audio_extracted_features = ['mfcc_1', 'mfcc_2',\n",
    "       'mfcc_3', 'mfcc_4', 'mfcc_5', 'mfcc_6', 'mfcc_7', 'mfcc_8', 'mfcc_9',\n",
    "       'mfcc_10', 'mfcc_11', 'mfcc_12', 'mfcc_13', 'chroma_1', 'chroma_2',\n",
    "       'chroma_3', 'chroma_4', 'chroma_5', 'chroma_6', 'chroma_7', 'chroma_8',\n",
    "       'chroma_9', 'chroma_10', 'chroma_11', 'chroma_12',\n",
    "       'spectral_contrast_1', 'spectral_contrast_2', 'spectral_contrast_3',\n",
    "       'spectral_contrast_4', 'spectral_contrast_5', 'spectral_contrast_6',\n",
    "       'spectral_contrast_7', 'tempo_extracted', 'zcr']\n"
   ]
  },
  {
   "cell_type": "markdown",
   "id": "10157aa3-3b71-4830-af11-abb256b663e4",
   "metadata": {},
   "source": [
    "---"
   ]
  },
  {
   "cell_type": "markdown",
   "id": "d4de56ef-b8e8-4f23-bb7e-0a5b92bab7bd",
   "metadata": {},
   "source": [
    "# Classification"
   ]
  },
  {
   "cell_type": "code",
   "execution_count": null,
   "id": "fe11780f-64b7-4a40-9217-db5ccf6a36cf",
   "metadata": {},
   "outputs": [],
   "source": [
    "df['sentiment_polarity_binary'] = df.sentiment_polarity.apply(lambda x: x >= 0.5).astype(int)\n",
    "df['sentiment_polarity_binary'].value_counts()"
   ]
  },
  {
   "cell_type": "markdown",
   "id": "3c40542f-19ea-452f-bf6c-9c995988f0d4",
   "metadata": {},
   "source": [
    "## Prediction with all features"
   ]
  },
  {
   "cell_type": "code",
   "execution_count": null,
   "id": "919ec71f-363a-45cb-87e9-1f55a14bb5c2",
   "metadata": {},
   "outputs": [],
   "source": [
    "target = 'sentiment_polarity_binary'\n",
    "features = [ f for f in spotify_features + lyrics_features + tfidf_features + w2v_features + empath_features + audio_extracted_features if f in df.columns ]"
   ]
  },
  {
   "cell_type": "code",
   "execution_count": null,
   "id": "56807c3b-fe2a-4ece-bceb-0e89e8109e7b",
   "metadata": {},
   "outputs": [],
   "source": [
    "cat_features = [ f for f in df[features].select_dtypes(include=['category', 'object']).columns if f != target ]\n",
    "num_features = [ f for f in df[features].select_dtypes(include=[np.number]).columns if f != target ]"
   ]
  },
  {
   "cell_type": "code",
   "execution_count": null,
   "id": "1db84b1f-08f1-416b-ac20-27f81daa01c0",
   "metadata": {},
   "outputs": [],
   "source": [
    "cat_features"
   ]
  },
  {
   "cell_type": "code",
   "execution_count": null,
   "id": "287617b8-b9ed-47d3-a8d6-85edfa288cde",
   "metadata": {},
   "outputs": [],
   "source": [
    "len(num_features)"
   ]
  },
  {
   "cell_type": "code",
   "execution_count": null,
   "id": "4b746f71-34a2-4c02-85c7-233a5a89e494",
   "metadata": {},
   "outputs": [],
   "source": [
    "pipeline = OptimalClassificationPipeline(\n",
    "    df,\n",
    "    target_column=target,\n",
    "    num_features=num_features,\n",
    "    cat_features=cat_features,\n",
    "    n_trials=10,\n",
    "    param_grid={\n",
    "        \"iterations\": [500, 1000],\n",
    "        \"depth\": [4, 6, 8],\n",
    "        \"learning_rate\": (0.01, 0.1),\n",
    "        \"l2_leaf_reg\": (1, 10),\n",
    "    },\n",
    "    cache_path=\"catboost_optuna.db\"\n",
    ")\n",
    "pipeline.get_pipeline()"
   ]
  },
  {
   "cell_type": "code",
   "execution_count": null,
   "id": "dd2347da-a535-4670-bfc4-6fcd3a96e071",
   "metadata": {},
   "outputs": [],
   "source": [
    "pipeline.split()\n",
    "pipeline.train_model()"
   ]
  },
  {
   "cell_type": "code",
   "execution_count": null,
   "id": "270f99c0-41f5-4449-8ab2-44bca1fd9088",
   "metadata": {},
   "outputs": [],
   "source": [
    "pipeline.model.training_results"
   ]
  },
  {
   "cell_type": "code",
   "execution_count": null,
   "id": "0818db7e-4ce7-4c68-afc5-949ac9121ace",
   "metadata": {},
   "outputs": [],
   "source": [
    "pipeline.evaluate_model()"
   ]
  },
  {
   "cell_type": "code",
   "execution_count": null,
   "id": "35647e6d-8cef-4167-be6e-0e1c894d4edf",
   "metadata": {},
   "outputs": [],
   "source": [
    "pipeline.perform_shap_analysis()"
   ]
  },
  {
   "cell_type": "markdown",
   "id": "5cd45d65-e174-4661-9478-ca04720139db",
   "metadata": {},
   "source": [
    "## Prediction with lyrics"
   ]
  },
  {
   "cell_type": "code",
   "execution_count": null,
   "id": "3b69b49a-589c-4c84-93d5-58ca1c206fa0",
   "metadata": {},
   "outputs": [],
   "source": [
    "target = 'sentiment_polarity_binary'\n",
    "features = [ f for f in lyrics_features + tfidf_features + w2v_features + empath_features if f in df.columns ]"
   ]
  },
  {
   "cell_type": "code",
   "execution_count": null,
   "id": "2cb43392-13bd-4043-977f-c8748a42eb12",
   "metadata": {},
   "outputs": [],
   "source": [
    "cat_features = [ f for f in df[features].select_dtypes(include=['category', 'object']).columns if f != target ]\n",
    "num_features = [ f for f in df[features].select_dtypes(include=[np.number]).columns if f != target ]"
   ]
  },
  {
   "cell_type": "code",
   "execution_count": null,
   "id": "e993e497-7c15-4b99-93a5-c179b3f41107",
   "metadata": {},
   "outputs": [],
   "source": [
    "cat_features"
   ]
  },
  {
   "cell_type": "code",
   "execution_count": null,
   "id": "56aa6131-a69d-4698-b244-36802f17a0a6",
   "metadata": {},
   "outputs": [],
   "source": [
    "len(num_features)"
   ]
  },
  {
   "cell_type": "code",
   "execution_count": null,
   "id": "da117a9c-6f0d-4e7c-a238-aadb661475bb",
   "metadata": {},
   "outputs": [],
   "source": [
    "pipeline = OptimalClassificationPipeline(\n",
    "    df,\n",
    "    target_column=target,\n",
    "    num_features=num_features,\n",
    "    cat_features=cat_features,\n",
    "    n_trials=10,\n",
    "    param_grid={\n",
    "        \"iterations\": [500, 1000],\n",
    "        \"depth\": [4, 6, 8],\n",
    "        \"learning_rate\": (0.01, 0.1),\n",
    "        \"l2_leaf_reg\": (1, 10),\n",
    "    },\n",
    "    cache_path=\"catboost_optuna.db\"\n",
    ")\n",
    "pipeline.get_pipeline()"
   ]
  },
  {
   "cell_type": "code",
   "execution_count": null,
   "id": "8aa644a6-c0a7-4fb8-a4b4-f9c936b2d8d9",
   "metadata": {},
   "outputs": [],
   "source": [
    "pipeline.split()\n",
    "pipeline.train_model()"
   ]
  },
  {
   "cell_type": "code",
   "execution_count": null,
   "id": "b0395cf8-d47c-4c09-8637-fea1973eeed5",
   "metadata": {},
   "outputs": [],
   "source": [
    "pipeline.model.training_results"
   ]
  },
  {
   "cell_type": "code",
   "execution_count": null,
   "id": "567a1954-bb1e-47b3-a90f-87cfec8595e3",
   "metadata": {},
   "outputs": [],
   "source": [
    "pipeline.evaluate_model()"
   ]
  },
  {
   "cell_type": "code",
   "execution_count": null,
   "id": "44d489c7-876d-47a3-b85e-1866f1887dbe",
   "metadata": {},
   "outputs": [],
   "source": [
    "pipeline.perform_shap_analysis()"
   ]
  },
  {
   "cell_type": "code",
   "execution_count": null,
   "id": "fc80a23b-e274-4c46-8dcb-2f4eb6ef366f",
   "metadata": {},
   "outputs": [],
   "source": []
  },
  {
   "cell_type": "markdown",
   "id": "96fb166d-1c94-4c5e-9c92-feb7dc45d7eb",
   "metadata": {},
   "source": [
    "## Prediction with Spotify Features"
   ]
  },
  {
   "cell_type": "code",
   "execution_count": null,
   "id": "326b8834-f997-4f14-82ec-58a35169e1e4",
   "metadata": {},
   "outputs": [],
   "source": [
    "target = 'sentiment_polarity_binary'\n",
    "features = [ f for f in spotify_features if f in df.columns ]"
   ]
  },
  {
   "cell_type": "code",
   "execution_count": null,
   "id": "53c7b418-dd60-4be0-8e52-95bb87e1f865",
   "metadata": {},
   "outputs": [],
   "source": [
    "cat_features = [ f for f in df[features].select_dtypes(include=['category', 'object']).columns if f != target ]\n",
    "num_features = [ f for f in df[features].select_dtypes(include=[np.number]).columns if f != target ]"
   ]
  },
  {
   "cell_type": "code",
   "execution_count": null,
   "id": "afc5be98-dd9a-490a-8d49-fc50a30c64b2",
   "metadata": {},
   "outputs": [],
   "source": [
    "cat_features"
   ]
  },
  {
   "cell_type": "code",
   "execution_count": null,
   "id": "b55608c2-d473-4624-ac4a-2bcd5af6d89e",
   "metadata": {},
   "outputs": [],
   "source": [
    "len(num_features)"
   ]
  },
  {
   "cell_type": "code",
   "execution_count": null,
   "id": "0d09f9fd-2d3f-4dc2-9aea-e8c5019c7d75",
   "metadata": {},
   "outputs": [],
   "source": [
    "pipeline = OptimalClassificationPipeline(\n",
    "    df,\n",
    "    target_column=target,\n",
    "    num_features=num_features,\n",
    "    cat_features=cat_features,\n",
    "    n_trials=10,\n",
    "    param_grid={\n",
    "        \"iterations\": [500, 1000],\n",
    "        \"depth\": [4, 6, 8],\n",
    "        \"learning_rate\": (0.01, 0.1),\n",
    "        \"l2_leaf_reg\": (1, 10),\n",
    "    },\n",
    "    cache_path=\"catboost_optuna.db\"\n",
    ")\n",
    "pipeline.get_pipeline()"
   ]
  },
  {
   "cell_type": "code",
   "execution_count": null,
   "id": "fe19d94e-bb4e-4a65-b257-80d6f5e0749e",
   "metadata": {},
   "outputs": [],
   "source": [
    "pipeline.split()\n",
    "pipeline.train_model()"
   ]
  },
  {
   "cell_type": "code",
   "execution_count": null,
   "id": "938ae817-9924-4aa4-9a67-5b503d430c46",
   "metadata": {},
   "outputs": [],
   "source": [
    "pipeline.model.training_results"
   ]
  },
  {
   "cell_type": "code",
   "execution_count": null,
   "id": "9acc48c1-c340-441c-b9d1-bcc304755000",
   "metadata": {},
   "outputs": [],
   "source": [
    "pipeline.evaluate_model()"
   ]
  },
  {
   "cell_type": "code",
   "execution_count": null,
   "id": "25c9ca6f-7c2d-4632-a66a-f2dacf65d453",
   "metadata": {},
   "outputs": [],
   "source": [
    "pipeline.perform_shap_analysis()"
   ]
  },
  {
   "cell_type": "markdown",
   "id": "2ad329d8-4f67-4c26-8ebc-f07ee2663a0d",
   "metadata": {},
   "source": [
    "## Prediction with Audio Features"
   ]
  },
  {
   "cell_type": "code",
   "execution_count": null,
   "id": "15befd70-81d2-44d4-845a-ffc69f59c62e",
   "metadata": {},
   "outputs": [],
   "source": [
    "target = 'sentiment_polarity_binary'\n",
    "features = [ f for f in audio_extracted_features if f in df.columns ]"
   ]
  },
  {
   "cell_type": "code",
   "execution_count": null,
   "id": "9e8bb955-4cf6-4e37-8cfc-9e9b9bc3be43",
   "metadata": {},
   "outputs": [],
   "source": [
    "cat_features = [ f for f in df[features].select_dtypes(include=['category', 'object']).columns if f != target ]\n",
    "num_features = [ f for f in df[features].select_dtypes(include=[np.number]).columns if f != target ]"
   ]
  },
  {
   "cell_type": "code",
   "execution_count": null,
   "id": "0af4af2e-0bc2-409a-be53-e60c892f36ca",
   "metadata": {},
   "outputs": [],
   "source": [
    "cat_features"
   ]
  },
  {
   "cell_type": "code",
   "execution_count": null,
   "id": "2a2254d6-ddc4-47ef-af33-822ec243c3c5",
   "metadata": {},
   "outputs": [],
   "source": [
    "len(num_features)"
   ]
  },
  {
   "cell_type": "code",
   "execution_count": null,
   "id": "f54e0e56-efc7-4849-aa5c-6ec3efe41877",
   "metadata": {},
   "outputs": [],
   "source": [
    "pipeline = OptimalClassificationPipeline(\n",
    "    df,\n",
    "    target_column=target,\n",
    "    num_features=num_features,\n",
    "    cat_features=cat_features,\n",
    "    n_trials=10,\n",
    "    param_grid={\n",
    "        \"iterations\": [500, 1000],\n",
    "        \"depth\": [4, 6, 8],\n",
    "        \"learning_rate\": (0.01, 0.1),\n",
    "        \"l2_leaf_reg\": (1, 10),\n",
    "    },\n",
    "    cache_path=\"catboost_optuna.db\"\n",
    ")\n",
    "pipeline.get_pipeline()"
   ]
  },
  {
   "cell_type": "code",
   "execution_count": null,
   "id": "1586950c-485c-4c6c-93a6-3785fd5ed2c9",
   "metadata": {},
   "outputs": [],
   "source": [
    "pipeline.split()\n",
    "pipeline.train_model()"
   ]
  },
  {
   "cell_type": "code",
   "execution_count": null,
   "id": "6ec26660-5712-4e74-9223-ee0195a4ec9f",
   "metadata": {},
   "outputs": [],
   "source": [
    "pipeline.model.training_results"
   ]
  },
  {
   "cell_type": "code",
   "execution_count": null,
   "id": "671b89d0-62df-49d0-84c2-9fad3223db15",
   "metadata": {},
   "outputs": [],
   "source": [
    "pipeline.evaluate_model()"
   ]
  },
  {
   "cell_type": "code",
   "execution_count": null,
   "id": "cd119050-13d8-4a30-b157-bac6b3755add",
   "metadata": {},
   "outputs": [],
   "source": [
    "pipeline.perform_shap_analysis()"
   ]
  },
  {
   "cell_type": "markdown",
   "id": "8b23a0f7-4447-486a-a0b4-b091c1c41577",
   "metadata": {},
   "source": [
    "## Baseline"
   ]
  },
  {
   "cell_type": "code",
   "execution_count": null,
   "id": "1667807e-658f-4731-815d-10829a62e8b6",
   "metadata": {},
   "outputs": [],
   "source": [
    "majority_model = MajorityBaselineModel()\n",
    "majority_model.fit(pipeline.X_train, pipeline.y_train)\n",
    "y_pred = majority_model.predict(pipeline.X_test)\n",
    "majority_model.evaluate(pipeline.y_test, y_pred)"
   ]
  },
  {
   "cell_type": "code",
   "execution_count": null,
   "id": "66619173-1db4-447a-b410-4ab2945d7a30",
   "metadata": {},
   "outputs": [],
   "source": [
    "random_model = RandomBaselineModel()\n",
    "random_model.fit(pipeline.X_train, pipeline.y_train)\n",
    "y_pred = random_model.predict(pipeline.X_test)\n",
    "random_model.evaluate(pipeline.y_test, y_pred)"
   ]
  },
  {
   "cell_type": "code",
   "execution_count": null,
   "id": "6d2f565f-4159-44bb-9e94-cb5b37e21383",
   "metadata": {},
   "outputs": [],
   "source": []
  },
  {
   "cell_type": "code",
   "execution_count": null,
   "id": "2787376a-9872-4930-8b08-a84f463ff93f",
   "metadata": {},
   "outputs": [],
   "source": []
  },
  {
   "cell_type": "code",
   "execution_count": null,
   "id": "0bdf5c4c-358e-485b-a13e-d4f3f3325119",
   "metadata": {},
   "outputs": [],
   "source": []
  }
 ],
 "metadata": {
  "kernelspec": {
   "display_name": "Python 3 (ipykernel)",
   "language": "python",
   "name": "python3"
  },
  "language_info": {
   "codemirror_mode": {
    "name": "ipython",
    "version": 3
   },
   "file_extension": ".py",
   "mimetype": "text/x-python",
   "name": "python",
   "nbconvert_exporter": "python",
   "pygments_lexer": "ipython3",
   "version": "3.10.12"
  }
 },
 "nbformat": 4,
 "nbformat_minor": 5
}
