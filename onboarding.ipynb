{
 "cells": [
  {
   "cell_type": "code",
   "execution_count": 45,
   "id": "3aac368b-0904-4021-afa9-e5c9d9202bb0",
   "metadata": {},
   "outputs": [
    {
     "name": "stdout",
     "output_type": "stream",
     "text": [
      "The autoreload extension is already loaded. To reload it, use:\n",
      "  %reload_ext autoreload\n"
     ]
    }
   ],
   "source": [
    "%load_ext autoreload\n",
    "%autoreload 2\n",
    "    \n",
    "from classes.song import Song\n",
    "from classes.spotify_manager import SpotifyManager\n",
    "from classes.lyrics_manager import LyricsManager\n",
    "from dotenv import load_dotenv\n",
    "from classes.utils import gather_data_from_folders\n",
    "import pandas as pd\n",
    "import os\n",
    "import seaborn as sns\n",
    "from classes.text_features import TextFeatureExtractor, TfidfFeatureExtractor\n",
    "from classes.audio_features import AudioFeatureExtractor\n",
    "from classes.utils import find_songs_to_drop, clean_songs_to_drop\n",
    "from classes.feature_processor import FeatureProcessor\n",
    "from classes.constants import GENRE_MAPPING\n",
    "from classes.utils import reduce_genres_with_regex\n",
    "load_dotenv();"
   ]
  },
  {
   "cell_type": "markdown",
   "id": "f553cf19-b381-4ee4-9ed2-9ad32c44db43",
   "metadata": {},
   "source": [
    "# Loading the data"
   ]
  },
  {
   "cell_type": "code",
   "execution_count": 46,
   "id": "739719b1-3fc5-4cf2-9d7f-e6351fb5d513",
   "metadata": {},
   "outputs": [
    {
     "name": "stdout",
     "output_type": "stream",
     "text": [
      "\u001b[1;32mINFO: Loading CSV file: /home/krystian/Python/Jupyter-projects/thesis/songs_analysis/test/songs.csv\u001b[0m\n"
     ]
    }
   ],
   "source": [
    "playlists_dir = os.path.join(\"/\".join(os.path.abspath(os.path.realpath(__name__)).split(\"/\")[:-1]), \"test\")\n",
    "df = gather_data_from_folders(playlists_dir)"
   ]
  },
  {
   "cell_type": "code",
   "execution_count": 47,
   "id": "e1b1ddc7-97ac-49e0-bc59-61c4adf93ba6",
   "metadata": {},
   "outputs": [],
   "source": [
    "final_df_path = 'final_data.pkl'\n",
    "final_df = None\n",
    "if os.path.exists(final_df_path):\n",
    "    final_df = pd.read_pickle(final_df_path)\n",
    "    df = df[~df.id.isin(final_df.id)]"
   ]
  },
  {
   "cell_type": "code",
   "execution_count": 48,
   "id": "5017e452-8309-40f1-81c2-67106ab46776",
   "metadata": {},
   "outputs": [
    {
     "data": {
      "text/plain": [
       "(11, 24)"
      ]
     },
     "execution_count": 48,
     "metadata": {},
     "output_type": "execute_result"
    }
   ],
   "source": [
    "df.shape"
   ]
  },
  {
   "cell_type": "markdown",
   "id": "7bea9f92-5938-4cac-b806-df65db833994",
   "metadata": {},
   "source": [
    "#  Feature extraction"
   ]
  },
  {
   "cell_type": "code",
   "execution_count": 49,
   "id": "dbf4a8f1-038b-48c7-a70d-65e9fd86280a",
   "metadata": {},
   "outputs": [
    {
     "data": {
      "application/vnd.jupyter.widget-view+json": {
       "model_id": "ff7ac0aea7af4cc09a393e32d9ec87da",
       "version_major": 2,
       "version_minor": 0
      },
      "text/plain": [
       "Processing Features:   0%|          | 0/11 [00:00<?, ?it/s]"
      ]
     },
     "metadata": {},
     "output_type": "display_data"
    }
   ],
   "source": [
    "extractor = TextFeatureExtractor()\n",
    "df = extractor.add_features(df, batch_size=3, text_column='lyrics')"
   ]
  },
  {
   "cell_type": "code",
   "execution_count": 50,
   "id": "98368e55-d385-42b5-866c-8176e475334f",
   "metadata": {},
   "outputs": [
    {
     "data": {
      "text/plain": [
       "(11, 238)"
      ]
     },
     "execution_count": 50,
     "metadata": {},
     "output_type": "execute_result"
    }
   ],
   "source": [
    "df.shape"
   ]
  },
  {
   "cell_type": "code",
   "execution_count": 51,
   "id": "bd61414c-e72c-4070-8beb-770d5d1010f2",
   "metadata": {},
   "outputs": [
    {
     "data": {
      "application/vnd.jupyter.widget-view+json": {
       "model_id": "b26d9299053f4d7a978cd5a889ad63f7",
       "version_major": 2,
       "version_minor": 0
      },
      "text/plain": [
       "Extracting Audio Features:   0%|          | 0/11 [00:00<?, ?file/s]"
      ]
     },
     "metadata": {},
     "output_type": "display_data"
    }
   ],
   "source": [
    "extractor = AudioFeatureExtractor()\n",
    "df = extractor.add_features(df, batch_size=3)"
   ]
  },
  {
   "cell_type": "code",
   "execution_count": 52,
   "id": "17b99196-5412-43f1-8d79-a97f38f97b91",
   "metadata": {},
   "outputs": [
    {
     "data": {
      "text/plain": [
       "(11, 272)"
      ]
     },
     "execution_count": 52,
     "metadata": {},
     "output_type": "execute_result"
    }
   ],
   "source": [
    "df.shape"
   ]
  },
  {
   "cell_type": "code",
   "execution_count": 54,
   "id": "a83d8252-1952-4620-b2af-7ae512100f60",
   "metadata": {},
   "outputs": [],
   "source": [
    "tfidf_ext = TfidfFeatureExtractor(n_pca_components=100)\n",
    "df = tfidf_ext.add_features(df)"
   ]
  },
  {
   "cell_type": "code",
   "execution_count": 55,
   "id": "164e61db-9bd2-43bd-ba15-296ae2127a1a",
   "metadata": {},
   "outputs": [
    {
     "data": {
      "text/plain": [
       "(11, 277)"
      ]
     },
     "execution_count": 55,
     "metadata": {},
     "output_type": "execute_result"
    }
   ],
   "source": [
    "df.shape"
   ]
  },
  {
   "cell_type": "markdown",
   "id": "8ec4669d-aa8f-4335-8d6e-85150b284d4a",
   "metadata": {},
   "source": [
    "# Cleaning"
   ]
  },
  {
   "cell_type": "code",
   "execution_count": 61,
   "id": "6098f1d2-d0fb-40eb-b63f-b255baa0c7b5",
   "metadata": {},
   "outputs": [
    {
     "data": {
      "text/plain": [
       "genre\n",
       "pop        5\n",
       "country    3\n",
       "reggae     2\n",
       "rock       1\n",
       "Name: count, dtype: int64"
      ]
     },
     "execution_count": 61,
     "metadata": {},
     "output_type": "execute_result"
    }
   ],
   "source": [
    "# genre extraction\n",
    "df['genre'] = df['genres'].apply(lambda x: reduce_genres_with_regex(eval(x), GENRE_MAPPING))\n",
    "df['genre'].value_counts()"
   ]
  },
  {
   "cell_type": "code",
   "execution_count": 62,
   "id": "34d4844c-7a8b-4169-b85c-d59e0f75efc2",
   "metadata": {},
   "outputs": [],
   "source": [
    "# Fixing the dtypes\n",
    "cast_to_int_columns = ['duration_ms', 'album_release_year', 'key', 'mode', 'time_signature', 'explicit']\n",
    "df[cast_to_int_columns] = df[cast_to_int_columns].astype(int)\n",
    "\n",
    "cast_to_category_columns = ['key', 'mode', 'time_signature', 'explicit', 'language', 'genre']\n",
    "df[cast_to_category_columns] = df[cast_to_category_columns].astype(str).astype('category')"
   ]
  },
  {
   "cell_type": "markdown",
   "id": "b449752f-a41f-4b4c-8c3e-fdc906ff3a82",
   "metadata": {},
   "source": [
    "# Saving"
   ]
  },
  {
   "cell_type": "code",
   "execution_count": 63,
   "id": "71761def-2c82-476f-928d-fbf7220ac11a",
   "metadata": {},
   "outputs": [],
   "source": [
    "if df.shape[0] > 0:\n",
    "    if final_df is not None:\n",
    "        final_df = pd.concat([df, final_df], axis=0)\n",
    "    else:\n",
    "        final_df = df\n",
    "    final_df.to_pickle(final_df_path)"
   ]
  },
  {
   "cell_type": "markdown",
   "id": "c64b13dd-f06f-4e06-8bf2-32e804de0ca8",
   "metadata": {},
   "source": [
    "# Verification"
   ]
  },
  {
   "cell_type": "code",
   "execution_count": 64,
   "id": "d0e4ee7d-d351-4037-8e6d-cd56b7f2c741",
   "metadata": {},
   "outputs": [],
   "source": [
    "df = pd.read_pickle('final_data.pkl')"
   ]
  },
  {
   "cell_type": "code",
   "execution_count": 66,
   "id": "c848c8ae-cef4-4215-ab81-12354e78eb6f",
   "metadata": {},
   "outputs": [
    {
     "name": "stdout",
     "output_type": "stream",
     "text": [
      "<class 'pandas.core.frame.DataFrame'>\n",
      "RangeIndex: 11 entries, 0 to 10\n",
      "Data columns (total 278 columns):\n",
      " #    Column                        Dtype   \n",
      "---   ------                        -----   \n",
      " 0    id                            object  \n",
      " 1    title                         object  \n",
      " 2    artist                        object  \n",
      " 3    album_art_url                 object  \n",
      " 4    popularity                    int64   \n",
      " 5    explicit                      category\n",
      " 6    album_release_year            int64   \n",
      " 7    duration_ms                   int64   \n",
      " 8    genres                        object  \n",
      " 9    lyrics                        object  \n",
      " 10   mp3_path                      object  \n",
      " 11   csv_path                      object  \n",
      " 12   danceability                  float64 \n",
      " 13   energy                        float64 \n",
      " 14   key                           category\n",
      " 15   loudness                      float64 \n",
      " 16   mode                          category\n",
      " 17   speechiness                   float64 \n",
      " 18   acousticness                  float64 \n",
      " 19   instrumentalness              float64 \n",
      " 20   liveness                      float64 \n",
      " 21   valence                       float64 \n",
      " 22   tempo                         float64 \n",
      " 23   time_signature                category\n",
      " 24   word_count                    int64   \n",
      " 25   unique_word_count             int64   \n",
      " 26   lexical_richness              float64 \n",
      " 27   semantic_depth                float64 \n",
      " 28   syntactic_complexity          float64 \n",
      " 29   rhyme_density                 float64 \n",
      " 30   sentiment_variability         float64 \n",
      " 31   linguistic_uniqueness         float64 \n",
      " 32   flesch_reading_ease           float64 \n",
      " 33   gunning_fog                   float64 \n",
      " 34   dale_chall                    float64 \n",
      " 35   vader_compound                float64 \n",
      " 36   noun_ratio                    float64 \n",
      " 37   verb_ratio                    float64 \n",
      " 38   language                      category\n",
      " 39   sentiment_polarity            float64 \n",
      " 40   sentiment_subjectivity        float64 \n",
      " 41   type_token_ratio              float64 \n",
      " 42   repetition_count              int64   \n",
      " 43   preprocessed_lyrics           object  \n",
      " 44   empath_help                   float64 \n",
      " 45   empath_office                 float64 \n",
      " 46   empath_dance                  float64 \n",
      " 47   empath_money                  float64 \n",
      " 48   empath_wedding                float64 \n",
      " 49   empath_domestic_work          float64 \n",
      " 50   empath_sleep                  float64 \n",
      " 51   empath_medical_emergency      float64 \n",
      " 52   empath_cold                   float64 \n",
      " 53   empath_hate                   float64 \n",
      " 54   empath_cheerfulness           float64 \n",
      " 55   empath_aggression             float64 \n",
      " 56   empath_occupation             float64 \n",
      " 57   empath_envy                   float64 \n",
      " 58   empath_anticipation           float64 \n",
      " 59   empath_family                 float64 \n",
      " 60   empath_vacation               float64 \n",
      " 61   empath_crime                  float64 \n",
      " 62   empath_attractive             float64 \n",
      " 63   empath_masculine              float64 \n",
      " 64   empath_prison                 float64 \n",
      " 65   empath_health                 float64 \n",
      " 66   empath_pride                  float64 \n",
      " 67   empath_dispute                float64 \n",
      " 68   empath_nervousness            float64 \n",
      " 69   empath_government             float64 \n",
      " 70   empath_weakness               float64 \n",
      " 71   empath_horror                 float64 \n",
      " 72   empath_swearing_terms         float64 \n",
      " 73   empath_leisure                float64 \n",
      " 74   empath_suffering              float64 \n",
      " 75   empath_royalty                float64 \n",
      " 76   empath_wealthy                float64 \n",
      " 77   empath_tourism                float64 \n",
      " 78   empath_furniture              float64 \n",
      " 79   empath_school                 float64 \n",
      " 80   empath_magic                  float64 \n",
      " 81   empath_beach                  float64 \n",
      " 82   empath_journalism             float64 \n",
      " 83   empath_morning                float64 \n",
      " 84   empath_banking                float64 \n",
      " 85   empath_social_media           float64 \n",
      " 86   empath_exercise               float64 \n",
      " 87   empath_night                  float64 \n",
      " 88   empath_kill                   float64 \n",
      " 89   empath_blue_collar_job        float64 \n",
      " 90   empath_art                    float64 \n",
      " 91   empath_ridicule               float64 \n",
      " 92   empath_play                   float64 \n",
      " 93   empath_computer               float64 \n",
      " 94   empath_college                float64 \n",
      " 95   empath_optimism               float64 \n",
      " 96   empath_stealing               float64 \n",
      " 97   empath_real_estate            float64 \n",
      " 98   empath_home                   float64 \n",
      " 99   empath_divine                 float64 \n",
      " 100  empath_sexual                 float64 \n",
      " 101  empath_fear                   float64 \n",
      " 102  empath_irritability           float64 \n",
      " 103  empath_superhero              float64 \n",
      " 104  empath_business               float64 \n",
      " 105  empath_driving                float64 \n",
      " 106  empath_pet                    float64 \n",
      " 107  empath_childish               float64 \n",
      " 108  empath_cooking                float64 \n",
      " 109  empath_exasperation           float64 \n",
      " 110  empath_religion               float64 \n",
      " 111  empath_hipster                float64 \n",
      " 112  empath_internet               float64 \n",
      " 113  empath_surprise               float64 \n",
      " 114  empath_reading                float64 \n",
      " 115  empath_worship                float64 \n",
      " 116  empath_leader                 float64 \n",
      " 117  empath_independence           float64 \n",
      " 118  empath_movement               float64 \n",
      " 119  empath_body                   float64 \n",
      " 120  empath_noise                  float64 \n",
      " 121  empath_eating                 float64 \n",
      " 122  empath_medieval               float64 \n",
      " 123  empath_zest                   float64 \n",
      " 124  empath_confusion              float64 \n",
      " 125  empath_water                  float64 \n",
      " 126  empath_sports                 float64 \n",
      " 127  empath_death                  float64 \n",
      " 128  empath_healing                float64 \n",
      " 129  empath_legend                 float64 \n",
      " 130  empath_heroic                 float64 \n",
      " 131  empath_celebration            float64 \n",
      " 132  empath_restaurant             float64 \n",
      " 133  empath_violence               float64 \n",
      " 134  empath_programming            float64 \n",
      " 135  empath_dominant_heirarchical  float64 \n",
      " 136  empath_military               float64 \n",
      " 137  empath_neglect                float64 \n",
      " 138  empath_swimming               float64 \n",
      " 139  empath_exotic                 float64 \n",
      " 140  empath_love                   float64 \n",
      " 141  empath_hiking                 float64 \n",
      " 142  empath_communication          float64 \n",
      " 143  empath_hearing                float64 \n",
      " 144  empath_order                  float64 \n",
      " 145  empath_sympathy               float64 \n",
      " 146  empath_hygiene                float64 \n",
      " 147  empath_weather                float64 \n",
      " 148  empath_anonymity              float64 \n",
      " 149  empath_trust                  float64 \n",
      " 150  empath_ancient                float64 \n",
      " 151  empath_deception              float64 \n",
      " 152  empath_fabric                 float64 \n",
      " 153  empath_air_travel             float64 \n",
      " 154  empath_fight                  float64 \n",
      " 155  empath_dominant_personality   float64 \n",
      " 156  empath_music                  float64 \n",
      " 157  empath_vehicle                float64 \n",
      " 158  empath_politeness             float64 \n",
      " 159  empath_toy                    float64 \n",
      " 160  empath_farming                float64 \n",
      " 161  empath_meeting                float64 \n",
      " 162  empath_war                    float64 \n",
      " 163  empath_speaking               float64 \n",
      " 164  empath_listen                 float64 \n",
      " 165  empath_urban                  float64 \n",
      " 166  empath_shopping               float64 \n",
      " 167  empath_disgust                float64 \n",
      " 168  empath_fire                   float64 \n",
      " 169  empath_tool                   float64 \n",
      " 170  empath_phone                  float64 \n",
      " 171  empath_gain                   float64 \n",
      " 172  empath_sound                  float64 \n",
      " 173  empath_injury                 float64 \n",
      " 174  empath_sailing                float64 \n",
      " 175  empath_rage                   float64 \n",
      " 176  empath_science                float64 \n",
      " 177  empath_work                   float64 \n",
      " 178  empath_appearance             float64 \n",
      " 179  empath_valuable               float64 \n",
      " 180  empath_warmth                 float64 \n",
      " 181  empath_youth                  float64 \n",
      " 182  empath_sadness                float64 \n",
      " 183  empath_fun                    float64 \n",
      " 184  empath_emotional              float64 \n",
      " 185  empath_joy                    float64 \n",
      " 186  empath_affection              float64 \n",
      " 187  empath_traveling              float64 \n",
      " 188  empath_fashion                float64 \n",
      " 189  empath_ugliness               float64 \n",
      " 190  empath_lust                   float64 \n",
      " 191  empath_shame                  float64 \n",
      " 192  empath_torment                float64 \n",
      " 193  empath_economics              float64 \n",
      " 194  empath_anger                  float64 \n",
      " 195  empath_politics               float64 \n",
      " 196  empath_ship                   float64 \n",
      " 197  empath_clothing               float64 \n",
      " 198  empath_car                    float64 \n",
      " 199  empath_strength               float64 \n",
      " 200  empath_technology             float64 \n",
      " 201  empath_breaking               float64 \n",
      " 202  empath_shape_and_size         float64 \n",
      " 203  empath_power                  float64 \n",
      " 204  empath_white_collar_job       float64 \n",
      " 205  empath_animal                 float64 \n",
      " 206  empath_party                  float64 \n",
      " 207  empath_terrorism              float64 \n",
      " 208  empath_smell                  float64 \n",
      " 209  empath_disappointment         float64 \n",
      " 210  empath_poor                   float64 \n",
      " 211  empath_plant                  float64 \n",
      " 212  empath_pain                   float64 \n",
      " 213  empath_beauty                 float64 \n",
      " 214  empath_timidity               float64 \n",
      " 215  empath_philosophy             float64 \n",
      " 216  empath_negotiate              float64 \n",
      " 217  empath_negative_emotion       float64 \n",
      " 218  empath_cleaning               float64 \n",
      " 219  empath_messaging              float64 \n",
      " 220  empath_competing              float64 \n",
      " 221  empath_law                    float64 \n",
      " 222  empath_friends                float64 \n",
      " 223  empath_payment                float64 \n",
      " 224  empath_achievement            float64 \n",
      " 225  empath_alcohol                float64 \n",
      " 226  empath_liquid                 float64 \n",
      " 227  empath_feminine               float64 \n",
      " 228  empath_weapon                 float64 \n",
      " 229  empath_children               float64 \n",
      " 230  empath_monster                float64 \n",
      " 231  empath_ocean                  float64 \n",
      " 232  empath_giving                 float64 \n",
      " 233  empath_contentment            float64 \n",
      " 234  empath_writing                float64 \n",
      " 235  empath_rural                  float64 \n",
      " 236  empath_positive_emotion       float64 \n",
      " 237  empath_musical                float64 \n",
      " 238  mfcc_1                        float64 \n",
      " 239  mfcc_2                        float64 \n",
      " 240  mfcc_3                        float64 \n",
      " 241  mfcc_4                        float64 \n",
      " 242  mfcc_5                        float64 \n",
      " 243  mfcc_6                        float64 \n",
      " 244  mfcc_7                        float64 \n",
      " 245  mfcc_8                        float64 \n",
      " 246  mfcc_9                        float64 \n",
      " 247  mfcc_10                       float64 \n",
      " 248  mfcc_11                       float64 \n",
      " 249  mfcc_12                       float64 \n",
      " 250  mfcc_13                       float64 \n",
      " 251  chroma_1                      float64 \n",
      " 252  chroma_2                      float64 \n",
      " 253  chroma_3                      float64 \n",
      " 254  chroma_4                      float64 \n",
      " 255  chroma_5                      float64 \n",
      " 256  chroma_6                      float64 \n",
      " 257  chroma_7                      float64 \n",
      " 258  chroma_8                      float64 \n",
      " 259  chroma_9                      float64 \n",
      " 260  chroma_10                     float64 \n",
      " 261  chroma_11                     float64 \n",
      " 262  chroma_12                     float64 \n",
      " 263  spectral_contrast_1           float64 \n",
      " 264  spectral_contrast_2           float64 \n",
      " 265  spectral_contrast_3           float64 \n",
      " 266  spectral_contrast_4           float64 \n",
      " 267  spectral_contrast_5           float64 \n",
      " 268  spectral_contrast_6           float64 \n",
      " 269  spectral_contrast_7           float64 \n",
      " 270  tempo_extracted               float64 \n",
      " 271  zcr                           float64 \n",
      " 272  tfidf_0                       float64 \n",
      " 273  tfidf_1                       float64 \n",
      " 274  tfidf_2                       float64 \n",
      " 275  tfidf_3                       float64 \n",
      " 276  tfidf_4                       float64 \n",
      " 277  genre                         category\n",
      "dtypes: category(6), float64(257), int64(6), object(9)\n",
      "memory usage: 23.7+ KB\n"
     ]
    }
   ],
   "source": [
    "df.info(verbose=True)"
   ]
  },
  {
   "cell_type": "code",
   "execution_count": null,
   "id": "ce17fb4f-df80-42f6-904b-eea20e502504",
   "metadata": {},
   "outputs": [],
   "source": []
  }
 ],
 "metadata": {
  "kernelspec": {
   "display_name": "Python 3 (ipykernel)",
   "language": "python",
   "name": "python3"
  },
  "language_info": {
   "codemirror_mode": {
    "name": "ipython",
    "version": 3
   },
   "file_extension": ".py",
   "mimetype": "text/x-python",
   "name": "python",
   "nbconvert_exporter": "python",
   "pygments_lexer": "ipython3",
   "version": "3.10.12"
  }
 },
 "nbformat": 4,
 "nbformat_minor": 5
}
