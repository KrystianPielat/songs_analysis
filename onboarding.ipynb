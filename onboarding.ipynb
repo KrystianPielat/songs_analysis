{
 "cells": [
  {
   "cell_type": "code",
   "execution_count": 2,
   "id": "3aac368b-0904-4021-afa9-e5c9d9202bb0",
   "metadata": {},
   "outputs": [
    {
     "name": "stdout",
     "output_type": "stream",
     "text": [
      "The autoreload extension is already loaded. To reload it, use:\n",
      "  %reload_ext autoreload\n"
     ]
    }
   ],
   "source": [
    "%load_ext autoreload\n",
    "%autoreload 2\n",
    "    \n",
    "from classes.song import Song\n",
    "from classes.spotify_manager import SpotifyManager\n",
    "from classes.lyrics_manager import LyricsManager\n",
    "from dotenv import load_dotenv\n",
    "from classes.utils import gather_data_from_folders\n",
    "import pandas as pd\n",
    "import os\n",
    "import seaborn as sns\n",
    "from classes.text_features import TextFeatureExtractor, TfidfFeatureExtractor\n",
    "from classes.audio_features import AudioFeatureExtractor\n",
    "from classes.utils import find_songs_to_drop, clean_songs_to_drop\n",
    "from classes.feature_processor import FeatureProcessor\n",
    "from classes.constants import GENRE_MAPPING\n",
    "from classes.utils import reduce_genres_with_regex\n",
    "load_dotenv();"
   ]
  },
  {
   "cell_type": "markdown",
   "id": "f553cf19-b381-4ee4-9ed2-9ad32c44db43",
   "metadata": {},
   "source": [
    "# Loading the data"
   ]
  },
  {
   "cell_type": "code",
   "execution_count": 3,
   "id": "739719b1-3fc5-4cf2-9d7f-e6351fb5d513",
   "metadata": {},
   "outputs": [
    {
     "name": "stdout",
     "output_type": "stream",
     "text": [
      "\u001b[1;32mINFO: Loading CSV file: /home/krystian/Python/Jupyter-projects/thesis/songs_analysis/playlists/Best Of Global Hip-Hop 2024/Best Of Global Hip-Hop 2024.csv\u001b[0m\n",
      "\u001b[1;32mINFO: Loading CSV file: /home/krystian/Python/Jupyter-projects/thesis/songs_analysis/playlists/HOUSE MIX 2024 🔥 HOUSE PARTY 2024 🔥HOUSE MUSIC 2024 🔥/HOUSE MIX 2024 🔥 HOUSE PARTY 2024 🔥HOUSE MUSIC 2024 🔥.csv\u001b[0m\n",
      "\u001b[1;32mINFO: Loading CSV file: /home/krystian/Python/Jupyter-projects/thesis/songs_analysis/playlists/✨LATINO✨/✨LATINO✨.csv\u001b[0m\n",
      "\u001b[1;32mINFO: Loading CSV file: /home/krystian/Python/Jupyter-projects/thesis/songs_analysis/playlists/final download 1/final download 1.csv\u001b[0m\n",
      "\u001b[1;32mINFO: Loading CSV file: /home/krystian/Python/Jupyter-projects/thesis/songs_analysis/playlists/60s-70s Mix/60s-70s Mix.csv\u001b[0m\n",
      "\u001b[1;32mINFO: Loading CSV file: /home/krystian/Python/Jupyter-projects/thesis/songs_analysis/playlists/Soul Jazz Mix/Soul Jazz Mix.csv\u001b[0m\n",
      "\u001b[1;32mINFO: Loading CSV file: /home/krystian/Python/Jupyter-projects/thesis/songs_analysis/playlists/Alternative Mix/Alternative Mix.csv\u001b[0m\n",
      "\u001b[1;32mINFO: Loading CSV file: /home/krystian/Python/Jupyter-projects/thesis/songs_analysis/playlists/Reggae Mix/Reggae Mix.csv\u001b[0m\n",
      "\u001b[1;32mINFO: Loading CSV file: /home/krystian/Python/Jupyter-projects/thesis/songs_analysis/playlists/Best reggae mix ever - Summer 2024/Best reggae mix ever - Summer 2024.csv\u001b[0m\n",
      "\u001b[1;32mINFO: Loading CSV file: /home/krystian/Python/Jupyter-projects/thesis/songs_analysis/playlists/Best country songs (greatest hits)/Best country songs (greatest hits).csv\u001b[0m\n",
      "\u001b[1;32mINFO: Loading CSV file: /home/krystian/Python/Jupyter-projects/thesis/songs_analysis/playlists/Metal Mix/Metal Mix.csv\u001b[0m\n",
      "\u001b[1;32mINFO: Loading CSV file: /home/krystian/Python/Jupyter-projects/thesis/songs_analysis/playlists/Rap Mix/Rap Mix.csv\u001b[0m\n",
      "\u001b[1;32mINFO: Loading CSV file: /home/krystian/Python/Jupyter-projects/thesis/songs_analysis/playlists/How Long/How Long.csv\u001b[0m\n",
      "\u001b[1;32mINFO: Loading CSV file: /home/krystian/Python/Jupyter-projects/thesis/songs_analysis/playlists/Jazz Mix/Jazz Mix.csv\u001b[0m\n",
      "\u001b[1;32mINFO: Loading CSV file: /home/krystian/Python/Jupyter-projects/thesis/songs_analysis/playlists/uu/uu.csv\u001b[0m\n",
      "\u001b[1;32mINFO: Loading CSV file: /home/krystian/Python/Jupyter-projects/thesis/songs_analysis/playlists/Latin Mix/Latin Mix.csv\u001b[0m\n",
      "\u001b[1;32mINFO: Loading CSV file: /home/krystian/Python/Jupyter-projects/thesis/songs_analysis/playlists/Latin Hit Mix/Latin Hit Mix.csv\u001b[0m\n",
      "\u001b[1;32mINFO: Loading CSV file: /home/krystian/Python/Jupyter-projects/thesis/songs_analysis/playlists/Every song in the world 🌍 /Every song in the world 🌍 .csv\u001b[0m\n",
      "\u001b[1;32mINFO: Loading CSV file: /home/krystian/Python/Jupyter-projects/thesis/songs_analysis/playlists/Changes/Changes.csv\u001b[0m\n",
      "\u001b[1;32mINFO: Loading CSV file: /home/krystian/Python/Jupyter-projects/thesis/songs_analysis/playlists/All Out 60s/All Out 60s.csv\u001b[0m\n",
      "\u001b[1;32mINFO: Loading CSV file: /home/krystian/Python/Jupyter-projects/thesis/songs_analysis/playlists/Skinny Love/Skinny Love.csv\u001b[0m\n",
      "\u001b[1;32mINFO: Loading CSV file: /home/krystian/Python/Jupyter-projects/thesis/songs_analysis/playlists/final download 2/final download 2.csv\u001b[0m\n"
     ]
    }
   ],
   "source": [
    "playlists_dir = 'audio_sentiment_classifier/playlists'\n",
    "playlists_dir = os.path.join(\"/\".join(os.path.abspath(os.path.realpath(__name__)).split(\"/\")[:-1]), \"playlists\")\n",
    "df_from_folders = gather_data_from_folders(playlists_dir)"
   ]
  },
  {
   "cell_type": "code",
   "execution_count": 4,
   "id": "cc7b76ff-40c9-4046-870c-7c22b842cccd",
   "metadata": {},
   "outputs": [],
   "source": [
    "df_from_folders = df_from_folders[~df_from_folders.id.duplicated()]"
   ]
  },
  {
   "cell_type": "code",
   "execution_count": 5,
   "id": "fb744daa-05ac-4925-a908-c94a63ea2da9",
   "metadata": {},
   "outputs": [
    {
     "data": {
      "text/plain": [
       "(5386, 24)"
      ]
     },
     "execution_count": 5,
     "metadata": {},
     "output_type": "execute_result"
    }
   ],
   "source": [
    "df_from_folders.shape"
   ]
  },
  {
   "cell_type": "code",
   "execution_count": 134,
   "id": "ccbc5fda-3980-41a7-981b-778c0fc1626e",
   "metadata": {},
   "outputs": [],
   "source": [
    "df = pd.read_pickle(os.path.join(\"datasets\", \"final_data.pkl\"))"
   ]
  },
  {
   "cell_type": "code",
   "execution_count": 135,
   "id": "a233a0bc-18ae-4666-98d0-9f1966805ff4",
   "metadata": {},
   "outputs": [
    {
     "data": {
      "text/plain": [
       "(5387, 178)"
      ]
     },
     "execution_count": 135,
     "metadata": {},
     "output_type": "execute_result"
    }
   ],
   "source": [
    "df.shape"
   ]
  },
  {
   "cell_type": "code",
   "execution_count": 136,
   "id": "5f0f8566-3af2-4ae2-8c9a-5818808a6921",
   "metadata": {},
   "outputs": [],
   "source": [
    "df_to_process = df_from_folders[~df_from_folders['id'].isin(df['id'])]"
   ]
  },
  {
   "cell_type": "code",
   "execution_count": 137,
   "id": "4cf0aafa-499b-44b3-bfe2-d5b93c14d263",
   "metadata": {},
   "outputs": [
    {
     "data": {
      "text/plain": [
       "(0, 24)"
      ]
     },
     "execution_count": 137,
     "metadata": {},
     "output_type": "execute_result"
    }
   ],
   "source": [
    "df_to_process.shape"
   ]
  },
  {
   "cell_type": "code",
   "execution_count": 110,
   "id": "6d670c29-f85a-40eb-b69f-97251f8d18aa",
   "metadata": {},
   "outputs": [
    {
     "data": {
      "text/plain": [
       "id                    0.0\n",
       "title                 0.0\n",
       "artist                0.0\n",
       "album_art_url         0.0\n",
       "popularity            0.0\n",
       "explicit              0.0\n",
       "album_release_year    0.0\n",
       "duration_ms           0.0\n",
       "genres                0.0\n",
       "lyrics                0.0\n",
       "mp3_path              0.0\n",
       "csv_path              0.0\n",
       "danceability          0.0\n",
       "energy                0.0\n",
       "key                   0.0\n",
       "loudness              0.0\n",
       "mode                  0.0\n",
       "speechiness           0.0\n",
       "acousticness          0.0\n",
       "instrumentalness      0.0\n",
       "liveness              0.0\n",
       "valence               0.0\n",
       "tempo                 0.0\n",
       "time_signature        0.0\n",
       "dtype: float64"
      ]
     },
     "execution_count": 110,
     "metadata": {},
     "output_type": "execute_result"
    }
   ],
   "source": [
    "df_to_process.isna().sum()"
   ]
  },
  {
   "cell_type": "markdown",
   "id": "5272ac43-9b6b-468c-baee-a7210bcc7604",
   "metadata": {
    "jp-MarkdownHeadingCollapsed": true
   },
   "source": [
    "# Getting rid of unusable songs"
   ]
  },
  {
   "cell_type": "code",
   "execution_count": 111,
   "id": "7e13c4d5-fd25-4efb-998b-a6650b39e58f",
   "metadata": {},
   "outputs": [],
   "source": [
    "df_songs_to_drop = find_songs_to_drop(df_to_process, allow_nan_cols=['popularity'])"
   ]
  },
  {
   "cell_type": "code",
   "execution_count": 112,
   "id": "a843deb6-3cd6-4cbb-a4d8-05dd72d73a1f",
   "metadata": {},
   "outputs": [
    {
     "name": "stdout",
     "output_type": "stream",
     "text": [
      "Songs that will be dropped:  0\n"
     ]
    }
   ],
   "source": [
    "print(\"Songs that will be dropped: \", len(df_songs_to_drop))"
   ]
  },
  {
   "cell_type": "code",
   "execution_count": 113,
   "id": "01be0995-0098-4e6c-a232-1a8e43531b74",
   "metadata": {},
   "outputs": [
    {
     "data": {
      "text/html": [
       "<div>\n",
       "<style scoped>\n",
       "    .dataframe tbody tr th:only-of-type {\n",
       "        vertical-align: middle;\n",
       "    }\n",
       "\n",
       "    .dataframe tbody tr th {\n",
       "        vertical-align: top;\n",
       "    }\n",
       "\n",
       "    .dataframe thead th {\n",
       "        text-align: right;\n",
       "    }\n",
       "</style>\n",
       "<table border=\"1\" class=\"dataframe\">\n",
       "  <thead>\n",
       "    <tr style=\"text-align: right;\">\n",
       "      <th></th>\n",
       "      <th>id</th>\n",
       "      <th>title</th>\n",
       "      <th>artist</th>\n",
       "      <th>album_art_url</th>\n",
       "      <th>popularity</th>\n",
       "      <th>explicit</th>\n",
       "      <th>album_release_year</th>\n",
       "      <th>duration_ms</th>\n",
       "      <th>genres</th>\n",
       "      <th>lyrics</th>\n",
       "      <th>...</th>\n",
       "      <th>loudness</th>\n",
       "      <th>mode</th>\n",
       "      <th>speechiness</th>\n",
       "      <th>acousticness</th>\n",
       "      <th>instrumentalness</th>\n",
       "      <th>liveness</th>\n",
       "      <th>valence</th>\n",
       "      <th>tempo</th>\n",
       "      <th>time_signature</th>\n",
       "      <th>genre</th>\n",
       "    </tr>\n",
       "  </thead>\n",
       "  <tbody>\n",
       "  </tbody>\n",
       "</table>\n",
       "<p>0 rows × 25 columns</p>\n",
       "</div>"
      ],
      "text/plain": [
       "Empty DataFrame\n",
       "Columns: [id, title, artist, album_art_url, popularity, explicit, album_release_year, duration_ms, genres, lyrics, mp3_path, csv_path, danceability, energy, key, loudness, mode, speechiness, acousticness, instrumentalness, liveness, valence, tempo, time_signature, genre]\n",
       "Index: []\n",
       "\n",
       "[0 rows x 25 columns]"
      ]
     },
     "execution_count": 113,
     "metadata": {},
     "output_type": "execute_result"
    }
   ],
   "source": [
    "df_songs_to_drop.head()"
   ]
  },
  {
   "cell_type": "code",
   "execution_count": 114,
   "id": "5e86bc32-f971-49a7-9f1f-85a3a420ea31",
   "metadata": {},
   "outputs": [],
   "source": [
    "clean_songs_to_drop(df_songs_to_drop)"
   ]
  },
  {
   "cell_type": "code",
   "execution_count": 115,
   "id": "3702d415-f834-4771-8625-0a1ac26e2d7a",
   "metadata": {},
   "outputs": [],
   "source": [
    "df_to_process = df_to_process[~df_to_process.id.isin(df_songs_to_drop.id)]"
   ]
  },
  {
   "cell_type": "code",
   "execution_count": 116,
   "id": "3fc3e752-82c6-4b53-b397-88a8b68fa5ac",
   "metadata": {},
   "outputs": [
    {
     "data": {
      "text/plain": [
       "0"
      ]
     },
     "execution_count": 116,
     "metadata": {},
     "output_type": "execute_result"
    }
   ],
   "source": [
    "df_to_process.shape[0]"
   ]
  },
  {
   "cell_type": "code",
   "execution_count": 117,
   "id": "3ff385b3-07c0-494f-a18e-d4aef14e949d",
   "metadata": {},
   "outputs": [],
   "source": [
    "df_to_process.to_pickle(os.path.join(\"datasets\", \"onboarding_step1.pkl\"))"
   ]
  },
  {
   "cell_type": "markdown",
   "id": "1825808f-0f95-4e18-a006-7bcfe18da392",
   "metadata": {},
   "source": [
    "---"
   ]
  },
  {
   "cell_type": "markdown",
   "id": "6571e8e0-a62b-4fc1-8ace-4cf09cda7714",
   "metadata": {
    "jp-MarkdownHeadingCollapsed": true
   },
   "source": [
    "# Adding audio features"
   ]
  },
  {
   "cell_type": "code",
   "execution_count": 118,
   "id": "29005d6a-68b3-4941-99bc-9c6334690ab6",
   "metadata": {},
   "outputs": [],
   "source": [
    "aud_processor = FeatureProcessor(\n",
    "    extractor=AudioFeatureExtractor(),\n",
    "    input_file=os.path.join(\"datasets\", \"onboarding_step1.pkl\"),\n",
    "    output_file=os.path.join('datasets', \"onboarding_step2.pkl\"),\n",
    "    batch_size=10\n",
    ")\n",
    "aud_processor.process_batches()"
   ]
  },
  {
   "cell_type": "markdown",
   "id": "24b5100c-937d-4110-be02-703058e17164",
   "metadata": {},
   "source": [
    "# Adding textual features"
   ]
  },
  {
   "cell_type": "code",
   "execution_count": null,
   "id": "64bb8c9c-28fb-42cd-8efb-d4ff3fef548e",
   "metadata": {},
   "outputs": [],
   "source": [
    "df_onboarding = pd.read_pickle(os.path.join(\"datasets\", \"onboarding_step2.pkl\"))\n",
    "df_onboarding.head()"
   ]
  },
  {
   "cell_type": "code",
   "execution_count": 21,
   "id": "8e421e1f-8a72-4eef-81fc-6e8f80e0065e",
   "metadata": {},
   "outputs": [
    {
     "data": {
      "text/plain": [
       "(2, 59)"
      ]
     },
     "execution_count": 21,
     "metadata": {},
     "output_type": "execute_result"
    }
   ],
   "source": [
    "df_onboarding.shape"
   ]
  },
  {
   "cell_type": "code",
   "execution_count": 140,
   "id": "c6026994-a049-482f-902c-04ac2265b01f",
   "metadata": {},
   "outputs": [],
   "source": [
    "def remove_letra_de_title(df):\n",
    "    def remove_prefix(row):\n",
    "        if isinstance(row['lyrics'], str) and row['lyrics'].startswith(\"letra de\"):\n",
    "            lyrics = row['lyrics'][len(\"letra de\"):].strip()\n",
    "            title_words = set(row['title'].split()) if isinstance(row['title'], str) else set()\n",
    "            lyrics_words = lyrics.split()\n",
    "            # Remove title words from the first 6 words of the lyrics\n",
    "            filtered_words = [word for i, word in enumerate(lyrics_words) if i >= 6 or word not in title_words]\n",
    "            return \" \".join(filtered_words)\n",
    "        return row['lyrics']\n",
    "\n",
    "    df['lyrics'] = df.apply(remove_prefix, axis=1)\n",
    "    return df\n",
    "\n",
    "df_onboarding = remove_letra_de_title(df_onboarding)"
   ]
  },
  {
   "cell_type": "code",
   "execution_count": 22,
   "id": "3ebea00b-8133-4356-b7c7-3240cbfc32a0",
   "metadata": {},
   "outputs": [],
   "source": [
    "df_onboarding['lyrics'] = df_onboarding.lyrics.apply(lambda x: TextFeatureExtractor.preprocess_text(x))"
   ]
  },
  {
   "cell_type": "code",
   "execution_count": 24,
   "id": "262fba97-c0c3-4742-a8bf-4b7e63575f37",
   "metadata": {},
   "outputs": [],
   "source": [
    "df_onboarding.to_pickle(os.path.join(\"datasets\", \"onboarding_step3.pkl\"))"
   ]
  },
  {
   "cell_type": "code",
   "execution_count": 74,
   "id": "e941f811-059f-4cae-ae31-652eee24857d",
   "metadata": {},
   "outputs": [
    {
     "data": {
      "application/vnd.jupyter.widget-view+json": {
       "model_id": "4fa6e7ec07294731a4d7d404e7b1e379",
       "version_major": 2,
       "version_minor": 0
      },
      "text/plain": [
       "Processing Batches:   0%|          | 0/1 [00:00<?, ?batch/s]"
      ]
     },
     "metadata": {},
     "output_type": "display_data"
    }
   ],
   "source": [
    "tf_processor = FeatureProcessor(\n",
    "    extractor=TextFeatureExtractor(),\n",
    "    input_file=os.path.join(\"datasets\", \"onboarding_step3.pkl\"),\n",
    "    output_file=os.path.join('datasets', \"onboarding_step4.pkl\"),\n",
    "    batch_size=100\n",
    ")\n",
    "tf_processor.process_batches()"
   ]
  },
  {
   "cell_type": "markdown",
   "id": "98721636-bad3-49af-a309-cb005e1fcb42",
   "metadata": {
    "jp-MarkdownHeadingCollapsed": true
   },
   "source": [
    "# Concatenating"
   ]
  },
  {
   "cell_type": "code",
   "execution_count": 86,
   "id": "fde50148-106b-476f-a45d-24f33d573b63",
   "metadata": {},
   "outputs": [
    {
     "data": {
      "text/plain": [
       "(2, 78)"
      ]
     },
     "execution_count": 86,
     "metadata": {},
     "output_type": "execute_result"
    }
   ],
   "source": [
    "df_onboarding = pd.read_pickle(os.path.join(\"datasets\", \"onboarding_step4.pkl\"))\n",
    "df_onboarding.shape"
   ]
  },
  {
   "cell_type": "code",
   "execution_count": 87,
   "id": "edb1b82a-8f92-46d6-a3e8-7e648168dbd9",
   "metadata": {},
   "outputs": [
    {
     "data": {
      "text/plain": [
       "(5888, 78)"
      ]
     },
     "execution_count": 87,
     "metadata": {},
     "output_type": "execute_result"
    }
   ],
   "source": [
    "df = pd.read_pickle(os.path.join(\"datasets\", \"final_data.pkl\"))\n",
    "df.drop([c for c in df.columns if c.startswith('tfidf_')], axis=1, inplace=True)\n",
    "df.shape"
   ]
  },
  {
   "cell_type": "code",
   "execution_count": 88,
   "id": "6098f1d2-d0fb-40eb-b63f-b255baa0c7b5",
   "metadata": {},
   "outputs": [
    {
     "data": {
      "text/plain": [
       "rock    2\n",
       "Name: genre, dtype: int64"
      ]
     },
     "execution_count": 88,
     "metadata": {},
     "output_type": "execute_result"
    }
   ],
   "source": [
    "df_onboarding['genre'] = df_onboarding['genres'].apply(lambda x: reduce_genres_with_regex(eval(x), GENRE_MAPPING))\n",
    "df_onboarding['genre'].value_counts()"
   ]
  },
  {
   "cell_type": "code",
   "execution_count": 89,
   "id": "5cb2f7ac-2e66-43ca-85f3-df984445a14d",
   "metadata": {},
   "outputs": [],
   "source": [
    "incorrect_genre_songs = df[(df.genre.isna()) | (df.genre == 'None')]"
   ]
  },
  {
   "cell_type": "code",
   "execution_count": 90,
   "id": "b6e62cf9-45a6-485f-8659-6c6cb87937b9",
   "metadata": {},
   "outputs": [
    {
     "name": "stdout",
     "output_type": "stream",
     "text": [
      "0 songs have incorrect genre and will be dropped\n"
     ]
    }
   ],
   "source": [
    "print(\"{} songs have incorrect genre and will be dropped\".format(incorrect_genre_songs.shape[0]))\n",
    "df = df[~df.id.isin(incorrect_genre_songs.id)]"
   ]
  },
  {
   "cell_type": "code",
   "execution_count": 91,
   "id": "34cdbac4-e9c9-423b-834b-90edc05a27a4",
   "metadata": {},
   "outputs": [],
   "source": [
    "df = pd.concat([df, df_onboarding], axis=0)"
   ]
  },
  {
   "cell_type": "code",
   "execution_count": 94,
   "id": "41d34d3a-4a35-4422-ae8b-18a020b412a6",
   "metadata": {},
   "outputs": [],
   "source": [
    "df.to_pickle(os.path.join(\"datasets\", 'onboarding_step5.pkl'))"
   ]
  },
  {
   "cell_type": "markdown",
   "id": "45aedfe4-f101-4055-9a1a-55731fa62078",
   "metadata": {
    "jp-MarkdownHeadingCollapsed": true
   },
   "source": [
    "# TF-IDF"
   ]
  },
  {
   "cell_type": "code",
   "execution_count": 98,
   "id": "a83d8252-1952-4620-b2af-7ae512100f60",
   "metadata": {},
   "outputs": [],
   "source": [
    "tf_processor = FeatureProcessor(\n",
    "    extractor=TfidfFeatureExtractor(n_pca_components=100),\n",
    "    input_file=os.path.join(\"datasets\", \"onboarding_step5.pkl\"),\n",
    "    output_file=os.path.join('datasets', \"onboarding_step6.pkl\"),\n",
    "    batch_size=None\n",
    ")\n",
    "tf_processor.process_batches()"
   ]
  },
  {
   "cell_type": "markdown",
   "id": "2959b0da-a4a6-4c8d-9c05-1da2e425e2ba",
   "metadata": {
    "jp-MarkdownHeadingCollapsed": true
   },
   "source": [
    "# Cleaning"
   ]
  },
  {
   "cell_type": "code",
   "execution_count": 99,
   "id": "2fd69ada-caa2-4344-815f-c63cdfcd8eb2",
   "metadata": {},
   "outputs": [
    {
     "data": {
      "text/plain": [
       "(5890, 178)"
      ]
     },
     "execution_count": 99,
     "metadata": {},
     "output_type": "execute_result"
    }
   ],
   "source": [
    "df = pd.read_pickle(os.path.join(\"datasets\", \"onboarding_step6.pkl\"))\n",
    "df.shape"
   ]
  },
  {
   "cell_type": "code",
   "execution_count": 100,
   "id": "34d4844c-7a8b-4169-b85c-d59e0f75efc2",
   "metadata": {},
   "outputs": [],
   "source": [
    "# Fixing the dtypes\n",
    "cast_to_int_columns = ['duration_ms', 'album_release_year', 'key', 'mode', 'time_signature', 'explicit']\n",
    "df[cast_to_int_columns] = df[cast_to_int_columns].astype(int)\n",
    "\n",
    "cast_to_category_columns = ['key', 'mode', 'time_signature', 'explicit', 'language', 'genre']\n",
    "df[cast_to_category_columns] = df[cast_to_category_columns].astype(str).astype('category')"
   ]
  },
  {
   "cell_type": "code",
   "execution_count": 129,
   "id": "fbddb155-9fd5-465e-a283-f0ac0d4063f8",
   "metadata": {},
   "outputs": [],
   "source": [
    "df.to_pickle(os.path.join(\"datasets\", 'final_data.pkl'))"
   ]
  },
  {
   "cell_type": "code",
   "execution_count": 102,
   "id": "e12044f1-12f2-4de6-a9ea-5c777db53b47",
   "metadata": {},
   "outputs": [],
   "source": [
    "for pkl in [ file for file in os.listdir('datasets') if file.startswith('onboarding') and file.endswith('pkl')]:\n",
    "    os.remove(os.path.join('datasets', pkl))"
   ]
  },
  {
   "cell_type": "code",
   "execution_count": null,
   "id": "89a705dd-5f96-4d36-b3fe-620e7e7a2b3e",
   "metadata": {},
   "outputs": [],
   "source": []
  }
 ],
 "metadata": {
  "kernelspec": {
   "display_name": "Python 3 (ipykernel)",
   "language": "python",
   "name": "python3"
  },
  "language_info": {
   "codemirror_mode": {
    "name": "ipython",
    "version": 3
   },
   "file_extension": ".py",
   "mimetype": "text/x-python",
   "name": "python",
   "nbconvert_exporter": "python",
   "pygments_lexer": "ipython3",
   "version": "3.10.12"
  }
 },
 "nbformat": 4,
 "nbformat_minor": 5
}
