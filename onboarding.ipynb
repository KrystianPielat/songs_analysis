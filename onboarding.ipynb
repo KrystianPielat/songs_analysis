{
 "cells": [
  {
   "cell_type": "code",
   "execution_count": 60,
   "id": "3aac368b-0904-4021-afa9-e5c9d9202bb0",
   "metadata": {},
   "outputs": [
    {
     "name": "stdout",
     "output_type": "stream",
     "text": [
      "The autoreload extension is already loaded. To reload it, use:\n",
      "  %reload_ext autoreload\n"
     ]
    }
   ],
   "source": [
    "%load_ext autoreload\n",
    "%autoreload 2\n",
    "    \n",
    "from classes.song import Song\n",
    "from classes.spotify_manager import SpotifyManager\n",
    "from classes.lyrics_manager import LyricsManager\n",
    "from dotenv import load_dotenv\n",
    "import pandas as pd\n",
    "import os\n",
    "import seaborn as sns\n",
    "from classes.text_features import TextFeatureExtractor\n",
    "from classes.word_embeddings import Word2VecFeatureExtractor, TfidfFeatureExtractor\n",
    "from classes.audio_features import AudioFeatureExtractor\n",
    "from classes.utils import find_songs_to_drop, clean_songs_to_drop\n",
    "from classes.feature_processor import FeatureProcessor\n",
    "from classes.constants import GENRE_MAPPING\n",
    "from classes.utils import reduce_genres_with_regex, gather_data_from_folders, winsorize_series\n",
    "load_dotenv();"
   ]
  },
  {
   "cell_type": "markdown",
   "id": "f553cf19-b381-4ee4-9ed2-9ad32c44db43",
   "metadata": {},
   "source": [
    "# Loading the data"
   ]
  },
  {
   "cell_type": "code",
   "execution_count": 2,
   "id": "739719b1-3fc5-4cf2-9d7f-e6351fb5d513",
   "metadata": {},
   "outputs": [
    {
     "name": "stdout",
     "output_type": "stream",
     "text": [
      "\u001b[1;32mINFO: Loading CSV file: /home/krystian/Python/Jupyter-projects/thesis/songs_analysis/playlists_new/songs.csv\u001b[0m\n"
     ]
    }
   ],
   "source": [
    "playlists_dir = os.path.join(\"/\".join(os.path.abspath(os.path.realpath(__name__)).split(\"/\")[:-1]), \"playlists_new\")\n",
    "df = gather_data_from_folders(playlists_dir)"
   ]
  },
  {
   "cell_type": "code",
   "execution_count": 3,
   "id": "7877c47b-8497-4893-a31e-f0fb27f87ca0",
   "metadata": {},
   "outputs": [
    {
     "data": {
      "text/plain": [
       "(4451, 24)"
      ]
     },
     "execution_count": 3,
     "metadata": {},
     "output_type": "execute_result"
    }
   ],
   "source": [
    "df.shape"
   ]
  },
  {
   "cell_type": "code",
   "execution_count": 4,
   "id": "e1b1ddc7-97ac-49e0-bc59-61c4adf93ba6",
   "metadata": {},
   "outputs": [],
   "source": [
    "final_df_path = os.path.join('datasets', 'new_data.pkl')\n",
    "final_df = None\n",
    "if os.path.exists(final_df_path):\n",
    "    final_df = pd.read_pickle(final_df_path)\n",
    "    df = df[~df.id.isin(final_df.id)]"
   ]
  },
  {
   "cell_type": "code",
   "execution_count": 5,
   "id": "5017e452-8309-40f1-81c2-67106ab46776",
   "metadata": {},
   "outputs": [
    {
     "data": {
      "text/plain": [
       "(4451, 24)"
      ]
     },
     "execution_count": 5,
     "metadata": {},
     "output_type": "execute_result"
    }
   ],
   "source": [
    "df.shape"
   ]
  },
  {
   "cell_type": "markdown",
   "id": "7bea9f92-5938-4cac-b806-df65db833994",
   "metadata": {},
   "source": [
    "#  Feature extraction"
   ]
  },
  {
   "cell_type": "code",
   "execution_count": 6,
   "id": "dbf4a8f1-038b-48c7-a70d-65e9fd86280a",
   "metadata": {},
   "outputs": [
    {
     "data": {
      "application/vnd.jupyter.widget-view+json": {
       "model_id": "130468f5cee34f22a7e1145c328d4415",
       "version_major": 2,
       "version_minor": 0
      },
      "text/plain": [
       "Processing Features:   0%|          | 0/4451 [00:00<?, ?it/s]"
      ]
     },
     "metadata": {},
     "output_type": "display_data"
    },
    {
     "name": "stderr",
     "output_type": "stream",
     "text": [
      "ERROR:root:Error processing row: The language 'catalan' is not supported.\n",
      "ERROR:root:Error processing row: The language 'indonesian' is not supported.\n",
      "ERROR:root:Error processing row: The language 'indonesian' is not supported.\n",
      "ERROR:root:Error processing row: The language 'greek' is not supported.\n",
      "ERROR:root:Error processing row: The language 'indonesian' is not supported.\n",
      "ERROR:root:Error processing row: The language 'turkish' is not supported.\n"
     ]
    }
   ],
   "source": [
    "extractor = TextFeatureExtractor()\n",
    "df = extractor.add_features(df, batch_size=100, text_column='lyrics')"
   ]
  },
  {
   "cell_type": "code",
   "execution_count": 7,
   "id": "98368e55-d385-42b5-866c-8176e475334f",
   "metadata": {},
   "outputs": [
    {
     "data": {
      "text/plain": [
       "(4451, 238)"
      ]
     },
     "execution_count": 7,
     "metadata": {},
     "output_type": "execute_result"
    }
   ],
   "source": [
    "df.shape"
   ]
  },
  {
   "cell_type": "code",
   "execution_count": 8,
   "id": "5df50b10-19ed-4acb-a35d-56e26548870d",
   "metadata": {},
   "outputs": [
    {
     "data": {
      "text/plain": [
       "language\n",
       "english       3641\n",
       "spanish        314\n",
       "polish         301\n",
       "portuguese      45\n",
       "german          38\n",
       "romanian        37\n",
       "italian         16\n",
       "russian         16\n",
       "french          12\n",
       "swedish          5\n",
       "ukrainian        4\n",
       "afrikaans        3\n",
       "tagalog          3\n",
       "japanese         2\n",
       "dutch            2\n",
       "hungarian        1\n",
       "somali           1\n",
       "czech            1\n",
       "swahili          1\n",
       "finnish          1\n",
       "norwegian        1\n",
       "Name: count, dtype: int64"
      ]
     },
     "execution_count": 8,
     "metadata": {},
     "output_type": "execute_result"
    }
   ],
   "source": [
    "vc = df.language.value_counts()\n",
    "vc"
   ]
  },
  {
   "cell_type": "code",
   "execution_count": 9,
   "id": "308bbf45-c84f-4c05-9796-6ecd1fc6770e",
   "metadata": {},
   "outputs": [
    {
     "data": {
      "text/plain": [
       "Index(['portuguese', 'german', 'romanian', 'italian', 'russian', 'french',\n",
       "       'swedish', 'ukrainian', 'afrikaans', 'tagalog', 'japanese', 'dutch',\n",
       "       'hungarian', 'somali', 'czech', 'swahili', 'finnish', 'norwegian'],\n",
       "      dtype='object', name='language')"
      ]
     },
     "execution_count": 9,
     "metadata": {},
     "output_type": "execute_result"
    }
   ],
   "source": [
    "languages_to_drop = vc[vc < 50].keys()\n",
    "languages_to_drop"
   ]
  },
  {
   "cell_type": "code",
   "execution_count": 10,
   "id": "a7c33bb5-0ede-429a-ab6d-5f67eb572be0",
   "metadata": {},
   "outputs": [],
   "source": [
    "# Base rules\n",
    "df = df[(~df.language.isin(languages_to_drop)) & (~df.language.isna())]"
   ]
  },
  {
   "cell_type": "code",
   "execution_count": 11,
   "id": "b825f51e-d8ad-4fdb-a9ac-07710870a8da",
   "metadata": {},
   "outputs": [
    {
     "data": {
      "text/plain": [
       "(4256, 238)"
      ]
     },
     "execution_count": 11,
     "metadata": {},
     "output_type": "execute_result"
    }
   ],
   "source": [
    "df.shape"
   ]
  },
  {
   "cell_type": "code",
   "execution_count": 12,
   "id": "bd61414c-e72c-4070-8beb-770d5d1010f2",
   "metadata": {},
   "outputs": [
    {
     "data": {
      "application/vnd.jupyter.widget-view+json": {
       "model_id": "0ccd46a2d1f842cb8943f9945b80dfa3",
       "version_major": 2,
       "version_minor": 0
      },
      "text/plain": [
       "Extracting Audio Features:   0%|          | 0/4256 [00:00<?, ?file/s]"
      ]
     },
     "metadata": {},
     "output_type": "display_data"
    }
   ],
   "source": [
    "extractor = AudioFeatureExtractor()\n",
    "df = extractor.add_features(df, batch_size=5)"
   ]
  },
  {
   "cell_type": "code",
   "execution_count": 13,
   "id": "17b99196-5412-43f1-8d79-a97f38f97b91",
   "metadata": {},
   "outputs": [
    {
     "data": {
      "text/plain": [
       "(4256, 272)"
      ]
     },
     "execution_count": 13,
     "metadata": {},
     "output_type": "execute_result"
    }
   ],
   "source": [
    "df.shape"
   ]
  },
  {
   "cell_type": "code",
   "execution_count": 14,
   "id": "5b767563-213f-4aec-a04a-eb7d622e4983",
   "metadata": {},
   "outputs": [],
   "source": [
    "df.to_pickle(os.path.join('datasets', 'after_audio.pkl'))"
   ]
  },
  {
   "cell_type": "code",
   "execution_count": 15,
   "id": "a83d8252-1952-4620-b2af-7ae512100f60",
   "metadata": {},
   "outputs": [],
   "source": [
    "tfidf_ext = TfidfFeatureExtractor(n_pca_components=100)\n",
    "df = tfidf_ext.add_features(df)"
   ]
  },
  {
   "cell_type": "code",
   "execution_count": 17,
   "id": "f321b887-2c99-4bfc-851e-5d402e2486a6",
   "metadata": {},
   "outputs": [
    {
     "data": {
      "application/vnd.jupyter.widget-view+json": {
       "model_id": "dc3f94727ea04ae7b4d4b10ad370859c",
       "version_major": 2,
       "version_minor": 0
      },
      "text/plain": [
       "Extracting Word2Vec Features:   0%|          | 0/4256 [00:00<?, ?it/s]"
      ]
     },
     "metadata": {},
     "output_type": "display_data"
    }
   ],
   "source": [
    "extractor = Word2VecFeatureExtractor(n_pca_components=100)\n",
    "\n",
    "df = extractor.add_features(df, text_column='lyrics', vector_size=100)"
   ]
  },
  {
   "cell_type": "markdown",
   "id": "8ec4669d-aa8f-4335-8d6e-85150b284d4a",
   "metadata": {},
   "source": [
    "# Cleaning"
   ]
  },
  {
   "cell_type": "code",
   "execution_count": 23,
   "id": "6098f1d2-d0fb-40eb-b63f-b255baa0c7b5",
   "metadata": {},
   "outputs": [
    {
     "data": {
      "text/plain": [
       "genre\n",
       "rock         483\n",
       "metal        477\n",
       "country      464\n",
       "r&b          462\n",
       "pop          433\n",
       "reggae       427\n",
       "rap          410\n",
       "indie        366\n",
       "reggaeton    265\n",
       "hip          255\n",
       "edm          214\n",
       "Name: count, dtype: int64"
      ]
     },
     "execution_count": 23,
     "metadata": {},
     "output_type": "execute_result"
    }
   ],
   "source": [
    "# genre extraction\n",
    "# df['genre'] = df['genres'].apply(lambda x: reduce_genres_with_regex(eval(x), GENRE_MAPPING))\n",
    "df['genre'] = df['genres'].apply(lambda x: eval(x)[0].replace(\"genre:\", \"\"))\n",
    "df['genre'].value_counts()"
   ]
  },
  {
   "cell_type": "code",
   "execution_count": 25,
   "id": "34d4844c-7a8b-4169-b85c-d59e0f75efc2",
   "metadata": {},
   "outputs": [],
   "source": [
    "# Fixing the dtypes\n",
    "cast_to_int_columns = ['duration_ms', 'album_release_year', 'key', 'mode', 'time_signature', 'explicit']\n",
    "df[cast_to_int_columns] = df[cast_to_int_columns].astype(int)\n",
    "\n",
    "cast_to_category_columns = ['key', 'mode', 'time_signature', 'explicit', 'language', 'genre']\n",
    "df[cast_to_category_columns] = df[cast_to_category_columns].astype(str).astype('category')"
   ]
  },
  {
   "cell_type": "code",
   "execution_count": 55,
   "id": "082a480e-32e1-45ab-8c5e-5bdaa335a6d2",
   "metadata": {},
   "outputs": [],
   "source": [
    "df =  df[(df.language == 'english') & (df.genre != 'reggaeton') & (~df.popularity.isna())]\n",
    "df.genre = df.genre.astype(str).astype('category')\n",
    "df.language = df.language.astype(str).astype('category')"
   ]
  },
  {
   "cell_type": "code",
   "execution_count": 56,
   "id": "49e7a204-82af-412c-aee1-20a02ce1b908",
   "metadata": {},
   "outputs": [
    {
     "name": "stderr",
     "output_type": "stream",
     "text": [
      "/tmp/ipykernel_1400365/3640411350.py:1: FutureWarning: The behavior of Series.replace (and DataFrame.replace) with CategoricalDtype is deprecated. In a future version, replace will only be used for cases that preserve the categories. To change the categories, use ser.cat.rename_categories instead.\n",
      "  df.genre = df.genre.replace({'hip':  'hip hop'})\n"
     ]
    }
   ],
   "source": [
    "df.genre = df.genre.replace({'hip':  'hip hop'})"
   ]
  },
  {
   "cell_type": "markdown",
   "id": "b449752f-a41f-4b4c-8c3e-fdc906ff3a82",
   "metadata": {},
   "source": [
    "# Saving"
   ]
  },
  {
   "cell_type": "code",
   "execution_count": 27,
   "id": "71761def-2c82-476f-928d-fbf7220ac11a",
   "metadata": {},
   "outputs": [],
   "source": [
    "if df.shape[0] > 0:\n",
    "    if final_df is not None:\n",
    "        final_df = pd.concat([df, final_df], axis=0)\n",
    "    else:\n",
    "        final_df = df\n",
    "    final_df.to_pickle(final_df_path)"
   ]
  },
  {
   "cell_type": "markdown",
   "id": "c64b13dd-f06f-4e06-8bf2-32e804de0ca8",
   "metadata": {},
   "source": [
    "# Verification"
   ]
  },
  {
   "cell_type": "code",
   "execution_count": 54,
   "id": "d0e4ee7d-d351-4037-8e6d-cd56b7f2c741",
   "metadata": {},
   "outputs": [],
   "source": [
    "df = pd.read_pickle(final_df_path)"
   ]
  },
  {
   "cell_type": "code",
   "execution_count": null,
   "id": "b91d2829-e0a3-41c1-971a-417b4077f25a",
   "metadata": {},
   "outputs": [],
   "source": []
  }
 ],
 "metadata": {
  "kernelspec": {
   "display_name": "Python 3 (ipykernel)",
   "language": "python",
   "name": "python3"
  },
  "language_info": {
   "codemirror_mode": {
    "name": "ipython",
    "version": 3
   },
   "file_extension": ".py",
   "mimetype": "text/x-python",
   "name": "python",
   "nbconvert_exporter": "python",
   "pygments_lexer": "ipython3",
   "version": "3.10.12"
  }
 },
 "nbformat": 4,
 "nbformat_minor": 5
}
