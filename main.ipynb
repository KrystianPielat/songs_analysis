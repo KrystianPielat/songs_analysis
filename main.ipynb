{
 "cells": [
  {
   "cell_type": "code",
   "execution_count": 125,
   "id": "50a76544-c6e1-4d92-ba96-da1e6c07b9d2",
   "metadata": {},
   "outputs": [
    {
     "name": "stdout",
     "output_type": "stream",
     "text": [
      "The autoreload extension is already loaded. To reload it, use:\n",
      "  %reload_ext autoreload\n"
     ]
    }
   ],
   "source": [
    "%load_ext autoreload\n",
    "%autoreload 2"
   ]
  },
  {
   "cell_type": "code",
   "execution_count": 126,
   "id": "3aac368b-0904-4021-afa9-e5c9d9202bb0",
   "metadata": {},
   "outputs": [
    {
     "data": {
      "text/plain": [
       "True"
      ]
     },
     "execution_count": 126,
     "metadata": {},
     "output_type": "execute_result"
    }
   ],
   "source": [
    "from classes.song import Song\n",
    "from classes.playlist import Playlist\n",
    "from classes.spotify_manager import SpotifyManager\n",
    "from classes.lyrics_manager import LyricsManager\n",
    "from dotenv import load_dotenv\n",
    "from classes.utils import gather_data_from_folders\n",
    "import pandas as pd\n",
    "import os\n",
    "\n",
    "load_dotenv()"
   ]
  },
  {
   "cell_type": "code",
   "execution_count": 129,
   "id": "ec54fbb1-8def-4bf0-a8fe-79dea248a55a",
   "metadata": {},
   "outputs": [],
   "source": [
    "# playlist = spotify_manager.get_playlist('6TtsLFsPpV4Aiqv5igcpnX')\n",
    "# playlist.keys()"
   ]
  },
  {
   "cell_type": "code",
   "execution_count": 130,
   "id": "e058593b-9464-4255-9a8e-2ddae387e6cb",
   "metadata": {},
   "outputs": [],
   "source": [
    "# playlist['tracks']['items'][1]['track']"
   ]
  },
  {
   "cell_type": "code",
   "execution_count": null,
   "id": "705a943c-b41b-4586-be68-466721109b6b",
   "metadata": {},
   "outputs": [],
   "source": []
  },
  {
   "cell_type": "code",
   "execution_count": 132,
   "id": "84318926-b30c-4e89-bd00-15cb863ec16d",
   "metadata": {},
   "outputs": [
    {
     "name": "stdout",
     "output_type": "stream",
     "text": [
      "\u001b[1;32mINFO: Found playlist: final download 1 with 1532 tracks.\u001b[0m\n"
     ]
    },
    {
     "data": {
      "application/vnd.jupyter.widget-view+json": {
       "model_id": "c0dae1b862e343b096e5e0a7c11f3ff2",
       "version_major": 2,
       "version_minor": 0
      },
      "text/plain": [
       "Processing Songs:   0%|          | 0/1532 [00:00<?, ?song/s]"
      ]
     },
     "metadata": {},
     "output_type": "display_data"
    },
    {
     "name": "stdout",
     "output_type": "stream",
     "text": [
      "\u001b[1;32mINFO: Processing song: skinny love\u001b[0m\n",
      "\u001b[1;32mINFO: Downloading song: skinny love\u001b[0m\n",
      "                                                         \r"
     ]
    },
    {
     "name": "stderr",
     "output_type": "stream",
     "text": [
      "\u001b[1;31mERROR: There was an error processing song: skinny love by birdy: LyricsManager._clean_title() takes 1 positional argument but 2 were given\u001b[0m\n"
     ]
    },
    {
     "name": "stdout",
     "output_type": "stream",
     "text": [
      "\u001b[1;32mINFO: Processing song: deathwish\u001b[0m\n",
      "\u001b[1;32mINFO: Downloading song: deathwish\u001b[0m\n",
      "                                                         \r"
     ]
    },
    {
     "name": "stderr",
     "output_type": "stream",
     "text": [
      "\u001b[1;31mERROR: There was an error processing song: deathwish by red sun rising: LyricsManager._clean_title() takes 1 positional argument but 2 were given\u001b[0m\n"
     ]
    },
    {
     "name": "stdout",
     "output_type": "stream",
     "text": [
      "\u001b[1;32mINFO: Processing song: iris\u001b[0m\n",
      "\u001b[1;32mINFO: Downloading song: iris\u001b[0m\n",
      "                                                         \r"
     ]
    },
    {
     "name": "stderr",
     "output_type": "stream",
     "text": [
      "\u001b[1;31mERROR: There was an error processing song: iris by the goo goo dolls: LyricsManager._clean_title() takes 1 positional argument but 2 were given\u001b[0m\n"
     ]
    },
    {
     "name": "stdout",
     "output_type": "stream",
     "text": [
      "\u001b[1;32mINFO: Processing song: the woods\u001b[0m\n",
      "\u001b[1;32mINFO: Downloading song: the woods\u001b[0m\n",
      "                                                         \r"
     ]
    },
    {
     "name": "stderr",
     "output_type": "stream",
     "text": [
      "\u001b[1;31mERROR: There was an error processing song: the woods by hollow coves: LyricsManager._clean_title() takes 1 positional argument but 2 were given\u001b[0m\n"
     ]
    },
    {
     "name": "stdout",
     "output_type": "stream",
     "text": [
      "\u001b[1;32mINFO: Processing song: don't dream it's over\u001b[0m\n",
      "\u001b[1;32mINFO: Downloading song: don't dream it's over\u001b[0m\n",
      "                                                         \r"
     ]
    },
    {
     "name": "stderr",
     "output_type": "stream",
     "text": [
      "\u001b[1;31mERROR: There was an error processing song: don't dream it's over by crowded house: LyricsManager._clean_title() takes 1 positional argument but 2 were given\u001b[0m\n"
     ]
    },
    {
     "name": "stdout",
     "output_type": "stream",
     "text": [
      "\u001b[1;32mINFO: Processing song: undisclosed desires\u001b[0m\n",
      "\u001b[1;32mINFO: Downloading song: undisclosed desires\u001b[0m\n",
      "                                                         \r"
     ]
    },
    {
     "name": "stderr",
     "output_type": "stream",
     "text": [
      "\u001b[1;31mERROR: There was an error processing song: undisclosed desires by muse: LyricsManager._clean_title() takes 1 positional argument but 2 were given\u001b[0m\n"
     ]
    },
    {
     "name": "stdout",
     "output_type": "stream",
     "text": [
      "\u001b[1;32mINFO: Processing song: electric love\u001b[0m\n",
      "\u001b[1;32mINFO: Downloading song: electric love\u001b[0m\n",
      "                                                         \r"
     ]
    },
    {
     "name": "stderr",
     "output_type": "stream",
     "text": [
      "\u001b[1;31mERROR: There was an error processing song: electric love by børns: LyricsManager._clean_title() takes 1 positional argument but 2 were given\u001b[0m\n"
     ]
    },
    {
     "name": "stdout",
     "output_type": "stream",
     "text": [
      "\u001b[1;32mINFO: Processing song: universally speaking\u001b[0m\n",
      "\u001b[1;32mINFO: Downloading song: universally speaking\u001b[0m\n",
      "                                                         \r"
     ]
    },
    {
     "name": "stderr",
     "output_type": "stream",
     "text": [
      "\u001b[1;31mERROR: There was an error processing song: universally speaking by red hot chili peppers: LyricsManager._clean_title() takes 1 positional argument but 2 were given\u001b[0m\n"
     ]
    },
    {
     "name": "stdout",
     "output_type": "stream",
     "text": [
      "\u001b[1;32mINFO: Processing song: break my stride\u001b[0m\n",
      "\u001b[1;32mINFO: Downloading song: break my stride\u001b[0m\n",
      "                                                         \r"
     ]
    },
    {
     "name": "stderr",
     "output_type": "stream",
     "text": [
      "\u001b[1;31mERROR: There was an error processing song: break my stride by matthew wilder: LyricsManager._clean_title() takes 1 positional argument but 2 were given\u001b[0m\n"
     ]
    },
    {
     "name": "stdout",
     "output_type": "stream",
     "text": [
      "\u001b[1;32mINFO: Processing song: tell me baby\u001b[0m\n",
      "\u001b[1;32mINFO: Downloading song: tell me baby\u001b[0m\n",
      "                                                         \r"
     ]
    },
    {
     "name": "stderr",
     "output_type": "stream",
     "text": [
      "\u001b[1;31mERROR: There was an error processing song: tell me baby by red hot chili peppers: LyricsManager._clean_title() takes 1 positional argument but 2 were given\u001b[0m\n"
     ]
    },
    {
     "name": "stdout",
     "output_type": "stream",
     "text": [
      "\u001b[1;32mINFO: Processing song: wanderlust\u001b[0m\n",
      "\u001b[1;32mINFO: Downloading song: wanderlust\u001b[0m\n",
      "                                                           \r"
     ]
    },
    {
     "name": "stderr",
     "output_type": "stream",
     "text": [
      "\u001b[1;31mERROR: There was an error processing song: wanderlust by james bay: LyricsManager._clean_title() takes 1 positional argument but 2 were given\u001b[0m\n"
     ]
    },
    {
     "name": "stdout",
     "output_type": "stream",
     "text": [
      "\u001b[1;32mINFO: Processing song: heroes\u001b[0m\n",
      "\u001b[1;32mINFO: Downloading song: heroes\u001b[0m\n",
      "                                                         \r"
     ]
    },
    {
     "name": "stderr",
     "output_type": "stream",
     "text": [
      "\u001b[1;31mERROR: There was an error processing song: heroes by peter gabriel: LyricsManager._clean_title() takes 1 positional argument but 2 were given\u001b[0m\n"
     ]
    },
    {
     "name": "stdout",
     "output_type": "stream",
     "text": [
      "\u001b[1;32mINFO: Processing song: the zephyr song\u001b[0m\n",
      "\u001b[1;32mINFO: Downloading song: the zephyr song\u001b[0m\n",
      "                                                           \r"
     ]
    },
    {
     "name": "stderr",
     "output_type": "stream",
     "text": [
      "\u001b[1;31mERROR: There was an error processing song: the zephyr song by red hot chili peppers: LyricsManager._clean_title() takes 1 positional argument but 2 were given\u001b[0m\n"
     ]
    },
    {
     "name": "stdout",
     "output_type": "stream",
     "text": [
      "\u001b[1;32mINFO: Processing song: around the world\u001b[0m\n",
      "\u001b[1;32mINFO: Downloading song: around the world\u001b[0m\n",
      "                                                           \r"
     ]
    },
    {
     "name": "stderr",
     "output_type": "stream",
     "text": [
      "\u001b[1;31mERROR: There was an error processing song: around the world by kings of leon: LyricsManager._clean_title() takes 1 positional argument but 2 were given\u001b[0m\n"
     ]
    },
    {
     "name": "stdout",
     "output_type": "stream",
     "text": [
      "\u001b[1;32mINFO: Processing song: everybody's watching me (uh oh)\u001b[0m\n",
      "\u001b[1;32mINFO: Downloading song: everybody's watching me (uh oh)\u001b[0m\n",
      "                                                         \r"
     ]
    },
    {
     "name": "stderr",
     "output_type": "stream",
     "text": [
      "\u001b[1;31mERROR: Process interrupted by user (KeyboardInterrupt). Exiting gracefully.\u001b[0m\n",
      "Exception ignored in: <bound method IPythonKernel._clean_thread_parent_frames of <ipykernel.ipkernel.IPythonKernel object at 0x7b487de5e470>>\n",
      "Traceback (most recent call last):\n",
      "  File \"/home/krystian/Python/VENVS/jupyter310/lib/python3.10/site-packages/ipykernel/ipkernel.py\", line 775, in _clean_thread_parent_frames\n",
      "    def _clean_thread_parent_frames(\n",
      "KeyboardInterrupt: \n"
     ]
    },
    {
     "ename": "KeyboardInterrupt",
     "evalue": "",
     "output_type": "error",
     "traceback": [
      "\u001b[0;31m---------------------------------------------------------------------------\u001b[0m",
      "\u001b[0;31mKeyboardInterrupt\u001b[0m                         Traceback (most recent call last)",
      "Cell \u001b[0;32mIn[132], line 7\u001b[0m\n\u001b[1;32m      3\u001b[0m spotify_manager \u001b[38;5;241m=\u001b[39m SpotifyManager(client_id\u001b[38;5;241m=\u001b[39mos\u001b[38;5;241m.\u001b[39menviron\u001b[38;5;241m.\u001b[39mget(\u001b[38;5;124m\"\u001b[39m\u001b[38;5;124mclient_id\u001b[39m\u001b[38;5;124m\"\u001b[39m), client_secret\u001b[38;5;241m=\u001b[39mos\u001b[38;5;241m.\u001b[39menviron\u001b[38;5;241m.\u001b[39mget(\u001b[38;5;124m\"\u001b[39m\u001b[38;5;124mclient_secret\u001b[39m\u001b[38;5;124m\"\u001b[39m))\n\u001b[1;32m      5\u001b[0m playlist \u001b[38;5;241m=\u001b[39m Playlist(uri\u001b[38;5;241m=\u001b[39mfinal_download_1_uri, spotify_manager\u001b[38;5;241m=\u001b[39mspotify_manager)\n\u001b[0;32m----> 7\u001b[0m \u001b[43mplaylist\u001b[49m\u001b[38;5;241;43m.\u001b[39;49m\u001b[43mload_songs\u001b[49m\u001b[43m(\u001b[49m\u001b[43mdownload_when_no_lyrics\u001b[49m\u001b[38;5;241;43m=\u001b[39;49m\u001b[38;5;28;43;01mTrue\u001b[39;49;00m\u001b[43m)\u001b[49m\n",
      "File \u001b[0;32m~/Python/Jupyter-projects/audio_sentiment_clasifier/classes/playlist.py:124\u001b[0m, in \u001b[0;36mPlaylist.load_songs\u001b[0;34m(self, download_when_no_lyrics)\u001b[0m\n\u001b[1;32m    122\u001b[0m \u001b[38;5;28;01melse\u001b[39;00m:\n\u001b[1;32m    123\u001b[0m     LOGGER\u001b[38;5;241m.\u001b[39minfo(\u001b[38;5;124mf\u001b[39m\u001b[38;5;124m\"\u001b[39m\u001b[38;5;124mDownloading song: \u001b[39m\u001b[38;5;132;01m{\u001b[39;00msong\u001b[38;5;241m.\u001b[39mtitle\u001b[38;5;132;01m}\u001b[39;00m\u001b[38;5;124m\"\u001b[39m)\n\u001b[0;32m--> 124\u001b[0m     \u001b[43msong\u001b[49m\u001b[38;5;241;43m.\u001b[39;49m\u001b[43mdownload_song\u001b[49m\u001b[43m(\u001b[49m\u001b[43m)\u001b[49m\n\u001b[1;32m    126\u001b[0m \u001b[38;5;66;03m# Fetch lyrics\u001b[39;00m\n\u001b[1;32m    127\u001b[0m lyrics \u001b[38;5;241m=\u001b[39m song\u001b[38;5;241m.\u001b[39mfetch_lyrics()\n",
      "File \u001b[0;32m~/Python/Jupyter-projects/audio_sentiment_clasifier/classes/song.py:100\u001b[0m, in \u001b[0;36mSong.download_song\u001b[0;34m(self)\u001b[0m\n\u001b[1;32m     97\u001b[0m     \u001b[38;5;28mself\u001b[39m\u001b[38;5;241m.\u001b[39m_download_album_art()\n\u001b[1;32m     99\u001b[0m LOGGER\u001b[38;5;241m.\u001b[39minfo(\u001b[38;5;124mf\u001b[39m\u001b[38;5;124m\"\u001b[39m\u001b[38;5;124mDownloading song: \u001b[39m\u001b[38;5;132;01m{\u001b[39;00msearch_query\u001b[38;5;132;01m}\u001b[39;00m\u001b[38;5;124m\"\u001b[39m)\n\u001b[0;32m--> 100\u001b[0m \u001b[38;5;28;43mself\u001b[39;49m\u001b[38;5;241;43m.\u001b[39;49m\u001b[43m_download_from_youtube\u001b[49m\u001b[43m(\u001b[49m\u001b[43mbest_url\u001b[49m\u001b[43m)\u001b[49m\n\u001b[1;32m    102\u001b[0m \u001b[38;5;28;01mif\u001b[39;00m \u001b[38;5;28mself\u001b[39m\u001b[38;5;241m.\u001b[39malbum_art_url:\n\u001b[1;32m    103\u001b[0m     LOGGER\u001b[38;5;241m.\u001b[39minfo(\u001b[38;5;124mf\u001b[39m\u001b[38;5;124m\"\u001b[39m\u001b[38;5;124mEmbedding album art into \u001b[39m\u001b[38;5;132;01m{\u001b[39;00m\u001b[38;5;28mself\u001b[39m\u001b[38;5;241m.\u001b[39mtitle\u001b[38;5;132;01m}\u001b[39;00m\u001b[38;5;124m.mp3\u001b[39m\u001b[38;5;124m\"\u001b[39m)\n",
      "File \u001b[0;32m~/Python/Jupyter-projects/audio_sentiment_clasifier/classes/song.py:138\u001b[0m, in \u001b[0;36mSong._download_from_youtube\u001b[0;34m(self, url)\u001b[0m\n\u001b[1;32m    125\u001b[0m ydl_opts \u001b[38;5;241m=\u001b[39m {\n\u001b[1;32m    126\u001b[0m     \u001b[38;5;124m'\u001b[39m\u001b[38;5;124mformat\u001b[39m\u001b[38;5;124m'\u001b[39m: \u001b[38;5;124m'\u001b[39m\u001b[38;5;124mbestaudio/best\u001b[39m\u001b[38;5;124m'\u001b[39m,\n\u001b[1;32m    127\u001b[0m     \u001b[38;5;124m'\u001b[39m\u001b[38;5;124mouttmpl\u001b[39m\u001b[38;5;124m'\u001b[39m: output_template,\n\u001b[0;32m   (...)\u001b[0m\n\u001b[1;32m    135\u001b[0m     }]\n\u001b[1;32m    136\u001b[0m }\n\u001b[1;32m    137\u001b[0m \u001b[38;5;28;01mwith\u001b[39;00m yt_dlp\u001b[38;5;241m.\u001b[39mYoutubeDL(ydl_opts) \u001b[38;5;28;01mas\u001b[39;00m ydl:\n\u001b[0;32m--> 138\u001b[0m     \u001b[43mydl\u001b[49m\u001b[38;5;241;43m.\u001b[39;49m\u001b[43mdownload\u001b[49m\u001b[43m(\u001b[49m\u001b[43m[\u001b[49m\u001b[43murl\u001b[49m\u001b[43m]\u001b[49m\u001b[43m)\u001b[49m\n",
      "File \u001b[0;32m~/Python/VENVS/jupyter310/lib/python3.10/site-packages/yt_dlp/YoutubeDL.py:3607\u001b[0m, in \u001b[0;36mYoutubeDL.download\u001b[0;34m(self, url_list)\u001b[0m\n\u001b[1;32m   3604\u001b[0m     \u001b[38;5;28;01mraise\u001b[39;00m SameFileError(outtmpl)\n\u001b[1;32m   3606\u001b[0m \u001b[38;5;28;01mfor\u001b[39;00m url \u001b[38;5;129;01min\u001b[39;00m url_list:\n\u001b[0;32m-> 3607\u001b[0m     \u001b[38;5;28;43mself\u001b[39;49m\u001b[38;5;241;43m.\u001b[39;49m\u001b[43m__download_wrapper\u001b[49m\u001b[43m(\u001b[49m\u001b[38;5;28;43mself\u001b[39;49m\u001b[38;5;241;43m.\u001b[39;49m\u001b[43mextract_info\u001b[49m\u001b[43m)\u001b[49m\u001b[43m(\u001b[49m\n\u001b[1;32m   3608\u001b[0m \u001b[43m        \u001b[49m\u001b[43murl\u001b[49m\u001b[43m,\u001b[49m\u001b[43m \u001b[49m\u001b[43mforce_generic_extractor\u001b[49m\u001b[38;5;241;43m=\u001b[39;49m\u001b[38;5;28;43mself\u001b[39;49m\u001b[38;5;241;43m.\u001b[39;49m\u001b[43mparams\u001b[49m\u001b[38;5;241;43m.\u001b[39;49m\u001b[43mget\u001b[49m\u001b[43m(\u001b[49m\u001b[38;5;124;43m'\u001b[39;49m\u001b[38;5;124;43mforce_generic_extractor\u001b[39;49m\u001b[38;5;124;43m'\u001b[39;49m\u001b[43m,\u001b[49m\u001b[43m \u001b[49m\u001b[38;5;28;43;01mFalse\u001b[39;49;00m\u001b[43m)\u001b[49m\u001b[43m)\u001b[49m\n\u001b[1;32m   3610\u001b[0m \u001b[38;5;28;01mreturn\u001b[39;00m \u001b[38;5;28mself\u001b[39m\u001b[38;5;241m.\u001b[39m_download_retcode\n",
      "File \u001b[0;32m~/Python/VENVS/jupyter310/lib/python3.10/site-packages/yt_dlp/YoutubeDL.py:3582\u001b[0m, in \u001b[0;36mYoutubeDL.__download_wrapper.<locals>.wrapper\u001b[0;34m(*args, **kwargs)\u001b[0m\n\u001b[1;32m   3579\u001b[0m \u001b[38;5;129m@functools\u001b[39m\u001b[38;5;241m.\u001b[39mwraps(func)\n\u001b[1;32m   3580\u001b[0m \u001b[38;5;28;01mdef\u001b[39;00m \u001b[38;5;21mwrapper\u001b[39m(\u001b[38;5;241m*\u001b[39margs, \u001b[38;5;241m*\u001b[39m\u001b[38;5;241m*\u001b[39mkwargs):\n\u001b[1;32m   3581\u001b[0m     \u001b[38;5;28;01mtry\u001b[39;00m:\n\u001b[0;32m-> 3582\u001b[0m         res \u001b[38;5;241m=\u001b[39m \u001b[43mfunc\u001b[49m\u001b[43m(\u001b[49m\u001b[38;5;241;43m*\u001b[39;49m\u001b[43margs\u001b[49m\u001b[43m,\u001b[49m\u001b[43m \u001b[49m\u001b[38;5;241;43m*\u001b[39;49m\u001b[38;5;241;43m*\u001b[39;49m\u001b[43mkwargs\u001b[49m\u001b[43m)\u001b[49m\n\u001b[1;32m   3583\u001b[0m     \u001b[38;5;28;01mexcept\u001b[39;00m UnavailableVideoError \u001b[38;5;28;01mas\u001b[39;00m e:\n\u001b[1;32m   3584\u001b[0m         \u001b[38;5;28mself\u001b[39m\u001b[38;5;241m.\u001b[39mreport_error(e)\n",
      "File \u001b[0;32m~/Python/VENVS/jupyter310/lib/python3.10/site-packages/yt_dlp/YoutubeDL.py:1615\u001b[0m, in \u001b[0;36mYoutubeDL.extract_info\u001b[0;34m(self, url, download, ie_key, extra_info, process, force_generic_extractor)\u001b[0m\n\u001b[1;32m   1613\u001b[0m             \u001b[38;5;28;01mraise\u001b[39;00m ExistingVideoReached\n\u001b[1;32m   1614\u001b[0m         \u001b[38;5;28;01mbreak\u001b[39;00m\n\u001b[0;32m-> 1615\u001b[0m     \u001b[38;5;28;01mreturn\u001b[39;00m \u001b[38;5;28;43mself\u001b[39;49m\u001b[38;5;241;43m.\u001b[39;49m\u001b[43m__extract_info\u001b[49m\u001b[43m(\u001b[49m\u001b[43murl\u001b[49m\u001b[43m,\u001b[49m\u001b[43m \u001b[49m\u001b[38;5;28;43mself\u001b[39;49m\u001b[38;5;241;43m.\u001b[39;49m\u001b[43mget_info_extractor\u001b[49m\u001b[43m(\u001b[49m\u001b[43mkey\u001b[49m\u001b[43m)\u001b[49m\u001b[43m,\u001b[49m\u001b[43m \u001b[49m\u001b[43mdownload\u001b[49m\u001b[43m,\u001b[49m\u001b[43m \u001b[49m\u001b[43mextra_info\u001b[49m\u001b[43m,\u001b[49m\u001b[43m \u001b[49m\u001b[43mprocess\u001b[49m\u001b[43m)\u001b[49m\n\u001b[1;32m   1616\u001b[0m \u001b[38;5;28;01melse\u001b[39;00m:\n\u001b[1;32m   1617\u001b[0m     extractors_restricted \u001b[38;5;241m=\u001b[39m \u001b[38;5;28mself\u001b[39m\u001b[38;5;241m.\u001b[39mparams\u001b[38;5;241m.\u001b[39mget(\u001b[38;5;124m'\u001b[39m\u001b[38;5;124mallowed_extractors\u001b[39m\u001b[38;5;124m'\u001b[39m) \u001b[38;5;129;01mnot\u001b[39;00m \u001b[38;5;129;01min\u001b[39;00m (\u001b[38;5;28;01mNone\u001b[39;00m, [\u001b[38;5;124m'\u001b[39m\u001b[38;5;124mdefault\u001b[39m\u001b[38;5;124m'\u001b[39m])\n",
      "File \u001b[0;32m~/Python/VENVS/jupyter310/lib/python3.10/site-packages/yt_dlp/YoutubeDL.py:1626\u001b[0m, in \u001b[0;36mYoutubeDL._handle_extraction_exceptions.<locals>.wrapper\u001b[0;34m(self, *args, **kwargs)\u001b[0m\n\u001b[1;32m   1624\u001b[0m \u001b[38;5;28;01mwhile\u001b[39;00m \u001b[38;5;28;01mTrue\u001b[39;00m:\n\u001b[1;32m   1625\u001b[0m     \u001b[38;5;28;01mtry\u001b[39;00m:\n\u001b[0;32m-> 1626\u001b[0m         \u001b[38;5;28;01mreturn\u001b[39;00m \u001b[43mfunc\u001b[49m\u001b[43m(\u001b[49m\u001b[38;5;28;43mself\u001b[39;49m\u001b[43m,\u001b[49m\u001b[43m \u001b[49m\u001b[38;5;241;43m*\u001b[39;49m\u001b[43margs\u001b[49m\u001b[43m,\u001b[49m\u001b[43m \u001b[49m\u001b[38;5;241;43m*\u001b[39;49m\u001b[38;5;241;43m*\u001b[39;49m\u001b[43mkwargs\u001b[49m\u001b[43m)\u001b[49m\n\u001b[1;32m   1627\u001b[0m     \u001b[38;5;28;01mexcept\u001b[39;00m (DownloadCancelled, LazyList\u001b[38;5;241m.\u001b[39mIndexError, PagedList\u001b[38;5;241m.\u001b[39mIndexError):\n\u001b[1;32m   1628\u001b[0m         \u001b[38;5;28;01mraise\u001b[39;00m\n",
      "File \u001b[0;32m~/Python/VENVS/jupyter310/lib/python3.10/site-packages/yt_dlp/YoutubeDL.py:1782\u001b[0m, in \u001b[0;36mYoutubeDL.__extract_info\u001b[0;34m(self, url, ie, download, extra_info, process)\u001b[0m\n\u001b[1;32m   1780\u001b[0m \u001b[38;5;28;01mif\u001b[39;00m process:\n\u001b[1;32m   1781\u001b[0m     \u001b[38;5;28mself\u001b[39m\u001b[38;5;241m.\u001b[39m_wait_for_video(ie_result)\n\u001b[0;32m-> 1782\u001b[0m     \u001b[38;5;28;01mreturn\u001b[39;00m \u001b[38;5;28;43mself\u001b[39;49m\u001b[38;5;241;43m.\u001b[39;49m\u001b[43mprocess_ie_result\u001b[49m\u001b[43m(\u001b[49m\u001b[43mie_result\u001b[49m\u001b[43m,\u001b[49m\u001b[43m \u001b[49m\u001b[43mdownload\u001b[49m\u001b[43m,\u001b[49m\u001b[43m \u001b[49m\u001b[43mextra_info\u001b[49m\u001b[43m)\u001b[49m\n\u001b[1;32m   1783\u001b[0m \u001b[38;5;28;01melse\u001b[39;00m:\n\u001b[1;32m   1784\u001b[0m     \u001b[38;5;28;01mreturn\u001b[39;00m ie_result\n",
      "File \u001b[0;32m~/Python/VENVS/jupyter310/lib/python3.10/site-packages/yt_dlp/YoutubeDL.py:1841\u001b[0m, in \u001b[0;36mYoutubeDL.process_ie_result\u001b[0;34m(self, ie_result, download, extra_info)\u001b[0m\n\u001b[1;32m   1839\u001b[0m \u001b[38;5;28;01mif\u001b[39;00m result_type \u001b[38;5;241m==\u001b[39m \u001b[38;5;124m'\u001b[39m\u001b[38;5;124mvideo\u001b[39m\u001b[38;5;124m'\u001b[39m:\n\u001b[1;32m   1840\u001b[0m     \u001b[38;5;28mself\u001b[39m\u001b[38;5;241m.\u001b[39madd_extra_info(ie_result, extra_info)\n\u001b[0;32m-> 1841\u001b[0m     ie_result \u001b[38;5;241m=\u001b[39m \u001b[38;5;28;43mself\u001b[39;49m\u001b[38;5;241;43m.\u001b[39;49m\u001b[43mprocess_video_result\u001b[49m\u001b[43m(\u001b[49m\u001b[43mie_result\u001b[49m\u001b[43m,\u001b[49m\u001b[43m \u001b[49m\u001b[43mdownload\u001b[49m\u001b[38;5;241;43m=\u001b[39;49m\u001b[43mdownload\u001b[49m\u001b[43m)\u001b[49m\n\u001b[1;32m   1842\u001b[0m     \u001b[38;5;28mself\u001b[39m\u001b[38;5;241m.\u001b[39m_raise_pending_errors(ie_result)\n\u001b[1;32m   1843\u001b[0m     additional_urls \u001b[38;5;241m=\u001b[39m (ie_result \u001b[38;5;129;01mor\u001b[39;00m {})\u001b[38;5;241m.\u001b[39mget(\u001b[38;5;124m'\u001b[39m\u001b[38;5;124madditional_urls\u001b[39m\u001b[38;5;124m'\u001b[39m)\n",
      "File \u001b[0;32m~/Python/VENVS/jupyter310/lib/python3.10/site-packages/yt_dlp/YoutubeDL.py:3015\u001b[0m, in \u001b[0;36mYoutubeDL.process_video_result\u001b[0;34m(self, info_dict, download)\u001b[0m\n\u001b[1;32m   3013\u001b[0m downloaded_formats\u001b[38;5;241m.\u001b[39mappend(new_info)\n\u001b[1;32m   3014\u001b[0m \u001b[38;5;28;01mtry\u001b[39;00m:\n\u001b[0;32m-> 3015\u001b[0m     \u001b[38;5;28;43mself\u001b[39;49m\u001b[38;5;241;43m.\u001b[39;49m\u001b[43mprocess_info\u001b[49m\u001b[43m(\u001b[49m\u001b[43mnew_info\u001b[49m\u001b[43m)\u001b[49m\n\u001b[1;32m   3016\u001b[0m \u001b[38;5;28;01mexcept\u001b[39;00m MaxDownloadsReached:\n\u001b[1;32m   3017\u001b[0m     max_downloads_reached \u001b[38;5;241m=\u001b[39m \u001b[38;5;28;01mTrue\u001b[39;00m\n",
      "File \u001b[0;32m~/Python/VENVS/jupyter310/lib/python3.10/site-packages/yt_dlp/YoutubeDL.py:179\u001b[0m, in \u001b[0;36m_catch_unsafe_extension_error.<locals>.wrapper\u001b[0;34m(self, *args, **kwargs)\u001b[0m\n\u001b[1;32m    176\u001b[0m \u001b[38;5;129m@functools\u001b[39m\u001b[38;5;241m.\u001b[39mwraps(func)\n\u001b[1;32m    177\u001b[0m \u001b[38;5;28;01mdef\u001b[39;00m \u001b[38;5;21mwrapper\u001b[39m(\u001b[38;5;28mself\u001b[39m, \u001b[38;5;241m*\u001b[39margs, \u001b[38;5;241m*\u001b[39m\u001b[38;5;241m*\u001b[39mkwargs):\n\u001b[1;32m    178\u001b[0m     \u001b[38;5;28;01mtry\u001b[39;00m:\n\u001b[0;32m--> 179\u001b[0m         \u001b[38;5;28;01mreturn\u001b[39;00m \u001b[43mfunc\u001b[49m\u001b[43m(\u001b[49m\u001b[38;5;28;43mself\u001b[39;49m\u001b[43m,\u001b[49m\u001b[43m \u001b[49m\u001b[38;5;241;43m*\u001b[39;49m\u001b[43margs\u001b[49m\u001b[43m,\u001b[49m\u001b[43m \u001b[49m\u001b[38;5;241;43m*\u001b[39;49m\u001b[38;5;241;43m*\u001b[39;49m\u001b[43mkwargs\u001b[49m\u001b[43m)\u001b[49m\n\u001b[1;32m    180\u001b[0m     \u001b[38;5;28;01mexcept\u001b[39;00m _UnsafeExtensionError \u001b[38;5;28;01mas\u001b[39;00m error:\n\u001b[1;32m    181\u001b[0m         \u001b[38;5;28mself\u001b[39m\u001b[38;5;241m.\u001b[39mreport_error(\n\u001b[1;32m    182\u001b[0m             \u001b[38;5;124mf\u001b[39m\u001b[38;5;124m'\u001b[39m\u001b[38;5;124mThe extracted extension (\u001b[39m\u001b[38;5;132;01m{\u001b[39;00merror\u001b[38;5;241m.\u001b[39mextension\u001b[38;5;132;01m!r}\u001b[39;00m\u001b[38;5;124m) is unusual \u001b[39m\u001b[38;5;124m'\u001b[39m\n\u001b[1;32m    183\u001b[0m             \u001b[38;5;124m'\u001b[39m\u001b[38;5;124mand will be skipped for safety reasons. \u001b[39m\u001b[38;5;124m'\u001b[39m\n\u001b[1;32m    184\u001b[0m             \u001b[38;5;124mf\u001b[39m\u001b[38;5;124m'\u001b[39m\u001b[38;5;124mIf you believe this is an error\u001b[39m\u001b[38;5;132;01m{\u001b[39;00mbug_reports_message(\u001b[38;5;124m\"\u001b[39m\u001b[38;5;124m,\u001b[39m\u001b[38;5;124m\"\u001b[39m)\u001b[38;5;132;01m}\u001b[39;00m\u001b[38;5;124m'\u001b[39m)\n",
      "File \u001b[0;32m~/Python/VENVS/jupyter310/lib/python3.10/site-packages/yt_dlp/YoutubeDL.py:3561\u001b[0m, in \u001b[0;36mYoutubeDL.process_info\u001b[0;34m(self, info_dict)\u001b[0m\n\u001b[1;32m   3559\u001b[0m fixup()\n\u001b[1;32m   3560\u001b[0m \u001b[38;5;28;01mtry\u001b[39;00m:\n\u001b[0;32m-> 3561\u001b[0m     replace_info_dict(\u001b[38;5;28;43mself\u001b[39;49m\u001b[38;5;241;43m.\u001b[39;49m\u001b[43mpost_process\u001b[49m\u001b[43m(\u001b[49m\u001b[43mdl_filename\u001b[49m\u001b[43m,\u001b[49m\u001b[43m \u001b[49m\u001b[43minfo_dict\u001b[49m\u001b[43m,\u001b[49m\u001b[43m \u001b[49m\u001b[43mfiles_to_move\u001b[49m\u001b[43m)\u001b[49m)\n\u001b[1;32m   3562\u001b[0m \u001b[38;5;28;01mexcept\u001b[39;00m PostProcessingError \u001b[38;5;28;01mas\u001b[39;00m err:\n\u001b[1;32m   3563\u001b[0m     \u001b[38;5;28mself\u001b[39m\u001b[38;5;241m.\u001b[39mreport_error(\u001b[38;5;124mf\u001b[39m\u001b[38;5;124m'\u001b[39m\u001b[38;5;124mPostprocessing: \u001b[39m\u001b[38;5;132;01m{\u001b[39;00merr\u001b[38;5;132;01m}\u001b[39;00m\u001b[38;5;124m'\u001b[39m)\n",
      "File \u001b[0;32m~/Python/VENVS/jupyter310/lib/python3.10/site-packages/yt_dlp/YoutubeDL.py:3743\u001b[0m, in \u001b[0;36mYoutubeDL.post_process\u001b[0;34m(self, filename, info, files_to_move)\u001b[0m\n\u001b[1;32m   3741\u001b[0m info[\u001b[38;5;124m'\u001b[39m\u001b[38;5;124mfilepath\u001b[39m\u001b[38;5;124m'\u001b[39m] \u001b[38;5;241m=\u001b[39m filename\n\u001b[1;32m   3742\u001b[0m info[\u001b[38;5;124m'\u001b[39m\u001b[38;5;124m__files_to_move\u001b[39m\u001b[38;5;124m'\u001b[39m] \u001b[38;5;241m=\u001b[39m files_to_move \u001b[38;5;129;01mor\u001b[39;00m {}\n\u001b[0;32m-> 3743\u001b[0m info \u001b[38;5;241m=\u001b[39m \u001b[38;5;28;43mself\u001b[39;49m\u001b[38;5;241;43m.\u001b[39;49m\u001b[43mrun_all_pps\u001b[49m\u001b[43m(\u001b[49m\u001b[38;5;124;43m'\u001b[39;49m\u001b[38;5;124;43mpost_process\u001b[39;49m\u001b[38;5;124;43m'\u001b[39;49m\u001b[43m,\u001b[49m\u001b[43m \u001b[49m\u001b[43minfo\u001b[49m\u001b[43m,\u001b[49m\u001b[43m \u001b[49m\u001b[43madditional_pps\u001b[49m\u001b[38;5;241;43m=\u001b[39;49m\u001b[43minfo\u001b[49m\u001b[38;5;241;43m.\u001b[39;49m\u001b[43mget\u001b[49m\u001b[43m(\u001b[49m\u001b[38;5;124;43m'\u001b[39;49m\u001b[38;5;124;43m__postprocessors\u001b[39;49m\u001b[38;5;124;43m'\u001b[39;49m\u001b[43m)\u001b[49m\u001b[43m)\u001b[49m\n\u001b[1;32m   3744\u001b[0m info \u001b[38;5;241m=\u001b[39m \u001b[38;5;28mself\u001b[39m\u001b[38;5;241m.\u001b[39mrun_pp(MoveFilesAfterDownloadPP(\u001b[38;5;28mself\u001b[39m), info)\n\u001b[1;32m   3745\u001b[0m \u001b[38;5;28;01mdel\u001b[39;00m info[\u001b[38;5;124m'\u001b[39m\u001b[38;5;124m__files_to_move\u001b[39m\u001b[38;5;124m'\u001b[39m]\n",
      "File \u001b[0;32m~/Python/VENVS/jupyter310/lib/python3.10/site-packages/yt_dlp/YoutubeDL.py:3725\u001b[0m, in \u001b[0;36mYoutubeDL.run_all_pps\u001b[0;34m(self, key, info, additional_pps)\u001b[0m\n\u001b[1;32m   3723\u001b[0m     \u001b[38;5;28mself\u001b[39m\u001b[38;5;241m.\u001b[39m_forceprint(key, info)\n\u001b[1;32m   3724\u001b[0m \u001b[38;5;28;01mfor\u001b[39;00m pp \u001b[38;5;129;01min\u001b[39;00m (additional_pps \u001b[38;5;129;01mor\u001b[39;00m []) \u001b[38;5;241m+\u001b[39m \u001b[38;5;28mself\u001b[39m\u001b[38;5;241m.\u001b[39m_pps[key]:\n\u001b[0;32m-> 3725\u001b[0m     info \u001b[38;5;241m=\u001b[39m \u001b[38;5;28;43mself\u001b[39;49m\u001b[38;5;241;43m.\u001b[39;49m\u001b[43mrun_pp\u001b[49m\u001b[43m(\u001b[49m\u001b[43mpp\u001b[49m\u001b[43m,\u001b[49m\u001b[43m \u001b[49m\u001b[43minfo\u001b[49m\u001b[43m)\u001b[49m\n\u001b[1;32m   3726\u001b[0m \u001b[38;5;28;01mreturn\u001b[39;00m info\n",
      "File \u001b[0;32m~/Python/VENVS/jupyter310/lib/python3.10/site-packages/yt_dlp/YoutubeDL.py:3703\u001b[0m, in \u001b[0;36mYoutubeDL.run_pp\u001b[0;34m(self, pp, infodict)\u001b[0m\n\u001b[1;32m   3701\u001b[0m     infodict[\u001b[38;5;124m'\u001b[39m\u001b[38;5;124m__files_to_move\u001b[39m\u001b[38;5;124m'\u001b[39m] \u001b[38;5;241m=\u001b[39m {}\n\u001b[1;32m   3702\u001b[0m \u001b[38;5;28;01mtry\u001b[39;00m:\n\u001b[0;32m-> 3703\u001b[0m     files_to_delete, infodict \u001b[38;5;241m=\u001b[39m \u001b[43mpp\u001b[49m\u001b[38;5;241;43m.\u001b[39;49m\u001b[43mrun\u001b[49m\u001b[43m(\u001b[49m\u001b[43minfodict\u001b[49m\u001b[43m)\u001b[49m\n\u001b[1;32m   3704\u001b[0m \u001b[38;5;28;01mexcept\u001b[39;00m PostProcessingError \u001b[38;5;28;01mas\u001b[39;00m e:\n\u001b[1;32m   3705\u001b[0m     \u001b[38;5;66;03m# Must be True and not 'only_download'\u001b[39;00m\n\u001b[1;32m   3706\u001b[0m     \u001b[38;5;28;01mif\u001b[39;00m \u001b[38;5;28mself\u001b[39m\u001b[38;5;241m.\u001b[39mparams\u001b[38;5;241m.\u001b[39mget(\u001b[38;5;124m'\u001b[39m\u001b[38;5;124mignoreerrors\u001b[39m\u001b[38;5;124m'\u001b[39m) \u001b[38;5;129;01mis\u001b[39;00m \u001b[38;5;28;01mTrue\u001b[39;00m:\n",
      "File \u001b[0;32m~/Python/VENVS/jupyter310/lib/python3.10/site-packages/yt_dlp/postprocessor/common.py:23\u001b[0m, in \u001b[0;36mPostProcessorMetaClass.run_wrapper.<locals>.run\u001b[0;34m(self, info, *args, **kwargs)\u001b[0m\n\u001b[1;32m     21\u001b[0m info_copy \u001b[38;5;241m=\u001b[39m \u001b[38;5;28mself\u001b[39m\u001b[38;5;241m.\u001b[39m_copy_infodict(info)\n\u001b[1;32m     22\u001b[0m \u001b[38;5;28mself\u001b[39m\u001b[38;5;241m.\u001b[39m_hook_progress({\u001b[38;5;124m'\u001b[39m\u001b[38;5;124mstatus\u001b[39m\u001b[38;5;124m'\u001b[39m: \u001b[38;5;124m'\u001b[39m\u001b[38;5;124mstarted\u001b[39m\u001b[38;5;124m'\u001b[39m}, info_copy)\n\u001b[0;32m---> 23\u001b[0m ret \u001b[38;5;241m=\u001b[39m \u001b[43mfunc\u001b[49m\u001b[43m(\u001b[49m\u001b[38;5;28;43mself\u001b[39;49m\u001b[43m,\u001b[49m\u001b[43m \u001b[49m\u001b[43minfo\u001b[49m\u001b[43m,\u001b[49m\u001b[43m \u001b[49m\u001b[38;5;241;43m*\u001b[39;49m\u001b[43margs\u001b[49m\u001b[43m,\u001b[49m\u001b[43m \u001b[49m\u001b[38;5;241;43m*\u001b[39;49m\u001b[38;5;241;43m*\u001b[39;49m\u001b[43mkwargs\u001b[49m\u001b[43m)\u001b[49m\n\u001b[1;32m     24\u001b[0m \u001b[38;5;28;01mif\u001b[39;00m ret \u001b[38;5;129;01mis\u001b[39;00m \u001b[38;5;129;01mnot\u001b[39;00m \u001b[38;5;28;01mNone\u001b[39;00m:\n\u001b[1;32m     25\u001b[0m     _, info \u001b[38;5;241m=\u001b[39m ret\n",
      "File \u001b[0;32m~/Python/VENVS/jupyter310/lib/python3.10/site-packages/yt_dlp/postprocessor/common.py:128\u001b[0m, in \u001b[0;36mPostProcessor._restrict_to.<locals>.decorator.<locals>.wrapper\u001b[0;34m(self, info)\u001b[0m\n\u001b[1;32m    123\u001b[0m format_type \u001b[38;5;241m=\u001b[39m (\n\u001b[1;32m    124\u001b[0m     \u001b[38;5;124m'\u001b[39m\u001b[38;5;124mvideo\u001b[39m\u001b[38;5;124m'\u001b[39m \u001b[38;5;28;01mif\u001b[39;00m info\u001b[38;5;241m.\u001b[39mget(\u001b[38;5;124m'\u001b[39m\u001b[38;5;124mvcodec\u001b[39m\u001b[38;5;124m'\u001b[39m) \u001b[38;5;241m!=\u001b[39m \u001b[38;5;124m'\u001b[39m\u001b[38;5;124mnone\u001b[39m\u001b[38;5;124m'\u001b[39m\n\u001b[1;32m    125\u001b[0m     \u001b[38;5;28;01melse\u001b[39;00m \u001b[38;5;124m'\u001b[39m\u001b[38;5;124maudio\u001b[39m\u001b[38;5;124m'\u001b[39m \u001b[38;5;28;01mif\u001b[39;00m info\u001b[38;5;241m.\u001b[39mget(\u001b[38;5;124m'\u001b[39m\u001b[38;5;124macodec\u001b[39m\u001b[38;5;124m'\u001b[39m) \u001b[38;5;241m!=\u001b[39m \u001b[38;5;124m'\u001b[39m\u001b[38;5;124mnone\u001b[39m\u001b[38;5;124m'\u001b[39m\n\u001b[1;32m    126\u001b[0m     \u001b[38;5;28;01melse\u001b[39;00m \u001b[38;5;124m'\u001b[39m\u001b[38;5;124mimages\u001b[39m\u001b[38;5;124m'\u001b[39m)\n\u001b[1;32m    127\u001b[0m \u001b[38;5;28;01mif\u001b[39;00m allowed[format_type]:\n\u001b[0;32m--> 128\u001b[0m     \u001b[38;5;28;01mreturn\u001b[39;00m \u001b[43mfunc\u001b[49m\u001b[43m(\u001b[49m\u001b[38;5;28;43mself\u001b[39;49m\u001b[43m,\u001b[49m\u001b[43m \u001b[49m\u001b[43minfo\u001b[49m\u001b[43m)\u001b[49m\n\u001b[1;32m    129\u001b[0m \u001b[38;5;28;01melse\u001b[39;00m:\n\u001b[1;32m    130\u001b[0m     \u001b[38;5;28mself\u001b[39m\u001b[38;5;241m.\u001b[39mto_screen(\u001b[38;5;124mf\u001b[39m\u001b[38;5;124m'\u001b[39m\u001b[38;5;124mSkipping \u001b[39m\u001b[38;5;132;01m{\u001b[39;00mformat_type\u001b[38;5;132;01m}\u001b[39;00m\u001b[38;5;124m'\u001b[39m)\n",
      "File \u001b[0;32m~/Python/VENVS/jupyter310/lib/python3.10/site-packages/yt_dlp/postprocessor/ffmpeg.py:531\u001b[0m, in \u001b[0;36mFFmpegExtractAudioPP.run\u001b[0;34m(self, information)\u001b[0m\n\u001b[1;32m    528\u001b[0m     \u001b[38;5;28;01mreturn\u001b[39;00m [], information\n\u001b[1;32m    530\u001b[0m \u001b[38;5;28mself\u001b[39m\u001b[38;5;241m.\u001b[39mto_screen(\u001b[38;5;124mf\u001b[39m\u001b[38;5;124m'\u001b[39m\u001b[38;5;124mDestination: \u001b[39m\u001b[38;5;132;01m{\u001b[39;00mnew_path\u001b[38;5;132;01m}\u001b[39;00m\u001b[38;5;124m'\u001b[39m)\n\u001b[0;32m--> 531\u001b[0m \u001b[38;5;28;43mself\u001b[39;49m\u001b[38;5;241;43m.\u001b[39;49m\u001b[43mrun_ffmpeg\u001b[49m\u001b[43m(\u001b[49m\u001b[43mpath\u001b[49m\u001b[43m,\u001b[49m\u001b[43m \u001b[49m\u001b[43mtemp_path\u001b[49m\u001b[43m,\u001b[49m\u001b[43m \u001b[49m\u001b[43macodec\u001b[49m\u001b[43m,\u001b[49m\u001b[43m \u001b[49m\u001b[43mmore_opts\u001b[49m\u001b[43m)\u001b[49m\n\u001b[1;32m    533\u001b[0m os\u001b[38;5;241m.\u001b[39mreplace(path, orig_path)\n\u001b[1;32m    534\u001b[0m os\u001b[38;5;241m.\u001b[39mreplace(temp_path, new_path)\n",
      "File \u001b[0;32m~/Python/VENVS/jupyter310/lib/python3.10/site-packages/yt_dlp/postprocessor/ffmpeg.py:480\u001b[0m, in \u001b[0;36mFFmpegExtractAudioPP.run_ffmpeg\u001b[0;34m(self, path, out_path, codec, more_opts)\u001b[0m\n\u001b[1;32m    478\u001b[0m opts \u001b[38;5;241m=\u001b[39m [\u001b[38;5;124m'\u001b[39m\u001b[38;5;124m-vn\u001b[39m\u001b[38;5;124m'\u001b[39m, \u001b[38;5;241m*\u001b[39macodec_opts, \u001b[38;5;241m*\u001b[39mmore_opts]\n\u001b[1;32m    479\u001b[0m \u001b[38;5;28;01mtry\u001b[39;00m:\n\u001b[0;32m--> 480\u001b[0m     \u001b[43mFFmpegPostProcessor\u001b[49m\u001b[38;5;241;43m.\u001b[39;49m\u001b[43mrun_ffmpeg\u001b[49m\u001b[43m(\u001b[49m\u001b[38;5;28;43mself\u001b[39;49m\u001b[43m,\u001b[49m\u001b[43m \u001b[49m\u001b[43mpath\u001b[49m\u001b[43m,\u001b[49m\u001b[43m \u001b[49m\u001b[43mout_path\u001b[49m\u001b[43m,\u001b[49m\u001b[43m \u001b[49m\u001b[43mopts\u001b[49m\u001b[43m)\u001b[49m\n\u001b[1;32m    481\u001b[0m \u001b[38;5;28;01mexcept\u001b[39;00m FFmpegPostProcessorError \u001b[38;5;28;01mas\u001b[39;00m err:\n\u001b[1;32m    482\u001b[0m     \u001b[38;5;28;01mraise\u001b[39;00m PostProcessingError(\u001b[38;5;124mf\u001b[39m\u001b[38;5;124m'\u001b[39m\u001b[38;5;124maudio conversion failed: \u001b[39m\u001b[38;5;132;01m{\u001b[39;00merr\u001b[38;5;241m.\u001b[39mmsg\u001b[38;5;132;01m}\u001b[39;00m\u001b[38;5;124m'\u001b[39m)\n",
      "File \u001b[0;32m~/Python/VENVS/jupyter310/lib/python3.10/site-packages/yt_dlp/postprocessor/ffmpeg.py:375\u001b[0m, in \u001b[0;36mFFmpegPostProcessor.run_ffmpeg\u001b[0;34m(self, path, out_path, opts, **kwargs)\u001b[0m\n\u001b[1;32m    374\u001b[0m \u001b[38;5;28;01mdef\u001b[39;00m \u001b[38;5;21mrun_ffmpeg\u001b[39m(\u001b[38;5;28mself\u001b[39m, path, out_path, opts, \u001b[38;5;241m*\u001b[39m\u001b[38;5;241m*\u001b[39mkwargs):\n\u001b[0;32m--> 375\u001b[0m     \u001b[38;5;28;01mreturn\u001b[39;00m \u001b[38;5;28;43mself\u001b[39;49m\u001b[38;5;241;43m.\u001b[39;49m\u001b[43mrun_ffmpeg_multiple_files\u001b[49m\u001b[43m(\u001b[49m\u001b[43m[\u001b[49m\u001b[43mpath\u001b[49m\u001b[43m]\u001b[49m\u001b[43m,\u001b[49m\u001b[43m \u001b[49m\u001b[43mout_path\u001b[49m\u001b[43m,\u001b[49m\u001b[43m \u001b[49m\u001b[43mopts\u001b[49m\u001b[43m,\u001b[49m\u001b[43m \u001b[49m\u001b[38;5;241;43m*\u001b[39;49m\u001b[38;5;241;43m*\u001b[39;49m\u001b[43mkwargs\u001b[49m\u001b[43m)\u001b[49m\n",
      "File \u001b[0;32m~/Python/VENVS/jupyter310/lib/python3.10/site-packages/yt_dlp/postprocessor/ffmpeg.py:330\u001b[0m, in \u001b[0;36mFFmpegPostProcessor.run_ffmpeg_multiple_files\u001b[0;34m(self, input_paths, out_path, opts, **kwargs)\u001b[0m\n\u001b[1;32m    329\u001b[0m \u001b[38;5;28;01mdef\u001b[39;00m \u001b[38;5;21mrun_ffmpeg_multiple_files\u001b[39m(\u001b[38;5;28mself\u001b[39m, input_paths, out_path, opts, \u001b[38;5;241m*\u001b[39m\u001b[38;5;241m*\u001b[39mkwargs):\n\u001b[0;32m--> 330\u001b[0m     \u001b[38;5;28;01mreturn\u001b[39;00m \u001b[38;5;28;43mself\u001b[39;49m\u001b[38;5;241;43m.\u001b[39;49m\u001b[43mreal_run_ffmpeg\u001b[49m\u001b[43m(\u001b[49m\n\u001b[1;32m    331\u001b[0m \u001b[43m        \u001b[49m\u001b[43m[\u001b[49m\u001b[43m(\u001b[49m\u001b[43mpath\u001b[49m\u001b[43m,\u001b[49m\u001b[43m \u001b[49m\u001b[43m[\u001b[49m\u001b[43m]\u001b[49m\u001b[43m)\u001b[49m\u001b[43m \u001b[49m\u001b[38;5;28;43;01mfor\u001b[39;49;00m\u001b[43m \u001b[49m\u001b[43mpath\u001b[49m\u001b[43m \u001b[49m\u001b[38;5;129;43;01min\u001b[39;49;00m\u001b[43m \u001b[49m\u001b[43minput_paths\u001b[49m\u001b[43m]\u001b[49m\u001b[43m,\u001b[49m\n\u001b[1;32m    332\u001b[0m \u001b[43m        \u001b[49m\u001b[43m[\u001b[49m\u001b[43m(\u001b[49m\u001b[43mout_path\u001b[49m\u001b[43m,\u001b[49m\u001b[43m \u001b[49m\u001b[43mopts\u001b[49m\u001b[43m)\u001b[49m\u001b[43m]\u001b[49m\u001b[43m,\u001b[49m\u001b[43m \u001b[49m\u001b[38;5;241;43m*\u001b[39;49m\u001b[38;5;241;43m*\u001b[39;49m\u001b[43mkwargs\u001b[49m\u001b[43m)\u001b[49m\n",
      "File \u001b[0;32m~/Python/VENVS/jupyter310/lib/python3.10/site-packages/yt_dlp/postprocessor/ffmpeg.py:364\u001b[0m, in \u001b[0;36mFFmpegPostProcessor.real_run_ffmpeg\u001b[0;34m(self, input_path_opts, output_path_opts, expected_retcodes)\u001b[0m\n\u001b[1;32m    359\u001b[0m     cmd \u001b[38;5;241m+\u001b[39m\u001b[38;5;241m=\u001b[39m itertools\u001b[38;5;241m.\u001b[39mchain\u001b[38;5;241m.\u001b[39mfrom_iterable(\n\u001b[1;32m    360\u001b[0m         make_args(path, \u001b[38;5;28mlist\u001b[39m(opts), arg_type, i \u001b[38;5;241m+\u001b[39m \u001b[38;5;241m1\u001b[39m)\n\u001b[1;32m    361\u001b[0m         \u001b[38;5;28;01mfor\u001b[39;00m i, (path, opts) \u001b[38;5;129;01min\u001b[39;00m \u001b[38;5;28menumerate\u001b[39m(path_opts) \u001b[38;5;28;01mif\u001b[39;00m path)\n\u001b[1;32m    363\u001b[0m \u001b[38;5;28mself\u001b[39m\u001b[38;5;241m.\u001b[39mwrite_debug(\u001b[38;5;124mf\u001b[39m\u001b[38;5;124m'\u001b[39m\u001b[38;5;124mffmpeg command line: \u001b[39m\u001b[38;5;132;01m{\u001b[39;00mshell_quote(cmd)\u001b[38;5;132;01m}\u001b[39;00m\u001b[38;5;124m'\u001b[39m)\n\u001b[0;32m--> 364\u001b[0m _, stderr, returncode \u001b[38;5;241m=\u001b[39m \u001b[43mPopen\u001b[49m\u001b[38;5;241;43m.\u001b[39;49m\u001b[43mrun\u001b[49m\u001b[43m(\u001b[49m\n\u001b[1;32m    365\u001b[0m \u001b[43m    \u001b[49m\u001b[43mcmd\u001b[49m\u001b[43m,\u001b[49m\u001b[43m \u001b[49m\u001b[43mtext\u001b[49m\u001b[38;5;241;43m=\u001b[39;49m\u001b[38;5;28;43;01mTrue\u001b[39;49;00m\u001b[43m,\u001b[49m\u001b[43m \u001b[49m\u001b[43mstdout\u001b[49m\u001b[38;5;241;43m=\u001b[39;49m\u001b[43msubprocess\u001b[49m\u001b[38;5;241;43m.\u001b[39;49m\u001b[43mPIPE\u001b[49m\u001b[43m,\u001b[49m\u001b[43m \u001b[49m\u001b[43mstderr\u001b[49m\u001b[38;5;241;43m=\u001b[39;49m\u001b[43msubprocess\u001b[49m\u001b[38;5;241;43m.\u001b[39;49m\u001b[43mPIPE\u001b[49m\u001b[43m,\u001b[49m\u001b[43m \u001b[49m\u001b[43mstdin\u001b[49m\u001b[38;5;241;43m=\u001b[39;49m\u001b[43msubprocess\u001b[49m\u001b[38;5;241;43m.\u001b[39;49m\u001b[43mPIPE\u001b[49m\u001b[43m)\u001b[49m\n\u001b[1;32m    366\u001b[0m \u001b[38;5;28;01mif\u001b[39;00m returncode \u001b[38;5;129;01mnot\u001b[39;00m \u001b[38;5;129;01min\u001b[39;00m variadic(expected_retcodes):\n\u001b[1;32m    367\u001b[0m     \u001b[38;5;28mself\u001b[39m\u001b[38;5;241m.\u001b[39mwrite_debug(stderr)\n",
      "File \u001b[0;32m~/Python/VENVS/jupyter310/lib/python3.10/site-packages/yt_dlp/utils/_utils.py:869\u001b[0m, in \u001b[0;36mPopen.run\u001b[0;34m(cls, timeout, *args, **kwargs)\u001b[0m\n\u001b[1;32m    867\u001b[0m \u001b[38;5;28;01mwith\u001b[39;00m \u001b[38;5;28mcls\u001b[39m(\u001b[38;5;241m*\u001b[39margs, \u001b[38;5;241m*\u001b[39m\u001b[38;5;241m*\u001b[39mkwargs) \u001b[38;5;28;01mas\u001b[39;00m proc:\n\u001b[1;32m    868\u001b[0m     default \u001b[38;5;241m=\u001b[39m \u001b[38;5;124m'\u001b[39m\u001b[38;5;124m'\u001b[39m \u001b[38;5;28;01mif\u001b[39;00m proc\u001b[38;5;241m.\u001b[39m__text_mode \u001b[38;5;28;01melse\u001b[39;00m \u001b[38;5;124mb\u001b[39m\u001b[38;5;124m'\u001b[39m\u001b[38;5;124m'\u001b[39m\n\u001b[0;32m--> 869\u001b[0m     stdout, stderr \u001b[38;5;241m=\u001b[39m \u001b[43mproc\u001b[49m\u001b[38;5;241;43m.\u001b[39;49m\u001b[43mcommunicate_or_kill\u001b[49m\u001b[43m(\u001b[49m\u001b[43mtimeout\u001b[49m\u001b[38;5;241;43m=\u001b[39;49m\u001b[43mtimeout\u001b[49m\u001b[43m)\u001b[49m\n\u001b[1;32m    870\u001b[0m     \u001b[38;5;28;01mreturn\u001b[39;00m stdout \u001b[38;5;129;01mor\u001b[39;00m default, stderr \u001b[38;5;129;01mor\u001b[39;00m default, proc\u001b[38;5;241m.\u001b[39mreturncode\n",
      "File \u001b[0;32m~/Python/VENVS/jupyter310/lib/python3.10/site-packages/yt_dlp/utils/_utils.py:855\u001b[0m, in \u001b[0;36mPopen.communicate_or_kill\u001b[0;34m(self, *args, **kwargs)\u001b[0m\n\u001b[1;32m    853\u001b[0m \u001b[38;5;28;01mdef\u001b[39;00m \u001b[38;5;21mcommunicate_or_kill\u001b[39m(\u001b[38;5;28mself\u001b[39m, \u001b[38;5;241m*\u001b[39margs, \u001b[38;5;241m*\u001b[39m\u001b[38;5;241m*\u001b[39mkwargs):\n\u001b[1;32m    854\u001b[0m     \u001b[38;5;28;01mtry\u001b[39;00m:\n\u001b[0;32m--> 855\u001b[0m         \u001b[38;5;28;01mreturn\u001b[39;00m \u001b[38;5;28;43mself\u001b[39;49m\u001b[38;5;241;43m.\u001b[39;49m\u001b[43mcommunicate\u001b[49m\u001b[43m(\u001b[49m\u001b[38;5;241;43m*\u001b[39;49m\u001b[43margs\u001b[49m\u001b[43m,\u001b[49m\u001b[43m \u001b[49m\u001b[38;5;241;43m*\u001b[39;49m\u001b[38;5;241;43m*\u001b[39;49m\u001b[43mkwargs\u001b[49m\u001b[43m)\u001b[49m\n\u001b[1;32m    856\u001b[0m     \u001b[38;5;28;01mexcept\u001b[39;00m \u001b[38;5;167;01mBaseException\u001b[39;00m:  \u001b[38;5;66;03m# Including KeyboardInterrupt\u001b[39;00m\n\u001b[1;32m    857\u001b[0m         \u001b[38;5;28mself\u001b[39m\u001b[38;5;241m.\u001b[39mkill(timeout\u001b[38;5;241m=\u001b[39m\u001b[38;5;28;01mNone\u001b[39;00m)\n",
      "File \u001b[0;32m/usr/lib/python3.10/subprocess.py:1154\u001b[0m, in \u001b[0;36mPopen.communicate\u001b[0;34m(self, input, timeout)\u001b[0m\n\u001b[1;32m   1151\u001b[0m     endtime \u001b[38;5;241m=\u001b[39m \u001b[38;5;28;01mNone\u001b[39;00m\n\u001b[1;32m   1153\u001b[0m \u001b[38;5;28;01mtry\u001b[39;00m:\n\u001b[0;32m-> 1154\u001b[0m     stdout, stderr \u001b[38;5;241m=\u001b[39m \u001b[38;5;28;43mself\u001b[39;49m\u001b[38;5;241;43m.\u001b[39;49m\u001b[43m_communicate\u001b[49m\u001b[43m(\u001b[49m\u001b[38;5;28;43minput\u001b[39;49m\u001b[43m,\u001b[49m\u001b[43m \u001b[49m\u001b[43mendtime\u001b[49m\u001b[43m,\u001b[49m\u001b[43m \u001b[49m\u001b[43mtimeout\u001b[49m\u001b[43m)\u001b[49m\n\u001b[1;32m   1155\u001b[0m \u001b[38;5;28;01mexcept\u001b[39;00m \u001b[38;5;167;01mKeyboardInterrupt\u001b[39;00m:\n\u001b[1;32m   1156\u001b[0m     \u001b[38;5;66;03m# https://bugs.python.org/issue25942\u001b[39;00m\n\u001b[1;32m   1157\u001b[0m     \u001b[38;5;66;03m# See the detailed comment in .wait().\u001b[39;00m\n\u001b[1;32m   1158\u001b[0m     \u001b[38;5;28;01mif\u001b[39;00m timeout \u001b[38;5;129;01mis\u001b[39;00m \u001b[38;5;129;01mnot\u001b[39;00m \u001b[38;5;28;01mNone\u001b[39;00m:\n",
      "File \u001b[0;32m/usr/lib/python3.10/subprocess.py:2021\u001b[0m, in \u001b[0;36mPopen._communicate\u001b[0;34m(self, input, endtime, orig_timeout)\u001b[0m\n\u001b[1;32m   2014\u001b[0m     \u001b[38;5;28mself\u001b[39m\u001b[38;5;241m.\u001b[39m_check_timeout(endtime, orig_timeout,\n\u001b[1;32m   2015\u001b[0m                         stdout, stderr,\n\u001b[1;32m   2016\u001b[0m                         skip_check_and_raise\u001b[38;5;241m=\u001b[39m\u001b[38;5;28;01mTrue\u001b[39;00m)\n\u001b[1;32m   2017\u001b[0m     \u001b[38;5;28;01mraise\u001b[39;00m \u001b[38;5;167;01mRuntimeError\u001b[39;00m(  \u001b[38;5;66;03m# Impossible :)\u001b[39;00m\n\u001b[1;32m   2018\u001b[0m         \u001b[38;5;124m'\u001b[39m\u001b[38;5;124m_check_timeout(..., skip_check_and_raise=True) \u001b[39m\u001b[38;5;124m'\u001b[39m\n\u001b[1;32m   2019\u001b[0m         \u001b[38;5;124m'\u001b[39m\u001b[38;5;124mfailed to raise TimeoutExpired.\u001b[39m\u001b[38;5;124m'\u001b[39m)\n\u001b[0;32m-> 2021\u001b[0m ready \u001b[38;5;241m=\u001b[39m \u001b[43mselector\u001b[49m\u001b[38;5;241;43m.\u001b[39;49m\u001b[43mselect\u001b[49m\u001b[43m(\u001b[49m\u001b[43mtimeout\u001b[49m\u001b[43m)\u001b[49m\n\u001b[1;32m   2022\u001b[0m \u001b[38;5;28mself\u001b[39m\u001b[38;5;241m.\u001b[39m_check_timeout(endtime, orig_timeout, stdout, stderr)\n\u001b[1;32m   2024\u001b[0m \u001b[38;5;66;03m# XXX Rewrite these to use non-blocking I/O on the file\u001b[39;00m\n\u001b[1;32m   2025\u001b[0m \u001b[38;5;66;03m# objects; they are no longer using C stdio!\u001b[39;00m\n",
      "File \u001b[0;32m/usr/lib/python3.10/selectors.py:416\u001b[0m, in \u001b[0;36m_PollLikeSelector.select\u001b[0;34m(self, timeout)\u001b[0m\n\u001b[1;32m    414\u001b[0m ready \u001b[38;5;241m=\u001b[39m []\n\u001b[1;32m    415\u001b[0m \u001b[38;5;28;01mtry\u001b[39;00m:\n\u001b[0;32m--> 416\u001b[0m     fd_event_list \u001b[38;5;241m=\u001b[39m \u001b[38;5;28;43mself\u001b[39;49m\u001b[38;5;241;43m.\u001b[39;49m\u001b[43m_selector\u001b[49m\u001b[38;5;241;43m.\u001b[39;49m\u001b[43mpoll\u001b[49m\u001b[43m(\u001b[49m\u001b[43mtimeout\u001b[49m\u001b[43m)\u001b[49m\n\u001b[1;32m    417\u001b[0m \u001b[38;5;28;01mexcept\u001b[39;00m \u001b[38;5;167;01mInterruptedError\u001b[39;00m:\n\u001b[1;32m    418\u001b[0m     \u001b[38;5;28;01mreturn\u001b[39;00m ready\n",
      "\u001b[0;31mKeyboardInterrupt\u001b[0m: "
     ]
    }
   ],
   "source": [
    "final_download_1_uri = '5yMkxmCpYEinULq68rAj53'\n",
    "\n",
    "spotify_manager = SpotifyManager(client_id=os.environ.get(\"client_id\"), client_secret=os.environ.get(\"client_secret\"))\n",
    "\n",
    "playlist = Playlist(uri=final_download_1_uri, spotify_manager=spotify_manager)\n",
    "\n",
    "playlist.load_songs(download_when_no_lyrics=True)"
   ]
  },
  {
   "cell_type": "code",
   "execution_count": 6,
   "id": "1303c1d1-49ab-4138-9eee-686bcf4ea8dc",
   "metadata": {},
   "outputs": [
    {
     "data": {
      "text/plain": [
       "'/home/krystian/Python/Jupyter-projects/audio_sentiment_clasifier'"
      ]
     },
     "execution_count": 6,
     "metadata": {},
     "output_type": "execute_result"
    }
   ],
   "source": [
    "import os\n",
    "\"/\".join(os.path.abspath(os.path.realpath(__name__)).split(\"/\")[:-1])"
   ]
  },
  {
   "cell_type": "code",
   "execution_count": 97,
   "id": "739719b1-3fc5-4cf2-9d7f-e6351fb5d513",
   "metadata": {},
   "outputs": [
    {
     "name": "stderr",
     "output_type": "stream",
     "text": [
      "/home/krystian/Python/Jupyter-projects/audio_sentiment_clasifier/classes/utils.py:18: FutureWarning: The behavior of DataFrame concatenation with empty or all-NA entries is deprecated. In a future version, this will no longer exclude empty or all-NA columns when determining the result dtypes. To retain the old behavior, exclude the relevant entries before the concat operation.\n",
      "  combined_df = pd.concat(all_dataframes, ignore_index=True)\n"
     ]
    }
   ],
   "source": [
    "playlists_dir = 'audio_sentiment_classifier/playlists'\n",
    "playlists_dir = os.path.join(\"/\".join(os.path.abspath(os.path.realpath(__name__)).split(\"/\")[:-1]), \"playlists\")\n",
    "df = gather_data_from_folders(playlists_dir)"
   ]
  },
  {
   "cell_type": "code",
   "execution_count": 98,
   "id": "46660b82-0408-4a5c-b2f4-df905d27c1a1",
   "metadata": {},
   "outputs": [
    {
     "data": {
      "text/plain": [
       "Index(['title', 'artist', 'mp3_path', 'lyrics', 'popularity', 'explicit',\n",
       "       'album_release_year', 'duration_ms', 'danceability', 'energy', 'key',\n",
       "       'loudness', 'mode', 'speechiness', 'acousticness', 'instrumentalness',\n",
       "       'liveness', 'valence', 'tempo', 'time_signature', 'mfcc_1', 'mfcc_2',\n",
       "       'mfcc_3', 'mfcc_4', 'mfcc_5', 'mfcc_6', 'mfcc_7', 'mfcc_8', 'mfcc_9',\n",
       "       'mfcc_10', 'mfcc_11', 'mfcc_12', 'mfcc_13', 'chroma_1', 'chroma_2',\n",
       "       'chroma_3', 'chroma_4', 'chroma_5', 'chroma_6', 'chroma_7', 'chroma_8',\n",
       "       'chroma_9', 'chroma_10', 'chroma_11', 'chroma_12',\n",
       "       'spectral_contrast_1', 'spectral_contrast_2', 'spectral_contrast_3',\n",
       "       'spectral_contrast_4', 'spectral_contrast_5', 'spectral_contrast_6',\n",
       "       'spectral_contrast_7', 'tempo_extracted', 'zcr'],\n",
       "      dtype='object')"
      ]
     },
     "execution_count": 98,
     "metadata": {},
     "output_type": "execute_result"
    }
   ],
   "source": [
    "df.columns"
   ]
  },
  {
   "cell_type": "code",
   "execution_count": 99,
   "id": "6fb4b0e9-08c7-4f77-b17e-21aaf3444c69",
   "metadata": {},
   "outputs": [
    {
     "data": {
      "text/html": [
       "<div>\n",
       "<style scoped>\n",
       "    .dataframe tbody tr th:only-of-type {\n",
       "        vertical-align: middle;\n",
       "    }\n",
       "\n",
       "    .dataframe tbody tr th {\n",
       "        vertical-align: top;\n",
       "    }\n",
       "\n",
       "    .dataframe thead th {\n",
       "        text-align: right;\n",
       "    }\n",
       "</style>\n",
       "<table border=\"1\" class=\"dataframe\">\n",
       "  <thead>\n",
       "    <tr style=\"text-align: right;\">\n",
       "      <th></th>\n",
       "      <th>title</th>\n",
       "      <th>artist</th>\n",
       "      <th>mp3_path</th>\n",
       "      <th>lyrics</th>\n",
       "      <th>popularity</th>\n",
       "      <th>explicit</th>\n",
       "      <th>album_release_year</th>\n",
       "      <th>duration_ms</th>\n",
       "      <th>danceability</th>\n",
       "      <th>energy</th>\n",
       "      <th>...</th>\n",
       "      <th>chroma_12</th>\n",
       "      <th>spectral_contrast_1</th>\n",
       "      <th>spectral_contrast_2</th>\n",
       "      <th>spectral_contrast_3</th>\n",
       "      <th>spectral_contrast_4</th>\n",
       "      <th>spectral_contrast_5</th>\n",
       "      <th>spectral_contrast_6</th>\n",
       "      <th>spectral_contrast_7</th>\n",
       "      <th>tempo_extracted</th>\n",
       "      <th>zcr</th>\n",
       "    </tr>\n",
       "  </thead>\n",
       "  <tbody>\n",
       "    <tr>\n",
       "      <th>0</th>\n",
       "      <td>broken</td>\n",
       "      <td>jake bugg</td>\n",
       "      <td>/home/krystian/Python/Jupyter-projects/audio_s...</td>\n",
       "      <td>I'm waiting for you\\nFor I'm broken down\\nComi...</td>\n",
       "      <td>49.0</td>\n",
       "      <td>False</td>\n",
       "      <td>2012.0</td>\n",
       "      <td>247013.0</td>\n",
       "      <td>0.439</td>\n",
       "      <td>0.442</td>\n",
       "      <td>...</td>\n",
       "      <td>0.401809</td>\n",
       "      <td>14.913025</td>\n",
       "      <td>12.014193</td>\n",
       "      <td>15.422249</td>\n",
       "      <td>18.371978</td>\n",
       "      <td>19.357034</td>\n",
       "      <td>17.662145</td>\n",
       "      <td>53.879258</td>\n",
       "      <td>119.680851</td>\n",
       "      <td>0.037483</td>\n",
       "    </tr>\n",
       "    <tr>\n",
       "      <th>1</th>\n",
       "      <td>nightcall</td>\n",
       "      <td>kavinsky</td>\n",
       "      <td>/home/krystian/Python/Jupyter-projects/audio_s...</td>\n",
       "      <td>I'm giving you a night call to tell you how I ...</td>\n",
       "      <td>NaN</td>\n",
       "      <td>False</td>\n",
       "      <td>2010.0</td>\n",
       "      <td>258413.0</td>\n",
       "      <td>0.532</td>\n",
       "      <td>0.874</td>\n",
       "      <td>...</td>\n",
       "      <td>0.561913</td>\n",
       "      <td>15.125610</td>\n",
       "      <td>10.833546</td>\n",
       "      <td>15.667300</td>\n",
       "      <td>16.578461</td>\n",
       "      <td>17.962099</td>\n",
       "      <td>20.608177</td>\n",
       "      <td>54.230921</td>\n",
       "      <td>90.725806</td>\n",
       "      <td>0.050708</td>\n",
       "    </tr>\n",
       "    <tr>\n",
       "      <th>2</th>\n",
       "      <td>if the world was ending (feat. julia michaels)</td>\n",
       "      <td>jp saxe</td>\n",
       "      <td>/home/krystian/Python/Jupyter-projects/audio_s...</td>\n",
       "      <td>[Verse 1: JP Saxe]\\nI was distracted and in tr...</td>\n",
       "      <td>74.0</td>\n",
       "      <td>False</td>\n",
       "      <td>2021.0</td>\n",
       "      <td>209493.0</td>\n",
       "      <td>0.429</td>\n",
       "      <td>0.486</td>\n",
       "      <td>...</td>\n",
       "      <td>0.423409</td>\n",
       "      <td>15.909345</td>\n",
       "      <td>10.802154</td>\n",
       "      <td>15.681567</td>\n",
       "      <td>18.444189</td>\n",
       "      <td>20.083481</td>\n",
       "      <td>17.797513</td>\n",
       "      <td>53.407782</td>\n",
       "      <td>127.840909</td>\n",
       "      <td>0.042070</td>\n",
       "    </tr>\n",
       "    <tr>\n",
       "      <th>3</th>\n",
       "      <td>blinding lights</td>\n",
       "      <td>the weeknd</td>\n",
       "      <td>/home/krystian/Python/Jupyter-projects/audio_s...</td>\n",
       "      <td>[Intro]\\nYeah\\n[Verse 1]\\nI've been tryna call...</td>\n",
       "      <td>88.0</td>\n",
       "      <td>False</td>\n",
       "      <td>2020.0</td>\n",
       "      <td>200040.0</td>\n",
       "      <td>0.513</td>\n",
       "      <td>0.730</td>\n",
       "      <td>...</td>\n",
       "      <td>0.446031</td>\n",
       "      <td>12.333550</td>\n",
       "      <td>9.655628</td>\n",
       "      <td>12.945506</td>\n",
       "      <td>15.531639</td>\n",
       "      <td>16.991809</td>\n",
       "      <td>16.650444</td>\n",
       "      <td>52.835146</td>\n",
       "      <td>114.795918</td>\n",
       "      <td>0.039233</td>\n",
       "    </tr>\n",
       "    <tr>\n",
       "      <th>4</th>\n",
       "      <td>non è vero mai (duetto con alex britti)</td>\n",
       "      <td>bianca atzei</td>\n",
       "      <td>/home/krystian/Python/Jupyter-projects/audio_s...</td>\n",
       "      <td>Nonostante stanotte\\nNonostante la filosofia\\n...</td>\n",
       "      <td>NaN</td>\n",
       "      <td>False</td>\n",
       "      <td>2015.0</td>\n",
       "      <td>224160.0</td>\n",
       "      <td>0.620</td>\n",
       "      <td>0.508</td>\n",
       "      <td>...</td>\n",
       "      <td>0.440648</td>\n",
       "      <td>15.166154</td>\n",
       "      <td>10.127439</td>\n",
       "      <td>14.659708</td>\n",
       "      <td>17.741508</td>\n",
       "      <td>18.358543</td>\n",
       "      <td>17.558921</td>\n",
       "      <td>53.729091</td>\n",
       "      <td>140.625000</td>\n",
       "      <td>0.046656</td>\n",
       "    </tr>\n",
       "    <tr>\n",
       "      <th>...</th>\n",
       "      <td>...</td>\n",
       "      <td>...</td>\n",
       "      <td>...</td>\n",
       "      <td>...</td>\n",
       "      <td>...</td>\n",
       "      <td>...</td>\n",
       "      <td>...</td>\n",
       "      <td>...</td>\n",
       "      <td>...</td>\n",
       "      <td>...</td>\n",
       "      <td>...</td>\n",
       "      <td>...</td>\n",
       "      <td>...</td>\n",
       "      <td>...</td>\n",
       "      <td>...</td>\n",
       "      <td>...</td>\n",
       "      <td>...</td>\n",
       "      <td>...</td>\n",
       "      <td>...</td>\n",
       "      <td>...</td>\n",
       "      <td>...</td>\n",
       "    </tr>\n",
       "    <tr>\n",
       "      <th>371</th>\n",
       "      <td>never need me</td>\n",
       "      <td>rachel chinouriri</td>\n",
       "      <td>/home/krystian/Python/Jupyter-projects/audio_s...</td>\n",
       "      <td>[Intro]\\nPa-da, pa, pa-da, pa\\nPa-da, pa, pa-d...</td>\n",
       "      <td>NaN</td>\n",
       "      <td>NaN</td>\n",
       "      <td>NaN</td>\n",
       "      <td>NaN</td>\n",
       "      <td>0.569</td>\n",
       "      <td>0.792</td>\n",
       "      <td>...</td>\n",
       "      <td>0.436881</td>\n",
       "      <td>14.864907</td>\n",
       "      <td>10.608115</td>\n",
       "      <td>15.132807</td>\n",
       "      <td>16.339756</td>\n",
       "      <td>17.731033</td>\n",
       "      <td>15.779626</td>\n",
       "      <td>55.914131</td>\n",
       "      <td>152.027027</td>\n",
       "      <td>0.056947</td>\n",
       "    </tr>\n",
       "    <tr>\n",
       "      <th>372</th>\n",
       "      <td>i woke up</td>\n",
       "      <td>maryjo</td>\n",
       "      <td>/home/krystian/Python/Jupyter-projects/audio_s...</td>\n",
       "      <td>No lyrics found</td>\n",
       "      <td>NaN</td>\n",
       "      <td>NaN</td>\n",
       "      <td>NaN</td>\n",
       "      <td>NaN</td>\n",
       "      <td>0.590</td>\n",
       "      <td>0.781</td>\n",
       "      <td>...</td>\n",
       "      <td>0.404796</td>\n",
       "      <td>16.277876</td>\n",
       "      <td>10.773653</td>\n",
       "      <td>14.545698</td>\n",
       "      <td>17.046044</td>\n",
       "      <td>18.067120</td>\n",
       "      <td>17.306186</td>\n",
       "      <td>55.389924</td>\n",
       "      <td>140.625000</td>\n",
       "      <td>0.061095</td>\n",
       "    </tr>\n",
       "    <tr>\n",
       "      <th>373</th>\n",
       "      <td>when the music stops</td>\n",
       "      <td>jxdn</td>\n",
       "      <td>/home/krystian/Python/Jupyter-projects/audio_s...</td>\n",
       "      <td>[Verse 1]\\nOh, darlin', \\nplease don’t worry\\n...</td>\n",
       "      <td>NaN</td>\n",
       "      <td>NaN</td>\n",
       "      <td>NaN</td>\n",
       "      <td>NaN</td>\n",
       "      <td>0.671</td>\n",
       "      <td>0.420</td>\n",
       "      <td>...</td>\n",
       "      <td>0.363835</td>\n",
       "      <td>16.985616</td>\n",
       "      <td>13.027159</td>\n",
       "      <td>15.649308</td>\n",
       "      <td>16.786368</td>\n",
       "      <td>18.469222</td>\n",
       "      <td>18.593661</td>\n",
       "      <td>53.488376</td>\n",
       "      <td>108.173077</td>\n",
       "      <td>0.034198</td>\n",
       "    </tr>\n",
       "    <tr>\n",
       "      <th>374</th>\n",
       "      <td>probably</td>\n",
       "      <td>andra day</td>\n",
       "      <td>/home/krystian/Python/Jupyter-projects/audio_s...</td>\n",
       "      <td>No lyrics found</td>\n",
       "      <td>NaN</td>\n",
       "      <td>NaN</td>\n",
       "      <td>NaN</td>\n",
       "      <td>NaN</td>\n",
       "      <td>0.511</td>\n",
       "      <td>0.415</td>\n",
       "      <td>...</td>\n",
       "      <td>0.421435</td>\n",
       "      <td>15.436956</td>\n",
       "      <td>11.449784</td>\n",
       "      <td>16.115147</td>\n",
       "      <td>19.143849</td>\n",
       "      <td>19.611450</td>\n",
       "      <td>20.096076</td>\n",
       "      <td>53.735185</td>\n",
       "      <td>122.282609</td>\n",
       "      <td>0.055758</td>\n",
       "    </tr>\n",
       "    <tr>\n",
       "      <th>375</th>\n",
       "      <td>i don’t wanna see you try</td>\n",
       "      <td>sam macpherson</td>\n",
       "      <td>/home/krystian/Python/Jupyter-projects/audio_s...</td>\n",
       "      <td>[Intro]\\n(One, two, three)\\n[Verse 1]\\nFed up ...</td>\n",
       "      <td>NaN</td>\n",
       "      <td>NaN</td>\n",
       "      <td>NaN</td>\n",
       "      <td>NaN</td>\n",
       "      <td>0.683</td>\n",
       "      <td>0.414</td>\n",
       "      <td>...</td>\n",
       "      <td>0.528983</td>\n",
       "      <td>16.536279</td>\n",
       "      <td>12.532343</td>\n",
       "      <td>14.943239</td>\n",
       "      <td>16.945232</td>\n",
       "      <td>18.713473</td>\n",
       "      <td>16.687731</td>\n",
       "      <td>54.007994</td>\n",
       "      <td>122.282609</td>\n",
       "      <td>0.041876</td>\n",
       "    </tr>\n",
       "  </tbody>\n",
       "</table>\n",
       "<p>376 rows × 54 columns</p>\n",
       "</div>"
      ],
      "text/plain": [
       "                                              title             artist  \\\n",
       "0                                            broken          jake bugg   \n",
       "1                                         nightcall           kavinsky   \n",
       "2    if the world was ending (feat. julia michaels)            jp saxe   \n",
       "3                                   blinding lights         the weeknd   \n",
       "4           non è vero mai (duetto con alex britti)       bianca atzei   \n",
       "..                                              ...                ...   \n",
       "371                                   never need me  rachel chinouriri   \n",
       "372                                       i woke up             maryjo   \n",
       "373                            when the music stops               jxdn   \n",
       "374                                        probably          andra day   \n",
       "375                       i don’t wanna see you try     sam macpherson   \n",
       "\n",
       "                                              mp3_path  \\\n",
       "0    /home/krystian/Python/Jupyter-projects/audio_s...   \n",
       "1    /home/krystian/Python/Jupyter-projects/audio_s...   \n",
       "2    /home/krystian/Python/Jupyter-projects/audio_s...   \n",
       "3    /home/krystian/Python/Jupyter-projects/audio_s...   \n",
       "4    /home/krystian/Python/Jupyter-projects/audio_s...   \n",
       "..                                                 ...   \n",
       "371  /home/krystian/Python/Jupyter-projects/audio_s...   \n",
       "372  /home/krystian/Python/Jupyter-projects/audio_s...   \n",
       "373  /home/krystian/Python/Jupyter-projects/audio_s...   \n",
       "374  /home/krystian/Python/Jupyter-projects/audio_s...   \n",
       "375  /home/krystian/Python/Jupyter-projects/audio_s...   \n",
       "\n",
       "                                                lyrics  popularity explicit  \\\n",
       "0    I'm waiting for you\\nFor I'm broken down\\nComi...        49.0    False   \n",
       "1    I'm giving you a night call to tell you how I ...         NaN    False   \n",
       "2    [Verse 1: JP Saxe]\\nI was distracted and in tr...        74.0    False   \n",
       "3    [Intro]\\nYeah\\n[Verse 1]\\nI've been tryna call...        88.0    False   \n",
       "4    Nonostante stanotte\\nNonostante la filosofia\\n...         NaN    False   \n",
       "..                                                 ...         ...      ...   \n",
       "371  [Intro]\\nPa-da, pa, pa-da, pa\\nPa-da, pa, pa-d...         NaN      NaN   \n",
       "372                                    No lyrics found         NaN      NaN   \n",
       "373  [Verse 1]\\nOh, darlin', \\nplease don’t worry\\n...         NaN      NaN   \n",
       "374                                    No lyrics found         NaN      NaN   \n",
       "375  [Intro]\\n(One, two, three)\\n[Verse 1]\\nFed up ...         NaN      NaN   \n",
       "\n",
       "     album_release_year  duration_ms  danceability  energy  ... chroma_12  \\\n",
       "0                2012.0     247013.0         0.439   0.442  ...  0.401809   \n",
       "1                2010.0     258413.0         0.532   0.874  ...  0.561913   \n",
       "2                2021.0     209493.0         0.429   0.486  ...  0.423409   \n",
       "3                2020.0     200040.0         0.513   0.730  ...  0.446031   \n",
       "4                2015.0     224160.0         0.620   0.508  ...  0.440648   \n",
       "..                  ...          ...           ...     ...  ...       ...   \n",
       "371                 NaN          NaN         0.569   0.792  ...  0.436881   \n",
       "372                 NaN          NaN         0.590   0.781  ...  0.404796   \n",
       "373                 NaN          NaN         0.671   0.420  ...  0.363835   \n",
       "374                 NaN          NaN         0.511   0.415  ...  0.421435   \n",
       "375                 NaN          NaN         0.683   0.414  ...  0.528983   \n",
       "\n",
       "     spectral_contrast_1 spectral_contrast_2  spectral_contrast_3  \\\n",
       "0              14.913025           12.014193            15.422249   \n",
       "1              15.125610           10.833546            15.667300   \n",
       "2              15.909345           10.802154            15.681567   \n",
       "3              12.333550            9.655628            12.945506   \n",
       "4              15.166154           10.127439            14.659708   \n",
       "..                   ...                 ...                  ...   \n",
       "371            14.864907           10.608115            15.132807   \n",
       "372            16.277876           10.773653            14.545698   \n",
       "373            16.985616           13.027159            15.649308   \n",
       "374            15.436956           11.449784            16.115147   \n",
       "375            16.536279           12.532343            14.943239   \n",
       "\n",
       "     spectral_contrast_4  spectral_contrast_5  spectral_contrast_6  \\\n",
       "0              18.371978            19.357034            17.662145   \n",
       "1              16.578461            17.962099            20.608177   \n",
       "2              18.444189            20.083481            17.797513   \n",
       "3              15.531639            16.991809            16.650444   \n",
       "4              17.741508            18.358543            17.558921   \n",
       "..                   ...                  ...                  ...   \n",
       "371            16.339756            17.731033            15.779626   \n",
       "372            17.046044            18.067120            17.306186   \n",
       "373            16.786368            18.469222            18.593661   \n",
       "374            19.143849            19.611450            20.096076   \n",
       "375            16.945232            18.713473            16.687731   \n",
       "\n",
       "     spectral_contrast_7  tempo_extracted       zcr  \n",
       "0              53.879258       119.680851  0.037483  \n",
       "1              54.230921        90.725806  0.050708  \n",
       "2              53.407782       127.840909  0.042070  \n",
       "3              52.835146       114.795918  0.039233  \n",
       "4              53.729091       140.625000  0.046656  \n",
       "..                   ...              ...       ...  \n",
       "371            55.914131       152.027027  0.056947  \n",
       "372            55.389924       140.625000  0.061095  \n",
       "373            53.488376       108.173077  0.034198  \n",
       "374            53.735185       122.282609  0.055758  \n",
       "375            54.007994       122.282609  0.041876  \n",
       "\n",
       "[376 rows x 54 columns]"
      ]
     },
     "execution_count": 99,
     "metadata": {},
     "output_type": "execute_result"
    }
   ],
   "source": [
    "df"
   ]
  },
  {
   "cell_type": "code",
   "execution_count": 112,
   "id": "b753fb5f-fb31-486a-95f9-2fb88d6b5ce2",
   "metadata": {},
   "outputs": [
    {
     "data": {
      "text/html": [
       "<div>\n",
       "<style scoped>\n",
       "    .dataframe tbody tr th:only-of-type {\n",
       "        vertical-align: middle;\n",
       "    }\n",
       "\n",
       "    .dataframe tbody tr th {\n",
       "        vertical-align: top;\n",
       "    }\n",
       "\n",
       "    .dataframe thead th {\n",
       "        text-align: right;\n",
       "    }\n",
       "</style>\n",
       "<table border=\"1\" class=\"dataframe\">\n",
       "  <thead>\n",
       "    <tr style=\"text-align: right;\">\n",
       "      <th></th>\n",
       "      <th>title</th>\n",
       "      <th>artist</th>\n",
       "      <th>mp3_path</th>\n",
       "      <th>lyrics</th>\n",
       "      <th>popularity</th>\n",
       "      <th>explicit</th>\n",
       "      <th>album_release_year</th>\n",
       "      <th>duration_ms</th>\n",
       "      <th>danceability</th>\n",
       "      <th>energy</th>\n",
       "      <th>...</th>\n",
       "      <th>chroma_11</th>\n",
       "      <th>chroma_12</th>\n",
       "      <th>spectral_contrast_1</th>\n",
       "      <th>spectral_contrast_2</th>\n",
       "      <th>spectral_contrast_3</th>\n",
       "      <th>spectral_contrast_4</th>\n",
       "      <th>spectral_contrast_5</th>\n",
       "      <th>spectral_contrast_7</th>\n",
       "      <th>tempo_extracted</th>\n",
       "      <th>zcr</th>\n",
       "    </tr>\n",
       "  </thead>\n",
       "  <tbody>\n",
       "    <tr>\n",
       "      <th>325</th>\n",
       "      <td>wonderwall</td>\n",
       "      <td>oasis</td>\n",
       "      <td>/home/krystian/Python/Jupyter-projects/audio_s...</td>\n",
       "      <td>Today is gonna be the day that they're gonna t...</td>\n",
       "      <td>NaN</td>\n",
       "      <td>NaN</td>\n",
       "      <td>NaN</td>\n",
       "      <td>NaN</td>\n",
       "      <td>0.410</td>\n",
       "      <td>0.854</td>\n",
       "      <td>...</td>\n",
       "      <td>0.508336</td>\n",
       "      <td>0.514931</td>\n",
       "      <td>15.949846</td>\n",
       "      <td>11.154728</td>\n",
       "      <td>13.818605</td>\n",
       "      <td>16.347308</td>\n",
       "      <td>18.242042</td>\n",
       "      <td>54.365581</td>\n",
       "      <td>117.187500</td>\n",
       "      <td>0.055929</td>\n",
       "    </tr>\n",
       "    <tr>\n",
       "      <th>57</th>\n",
       "      <td>this is the life</td>\n",
       "      <td>amy macdonald</td>\n",
       "      <td>/home/krystian/Python/Jupyter-projects/audio_s...</td>\n",
       "      <td>Oh, the wind whistles down\\nThe cold dark stre...</td>\n",
       "      <td>NaN</td>\n",
       "      <td>NaN</td>\n",
       "      <td>NaN</td>\n",
       "      <td>NaN</td>\n",
       "      <td>0.628</td>\n",
       "      <td>0.882</td>\n",
       "      <td>...</td>\n",
       "      <td>0.359880</td>\n",
       "      <td>0.446350</td>\n",
       "      <td>15.654432</td>\n",
       "      <td>10.967582</td>\n",
       "      <td>15.535059</td>\n",
       "      <td>17.032155</td>\n",
       "      <td>17.897275</td>\n",
       "      <td>53.048662</td>\n",
       "      <td>95.338983</td>\n",
       "      <td>0.053590</td>\n",
       "    </tr>\n",
       "  </tbody>\n",
       "</table>\n",
       "<p>2 rows × 53 columns</p>\n",
       "</div>"
      ],
      "text/plain": [
       "                title         artist  \\\n",
       "325        wonderwall          oasis   \n",
       "57   this is the life  amy macdonald   \n",
       "\n",
       "                                              mp3_path  \\\n",
       "325  /home/krystian/Python/Jupyter-projects/audio_s...   \n",
       "57   /home/krystian/Python/Jupyter-projects/audio_s...   \n",
       "\n",
       "                                                lyrics  popularity explicit  \\\n",
       "325  Today is gonna be the day that they're gonna t...         NaN      NaN   \n",
       "57   Oh, the wind whistles down\\nThe cold dark stre...         NaN      NaN   \n",
       "\n",
       "     album_release_year  duration_ms  danceability  energy  ... chroma_11  \\\n",
       "325                 NaN          NaN         0.410   0.854  ...  0.508336   \n",
       "57                  NaN          NaN         0.628   0.882  ...  0.359880   \n",
       "\n",
       "     chroma_12 spectral_contrast_1  spectral_contrast_2  spectral_contrast_3  \\\n",
       "325   0.514931           15.949846            11.154728            13.818605   \n",
       "57    0.446350           15.654432            10.967582            15.535059   \n",
       "\n",
       "     spectral_contrast_4  spectral_contrast_5  spectral_contrast_7  \\\n",
       "325            16.347308            18.242042            54.365581   \n",
       "57             17.032155            17.897275            53.048662   \n",
       "\n",
       "     tempo_extracted       zcr  \n",
       "325       117.187500  0.055929  \n",
       "57         95.338983  0.053590  \n",
       "\n",
       "[2 rows x 53 columns]"
      ]
     },
     "execution_count": 112,
     "metadata": {},
     "output_type": "execute_result"
    }
   ],
   "source": [
    "from classes.audio_features import AudioFeatureExtractor\n",
    "\n",
    "new_df = df.sample(2).drop('spectral_contrast_6', axis=1)\n",
    "new_df"
   ]
  },
  {
   "cell_type": "code",
   "execution_count": 113,
   "id": "2f1bbd2d-5bb1-4dd7-92b4-e621e7712bd0",
   "metadata": {},
   "outputs": [
    {
     "data": {
      "text/plain": [
       "Index(['title', 'artist', 'mp3_path', 'lyrics', 'popularity', 'explicit',\n",
       "       'album_release_year', 'duration_ms', 'danceability', 'energy', 'key',\n",
       "       'loudness', 'mode', 'speechiness', 'acousticness', 'instrumentalness',\n",
       "       'liveness', 'valence', 'tempo', 'time_signature', 'mfcc_1', 'mfcc_2',\n",
       "       'mfcc_3', 'mfcc_4', 'mfcc_5', 'mfcc_6', 'mfcc_7', 'mfcc_8', 'mfcc_9',\n",
       "       'mfcc_10', 'mfcc_11', 'mfcc_12', 'mfcc_13', 'chroma_1', 'chroma_2',\n",
       "       'chroma_3', 'chroma_4', 'chroma_5', 'chroma_6', 'chroma_7', 'chroma_8',\n",
       "       'chroma_9', 'chroma_10', 'chroma_11', 'chroma_12',\n",
       "       'spectral_contrast_1', 'spectral_contrast_2', 'spectral_contrast_3',\n",
       "       'spectral_contrast_4', 'spectral_contrast_5', 'spectral_contrast_7',\n",
       "       'tempo_extracted', 'zcr'],\n",
       "      dtype='object')"
      ]
     },
     "execution_count": 113,
     "metadata": {},
     "output_type": "execute_result"
    }
   ],
   "source": [
    "new_df.columns"
   ]
  },
  {
   "cell_type": "code",
   "execution_count": 114,
   "id": "1a4c184d-d1ba-4d71-8e65-414c2fd5aa3e",
   "metadata": {},
   "outputs": [
    {
     "data": {
      "application/vnd.jupyter.widget-view+json": {
       "model_id": "27ab4d77d1f845049c3b60b81f7f440d",
       "version_major": 2,
       "version_minor": 0
      },
      "text/plain": [
       "Extracting Audio Features:   0%|          | 0/2 [00:00<?, ?file/s]"
      ]
     },
     "metadata": {},
     "output_type": "display_data"
    }
   ],
   "source": [
    "ae = AudioFeatureExtractor()\n",
    "new_df = ae.add_audio_features(new_df)"
   ]
  },
  {
   "cell_type": "code",
   "execution_count": 115,
   "id": "8d07744b-4165-4c58-bedf-6d48ac2637ca",
   "metadata": {},
   "outputs": [
    {
     "data": {
      "text/html": [
       "<div>\n",
       "<style scoped>\n",
       "    .dataframe tbody tr th:only-of-type {\n",
       "        vertical-align: middle;\n",
       "    }\n",
       "\n",
       "    .dataframe tbody tr th {\n",
       "        vertical-align: top;\n",
       "    }\n",
       "\n",
       "    .dataframe thead th {\n",
       "        text-align: right;\n",
       "    }\n",
       "</style>\n",
       "<table border=\"1\" class=\"dataframe\">\n",
       "  <thead>\n",
       "    <tr style=\"text-align: right;\">\n",
       "      <th></th>\n",
       "      <th>title</th>\n",
       "      <th>artist</th>\n",
       "      <th>mp3_path</th>\n",
       "      <th>lyrics</th>\n",
       "      <th>popularity</th>\n",
       "      <th>explicit</th>\n",
       "      <th>album_release_year</th>\n",
       "      <th>duration_ms</th>\n",
       "      <th>danceability</th>\n",
       "      <th>energy</th>\n",
       "      <th>...</th>\n",
       "      <th>chroma_12</th>\n",
       "      <th>spectral_contrast_1</th>\n",
       "      <th>spectral_contrast_2</th>\n",
       "      <th>spectral_contrast_3</th>\n",
       "      <th>spectral_contrast_4</th>\n",
       "      <th>spectral_contrast_5</th>\n",
       "      <th>spectral_contrast_7</th>\n",
       "      <th>tempo_extracted</th>\n",
       "      <th>zcr</th>\n",
       "      <th>spectral_contrast_6</th>\n",
       "    </tr>\n",
       "  </thead>\n",
       "  <tbody>\n",
       "    <tr>\n",
       "      <th>0</th>\n",
       "      <td>wonderwall</td>\n",
       "      <td>oasis</td>\n",
       "      <td>/home/krystian/Python/Jupyter-projects/audio_s...</td>\n",
       "      <td>Today is gonna be the day that they're gonna t...</td>\n",
       "      <td>NaN</td>\n",
       "      <td>NaN</td>\n",
       "      <td>NaN</td>\n",
       "      <td>NaN</td>\n",
       "      <td>0.410</td>\n",
       "      <td>0.854</td>\n",
       "      <td>...</td>\n",
       "      <td>0.514931</td>\n",
       "      <td>15.949846</td>\n",
       "      <td>11.154728</td>\n",
       "      <td>13.818605</td>\n",
       "      <td>16.347308</td>\n",
       "      <td>18.242042</td>\n",
       "      <td>54.365581</td>\n",
       "      <td>117.187500</td>\n",
       "      <td>0.055929</td>\n",
       "      <td>17.041547</td>\n",
       "    </tr>\n",
       "    <tr>\n",
       "      <th>1</th>\n",
       "      <td>this is the life</td>\n",
       "      <td>amy macdonald</td>\n",
       "      <td>/home/krystian/Python/Jupyter-projects/audio_s...</td>\n",
       "      <td>Oh, the wind whistles down\\nThe cold dark stre...</td>\n",
       "      <td>NaN</td>\n",
       "      <td>NaN</td>\n",
       "      <td>NaN</td>\n",
       "      <td>NaN</td>\n",
       "      <td>0.628</td>\n",
       "      <td>0.882</td>\n",
       "      <td>...</td>\n",
       "      <td>0.446350</td>\n",
       "      <td>15.654432</td>\n",
       "      <td>10.967582</td>\n",
       "      <td>15.535059</td>\n",
       "      <td>17.032155</td>\n",
       "      <td>17.897275</td>\n",
       "      <td>53.048662</td>\n",
       "      <td>95.338983</td>\n",
       "      <td>0.053590</td>\n",
       "      <td>16.343269</td>\n",
       "    </tr>\n",
       "  </tbody>\n",
       "</table>\n",
       "<p>2 rows × 54 columns</p>\n",
       "</div>"
      ],
      "text/plain": [
       "              title         artist  \\\n",
       "0        wonderwall          oasis   \n",
       "1  this is the life  amy macdonald   \n",
       "\n",
       "                                            mp3_path  \\\n",
       "0  /home/krystian/Python/Jupyter-projects/audio_s...   \n",
       "1  /home/krystian/Python/Jupyter-projects/audio_s...   \n",
       "\n",
       "                                              lyrics  popularity explicit  \\\n",
       "0  Today is gonna be the day that they're gonna t...         NaN      NaN   \n",
       "1  Oh, the wind whistles down\\nThe cold dark stre...         NaN      NaN   \n",
       "\n",
       "   album_release_year  duration_ms  danceability  energy  ... chroma_12  \\\n",
       "0                 NaN          NaN         0.410   0.854  ...  0.514931   \n",
       "1                 NaN          NaN         0.628   0.882  ...  0.446350   \n",
       "\n",
       "   spectral_contrast_1 spectral_contrast_2  spectral_contrast_3  \\\n",
       "0            15.949846           11.154728            13.818605   \n",
       "1            15.654432           10.967582            15.535059   \n",
       "\n",
       "   spectral_contrast_4  spectral_contrast_5  spectral_contrast_7  \\\n",
       "0            16.347308            18.242042            54.365581   \n",
       "1            17.032155            17.897275            53.048662   \n",
       "\n",
       "   tempo_extracted       zcr spectral_contrast_6  \n",
       "0       117.187500  0.055929           17.041547  \n",
       "1        95.338983  0.053590           16.343269  \n",
       "\n",
       "[2 rows x 54 columns]"
      ]
     },
     "execution_count": 115,
     "metadata": {},
     "output_type": "execute_result"
    }
   ],
   "source": [
    "new_df"
   ]
  },
  {
   "cell_type": "code",
   "execution_count": 88,
   "id": "1b5a0bde-e7d6-4d1f-b99a-be369fd13141",
   "metadata": {},
   "outputs": [
    {
     "data": {
      "text/plain": [
       "Index(['title', 'artist', 'mp3_path', 'lyrics', 'popularity', 'explicit',\n",
       "       'album_release_year', 'duration_ms', 'danceability', 'energy', 'key',\n",
       "       'loudness', 'mode', 'speechiness', 'acousticness', 'instrumentalness',\n",
       "       'liveness', 'valence', 'tempo', 'time_signature', 'mfcc_1', 'mfcc_2',\n",
       "       'mfcc_3', 'mfcc_4', 'mfcc_5', 'mfcc_6', 'mfcc_7', 'mfcc_8', 'mfcc_9',\n",
       "       'mfcc_10', 'mfcc_11', 'mfcc_12', 'mfcc_13', 'chroma_1', 'chroma_2',\n",
       "       'chroma_3', 'chroma_4', 'chroma_5', 'chroma_6', 'chroma_7', 'chroma_8',\n",
       "       'chroma_9', 'chroma_10', 'chroma_11', 'chroma_12',\n",
       "       'spectral_contrast_1', 'spectral_contrast_2', 'spectral_contrast_3',\n",
       "       'spectral_contrast_4', 'spectral_contrast_5', 'spectral_contrast_7',\n",
       "       'tempo_extracted', 'zcr', 'spectral_contrast_6'],\n",
       "      dtype='object')"
      ]
     },
     "execution_count": 88,
     "metadata": {},
     "output_type": "execute_result"
    }
   ],
   "source": [
    "new_df.columns"
   ]
  },
  {
   "cell_type": "code",
   "execution_count": 89,
   "id": "0e510fff-8bd9-492c-9d9e-123602909c14",
   "metadata": {},
   "outputs": [
    {
     "data": {
      "text/plain": [
       "Index(['title', 'artist', 'mp3_path', 'lyrics', 'popularity', 'explicit',\n",
       "       'album_release_year', 'duration_ms', 'danceability', 'energy', 'key',\n",
       "       'loudness', 'mode', 'speechiness', 'acousticness', 'instrumentalness',\n",
       "       'liveness', 'valence', 'tempo', 'time_signature', 'mfcc_1', 'mfcc_2',\n",
       "       'mfcc_3', 'mfcc_4', 'mfcc_5', 'mfcc_6', 'mfcc_7', 'mfcc_8', 'mfcc_9',\n",
       "       'mfcc_10', 'mfcc_11', 'mfcc_12', 'mfcc_13', 'chroma_1', 'chroma_2',\n",
       "       'chroma_3', 'chroma_4', 'chroma_5', 'chroma_6', 'chroma_7', 'chroma_8',\n",
       "       'chroma_9', 'chroma_10', 'chroma_11', 'chroma_12',\n",
       "       'spectral_contrast_1', 'spectral_contrast_2', 'spectral_contrast_3',\n",
       "       'spectral_contrast_4', 'spectral_contrast_5', 'spectral_contrast_7',\n",
       "       'tempo_extracted', 'zcr', 'spectral_contrast_6'],\n",
       "      dtype='object')"
      ]
     },
     "execution_count": 89,
     "metadata": {},
     "output_type": "execute_result"
    }
   ],
   "source": [
    "new_df.columns"
   ]
  },
  {
   "cell_type": "code",
   "execution_count": null,
   "id": "a71adff1-1541-41e7-b7ac-e58f3a0bdc14",
   "metadata": {},
   "outputs": [],
   "source": []
  },
  {
   "cell_type": "code",
   "execution_count": null,
   "id": "69555e1a-35db-45da-8e0c-8e5d5458f966",
   "metadata": {},
   "outputs": [],
   "source": []
  },
  {
   "cell_type": "code",
   "execution_count": 2,
   "id": "93b0ef30-eb27-4458-b40a-4b4ec41cc80d",
   "metadata": {},
   "outputs": [],
   "source": [
    "import pandas as pd\n",
    "from ydata_profiling import ProfileReport\n",
    "\n",
    "# Read the data from a csv file \n",
    "# df = pd.read_csv(\"playlists/Death Stranding/Death Stranding.csv\")"
   ]
  },
  {
   "cell_type": "code",
   "execution_count": 32,
   "id": "9fe96186-c1d5-4496-a8e9-e39bf2b728fe",
   "metadata": {},
   "outputs": [],
   "source": [
    "# Generate the data profiling report \n",
    "# report = ProfileReport(df, title='My Data')\n",
    "# report.to_file(\"my_report.html\")"
   ]
  },
  {
   "cell_type": "code",
   "execution_count": 33,
   "id": "922c00e5-f8fe-451a-9c07-2dd2fdafab6d",
   "metadata": {},
   "outputs": [],
   "source": [
    "df.key = df.key.astype('category')\n",
    "df['mode'] = df['mode'].astype('category')\n",
    "df.time_signature = df.time_signature.astype('category')"
   ]
  },
  {
   "cell_type": "code",
   "execution_count": 34,
   "id": "85ee1452-ed5c-4669-81bf-b045d0863326",
   "metadata": {},
   "outputs": [],
   "source": [
    "cat_features = ['key', 'mode', 'time_signature']\n",
    "num_features = [\n",
    "    'energy', 'loudness', 'speechiness', 'acousticness', 'instrumentalness', 'liveness', 'valence', \n",
    "    'tempo', 'mfcc_1', 'mfcc_2', 'mfcc_3', 'mfcc_4', 'mfcc_5', 'mfcc_6', 'mfcc_7', 'mfcc_8', 'mfcc_9', 'mfcc_10', \n",
    "    'mfcc_11', 'mfcc_12', 'mfcc_13', 'chroma_1', 'chroma_2', 'chroma_3', 'chroma_4', 'chroma_5', 'chroma_6', 'chroma_7',\n",
    "    'chroma_8', 'chroma_9', 'chroma_10', 'chroma_11', 'chroma_12', 'spectral_contrast_1', 'spectral_contrast_2', \n",
    "    'spectral_contrast_3', 'spectral_contrast_4', 'spectral_contrast_5', 'spectral_contrast_6', 'spectral_contrast_7',\n",
    "    'tempo_extracted', 'zcr'\n",
    "]\n",
    "\n",
    "target = 'danceability'"
   ]
  },
  {
   "cell_type": "code",
   "execution_count": 35,
   "id": "85de7799-28db-4db6-9418-1720abf4507a",
   "metadata": {},
   "outputs": [
    {
     "data": {
      "image/png": "[encoded data removed]",
      "text/plain": [
       "<Figure size 1000x600 with 1 Axes>"
      ]
     },
     "metadata": {},
     "output_type": "display_data"
    },
    {
     "name": "stderr",
     "output_type": "stream",
     "text": [
      "/home/krystian/Python/VENVS/jupyter310/lib/python3.10/site-packages/sklearn/metrics/_regression.py:492: FutureWarning: 'squared' is deprecated in version 1.4 and will be removed in 1.6. To calculate the root mean squared error, use the function'root_mean_squared_error'.\n",
      "  warnings.warn(\n"
     ]
    },
    {
     "data": {
      "text/html": [
       "<div>\n",
       "<style scoped>\n",
       "    .dataframe tbody tr th:only-of-type {\n",
       "        vertical-align: middle;\n",
       "    }\n",
       "\n",
       "    .dataframe tbody tr th {\n",
       "        vertical-align: top;\n",
       "    }\n",
       "\n",
       "    .dataframe thead th {\n",
       "        text-align: right;\n",
       "    }\n",
       "</style>\n",
       "<table border=\"1\" class=\"dataframe\">\n",
       "  <thead>\n",
       "    <tr style=\"text-align: right;\">\n",
       "      <th></th>\n",
       "      <th>Metric</th>\n",
       "      <th>Value</th>\n",
       "    </tr>\n",
       "  </thead>\n",
       "  <tbody>\n",
       "    <tr>\n",
       "      <th>0</th>\n",
       "      <td>Mean Absolute Error</td>\n",
       "      <td>0.100385</td>\n",
       "    </tr>\n",
       "    <tr>\n",
       "      <th>1</th>\n",
       "      <td>Mean Squared Error</td>\n",
       "      <td>0.011895</td>\n",
       "    </tr>\n",
       "    <tr>\n",
       "      <th>2</th>\n",
       "      <td>Root Mean Squared Error</td>\n",
       "      <td>0.109065</td>\n",
       "    </tr>\n",
       "    <tr>\n",
       "      <th>3</th>\n",
       "      <td>R-squared</td>\n",
       "      <td>0.091813</td>\n",
       "    </tr>\n",
       "  </tbody>\n",
       "</table>\n",
       "</div>"
      ],
      "text/plain": [
       "                    Metric     Value\n",
       "0      Mean Absolute Error  0.100385\n",
       "1       Mean Squared Error  0.011895\n",
       "2  Root Mean Squared Error  0.109065\n",
       "3                R-squared  0.091813"
      ]
     },
     "execution_count": 35,
     "metadata": {},
     "output_type": "execute_result"
    }
   ],
   "source": [
    "import pandas as pd\n",
    "from sklearn.ensemble import RandomForestClassifier\n",
    "from sklearn.ensemble import RandomForestRegressor\n",
    "from sklearn.model_selection import train_test_split\n",
    "from sklearn.feature_selection import SelectKBest, f_classif\n",
    "from sklearn.preprocessing import StandardScaler\n",
    "from sklearn.pipeline import Pipeline\n",
    "from sklearn.metrics import accuracy_score, classification_report\n",
    "import matplotlib.pyplot as plt\n",
    "import numpy as np\n",
    "from sklearn.metrics import mean_absolute_error, mean_squared_error, r2_score\n",
    "\n",
    "def evaluate_regression_model(y_true, y_pred):\n",
    "    mae = mean_absolute_error(y_true, y_pred)\n",
    "    mse = mean_squared_error(y_true, y_pred)\n",
    "    rmse = mean_squared_error(y_true, y_pred, squared=False)\n",
    "    r2 = r2_score(y_true, y_pred)\n",
    "    \n",
    "    results = {\n",
    "        'Metric': ['Mean Absolute Error', 'Mean Squared Error', 'Root Mean Squared Error', 'R-squared'],\n",
    "        'Value': [mae, mse, rmse, r2]\n",
    "    }\n",
    "    \n",
    "    return pd.DataFrame(results)\n",
    "\n",
    "# Split the data into features and target\n",
    "X = df[num_features + cat_features]\n",
    "y = df[target]\n",
    "\n",
    "# Split the data into training and testing sets\n",
    "X_train, X_test, y_train, y_test = train_test_split(X, y, test_size=0.2, random_state=42)\n",
    "\n",
    "# Define a pipeline with feature selection, scaling, and model training\n",
    "pipeline = Pipeline([\n",
    "    ('feature_selection', SelectKBest(score_func=f_classif, k=20)),  # Select top 20 features\n",
    "    ('scaler', StandardScaler()),  # Standardize features by removing the mean and scaling to unit variance\n",
    "    # ('model', RandomForestClassifier(random_state=42))  # Random forest for classification\n",
    "    ('model', RandomForestRegressor(random_state=42))  # Random forest for classification\n",
    "])\n",
    "\n",
    "# Train the model\n",
    "pipeline.fit(X_train, y_train)\n",
    "\n",
    "# Make predictions\n",
    "y_pred = pipeline.predict(X_test)\n",
    "\n",
    "# Evaluate the model\n",
    "# accuracy = accuracy_score(y_test, y_pred)\n",
    "# print(f'Accuracy: {accuracy:.2f}')\n",
    "# print('Classification Report:')\n",
    "# print(classification_report(y_test, y_pred))\n",
    "\n",
    "# Get the trained RandomForestClassifier from the pipeline\n",
    "model = pipeline.named_steps['model']\n",
    "\n",
    "# Get feature importances from the model\n",
    "feature_importances = model.feature_importances_\n",
    "\n",
    "# Get the selected features after feature selection\n",
    "selected_features = pipeline.named_steps['feature_selection'].get_support(indices=True)\n",
    "\n",
    "# Get the names of the selected features\n",
    "selected_feature_names = np.array(num_features + cat_features)[selected_features]\n",
    "\n",
    "# Sort the feature importances in descending order for better visualization\n",
    "sorted_idx = np.argsort(feature_importances)[::-1]\n",
    "\n",
    "# Plot the feature importances\n",
    "plt.figure(figsize=(10, 6))\n",
    "plt.barh(selected_feature_names[sorted_idx], feature_importances[sorted_idx], color='b', align='center')\n",
    "plt.xlabel('Feature Importance')\n",
    "plt.title('Feature Importance for Audio Sentiment Prediction')\n",
    "plt.gca().invert_yaxis()  # Invert y-axis to display the most important feature on top\n",
    "plt.tight_layout()\n",
    "plt.show()\n",
    "\n",
    "evaluate_regression_model(y_test, y_pred)"
   ]
  },
  {
   "cell_type": "code",
   "execution_count": null,
   "id": "5042f38c-8bde-4209-bc8a-390bb4d78d66",
   "metadata": {},
   "outputs": [],
   "source": []
  }
 ],
 "metadata": {
  "kernelspec": {
   "display_name": "Python 3 (ipykernel)",
   "language": "python",
   "name": "python3"
  },
  "language_info": {
   "codemirror_mode": {
    "name": "ipython",
    "version": 3
   },
   "file_extension": ".py",
   "mimetype": "text/x-python",
   "name": "python",
   "nbconvert_exporter": "python",
   "pygments_lexer": "ipython3",
   "version": "3.10.12"
  }
 },
 "nbformat": 4,
 "nbformat_minor": 5
}
