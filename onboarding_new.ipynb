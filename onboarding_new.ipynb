{
 "cells": [
  {
   "cell_type": "code",
   "execution_count": 33,
   "id": "3aac368b-0904-4021-afa9-e5c9d9202bb0",
   "metadata": {},
   "outputs": [
    {
     "name": "stdout",
     "output_type": "stream",
     "text": [
      "The autoreload extension is already loaded. To reload it, use:\n",
      "  %reload_ext autoreload\n"
     ]
    }
   ],
   "source": [
    "%load_ext autoreload\n",
    "%autoreload 2\n",
    "    \n",
    "from classes.song import Song\n",
    "from classes.spotify_manager import SpotifyManager\n",
    "from classes.lyrics_manager import LyricsManager\n",
    "from dotenv import load_dotenv\n",
    "from classes.utils import gather_data_from_folders\n",
    "import pandas as pd\n",
    "import os\n",
    "import seaborn as sns\n",
    "from classes.text_features import TextFeatureExtractor, TfidfFeatureExtractor\n",
    "from classes.audio_features import AudioFeatureExtractor\n",
    "from classes.utils import find_songs_to_drop, clean_songs_to_drop\n",
    "from classes.feature_processor import FeatureProcessor\n",
    "from classes.constants import GENRE_MAPPING\n",
    "from classes.utils import reduce_genres_with_regex\n",
    "load_dotenv();"
   ]
  },
  {
   "cell_type": "markdown",
   "id": "f553cf19-b381-4ee4-9ed2-9ad32c44db43",
   "metadata": {},
   "source": [
    "# Loading the data"
   ]
  },
  {
   "cell_type": "code",
   "execution_count": 34,
   "id": "739719b1-3fc5-4cf2-9d7f-e6351fb5d513",
   "metadata": {},
   "outputs": [
    {
     "name": "stdout",
     "output_type": "stream",
     "text": [
      "\u001b[1;32mINFO: Loading CSV file: /home/krystian/Python/Jupyter-projects/thesis/songs_analysis/test/songs.csv\u001b[0m\n"
     ]
    }
   ],
   "source": [
    "playlists_dir = os.path.join(\"/\".join(os.path.abspath(os.path.realpath(__name__)).split(\"/\")[:-1]), \"test\")\n",
    "df = gather_data_from_folders(playlists_dir)"
   ]
  },
  {
   "cell_type": "code",
   "execution_count": 35,
   "id": "e1b1ddc7-97ac-49e0-bc59-61c4adf93ba6",
   "metadata": {},
   "outputs": [],
   "source": [
    "final_df_path = 'final_data.pkl'\n",
    "final_df = None\n",
    "if os.path.exists(final_df_path):\n",
    "    final_df = pd.read_pickle(final_df_path)\n",
    "    df = df[~df.id.isin(final_df.id)]"
   ]
  },
  {
   "cell_type": "code",
   "execution_count": 36,
   "id": "5017e452-8309-40f1-81c2-67106ab46776",
   "metadata": {},
   "outputs": [
    {
     "data": {
      "text/plain": [
       "(11, 24)"
      ]
     },
     "execution_count": 36,
     "metadata": {},
     "output_type": "execute_result"
    }
   ],
   "source": [
    "df.shape"
   ]
  },
  {
   "cell_type": "code",
   "execution_count": 37,
   "id": "dbf4a8f1-038b-48c7-a70d-65e9fd86280a",
   "metadata": {},
   "outputs": [
    {
     "data": {
      "application/vnd.jupyter.widget-view+json": {
       "model_id": "2e76c3e3514244639f17411dcaf4f628",
       "version_major": 2,
       "version_minor": 0
      },
      "text/plain": [
       "Processing Features:   0%|          | 0/11 [00:00<?, ?it/s]"
      ]
     },
     "metadata": {},
     "output_type": "display_data"
    }
   ],
   "source": [
    "extractor = TextFeatureExtractor()\n",
    "df = extractor.add_features(df, batch_size=3, text_column='lyrics')"
   ]
  },
  {
   "cell_type": "code",
   "execution_count": 38,
   "id": "98368e55-d385-42b5-866c-8176e475334f",
   "metadata": {},
   "outputs": [
    {
     "data": {
      "text/plain": [
       "(11, 238)"
      ]
     },
     "execution_count": 38,
     "metadata": {},
     "output_type": "execute_result"
    }
   ],
   "source": [
    "df.shape"
   ]
  },
  {
   "cell_type": "code",
   "execution_count": 39,
   "id": "bd61414c-e72c-4070-8beb-770d5d1010f2",
   "metadata": {},
   "outputs": [
    {
     "data": {
      "application/vnd.jupyter.widget-view+json": {
       "model_id": "522799cd9d9e4f3a9a6767d48a70e5ac",
       "version_major": 2,
       "version_minor": 0
      },
      "text/plain": [
       "Extracting Audio Features:   0%|          | 0/11 [00:00<?, ?file/s]"
      ]
     },
     "metadata": {},
     "output_type": "display_data"
    }
   ],
   "source": [
    "extractor = AudioFeatureExtractor()\n",
    "df = extractor.add_features(df, batch_size=3)"
   ]
  },
  {
   "cell_type": "code",
   "execution_count": 40,
   "id": "17b99196-5412-43f1-8d79-a97f38f97b91",
   "metadata": {},
   "outputs": [
    {
     "data": {
      "text/plain": [
       "(11, 272)"
      ]
     },
     "execution_count": 40,
     "metadata": {},
     "output_type": "execute_result"
    }
   ],
   "source": [
    "df.shape"
   ]
  },
  {
   "cell_type": "code",
   "execution_count": 41,
   "id": "71761def-2c82-476f-928d-fbf7220ac11a",
   "metadata": {},
   "outputs": [],
   "source": [
    "if df.shape[0] > 0:\n",
    "    if final_df is not None:\n",
    "        final_df = pd.concat([df, final_df], axis=0)\n",
    "    else:\n",
    "        final_df = df\n",
    "    final_df.to_pickle(final_df_path)"
   ]
  },
  {
   "cell_type": "code",
   "execution_count": 44,
   "id": "dc7992d6-1942-4cbc-b27d-9c081ef521b3",
   "metadata": {},
   "outputs": [
    {
     "data": {
      "text/plain": [
       "0     0.000000\n",
       "1     0.000000\n",
       "2     0.005051\n",
       "3     0.032544\n",
       "4     0.000000\n",
       "5     0.002611\n",
       "6     0.000000\n",
       "7     0.003125\n",
       "8     0.000000\n",
       "9     0.000000\n",
       "10    0.000000\n",
       "Name: empath_family, dtype: float64"
      ]
     },
     "execution_count": 44,
     "metadata": {},
     "output_type": "execute_result"
    }
   ],
   "source": [
    "pd.read_pickle(final_df_path).empath_family"
   ]
  },
  {
   "cell_type": "code",
   "execution_count": 140,
   "id": "c6026994-a049-482f-902c-04ac2265b01f",
   "metadata": {},
   "outputs": [],
   "source": [
    "def remove_letra_de_title(df):\n",
    "    def remove_prefix(row):\n",
    "        if isinstance(row['lyrics'], str) and row['lyrics'].startswith(\"letra de\"):\n",
    "            lyrics = row['lyrics'][len(\"letra de\"):].strip()\n",
    "            title_words = set(row['title'].split()) if isinstance(row['title'], str) else set()\n",
    "            lyrics_words = lyrics.split()\n",
    "            # Remove title words from the first 6 words of the lyrics\n",
    "            filtered_words = [word for i, word in enumerate(lyrics_words) if i >= 6 or word not in title_words]\n",
    "            return \" \".join(filtered_words)\n",
    "        return row['lyrics']\n",
    "\n",
    "    df['lyrics'] = df.apply(remove_prefix, axis=1)\n",
    "    return df\n",
    "\n",
    "df_onboarding = remove_letra_de_title(df_onboarding)"
   ]
  },
  {
   "cell_type": "code",
   "execution_count": 22,
   "id": "3ebea00b-8133-4356-b7c7-3240cbfc32a0",
   "metadata": {},
   "outputs": [],
   "source": [
    "df_onboarding['lyrics'] = df_onboarding.lyrics.apply(lambda x: TextFeatureExtractor.preprocess_text(x))"
   ]
  },
  {
   "cell_type": "code",
   "execution_count": 24,
   "id": "262fba97-c0c3-4742-a8bf-4b7e63575f37",
   "metadata": {},
   "outputs": [],
   "source": [
    "df_onboarding.to_pickle(os.path.join(\"datasets\", \"onboarding_step3.pkl\"))"
   ]
  },
  {
   "cell_type": "code",
   "execution_count": 74,
   "id": "e941f811-059f-4cae-ae31-652eee24857d",
   "metadata": {},
   "outputs": [
    {
     "data": {
      "application/vnd.jupyter.widget-view+json": {
       "model_id": "4fa6e7ec07294731a4d7d404e7b1e379",
       "version_major": 2,
       "version_minor": 0
      },
      "text/plain": [
       "Processing Batches:   0%|          | 0/1 [00:00<?, ?batch/s]"
      ]
     },
     "metadata": {},
     "output_type": "display_data"
    }
   ],
   "source": [
    "tf_processor = FeatureProcessor(\n",
    "    extractor=TextFeatureExtractor(),\n",
    "    input_file=os.path.join(\"datasets\", \"onboarding_step3.pkl\"),\n",
    "    output_file=os.path.join('datasets', \"onboarding_step4.pkl\"),\n",
    "    batch_size=100\n",
    ")\n",
    "tf_processor.process_batches()"
   ]
  },
  {
   "cell_type": "markdown",
   "id": "98721636-bad3-49af-a309-cb005e1fcb42",
   "metadata": {
    "jp-MarkdownHeadingCollapsed": true
   },
   "source": [
    "# Concatenating"
   ]
  },
  {
   "cell_type": "code",
   "execution_count": 86,
   "id": "fde50148-106b-476f-a45d-24f33d573b63",
   "metadata": {},
   "outputs": [
    {
     "data": {
      "text/plain": [
       "(2, 78)"
      ]
     },
     "execution_count": 86,
     "metadata": {},
     "output_type": "execute_result"
    }
   ],
   "source": [
    "df_onboarding = pd.read_pickle(os.path.join(\"datasets\", \"onboarding_step4.pkl\"))\n",
    "df_onboarding.shape"
   ]
  },
  {
   "cell_type": "code",
   "execution_count": 87,
   "id": "edb1b82a-8f92-46d6-a3e8-7e648168dbd9",
   "metadata": {},
   "outputs": [
    {
     "data": {
      "text/plain": [
       "(5888, 78)"
      ]
     },
     "execution_count": 87,
     "metadata": {},
     "output_type": "execute_result"
    }
   ],
   "source": [
    "df = pd.read_pickle(os.path.join(\"datasets\", \"final_data.pkl\"))\n",
    "df.drop([c for c in df.columns if c.startswith('tfidf_')], axis=1, inplace=True)\n",
    "df.shape"
   ]
  },
  {
   "cell_type": "code",
   "execution_count": 88,
   "id": "6098f1d2-d0fb-40eb-b63f-b255baa0c7b5",
   "metadata": {},
   "outputs": [
    {
     "data": {
      "text/plain": [
       "rock    2\n",
       "Name: genre, dtype: int64"
      ]
     },
     "execution_count": 88,
     "metadata": {},
     "output_type": "execute_result"
    }
   ],
   "source": [
    "df_onboarding['genre'] = df_onboarding['genres'].apply(lambda x: reduce_genres_with_regex(eval(x), GENRE_MAPPING))\n",
    "df_onboarding['genre'].value_counts()"
   ]
  },
  {
   "cell_type": "code",
   "execution_count": 89,
   "id": "5cb2f7ac-2e66-43ca-85f3-df984445a14d",
   "metadata": {},
   "outputs": [],
   "source": [
    "incorrect_genre_songs = df[(df.genre.isna()) | (df.genre == 'None')]"
   ]
  },
  {
   "cell_type": "code",
   "execution_count": 90,
   "id": "b6e62cf9-45a6-485f-8659-6c6cb87937b9",
   "metadata": {},
   "outputs": [
    {
     "name": "stdout",
     "output_type": "stream",
     "text": [
      "0 songs have incorrect genre and will be dropped\n"
     ]
    }
   ],
   "source": [
    "print(\"{} songs have incorrect genre and will be dropped\".format(incorrect_genre_songs.shape[0]))\n",
    "df = df[~df.id.isin(incorrect_genre_songs.id)]"
   ]
  },
  {
   "cell_type": "code",
   "execution_count": 91,
   "id": "34cdbac4-e9c9-423b-834b-90edc05a27a4",
   "metadata": {},
   "outputs": [],
   "source": [
    "df = pd.concat([df, df_onboarding], axis=0)"
   ]
  },
  {
   "cell_type": "code",
   "execution_count": 94,
   "id": "41d34d3a-4a35-4422-ae8b-18a020b412a6",
   "metadata": {},
   "outputs": [],
   "source": [
    "df.to_pickle(os.path.join(\"datasets\", 'onboarding_step5.pkl'))"
   ]
  },
  {
   "cell_type": "markdown",
   "id": "45aedfe4-f101-4055-9a1a-55731fa62078",
   "metadata": {
    "jp-MarkdownHeadingCollapsed": true
   },
   "source": [
    "# TF-IDF"
   ]
  },
  {
   "cell_type": "code",
   "execution_count": 98,
   "id": "a83d8252-1952-4620-b2af-7ae512100f60",
   "metadata": {},
   "outputs": [],
   "source": [
    "tf_processor = FeatureProcessor(\n",
    "    extractor=TfidfFeatureExtractor(n_pca_components=100),\n",
    "    input_file=os.path.join(\"datasets\", \"onboarding_step5.pkl\"),\n",
    "    output_file=os.path.join('datasets', \"onboarding_step6.pkl\"),\n",
    "    batch_size=None\n",
    ")\n",
    "tf_processor.process_batches()"
   ]
  },
  {
   "cell_type": "markdown",
   "id": "2959b0da-a4a6-4c8d-9c05-1da2e425e2ba",
   "metadata": {
    "jp-MarkdownHeadingCollapsed": true
   },
   "source": [
    "# Cleaning"
   ]
  },
  {
   "cell_type": "code",
   "execution_count": 99,
   "id": "2fd69ada-caa2-4344-815f-c63cdfcd8eb2",
   "metadata": {},
   "outputs": [
    {
     "data": {
      "text/plain": [
       "(5890, 178)"
      ]
     },
     "execution_count": 99,
     "metadata": {},
     "output_type": "execute_result"
    }
   ],
   "source": [
    "df = pd.read_pickle(os.path.join(\"datasets\", \"onboarding_step6.pkl\"))\n",
    "df.shape"
   ]
  },
  {
   "cell_type": "code",
   "execution_count": 100,
   "id": "34d4844c-7a8b-4169-b85c-d59e0f75efc2",
   "metadata": {},
   "outputs": [],
   "source": [
    "# Fixing the dtypes\n",
    "cast_to_int_columns = ['duration_ms', 'album_release_year', 'key', 'mode', 'time_signature', 'explicit']\n",
    "df[cast_to_int_columns] = df[cast_to_int_columns].astype(int)\n",
    "\n",
    "cast_to_category_columns = ['key', 'mode', 'time_signature', 'explicit', 'language', 'genre']\n",
    "df[cast_to_category_columns] = df[cast_to_category_columns].astype(str).astype('category')"
   ]
  },
  {
   "cell_type": "code",
   "execution_count": 129,
   "id": "fbddb155-9fd5-465e-a283-f0ac0d4063f8",
   "metadata": {},
   "outputs": [],
   "source": [
    "df.to_pickle(os.path.join(\"datasets\", 'final_data.pkl'))"
   ]
  },
  {
   "cell_type": "code",
   "execution_count": 102,
   "id": "e12044f1-12f2-4de6-a9ea-5c777db53b47",
   "metadata": {},
   "outputs": [],
   "source": [
    "for pkl in [ file for file in os.listdir('datasets') if file.startswith('onboarding') and file.endswith('pkl')]:\n",
    "    os.remove(os.path.join('datasets', pkl))"
   ]
  },
  {
   "cell_type": "code",
   "execution_count": null,
   "id": "89a705dd-5f96-4d36-b3fe-620e7e7a2b3e",
   "metadata": {},
   "outputs": [],
   "source": []
  }
 ],
 "metadata": {
  "kernelspec": {
   "display_name": "Python 3 (ipykernel)",
   "language": "python",
   "name": "python3"
  },
  "language_info": {
   "codemirror_mode": {
    "name": "ipython",
    "version": 3
   },
   "file_extension": ".py",
   "mimetype": "text/x-python",
   "name": "python",
   "nbconvert_exporter": "python",
   "pygments_lexer": "ipython3",
   "version": "3.10.12"
  }
 },
 "nbformat": 4,
 "nbformat_minor": 5
}
