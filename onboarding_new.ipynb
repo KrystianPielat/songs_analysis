{
 "cells": [
  {
   "cell_type": "code",
   "execution_count": 11,
   "id": "3aac368b-0904-4021-afa9-e5c9d9202bb0",
   "metadata": {},
   "outputs": [
    {
     "name": "stdout",
     "output_type": "stream",
     "text": [
      "The autoreload extension is already loaded. To reload it, use:\n",
      "  %reload_ext autoreload\n"
     ]
    }
   ],
   "source": [
    "%load_ext autoreload\n",
    "%autoreload 2\n",
    "    \n",
    "from classes.song import Song\n",
    "from classes.spotify_manager import SpotifyManager\n",
    "from classes.lyrics_manager import LyricsManager\n",
    "from dotenv import load_dotenv\n",
    "from classes.utils import gather_data_from_folders\n",
    "import pandas as pd\n",
    "import os\n",
    "import seaborn as sns\n",
    "from classes.text_features import TextFeatureExtractor, TfidfFeatureExtractor\n",
    "from classes.audio_features import AudioFeatureExtractor\n",
    "from classes.utils import find_songs_to_drop, clean_songs_to_drop\n",
    "from classes.feature_processor import FeatureProcessor\n",
    "from classes.constants import GENRE_MAPPING\n",
    "from classes.utils import reduce_genres_with_regex\n",
    "load_dotenv();"
   ]
  },
  {
   "cell_type": "markdown",
   "id": "f553cf19-b381-4ee4-9ed2-9ad32c44db43",
   "metadata": {},
   "source": [
    "# Loading the data"
   ]
  },
  {
   "cell_type": "code",
   "execution_count": 21,
   "id": "739719b1-3fc5-4cf2-9d7f-e6351fb5d513",
   "metadata": {},
   "outputs": [
    {
     "name": "stdout",
     "output_type": "stream",
     "text": [
      "\u001b[1;32mINFO: Loading CSV file: /home/krystian/Python/Jupyter-projects/thesis/songs_analysis/test/songs.csv\u001b[0m\n"
     ]
    }
   ],
   "source": [
    "playlists_dir = os.path.join(\"/\".join(os.path.abspath(os.path.realpath(__name__)).split(\"/\")[:-1]), \"test\")\n",
    "df = gather_data_from_folders(playlists_dir)"
   ]
  },
  {
   "cell_type": "code",
   "execution_count": 22,
   "id": "e1b1ddc7-97ac-49e0-bc59-61c4adf93ba6",
   "metadata": {},
   "outputs": [],
   "source": [
    "final_df_path = 'final_data.pkl'\n",
    "final_df = None\n",
    "if os.path.exists(final_df_path):\n",
    "    final_df = pd.read_pickle(final_df_path)\n",
    "    df = df[~df.id.isin(final_df.id)]"
   ]
  },
  {
   "cell_type": "code",
   "execution_count": 23,
   "id": "5017e452-8309-40f1-81c2-67106ab46776",
   "metadata": {},
   "outputs": [
    {
     "data": {
      "text/plain": [
       "(11, 24)"
      ]
     },
     "execution_count": 23,
     "metadata": {},
     "output_type": "execute_result"
    }
   ],
   "source": [
    "df.shape"
   ]
  },
  {
   "cell_type": "code",
   "execution_count": 24,
   "id": "dbf4a8f1-038b-48c7-a70d-65e9fd86280a",
   "metadata": {},
   "outputs": [
    {
     "data": {
      "application/vnd.jupyter.widget-view+json": {
       "model_id": "3050d9b98ef941ca9013ae1772a6e678",
       "version_major": 2,
       "version_minor": 0
      },
      "text/plain": [
       "Processing Features:   0%|          | 0/11 [00:00<?, ?it/s]"
      ]
     },
     "metadata": {},
     "output_type": "display_data"
    }
   ],
   "source": [
    "extractor = TextFeatureExtractor()\n",
    "df = extractor.add_features(df, batch_size=3, text_column='lyrics')"
   ]
  },
  {
   "cell_type": "code",
   "execution_count": 25,
   "id": "98368e55-d385-42b5-866c-8176e475334f",
   "metadata": {},
   "outputs": [
    {
     "data": {
      "text/plain": [
       "(11, 238)"
      ]
     },
     "execution_count": 25,
     "metadata": {},
     "output_type": "execute_result"
    }
   ],
   "source": [
    "df.shape"
   ]
  },
  {
   "cell_type": "code",
   "execution_count": 26,
   "id": "bd61414c-e72c-4070-8beb-770d5d1010f2",
   "metadata": {},
   "outputs": [
    {
     "data": {
      "application/vnd.jupyter.widget-view+json": {
       "model_id": "356541ad50af4adea29adafc1d3d78d5",
       "version_major": 2,
       "version_minor": 0
      },
      "text/plain": [
       "Extracting Audio Features:   0%|          | 0/11 [00:00<?, ?file/s]"
      ]
     },
     "metadata": {},
     "output_type": "display_data"
    }
   ],
   "source": [
    "extractor = AudioFeatureExtractor()\n",
    "df = extractor.add_features(df, batch_size=3)"
   ]
  },
  {
   "cell_type": "code",
   "execution_count": 27,
   "id": "17b99196-5412-43f1-8d79-a97f38f97b91",
   "metadata": {},
   "outputs": [
    {
     "data": {
      "text/plain": [
       "(11, 272)"
      ]
     },
     "execution_count": 27,
     "metadata": {},
     "output_type": "execute_result"
    }
   ],
   "source": [
    "df.shape"
   ]
  },
  {
   "cell_type": "code",
   "execution_count": 28,
   "id": "71761def-2c82-476f-928d-fbf7220ac11a",
   "metadata": {},
   "outputs": [],
   "source": [
    "if df.shape[0] > 0:\n",
    "    if final_df is not None:\n",
    "        final_df = pd.concat([df, final_df], axis=0)\n",
    "    else:\n",
    "        final_df = df\n",
    "    final_df.to_pickle(final_df_path)"
   ]
  },
  {
   "cell_type": "code",
   "execution_count": 32,
   "id": "dc7992d6-1942-4cbc-b27d-9c081ef521b3",
   "metadata": {},
   "outputs": [
    {
     "data": {
      "text/html": [
       "<div>\n",
       "<style scoped>\n",
       "    .dataframe tbody tr th:only-of-type {\n",
       "        vertical-align: middle;\n",
       "    }\n",
       "\n",
       "    .dataframe tbody tr th {\n",
       "        vertical-align: top;\n",
       "    }\n",
       "\n",
       "    .dataframe thead th {\n",
       "        text-align: right;\n",
       "    }\n",
       "</style>\n",
       "<table border=\"1\" class=\"dataframe\">\n",
       "  <thead>\n",
       "    <tr style=\"text-align: right;\">\n",
       "      <th></th>\n",
       "      <th>id</th>\n",
       "      <th>title</th>\n",
       "      <th>artist</th>\n",
       "      <th>album_art_url</th>\n",
       "      <th>popularity</th>\n",
       "      <th>explicit</th>\n",
       "      <th>album_release_year</th>\n",
       "      <th>duration_ms</th>\n",
       "      <th>genres</th>\n",
       "      <th>lyrics</th>\n",
       "      <th>...</th>\n",
       "      <th>chroma_12</th>\n",
       "      <th>spectral_contrast_1</th>\n",
       "      <th>spectral_contrast_2</th>\n",
       "      <th>spectral_contrast_3</th>\n",
       "      <th>spectral_contrast_4</th>\n",
       "      <th>spectral_contrast_5</th>\n",
       "      <th>spectral_contrast_6</th>\n",
       "      <th>spectral_contrast_7</th>\n",
       "      <th>tempo_extracted</th>\n",
       "      <th>zcr</th>\n",
       "    </tr>\n",
       "  </thead>\n",
       "  <tbody>\n",
       "    <tr>\n",
       "      <th>0</th>\n",
       "      <td>6mSnSuOhgHHohqeBw76jRV</td>\n",
       "      <td>i was all over her</td>\n",
       "      <td>salvia palth</td>\n",
       "      <td>https://i.scdn.co/image/ab67616d0000b2734a82bd...</td>\n",
       "      <td>80</td>\n",
       "      <td>False</td>\n",
       "      <td>2013</td>\n",
       "      <td>161422</td>\n",
       "      <td>['[\\'[\\\\\\'[\"[\\\\\\\\\\\\\\'search:country\\\\\\\\\\\\\\'\"\\\\...</td>\n",
       "      <td>[Verse 1]\\nDon't know what I wanted\\n, \\nI hav...</td>\n",
       "      <td>...</td>\n",
       "      <td>0.652000</td>\n",
       "      <td>17.398707</td>\n",
       "      <td>10.183668</td>\n",
       "      <td>14.943735</td>\n",
       "      <td>19.089379</td>\n",
       "      <td>20.234558</td>\n",
       "      <td>19.928241</td>\n",
       "      <td>44.187604</td>\n",
       "      <td>106.132075</td>\n",
       "      <td>0.010976</td>\n",
       "    </tr>\n",
       "    <tr>\n",
       "      <th>1</th>\n",
       "      <td>25leEEaz1gIpp7o21Fqyjo</td>\n",
       "      <td>here comes santa claus</td>\n",
       "      <td>gene autry</td>\n",
       "      <td>https://i.scdn.co/image/ab67616d0000b27335e9a6...</td>\n",
       "      <td>82</td>\n",
       "      <td>False</td>\n",
       "      <td>1947</td>\n",
       "      <td>150266</td>\n",
       "      <td>['[\\'[\\\\\\'[\"[\\\\\\\\\\\\\\'search:country\\\\\\\\\\\\\\'\"\\\\...</td>\n",
       "      <td>Here comes Santa Claus, here comes Santa Claus...</td>\n",
       "      <td>...</td>\n",
       "      <td>0.341628</td>\n",
       "      <td>11.325815</td>\n",
       "      <td>11.214302</td>\n",
       "      <td>17.129537</td>\n",
       "      <td>19.427072</td>\n",
       "      <td>20.001330</td>\n",
       "      <td>19.391607</td>\n",
       "      <td>54.095490</td>\n",
       "      <td>96.982759</td>\n",
       "      <td>0.057525</td>\n",
       "    </tr>\n",
       "    <tr>\n",
       "      <th>2</th>\n",
       "      <td>4BP3uh0hFLFRb5cjsgLqDh</td>\n",
       "      <td>fortunate son</td>\n",
       "      <td>creedence clearwater revival</td>\n",
       "      <td>https://i.scdn.co/image/ab67616d0000b2739f3919...</td>\n",
       "      <td>82</td>\n",
       "      <td>False</td>\n",
       "      <td>1969</td>\n",
       "      <td>140773</td>\n",
       "      <td>['[\\'[\"[\\\\\\'search:country\\\\\\'\"\\'', ' \\' \" \\\\\\...</td>\n",
       "      <td>Some folks are born, made to wave the flag\\nOo...</td>\n",
       "      <td>...</td>\n",
       "      <td>0.502544</td>\n",
       "      <td>17.308924</td>\n",
       "      <td>9.733423</td>\n",
       "      <td>12.671681</td>\n",
       "      <td>15.786249</td>\n",
       "      <td>17.868257</td>\n",
       "      <td>17.810266</td>\n",
       "      <td>52.367367</td>\n",
       "      <td>133.928571</td>\n",
       "      <td>0.048801</td>\n",
       "    </tr>\n",
       "    <tr>\n",
       "      <th>3</th>\n",
       "      <td>0bYg9bo50gSsH3LtXe2SQn</td>\n",
       "      <td>all i want for christmas is you</td>\n",
       "      <td>mariah carey</td>\n",
       "      <td>https://i.scdn.co/image/ab67616d0000b2734246e3...</td>\n",
       "      <td>94</td>\n",
       "      <td>False</td>\n",
       "      <td>1994</td>\n",
       "      <td>241106</td>\n",
       "      <td>['[\"[\\'search:pop\\'\"', ' \" \\'dance pop\\'\"', ' ...</td>\n",
       "      <td>I don't want a lot for Christmas\\nThere is jus...</td>\n",
       "      <td>...</td>\n",
       "      <td>0.411156</td>\n",
       "      <td>14.947797</td>\n",
       "      <td>10.464679</td>\n",
       "      <td>15.385924</td>\n",
       "      <td>18.800166</td>\n",
       "      <td>19.554925</td>\n",
       "      <td>17.591203</td>\n",
       "      <td>57.752280</td>\n",
       "      <td>148.026316</td>\n",
       "      <td>0.084413</td>\n",
       "    </tr>\n",
       "    <tr>\n",
       "      <th>4</th>\n",
       "      <td>2plbrEY59IikOBgBGLjaoe</td>\n",
       "      <td>die with a smile</td>\n",
       "      <td>lady gaga</td>\n",
       "      <td>https://i.scdn.co/image/ab67616d0000b27382ea2e...</td>\n",
       "      <td>99</td>\n",
       "      <td>False</td>\n",
       "      <td>2024</td>\n",
       "      <td>251667</td>\n",
       "      <td>['[\"[\\'search:pop\\'\"', ' \" \\'art pop\\'\"', ' \" ...</td>\n",
       "      <td>[Intro: Bruno Mars]\\n(Ooh, ooh)\\n[Verse 1: Bru...</td>\n",
       "      <td>...</td>\n",
       "      <td>0.338875</td>\n",
       "      <td>16.609555</td>\n",
       "      <td>11.475996</td>\n",
       "      <td>14.859217</td>\n",
       "      <td>18.167123</td>\n",
       "      <td>19.003853</td>\n",
       "      <td>18.176417</td>\n",
       "      <td>54.122924</td>\n",
       "      <td>156.250000</td>\n",
       "      <td>0.051372</td>\n",
       "    </tr>\n",
       "    <tr>\n",
       "      <th>5</th>\n",
       "      <td>2FRnf9qhLbvw8fu4IBXx78</td>\n",
       "      <td>last christmas</td>\n",
       "      <td>wham!</td>\n",
       "      <td>https://i.scdn.co/image/ab67616d0000b273f2d2ad...</td>\n",
       "      <td>92</td>\n",
       "      <td>False</td>\n",
       "      <td>1984</td>\n",
       "      <td>262960</td>\n",
       "      <td>['[\"[\\'search:pop\\'\"', ' \" \\'new romantic\\'\"',...</td>\n",
       "      <td>Oh, oh-oh, ooh-oh\\nAh-ah\\n\\nLast Christmas, I ...</td>\n",
       "      <td>...</td>\n",
       "      <td>0.490096</td>\n",
       "      <td>17.542734</td>\n",
       "      <td>11.143639</td>\n",
       "      <td>14.651100</td>\n",
       "      <td>17.832024</td>\n",
       "      <td>17.890835</td>\n",
       "      <td>16.484866</td>\n",
       "      <td>55.002171</td>\n",
       "      <td>106.132075</td>\n",
       "      <td>0.067837</td>\n",
       "    </tr>\n",
       "    <tr>\n",
       "      <th>6</th>\n",
       "      <td>6rCz0E0G6El6irdft7Zjgp</td>\n",
       "      <td>falochrony</td>\n",
       "      <td>roxie węgiel</td>\n",
       "      <td>https://i.scdn.co/image/ab67616d0000b273953dd2...</td>\n",
       "      <td>67</td>\n",
       "      <td>False</td>\n",
       "      <td>2024</td>\n",
       "      <td>169142</td>\n",
       "      <td>['[\"[\\'search:pop\\'\"', ' \" \\'polish pop\\'\"', '...</td>\n",
       "      <td>[Zwrotka 1: Roxie Węgiel]\\nDzień, taki bez Cie...</td>\n",
       "      <td>...</td>\n",
       "      <td>0.422268</td>\n",
       "      <td>15.644020</td>\n",
       "      <td>11.671298</td>\n",
       "      <td>14.848017</td>\n",
       "      <td>17.419779</td>\n",
       "      <td>18.456029</td>\n",
       "      <td>18.455853</td>\n",
       "      <td>55.633655</td>\n",
       "      <td>140.625000</td>\n",
       "      <td>0.064564</td>\n",
       "    </tr>\n",
       "    <tr>\n",
       "      <th>7</th>\n",
       "      <td>2262bWmqomIaJXwCRHr13j</td>\n",
       "      <td>sailor song</td>\n",
       "      <td>gigi perez</td>\n",
       "      <td>https://i.scdn.co/image/ab67616d0000b273e6065f...</td>\n",
       "      <td>93</td>\n",
       "      <td>False</td>\n",
       "      <td>2024</td>\n",
       "      <td>211978</td>\n",
       "      <td>['[\"[\\'search:pop\\'\"', ' \" \\'bedroom pop\\']\"]']</td>\n",
       "      <td>[Verse 1]\\nI saw her in the rightest way\\nLook...</td>\n",
       "      <td>...</td>\n",
       "      <td>0.564012</td>\n",
       "      <td>16.091741</td>\n",
       "      <td>10.558190</td>\n",
       "      <td>14.930307</td>\n",
       "      <td>18.007222</td>\n",
       "      <td>18.866767</td>\n",
       "      <td>17.555558</td>\n",
       "      <td>53.556683</td>\n",
       "      <td>125.000000</td>\n",
       "      <td>0.046842</td>\n",
       "    </tr>\n",
       "    <tr>\n",
       "      <th>8</th>\n",
       "      <td>2EjXfH91m7f8HiJN1yQg97</td>\n",
       "      <td>rockin' around the christmas tree</td>\n",
       "      <td>brenda lee</td>\n",
       "      <td>https://i.scdn.co/image/ab67616d0000b2737845f7...</td>\n",
       "      <td>93</td>\n",
       "      <td>False</td>\n",
       "      <td>1964</td>\n",
       "      <td>126266</td>\n",
       "      <td>[\"['search:rock'\", \" 'adult standards'\", \" 'ea...</td>\n",
       "      <td>Rockin' around the Christmas tree\\nAt the Chri...</td>\n",
       "      <td>...</td>\n",
       "      <td>0.317221</td>\n",
       "      <td>14.208915</td>\n",
       "      <td>9.677373</td>\n",
       "      <td>14.825332</td>\n",
       "      <td>17.437802</td>\n",
       "      <td>19.703676</td>\n",
       "      <td>19.716016</td>\n",
       "      <td>52.868684</td>\n",
       "      <td>140.625000</td>\n",
       "      <td>0.063229</td>\n",
       "    </tr>\n",
       "    <tr>\n",
       "      <th>9</th>\n",
       "      <td>7aQViYYpIkpJwyCHPysCo4</td>\n",
       "      <td>na szczycie</td>\n",
       "      <td>grubson</td>\n",
       "      <td>https://i.scdn.co/image/ab67616d0000b27395899c...</td>\n",
       "      <td>60</td>\n",
       "      <td>False</td>\n",
       "      <td>2009</td>\n",
       "      <td>244948</td>\n",
       "      <td>['search:reggae', 'polish hip hop', 'polish re...</td>\n",
       "      <td>Jestem tego pewny, w głębi duszy o tym wiem,\\n...</td>\n",
       "      <td>...</td>\n",
       "      <td>0.614861</td>\n",
       "      <td>15.928131</td>\n",
       "      <td>10.720004</td>\n",
       "      <td>14.650880</td>\n",
       "      <td>16.416395</td>\n",
       "      <td>16.843627</td>\n",
       "      <td>15.791460</td>\n",
       "      <td>53.170024</td>\n",
       "      <td>96.982759</td>\n",
       "      <td>0.023580</td>\n",
       "    </tr>\n",
       "    <tr>\n",
       "      <th>10</th>\n",
       "      <td>6WatFBLVB0x077xWeoVc2k</td>\n",
       "      <td>si antes te hubiera conocido</td>\n",
       "      <td>karol g</td>\n",
       "      <td>https://i.scdn.co/image/ab67616d0000b273491678...</td>\n",
       "      <td>92</td>\n",
       "      <td>False</td>\n",
       "      <td>2024</td>\n",
       "      <td>195824</td>\n",
       "      <td>['search:reggae', 'reggaeton', 'reggaeton colo...</td>\n",
       "      <td>[Letra de \"Si Antes Te Hubiera Conocido\"]\\n[In...</td>\n",
       "      <td>...</td>\n",
       "      <td>0.379212</td>\n",
       "      <td>14.278508</td>\n",
       "      <td>12.440781</td>\n",
       "      <td>15.761495</td>\n",
       "      <td>18.149037</td>\n",
       "      <td>19.538238</td>\n",
       "      <td>19.291809</td>\n",
       "      <td>53.335652</td>\n",
       "      <td>127.840909</td>\n",
       "      <td>0.042944</td>\n",
       "    </tr>\n",
       "  </tbody>\n",
       "</table>\n",
       "<p>11 rows × 272 columns</p>\n",
       "</div>"
      ],
      "text/plain": [
       "                        id                              title  \\\n",
       "0   6mSnSuOhgHHohqeBw76jRV                 i was all over her   \n",
       "1   25leEEaz1gIpp7o21Fqyjo             here comes santa claus   \n",
       "2   4BP3uh0hFLFRb5cjsgLqDh                      fortunate son   \n",
       "3   0bYg9bo50gSsH3LtXe2SQn    all i want for christmas is you   \n",
       "4   2plbrEY59IikOBgBGLjaoe                   die with a smile   \n",
       "5   2FRnf9qhLbvw8fu4IBXx78                     last christmas   \n",
       "6   6rCz0E0G6El6irdft7Zjgp                         falochrony   \n",
       "7   2262bWmqomIaJXwCRHr13j                        sailor song   \n",
       "8   2EjXfH91m7f8HiJN1yQg97  rockin' around the christmas tree   \n",
       "9   7aQViYYpIkpJwyCHPysCo4                        na szczycie   \n",
       "10  6WatFBLVB0x077xWeoVc2k       si antes te hubiera conocido   \n",
       "\n",
       "                          artist  \\\n",
       "0                   salvia palth   \n",
       "1                     gene autry   \n",
       "2   creedence clearwater revival   \n",
       "3                   mariah carey   \n",
       "4                      lady gaga   \n",
       "5                          wham!   \n",
       "6                   roxie węgiel   \n",
       "7                     gigi perez   \n",
       "8                     brenda lee   \n",
       "9                        grubson   \n",
       "10                       karol g   \n",
       "\n",
       "                                        album_art_url  popularity  explicit  \\\n",
       "0   https://i.scdn.co/image/ab67616d0000b2734a82bd...          80     False   \n",
       "1   https://i.scdn.co/image/ab67616d0000b27335e9a6...          82     False   \n",
       "2   https://i.scdn.co/image/ab67616d0000b2739f3919...          82     False   \n",
       "3   https://i.scdn.co/image/ab67616d0000b2734246e3...          94     False   \n",
       "4   https://i.scdn.co/image/ab67616d0000b27382ea2e...          99     False   \n",
       "5   https://i.scdn.co/image/ab67616d0000b273f2d2ad...          92     False   \n",
       "6   https://i.scdn.co/image/ab67616d0000b273953dd2...          67     False   \n",
       "7   https://i.scdn.co/image/ab67616d0000b273e6065f...          93     False   \n",
       "8   https://i.scdn.co/image/ab67616d0000b2737845f7...          93     False   \n",
       "9   https://i.scdn.co/image/ab67616d0000b27395899c...          60     False   \n",
       "10  https://i.scdn.co/image/ab67616d0000b273491678...          92     False   \n",
       "\n",
       "    album_release_year  duration_ms  \\\n",
       "0                 2013       161422   \n",
       "1                 1947       150266   \n",
       "2                 1969       140773   \n",
       "3                 1994       241106   \n",
       "4                 2024       251667   \n",
       "5                 1984       262960   \n",
       "6                 2024       169142   \n",
       "7                 2024       211978   \n",
       "8                 1964       126266   \n",
       "9                 2009       244948   \n",
       "10                2024       195824   \n",
       "\n",
       "                                               genres  \\\n",
       "0   ['[\\'[\\\\\\'[\"[\\\\\\\\\\\\\\'search:country\\\\\\\\\\\\\\'\"\\\\...   \n",
       "1   ['[\\'[\\\\\\'[\"[\\\\\\\\\\\\\\'search:country\\\\\\\\\\\\\\'\"\\\\...   \n",
       "2   ['[\\'[\"[\\\\\\'search:country\\\\\\'\"\\'', ' \\' \" \\\\\\...   \n",
       "3   ['[\"[\\'search:pop\\'\"', ' \" \\'dance pop\\'\"', ' ...   \n",
       "4   ['[\"[\\'search:pop\\'\"', ' \" \\'art pop\\'\"', ' \" ...   \n",
       "5   ['[\"[\\'search:pop\\'\"', ' \" \\'new romantic\\'\"',...   \n",
       "6   ['[\"[\\'search:pop\\'\"', ' \" \\'polish pop\\'\"', '...   \n",
       "7     ['[\"[\\'search:pop\\'\"', ' \" \\'bedroom pop\\']\"]']   \n",
       "8   [\"['search:rock'\", \" 'adult standards'\", \" 'ea...   \n",
       "9   ['search:reggae', 'polish hip hop', 'polish re...   \n",
       "10  ['search:reggae', 'reggaeton', 'reggaeton colo...   \n",
       "\n",
       "                                               lyrics  ... chroma_12  \\\n",
       "0   [Verse 1]\\nDon't know what I wanted\\n, \\nI hav...  ...  0.652000   \n",
       "1   Here comes Santa Claus, here comes Santa Claus...  ...  0.341628   \n",
       "2   Some folks are born, made to wave the flag\\nOo...  ...  0.502544   \n",
       "3   I don't want a lot for Christmas\\nThere is jus...  ...  0.411156   \n",
       "4   [Intro: Bruno Mars]\\n(Ooh, ooh)\\n[Verse 1: Bru...  ...  0.338875   \n",
       "5   Oh, oh-oh, ooh-oh\\nAh-ah\\n\\nLast Christmas, I ...  ...  0.490096   \n",
       "6   [Zwrotka 1: Roxie Węgiel]\\nDzień, taki bez Cie...  ...  0.422268   \n",
       "7   [Verse 1]\\nI saw her in the rightest way\\nLook...  ...  0.564012   \n",
       "8   Rockin' around the Christmas tree\\nAt the Chri...  ...  0.317221   \n",
       "9   Jestem tego pewny, w głębi duszy o tym wiem,\\n...  ...  0.614861   \n",
       "10  [Letra de \"Si Antes Te Hubiera Conocido\"]\\n[In...  ...  0.379212   \n",
       "\n",
       "   spectral_contrast_1  spectral_contrast_2  spectral_contrast_3  \\\n",
       "0            17.398707            10.183668            14.943735   \n",
       "1            11.325815            11.214302            17.129537   \n",
       "2            17.308924             9.733423            12.671681   \n",
       "3            14.947797            10.464679            15.385924   \n",
       "4            16.609555            11.475996            14.859217   \n",
       "5            17.542734            11.143639            14.651100   \n",
       "6            15.644020            11.671298            14.848017   \n",
       "7            16.091741            10.558190            14.930307   \n",
       "8            14.208915             9.677373            14.825332   \n",
       "9            15.928131            10.720004            14.650880   \n",
       "10           14.278508            12.440781            15.761495   \n",
       "\n",
       "    spectral_contrast_4  spectral_contrast_5  spectral_contrast_6  \\\n",
       "0             19.089379            20.234558            19.928241   \n",
       "1             19.427072            20.001330            19.391607   \n",
       "2             15.786249            17.868257            17.810266   \n",
       "3             18.800166            19.554925            17.591203   \n",
       "4             18.167123            19.003853            18.176417   \n",
       "5             17.832024            17.890835            16.484866   \n",
       "6             17.419779            18.456029            18.455853   \n",
       "7             18.007222            18.866767            17.555558   \n",
       "8             17.437802            19.703676            19.716016   \n",
       "9             16.416395            16.843627            15.791460   \n",
       "10            18.149037            19.538238            19.291809   \n",
       "\n",
       "    spectral_contrast_7  tempo_extracted       zcr  \n",
       "0             44.187604       106.132075  0.010976  \n",
       "1             54.095490        96.982759  0.057525  \n",
       "2             52.367367       133.928571  0.048801  \n",
       "3             57.752280       148.026316  0.084413  \n",
       "4             54.122924       156.250000  0.051372  \n",
       "5             55.002171       106.132075  0.067837  \n",
       "6             55.633655       140.625000  0.064564  \n",
       "7             53.556683       125.000000  0.046842  \n",
       "8             52.868684       140.625000  0.063229  \n",
       "9             53.170024        96.982759  0.023580  \n",
       "10            53.335652       127.840909  0.042944  \n",
       "\n",
       "[11 rows x 272 columns]"
      ]
     },
     "execution_count": 32,
     "metadata": {},
     "output_type": "execute_result"
    }
   ],
   "source": [
    "pd.read_pickle(final_df_path)"
   ]
  },
  {
   "cell_type": "code",
   "execution_count": null,
   "id": "4e624706-026d-4681-ab04-de19ca78648c",
   "metadata": {},
   "outputs": [],
   "source": []
  },
  {
   "cell_type": "code",
   "execution_count": 55,
   "id": "3641453f-949c-40eb-a83d-c5fe978d2f57",
   "metadata": {},
   "outputs": [
    {
     "data": {
      "application/vnd.jupyter.widget-view+json": {
       "model_id": "cd894e1bc06045eeb5c8db58593dcf7f",
       "version_major": 2,
       "version_minor": 0
      },
      "text/plain": [
       "Processing Batches:   0%|          | 0/4 [00:00<?, ?it/s]"
      ]
     },
     "metadata": {},
     "output_type": "display_data"
    },
    {
     "ename": "PicklingError",
     "evalue": "Can't pickle <class 'classes.audio_features.AudioFeatureExtractor'>: it's not the same object as classes.audio_features.AudioFeatureExtractor",
     "output_type": "error",
     "traceback": [
      "\u001b[0;31m---------------------------------------------------------------------------\u001b[0m",
      "\u001b[0;31mPicklingError\u001b[0m                             Traceback (most recent call last)",
      "Cell \u001b[0;32mIn[55], line 5\u001b[0m\n\u001b[1;32m      1\u001b[0m extractor \u001b[38;5;241m=\u001b[39m AudioFeatureExtractor()\n\u001b[1;32m      3\u001b[0m processor \u001b[38;5;241m=\u001b[39m FeatureProcessor(extractor, df)\n\u001b[0;32m----> 5\u001b[0m \u001b[43mprocessor\u001b[49m\u001b[38;5;241;43m.\u001b[39;49m\u001b[43mprocess_data\u001b[49m\u001b[43m(\u001b[49m\u001b[43mbatch_size\u001b[49m\u001b[38;5;241;43m=\u001b[39;49m\u001b[38;5;241;43m2\u001b[39;49m\u001b[43m)\u001b[49m\n\u001b[1;32m      7\u001b[0m df \u001b[38;5;241m=\u001b[39m processor\u001b[38;5;241m.\u001b[39mget_dataframe()\n",
      "File \u001b[0;32m~/Python/Jupyter-projects/thesis/songs_analysis/classes/feature_processor.py:84\u001b[0m, in \u001b[0;36mFeatureProcessor.process_data\u001b[0;34m(self, output_file, batch_size)\u001b[0m\n\u001b[1;32m     82\u001b[0m processed_batches \u001b[38;5;241m=\u001b[39m []\n\u001b[1;32m     83\u001b[0m \u001b[38;5;28;01mwith\u001b[39;00m Pool(cpu_count()) \u001b[38;5;28;01mas\u001b[39;00m pool, tqdm(total\u001b[38;5;241m=\u001b[39m\u001b[38;5;28mlen\u001b[39m(batches), desc\u001b[38;5;241m=\u001b[39m\u001b[38;5;124m\"\u001b[39m\u001b[38;5;124mProcessing Batches\u001b[39m\u001b[38;5;124m\"\u001b[39m) \u001b[38;5;28;01mas\u001b[39;00m pbar:\n\u001b[0;32m---> 84\u001b[0m     \u001b[38;5;28;01mfor\u001b[39;00m processed_batch \u001b[38;5;129;01min\u001b[39;00m pool\u001b[38;5;241m.\u001b[39mimap(\u001b[38;5;28mself\u001b[39m\u001b[38;5;241m.\u001b[39m_process_batch, batches):\n\u001b[1;32m     85\u001b[0m         processed_batches\u001b[38;5;241m.\u001b[39mappend(processed_batch)\n\u001b[1;32m     86\u001b[0m         pbar\u001b[38;5;241m.\u001b[39mupdate(\u001b[38;5;241m1\u001b[39m)\n",
      "File \u001b[0;32m/usr/lib/python3.10/multiprocessing/pool.py:873\u001b[0m, in \u001b[0;36mIMapIterator.next\u001b[0;34m(self, timeout)\u001b[0m\n\u001b[1;32m    871\u001b[0m \u001b[38;5;28;01mif\u001b[39;00m success:\n\u001b[1;32m    872\u001b[0m     \u001b[38;5;28;01mreturn\u001b[39;00m value\n\u001b[0;32m--> 873\u001b[0m \u001b[38;5;28;01mraise\u001b[39;00m value\n",
      "File \u001b[0;32m/usr/lib/python3.10/multiprocessing/pool.py:540\u001b[0m, in \u001b[0;36mPool._handle_tasks\u001b[0;34m(taskqueue, put, outqueue, pool, cache)\u001b[0m\n\u001b[1;32m    538\u001b[0m     \u001b[38;5;28;01mbreak\u001b[39;00m\n\u001b[1;32m    539\u001b[0m \u001b[38;5;28;01mtry\u001b[39;00m:\n\u001b[0;32m--> 540\u001b[0m     \u001b[43mput\u001b[49m\u001b[43m(\u001b[49m\u001b[43mtask\u001b[49m\u001b[43m)\u001b[49m\n\u001b[1;32m    541\u001b[0m \u001b[38;5;28;01mexcept\u001b[39;00m \u001b[38;5;167;01mException\u001b[39;00m \u001b[38;5;28;01mas\u001b[39;00m e:\n\u001b[1;32m    542\u001b[0m     job, idx \u001b[38;5;241m=\u001b[39m task[:\u001b[38;5;241m2\u001b[39m]\n",
      "File \u001b[0;32m/usr/lib/python3.10/multiprocessing/connection.py:206\u001b[0m, in \u001b[0;36m_ConnectionBase.send\u001b[0;34m(self, obj)\u001b[0m\n\u001b[1;32m    204\u001b[0m \u001b[38;5;28mself\u001b[39m\u001b[38;5;241m.\u001b[39m_check_closed()\n\u001b[1;32m    205\u001b[0m \u001b[38;5;28mself\u001b[39m\u001b[38;5;241m.\u001b[39m_check_writable()\n\u001b[0;32m--> 206\u001b[0m \u001b[38;5;28mself\u001b[39m\u001b[38;5;241m.\u001b[39m_send_bytes(\u001b[43m_ForkingPickler\u001b[49m\u001b[38;5;241;43m.\u001b[39;49m\u001b[43mdumps\u001b[49m\u001b[43m(\u001b[49m\u001b[43mobj\u001b[49m\u001b[43m)\u001b[49m)\n",
      "File \u001b[0;32m/usr/lib/python3.10/multiprocessing/reduction.py:51\u001b[0m, in \u001b[0;36mForkingPickler.dumps\u001b[0;34m(cls, obj, protocol)\u001b[0m\n\u001b[1;32m     48\u001b[0m \u001b[38;5;129m@classmethod\u001b[39m\n\u001b[1;32m     49\u001b[0m \u001b[38;5;28;01mdef\u001b[39;00m \u001b[38;5;21mdumps\u001b[39m(\u001b[38;5;28mcls\u001b[39m, obj, protocol\u001b[38;5;241m=\u001b[39m\u001b[38;5;28;01mNone\u001b[39;00m):\n\u001b[1;32m     50\u001b[0m     buf \u001b[38;5;241m=\u001b[39m io\u001b[38;5;241m.\u001b[39mBytesIO()\n\u001b[0;32m---> 51\u001b[0m     \u001b[38;5;28;43mcls\u001b[39;49m\u001b[43m(\u001b[49m\u001b[43mbuf\u001b[49m\u001b[43m,\u001b[49m\u001b[43m \u001b[49m\u001b[43mprotocol\u001b[49m\u001b[43m)\u001b[49m\u001b[38;5;241;43m.\u001b[39;49m\u001b[43mdump\u001b[49m\u001b[43m(\u001b[49m\u001b[43mobj\u001b[49m\u001b[43m)\u001b[49m\n\u001b[1;32m     52\u001b[0m     \u001b[38;5;28;01mreturn\u001b[39;00m buf\u001b[38;5;241m.\u001b[39mgetbuffer()\n",
      "\u001b[0;31mPicklingError\u001b[0m: Can't pickle <class 'classes.audio_features.AudioFeatureExtractor'>: it's not the same object as classes.audio_features.AudioFeatureExtractor"
     ]
    }
   ],
   "source": [
    "extractor = AudioFeatureExtractor()\n",
    "df = extractor.add_features(df)"
   ]
  },
  {
   "cell_type": "code",
   "execution_count": 46,
   "id": "bd6f1670-a391-4387-88e6-86b1d330b41c",
   "metadata": {},
   "outputs": [],
   "source": [
    "df.to_pickle(final_df_path)"
   ]
  },
  {
   "cell_type": "code",
   "execution_count": null,
   "id": "123fc80f-5a7b-4f6a-b8cf-3d594bbf2b20",
   "metadata": {},
   "outputs": [],
   "source": []
  },
  {
   "cell_type": "code",
   "execution_count": null,
   "id": "4f927775-3aa2-4c9a-8af7-629840559132",
   "metadata": {},
   "outputs": [],
   "source": []
  },
  {
   "cell_type": "markdown",
   "id": "6571e8e0-a62b-4fc1-8ace-4cf09cda7714",
   "metadata": {},
   "source": [
    "# Adding audio features"
   ]
  },
  {
   "cell_type": "code",
   "execution_count": 118,
   "id": "29005d6a-68b3-4941-99bc-9c6334690ab6",
   "metadata": {},
   "outputs": [],
   "source": [
    "aud_processor = FeatureProcessor(\n",
    "    extractor=AudioFeatureExtractor(),\n",
    "    input_file=os.path.join(\"datasets\", \"onboarding_step1.pkl\"),\n",
    "    output_file=os.path.join('datasets', \"onboarding_step2.pkl\"),\n",
    "    batch_size=10\n",
    ")\n",
    "aud_processor.process_batches()"
   ]
  },
  {
   "cell_type": "markdown",
   "id": "24b5100c-937d-4110-be02-703058e17164",
   "metadata": {},
   "source": [
    "# Adding textual features"
   ]
  },
  {
   "cell_type": "code",
   "execution_count": null,
   "id": "64bb8c9c-28fb-42cd-8efb-d4ff3fef548e",
   "metadata": {},
   "outputs": [],
   "source": [
    "df_onboarding = pd.read_pickle(os.path.join(\"datasets\", \"onboarding_step2.pkl\"))\n",
    "df_onboarding.head()"
   ]
  },
  {
   "cell_type": "code",
   "execution_count": 21,
   "id": "8e421e1f-8a72-4eef-81fc-6e8f80e0065e",
   "metadata": {},
   "outputs": [
    {
     "data": {
      "text/plain": [
       "(2, 59)"
      ]
     },
     "execution_count": 21,
     "metadata": {},
     "output_type": "execute_result"
    }
   ],
   "source": [
    "df_onboarding.shape"
   ]
  },
  {
   "cell_type": "code",
   "execution_count": 140,
   "id": "c6026994-a049-482f-902c-04ac2265b01f",
   "metadata": {},
   "outputs": [],
   "source": [
    "def remove_letra_de_title(df):\n",
    "    def remove_prefix(row):\n",
    "        if isinstance(row['lyrics'], str) and row['lyrics'].startswith(\"letra de\"):\n",
    "            lyrics = row['lyrics'][len(\"letra de\"):].strip()\n",
    "            title_words = set(row['title'].split()) if isinstance(row['title'], str) else set()\n",
    "            lyrics_words = lyrics.split()\n",
    "            # Remove title words from the first 6 words of the lyrics\n",
    "            filtered_words = [word for i, word in enumerate(lyrics_words) if i >= 6 or word not in title_words]\n",
    "            return \" \".join(filtered_words)\n",
    "        return row['lyrics']\n",
    "\n",
    "    df['lyrics'] = df.apply(remove_prefix, axis=1)\n",
    "    return df\n",
    "\n",
    "df_onboarding = remove_letra_de_title(df_onboarding)"
   ]
  },
  {
   "cell_type": "code",
   "execution_count": 22,
   "id": "3ebea00b-8133-4356-b7c7-3240cbfc32a0",
   "metadata": {},
   "outputs": [],
   "source": [
    "df_onboarding['lyrics'] = df_onboarding.lyrics.apply(lambda x: TextFeatureExtractor.preprocess_text(x))"
   ]
  },
  {
   "cell_type": "code",
   "execution_count": 24,
   "id": "262fba97-c0c3-4742-a8bf-4b7e63575f37",
   "metadata": {},
   "outputs": [],
   "source": [
    "df_onboarding.to_pickle(os.path.join(\"datasets\", \"onboarding_step3.pkl\"))"
   ]
  },
  {
   "cell_type": "code",
   "execution_count": 74,
   "id": "e941f811-059f-4cae-ae31-652eee24857d",
   "metadata": {},
   "outputs": [
    {
     "data": {
      "application/vnd.jupyter.widget-view+json": {
       "model_id": "4fa6e7ec07294731a4d7d404e7b1e379",
       "version_major": 2,
       "version_minor": 0
      },
      "text/plain": [
       "Processing Batches:   0%|          | 0/1 [00:00<?, ?batch/s]"
      ]
     },
     "metadata": {},
     "output_type": "display_data"
    }
   ],
   "source": [
    "tf_processor = FeatureProcessor(\n",
    "    extractor=TextFeatureExtractor(),\n",
    "    input_file=os.path.join(\"datasets\", \"onboarding_step3.pkl\"),\n",
    "    output_file=os.path.join('datasets', \"onboarding_step4.pkl\"),\n",
    "    batch_size=100\n",
    ")\n",
    "tf_processor.process_batches()"
   ]
  },
  {
   "cell_type": "markdown",
   "id": "98721636-bad3-49af-a309-cb005e1fcb42",
   "metadata": {
    "jp-MarkdownHeadingCollapsed": true
   },
   "source": [
    "# Concatenating"
   ]
  },
  {
   "cell_type": "code",
   "execution_count": 86,
   "id": "fde50148-106b-476f-a45d-24f33d573b63",
   "metadata": {},
   "outputs": [
    {
     "data": {
      "text/plain": [
       "(2, 78)"
      ]
     },
     "execution_count": 86,
     "metadata": {},
     "output_type": "execute_result"
    }
   ],
   "source": [
    "df_onboarding = pd.read_pickle(os.path.join(\"datasets\", \"onboarding_step4.pkl\"))\n",
    "df_onboarding.shape"
   ]
  },
  {
   "cell_type": "code",
   "execution_count": 87,
   "id": "edb1b82a-8f92-46d6-a3e8-7e648168dbd9",
   "metadata": {},
   "outputs": [
    {
     "data": {
      "text/plain": [
       "(5888, 78)"
      ]
     },
     "execution_count": 87,
     "metadata": {},
     "output_type": "execute_result"
    }
   ],
   "source": [
    "df = pd.read_pickle(os.path.join(\"datasets\", \"final_data.pkl\"))\n",
    "df.drop([c for c in df.columns if c.startswith('tfidf_')], axis=1, inplace=True)\n",
    "df.shape"
   ]
  },
  {
   "cell_type": "code",
   "execution_count": 88,
   "id": "6098f1d2-d0fb-40eb-b63f-b255baa0c7b5",
   "metadata": {},
   "outputs": [
    {
     "data": {
      "text/plain": [
       "rock    2\n",
       "Name: genre, dtype: int64"
      ]
     },
     "execution_count": 88,
     "metadata": {},
     "output_type": "execute_result"
    }
   ],
   "source": [
    "df_onboarding['genre'] = df_onboarding['genres'].apply(lambda x: reduce_genres_with_regex(eval(x), GENRE_MAPPING))\n",
    "df_onboarding['genre'].value_counts()"
   ]
  },
  {
   "cell_type": "code",
   "execution_count": 89,
   "id": "5cb2f7ac-2e66-43ca-85f3-df984445a14d",
   "metadata": {},
   "outputs": [],
   "source": [
    "incorrect_genre_songs = df[(df.genre.isna()) | (df.genre == 'None')]"
   ]
  },
  {
   "cell_type": "code",
   "execution_count": 90,
   "id": "b6e62cf9-45a6-485f-8659-6c6cb87937b9",
   "metadata": {},
   "outputs": [
    {
     "name": "stdout",
     "output_type": "stream",
     "text": [
      "0 songs have incorrect genre and will be dropped\n"
     ]
    }
   ],
   "source": [
    "print(\"{} songs have incorrect genre and will be dropped\".format(incorrect_genre_songs.shape[0]))\n",
    "df = df[~df.id.isin(incorrect_genre_songs.id)]"
   ]
  },
  {
   "cell_type": "code",
   "execution_count": 91,
   "id": "34cdbac4-e9c9-423b-834b-90edc05a27a4",
   "metadata": {},
   "outputs": [],
   "source": [
    "df = pd.concat([df, df_onboarding], axis=0)"
   ]
  },
  {
   "cell_type": "code",
   "execution_count": 94,
   "id": "41d34d3a-4a35-4422-ae8b-18a020b412a6",
   "metadata": {},
   "outputs": [],
   "source": [
    "df.to_pickle(os.path.join(\"datasets\", 'onboarding_step5.pkl'))"
   ]
  },
  {
   "cell_type": "markdown",
   "id": "45aedfe4-f101-4055-9a1a-55731fa62078",
   "metadata": {
    "jp-MarkdownHeadingCollapsed": true
   },
   "source": [
    "# TF-IDF"
   ]
  },
  {
   "cell_type": "code",
   "execution_count": 98,
   "id": "a83d8252-1952-4620-b2af-7ae512100f60",
   "metadata": {},
   "outputs": [],
   "source": [
    "tf_processor = FeatureProcessor(\n",
    "    extractor=TfidfFeatureExtractor(n_pca_components=100),\n",
    "    input_file=os.path.join(\"datasets\", \"onboarding_step5.pkl\"),\n",
    "    output_file=os.path.join('datasets', \"onboarding_step6.pkl\"),\n",
    "    batch_size=None\n",
    ")\n",
    "tf_processor.process_batches()"
   ]
  },
  {
   "cell_type": "markdown",
   "id": "2959b0da-a4a6-4c8d-9c05-1da2e425e2ba",
   "metadata": {
    "jp-MarkdownHeadingCollapsed": true
   },
   "source": [
    "# Cleaning"
   ]
  },
  {
   "cell_type": "code",
   "execution_count": 99,
   "id": "2fd69ada-caa2-4344-815f-c63cdfcd8eb2",
   "metadata": {},
   "outputs": [
    {
     "data": {
      "text/plain": [
       "(5890, 178)"
      ]
     },
     "execution_count": 99,
     "metadata": {},
     "output_type": "execute_result"
    }
   ],
   "source": [
    "df = pd.read_pickle(os.path.join(\"datasets\", \"onboarding_step6.pkl\"))\n",
    "df.shape"
   ]
  },
  {
   "cell_type": "code",
   "execution_count": 100,
   "id": "34d4844c-7a8b-4169-b85c-d59e0f75efc2",
   "metadata": {},
   "outputs": [],
   "source": [
    "# Fixing the dtypes\n",
    "cast_to_int_columns = ['duration_ms', 'album_release_year', 'key', 'mode', 'time_signature', 'explicit']\n",
    "df[cast_to_int_columns] = df[cast_to_int_columns].astype(int)\n",
    "\n",
    "cast_to_category_columns = ['key', 'mode', 'time_signature', 'explicit', 'language', 'genre']\n",
    "df[cast_to_category_columns] = df[cast_to_category_columns].astype(str).astype('category')"
   ]
  },
  {
   "cell_type": "code",
   "execution_count": 129,
   "id": "fbddb155-9fd5-465e-a283-f0ac0d4063f8",
   "metadata": {},
   "outputs": [],
   "source": [
    "df.to_pickle(os.path.join(\"datasets\", 'final_data.pkl'))"
   ]
  },
  {
   "cell_type": "code",
   "execution_count": 102,
   "id": "e12044f1-12f2-4de6-a9ea-5c777db53b47",
   "metadata": {},
   "outputs": [],
   "source": [
    "for pkl in [ file for file in os.listdir('datasets') if file.startswith('onboarding') and file.endswith('pkl')]:\n",
    "    os.remove(os.path.join('datasets', pkl))"
   ]
  },
  {
   "cell_type": "code",
   "execution_count": null,
   "id": "89a705dd-5f96-4d36-b3fe-620e7e7a2b3e",
   "metadata": {},
   "outputs": [],
   "source": []
  }
 ],
 "metadata": {
  "kernelspec": {
   "display_name": "Python 3 (ipykernel)",
   "language": "python",
   "name": "python3"
  },
  "language_info": {
   "codemirror_mode": {
    "name": "ipython",
    "version": 3
   },
   "file_extension": ".py",
   "mimetype": "text/x-python",
   "name": "python",
   "nbconvert_exporter": "python",
   "pygments_lexer": "ipython3",
   "version": "3.10.12"
  }
 },
 "nbformat": 4,
 "nbformat_minor": 5
}
