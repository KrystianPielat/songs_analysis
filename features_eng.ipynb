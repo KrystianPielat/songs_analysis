{
 "cells": [
  {
   "cell_type": "code",
   "execution_count": 134,
   "id": "3aac368b-0904-4021-afa9-e5c9d9202bb0",
   "metadata": {},
   "outputs": [
    {
     "name": "stdout",
     "output_type": "stream",
     "text": [
      "The autoreload extension is already loaded. To reload it, use:\n",
      "  %reload_ext autoreload\n"
     ]
    }
   ],
   "source": [
    "%load_ext autoreload\n",
    "%autoreload 2\n",
    "    \n",
    "from classes.song import Song\n",
    "from classes.playlist import Playlist\n",
    "from classes.spotify_manager import SpotifyManager\n",
    "from classes.lyrics_manager import LyricsManager\n",
    "from dotenv import load_dotenv\n",
    "from classes.utils import gather_data_from_folders\n",
    "import pandas as pd\n",
    "import os\n",
    "import seaborn as sns\n",
    "from classes.text_features import TextFeatureExtractor\n",
    "from classes.audio_features import AudioFeatureExtractor\n",
    "from classes.utils import find_songs_to_drop, clean_songs_to_drop\n",
    "from classes.feature_processor import FeatureProcessor\n",
    "\n",
    "load_dotenv();"
   ]
  },
  {
   "cell_type": "markdown",
   "id": "f553cf19-b381-4ee4-9ed2-9ad32c44db43",
   "metadata": {},
   "source": [
    "# Loading the data"
   ]
  },
  {
   "cell_type": "code",
   "execution_count": 135,
   "id": "739719b1-3fc5-4cf2-9d7f-e6351fb5d513",
   "metadata": {},
   "outputs": [
    {
     "name": "stdout",
     "output_type": "stream",
     "text": [
      "\u001b[1;32mINFO: Loading CSV file: /home/krystian/Python/Jupyter-projects/thesis/songs_analysis/playlists/Best Of Global Hip-Hop 2024/Best Of Global Hip-Hop 2024.csv\u001b[0m\n",
      "\u001b[1;32mINFO: Loading CSV file: /home/krystian/Python/Jupyter-projects/thesis/songs_analysis/playlists/HOUSE MIX 2024 🔥 HOUSE PARTY 2024 🔥HOUSE MUSIC 2024 🔥/HOUSE MIX 2024 🔥 HOUSE PARTY 2024 🔥HOUSE MUSIC 2024 🔥.csv\u001b[0m\n",
      "\u001b[1;32mINFO: Loading CSV file: /home/krystian/Python/Jupyter-projects/thesis/songs_analysis/playlists/✨LATINO✨/✨LATINO✨.csv\u001b[0m\n",
      "\u001b[1;32mINFO: Loading CSV file: /home/krystian/Python/Jupyter-projects/thesis/songs_analysis/playlists/final download 1/final download 1.csv\u001b[0m\n",
      "\u001b[1;32mINFO: Loading CSV file: /home/krystian/Python/Jupyter-projects/thesis/songs_analysis/playlists/60s-70s Mix/60s-70s Mix.csv\u001b[0m\n",
      "\u001b[1;32mINFO: Loading CSV file: /home/krystian/Python/Jupyter-projects/thesis/songs_analysis/playlists/Soul Jazz Mix/Soul Jazz Mix.csv\u001b[0m\n",
      "\u001b[1;32mINFO: Loading CSV file: /home/krystian/Python/Jupyter-projects/thesis/songs_analysis/playlists/Alternative Mix/Alternative Mix.csv\u001b[0m\n",
      "\u001b[1;32mINFO: Loading CSV file: /home/krystian/Python/Jupyter-projects/thesis/songs_analysis/playlists/Reggae Mix/Reggae Mix.csv\u001b[0m\n",
      "\u001b[1;32mINFO: Loading CSV file: /home/krystian/Python/Jupyter-projects/thesis/songs_analysis/playlists/Best reggae mix ever - Summer 2024/Best reggae mix ever - Summer 2024.csv\u001b[0m\n",
      "\u001b[1;32mINFO: Loading CSV file: /home/krystian/Python/Jupyter-projects/thesis/songs_analysis/playlists/Best country songs (greatest hits)/Best country songs (greatest hits).csv\u001b[0m\n",
      "\u001b[1;32mINFO: Loading CSV file: /home/krystian/Python/Jupyter-projects/thesis/songs_analysis/playlists/Metal Mix/Metal Mix.csv\u001b[0m\n",
      "\u001b[1;32mINFO: Loading CSV file: /home/krystian/Python/Jupyter-projects/thesis/songs_analysis/playlists/Rap Mix/Rap Mix.csv\u001b[0m\n",
      "\u001b[1;32mINFO: Loading CSV file: /home/krystian/Python/Jupyter-projects/thesis/songs_analysis/playlists/Jazz Mix/Jazz Mix.csv\u001b[0m\n",
      "\u001b[1;32mINFO: Loading CSV file: /home/krystian/Python/Jupyter-projects/thesis/songs_analysis/playlists/uu/uu.csv\u001b[0m\n",
      "\u001b[1;32mINFO: Loading CSV file: /home/krystian/Python/Jupyter-projects/thesis/songs_analysis/playlists/Latin Mix/Latin Mix.csv\u001b[0m\n",
      "\u001b[1;32mINFO: Loading CSV file: /home/krystian/Python/Jupyter-projects/thesis/songs_analysis/playlists/Latin Hit Mix/Latin Hit Mix.csv\u001b[0m\n",
      "\u001b[1;32mINFO: Loading CSV file: /home/krystian/Python/Jupyter-projects/thesis/songs_analysis/playlists/Every song in the world 🌍 /Every song in the world 🌍 .csv\u001b[0m\n",
      "\u001b[1;32mINFO: Loading CSV file: /home/krystian/Python/Jupyter-projects/thesis/songs_analysis/playlists/Changes/Changes.csv\u001b[0m\n",
      "\u001b[1;32mINFO: Loading CSV file: /home/krystian/Python/Jupyter-projects/thesis/songs_analysis/playlists/All Out 60s/All Out 60s.csv\u001b[0m\n",
      "\u001b[1;32mINFO: Loading CSV file: /home/krystian/Python/Jupyter-projects/thesis/songs_analysis/playlists/Skinny Love/Skinny Love.csv\u001b[0m\n",
      "\u001b[1;32mINFO: Loading CSV file: /home/krystian/Python/Jupyter-projects/thesis/songs_analysis/playlists/final download 2/final download 2.csv\u001b[0m\n"
     ]
    }
   ],
   "source": [
    "playlists_dir = 'audio_sentiment_classifier/playlists'\n",
    "playlists_dir = os.path.join(\"/\".join(os.path.abspath(os.path.realpath(__name__)).split(\"/\")[:-1]), \"playlists\")\n",
    "df_from_folders = gather_data_from_folders(playlists_dir)"
   ]
  },
  {
   "cell_type": "code",
   "execution_count": 136,
   "id": "fb744daa-05ac-4925-a908-c94a63ea2da9",
   "metadata": {},
   "outputs": [
    {
     "data": {
      "text/plain": [
       "(6152, 24)"
      ]
     },
     "execution_count": 136,
     "metadata": {},
     "output_type": "execute_result"
    }
   ],
   "source": [
    "df_from_folders.shape"
   ]
  },
  {
   "cell_type": "code",
   "execution_count": 137,
   "id": "ccbc5fda-3980-41a7-981b-778c0fc1626e",
   "metadata": {},
   "outputs": [],
   "source": [
    "df = pd.read_pickle(os.path.join(\"datasets\", \"final_data.pkl\"))"
   ]
  },
  {
   "cell_type": "code",
   "execution_count": 138,
   "id": "a233a0bc-18ae-4666-98d0-9f1966805ff4",
   "metadata": {},
   "outputs": [
    {
     "data": {
      "text/plain": [
       "(5422, 122)"
      ]
     },
     "execution_count": 138,
     "metadata": {},
     "output_type": "execute_result"
    }
   ],
   "source": [
    "df.shape"
   ]
  },
  {
   "cell_type": "code",
   "execution_count": 139,
   "id": "5f0f8566-3af2-4ae2-8c9a-5818808a6921",
   "metadata": {},
   "outputs": [],
   "source": [
    "df_to_process = df_from_folders[~df_from_folders['id'].isin(df['id'])]"
   ]
  },
  {
   "cell_type": "code",
   "execution_count": 140,
   "id": "4cf0aafa-499b-44b3-bfe2-d5b93c14d263",
   "metadata": {},
   "outputs": [
    {
     "data": {
      "text/plain": [
       "(504, 24)"
      ]
     },
     "execution_count": 140,
     "metadata": {},
     "output_type": "execute_result"
    }
   ],
   "source": [
    "df_to_process.shape"
   ]
  },
  {
   "cell_type": "code",
   "execution_count": 141,
   "id": "6d670c29-f85a-40eb-b69f-97251f8d18aa",
   "metadata": {},
   "outputs": [
    {
     "data": {
      "text/plain": [
       "id                     0\n",
       "title                  0\n",
       "artist                 0\n",
       "album_art_url          0\n",
       "popularity            10\n",
       "explicit               0\n",
       "album_release_year     0\n",
       "duration_ms            0\n",
       "genres                 0\n",
       "lyrics                 0\n",
       "mp3_path               0\n",
       "csv_path               0\n",
       "danceability           0\n",
       "energy                 0\n",
       "key                    0\n",
       "loudness               0\n",
       "mode                   0\n",
       "speechiness            0\n",
       "acousticness           0\n",
       "instrumentalness       0\n",
       "liveness               0\n",
       "valence                0\n",
       "tempo                  0\n",
       "time_signature         0\n",
       "dtype: int64"
      ]
     },
     "execution_count": 141,
     "metadata": {},
     "output_type": "execute_result"
    }
   ],
   "source": [
    "df_to_process.isna().sum()"
   ]
  },
  {
   "cell_type": "markdown",
   "id": "5272ac43-9b6b-468c-baee-a7210bcc7604",
   "metadata": {},
   "source": [
    "# Getting rid of unusable songs"
   ]
  },
  {
   "cell_type": "code",
   "execution_count": 142,
   "id": "7e13c4d5-fd25-4efb-998b-a6650b39e58f",
   "metadata": {},
   "outputs": [
    {
     "name": "stderr",
     "output_type": "stream",
     "text": [
      "/home/krystian/Python/Jupyter-projects/thesis/songs_analysis/classes/utils.py:117: SettingWithCopyWarning: \n",
      "A value is trying to be set on a copy of a slice from a DataFrame.\n",
      "Try using .loc[row_indexer,col_indexer] = value instead\n",
      "\n",
      "See the caveats in the documentation: https://pandas.pydata.org/pandas-docs/stable/user_guide/indexing.html#returning-a-view-versus-a-copy\n",
      "  incorrect_genre_rows = df_to_process[(df_to_process.genre.isna()) | (df_to_process.genre == 'None')].index\n",
      "\u001b[1;33mWARNING: Dropping song 'loquita' by 'claydee': incorrect or missing genre.\u001b[0m\n",
      "\u001b[1;33mWARNING: Dropping song 'abusadamente' by 'mc gustta': incorrect or missing genre.\u001b[0m\n",
      "\u001b[1;33mWARNING: Dropping song 'la habana' by 'pinto “wahin”': incorrect or missing genre.\u001b[0m\n",
      "\u001b[1;33mWARNING: Dropping song 'single ladies' by 'remady & manu': incorrect or missing genre.\u001b[0m\n",
      "\u001b[1;33mWARNING: Dropping song 'forever you and me' by 'the teskey brothers': incorrect or missing genre.\u001b[0m\n",
      "\u001b[1;33mWARNING: Dropping song 'easy to come home' by 'dojo cuts': incorrect or missing genre.\u001b[0m\n",
      "\u001b[1;33mWARNING: Dropping song 'cantaloupe island' by 'herbie hancock': short lyrics.\u001b[0m\n",
      "\u001b[1;33mWARNING: Dropping song 'it's our love' by 'thee sacred souls': incorrect or missing genre.\u001b[0m\n",
      "\u001b[1;33mWARNING: Dropping song 'weak for your love' by 'thee sacred souls': incorrect or missing genre.\u001b[0m\n",
      "\u001b[1;33mWARNING: Dropping song 'one more reggae for the road' by 'bill lovelady': incorrect or missing genre.\u001b[0m\n",
      "\u001b[1;33mWARNING: Dropping song 'twist and shout' by 'chaka demus & pliers': incorrect or missing genre.\u001b[0m\n",
      "\u001b[1;33mWARNING: Dropping song 'over the rainbow' by 'israel kamakawiwo'ole': incorrect or missing genre.\u001b[0m\n",
      "\u001b[1;33mWARNING: Dropping song 'escucha me' by 'gipsy kings': incorrect or missing genre.\u001b[0m\n",
      "\u001b[1;33mWARNING: Dropping song 'granite' by 'sleep token': incorrect or missing genre.\u001b[0m\n",
      "\u001b[1;33mWARNING: Dropping song 'si no quieres no' by 'luis r conriquez': incorrect or missing genre.\u001b[0m\n",
      "\u001b[1;33mWARNING: Dropping song 'que onda' by 'calle 24': incorrect or missing genre.\u001b[0m\n",
      "\u001b[1;33mWARNING: Dropping song 'el amor de su vida' by 'grupo frontera': incorrect or missing genre.\u001b[0m\n",
      "\u001b[1;33mWARNING: Dropping song 'si no estás' by 'iñigo quintero': incorrect or missing genre.\u001b[0m\n",
      "\u001b[1;33mWARNING: Dropping song 'una cerveza' by 'fuerza regida': incorrect or missing genre.\u001b[0m\n",
      "\u001b[1;33mWARNING: Dropping song 'la people' by 'peso pluma': incorrect or missing genre.\u001b[0m\n",
      "\u001b[1;33mWARNING: Dropping song 'harley quinn' by 'fuerza regida': incorrect or missing genre.\u001b[0m\n",
      "\u001b[1;33mWARNING: Dropping song 'la diabla' by 'xavi': incorrect or missing genre.\u001b[0m\n",
      "\u001b[1;33mWARNING: Dropping song 'ella baila sola' by 'eslabon armado': incorrect or missing genre.\u001b[0m\n",
      "\u001b[1;33mWARNING: Dropping song 'crazyz' by 'fuerza regida': incorrect or missing genre.\u001b[0m\n",
      "\u001b[1;33mWARNING: Dropping song 'bellakeo' by 'peso pluma': incorrect or missing genre.\u001b[0m\n",
      "\u001b[1;33mWARNING: Dropping song 'elovrga' by 'alex favela': incorrect or missing genre.\u001b[0m\n",
      "\u001b[1;33mWARNING: Dropping song 'bipolar' by 'peso pluma': incorrect or missing genre.\u001b[0m\n",
      "\u001b[1;33mWARNING: Dropping song 'la víctima' by 'xavi': incorrect or missing genre.\u001b[0m\n",
      "\u001b[1;33mWARNING: Dropping song 'excesos' by 'fuerza regida': incorrect or missing genre.\u001b[0m\n",
      "\u001b[1;33mWARNING: Dropping song 'tulum' by 'peso pluma': incorrect or missing genre.\u001b[0m\n",
      "\u001b[1;33mWARNING: Dropping song 'sabor fresa' by 'fuerza regida': incorrect or missing genre.\u001b[0m\n",
      "\u001b[1;33mWARNING: Dropping song 'que se cuide' by 'luis r conriquez': incorrect or missing genre.\u001b[0m\n",
      "\u001b[1;33mWARNING: Dropping song 'alucin' by 'eugenio esquivel': incorrect or missing genre.\u001b[0m\n",
      "\u001b[1;33mWARNING: Dropping song 'x'clusivo' by 'gonzy': incorrect or missing genre.\u001b[0m\n",
      "\u001b[1;33mWARNING: Dropping song 'tengo un plan' by 'key': incorrect or missing genre.\u001b[0m\n",
      "\u001b[1;33mWARNING: Dropping song 'maquillaje' by 'renn': incorrect or missing genre.\u001b[0m\n",
      "\u001b[1;33mWARNING: Dropping song 'maquillaje' by 'renn': incorrect or missing genre.\u001b[0m\n",
      "\u001b[1;33mWARNING: Dropping song 'torai' by 'grupo marca registrada': incorrect or missing genre.\u001b[0m\n"
     ]
    }
   ],
   "source": [
    "df_songs_to_drop = find_songs_to_drop(df_to_process, allow_nan_cols=['popularity'])"
   ]
  },
  {
   "cell_type": "code",
   "execution_count": 143,
   "id": "a843deb6-3cd6-4cbb-a4d8-05dd72d73a1f",
   "metadata": {},
   "outputs": [
    {
     "name": "stdout",
     "output_type": "stream",
     "text": [
      "Songs that will be dropped:  38\n"
     ]
    }
   ],
   "source": [
    "print(\"Songs that will be dropped: \", len(df_songs_to_drop))"
   ]
  },
  {
   "cell_type": "code",
   "execution_count": 144,
   "id": "01be0995-0098-4e6c-a232-1a8e43531b74",
   "metadata": {},
   "outputs": [
    {
     "data": {
      "text/html": [
       "<div>\n",
       "<style scoped>\n",
       "    .dataframe tbody tr th:only-of-type {\n",
       "        vertical-align: middle;\n",
       "    }\n",
       "\n",
       "    .dataframe tbody tr th {\n",
       "        vertical-align: top;\n",
       "    }\n",
       "\n",
       "    .dataframe thead th {\n",
       "        text-align: right;\n",
       "    }\n",
       "</style>\n",
       "<table border=\"1\" class=\"dataframe\">\n",
       "  <thead>\n",
       "    <tr style=\"text-align: right;\">\n",
       "      <th></th>\n",
       "      <th>id</th>\n",
       "      <th>title</th>\n",
       "      <th>artist</th>\n",
       "      <th>album_art_url</th>\n",
       "      <th>popularity</th>\n",
       "      <th>explicit</th>\n",
       "      <th>album_release_year</th>\n",
       "      <th>duration_ms</th>\n",
       "      <th>genres</th>\n",
       "      <th>lyrics</th>\n",
       "      <th>...</th>\n",
       "      <th>loudness</th>\n",
       "      <th>mode</th>\n",
       "      <th>speechiness</th>\n",
       "      <th>acousticness</th>\n",
       "      <th>instrumentalness</th>\n",
       "      <th>liveness</th>\n",
       "      <th>valence</th>\n",
       "      <th>tempo</th>\n",
       "      <th>time_signature</th>\n",
       "      <th>genre</th>\n",
       "    </tr>\n",
       "  </thead>\n",
       "  <tbody>\n",
       "    <tr>\n",
       "      <th>129</th>\n",
       "      <td>5uuNPORdHV6PYNclkvNGaA</td>\n",
       "      <td>loquita</td>\n",
       "      <td>claydee</td>\n",
       "      <td>https://i.scdn.co/image/ab67616d0000b273718e2c...</td>\n",
       "      <td>28.0</td>\n",
       "      <td>False</td>\n",
       "      <td>2019.0</td>\n",
       "      <td>170723.0</td>\n",
       "      <td>[]</td>\n",
       "      <td>[Letra de \"Loquita\"]\\n[Coro: Claydee &amp; \\nEleni...</td>\n",
       "      <td>...</td>\n",
       "      <td>-5.262</td>\n",
       "      <td>1.0</td>\n",
       "      <td>0.0385</td>\n",
       "      <td>0.1870</td>\n",
       "      <td>0.003380</td>\n",
       "      <td>0.1530</td>\n",
       "      <td>0.716</td>\n",
       "      <td>172.027</td>\n",
       "      <td>4.0</td>\n",
       "      <td>None</td>\n",
       "    </tr>\n",
       "    <tr>\n",
       "      <th>150</th>\n",
       "      <td>1kWwNpx68BMAjJeksmN3JV</td>\n",
       "      <td>abusadamente</td>\n",
       "      <td>mc gustta</td>\n",
       "      <td>https://i.scdn.co/image/ab67616d0000b273f66824...</td>\n",
       "      <td>62.0</td>\n",
       "      <td>True</td>\n",
       "      <td>2017.0</td>\n",
       "      <td>215944.0</td>\n",
       "      <td>['funk carioca', 'funk ostentacao']</td>\n",
       "      <td>[Letra de \"Abusadamente\"]\\n[Intro: MC DG e \\nM...</td>\n",
       "      <td>...</td>\n",
       "      <td>-3.585</td>\n",
       "      <td>0.0</td>\n",
       "      <td>0.1260</td>\n",
       "      <td>0.8090</td>\n",
       "      <td>0.002520</td>\n",
       "      <td>0.2250</td>\n",
       "      <td>0.404</td>\n",
       "      <td>130.079</td>\n",
       "      <td>4.0</td>\n",
       "      <td>None</td>\n",
       "    </tr>\n",
       "    <tr>\n",
       "      <th>152</th>\n",
       "      <td>14bJVacqCwgK7QhEe5mFZw</td>\n",
       "      <td>la habana</td>\n",
       "      <td>pinto “wahin”</td>\n",
       "      <td>https://i.scdn.co/image/ab67616d0000b273ec967a...</td>\n",
       "      <td>42.0</td>\n",
       "      <td>False</td>\n",
       "      <td>2017.0</td>\n",
       "      <td>164706.0</td>\n",
       "      <td>[]</td>\n",
       "      <td>(La Habana tiene su cosa\\nEs aquí donde se vac...</td>\n",
       "      <td>...</td>\n",
       "      <td>-3.007</td>\n",
       "      <td>0.0</td>\n",
       "      <td>0.0438</td>\n",
       "      <td>0.1190</td>\n",
       "      <td>0.000003</td>\n",
       "      <td>0.0823</td>\n",
       "      <td>0.554</td>\n",
       "      <td>108.036</td>\n",
       "      <td>4.0</td>\n",
       "      <td>None</td>\n",
       "    </tr>\n",
       "    <tr>\n",
       "      <th>159</th>\n",
       "      <td>6rDWCP2cWEDHpBnK2L14u5</td>\n",
       "      <td>single ladies</td>\n",
       "      <td>remady &amp; manu</td>\n",
       "      <td>https://i.scdn.co/image/ab67616d0000b27346170e...</td>\n",
       "      <td>40.0</td>\n",
       "      <td>False</td>\n",
       "      <td>2012.0</td>\n",
       "      <td>221933.0</td>\n",
       "      <td>[]</td>\n",
       "      <td>\"'Manu\"'\\nHey single ladies, I know you like t...</td>\n",
       "      <td>...</td>\n",
       "      <td>-6.268</td>\n",
       "      <td>0.0</td>\n",
       "      <td>0.0376</td>\n",
       "      <td>0.0201</td>\n",
       "      <td>0.000000</td>\n",
       "      <td>0.4040</td>\n",
       "      <td>0.675</td>\n",
       "      <td>127.968</td>\n",
       "      <td>4.0</td>\n",
       "      <td>None</td>\n",
       "    </tr>\n",
       "    <tr>\n",
       "      <th>1598</th>\n",
       "      <td>4GUaG3df9nbrj77GKEB76j</td>\n",
       "      <td>forever you and me</td>\n",
       "      <td>the teskey brothers</td>\n",
       "      <td>https://i.scdn.co/image/ab67616d0000b273958fdc...</td>\n",
       "      <td>74.0</td>\n",
       "      <td>False</td>\n",
       "      <td>2018.0</td>\n",
       "      <td>175592.0</td>\n",
       "      <td>['australian americana']</td>\n",
       "      <td>Forever you and me\\nI know my darling I'll be ...</td>\n",
       "      <td>...</td>\n",
       "      <td>-4.940</td>\n",
       "      <td>1.0</td>\n",
       "      <td>0.0331</td>\n",
       "      <td>0.4360</td>\n",
       "      <td>0.000010</td>\n",
       "      <td>0.0971</td>\n",
       "      <td>0.538</td>\n",
       "      <td>175.159</td>\n",
       "      <td>3.0</td>\n",
       "      <td>None</td>\n",
       "    </tr>\n",
       "  </tbody>\n",
       "</table>\n",
       "<p>5 rows × 25 columns</p>\n",
       "</div>"
      ],
      "text/plain": [
       "                          id               title               artist  \\\n",
       "129   5uuNPORdHV6PYNclkvNGaA             loquita              claydee   \n",
       "150   1kWwNpx68BMAjJeksmN3JV        abusadamente            mc gustta   \n",
       "152   14bJVacqCwgK7QhEe5mFZw           la habana        pinto “wahin”   \n",
       "159   6rDWCP2cWEDHpBnK2L14u5       single ladies        remady & manu   \n",
       "1598  4GUaG3df9nbrj77GKEB76j  forever you and me  the teskey brothers   \n",
       "\n",
       "                                          album_art_url  popularity  explicit  \\\n",
       "129   https://i.scdn.co/image/ab67616d0000b273718e2c...        28.0     False   \n",
       "150   https://i.scdn.co/image/ab67616d0000b273f66824...        62.0      True   \n",
       "152   https://i.scdn.co/image/ab67616d0000b273ec967a...        42.0     False   \n",
       "159   https://i.scdn.co/image/ab67616d0000b27346170e...        40.0     False   \n",
       "1598  https://i.scdn.co/image/ab67616d0000b273958fdc...        74.0     False   \n",
       "\n",
       "      album_release_year  duration_ms                               genres  \\\n",
       "129               2019.0     170723.0                                   []   \n",
       "150               2017.0     215944.0  ['funk carioca', 'funk ostentacao']   \n",
       "152               2017.0     164706.0                                   []   \n",
       "159               2012.0     221933.0                                   []   \n",
       "1598              2018.0     175592.0             ['australian americana']   \n",
       "\n",
       "                                                 lyrics  ... loudness mode  \\\n",
       "129   [Letra de \"Loquita\"]\\n[Coro: Claydee & \\nEleni...  ...   -5.262  1.0   \n",
       "150   [Letra de \"Abusadamente\"]\\n[Intro: MC DG e \\nM...  ...   -3.585  0.0   \n",
       "152   (La Habana tiene su cosa\\nEs aquí donde se vac...  ...   -3.007  0.0   \n",
       "159   \"'Manu\"'\\nHey single ladies, I know you like t...  ...   -6.268  0.0   \n",
       "1598  Forever you and me\\nI know my darling I'll be ...  ...   -4.940  1.0   \n",
       "\n",
       "      speechiness  acousticness  instrumentalness  liveness  valence    tempo  \\\n",
       "129        0.0385        0.1870          0.003380    0.1530    0.716  172.027   \n",
       "150        0.1260        0.8090          0.002520    0.2250    0.404  130.079   \n",
       "152        0.0438        0.1190          0.000003    0.0823    0.554  108.036   \n",
       "159        0.0376        0.0201          0.000000    0.4040    0.675  127.968   \n",
       "1598       0.0331        0.4360          0.000010    0.0971    0.538  175.159   \n",
       "\n",
       "      time_signature  genre  \n",
       "129              4.0   None  \n",
       "150              4.0   None  \n",
       "152              4.0   None  \n",
       "159              4.0   None  \n",
       "1598             3.0   None  \n",
       "\n",
       "[5 rows x 25 columns]"
      ]
     },
     "execution_count": 144,
     "metadata": {},
     "output_type": "execute_result"
    }
   ],
   "source": [
    "df_songs_to_drop.head()"
   ]
  },
  {
   "cell_type": "code",
   "execution_count": 145,
   "id": "5e86bc32-f971-49a7-9f1f-85a3a420ea31",
   "metadata": {},
   "outputs": [
    {
     "name": "stdout",
     "output_type": "stream",
     "text": [
      "\u001b[1;32mINFO: Removed MP3 file: /home/krystian/Python/Jupyter-projects/thesis/songs_analysis/playlists/✨LATINO✨/loquita.mp3\u001b[0m\n",
      "\u001b[1;32mINFO: Updated CSV file: /home/krystian/Python/Jupyter-projects/thesis/songs_analysis/playlists/✨LATINO✨/✨LATINO✨.csv\u001b[0m\n",
      "\u001b[1;32mINFO: Removed MP3 file: /home/krystian/Python/Jupyter-projects/thesis/songs_analysis/playlists/✨LATINO✨/abusadamente.mp3\u001b[0m\n",
      "\u001b[1;32mINFO: Updated CSV file: /home/krystian/Python/Jupyter-projects/thesis/songs_analysis/playlists/✨LATINO✨/✨LATINO✨.csv\u001b[0m\n",
      "\u001b[1;32mINFO: Removed MP3 file: /home/krystian/Python/Jupyter-projects/thesis/songs_analysis/playlists/✨LATINO✨/la habana.mp3\u001b[0m\n",
      "\u001b[1;32mINFO: Updated CSV file: /home/krystian/Python/Jupyter-projects/thesis/songs_analysis/playlists/✨LATINO✨/✨LATINO✨.csv\u001b[0m\n",
      "\u001b[1;32mINFO: Removed MP3 file: /home/krystian/Python/Jupyter-projects/thesis/songs_analysis/playlists/✨LATINO✨/single ladies.mp3\u001b[0m\n",
      "\u001b[1;32mINFO: Updated CSV file: /home/krystian/Python/Jupyter-projects/thesis/songs_analysis/playlists/✨LATINO✨/✨LATINO✨.csv\u001b[0m\n",
      "\u001b[1;32mINFO: Removed MP3 file: /home/krystian/Python/Jupyter-projects/thesis/songs_analysis/playlists/Soul Jazz Mix/forever you and me.mp3\u001b[0m\n",
      "\u001b[1;32mINFO: Updated CSV file: /home/krystian/Python/Jupyter-projects/thesis/songs_analysis/playlists/Soul Jazz Mix/Soul Jazz Mix.csv\u001b[0m\n",
      "\u001b[1;32mINFO: Removed MP3 file: /home/krystian/Python/Jupyter-projects/thesis/songs_analysis/playlists/Soul Jazz Mix/easy to come home.mp3\u001b[0m\n",
      "\u001b[1;32mINFO: Updated CSV file: /home/krystian/Python/Jupyter-projects/thesis/songs_analysis/playlists/Soul Jazz Mix/Soul Jazz Mix.csv\u001b[0m\n",
      "\u001b[1;32mINFO: Removed MP3 file: /home/krystian/Python/Jupyter-projects/thesis/songs_analysis/playlists/Soul Jazz Mix/cantaloupe island.mp3\u001b[0m\n",
      "\u001b[1;32mINFO: Updated CSV file: /home/krystian/Python/Jupyter-projects/thesis/songs_analysis/playlists/Soul Jazz Mix/Soul Jazz Mix.csv\u001b[0m\n",
      "\u001b[1;32mINFO: Removed MP3 file: /home/krystian/Python/Jupyter-projects/thesis/songs_analysis/playlists/Soul Jazz Mix/it's our love.mp3\u001b[0m\n",
      "\u001b[1;32mINFO: Updated CSV file: /home/krystian/Python/Jupyter-projects/thesis/songs_analysis/playlists/Soul Jazz Mix/Soul Jazz Mix.csv\u001b[0m\n",
      "\u001b[1;32mINFO: Removed MP3 file: /home/krystian/Python/Jupyter-projects/thesis/songs_analysis/playlists/Soul Jazz Mix/weak for your love.mp3\u001b[0m\n",
      "\u001b[1;32mINFO: Updated CSV file: /home/krystian/Python/Jupyter-projects/thesis/songs_analysis/playlists/Soul Jazz Mix/Soul Jazz Mix.csv\u001b[0m\n",
      "\u001b[1;32mINFO: Removed MP3 file: /home/krystian/Python/Jupyter-projects/thesis/songs_analysis/playlists/Best reggae mix ever - Summer 2024/one more reggae for the road.mp3\u001b[0m\n",
      "\u001b[1;32mINFO: Updated CSV file: /home/krystian/Python/Jupyter-projects/thesis/songs_analysis/playlists/Best reggae mix ever - Summer 2024/Best reggae mix ever - Summer 2024.csv\u001b[0m\n",
      "\u001b[1;32mINFO: Removed MP3 file: /home/krystian/Python/Jupyter-projects/thesis/songs_analysis/playlists/Best reggae mix ever - Summer 2024/twist and shout.mp3\u001b[0m\n",
      "\u001b[1;32mINFO: Updated CSV file: /home/krystian/Python/Jupyter-projects/thesis/songs_analysis/playlists/Best reggae mix ever - Summer 2024/Best reggae mix ever - Summer 2024.csv\u001b[0m\n",
      "\u001b[1;32mINFO: Removed MP3 file: /home/krystian/Python/Jupyter-projects/thesis/songs_analysis/playlists/Best reggae mix ever - Summer 2024/over the rainbow.mp3\u001b[0m\n",
      "\u001b[1;32mINFO: Updated CSV file: /home/krystian/Python/Jupyter-projects/thesis/songs_analysis/playlists/Best reggae mix ever - Summer 2024/Best reggae mix ever - Summer 2024.csv\u001b[0m\n",
      "\u001b[1;32mINFO: Removed MP3 file: /home/krystian/Python/Jupyter-projects/thesis/songs_analysis/playlists/Best reggae mix ever - Summer 2024/escucha me.mp3\u001b[0m\n",
      "\u001b[1;32mINFO: Updated CSV file: /home/krystian/Python/Jupyter-projects/thesis/songs_analysis/playlists/Best reggae mix ever - Summer 2024/Best reggae mix ever - Summer 2024.csv\u001b[0m\n",
      "\u001b[1;32mINFO: Removed MP3 file: /home/krystian/Python/Jupyter-projects/thesis/songs_analysis/playlists/Metal Mix/granite.mp3\u001b[0m\n",
      "\u001b[1;32mINFO: Updated CSV file: /home/krystian/Python/Jupyter-projects/thesis/songs_analysis/playlists/Metal Mix/Metal Mix.csv\u001b[0m\n",
      "\u001b[1;32mINFO: Removed MP3 file: /home/krystian/Python/Jupyter-projects/thesis/songs_analysis/playlists/Latin Hit Mix/si no quieres no.mp3\u001b[0m\n",
      "\u001b[1;32mINFO: Updated CSV file: /home/krystian/Python/Jupyter-projects/thesis/songs_analysis/playlists/Latin Hit Mix/Latin Hit Mix.csv\u001b[0m\n",
      "\u001b[1;32mINFO: Removed MP3 file: /home/krystian/Python/Jupyter-projects/thesis/songs_analysis/playlists/Latin Hit Mix/que onda.mp3\u001b[0m\n",
      "\u001b[1;32mINFO: Updated CSV file: /home/krystian/Python/Jupyter-projects/thesis/songs_analysis/playlists/Latin Hit Mix/Latin Hit Mix.csv\u001b[0m\n",
      "\u001b[1;32mINFO: Removed MP3 file: /home/krystian/Python/Jupyter-projects/thesis/songs_analysis/playlists/Latin Hit Mix/el amor de su vida.mp3\u001b[0m\n",
      "\u001b[1;32mINFO: Updated CSV file: /home/krystian/Python/Jupyter-projects/thesis/songs_analysis/playlists/Latin Hit Mix/Latin Hit Mix.csv\u001b[0m\n",
      "\u001b[1;32mINFO: Removed MP3 file: /home/krystian/Python/Jupyter-projects/thesis/songs_analysis/playlists/Latin Hit Mix/si no estás.mp3\u001b[0m\n",
      "\u001b[1;32mINFO: Updated CSV file: /home/krystian/Python/Jupyter-projects/thesis/songs_analysis/playlists/Latin Hit Mix/Latin Hit Mix.csv\u001b[0m\n",
      "\u001b[1;32mINFO: Removed MP3 file: /home/krystian/Python/Jupyter-projects/thesis/songs_analysis/playlists/Latin Hit Mix/una cerveza.mp3\u001b[0m\n",
      "\u001b[1;32mINFO: Updated CSV file: /home/krystian/Python/Jupyter-projects/thesis/songs_analysis/playlists/Latin Hit Mix/Latin Hit Mix.csv\u001b[0m\n",
      "\u001b[1;32mINFO: Removed MP3 file: /home/krystian/Python/Jupyter-projects/thesis/songs_analysis/playlists/Latin Hit Mix/la people.mp3\u001b[0m\n",
      "\u001b[1;32mINFO: Updated CSV file: /home/krystian/Python/Jupyter-projects/thesis/songs_analysis/playlists/Latin Hit Mix/Latin Hit Mix.csv\u001b[0m\n",
      "\u001b[1;32mINFO: Removed MP3 file: /home/krystian/Python/Jupyter-projects/thesis/songs_analysis/playlists/Latin Hit Mix/harley quinn.mp3\u001b[0m\n",
      "\u001b[1;32mINFO: Updated CSV file: /home/krystian/Python/Jupyter-projects/thesis/songs_analysis/playlists/Latin Hit Mix/Latin Hit Mix.csv\u001b[0m\n",
      "\u001b[1;32mINFO: Removed MP3 file: /home/krystian/Python/Jupyter-projects/thesis/songs_analysis/playlists/Latin Hit Mix/la diabla.mp3\u001b[0m\n",
      "\u001b[1;32mINFO: Updated CSV file: /home/krystian/Python/Jupyter-projects/thesis/songs_analysis/playlists/Latin Hit Mix/Latin Hit Mix.csv\u001b[0m\n",
      "\u001b[1;32mINFO: Removed MP3 file: /home/krystian/Python/Jupyter-projects/thesis/songs_analysis/playlists/Latin Hit Mix/ella baila sola.mp3\u001b[0m\n",
      "\u001b[1;32mINFO: Updated CSV file: /home/krystian/Python/Jupyter-projects/thesis/songs_analysis/playlists/Latin Hit Mix/Latin Hit Mix.csv\u001b[0m\n",
      "\u001b[1;32mINFO: Removed MP3 file: /home/krystian/Python/Jupyter-projects/thesis/songs_analysis/playlists/Latin Hit Mix/crazyz.mp3\u001b[0m\n",
      "\u001b[1;32mINFO: Updated CSV file: /home/krystian/Python/Jupyter-projects/thesis/songs_analysis/playlists/Latin Hit Mix/Latin Hit Mix.csv\u001b[0m\n",
      "\u001b[1;32mINFO: Removed MP3 file: /home/krystian/Python/Jupyter-projects/thesis/songs_analysis/playlists/Latin Hit Mix/bellakeo.mp3\u001b[0m\n",
      "\u001b[1;32mINFO: Updated CSV file: /home/krystian/Python/Jupyter-projects/thesis/songs_analysis/playlists/Latin Hit Mix/Latin Hit Mix.csv\u001b[0m\n",
      "\u001b[1;32mINFO: Removed MP3 file: /home/krystian/Python/Jupyter-projects/thesis/songs_analysis/playlists/Latin Hit Mix/elovrga.mp3\u001b[0m\n",
      "\u001b[1;32mINFO: Updated CSV file: /home/krystian/Python/Jupyter-projects/thesis/songs_analysis/playlists/Latin Hit Mix/Latin Hit Mix.csv\u001b[0m\n",
      "\u001b[1;32mINFO: Removed MP3 file: /home/krystian/Python/Jupyter-projects/thesis/songs_analysis/playlists/Latin Hit Mix/bipolar.mp3\u001b[0m\n",
      "\u001b[1;32mINFO: Updated CSV file: /home/krystian/Python/Jupyter-projects/thesis/songs_analysis/playlists/Latin Hit Mix/Latin Hit Mix.csv\u001b[0m\n",
      "\u001b[1;32mINFO: Removed MP3 file: /home/krystian/Python/Jupyter-projects/thesis/songs_analysis/playlists/Latin Hit Mix/la víctima.mp3\u001b[0m\n",
      "\u001b[1;32mINFO: Updated CSV file: /home/krystian/Python/Jupyter-projects/thesis/songs_analysis/playlists/Latin Hit Mix/Latin Hit Mix.csv\u001b[0m\n",
      "\u001b[1;32mINFO: Removed MP3 file: /home/krystian/Python/Jupyter-projects/thesis/songs_analysis/playlists/Latin Hit Mix/excesos.mp3\u001b[0m\n",
      "\u001b[1;32mINFO: Updated CSV file: /home/krystian/Python/Jupyter-projects/thesis/songs_analysis/playlists/Latin Hit Mix/Latin Hit Mix.csv\u001b[0m\n",
      "\u001b[1;32mINFO: Removed MP3 file: /home/krystian/Python/Jupyter-projects/thesis/songs_analysis/playlists/Latin Hit Mix/tulum.mp3\u001b[0m\n",
      "\u001b[1;32mINFO: Updated CSV file: /home/krystian/Python/Jupyter-projects/thesis/songs_analysis/playlists/Latin Hit Mix/Latin Hit Mix.csv\u001b[0m\n",
      "\u001b[1;32mINFO: Removed MP3 file: /home/krystian/Python/Jupyter-projects/thesis/songs_analysis/playlists/Latin Hit Mix/sabor fresa.mp3\u001b[0m\n",
      "\u001b[1;32mINFO: Updated CSV file: /home/krystian/Python/Jupyter-projects/thesis/songs_analysis/playlists/Latin Hit Mix/Latin Hit Mix.csv\u001b[0m\n",
      "\u001b[1;32mINFO: Removed MP3 file: /home/krystian/Python/Jupyter-projects/thesis/songs_analysis/playlists/Latin Hit Mix/que se cuide.mp3\u001b[0m\n",
      "\u001b[1;32mINFO: Updated CSV file: /home/krystian/Python/Jupyter-projects/thesis/songs_analysis/playlists/Latin Hit Mix/Latin Hit Mix.csv\u001b[0m\n",
      "\u001b[1;32mINFO: Removed MP3 file: /home/krystian/Python/Jupyter-projects/thesis/songs_analysis/playlists/Latin Hit Mix/alucin.mp3\u001b[0m\n",
      "\u001b[1;32mINFO: Updated CSV file: /home/krystian/Python/Jupyter-projects/thesis/songs_analysis/playlists/Latin Hit Mix/Latin Hit Mix.csv\u001b[0m\n",
      "\u001b[1;32mINFO: Removed MP3 file: /home/krystian/Python/Jupyter-projects/thesis/songs_analysis/playlists/Latin Hit Mix/x'clusivo.mp3\u001b[0m\n",
      "\u001b[1;32mINFO: Updated CSV file: /home/krystian/Python/Jupyter-projects/thesis/songs_analysis/playlists/Latin Hit Mix/Latin Hit Mix.csv\u001b[0m\n",
      "\u001b[1;32mINFO: Removed MP3 file: /home/krystian/Python/Jupyter-projects/thesis/songs_analysis/playlists/Latin Hit Mix/tengo un plan.mp3\u001b[0m\n",
      "\u001b[1;32mINFO: Updated CSV file: /home/krystian/Python/Jupyter-projects/thesis/songs_analysis/playlists/Latin Hit Mix/Latin Hit Mix.csv\u001b[0m\n",
      "\u001b[1;32mINFO: Removed MP3 file: /home/krystian/Python/Jupyter-projects/thesis/songs_analysis/playlists/Latin Hit Mix/maquillaje.mp3\u001b[0m\n",
      "\u001b[1;32mINFO: Updated CSV file: /home/krystian/Python/Jupyter-projects/thesis/songs_analysis/playlists/Latin Hit Mix/Latin Hit Mix.csv\u001b[0m\n",
      "\u001b[1;32mINFO: Updated CSV file: /home/krystian/Python/Jupyter-projects/thesis/songs_analysis/playlists/Latin Hit Mix/Latin Hit Mix.csv\u001b[0m\n",
      "\u001b[1;32mINFO: Removed MP3 file: /home/krystian/Python/Jupyter-projects/thesis/songs_analysis/playlists/Latin Hit Mix/torai.mp3\u001b[0m\n",
      "\u001b[1;32mINFO: Updated CSV file: /home/krystian/Python/Jupyter-projects/thesis/songs_analysis/playlists/Latin Hit Mix/Latin Hit Mix.csv\u001b[0m\n"
     ]
    }
   ],
   "source": [
    "clean_songs_to_drop(df_songs_to_drop)"
   ]
  },
  {
   "cell_type": "code",
   "execution_count": 146,
   "id": "3702d415-f834-4771-8625-0a1ac26e2d7a",
   "metadata": {},
   "outputs": [],
   "source": [
    "df_to_process = df_to_process[~df_to_process.id.isin(df_songs_to_drop.id)]"
   ]
  },
  {
   "cell_type": "code",
   "execution_count": 147,
   "id": "3fc3e752-82c6-4b53-b397-88a8b68fa5ac",
   "metadata": {},
   "outputs": [
    {
     "data": {
      "text/plain": [
       "466"
      ]
     },
     "execution_count": 147,
     "metadata": {},
     "output_type": "execute_result"
    }
   ],
   "source": [
    "df_to_process.shape[0]"
   ]
  },
  {
   "cell_type": "code",
   "execution_count": 148,
   "id": "3ff385b3-07c0-494f-a18e-d4aef14e949d",
   "metadata": {},
   "outputs": [],
   "source": [
    "df_to_process.to_pickle(os.path.join(\"datasets\", \"onboarding_step1.pkl\"))"
   ]
  },
  {
   "cell_type": "markdown",
   "id": "1825808f-0f95-4e18-a006-7bcfe18da392",
   "metadata": {},
   "source": [
    "---"
   ]
  },
  {
   "cell_type": "markdown",
   "id": "6571e8e0-a62b-4fc1-8ace-4cf09cda7714",
   "metadata": {},
   "source": [
    "# Adding audio features"
   ]
  },
  {
   "cell_type": "code",
   "execution_count": 22,
   "id": "29005d6a-68b3-4941-99bc-9c6334690ab6",
   "metadata": {},
   "outputs": [
    {
     "name": "stdout",
     "output_type": "stream",
     "text": [
      "Total records to process: 281\n",
      "Processing in batches of size 10...\n"
     ]
    },
    {
     "data": {
      "application/vnd.jupyter.widget-view+json": {
       "model_id": "f6a0c4fb8b004ee6aa545bc704655867",
       "version_major": 2,
       "version_minor": 0
      },
      "text/plain": [
       "Processing Batches:   0%|          | 0/29 [00:00<?, ?batch/s]"
      ]
     },
     "metadata": {},
     "output_type": "display_data"
    },
    {
     "data": {
      "application/vnd.jupyter.widget-view+json": {
       "model_id": "071fd9c55bc84f1a874d5fa34de10c48",
       "version_major": 2,
       "version_minor": 0
      },
      "text/plain": [
       "Extracting Audio Features:   0%|          | 0/10 [00:00<?, ?file/s]"
      ]
     },
     "metadata": {},
     "output_type": "display_data"
    },
    {
     "name": "stdout",
     "output_type": "stream",
     "text": [
      "Saved batch with 10 records to datasets/onboarding_step2.pkl\n"
     ]
    },
    {
     "data": {
      "application/vnd.jupyter.widget-view+json": {
       "model_id": "9337533a640340daba7b02eb80faf05a",
       "version_major": 2,
       "version_minor": 0
      },
      "text/plain": [
       "Extracting Audio Features:   0%|          | 0/10 [00:00<?, ?file/s]"
      ]
     },
     "metadata": {},
     "output_type": "display_data"
    },
    {
     "name": "stdout",
     "output_type": "stream",
     "text": [
      "Saved batch with 10 records to datasets/onboarding_step2.pkl\n"
     ]
    },
    {
     "data": {
      "application/vnd.jupyter.widget-view+json": {
       "model_id": "39aef892f45341fb880c1476b37eb46e",
       "version_major": 2,
       "version_minor": 0
      },
      "text/plain": [
       "Extracting Audio Features:   0%|          | 0/10 [00:00<?, ?file/s]"
      ]
     },
     "metadata": {},
     "output_type": "display_data"
    },
    {
     "name": "stdout",
     "output_type": "stream",
     "text": [
      "Saved batch with 10 records to datasets/onboarding_step2.pkl\n"
     ]
    },
    {
     "data": {
      "application/vnd.jupyter.widget-view+json": {
       "model_id": "ff34b54371d84a31acaa06fc1d4885eb",
       "version_major": 2,
       "version_minor": 0
      },
      "text/plain": [
       "Extracting Audio Features:   0%|          | 0/10 [00:00<?, ?file/s]"
      ]
     },
     "metadata": {},
     "output_type": "display_data"
    },
    {
     "name": "stdout",
     "output_type": "stream",
     "text": [
      "Saved batch with 10 records to datasets/onboarding_step2.pkl\n"
     ]
    },
    {
     "data": {
      "application/vnd.jupyter.widget-view+json": {
       "model_id": "fc7433ce579b4b6383265f19dc3b56aa",
       "version_major": 2,
       "version_minor": 0
      },
      "text/plain": [
       "Extracting Audio Features:   0%|          | 0/10 [00:00<?, ?file/s]"
      ]
     },
     "metadata": {},
     "output_type": "display_data"
    },
    {
     "name": "stdout",
     "output_type": "stream",
     "text": [
      "Saved batch with 10 records to datasets/onboarding_step2.pkl\n"
     ]
    },
    {
     "data": {
      "application/vnd.jupyter.widget-view+json": {
       "model_id": "ecceb00b48594e75a6290bb394d843e0",
       "version_major": 2,
       "version_minor": 0
      },
      "text/plain": [
       "Extracting Audio Features:   0%|          | 0/10 [00:00<?, ?file/s]"
      ]
     },
     "metadata": {},
     "output_type": "display_data"
    },
    {
     "name": "stdout",
     "output_type": "stream",
     "text": [
      "Saved batch with 10 records to datasets/onboarding_step2.pkl\n"
     ]
    },
    {
     "data": {
      "application/vnd.jupyter.widget-view+json": {
       "model_id": "612b3b52cb314e079de7e3e2535fac96",
       "version_major": 2,
       "version_minor": 0
      },
      "text/plain": [
       "Extracting Audio Features:   0%|          | 0/10 [00:00<?, ?file/s]"
      ]
     },
     "metadata": {},
     "output_type": "display_data"
    },
    {
     "name": "stdout",
     "output_type": "stream",
     "text": [
      "Saved batch with 10 records to datasets/onboarding_step2.pkl\n"
     ]
    },
    {
     "data": {
      "application/vnd.jupyter.widget-view+json": {
       "model_id": "372b810aee7f4a5dab116faf5a5d5e9f",
       "version_major": 2,
       "version_minor": 0
      },
      "text/plain": [
       "Extracting Audio Features:   0%|          | 0/10 [00:00<?, ?file/s]"
      ]
     },
     "metadata": {},
     "output_type": "display_data"
    },
    {
     "name": "stdout",
     "output_type": "stream",
     "text": [
      "Saved batch with 10 records to datasets/onboarding_step2.pkl\n"
     ]
    },
    {
     "data": {
      "application/vnd.jupyter.widget-view+json": {
       "model_id": "ce7b15211a30422198eb2d6177f54d9a",
       "version_major": 2,
       "version_minor": 0
      },
      "text/plain": [
       "Extracting Audio Features:   0%|          | 0/10 [00:00<?, ?file/s]"
      ]
     },
     "metadata": {},
     "output_type": "display_data"
    },
    {
     "name": "stdout",
     "output_type": "stream",
     "text": [
      "Saved batch with 10 records to datasets/onboarding_step2.pkl\n"
     ]
    },
    {
     "data": {
      "application/vnd.jupyter.widget-view+json": {
       "model_id": "7eb9b4451d4d42e7958fabebe49b5a5b",
       "version_major": 2,
       "version_minor": 0
      },
      "text/plain": [
       "Extracting Audio Features:   0%|          | 0/10 [00:00<?, ?file/s]"
      ]
     },
     "metadata": {},
     "output_type": "display_data"
    },
    {
     "name": "stdout",
     "output_type": "stream",
     "text": [
      "Saved batch with 10 records to datasets/onboarding_step2.pkl\n"
     ]
    },
    {
     "data": {
      "application/vnd.jupyter.widget-view+json": {
       "model_id": "f5b464a0c08044abb8d7e1a7d01f3c4f",
       "version_major": 2,
       "version_minor": 0
      },
      "text/plain": [
       "Extracting Audio Features:   0%|          | 0/10 [00:00<?, ?file/s]"
      ]
     },
     "metadata": {},
     "output_type": "display_data"
    },
    {
     "name": "stdout",
     "output_type": "stream",
     "text": [
      "Saved batch with 10 records to datasets/onboarding_step2.pkl\n"
     ]
    },
    {
     "data": {
      "application/vnd.jupyter.widget-view+json": {
       "model_id": "8241c676ad9a435890366390fb353c73",
       "version_major": 2,
       "version_minor": 0
      },
      "text/plain": [
       "Extracting Audio Features:   0%|          | 0/10 [00:00<?, ?file/s]"
      ]
     },
     "metadata": {},
     "output_type": "display_data"
    },
    {
     "name": "stdout",
     "output_type": "stream",
     "text": [
      "Saved batch with 10 records to datasets/onboarding_step2.pkl\n"
     ]
    },
    {
     "data": {
      "application/vnd.jupyter.widget-view+json": {
       "model_id": "6f10d400e2dd47deb3b825ea42a38bf6",
       "version_major": 2,
       "version_minor": 0
      },
      "text/plain": [
       "Extracting Audio Features:   0%|          | 0/10 [00:00<?, ?file/s]"
      ]
     },
     "metadata": {},
     "output_type": "display_data"
    },
    {
     "name": "stdout",
     "output_type": "stream",
     "text": [
      "Saved batch with 10 records to datasets/onboarding_step2.pkl\n"
     ]
    },
    {
     "data": {
      "application/vnd.jupyter.widget-view+json": {
       "model_id": "56436d8a3079457ca6881c2e594e9692",
       "version_major": 2,
       "version_minor": 0
      },
      "text/plain": [
       "Extracting Audio Features:   0%|          | 0/10 [00:00<?, ?file/s]"
      ]
     },
     "metadata": {},
     "output_type": "display_data"
    },
    {
     "name": "stdout",
     "output_type": "stream",
     "text": [
      "Saved batch with 10 records to datasets/onboarding_step2.pkl\n"
     ]
    },
    {
     "data": {
      "application/vnd.jupyter.widget-view+json": {
       "model_id": "2e2dc339ffec4f17aa25ff22c2a0aeaf",
       "version_major": 2,
       "version_minor": 0
      },
      "text/plain": [
       "Extracting Audio Features:   0%|          | 0/10 [00:00<?, ?file/s]"
      ]
     },
     "metadata": {},
     "output_type": "display_data"
    },
    {
     "name": "stdout",
     "output_type": "stream",
     "text": [
      "Saved batch with 10 records to datasets/onboarding_step2.pkl\n"
     ]
    },
    {
     "data": {
      "application/vnd.jupyter.widget-view+json": {
       "model_id": "4eb42a7ee9054f528ae04c81f8963ad0",
       "version_major": 2,
       "version_minor": 0
      },
      "text/plain": [
       "Extracting Audio Features:   0%|          | 0/10 [00:00<?, ?file/s]"
      ]
     },
     "metadata": {},
     "output_type": "display_data"
    },
    {
     "name": "stdout",
     "output_type": "stream",
     "text": [
      "Saved batch with 10 records to datasets/onboarding_step2.pkl\n"
     ]
    },
    {
     "data": {
      "application/vnd.jupyter.widget-view+json": {
       "model_id": "c0136693e495495a8aa40504d59a7e29",
       "version_major": 2,
       "version_minor": 0
      },
      "text/plain": [
       "Extracting Audio Features:   0%|          | 0/10 [00:00<?, ?file/s]"
      ]
     },
     "metadata": {},
     "output_type": "display_data"
    },
    {
     "name": "stdout",
     "output_type": "stream",
     "text": [
      "Saved batch with 10 records to datasets/onboarding_step2.pkl\n"
     ]
    },
    {
     "data": {
      "application/vnd.jupyter.widget-view+json": {
       "model_id": "b0b6552f88eb4fabbb27b28894dca5ca",
       "version_major": 2,
       "version_minor": 0
      },
      "text/plain": [
       "Extracting Audio Features:   0%|          | 0/10 [00:00<?, ?file/s]"
      ]
     },
     "metadata": {},
     "output_type": "display_data"
    },
    {
     "name": "stdout",
     "output_type": "stream",
     "text": [
      "Saved batch with 10 records to datasets/onboarding_step2.pkl\n"
     ]
    },
    {
     "data": {
      "application/vnd.jupyter.widget-view+json": {
       "model_id": "7b6b20783447469c898e7d8c5a9d0215",
       "version_major": 2,
       "version_minor": 0
      },
      "text/plain": [
       "Extracting Audio Features:   0%|          | 0/10 [00:00<?, ?file/s]"
      ]
     },
     "metadata": {},
     "output_type": "display_data"
    },
    {
     "name": "stdout",
     "output_type": "stream",
     "text": [
      "Saved batch with 10 records to datasets/onboarding_step2.pkl\n"
     ]
    },
    {
     "data": {
      "application/vnd.jupyter.widget-view+json": {
       "model_id": "7d4cac8f613a4607906c4626d8e2996b",
       "version_major": 2,
       "version_minor": 0
      },
      "text/plain": [
       "Extracting Audio Features:   0%|          | 0/10 [00:00<?, ?file/s]"
      ]
     },
     "metadata": {},
     "output_type": "display_data"
    },
    {
     "name": "stdout",
     "output_type": "stream",
     "text": [
      "Saved batch with 10 records to datasets/onboarding_step2.pkl\n"
     ]
    },
    {
     "data": {
      "application/vnd.jupyter.widget-view+json": {
       "model_id": "3d76066d2c644e7db622b69c6cc53d30",
       "version_major": 2,
       "version_minor": 0
      },
      "text/plain": [
       "Extracting Audio Features:   0%|          | 0/10 [00:00<?, ?file/s]"
      ]
     },
     "metadata": {},
     "output_type": "display_data"
    },
    {
     "name": "stdout",
     "output_type": "stream",
     "text": [
      "Saved batch with 10 records to datasets/onboarding_step2.pkl\n"
     ]
    },
    {
     "data": {
      "application/vnd.jupyter.widget-view+json": {
       "model_id": "aa5175ebf93f46c6ad148b157014cdc3",
       "version_major": 2,
       "version_minor": 0
      },
      "text/plain": [
       "Extracting Audio Features:   0%|          | 0/10 [00:00<?, ?file/s]"
      ]
     },
     "metadata": {},
     "output_type": "display_data"
    },
    {
     "name": "stdout",
     "output_type": "stream",
     "text": [
      "Saved batch with 10 records to datasets/onboarding_step2.pkl\n"
     ]
    },
    {
     "data": {
      "application/vnd.jupyter.widget-view+json": {
       "model_id": "398ab44729d945bb8dbac7a12c27b04e",
       "version_major": 2,
       "version_minor": 0
      },
      "text/plain": [
       "Extracting Audio Features:   0%|          | 0/10 [00:00<?, ?file/s]"
      ]
     },
     "metadata": {},
     "output_type": "display_data"
    },
    {
     "name": "stdout",
     "output_type": "stream",
     "text": [
      "Saved batch with 10 records to datasets/onboarding_step2.pkl\n"
     ]
    },
    {
     "data": {
      "application/vnd.jupyter.widget-view+json": {
       "model_id": "b50d95ac961249159f19b2c4156560fe",
       "version_major": 2,
       "version_minor": 0
      },
      "text/plain": [
       "Extracting Audio Features:   0%|          | 0/10 [00:00<?, ?file/s]"
      ]
     },
     "metadata": {},
     "output_type": "display_data"
    },
    {
     "name": "stdout",
     "output_type": "stream",
     "text": [
      "Saved batch with 10 records to datasets/onboarding_step2.pkl\n"
     ]
    },
    {
     "data": {
      "application/vnd.jupyter.widget-view+json": {
       "model_id": "8bd51e38dbc54686a5ec7de5024c7cd5",
       "version_major": 2,
       "version_minor": 0
      },
      "text/plain": [
       "Extracting Audio Features:   0%|          | 0/10 [00:00<?, ?file/s]"
      ]
     },
     "metadata": {},
     "output_type": "display_data"
    },
    {
     "name": "stdout",
     "output_type": "stream",
     "text": [
      "Saved batch with 10 records to datasets/onboarding_step2.pkl\n"
     ]
    },
    {
     "data": {
      "application/vnd.jupyter.widget-view+json": {
       "model_id": "c70a31fde20e4361b9888136dcea9268",
       "version_major": 2,
       "version_minor": 0
      },
      "text/plain": [
       "Extracting Audio Features:   0%|          | 0/10 [00:00<?, ?file/s]"
      ]
     },
     "metadata": {},
     "output_type": "display_data"
    },
    {
     "name": "stdout",
     "output_type": "stream",
     "text": [
      "Saved batch with 10 records to datasets/onboarding_step2.pkl\n"
     ]
    },
    {
     "data": {
      "application/vnd.jupyter.widget-view+json": {
       "model_id": "d1ca1fe225e34b14a0878bed35d2313f",
       "version_major": 2,
       "version_minor": 0
      },
      "text/plain": [
       "Extracting Audio Features:   0%|          | 0/10 [00:00<?, ?file/s]"
      ]
     },
     "metadata": {},
     "output_type": "display_data"
    },
    {
     "name": "stdout",
     "output_type": "stream",
     "text": [
      "Saved batch with 10 records to datasets/onboarding_step2.pkl\n"
     ]
    },
    {
     "data": {
      "application/vnd.jupyter.widget-view+json": {
       "model_id": "2dd22775672246b2a5619039209df5a9",
       "version_major": 2,
       "version_minor": 0
      },
      "text/plain": [
       "Extracting Audio Features:   0%|          | 0/10 [00:00<?, ?file/s]"
      ]
     },
     "metadata": {},
     "output_type": "display_data"
    },
    {
     "name": "stdout",
     "output_type": "stream",
     "text": [
      "Saved batch with 10 records to datasets/onboarding_step2.pkl\n"
     ]
    },
    {
     "data": {
      "application/vnd.jupyter.widget-view+json": {
       "model_id": "d580c7624cc7446bae5b85bb76607ec8",
       "version_major": 2,
       "version_minor": 0
      },
      "text/plain": [
       "Extracting Audio Features:   0%|          | 0/1 [00:00<?, ?file/s]"
      ]
     },
     "metadata": {},
     "output_type": "display_data"
    },
    {
     "name": "stdout",
     "output_type": "stream",
     "text": [
      "Saved batch with 1 records to datasets/onboarding_step2.pkl\n"
     ]
    }
   ],
   "source": [
    "aud_processor = FeatureProcessor(\n",
    "    extractor=AudioFeatureExtractor(),\n",
    "    input_file=os.path.join(\"datasets\", \"onboarding_step1.pkl\"),\n",
    "    output_file=os.path.join('datasets', \"onboarding_step2.pkl\"),\n",
    "    batch_size=10\n",
    ")\n",
    "aud_processor.process_batches()"
   ]
  },
  {
   "cell_type": "markdown",
   "id": "24b5100c-937d-4110-be02-703058e17164",
   "metadata": {},
   "source": [
    "# Adding textual features"
   ]
  },
  {
   "cell_type": "markdown",
   "id": "e9841b84-dfb8-4bca-a30c-9cca34a9824f",
   "metadata": {},
   "source": [
    "### Combining existing data with data being onboarded to calculate tfidf on the whole corpus"
   ]
  },
  {
   "cell_type": "code",
   "execution_count": 35,
   "id": "a743e399-dfaa-494c-ba97-875d802cb75e",
   "metadata": {},
   "outputs": [],
   "source": [
    "text_features = ['word_count',\n",
    " 'unique_word_count',\n",
    " 'avg_word_length',\n",
    " 'syllable_count',\n",
    " 'sentiment_polarity',\n",
    " 'sentiment_subjectivity',\n",
    " 'readability_score',\n",
    " 'noun_ratio',\n",
    " 'verb_ratio',\n",
    " 'vader_compound',\n",
    " 'repetition_count',\n",
    " 'average_syllables_per_word',\n",
    " 'language',\n",
    " 'genre',\n",
    " 'word_count',\n",
    " 'unique_word_count',\n",
    " 'avg_word_length',\n",
    " 'syllable_count',\n",
    " 'sentiment_polarity',\n",
    " 'sentiment_subjectivity',\n",
    " 'readability_score',\n",
    " 'vader_compound',\n",
    " 'repetition_count',\n",
    " 'average_syllables_per_word',\n",
    " 'language'] "
   ]
  },
  {
   "cell_type": "code",
   "execution_count": 36,
   "id": "07a10c6c-8d59-4249-a595-0e73012a9281",
   "metadata": {},
   "outputs": [],
   "source": [
    "df_complete_data = pd.read_pickle(os.path.join(\"datasets\", \"final_data.pkl\"))\n",
    "df_complete_data.drop([c for c in df_complete_data.columns if c.startswith('tfidf') or c in text_features ], axis=1, inplace=True)"
   ]
  },
  {
   "cell_type": "code",
   "execution_count": 37,
   "id": "ebbd8dda-9987-463e-ad4b-c3e172329b67",
   "metadata": {},
   "outputs": [
    {
     "data": {
      "text/plain": [
       "0       come skinni love last year pour littl salt nev...\n",
       "1       life fleet slow chill us wave feed bone right ...\n",
       "2       id give forev touch caus know feel somehow you...\n",
       "3       freedom within freedom without tri catch delug...\n",
       "4       know youv suffer dont want hide cold loveless ...\n",
       "                              ...                        \n",
       "5149    must monday dumb day cant drag butt outta bed ...\n",
       "5150    god know hide weak drunken heart guess kiss gi...\n",
       "5151    mouth revolv fire bullet sky love like soldier...\n",
       "5152    see your look find smile face peac mind state ...\n",
       "5153    buri secret skin come away innoc leav sin air ...\n",
       "Name: lyrics, Length: 5154, dtype: object"
      ]
     },
     "execution_count": 37,
     "metadata": {},
     "output_type": "execute_result"
    }
   ],
   "source": [
    "df_complete_data.lyrics"
   ]
  },
  {
   "cell_type": "code",
   "execution_count": 38,
   "id": "64bb8c9c-28fb-42cd-8efb-d4ff3fef548e",
   "metadata": {},
   "outputs": [
    {
     "data": {
      "text/html": [
       "<div>\n",
       "<style scoped>\n",
       "    .dataframe tbody tr th:only-of-type {\n",
       "        vertical-align: middle;\n",
       "    }\n",
       "\n",
       "    .dataframe tbody tr th {\n",
       "        vertical-align: top;\n",
       "    }\n",
       "\n",
       "    .dataframe thead th {\n",
       "        text-align: right;\n",
       "    }\n",
       "</style>\n",
       "<table border=\"1\" class=\"dataframe\">\n",
       "  <thead>\n",
       "    <tr style=\"text-align: right;\">\n",
       "      <th></th>\n",
       "      <th>id</th>\n",
       "      <th>title</th>\n",
       "      <th>artist</th>\n",
       "      <th>album_art_url</th>\n",
       "      <th>popularity</th>\n",
       "      <th>explicit</th>\n",
       "      <th>album_release_year</th>\n",
       "      <th>duration_ms</th>\n",
       "      <th>genres</th>\n",
       "      <th>lyrics</th>\n",
       "      <th>...</th>\n",
       "      <th>chroma_12</th>\n",
       "      <th>spectral_contrast_1</th>\n",
       "      <th>spectral_contrast_2</th>\n",
       "      <th>spectral_contrast_3</th>\n",
       "      <th>spectral_contrast_4</th>\n",
       "      <th>spectral_contrast_5</th>\n",
       "      <th>spectral_contrast_6</th>\n",
       "      <th>spectral_contrast_7</th>\n",
       "      <th>tempo_extracted</th>\n",
       "      <th>zcr</th>\n",
       "    </tr>\n",
       "  </thead>\n",
       "  <tbody>\n",
       "    <tr>\n",
       "      <th>0</th>\n",
       "      <td>4Pt80KvnL6e8DCd9QVx7Ht</td>\n",
       "      <td>pink lemonade</td>\n",
       "      <td>leostaytrill</td>\n",
       "      <td>https://i.scdn.co/image/ab67616d0000b273873f0e...</td>\n",
       "      <td>70.0</td>\n",
       "      <td>True</td>\n",
       "      <td>2024.0</td>\n",
       "      <td>122208.0</td>\n",
       "      <td>[]</td>\n",
       "      <td>[Intro]\\n(\\nXeretto, fuck you doin', man?\\n)\\n...</td>\n",
       "      <td>...</td>\n",
       "      <td>0.465013</td>\n",
       "      <td>15.299487</td>\n",
       "      <td>11.837251</td>\n",
       "      <td>16.164133</td>\n",
       "      <td>18.430578</td>\n",
       "      <td>18.852168</td>\n",
       "      <td>18.879488</td>\n",
       "      <td>51.501343</td>\n",
       "      <td>144.230769</td>\n",
       "      <td>0.041279</td>\n",
       "    </tr>\n",
       "    <tr>\n",
       "      <th>1</th>\n",
       "      <td>0Sr7ssScx54yxdM2ols7nW</td>\n",
       "      <td>q u e v a s h a c e r h o y</td>\n",
       "      <td>omar courtz</td>\n",
       "      <td>https://i.scdn.co/image/ab67616d0000b273996764...</td>\n",
       "      <td>88.0</td>\n",
       "      <td>True</td>\n",
       "      <td>2024.0</td>\n",
       "      <td>224022.0</td>\n",
       "      <td>['trap boricua', 'trap latino', 'urbano latino']</td>\n",
       "      <td>[Letra de \"Que Vas Hacer Hoy?\"]\\n[Parte I]\\n[I...</td>\n",
       "      <td>...</td>\n",
       "      <td>0.359806</td>\n",
       "      <td>16.174883</td>\n",
       "      <td>11.482940</td>\n",
       "      <td>14.663843</td>\n",
       "      <td>18.272432</td>\n",
       "      <td>18.802098</td>\n",
       "      <td>17.797354</td>\n",
       "      <td>53.469670</td>\n",
       "      <td>119.680851</td>\n",
       "      <td>0.052631</td>\n",
       "    </tr>\n",
       "    <tr>\n",
       "      <th>2</th>\n",
       "      <td>2hrycoFU1mZw6YPvMcn8yC</td>\n",
       "      <td>kehlani</td>\n",
       "      <td>jordan adetunji</td>\n",
       "      <td>https://i.scdn.co/image/ab67616d0000b273f2cd13...</td>\n",
       "      <td>84.0</td>\n",
       "      <td>False</td>\n",
       "      <td>2024.0</td>\n",
       "      <td>122360.0</td>\n",
       "      <td>['irish hip hop']</td>\n",
       "      <td>[Intro: Summer Walker]\\n(\\nWock\\n)\\nYou got, y...</td>\n",
       "      <td>...</td>\n",
       "      <td>0.527515</td>\n",
       "      <td>14.913413</td>\n",
       "      <td>9.912072</td>\n",
       "      <td>13.995783</td>\n",
       "      <td>15.869135</td>\n",
       "      <td>17.789146</td>\n",
       "      <td>17.671408</td>\n",
       "      <td>53.769190</td>\n",
       "      <td>106.132075</td>\n",
       "      <td>0.036518</td>\n",
       "    </tr>\n",
       "    <tr>\n",
       "      <th>3</th>\n",
       "      <td>0OA00aPt3BV10qeMIs3meW</td>\n",
       "      <td>big dawgs</td>\n",
       "      <td>hanumankind</td>\n",
       "      <td>https://i.scdn.co/image/ab67616d0000b273d9afe5...</td>\n",
       "      <td>84.0</td>\n",
       "      <td>True</td>\n",
       "      <td>2024.0</td>\n",
       "      <td>190666.0</td>\n",
       "      <td>['desi hip hop', 'indian underground rap', 'ma...</td>\n",
       "      <td>[Intro]\\nUh, yeah, uh, yeah\\nUh, yeah, uh, yea...</td>\n",
       "      <td>...</td>\n",
       "      <td>0.536583</td>\n",
       "      <td>14.527773</td>\n",
       "      <td>10.739625</td>\n",
       "      <td>13.807236</td>\n",
       "      <td>15.382049</td>\n",
       "      <td>17.405447</td>\n",
       "      <td>16.539265</td>\n",
       "      <td>56.109247</td>\n",
       "      <td>119.680851</td>\n",
       "      <td>0.056914</td>\n",
       "    </tr>\n",
       "    <tr>\n",
       "      <th>4</th>\n",
       "      <td>0io16MKpbeDIdYzmGpQaES</td>\n",
       "      <td>embrace it</td>\n",
       "      <td>ndotz</td>\n",
       "      <td>https://i.scdn.co/image/ab67616d0000b273536637...</td>\n",
       "      <td>86.0</td>\n",
       "      <td>True</td>\n",
       "      <td>2024.0</td>\n",
       "      <td>104418.0</td>\n",
       "      <td>['chill drill']</td>\n",
       "      <td>[Chorus]\\nShe bad, mm-hmm, I like this\\n (Yeah...</td>\n",
       "      <td>...</td>\n",
       "      <td>0.456958</td>\n",
       "      <td>12.556766</td>\n",
       "      <td>11.990558</td>\n",
       "      <td>14.992236</td>\n",
       "      <td>16.226411</td>\n",
       "      <td>18.184162</td>\n",
       "      <td>19.636641</td>\n",
       "      <td>54.326191</td>\n",
       "      <td>114.795918</td>\n",
       "      <td>0.035092</td>\n",
       "    </tr>\n",
       "  </tbody>\n",
       "</table>\n",
       "<p>5 rows × 58 columns</p>\n",
       "</div>"
      ],
      "text/plain": [
       "                       id                         title           artist  \\\n",
       "0  4Pt80KvnL6e8DCd9QVx7Ht                 pink lemonade     leostaytrill   \n",
       "1  0Sr7ssScx54yxdM2ols7nW  q u e v a s h a c e r h o y       omar courtz   \n",
       "2  2hrycoFU1mZw6YPvMcn8yC                       kehlani  jordan adetunji   \n",
       "3  0OA00aPt3BV10qeMIs3meW                     big dawgs      hanumankind   \n",
       "4  0io16MKpbeDIdYzmGpQaES                    embrace it            ndotz   \n",
       "\n",
       "                                       album_art_url  popularity  explicit  \\\n",
       "0  https://i.scdn.co/image/ab67616d0000b273873f0e...        70.0      True   \n",
       "1  https://i.scdn.co/image/ab67616d0000b273996764...        88.0      True   \n",
       "2  https://i.scdn.co/image/ab67616d0000b273f2cd13...        84.0     False   \n",
       "3  https://i.scdn.co/image/ab67616d0000b273d9afe5...        84.0      True   \n",
       "4  https://i.scdn.co/image/ab67616d0000b273536637...        86.0      True   \n",
       "\n",
       "   album_release_year  duration_ms  \\\n",
       "0              2024.0     122208.0   \n",
       "1              2024.0     224022.0   \n",
       "2              2024.0     122360.0   \n",
       "3              2024.0     190666.0   \n",
       "4              2024.0     104418.0   \n",
       "\n",
       "                                              genres  \\\n",
       "0                                                 []   \n",
       "1   ['trap boricua', 'trap latino', 'urbano latino']   \n",
       "2                                  ['irish hip hop']   \n",
       "3  ['desi hip hop', 'indian underground rap', 'ma...   \n",
       "4                                    ['chill drill']   \n",
       "\n",
       "                                              lyrics  ... chroma_12  \\\n",
       "0  [Intro]\\n(\\nXeretto, fuck you doin', man?\\n)\\n...  ...  0.465013   \n",
       "1  [Letra de \"Que Vas Hacer Hoy?\"]\\n[Parte I]\\n[I...  ...  0.359806   \n",
       "2  [Intro: Summer Walker]\\n(\\nWock\\n)\\nYou got, y...  ...  0.527515   \n",
       "3  [Intro]\\nUh, yeah, uh, yeah\\nUh, yeah, uh, yea...  ...  0.536583   \n",
       "4  [Chorus]\\nShe bad, mm-hmm, I like this\\n (Yeah...  ...  0.456958   \n",
       "\n",
       "  spectral_contrast_1  spectral_contrast_2  spectral_contrast_3  \\\n",
       "0           15.299487            11.837251            16.164133   \n",
       "1           16.174883            11.482940            14.663843   \n",
       "2           14.913413             9.912072            13.995783   \n",
       "3           14.527773            10.739625            13.807236   \n",
       "4           12.556766            11.990558            14.992236   \n",
       "\n",
       "   spectral_contrast_4  spectral_contrast_5  spectral_contrast_6  \\\n",
       "0            18.430578            18.852168            18.879488   \n",
       "1            18.272432            18.802098            17.797354   \n",
       "2            15.869135            17.789146            17.671408   \n",
       "3            15.382049            17.405447            16.539265   \n",
       "4            16.226411            18.184162            19.636641   \n",
       "\n",
       "   spectral_contrast_7  tempo_extracted       zcr  \n",
       "0            51.501343       144.230769  0.041279  \n",
       "1            53.469670       119.680851  0.052631  \n",
       "2            53.769190       106.132075  0.036518  \n",
       "3            56.109247       119.680851  0.056914  \n",
       "4            54.326191       114.795918  0.035092  \n",
       "\n",
       "[5 rows x 58 columns]"
      ]
     },
     "execution_count": 38,
     "metadata": {},
     "output_type": "execute_result"
    }
   ],
   "source": [
    "df_onboarding = pd.read_pickle(os.path.join(\"datasets\", \"onboarding_step2.pkl\"))\n",
    "df_onboarding.drop([c for c in df_onboarding.columns if c.startswith('tfidf') or c in text_features ], axis=1, inplace=True)\n",
    "df_onboarding.head()"
   ]
  },
  {
   "cell_type": "code",
   "execution_count": 39,
   "id": "9b4cb05b-810d-424c-b141-a097b918cb8a",
   "metadata": {},
   "outputs": [
    {
     "data": {
      "text/plain": [
       "(5154, 58)"
      ]
     },
     "execution_count": 39,
     "metadata": {},
     "output_type": "execute_result"
    }
   ],
   "source": [
    "df_complete_data.shape"
   ]
  },
  {
   "cell_type": "code",
   "execution_count": 40,
   "id": "8e421e1f-8a72-4eef-81fc-6e8f80e0065e",
   "metadata": {},
   "outputs": [
    {
     "data": {
      "text/plain": [
       "(281, 58)"
      ]
     },
     "execution_count": 40,
     "metadata": {},
     "output_type": "execute_result"
    }
   ],
   "source": [
    "df_onboarding.shape"
   ]
  },
  {
   "cell_type": "code",
   "execution_count": 44,
   "id": "3ebea00b-8133-4356-b7c7-3240cbfc32a0",
   "metadata": {},
   "outputs": [],
   "source": [
    "df_onboarding['lyrics'] = df_onboarding.lyrics.apply(lambda x: TextFeatureExtractor.preprocess_text(x))"
   ]
  },
  {
   "cell_type": "code",
   "execution_count": 45,
   "id": "74786bf0-4512-40fc-a47c-addb4cd6ec47",
   "metadata": {},
   "outputs": [
    {
     "data": {
      "text/html": [
       "<div>\n",
       "<style scoped>\n",
       "    .dataframe tbody tr th:only-of-type {\n",
       "        vertical-align: middle;\n",
       "    }\n",
       "\n",
       "    .dataframe tbody tr th {\n",
       "        vertical-align: top;\n",
       "    }\n",
       "\n",
       "    .dataframe thead th {\n",
       "        text-align: right;\n",
       "    }\n",
       "</style>\n",
       "<table border=\"1\" class=\"dataframe\">\n",
       "  <thead>\n",
       "    <tr style=\"text-align: right;\">\n",
       "      <th></th>\n",
       "      <th>id</th>\n",
       "      <th>title</th>\n",
       "      <th>artist</th>\n",
       "      <th>album_art_url</th>\n",
       "      <th>popularity</th>\n",
       "      <th>explicit</th>\n",
       "      <th>album_release_year</th>\n",
       "      <th>duration_ms</th>\n",
       "      <th>genres</th>\n",
       "      <th>lyrics</th>\n",
       "      <th>...</th>\n",
       "      <th>spectral_contrast_1</th>\n",
       "      <th>spectral_contrast_2</th>\n",
       "      <th>spectral_contrast_3</th>\n",
       "      <th>spectral_contrast_4</th>\n",
       "      <th>spectral_contrast_5</th>\n",
       "      <th>spectral_contrast_6</th>\n",
       "      <th>spectral_contrast_7</th>\n",
       "      <th>tempo_extracted</th>\n",
       "      <th>zcr</th>\n",
       "      <th>csv_path</th>\n",
       "    </tr>\n",
       "  </thead>\n",
       "  <tbody>\n",
       "    <tr>\n",
       "      <th>0</th>\n",
       "      <td>4RL77hMWUq35NYnPLXBpih</td>\n",
       "      <td>skinny love</td>\n",
       "      <td>birdy</td>\n",
       "      <td>https://i.scdn.co/image/ab67616d0000b2733661c0...</td>\n",
       "      <td>70.0</td>\n",
       "      <td>0</td>\n",
       "      <td>2011.0</td>\n",
       "      <td>201080.0</td>\n",
       "      <td>['neo mellow', 'uk pop', 'viral pop']</td>\n",
       "      <td>come skinni love last year pour littl salt nev...</td>\n",
       "      <td>...</td>\n",
       "      <td>17.627332</td>\n",
       "      <td>13.771729</td>\n",
       "      <td>19.275149</td>\n",
       "      <td>22.244659</td>\n",
       "      <td>23.802122</td>\n",
       "      <td>22.563887</td>\n",
       "      <td>46.881367</td>\n",
       "      <td>119.680851</td>\n",
       "      <td>0.031446</td>\n",
       "      <td>/home/krystian/Python/Jupyter-projects/thesis/...</td>\n",
       "    </tr>\n",
       "    <tr>\n",
       "      <th>1</th>\n",
       "      <td>5PsjZ21f5tMPFf1sJpokm7</td>\n",
       "      <td>deathwish</td>\n",
       "      <td>red sun rising</td>\n",
       "      <td>https://i.scdn.co/image/ab67616d0000b273612f16...</td>\n",
       "      <td>NaN</td>\n",
       "      <td>0</td>\n",
       "      <td>2018.0</td>\n",
       "      <td>287946.0</td>\n",
       "      <td>['modern hard rock', 'post-grunge']</td>\n",
       "      <td>life fleet slow chill us wave feed bone right ...</td>\n",
       "      <td>...</td>\n",
       "      <td>16.215804</td>\n",
       "      <td>10.309580</td>\n",
       "      <td>13.744232</td>\n",
       "      <td>16.058571</td>\n",
       "      <td>17.278253</td>\n",
       "      <td>16.887822</td>\n",
       "      <td>53.087236</td>\n",
       "      <td>133.928571</td>\n",
       "      <td>0.051242</td>\n",
       "      <td>/home/krystian/Python/Jupyter-projects/thesis/...</td>\n",
       "    </tr>\n",
       "    <tr>\n",
       "      <th>2</th>\n",
       "      <td>6vrUTGn5p8IrfTZ0J6sIVM</td>\n",
       "      <td>iris</td>\n",
       "      <td>the goo goo dolls</td>\n",
       "      <td>https://i.scdn.co/image/ab67616d0000b273d54c4b...</td>\n",
       "      <td>71.0</td>\n",
       "      <td>0</td>\n",
       "      <td>2007.0</td>\n",
       "      <td>289906.0</td>\n",
       "      <td>['neo mellow', 'permanent wave', 'pop rock', '...</td>\n",
       "      <td>id give forev touch caus know feel somehow you...</td>\n",
       "      <td>...</td>\n",
       "      <td>15.357601</td>\n",
       "      <td>10.201447</td>\n",
       "      <td>13.698081</td>\n",
       "      <td>17.050868</td>\n",
       "      <td>18.783636</td>\n",
       "      <td>17.473927</td>\n",
       "      <td>56.185155</td>\n",
       "      <td>152.027027</td>\n",
       "      <td>0.069683</td>\n",
       "      <td>/home/krystian/Python/Jupyter-projects/thesis/...</td>\n",
       "    </tr>\n",
       "    <tr>\n",
       "      <th>3</th>\n",
       "      <td>0Leo4GP0UKG4tUABm9JATe</td>\n",
       "      <td>don't dream it's over</td>\n",
       "      <td>crowded house</td>\n",
       "      <td>https://i.scdn.co/image/ab67616d0000b27380ed24...</td>\n",
       "      <td>NaN</td>\n",
       "      <td>0</td>\n",
       "      <td>2017.0</td>\n",
       "      <td>231377.0</td>\n",
       "      <td>['australian rock', 'permanent wave']</td>\n",
       "      <td>freedom within freedom without tri catch delug...</td>\n",
       "      <td>...</td>\n",
       "      <td>14.941456</td>\n",
       "      <td>11.061548</td>\n",
       "      <td>15.084157</td>\n",
       "      <td>17.604808</td>\n",
       "      <td>18.362215</td>\n",
       "      <td>18.056211</td>\n",
       "      <td>51.318052</td>\n",
       "      <td>160.714286</td>\n",
       "      <td>0.044647</td>\n",
       "      <td>/home/krystian/Python/Jupyter-projects/thesis/...</td>\n",
       "    </tr>\n",
       "    <tr>\n",
       "      <th>4</th>\n",
       "      <td>0It6VJoMAare1zdV2wxqZq</td>\n",
       "      <td>undisclosed desires</td>\n",
       "      <td>muse</td>\n",
       "      <td>https://i.scdn.co/image/ab67616d0000b273b6d456...</td>\n",
       "      <td>65.0</td>\n",
       "      <td>0</td>\n",
       "      <td>2009.0</td>\n",
       "      <td>235000.0</td>\n",
       "      <td>['alternative rock', 'modern rock', 'permanent...</td>\n",
       "      <td>know youv suffer dont want hide cold loveless ...</td>\n",
       "      <td>...</td>\n",
       "      <td>14.934434</td>\n",
       "      <td>11.366229</td>\n",
       "      <td>15.412446</td>\n",
       "      <td>16.330238</td>\n",
       "      <td>17.806636</td>\n",
       "      <td>17.648626</td>\n",
       "      <td>53.669779</td>\n",
       "      <td>117.187500</td>\n",
       "      <td>0.041844</td>\n",
       "      <td>/home/krystian/Python/Jupyter-projects/thesis/...</td>\n",
       "    </tr>\n",
       "    <tr>\n",
       "      <th>...</th>\n",
       "      <td>...</td>\n",
       "      <td>...</td>\n",
       "      <td>...</td>\n",
       "      <td>...</td>\n",
       "      <td>...</td>\n",
       "      <td>...</td>\n",
       "      <td>...</td>\n",
       "      <td>...</td>\n",
       "      <td>...</td>\n",
       "      <td>...</td>\n",
       "      <td>...</td>\n",
       "      <td>...</td>\n",
       "      <td>...</td>\n",
       "      <td>...</td>\n",
       "      <td>...</td>\n",
       "      <td>...</td>\n",
       "      <td>...</td>\n",
       "      <td>...</td>\n",
       "      <td>...</td>\n",
       "      <td>...</td>\n",
       "      <td>...</td>\n",
       "    </tr>\n",
       "    <tr>\n",
       "      <th>276</th>\n",
       "      <td>5PycBIeabfvX3n9ILG7Vrv</td>\n",
       "      <td>propuesta indecente</td>\n",
       "      <td>romeo santos</td>\n",
       "      <td>https://i.scdn.co/image/ab67616d0000b273e9da42...</td>\n",
       "      <td>80.0</td>\n",
       "      <td>False</td>\n",
       "      <td>2014.0</td>\n",
       "      <td>235133.0</td>\n",
       "      <td>['bachata', 'latin hip hop', 'latin pop', 'tra...</td>\n",
       "      <td>hola llaman romeo es un placer conocerla que b...</td>\n",
       "      <td>...</td>\n",
       "      <td>13.910094</td>\n",
       "      <td>12.284040</td>\n",
       "      <td>15.973888</td>\n",
       "      <td>18.085161</td>\n",
       "      <td>20.063634</td>\n",
       "      <td>17.834683</td>\n",
       "      <td>55.445500</td>\n",
       "      <td>122.282609</td>\n",
       "      <td>0.051709</td>\n",
       "      <td>/home/krystian/Python/Jupyter-projects/thesis/...</td>\n",
       "    </tr>\n",
       "    <tr>\n",
       "      <th>277</th>\n",
       "      <td>228BxWXUYQPJrJYHDLOHkj</td>\n",
       "      <td>gasolina</td>\n",
       "      <td>daddy yankee</td>\n",
       "      <td>https://i.scdn.co/image/ab67616d0000b2736bdcdf...</td>\n",
       "      <td>81.0</td>\n",
       "      <td>False</td>\n",
       "      <td>2004.0</td>\n",
       "      <td>192600.0</td>\n",
       "      <td>['latin hip hop', 'reggaeton', 'trap latino', ...</td>\n",
       "      <td>zumbal mambo pa ke mi gata prendan los motor z...</td>\n",
       "      <td>...</td>\n",
       "      <td>14.630034</td>\n",
       "      <td>11.143904</td>\n",
       "      <td>14.681024</td>\n",
       "      <td>16.917971</td>\n",
       "      <td>18.737248</td>\n",
       "      <td>17.295369</td>\n",
       "      <td>53.449685</td>\n",
       "      <td>95.338983</td>\n",
       "      <td>0.048868</td>\n",
       "      <td>/home/krystian/Python/Jupyter-projects/thesis/...</td>\n",
       "    </tr>\n",
       "    <tr>\n",
       "      <th>278</th>\n",
       "      <td>059bcIhyc2SBwm6sw2AZzd</td>\n",
       "      <td>te vi</td>\n",
       "      <td>piso 21</td>\n",
       "      <td>https://i.scdn.co/image/ab67616d0000b273244a59...</td>\n",
       "      <td>78.0</td>\n",
       "      <td>False</td>\n",
       "      <td>2018.0</td>\n",
       "      <td>231848.0</td>\n",
       "      <td>['colombian pop', 'latin pop', 'reggaeton', 'r...</td>\n",
       "      <td>letra de te vi ft micro tdh intro micro tdh el...</td>\n",
       "      <td>...</td>\n",
       "      <td>17.848964</td>\n",
       "      <td>12.884122</td>\n",
       "      <td>15.739994</td>\n",
       "      <td>17.014210</td>\n",
       "      <td>18.715929</td>\n",
       "      <td>17.977095</td>\n",
       "      <td>53.879891</td>\n",
       "      <td>102.272727</td>\n",
       "      <td>0.038930</td>\n",
       "      <td>/home/krystian/Python/Jupyter-projects/thesis/...</td>\n",
       "    </tr>\n",
       "    <tr>\n",
       "      <th>279</th>\n",
       "      <td>23WI5V2eD4EyGKxSl7Pyeq</td>\n",
       "      <td>andas en mi cabeza</td>\n",
       "      <td>chino &amp; nacho</td>\n",
       "      <td>https://i.scdn.co/image/ab67616d0000b2736df5cc...</td>\n",
       "      <td>72.0</td>\n",
       "      <td>False</td>\n",
       "      <td>2016.0</td>\n",
       "      <td>247493.0</td>\n",
       "      <td>['electro latino', 'latin hip hop', 'latin pop...</td>\n",
       "      <td>letra de anda en mi cabeza ft daddi yanke intr...</td>\n",
       "      <td>...</td>\n",
       "      <td>14.107049</td>\n",
       "      <td>10.202836</td>\n",
       "      <td>13.970952</td>\n",
       "      <td>16.670884</td>\n",
       "      <td>18.625395</td>\n",
       "      <td>17.422064</td>\n",
       "      <td>55.418099</td>\n",
       "      <td>104.166667</td>\n",
       "      <td>0.055295</td>\n",
       "      <td>/home/krystian/Python/Jupyter-projects/thesis/...</td>\n",
       "    </tr>\n",
       "    <tr>\n",
       "      <th>280</th>\n",
       "      <td>0JcNysfWVWaMS7R6vzGB2k</td>\n",
       "      <td>robarte un beso</td>\n",
       "      <td>carlos vives</td>\n",
       "      <td>https://i.scdn.co/image/ab67616d0000b273575fb6...</td>\n",
       "      <td>73.0</td>\n",
       "      <td>False</td>\n",
       "      <td>2017.0</td>\n",
       "      <td>194742.0</td>\n",
       "      <td>['colombian pop', 'latin pop', 'vallenato']</td>\n",
       "      <td>letra de robart un beso ft sebastian yatra int...</td>\n",
       "      <td>...</td>\n",
       "      <td>14.704712</td>\n",
       "      <td>11.989495</td>\n",
       "      <td>15.743077</td>\n",
       "      <td>16.986815</td>\n",
       "      <td>18.182586</td>\n",
       "      <td>16.557618</td>\n",
       "      <td>55.514636</td>\n",
       "      <td>127.840909</td>\n",
       "      <td>0.065029</td>\n",
       "      <td>/home/krystian/Python/Jupyter-projects/thesis/...</td>\n",
       "    </tr>\n",
       "  </tbody>\n",
       "</table>\n",
       "<p>5435 rows × 58 columns</p>\n",
       "</div>"
      ],
      "text/plain": [
       "                         id                  title             artist  \\\n",
       "0    4RL77hMWUq35NYnPLXBpih            skinny love              birdy   \n",
       "1    5PsjZ21f5tMPFf1sJpokm7              deathwish     red sun rising   \n",
       "2    6vrUTGn5p8IrfTZ0J6sIVM                   iris  the goo goo dolls   \n",
       "3    0Leo4GP0UKG4tUABm9JATe  don't dream it's over      crowded house   \n",
       "4    0It6VJoMAare1zdV2wxqZq    undisclosed desires               muse   \n",
       "..                      ...                    ...                ...   \n",
       "276  5PycBIeabfvX3n9ILG7Vrv    propuesta indecente       romeo santos   \n",
       "277  228BxWXUYQPJrJYHDLOHkj               gasolina       daddy yankee   \n",
       "278  059bcIhyc2SBwm6sw2AZzd                  te vi            piso 21   \n",
       "279  23WI5V2eD4EyGKxSl7Pyeq     andas en mi cabeza      chino & nacho   \n",
       "280  0JcNysfWVWaMS7R6vzGB2k        robarte un beso       carlos vives   \n",
       "\n",
       "                                         album_art_url  popularity explicit  \\\n",
       "0    https://i.scdn.co/image/ab67616d0000b2733661c0...        70.0        0   \n",
       "1    https://i.scdn.co/image/ab67616d0000b273612f16...         NaN        0   \n",
       "2    https://i.scdn.co/image/ab67616d0000b273d54c4b...        71.0        0   \n",
       "3    https://i.scdn.co/image/ab67616d0000b27380ed24...         NaN        0   \n",
       "4    https://i.scdn.co/image/ab67616d0000b273b6d456...        65.0        0   \n",
       "..                                                 ...         ...      ...   \n",
       "276  https://i.scdn.co/image/ab67616d0000b273e9da42...        80.0    False   \n",
       "277  https://i.scdn.co/image/ab67616d0000b2736bdcdf...        81.0    False   \n",
       "278  https://i.scdn.co/image/ab67616d0000b273244a59...        78.0    False   \n",
       "279  https://i.scdn.co/image/ab67616d0000b2736df5cc...        72.0    False   \n",
       "280  https://i.scdn.co/image/ab67616d0000b273575fb6...        73.0    False   \n",
       "\n",
       "     album_release_year  duration_ms  \\\n",
       "0                2011.0     201080.0   \n",
       "1                2018.0     287946.0   \n",
       "2                2007.0     289906.0   \n",
       "3                2017.0     231377.0   \n",
       "4                2009.0     235000.0   \n",
       "..                  ...          ...   \n",
       "276              2014.0     235133.0   \n",
       "277              2004.0     192600.0   \n",
       "278              2018.0     231848.0   \n",
       "279              2016.0     247493.0   \n",
       "280              2017.0     194742.0   \n",
       "\n",
       "                                                genres  \\\n",
       "0                ['neo mellow', 'uk pop', 'viral pop']   \n",
       "1                  ['modern hard rock', 'post-grunge']   \n",
       "2    ['neo mellow', 'permanent wave', 'pop rock', '...   \n",
       "3                ['australian rock', 'permanent wave']   \n",
       "4    ['alternative rock', 'modern rock', 'permanent...   \n",
       "..                                                 ...   \n",
       "276  ['bachata', 'latin hip hop', 'latin pop', 'tra...   \n",
       "277  ['latin hip hop', 'reggaeton', 'trap latino', ...   \n",
       "278  ['colombian pop', 'latin pop', 'reggaeton', 'r...   \n",
       "279  ['electro latino', 'latin hip hop', 'latin pop...   \n",
       "280        ['colombian pop', 'latin pop', 'vallenato']   \n",
       "\n",
       "                                                lyrics  ...  \\\n",
       "0    come skinni love last year pour littl salt nev...  ...   \n",
       "1    life fleet slow chill us wave feed bone right ...  ...   \n",
       "2    id give forev touch caus know feel somehow you...  ...   \n",
       "3    freedom within freedom without tri catch delug...  ...   \n",
       "4    know youv suffer dont want hide cold loveless ...  ...   \n",
       "..                                                 ...  ...   \n",
       "276  hola llaman romeo es un placer conocerla que b...  ...   \n",
       "277  zumbal mambo pa ke mi gata prendan los motor z...  ...   \n",
       "278  letra de te vi ft micro tdh intro micro tdh el...  ...   \n",
       "279  letra de anda en mi cabeza ft daddi yanke intr...  ...   \n",
       "280  letra de robart un beso ft sebastian yatra int...  ...   \n",
       "\n",
       "    spectral_contrast_1  spectral_contrast_2  spectral_contrast_3  \\\n",
       "0             17.627332            13.771729            19.275149   \n",
       "1             16.215804            10.309580            13.744232   \n",
       "2             15.357601            10.201447            13.698081   \n",
       "3             14.941456            11.061548            15.084157   \n",
       "4             14.934434            11.366229            15.412446   \n",
       "..                  ...                  ...                  ...   \n",
       "276           13.910094            12.284040            15.973888   \n",
       "277           14.630034            11.143904            14.681024   \n",
       "278           17.848964            12.884122            15.739994   \n",
       "279           14.107049            10.202836            13.970952   \n",
       "280           14.704712            11.989495            15.743077   \n",
       "\n",
       "    spectral_contrast_4  spectral_contrast_5 spectral_contrast_6  \\\n",
       "0             22.244659            23.802122           22.563887   \n",
       "1             16.058571            17.278253           16.887822   \n",
       "2             17.050868            18.783636           17.473927   \n",
       "3             17.604808            18.362215           18.056211   \n",
       "4             16.330238            17.806636           17.648626   \n",
       "..                  ...                  ...                 ...   \n",
       "276           18.085161            20.063634           17.834683   \n",
       "277           16.917971            18.737248           17.295369   \n",
       "278           17.014210            18.715929           17.977095   \n",
       "279           16.670884            18.625395           17.422064   \n",
       "280           16.986815            18.182586           16.557618   \n",
       "\n",
       "     spectral_contrast_7  tempo_extracted       zcr  \\\n",
       "0              46.881367       119.680851  0.031446   \n",
       "1              53.087236       133.928571  0.051242   \n",
       "2              56.185155       152.027027  0.069683   \n",
       "3              51.318052       160.714286  0.044647   \n",
       "4              53.669779       117.187500  0.041844   \n",
       "..                   ...              ...       ...   \n",
       "276            55.445500       122.282609  0.051709   \n",
       "277            53.449685        95.338983  0.048868   \n",
       "278            53.879891       102.272727  0.038930   \n",
       "279            55.418099       104.166667  0.055295   \n",
       "280            55.514636       127.840909  0.065029   \n",
       "\n",
       "                                              csv_path  \n",
       "0    /home/krystian/Python/Jupyter-projects/thesis/...  \n",
       "1    /home/krystian/Python/Jupyter-projects/thesis/...  \n",
       "2    /home/krystian/Python/Jupyter-projects/thesis/...  \n",
       "3    /home/krystian/Python/Jupyter-projects/thesis/...  \n",
       "4    /home/krystian/Python/Jupyter-projects/thesis/...  \n",
       "..                                                 ...  \n",
       "276  /home/krystian/Python/Jupyter-projects/thesis/...  \n",
       "277  /home/krystian/Python/Jupyter-projects/thesis/...  \n",
       "278  /home/krystian/Python/Jupyter-projects/thesis/...  \n",
       "279  /home/krystian/Python/Jupyter-projects/thesis/...  \n",
       "280  /home/krystian/Python/Jupyter-projects/thesis/...  \n",
       "\n",
       "[5435 rows x 58 columns]"
      ]
     },
     "execution_count": 45,
     "metadata": {},
     "output_type": "execute_result"
    }
   ],
   "source": [
    "df_final = pd.concat([df_complete_data, df_onboarding])\n",
    "df_final"
   ]
  },
  {
   "cell_type": "code",
   "execution_count": 46,
   "id": "4d855d26-ce9d-4500-91a3-93f204d339b7",
   "metadata": {},
   "outputs": [],
   "source": [
    "# df_final['lyrics'] = df_final.lyrics.apply(lambda x: TextFeatureExtractor.preprocess_text(x))"
   ]
  },
  {
   "cell_type": "code",
   "execution_count": 47,
   "id": "262fba97-c0c3-4742-a8bf-4b7e63575f37",
   "metadata": {},
   "outputs": [],
   "source": [
    "df_final.to_pickle(os.path.join(\"datasets\", \"onboarding_step3.pkl\"))"
   ]
  },
  {
   "cell_type": "markdown",
   "id": "07253dd0-848b-459c-b0db-64dca0198198",
   "metadata": {},
   "source": [
    "### Calculating textual features"
   ]
  },
  {
   "cell_type": "code",
   "execution_count": 48,
   "id": "e941f811-059f-4cae-ae31-652eee24857d",
   "metadata": {},
   "outputs": [
    {
     "name": "stdout",
     "output_type": "stream",
     "text": [
      "Total records to process: 5435\n",
      "Processing in a single batch without multiprocessing...\n",
      "Saved batch with 5435 records to datasets/onboarding_step4.pkl\n"
     ]
    }
   ],
   "source": [
    "tf_processor = FeatureProcessor(\n",
    "    extractor=TextFeatureExtractor(n_pca_components=50),\n",
    "    input_file=os.path.join(\"datasets\", \"onboarding_step3.pkl\"),\n",
    "    output_file=os.path.join('datasets', \"onboarding_step4.pkl\"),\n",
    "    batch_size=None,\n",
    "    overwrite_existing=True\n",
    ")\n",
    "tf_processor.process_batches()"
   ]
  },
  {
   "cell_type": "markdown",
   "id": "98721636-bad3-49af-a309-cb005e1fcb42",
   "metadata": {},
   "source": [
    "# Cleaning"
   ]
  },
  {
   "cell_type": "code",
   "execution_count": 90,
   "id": "fde50148-106b-476f-a45d-24f33d573b63",
   "metadata": {},
   "outputs": [
    {
     "data": {
      "text/plain": [
       "(5435, 122)"
      ]
     },
     "execution_count": 90,
     "metadata": {},
     "output_type": "execute_result"
    }
   ],
   "source": [
    "# df = pd.read_pickle(os.path.join(\"datasets\", \"onboarding_step4.pkl\"))\n",
    "df = pd.read_pickle(os.path.join(\"datasets\", \"final_data.pkl\"))\n",
    "df.shape"
   ]
  },
  {
   "cell_type": "code",
   "execution_count": 91,
   "id": "6098f1d2-d0fb-40eb-b63f-b255baa0c7b5",
   "metadata": {},
   "outputs": [
    {
     "data": {
      "text/plain": [
       "pop             2525\n",
       "rock             740\n",
       "hip hop          685\n",
       "r&b              255\n",
       "indie            254\n",
       "folk             225\n",
       "dance            202\n",
       "electronic        88\n",
       "metal             70\n",
       "classical         60\n",
       "latin             59\n",
       "reggae            53\n",
       "experimental      51\n",
       "jazz              50\n",
       "country           43\n",
       "alternative       40\n",
       "grime             22\n",
       "Name: genre, dtype: int64"
      ]
     },
     "execution_count": 91,
     "metadata": {},
     "output_type": "execute_result"
    }
   ],
   "source": [
    "from classes.constants import GENRE_MAPPING\n",
    "from classes.utils import reduce_genres_with_regex\n",
    "\n",
    "df['genre'] = df['genres'].apply(lambda x: reduce_genres_with_regex(eval(x), GENRE_MAPPING))\n",
    "\n",
    "df['genre'].value_counts()"
   ]
  },
  {
   "cell_type": "code",
   "execution_count": 98,
   "id": "5cb2f7ac-2e66-43ca-85f3-df984445a14d",
   "metadata": {},
   "outputs": [],
   "source": [
    "incorrect_genre_songs = df[(df.genre.isna()) | (df.genre == 'None')]"
   ]
  },
  {
   "cell_type": "code",
   "execution_count": 101,
   "id": "b6e62cf9-45a6-485f-8659-6c6cb87937b9",
   "metadata": {},
   "outputs": [
    {
     "name": "stdout",
     "output_type": "stream",
     "text": [
      "13 songs have incorrect genre and will be dropped\n"
     ]
    }
   ],
   "source": [
    "print(\"{} songs have incorrect genre and will be dropped\".format(incorrect_genre_songs.shape[0]))\n",
    "df = df[~df.id.isin(incorrect_genre_songs.id)]"
   ]
  },
  {
   "cell_type": "code",
   "execution_count": 102,
   "id": "34d4844c-7a8b-4169-b85c-d59e0f75efc2",
   "metadata": {},
   "outputs": [
    {
     "name": "stderr",
     "output_type": "stream",
     "text": [
      "/home/krystian/Python/VENVS/jupyter310/lib/python3.10/site-packages/pandas/core/arrays/categorical.py:527: RuntimeWarning: invalid value encountered in cast\n",
      "  fill_value = lib.item_from_zerodim(np.array(np.nan).astype(dtype))\n",
      "/home/krystian/Python/VENVS/jupyter310/lib/python3.10/site-packages/pandas/core/frame.py:3641: SettingWithCopyWarning: \n",
      "A value is trying to be set on a copy of a slice from a DataFrame.\n",
      "Try using .loc[row_indexer,col_indexer] = value instead\n",
      "\n",
      "See the caveats in the documentation: https://pandas.pydata.org/pandas-docs/stable/user_guide/indexing.html#returning-a-view-versus-a-copy\n",
      "  self[k1] = value[k2]\n"
     ]
    }
   ],
   "source": [
    "# Fixing the dtypes\n",
    "cast_to_int_columns = ['duration_ms', 'album_release_year', 'key', 'mode', 'time_signature', 'explicit']\n",
    "df[cast_to_int_columns] = df[cast_to_int_columns].astype(int)\n",
    "\n",
    "cast_to_category_columns = ['key', 'mode', 'time_signature', 'explicit', 'language', 'genre']\n",
    "df[cast_to_category_columns] = df[cast_to_category_columns].astype(str).astype('category')"
   ]
  },
  {
   "cell_type": "code",
   "execution_count": 104,
   "id": "fbddb155-9fd5-465e-a283-f0ac0d4063f8",
   "metadata": {},
   "outputs": [],
   "source": [
    "df.to_pickle(os.path.join(\"datasets\", 'final_data.pkl'))"
   ]
  },
  {
   "cell_type": "code",
   "execution_count": 105,
   "id": "e12044f1-12f2-4de6-a9ea-5c777db53b47",
   "metadata": {},
   "outputs": [],
   "source": [
    "for pkl in [ file for file in os.listdir('datasets') if file.startswith('onboarding') and file.endswith('pkl')]:\n",
    "    os.remove(os.path.join('datasets', pkl))"
   ]
  },
  {
   "cell_type": "code",
   "execution_count": null,
   "id": "89a705dd-5f96-4d36-b3fe-620e7e7a2b3e",
   "metadata": {},
   "outputs": [],
   "source": []
  }
 ],
 "metadata": {
  "kernelspec": {
   "display_name": "Python 3 (ipykernel)",
   "language": "python",
   "name": "python3"
  },
  "language_info": {
   "codemirror_mode": {
    "name": "ipython",
    "version": 3
   },
   "file_extension": ".py",
   "mimetype": "text/x-python",
   "name": "python",
   "nbconvert_exporter": "python",
   "pygments_lexer": "ipython3",
   "version": "3.10.12"
  }
 },
 "nbformat": 4,
 "nbformat_minor": 5
}
