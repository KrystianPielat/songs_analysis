{
 "cells": [
  {
   "cell_type": "code",
   "execution_count": 1,
   "id": "3aac368b-0904-4021-afa9-e5c9d9202bb0",
   "metadata": {},
   "outputs": [],
   "source": [
    "%load_ext autoreload\n",
    "%autoreload 2\n",
    "    \n",
    "from classes.song import Song\n",
    "from classes.playlist import Playlist\n",
    "from classes.spotify_manager import SpotifyManager\n",
    "from classes.lyrics_manager import LyricsManager\n",
    "from dotenv import load_dotenv\n",
    "from classes.utils import gather_data_from_folders\n",
    "import pandas as pd\n",
    "import os\n",
    "import seaborn as sns\n",
    "from classes.text_features import TextFeatureExtractor\n",
    "from classes.audio_features import AudioFeatureExtractor\n",
    "from classes.utils import find_songs_to_drop, clean_songs_to_drop\n",
    "from classes.feature_processor import FeatureProcessor\n",
    "\n",
    "load_dotenv();"
   ]
  },
  {
   "cell_type": "markdown",
   "id": "f553cf19-b381-4ee4-9ed2-9ad32c44db43",
   "metadata": {
    "jp-MarkdownHeadingCollapsed": true
   },
   "source": [
    "# Loading the data"
   ]
  },
  {
   "cell_type": "code",
   "execution_count": 30,
   "id": "739719b1-3fc5-4cf2-9d7f-e6351fb5d513",
   "metadata": {},
   "outputs": [
    {
     "name": "stdout",
     "output_type": "stream",
     "text": [
      "\u001b[1;32mINFO: Loading CSV file: /home/krystian/Python/Jupyter-projects/thesis/songs_analysis/playlists/final download 1/final download 1.csv\u001b[0m\n",
      "\u001b[1;32mINFO: Loading CSV file: /home/krystian/Python/Jupyter-projects/thesis/songs_analysis/playlists/uu/uu.csv\u001b[0m\n",
      "\u001b[1;32mINFO: Loading CSV file: /home/krystian/Python/Jupyter-projects/thesis/songs_analysis/playlists/Every song in the world 🌍 /Every song in the world 🌍 .csv\u001b[0m\n",
      "\u001b[1;32mINFO: Loading CSV file: /home/krystian/Python/Jupyter-projects/thesis/songs_analysis/playlists/Changes/Changes.csv\u001b[0m\n",
      "\u001b[1;32mINFO: Loading CSV file: /home/krystian/Python/Jupyter-projects/thesis/songs_analysis/playlists/Skinny Love/Skinny Love.csv\u001b[0m\n",
      "\u001b[1;32mINFO: Loading CSV file: /home/krystian/Python/Jupyter-projects/thesis/songs_analysis/playlists/final download 2/final download 2.csv\u001b[0m\n"
     ]
    }
   ],
   "source": [
    "playlists_dir = 'audio_sentiment_classifier/playlists'\n",
    "playlists_dir = os.path.join(\"/\".join(os.path.abspath(os.path.realpath(__name__)).split(\"/\")[:-1]), \"playlists\")\n",
    "df_from_folders = gather_data_from_folders(playlists_dir)"
   ]
  },
  {
   "cell_type": "code",
   "execution_count": 31,
   "id": "fb744daa-05ac-4925-a908-c94a63ea2da9",
   "metadata": {},
   "outputs": [
    {
     "data": {
      "text/plain": [
       "(5286, 24)"
      ]
     },
     "execution_count": 31,
     "metadata": {},
     "output_type": "execute_result"
    }
   ],
   "source": [
    "df_from_folders.shape"
   ]
  },
  {
   "cell_type": "code",
   "execution_count": 32,
   "id": "ccbc5fda-3980-41a7-981b-778c0fc1626e",
   "metadata": {},
   "outputs": [],
   "source": [
    "df = pd.read_pickle(os.path.join(\"datasets\", \"final_data.pkl\"))"
   ]
  },
  {
   "cell_type": "code",
   "execution_count": 33,
   "id": "a233a0bc-18ae-4666-98d0-9f1966805ff4",
   "metadata": {},
   "outputs": [
    {
     "data": {
      "text/plain": [
       "(5154, 572)"
      ]
     },
     "execution_count": 33,
     "metadata": {},
     "output_type": "execute_result"
    }
   ],
   "source": [
    "df.shape"
   ]
  },
  {
   "cell_type": "code",
   "execution_count": 34,
   "id": "5f0f8566-3af2-4ae2-8c9a-5818808a6921",
   "metadata": {},
   "outputs": [],
   "source": [
    "df_to_process = df_from_folders[~df_from_folders['id'].isin(df['id'])]"
   ]
  },
  {
   "cell_type": "code",
   "execution_count": 36,
   "id": "4cf0aafa-499b-44b3-bfe2-d5b93c14d263",
   "metadata": {},
   "outputs": [
    {
     "data": {
      "text/plain": [
       "(0, 24)"
      ]
     },
     "execution_count": 36,
     "metadata": {},
     "output_type": "execute_result"
    }
   ],
   "source": [
    "df_to_process.shape"
   ]
  },
  {
   "cell_type": "code",
   "execution_count": 39,
   "id": "6d670c29-f85a-40eb-b69f-97251f8d18aa",
   "metadata": {},
   "outputs": [
    {
     "data": {
      "text/plain": [
       "id                    0.0\n",
       "title                 0.0\n",
       "artist                0.0\n",
       "album_art_url         0.0\n",
       "popularity            0.0\n",
       "explicit              0.0\n",
       "album_release_year    0.0\n",
       "duration_ms           0.0\n",
       "genres                0.0\n",
       "lyrics                0.0\n",
       "mp3_path              0.0\n",
       "danceability          0.0\n",
       "energy                0.0\n",
       "key                   0.0\n",
       "loudness              0.0\n",
       "mode                  0.0\n",
       "speechiness           0.0\n",
       "acousticness          0.0\n",
       "instrumentalness      0.0\n",
       "liveness              0.0\n",
       "valence               0.0\n",
       "tempo                 0.0\n",
       "time_signature        0.0\n",
       "csv_path              0.0\n",
       "dtype: float64"
      ]
     },
     "execution_count": 39,
     "metadata": {},
     "output_type": "execute_result"
    }
   ],
   "source": [
    "df_to_process.isna().sum()"
   ]
  },
  {
   "cell_type": "markdown",
   "id": "5272ac43-9b6b-468c-baee-a7210bcc7604",
   "metadata": {
    "jp-MarkdownHeadingCollapsed": true
   },
   "source": [
    "# Getting rid of unusable songs"
   ]
  },
  {
   "cell_type": "code",
   "execution_count": 40,
   "id": "7e13c4d5-fd25-4efb-998b-a6650b39e58f",
   "metadata": {},
   "outputs": [],
   "source": [
    "df_songs_to_drop = find_songs_to_drop(df_to_process, allow_nan_cols=['popularity'])"
   ]
  },
  {
   "cell_type": "code",
   "execution_count": 41,
   "id": "a843deb6-3cd6-4cbb-a4d8-05dd72d73a1f",
   "metadata": {},
   "outputs": [
    {
     "name": "stdout",
     "output_type": "stream",
     "text": [
      "Songs that will be dropped:  0\n"
     ]
    }
   ],
   "source": [
    "print(\"Songs that will be dropped: \", len(df_songs_to_drop))"
   ]
  },
  {
   "cell_type": "code",
   "execution_count": 42,
   "id": "01be0995-0098-4e6c-a232-1a8e43531b74",
   "metadata": {},
   "outputs": [
    {
     "data": {
      "text/html": [
       "<div>\n",
       "<style scoped>\n",
       "    .dataframe tbody tr th:only-of-type {\n",
       "        vertical-align: middle;\n",
       "    }\n",
       "\n",
       "    .dataframe tbody tr th {\n",
       "        vertical-align: top;\n",
       "    }\n",
       "\n",
       "    .dataframe thead th {\n",
       "        text-align: right;\n",
       "    }\n",
       "</style>\n",
       "<table border=\"1\" class=\"dataframe\">\n",
       "  <thead>\n",
       "    <tr style=\"text-align: right;\">\n",
       "      <th></th>\n",
       "      <th>id</th>\n",
       "      <th>title</th>\n",
       "      <th>artist</th>\n",
       "      <th>album_art_url</th>\n",
       "      <th>popularity</th>\n",
       "      <th>explicit</th>\n",
       "      <th>album_release_year</th>\n",
       "      <th>duration_ms</th>\n",
       "      <th>genres</th>\n",
       "      <th>lyrics</th>\n",
       "      <th>...</th>\n",
       "      <th>loudness</th>\n",
       "      <th>mode</th>\n",
       "      <th>speechiness</th>\n",
       "      <th>acousticness</th>\n",
       "      <th>instrumentalness</th>\n",
       "      <th>liveness</th>\n",
       "      <th>valence</th>\n",
       "      <th>tempo</th>\n",
       "      <th>time_signature</th>\n",
       "      <th>csv_path</th>\n",
       "    </tr>\n",
       "  </thead>\n",
       "  <tbody>\n",
       "  </tbody>\n",
       "</table>\n",
       "<p>0 rows × 24 columns</p>\n",
       "</div>"
      ],
      "text/plain": [
       "Empty DataFrame\n",
       "Columns: [id, title, artist, album_art_url, popularity, explicit, album_release_year, duration_ms, genres, lyrics, mp3_path, danceability, energy, key, loudness, mode, speechiness, acousticness, instrumentalness, liveness, valence, tempo, time_signature, csv_path]\n",
       "Index: []\n",
       "\n",
       "[0 rows x 24 columns]"
      ]
     },
     "execution_count": 42,
     "metadata": {},
     "output_type": "execute_result"
    }
   ],
   "source": [
    "df_songs_to_drop.head()"
   ]
  },
  {
   "cell_type": "code",
   "execution_count": 43,
   "id": "5e86bc32-f971-49a7-9f1f-85a3a420ea31",
   "metadata": {},
   "outputs": [],
   "source": [
    "clean_songs_to_drop(df_songs_to_drop)"
   ]
  },
  {
   "cell_type": "code",
   "execution_count": 44,
   "id": "3702d415-f834-4771-8625-0a1ac26e2d7a",
   "metadata": {},
   "outputs": [],
   "source": [
    "df_to_process = df_to_process[~df_to_process.id.isin(df_songs_to_drop.id)]"
   ]
  },
  {
   "cell_type": "code",
   "execution_count": 45,
   "id": "3fc3e752-82c6-4b53-b397-88a8b68fa5ac",
   "metadata": {},
   "outputs": [
    {
     "data": {
      "text/plain": [
       "0"
      ]
     },
     "execution_count": 45,
     "metadata": {},
     "output_type": "execute_result"
    }
   ],
   "source": [
    "df_to_process.shape[0]"
   ]
  },
  {
   "cell_type": "code",
   "execution_count": 16,
   "id": "3ff385b3-07c0-494f-a18e-d4aef14e949d",
   "metadata": {},
   "outputs": [],
   "source": [
    "df_to_process.to_pickle(os.path.join(\"datasets\", \"onboarding_step1.pkl\"))"
   ]
  },
  {
   "cell_type": "markdown",
   "id": "1825808f-0f95-4e18-a006-7bcfe18da392",
   "metadata": {},
   "source": [
    "---"
   ]
  },
  {
   "cell_type": "markdown",
   "id": "6571e8e0-a62b-4fc1-8ace-4cf09cda7714",
   "metadata": {
    "jp-MarkdownHeadingCollapsed": true
   },
   "source": [
    "# Adding audio features"
   ]
  },
  {
   "cell_type": "code",
   "execution_count": 21,
   "id": "29005d6a-68b3-4941-99bc-9c6334690ab6",
   "metadata": {},
   "outputs": [
    {
     "name": "stdout",
     "output_type": "stream",
     "text": [
      "Total records to process: 2\n",
      "Processing in batches of size 100...\n"
     ]
    },
    {
     "data": {
      "application/vnd.jupyter.widget-view+json": {
       "model_id": "5bb66b872e5d4f169f144710886e8abe",
       "version_major": 2,
       "version_minor": 0
      },
      "text/plain": [
       "Processing Batches:   0%|          | 0/1 [00:00<?, ?batch/s]"
      ]
     },
     "metadata": {},
     "output_type": "display_data"
    },
    {
     "data": {
      "application/vnd.jupyter.widget-view+json": {
       "model_id": "9062f902c25e42198766ca552dea29dc",
       "version_major": 2,
       "version_minor": 0
      },
      "text/plain": [
       "Extracting Audio Features:   0%|          | 0/2 [00:00<?, ?file/s]"
      ]
     },
     "metadata": {},
     "output_type": "display_data"
    },
    {
     "name": "stdout",
     "output_type": "stream",
     "text": [
      "Saved batch with 2 records to datasets/onboarding_step2.pkl\n"
     ]
    }
   ],
   "source": [
    "aud_processor = FeatureProcessor(\n",
    "    extractor=AudioFeatureExtractor(),\n",
    "    input_file=os.path.join(\"datasets\", \"onboarding_step1.pkl\"),\n",
    "    output_file=os.path.join('datasets', \"onboarding_step2.pkl\"),\n",
    "    batch_size=100\n",
    ")\n",
    "aud_processor.process_batches()"
   ]
  },
  {
   "cell_type": "markdown",
   "id": "24b5100c-937d-4110-be02-703058e17164",
   "metadata": {},
   "source": [
    "# Adding textual features"
   ]
  },
  {
   "cell_type": "markdown",
   "id": "e9841b84-dfb8-4bca-a30c-9cca34a9824f",
   "metadata": {},
   "source": [
    "### Combining existing data with data being onboarded to calculate tfidf on the whole corpus"
   ]
  },
  {
   "cell_type": "code",
   "execution_count": 62,
   "id": "a743e399-dfaa-494c-ba97-875d802cb75e",
   "metadata": {},
   "outputs": [],
   "source": [
    "text_features = ['word_count',\n",
    " 'unique_word_count',\n",
    " 'avg_word_length',\n",
    " 'syllable_count',\n",
    " 'sentiment_polarity',\n",
    " 'sentiment_subjectivity',\n",
    " 'readability_score',\n",
    " 'noun_count',\n",
    " 'verb_count',\n",
    " 'vader_compound',\n",
    " 'repetition_count',\n",
    " 'average_syllables_per_word',\n",
    " 'language',\n",
    " 'genre',\n",
    " 'word_count',\n",
    " 'unique_word_count',\n",
    " 'avg_word_length',\n",
    " 'syllable_count',\n",
    " 'sentiment_polarity',\n",
    " 'sentiment_subjectivity',\n",
    " 'readability_score',\n",
    " 'noun_count',\n",
    " 'verb_count',\n",
    " 'vader_compound',\n",
    " 'repetition_count',\n",
    " 'average_syllables_per_word',\n",
    " 'language'] "
   ]
  },
  {
   "cell_type": "code",
   "execution_count": 63,
   "id": "07a10c6c-8d59-4249-a595-0e73012a9281",
   "metadata": {},
   "outputs": [],
   "source": [
    "df_complete_data = pd.read_pickle(os.path.join(\"datasets\", \"final_data.pkl\"))\n",
    "df_complete_data.drop([c for c in df_complete_data.columns if c.startswith('tfidf') or c in text_features ], axis=1, inplace=True)"
   ]
  },
  {
   "cell_type": "code",
   "execution_count": 64,
   "id": "ebbd8dda-9987-463e-ad4b-c3e172329b67",
   "metadata": {},
   "outputs": [
    {
     "data": {
      "text/plain": [
       "0       Come on, skinny love, just last the year\\nPour...\n",
       "1       Life is fleeting by the slow\\nIt chills us to ...\n",
       "2       And I'd give up forever to touch you\\n'Cause I...\n",
       "3       There is freedom within\\nThere is freedom with...\n",
       "4       I know you've suffered\\nBut I don't want you t...\n",
       "                              ...                        \n",
       "5373    It must be Monday! What a dumb day!\\nCan't dra...\n",
       "5374    God knows what is hiding\\nIn those weak and dr...\n",
       "5375    Your mouth is a revolver firing bullets in the...\n",
       "5376    I can see what you're looking to find\\nIn the ...\n",
       "5377    Bury all your secrets in my skin\\nCome away wi...\n",
       "Name: lyrics, Length: 5154, dtype: object"
      ]
     },
     "execution_count": 64,
     "metadata": {},
     "output_type": "execute_result"
    }
   ],
   "source": [
    "df_complete_data.lyrics"
   ]
  },
  {
   "cell_type": "code",
   "execution_count": 34,
   "id": "64bb8c9c-28fb-42cd-8efb-d4ff3fef548e",
   "metadata": {},
   "outputs": [
    {
     "data": {
      "text/html": [
       "<div>\n",
       "<style scoped>\n",
       "    .dataframe tbody tr th:only-of-type {\n",
       "        vertical-align: middle;\n",
       "    }\n",
       "\n",
       "    .dataframe tbody tr th {\n",
       "        vertical-align: top;\n",
       "    }\n",
       "\n",
       "    .dataframe thead th {\n",
       "        text-align: right;\n",
       "    }\n",
       "</style>\n",
       "<table border=\"1\" class=\"dataframe\">\n",
       "  <thead>\n",
       "    <tr style=\"text-align: right;\">\n",
       "      <th></th>\n",
       "      <th>id</th>\n",
       "      <th>title</th>\n",
       "      <th>artist</th>\n",
       "      <th>album_art_url</th>\n",
       "      <th>popularity</th>\n",
       "      <th>explicit</th>\n",
       "      <th>album_release_year</th>\n",
       "      <th>duration_ms</th>\n",
       "      <th>genres</th>\n",
       "      <th>lyrics</th>\n",
       "      <th>...</th>\n",
       "      <th>chroma_12</th>\n",
       "      <th>spectral_contrast_1</th>\n",
       "      <th>spectral_contrast_2</th>\n",
       "      <th>spectral_contrast_3</th>\n",
       "      <th>spectral_contrast_4</th>\n",
       "      <th>spectral_contrast_5</th>\n",
       "      <th>spectral_contrast_6</th>\n",
       "      <th>spectral_contrast_7</th>\n",
       "      <th>tempo_extracted</th>\n",
       "      <th>zcr</th>\n",
       "    </tr>\n",
       "  </thead>\n",
       "  <tbody>\n",
       "    <tr>\n",
       "      <th>0</th>\n",
       "      <td>4Uzv9ZmajuHh2tJzpATR3T</td>\n",
       "      <td>ticket to heaven</td>\n",
       "      <td>dire straits</td>\n",
       "      <td>https://i.scdn.co/image/ab67616d0000b273ee92e1...</td>\n",
       "      <td>57.0</td>\n",
       "      <td>False</td>\n",
       "      <td>1991.0</td>\n",
       "      <td>264200.0</td>\n",
       "      <td>['album rock', 'classic rock', 'mellow gold', ...</td>\n",
       "      <td>I can see what you're looking to find\\nIn the ...</td>\n",
       "      <td>...</td>\n",
       "      <td>0.508303</td>\n",
       "      <td>15.254438</td>\n",
       "      <td>10.797656</td>\n",
       "      <td>14.906140</td>\n",
       "      <td>17.791504</td>\n",
       "      <td>19.277332</td>\n",
       "      <td>17.169731</td>\n",
       "      <td>53.260340</td>\n",
       "      <td>117.1875</td>\n",
       "      <td>0.031138</td>\n",
       "    </tr>\n",
       "    <tr>\n",
       "      <th>1</th>\n",
       "      <td>3RptaQ5Xb8WvtpItZ2f9Hi</td>\n",
       "      <td>snuff</td>\n",
       "      <td>slipknot</td>\n",
       "      <td>https://i.scdn.co/image/ab67616d0000b273457163...</td>\n",
       "      <td>66.0</td>\n",
       "      <td>False</td>\n",
       "      <td>2008.0</td>\n",
       "      <td>276146.0</td>\n",
       "      <td>['alternative metal', 'nu metal', 'rap metal',...</td>\n",
       "      <td>Bury all your secrets in my skin\\nCome away wi...</td>\n",
       "      <td>...</td>\n",
       "      <td>0.445762</td>\n",
       "      <td>14.870351</td>\n",
       "      <td>10.289753</td>\n",
       "      <td>13.564273</td>\n",
       "      <td>15.741718</td>\n",
       "      <td>18.031011</td>\n",
       "      <td>17.757005</td>\n",
       "      <td>51.333696</td>\n",
       "      <td>125.0000</td>\n",
       "      <td>0.047012</td>\n",
       "    </tr>\n",
       "  </tbody>\n",
       "</table>\n",
       "<p>2 rows × 58 columns</p>\n",
       "</div>"
      ],
      "text/plain": [
       "                       id             title        artist  \\\n",
       "0  4Uzv9ZmajuHh2tJzpATR3T  ticket to heaven  dire straits   \n",
       "1  3RptaQ5Xb8WvtpItZ2f9Hi             snuff      slipknot   \n",
       "\n",
       "                                       album_art_url  popularity  explicit  \\\n",
       "0  https://i.scdn.co/image/ab67616d0000b273ee92e1...        57.0     False   \n",
       "1  https://i.scdn.co/image/ab67616d0000b273457163...        66.0     False   \n",
       "\n",
       "   album_release_year  duration_ms  \\\n",
       "0              1991.0     264200.0   \n",
       "1              2008.0     276146.0   \n",
       "\n",
       "                                              genres  \\\n",
       "0  ['album rock', 'classic rock', 'mellow gold', ...   \n",
       "1  ['alternative metal', 'nu metal', 'rap metal',...   \n",
       "\n",
       "                                              lyrics  ... chroma_12  \\\n",
       "0  I can see what you're looking to find\\nIn the ...  ...  0.508303   \n",
       "1  Bury all your secrets in my skin\\nCome away wi...  ...  0.445762   \n",
       "\n",
       "   spectral_contrast_1  spectral_contrast_2  spectral_contrast_3  \\\n",
       "0            15.254438            10.797656            14.906140   \n",
       "1            14.870351            10.289753            13.564273   \n",
       "\n",
       "   spectral_contrast_4  spectral_contrast_5  spectral_contrast_6  \\\n",
       "0            17.791504            19.277332            17.169731   \n",
       "1            15.741718            18.031011            17.757005   \n",
       "\n",
       "   spectral_contrast_7  tempo_extracted       zcr  \n",
       "0            53.260340         117.1875  0.031138  \n",
       "1            51.333696         125.0000  0.047012  \n",
       "\n",
       "[2 rows x 58 columns]"
      ]
     },
     "execution_count": 34,
     "metadata": {},
     "output_type": "execute_result"
    }
   ],
   "source": [
    "df_onboarding = pd.read_pickle(os.path.join(\"datasets\", \"onboarding_step2.pkl\"))\n",
    "df_onboarding.head()"
   ]
  },
  {
   "cell_type": "code",
   "execution_count": 35,
   "id": "9b4cb05b-810d-424c-b141-a097b918cb8a",
   "metadata": {},
   "outputs": [
    {
     "data": {
      "text/plain": [
       "(5376, 58)"
      ]
     },
     "execution_count": 35,
     "metadata": {},
     "output_type": "execute_result"
    }
   ],
   "source": [
    "df_complete_data.shape"
   ]
  },
  {
   "cell_type": "code",
   "execution_count": 36,
   "id": "8e421e1f-8a72-4eef-81fc-6e8f80e0065e",
   "metadata": {},
   "outputs": [
    {
     "data": {
      "text/plain": [
       "(2, 58)"
      ]
     },
     "execution_count": 36,
     "metadata": {},
     "output_type": "execute_result"
    }
   ],
   "source": [
    "df_onboarding.shape"
   ]
  },
  {
   "cell_type": "code",
   "execution_count": 38,
   "id": "74786bf0-4512-40fc-a47c-addb4cd6ec47",
   "metadata": {},
   "outputs": [
    {
     "data": {
      "text/html": [
       "<div>\n",
       "<style scoped>\n",
       "    .dataframe tbody tr th:only-of-type {\n",
       "        vertical-align: middle;\n",
       "    }\n",
       "\n",
       "    .dataframe tbody tr th {\n",
       "        vertical-align: top;\n",
       "    }\n",
       "\n",
       "    .dataframe thead th {\n",
       "        text-align: right;\n",
       "    }\n",
       "</style>\n",
       "<table border=\"1\" class=\"dataframe\">\n",
       "  <thead>\n",
       "    <tr style=\"text-align: right;\">\n",
       "      <th></th>\n",
       "      <th>id</th>\n",
       "      <th>title</th>\n",
       "      <th>artist</th>\n",
       "      <th>album_art_url</th>\n",
       "      <th>popularity</th>\n",
       "      <th>explicit</th>\n",
       "      <th>album_release_year</th>\n",
       "      <th>duration_ms</th>\n",
       "      <th>genres</th>\n",
       "      <th>lyrics</th>\n",
       "      <th>...</th>\n",
       "      <th>spectral_contrast_1</th>\n",
       "      <th>spectral_contrast_2</th>\n",
       "      <th>spectral_contrast_3</th>\n",
       "      <th>spectral_contrast_4</th>\n",
       "      <th>spectral_contrast_5</th>\n",
       "      <th>spectral_contrast_6</th>\n",
       "      <th>spectral_contrast_7</th>\n",
       "      <th>tempo_extracted</th>\n",
       "      <th>zcr</th>\n",
       "      <th>csv_path</th>\n",
       "    </tr>\n",
       "  </thead>\n",
       "  <tbody>\n",
       "    <tr>\n",
       "      <th>0</th>\n",
       "      <td>4RL77hMWUq35NYnPLXBpih</td>\n",
       "      <td>skinny love</td>\n",
       "      <td>birdy</td>\n",
       "      <td>https://i.scdn.co/image/ab67616d0000b2733661c0...</td>\n",
       "      <td>70.0</td>\n",
       "      <td>0</td>\n",
       "      <td>2011.0</td>\n",
       "      <td>201080.0</td>\n",
       "      <td>['neo mellow', 'uk pop', 'viral pop']</td>\n",
       "      <td>Come on, skinny love, just last the year\\nPour...</td>\n",
       "      <td>...</td>\n",
       "      <td>17.627332</td>\n",
       "      <td>13.771729</td>\n",
       "      <td>19.275149</td>\n",
       "      <td>22.244659</td>\n",
       "      <td>23.802122</td>\n",
       "      <td>22.563887</td>\n",
       "      <td>46.881367</td>\n",
       "      <td>119.680851</td>\n",
       "      <td>0.031446</td>\n",
       "      <td>NaN</td>\n",
       "    </tr>\n",
       "    <tr>\n",
       "      <th>1</th>\n",
       "      <td>5PsjZ21f5tMPFf1sJpokm7</td>\n",
       "      <td>deathwish</td>\n",
       "      <td>red sun rising</td>\n",
       "      <td>https://i.scdn.co/image/ab67616d0000b273612f16...</td>\n",
       "      <td>NaN</td>\n",
       "      <td>0</td>\n",
       "      <td>2018.0</td>\n",
       "      <td>287946.0</td>\n",
       "      <td>['modern hard rock', 'post-grunge']</td>\n",
       "      <td>Life is fleeting by the slow\\nIt chills us to ...</td>\n",
       "      <td>...</td>\n",
       "      <td>16.215804</td>\n",
       "      <td>10.309580</td>\n",
       "      <td>13.744232</td>\n",
       "      <td>16.058571</td>\n",
       "      <td>17.278253</td>\n",
       "      <td>16.887822</td>\n",
       "      <td>53.087236</td>\n",
       "      <td>133.928571</td>\n",
       "      <td>0.051242</td>\n",
       "      <td>NaN</td>\n",
       "    </tr>\n",
       "    <tr>\n",
       "      <th>2</th>\n",
       "      <td>6vrUTGn5p8IrfTZ0J6sIVM</td>\n",
       "      <td>iris</td>\n",
       "      <td>the goo goo dolls</td>\n",
       "      <td>https://i.scdn.co/image/ab67616d0000b273d54c4b...</td>\n",
       "      <td>71.0</td>\n",
       "      <td>0</td>\n",
       "      <td>2007.0</td>\n",
       "      <td>289906.0</td>\n",
       "      <td>['neo mellow', 'permanent wave', 'pop rock', '...</td>\n",
       "      <td>And I'd give up forever to touch you\\n'Cause I...</td>\n",
       "      <td>...</td>\n",
       "      <td>15.357601</td>\n",
       "      <td>10.201447</td>\n",
       "      <td>13.698081</td>\n",
       "      <td>17.050868</td>\n",
       "      <td>18.783636</td>\n",
       "      <td>17.473927</td>\n",
       "      <td>56.185155</td>\n",
       "      <td>152.027027</td>\n",
       "      <td>0.069683</td>\n",
       "      <td>NaN</td>\n",
       "    </tr>\n",
       "    <tr>\n",
       "      <th>3</th>\n",
       "      <td>0Leo4GP0UKG4tUABm9JATe</td>\n",
       "      <td>don't dream it's over</td>\n",
       "      <td>crowded house</td>\n",
       "      <td>https://i.scdn.co/image/ab67616d0000b27380ed24...</td>\n",
       "      <td>NaN</td>\n",
       "      <td>0</td>\n",
       "      <td>2017.0</td>\n",
       "      <td>231377.0</td>\n",
       "      <td>['australian rock', 'permanent wave']</td>\n",
       "      <td>There is freedom within\\nThere is freedom with...</td>\n",
       "      <td>...</td>\n",
       "      <td>14.941456</td>\n",
       "      <td>11.061548</td>\n",
       "      <td>15.084157</td>\n",
       "      <td>17.604808</td>\n",
       "      <td>18.362215</td>\n",
       "      <td>18.056211</td>\n",
       "      <td>51.318052</td>\n",
       "      <td>160.714286</td>\n",
       "      <td>0.044647</td>\n",
       "      <td>NaN</td>\n",
       "    </tr>\n",
       "    <tr>\n",
       "      <th>4</th>\n",
       "      <td>0It6VJoMAare1zdV2wxqZq</td>\n",
       "      <td>undisclosed desires</td>\n",
       "      <td>muse</td>\n",
       "      <td>https://i.scdn.co/image/ab67616d0000b273b6d456...</td>\n",
       "      <td>65.0</td>\n",
       "      <td>0</td>\n",
       "      <td>2009.0</td>\n",
       "      <td>235000.0</td>\n",
       "      <td>['alternative rock', 'modern rock', 'permanent...</td>\n",
       "      <td>I know you've suffered\\nBut I don't want you t...</td>\n",
       "      <td>...</td>\n",
       "      <td>14.934434</td>\n",
       "      <td>11.366229</td>\n",
       "      <td>15.412446</td>\n",
       "      <td>16.330238</td>\n",
       "      <td>17.806636</td>\n",
       "      <td>17.648626</td>\n",
       "      <td>53.669779</td>\n",
       "      <td>117.187500</td>\n",
       "      <td>0.041844</td>\n",
       "      <td>NaN</td>\n",
       "    </tr>\n",
       "    <tr>\n",
       "      <th>...</th>\n",
       "      <td>...</td>\n",
       "      <td>...</td>\n",
       "      <td>...</td>\n",
       "      <td>...</td>\n",
       "      <td>...</td>\n",
       "      <td>...</td>\n",
       "      <td>...</td>\n",
       "      <td>...</td>\n",
       "      <td>...</td>\n",
       "      <td>...</td>\n",
       "      <td>...</td>\n",
       "      <td>...</td>\n",
       "      <td>...</td>\n",
       "      <td>...</td>\n",
       "      <td>...</td>\n",
       "      <td>...</td>\n",
       "      <td>...</td>\n",
       "      <td>...</td>\n",
       "      <td>...</td>\n",
       "      <td>...</td>\n",
       "      <td>...</td>\n",
       "    </tr>\n",
       "    <tr>\n",
       "      <th>5373</th>\n",
       "      <td>46S89qBi4tDaDaWf2gHYwj</td>\n",
       "      <td>c'est la vie</td>\n",
       "      <td>shania twain</td>\n",
       "      <td>https://i.scdn.co/image/ab67616d0000b273e5edf8...</td>\n",
       "      <td>22.0</td>\n",
       "      <td>0</td>\n",
       "      <td>2002.0</td>\n",
       "      <td>218960.0</td>\n",
       "      <td>['canadian country', 'canadian pop', 'contempo...</td>\n",
       "      <td>It must be Monday! What a dumb day!\\nCan't dra...</td>\n",
       "      <td>...</td>\n",
       "      <td>14.036007</td>\n",
       "      <td>11.390483</td>\n",
       "      <td>15.766920</td>\n",
       "      <td>19.441054</td>\n",
       "      <td>21.393834</td>\n",
       "      <td>18.276284</td>\n",
       "      <td>57.088811</td>\n",
       "      <td>122.282609</td>\n",
       "      <td>0.080069</td>\n",
       "      <td>NaN</td>\n",
       "    </tr>\n",
       "    <tr>\n",
       "      <th>5374</th>\n",
       "      <td>0YywjDvFudcaHG74NuWISy</td>\n",
       "      <td>people help the people</td>\n",
       "      <td>birdy</td>\n",
       "      <td>https://i.scdn.co/image/ab67616d0000b2733661c0...</td>\n",
       "      <td>68.0</td>\n",
       "      <td>0</td>\n",
       "      <td>2011.0</td>\n",
       "      <td>256236.0</td>\n",
       "      <td>['neo mellow', 'uk pop', 'viral pop']</td>\n",
       "      <td>God knows what is hiding\\nIn those weak and dr...</td>\n",
       "      <td>...</td>\n",
       "      <td>16.001677</td>\n",
       "      <td>13.129550</td>\n",
       "      <td>17.740944</td>\n",
       "      <td>19.416752</td>\n",
       "      <td>21.367145</td>\n",
       "      <td>20.205828</td>\n",
       "      <td>50.704285</td>\n",
       "      <td>148.026316</td>\n",
       "      <td>0.028913</td>\n",
       "      <td>NaN</td>\n",
       "    </tr>\n",
       "    <tr>\n",
       "      <th>5387</th>\n",
       "      <td>2N0volXQpwsvjDorTTxBAU</td>\n",
       "      <td>bonfire heart</td>\n",
       "      <td>james blunt</td>\n",
       "      <td>https://i.scdn.co/image/ab67616d0000b273fcf5fe...</td>\n",
       "      <td>67.0</td>\n",
       "      <td>0</td>\n",
       "      <td>2013.0</td>\n",
       "      <td>238000.0</td>\n",
       "      <td>['neo mellow']</td>\n",
       "      <td>Your mouth is a revolver firing bullets in the...</td>\n",
       "      <td>...</td>\n",
       "      <td>12.764830</td>\n",
       "      <td>11.519237</td>\n",
       "      <td>14.631629</td>\n",
       "      <td>16.818982</td>\n",
       "      <td>18.706928</td>\n",
       "      <td>17.424538</td>\n",
       "      <td>53.491715</td>\n",
       "      <td>117.187500</td>\n",
       "      <td>0.051468</td>\n",
       "      <td>/home/krystian/Python/Jupyter-projects/thesis/...</td>\n",
       "    </tr>\n",
       "    <tr>\n",
       "      <th>0</th>\n",
       "      <td>4Uzv9ZmajuHh2tJzpATR3T</td>\n",
       "      <td>ticket to heaven</td>\n",
       "      <td>dire straits</td>\n",
       "      <td>https://i.scdn.co/image/ab67616d0000b273ee92e1...</td>\n",
       "      <td>57.0</td>\n",
       "      <td>0</td>\n",
       "      <td>1991.0</td>\n",
       "      <td>264200.0</td>\n",
       "      <td>['album rock', 'classic rock', 'mellow gold', ...</td>\n",
       "      <td>I can see what you're looking to find\\nIn the ...</td>\n",
       "      <td>...</td>\n",
       "      <td>15.254438</td>\n",
       "      <td>10.797656</td>\n",
       "      <td>14.906140</td>\n",
       "      <td>17.791504</td>\n",
       "      <td>19.277332</td>\n",
       "      <td>17.169731</td>\n",
       "      <td>53.260340</td>\n",
       "      <td>117.187500</td>\n",
       "      <td>0.031138</td>\n",
       "      <td>/home/krystian/Python/Jupyter-projects/thesis/...</td>\n",
       "    </tr>\n",
       "    <tr>\n",
       "      <th>1</th>\n",
       "      <td>3RptaQ5Xb8WvtpItZ2f9Hi</td>\n",
       "      <td>snuff</td>\n",
       "      <td>slipknot</td>\n",
       "      <td>https://i.scdn.co/image/ab67616d0000b273457163...</td>\n",
       "      <td>66.0</td>\n",
       "      <td>0</td>\n",
       "      <td>2008.0</td>\n",
       "      <td>276146.0</td>\n",
       "      <td>['alternative metal', 'nu metal', 'rap metal',...</td>\n",
       "      <td>Bury all your secrets in my skin\\nCome away wi...</td>\n",
       "      <td>...</td>\n",
       "      <td>14.870351</td>\n",
       "      <td>10.289753</td>\n",
       "      <td>13.564273</td>\n",
       "      <td>15.741718</td>\n",
       "      <td>18.031011</td>\n",
       "      <td>17.757005</td>\n",
       "      <td>51.333696</td>\n",
       "      <td>125.000000</td>\n",
       "      <td>0.047012</td>\n",
       "      <td>/home/krystian/Python/Jupyter-projects/thesis/...</td>\n",
       "    </tr>\n",
       "  </tbody>\n",
       "</table>\n",
       "<p>5378 rows × 58 columns</p>\n",
       "</div>"
      ],
      "text/plain": [
       "                          id                   title             artist  \\\n",
       "0     4RL77hMWUq35NYnPLXBpih             skinny love              birdy   \n",
       "1     5PsjZ21f5tMPFf1sJpokm7               deathwish     red sun rising   \n",
       "2     6vrUTGn5p8IrfTZ0J6sIVM                    iris  the goo goo dolls   \n",
       "3     0Leo4GP0UKG4tUABm9JATe   don't dream it's over      crowded house   \n",
       "4     0It6VJoMAare1zdV2wxqZq     undisclosed desires               muse   \n",
       "...                      ...                     ...                ...   \n",
       "5373  46S89qBi4tDaDaWf2gHYwj            c'est la vie       shania twain   \n",
       "5374  0YywjDvFudcaHG74NuWISy  people help the people              birdy   \n",
       "5387  2N0volXQpwsvjDorTTxBAU           bonfire heart        james blunt   \n",
       "0     4Uzv9ZmajuHh2tJzpATR3T        ticket to heaven       dire straits   \n",
       "1     3RptaQ5Xb8WvtpItZ2f9Hi                   snuff           slipknot   \n",
       "\n",
       "                                          album_art_url  popularity  explicit  \\\n",
       "0     https://i.scdn.co/image/ab67616d0000b2733661c0...        70.0         0   \n",
       "1     https://i.scdn.co/image/ab67616d0000b273612f16...         NaN         0   \n",
       "2     https://i.scdn.co/image/ab67616d0000b273d54c4b...        71.0         0   \n",
       "3     https://i.scdn.co/image/ab67616d0000b27380ed24...         NaN         0   \n",
       "4     https://i.scdn.co/image/ab67616d0000b273b6d456...        65.0         0   \n",
       "...                                                 ...         ...       ...   \n",
       "5373  https://i.scdn.co/image/ab67616d0000b273e5edf8...        22.0         0   \n",
       "5374  https://i.scdn.co/image/ab67616d0000b2733661c0...        68.0         0   \n",
       "5387  https://i.scdn.co/image/ab67616d0000b273fcf5fe...        67.0         0   \n",
       "0     https://i.scdn.co/image/ab67616d0000b273ee92e1...        57.0         0   \n",
       "1     https://i.scdn.co/image/ab67616d0000b273457163...        66.0         0   \n",
       "\n",
       "      album_release_year  duration_ms  \\\n",
       "0                 2011.0     201080.0   \n",
       "1                 2018.0     287946.0   \n",
       "2                 2007.0     289906.0   \n",
       "3                 2017.0     231377.0   \n",
       "4                 2009.0     235000.0   \n",
       "...                  ...          ...   \n",
       "5373              2002.0     218960.0   \n",
       "5374              2011.0     256236.0   \n",
       "5387              2013.0     238000.0   \n",
       "0                 1991.0     264200.0   \n",
       "1                 2008.0     276146.0   \n",
       "\n",
       "                                                 genres  \\\n",
       "0                 ['neo mellow', 'uk pop', 'viral pop']   \n",
       "1                   ['modern hard rock', 'post-grunge']   \n",
       "2     ['neo mellow', 'permanent wave', 'pop rock', '...   \n",
       "3                 ['australian rock', 'permanent wave']   \n",
       "4     ['alternative rock', 'modern rock', 'permanent...   \n",
       "...                                                 ...   \n",
       "5373  ['canadian country', 'canadian pop', 'contempo...   \n",
       "5374              ['neo mellow', 'uk pop', 'viral pop']   \n",
       "5387                                     ['neo mellow']   \n",
       "0     ['album rock', 'classic rock', 'mellow gold', ...   \n",
       "1     ['alternative metal', 'nu metal', 'rap metal',...   \n",
       "\n",
       "                                                 lyrics  ...  \\\n",
       "0     Come on, skinny love, just last the year\\nPour...  ...   \n",
       "1     Life is fleeting by the slow\\nIt chills us to ...  ...   \n",
       "2     And I'd give up forever to touch you\\n'Cause I...  ...   \n",
       "3     There is freedom within\\nThere is freedom with...  ...   \n",
       "4     I know you've suffered\\nBut I don't want you t...  ...   \n",
       "...                                                 ...  ...   \n",
       "5373  It must be Monday! What a dumb day!\\nCan't dra...  ...   \n",
       "5374  God knows what is hiding\\nIn those weak and dr...  ...   \n",
       "5387  Your mouth is a revolver firing bullets in the...  ...   \n",
       "0     I can see what you're looking to find\\nIn the ...  ...   \n",
       "1     Bury all your secrets in my skin\\nCome away wi...  ...   \n",
       "\n",
       "     spectral_contrast_1  spectral_contrast_2  spectral_contrast_3  \\\n",
       "0              17.627332            13.771729            19.275149   \n",
       "1              16.215804            10.309580            13.744232   \n",
       "2              15.357601            10.201447            13.698081   \n",
       "3              14.941456            11.061548            15.084157   \n",
       "4              14.934434            11.366229            15.412446   \n",
       "...                  ...                  ...                  ...   \n",
       "5373           14.036007            11.390483            15.766920   \n",
       "5374           16.001677            13.129550            17.740944   \n",
       "5387           12.764830            11.519237            14.631629   \n",
       "0              15.254438            10.797656            14.906140   \n",
       "1              14.870351            10.289753            13.564273   \n",
       "\n",
       "      spectral_contrast_4  spectral_contrast_5  spectral_contrast_6  \\\n",
       "0               22.244659            23.802122            22.563887   \n",
       "1               16.058571            17.278253            16.887822   \n",
       "2               17.050868            18.783636            17.473927   \n",
       "3               17.604808            18.362215            18.056211   \n",
       "4               16.330238            17.806636            17.648626   \n",
       "...                   ...                  ...                  ...   \n",
       "5373            19.441054            21.393834            18.276284   \n",
       "5374            19.416752            21.367145            20.205828   \n",
       "5387            16.818982            18.706928            17.424538   \n",
       "0               17.791504            19.277332            17.169731   \n",
       "1               15.741718            18.031011            17.757005   \n",
       "\n",
       "      spectral_contrast_7  tempo_extracted       zcr  \\\n",
       "0               46.881367       119.680851  0.031446   \n",
       "1               53.087236       133.928571  0.051242   \n",
       "2               56.185155       152.027027  0.069683   \n",
       "3               51.318052       160.714286  0.044647   \n",
       "4               53.669779       117.187500  0.041844   \n",
       "...                   ...              ...       ...   \n",
       "5373            57.088811       122.282609  0.080069   \n",
       "5374            50.704285       148.026316  0.028913   \n",
       "5387            53.491715       117.187500  0.051468   \n",
       "0               53.260340       117.187500  0.031138   \n",
       "1               51.333696       125.000000  0.047012   \n",
       "\n",
       "                                               csv_path  \n",
       "0                                                   NaN  \n",
       "1                                                   NaN  \n",
       "2                                                   NaN  \n",
       "3                                                   NaN  \n",
       "4                                                   NaN  \n",
       "...                                                 ...  \n",
       "5373                                                NaN  \n",
       "5374                                                NaN  \n",
       "5387  /home/krystian/Python/Jupyter-projects/thesis/...  \n",
       "0     /home/krystian/Python/Jupyter-projects/thesis/...  \n",
       "1     /home/krystian/Python/Jupyter-projects/thesis/...  \n",
       "\n",
       "[5378 rows x 58 columns]"
      ]
     },
     "execution_count": 38,
     "metadata": {},
     "output_type": "execute_result"
    }
   ],
   "source": [
    "df_final = pd.concat([df_complete_data, df_onboarding])\n",
    "df_final"
   ]
  },
  {
   "cell_type": "code",
   "execution_count": 66,
   "id": "4d855d26-ce9d-4500-91a3-93f204d339b7",
   "metadata": {},
   "outputs": [
    {
     "name": "stderr",
     "output_type": "stream",
     "text": [
      "[nltk_data] Downloading package punkt to /home/krystian/nltk_data...\n",
      "[nltk_data]   Package punkt is already up-to-date!\n",
      "[nltk_data] Downloading package averaged_perceptron_tagger to\n",
      "[nltk_data]     /home/krystian/nltk_data...\n",
      "[nltk_data]   Package averaged_perceptron_tagger is already up-to-\n",
      "[nltk_data]       date!\n",
      "[nltk_data] Downloading package vader_lexicon to\n",
      "[nltk_data]     /home/krystian/nltk_data...\n",
      "[nltk_data]   Package vader_lexicon is already up-to-date!\n",
      "[nltk_data] Downloading package cmudict to /home/krystian/nltk_data...\n",
      "[nltk_data]   Package cmudict is already up-to-date!\n"
     ]
    }
   ],
   "source": [
    "df_final['lyrics'] = df_final.lyrics.apply(lambda x: TextFeatureExtractor.preprocess_text(x))"
   ]
  },
  {
   "cell_type": "code",
   "execution_count": 71,
   "id": "262fba97-c0c3-4742-a8bf-4b7e63575f37",
   "metadata": {},
   "outputs": [],
   "source": [
    "df_final.to_pickle(os.path.join(\"datasets\", \"onboarding_step3.pkl\"))"
   ]
  },
  {
   "cell_type": "markdown",
   "id": "07253dd0-848b-459c-b0db-64dca0198198",
   "metadata": {},
   "source": [
    "### Calculating textual features"
   ]
  },
  {
   "cell_type": "code",
   "execution_count": 79,
   "id": "e941f811-059f-4cae-ae31-652eee24857d",
   "metadata": {},
   "outputs": [
    {
     "name": "stdout",
     "output_type": "stream",
     "text": [
      "Total records to process: 5154\n",
      "Processing in a single batch without multiprocessing...\n",
      "Saved batch with 5154 records to datasets/onboarding_step4.pkl\n"
     ]
    }
   ],
   "source": [
    "tf_processor = FeatureProcessor(\n",
    "    extractor=TextFeatureExtractor(n_pca_components=50),\n",
    "    input_file=os.path.join(\"datasets\", \"onboarding_step3.pkl\"),\n",
    "    output_file=os.path.join('datasets', \"onboarding_step4.pkl\"),\n",
    "    batch_size=None,\n",
    "    overwrite_existing=True\n",
    ")\n",
    "tf_processor.process_batches()"
   ]
  },
  {
   "cell_type": "markdown",
   "id": "98721636-bad3-49af-a309-cb005e1fcb42",
   "metadata": {},
   "source": [
    "# Cleaning"
   ]
  },
  {
   "cell_type": "code",
   "execution_count": 80,
   "id": "fde50148-106b-476f-a45d-24f33d573b63",
   "metadata": {},
   "outputs": [
    {
     "data": {
      "text/plain": [
       "(5154, 123)"
      ]
     },
     "execution_count": 80,
     "metadata": {},
     "output_type": "execute_result"
    }
   ],
   "source": [
    "df = pd.read_pickle(os.path.join(\"datasets\", \"onboarding_step4.pkl\"))\n",
    "# df = pd.read_pickle(os.path.join(\"datasets\", \"final_data.pkl\"))\n",
    "df.shape"
   ]
  },
  {
   "cell_type": "code",
   "execution_count": 81,
   "id": "6098f1d2-d0fb-40eb-b63f-b255baa0c7b5",
   "metadata": {},
   "outputs": [
    {
     "data": {
      "text/plain": [
       "pop                  2644\n",
       "rock                  921\n",
       "hip hop               551\n",
       "r&b                   215\n",
       "indie                 199\n",
       "folk                  129\n",
       "dance                  98\n",
       "electronic             97\n",
       "metal                  55\n",
       "experimental           44\n",
       "country                39\n",
       "jazz                   38\n",
       "latin                  37\n",
       "classical              28\n",
       "grime                  21\n",
       "alternative            13\n",
       "reggae                 10\n",
       "singer-songwriter       7\n",
       "house                   6\n",
       "Name: genre, dtype: int64"
      ]
     },
     "execution_count": 81,
     "metadata": {},
     "output_type": "execute_result"
    }
   ],
   "source": [
    "from classes.constants import GENRE_MAPPING\n",
    "\n",
    "def reduce_genres(genre_list: list, mapping: dict):\n",
    "    for genre in genre_list:\n",
    "        for general, specifics in mapping.items():\n",
    "            if genre in specifics:\n",
    "                return general\n",
    "    return None\n",
    "\n",
    "# Apply the generalization function to the DataFrame\n",
    "df['genre'] = df['genres'].apply(lambda x: reduce_genres(eval(x), GENRE_MAPPING))\n",
    "\n",
    "df['genre'].value_counts()"
   ]
  },
  {
   "cell_type": "code",
   "execution_count": 82,
   "id": "34d4844c-7a8b-4169-b85c-d59e0f75efc2",
   "metadata": {},
   "outputs": [
    {
     "name": "stderr",
     "output_type": "stream",
     "text": [
      "/home/krystian/Python/VENVS/jupyter310/lib/python3.10/site-packages/pandas/core/arrays/categorical.py:527: RuntimeWarning: invalid value encountered in cast\n",
      "  fill_value = lib.item_from_zerodim(np.array(np.nan).astype(dtype))\n"
     ]
    }
   ],
   "source": [
    "# Fixing the dtypes\n",
    "cast_to_int_columns = ['duration_ms', 'album_release_year', 'key', 'mode', 'time_signature', 'explicit']\n",
    "df[cast_to_int_columns] = df[cast_to_int_columns].astype(int)\n",
    "\n",
    "cast_to_category_columns = ['key', 'mode', 'time_signature', 'explicit', 'language', 'genre']\n",
    "df[cast_to_category_columns] = df[cast_to_category_columns].astype('category')"
   ]
  },
  {
   "cell_type": "code",
   "execution_count": 83,
   "id": "fbddb155-9fd5-465e-a283-f0ac0d4063f8",
   "metadata": {},
   "outputs": [],
   "source": [
    "df.to_pickle(os.path.join(\"datasets\", 'final_data.pkl'))"
   ]
  },
  {
   "cell_type": "code",
   "execution_count": 84,
   "id": "e12044f1-12f2-4de6-a9ea-5c777db53b47",
   "metadata": {},
   "outputs": [],
   "source": [
    "for pkl in [ file for file in os.listdir('datasets') if file.startswith('onboarding') and file.endswith('pkl')]:\n",
    "    os.remove(os.path.join('datasets', pkl))"
   ]
  },
  {
   "cell_type": "code",
   "execution_count": null,
   "id": "88922f95-6c55-42f1-b0c9-6ed12bb929cd",
   "metadata": {},
   "outputs": [],
   "source": []
  }
 ],
 "metadata": {
  "kernelspec": {
   "display_name": "Python 3 (ipykernel)",
   "language": "python",
   "name": "python3"
  },
  "language_info": {
   "codemirror_mode": {
    "name": "ipython",
    "version": 3
   },
   "file_extension": ".py",
   "mimetype": "text/x-python",
   "name": "python",
   "nbconvert_exporter": "python",
   "pygments_lexer": "ipython3",
   "version": "3.10.12"
  }
 },
 "nbformat": 4,
 "nbformat_minor": 5
}
