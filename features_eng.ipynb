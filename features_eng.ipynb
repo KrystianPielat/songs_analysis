{
 "cells": [
  {
   "cell_type": "code",
   "execution_count": 30,
   "id": "3aac368b-0904-4021-afa9-e5c9d9202bb0",
   "metadata": {},
   "outputs": [
    {
     "name": "stdout",
     "output_type": "stream",
     "text": [
      "The autoreload extension is already loaded. To reload it, use:\n",
      "  %reload_ext autoreload\n"
     ]
    },
    {
     "name": "stderr",
     "output_type": "stream",
     "text": [
      "[nltk_data] Downloading package punkt to /home/krystian/nltk_data...\n",
      "[nltk_data]   Package punkt is already up-to-date!\n",
      "[nltk_data] Downloading package averaged_perceptron_tagger to\n",
      "[nltk_data]     /home/krystian/nltk_data...\n",
      "[nltk_data]   Package averaged_perceptron_tagger is already up-to-\n",
      "[nltk_data]       date!\n",
      "[nltk_data] Downloading package vader_lexicon to\n",
      "[nltk_data]     /home/krystian/nltk_data...\n",
      "[nltk_data]   Package vader_lexicon is already up-to-date!\n",
      "[nltk_data] Downloading package punkt_tab to\n",
      "[nltk_data]     /home/krystian/nltk_data...\n",
      "[nltk_data]   Package punkt_tab is already up-to-date!\n"
     ]
    }
   ],
   "source": [
    "%load_ext autoreload\n",
    "%autoreload 2\n",
    "    \n",
    "from classes.song import Song\n",
    "from classes.playlist import Playlist\n",
    "from classes.spotify_manager import SpotifyManager\n",
    "from classes.lyrics_manager import LyricsManager\n",
    "from dotenv import load_dotenv\n",
    "from classes.utils import gather_data_from_folders\n",
    "import pandas as pd\n",
    "import os\n",
    "import seaborn as sns\n",
    "from classes.text_features import TextFeatureExtractor\n",
    "from classes.audio_features import AudioFeatureExtractor\n",
    "\n",
    "load_dotenv();"
   ]
  },
  {
   "cell_type": "markdown",
   "id": "f553cf19-b381-4ee4-9ed2-9ad32c44db43",
   "metadata": {},
   "source": [
    "# Loading the data"
   ]
  },
  {
   "cell_type": "code",
   "execution_count": 61,
   "id": "739719b1-3fc5-4cf2-9d7f-e6351fb5d513",
   "metadata": {},
   "outputs": [
    {
     "name": "stdout",
     "output_type": "stream",
     "text": [
      "Loading CSV file: /home/krystian/Python/Jupyter-projects/thesis/songs_analysis/playlists/Skinny Love/Skinny Love.csv\n"
     ]
    }
   ],
   "source": [
    "playlists_dir = 'audio_sentiment_classifier/playlists'\n",
    "playlists_dir = os.path.join(\"/\".join(os.path.abspath(os.path.realpath(__name__)).split(\"/\")[:-1]), \"playlists\")\n",
    "df = gather_data_from_folders(playlists_dir)"
   ]
  },
  {
   "cell_type": "code",
   "execution_count": 62,
   "id": "ae44463c-b464-4312-9de1-cfebeb9d70a4",
   "metadata": {},
   "outputs": [],
   "source": [
    "# Getting rid of songs without lyrics\n",
    "df = df.dropna(subset=['lyrics'])"
   ]
  },
  {
   "cell_type": "code",
   "execution_count": 63,
   "id": "4afb68f7-b689-4922-becb-7901e6a920fb",
   "metadata": {},
   "outputs": [
    {
     "data": {
      "application/vnd.jupyter.widget-view+json": {
       "model_id": "6304343a1193453ab78067827d03fb7f",
       "version_major": 2,
       "version_minor": 0
      },
      "text/plain": [
       "Extracting Audio Features:   0%|          | 0/1 [00:00<?, ?file/s]"
      ]
     },
     "metadata": {},
     "output_type": "display_data"
    }
   ],
   "source": [
    "# Adding textual and audio features\n",
    "df = AudioFeatureExtractor().add_features(df)\n",
    "df = TextFeatureExtractor().add_features(df)"
   ]
  },
  {
   "cell_type": "code",
   "execution_count": 68,
   "id": "609362f0-ba4c-4a9f-b4dc-da8b2fc6999a",
   "metadata": {},
   "outputs": [
    {
     "name": "stdout",
     "output_type": "stream",
     "text": [
      "<class 'pandas.core.frame.DataFrame'>\n",
      "RangeIndex: 1 entries, 0 to 0\n",
      "Data columns (total 122 columns):\n",
      " #    Column                      Dtype  \n",
      "---   ------                      -----  \n",
      " 0    id                          object \n",
      " 1    title                       object \n",
      " 2    artist                      object \n",
      " 3    album_art_url               object \n",
      " 4    popularity                  int64  \n",
      " 5    explicit                    bool   \n",
      " 6    album_release_year          int64  \n",
      " 7    duration_ms                 int64  \n",
      " 8    genres                      object \n",
      " 9    lyrics                      object \n",
      " 10   mp3_path                    object \n",
      " 11   danceability                float64\n",
      " 12   energy                      float64\n",
      " 13   key                         int64  \n",
      " 14   loudness                    float64\n",
      " 15   mode                        int64  \n",
      " 16   speechiness                 float64\n",
      " 17   acousticness                float64\n",
      " 18   instrumentalness            float64\n",
      " 19   liveness                    float64\n",
      " 20   valence                     float64\n",
      " 21   tempo                       float64\n",
      " 22   time_signature              int64  \n",
      " 23   mfcc_1                      float64\n",
      " 24   mfcc_2                      float64\n",
      " 25   mfcc_3                      float64\n",
      " 26   mfcc_4                      float64\n",
      " 27   mfcc_5                      float64\n",
      " 28   mfcc_6                      float64\n",
      " 29   mfcc_7                      float64\n",
      " 30   mfcc_8                      float64\n",
      " 31   mfcc_9                      float64\n",
      " 32   mfcc_10                     float64\n",
      " 33   mfcc_11                     float64\n",
      " 34   mfcc_12                     float64\n",
      " 35   mfcc_13                     float64\n",
      " 36   chroma_1                    float64\n",
      " 37   chroma_2                    float64\n",
      " 38   chroma_3                    float64\n",
      " 39   chroma_4                    float64\n",
      " 40   chroma_5                    float64\n",
      " 41   chroma_6                    float64\n",
      " 42   chroma_7                    float64\n",
      " 43   chroma_8                    float64\n",
      " 44   chroma_9                    float64\n",
      " 45   chroma_10                   float64\n",
      " 46   chroma_11                   float64\n",
      " 47   chroma_12                   float64\n",
      " 48   spectral_contrast_1         float64\n",
      " 49   spectral_contrast_2         float64\n",
      " 50   spectral_contrast_3         float64\n",
      " 51   spectral_contrast_4         float64\n",
      " 52   spectral_contrast_5         float64\n",
      " 53   spectral_contrast_6         float64\n",
      " 54   spectral_contrast_7         float64\n",
      " 55   tempo_extracted             float64\n",
      " 56   zcr                         float64\n",
      " 57   word_count                  int64  \n",
      " 58   unique_word_count           int64  \n",
      " 59   avg_word_length             float64\n",
      " 60   syllable_count              int64  \n",
      " 61   sentiment_polarity          float64\n",
      " 62   sentiment_subjectivity      float64\n",
      " 63   readability_score           float64\n",
      " 64   noun_count                  int64  \n",
      " 65   verb_count                  int64  \n",
      " 66   vader_compound              float64\n",
      " 67   repetition_count            int64  \n",
      " 68   average_syllables_per_word  float64\n",
      " 69   tfidf_balanced              float64\n",
      " 70   tfidf_blood                 float64\n",
      " 71   tfidf_brassiere             float64\n",
      " 72   tfidf_breaking              float64\n",
      " 73   tfidf_britches              float64\n",
      " 74   tfidf_cause                 float64\n",
      " 75   tfidf_come                  float64\n",
      " 76   tfidf_crushed               float64\n",
      " 77   tfidf_cut                   float64\n",
      " 78   tfidf_different             float64\n",
      " 79   tfidf_end                   float64\n",
      " 80   tfidf_fall                  float64\n",
      " 81   tfidf_far                   float64\n",
      " 82   tfidf_fight                 float64\n",
      " 83   tfidf_fine                  float64\n",
      " 84   tfidf_fines                 float64\n",
      " 85   tfidf_happened              float64\n",
      " 86   tfidf_hell                  float64\n",
      " 87   tfidf_holding               float64\n",
      " 88   tfidf_hope                  float64\n",
      " 89   tfidf_just                  float64\n",
      " 90   tfidf_kind                  float64\n",
      " 91   tfidf_let                   float64\n",
      " 92   tfidf_light                 float64\n",
      " 93   tfidf_lines                 float64\n",
      " 94   tfidf_little                float64\n",
      " 95   tfidf_ll                    float64\n",
      " 96   tfidf_load                  float64\n",
      " 97   tfidf_love                  float64\n",
      " 98   tfidf_moment                float64\n",
      " 99   tfidf_morning               float64\n",
      " 100  tfidf_order                 float64\n",
      " 101  tfidf_owning                float64\n",
      " 102  tfidf_patient               float64\n",
      " 103  tfidf_pour                  float64\n",
      " 104  tfidf_right                 float64\n",
      " 105  tfidf_ropes                 float64\n",
      " 106  tfidf_salt                  float64\n",
      " 107  tfidf_sink                  float64\n",
      " 108  tfidf_skinny                float64\n",
      " 109  tfidf_slow                  float64\n",
      " 110  tfidf_split                 float64\n",
      " 111  tfidf_staring               float64\n",
      " 112  tfidf_suckle                float64\n",
      " 113  tfidf_sullen                float64\n",
      " 114  tfidf_tall                  float64\n",
      " 115  tfidf_tell                  float64\n",
      " 116  tfidf_tickets               float64\n",
      " 117  tfidf_told                  float64\n",
      " 118  tfidf_veneer                float64\n",
      " 119  tfidf_wasted                float64\n",
      " 120  tfidf_wreck                 float64\n",
      " 121  tfidf_year                  float64\n",
      "dtypes: bool(1), float64(102), int64(12), object(7)\n",
      "memory usage: 1.1+ KB\n"
     ]
    }
   ],
   "source": [
    "df.info(verbose=True)"
   ]
  },
  {
   "cell_type": "code",
   "execution_count": 64,
   "id": "a87e8cbb-f5c6-43b5-b2fc-8a07b45bc2fb",
   "metadata": {},
   "outputs": [],
   "source": [
    "df.to_csv(\"final_data.csv\", index=False)"
   ]
  },
  {
   "cell_type": "code",
   "execution_count": null,
   "id": "b9bdee65-3340-45bc-ab72-244099172650",
   "metadata": {},
   "outputs": [],
   "source": []
  }
 ],
 "metadata": {
  "kernelspec": {
   "display_name": "Python 3 (ipykernel)",
   "language": "python",
   "name": "python3"
  },
  "language_info": {
   "codemirror_mode": {
    "name": "ipython",
    "version": 3
   },
   "file_extension": ".py",
   "mimetype": "text/x-python",
   "name": "python",
   "nbconvert_exporter": "python",
   "pygments_lexer": "ipython3",
   "version": "3.10.12"
  }
 },
 "nbformat": 4,
 "nbformat_minor": 5
}
