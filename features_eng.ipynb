{
 "cells": [
  {
   "cell_type": "code",
   "execution_count": 1,
   "id": "3aac368b-0904-4021-afa9-e5c9d9202bb0",
   "metadata": {},
   "outputs": [
    {
     "name": "stderr",
     "output_type": "stream",
     "text": [
      "[nltk_data] Downloading package punkt to /home/krystian/nltk_data...\n",
      "[nltk_data]   Package punkt is already up-to-date!\n",
      "[nltk_data] Downloading package averaged_perceptron_tagger to\n",
      "[nltk_data]     /home/krystian/nltk_data...\n",
      "[nltk_data]   Package averaged_perceptron_tagger is already up-to-\n",
      "[nltk_data]       date!\n",
      "[nltk_data] Downloading package vader_lexicon to\n",
      "[nltk_data]     /home/krystian/nltk_data...\n",
      "[nltk_data]   Package vader_lexicon is already up-to-date!\n"
     ]
    }
   ],
   "source": [
    "%load_ext autoreload\n",
    "%autoreload 2\n",
    "    \n",
    "from classes.song import Song\n",
    "from classes.playlist import Playlist\n",
    "from classes.spotify_manager import SpotifyManager\n",
    "from classes.lyrics_manager import LyricsManager\n",
    "from dotenv import load_dotenv\n",
    "from classes.utils import gather_data_from_folders\n",
    "import pandas as pd\n",
    "import os\n",
    "import seaborn as sns\n",
    "from classes.text_features import TextFeatureExtractor\n",
    "from classes.audio_features import AudioFeatureExtractor\n",
    "\n",
    "load_dotenv();"
   ]
  },
  {
   "cell_type": "markdown",
   "id": "f553cf19-b381-4ee4-9ed2-9ad32c44db43",
   "metadata": {},
   "source": [
    "# Loading the data"
   ]
  },
  {
   "cell_type": "code",
   "execution_count": 2,
   "id": "739719b1-3fc5-4cf2-9d7f-e6351fb5d513",
   "metadata": {},
   "outputs": [
    {
     "name": "stdout",
     "output_type": "stream",
     "text": [
      "Loading CSV file: /home/krystian/Python/Jupyter-projects/thesis/songs_analysis/playlists/final download 1/final download 1.csv\n",
      "Loading CSV file: /home/krystian/Python/Jupyter-projects/thesis/songs_analysis/playlists/Multigenre/Multigenre.csv\n",
      "Loading CSV file: /home/krystian/Python/Jupyter-projects/thesis/songs_analysis/playlists/Every song in the world 🌍 /Every song in the world 🌍 .csv\n",
      "Loading CSV file: /home/krystian/Python/Jupyter-projects/thesis/songs_analysis/playlists/Skinny Love/Skinny Love.csv\n",
      "Loading CSV file: /home/krystian/Python/Jupyter-projects/thesis/songs_analysis/playlists/final download 2/final download 2.csv\n"
     ]
    }
   ],
   "source": [
    "playlists_dir = 'audio_sentiment_classifier/playlists'\n",
    "playlists_dir = os.path.join(\"/\".join(os.path.abspath(os.path.realpath(__name__)).split(\"/\")[:-1]), \"playlists\")\n",
    "df_from_folders = gather_data_from_folders(playlists_dir)"
   ]
  },
  {
   "cell_type": "code",
   "execution_count": 5,
   "id": "ccbc5fda-3980-41a7-981b-778c0fc1626e",
   "metadata": {},
   "outputs": [],
   "source": [
    "df = pd.read_pickle(os.path.join(\"datasets\", \"final_data.pkl\"))"
   ]
  },
  {
   "cell_type": "code",
   "execution_count": 6,
   "id": "5f0f8566-3af2-4ae2-8c9a-5818808a6921",
   "metadata": {},
   "outputs": [],
   "source": [
    "df_to_process = df_from_folders[~df_from_folders['id'].isin(df['id'])]"
   ]
  },
  {
   "cell_type": "code",
   "execution_count": 8,
   "id": "3fbe521a-729a-4b85-8b9f-fb23579237b2",
   "metadata": {},
   "outputs": [
    {
     "data": {
      "text/plain": [
       "1274"
      ]
     },
     "execution_count": 8,
     "metadata": {},
     "output_type": "execute_result"
    }
   ],
   "source": [
    "len(df_to_process)"
   ]
  },
  {
   "cell_type": "code",
   "execution_count": 18,
   "id": "ae44463c-b464-4312-9de1-cfebeb9d70a4",
   "metadata": {},
   "outputs": [],
   "source": [
    "# Getting rid of songs without lyrics\n",
    "df = df.dropna(subset=[ c for c in df.columns if c != 'popularity'])"
   ]
  },
  {
   "cell_type": "code",
   "execution_count": 67,
   "id": "16c61565-8ba3-45dc-9b8a-2b92d0e1e430",
   "metadata": {},
   "outputs": [],
   "source": [
    "df.to_pickle(os.path.join(\"datasets\", 'final_data.pkl'))"
   ]
  },
  {
   "cell_type": "code",
   "execution_count": 22,
   "id": "d3b2aca6-cacf-4836-9e8c-4fe1f6fc31ed",
   "metadata": {},
   "outputs": [
    {
     "data": {
      "text/plain": [
       "id                      0\n",
       "title                   0\n",
       "artist                  0\n",
       "album_art_url           0\n",
       "popularity            625\n",
       "explicit                0\n",
       "album_release_year      0\n",
       "duration_ms             0\n",
       "genres                  0\n",
       "lyrics                  0\n",
       "mp3_path                0\n",
       "danceability            0\n",
       "energy                  0\n",
       "key                     0\n",
       "loudness                0\n",
       "mode                    0\n",
       "speechiness             0\n",
       "acousticness            0\n",
       "instrumentalness        0\n",
       "liveness                0\n",
       "valence                 0\n",
       "tempo                   0\n",
       "time_signature          0\n",
       "dtype: int64"
      ]
     },
     "execution_count": 22,
     "metadata": {},
     "output_type": "execute_result"
    }
   ],
   "source": [
    "df.isna().sum()"
   ]
  },
  {
   "cell_type": "code",
   "execution_count": 23,
   "id": "3fc3e752-82c6-4b53-b397-88a8b68fa5ac",
   "metadata": {},
   "outputs": [
    {
     "data": {
      "text/plain": [
       "5538"
      ]
     },
     "execution_count": 23,
     "metadata": {},
     "output_type": "execute_result"
    }
   ],
   "source": [
    "df.shape[0]"
   ]
  },
  {
   "cell_type": "markdown",
   "id": "1825808f-0f95-4e18-a006-7bcfe18da392",
   "metadata": {},
   "source": [
    "---"
   ]
  },
  {
   "cell_type": "markdown",
   "id": "6571e8e0-a62b-4fc1-8ace-4cf09cda7714",
   "metadata": {},
   "source": [
    "# Adding audio features"
   ]
  },
  {
   "cell_type": "code",
   "execution_count": 24,
   "id": "29005d6a-68b3-4941-99bc-9c6334690ab6",
   "metadata": {},
   "outputs": [
    {
     "data": {
      "application/vnd.jupyter.widget-view+json": {
       "model_id": "a8711d9690834380b531f2954503ff37",
       "version_major": 2,
       "version_minor": 0
      },
      "text/plain": [
       "Extracting Audio Features:   0%|          | 0/100 [00:00<?, ?file/s]"
      ]
     },
     "metadata": {},
     "output_type": "display_data"
    },
    {
     "name": "stdout",
     "output_type": "stream",
     "text": [
      "Processed batch 1 and saved to final_data.csv\n"
     ]
    },
    {
     "data": {
      "application/vnd.jupyter.widget-view+json": {
       "model_id": "c628d46dda254650908a8362cac723d1",
       "version_major": 2,
       "version_minor": 0
      },
      "text/plain": [
       "Extracting Audio Features:   0%|          | 0/100 [00:00<?, ?file/s]"
      ]
     },
     "metadata": {},
     "output_type": "display_data"
    },
    {
     "name": "stdout",
     "output_type": "stream",
     "text": [
      "Processed batch 2 and saved to final_data.csv\n"
     ]
    },
    {
     "data": {
      "application/vnd.jupyter.widget-view+json": {
       "model_id": "65d10a6b1e914f0f83354a0643df33ed",
       "version_major": 2,
       "version_minor": 0
      },
      "text/plain": [
       "Extracting Audio Features:   0%|          | 0/100 [00:00<?, ?file/s]"
      ]
     },
     "metadata": {},
     "output_type": "display_data"
    },
    {
     "name": "stdout",
     "output_type": "stream",
     "text": [
      "Processed batch 3 and saved to final_data.csv\n"
     ]
    },
    {
     "data": {
      "application/vnd.jupyter.widget-view+json": {
       "model_id": "c2a3718b157244b5983f7baf6664c9fc",
       "version_major": 2,
       "version_minor": 0
      },
      "text/plain": [
       "Extracting Audio Features:   0%|          | 0/100 [00:00<?, ?file/s]"
      ]
     },
     "metadata": {},
     "output_type": "display_data"
    },
    {
     "name": "stdout",
     "output_type": "stream",
     "text": [
      "Processed batch 4 and saved to final_data.csv\n"
     ]
    },
    {
     "data": {
      "application/vnd.jupyter.widget-view+json": {
       "model_id": "513f958a26364f3ea6ccf62b2ea75fac",
       "version_major": 2,
       "version_minor": 0
      },
      "text/plain": [
       "Extracting Audio Features:   0%|          | 0/100 [00:00<?, ?file/s]"
      ]
     },
     "metadata": {},
     "output_type": "display_data"
    },
    {
     "name": "stdout",
     "output_type": "stream",
     "text": [
      "Processed batch 5 and saved to final_data.csv\n"
     ]
    },
    {
     "data": {
      "application/vnd.jupyter.widget-view+json": {
       "model_id": "f4c900db66b84d2baa2e98667c9555b8",
       "version_major": 2,
       "version_minor": 0
      },
      "text/plain": [
       "Extracting Audio Features:   0%|          | 0/100 [00:00<?, ?file/s]"
      ]
     },
     "metadata": {},
     "output_type": "display_data"
    },
    {
     "name": "stdout",
     "output_type": "stream",
     "text": [
      "Processed batch 6 and saved to final_data.csv\n"
     ]
    },
    {
     "data": {
      "application/vnd.jupyter.widget-view+json": {
       "model_id": "8efd70f122aa44799754bdf58b18766d",
       "version_major": 2,
       "version_minor": 0
      },
      "text/plain": [
       "Extracting Audio Features:   0%|          | 0/100 [00:00<?, ?file/s]"
      ]
     },
     "metadata": {},
     "output_type": "display_data"
    },
    {
     "name": "stdout",
     "output_type": "stream",
     "text": [
      "Processed batch 7 and saved to final_data.csv\n"
     ]
    },
    {
     "data": {
      "application/vnd.jupyter.widget-view+json": {
       "model_id": "4a7e9cdbb41147d6ad81d0ddf39afb36",
       "version_major": 2,
       "version_minor": 0
      },
      "text/plain": [
       "Extracting Audio Features:   0%|          | 0/100 [00:00<?, ?file/s]"
      ]
     },
     "metadata": {},
     "output_type": "display_data"
    },
    {
     "name": "stdout",
     "output_type": "stream",
     "text": [
      "Processed batch 8 and saved to final_data.csv\n"
     ]
    },
    {
     "data": {
      "application/vnd.jupyter.widget-view+json": {
       "model_id": "d9065915498949e1827a1fa1cb97ce17",
       "version_major": 2,
       "version_minor": 0
      },
      "text/plain": [
       "Extracting Audio Features:   0%|          | 0/100 [00:00<?, ?file/s]"
      ]
     },
     "metadata": {},
     "output_type": "display_data"
    },
    {
     "name": "stdout",
     "output_type": "stream",
     "text": [
      "Processed batch 9 and saved to final_data.csv\n"
     ]
    },
    {
     "data": {
      "application/vnd.jupyter.widget-view+json": {
       "model_id": "64280b43167c4a8cb9d5cc8530ffeaa8",
       "version_major": 2,
       "version_minor": 0
      },
      "text/plain": [
       "Extracting Audio Features:   0%|          | 0/100 [00:00<?, ?file/s]"
      ]
     },
     "metadata": {},
     "output_type": "display_data"
    },
    {
     "name": "stdout",
     "output_type": "stream",
     "text": [
      "Processed batch 10 and saved to final_data.csv\n"
     ]
    },
    {
     "data": {
      "application/vnd.jupyter.widget-view+json": {
       "model_id": "3929be2445c44e29959dd32a4fbe4ac1",
       "version_major": 2,
       "version_minor": 0
      },
      "text/plain": [
       "Extracting Audio Features:   0%|          | 0/100 [00:00<?, ?file/s]"
      ]
     },
     "metadata": {},
     "output_type": "display_data"
    },
    {
     "name": "stdout",
     "output_type": "stream",
     "text": [
      "Processed batch 11 and saved to final_data.csv\n"
     ]
    },
    {
     "data": {
      "application/vnd.jupyter.widget-view+json": {
       "model_id": "85f91ce1ca3445b690608481cc9ab9a3",
       "version_major": 2,
       "version_minor": 0
      },
      "text/plain": [
       "Extracting Audio Features:   0%|          | 0/100 [00:00<?, ?file/s]"
      ]
     },
     "metadata": {},
     "output_type": "display_data"
    },
    {
     "name": "stdout",
     "output_type": "stream",
     "text": [
      "Processed batch 12 and saved to final_data.csv\n"
     ]
    },
    {
     "data": {
      "application/vnd.jupyter.widget-view+json": {
       "model_id": "ee60e7ab7d8e4d959340853a3b1b5d5f",
       "version_major": 2,
       "version_minor": 0
      },
      "text/plain": [
       "Extracting Audio Features:   0%|          | 0/100 [00:00<?, ?file/s]"
      ]
     },
     "metadata": {},
     "output_type": "display_data"
    },
    {
     "name": "stdout",
     "output_type": "stream",
     "text": [
      "Processed batch 13 and saved to final_data.csv\n"
     ]
    },
    {
     "data": {
      "application/vnd.jupyter.widget-view+json": {
       "model_id": "892bb4bd4f3442cd894a9c741c934624",
       "version_major": 2,
       "version_minor": 0
      },
      "text/plain": [
       "Extracting Audio Features:   0%|          | 0/100 [00:00<?, ?file/s]"
      ]
     },
     "metadata": {},
     "output_type": "display_data"
    },
    {
     "name": "stdout",
     "output_type": "stream",
     "text": [
      "Processed batch 14 and saved to final_data.csv\n"
     ]
    },
    {
     "data": {
      "application/vnd.jupyter.widget-view+json": {
       "model_id": "34f26f0e75bc4477bf86ac34c40b17be",
       "version_major": 2,
       "version_minor": 0
      },
      "text/plain": [
       "Extracting Audio Features:   0%|          | 0/100 [00:00<?, ?file/s]"
      ]
     },
     "metadata": {},
     "output_type": "display_data"
    },
    {
     "name": "stdout",
     "output_type": "stream",
     "text": [
      "Processed batch 15 and saved to final_data.csv\n"
     ]
    },
    {
     "data": {
      "application/vnd.jupyter.widget-view+json": {
       "model_id": "85fc792247c24ab299e850fc55a5270b",
       "version_major": 2,
       "version_minor": 0
      },
      "text/plain": [
       "Extracting Audio Features:   0%|          | 0/100 [00:00<?, ?file/s]"
      ]
     },
     "metadata": {},
     "output_type": "display_data"
    },
    {
     "name": "stdout",
     "output_type": "stream",
     "text": [
      "Processed batch 16 and saved to final_data.csv\n"
     ]
    },
    {
     "data": {
      "application/vnd.jupyter.widget-view+json": {
       "model_id": "f502f690a9064aaaa8a39f2326a5b61a",
       "version_major": 2,
       "version_minor": 0
      },
      "text/plain": [
       "Extracting Audio Features:   0%|          | 0/100 [00:00<?, ?file/s]"
      ]
     },
     "metadata": {},
     "output_type": "display_data"
    },
    {
     "name": "stdout",
     "output_type": "stream",
     "text": [
      "Processed batch 17 and saved to final_data.csv\n"
     ]
    },
    {
     "data": {
      "application/vnd.jupyter.widget-view+json": {
       "model_id": "3c1763eccb0f4edab69d8a066e122825",
       "version_major": 2,
       "version_minor": 0
      },
      "text/plain": [
       "Extracting Audio Features:   0%|          | 0/100 [00:00<?, ?file/s]"
      ]
     },
     "metadata": {},
     "output_type": "display_data"
    },
    {
     "name": "stdout",
     "output_type": "stream",
     "text": [
      "Processed batch 18 and saved to final_data.csv\n"
     ]
    },
    {
     "data": {
      "application/vnd.jupyter.widget-view+json": {
       "model_id": "fe01733e89f7444da403ce8b562b7530",
       "version_major": 2,
       "version_minor": 0
      },
      "text/plain": [
       "Extracting Audio Features:   0%|          | 0/100 [00:00<?, ?file/s]"
      ]
     },
     "metadata": {},
     "output_type": "display_data"
    },
    {
     "name": "stdout",
     "output_type": "stream",
     "text": [
      "Processed batch 19 and saved to final_data.csv\n"
     ]
    },
    {
     "data": {
      "application/vnd.jupyter.widget-view+json": {
       "model_id": "81cad3ba4a0c4529ba38fde2f5dde545",
       "version_major": 2,
       "version_minor": 0
      },
      "text/plain": [
       "Extracting Audio Features:   0%|          | 0/100 [00:00<?, ?file/s]"
      ]
     },
     "metadata": {},
     "output_type": "display_data"
    },
    {
     "name": "stdout",
     "output_type": "stream",
     "text": [
      "Processed batch 20 and saved to final_data.csv\n"
     ]
    },
    {
     "data": {
      "application/vnd.jupyter.widget-view+json": {
       "model_id": "2bc0a34f103743e390fc4fececabc80d",
       "version_major": 2,
       "version_minor": 0
      },
      "text/plain": [
       "Extracting Audio Features:   0%|          | 0/100 [00:00<?, ?file/s]"
      ]
     },
     "metadata": {},
     "output_type": "display_data"
    },
    {
     "name": "stdout",
     "output_type": "stream",
     "text": [
      "Processed batch 21 and saved to final_data.csv\n"
     ]
    },
    {
     "data": {
      "application/vnd.jupyter.widget-view+json": {
       "model_id": "184c7fb619e345669dd63b625b51f725",
       "version_major": 2,
       "version_minor": 0
      },
      "text/plain": [
       "Extracting Audio Features:   0%|          | 0/100 [00:00<?, ?file/s]"
      ]
     },
     "metadata": {},
     "output_type": "display_data"
    },
    {
     "name": "stdout",
     "output_type": "stream",
     "text": [
      "Processed batch 22 and saved to final_data.csv\n"
     ]
    },
    {
     "data": {
      "application/vnd.jupyter.widget-view+json": {
       "model_id": "d7f5ea938bfe4da0a3703987604a5dbd",
       "version_major": 2,
       "version_minor": 0
      },
      "text/plain": [
       "Extracting Audio Features:   0%|          | 0/100 [00:00<?, ?file/s]"
      ]
     },
     "metadata": {},
     "output_type": "display_data"
    },
    {
     "name": "stdout",
     "output_type": "stream",
     "text": [
      "Processed batch 23 and saved to final_data.csv\n"
     ]
    },
    {
     "data": {
      "application/vnd.jupyter.widget-view+json": {
       "model_id": "5c1d15470b3e40bfabc3bd64bdf0aeed",
       "version_major": 2,
       "version_minor": 0
      },
      "text/plain": [
       "Extracting Audio Features:   0%|          | 0/100 [00:00<?, ?file/s]"
      ]
     },
     "metadata": {},
     "output_type": "display_data"
    },
    {
     "name": "stdout",
     "output_type": "stream",
     "text": [
      "Processed batch 24 and saved to final_data.csv\n"
     ]
    },
    {
     "data": {
      "application/vnd.jupyter.widget-view+json": {
       "model_id": "d4105ed251284cacbe49df7346369720",
       "version_major": 2,
       "version_minor": 0
      },
      "text/plain": [
       "Extracting Audio Features:   0%|          | 0/100 [00:00<?, ?file/s]"
      ]
     },
     "metadata": {},
     "output_type": "display_data"
    },
    {
     "name": "stdout",
     "output_type": "stream",
     "text": [
      "Processed batch 25 and saved to final_data.csv\n"
     ]
    },
    {
     "data": {
      "application/vnd.jupyter.widget-view+json": {
       "model_id": "82d63a0beacf429cafdbe3bc0a02adf2",
       "version_major": 2,
       "version_minor": 0
      },
      "text/plain": [
       "Extracting Audio Features:   0%|          | 0/100 [00:00<?, ?file/s]"
      ]
     },
     "metadata": {},
     "output_type": "display_data"
    },
    {
     "name": "stdout",
     "output_type": "stream",
     "text": [
      "Processed batch 26 and saved to final_data.csv\n"
     ]
    },
    {
     "data": {
      "application/vnd.jupyter.widget-view+json": {
       "model_id": "6b8ce3ba6c1e405994ef6394c10818b8",
       "version_major": 2,
       "version_minor": 0
      },
      "text/plain": [
       "Extracting Audio Features:   0%|          | 0/100 [00:00<?, ?file/s]"
      ]
     },
     "metadata": {},
     "output_type": "display_data"
    },
    {
     "name": "stdout",
     "output_type": "stream",
     "text": [
      "Processed batch 27 and saved to final_data.csv\n"
     ]
    },
    {
     "data": {
      "application/vnd.jupyter.widget-view+json": {
       "model_id": "b5ee6059fec345039801c96d48242bb3",
       "version_major": 2,
       "version_minor": 0
      },
      "text/plain": [
       "Extracting Audio Features:   0%|          | 0/100 [00:00<?, ?file/s]"
      ]
     },
     "metadata": {},
     "output_type": "display_data"
    },
    {
     "name": "stdout",
     "output_type": "stream",
     "text": [
      "Processed batch 28 and saved to final_data.csv\n"
     ]
    },
    {
     "data": {
      "application/vnd.jupyter.widget-view+json": {
       "model_id": "69c76f8b1f1442e39bcd945967eccb50",
       "version_major": 2,
       "version_minor": 0
      },
      "text/plain": [
       "Extracting Audio Features:   0%|          | 0/100 [00:00<?, ?file/s]"
      ]
     },
     "metadata": {},
     "output_type": "display_data"
    },
    {
     "name": "stdout",
     "output_type": "stream",
     "text": [
      "Processed batch 29 and saved to final_data.csv\n"
     ]
    },
    {
     "data": {
      "application/vnd.jupyter.widget-view+json": {
       "model_id": "d1e8d805bf074614bcc67899ea57d33b",
       "version_major": 2,
       "version_minor": 0
      },
      "text/plain": [
       "Extracting Audio Features:   0%|          | 0/100 [00:00<?, ?file/s]"
      ]
     },
     "metadata": {},
     "output_type": "display_data"
    },
    {
     "name": "stdout",
     "output_type": "stream",
     "text": [
      "Processed batch 30 and saved to final_data.csv\n"
     ]
    },
    {
     "data": {
      "application/vnd.jupyter.widget-view+json": {
       "model_id": "d643a477e34c47fc858ff37a52219a66",
       "version_major": 2,
       "version_minor": 0
      },
      "text/plain": [
       "Extracting Audio Features:   0%|          | 0/100 [00:00<?, ?file/s]"
      ]
     },
     "metadata": {},
     "output_type": "display_data"
    },
    {
     "name": "stdout",
     "output_type": "stream",
     "text": [
      "Processed batch 31 and saved to final_data.csv\n"
     ]
    },
    {
     "data": {
      "application/vnd.jupyter.widget-view+json": {
       "model_id": "b65106a3cc3a4303af11703f326640a4",
       "version_major": 2,
       "version_minor": 0
      },
      "text/plain": [
       "Extracting Audio Features:   0%|          | 0/100 [00:00<?, ?file/s]"
      ]
     },
     "metadata": {},
     "output_type": "display_data"
    },
    {
     "name": "stdout",
     "output_type": "stream",
     "text": [
      "Processed batch 32 and saved to final_data.csv\n"
     ]
    },
    {
     "data": {
      "application/vnd.jupyter.widget-view+json": {
       "model_id": "49a5155260d64c76bf11734538ca1b0e",
       "version_major": 2,
       "version_minor": 0
      },
      "text/plain": [
       "Extracting Audio Features:   0%|          | 0/100 [00:00<?, ?file/s]"
      ]
     },
     "metadata": {},
     "output_type": "display_data"
    },
    {
     "name": "stdout",
     "output_type": "stream",
     "text": [
      "Processed batch 33 and saved to final_data.csv\n"
     ]
    },
    {
     "data": {
      "application/vnd.jupyter.widget-view+json": {
       "model_id": "686be20cdd514e10b5179d18152946b2",
       "version_major": 2,
       "version_minor": 0
      },
      "text/plain": [
       "Extracting Audio Features:   0%|          | 0/100 [00:00<?, ?file/s]"
      ]
     },
     "metadata": {},
     "output_type": "display_data"
    },
    {
     "name": "stdout",
     "output_type": "stream",
     "text": [
      "Processed batch 34 and saved to final_data.csv\n"
     ]
    },
    {
     "data": {
      "application/vnd.jupyter.widget-view+json": {
       "model_id": "f06b9577982c4bcdbe7d520816e0ee58",
       "version_major": 2,
       "version_minor": 0
      },
      "text/plain": [
       "Extracting Audio Features:   0%|          | 0/100 [00:00<?, ?file/s]"
      ]
     },
     "metadata": {},
     "output_type": "display_data"
    },
    {
     "name": "stdout",
     "output_type": "stream",
     "text": [
      "Processed batch 35 and saved to final_data.csv\n"
     ]
    },
    {
     "data": {
      "application/vnd.jupyter.widget-view+json": {
       "model_id": "8ce841feafa24db18a69cfd28070f907",
       "version_major": 2,
       "version_minor": 0
      },
      "text/plain": [
       "Extracting Audio Features:   0%|          | 0/100 [00:00<?, ?file/s]"
      ]
     },
     "metadata": {},
     "output_type": "display_data"
    },
    {
     "name": "stdout",
     "output_type": "stream",
     "text": [
      "Processed batch 36 and saved to final_data.csv\n"
     ]
    },
    {
     "data": {
      "application/vnd.jupyter.widget-view+json": {
       "model_id": "bc9c2ae0429c40c79f02002b11e98b3d",
       "version_major": 2,
       "version_minor": 0
      },
      "text/plain": [
       "Extracting Audio Features:   0%|          | 0/100 [00:00<?, ?file/s]"
      ]
     },
     "metadata": {},
     "output_type": "display_data"
    },
    {
     "name": "stdout",
     "output_type": "stream",
     "text": [
      "Processed batch 37 and saved to final_data.csv\n"
     ]
    },
    {
     "data": {
      "application/vnd.jupyter.widget-view+json": {
       "model_id": "45437ef02a7847759d1d2c9e5a1dd8e3",
       "version_major": 2,
       "version_minor": 0
      },
      "text/plain": [
       "Extracting Audio Features:   0%|          | 0/100 [00:00<?, ?file/s]"
      ]
     },
     "metadata": {},
     "output_type": "display_data"
    },
    {
     "name": "stdout",
     "output_type": "stream",
     "text": [
      "Processed batch 38 and saved to final_data.csv\n"
     ]
    },
    {
     "data": {
      "application/vnd.jupyter.widget-view+json": {
       "model_id": "8e106f6ed5f741aeacbd6646b0e68fd0",
       "version_major": 2,
       "version_minor": 0
      },
      "text/plain": [
       "Extracting Audio Features:   0%|          | 0/100 [00:00<?, ?file/s]"
      ]
     },
     "metadata": {},
     "output_type": "display_data"
    },
    {
     "name": "stdout",
     "output_type": "stream",
     "text": [
      "Processed batch 39 and saved to final_data.csv\n"
     ]
    },
    {
     "data": {
      "application/vnd.jupyter.widget-view+json": {
       "model_id": "865a138ea74244c9af8d166fe64fcd8d",
       "version_major": 2,
       "version_minor": 0
      },
      "text/plain": [
       "Extracting Audio Features:   0%|          | 0/100 [00:00<?, ?file/s]"
      ]
     },
     "metadata": {},
     "output_type": "display_data"
    },
    {
     "name": "stdout",
     "output_type": "stream",
     "text": [
      "Processed batch 40 and saved to final_data.csv\n"
     ]
    },
    {
     "data": {
      "application/vnd.jupyter.widget-view+json": {
       "model_id": "1a5f02feddc240f580366e90453c692d",
       "version_major": 2,
       "version_minor": 0
      },
      "text/plain": [
       "Extracting Audio Features:   0%|          | 0/100 [00:00<?, ?file/s]"
      ]
     },
     "metadata": {},
     "output_type": "display_data"
    },
    {
     "name": "stdout",
     "output_type": "stream",
     "text": [
      "Processed batch 41 and saved to final_data.csv\n"
     ]
    },
    {
     "data": {
      "application/vnd.jupyter.widget-view+json": {
       "model_id": "94c2e188723d472cb35a4715e0079723",
       "version_major": 2,
       "version_minor": 0
      },
      "text/plain": [
       "Extracting Audio Features:   0%|          | 0/100 [00:00<?, ?file/s]"
      ]
     },
     "metadata": {},
     "output_type": "display_data"
    },
    {
     "name": "stdout",
     "output_type": "stream",
     "text": [
      "Processed batch 42 and saved to final_data.csv\n"
     ]
    },
    {
     "data": {
      "application/vnd.jupyter.widget-view+json": {
       "model_id": "5882c58580a64116b54029592777a4fd",
       "version_major": 2,
       "version_minor": 0
      },
      "text/plain": [
       "Extracting Audio Features:   0%|          | 0/100 [00:00<?, ?file/s]"
      ]
     },
     "metadata": {},
     "output_type": "display_data"
    },
    {
     "name": "stdout",
     "output_type": "stream",
     "text": [
      "Processed batch 43 and saved to final_data.csv\n"
     ]
    },
    {
     "data": {
      "application/vnd.jupyter.widget-view+json": {
       "model_id": "603c9e70bdc64046831eb1d8bc7f177d",
       "version_major": 2,
       "version_minor": 0
      },
      "text/plain": [
       "Extracting Audio Features:   0%|          | 0/100 [00:00<?, ?file/s]"
      ]
     },
     "metadata": {},
     "output_type": "display_data"
    },
    {
     "name": "stdout",
     "output_type": "stream",
     "text": [
      "Processed batch 44 and saved to final_data.csv\n"
     ]
    },
    {
     "data": {
      "application/vnd.jupyter.widget-view+json": {
       "model_id": "57e877d2cca247f59739a78d453aa478",
       "version_major": 2,
       "version_minor": 0
      },
      "text/plain": [
       "Extracting Audio Features:   0%|          | 0/100 [00:00<?, ?file/s]"
      ]
     },
     "metadata": {},
     "output_type": "display_data"
    },
    {
     "name": "stdout",
     "output_type": "stream",
     "text": [
      "Processed batch 45 and saved to final_data.csv\n"
     ]
    },
    {
     "data": {
      "application/vnd.jupyter.widget-view+json": {
       "model_id": "5ed133b79c5d4e56a360564a3a4922c1",
       "version_major": 2,
       "version_minor": 0
      },
      "text/plain": [
       "Extracting Audio Features:   0%|          | 0/100 [00:00<?, ?file/s]"
      ]
     },
     "metadata": {},
     "output_type": "display_data"
    },
    {
     "name": "stdout",
     "output_type": "stream",
     "text": [
      "Processed batch 46 and saved to final_data.csv\n"
     ]
    },
    {
     "data": {
      "application/vnd.jupyter.widget-view+json": {
       "model_id": "8516a31f27b24ff78ccefd84b089d945",
       "version_major": 2,
       "version_minor": 0
      },
      "text/plain": [
       "Extracting Audio Features:   0%|          | 0/100 [00:00<?, ?file/s]"
      ]
     },
     "metadata": {},
     "output_type": "display_data"
    },
    {
     "name": "stdout",
     "output_type": "stream",
     "text": [
      "Processed batch 47 and saved to final_data.csv\n"
     ]
    },
    {
     "data": {
      "application/vnd.jupyter.widget-view+json": {
       "model_id": "6c602990011347bd9df863b2cc1420c0",
       "version_major": 2,
       "version_minor": 0
      },
      "text/plain": [
       "Extracting Audio Features:   0%|          | 0/100 [00:00<?, ?file/s]"
      ]
     },
     "metadata": {},
     "output_type": "display_data"
    },
    {
     "name": "stdout",
     "output_type": "stream",
     "text": [
      "Processed batch 48 and saved to final_data.csv\n"
     ]
    },
    {
     "data": {
      "application/vnd.jupyter.widget-view+json": {
       "model_id": "7952940042974604b61db08d567fc772",
       "version_major": 2,
       "version_minor": 0
      },
      "text/plain": [
       "Extracting Audio Features:   0%|          | 0/98 [00:00<?, ?file/s]"
      ]
     },
     "metadata": {},
     "output_type": "display_data"
    },
    {
     "name": "stdout",
     "output_type": "stream",
     "text": [
      "Processed batch 49 and saved to final_data.csv\n"
     ]
    }
   ],
   "source": [
    "import pandas as pd\n",
    "import os\n",
    "\n",
    "BATCH_SIZE = 100\n",
    "OUTPUT_FILE = \"final_data.csv\"\n",
    "\n",
    "df = pd.read_pickle(os.path.join(\"datasets\", \"final_data.pkl\"))\n",
    "\n",
    "if os.path.exists(OUTPUT_FILE):\n",
    "    processed_df = pd.read_csv(OUTPUT_FILE)\n",
    "    processed_ids = set(processed_df['id'].tolist())  # Assuming 'id' column uniquely identifies rows\n",
    "else:\n",
    "    processed_df = pd.DataFrame()\n",
    "    processed_ids = set()\n",
    "\n",
    "df_to_process = df[~df['id'].isin(processed_ids)]  # Exclude rows that are already processed\n",
    "\n",
    "for start in range(0, len(df_to_process), BATCH_SIZE):\n",
    "    batch = df_to_process.iloc[start:start + BATCH_SIZE]\n",
    "    \n",
    "    batch = AudioFeatureExtractor().add_features(batch)\n",
    "    # batch = TextFeatureExtractor().add_features(batch)\n",
    "    \n",
    "    if os.path.exists(OUTPUT_FILE):\n",
    "        batch.to_csv(OUTPUT_FILE, mode='a', header=False, index=False)\n",
    "    else:\n",
    "        batch.to_csv(OUTPUT_FILE, mode='w', header=True, index=False)\n",
    "    \n",
    "    print(f\"Processed batch {start // BATCH_SIZE + 1} and saved to {OUTPUT_FILE}\")"
   ]
  },
  {
   "cell_type": "markdown",
   "id": "24b5100c-937d-4110-be02-703058e17164",
   "metadata": {},
   "source": [
    "# Adding textual features"
   ]
  },
  {
   "cell_type": "code",
   "execution_count": 26,
   "id": "ebc66266-ba95-4abc-924d-b8aa811d145e",
   "metadata": {},
   "outputs": [
    {
     "data": {
      "text/plain": [
       "(5375, 570)"
      ]
     },
     "execution_count": 26,
     "metadata": {},
     "output_type": "execute_result"
    }
   ],
   "source": [
    "df = pd.read_pickle(os.path.join(\"datasets\", \"final_data.pkl\"))\n",
    "df.shape"
   ]
  },
  {
   "cell_type": "code",
   "execution_count": 18,
   "id": "487a4e4e-a044-42c0-aa71-834d34e3b3b3",
   "metadata": {},
   "outputs": [],
   "source": [
    "df = TextFeatureExtractor().add_features(df)"
   ]
  },
  {
   "cell_type": "code",
   "execution_count": 67,
   "id": "c7ade147-9381-4767-9d0b-a94cafba399a",
   "metadata": {},
   "outputs": [],
   "source": [
    "df.to_pickle(os.path.join(\"datasets\", 'final_data.pkl'))"
   ]
  },
  {
   "cell_type": "markdown",
   "id": "98721636-bad3-49af-a309-cb005e1fcb42",
   "metadata": {},
   "source": [
    "# Cleaning"
   ]
  },
  {
   "cell_type": "code",
   "execution_count": 89,
   "id": "fde50148-106b-476f-a45d-24f33d573b63",
   "metadata": {},
   "outputs": [
    {
     "data": {
      "text/plain": [
       "(5375, 571)"
      ]
     },
     "execution_count": 89,
     "metadata": {},
     "output_type": "execute_result"
    }
   ],
   "source": [
    "df = pd.read_pickle(os.path.join(\"datasets\", \"final_data.pkl\"))\n",
    "df.shape"
   ]
  },
  {
   "cell_type": "code",
   "execution_count": 90,
   "id": "34d4844c-7a8b-4169-b85c-d59e0f75efc2",
   "metadata": {},
   "outputs": [],
   "source": [
    "# Fixing the dtypes\n",
    "int_columns = ['duration_ms', 'album_release_year']\n",
    "df[int_columns] = df[int_columns].astype(int)\n",
    "\n",
    "cat_columns = ['key', 'mode', 'time_signature']\n",
    "df[cat_columns] = df[cat_columns].astype(int).astype('category')"
   ]
  },
  {
   "cell_type": "code",
   "execution_count": 91,
   "id": "0f00f53b-4aa9-4e60-a2e5-21014b499e0a",
   "metadata": {},
   "outputs": [],
   "source": [
    "# Songs  with short lyrics are instrumental\n",
    "df = df[df.lyrics.str.len() > 180]"
   ]
  },
  {
   "cell_type": "code",
   "execution_count": 92,
   "id": "6098f1d2-d0fb-40eb-b63f-b255baa0c7b5",
   "metadata": {},
   "outputs": [
    {
     "data": {
      "text/plain": [
       "pop                  2669\n",
       "rock                  934\n",
       "hip hop               553\n",
       "r&b                   219\n",
       "indie                 201\n",
       "folk                  134\n",
       "dance                  98\n",
       "electronic             97\n",
       "metal                  56\n",
       "experimental           45\n",
       "country                40\n",
       "jazz                   38\n",
       "latin                  37\n",
       "classical              28\n",
       "grime                  21\n",
       "alternative            13\n",
       "reggae                 10\n",
       "singer-songwriter       8\n",
       "house                   6\n",
       "Name: genre, dtype: int64"
      ]
     },
     "execution_count": 92,
     "metadata": {},
     "output_type": "execute_result"
    }
   ],
   "source": [
    "genre_mapping = {\n",
    " 'alternative': ['polish alternative', 'south african alternative'],\n",
    " 'classical': ['orchestral soundtrack',\n",
    "               'kundalini',\n",
    "               'piano',\n",
    "               'choral',\n",
    "               'opera',\n",
    "               'symphonic',\n",
    "               'soundtrack',\n",
    "               'broadway',\n",
    "               'orchestral',\n",
    "               'symphonic power metal',\n",
    "               'new americana',\n",
    "               'operatic'],\n",
    " 'country': ['country',\n",
    "             'country pop',\n",
    "             'college a cappella',\n",
    "             'bluegrass',\n",
    "             'classic country',\n",
    "             'contemporary country',\n",
    "             'shanty',\n",
    "             'classic oklahoma country',\n",
    "             'mariachi',\n",
    "             'ambient country',\n",
    "             'country rock',\n",
    "             'mexican indie',\n",
    "             'canadian country',\n",
    "             'mississippi indie',\n",
    "             'outlaw country',\n",
    "             'ranchera'],\n",
    " 'dance': ['club',\n",
    "           'uk reggae',\n",
    "           'eurodance',\n",
    "           'edm',\n",
    "           'house',\n",
    "           'deep house',\n",
    "           'electro house',\n",
    "           'techno',\n",
    "           'progressive house',\n",
    "           'tropical house',\n",
    "           'dancehall',\n",
    "           'bass music',\n",
    "           'trance',\n",
    "           'vintage schlager',\n",
    "           'disco',\n",
    "           'dubstep',\n",
    "           'drum and bass',\n",
    "           'garage'],\n",
    " 'electronic': ['pluggnb',\n",
    "                'bass house',\n",
    "                'basshall',\n",
    "                'ambient',\n",
    "                'electropop',\n",
    "                'synthwave',\n",
    "                'industrial',\n",
    "                'german dance',\n",
    "                'german house',\n",
    "                'neo-singer-songwriter',\n",
    "                'slowed and reverb',\n",
    "                'chillwave',\n",
    "                'trap queen',\n",
    "                'slap house',\n",
    "                'tropical house',\n",
    "                'video game music',\n",
    "                'gaming edm',\n",
    "                'deep euro house',\n",
    "                'uk dance',\n",
    "                'electro',\n",
    "                'disco house',\n",
    "                'dark clubbing',\n",
    "                'ambient folk',\n",
    "                'psychedelic trance',\n",
    "                'downtempo'],\n",
    " 'experimental': ['musica tradicional cubana',\n",
    "                  'vogue',\n",
    "                  'charva',\n",
    "                  'high vibe',\n",
    "                  'dark clubbing',\n",
    "                  'epicore',\n",
    "                  'comedy rap',\n",
    "                  'escape room',\n",
    "                  \"children's music\",\n",
    "                  'musical advocacy',\n",
    "                  'show tunes',\n",
    "                  'talent show',\n",
    "                  'comedie musicale',\n",
    "                  'bossbeat',\n",
    "                  'experimental pop',\n",
    "                  'aussietronica',\n",
    "                  'middle earth'],\n",
    " 'folk': ['folk-pop',\n",
    "          'indie folk',\n",
    "          'folk rock',\n",
    "          'native american traditional',\n",
    "          'stomp and holler',\n",
    "          'shanty',\n",
    "          'ambient folk',\n",
    "          'celtic',\n",
    "          'irish folk',\n",
    "          'chamber folk',\n",
    "          'singer-songwriter',\n",
    "          'shamanic',\n",
    "          'neo-singer-songwriter',\n",
    "          'kleinkunst',\n",
    "          'musica mexicana'],\n",
    " 'grime': ['grime'],\n",
    " 'hip hop': ['brooklyn drill',\n",
    "             'jersey club',\n",
    "             'latin hip hop',\n",
    "             'r&drill',\n",
    "             'melodic drill',\n",
    "             'lgbtq+ hip hop',\n",
    "             'chicago rap',\n",
    "             'rap conscient',\n",
    "             'chicago drill',\n",
    "             'alt z',\n",
    "             'trap latino',\n",
    "             'old school hip hop',\n",
    "             'gangster rap',\n",
    "             'cloud rap francais',\n",
    "             'trap',\n",
    "             'australian hip hop',\n",
    "             'chill drill',\n",
    "             'uk hip hop',\n",
    "             'phonk',\n",
    "             'spanish hip hop',\n",
    "             'miami hip hop',\n",
    "             'sacramento hip hop',\n",
    "             'uk alternative hip hop',\n",
    "             'hip hop',\n",
    "             'viral rap',\n",
    "             'indie hip hop',\n",
    "             'atl hip hop',\n",
    "             'instrumental grime',\n",
    "             'east coast hip hop',\n",
    "             'trap queen',\n",
    "             'boom bap',\n",
    "             'polish hip hop',\n",
    "             'canadian old school hip hop',\n",
    "             'sad rap',\n",
    "             'alabama rap',\n",
    "             'alternative hip hop',\n",
    "             'canadian hip hop',\n",
    "             'christian hip hop',\n",
    "             'peruvian hip hop',\n",
    "             'atlantic canada hip hop',\n",
    "             'colombian hip hop',\n",
    "             'southern hip hop',\n",
    "             'emo rap',\n",
    "             'battle rap',\n",
    "             'detroit hip hop',\n",
    "             'melodic rap',\n",
    "             'uk drill',\n",
    "             'scouse rap',\n",
    "             'belgian hip hop',\n",
    "             'west coast rap',\n",
    "             'french hip hop',\n",
    "             'rage rap',\n",
    "             'golden age hip hop',\n",
    "             'underground hip hop',\n",
    "             'harlem hip hop',\n",
    "             'japanese old school hip hop',\n",
    "             'rap',\n",
    "             'bronx drill',\n",
    "             'emo',\n",
    "             'cali rap',\n",
    "             'italian hip hop',\n",
    "             'norwegian hip hop',\n",
    "             'drill'],\n",
    " 'house': ['hip house', 'chicago house'],\n",
    " 'indie': ['modern indie folk',\n",
    "           'orlando indie',\n",
    "           'indie surf',\n",
    "           'indietronica',\n",
    "           'brisbane indie',\n",
    "           'brooklyn indie',\n",
    "           'indie soul',\n",
    "           'indie folk',\n",
    "           'indie r&b',\n",
    "           'aussietronica',\n",
    "           'middle earth',\n",
    "           'vegas indie',\n",
    "           'cologne indie',\n",
    "           'australian indie',\n",
    "           'indie rock',\n",
    "           'afrobeats',\n",
    "           'leeds indie',\n",
    "           'polish indie',\n",
    "           'alabama indie',\n",
    "           'oxford indie',\n",
    "           'norwegian singer-songwriter',\n",
    "           'indie pop',\n",
    "           'scottish singer-songwriter',\n",
    "           'bedroom pop',\n",
    "           'indie anthem-folk',\n",
    "           'indie punk',\n",
    "           'klubowe'],\n",
    " 'jazz': ['smooth jazz',\n",
    "          'nouvelle chanson francaise',\n",
    "          'sung poetry',\n",
    "          'jazz',\n",
    "          'vocal jazz',\n",
    "          'soundtrack',\n",
    "          'calypso',\n",
    "          'chanson',\n",
    "          'soul jazz',\n",
    "          'chanson paillarde',\n",
    "          'jazz blues',\n",
    "          'polish blues',\n",
    "          'swing',\n",
    "          'freestyle'],\n",
    " 'latin': ['latin pop',\n",
    "           'salsa',\n",
    "           'bachata',\n",
    "           'reggaeton',\n",
    "           'bossa nova',\n",
    "           'tropical'],\n",
    " 'metal': ['power metal',\n",
    "           'doom metal',\n",
    "           'alternative metal',\n",
    "           'metalcore',\n",
    "           'groove metal',\n",
    "           'black metal',\n",
    "           'thrash metal',\n",
    "           'nu metal',\n",
    "           'funk metal',\n",
    "           'death metal'],\n",
    " 'pop': ['psychedelic pop',\n",
    "         'scandipop',\n",
    "         'romanian pop',\n",
    "         'barbadian pop',\n",
    "         'spanish indie pop',\n",
    "         'lilith',\n",
    "         'pop urbaine',\n",
    "         'indiecoustica',\n",
    "         'nz pop',\n",
    "         'classic country pop',\n",
    "         'german pop rock',\n",
    "         'pop argentino',\n",
    "         'synthpop',\n",
    "         'europop',\n",
    "         'british invasion',\n",
    "         'neon pop punk',\n",
    "         'austropop',\n",
    "         'deep pop edm',\n",
    "         'indie pop rap',\n",
    "         'belgian pop',\n",
    "         'nigerian pop',\n",
    "         'new wave pop',\n",
    "         'indie electropop',\n",
    "         'chill pop',\n",
    "         'boy band',\n",
    "         'cartoon',\n",
    "         'dutch pop',\n",
    "         'classic polish pop',\n",
    "         'experimental pop',\n",
    "         'dance pop',\n",
    "         'french synthpop',\n",
    "         'art pop',\n",
    "         'show tunes',\n",
    "         'novelty',\n",
    "         'post-teen pop',\n",
    "         'finnish pop',\n",
    "         'dream pop',\n",
    "         'argentine telepop',\n",
    "         'sad lo-fi',\n",
    "         'urbano espanol',\n",
    "         'deep acoustic pop',\n",
    "         'mellow gold',\n",
    "         'russian pop',\n",
    "         'sped up',\n",
    "         'antiviral pop',\n",
    "         'pop rap',\n",
    "         'swedish idol pop',\n",
    "         'bubblegum pop',\n",
    "         'k-pop',\n",
    "         'italian pop rock',\n",
    "         'idol',\n",
    "         'pop electronico',\n",
    "         'gen z singer-songwriter',\n",
    "         'popwave',\n",
    "         'classic danish pop',\n",
    "         'italian adult pop',\n",
    "         'urban contemporary',\n",
    "         'south african pop',\n",
    "         'power pop',\n",
    "         'bedroom pop',\n",
    "         'italian pop',\n",
    "         'chamber pop',\n",
    "         'polish pop',\n",
    "         'singer-songwriter pop',\n",
    "         'pixie',\n",
    "         'vapor pop',\n",
    "         'pop r&b',\n",
    "         'polish viral pop',\n",
    "         'social media pop',\n",
    "         'classic uk pop',\n",
    "         'pop',\n",
    "         'latin arena pop',\n",
    "         'acoustic pop',\n",
    "         'classic belgian pop',\n",
    "         'teen pop',\n",
    "         'etherpop',\n",
    "         'uk alternative pop',\n",
    "         'modern indie pop',\n",
    "         'mexican pop',\n",
    "         'metropopolis',\n",
    "         'sophisti-pop',\n",
    "         'dark pop',\n",
    "         'pop edm',\n",
    "         'pop punk',\n",
    "         'norwegian pop',\n",
    "         'viral pop',\n",
    "         'neo mellow',\n",
    "         'classic norwegian pop',\n",
    "         'pop soul',\n",
    "         'brill building pop',\n",
    "         'modern alternative pop',\n",
    "         'bahamian pop',\n",
    "         'israeli pop',\n",
    "         'irish pop',\n",
    "         'pop rock',\n",
    "         'a cappella',\n",
    "         'electropop',\n",
    "         'french indie pop',\n",
    "         'hip pop',\n",
    "         'swedish pop',\n",
    "         'uk pop',\n",
    "         'canadian pop',\n",
    "         'pop virale italiano',\n",
    "         'italian indie pop',\n",
    "         'sunshine pop',\n",
    "         'swedish electropop',\n",
    "         'la pop',\n",
    "         'shimmer pop',\n",
    "         'colombian pop',\n",
    "         'channel pop',\n",
    "         'classic italian pop',\n",
    "         'baroque pop',\n",
    "         'danish pop',\n",
    "         'spanish pop',\n",
    "         'ambient pop',\n",
    "         'german pop',\n",
    "         'french pop',\n",
    "         'pop emo',\n",
    "         'pop dance',\n",
    "         'jangle pop',\n",
    "         'hyperpop',\n",
    "         'alternative pop rock',\n",
    "         'hollywood',\n",
    "         'pov: indie',\n",
    "         'adult standards',\n",
    "         'latin viral pop',\n",
    "         'australian pop',\n",
    "         'operatic pop',\n",
    "         'afropop',\n",
    "         'indie poptimism',\n",
    "         'movie tunes'],\n",
    " 'r&b': ['quiet storm',\n",
    "         'motown',\n",
    "         'british soul',\n",
    "         'contemporary r&b',\n",
    "         'uk contemporary r&b',\n",
    "         'rebel blues',\n",
    "         'afro r&b',\n",
    "         'indie r&b',\n",
    "         'chill r&b',\n",
    "         'comic',\n",
    "         'modern blues',\n",
    "         'gospel r&b',\n",
    "         'neo soul',\n",
    "         'soul',\n",
    "         'melancholia',\n",
    "         'r&b',\n",
    "         'bedroom soul',\n",
    "         'alternative r&b',\n",
    "         'lounge'],\n",
    " 'reggae': ['dub', 'roots reggae', 'reggae fusion', 'reggae', 'dancehall'],\n",
    " 'rock': ['industrial rock',\n",
    "          'grunge',\n",
    "          'rock en espanol',\n",
    "          'indie garage rock',\n",
    "          'french rock',\n",
    "          'hard alternative',\n",
    "          'progressive rock',\n",
    "          'rock',\n",
    "          'blues rock',\n",
    "          'electronic rock',\n",
    "          'latin rock',\n",
    "          'pop rock',\n",
    "          'british indie rock',\n",
    "          'metallic hardcore',\n",
    "          'post-grunge',\n",
    "          'rap rock',\n",
    "          'heartland rock',\n",
    "          'protopunk',\n",
    "          'art punk',\n",
    "          'english indie rock',\n",
    "          'rock nacional brasileiro',\n",
    "          'broadway',\n",
    "          'britpop',\n",
    "          'rock alternativo brasileiro',\n",
    "          'polish alternative rock',\n",
    "          'polish indie rock',\n",
    "          'mexican rock',\n",
    "          'glam rock',\n",
    "          'irish rock',\n",
    "          'american metalcore',\n",
    "          'symphonic power metal',\n",
    "          'modern alternative rock',\n",
    "          'future rock',\n",
    "          'instrumental rock',\n",
    "          'punk',\n",
    "          'vogue',\n",
    "          'balkan beats',\n",
    "          'icelandic rock',\n",
    "          'modern hard rock',\n",
    "          'british alternative rock',\n",
    "          'australian rock',\n",
    "          'indie rock',\n",
    "          'indie rockism',\n",
    "          'rockabilly',\n",
    "          'rock-and-roll',\n",
    "          'piano rock',\n",
    "          'classic rock',\n",
    "          'psychedelic rock',\n",
    "          'garage rock',\n",
    "          'christian alternative rock',\n",
    "          'modern blues rock',\n",
    "          'funk rock',\n",
    "          'afrofuturism',\n",
    "          'medieval rock',\n",
    "          'hard rock',\n",
    "          'alternative rock',\n",
    "          'soft rock',\n",
    "          'folk rock',\n",
    "          'chilean rock',\n",
    "          'southern rock',\n",
    "          'polish rock',\n",
    "          'modern folk rock',\n",
    "          'celtic rock',\n",
    "          'yacht rock',\n",
    "          'canadian indie rock',\n",
    "          'modern rock',\n",
    "          'peruvian rock',\n",
    "          'dreamo',\n",
    "          'album rock',\n",
    "          'dance rock',\n",
    "          'brazilian rock',\n",
    "          'rock uruguayo'],\n",
    " 'singer-songwriter': ['british singer-songwriter']}\n",
    "\n",
    "\n",
    "\n",
    "def reduce_genres(genre_list: list, mapping: dict):\n",
    "    for genre in genre_list:\n",
    "        for general, specifics in mapping.items():\n",
    "            if genre in specifics:\n",
    "                return general\n",
    "    return None\n",
    "\n",
    "# Apply the generalization function to the DataFrame\n",
    "df['genre'] = df['genres'].apply(lambda x: reduce_genres(eval(x), genre_mapping))\n",
    "\n",
    "df['genre'].value_counts()"
   ]
  },
  {
   "cell_type": "code",
   "execution_count": 93,
   "id": "fbddb155-9fd5-465e-a283-f0ac0d4063f8",
   "metadata": {},
   "outputs": [],
   "source": [
    "df.to_pickle(os.path.join(\"datasets\", 'final_data.pkl'))"
   ]
  },
  {
   "cell_type": "code",
   "execution_count": null,
   "id": "e12044f1-12f2-4de6-a9ea-5c777db53b47",
   "metadata": {},
   "outputs": [],
   "source": []
  }
 ],
 "metadata": {
  "kernelspec": {
   "display_name": "Python 3 (ipykernel)",
   "language": "python",
   "name": "python3"
  },
  "language_info": {
   "codemirror_mode": {
    "name": "ipython",
    "version": 3
   },
   "file_extension": ".py",
   "mimetype": "text/x-python",
   "name": "python",
   "nbconvert_exporter": "python",
   "pygments_lexer": "ipython3",
   "version": "3.10.12"
  }
 },
 "nbformat": 4,
 "nbformat_minor": 5
}
